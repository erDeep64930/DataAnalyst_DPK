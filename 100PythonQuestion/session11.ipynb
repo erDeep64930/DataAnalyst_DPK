{
 "cells": [
  {
   "cell_type": "code",
   "execution_count": 5,
   "id": "53d0071f-0d43-4b9f-a202-b911551124db",
   "metadata": {},
   "outputs": [
    {
     "name": "stdin",
     "output_type": "stream",
     "text": [
      " 11\n",
      " 19\n"
     ]
    },
    {
     "name": "stdout",
     "output_type": "stream",
     "text": [
      "19\n"
     ]
    }
   ],
   "source": [
    "# Professor Kishore wanted the kids to learn about Special numbers. (A two-\n",
    "# digit number is said to be a special number if the sum of sum of its digits\n",
    "# and the product of its digits is equal to the number itself. For example, 19 is\n",
    "# a special number. The digits in 19 are 1 and 9. The sum of the digits is 10\n",
    "# and the product of the digits is 9. 10+9 = 19.)\n",
    "# Can you help Kishore to write a program to find all special numbers\n",
    "# between 2 limits m and n (both inclusive)? Assume that m and n are two-\n",
    "# digit numbers.\n",
    "# Input Format\n",
    "# Input consists of 2 integers m and n.\n",
    "# Output Format\n",
    "# Refer to the sample output for the output format.\n",
    "# Question 1\n",
    "# Sample Input\n",
    "# 11\n",
    "# 19\n",
    "# Sample Output\n",
    "# 19A"
   ]
  },
  {
   "cell_type": "code",
   "execution_count": 11,
   "id": "50e2553c-7bcf-4fe5-adcd-65d6a53b3e80",
   "metadata": {},
   "outputs": [
    {
     "name": "stdin",
     "output_type": "stream",
     "text": [
      " 11\n",
      " 19\n"
     ]
    },
    {
     "name": "stdout",
     "output_type": "stream",
     "text": [
      "19\n"
     ]
    }
   ],
   "source": [
    "def special_num(m,n):\n",
    "    for num in range(m,n+1):\n",
    "        digit = num//10\n",
    "        digit1 = num%10\n",
    "        if (digit + digit1 + digit * digit1) == num:\n",
    "                print(num)\n",
    "\n",
    "m =int(input())\n",
    "mn =int(input())\n",
    "special_num(m,n)      "
   ]
  },
  {
   "cell_type": "code",
   "execution_count": 13,
   "id": "c3a46f54-3e9b-4b42-b7b5-1352b1aab360",
   "metadata": {},
   "outputs": [
    {
     "ename": "SyntaxError",
     "evalue": "expected ':' (3115817260.py, line 6)",
     "output_type": "error",
     "traceback": [
      "\u001b[1;36m  Cell \u001b[1;32mIn[13], line 6\u001b[1;36m\u001b[0m\n\u001b[1;33m    if ()\u001b[0m\n\u001b[1;37m         ^\u001b[0m\n\u001b[1;31mSyntaxError\u001b[0m\u001b[1;31m:\u001b[0m expected ':'\n"
     ]
    }
   ],
   "source": [
    "def factorial(n):\n",
    "    for num in range (n):\n",
    "        digit = num//10\n",
    "        digit1= num%10\n",
    "        digit2 =num//10\n",
    "        if ()"
   ]
  },
  {
   "cell_type": "code",
   "execution_count": 19,
   "id": "7bc83a78-3c25-4bfa-9f8d-785236d71936",
   "metadata": {},
   "outputs": [
    {
     "name": "stdin",
     "output_type": "stream",
     "text": [
      " 145\n"
     ]
    },
    {
     "name": "stdout",
     "output_type": "stream",
     "text": [
      "yes\n"
     ]
    }
   ],
   "source": [
    "def factorial(n):\n",
    "    fact = 1\n",
    "    for i in range(1, n + 1):\n",
    "        fact *= i\n",
    "    return fact\n",
    "\n",
    "def is_strong_number(num):\n",
    "    sum_fact = 0\n",
    "    temp = num\n",
    "    \n",
    "    while temp > 0:\n",
    "        digit = temp % 10  \n",
    "        sum_fact += factorial(digit)  \n",
    "        temp //= 10 \n",
    "    \n",
    "    if sum_fact == num:\n",
    "        print(\"yes\")\n",
    "    else:\n",
    "        print(\"no\")\n",
    "\n",
    "num = int(input())\n",
    "\n",
    "is_strong_number(num)\n"
   ]
  },
  {
   "cell_type": "code",
   "execution_count": 25,
   "id": "68b060b5-c567-40cf-9bb9-eb808b7e7ffa",
   "metadata": {},
   "outputs": [
    {
     "name": "stdin",
     "output_type": "stream",
     "text": [
      " 18\n"
     ]
    },
    {
     "name": "stdout",
     "output_type": "stream",
     "text": [
      "18\n",
      "9\n",
      "28\n",
      "14\n",
      "7\n",
      "22\n",
      "11\n",
      "34\n",
      "17\n",
      "52\n",
      "26\n",
      "13\n",
      "40\n",
      "20\n",
      "10\n",
      "5\n",
      "16\n",
      "8\n",
      "4\n",
      "2\n",
      "1\n",
      "20\n"
     ]
    }
   ],
   "source": [
    "# Phoebe Buffay started working for Chandler Bing and he wanted her to\n",
    "# write a program to generate Collatz Sequence. The rules for generating the\n",
    "# Collatz sequence are: If n is even, n = n / 2. If n is odd, n = 3n + 1.\n",
    "# For example, if the starting number is 5 the sequence is: 5 -> 16 -> 8 -> 4 -\n",
    "# > 2 -> 1 It has been proved for almost all integers, that the repeated\n",
    "# application of the above rule will result in a sequence that ends in 1.\n",
    "# Input Format:\n",
    "# The input is an integer 'n' which denotes the first term of the sequence.\n",
    "# Output Format:\n",
    "# As output, print the numbers in the sequence and also print the number of\n",
    "# times the rule has to be applied in order to reach 1.\n",
    "# Question 3\n",
    "# Sample Input 1:\n",
    "# 18\n",
    "n = int(input())\n",
    "count = 0      \n",
    "\n",
    "while n != 1:\n",
    "    print(n) \n",
    "    if n % 2 == 0:\n",
    "        n = n // 2 \n",
    "    else:\n",
    "        n = 3 * n + 1  \n",
    "    count += 1  \n",
    "\n",
    "print(1)  \n",
    "print(count) \n"
   ]
  },
  {
   "cell_type": "code",
   "execution_count": 27,
   "id": "65995e56-1366-47b3-9631-7c6c02fefe9a",
   "metadata": {},
   "outputs": [
    {
     "name": "stdin",
     "output_type": "stream",
     "text": [
      " 1\n",
      " 5\n",
      " 8\n",
      " 5\n"
     ]
    },
    {
     "name": "stdout",
     "output_type": "stream",
     "text": [
      "2.5\n"
     ]
    }
   ],
   "source": []
  },
  {
   "cell_type": "code",
   "execution_count": 29,
   "id": "df776102-cd6b-4230-9ab8-571d3dfd6f65",
   "metadata": {},
   "outputs": [
    {
     "name": "stdin",
     "output_type": "stream",
     "text": [
      " 4\n",
      " 5\n"
     ]
    },
    {
     "name": "stdout",
     "output_type": "stream",
     "text": [
      "11\n"
     ]
    }
   ],
   "source": [
    "a =int(input())\n",
    "b =int(input())\n",
    "add =a+1 +b+1\n",
    "print(add)"
   ]
  },
  {
   "cell_type": "code",
   "execution_count": 31,
   "id": "8f7fedd8-c76b-4b43-8ba2-13f1075656c3",
   "metadata": {},
   "outputs": [
    {
     "name": "stdin",
     "output_type": "stream",
     "text": [
      " 5\n",
      " 8\n",
      " -4\n",
      " -7\n",
      " -8\n",
      " 5\n"
     ]
    },
    {
     "name": "stdout",
     "output_type": "stream",
     "text": [
      "2\n",
      "3\n"
     ]
    }
   ],
   "source": [
    "n = int(input())\n",
    "\n",
    "positive_count = 0\n",
    "negative_count = 0\n",
    "\n",
    "i = 0 \n",
    "while i < n:\n",
    "    num = int(input()) \n",
    "    \n",
    "    if num >= 0: \n",
    "        positive_count += 1\n",
    "    else:\n",
    "        negative_count += 1\n",
    "\n",
    "    i += 1  \n",
    "\n",
    "# Print the results\n",
    "print(positive_count)\n",
    "print( negative_count)\n"
   ]
  },
  {
   "cell_type": "code",
   "execution_count": null,
   "id": "3f20d4be-c70f-4afc-a8fe-15217ee89482",
   "metadata": {},
   "outputs": [],
   "source": []
  }
 ],
 "metadata": {
  "kernelspec": {
   "display_name": "Python 3 (ipykernel)",
   "language": "python",
   "name": "python3"
  },
  "language_info": {
   "codemirror_mode": {
    "name": "ipython",
    "version": 3
   },
   "file_extension": ".py",
   "mimetype": "text/x-python",
   "name": "python",
   "nbconvert_exporter": "python",
   "pygments_lexer": "ipython3",
   "version": "3.12.7"
  }
 },
 "nbformat": 4,
 "nbformat_minor": 5
}
