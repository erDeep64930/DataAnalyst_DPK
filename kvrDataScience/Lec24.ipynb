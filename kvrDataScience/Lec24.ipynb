{
 "cells": [
  {
   "cell_type": "markdown",
   "metadata": {},
   "source": []
  },
  {
   "cell_type": "code",
   "execution_count": 3,
   "metadata": {},
   "outputs": [],
   "source": [
    "import pandas as pd\n",
    "import numpy as np"
   ]
  },
  {
   "cell_type": "code",
   "execution_count": 4,
   "metadata": {},
   "outputs": [
    {
     "name": "stdout",
     "output_type": "stream",
     "text": [
      "0    12\n",
      "1    34\n",
      "2    15\n",
      "3     8\n",
      "4    22\n",
      "5    10\n",
      "6     8\n",
      "7    -4\n",
      "dtype: int64\n"
     ]
    }
   ],
   "source": [
    "s=pd.Series([12,34,15,8,22,10,8,-4])\n",
    "print(s)"
   ]
  },
  {
   "cell_type": "code",
   "execution_count": 5,
   "metadata": {},
   "outputs": [
    {
     "name": "stdout",
     "output_type": "stream",
     "text": [
      "1    34\n",
      "4    22\n",
      "2    15\n",
      "0    12\n",
      "5    10\n",
      "3     8\n",
      "6     8\n",
      "7    -4\n",
      "dtype: int64\n"
     ]
    }
   ],
   "source": [
    "print(s.sort_values(ascending=False))"
   ]
  },
  {
   "cell_type": "code",
   "execution_count": 6,
   "metadata": {},
   "outputs": [
    {
     "name": "stdout",
     "output_type": "stream",
     "text": [
      "None\n",
      "1    34\n",
      "4    22\n",
      "2    15\n",
      "0    12\n",
      "5    10\n",
      "3     8\n",
      "6     8\n",
      "7    -4\n",
      "dtype: int64\n"
     ]
    }
   ],
   "source": [
    "print(s.sort_values(ascending=False,inplace=True))\n",
    "print(s)"
   ]
  },
  {
   "cell_type": "code",
   "execution_count": 7,
   "metadata": {},
   "outputs": [
    {
     "name": "stdout",
     "output_type": "stream",
     "text": [
      "1    34\n",
      "4    22\n",
      "dtype: int64\n"
     ]
    }
   ],
   "source": [
    "print(s.head(2))"
   ]
  },
  {
   "cell_type": "code",
   "execution_count": 8,
   "metadata": {},
   "outputs": [
    {
     "name": "stdout",
     "output_type": "stream",
     "text": [
      "1    34\n",
      "4    22\n",
      "dtype: int64\n"
     ]
    }
   ],
   "source": [
    "print(s[0:2])"
   ]
  },
  {
   "cell_type": "code",
   "execution_count": 9,
   "metadata": {},
   "outputs": [
    {
     "name": "stdout",
     "output_type": "stream",
     "text": [
      "3    8\n",
      "6    8\n",
      "7   -4\n",
      "dtype: int64\n"
     ]
    }
   ],
   "source": [
    "print(s.tail(3))"
   ]
  },
  {
   "cell_type": "code",
   "execution_count": 10,
   "metadata": {},
   "outputs": [
    {
     "name": "stdout",
     "output_type": "stream",
     "text": [
      "0    12\n",
      "1    34\n",
      "2    15\n",
      "3     8\n",
      "4    22\n",
      "5    10\n",
      "6     8\n",
      "7    -4\n",
      "dtype: int64\n"
     ]
    }
   ],
   "source": [
    "s=pd.Series([12,34,15,8,22,10,8,-4])\n",
    "print(s)"
   ]
  },
  {
   "cell_type": "code",
   "execution_count": 11,
   "metadata": {},
   "outputs": [
    {
     "data": {
      "text/plain": [
       "1    34\n",
       "4    22\n",
       "2    15\n",
       "0    12\n",
       "5    10\n",
       "dtype: int64"
      ]
     },
     "execution_count": 11,
     "metadata": {},
     "output_type": "execute_result"
    }
   ],
   "source": [
    "s.nlargest()"
   ]
  },
  {
   "cell_type": "code",
   "execution_count": 12,
   "metadata": {},
   "outputs": [
    {
     "name": "stdout",
     "output_type": "stream",
     "text": [
      "1    34\n",
      "4    22\n",
      "2    15\n",
      "dtype: int64\n"
     ]
    }
   ],
   "source": [
    "print(s.nlargest(3))"
   ]
  },
  {
   "cell_type": "code",
   "execution_count": 13,
   "metadata": {},
   "outputs": [
    {
     "name": "stdout",
     "output_type": "stream",
     "text": [
      "7   -4\n",
      "3    8\n",
      "6    8\n",
      "dtype: int64\n"
     ]
    }
   ],
   "source": [
    "print(s.nsmallest(3))"
   ]
  },
  {
   "cell_type": "code",
   "execution_count": 14,
   "metadata": {},
   "outputs": [
    {
     "name": "stdout",
     "output_type": "stream",
     "text": [
      "0    12\n",
      "1    34\n",
      "2    15\n",
      "3     8\n",
      "4    22\n",
      "5    10\n",
      "6     8\n",
      "dtype: int64\n"
     ]
    }
   ],
   "source": [
    "s=pd.Series([12,34,15,8,22,10,8])\n",
    "print(s)"
   ]
  },
  {
   "cell_type": "code",
   "execution_count": 15,
   "metadata": {},
   "outputs": [
    {
     "name": "stdout",
     "output_type": "stream",
     "text": [
      "sum= 109\n",
      "product= 86169600\n",
      "mean= 15.571428571428571\n"
     ]
    }
   ],
   "source": [
    "print(\"sum=\",s.sum())\n",
    "print(\"product=\",s.product())\n",
    "print(\"mean=\",s.mean())"
   ]
  },
  {
   "cell_type": "code",
   "execution_count": 19,
   "metadata": {},
   "outputs": [
    {
     "data": {
      "text/plain": [
       "sum       1.090000e+02\n",
       "prod      8.616960e+07\n",
       "mean      1.557143e+01\n",
       "median    1.200000e+01\n",
       "dtype: float64"
      ]
     },
     "execution_count": 19,
     "metadata": {},
     "output_type": "execute_result"
    }
   ],
   "source": [
    "# new method to get all at once \n",
    "s=pd.Series([12,34,15,8,22,10,8])\n",
    "s.agg([\"sum\",\"prod\",\"mean\",\"median\"])\n"
   ]
  },
  {
   "cell_type": "code",
   "execution_count": null,
   "metadata": {},
   "outputs": [],
   "source": [
    "# working with missing dependencies values\n"
   ]
  },
  {
   "cell_type": "code",
   "execution_count": 20,
   "metadata": {},
   "outputs": [],
   "source": [
    "# to work with csv files\n",
    "\n",
    "# pd.read_csv(\"absolute path of csv file\")\n",
    "\n",
    "# pandas.read_csv(\"absolute path of pandas\")\n",
    "\n",
    "# this are separated by double slash\n",
    "\n",
    "# by default , the pandas read_csv() will be imported as dataframe\n",
    "\n",
    "# if we want data to be imported into series instead of dataframe we provide additional argument usecols and squeeze , the squeeze=true will convert a dataframe of one column into series.\n"
   ]
  },
  {
   "cell_type": "code",
   "execution_count": 21,
   "metadata": {},
   "outputs": [
    {
     "name": "stdout",
     "output_type": "stream",
     "text": [
      "['rossum', 'travis', 'itty', 'dhurvi', 'deep']\n"
     ]
    }
   ],
   "source": [
    "names=[\"Rossum\",\"traVis\",\"itTy\",\"DhurVi\",\"dEEp\"]\n",
    "lst=[name.lower() for name in names]\n",
    "print(lst)"
   ]
  },
  {
   "cell_type": "code",
   "execution_count": 22,
   "metadata": {},
   "outputs": [
    {
     "name": "stdout",
     "output_type": "stream",
     "text": [
      "['ROSSUM', 'TRAVIS', 'ITTY', 'DHURVI', 'DEEP']\n"
     ]
    }
   ],
   "source": [
    "names=[\"Rossum\",\"traVis\",\"itTy\",\"DhurVi\",\"dEEp\"]\n",
    "lst=[name.upper() for name in names]\n",
    "print(lst)"
   ]
  },
  {
   "cell_type": "code",
   "execution_count": 23,
   "metadata": {},
   "outputs": [
    {
     "name": "stdout",
     "output_type": "stream",
     "text": [
      "[6, 6, 4, 6, 4]\n"
     ]
    }
   ],
   "source": [
    "names=[\"Rossum\",\"traVis\",\"itTy\",\"DhurVi\",\"dEEp\"]\n",
    "lst=[len(str(name)) for name in names]\n",
    "print(lst)"
   ]
  },
  {
   "cell_type": "code",
   "execution_count": 24,
   "metadata": {},
   "outputs": [
    {
     "name": "stdout",
     "output_type": "stream",
     "text": [
      "{'Rossum': 6, 'traVis': 6, 'itTy': 4, 'DhurVi': 6, 'dEEp': 4}\n"
     ]
    }
   ],
   "source": [
    "names=[\"Rossum\",\"traVis\",\"itTy\",\"DhurVi\",\"dEEp\"]\n",
    "lst={str(name):len(str(name)) for name in names}\n",
    "print(lst)"
   ]
  },
  {
   "cell_type": "code",
   "execution_count": 25,
   "metadata": {},
   "outputs": [
    {
     "name": "stdout",
     "output_type": "stream",
     "text": [
      "{'rossum': 6, 'travis': 6, 'itty': 4, 'dhurvi': 6, 'deep': 4}\n"
     ]
    }
   ],
   "source": [
    "names=[\"Rossum\",\"traVis\",\"itTy\",\"DhurVi\",\"dEEp\"]\n",
    "lst={str(name.lower()):len(str(name)) for name in names}\n",
    "print(lst)"
   ]
  },
  {
   "cell_type": "code",
   "execution_count": 26,
   "metadata": {},
   "outputs": [
    {
     "name": "stdout",
     "output_type": "stream",
     "text": [
      "4      DEEP\n",
      "3    DHURVI\n",
      "2      ITTY\n",
      "0    ROSSUM\n",
      "1    TRAVIS\n",
      "dtype: object\n"
     ]
    }
   ],
   "source": [
    "names=[\"Rossum\",\"traVis\",\"itTy\",\"DhurVi\",\"dEEp\"]\n",
    "s=pd.Series(names)\n",
    "uperCaseNames=pd.Series([str(name).upper() for name in s]).sort_values()\n",
    "print(uperCaseNames)"
   ]
  },
  {
   "cell_type": "code",
   "execution_count": 27,
   "metadata": {},
   "outputs": [
    {
     "name": "stdout",
     "output_type": "stream",
     "text": [
      "4      deep\n",
      "3    dhurvi\n",
      "2      itty\n",
      "0    rossum\n",
      "1    travis\n",
      "dtype: object\n"
     ]
    }
   ],
   "source": [
    "names=[\"Rossum\",\"traVis\",\"itTy\",\"DhurVi\",\"dEEp\"]\n",
    "s=pd.Series(names)\n",
    "uperCaseNames=pd.Series([str(name).lower() for name in s]).sort_values()\n",
    "print(uperCaseNames)"
   ]
  },
  {
   "cell_type": "code",
   "execution_count": null,
   "metadata": {},
   "outputs": [],
   "source": []
  },
  {
   "cell_type": "code",
   "execution_count": null,
   "metadata": {},
   "outputs": [],
   "source": []
  },
  {
   "cell_type": "code",
   "execution_count": null,
   "metadata": {},
   "outputs": [],
   "source": []
  },
  {
   "cell_type": "code",
   "execution_count": null,
   "metadata": {},
   "outputs": [],
   "source": []
  },
  {
   "cell_type": "code",
   "execution_count": null,
   "metadata": {},
   "outputs": [],
   "source": []
  },
  {
   "cell_type": "code",
   "execution_count": null,
   "metadata": {},
   "outputs": [],
   "source": []
  },
  {
   "cell_type": "code",
   "execution_count": null,
   "metadata": {},
   "outputs": [],
   "source": []
  },
  {
   "cell_type": "code",
   "execution_count": null,
   "metadata": {},
   "outputs": [],
   "source": []
  },
  {
   "cell_type": "code",
   "execution_count": null,
   "metadata": {},
   "outputs": [],
   "source": []
  },
  {
   "cell_type": "code",
   "execution_count": null,
   "metadata": {},
   "outputs": [],
   "source": []
  },
  {
   "cell_type": "code",
   "execution_count": null,
   "metadata": {},
   "outputs": [],
   "source": []
  },
  {
   "cell_type": "code",
   "execution_count": null,
   "metadata": {},
   "outputs": [],
   "source": []
  },
  {
   "cell_type": "code",
   "execution_count": null,
   "metadata": {},
   "outputs": [],
   "source": []
  },
  {
   "cell_type": "code",
   "execution_count": null,
   "metadata": {},
   "outputs": [],
   "source": []
  },
  {
   "cell_type": "code",
   "execution_count": null,
   "metadata": {},
   "outputs": [],
   "source": []
  },
  {
   "cell_type": "code",
   "execution_count": null,
   "metadata": {},
   "outputs": [],
   "source": []
  },
  {
   "cell_type": "code",
   "execution_count": null,
   "metadata": {},
   "outputs": [],
   "source": []
  },
  {
   "cell_type": "code",
   "execution_count": null,
   "metadata": {},
   "outputs": [],
   "source": []
  },
  {
   "cell_type": "code",
   "execution_count": null,
   "metadata": {},
   "outputs": [],
   "source": []
  },
  {
   "cell_type": "code",
   "execution_count": null,
   "metadata": {},
   "outputs": [],
   "source": []
  },
  {
   "cell_type": "code",
   "execution_count": null,
   "metadata": {},
   "outputs": [],
   "source": []
  },
  {
   "cell_type": "code",
   "execution_count": null,
   "metadata": {},
   "outputs": [],
   "source": []
  },
  {
   "cell_type": "code",
   "execution_count": null,
   "metadata": {},
   "outputs": [],
   "source": []
  },
  {
   "cell_type": "code",
   "execution_count": null,
   "metadata": {},
   "outputs": [],
   "source": []
  },
  {
   "cell_type": "code",
   "execution_count": null,
   "metadata": {},
   "outputs": [],
   "source": []
  }
 ],
 "metadata": {
  "kernelspec": {
   "display_name": "Python 3",
   "language": "python",
   "name": "python3"
  },
  "language_info": {
   "codemirror_mode": {
    "name": "ipython",
    "version": 3
   },
   "file_extension": ".py",
   "mimetype": "text/x-python",
   "name": "python",
   "nbconvert_exporter": "python",
   "pygments_lexer": "ipython3",
   "version": "3.13.1"
  }
 },
 "nbformat": 4,
 "nbformat_minor": 2
}
