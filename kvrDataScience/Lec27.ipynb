{
 "cells": [
  {
   "cell_type": "markdown",
   "metadata": {},
   "source": [
    "# category data types :~"
   ]
  },
  {
   "cell_type": "code",
   "execution_count": 2,
   "metadata": {},
   "outputs": [
    {
     "name": "stdout",
     "output_type": "stream",
     "text": [
      "0    python\n",
      "1      java\n",
      "2    python\n",
      "3       c++\n",
      "4      java\n",
      "5       dsc\n",
      "6       dsc\n",
      "7    python\n",
      "8      java\n",
      "dtype: object <class 'pandas.core.series.Series'>\n"
     ]
    }
   ],
   "source": [
    "import pandas as pd\n",
    "s=pd.Series([\"python\",\"java\",\"python\",\"c++\",\"java\",\"dsc\",\"dsc\",\"python\",\"java\"])\n",
    "print(s,type(s))"
   ]
  },
  {
   "cell_type": "code",
   "execution_count": 3,
   "metadata": {},
   "outputs": [
    {
     "name": "stdout",
     "output_type": "stream",
     "text": [
      "0    python\n",
      "1      java\n",
      "2    python\n",
      "3       c++\n",
      "4      java\n",
      "5       dsc\n",
      "6       dsc\n",
      "7    python\n",
      "8      java\n",
      "dtype: category\n",
      "Categories (4, object): ['c++', 'dsc', 'java', 'python'] <class 'pandas.core.series.Series'> 9\n"
     ]
    }
   ],
   "source": [
    "s=pd.Series([\"python\",\"java\",\"python\",\"c++\",\"java\",\"dsc\",\"dsc\",\"python\",\"java\"],dtype=\"category\")\n",
    "print(s,type(s),len(s))"
   ]
  },
  {
   "cell_type": "code",
   "execution_count": 4,
   "metadata": {},
   "outputs": [],
   "source": [
    "# dtype=\"category\" will group the dataset"
   ]
  },
  {
   "cell_type": "code",
   "execution_count": 5,
   "metadata": {},
   "outputs": [
    {
     "name": "stdout",
     "output_type": "stream",
     "text": [
      "9\n"
     ]
    }
   ],
   "source": [
    "print(len(s))"
   ]
  },
  {
   "cell_type": "markdown",
   "metadata": {},
   "source": [
    "# Python pandas categorical data\n",
    "- often in real time , data includes the text columns , which are repetitive . feature like gender , country and codes .are alway repetitive . these are the example for categorical data.\n",
    "- categorical variable can takes on only a limited , and usually fixed number of possible values.\n",
    "\n",
    "- ----------------------------\n",
    "\n",
    "- the categorical data type is useful in the following cases:-\n",
    "- string variable consisting of only a few different values . converting such a string variable to a categorical variable will save the memory.\n",
    "- "
   ]
  },
  {
   "cell_type": "code",
   "execution_count": null,
   "metadata": {},
   "outputs": [],
   "source": [
    "\"\"\"  \n",
    "syntax:-\n",
    "\n",
    "pandas.Categorical([values,categories,ordered])\n",
    "\"\"\"\n"
   ]
  },
  {
   "cell_type": "code",
   "execution_count": 6,
   "metadata": {},
   "outputs": [
    {
     "name": "stdout",
     "output_type": "stream",
     "text": [
      "['python', 'java', 'python', 'c++', 'java', 'dsc', 'dsc', 'python', 'java']\n",
      "Categories (4, object): ['c++', 'dsc', 'java', 'python'] <class 'pandas.core.arrays.categorical.Categorical'> 9\n"
     ]
    }
   ],
   "source": [
    "import pandas as pd\n",
    "s=pd.Categorical([\"python\",\"java\",\"python\",\"c++\",\"java\",\"dsc\",\"dsc\",\"python\",\"java\"])\n",
    "print(s,type(s),len(s))"
   ]
  },
  {
   "cell_type": "code",
   "execution_count": 7,
   "metadata": {},
   "outputs": [
    {
     "name": "stdout",
     "output_type": "stream",
     "text": [
      "['a', 'b', 'c', 'a', 'c', 'b']\n",
      "Categories (3, object): ['a', 'b', 'c'] <class 'pandas.core.arrays.categorical.Categorical'> 6\n"
     ]
    }
   ],
   "source": [
    "cat = pd.Categorical([\"a\", \"b\", \"c\", \"a\", \"c\", \"b\"])\n",
    "print(cat, type(cat), len(cat))"
   ]
  },
  {
   "cell_type": "code",
   "execution_count": 8,
   "metadata": {},
   "outputs": [
    {
     "name": "stdout",
     "output_type": "stream",
     "text": [
      "['a', 'b', 'c', 'a', 'c', 'b', NaN]\n",
      "Categories (3, object): ['c', 'b', 'a'] <class 'pandas.core.arrays.categorical.Categorical'> 7\n"
     ]
    }
   ],
   "source": [
    "cat = pd.Categorical([\"a\", \"b\", \"c\", \"a\", \"c\", \"b\",\"d\"],[\"c\",\"b\",\"a\"])\n",
    "print(cat, type(cat), len(cat))"
   ]
  },
  {
   "cell_type": "code",
   "execution_count": null,
   "metadata": {},
   "outputs": [],
   "source": [
    "# here d is treated as NaN.\n"
   ]
  },
  {
   "cell_type": "code",
   "execution_count": null,
   "metadata": {},
   "outputs": [],
   "source": []
  },
  {
   "cell_type": "code",
   "execution_count": null,
   "metadata": {},
   "outputs": [],
   "source": []
  },
  {
   "cell_type": "code",
   "execution_count": null,
   "metadata": {},
   "outputs": [],
   "source": []
  },
  {
   "cell_type": "code",
   "execution_count": null,
   "metadata": {},
   "outputs": [],
   "source": []
  },
  {
   "cell_type": "code",
   "execution_count": null,
   "metadata": {},
   "outputs": [],
   "source": []
  },
  {
   "cell_type": "code",
   "execution_count": null,
   "metadata": {},
   "outputs": [],
   "source": []
  },
  {
   "cell_type": "code",
   "execution_count": null,
   "metadata": {},
   "outputs": [],
   "source": []
  },
  {
   "cell_type": "code",
   "execution_count": null,
   "metadata": {},
   "outputs": [],
   "source": []
  },
  {
   "cell_type": "code",
   "execution_count": null,
   "metadata": {},
   "outputs": [],
   "source": []
  },
  {
   "cell_type": "code",
   "execution_count": null,
   "metadata": {},
   "outputs": [],
   "source": []
  },
  {
   "cell_type": "code",
   "execution_count": null,
   "metadata": {},
   "outputs": [],
   "source": []
  },
  {
   "cell_type": "code",
   "execution_count": null,
   "metadata": {},
   "outputs": [],
   "source": []
  },
  {
   "cell_type": "code",
   "execution_count": null,
   "metadata": {},
   "outputs": [],
   "source": []
  },
  {
   "cell_type": "code",
   "execution_count": null,
   "metadata": {},
   "outputs": [],
   "source": []
  },
  {
   "cell_type": "code",
   "execution_count": null,
   "metadata": {},
   "outputs": [],
   "source": []
  },
  {
   "cell_type": "code",
   "execution_count": null,
   "metadata": {},
   "outputs": [],
   "source": []
  }
 ],
 "metadata": {
  "kernelspec": {
   "display_name": "Python 3",
   "language": "python",
   "name": "python3"
  },
  "language_info": {
   "codemirror_mode": {
    "name": "ipython",
    "version": 3
   },
   "file_extension": ".py",
   "mimetype": "text/x-python",
   "name": "python",
   "nbconvert_exporter": "python",
   "pygments_lexer": "ipython3",
   "version": "3.13.1"
  }
 },
 "nbformat": 4,
 "nbformat_minor": 2
}
