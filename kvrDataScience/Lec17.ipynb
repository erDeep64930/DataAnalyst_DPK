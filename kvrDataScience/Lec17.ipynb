{
 "cells": [
  {
   "cell_type": "code",
   "execution_count": 1,
   "metadata": {},
   "outputs": [
    {
     "name": "stdout",
     "output_type": "stream",
     "text": [
      "18\n"
     ]
    }
   ],
   "source": [
    "import numpy as np\n",
    "arr=np.array([3,6,9])\n",
    "x=np.lcm.reduce(arr)\n",
    "print(x)"
   ]
  },
  {
   "cell_type": "code",
   "execution_count": 2,
   "metadata": {},
   "outputs": [
    {
     "name": "stdout",
     "output_type": "stream",
     "text": [
      "4\n"
     ]
    }
   ],
   "source": [
    "# numpy gcd greatest common denominator\n",
    "arr=np.array([20,8,32,16])\n",
    "x=np.gcd.reduce(arr)\n",
    "print(x)"
   ]
  },
  {
   "cell_type": "markdown",
   "metadata": {},
   "source": [
    "# numpy sorting data"
   ]
  },
  {
   "cell_type": "code",
   "execution_count": 4,
   "metadata": {},
   "outputs": [
    {
     "name": "stdout",
     "output_type": "stream",
     "text": [
      "[ 10   2  13   4  -5   0  16  25 -16]\n",
      "[-16  -5   0   2   4  10  13  16  25]\n"
     ]
    }
   ],
   "source": [
    "a=np.array([10,2,13,4,-5,0,16,25,-16])\n",
    "print(a)\n",
    "# to sort the data \n",
    "print(np.sort(a))"
   ]
  },
  {
   "cell_type": "code",
   "execution_count": 5,
   "metadata": {},
   "outputs": [
    {
     "name": "stdout",
     "output_type": "stream",
     "text": [
      "[[ 10   2  13]\n",
      " [  4  -5   0]\n",
      " [ 16  25 -16]]\n"
     ]
    }
   ],
   "source": [
    "a.shape=(3,3)\n",
    "print(a)"
   ]
  },
  {
   "cell_type": "code",
   "execution_count": 6,
   "metadata": {},
   "outputs": [
    {
     "data": {
      "text/plain": [
       "array([[  4,  -5, -16],\n",
       "       [ 10,   2,   0],\n",
       "       [ 16,  25,  13]])"
      ]
     },
     "execution_count": 6,
     "metadata": {},
     "output_type": "execute_result"
    }
   ],
   "source": [
    "np.sort(a,axis=0)"
   ]
  },
  {
   "cell_type": "code",
   "execution_count": null,
   "metadata": {},
   "outputs": [],
   "source": [
    "# here axis=0 represent column , column based sorting\n"
   ]
  },
  {
   "cell_type": "markdown",
   "metadata": {},
   "source": [
    "# example of linear algebra\n",
    "- solve()\n",
    "- det()\n",
    "- inv()\n"
   ]
  },
  {
   "cell_type": "code",
   "execution_count": null,
   "metadata": {},
   "outputs": [
    {
     "ename": "NameError",
     "evalue": "name 'np' is not defined",
     "output_type": "error",
     "traceback": [
      "\u001b[1;31m---------------------------------------------------------------------------\u001b[0m",
      "\u001b[1;31mNameError\u001b[0m                                 Traceback (most recent call last)",
      "Cell \u001b[1;32mIn[1], line 5\u001b[0m\n\u001b[0;32m      1\u001b[0m \u001b[38;5;66;03m# consider the following linear equation:-\u001b[39;00m\n\u001b[0;32m      2\u001b[0m \u001b[38;5;66;03m#2x+3y=6 -->1\u001b[39;00m\n\u001b[0;32m      3\u001b[0m \u001b[38;5;66;03m#6x+4y=3 -->2\u001b[39;00m\n\u001b[0;32m      4\u001b[0m \u001b[38;5;66;03m# find the value of x and y\u001b[39;00m\n\u001b[1;32m----> 5\u001b[0m a\u001b[38;5;241m=\u001b[39m\u001b[43mnp\u001b[49m\u001b[38;5;241m.\u001b[39marray([[\u001b[38;5;241m2\u001b[39m,\u001b[38;5;241m3\u001b[39m],[\u001b[38;5;241m6\u001b[39m,\u001b[38;5;241m4\u001b[39m]])  \n\u001b[0;32m      6\u001b[0m b\u001b[38;5;241m=\u001b[39mnp\u001b[38;5;241m.\u001b[39marray([\u001b[38;5;241m6\u001b[39m,\u001b[38;5;241m3\u001b[39m])\n\u001b[0;32m      7\u001b[0m sol\u001b[38;5;241m=\u001b[39mnp\u001b[38;5;241m.\u001b[39mlinalg\u001b[38;5;241m.\u001b[39msolve(a,b)\n",
      "\u001b[1;31mNameError\u001b[0m: name 'np' is not defined"
     ]
    }
   ],
   "source": [
    "# consider the following linear equation:-\n",
    "#2x+3y=6 -->1\n",
    "#6x+4y=3 -->2\n",
    "# find the value of x and y\n",
    "a=np.array([[2,3],[6,4]])  \n",
    "b=np.array([6,3])\n",
    "sol=np.linalg.solve(a,b)\n",
    "print(sol)\n"
   ]
  },
  {
   "cell_type": "code",
   "execution_count": 12,
   "metadata": {},
   "outputs": [
    {
     "name": "stdout",
     "output_type": "stream",
     "text": [
      "[ 8.19354839 -3.22580645  1.03225806]\n",
      "val of x= 8.193548387096774\n",
      "val of y= -3.225806451612903\n",
      "val of z= 1.032258064516129\n"
     ]
    }
   ],
   "source": [
    "#x+y+z=6\n",
    "#2x+3y+9z=16\n",
    "#2x-4y-9z=20\n",
    "a=np.array([[1,1,1],[2,3,9],[2,-4,-9]])\n",
    "b=np.array([6,16,20])\n",
    "sol=np.linalg.solve(a,b)\n",
    "print(sol)\n",
    "print(\"val of x=\",sol[0])\n",
    "print(\"val of y=\",sol[1])\n",
    "print(\"val of z=\",sol[2])"
   ]
  },
  {
   "cell_type": "markdown",
   "metadata": {},
   "source": [
    "# determinant"
   ]
  },
  {
   "cell_type": "code",
   "execution_count": 13,
   "metadata": {},
   "outputs": [
    {
     "name": "stdout",
     "output_type": "stream",
     "text": [
      "-2.0000000000000004\n"
     ]
    }
   ],
   "source": [
    "# find det of given matrix\n",
    "a=-np.array([[1,2],[3,4]])\n",
    "detA=np.linalg.det(a)\n",
    "print(detA)\n"
   ]
  },
  {
   "cell_type": "code",
   "execution_count": 16,
   "metadata": {},
   "outputs": [
    {
     "name": "stdout",
     "output_type": "stream",
     "text": [
      "-20.99999999999999\n"
     ]
    }
   ],
   "source": [
    "# find det of given matrix\n",
    "a=-np.array([[1,2,3],[4,5,6],[7,8,2]])\n",
    "detA=np.linalg.det(a)\n",
    "print(detA)\n"
   ]
  },
  {
   "cell_type": "code",
   "execution_count": 17,
   "metadata": {},
   "outputs": [
    {
     "name": "stdout",
     "output_type": "stream",
     "text": [
      "[[-2.   1. ]\n",
      " [ 1.5 -0.5]]\n"
     ]
    }
   ],
   "source": [
    "# inverse of given matrix\n",
    "a=np.array([[1,2],[3,4]])\n",
    "invA=np.linalg.inv(a)\n",
    "print(invA)"
   ]
  },
  {
   "cell_type": "code",
   "execution_count": null,
   "metadata": {},
   "outputs": [],
   "source": []
  },
  {
   "cell_type": "code",
   "execution_count": null,
   "metadata": {},
   "outputs": [],
   "source": []
  },
  {
   "cell_type": "code",
   "execution_count": null,
   "metadata": {},
   "outputs": [],
   "source": []
  },
  {
   "cell_type": "code",
   "execution_count": null,
   "metadata": {},
   "outputs": [],
   "source": []
  },
  {
   "cell_type": "code",
   "execution_count": null,
   "metadata": {},
   "outputs": [],
   "source": []
  },
  {
   "cell_type": "code",
   "execution_count": null,
   "metadata": {},
   "outputs": [],
   "source": []
  },
  {
   "cell_type": "code",
   "execution_count": null,
   "metadata": {},
   "outputs": [],
   "source": []
  },
  {
   "cell_type": "code",
   "execution_count": null,
   "metadata": {},
   "outputs": [],
   "source": []
  },
  {
   "cell_type": "code",
   "execution_count": null,
   "metadata": {},
   "outputs": [],
   "source": []
  }
 ],
 "metadata": {
  "kernelspec": {
   "display_name": "Python 3",
   "language": "python",
   "name": "python3"
  },
  "language_info": {
   "codemirror_mode": {
    "name": "ipython",
    "version": 3
   },
   "file_extension": ".py",
   "mimetype": "text/x-python",
   "name": "python",
   "nbconvert_exporter": "python",
   "pygments_lexer": "ipython3",
   "version": "3.13.1"
  }
 },
 "nbformat": 4,
 "nbformat_minor": 2
}
