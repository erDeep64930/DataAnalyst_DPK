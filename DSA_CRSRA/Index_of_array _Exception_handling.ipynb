{
 "cells": [
  {
   "cell_type": "markdown",
   "id": "4295ffd0-6fe9-4286-ae16-cbcee42d2295",
   "metadata": {},
   "source": [
    " ## Exception Handelling\n"
   ]
  },
  {
   "cell_type": "markdown",
   "id": "130a406a-71ce-44fb-a2a3-0a95c9a4ea14",
   "metadata": {},
   "source": [
    "## Removing duplicates"
   ]
  },
  {
   "cell_type": "code",
   "execution_count": 1,
   "id": "b5dc614f-9cf3-45bd-b30d-50f145ad164f",
   "metadata": {},
   "outputs": [
    {
     "name": "stdout",
     "output_type": "stream",
     "text": [
      "[3, 4, 6, 8, 9, 2, 5, 7]\n"
     ]
    }
   ],
   "source": [
    "import numpy as np\n",
    "x = np.array([3, 4, 6, 8,8, 9, 2, 5, 7])\n",
    "type(x)\n",
    "\n",
    "def remove_duplicates(x):\n",
    "    new_arr=[]\n",
    "    for i in x:\n",
    "        if i not in new_arr:\n",
    "            new_arr.append(i)\n",
    "    return new_arr\n",
    "\n",
    "    \n",
    "result=remove_duplicates(x)\n",
    "print(result)"
   ]
  },
  {
   "cell_type": "markdown",
   "id": "98049d11-cfed-447b-bbed-92d3f9244353",
   "metadata": {},
   "source": [
    "## remove duplicates using type conversion"
   ]
  },
  {
   "cell_type": "code",
   "execution_count": 2,
   "id": "0390ac2a-e0c0-4222-9ffe-6a4cd9b8968e",
   "metadata": {},
   "outputs": [
    {
     "name": "stdout",
     "output_type": "stream",
     "text": [
      "[2 3 4 5 6 7 8 9]\n"
     ]
    }
   ],
   "source": [
    "import numpy as np\n",
    "\n",
    "x = np.array([3, 4, 6, 8, 9, 2, 5,8, 7])\n",
    "\n",
    "def remove_duplicates(arr):\n",
    "    return np.array(list(set(arr)))  \n",
    "result = remove_duplicates(x)\n",
    "print(result)\n"
   ]
  },
  {
   "cell_type": "markdown",
   "id": "9e051dc7-2f1f-407a-b5e0-fbebbe10ce3c",
   "metadata": {},
   "source": [
    "## find the index of an element   Exceptional handeling"
   ]
  },
  {
   "cell_type": "markdown",
   "id": "23198126-dc2d-4600-b548-922945cdd96b",
   "metadata": {},
   "source": [
    "## write function that takes an array and an element as input, and returns the index of the element in the array.if the element is not found,it should return -1."
   ]
  },
  {
   "cell_type": "code",
   "execution_count": 1,
   "id": "fd566619-4f1c-41c7-86e6-95d51f5e596e",
   "metadata": {
    "scrolled": true
   },
   "outputs": [
    {
     "name": "stdin",
     "output_type": "stream",
     "text": [
      " 9\n"
     ]
    },
    {
     "name": "stdout",
     "output_type": "stream",
     "text": [
      "Index: 4\n"
     ]
    }
   ],
   "source": [
    "import numpy as np\n",
    "\n",
    "def find_index(arr, ele):\n",
    "    for i in range(len(arr)):\n",
    "        if arr[i] == ele:\n",
    "            return i  \n",
    "    return -1  \n",
    "\n",
    "x = np.array([3, 4, 6, 8, 9, 2, 5, 7])\n",
    "ele = int(input())\n",
    "\n",
    "result = find_index(x, ele)\n",
    "print(\"Index:\", result)  \n"
   ]
  },
  {
   "cell_type": "code",
   "execution_count": 2,
   "id": "27a56ad4-46f3-4de9-8ecc-ba42e54d30c9",
   "metadata": {},
   "outputs": [
    {
     "name": "stdin",
     "output_type": "stream",
     "text": [
      " 5\n"
     ]
    },
    {
     "name": "stdout",
     "output_type": "stream",
     "text": [
      "Index: 6\n"
     ]
    }
   ],
   "source": [
    "import numpy as np\n",
    "\n",
    "def find_index(arr, element):\n",
    "    indices = np.where(arr == element)[0]  \n",
    "    return indices[0] if indices.size > 0 else -1  \n",
    "\n",
    "x = np.array([3, 4, 6, 8, 9, 2, 5, 7])\n",
    "element = int(input()) \n",
    "\n",
    "result = find_index(x, element)\n",
    "print(\"Index:\", result)  \n"
   ]
  },
  {
   "cell_type": "code",
   "execution_count": null,
   "id": "5392feb9-dc7b-4397-a1e9-adbcbd384b3b",
   "metadata": {},
   "outputs": [],
   "source": []
  },
  {
   "cell_type": "code",
   "execution_count": null,
   "id": "b1a44928-18d8-452e-8fe4-ca4cb78b020d",
   "metadata": {},
   "outputs": [],
   "source": []
  }
 ],
 "metadata": {
  "kernelspec": {
   "display_name": "Python 3 (ipykernel)",
   "language": "python",
   "name": "python3"
  },
  "language_info": {
   "codemirror_mode": {
    "name": "ipython",
    "version": 3
   },
   "file_extension": ".py",
   "mimetype": "text/x-python",
   "name": "python",
   "nbconvert_exporter": "python",
   "pygments_lexer": "ipython3",
   "version": "3.12.4"
  }
 },
 "nbformat": 4,
 "nbformat_minor": 5
}
