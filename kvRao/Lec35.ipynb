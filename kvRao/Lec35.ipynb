{
 "cells": [
  {
   "cell_type": "markdown",
   "metadata": {},
   "source": [
    "# Program"
   ]
  },
  {
   "cell_type": "code",
   "execution_count": 2,
   "metadata": {},
   "outputs": [
    {
     "name": "stdout",
     "output_type": "stream",
     "text": [
      " Swaped value of a:57\n",
      " Swaped value of b:85\n"
     ]
    }
   ],
   "source": [
    "# swap two number ?\n",
    "a=input(\"enter the number\")\n",
    "b=input(\"enter the number\")\n",
    "x=a\n",
    "a=b\n",
    "b=x\n",
    "print(\" Swaped value of a:{}\".format(a))\n",
    "print(\" Swaped value of b:{}\".format(b))"
   ]
  },
  {
   "cell_type": "code",
   "execution_count": 3,
   "metadata": {},
   "outputs": [],
   "source": [
    "# Relational operator"
   ]
  },
  {
   "cell_type": "code",
   "execution_count": 4,
   "metadata": {},
   "outputs": [
    {
     "data": {
      "text/plain": [
       "False"
      ]
     },
     "execution_count": 4,
     "metadata": {},
     "output_type": "execute_result"
    }
   ],
   "source": [
    "\"Python\">\"python\""
   ]
  },
  {
   "cell_type": "code",
   "execution_count": 7,
   "metadata": {},
   "outputs": [
    {
     "data": {
      "text/plain": [
       "False"
      ]
     },
     "execution_count": 7,
     "metadata": {},
     "output_type": "execute_result"
    }
   ],
   "source": [
    "\"abc\">=\"acb\""
   ]
  },
  {
   "cell_type": "code",
   "execution_count": 8,
   "metadata": {},
   "outputs": [
    {
     "name": "stdout",
     "output_type": "stream",
     "text": [
      "65 --> A\n",
      "66 --> B\n",
      "67 --> C\n",
      "68 --> D\n",
      "69 --> E\n",
      "70 --> F\n",
      "71 --> G\n",
      "72 --> H\n",
      "73 --> I\n",
      "74 --> J\n",
      "75 --> K\n",
      "76 --> L\n",
      "77 --> M\n",
      "78 --> N\n",
      "79 --> O\n",
      "80 --> P\n",
      "81 --> Q\n",
      "82 --> R\n",
      "83 --> S\n",
      "84 --> T\n",
      "85 --> U\n",
      "86 --> V\n",
      "87 --> W\n",
      "88 --> X\n",
      "89 --> Y\n",
      "90 --> Z\n"
     ]
    }
   ],
   "source": [
    "for val in range(65,91):\n",
    "    print(val,\"-->\",chr(val))"
   ]
  },
  {
   "cell_type": "code",
   "execution_count": 9,
   "metadata": {},
   "outputs": [
    {
     "name": "stdout",
     "output_type": "stream",
     "text": [
      "97 --> a\n",
      "98 --> b\n",
      "99 --> c\n",
      "100 --> d\n",
      "101 --> e\n",
      "102 --> f\n",
      "103 --> g\n",
      "104 --> h\n",
      "105 --> i\n",
      "106 --> j\n",
      "107 --> k\n",
      "108 --> l\n",
      "109 --> m\n",
      "110 --> n\n",
      "111 --> o\n",
      "112 --> p\n",
      "113 --> q\n",
      "114 --> r\n",
      "115 --> s\n",
      "116 --> t\n",
      "117 --> u\n",
      "118 --> v\n",
      "119 --> w\n",
      "120 --> x\n",
      "121 --> y\n",
      "122 --> z\n"
     ]
    }
   ],
   "source": [
    "for val in range(97,123):\n",
    "    print(val,\"-->\",chr(val))"
   ]
  },
  {
   "cell_type": "code",
   "execution_count": 10,
   "metadata": {},
   "outputs": [
    {
     "data": {
      "text/plain": [
       "True"
      ]
     },
     "execution_count": 10,
     "metadata": {},
     "output_type": "execute_result"
    }
   ],
   "source": [
    "\"just\">=\"jsut\""
   ]
  },
  {
   "cell_type": "code",
   "execution_count": 11,
   "metadata": {},
   "outputs": [
    {
     "data": {
      "text/plain": [
       "False"
      ]
     },
     "execution_count": 11,
     "metadata": {},
     "output_type": "execute_result"
    }
   ],
   "source": [
    "\"just\"<=\"jsut\""
   ]
  },
  {
   "cell_type": "code",
   "execution_count": null,
   "metadata": {},
   "outputs": [],
   "source": []
  }
 ],
 "metadata": {
  "kernelspec": {
   "display_name": "Python 3",
   "language": "python",
   "name": "python3"
  },
  "language_info": {
   "codemirror_mode": {
    "name": "ipython",
    "version": 3
   },
   "file_extension": ".py",
   "mimetype": "text/x-python",
   "name": "python",
   "nbconvert_exporter": "python",
   "pygments_lexer": "ipython3",
   "version": "3.13.1"
  }
 },
 "nbformat": 4,
 "nbformat_minor": 2
}
