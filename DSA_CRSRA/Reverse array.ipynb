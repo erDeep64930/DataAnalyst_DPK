{
 "cells": [
  {
   "cell_type": "code",
   "execution_count": 1,
   "id": "f4fe29fe-ebf2-4f74-88db-42aeb1d8c8e9",
   "metadata": {},
   "outputs": [
    {
     "name": "stdout",
     "output_type": "stream",
     "text": [
      "[7 5 2 9 8 6 4 3]\n"
     ]
    }
   ],
   "source": [
    "import numpy as np\n",
    "x=np.array([3,4,6,8,9,2,5,7])\n",
    "type(x)\n",
    "print(x[::-1])"
   ]
  },
  {
   "cell_type": "code",
   "execution_count": 2,
   "id": "21fb03a3-d3e0-4980-bf79-78a6306d3360",
   "metadata": {},
   "outputs": [
    {
     "name": "stdout",
     "output_type": "stream",
     "text": [
      "Original array: [3 4 6 8 9 2 5 7]\n",
      "Reversed array: [7 5 2 9 8 6 4 3]\n"
     ]
    }
   ],
   "source": [
    "import numpy as np\n",
    "x = np.array([3, 4, 6, 8, 9, 2, 5, 7])\n",
    "\n",
    "reversed_x = np.empty_like(x)\n",
    "\n",
    "n = len(x)  \n",
    "for i in range(n):\n",
    "    reversed_x[i] = x[n - 1 - i] \n",
    "\n",
    "print(\"Original array:\", x)\n",
    "print(\"Reversed array:\", reversed_x)"
   ]
  },
  {
   "cell_type": "code",
   "execution_count": 4,
   "id": "d343b5ae-ea88-4f4e-b60e-8ecbcd932953",
   "metadata": {},
   "outputs": [
    {
     "name": "stdout",
     "output_type": "stream",
     "text": [
      "[7, 5, 2, 9, 8, 6, 4, 3]\n"
     ]
    }
   ],
   "source": [
    "import numpy as np\n",
    "x = np.array([3, 4, 6, 8, 9, 2, 5, 7])\n",
    "\n",
    "type(x)\n",
    "n=len(x)\n",
    "new_array=[] \n",
    "for i in range(n-1,-1,-1):\n",
    "   new_array.append(x[i]) \n",
    "\n",
    "print(new_array)\n"
   ]
  },
  {
   "cell_type": "code",
   "execution_count": null,
   "id": "3930cbeb-4707-424a-a2ed-0162c8507174",
   "metadata": {},
   "outputs": [],
   "source": []
  }
 ],
 "metadata": {
  "kernelspec": {
   "display_name": "Python 3 (ipykernel)",
   "language": "python",
   "name": "python3"
  },
  "language_info": {
   "codemirror_mode": {
    "name": "ipython",
    "version": 3
   },
   "file_extension": ".py",
   "mimetype": "text/x-python",
   "name": "python",
   "nbconvert_exporter": "python",
   "pygments_lexer": "ipython3",
   "version": "3.12.4"
  }
 },
 "nbformat": 4,
 "nbformat_minor": 5
}
