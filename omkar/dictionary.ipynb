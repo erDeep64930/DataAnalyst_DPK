{
 "cells": [
  {
   "cell_type": "markdown",
   "id": "5bc41edb-c2ca-48fc-98ec-a15af715b271",
   "metadata": {},
   "source": [
    "**$dictionay$**"
   ]
  },
  {
   "cell_type": "code",
   "execution_count": null,
   "id": "2b1cf401-5eb1-4e20-88ba-d806fe40f0f5",
   "metadata": {},
   "outputs": [],
   "source": [
    "list1=[\"lal\",\"pal\",\"bal\"]\n",
    "list2=[25,50,75]"
   ]
  },
  {
   "cell_type": "code",
   "execution_count": 2,
   "id": "524ef840-ba4c-477c-b9b8-02de407d7f97",
   "metadata": {},
   "outputs": [
    {
     "name": "stdout",
     "output_type": "stream",
     "text": [
      "lal age is 25\n",
      "pal age is 50\n",
      "bal age is 75\n"
     ]
    }
   ],
   "source": [
    "list1=[\"lal\",\"pal\",\"bal\"]\n",
    "list2=[25,50,75]\n",
    "\n",
    "for i,j in zip(list1,list2):\n",
    "    print(\"{} age is {}\".format(i,j))\n"
   ]
  },
  {
   "cell_type": "code",
   "execution_count": null,
   "id": "2bfd6f64-8191-4648-8c63-33acf8f9e3b1",
   "metadata": {},
   "outputs": [],
   "source": [
    "dictionary is curley braces with key:value pairs\n",
    "\n",
    "#{key:value}"
   ]
  },
  {
   "cell_type": "code",
   "execution_count": null,
   "id": "beac4ac4-34b2-4d27-bf30-45b85efeb23e",
   "metadata": {},
   "outputs": [],
   "source": [
    "d1={\"lal\":25,\"bal\":50,\"pal\":75}"
   ]
  },
  {
   "cell_type": "code",
   "execution_count": 4,
   "id": "4620d385-c339-44e7-a501-b017e66094a3",
   "metadata": {},
   "outputs": [
    {
     "name": "stdout",
     "output_type": "stream",
     "text": [
      "{'lal': 25, 'bal': 50, 'pal': 75}\n",
      "{1: 'a', 2: 'b', 3: 'c'}\n"
     ]
    }
   ],
   "source": [
    "d1={\"lal\":25,\"bal\":50,\"pal\":75}\n",
    "print(d1)\n",
    "d2= {1:\"a\",2:\"b\",3:\"c\"}\n",
    "print(d2)"
   ]
  },
  {
   "cell_type": "code",
   "execution_count": 5,
   "id": "ac8381de-cd5d-4594-b298-1e225d320a45",
   "metadata": {},
   "outputs": [
    {
     "name": "stdout",
     "output_type": "stream",
     "text": [
      "{(2, 4, 6): 'even', (1, 3, 5): 'odd'}\n"
     ]
    }
   ],
   "source": [
    "d3={(2,4,6):\"even\",(1,3,5):\"odd\"}\n",
    "print(d3)\n",
    "\n",
    "#this is tuple"
   ]
  },
  {
   "cell_type": "code",
   "execution_count": 6,
   "id": "3a7ca3aa-cff5-47ed-9ed2-48ea0a7fa462",
   "metadata": {},
   "outputs": [
    {
     "ename": "TypeError",
     "evalue": "unhashable type: 'list'",
     "output_type": "error",
     "traceback": [
      "\u001b[1;31m---------------------------------------------------------------------------\u001b[0m",
      "\u001b[1;31mTypeError\u001b[0m                                 Traceback (most recent call last)",
      "Cell \u001b[1;32mIn[6], line 1\u001b[0m\n\u001b[1;32m----> 1\u001b[0m d3\u001b[38;5;241m=\u001b[39m{[\u001b[38;5;241m2\u001b[39m,\u001b[38;5;241m4\u001b[39m,\u001b[38;5;241m6\u001b[39m]:\u001b[38;5;124m\"\u001b[39m\u001b[38;5;124meven\u001b[39m\u001b[38;5;124m\"\u001b[39m,[\u001b[38;5;241m1\u001b[39m,\u001b[38;5;241m3\u001b[39m,\u001b[38;5;241m5\u001b[39m]:\u001b[38;5;124m\"\u001b[39m\u001b[38;5;124modd\u001b[39m\u001b[38;5;124m\"\u001b[39m}\n\u001b[0;32m      2\u001b[0m \u001b[38;5;28mprint\u001b[39m(d3)\n",
      "\u001b[1;31mTypeError\u001b[0m: unhashable type: 'list'"
     ]
    }
   ],
   "source": [
    "d3={[2,4,6]:\"even\",[1,3,5]:\"odd\"}\n",
    "print(d3)"
   ]
  },
  {
   "cell_type": "code",
   "execution_count": 7,
   "id": "41d9fe6a-938e-47b1-b572-646d0b7ea0f3",
   "metadata": {},
   "outputs": [
    {
     "name": "stdout",
     "output_type": "stream",
     "text": [
      "{'item_list': {'boy', 'apple'}}\n"
     ]
    }
   ],
   "source": [
    "#{\"key\":<{}>}\n",
    "\n",
    "d5={\"item_list\":{\"apple\",\"boy\"}}\n",
    "print(d5)"
   ]
  },
  {
   "cell_type": "code",
   "execution_count": 9,
   "id": "07af0eac-4cb9-4013-9a45-3ae183c80630",
   "metadata": {},
   "outputs": [
    {
     "name": "stdout",
     "output_type": "stream",
     "text": [
      "[1, 2] (1, 2) (1, 2)\n"
     ]
    }
   ],
   "source": [
    "a=[1,2]\n",
    "b=(1,2)\n",
    "c=1,2\n",
    "print(a,b,c)"
   ]
  },
  {
   "cell_type": "markdown",
   "id": "6ffe2633-4172-4f42-a125-8fc6d0654917",
   "metadata": {},
   "source": [
    "# Dictionary **\n",
    "-dictionary is akey value pairs \n",
    "-at key value position you can take any data types\n",
    "-at key position list and dictionary will fail\n",
    "-duplicate are not allowed\n"
   ]
  },
  {
   "cell_type": "code",
   "execution_count": null,
   "id": "71653517-3785-41ff-b94c-229e9c28a4aa",
   "metadata": {},
   "outputs": [],
   "source": [
    "-str\n",
    "-list\n",
    "-dict\n",
    "-int\n",
    "-float\n",
    "-bool\n",
    "-complex\n",
    "-tuple\n",
    "\n"
   ]
  },
  {
   "cell_type": "code",
   "execution_count": 13,
   "id": "fb3c385e-a6c3-40a0-b144-8b8636e73a42",
   "metadata": {},
   "outputs": [
    {
     "name": "stdout",
     "output_type": "stream",
     "text": [
      "ram\n",
      "jo\n"
     ]
    }
   ],
   "source": [
    "d1={\"ram\":25,\"raheem\":50,\"lucifer\":75,\"jo\":100}\n",
    "print(max(d1))\n",
    "print(min(d1))"
   ]
  },
  {
   "cell_type": "code",
   "execution_count": 14,
   "id": "f71d6fe7-849c-41a6-a1c6-bb05c4730a41",
   "metadata": {},
   "outputs": [
    {
     "data": {
      "text/plain": [
       "25"
      ]
     },
     "execution_count": 14,
     "metadata": {},
     "output_type": "execute_result"
    }
   ],
   "source": [
    "d1={\"ram\":25,\"raheem\":50,\"lucifer\":75,\"jo\":100}\n",
    "\n",
    "d1[\"ram\"]"
   ]
  },
  {
   "cell_type": "code",
   "execution_count": 15,
   "id": "dedaca1f-97c1-4885-80ab-6192fb1b3394",
   "metadata": {},
   "outputs": [
    {
     "name": "stdout",
     "output_type": "stream",
     "text": [
      "the age of ram is 25\n",
      "the age of raheem is 50\n",
      "the age of lucifer is 75\n",
      "the age of jo is 100\n"
     ]
    }
   ],
   "source": [
    "for key in d1:\n",
    "    print(\"the age of {} is {}\".format(key,d1[key]))"
   ]
  },
  {
   "cell_type": "markdown",
   "id": "943fb126-075f-4715-9d7b-2b8338ffddcc",
   "metadata": {},
   "source": [
    "*creating a empty dictionay*"
   ]
  },
  {
   "cell_type": "code",
   "execution_count": 18,
   "id": "067a9ac2-4526-4d63-b18c-0cbe0ad83b98",
   "metadata": {},
   "outputs": [
    {
     "name": "stdout",
     "output_type": "stream",
     "text": [
      "a\n",
      "p\n",
      "p\n",
      "l\n",
      "e\n"
     ]
    }
   ],
   "source": [
    "s=\"\"\n",
    "for i in \"apple\":\n",
    "    print(i)"
   ]
  },
  {
   "cell_type": "code",
   "execution_count": 20,
   "id": "83ffb23f-e189-4b79-81b2-453c5b7e7437",
   "metadata": {},
   "outputs": [
    {
     "name": "stdout",
     "output_type": "stream",
     "text": [
      "apple\n"
     ]
    }
   ],
   "source": [
    "s=\"\"\n",
    "for i in \"apple\":\n",
    "    s=s+i\n",
    "\n",
    "print(s)"
   ]
  },
  {
   "cell_type": "code",
   "execution_count": 21,
   "id": "bb82a1e8-8297-4393-be44-d4b0cdaccc9f",
   "metadata": {},
   "outputs": [
    {
     "data": {
      "text/plain": [
       "{'fruits': 'apple'}"
      ]
     },
     "execution_count": 21,
     "metadata": {},
     "output_type": "execute_result"
    }
   ],
   "source": [
    "d1={}\n",
    "d1[\"fruits\"]=\"apple\"\n",
    "d1"
   ]
  },
  {
   "cell_type": "code",
   "execution_count": 22,
   "id": "00f136eb-e29b-4df7-97dc-0aa5979d1a7f",
   "metadata": {},
   "outputs": [
    {
     "data": {
      "text/plain": [
       "{'firstName': 'Deepak', 'lastName': 'kumar', 'age': 28, 'Country': 'India'}"
      ]
     },
     "execution_count": 22,
     "metadata": {},
     "output_type": "execute_result"
    }
   ],
   "source": [
    "d1={}\n",
    "d1[\"firstName\"]=\"Deepak\"\n",
    "d1[\"lastName\"]=\"kumar\"\n",
    "d1[\"age\"]=28\n",
    "d1[\"Country\"]=\"India\"\n",
    "d1\n",
    "\n"
   ]
  },
  {
   "cell_type": "code",
   "execution_count": 24,
   "id": "83088039-7b9c-430b-ac35-5d1d5a8533a9",
   "metadata": {},
   "outputs": [
    {
     "name": "stdout",
     "output_type": "stream",
     "text": [
      "{'ram': 30}\n",
      "{'ram': 30, 'laxman': 32}\n",
      "{'ram': 30, 'laxman': 32, 'bharat': 34}\n"
     ]
    }
   ],
   "source": [
    "names=[\"ram\",\"laxman\",\"bharat\"]\n",
    "age=[30,32,34]\n",
    "\n",
    "dict1={}\n",
    "for i,j in zip(names,age):\n",
    "    dict1[i]=j\n",
    "    print(dict1)"
   ]
  },
  {
   "cell_type": "code",
   "execution_count": 29,
   "id": "1fe572da-8c83-4fa9-b851-d4ffa8a22ec9",
   "metadata": {},
   "outputs": [
    {
     "name": "stdout",
     "output_type": "stream",
     "text": [
      "{'ram': 30}\n",
      "{'ram': 30, 'laxman': 32}\n",
      "{'ram': 30, 'laxman': 32, 'bharat': 34}\n"
     ]
    }
   ],
   "source": [
    "names=[\"ram\",\"laxman\",\"bharat\"]\n",
    "age=[30,32,34]\n",
    "\n",
    "dict1={}\n",
    "for i in range(len(names)):\n",
    "    dict1[names[i]]=age[i]\n",
    "    print(dict1)"
   ]
  },
  {
   "cell_type": "code",
   "execution_count": 30,
   "id": "8ee2a816-bec7-4d46-860d-3c0f18539670",
   "metadata": {},
   "outputs": [
    {
     "name": "stdout",
     "output_type": "stream",
     "text": [
      "{'ram': 30, 'laxman': 32, 'bharat': 34}\n"
     ]
    }
   ],
   "source": [
    "names=[\"ram\",\"laxman\",\"bharat\"]\n",
    "age=[30,32,34]\n",
    "\n",
    "dict1={names[i]:age[i] for i in range(len(names))}\n",
    "print(dict1)"
   ]
  },
  {
   "cell_type": "code",
   "execution_count": 31,
   "id": "6a408711-d592-458d-b4f1-caaf46692928",
   "metadata": {},
   "outputs": [
    {
     "name": "stdout",
     "output_type": "stream",
     "text": [
      "{'ram': 30, 'laxman': 32, 'bharat': 34}\n"
     ]
    }
   ],
   "source": [
    "names=[\"ram\",\"laxman\",\"bharat\"]\n",
    "age=[30,32,34]\n",
    "\n",
    "dict1={names:age for names,age in zip(names,age)}\n",
    "print(dict1)"
   ]
  },
  {
   "cell_type": "code",
   "execution_count": null,
   "id": "d539eb66-6de5-453f-9d81-a6728cecf98c",
   "metadata": {},
   "outputs": [],
   "source": [
    "#wap take 5 random number\n",
    "#create a dictionary with even or odd\n",
    "#output {\"even\":[20,22],\"odd\":[19,21,23]}"
   ]
  },
  {
   "cell_type": "code",
   "execution_count": null,
   "id": "a3825f88-b093-45dd-9503-04977e762342",
   "metadata": {},
   "outputs": [],
   "source": [
    "import random\n",
    "d1={}\n",
    "\n"
   ]
  },
  {
   "cell_type": "code",
   "execution_count": null,
   "id": "b25f3b23-8890-4be7-9262-a0bfbc5ce2c4",
   "metadata": {},
   "outputs": [],
   "source": []
  },
  {
   "cell_type": "code",
   "execution_count": null,
   "id": "3e179833-b0b9-41e1-886d-26ff2eb071a9",
   "metadata": {},
   "outputs": [],
   "source": []
  },
  {
   "cell_type": "code",
   "execution_count": null,
   "id": "d17f5dc1-1cc7-4599-a1f1-6e291281a914",
   "metadata": {},
   "outputs": [],
   "source": []
  },
  {
   "cell_type": "code",
   "execution_count": null,
   "id": "a6a953ca-ceac-4a12-983b-fe326989afaf",
   "metadata": {},
   "outputs": [],
   "source": []
  },
  {
   "cell_type": "code",
   "execution_count": null,
   "id": "f321f345-0193-4291-b204-53caf15854df",
   "metadata": {},
   "outputs": [],
   "source": []
  },
  {
   "cell_type": "code",
   "execution_count": null,
   "id": "3551511a-d35d-465a-b5b7-535f6521e6fe",
   "metadata": {},
   "outputs": [],
   "source": []
  },
  {
   "cell_type": "code",
   "execution_count": null,
   "id": "db66e06a-5b57-4809-ba54-9baf7717ee2b",
   "metadata": {},
   "outputs": [],
   "source": []
  },
  {
   "cell_type": "code",
   "execution_count": null,
   "id": "807cfc67-a214-4af7-ad28-32dee41077eb",
   "metadata": {},
   "outputs": [],
   "source": []
  }
 ],
 "metadata": {
  "kernelspec": {
   "display_name": "Python 3 (ipykernel)",
   "language": "python",
   "name": "python3"
  },
  "language_info": {
   "codemirror_mode": {
    "name": "ipython",
    "version": 3
   },
   "file_extension": ".py",
   "mimetype": "text/x-python",
   "name": "python",
   "nbconvert_exporter": "python",
   "pygments_lexer": "ipython3",
   "version": "3.12.4"
  }
 },
 "nbformat": 4,
 "nbformat_minor": 5
}
