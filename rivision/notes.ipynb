{
 "cells": [
  {
   "cell_type": "markdown",
   "metadata": {},
   "source": [
    "# Data Scientists"
   ]
  },
  {
   "cell_type": "markdown",
   "metadata": {},
   "source": [
    "where Data science is used:-\n",
    "--------------------------------\n",
    "\n",
    " # 1. Finance\n",
    "\n",
    "- loan prediction\n",
    "- stock market prediction\n",
    "- credit card usage\n",
    "\n",
    " # 2. e-Commerce\n",
    "\n",
    " - price tracking\n",
    " - recommendation\n",
    " - sentiment analysis\n",
    "\n",
    "# 3. Medical\n",
    " - pattern recognition of disease\n",
    " - efficacy of vaccination\n",
    " - blood group availability\n",
    " - chat boats\n",
    "\n",
    "# 4. Automobile\n",
    "\n",
    "- self driving car \n",
    "- detection of parts\n",
    "- user manual analysis\n",
    "\n",
    "\n",
    "# 5. Education\n",
    "\n",
    "- pass % of student for next year\n",
    "- enrollment\n",
    "- prediction of avg salary\n",
    "- detect the face and the attendance\n",
    "\n",
    "# 6. Agriculture\n",
    "\n",
    "- Seed suggestion\n",
    "- drone tech\n",
    "- rain prediction\n",
    "- seasonal crop analysis\n",
    "\n",
    "# 7. Pharma\n",
    "\n",
    "- drug accurate prediction\n",
    "- alternate drug suggestion\n",
    "- medical coding ====automated\n",
    "- side effects\n",
    "- bio war\n",
    "- cyber war\n",
    "- robotic war\n",
    "\n",
    "\n",
    "# 8. IT company:-\n",
    "\n",
    "- revenue prediction \n",
    "- churn prediction\n"
   ]
  },
  {
   "cell_type": "markdown",
   "metadata": {},
   "source": [
    "# EDA : Exporatory data analysis\n",
    "\n",
    "- Numpy {numerical python}\n",
    "- Pandas {data base operation}\n",
    "- matplotlib {plotting}\n",
    "- seaborn {plotting}\n",
    "- bokhe {plotting}\n",
    "\n",
    "# Machine Learning :\n",
    "\n",
    "- Sickit-learn {skLearn} {python} = used by data scientist\n",
    "- MLlib - pyspark = used by data engineering\n",
    "\n",
    "# Deep Learning\n",
    "\n",
    "- tensorflow {google}\n",
    "- keras \n",
    "- pyTorch\n",
    "- openCV\n",
    "\n",
    "\n",
    "# NLP -Natural Language Toolkit\n",
    "\n",
    "- nltk\n",
    "- scipy\n",
    "\n",
    "# Bert model\n",
    "\n",
    "    -transformers\n",
    "\n",
    "    #Azure ml packages\n",
    "    #chat gpt packages\n",
    "    #open CV {computer vision}\n",
    "    #flask\n",
    "    #stremLit\n",
    "\n",
    "    DEEP LEARNING + NLP ==DATA SCIENCE {AI application}\n",
    "\n",
    "\n",
    "\n"
   ]
  },
  {
   "cell_type": "markdown",
   "metadata": {},
   "source": [
    "Q. what is package?\n",
    "\n",
    "-collection of function or method\n",
    "\n",
    "#step-1\n",
    "\n",
    "import <package_name>\n",
    "\n",
    "#step-2:\n",
    "\n",
    "dir(<package_name>)\n",
    "\n",
    "#step-3:\n",
    "\n",
    "help(<package_name>.<method>)\n"
   ]
  },
  {
   "cell_type": "markdown",
   "metadata": {},
   "source": [
    "# we will learn\n",
    "\n",
    "# python package:-\n",
    "\n",
    "#EDA = [numpy, pandas, matplotlib]\n",
    "\n",
    "#ML = [skylean=python, MLlib=pyspark]\n",
    "\n",
    "#DL = [tensorflow,keras,pytorch,opencv]\n",
    "\n",
    "#NLP = [nltk,scipy]"
   ]
  },
  {
   "cell_type": "markdown",
   "metadata": {},
   "source": [
    "# Variable \n",
    "- variable to store value."
   ]
  },
  {
   "cell_type": "markdown",
   "metadata": {},
   "source": [
    "# ----------Python----------"
   ]
  },
  {
   "cell_type": "markdown",
   "metadata": {},
   "source": [
    "- officially release in 1991 \n",
    "- by guido van rossum\n",
    "\n",
    "# features of python:- or Services or facilities of python:-\n",
    "\n",
    "- more facility --> life easy\n",
    "\n",
    "# 11 features of python:-\n",
    "\n",
    "1. simple \n",
    "2. platform independent languages\n",
    "3. dynamically typed\n",
    "4. interpreted\n",
    "5. high level languages\n",
    "6. robust(strong) language\n",
    "7. freeware and open source\n",
    "8. extensible\n",
    "9. embedded\n",
    "10. both functional and object oriented programming languages\n",
    "11. support third party API such as numpy,pandas,matplotlib,scipy,scikit,tensorflow etc.,\n"
   ]
  },
  {
   "cell_type": "code",
   "execution_count": 27,
   "metadata": {},
   "outputs": [
    {
     "data": {
      "text/plain": [
       "' \\n\\n2. Platform independent\\n\\n\\na platform is nothing but type of OS being used to run our application / project/program\\n\\n-python is platform independent,\\n\\n\\n'"
      ]
     },
     "execution_count": 27,
     "metadata": {},
     "output_type": "execute_result"
    }
   ],
   "source": [
    "\"\"\"\n",
    "# explanation\n",
    "\n",
    "1.simple:-\n",
    " simple programming language because of 3 factor -\n",
    "\n",
    " a). less line of code:-\n",
    " eg:-\n",
    " to generate calender for month \n",
    "    =>c-language take-250 lines of code =>java -25lines\n",
    "    =>c# 25lines\n",
    "    =>python -2 lines \n",
    "    \n",
    "    \n",
    "    //\n",
    "    c language library are called = header file\n",
    "    \n",
    "    c++ library are called = header file/name spaces\n",
    "    \n",
    "    java library are called = package\n",
    "    \n",
    "    python library are called = module\n",
    "    //\n",
    "    \n",
    " *******************************\n",
    " b).\n",
    " Rich sets of modules are present \n",
    " eg:- math etc.,\n",
    " \n",
    " \n",
    "//\n",
    "python provide in built facility called garbage collector \n",
    "\n",
    "- to remove un-used memory  \n",
    "\n",
    " \n",
    " *******************************\n",
    " c).\n",
    " \n",
    " ***********\n",
    "\n",
    "\n",
    "\"\"\"\n",
    "# module name are calender,math,random,cmath etc\n",
    "\n",
    "\"\"\" \n",
    "\n",
    "2. Platform independent\n",
    "\n",
    "\n",
    "a platform is nothing but type of OS being used to run our application / project/program\n",
    "\n",
    "-python is platform independent,\n",
    "\n",
    "\n",
    "\"\"\""
   ]
  },
  {
   "cell_type": "code",
   "execution_count": 28,
   "metadata": {},
   "outputs": [
    {
     "name": "stdout",
     "output_type": "stream",
     "text": [
      "    January 2025\n",
      "Mo Tu We Th Fr Sa Su\n",
      "       1  2  3  4  5\n",
      " 6  7  8  9 10 11 12\n",
      "13 14 15 16 17 18 19\n",
      "20 21 22 23 24 25 26\n",
      "27 28 29 30 31\n",
      "\n"
     ]
    }
   ],
   "source": [
    "import calendar as c \n",
    "print(c.month(2025,1))"
   ]
  },
  {
   "cell_type": "code",
   "execution_count": 29,
   "metadata": {},
   "outputs": [
    {
     "name": "stdout",
     "output_type": "stream",
     "text": [
      "                                  2025\n",
      "\n",
      "      January                   February                   March\n",
      "Mo Tu We Th Fr Sa Su      Mo Tu We Th Fr Sa Su      Mo Tu We Th Fr Sa Su\n",
      "       1  2  3  4  5                      1  2                      1  2\n",
      " 6  7  8  9 10 11 12       3  4  5  6  7  8  9       3  4  5  6  7  8  9\n",
      "13 14 15 16 17 18 19      10 11 12 13 14 15 16      10 11 12 13 14 15 16\n",
      "20 21 22 23 24 25 26      17 18 19 20 21 22 23      17 18 19 20 21 22 23\n",
      "27 28 29 30 31            24 25 26 27 28            24 25 26 27 28 29 30\n",
      "                                                    31\n",
      "\n",
      "       April                      May                       June\n",
      "Mo Tu We Th Fr Sa Su      Mo Tu We Th Fr Sa Su      Mo Tu We Th Fr Sa Su\n",
      "    1  2  3  4  5  6                1  2  3  4                         1\n",
      " 7  8  9 10 11 12 13       5  6  7  8  9 10 11       2  3  4  5  6  7  8\n",
      "14 15 16 17 18 19 20      12 13 14 15 16 17 18       9 10 11 12 13 14 15\n",
      "21 22 23 24 25 26 27      19 20 21 22 23 24 25      16 17 18 19 20 21 22\n",
      "28 29 30                  26 27 28 29 30 31         23 24 25 26 27 28 29\n",
      "                                                    30\n",
      "\n",
      "        July                     August                  September\n",
      "Mo Tu We Th Fr Sa Su      Mo Tu We Th Fr Sa Su      Mo Tu We Th Fr Sa Su\n",
      "    1  2  3  4  5  6                   1  2  3       1  2  3  4  5  6  7\n",
      " 7  8  9 10 11 12 13       4  5  6  7  8  9 10       8  9 10 11 12 13 14\n",
      "14 15 16 17 18 19 20      11 12 13 14 15 16 17      15 16 17 18 19 20 21\n",
      "21 22 23 24 25 26 27      18 19 20 21 22 23 24      22 23 24 25 26 27 28\n",
      "28 29 30 31               25 26 27 28 29 30 31      29 30\n",
      "\n",
      "      October                   November                  December\n",
      "Mo Tu We Th Fr Sa Su      Mo Tu We Th Fr Sa Su      Mo Tu We Th Fr Sa Su\n",
      "       1  2  3  4  5                      1  2       1  2  3  4  5  6  7\n",
      " 6  7  8  9 10 11 12       3  4  5  6  7  8  9       8  9 10 11 12 13 14\n",
      "13 14 15 16 17 18 19      10 11 12 13 14 15 16      15 16 17 18 19 20 21\n",
      "20 21 22 23 24 25 26      17 18 19 20 21 22 23      22 23 24 25 26 27 28\n",
      "27 28 29 30 31            24 25 26 27 28 29 30      29 30 31\n",
      "\n"
     ]
    }
   ],
   "source": [
    "# to design complete calender\n",
    "print(c.calendar(2025))"
   ]
  },
  {
   "cell_type": "code",
   "execution_count": 30,
   "metadata": {},
   "outputs": [
    {
     "name": "stdout",
     "output_type": "stream",
     "text": [
      "Help on built-in module math:\n",
      "\n",
      "NAME\n",
      "    math\n",
      "\n",
      "DESCRIPTION\n",
      "    This module provides access to the mathematical functions\n",
      "    defined by the C standard.\n",
      "\n",
      "FUNCTIONS\n",
      "    acos(x, /)\n",
      "        Return the arc cosine (measured in radians) of x.\n",
      "\n",
      "        The result is between 0 and pi.\n",
      "\n",
      "    acosh(x, /)\n",
      "        Return the inverse hyperbolic cosine of x.\n",
      "\n",
      "    asin(x, /)\n",
      "        Return the arc sine (measured in radians) of x.\n",
      "\n",
      "        The result is between -pi/2 and pi/2.\n",
      "\n",
      "    asinh(x, /)\n",
      "        Return the inverse hyperbolic sine of x.\n",
      "\n",
      "    atan(x, /)\n",
      "        Return the arc tangent (measured in radians) of x.\n",
      "\n",
      "        The result is between -pi/2 and pi/2.\n",
      "\n",
      "    atan2(y, x, /)\n",
      "        Return the arc tangent (measured in radians) of y/x.\n",
      "\n",
      "        Unlike atan(y/x), the signs of both x and y are considered.\n",
      "\n",
      "    atanh(x, /)\n",
      "        Return the inverse hyperbolic tangent of x.\n",
      "\n",
      "    cbrt(x, /)\n",
      "        Return the cube root of x.\n",
      "\n",
      "    ceil(x, /)\n",
      "        Return the ceiling of x as an Integral.\n",
      "\n",
      "        This is the smallest integer >= x.\n",
      "\n",
      "    comb(n, k, /)\n",
      "        Number of ways to choose k items from n items without repetition and without order.\n",
      "\n",
      "        Evaluates to n! / (k! * (n - k)!) when k <= n and evaluates\n",
      "        to zero when k > n.\n",
      "\n",
      "        Also called the binomial coefficient because it is equivalent\n",
      "        to the coefficient of k-th term in polynomial expansion of the\n",
      "        expression (1 + x)**n.\n",
      "\n",
      "        Raises TypeError if either of the arguments are not integers.\n",
      "        Raises ValueError if either of the arguments are negative.\n",
      "\n",
      "    copysign(x, y, /)\n",
      "        Return a float with the magnitude (absolute value) of x but the sign of y.\n",
      "\n",
      "        On platforms that support signed zeros, copysign(1.0, -0.0)\n",
      "        returns -1.0.\n",
      "\n",
      "    cos(x, /)\n",
      "        Return the cosine of x (measured in radians).\n",
      "\n",
      "    cosh(x, /)\n",
      "        Return the hyperbolic cosine of x.\n",
      "\n",
      "    degrees(x, /)\n",
      "        Convert angle x from radians to degrees.\n",
      "\n",
      "    dist(p, q, /)\n",
      "        Return the Euclidean distance between two points p and q.\n",
      "\n",
      "        The points should be specified as sequences (or iterables) of\n",
      "        coordinates.  Both inputs must have the same dimension.\n",
      "\n",
      "        Roughly equivalent to:\n",
      "            sqrt(sum((px - qx) ** 2.0 for px, qx in zip(p, q)))\n",
      "\n",
      "    erf(x, /)\n",
      "        Error function at x.\n",
      "\n",
      "    erfc(x, /)\n",
      "        Complementary error function at x.\n",
      "\n",
      "    exp(x, /)\n",
      "        Return e raised to the power of x.\n",
      "\n",
      "    exp2(x, /)\n",
      "        Return 2 raised to the power of x.\n",
      "\n",
      "    expm1(x, /)\n",
      "        Return exp(x)-1.\n",
      "\n",
      "        This function avoids the loss of precision involved in the direct evaluation of exp(x)-1 for small x.\n",
      "\n",
      "    fabs(x, /)\n",
      "        Return the absolute value of the float x.\n",
      "\n",
      "    factorial(n, /)\n",
      "        Find n!.\n",
      "\n",
      "        Raise a ValueError if x is negative or non-integral.\n",
      "\n",
      "    floor(x, /)\n",
      "        Return the floor of x as an Integral.\n",
      "\n",
      "        This is the largest integer <= x.\n",
      "\n",
      "    fma(x, y, z, /)\n",
      "        Fused multiply-add operation.\n",
      "\n",
      "        Compute (x * y) + z with a single round.\n",
      "\n",
      "    fmod(x, y, /)\n",
      "        Return fmod(x, y), according to platform C.\n",
      "\n",
      "        x % y may differ.\n",
      "\n",
      "    frexp(x, /)\n",
      "        Return the mantissa and exponent of x, as pair (m, e).\n",
      "\n",
      "        m is a float and e is an int, such that x = m * 2.**e.\n",
      "        If x is 0, m and e are both 0.  Else 0.5 <= abs(m) < 1.0.\n",
      "\n",
      "    fsum(seq, /)\n",
      "        Return an accurate floating-point sum of values in the iterable seq.\n",
      "\n",
      "        Assumes IEEE-754 floating-point arithmetic.\n",
      "\n",
      "    gamma(x, /)\n",
      "        Gamma function at x.\n",
      "\n",
      "    gcd(*integers)\n",
      "        Greatest Common Divisor.\n",
      "\n",
      "    hypot(...)\n",
      "        hypot(*coordinates) -> value\n",
      "\n",
      "        Multidimensional Euclidean distance from the origin to a point.\n",
      "\n",
      "        Roughly equivalent to:\n",
      "            sqrt(sum(x**2 for x in coordinates))\n",
      "\n",
      "        For a two dimensional point (x, y), gives the hypotenuse\n",
      "        using the Pythagorean theorem:  sqrt(x*x + y*y).\n",
      "\n",
      "        For example, the hypotenuse of a 3/4/5 right triangle is:\n",
      "\n",
      "            >>> hypot(3.0, 4.0)\n",
      "            5.0\n",
      "\n",
      "    isclose(a, b, *, rel_tol=1e-09, abs_tol=0.0)\n",
      "        Determine whether two floating-point numbers are close in value.\n",
      "\n",
      "          rel_tol\n",
      "            maximum difference for being considered \"close\", relative to the\n",
      "            magnitude of the input values\n",
      "          abs_tol\n",
      "            maximum difference for being considered \"close\", regardless of the\n",
      "            magnitude of the input values\n",
      "\n",
      "        Return True if a is close in value to b, and False otherwise.\n",
      "\n",
      "        For the values to be considered close, the difference between them\n",
      "        must be smaller than at least one of the tolerances.\n",
      "\n",
      "        -inf, inf and NaN behave similarly to the IEEE 754 Standard.  That\n",
      "        is, NaN is not close to anything, even itself.  inf and -inf are\n",
      "        only close to themselves.\n",
      "\n",
      "    isfinite(x, /)\n",
      "        Return True if x is neither an infinity nor a NaN, and False otherwise.\n",
      "\n",
      "    isinf(x, /)\n",
      "        Return True if x is a positive or negative infinity, and False otherwise.\n",
      "\n",
      "    isnan(x, /)\n",
      "        Return True if x is a NaN (not a number), and False otherwise.\n",
      "\n",
      "    isqrt(n, /)\n",
      "        Return the integer part of the square root of the input.\n",
      "\n",
      "    lcm(*integers)\n",
      "        Least Common Multiple.\n",
      "\n",
      "    ldexp(x, i, /)\n",
      "        Return x * (2**i).\n",
      "\n",
      "        This is essentially the inverse of frexp().\n",
      "\n",
      "    lgamma(x, /)\n",
      "        Natural logarithm of absolute value of Gamma function at x.\n",
      "\n",
      "    log(...)\n",
      "        log(x, [base=math.e])\n",
      "        Return the logarithm of x to the given base.\n",
      "\n",
      "        If the base is not specified, returns the natural logarithm (base e) of x.\n",
      "\n",
      "    log10(x, /)\n",
      "        Return the base 10 logarithm of x.\n",
      "\n",
      "    log1p(x, /)\n",
      "        Return the natural logarithm of 1+x (base e).\n",
      "\n",
      "        The result is computed in a way which is accurate for x near zero.\n",
      "\n",
      "    log2(x, /)\n",
      "        Return the base 2 logarithm of x.\n",
      "\n",
      "    modf(x, /)\n",
      "        Return the fractional and integer parts of x.\n",
      "\n",
      "        Both results carry the sign of x and are floats.\n",
      "\n",
      "    nextafter(x, y, /, *, steps=None)\n",
      "        Return the floating-point value the given number of steps after x towards y.\n",
      "\n",
      "        If steps is not specified or is None, it defaults to 1.\n",
      "\n",
      "        Raises a TypeError, if x or y is not a double, or if steps is not an integer.\n",
      "        Raises ValueError if steps is negative.\n",
      "\n",
      "    perm(n, k=None, /)\n",
      "        Number of ways to choose k items from n items without repetition and with order.\n",
      "\n",
      "        Evaluates to n! / (n - k)! when k <= n and evaluates\n",
      "        to zero when k > n.\n",
      "\n",
      "        If k is not specified or is None, then k defaults to n\n",
      "        and the function returns n!.\n",
      "\n",
      "        Raises TypeError if either of the arguments are not integers.\n",
      "        Raises ValueError if either of the arguments are negative.\n",
      "\n",
      "    pow(x, y, /)\n",
      "        Return x**y (x to the power of y).\n",
      "\n",
      "    prod(iterable, /, *, start=1)\n",
      "        Calculate the product of all the elements in the input iterable.\n",
      "\n",
      "        The default start value for the product is 1.\n",
      "\n",
      "        When the iterable is empty, return the start value.  This function is\n",
      "        intended specifically for use with numeric values and may reject\n",
      "        non-numeric types.\n",
      "\n",
      "    radians(x, /)\n",
      "        Convert angle x from degrees to radians.\n",
      "\n",
      "    remainder(x, y, /)\n",
      "        Difference between x and the closest integer multiple of y.\n",
      "\n",
      "        Return x - n*y where n*y is the closest integer multiple of y.\n",
      "        In the case where x is exactly halfway between two multiples of\n",
      "        y, the nearest even value of n is used. The result is always exact.\n",
      "\n",
      "    sin(x, /)\n",
      "        Return the sine of x (measured in radians).\n",
      "\n",
      "    sinh(x, /)\n",
      "        Return the hyperbolic sine of x.\n",
      "\n",
      "    sqrt(x, /)\n",
      "        Return the square root of x.\n",
      "\n",
      "    sumprod(p, q, /)\n",
      "        Return the sum of products of values from two iterables p and q.\n",
      "\n",
      "        Roughly equivalent to:\n",
      "\n",
      "            sum(itertools.starmap(operator.mul, zip(p, q, strict=True)))\n",
      "\n",
      "        For float and mixed int/float inputs, the intermediate products\n",
      "        and sums are computed with extended precision.\n",
      "\n",
      "    tan(x, /)\n",
      "        Return the tangent of x (measured in radians).\n",
      "\n",
      "    tanh(x, /)\n",
      "        Return the hyperbolic tangent of x.\n",
      "\n",
      "    trunc(x, /)\n",
      "        Truncates the Real x to the nearest Integral toward 0.\n",
      "\n",
      "        Uses the __trunc__ magic method.\n",
      "\n",
      "    ulp(x, /)\n",
      "        Return the value of the least significant bit of the float x.\n",
      "\n",
      "DATA\n",
      "    e = 2.718281828459045\n",
      "    inf = inf\n",
      "    nan = nan\n",
      "    pi = 3.141592653589793\n",
      "    tau = 6.283185307179586\n",
      "\n",
      "FILE\n",
      "    (built-in)\n",
      "\n",
      "\n"
     ]
    }
   ],
   "source": [
    "import math\n",
    "help(math)"
   ]
  },
  {
   "cell_type": "code",
   "execution_count": 31,
   "metadata": {},
   "outputs": [
    {
     "name": "stdout",
     "output_type": "stream",
     "text": [
      "Help on class str in module builtins:\n",
      "\n",
      "class str(object)\n",
      " |  str(object='') -> str\n",
      " |  str(bytes_or_buffer[, encoding[, errors]]) -> str\n",
      " |\n",
      " |  Create a new string object from the given object. If encoding or\n",
      " |  errors is specified, then the object must expose a data buffer\n",
      " |  that will be decoded using the given encoding and error handler.\n",
      " |  Otherwise, returns the result of object.__str__() (if defined)\n",
      " |  or repr(object).\n",
      " |  encoding defaults to 'utf-8'.\n",
      " |  errors defaults to 'strict'.\n",
      " |\n",
      " |  Methods defined here:\n",
      " |\n",
      " |  __add__(self, value, /)\n",
      " |      Return self+value.\n",
      " |\n",
      " |  __contains__(self, key, /)\n",
      " |      Return bool(key in self).\n",
      " |\n",
      " |  __eq__(self, value, /)\n",
      " |      Return self==value.\n",
      " |\n",
      " |  __format__(self, format_spec, /)\n",
      " |      Return a formatted version of the string as described by format_spec.\n",
      " |\n",
      " |  __ge__(self, value, /)\n",
      " |      Return self>=value.\n",
      " |\n",
      " |  __getitem__(self, key, /)\n",
      " |      Return self[key].\n",
      " |\n",
      " |  __getnewargs__(self, /)\n",
      " |\n",
      " |  __gt__(self, value, /)\n",
      " |      Return self>value.\n",
      " |\n",
      " |  __hash__(self, /)\n",
      " |      Return hash(self).\n",
      " |\n",
      " |  __iter__(self, /)\n",
      " |      Implement iter(self).\n",
      " |\n",
      " |  __le__(self, value, /)\n",
      " |      Return self<=value.\n",
      " |\n",
      " |  __len__(self, /)\n",
      " |      Return len(self).\n",
      " |\n",
      " |  __lt__(self, value, /)\n",
      " |      Return self<value.\n",
      " |\n",
      " |  __mod__(self, value, /)\n",
      " |      Return self%value.\n",
      " |\n",
      " |  __mul__(self, value, /)\n",
      " |      Return self*value.\n",
      " |\n",
      " |  __ne__(self, value, /)\n",
      " |      Return self!=value.\n",
      " |\n",
      " |  __repr__(self, /)\n",
      " |      Return repr(self).\n",
      " |\n",
      " |  __rmod__(self, value, /)\n",
      " |      Return value%self.\n",
      " |\n",
      " |  __rmul__(self, value, /)\n",
      " |      Return value*self.\n",
      " |\n",
      " |  __sizeof__(self, /)\n",
      " |      Return the size of the string in memory, in bytes.\n",
      " |\n",
      " |  __str__(self, /)\n",
      " |      Return str(self).\n",
      " |\n",
      " |  capitalize(self, /)\n",
      " |      Return a capitalized version of the string.\n",
      " |\n",
      " |      More specifically, make the first character have upper case and the rest lower\n",
      " |      case.\n",
      " |\n",
      " |  casefold(self, /)\n",
      " |      Return a version of the string suitable for caseless comparisons.\n",
      " |\n",
      " |  center(self, width, fillchar=' ', /)\n",
      " |      Return a centered string of length width.\n",
      " |\n",
      " |      Padding is done using the specified fill character (default is a space).\n",
      " |\n",
      " |  count(self, sub[, start[, end]], /)\n",
      " |      Return the number of non-overlapping occurrences of substring sub in string S[start:end].\n",
      " |\n",
      " |      Optional arguments start and end are interpreted as in slice notation.\n",
      " |\n",
      " |  encode(self, /, encoding='utf-8', errors='strict')\n",
      " |      Encode the string using the codec registered for encoding.\n",
      " |\n",
      " |      encoding\n",
      " |        The encoding in which to encode the string.\n",
      " |      errors\n",
      " |        The error handling scheme to use for encoding errors.\n",
      " |        The default is 'strict' meaning that encoding errors raise a\n",
      " |        UnicodeEncodeError.  Other possible values are 'ignore', 'replace' and\n",
      " |        'xmlcharrefreplace' as well as any other name registered with\n",
      " |        codecs.register_error that can handle UnicodeEncodeErrors.\n",
      " |\n",
      " |  endswith(self, suffix[, start[, end]], /)\n",
      " |      Return True if the string ends with the specified suffix, False otherwise.\n",
      " |\n",
      " |      suffix\n",
      " |        A string or a tuple of strings to try.\n",
      " |      start\n",
      " |        Optional start position. Default: start of the string.\n",
      " |      end\n",
      " |        Optional stop position. Default: end of the string.\n",
      " |\n",
      " |  expandtabs(self, /, tabsize=8)\n",
      " |      Return a copy where all tab characters are expanded using spaces.\n",
      " |\n",
      " |      If tabsize is not given, a tab size of 8 characters is assumed.\n",
      " |\n",
      " |  find(self, sub[, start[, end]], /)\n",
      " |      Return the lowest index in S where substring sub is found, such that sub is contained within S[start:end].\n",
      " |\n",
      " |      Optional arguments start and end are interpreted as in slice notation.\n",
      " |      Return -1 on failure.\n",
      " |\n",
      " |  format(self, /, *args, **kwargs)\n",
      " |      Return a formatted version of the string, using substitutions from args and kwargs.\n",
      " |      The substitutions are identified by braces ('{' and '}').\n",
      " |\n",
      " |  format_map(self, mapping, /)\n",
      " |      Return a formatted version of the string, using substitutions from mapping.\n",
      " |      The substitutions are identified by braces ('{' and '}').\n",
      " |\n",
      " |  index(self, sub[, start[, end]], /)\n",
      " |      Return the lowest index in S where substring sub is found, such that sub is contained within S[start:end].\n",
      " |\n",
      " |      Optional arguments start and end are interpreted as in slice notation.\n",
      " |      Raises ValueError when the substring is not found.\n",
      " |\n",
      " |  isalnum(self, /)\n",
      " |      Return True if the string is an alpha-numeric string, False otherwise.\n",
      " |\n",
      " |      A string is alpha-numeric if all characters in the string are alpha-numeric and\n",
      " |      there is at least one character in the string.\n",
      " |\n",
      " |  isalpha(self, /)\n",
      " |      Return True if the string is an alphabetic string, False otherwise.\n",
      " |\n",
      " |      A string is alphabetic if all characters in the string are alphabetic and there\n",
      " |      is at least one character in the string.\n",
      " |\n",
      " |  isascii(self, /)\n",
      " |      Return True if all characters in the string are ASCII, False otherwise.\n",
      " |\n",
      " |      ASCII characters have code points in the range U+0000-U+007F.\n",
      " |      Empty string is ASCII too.\n",
      " |\n",
      " |  isdecimal(self, /)\n",
      " |      Return True if the string is a decimal string, False otherwise.\n",
      " |\n",
      " |      A string is a decimal string if all characters in the string are decimal and\n",
      " |      there is at least one character in the string.\n",
      " |\n",
      " |  isdigit(self, /)\n",
      " |      Return True if the string is a digit string, False otherwise.\n",
      " |\n",
      " |      A string is a digit string if all characters in the string are digits and there\n",
      " |      is at least one character in the string.\n",
      " |\n",
      " |  isidentifier(self, /)\n",
      " |      Return True if the string is a valid Python identifier, False otherwise.\n",
      " |\n",
      " |      Call keyword.iskeyword(s) to test whether string s is a reserved identifier,\n",
      " |      such as \"def\" or \"class\".\n",
      " |\n",
      " |  islower(self, /)\n",
      " |      Return True if the string is a lowercase string, False otherwise.\n",
      " |\n",
      " |      A string is lowercase if all cased characters in the string are lowercase and\n",
      " |      there is at least one cased character in the string.\n",
      " |\n",
      " |  isnumeric(self, /)\n",
      " |      Return True if the string is a numeric string, False otherwise.\n",
      " |\n",
      " |      A string is numeric if all characters in the string are numeric and there is at\n",
      " |      least one character in the string.\n",
      " |\n",
      " |  isprintable(self, /)\n",
      " |      Return True if the string is printable, False otherwise.\n",
      " |\n",
      " |      A string is printable if all of its characters are considered printable in\n",
      " |      repr() or if it is empty.\n",
      " |\n",
      " |  isspace(self, /)\n",
      " |      Return True if the string is a whitespace string, False otherwise.\n",
      " |\n",
      " |      A string is whitespace if all characters in the string are whitespace and there\n",
      " |      is at least one character in the string.\n",
      " |\n",
      " |  istitle(self, /)\n",
      " |      Return True if the string is a title-cased string, False otherwise.\n",
      " |\n",
      " |      In a title-cased string, upper- and title-case characters may only\n",
      " |      follow uncased characters and lowercase characters only cased ones.\n",
      " |\n",
      " |  isupper(self, /)\n",
      " |      Return True if the string is an uppercase string, False otherwise.\n",
      " |\n",
      " |      A string is uppercase if all cased characters in the string are uppercase and\n",
      " |      there is at least one cased character in the string.\n",
      " |\n",
      " |  join(self, iterable, /)\n",
      " |      Concatenate any number of strings.\n",
      " |\n",
      " |      The string whose method is called is inserted in between each given string.\n",
      " |      The result is returned as a new string.\n",
      " |\n",
      " |      Example: '.'.join(['ab', 'pq', 'rs']) -> 'ab.pq.rs'\n",
      " |\n",
      " |  ljust(self, width, fillchar=' ', /)\n",
      " |      Return a left-justified string of length width.\n",
      " |\n",
      " |      Padding is done using the specified fill character (default is a space).\n",
      " |\n",
      " |  lower(self, /)\n",
      " |      Return a copy of the string converted to lowercase.\n",
      " |\n",
      " |  lstrip(self, chars=None, /)\n",
      " |      Return a copy of the string with leading whitespace removed.\n",
      " |\n",
      " |      If chars is given and not None, remove characters in chars instead.\n",
      " |\n",
      " |  partition(self, sep, /)\n",
      " |      Partition the string into three parts using the given separator.\n",
      " |\n",
      " |      This will search for the separator in the string.  If the separator is found,\n",
      " |      returns a 3-tuple containing the part before the separator, the separator\n",
      " |      itself, and the part after it.\n",
      " |\n",
      " |      If the separator is not found, returns a 3-tuple containing the original string\n",
      " |      and two empty strings.\n",
      " |\n",
      " |  removeprefix(self, prefix, /)\n",
      " |      Return a str with the given prefix string removed if present.\n",
      " |\n",
      " |      If the string starts with the prefix string, return string[len(prefix):].\n",
      " |      Otherwise, return a copy of the original string.\n",
      " |\n",
      " |  removesuffix(self, suffix, /)\n",
      " |      Return a str with the given suffix string removed if present.\n",
      " |\n",
      " |      If the string ends with the suffix string and that suffix is not empty,\n",
      " |      return string[:-len(suffix)]. Otherwise, return a copy of the original\n",
      " |      string.\n",
      " |\n",
      " |  replace(self, old, new, /, count=-1)\n",
      " |      Return a copy with all occurrences of substring old replaced by new.\n",
      " |\n",
      " |        count\n",
      " |          Maximum number of occurrences to replace.\n",
      " |          -1 (the default value) means replace all occurrences.\n",
      " |\n",
      " |      If the optional argument count is given, only the first count occurrences are\n",
      " |      replaced.\n",
      " |\n",
      " |  rfind(self, sub[, start[, end]], /)\n",
      " |      Return the highest index in S where substring sub is found, such that sub is contained within S[start:end].\n",
      " |\n",
      " |      Optional arguments start and end are interpreted as in slice notation.\n",
      " |      Return -1 on failure.\n",
      " |\n",
      " |  rindex(self, sub[, start[, end]], /)\n",
      " |      Return the highest index in S where substring sub is found, such that sub is contained within S[start:end].\n",
      " |\n",
      " |      Optional arguments start and end are interpreted as in slice notation.\n",
      " |      Raises ValueError when the substring is not found.\n",
      " |\n",
      " |  rjust(self, width, fillchar=' ', /)\n",
      " |      Return a right-justified string of length width.\n",
      " |\n",
      " |      Padding is done using the specified fill character (default is a space).\n",
      " |\n",
      " |  rpartition(self, sep, /)\n",
      " |      Partition the string into three parts using the given separator.\n",
      " |\n",
      " |      This will search for the separator in the string, starting at the end. If\n",
      " |      the separator is found, returns a 3-tuple containing the part before the\n",
      " |      separator, the separator itself, and the part after it.\n",
      " |\n",
      " |      If the separator is not found, returns a 3-tuple containing two empty strings\n",
      " |      and the original string.\n",
      " |\n",
      " |  rsplit(self, /, sep=None, maxsplit=-1)\n",
      " |      Return a list of the substrings in the string, using sep as the separator string.\n",
      " |\n",
      " |        sep\n",
      " |          The separator used to split the string.\n",
      " |\n",
      " |          When set to None (the default value), will split on any whitespace\n",
      " |          character (including \\n \\r \\t \\f and spaces) and will discard\n",
      " |          empty strings from the result.\n",
      " |        maxsplit\n",
      " |          Maximum number of splits.\n",
      " |          -1 (the default value) means no limit.\n",
      " |\n",
      " |      Splitting starts at the end of the string and works to the front.\n",
      " |\n",
      " |  rstrip(self, chars=None, /)\n",
      " |      Return a copy of the string with trailing whitespace removed.\n",
      " |\n",
      " |      If chars is given and not None, remove characters in chars instead.\n",
      " |\n",
      " |  split(self, /, sep=None, maxsplit=-1)\n",
      " |      Return a list of the substrings in the string, using sep as the separator string.\n",
      " |\n",
      " |        sep\n",
      " |          The separator used to split the string.\n",
      " |\n",
      " |          When set to None (the default value), will split on any whitespace\n",
      " |          character (including \\n \\r \\t \\f and spaces) and will discard\n",
      " |          empty strings from the result.\n",
      " |        maxsplit\n",
      " |          Maximum number of splits.\n",
      " |          -1 (the default value) means no limit.\n",
      " |\n",
      " |      Splitting starts at the front of the string and works to the end.\n",
      " |\n",
      " |      Note, str.split() is mainly useful for data that has been intentionally\n",
      " |      delimited.  With natural text that includes punctuation, consider using\n",
      " |      the regular expression module.\n",
      " |\n",
      " |  splitlines(self, /, keepends=False)\n",
      " |      Return a list of the lines in the string, breaking at line boundaries.\n",
      " |\n",
      " |      Line breaks are not included in the resulting list unless keepends is given and\n",
      " |      true.\n",
      " |\n",
      " |  startswith(self, prefix[, start[, end]], /)\n",
      " |      Return True if the string starts with the specified prefix, False otherwise.\n",
      " |\n",
      " |      prefix\n",
      " |        A string or a tuple of strings to try.\n",
      " |      start\n",
      " |        Optional start position. Default: start of the string.\n",
      " |      end\n",
      " |        Optional stop position. Default: end of the string.\n",
      " |\n",
      " |  strip(self, chars=None, /)\n",
      " |      Return a copy of the string with leading and trailing whitespace removed.\n",
      " |\n",
      " |      If chars is given and not None, remove characters in chars instead.\n",
      " |\n",
      " |  swapcase(self, /)\n",
      " |      Convert uppercase characters to lowercase and lowercase characters to uppercase.\n",
      " |\n",
      " |  title(self, /)\n",
      " |      Return a version of the string where each word is titlecased.\n",
      " |\n",
      " |      More specifically, words start with uppercased characters and all remaining\n",
      " |      cased characters have lower case.\n",
      " |\n",
      " |  translate(self, table, /)\n",
      " |      Replace each character in the string using the given translation table.\n",
      " |\n",
      " |        table\n",
      " |          Translation table, which must be a mapping of Unicode ordinals to\n",
      " |          Unicode ordinals, strings, or None.\n",
      " |\n",
      " |      The table must implement lookup/indexing via __getitem__, for instance a\n",
      " |      dictionary or list.  If this operation raises LookupError, the character is\n",
      " |      left untouched.  Characters mapped to None are deleted.\n",
      " |\n",
      " |  upper(self, /)\n",
      " |      Return a copy of the string converted to uppercase.\n",
      " |\n",
      " |  zfill(self, width, /)\n",
      " |      Pad a numeric string with zeros on the left, to fill a field of the given width.\n",
      " |\n",
      " |      The string is never truncated.\n",
      " |\n",
      " |  ----------------------------------------------------------------------\n",
      " |  Static methods defined here:\n",
      " |\n",
      " |  __new__(*args, **kwargs)\n",
      " |      Create and return a new object.  See help(type) for accurate signature.\n",
      " |\n",
      " |  maketrans(x, y=<unrepresentable>, z=<unrepresentable>, /)\n",
      " |      Return a translation table usable for str.translate().\n",
      " |\n",
      " |      If there is only one argument, it must be a dictionary mapping Unicode\n",
      " |      ordinals (integers) or characters to Unicode ordinals, strings or None.\n",
      " |      Character keys will be then converted to ordinals.\n",
      " |      If there are two arguments, they must be strings of equal length, and\n",
      " |      in the resulting dictionary, each character in x will be mapped to the\n",
      " |      character at the same position in y. If there is a third argument, it\n",
      " |      must be a string, whose characters will be mapped to None in the result.\n",
      "\n"
     ]
    }
   ],
   "source": [
    "help(str)"
   ]
  },
  {
   "cell_type": "markdown",
   "metadata": {},
   "source": [
    "# Data types:\n",
    "- used for allocating memory space and for storing inputs.\n",
    "\n",
    "- data type--->values--->object---class\n",
    "\n",
    "- python object store  unlimited data whose memory space is common for all sort of operating system and python object takes single value , multiple value, hence python is platform independent"
   ]
  },
  {
   "cell_type": "code",
   "execution_count": 32,
   "metadata": {},
   "outputs": [
    {
     "data": {
      "text/plain": [
       "['False',\n",
       " 'None',\n",
       " 'True',\n",
       " 'and',\n",
       " 'as',\n",
       " 'assert',\n",
       " 'async',\n",
       " 'await',\n",
       " 'break',\n",
       " 'class',\n",
       " 'continue',\n",
       " 'def',\n",
       " 'del',\n",
       " 'elif',\n",
       " 'else',\n",
       " 'except',\n",
       " 'finally',\n",
       " 'for',\n",
       " 'from',\n",
       " 'global',\n",
       " 'if',\n",
       " 'import',\n",
       " 'in',\n",
       " 'is',\n",
       " 'lambda',\n",
       " 'nonlocal',\n",
       " 'not',\n",
       " 'or',\n",
       " 'pass',\n",
       " 'raise',\n",
       " 'return',\n",
       " 'try',\n",
       " 'while',\n",
       " 'with',\n",
       " 'yield']"
      ]
     },
     "execution_count": 32,
     "metadata": {},
     "output_type": "execute_result"
    }
   ],
   "source": [
    "import keyword as k\n",
    "k.kwlist"
   ]
  },
  {
   "cell_type": "markdown",
   "metadata": {},
   "source": [
    "# ----Data type----"
   ]
  },
  {
   "cell_type": "code",
   "execution_count": 33,
   "metadata": {},
   "outputs": [
    {
     "data": {
      "text/plain": [
       "'\\nAnd they are classified into six data types\\n\\n1. Fundamental category data types---> [int,float,bool,complex]\\n\\n2. Sequence Category data types ---->[str,byte,bytearray,range]\\n\\n3. List Category data types [Collections data types] --->[list, tuple]\\n\\n4. Set Category data types [Collections data types] --->[set,frozenset]\\n\\n5. Dict Category data types [Collections data types] --->[dict]\\n\\n6. None Category data types --->[none type]\\n\\n'"
      ]
     },
     "execution_count": 33,
     "metadata": {},
     "output_type": "execute_result"
    }
   ],
   "source": [
    "# In Python there are 14 data types\n",
    "\n",
    "\"\"\"\n",
    "And they are classified into six data types\n",
    "\n",
    "1. Fundamental category data types---> [int,float,bool,complex]\n",
    "\n",
    "2. Sequence Category data types ---->[str,byte,bytearray,range]\n",
    "\n",
    "3. List Category data types [Collections data types] --->[list, tuple]\n",
    "\n",
    "4. Set Category data types [Collections data types] --->[set,frozenset]\n",
    "\n",
    "5. Dict Category data types [Collections data types] --->[dict]\n",
    "\n",
    "6. None Category data types --->[none type]\n",
    "\n",
    "\"\"\""
   ]
  },
  {
   "cell_type": "code",
   "execution_count": 34,
   "metadata": {},
   "outputs": [
    {
     "data": {
      "text/plain": [
       "'\\n1. Fundamental category data types\\n\\neg:-\\n    1.int\\n    2.float\\n    3.bool\\n    4.complex\\n\\n---------------------\\n\\n2. Sequence Category data types\\neg:-\\n\\n    1.str\\n    2.bytes\\n    3.bytearray\\n    4.range\\n\\n-----------------------\\n\\n3. List Category data types [Collections data types]\\n\\neg:-\\n\\n    1.list\\n    2.tuple\\n\\n-----------------------\\n\\n4.Set Category data types [Collections data types]\\n\\neg:-\\n\\n    1.set\\n    2.frozenset\\n\\n-----------------------\\n\\n5. Dict Category data types [Collections data types]\\n\\n eg:-\\n\\n    1.dict\\n\\n --------------------\\n\\n 6. None Category data types \\n\\neg:-\\n\\n    1. None types\\n\\n\\n'"
      ]
     },
     "execution_count": 34,
     "metadata": {},
     "output_type": "execute_result"
    }
   ],
   "source": [
    "\"\"\"\n",
    "1. Fundamental category data types\n",
    "\n",
    "eg:-\n",
    "    1.int\n",
    "    2.float\n",
    "    3.bool\n",
    "    4.complex\n",
    "\n",
    "---------------------\n",
    "\n",
    "2. Sequence Category data types\n",
    "eg:-\n",
    "\n",
    "    1.str\n",
    "    2.bytes\n",
    "    3.bytearray\n",
    "    4.range\n",
    "\n",
    "-----------------------\n",
    "\n",
    "3. List Category data types [Collections data types]\n",
    "\n",
    "eg:-\n",
    "\n",
    "    1.list\n",
    "    2.tuple\n",
    "\n",
    "-----------------------\n",
    "\n",
    "4.Set Category data types [Collections data types]\n",
    "\n",
    "eg:-\n",
    "\n",
    "    1.set\n",
    "    2.frozenset\n",
    "\n",
    "-----------------------\n",
    "\n",
    "5. Dict Category data types [Collections data types]\n",
    "\n",
    " eg:-\n",
    "\n",
    "    1.dict\n",
    "\n",
    " --------------------\n",
    "\n",
    " 6. None Category data types \n",
    "\n",
    "eg:-\n",
    "\n",
    "    1. None types\n",
    "\n",
    "\n",
    "\"\"\""
   ]
  },
  {
   "cell_type": "markdown",
   "metadata": {},
   "source": [
    "# 1. Fundamental category data types\n",
    "\n",
    "- purpose of Fundamental category data types is to \" store single value \"\n",
    "\n",
    "eg:-\n",
    "\n",
    "    1.int\n",
    "    2.float\n",
    "    3.bool\n",
    "    4.complex"
   ]
  },
  {
   "cell_type": "markdown",
   "metadata": {},
   "source": [
    "# int\n",
    "\n",
    "- \"int\" is pre-define class and treated as fundamental data type.\n",
    "\n",
    "- to store \"whole number / integer value without decimal places\n",
    "\n",
    "- we have four type of number system\n",
    "\n",
    "1. decimal number system\n",
    "2. binary number system \n",
    "3. octal number system\n",
    "4. hex decimal number system"
   ]
  },
  {
   "cell_type": "markdown",
   "metadata": {},
   "source": [
    "# Float:-\n",
    "\n",
    "- fundamental data types\n",
    "- purpose is to store the real constant values.\n",
    "- int can treated as float but float can't be treated as integer"
   ]
  },
  {
   "cell_type": "code",
   "execution_count": 35,
   "metadata": {},
   "outputs": [
    {
     "name": "stdout",
     "output_type": "stream",
     "text": [
      "3.39999999999999991118215802998747676610946655273438\n"
     ]
    }
   ],
   "source": [
    "a=3.4\n",
    "print(\"%0.50f\" %a)"
   ]
  },
  {
   "cell_type": "code",
   "execution_count": 36,
   "metadata": {},
   "outputs": [
    {
     "name": "stdout",
     "output_type": "stream",
     "text": [
      "175.0 <class 'float'>\n"
     ]
    }
   ],
   "source": [
    "a=50\n",
    "b=3.5\n",
    "c=a*b\n",
    "print(c,type(c))"
   ]
  },
  {
   "cell_type": "code",
   "execution_count": 37,
   "metadata": {},
   "outputs": [
    {
     "name": "stdout",
     "output_type": "stream",
     "text": [
      "5e-25 <class 'float'>\n"
     ]
    }
   ],
   "source": [
    "a=0.0000000000000000000000005\n",
    "print(a,type(a))"
   ]
  },
  {
   "cell_type": "code",
   "execution_count": 38,
   "metadata": {},
   "outputs": [
    {
     "ename": "SyntaxError",
     "evalue": "invalid decimal literal (1467001728.py, line 5)",
     "output_type": "error",
     "traceback": [
      "\u001b[1;36m  Cell \u001b[1;32mIn[38], line 5\u001b[1;36m\u001b[0m\n\u001b[1;33m    a=0b1010.0b1111\u001b[0m\n\u001b[1;37m             ^\u001b[0m\n\u001b[1;31mSyntaxError\u001b[0m\u001b[1;31m:\u001b[0m invalid decimal literal\n"
     ]
    }
   ],
   "source": [
    "#here \"e\" has negative power 25 (25 number of zeros)\n",
    "#this is scientific notation , it also save memory and size\n",
    "#for storing big  floating data\n",
    "\n",
    "a=0b1010.0b1111\n",
    "print(a)\n",
    "\n",
    "# not allowed here "
   ]
  },
  {
   "cell_type": "markdown",
   "metadata": {},
   "source": [
    "# bool\n",
    "\n",
    "\n",
    "- pre defined class treated as fundamental datatype\n",
    "\n",
    "- to store true and false value ie.,(logical values)\n",
    "\n",
    "- \"1\"-->true/yes\n",
    "- \"0\" -->false/no\n"
   ]
  },
  {
   "cell_type": "code",
   "execution_count": null,
   "metadata": {},
   "outputs": [
    {
     "name": "stdout",
     "output_type": "stream",
     "text": [
      "True <class 'bool'>\n",
      "False <class 'bool'>\n"
     ]
    }
   ],
   "source": [
    "a=True\n",
    "b=False\n",
    "print(a,type(a))\n",
    "print(b,type(b))"
   ]
  },
  {
   "cell_type": "code",
   "execution_count": null,
   "metadata": {},
   "outputs": [
    {
     "ename": "NameError",
     "evalue": "name 'true' is not defined",
     "output_type": "error",
     "traceback": [
      "\u001b[1;31m---------------------------------------------------------------------------\u001b[0m",
      "\u001b[1;31mNameError\u001b[0m                                 Traceback (most recent call last)",
      "Cell \u001b[1;32mIn[15], line 1\u001b[0m\n\u001b[1;32m----> 1\u001b[0m a\u001b[38;5;241m=\u001b[39m\u001b[43mtrue\u001b[49m\n\u001b[0;32m      2\u001b[0m \u001b[38;5;28mprint\u001b[39m(a,\u001b[38;5;28mtype\u001b[39m(a))\n\u001b[0;32m      3\u001b[0m \u001b[38;5;66;03m# t==T here T and F are in capitalized\u001b[39;00m\n",
      "\u001b[1;31mNameError\u001b[0m: name 'true' is not defined"
     ]
    }
   ],
   "source": [
    "a=true\n",
    "print(a,type(a))\n",
    "# t==T here T and F are in capitalized"
   ]
  },
  {
   "cell_type": "markdown",
   "metadata": {},
   "source": [
    "# Complex data Types\n",
    "\n",
    "- it is pre defined data types , treated as fundamental data types\n",
    "\n",
    "- to store complex value \n",
    "\n",
    "- perform operation on complex data\n",
    "\n",
    "- notation a+bj or a-bj\n",
    "\n",
    "- a is real part\n",
    "- b is imaginary part\n",
    "- j complex notation\n",
    "\n"
   ]
  },
  {
   "cell_type": "code",
   "execution_count": null,
   "metadata": {},
   "outputs": [
    {
     "data": {
      "text/plain": [
       "1j"
      ]
     },
     "execution_count": 16,
     "metadata": {},
     "output_type": "execute_result"
    }
   ],
   "source": [
    "import cmath\n",
    "cmath.sqrt(-1)"
   ]
  },
  {
   "cell_type": "code",
   "execution_count": null,
   "metadata": {},
   "outputs": [
    {
     "name": "stdout",
     "output_type": "stream",
     "text": [
      "2.0 3.0\n"
     ]
    }
   ],
   "source": [
    "a= 2+3j\n",
    "print(a.real,a.imag)"
   ]
  },
  {
   "cell_type": "code",
   "execution_count": null,
   "metadata": {},
   "outputs": [],
   "source": [
    "\"\"\" \n",
    "whenever you see () this mean function ,\n",
    "another name of function is called \"method\"\n",
    "\n",
    "-inside bracket what you see are called parameter.\n",
    "\n",
    "-another name for parameter is called arguments\n",
    "\"\"\""
   ]
  },
  {
   "cell_type": "markdown",
   "metadata": {},
   "source": [
    "# Sequence category data types :-\n",
    "\n",
    "- the purpose of sequence category data types is \"to store sequence of value\".\n",
    "\n",
    "- there are 4 data type of sequence data types\n",
    "\n",
    "    - 1. str\n",
    "    - 2. bytes\n",
    "    - 3. bytearray\n",
    "    - 4. range"
   ]
  },
  {
   "cell_type": "markdown",
   "metadata": {},
   "source": [
    "- 1. str\n",
    "\n",
    "- it is pre defined class in sequence data type\n",
    "\n",
    "- to store text data\n",
    "\n",
    "eg:- firstName=\"deepak\", placeName=\"koderma\" ,description=\"about your details\"\n",
    "\n",
    "- with str - we can store both char data and string data \n",
    "\n",
    "- you can use single quotes or double quotes both are valid.\n",
    "\n",
    "- single quote and double quote is used to store single line multi data.\n",
    "\n",
    "- to store multiple line information we use triple quote.\n",
    "\n",
    "- internally python uses single quote to store the data to reduce the memory spaces ."
   ]
  },
  {
   "cell_type": "code",
   "execution_count": null,
   "metadata": {},
   "outputs": [
    {
     "name": "stdout",
     "output_type": "stream",
     "text": [
      "pyt#0$^n <class 'str'>\n"
     ]
    }
   ],
   "source": [
    "str1=\"pyt#0$^n\"\n",
    "print(str1,type(str1))"
   ]
  },
  {
   "cell_type": "code",
   "execution_count": null,
   "metadata": {},
   "outputs": [
    {
     "name": "stdout",
     "output_type": "stream",
     "text": [
      "python is developed by rossum <class 'str'>\n"
     ]
    }
   ],
   "source": [
    "str1 = \"python is developed by rossum\"\n",
    "print(str1,type(str1))"
   ]
  },
  {
   "cell_type": "code",
   "execution_count": null,
   "metadata": {},
   "outputs": [],
   "source": [
    "# to store address information of a person\n",
    "\n",
    "add1=\"guido van rossum\""
   ]
  },
  {
   "cell_type": "code",
   "execution_count": null,
   "metadata": {},
   "outputs": [],
   "source": [
    "# single quote and double quote is used to store single line multi data.\n",
    "\n",
    "# to store multi line data --->triple quote"
   ]
  },
  {
   "cell_type": "code",
   "execution_count": null,
   "metadata": {},
   "outputs": [],
   "source": [
    "add2=\"\"\"guido van rossum\n",
    "        f,no 3-4 hillside\n",
    "        python developer\n",
    "        netherland\"\"\""
   ]
  },
  {
   "cell_type": "code",
   "execution_count": null,
   "metadata": {},
   "outputs": [
    {
     "name": "stdout",
     "output_type": "stream",
     "text": [
      "guido van rossum\n",
      "        f,no 3-4 hillside\n",
      "        python developer\n",
      "        netherland <class 'str'>\n"
     ]
    }
   ],
   "source": [
    "print(add2,type(add2))"
   ]
  },
  {
   "cell_type": "code",
   "execution_count": null,
   "metadata": {},
   "outputs": [],
   "source": [
    "#  \"\"\"_________\n",
    "#     ---------\n",
    "#     ------\"\"\"\n",
    "\n",
    "\n",
    "# this is multi line ."
   ]
  },
  {
   "cell_type": "code",
   "execution_count": null,
   "metadata": {},
   "outputs": [
    {
     "name": "stdout",
     "output_type": "stream",
     "text": [
      "python is \n",
      " Developed by Rossum \n",
      " Live in nitherland <class 'str'>\n"
     ]
    }
   ],
   "source": [
    "str1=\"python is \\n Developed by Rossum \\n Live in nitherland\"\n",
    "\n",
    "print(str1,type(str1))"
   ]
  },
  {
   "cell_type": "code",
   "execution_count": null,
   "metadata": {},
   "outputs": [
    {
     "data": {
      "text/plain": [
       "52"
      ]
     },
     "execution_count": 10,
     "metadata": {},
     "output_type": "execute_result"
    }
   ],
   "source": [
    "len(str1)"
   ]
  },
  {
   "cell_type": "code",
   "execution_count": null,
   "metadata": {},
   "outputs": [
    {
     "name": "stdout",
     "output_type": "stream",
     "text": [
      "51\n"
     ]
    }
   ],
   "source": [
    "\"\"\"\n",
    "consider the following str data\n",
    "\n",
    "s=\"python\"\n",
    "\n",
    "left-to- right +ve Index\n",
    "right to left -ve Index\n",
    "\n",
    "\"\"\"\n",
    "print(len(str1)-1)"
   ]
  },
  {
   "cell_type": "markdown",
   "metadata": {},
   "source": [
    "# operation on str data:-\n",
    "\n",
    "- with str data we can perform two type of operations:-\n",
    "\n",
    "   - 1. indexing\n",
    "   - 2. slicing"
   ]
  },
  {
   "cell_type": "code",
   "execution_count": null,
   "metadata": {},
   "outputs": [],
   "source": [
    "#Indexing operations:-\n",
    "\n",
    "s=\"python\"\n",
    "\n",
    "# purpose of indexing is to \" get one value at a time from str object\"\n",
    "\n",
    "# in other words -process of obtaining one value from object is called \"indexing\"\n",
    "\n",
    "# syntax : strObj[indexNumber]\n",
    "\n",
    "# indexNumber can be +ve or -ve \n",
    "\n",
    "# if we enter invalid index then we get indexing error"
   ]
  },
  {
   "cell_type": "code",
   "execution_count": null,
   "metadata": {},
   "outputs": [
    {
     "name": "stdout",
     "output_type": "stream",
     "text": [
      "python <class 'str'> y o\n"
     ]
    }
   ],
   "source": [
    "s=\"python\"\n",
    "print(s,type(s),s[1],s[-2])"
   ]
  },
  {
   "cell_type": "code",
   "execution_count": null,
   "metadata": {},
   "outputs": [
    {
     "data": {
      "text/plain": [
       "'n'"
      ]
     },
     "execution_count": 13,
     "metadata": {},
     "output_type": "execute_result"
    }
   ],
   "source": [
    "# to find the last index.\n",
    "\n",
    "s[len(s)-1]"
   ]
  },
  {
   "cell_type": "code",
   "execution_count": null,
   "metadata": {},
   "outputs": [
    {
     "data": {
      "text/plain": [
       "'p'"
      ]
     },
     "execution_count": 14,
     "metadata": {},
     "output_type": "execute_result"
    }
   ],
   "source": [
    "s[-len(s)]"
   ]
  },
  {
   "cell_type": "code",
   "execution_count": null,
   "metadata": {},
   "outputs": [],
   "source": [
    "# Slicing operation in str\n",
    "\n",
    "# process of obtaining range of char OR values (sub string) from main string is called slicing.\n",
    "\n",
    "# to perform slicing operation , we have 5 types of syntax\n",
    "\n",
    "\"\"\" \n",
    "1. strobj[begin:end]\n",
    "2. strobj[begin:]\n",
    "3. strobj[:end]\n",
    "4. strobj[:]\n",
    "5. strobj[begin:end:step]\n",
    "\n",
    "\n",
    " strobj[begin:end:step]--> this is basic syntax \n",
    "\n",
    "[-6]==p==[0]\n",
    "[-5]==y==[1]\n",
    "[-4]==t==[2]\n",
    "[-3]==h==[3]\n",
    "[-2]==o==[4]\n",
    "[-1]==n==[5]\n",
    "\n",
    "\n",
    "s[0:3]---\"pyt\" \n",
    "\"\"\""
   ]
  },
  {
   "cell_type": "code",
   "execution_count": null,
   "metadata": {},
   "outputs": [
    {
     "data": {
      "text/plain": [
       "'pyt'"
      ]
     },
     "execution_count": 15,
     "metadata": {},
     "output_type": "execute_result"
    }
   ],
   "source": [
    "s=\"python\"\n",
    "s[0:3]"
   ]
  },
  {
   "cell_type": "code",
   "execution_count": null,
   "metadata": {},
   "outputs": [
    {
     "data": {
      "text/plain": [
       "'tho'"
      ]
     },
     "execution_count": 16,
     "metadata": {},
     "output_type": "execute_result"
    }
   ],
   "source": [
    "s[2:5]"
   ]
  },
  {
   "cell_type": "code",
   "execution_count": null,
   "metadata": {},
   "outputs": [
    {
     "data": {
      "text/plain": [
       "'tho'"
      ]
     },
     "execution_count": 17,
     "metadata": {},
     "output_type": "execute_result"
    }
   ],
   "source": [
    "s[-4:-1]"
   ]
  },
  {
   "cell_type": "code",
   "execution_count": null,
   "metadata": {},
   "outputs": [
    {
     "data": {
      "text/plain": [
       "''"
      ]
     },
     "execution_count": 18,
     "metadata": {},
     "output_type": "execute_result"
    }
   ],
   "source": [
    "s[-1:-4]"
   ]
  },
  {
   "cell_type": "code",
   "execution_count": null,
   "metadata": {},
   "outputs": [],
   "source": [
    "# there is reverse in order so empty string"
   ]
  },
  {
   "cell_type": "code",
   "execution_count": null,
   "metadata": {},
   "outputs": [
    {
     "data": {
      "text/plain": [
       "'ytho'"
      ]
     },
     "execution_count": 20,
     "metadata": {},
     "output_type": "execute_result"
    }
   ],
   "source": [
    "s[-5:-1]"
   ]
  },
  {
   "cell_type": "code",
   "execution_count": null,
   "metadata": {},
   "outputs": [],
   "source": [
    "# s[+ve begin:+ve end]\n",
    "# forward direction always\n",
    "# end>begin\n",
    "# in endIndex always -1 to get exact answer"
   ]
  },
  {
   "cell_type": "code",
   "execution_count": null,
   "metadata": {},
   "outputs": [
    {
     "data": {
      "text/plain": [
       "'ytho'"
      ]
     },
     "execution_count": 22,
     "metadata": {},
     "output_type": "execute_result"
    }
   ],
   "source": [
    "s[1:-1]"
   ]
  },
  {
   "cell_type": "code",
   "execution_count": null,
   "metadata": {},
   "outputs": [
    {
     "data": {
      "text/plain": [
       "'ytho'"
      ]
     },
     "execution_count": 23,
     "metadata": {},
     "output_type": "execute_result"
    }
   ],
   "source": [
    "s[1:5]"
   ]
  },
  {
   "cell_type": "code",
   "execution_count": null,
   "metadata": {},
   "outputs": [
    {
     "data": {
      "text/plain": [
       "'python'"
      ]
     },
     "execution_count": 24,
     "metadata": {},
     "output_type": "execute_result"
    }
   ],
   "source": [
    "s[:]"
   ]
  },
  {
   "cell_type": "code",
   "execution_count": null,
   "metadata": {},
   "outputs": [
    {
     "data": {
      "text/plain": [
       "'yth'"
      ]
     },
     "execution_count": 25,
     "metadata": {},
     "output_type": "execute_result"
    }
   ],
   "source": [
    "s[1:-2]"
   ]
  },
  {
   "cell_type": "code",
   "execution_count": null,
   "metadata": {},
   "outputs": [
    {
     "data": {
      "text/plain": [
       "'python'"
      ]
     },
     "execution_count": 27,
     "metadata": {},
     "output_type": "execute_result"
    }
   ],
   "source": [
    "s[::1]"
   ]
  },
  {
   "cell_type": "code",
   "execution_count": null,
   "metadata": {},
   "outputs": [
    {
     "data": {
      "text/plain": [
       "'pto'"
      ]
     },
     "execution_count": 28,
     "metadata": {},
     "output_type": "execute_result"
    }
   ],
   "source": [
    "s[::2]"
   ]
  },
  {
   "cell_type": "code",
   "execution_count": null,
   "metadata": {},
   "outputs": [
    {
     "data": {
      "text/plain": [
       "'pto'"
      ]
     },
     "execution_count": 29,
     "metadata": {},
     "output_type": "execute_result"
    }
   ],
   "source": [
    "s[0:6:2]"
   ]
  },
  {
   "cell_type": "code",
   "execution_count": null,
   "metadata": {},
   "outputs": [
    {
     "data": {
      "text/plain": [
       "'python'"
      ]
     },
     "execution_count": 30,
     "metadata": {},
     "output_type": "execute_result"
    }
   ],
   "source": [
    "s[0:6:1]"
   ]
  },
  {
   "cell_type": "code",
   "execution_count": null,
   "metadata": {},
   "outputs": [
    {
     "data": {
      "text/plain": [
       "'nhy'"
      ]
     },
     "execution_count": 32,
     "metadata": {},
     "output_type": "execute_result"
    }
   ],
   "source": [
    "s[::-2]"
   ]
  },
  {
   "cell_type": "markdown",
   "metadata": {},
   "source": [
    "# bytes data types"
   ]
  },
  {
   "cell_type": "markdown",
   "metadata": {},
   "source": [
    "- bytes data types are pre defined class and treated as sequence data types\n",
    "\n",
    "- the purpose of bytes data type is that \" to implement end-t end encryption\" in network based application.\n",
    "\n",
    "- to implement end-to end encryption in network based application.\n",
    "\n",
    "- bytes data type organize in numerical integer values in range of 0 to 256 ie., it store 0 to 255 values only.\n",
    "\n",
    "- bytes data type does not contain any symbolic notation for storing bytes data because programmer will not store bytes data directly in program , but we can convert any other type value into bytes types()\n",
    "\n",
    "- Syntax:- varname=bytes(object)\n"
   ]
  },
  {
   "cell_type": "code",
   "execution_count": null,
   "metadata": {},
   "outputs": [
    {
     "name": "stdout",
     "output_type": "stream",
     "text": [
      "[100, 200, 10, 0, 256, 45, 67] <class 'list'>\n"
     ]
    },
    {
     "ename": "ValueError",
     "evalue": "bytes must be in range(0, 256)",
     "output_type": "error",
     "traceback": [
      "\u001b[1;31m---------------------------------------------------------------------------\u001b[0m",
      "\u001b[1;31mValueError\u001b[0m                                Traceback (most recent call last)",
      "Cell \u001b[1;32mIn[33], line 4\u001b[0m\n\u001b[0;32m      1\u001b[0m list1\u001b[38;5;241m=\u001b[39m[\u001b[38;5;241m100\u001b[39m,\u001b[38;5;241m200\u001b[39m,\u001b[38;5;241m10\u001b[39m,\u001b[38;5;241m0\u001b[39m,\u001b[38;5;241m256\u001b[39m,\u001b[38;5;241m45\u001b[39m,\u001b[38;5;241m67\u001b[39m]\n\u001b[0;32m      2\u001b[0m \u001b[38;5;28mprint\u001b[39m(list1,\u001b[38;5;28mtype\u001b[39m(list1))\n\u001b[1;32m----> 4\u001b[0m b\u001b[38;5;241m=\u001b[39m\u001b[38;5;28;43mbytes\u001b[39;49m\u001b[43m(\u001b[49m\u001b[43mlist1\u001b[49m\u001b[43m)\u001b[49m\n",
      "\u001b[1;31mValueError\u001b[0m: bytes must be in range(0, 256)"
     ]
    }
   ],
   "source": [
    "list1=[100,200,10,0,256,45,67]\n",
    "print(list1,type(list1))\n",
    "\n",
    "b=bytes(list1)"
   ]
  },
  {
   "cell_type": "code",
   "execution_count": null,
   "metadata": {},
   "outputs": [
    {
     "name": "stdout",
     "output_type": "stream",
     "text": [
      "[100, 200, 10, 0, 255, 45, 67, 120] <class 'list'>\n",
      "b'd\\xc8\\n\\x00\\xff-Cx' <class 'bytes'>\n"
     ]
    }
   ],
   "source": [
    "list1=[100, 200, 10, 0, 255, 45, 67,120]\n",
    "print(list1,type(list1))\n",
    "\n",
    "b=bytes(list1)\n",
    "\n",
    "print(b,type(b))"
   ]
  },
  {
   "cell_type": "code",
   "execution_count": null,
   "metadata": {},
   "outputs": [
    {
     "name": "stdout",
     "output_type": "stream",
     "text": [
      "100 <class 'int'>\n",
      "200 <class 'int'>\n",
      "10 <class 'int'>\n",
      "0 <class 'int'>\n",
      "255 <class 'int'>\n",
      "45 <class 'int'>\n",
      "67 <class 'int'>\n",
      "120 <class 'int'>\n"
     ]
    }
   ],
   "source": [
    "for val in b:\n",
    "    print(val,type(val))"
   ]
  },
  {
   "cell_type": "markdown",
   "metadata": {},
   "source": [
    "# bytearray data type\n",
    "\n",
    "- the functionality of bytearray is \" exactly  similar to bytes , but object of bytes it belongs to immutable objects because bytes objects does not support assignment whereas bytearray belong to mutable because objects of bytearray allows us to perform items assignment."
   ]
  },
  {
   "cell_type": "code",
   "execution_count": null,
   "metadata": {},
   "outputs": [
    {
     "name": "stdout",
     "output_type": "stream",
     "text": [
      "[100, 200, 256, 0, 55, 166]\n"
     ]
    },
    {
     "ename": "ValueError",
     "evalue": "byte must be in range(0, 256)",
     "output_type": "error",
     "traceback": [
      "\u001b[1;31m---------------------------------------------------------------------------\u001b[0m",
      "\u001b[1;31mValueError\u001b[0m                                Traceback (most recent call last)",
      "Cell \u001b[1;32mIn[36], line 3\u001b[0m\n\u001b[0;32m      1\u001b[0m list1\u001b[38;5;241m=\u001b[39m[\u001b[38;5;241m100\u001b[39m,\u001b[38;5;241m200\u001b[39m,\u001b[38;5;241m256\u001b[39m,\u001b[38;5;241m0\u001b[39m,\u001b[38;5;241m55\u001b[39m,\u001b[38;5;241m166\u001b[39m]\n\u001b[0;32m      2\u001b[0m \u001b[38;5;28mprint\u001b[39m(list1)\n\u001b[1;32m----> 3\u001b[0m ba\u001b[38;5;241m=\u001b[39m\u001b[38;5;28;43mbytearray\u001b[39;49m\u001b[43m(\u001b[49m\u001b[43mlist1\u001b[49m\u001b[43m)\u001b[49m\n",
      "\u001b[1;31mValueError\u001b[0m: byte must be in range(0, 256)"
     ]
    }
   ],
   "source": [
    "list1=[100,200,256,0,55,166]\n",
    "print(list1)\n",
    "ba=bytearray(list1)"
   ]
  },
  {
   "cell_type": "code",
   "execution_count": null,
   "metadata": {},
   "outputs": [
    {
     "name": "stdout",
     "output_type": "stream",
     "text": [
      "[100, 200, 254, 0, 55, 166] <class 'list'>\n",
      "bytearray(b'd\\xc8\\xfe\\x007\\xa6') <class 'bytearray'>\n"
     ]
    }
   ],
   "source": [
    "list1=[100,200,254,0,55,166]\n",
    "print(list1,type(list1))\n",
    "ba=bytearray(list1)\n",
    "print(ba,type(ba))"
   ]
  },
  {
   "cell_type": "code",
   "execution_count": null,
   "metadata": {},
   "outputs": [
    {
     "ename": "NameError",
     "evalue": "name 'ba' is not defined",
     "output_type": "error",
     "traceback": [
      "\u001b[1;31m---------------------------------------------------------------------------\u001b[0m",
      "\u001b[1;31mNameError\u001b[0m                                 Traceback (most recent call last)",
      "Cell \u001b[1;32mIn[53], line 2\u001b[0m\n\u001b[0;32m      1\u001b[0m \u001b[38;5;66;03m# to get above encrypted list\u001b[39;00m\n\u001b[1;32m----> 2\u001b[0m \u001b[38;5;28;01mfor\u001b[39;00m val \u001b[38;5;129;01min\u001b[39;00m \u001b[43mba\u001b[49m:\n\u001b[0;32m      3\u001b[0m     \u001b[38;5;28mprint\u001b[39m(val)\n",
      "\u001b[1;31mNameError\u001b[0m: name 'ba' is not defined"
     ]
    }
   ],
   "source": [
    "# to get above encrypted list\n",
    "for val in ba:\n",
    "    print(val)"
   ]
  },
  {
   "cell_type": "markdown",
   "metadata": {},
   "source": [
    "# Immutable\n",
    "\n",
    "- An objects is said to be immutable if it satisfies the the following properties\n",
    "\n",
    "- 1. immutable object can't be changed at the same address (Immutable object values can be changed and modified values placed at different addresses)\n",
    "\n",
    "- Immutable object never allows us to perform item assignment.\n",
    "\n",
    "- eg :-\n",
    "    int ,float , bool , complex , str , bytes, range , tuple, set , frozenset , nonetype"
   ]
  },
  {
   "cell_type": "markdown",
   "metadata": {},
   "source": [
    "# Mutable\n",
    "\n",
    "- A mutable objects is one ,whose content can be changed at the same address time\n",
    "\n",
    "eg:-\n",
    "\n",
    "list,set,dict"
   ]
  },
  {
   "cell_type": "code",
   "execution_count": null,
   "metadata": {},
   "outputs": [
    {
     "name": "stdout",
     "output_type": "stream",
     "text": [
      "10 140718325435096\n",
      "11 140718325435128\n"
     ]
    }
   ],
   "source": [
    "a=10\n",
    "print(a,id(a))\n",
    "a=a+1\n",
    "print(a,id(a))"
   ]
  },
  {
   "cell_type": "code",
   "execution_count": null,
   "metadata": {},
   "outputs": [
    {
     "name": "stdout",
     "output_type": "stream",
     "text": [
      "python 1350486424720 <class 'str'>\n"
     ]
    }
   ],
   "source": [
    "a=\"python\"\n",
    "print(a,id(a),type(a))"
   ]
  },
  {
   "cell_type": "code",
   "execution_count": null,
   "metadata": {},
   "outputs": [
    {
     "name": "stdout",
     "output_type": "stream",
     "text": [
      "python 1350486424720 <class 'str'>\n",
      "pythonprogram 1350588531632 <class 'str'>\n"
     ]
    }
   ],
   "source": [
    "a=\"python\"\n",
    "print(a,id(a),type(a))\n",
    "a=a+\"program\"\n",
    "print(a,id(a),type(a))"
   ]
  },
  {
   "cell_type": "code",
   "execution_count": null,
   "metadata": {},
   "outputs": [
    {
     "data": {
      "text/plain": [
       "'p'"
      ]
     },
     "execution_count": 43,
     "metadata": {},
     "output_type": "execute_result"
    }
   ],
   "source": [
    "a=\"python\"\n",
    "a[0]"
   ]
  },
  {
   "cell_type": "code",
   "execution_count": null,
   "metadata": {},
   "outputs": [
    {
     "data": {
      "text/plain": [
       "False"
      ]
     },
     "execution_count": 44,
     "metadata": {},
     "output_type": "execute_result"
    }
   ],
   "source": [
    "a[0]==\"j\""
   ]
  },
  {
   "cell_type": "code",
   "execution_count": null,
   "metadata": {},
   "outputs": [
    {
     "ename": "TypeError",
     "evalue": "'str' object does not support item assignment",
     "output_type": "error",
     "traceback": [
      "\u001b[1;31m---------------------------------------------------------------------------\u001b[0m",
      "\u001b[1;31mTypeError\u001b[0m                                 Traceback (most recent call last)",
      "Cell \u001b[1;32mIn[45], line 1\u001b[0m\n\u001b[1;32m----> 1\u001b[0m \u001b[43ma\u001b[49m\u001b[43m[\u001b[49m\u001b[38;5;241;43m0\u001b[39;49m\u001b[43m]\u001b[49m\u001b[38;5;241m=\u001b[39m\u001b[38;5;124m\"\u001b[39m\u001b[38;5;124mj\u001b[39m\u001b[38;5;124m\"\u001b[39m\n\u001b[0;32m      2\u001b[0m \u001b[38;5;28mprint\u001b[39m(a,\u001b[38;5;28mid\u001b[39m(a),\u001b[38;5;28mtype\u001b[39m(a))\n",
      "\u001b[1;31mTypeError\u001b[0m: 'str' object does not support item assignment"
     ]
    }
   ],
   "source": [
    "a[0]=\"j\"\n",
    "print(a,id(a),type(a))"
   ]
  },
  {
   "cell_type": "markdown",
   "metadata": {},
   "source": [
    "# Range\n",
    "\n",
    "- range is pre defined class and treated as sequence category data type.\n",
    "\n",
    "- the purpose of range data type is to \" maintain sequence of integer values by maintaining equal interval of steps\"\n",
    "\n",
    "- an object of range , we can perform both indexing and slicing operations\n",
    "\n",
    "- an object of range belongs to immutable because range object does not support item assignment.\n",
    "\n",
    "- an object of range maintain insertion order.\n",
    "\n",
    "- to create an object of range for storing range  OR sequence of values , we use 3 pre defined function they are :-\n",
    "\n",
    "\n",
    "        - syntax1: range(value)\n",
    "\n",
    "        - syntax2: range(begin, end)\n",
    "\n",
    "        - syntax3: range(begin,end,step)\n"
   ]
  },
  {
   "cell_type": "markdown",
   "metadata": {},
   "source": [
    "- syntax1: range(value)\n",
    " \n",
    " this values generate range of values from 0 to value-1"
   ]
  },
  {
   "cell_type": "code",
   "execution_count": null,
   "metadata": {},
   "outputs": [
    {
     "name": "stdout",
     "output_type": "stream",
     "text": [
      "range(0, 6)\n"
     ]
    }
   ],
   "source": [
    "r=range(0,6)\n",
    "print(r)"
   ]
  },
  {
   "cell_type": "code",
   "execution_count": null,
   "metadata": {},
   "outputs": [
    {
     "name": "stdout",
     "output_type": "stream",
     "text": [
      "0\n",
      "1\n",
      "2\n",
      "3\n",
      "4\n",
      "5\n"
     ]
    }
   ],
   "source": [
    "for val in r:\n",
    "    print(val)"
   ]
  },
  {
   "cell_type": "code",
   "execution_count": null,
   "metadata": {},
   "outputs": [
    {
     "name": "stdout",
     "output_type": "stream",
     "text": [
      "0\n",
      "1\n",
      "2\n",
      "3\n",
      "4\n",
      "5\n"
     ]
    }
   ],
   "source": [
    "# directly using range\n",
    "for val in range(6):\n",
    "    print(val)"
   ]
  },
  {
   "cell_type": "code",
   "execution_count": null,
   "metadata": {},
   "outputs": [],
   "source": [
    "# syntax2: range(begin, end)\n",
    "\n",
    "# this syntax generate range of values from start to stop-1"
   ]
  },
  {
   "cell_type": "code",
   "execution_count": null,
   "metadata": {},
   "outputs": [
    {
     "name": "stdout",
     "output_type": "stream",
     "text": [
      "10\n",
      "11\n",
      "12\n",
      "13\n",
      "14\n",
      "15\n",
      "16\n",
      "17\n",
      "18\n",
      "19\n"
     ]
    }
   ],
   "source": [
    "for val in range(10,20):\n",
    "    print(val)"
   ]
  },
  {
   "cell_type": "code",
   "execution_count": null,
   "metadata": {},
   "outputs": [
    {
     "data": {
      "text/plain": [
       "'THE above syntax uses default step +1 '"
      ]
     },
     "execution_count": 51,
     "metadata": {},
     "output_type": "execute_result"
    }
   ],
   "source": [
    "# NOTE \n",
    "\"\"\"THE above syntax uses default step +1 \"\"\""
   ]
  },
  {
   "cell_type": "code",
   "execution_count": null,
   "metadata": {},
   "outputs": [
    {
     "name": "stdout",
     "output_type": "stream",
     "text": [
      "10\n",
      "12\n",
      "14\n",
      "16\n",
      "18\n",
      "20\n"
     ]
    }
   ],
   "source": [
    "# syntax range(start,stop,step):\n",
    "\n",
    "for val in range(10,21,2):\n",
    "    print(val)"
   ]
  },
  {
   "cell_type": "code",
   "execution_count": null,
   "metadata": {},
   "outputs": [
    {
     "name": "stdout",
     "output_type": "stream",
     "text": [
      "1000\n",
      "1010\n",
      "1020\n"
     ]
    }
   ],
   "source": [
    "r=range(1000,1030,10)\n",
    "for v in r:\n",
    "    print(v)"
   ]
  },
  {
   "cell_type": "code",
   "execution_count": null,
   "metadata": {},
   "outputs": [
    {
     "name": "stdout",
     "output_type": "stream",
     "text": [
      "the given number 30 is even\n",
      "the given number 10 is even\n",
      "the given number 18 is even\n",
      "the given number 19 is odd\n",
      "the given number 17 is odd\n"
     ]
    }
   ],
   "source": [
    "import random \n",
    "for i in range(5):\n",
    "    num=random.randint(10,31)\n",
    "    if num%2==0:\n",
    "        print(\"the given number {} is even\".format(num))\n",
    "    else:\n",
    "        print(\"the given number {} is odd\".format(num))"
   ]
  },
  {
   "cell_type": "markdown",
   "metadata": {},
   "source": [
    "- Fundamental data types - used to store single value.\n",
    "\n",
    "- Sequence Data Types - used to store sequence of values.\n",
    "\n",
    "- now my requirement is \n",
    "i want to store 100,10,120,1000,-420,3000,12.34\n",
    "\n",
    "- numerical values ---duplicate and unique values .\n",
    "\n",
    "- now my requirement is 10,\"rossum\",4.13,True\n",
    "\n",
    "- therefore to store this kind of data we require list data types.\n",
    "\n",
    "- eg: eno,ename,sal,dsg,city\n"
   ]
  },
  {
   "cell_type": "code",
   "execution_count": null,
   "metadata": {},
   "outputs": [
    {
     "data": {
      "text/plain": [
       "'\\n- purpose of list\\n- create an object of list \\n- type of list\\n- memory management of list \\n- operation on list \\n- pre defined function in list \\n- inner list or nested list \\n- programming example\\n'"
      ]
     },
     "execution_count": 58,
     "metadata": {},
     "output_type": "execute_result"
    }
   ],
   "source": [
    "# new data types\n",
    "# what we learn\n",
    "\"\"\"\n",
    "- purpose of list\n",
    "- create an object of list \n",
    "- type of list\n",
    "- memory management of list \n",
    "- operation on list \n",
    "- pre defined function in list \n",
    "- inner list or nested list \n",
    "- programming example\n",
    "\"\"\""
   ]
  },
  {
   "cell_type": "markdown",
   "metadata": {},
   "source": [
    "# List category data types (collection data types)\n",
    "\n",
    "- the purpose of list data types is to \" store multiple values either of same types or different types in single object with unique and duplicate values.\n",
    "\n",
    "- we have 2 data types in List category , they are \n",
    "\n",
    "    1. List [mutable]\n",
    "    2. tuple(immutable)"
   ]
  },
  {
   "cell_type": "markdown",
   "metadata": {},
   "source": [
    "# list--[]\n",
    "\n",
    "- Property of list:-\n",
    "\n",
    "   - list is a pre defined class and treated as list category data types.\n",
    "\n",
    "   - the purpose of list category is to \"store multiple values either of same type or different type or both the types in single object with unique and duplicates\"\n",
    "\n",
    "- Notation of list.\n",
    "\n",
    "    - to store list data we use \"square brackets [], and values are separated by commas.\n",
    "\n",
    "    - syntax: varname=[val1,val2,...]\n",
    "\n",
    "- object of list maintained insertion order.\n",
    "\n",
    "- on object of list we can perform indexing and slicing operation.\n",
    "\n",
    "\n",
    "\n"
   ]
  },
  {
   "cell_type": "code",
   "execution_count": 1,
   "metadata": {},
   "outputs": [
    {
     "name": "stdout",
     "output_type": "stream",
     "text": [
      "['RS', True, 780, (2+3j)] <class 'list'> 2204828271360\n"
     ]
    }
   ],
   "source": [
    "list1=[\"RS\",True,780,2+3j]\n",
    "print(list1,type(list1),id(list1))"
   ]
  },
  {
   "cell_type": "code",
   "execution_count": null,
   "metadata": {},
   "outputs": [
    {
     "data": {
      "text/plain": [
       "['RS', 780]"
      ]
     },
     "execution_count": 60,
     "metadata": {},
     "output_type": "execute_result"
    }
   ],
   "source": [
    "list1[::2]"
   ]
  },
  {
   "cell_type": "code",
   "execution_count": 2,
   "metadata": {},
   "outputs": [
    {
     "name": "stdout",
     "output_type": "stream",
     "text": [
      "['guido van rossum', True, 780, (2+3j)] <class 'list'> 2204828271360\n"
     ]
    }
   ],
   "source": [
    "# changing the value at 0 index\n",
    "list1[0]=\"guido van rossum\"\n",
    "print(list1,type(list1),id(list1))"
   ]
  },
  {
   "cell_type": "code",
   "execution_count": null,
   "metadata": {},
   "outputs": [],
   "source": [
    "# list object belongs to mutable because it allow modification, updation,assignment by slicing and indexing."
   ]
  },
  {
   "cell_type": "code",
   "execution_count": null,
   "metadata": {},
   "outputs": [
    {
     "name": "stdout",
     "output_type": "stream",
     "text": [
      "[]\n"
     ]
    }
   ],
   "source": [
    "# how to create an empty list\n",
    "list1=[]\n",
    "print(list1)"
   ]
  },
  {
   "cell_type": "code",
   "execution_count": null,
   "metadata": {},
   "outputs": [],
   "source": [
    "# or list1=list()\n",
    "# this will create empty list"
   ]
  },
  {
   "cell_type": "code",
   "execution_count": null,
   "metadata": {},
   "outputs": [
    {
     "name": "stdout",
     "output_type": "stream",
     "text": [
      "[]\n"
     ]
    }
   ],
   "source": [
    "# to empty the list\n",
    "lst=[1,3,5]\n",
    "lst=list()\n",
    "print(lst)"
   ]
  },
  {
   "cell_type": "code",
   "execution_count": null,
   "metadata": {},
   "outputs": [
    {
     "name": "stdout",
     "output_type": "stream",
     "text": [
      "mississippi <class 'str'>\n",
      "['m', 'i', 's', 's', 'i', 's', 's', 'i', 'p', 'p', 'i'] <class 'list'>\n"
     ]
    }
   ],
   "source": [
    "s=\"mississippi\"\n",
    "list1=list(s)\n",
    "print(s,type(s))\n",
    "print(list1,type(list1))"
   ]
  },
  {
   "cell_type": "code",
   "execution_count": null,
   "metadata": {},
   "outputs": [],
   "source": [
    "# all fundamental values are not possible to convert list because they are all non iterable.\n"
   ]
  },
  {
   "cell_type": "code",
   "execution_count": null,
   "metadata": {},
   "outputs": [
    {
     "ename": "TypeError",
     "evalue": "'int' object is not iterable",
     "output_type": "error",
     "traceback": [
      "\u001b[1;31m---------------------------------------------------------------------------\u001b[0m",
      "\u001b[1;31mTypeError\u001b[0m                                 Traceback (most recent call last)",
      "Cell \u001b[1;32mIn[76], line 3\u001b[0m\n\u001b[0;32m      1\u001b[0m list1\u001b[38;5;241m=\u001b[39m[\u001b[38;5;124m\"\u001b[39m\u001b[38;5;124mRS\u001b[39m\u001b[38;5;124m\"\u001b[39m,\u001b[38;5;28;01mTrue\u001b[39;00m,\u001b[38;5;241m780\u001b[39m,\u001b[38;5;241m2\u001b[39m\u001b[38;5;241m+\u001b[39m\u001b[38;5;241m3\u001b[39mj]\n\u001b[0;32m      2\u001b[0m a\u001b[38;5;241m=\u001b[39m\u001b[38;5;241m10\u001b[39m\n\u001b[1;32m----> 3\u001b[0m list1\u001b[38;5;241m=\u001b[39m\u001b[38;5;28;43mlist\u001b[39;49m\u001b[43m(\u001b[49m\u001b[43ma\u001b[49m\u001b[43m)\u001b[49m\n",
      "\u001b[1;31mTypeError\u001b[0m: 'int' object is not iterable"
     ]
    }
   ],
   "source": [
    "list1=[\"RS\",True,780,2+3j]\n",
    "a=10\n",
    "list1=list(a)"
   ]
  },
  {
   "cell_type": "code",
   "execution_count": null,
   "metadata": {},
   "outputs": [
    {
     "ename": "TypeError",
     "evalue": "'float' object is not iterable",
     "output_type": "error",
     "traceback": [
      "\u001b[1;31m---------------------------------------------------------------------------\u001b[0m",
      "\u001b[1;31mTypeError\u001b[0m                                 Traceback (most recent call last)",
      "Cell \u001b[1;32mIn[77], line 1\u001b[0m\n\u001b[1;32m----> 1\u001b[0m list1\u001b[38;5;241m=\u001b[39m\u001b[38;5;28;43mlist\u001b[39;49m\u001b[43m(\u001b[49m\u001b[38;5;241;43m1.2\u001b[39;49m\u001b[43m)\u001b[49m\n",
      "\u001b[1;31mTypeError\u001b[0m: 'float' object is not iterable"
     ]
    }
   ],
   "source": [
    "list1=list(1.2)"
   ]
  },
  {
   "cell_type": "code",
   "execution_count": null,
   "metadata": {},
   "outputs": [
    {
     "ename": "TypeError",
     "evalue": "'bool' object is not iterable",
     "output_type": "error",
     "traceback": [
      "\u001b[1;31m---------------------------------------------------------------------------\u001b[0m",
      "\u001b[1;31mTypeError\u001b[0m                                 Traceback (most recent call last)",
      "Cell \u001b[1;32mIn[78], line 1\u001b[0m\n\u001b[1;32m----> 1\u001b[0m list1\u001b[38;5;241m=\u001b[39m\u001b[38;5;28;43mlist\u001b[39;49m\u001b[43m(\u001b[49m\u001b[38;5;28;43;01mTrue\u001b[39;49;00m\u001b[43m)\u001b[49m\n",
      "\u001b[1;31mTypeError\u001b[0m: 'bool' object is not iterable"
     ]
    }
   ],
   "source": [
    "list1=list(True)"
   ]
  },
  {
   "cell_type": "code",
   "execution_count": null,
   "metadata": {},
   "outputs": [
    {
     "ename": "TypeError",
     "evalue": "'complex' object is not iterable",
     "output_type": "error",
     "traceback": [
      "\u001b[1;31m---------------------------------------------------------------------------\u001b[0m",
      "\u001b[1;31mTypeError\u001b[0m                                 Traceback (most recent call last)",
      "Cell \u001b[1;32mIn[79], line 1\u001b[0m\n\u001b[1;32m----> 1\u001b[0m list1\u001b[38;5;241m=\u001b[39m\u001b[38;5;28;43mlist\u001b[39;49m\u001b[43m(\u001b[49m\u001b[38;5;241;43m1\u001b[39;49m\u001b[38;5;241;43m+\u001b[39;49m\u001b[38;5;241;43m3\u001b[39;49m\u001b[43mj\u001b[49m\u001b[43m)\u001b[49m\n",
      "\u001b[1;31mTypeError\u001b[0m: 'complex' object is not iterable"
     ]
    }
   ],
   "source": [
    "list1=list(1+3j)"
   ]
  },
  {
   "cell_type": "code",
   "execution_count": null,
   "metadata": {},
   "outputs": [
    {
     "name": "stdout",
     "output_type": "stream",
     "text": [
      "[1, 2, 3]\n"
     ]
    }
   ],
   "source": [
    "list1=list([1,2,3])\n",
    "print(list1)"
   ]
  },
  {
   "cell_type": "markdown",
   "metadata": {},
   "source": [
    "- we know that on the object of list , we can perform both indexing and slicing operation .\n",
    "\n",
    "- with indexing we get , access single value and we can update single value of list object \n",
    "\n",
    "- with slicing operation we get / access multiple values and we can update multiple values of list object.\n",
    "\n",
    "- hence with index and slicing operation on list we can access ad update value(s)\n"
   ]
  },
  {
   "cell_type": "code",
   "execution_count": null,
   "metadata": {},
   "outputs": [
    {
     "name": "stdout",
     "output_type": "stream",
     "text": [
      "[10, 'rs'] 1350589097792\n"
     ]
    }
   ],
   "source": [
    "lst=[10,\"rs\"]\n",
    "print(lst,id(lst))"
   ]
  },
  {
   "cell_type": "code",
   "execution_count": null,
   "metadata": {},
   "outputs": [],
   "source": [
    "# append()\n",
    "\n",
    "# append() function is used to add element / values at the end of list\n",
    "\n",
    "# Syntax: listobj.append(value)"
   ]
  },
  {
   "cell_type": "code",
   "execution_count": null,
   "metadata": {},
   "outputs": [
    {
     "name": "stdout",
     "output_type": "stream",
     "text": [
      "[10, 'rs', 'deepak'] 2557709535552\n"
     ]
    }
   ],
   "source": [
    "lst=[10,\"rs\"]\n",
    "lst.append(\"deepak\")\n",
    "print(lst,id(lst))"
   ]
  },
  {
   "cell_type": "code",
   "execution_count": null,
   "metadata": {},
   "outputs": [
    {
     "name": "stdout",
     "output_type": "stream",
     "text": [
      "[10, 'rs', 'python', 34.34]\n"
     ]
    }
   ],
   "source": [
    "# insert()\n",
    "\n",
    "lst = [10,\"rs\",34.34]\n",
    "lst.insert(2,\"python\")\n",
    "print(lst)"
   ]
  },
  {
   "cell_type": "code",
   "execution_count": null,
   "metadata": {},
   "outputs": [
    {
     "name": "stdout",
     "output_type": "stream",
     "text": [
      "['Rossum', 10, 'rs', 'python', 34.34]\n"
     ]
    }
   ],
   "source": [
    "lst.insert(0,\"Rossum\")\n",
    "print(lst)"
   ]
  },
  {
   "cell_type": "code",
   "execution_count": null,
   "metadata": {},
   "outputs": [],
   "source": [
    "# therefore list is ,mutable"
   ]
  },
  {
   "cell_type": "code",
   "execution_count": null,
   "metadata": {},
   "outputs": [
    {
     "name": "stdout",
     "output_type": "stream",
     "text": [
      "['Rossum', 10, 'rs', 'python', 'deepak', 34.34]\n"
     ]
    }
   ],
   "source": [
    "lst.insert(-1,\"deepak\")\n",
    "print(lst)"
   ]
  },
  {
   "cell_type": "code",
   "execution_count": null,
   "metadata": {},
   "outputs": [
    {
     "name": "stdout",
     "output_type": "stream",
     "text": [
      "['Rossum', 10, 'rs', 'python', 'deepak', 34.34, 200]\n"
     ]
    }
   ],
   "source": [
    "lst.insert(100,200)\n",
    "print(lst)"
   ]
  },
  {
   "cell_type": "code",
   "execution_count": null,
   "metadata": {},
   "outputs": [],
   "source": [
    "# here 100 is index number and 200 is place value"
   ]
  },
  {
   "cell_type": "code",
   "execution_count": null,
   "metadata": {},
   "outputs": [
    {
     "name": "stdout",
     "output_type": "stream",
     "text": [
      "[200, 'Rossum', 10, 'rs', 'python', 'deepak', 34.34, 200]\n"
     ]
    }
   ],
   "source": [
    "lst.insert(-100,200)\n",
    "print(lst)"
   ]
  },
  {
   "cell_type": "code",
   "execution_count": null,
   "metadata": {},
   "outputs": [],
   "source": [
    "# insert()\n",
    "\n",
    "# this function is used for inserting an element in existing list at specified index.\n",
    "\n",
    "# here index can be +ve or -ve \n",
    "\n",
    "# if we specify invalid +ve index the value will be inserted in last element in list.\n",
    "\n",
    "# if we specify invalid -ve index the value will be inserted in first element in list\n"
   ]
  },
  {
   "cell_type": "markdown",
   "metadata": {},
   "source": [
    "# remove"
   ]
  },
  {
   "cell_type": "code",
   "execution_count": null,
   "metadata": {},
   "outputs": [
    {
     "ename": "ValueError",
     "evalue": "list.remove(x): x not in list",
     "output_type": "error",
     "traceback": [
      "\u001b[1;31m---------------------------------------------------------------------------\u001b[0m",
      "\u001b[1;31mValueError\u001b[0m                                Traceback (most recent call last)",
      "Cell \u001b[1;32mIn[11], line 1\u001b[0m\n\u001b[1;32m----> 1\u001b[0m \u001b[43mlst\u001b[49m\u001b[38;5;241;43m.\u001b[39;49m\u001b[43mremove\u001b[49m\u001b[43m(\u001b[49m\u001b[38;5;124;43m\"\u001b[39;49m\u001b[38;5;124;43mhyd\u001b[39;49m\u001b[38;5;124;43m\"\u001b[39;49m\u001b[43m)\u001b[49m\n",
      "\u001b[1;31mValueError\u001b[0m: list.remove(x): x not in list"
     ]
    }
   ],
   "source": [
    "lst.remove(\"hyd\")"
   ]
  },
  {
   "cell_type": "code",
   "execution_count": null,
   "metadata": {},
   "outputs": [],
   "source": [
    "# if value does not exist in list and we try to remove it we will get value error."
   ]
  },
  {
   "cell_type": "code",
   "execution_count": null,
   "metadata": {},
   "outputs": [
    {
     "name": "stdout",
     "output_type": "stream",
     "text": [
      "[20, 10, 30, 40, 20, 200]\n"
     ]
    }
   ],
   "source": [
    "lst=[10,20,10,30,40,20]\n",
    "lst.remove(10)\n",
    "lst.insert(100,200)\n",
    "print(lst)"
   ]
  },
  {
   "cell_type": "code",
   "execution_count": null,
   "metadata": {},
   "outputs": [],
   "source": [
    "# it will remove the first occurrence of single element only."
   ]
  },
  {
   "cell_type": "code",
   "execution_count": null,
   "metadata": {},
   "outputs": [
    {
     "ename": "ValueError",
     "evalue": "list.remove(x): x not in list",
     "output_type": "error",
     "traceback": [
      "\u001b[1;31m---------------------------------------------------------------------------\u001b[0m",
      "\u001b[1;31mValueError\u001b[0m                                Traceback (most recent call last)",
      "Cell \u001b[1;32mIn[15], line 1\u001b[0m\n\u001b[1;32m----> 1\u001b[0m \u001b[43m[\u001b[49m\u001b[43m]\u001b[49m\u001b[38;5;241;43m.\u001b[39;49m\u001b[43mremove\u001b[49m\u001b[43m(\u001b[49m\u001b[38;5;241;43m100\u001b[39;49m\u001b[43m)\u001b[49m\n",
      "\u001b[1;31mValueError\u001b[0m: list.remove(x): x not in list"
     ]
    }
   ],
   "source": [
    "[].remove(100)"
   ]
  },
  {
   "cell_type": "code",
   "execution_count": null,
   "metadata": {},
   "outputs": [],
   "source": [
    "# no data is present "
   ]
  },
  {
   "cell_type": "markdown",
   "metadata": {},
   "source": [
    "# popindex"
   ]
  },
  {
   "cell_type": "code",
   "execution_count": null,
   "metadata": {},
   "outputs": [
    {
     "name": "stdout",
     "output_type": "stream",
     "text": [
      "[20, 30, 40, 50, 60, 70, 80, 90, 100]\n"
     ]
    }
   ],
   "source": [
    "lst=[10,20,30,40,50,60,70,80,90,100]\n",
    "lst.pop(0)\n",
    "print(lst)"
   ]
  },
  {
   "cell_type": "code",
   "execution_count": null,
   "metadata": {},
   "outputs": [],
   "source": [
    "# zero index has been removed\n",
    "\n",
    "# by default pop elements remove last element [-1]"
   ]
  },
  {
   "cell_type": "code",
   "execution_count": null,
   "metadata": {},
   "outputs": [
    {
     "name": "stdout",
     "output_type": "stream",
     "text": [
      "[20, 30, 40, 50, 70, 80, 90, 100]\n"
     ]
    }
   ],
   "source": [
    "lst.pop(4)\n",
    "print(lst)"
   ]
  },
  {
   "cell_type": "code",
   "execution_count": null,
   "metadata": {},
   "outputs": [
    {
     "ename": "IndexError",
     "evalue": "pop index out of range",
     "output_type": "error",
     "traceback": [
      "\u001b[1;31m---------------------------------------------------------------------------\u001b[0m",
      "\u001b[1;31mIndexError\u001b[0m                                Traceback (most recent call last)",
      "Cell \u001b[1;32mIn[20], line 1\u001b[0m\n\u001b[1;32m----> 1\u001b[0m \u001b[43mlst\u001b[49m\u001b[38;5;241;43m.\u001b[39;49m\u001b[43mpop\u001b[49m\u001b[43m(\u001b[49m\u001b[38;5;241;43m10\u001b[39;49m\u001b[43m)\u001b[49m\n\u001b[0;32m      2\u001b[0m \u001b[38;5;28mprint\u001b[39m(lst)\n",
      "\u001b[1;31mIndexError\u001b[0m: pop index out of range"
     ]
    }
   ],
   "source": [
    "lst.pop(10)\n",
    "print(lst)"
   ]
  },
  {
   "cell_type": "code",
   "execution_count": null,
   "metadata": {},
   "outputs": [],
   "source": [
    "# Syntax:-\n",
    "\n",
    "# listobj.pop(index)\n",
    "\n",
    "# this function is used for removing elements from the list based on the index\n",
    "\n",
    "# here index can be +ve and -ve\n",
    "\n",
    "# if we provide invalid index then we get IndexError"
   ]
  },
  {
   "cell_type": "code",
   "execution_count": null,
   "metadata": {},
   "outputs": [
    {
     "ename": "IndexError",
     "evalue": "pop from empty list",
     "output_type": "error",
     "traceback": [
      "\u001b[1;31m---------------------------------------------------------------------------\u001b[0m",
      "\u001b[1;31mIndexError\u001b[0m                                Traceback (most recent call last)",
      "Cell \u001b[1;32mIn[22], line 1\u001b[0m\n\u001b[1;32m----> 1\u001b[0m \u001b[43m[\u001b[49m\u001b[43m]\u001b[49m\u001b[38;5;241;43m.\u001b[39;49m\u001b[43mpop\u001b[49m\u001b[43m(\u001b[49m\u001b[38;5;241;43m0\u001b[39;49m\u001b[43m)\u001b[49m\n",
      "\u001b[1;31mIndexError\u001b[0m: pop from empty list"
     ]
    }
   ],
   "source": [
    "[].pop(0)"
   ]
  },
  {
   "cell_type": "markdown",
   "metadata": {},
   "source": [
    "# del operator\n",
    "\n",
    "- syntax:-\n",
    "    del listobj[index] ----remove one element from list based on indexing\n",
    "\n",
    "- syntax:-\n",
    "    del listobj[beginIndex:endIndex:step] ----remove one element based on slicing\n",
    "\n",
    "- syntax:-\n",
    "    del listobj ---remove all elements from list and list object also"
   ]
  },
  {
   "cell_type": "code",
   "execution_count": null,
   "metadata": {},
   "outputs": [
    {
     "ename": "NameError",
     "evalue": "name 'lst' is not defined",
     "output_type": "error",
     "traceback": [
      "\u001b[1;31m---------------------------------------------------------------------------\u001b[0m",
      "\u001b[1;31mNameError\u001b[0m                                 Traceback (most recent call last)",
      "Cell \u001b[1;32mIn[24], line 3\u001b[0m\n\u001b[0;32m      1\u001b[0m lst\u001b[38;5;241m=\u001b[39m[\u001b[38;5;241m10\u001b[39m,\u001b[38;5;241m20\u001b[39m,\u001b[38;5;241m30\u001b[39m,\u001b[38;5;241m40\u001b[39m,\u001b[38;5;241m50\u001b[39m]\n\u001b[0;32m      2\u001b[0m \u001b[38;5;28;01mdel\u001b[39;00m lst\n\u001b[1;32m----> 3\u001b[0m \u001b[38;5;28mprint\u001b[39m(\u001b[43mlst\u001b[49m)\n",
      "\u001b[1;31mNameError\u001b[0m: name 'lst' is not defined"
     ]
    }
   ],
   "source": [
    "lst=[10,20,30,40,50]\n",
    "del lst\n",
    "print(lst)"
   ]
  },
  {
   "cell_type": "code",
   "execution_count": null,
   "metadata": {},
   "outputs": [
    {
     "name": "stdout",
     "output_type": "stream",
     "text": [
      "[]\n"
     ]
    }
   ],
   "source": [
    "lst=[10,20,30,40,50]\n",
    "del lst[::]\n",
    "print(lst)"
   ]
  },
  {
   "cell_type": "code",
   "execution_count": null,
   "metadata": {},
   "outputs": [
    {
     "name": "stdout",
     "output_type": "stream",
     "text": [
      "[]\n"
     ]
    },
    {
     "data": {
      "text/plain": [
       "0"
      ]
     },
     "execution_count": 27,
     "metadata": {},
     "output_type": "execute_result"
    }
   ],
   "source": [
    "lst=[10,20,30,40,50]\n",
    "lst.clear()\n",
    "print(lst)\n",
    "len(lst)"
   ]
  },
  {
   "cell_type": "code",
   "execution_count": null,
   "metadata": {},
   "outputs": [],
   "source": [
    "[].clear()"
   ]
  },
  {
   "cell_type": "code",
   "execution_count": null,
   "metadata": {},
   "outputs": [],
   "source": [
    "# here output is none "
   ]
  },
  {
   "cell_type": "code",
   "execution_count": null,
   "metadata": {},
   "outputs": [],
   "source": [
    "# clear()\n",
    "# this function  is used to remove all element from list object\n",
    "# if we call this function upon empty list object then we get space on none result\n",
    "\n",
    "# how to remove duplicate in list\n",
    "\n",
    "# convert this it into  set "
   ]
  },
  {
   "cell_type": "code",
   "execution_count": null,
   "metadata": {},
   "outputs": [
    {
     "name": "stdout",
     "output_type": "stream",
     "text": [
      "[10, 20, 20, 30, 40, 40, 10, 50, 20, 60, 60, 70]\n",
      "{70, 40, 10, 50, 20, 60, 30}\n"
     ]
    }
   ],
   "source": [
    "lst=[10,20,20,30,40,40,10,50,20,60,60,70]\n",
    "print(lst)\n",
    "s=set(lst)\n",
    "print(s)"
   ]
  },
  {
   "cell_type": "code",
   "execution_count": null,
   "metadata": {},
   "outputs": [],
   "source": [
    "# here all element are unique ."
   ]
  },
  {
   "cell_type": "markdown",
   "metadata": {},
   "source": [
    "# index()"
   ]
  },
  {
   "cell_type": "code",
   "execution_count": null,
   "metadata": {},
   "outputs": [
    {
     "name": "stdout",
     "output_type": "stream",
     "text": [
      "[10, 20, 30, 10, 50, 60, 10, 20]\n"
     ]
    }
   ],
   "source": [
    "lst=[10,20,30,10,50,60,10,20]\n",
    "print(lst)"
   ]
  },
  {
   "cell_type": "markdown",
   "metadata": {},
   "source": [
    "# enumerate\n",
    "\n",
    "- enumerate is to find the exact number with index number\n",
    "\n",
    "    - i = index\n",
    "    - v = value"
   ]
  },
  {
   "cell_type": "code",
   "execution_count": null,
   "metadata": {},
   "outputs": [
    {
     "name": "stdout",
     "output_type": "stream",
     "text": [
      "[10, 20, 30, 10, 50, 60, 10] <class 'list'>\n",
      "0 ---> 10\n",
      "1 ---> 20\n",
      "2 ---> 30\n",
      "3 ---> 10\n",
      "4 ---> 50\n",
      "5 ---> 60\n",
      "6 ---> 10\n"
     ]
    }
   ],
   "source": [
    "lst=[10,20,30,10,50,60,10]\n",
    "print(lst,type(lst))\n",
    "\n",
    "for i,v in enumerate(lst):\n",
    "    print(i,\"--->\",v)"
   ]
  },
  {
   "cell_type": "code",
   "execution_count": null,
   "metadata": {},
   "outputs": [
    {
     "name": "stdout",
     "output_type": "stream",
     "text": [
      "0 ---> 10\n",
      "3 ---> 10\n",
      "6 ---> 10\n"
     ]
    }
   ],
   "source": [
    "for i,v in enumerate(lst):\n",
    "    if(v ==10):\n",
    "        print(i,\"--->\",v)"
   ]
  },
  {
   "cell_type": "code",
   "execution_count": null,
   "metadata": {},
   "outputs": [
    {
     "name": "stdout",
     "output_type": "stream",
     "text": [
      "0 --> 10\n",
      "3 --> 10\n",
      "6 --> 10\n",
      "3\n"
     ]
    }
   ],
   "source": [
    "lst=[10, 20, 30, 10, 50, 60, 10]\n",
    "for i,v in enumerate(lst):\n",
    "    if(v==10):\n",
    "        print(i,\"-->\",v)\n",
    "\n",
    "lst1=lst.count(10)\n",
    "print(lst1)"
   ]
  },
  {
   "cell_type": "code",
   "execution_count": null,
   "metadata": {},
   "outputs": [],
   "source": [
    "# enumerate is to find the exact number with index number"
   ]
  },
  {
   "cell_type": "code",
   "execution_count": null,
   "metadata": {},
   "outputs": [
    {
     "name": "stdout",
     "output_type": "stream",
     "text": [
      "0 ---> m\n",
      "1 ---> i\n",
      "2 ---> s\n",
      "3 ---> s\n",
      "4 ---> i\n",
      "5 ---> s\n",
      "6 ---> s\n",
      "7 ---> i\n",
      "8 ---> p\n",
      "9 ---> p\n",
      "10 ---> i\n"
     ]
    }
   ],
   "source": [
    "s=\"mississippi\"\n",
    "for i,v in enumerate(s):\n",
    "    print(i,\"--->\",v)"
   ]
  },
  {
   "cell_type": "code",
   "execution_count": null,
   "metadata": {},
   "outputs": [
    {
     "name": "stdout",
     "output_type": "stream",
     "text": [
      "2 ---> s\n",
      "3 ---> s\n",
      "5 ---> s\n",
      "6 ---> s\n"
     ]
    },
    {
     "data": {
      "text/plain": [
       "4"
      ]
     },
     "execution_count": 3,
     "metadata": {},
     "output_type": "execute_result"
    }
   ],
   "source": [
    "s=\"mississippi\"\n",
    "lst=list(s)\n",
    "for i,v in enumerate(lst):\n",
    "    if(v==\"s\"):\n",
    "        print(i,\"--->\",v)\n",
    "        \n",
    "lst.count(\"s\")\n",
    "    "
   ]
  },
  {
   "cell_type": "markdown",
   "metadata": {},
   "source": [
    "# enumerate\n",
    "\n",
    "- this function is used for obtaining index and value entries for every element of iterable objects. (contain more than one value)\n",
    "\n",
    "- syntax: enumerate(iterable object)"
   ]
  },
  {
   "cell_type": "markdown",
   "metadata": {},
   "source": [
    "# copy()\n",
    "\n",
    "- in python we have 2 types of copy technique , they are :-\n",
    "    - 1.shallow copy\n",
    "    - 2.deep copy"
   ]
  },
  {
   "cell_type": "code",
   "execution_count": null,
   "metadata": {},
   "outputs": [],
   "source": [
    "# shallow copy"
   ]
  },
  {
   "cell_type": "code",
   "execution_count": null,
   "metadata": {},
   "outputs": [
    {
     "data": {
      "text/plain": [
       "' \\n- the property of shadow copy are \\n\\n1. the initial content of both the objects are same.\\n\\n2.the memory address of both the object are different.\\n\\n3.the modification are independent (whatever the changes we do on one object, those changes are not reflected to another object, because memory address are different)\\n\\n--> to implement shallow copy , we use copy().\\n\\n--> syntax:-\\n\\nobject2=object1.copy()\\n\\n\\n'"
      ]
     },
     "execution_count": 46,
     "metadata": {},
     "output_type": "execute_result"
    }
   ],
   "source": [
    "\"\"\" \n",
    "- the property of shadow copy are \n",
    "\n",
    "1. the initial content of both the objects are same.\n",
    "\n",
    "2. the memory address of both the object are different.\n",
    "\n",
    "3. the modification are independent (whatever the changes we do on one object, those changes are not reflected to another object, because memory address are different)\n",
    "\n",
    "--> to implement shallow copy , we use copy().\n",
    "\n",
    "--> syntax:-\n",
    "\n",
    "object2=object1.copy()\n",
    "\n",
    "\n",
    "\"\"\""
   ]
  },
  {
   "cell_type": "code",
   "execution_count": null,
   "metadata": {},
   "outputs": [
    {
     "name": "stdout",
     "output_type": "stream",
     "text": [
      "[10, 'rs'] 2557715718912 2557715981184\n"
     ]
    }
   ],
   "source": [
    "lst=[10,\"rs\"]\n",
    "lst2=lst.copy() # shallow copy\n",
    "print(lst2,id(lst),id(lst2))"
   ]
  },
  {
   "cell_type": "code",
   "execution_count": null,
   "metadata": {},
   "outputs": [
    {
     "data": {
      "text/plain": [
       "'  \\n- the property of deep copy are-\\n    1.the initial content of both the object are same .\\n    2.the memory address of both the object are same .\\n    3.the modification are dependent.(whatever the changes we do in one object , those changes are reflecting to another object because memory address are same )\\n'"
      ]
     },
     "execution_count": 48,
     "metadata": {},
     "output_type": "execute_result"
    }
   ],
   "source": [
    "# deep copy\n",
    "\n",
    "\"\"\"  \n",
    "- the property of deep copy are-\n",
    "    1.the initial content of both the object are same .\n",
    "    2.the memory address of both the object are same .\n",
    "    3.the modification are dependent.(whatever the changes we do in one object , those changes are reflecting to another object because memory address are same )\n",
    "\"\"\""
   ]
  },
  {
   "cell_type": "code",
   "execution_count": null,
   "metadata": {},
   "outputs": [],
   "source": [
    "# to implement deep copy , we use assignment operator\n",
    "# (=)\n",
    "# syntax:\n",
    "# object2=object1"
   ]
  },
  {
   "cell_type": "code",
   "execution_count": null,
   "metadata": {},
   "outputs": [
    {
     "name": "stdout",
     "output_type": "stream",
     "text": [
      "2557709561152 2557709561152 <class 'list'>\n"
     ]
    }
   ],
   "source": [
    "lst=[10,\"rs\",\"b7\"]\n",
    "lst2=lst\n",
    "print(id(lst),id(lst2),type(lst))"
   ]
  },
  {
   "cell_type": "markdown",
   "metadata": {},
   "source": [
    "# count\n",
    "\n",
    "- this function is used for counting number of occurrence of specific value.\n",
    "\n",
    "- if specific value does not exist then we get 0. "
   ]
  },
  {
   "cell_type": "code",
   "execution_count": null,
   "metadata": {},
   "outputs": [
    {
     "name": "stdout",
     "output_type": "stream",
     "text": [
      "[10, 20, 10, 30, 10, 20, 30, 30, 40, 40, 50, 10, 50, 20] <class 'list'>\n"
     ]
    },
    {
     "data": {
      "text/plain": [
       "4"
      ]
     },
     "execution_count": 51,
     "metadata": {},
     "output_type": "execute_result"
    }
   ],
   "source": [
    "lst=[10,20,10,30,10,20,30,30,40,40,50,10,50,20]\n",
    "print(lst,type(lst))\n",
    "lst.count(10)"
   ]
  },
  {
   "cell_type": "code",
   "execution_count": null,
   "metadata": {},
   "outputs": [
    {
     "name": "stdout",
     "output_type": "stream",
     "text": [
      "1 ---> 20\n",
      "5 ---> 20\n",
      "13 ---> 20\n"
     ]
    },
    {
     "data": {
      "text/plain": [
       "3"
      ]
     },
     "execution_count": 7,
     "metadata": {},
     "output_type": "execute_result"
    }
   ],
   "source": [
    "lst=[10,20,10,30,10,20,30,30,40,40,50,10,50,20]\n",
    "for i,v in enumerate(lst):\n",
    "    if(v==20):\n",
    "        print(i,\"--->\",v)\n",
    "        \n",
    "lst.count(20)\n"
   ]
  },
  {
   "cell_type": "code",
   "execution_count": null,
   "metadata": {},
   "outputs": [
    {
     "name": "stdout",
     "output_type": "stream",
     "text": [
      "[10, 20, 10, 30, 10, 20, 30, 30, 40, 40, 50, 10, 50, 20] <class 'list'>\n"
     ]
    },
    {
     "data": {
      "text/plain": [
       "0"
      ]
     },
     "execution_count": 52,
     "metadata": {},
     "output_type": "execute_result"
    }
   ],
   "source": [
    "lst=[10,20,10,30,10,20,30,30,40,40,50,10,50,20]\n",
    "print(lst,type(lst))\n",
    "lst.count(10)\n",
    "lst.count(160)"
   ]
  },
  {
   "cell_type": "code",
   "execution_count": null,
   "metadata": {},
   "outputs": [
    {
     "name": "stdout",
     "output_type": "stream",
     "text": [
      "0 ---> m\n",
      "1 ---> i\n",
      "2 ---> s\n",
      "3 ---> s\n",
      "4 ---> i\n",
      "5 ---> s\n",
      "6 ---> s\n",
      "7 ---> i\n",
      "8 ---> p\n",
      "9 ---> p\n",
      "10 ---> i\n",
      "['m', 'i', 's', 's', 'i', 's', 's', 'i', 'p', 'p', 'i']\n"
     ]
    },
    {
     "data": {
      "text/plain": [
       "4"
      ]
     },
     "execution_count": 15,
     "metadata": {},
     "output_type": "execute_result"
    }
   ],
   "source": [
    "s=\"mississippi\"\n",
    "for i,v in enumerate(s):\n",
    "    print(i,\"--->\",v)\n",
    "    \n",
    "lst=list(s)\n",
    "print(lst)\n",
    "\n",
    "lst.count(\"i\")\n"
   ]
  },
  {
   "cell_type": "code",
   "execution_count": null,
   "metadata": {},
   "outputs": [
    {
     "name": "stdout",
     "output_type": "stream",
     "text": [
      "[10, 20, 30, 40, 50, 60, 70] 1439859762048\n",
      "None 140717897274000\n"
     ]
    }
   ],
   "source": [
    "lst=[10,20,30,40,50,60,70]\n",
    "print(lst,id(lst))\n",
    "lst.sort()\n",
    "lst1=lst.reverse()\n",
    "print(lst1,id(lst1))"
   ]
  },
  {
   "cell_type": "code",
   "execution_count": null,
   "metadata": {},
   "outputs": [
    {
     "ename": "SyntaxError",
     "evalue": "invalid syntax (4073142731.py, line 1)",
     "output_type": "error",
     "traceback": [
      "\u001b[1;36m  Cell \u001b[1;32mIn[55], line 1\u001b[1;36m\u001b[0m\n\u001b[1;33m    syntax:-\u001b[0m\n\u001b[1;37m            ^\u001b[0m\n\u001b[1;31mSyntaxError\u001b[0m\u001b[1;31m:\u001b[0m invalid syntax\n"
     ]
    }
   ],
   "source": [
    "syntax:-\n",
    "listobj.reverse()\n",
    "\n",
    "- this function is used for reversing the elements(of listobj and reversed element placed in same listobj itself)\n",
    "\n",
    "- front element become last element.\n"
   ]
  },
  {
   "cell_type": "markdown",
   "metadata": {},
   "source": [
    "# sort()--most important"
   ]
  },
  {
   "cell_type": "code",
   "execution_count": null,
   "metadata": {},
   "outputs": [
    {
     "name": "stdout",
     "output_type": "stream",
     "text": [
      "[-2, 5, 10, 12, 25, 30] 2557715980736\n"
     ]
    }
   ],
   "source": [
    "lst1=[10,12,-2,30,5,25]\n",
    "lst1.sort()\n",
    "print(lst1,id(lst1))"
   ]
  },
  {
   "cell_type": "code",
   "execution_count": null,
   "metadata": {},
   "outputs": [
    {
     "name": "stdout",
     "output_type": "stream",
     "text": [
      "[30, 25, 12, 10, 5, -2] 2557715980736\n"
     ]
    }
   ],
   "source": [
    "lst1.reverse()\n",
    "print(lst1,id(lst1))"
   ]
  },
  {
   "cell_type": "code",
   "execution_count": null,
   "metadata": {},
   "outputs": [
    {
     "name": "stdout",
     "output_type": "stream",
     "text": [
      "[30, 25, 12, 10, 5, -2] 2557715980736\n"
     ]
    }
   ],
   "source": [
    "lst1.sort(reverse=True)\n",
    "print(lst1,id(lst1))"
   ]
  },
  {
   "cell_type": "code",
   "execution_count": null,
   "metadata": {},
   "outputs": [
    {
     "ename": "TypeError",
     "evalue": "'<' not supported between instances of 'str' and 'int'",
     "output_type": "error",
     "traceback": [
      "\u001b[1;31m---------------------------------------------------------------------------\u001b[0m",
      "\u001b[1;31mTypeError\u001b[0m                                 Traceback (most recent call last)",
      "Cell \u001b[1;32mIn[59], line 2\u001b[0m\n\u001b[0;32m      1\u001b[0m lst1\u001b[38;5;241m=\u001b[39m[\u001b[38;5;241m10\u001b[39m,\u001b[38;5;241m20\u001b[39m,\u001b[38;5;124m\"\u001b[39m\u001b[38;5;124mrs\u001b[39m\u001b[38;5;124m\"\u001b[39m,\u001b[38;5;124m\"\u001b[39m\u001b[38;5;124mb7\u001b[39m\u001b[38;5;124m\"\u001b[39m,\u001b[38;5;241m2\u001b[39m\u001b[38;5;241m+\u001b[39m\u001b[38;5;241m4\u001b[39mj,\u001b[38;5;28;01mTrue\u001b[39;00m,\u001b[38;5;28;01mFalse\u001b[39;00m]\n\u001b[1;32m----> 2\u001b[0m \u001b[43mlst1\u001b[49m\u001b[38;5;241;43m.\u001b[39;49m\u001b[43msort\u001b[49m\u001b[43m(\u001b[49m\u001b[43m)\u001b[49m\n\u001b[0;32m      3\u001b[0m \u001b[38;5;28mprint\u001b[39m(lst1,\u001b[38;5;28mid\u001b[39m(lst1))\n",
      "\u001b[1;31mTypeError\u001b[0m: '<' not supported between instances of 'str' and 'int'"
     ]
    }
   ],
   "source": [
    "lst1=[10,20,\"rs\",\"b7\",2+4j,True,False]\n",
    "lst1.sort()\n",
    "print(lst1,id(lst1))"
   ]
  },
  {
   "cell_type": "code",
   "execution_count": null,
   "metadata": {},
   "outputs": [
    {
     "name": "stdout",
     "output_type": "stream",
     "text": [
      "[10, 20, 'rs', 'b7', (2+4j), True, False, 'python', 'javascript', 'react', 'html', 'css', 'nextjs', 'tailwind']\n"
     ]
    }
   ],
   "source": [
    "lst1=[10,20,\"rs\",\"b7\",2+4j,True,False]\n",
    "lst2=[\"python\",\"javascript\",\"react\",\"html\",\"css\",\"nextjs\",\"tailwind\"]\n",
    "\n",
    "lst1.extend(lst2)\n",
    "print(lst1)"
   ]
  },
  {
   "cell_type": "code",
   "execution_count": null,
   "metadata": {},
   "outputs": [],
   "source": [
    "# merging to list we use extend function"
   ]
  },
  {
   "cell_type": "code",
   "execution_count": null,
   "metadata": {},
   "outputs": [],
   "source": [
    "# when we use append then it is added within the same list \n",
    "# it will become nested list"
   ]
  },
  {
   "cell_type": "code",
   "execution_count": null,
   "metadata": {},
   "outputs": [
    {
     "name": "stdout",
     "output_type": "stream",
     "text": [
      "[10, 20, 'rs', 'b7', (2+4j), True, False, 'python', 'javascript', 'react', 'html', 'css', 'nextjs', 'tailwind', ['python', 'javascript', 'react', 'html', 'css', 'nextjs', 'tailwind']]\n"
     ]
    }
   ],
   "source": [
    "lst1.append(lst2)\n",
    "print(lst1)"
   ]
  },
  {
   "cell_type": "code",
   "execution_count": null,
   "metadata": {},
   "outputs": [],
   "source": [
    "#syntax:-\n",
    "\n",
    "# lst1.extend(lst2)"
   ]
  },
  {
   "cell_type": "markdown",
   "metadata": {},
   "source": [
    "Q. Find the element which occurence is max time "
   ]
  },
  {
   "cell_type": "code",
   "execution_count": null,
   "metadata": {},
   "outputs": [
    {
     "name": "stdout",
     "output_type": "stream",
     "text": [
      "[0, 10, 10, 10, 10, 20, 20, 20, 20, 20, 20, 30, 30, 30, 30, 40, 50, 50, 60, 70, 70, 70, 80, 90]\n",
      "1 --> 10\n",
      "2 --> 10\n",
      "3 --> 10\n",
      "4 --> 10\n"
     ]
    }
   ],
   "source": [
    "lst=[10,20,30,10,20,40,20,30,50,50,60,70,10,30,70,70,80,90,20,20,30,0,10,20]\n",
    "lst.sort()\n",
    "print(lst)\n",
    "for i,v in enumerate(lst):\n",
    "    if(v==10):\n",
    "        print(i,\"-->\",v)"
   ]
  },
  {
   "cell_type": "code",
   "execution_count": null,
   "metadata": {},
   "outputs": [
    {
     "data": {
      "text/plain": [
       "90"
      ]
     },
     "execution_count": 69,
     "metadata": {},
     "output_type": "execute_result"
    }
   ],
   "source": [
    "max(lst)"
   ]
  },
  {
   "cell_type": "code",
   "execution_count": null,
   "metadata": {},
   "outputs": [],
   "source": [
    "# number of repeated elements "
   ]
  },
  {
   "cell_type": "code",
   "execution_count": null,
   "metadata": {},
   "outputs": [
    {
     "name": "stdout",
     "output_type": "stream",
     "text": [
      "20\n"
     ]
    }
   ],
   "source": [
    "mv=max(lst,key=lst.count)\n",
    "print(mv)"
   ]
  },
  {
   "cell_type": "markdown",
   "metadata": {},
   "source": [
    "# Inner list or nested list\n",
    "\n",
    "- my requirement is to store -sno,sname,list of 3 subject internal marks, list of 3 subject external marks,cname\n",
    "\n",
    "- lst=[10,\"rs\",17,15,18,78,70,79,\"oucet\"]\n",
    "\n",
    "- lst=[10,\"rs\",[17,15,18],[78,70,79],\"oucet\"]\n",
    "\n",
    "- matrix "
   ]
  },
  {
   "cell_type": "code",
   "execution_count": null,
   "metadata": {},
   "outputs": [
    {
     "data": {
      "text/plain": [
       "[17, 15, 18]"
      ]
     },
     "execution_count": 72,
     "metadata": {},
     "output_type": "execute_result"
    }
   ],
   "source": [
    "lst=[10,\"rs\",[17,15,18],[78,70,79],\"oucet\"]\n",
    "lst[2]"
   ]
  },
  {
   "cell_type": "code",
   "execution_count": null,
   "metadata": {},
   "outputs": [
    {
     "data": {
      "text/plain": [
       "[78, 70, 79]"
      ]
     },
     "execution_count": 73,
     "metadata": {},
     "output_type": "execute_result"
    }
   ],
   "source": [
    "lst[3]"
   ]
  },
  {
   "cell_type": "code",
   "execution_count": null,
   "metadata": {},
   "outputs": [
    {
     "data": {
      "text/plain": [
       "15"
      ]
     },
     "execution_count": 74,
     "metadata": {},
     "output_type": "execute_result"
    }
   ],
   "source": [
    "lst[2][1]"
   ]
  },
  {
   "cell_type": "code",
   "execution_count": null,
   "metadata": {},
   "outputs": [
    {
     "data": {
      "text/plain": [
       "[70, 79]"
      ]
     },
     "execution_count": 75,
     "metadata": {},
     "output_type": "execute_result"
    }
   ],
   "source": [
    "lst[-2][-2:]"
   ]
  },
  {
   "cell_type": "code",
   "execution_count": null,
   "metadata": {},
   "outputs": [
    {
     "name": "stdout",
     "output_type": "stream",
     "text": [
      "[10, 'rs', [17, 15, 18, 18], [78, 70, 79], 'oucet']\n"
     ]
    }
   ],
   "source": [
    "lst[2].append(18)\n",
    "print(lst)"
   ]
  },
  {
   "cell_type": "code",
   "execution_count": null,
   "metadata": {},
   "outputs": [
    {
     "name": "stdout",
     "output_type": "stream",
     "text": [
      "[10, 'rs', [17, 15, 18, 18], [78, 74, 70, 79], 'oucet']\n"
     ]
    }
   ],
   "source": [
    "lst[3].insert(1,74)\n",
    "print(lst)"
   ]
  },
  {
   "cell_type": "code",
   "execution_count": null,
   "metadata": {},
   "outputs": [
    {
     "name": "stdout",
     "output_type": "stream",
     "text": [
      "[10, 'rs', [15, 17, 18, 18], [78, 74, 70, 79], 'oucet']\n"
     ]
    }
   ],
   "source": [
    "lst[2].sort()\n",
    "print(lst)"
   ]
  },
  {
   "cell_type": "code",
   "execution_count": null,
   "metadata": {},
   "outputs": [
    {
     "name": "stdout",
     "output_type": "stream",
     "text": [
      "[10, 'rs', [15, 17, 18, 18], [79, 78, 74, 70], 'oucet']\n"
     ]
    }
   ],
   "source": [
    "lst[-2].sort(reverse=True)\n",
    "print(lst)"
   ]
  },
  {
   "cell_type": "code",
   "execution_count": null,
   "metadata": {},
   "outputs": [
    {
     "name": "stdout",
     "output_type": "stream",
     "text": [
      "[10, 'rs', [17, 18], [79, 78, 74, 70], 'oucet']\n"
     ]
    }
   ],
   "source": [
    "del lst[2][::2]\n",
    "print(lst)"
   ]
  },
  {
   "cell_type": "code",
   "execution_count": null,
   "metadata": {},
   "outputs": [
    {
     "name": "stdout",
     "output_type": "stream",
     "text": [
      "[10, 'rs', [17, 18], [79, 74], 'oucet']\n"
     ]
    }
   ],
   "source": [
    "del lst[-2][1::2]\n",
    "print(lst)"
   ]
  },
  {
   "cell_type": "code",
   "execution_count": null,
   "metadata": {},
   "outputs": [
    {
     "name": "stdout",
     "output_type": "stream",
     "text": [
      "[10, 20, 30]\n",
      "[40, 50, 60]\n",
      "[70, 80, 90]\n",
      "[1, 2, 3]\n",
      "[4, 5, 6]\n",
      "[7, 8, 9]\n",
      "[[10, 20, 30], [40, 50, 60], [70, 80, 90], [1, 2, 3], [4, 5, 6], [7, 8, 9]]\n"
     ]
    }
   ],
   "source": [
    "matrix1=[[10,20,30],[40,50,60],[70,80,90]]\n",
    "for row in matrix1:\n",
    "    print(row)\n",
    "    \n",
    "matrix2=[[1,2,3],[4,5,6],[7,8,9]]\n",
    "for row in matrix2:\n",
    "    print(row) \n",
    "    \n",
    "matrix3=matrix1+matrix2\n",
    "print(matrix3)"
   ]
  },
  {
   "cell_type": "code",
   "execution_count": null,
   "metadata": {},
   "outputs": [],
   "source": [
    "# we will learn this in pandas"
   ]
  },
  {
   "cell_type": "markdown",
   "metadata": {},
   "source": [
    "# tuple\n",
    "\n",
    "- it is pre defined class treated as list as category data type.\n",
    "\n",
    "- Real time importance of tuple is to \"store constant value\"\n",
    "\n",
    "- eg: your bank account number , and your cname never changes in bank history , only your balance changed .\n",
    "\n",
    "- to store tuple we use braces ()and values are separated by commas\n",
    "\n"
   ]
  },
  {
   "cell_type": "code",
   "execution_count": null,
   "metadata": {},
   "outputs": [
    {
     "name": "stdout",
     "output_type": "stream",
     "text": [
      "(10, 20, 30, 40, 10, 30, 50, 60) <class 'tuple'>\n"
     ]
    }
   ],
   "source": [
    "t1=(10,20,30,40,10,30,50,60)\n",
    "print(t1,type(t1))"
   ]
  },
  {
   "cell_type": "code",
   "execution_count": null,
   "metadata": {},
   "outputs": [
    {
     "ename": "AttributeError",
     "evalue": "'tuple' object has no attribute 'sort'",
     "output_type": "error",
     "traceback": [
      "\u001b[1;31m---------------------------------------------------------------------------\u001b[0m",
      "\u001b[1;31mAttributeError\u001b[0m                            Traceback (most recent call last)",
      "Cell \u001b[1;32mIn[85], line 1\u001b[0m\n\u001b[1;32m----> 1\u001b[0m \u001b[43mt1\u001b[49m\u001b[38;5;241;43m.\u001b[39;49m\u001b[43msort\u001b[49m()\n\u001b[0;32m      2\u001b[0m \u001b[38;5;28mprint\u001b[39m(t1,\u001b[38;5;28mtype\u001b[39m(t1))\n",
      "\u001b[1;31mAttributeError\u001b[0m: 'tuple' object has no attribute 'sort'"
     ]
    }
   ],
   "source": [
    "t1.sort()\n",
    "print(t1,type(t1))"
   ]
  },
  {
   "cell_type": "code",
   "execution_count": null,
   "metadata": {},
   "outputs": [
    {
     "name": "stdout",
     "output_type": "stream",
     "text": [
      "0 ---> 10\n",
      "1 ---> 20\n",
      "2 ---> 30\n",
      "3 ---> 40\n",
      "4 ---> 10\n",
      "5 ---> 30\n",
      "6 ---> 50\n",
      "7 ---> 60\n"
     ]
    }
   ],
   "source": [
    "t1=(10,20,30,40,10,30,50,60)\n",
    "for i,v in enumerate(t1):\n",
    "    print(i,\"--->\",v)"
   ]
  },
  {
   "cell_type": "code",
   "execution_count": null,
   "metadata": {},
   "outputs": [
    {
     "ename": "TypeError",
     "evalue": "'tuple' object does not support item assignment",
     "output_type": "error",
     "traceback": [
      "\u001b[1;31m---------------------------------------------------------------------------\u001b[0m",
      "\u001b[1;31mTypeError\u001b[0m                                 Traceback (most recent call last)",
      "Cell \u001b[1;32mIn[87], line 1\u001b[0m\n\u001b[1;32m----> 1\u001b[0m \u001b[43mt1\u001b[49m\u001b[43m[\u001b[49m\u001b[38;5;241;43m1\u001b[39;49m\u001b[43m]\u001b[49m\u001b[38;5;241m=\u001b[39m\u001b[38;5;124m\"\u001b[39m\u001b[38;5;124mrossum\u001b[39m\u001b[38;5;124m\"\u001b[39m\n",
      "\u001b[1;31mTypeError\u001b[0m: 'tuple' object does not support item assignment"
     ]
    }
   ],
   "source": [
    "t1[1]=\"rossum\""
   ]
  },
  {
   "cell_type": "code",
   "execution_count": null,
   "metadata": {},
   "outputs": [],
   "source": [
    "# therefore it store constant values hence here no update , no del , no sort will occurred"
   ]
  },
  {
   "cell_type": "code",
   "execution_count": null,
   "metadata": {},
   "outputs": [
    {
     "name": "stdout",
     "output_type": "stream",
     "text": [
      "('m', 'i', 's', 's', 'i', 's', 's', 'i', 'p', 'p', 'i') <class 'tuple'>\n"
     ]
    }
   ],
   "source": [
    "s=\"mississippi\"\n",
    "t1=tuple(s)\n",
    "print(t1,type(t1))"
   ]
  },
  {
   "cell_type": "code",
   "execution_count": null,
   "metadata": {},
   "outputs": [
    {
     "data": {
      "text/plain": [
       "11"
      ]
     },
     "execution_count": 90,
     "metadata": {},
     "output_type": "execute_result"
    }
   ],
   "source": [
    "len(t1)"
   ]
  },
  {
   "cell_type": "code",
   "execution_count": null,
   "metadata": {},
   "outputs": [
    {
     "name": "stdout",
     "output_type": "stream",
     "text": [
      "() <class 'tuple'>\n"
     ]
    }
   ],
   "source": [
    "t1=()\n",
    "print(t1,type(t1))"
   ]
  },
  {
   "cell_type": "code",
   "execution_count": null,
   "metadata": {},
   "outputs": [
    {
     "name": "stdout",
     "output_type": "stream",
     "text": [
      "(10, 20, 30) <class 'tuple'>\n"
     ]
    }
   ],
   "source": [
    "t2=10,20,30 \n",
    "print(t2,type(t2))"
   ]
  },
  {
   "cell_type": "code",
   "execution_count": null,
   "metadata": {},
   "outputs": [
    {
     "name": "stdout",
     "output_type": "stream",
     "text": [
      "(10,) <class 'tuple'>\n"
     ]
    }
   ],
   "source": [
    "t4=10,\n",
    "print(t4,type(t4))"
   ]
  },
  {
   "cell_type": "code",
   "execution_count": null,
   "metadata": {},
   "outputs": [
    {
     "name": "stdout",
     "output_type": "stream",
     "text": [
      "10 <class 'int'>\n"
     ]
    }
   ],
   "source": [
    "x=(10)\n",
    "print(x,type(x))\n"
   ]
  },
  {
   "cell_type": "code",
   "execution_count": null,
   "metadata": {},
   "outputs": [
    {
     "name": "stdout",
     "output_type": "stream",
     "text": [
      "kvr <class 'str'>\n"
     ]
    }
   ],
   "source": [
    "y=(\"kvr\")\n",
    "print(y,type(y))"
   ]
  },
  {
   "cell_type": "code",
   "execution_count": null,
   "metadata": {},
   "outputs": [
    {
     "name": "stdout",
     "output_type": "stream",
     "text": [
      "('kvr',) <class 'tuple'>\n"
     ]
    }
   ],
   "source": [
    "y=(\"kvr\",)\n",
    "print(y,type(y))"
   ]
  },
  {
   "cell_type": "code",
   "execution_count": null,
   "metadata": {},
   "outputs": [
    {
     "data": {
      "text/plain": [
       "1"
      ]
     },
     "execution_count": 97,
     "metadata": {},
     "output_type": "execute_result"
    }
   ],
   "source": [
    "len(y)"
   ]
  },
  {
   "cell_type": "code",
   "execution_count": null,
   "metadata": {},
   "outputs": [],
   "source": [
    "# tuple is immutable"
   ]
  },
  {
   "cell_type": "code",
   "execution_count": null,
   "metadata": {},
   "outputs": [
    {
     "data": {
      "text/plain": [
       "' \\n-index()\\n-count()\\n'"
      ]
     },
     "execution_count": 99,
     "metadata": {},
     "output_type": "execute_result"
    }
   ],
   "source": [
    "# pre defined function in list\n",
    "\"\"\" \n",
    "-append()\n",
    "-insert()\n",
    "-remove()\n",
    "-pop(index)\n",
    "-pop()\n",
    "-clear()\n",
    "-index()\n",
    "-count()\n",
    "-sort()\n",
    "-reverse()\n",
    "-copy()\n",
    "-extend()\n",
    "\"\"\"\n",
    "\n",
    "\n",
    "# pre defined function in tuple\n",
    "\n",
    "\"\"\" \n",
    "-index()\n",
    "-count()\n",
    "\"\"\"\n",
    "\n",
    "#rest of the method are not present in tuple"
   ]
  },
  {
   "cell_type": "code",
   "execution_count": null,
   "metadata": {},
   "outputs": [
    {
     "name": "stdout",
     "output_type": "stream",
     "text": [
      "(10, 20, 30, 10, 30, 20, 10, 50, 10, 30, 20, 60, 50) <class 'tuple'>\n"
     ]
    },
    {
     "data": {
      "text/plain": [
       "10"
      ]
     },
     "execution_count": 100,
     "metadata": {},
     "output_type": "execute_result"
    }
   ],
   "source": [
    "t1=(10,20,30,10,30,20,10,50,10,30,20,60,50)\n",
    "print(t1,type(t1))\n",
    "max(t1)\n",
    "max(t1,key=t1.count)"
   ]
  },
  {
   "cell_type": "code",
   "execution_count": null,
   "metadata": {},
   "outputs": [
    {
     "name": "stdout",
     "output_type": "stream",
     "text": [
      "10\n",
      "60\n"
     ]
    }
   ],
   "source": [
    "print(min(t1))\n",
    "print(max(t1))"
   ]
  },
  {
   "cell_type": "code",
   "execution_count": null,
   "metadata": {},
   "outputs": [],
   "source": [
    "#total tuple can be removed but you cannot removed individually"
   ]
  },
  {
   "cell_type": "code",
   "execution_count": null,
   "metadata": {},
   "outputs": [],
   "source": [
    "#process to sort the data in tuple"
   ]
  },
  {
   "cell_type": "code",
   "execution_count": null,
   "metadata": {},
   "outputs": [
    {
     "name": "stdout",
     "output_type": "stream",
     "text": [
      "[10, -3, 5, 7, 50, 20, 25, -1, 0, 100]\n"
     ]
    }
   ],
   "source": [
    "t1=(10,-3,5,7,50,20,25,-1,0,100)\n",
    "lst=list(t1)\n",
    "print(lst)"
   ]
  },
  {
   "cell_type": "code",
   "execution_count": null,
   "metadata": {},
   "outputs": [
    {
     "name": "stdout",
     "output_type": "stream",
     "text": [
      "[-3, -1, 0, 5, 7, 10, 20, 25, 50, 100] <class 'list'>\n"
     ]
    }
   ],
   "source": [
    "lst.sort()\n",
    "print(lst,type(lst))"
   ]
  },
  {
   "cell_type": "code",
   "execution_count": null,
   "metadata": {},
   "outputs": [
    {
     "name": "stdout",
     "output_type": "stream",
     "text": [
      "(-3, -1, 0, 5, 7, 10, 20, 25, 50, 100) <class 'tuple'>\n"
     ]
    }
   ],
   "source": [
    "t2=tuple(lst)\n",
    "print(t2,type(t2))"
   ]
  },
  {
   "cell_type": "code",
   "execution_count": null,
   "metadata": {},
   "outputs": [],
   "source": [
    "#another method"
   ]
  },
  {
   "cell_type": "code",
   "execution_count": null,
   "metadata": {},
   "outputs": [
    {
     "name": "stdout",
     "output_type": "stream",
     "text": [
      "[-3, -1, 0, 5, 7, 10, 20, 25, 50, 100] <class 'list'>\n"
     ]
    }
   ],
   "source": [
    "\n",
    "t1=(10,-3,5,7,50,20,25,-1,0,100)\n",
    "x=sorted(t1)\n",
    "print(x,type(x))"
   ]
  },
  {
   "cell_type": "code",
   "execution_count": null,
   "metadata": {},
   "outputs": [
    {
     "data": {
      "text/plain": [
       "[100, 50, 25, 20, 10, 7, 5, 0, -1, -3]"
      ]
     },
     "execution_count": 109,
     "metadata": {},
     "output_type": "execute_result"
    }
   ],
   "source": [
    "x[::-1]"
   ]
  },
  {
   "cell_type": "code",
   "execution_count": null,
   "metadata": {},
   "outputs": [
    {
     "name": "stdout",
     "output_type": "stream",
     "text": [
      "(-3, -1, 0, 5, 7, 10, 20, 25, 50, 100) <class 'tuple'>\n"
     ]
    }
   ],
   "source": [
    "x=tuple(sorted(t1))\n",
    "print(x,type(x))"
   ]
  },
  {
   "cell_type": "markdown",
   "metadata": {},
   "source": [
    "# Inner tuple "
   ]
  },
  {
   "cell_type": "code",
   "execution_count": null,
   "metadata": {},
   "outputs": [
    {
     "name": "stdout",
     "output_type": "stream",
     "text": [
      "(10, 'rs', (16, 17, 18), (78.79, 80), 'oucet') <class 'tuple'>\n",
      "10 <class 'int'> <class 'tuple'>\n",
      "rs <class 'str'> <class 'tuple'>\n",
      "(16, 17, 18) <class 'tuple'> <class 'tuple'>\n",
      "(78.79, 80) <class 'tuple'> <class 'tuple'>\n",
      "oucet <class 'str'> <class 'tuple'>\n"
     ]
    }
   ],
   "source": [
    "t1=(10,\"rs\",(16,17,18),(78.79,80),\"oucet\")\n",
    "print(t1,type(t1))\n",
    "\n",
    "for val in t1:\n",
    "    print(val,type(val),type(t1))"
   ]
  },
  {
   "cell_type": "code",
   "execution_count": null,
   "metadata": {},
   "outputs": [
    {
     "data": {
      "text/plain": [
       "(10, 'rs', (16, 17, 18))"
      ]
     },
     "execution_count": 3,
     "metadata": {},
     "output_type": "execute_result"
    }
   ],
   "source": [
    "t1[0:3]"
   ]
  },
  {
   "cell_type": "code",
   "execution_count": null,
   "metadata": {},
   "outputs": [],
   "source": [
    "# you cannot do any changes \n",
    "# you can do indexing and slicing ."
   ]
  },
  {
   "cell_type": "code",
   "execution_count": null,
   "metadata": {},
   "outputs": [
    {
     "data": {
      "text/plain": [
       "1"
      ]
     },
     "execution_count": 5,
     "metadata": {},
     "output_type": "execute_result"
    }
   ],
   "source": [
    "t1[2].count(16)"
   ]
  },
  {
   "cell_type": "markdown",
   "metadata": {},
   "source": [
    "# Tuple in list and list in tuple "
   ]
  },
  {
   "cell_type": "code",
   "execution_count": null,
   "metadata": {},
   "outputs": [
    {
     "name": "stdout",
     "output_type": "stream",
     "text": [
      "(10, 'rs', [16, 17, 18], [67, 68, 69], 'oucet') <class 'tuple'>\n"
     ]
    }
   ],
   "source": [
    "# tuple in list\n",
    "t1=(10,\"rs\",[16,17,18],[67,68,69],\"oucet\")\n",
    "print(t1,type(t1))"
   ]
  },
  {
   "cell_type": "code",
   "execution_count": null,
   "metadata": {},
   "outputs": [
    {
     "name": "stdout",
     "output_type": "stream",
     "text": [
      "10 <class 'int'>\n",
      "(10, 'rs', [16, 17, 18], [67, 68, 69], 'oucet')\n",
      "rs <class 'str'>\n",
      "(10, 'rs', [16, 17, 18], [67, 68, 69], 'oucet')\n",
      "[16, 17, 18] <class 'list'>\n",
      "(10, 'rs', [16, 17, 18], [67, 68, 69], 'oucet')\n",
      "[67, 68, 69] <class 'list'>\n",
      "(10, 'rs', [16, 17, 18], [67, 68, 69], 'oucet')\n",
      "oucet <class 'str'>\n",
      "(10, 'rs', [16, 17, 18], [67, 68, 69], 'oucet')\n"
     ]
    }
   ],
   "source": [
    "for val in t1:\n",
    "    print(val,type(val))\n",
    "    print(t1)"
   ]
  },
  {
   "cell_type": "code",
   "execution_count": null,
   "metadata": {},
   "outputs": [
    {
     "name": "stdout",
     "output_type": "stream",
     "text": [
      "(10, 'rs', [16, 17, 18, 19], [67, 68, 69], 'oucet')\n"
     ]
    }
   ],
   "source": [
    "t1[2].append(19)\n",
    "print(t1)"
   ]
  },
  {
   "cell_type": "code",
   "execution_count": null,
   "metadata": {},
   "outputs": [
    {
     "name": "stdout",
     "output_type": "stream",
     "text": [
      "(10, 'rs', [16, 17, 18, 19], [67, 77, 68, 69], 'oucet')\n"
     ]
    }
   ],
   "source": [
    "t1[3].insert(1,77)\n",
    "print(t1)"
   ]
  },
  {
   "cell_type": "code",
   "execution_count": null,
   "metadata": {},
   "outputs": [
    {
     "name": "stdout",
     "output_type": "stream",
     "text": [
      "(10, 'rs', [16, 17, 18, 19], [67, 77, 68, 69], 'oucet')\n"
     ]
    }
   ],
   "source": [
    "t1[2].sort()\n",
    "print(t1)"
   ]
  },
  {
   "cell_type": "code",
   "execution_count": null,
   "metadata": {},
   "outputs": [
    {
     "ename": "AttributeError",
     "evalue": "'tuple' object has no attribute 'pop'",
     "output_type": "error",
     "traceback": [
      "\u001b[1;31m---------------------------------------------------------------------------\u001b[0m",
      "\u001b[1;31mAttributeError\u001b[0m                            Traceback (most recent call last)",
      "Cell \u001b[1;32mIn[11], line 1\u001b[0m\n\u001b[1;32m----> 1\u001b[0m \u001b[43mt1\u001b[49m\u001b[38;5;241;43m.\u001b[39;49m\u001b[43mpop\u001b[49m(\u001b[38;5;241m2\u001b[39m)\n\u001b[0;32m      2\u001b[0m \u001b[38;5;28mprint\u001b[39m(t1)\n",
      "\u001b[1;31mAttributeError\u001b[0m: 'tuple' object has no attribute 'pop'"
     ]
    }
   ],
   "source": [
    "t1.pop(2)\n",
    "print(t1)"
   ]
  },
  {
   "cell_type": "code",
   "execution_count": null,
   "metadata": {},
   "outputs": [
    {
     "name": "stdout",
     "output_type": "stream",
     "text": [
      "(10, 'rs', [16, 19], [67, 77, 68, 69], 'oucet')\n"
     ]
    }
   ],
   "source": [
    "del t1[2][1:3]\n",
    "print(t1)"
   ]
  },
  {
   "cell_type": "code",
   "execution_count": null,
   "metadata": {},
   "outputs": [
    {
     "name": "stdout",
     "output_type": "stream",
     "text": [
      "(10, 'rs', [16, 19], [77, 68, 69], 'oucet')\n"
     ]
    }
   ],
   "source": [
    "del t1[3][0]\n",
    "print(t1)"
   ]
  },
  {
   "cell_type": "markdown",
   "metadata": {},
   "source": [
    "# tuple in list"
   ]
  },
  {
   "cell_type": "code",
   "execution_count": null,
   "metadata": {},
   "outputs": [
    {
     "name": "stdout",
     "output_type": "stream",
     "text": [
      "(10, 'rs', [16, 19], [77, 68, 69], 'oucet')\n"
     ]
    }
   ],
   "source": [
    "l1=[10,\"rs\",(16,17,18),(77,78,79),\"oucet\"]\n",
    "print(t1)"
   ]
  },
  {
   "cell_type": "code",
   "execution_count": null,
   "metadata": {},
   "outputs": [
    {
     "data": {
      "text/plain": [
       "(18, 17, 16)"
      ]
     },
     "execution_count": 15,
     "metadata": {},
     "output_type": "execute_result"
    }
   ],
   "source": [
    "tuple(sorted(l1[2]))[::-1]"
   ]
  },
  {
   "cell_type": "code",
   "execution_count": null,
   "metadata": {},
   "outputs": [
    {
     "name": "stdout",
     "output_type": "stream",
     "text": [
      "[10, 'rs', (16, 17, 18), (77, 78, 79), 'oucet', ('del', 'mum', 'hyd', 'blr')]\n"
     ]
    }
   ],
   "source": [
    "l1.append((\"del\",\"mum\",\"hyd\",\"blr\"))\n",
    "print(l1)"
   ]
  },
  {
   "cell_type": "markdown",
   "metadata": {},
   "source": [
    "# Set Category data type:-\n",
    "\n",
    "- the purpose of set category data type is that \" to store multiple value either of same type or different type or both types in single object with unique element only.(duplicate are not allowed)\n",
    "\n",
    "- we have 2 data types in list category . they are \n",
    "    - 1. set (mutable an immutable)\n",
    "    - 2. Frozenset (immutable)\n"
   ]
  },
  {
   "cell_type": "markdown",
   "metadata": {},
   "source": [
    "- what we learn \n",
    "property of set \n",
    "- what is set\n",
    "- notation of set\n",
    "- type of set\n",
    "- operation on set\n",
    "- pre defined function in set\n",
    "- nested or inner set with tuple and list \n",
    "- programming examples"
   ]
  },
  {
   "cell_type": "code",
   "execution_count": null,
   "metadata": {},
   "outputs": [],
   "source": [
    "# notation for set\n",
    "# the value of set must be stored within curly braces {} and values are separated by commas.\n",
    "\n",
    "# syntax: setobj={val1, val2,...val-n}"
   ]
  },
  {
   "cell_type": "code",
   "execution_count": null,
   "metadata": {},
   "outputs": [
    {
     "data": {
      "text/plain": [
       "' \\n--> set object never maintain insertion order because PVM display any of the possibility of element of set .\\n\\n--> on set we cannot perform indexing and slicing because set never maintain insertion order\\n\\n--> set belong to both mutable and immutable , [mutable when we perform add method], [immutable because we cannot perform indexing and slicing or item assignment]\\n\\n'"
      ]
     },
     "execution_count": 18,
     "metadata": {},
     "output_type": "execute_result"
    }
   ],
   "source": [
    "\"\"\" \n",
    "--> set object never maintain insertion order because PVM display any of the possibility of element of set .\n",
    "\n",
    "--> on set we cannot perform indexing and slicing because set never maintain insertion order\n",
    "\n",
    "--> set belong to both mutable and immutable , [mutable when we perform add method], [immutable because we cannot perform indexing and slicing or item assignment]\n",
    "\n",
    "\"\"\""
   ]
  },
  {
   "cell_type": "code",
   "execution_count": null,
   "metadata": {},
   "outputs": [
    {
     "name": "stdout",
     "output_type": "stream",
     "text": [
      "{50, 20, 70, 40, 10, 30} <class 'set'>\n"
     ]
    }
   ],
   "source": [
    "s1={10,20,30,40,20,10,30,50,70,10}\n",
    "print(s1,type(s1))"
   ]
  },
  {
   "cell_type": "code",
   "execution_count": null,
   "metadata": {},
   "outputs": [],
   "source": [
    "# you can't predict in which order the set elements will come .\n",
    "\n",
    "# hence this is commonly used in question paper set (a,b,c,d)"
   ]
  },
  {
   "cell_type": "code",
   "execution_count": null,
   "metadata": {},
   "outputs": [
    {
     "name": "stdout",
     "output_type": "stream",
     "text": [
      "{'photoshop', 2025, 1995, 'illustrator', 'python', 'js', 'css', 'html', 'tailwind', 'javascript', 'react'} <class 'set'>\n"
     ]
    }
   ],
   "source": [
    "s2={\"python\",\"js\",\"html\",\"css\",\"react\",\"tailwind\",\"javascript\",\"illustrator\",\"photoshop\",2025,1995}\n",
    "print(s2,type(s2))"
   ]
  },
  {
   "cell_type": "code",
   "execution_count": null,
   "metadata": {},
   "outputs": [
    {
     "ename": "TypeError",
     "evalue": "'set' object is not subscriptable",
     "output_type": "error",
     "traceback": [
      "\u001b[1;31m---------------------------------------------------------------------------\u001b[0m",
      "\u001b[1;31mTypeError\u001b[0m                                 Traceback (most recent call last)",
      "Cell \u001b[1;32mIn[22], line 1\u001b[0m\n\u001b[1;32m----> 1\u001b[0m \u001b[43ms2\u001b[49m\u001b[43m[\u001b[49m\u001b[38;5;241;43m2\u001b[39;49m\u001b[43m]\u001b[49m\n",
      "\u001b[1;31mTypeError\u001b[0m: 'set' object is not subscriptable"
     ]
    }
   ],
   "source": [
    "s2[2]"
   ]
  },
  {
   "cell_type": "code",
   "execution_count": null,
   "metadata": {},
   "outputs": [
    {
     "name": "stdout",
     "output_type": "stream",
     "text": [
      "{True, 10, 34.56, 'rs'} <class 'set'> 2315086411616\n"
     ]
    }
   ],
   "source": [
    "s1={10,\"rs\",34.56,True}\n",
    "print(s1,type(s1),id(s1))"
   ]
  },
  {
   "cell_type": "code",
   "execution_count": null,
   "metadata": {},
   "outputs": [
    {
     "name": "stdout",
     "output_type": "stream",
     "text": [
      "{True, 34.56, 10, (2+3j), 'rs'} <class 'set'> 2315086411616\n"
     ]
    }
   ],
   "source": [
    "s1.add(2+3j)\n",
    "print(s1,type(s1),id(s1))"
   ]
  },
  {
   "cell_type": "markdown",
   "metadata": {},
   "source": [
    "- to empty set"
   ]
  },
  {
   "cell_type": "code",
   "execution_count": null,
   "metadata": {},
   "outputs": [
    {
     "name": "stdout",
     "output_type": "stream",
     "text": [
      "{} <class 'dict'> 2315091873408\n"
     ]
    }
   ],
   "source": [
    "s1={}\n",
    "print(s1,type(s1),id(s1))"
   ]
  },
  {
   "cell_type": "code",
   "execution_count": null,
   "metadata": {},
   "outputs": [
    {
     "name": "stdout",
     "output_type": "stream",
     "text": [
      "set() <class 'set'> 2315086411616\n"
     ]
    }
   ],
   "source": [
    "s1=set()\n",
    "print(s1,type(s1),id(s1))"
   ]
  },
  {
   "cell_type": "code",
   "execution_count": null,
   "metadata": {},
   "outputs": [
    {
     "data": {
      "text/plain": [
       "0"
      ]
     },
     "execution_count": 27,
     "metadata": {},
     "output_type": "execute_result"
    }
   ],
   "source": [
    "len(s1)"
   ]
  },
  {
   "cell_type": "code",
   "execution_count": null,
   "metadata": {},
   "outputs": [
    {
     "name": "stdout",
     "output_type": "stream",
     "text": [
      "{3, 4, 5, 20, 10} <class 'set'> 2315086412064\n"
     ]
    }
   ],
   "source": [
    "s2={10,20,3,4,5}\n",
    "print(s2,type(s2),id(s2))"
   ]
  },
  {
   "cell_type": "code",
   "execution_count": null,
   "metadata": {},
   "outputs": [],
   "source": [
    "# empty set\n",
    "\n",
    "# whose length is zero\n",
    "\n",
    "# syntax: setobj=set()"
   ]
  },
  {
   "cell_type": "code",
   "execution_count": null,
   "metadata": {},
   "outputs": [],
   "source": [
    "# non-empty set\n",
    "\n",
    "# whose length is greater than Zero.\n",
    "\n",
    "# syntax: setobj=set(obj)\n"
   ]
  },
  {
   "cell_type": "code",
   "execution_count": null,
   "metadata": {},
   "outputs": [
    {
     "name": "stdout",
     "output_type": "stream",
     "text": [
      "18\n",
      "{70, 40, 10, 80, 50, 20, 90, 60, 30} <class 'set'>\n"
     ]
    }
   ],
   "source": [
    "# to remove duplicate\n",
    "\n",
    "lst=[10,20,30,40,50,60,70,80,90,20,10,30,10,40,50,60,70,20]\n",
    "\n",
    "print(len(lst))\n",
    "\n",
    "s1=set(lst)\n",
    "\n",
    "print(s1,type(s1))\n"
   ]
  },
  {
   "cell_type": "code",
   "execution_count": null,
   "metadata": {},
   "outputs": [
    {
     "name": "stdout",
     "output_type": "stream",
     "text": [
      "{'s', 'p', 'i', 'm'} <class 'set'>\n"
     ]
    }
   ],
   "source": [
    "s=\"mississippi\"\n",
    "s1=set(s)\n",
    "print(s1,type(s1))\n"
   ]
  },
  {
   "cell_type": "markdown",
   "metadata": {},
   "source": [
    "most important questions so far for revision"
   ]
  },
  {
   "cell_type": "code",
   "execution_count": null,
   "metadata": {},
   "outputs": [
    {
     "name": "stdout",
     "output_type": "stream",
     "text": [
      "[0, 10, 10, 10, 10, 20, 20, 20, 20, 20, 20, 30, 30, 30, 30, 40, 50, 50, 60, 70, 70, 70, 80, 90] 1439865552256\n",
      "1 --> 10\n",
      "2 --> 10\n",
      "3 --> 10\n",
      "4 --> 10\n",
      "24\n",
      "90\n",
      "0\n",
      "{0, 70, 40, 10, 80, 50, 20, 90, 60, 30}\n",
      "[0, 10, 20, 30, 40, 50, 60, 70, 80, 90]\n"
     ]
    }
   ],
   "source": [
    "lst=[10,20,30,10,20,40,20,30,50,50,60,70,10,30,70,70,80,90,20,20,30,0,10,20]\n",
    "lst.sort()\n",
    "print(lst,id(lst))\n",
    "\n",
    "for i,v in enumerate(lst):\n",
    "    if(v==10):\n",
    "        print(i,\"-->\",v)\n",
    "        \n",
    "print(len(lst))\n",
    "print(max(lst))\n",
    "print(min(lst))\n",
    "# to find the unique number in list convert this into set \n",
    "s1=set(lst)\n",
    "print(s1)\n",
    "# after getting the unique number then convert it into list again to sort the list\n",
    "lst1=list(s1)\n",
    "lst1.sort()\n",
    "print(lst1)\n",
    "\n"
   ]
  },
  {
   "cell_type": "code",
   "execution_count": null,
   "metadata": {},
   "outputs": [
    {
     "ename": "SyntaxError",
     "evalue": "invalid decimal literal (3183470227.py, line 4)",
     "output_type": "error",
     "traceback": [
      "\u001b[1;36m  Cell \u001b[1;32mIn[33], line 4\u001b[1;36m\u001b[0m\n\u001b[1;33m    1.add()\u001b[0m\n\u001b[1;37m     ^\u001b[0m\n\u001b[1;31mSyntaxError\u001b[0m\u001b[1;31m:\u001b[0m invalid decimal literal\n"
     ]
    }
   ],
   "source": [
    "# pre defined function in set:-\n",
    "\n",
    "\n",
    "1.add()\n",
    "2.remove()\n",
    "3.pop() \n",
    "4.clear()\n",
    "5.discard()\n",
    "6.clear()\n",
    "7.isDisjoint()\n",
    "8.issubset\n",
    "9.issuperset()\n",
    "10.union()\n",
    "11.intersect()\n",
    "12.difference()\n",
    "13.symmetric_difference()\n",
    "14.symmetric_difference_update()\n",
    "15.update()"
   ]
  },
  {
   "cell_type": "markdown",
   "metadata": {},
   "source": [
    "### pre-defined function in set \n",
    "\n",
    "- we know that on object of set , we cannot perform indexing and slicing operation because set never maintain insertion order.\n",
    "\n",
    "-  but on set object we can perform diffrent operations  by using pre-defined function which are present in set object."
   ]
  },
  {
   "cell_type": "markdown",
   "metadata": {},
   "source": [
    "#. add()\n",
    "s1={10,\"rs\",\"python\",True,}\n",
    "s1.add(\"javascript\")\n",
    "print(s1,type(s1),id(s1))"
   ]
  },
  {
   "cell_type": "code",
   "execution_count": null,
   "metadata": {},
   "outputs": [
    {
     "name": "stdout",
     "output_type": "stream",
     "text": [
      "{True, 3.14, 10, 'rs', 'python', 'javascript'} <class 'set'> 2315086410944\n"
     ]
    }
   ],
   "source": [
    "s1.add(3.14)\n",
    "print(s1,type(s1),id(s1))"
   ]
  },
  {
   "cell_type": "code",
   "execution_count": null,
   "metadata": {},
   "outputs": [],
   "source": [
    "# item added in the same address."
   ]
  },
  {
   "cell_type": "markdown",
   "metadata": {},
   "source": [
    "# remove \n",
    "\n",
    "- this function is used for removing values from set objects.\n",
    "\n",
    "- if the value does not exist in the set and try to remove then we get keyError.\n",
    "\n",
    "- in place of remove we use discard we did't get any error ."
   ]
  },
  {
   "cell_type": "code",
   "execution_count": null,
   "metadata": {},
   "outputs": [],
   "source": [
    "# pop()\n",
    "\n",
    "# setobj.pop()"
   ]
  },
  {
   "cell_type": "code",
   "execution_count": null,
   "metadata": {},
   "outputs": [
    {
     "name": "stdout",
     "output_type": "stream",
     "text": [
      "{(2+5j), 3.14, 10, 'rs'}\n"
     ]
    }
   ],
   "source": [
    "s1={10,\"rs\",3.14,True,2+5j}\n",
    "s1.pop()\n",
    "print(s1)"
   ]
  },
  {
   "cell_type": "code",
   "execution_count": null,
   "metadata": {},
   "outputs": [],
   "source": [
    "#in set any arbitrary element will be removed since it does not follow the indexing number .\n"
   ]
  },
  {
   "cell_type": "code",
   "execution_count": null,
   "metadata": {},
   "outputs": [
    {
     "name": "stdout",
     "output_type": "stream",
     "text": [
      "{(2+5j), 3.14, 10, 'rs'}\n"
     ]
    }
   ],
   "source": [
    "# clear\n",
    "print(s1)"
   ]
  },
  {
   "cell_type": "code",
   "execution_count": null,
   "metadata": {},
   "outputs": [
    {
     "data": {
      "text/plain": [
       "0"
      ]
     },
     "execution_count": 42,
     "metadata": {},
     "output_type": "execute_result"
    }
   ],
   "source": [
    "s1.clear()\n",
    "len(s1)"
   ]
  },
  {
   "cell_type": "code",
   "execution_count": null,
   "metadata": {},
   "outputs": [],
   "source": [
    "# this function is used for removing all element from non-empty set object.\n",
    "\n",
    "# if we call this function empty set object then we get none \n"
   ]
  },
  {
   "cell_type": "code",
   "execution_count": null,
   "metadata": {},
   "outputs": [
    {
     "name": "stdout",
     "output_type": "stream",
     "text": [
      "None\n"
     ]
    }
   ],
   "source": [
    "print(s1.clear())"
   ]
  },
  {
   "cell_type": "code",
   "execution_count": null,
   "metadata": {},
   "outputs": [
    {
     "name": "stdout",
     "output_type": "stream",
     "text": [
      "None\n"
     ]
    }
   ],
   "source": [
    "print(set().clear())"
   ]
  },
  {
   "cell_type": "markdown",
   "metadata": {},
   "source": [
    "# isdisjoint()"
   ]
  },
  {
   "cell_type": "code",
   "execution_count": null,
   "metadata": {},
   "outputs": [
    {
     "name": "stdout",
     "output_type": "stream",
     "text": [
      "True\n",
      "False\n"
     ]
    }
   ],
   "source": [
    "s1={10,20,30,40,50}\n",
    "s2={5,15,25,35,45,55}\n",
    "s3={5,17,19}\n",
    "\n",
    "#s2=s3 are joint set\n",
    "# 5 is present in both s2 and s3\n",
    "\n",
    "# this property can be used in testing eg:-\n",
    "\n",
    "# property of corona virus\n",
    "# if a person matches any of the property then it is said to be infected.\n",
    "\n",
    "print(s1.isdisjoint(s3))\n",
    "print(s2.isdisjoint(s3))"
   ]
  },
  {
   "cell_type": "code",
   "execution_count": null,
   "metadata": {},
   "outputs": [],
   "source": [
    "# syntax:\n",
    "# setobj1.isdisjoint(setobj2)\n",
    "\n",
    "# this function return true provided there is no common element present in setobj1 and setobj2\n",
    "\n",
    "# this function return false provided there is one common element present in setobj1 and setobj2 called joint set or non disjoint set"
   ]
  },
  {
   "cell_type": "code",
   "execution_count": null,
   "metadata": {},
   "outputs": [
    {
     "data": {
      "text/plain": [
       "True"
      ]
     },
     "execution_count": 48,
     "metadata": {},
     "output_type": "execute_result"
    }
   ],
   "source": [
    "s1=set()\n",
    "s2=set()\n",
    "s1.isdisjoint(s2)"
   ]
  },
  {
   "cell_type": "code",
   "execution_count": null,
   "metadata": {},
   "outputs": [
    {
     "data": {
      "text/plain": [
       "True"
      ]
     },
     "execution_count": 49,
     "metadata": {},
     "output_type": "execute_result"
    }
   ],
   "source": [
    "set().isdisjoint(set())"
   ]
  },
  {
   "cell_type": "markdown",
   "metadata": {},
   "source": [
    "# issuperset() , issubset()"
   ]
  },
  {
   "cell_type": "code",
   "execution_count": null,
   "metadata": {},
   "outputs": [
    {
     "data": {
      "text/plain": [
       "True"
      ]
     },
     "execution_count": 51,
     "metadata": {},
     "output_type": "execute_result"
    }
   ],
   "source": [
    "s1.issubset(s2)"
   ]
  },
  {
   "cell_type": "code",
   "execution_count": null,
   "metadata": {},
   "outputs": [
    {
     "data": {
      "text/plain": [
       "True"
      ]
     },
     "execution_count": 52,
     "metadata": {},
     "output_type": "execute_result"
    }
   ],
   "source": [
    "s1.issuperset(s2)"
   ]
  },
  {
   "cell_type": "code",
   "execution_count": null,
   "metadata": {},
   "outputs": [
    {
     "name": "stdout",
     "output_type": "stream",
     "text": [
      "[0, 10, 10, 10, 10, 20, 20, 20, 20, 20, 20, 30, 30, 30, 30, 40, 50, 50, 60, 70, 70, 70, 80, 90] 2413436330048\n",
      "1 --> 10\n",
      "2 --> 10\n",
      "3 --> 10\n",
      "4 --> 10\n",
      "24\n",
      "90\n",
      "0\n",
      "{0, 70, 40, 10, 80, 50, 20, 90, 60, 30}\n",
      "[0, 10, 20, 30, 40, 50, 60, 70, 80, 90]\n"
     ]
    }
   ],
   "source": [
    "lst=[10,20,30,10,20,40,20,30,50,50,60,70,10,30,70,70,80,90,20,20,30,0,10,20]\n",
    "lst.sort()\n",
    "print(lst,id(lst))\n",
    "\n",
    "for i,v in enumerate(lst):\n",
    "    if(v==10):\n",
    "        print(i,\"-->\",v)\n",
    "        \n",
    "print(len(lst))\n",
    "print(max(lst))\n",
    "print(min(lst))\n",
    "# to find the unique number in list convert this into set \n",
    "s1=set(lst)\n",
    "print(s1)\n",
    "# after getting the unique number then convert it into list again to sort the list\n",
    "lst1=list(s1)\n",
    "lst1.sort()\n",
    "print(lst1)\n"
   ]
  },
  {
   "cell_type": "markdown",
   "metadata": {},
   "source": [
    "# set\n",
    "\n",
    "- remove()\n",
    "\n",
    "syntax: setobj.remove(value)\n",
    "\n",
    "- this function is used for removing  the value from the set object\n",
    "\n",
    "- if the value is not in the set we will get key error\n"
   ]
  },
  {
   "cell_type": "code",
   "execution_count": null,
   "metadata": {},
   "outputs": [
    {
     "name": "stdout",
     "output_type": "stream",
     "text": [
      "{True, 34.44, 'b7', 'rs', 10, (2+3j)} <class 'set'>\n"
     ]
    },
    {
     "ename": "KeyError",
     "evalue": "False",
     "output_type": "error",
     "traceback": [
      "\u001b[1;31m---------------------------------------------------------------------------\u001b[0m",
      "\u001b[1;31mKeyError\u001b[0m                                  Traceback (most recent call last)",
      "Cell \u001b[1;32mIn[2], line 3\u001b[0m\n\u001b[0;32m      1\u001b[0m s1\u001b[38;5;241m=\u001b[39m{\u001b[38;5;28;01mTrue\u001b[39;00m,\u001b[38;5;241m34.44\u001b[39m,\u001b[38;5;241m10\u001b[39m,\u001b[38;5;124m\"\u001b[39m\u001b[38;5;124mrs\u001b[39m\u001b[38;5;124m\"\u001b[39m,\u001b[38;5;124m\"\u001b[39m\u001b[38;5;124mb7\u001b[39m\u001b[38;5;124m\"\u001b[39m,\u001b[38;5;241m2\u001b[39m\u001b[38;5;241m+\u001b[39m\u001b[38;5;241m3\u001b[39mj}\n\u001b[0;32m      2\u001b[0m \u001b[38;5;28mprint\u001b[39m(s1,\u001b[38;5;28mtype\u001b[39m(s1))\n\u001b[1;32m----> 3\u001b[0m \u001b[43ms1\u001b[49m\u001b[38;5;241;43m.\u001b[39;49m\u001b[43mremove\u001b[49m\u001b[43m(\u001b[49m\u001b[38;5;28;43;01mFalse\u001b[39;49;00m\u001b[43m)\u001b[49m\n\u001b[0;32m      4\u001b[0m \u001b[38;5;28mprint\u001b[39m(s1,\u001b[38;5;28mtype\u001b[39m(s1))\n",
      "\u001b[1;31mKeyError\u001b[0m: False"
     ]
    }
   ],
   "source": [
    "s1={True,34.44,10,\"rs\",\"b7\",2+3j}\n",
    "print(s1,type(s1))\n",
    "s1.remove(False)\n",
    "print(s1,type(s1))"
   ]
  },
  {
   "cell_type": "markdown",
   "metadata": {},
   "source": [
    "# set\n",
    "- union\n",
    "\n",
    "- union\n",
    "    syntax:-\n",
    "\n",
    "    setObj3=setObj1.union(setObj2)\n",
    "\n",
    "    - this function is used for obtaining unique values of setObj1 and setObj2 and place them in setObj3.\n",
    "\n"
   ]
  },
  {
   "cell_type": "code",
   "execution_count": null,
   "metadata": {},
   "outputs": [
    {
     "name": "stdout",
     "output_type": "stream",
     "text": [
      "{40, 10, 20, 30} <class 'set'>\n",
      "{25, 10, 35, 20} <class 'set'>\n",
      "{35, 40, 10, 20, 25, 30} <class 'set'>\n"
     ]
    }
   ],
   "source": [
    "s1={10,20,30,40}\n",
    "print(s1,type(s1))\n",
    "s2={10,20,25,35}\n",
    "print(s2,type(s2))\n",
    "\n",
    "# to get combination of s1 and s2\n",
    "# use of union mean combining the elements and removing the duplicate \n",
    "\n",
    "s3=s1.union(s2)\n",
    "print(s3,type(s3))\n"
   ]
  },
  {
   "cell_type": "code",
   "execution_count": null,
   "metadata": {},
   "outputs": [
    {
     "name": "stdout",
     "output_type": "stream",
     "text": [
      "{'mysql', 'html', 'css', 'python', 'restapi', 'django'} <class 'set'>\n"
     ]
    }
   ],
   "source": [
    "x={\"python\",\"html\",\"django\"}\n",
    "y={\"css\",\"restapi\",\"mysql\"}\n",
    "z=x.union(y)\n",
    "print(z,type(z))"
   ]
  },
  {
   "cell_type": "markdown",
   "metadata": {},
   "source": [
    "# intersection()\n",
    "\n",
    "- syntax:-\n",
    "    - setObj3=setObj1.intersection(setObj2)\n",
    "\n",
    "    "
   ]
  },
  {
   "cell_type": "code",
   "execution_count": null,
   "metadata": {},
   "outputs": [
    {
     "name": "stdout",
     "output_type": "stream",
     "text": [
      "{40, 10, 20, 30} <class 'set'>\n",
      "{25, 10, 35, 20} <class 'set'>\n",
      "{10, 20} <class 'set'>\n"
     ]
    }
   ],
   "source": [
    "s1={10,20,30,40}\n",
    "print(s1,type(s1))\n",
    "s2={10,20,25,35}\n",
    "print(s2,type(s2))\n",
    "\n",
    "s3=s2.intersection(s1)\n",
    "print(s3,type(s3))"
   ]
  },
  {
   "cell_type": "code",
   "execution_count": null,
   "metadata": {},
   "outputs": [
    {
     "name": "stdout",
     "output_type": "stream",
     "text": [
      "set() <class 'set'> 0\n"
     ]
    }
   ],
   "source": [
    "x={\"python\",\"html\",\"django\"}\n",
    "y={\"css\",\"restapi\",\"mysql\"}\n",
    "z=x.intersection(y)\n",
    "print(z,type(z),len(z))"
   ]
  },
  {
   "cell_type": "code",
   "execution_count": null,
   "metadata": {},
   "outputs": [
    {
     "name": "stdout",
     "output_type": "stream",
     "text": [
      "{1, 35, 5, 40, 10, 50, 20, 25, 'python', 30} <class 'set'>\n"
     ]
    }
   ],
   "source": [
    "s1={10,20,30,40,50}\n",
    "s2={10,20,25,35}\n",
    "s3={1,5,\"python\"}\n",
    "s4=s1.union(s2,s3)\n",
    "print(s4,type(s4))"
   ]
  },
  {
   "cell_type": "code",
   "execution_count": null,
   "metadata": {},
   "outputs": [
    {
     "name": "stdout",
     "output_type": "stream",
     "text": [
      "set() <class 'set'>\n"
     ]
    }
   ],
   "source": [
    "s1={10,20,30,40,50}\n",
    "s2={10,20,25,35}\n",
    "s3={1,5,\"python\"}\n",
    "s4=s1.intersection(s2,s3)\n",
    "print(s4,type(s4))"
   ]
  },
  {
   "cell_type": "markdown",
   "metadata": {},
   "source": [
    "- difference()\n",
    "\n",
    "    this function remove the common elements from from both setObj1 and setObj2 and takes remaining elements from setObj1 and place them in setObj3"
   ]
  },
  {
   "cell_type": "code",
   "execution_count": null,
   "metadata": {},
   "outputs": [
    {
     "name": "stdout",
     "output_type": "stream",
     "text": [
      "{40, 50, 30} <class 'set'>\n"
     ]
    }
   ],
   "source": [
    "s1={10,20,30,40,50}\n",
    "s2={10,20,25,35}\n",
    "s3={1,5,\"python\"}\n",
    "s4=s1.difference(s2,s3)\n",
    "print(s4,type(s4))"
   ]
  },
  {
   "cell_type": "code",
   "execution_count": null,
   "metadata": {},
   "outputs": [
    {
     "name": "stdout",
     "output_type": "stream",
     "text": [
      "{'python', 'html', 'django'} <class 'set'> 3\n"
     ]
    }
   ],
   "source": [
    "x={\"python\",\"html\",\"django\"}\n",
    "y={\"css\",\"restapi\",\"mysql\"}\n",
    "z=x.difference(y)\n",
    "print(z,type(z),len(z))"
   ]
  },
  {
   "cell_type": "code",
   "execution_count": null,
   "metadata": {},
   "outputs": [
    {
     "name": "stdout",
     "output_type": "stream",
     "text": [
      "set() <class 'set'> 0\n"
     ]
    }
   ],
   "source": [
    "k={1,2,3}\n",
    "v={1,2,3}\n",
    "r=k.difference(v)\n",
    "print(r,type(r),len(r))"
   ]
  },
  {
   "cell_type": "markdown",
   "metadata": {},
   "source": [
    "# symmetric_difference()\n",
    "\n",
    "- setObj3=setObj1.symmetric_diffrence(setObj2)\n",
    "\n",
    "- this element remove the common elements from both setObj1 and setObj2 and takes remaining elements from setObj and setObj2 and place them in setObj3 \n",
    "\n"
   ]
  },
  {
   "cell_type": "code",
   "execution_count": null,
   "metadata": {},
   "outputs": [
    {
     "name": "stdout",
     "output_type": "stream",
     "text": [
      "{35, 40, 25, 30}\n"
     ]
    }
   ],
   "source": [
    "s1={10,20,30,40}\n",
    "s2={10,20,25,35}\n",
    "s3=s1.symmetric_difference(s2)\n",
    "print(s3)"
   ]
  },
  {
   "cell_type": "code",
   "execution_count": null,
   "metadata": {},
   "outputs": [
    {
     "name": "stdout",
     "output_type": "stream",
     "text": [
      "set() <class 'set'> 0\n"
     ]
    }
   ],
   "source": [
    "k={1,2,3}\n",
    "v={1,2,3}\n",
    "r=k.symmetric_difference(v)\n",
    "print(r,type(r),len(r))"
   ]
  },
  {
   "cell_type": "code",
   "execution_count": null,
   "metadata": {},
   "outputs": [
    {
     "name": "stdout",
     "output_type": "stream",
     "text": [
      "{'html', 'restapi', 'mysql', 'css', 'python', 'django'} <class 'set'> 6\n"
     ]
    }
   ],
   "source": [
    "x={\"python\",\"html\",\"django\"}\n",
    "y={\"css\",\"restapi\",\"mysql\"}\n",
    "z=x.symmetric_difference(y)\n",
    "print(z,type(z),len(z))"
   ]
  },
  {
   "cell_type": "markdown",
   "metadata": {},
   "source": [
    "# Most important Question (Interview):"
   ]
  },
  {
   "cell_type": "code",
   "execution_count": null,
   "metadata": {},
   "outputs": [
    {
     "name": "stdout",
     "output_type": "stream",
     "text": [
      "{'rossum', 'kohli', 'rohit', 'travis', 'kinney'}\n"
     ]
    }
   ],
   "source": [
    "# find names of all the player who are playing all types of games---union()\n",
    "\n",
    "cric={\"rohit\",\"kohli\",\"rossum\"}\n",
    "tennis={\"travis\",\"kinney\",\"rossum\"}\n",
    "\n",
    "tournament=cric.union(tennis)\n",
    "print(tournament)"
   ]
  },
  {
   "cell_type": "code",
   "execution_count": null,
   "metadata": {},
   "outputs": [
    {
     "name": "stdout",
     "output_type": "stream",
     "text": [
      "{'rossum'}\n"
     ]
    }
   ],
   "source": [
    "# who play both games\n",
    "cric={\"rohit\",\"kohli\",\"rossum\"}\n",
    "tennis={\"travis\",\"kinney\",\"rossum\"}\n",
    "tournament=cric.intersection(tennis)\n",
    "print(tournament)"
   ]
  },
  {
   "cell_type": "code",
   "execution_count": null,
   "metadata": {},
   "outputs": [
    {
     "name": "stdout",
     "output_type": "stream",
     "text": [
      "{'kohli', 'rohit'}\n"
     ]
    }
   ],
   "source": [
    "#only cricket player but not tennis\n",
    "\n",
    "cric={\"rohit\",\"kohli\",\"rossum\"}\n",
    "tennis={\"travis\",\"kinney\",\"rossum\"}\n",
    "tournament=cric.difference(tennis)\n",
    "print(tournament)\n"
   ]
  },
  {
   "cell_type": "code",
   "execution_count": null,
   "metadata": {},
   "outputs": [
    {
     "name": "stdout",
     "output_type": "stream",
     "text": [
      "{'kinney', 'travis'}\n"
     ]
    }
   ],
   "source": [
    "#only tennis player but not cricket\n",
    "\n",
    "cric={\"rohit\",\"kohli\",\"rossum\"}\n",
    "tennis={\"travis\",\"kinney\",\"rossum\"}\n",
    "tournament=tennis.difference(cric)\n",
    "print(tournament)"
   ]
  },
  {
   "cell_type": "code",
   "execution_count": null,
   "metadata": {},
   "outputs": [
    {
     "name": "stdout",
     "output_type": "stream",
     "text": [
      "{'kinney', 'kohli', 'rohit', 'travis'}\n"
     ]
    }
   ],
   "source": [
    "# exclusively playing cricket and tennis \n",
    "# ie., except \"rossum\" all the palyer\n",
    "\n",
    "#only cricket player but not tennis\n",
    "\n",
    "cric={\"rohit\",\"kohli\",\"rossum\"}\n",
    "tennis={\"travis\",\"kinney\",\"rossum\"}\n",
    "tournament=cric.symmetric_difference(tennis)\n",
    "print(tournament)"
   ]
  },
  {
   "cell_type": "markdown",
   "metadata": {},
   "source": [
    "# without using this pre made function \n",
    "- MNC QUESTION\n",
    "- To solve this  we will use bitwise operators"
   ]
  },
  {
   "cell_type": "code",
   "execution_count": null,
   "metadata": {},
   "outputs": [
    {
     "name": "stdout",
     "output_type": "stream",
     "text": [
      "{'kohli', 'rohit'}\n"
     ]
    }
   ],
   "source": [
    "#only cricket player but not tennis\n",
    "\n",
    "cric={\"rohit\",\"kohli\",\"rossum\"}\n",
    "tennis={\"travis\",\"kinney\",\"rossum\"}\n",
    "tournament=cric.difference(tennis)\n",
    "print(tournament)"
   ]
  },
  {
   "cell_type": "code",
   "execution_count": null,
   "metadata": {},
   "outputs": [
    {
     "name": "stdout",
     "output_type": "stream",
     "text": [
      "{'rossum', 'kohli', 'rohit', 'travis', 'kinney'}\n",
      "{'rossum', 'kohli', 'rohit', 'travis', 'kinney'}\n"
     ]
    }
   ],
   "source": [
    "# find names of all the player who are playing all types of games---union()\n",
    "\n",
    "cric={\"rohit\",\"kohli\",\"rossum\"}\n",
    "tennis={\"travis\",\"kinney\",\"rossum\"}\n",
    "\n",
    "tournament=cric.union(tennis)\n",
    "print(tournament)\n",
    "\n",
    "\n",
    "# also\n",
    "\n",
    "torunamnent2=cric|tennis\n",
    "print(torunamnent2)"
   ]
  },
  {
   "cell_type": "code",
   "execution_count": null,
   "metadata": {},
   "outputs": [
    {
     "name": "stdout",
     "output_type": "stream",
     "text": [
      "{'rossum'}\n",
      "{'rossum'}\n"
     ]
    }
   ],
   "source": [
    "# who play both games\n",
    "cric={\"rohit\",\"kohli\",\"rossum\"}\n",
    "tennis={\"travis\",\"kinney\",\"rossum\"}\n",
    "tournament=cric.intersection(tennis)\n",
    "print(tournament)\n",
    "\n",
    "# also\n",
    "\n",
    "torunamnent2=cric&tennis\n",
    "print(torunamnent2)\n"
   ]
  },
  {
   "cell_type": "code",
   "execution_count": null,
   "metadata": {},
   "outputs": [
    {
     "name": "stdout",
     "output_type": "stream",
     "text": [
      "{'kohli', 'rohit'}\n",
      "{'kohli', 'rohit'}\n"
     ]
    }
   ],
   "source": [
    "#only cricket player but not tennis\n",
    "\n",
    "cric={\"rohit\",\"kohli\",\"rossum\"}\n",
    "tennis={\"travis\",\"kinney\",\"rossum\"}\n",
    "tournament=cric.difference(tennis)\n",
    "print(tournament)\n",
    "\n",
    "\n",
    "# also\n",
    "\n",
    "torunamnent2=cric-tennis\n",
    "print(torunamnent2)"
   ]
  },
  {
   "cell_type": "code",
   "execution_count": null,
   "metadata": {},
   "outputs": [
    {
     "name": "stdout",
     "output_type": "stream",
     "text": [
      "{'kinney', 'travis'}\n",
      "{'kinney', 'travis'}\n"
     ]
    }
   ],
   "source": [
    "#only tennis player but not cricket\n",
    "\n",
    "cric={\"rohit\",\"kohli\",\"rossum\"}\n",
    "tennis={\"travis\",\"kinney\",\"rossum\"}\n",
    "tournament=tennis.difference(cric)\n",
    "print(tournament)\n",
    "\n",
    "# also\n",
    "\n",
    "torunamnent2=tennis-cric\n",
    "print(torunamnent2)"
   ]
  },
  {
   "cell_type": "code",
   "execution_count": null,
   "metadata": {},
   "outputs": [
    {
     "name": "stdout",
     "output_type": "stream",
     "text": [
      "{'kinney', 'kohli', 'rohit', 'travis'}\n",
      "{'kinney', 'kohli', 'rohit', 'travis'}\n"
     ]
    }
   ],
   "source": [
    "# exclusively playing cricket and tennis \n",
    "# ie., except \"rossum\" all the player\n",
    "\n",
    "#only cricket player but not tennis\n",
    "\n",
    "cric={\"rohit\",\"kohli\",\"rossum\"}\n",
    "tennis={\"travis\",\"kinney\",\"rossum\"}\n",
    "tournament=cric.symmetric_difference(tennis)\n",
    "print(tournament)\n",
    "\n",
    "# also\n",
    "\n",
    "torunamnent2=cric^tennis\n",
    "print(torunamnent2)"
   ]
  },
  {
   "cell_type": "code",
   "execution_count": null,
   "metadata": {},
   "outputs": [],
   "source": [
    "# nested set or inner set "
   ]
  },
  {
   "cell_type": "code",
   "execution_count": null,
   "metadata": {},
   "outputs": [
    {
     "ename": "TypeError",
     "evalue": "unhashable type: 'set'",
     "output_type": "error",
     "traceback": [
      "\u001b[1;31m---------------------------------------------------------------------------\u001b[0m",
      "\u001b[1;31mTypeError\u001b[0m                                 Traceback (most recent call last)",
      "Cell \u001b[1;32mIn[27], line 1\u001b[0m\n\u001b[1;32m----> 1\u001b[0m s1\u001b[38;5;241m=\u001b[39m{\u001b[38;5;241m10\u001b[39m,\u001b[38;5;124m\"\u001b[39m\u001b[38;5;124mrs\u001b[39m\u001b[38;5;124m\"\u001b[39m,{\u001b[38;5;241m16\u001b[39m,\u001b[38;5;241m17\u001b[39m,\u001b[38;5;241m18\u001b[39m},{\u001b[38;5;241m77\u001b[39m,\u001b[38;5;241m67\u001b[39m,\u001b[38;5;241m78\u001b[39m},\u001b[38;5;124m\"\u001b[39m\u001b[38;5;124moucet\u001b[39m\u001b[38;5;124m\"\u001b[39m}\n\u001b[0;32m      3\u001b[0m \u001b[38;5;66;03m#  writing set in set has no meaning since it has no indexing\u001b[39;00m\n\u001b[0;32m      4\u001b[0m \n\u001b[0;32m      5\u001b[0m \u001b[38;5;66;03m# type error\u001b[39;00m\n\u001b[0;32m      6\u001b[0m \u001b[38;5;66;03m# unhashable mean no indexing, no slicing ,no modification\u001b[39;00m\n",
      "\u001b[1;31mTypeError\u001b[0m: unhashable type: 'set'"
     ]
    }
   ],
   "source": [
    "s1={10,\"rs\",{16,17,18},{77,67,78},\"oucet\"}\n",
    "\n",
    "#  writing set in set has no meaning since it has no indexing\n",
    "\n",
    "# type error\n",
    "# unhashable mean no indexing, no slicing ,no modification"
   ]
  },
  {
   "cell_type": "code",
   "execution_count": null,
   "metadata": {},
   "outputs": [
    {
     "ename": "TypeError",
     "evalue": "unhashable type: 'list'",
     "output_type": "error",
     "traceback": [
      "\u001b[1;31m---------------------------------------------------------------------------\u001b[0m",
      "\u001b[1;31mTypeError\u001b[0m                                 Traceback (most recent call last)",
      "Cell \u001b[1;32mIn[28], line 1\u001b[0m\n\u001b[1;32m----> 1\u001b[0m s1\u001b[38;5;241m=\u001b[39m{\u001b[38;5;241m10\u001b[39m,\u001b[38;5;124m\"\u001b[39m\u001b[38;5;124mrs\u001b[39m\u001b[38;5;124m\"\u001b[39m,[\u001b[38;5;241m16\u001b[39m,\u001b[38;5;241m17\u001b[39m,\u001b[38;5;241m18\u001b[39m],[\u001b[38;5;241m77\u001b[39m,\u001b[38;5;241m67\u001b[39m,\u001b[38;5;241m78\u001b[39m],\u001b[38;5;124m\"\u001b[39m\u001b[38;5;124moucet\u001b[39m\u001b[38;5;124m\"\u001b[39m}\n",
      "\u001b[1;31mTypeError\u001b[0m: unhashable type: 'list'"
     ]
    }
   ],
   "source": [
    "s1={10,\"rs\",[16,17,18],[77,67,78],\"oucet\"}"
   ]
  },
  {
   "cell_type": "markdown",
   "metadata": {},
   "source": [
    "# set in set is not possible\n",
    "# set in list is not possible"
   ]
  },
  {
   "cell_type": "code",
   "execution_count": null,
   "metadata": {},
   "outputs": [
    {
     "name": "stdout",
     "output_type": "stream",
     "text": [
      "{'rs', 'oucet', 10, (16, 17, 18), (77, 67, 78)} <class 'set'>\n"
     ]
    }
   ],
   "source": [
    "s1={10,\"rs\",(16,17,18),(77,67,78),\"oucet\"}\n",
    "print(s1,type(s1))"
   ]
  },
  {
   "cell_type": "markdown",
   "metadata": {},
   "source": [
    "# set in tuple is possible\n",
    "# since it is immutable"
   ]
  },
  {
   "cell_type": "code",
   "execution_count": null,
   "metadata": {},
   "outputs": [
    {
     "name": "stdout",
     "output_type": "stream",
     "text": [
      "321\n"
     ]
    }
   ],
   "source": [
    "# to reverse an integer \n",
    "# step 1: convert integer to string\n",
    "# step 2: reverse the string\n",
    "\n",
    "x=123\n",
    "str(x)\n",
    "print(str(x)[::-1])"
   ]
  },
  {
   "cell_type": "code",
   "execution_count": null,
   "metadata": {},
   "outputs": [
    {
     "name": "stdout",
     "output_type": "stream",
     "text": [
      "-321\n"
     ]
    }
   ],
   "source": [
    "x=-123\n",
    "# reverse this as -321\n",
    "\n",
    "str(x)[1:]\n",
    "str(x)[1:][::-1]\n",
    "print(int(str(x)[1:][::-1])*-1)"
   ]
  },
  {
   "cell_type": "markdown",
   "metadata": {},
   "source": [
    "# frozenset (immutable)\n",
    "\n",
    "- the functionality of frozenset is exactly similar to set but an object of set belongs to both mutable(add,remove,pop,discard.etc) and also immutable in case of item assignment whereas frozenset object belongs to immutable because it niether perform item assignment or add,remove, discrad etc.,\n"
   ]
  },
  {
   "cell_type": "code",
   "execution_count": null,
   "metadata": {},
   "outputs": [
    {
     "name": "stdout",
     "output_type": "stream",
     "text": [
      "frozenset({40, 10, 20, 30}) <class 'frozenset'>\n"
     ]
    }
   ],
   "source": [
    "s1={10,20,30,40}\n",
    "fs=frozenset(s1)\n",
    "print(fs,type(fs))"
   ]
  },
  {
   "cell_type": "code",
   "execution_count": null,
   "metadata": {},
   "outputs": [
    {
     "name": "stdout",
     "output_type": "stream",
     "text": [
      "frozenset({'s', 'i', 'p', 'm'}) <class 'frozenset'>\n"
     ]
    }
   ],
   "source": [
    "s=\"mississippi\"\n",
    "fs=frozenset(s)\n",
    "print(fs,type(fs))"
   ]
  },
  {
   "cell_type": "markdown",
   "metadata": {},
   "source": [
    "- function in frozenset\n",
    "\n",
    "- isdisjoint\n",
    "- issuperset\n",
    "- issubset\n",
    "- union\n",
    "- intersection\n",
    "- difference\n",
    "- symmetric difference\n",
    "- copy\n",
    "\n",
    "\n"
   ]
  },
  {
   "cell_type": "markdown",
   "metadata": {},
   "source": [
    "# dict category data type (collection data type)\n",
    "\n",
    "- dict  --> dictionary ==> difficult word=meaning key,value\n",
    "\n",
    "- key:value pair\n",
    "\n",
    "- values of key are unique\n",
    "\n",
    "- value of value are unique / duplicate\n",
    "\n",
    "- to store the (key:value ), in dict we use curly braces.\n",
    "\n",
    "- syntax:\n",
    "\n",
    "    - varname={key1:value1,key2:value2,...}\n",
    "\n",
    "    - here key1\n",
    "\n"
   ]
  },
  {
   "cell_type": "code",
   "execution_count": null,
   "metadata": {},
   "outputs": [
    {
     "name": "stdout",
     "output_type": "stream",
     "text": [
      "{} <class 'dict'>\n"
     ]
    }
   ],
   "source": [
    "# to create empty dictionary\n",
    "d1=dict()\n",
    "print(d1,type(d1))"
   ]
  },
  {
   "cell_type": "code",
   "execution_count": null,
   "metadata": {},
   "outputs": [
    {
     "name": "stdout",
     "output_type": "stream",
     "text": [
      "{} <class 'dict'>\n"
     ]
    }
   ],
   "source": [
    "# to create empty dictionary\n",
    "d1={}\n",
    "print(d1,type(d1))"
   ]
  },
  {
   "cell_type": "code",
   "execution_count": null,
   "metadata": {},
   "outputs": [
    {
     "name": "stdout",
     "output_type": "stream",
     "text": [
      "{10: 3.4, 20: 1.3}\n"
     ]
    }
   ],
   "source": [
    "d1={10:1.2,20:1.3,10:3.4}\n",
    "print(d1)"
   ]
  },
  {
   "cell_type": "code",
   "execution_count": null,
   "metadata": {},
   "outputs": [],
   "source": [
    " # in dict we dont have indexing and slicing \n"
   ]
  },
  {
   "cell_type": "code",
   "execution_count": null,
   "metadata": {},
   "outputs": [
    {
     "name": "stdout",
     "output_type": "stream",
     "text": [
      "{10: 3.4, 20: 1.3} 2413442443392\n",
      "{10: 3.7, 20: 1.3} 2413442443392\n"
     ]
    }
   ],
   "source": [
    "d1={10:1.2,20:1.3,10:3.4}\n",
    "print(d1,id(d1))\n",
    "d1[10]=3.7\n",
    "print(d1,id(d1))"
   ]
  },
  {
   "cell_type": "code",
   "execution_count": null,
   "metadata": {},
   "outputs": [
    {
     "name": "stdout",
     "output_type": "stream",
     "text": [
      "{100: 1.2, 200: 2.3000000000000003}\n"
     ]
    }
   ],
   "source": [
    "# adding (key:value) to empty dict\n",
    "# syntax : dictObj[key]=value\n",
    "d1=dict()\n",
    "d1[100]=1.2\n",
    "d1[200]=2.2+0.1\n",
    "print(d1)"
   ]
  },
  {
   "cell_type": "code",
   "execution_count": null,
   "metadata": {},
   "outputs": [
    {
     "data": {
      "text/plain": [
       "2"
      ]
     },
     "execution_count": 41,
     "metadata": {},
     "output_type": "execute_result"
    }
   ],
   "source": [
    "len(d1)"
   ]
  },
  {
   "cell_type": "markdown",
   "metadata": {},
   "source": [
    "# Pre define function in dict\n",
    "\n",
    "- we can perform insert the (key:value) and how to modify the value by passing value of key along with these operation.\n",
    "\n",
    "- 1.clear()\n",
    "- 2. pop()\n",
    "- 3. popitem()\n",
    "  4. copy()\n",
    "  5. get()\n",
    "  6. keys()\n",
    "  7. values()\n",
    "  8. items()\n"
   ]
  },
  {
   "cell_type": "code",
   "execution_count": null,
   "metadata": {},
   "outputs": [
    {
     "ename": "KeyError",
     "evalue": "0",
     "output_type": "error",
     "traceback": [
      "\u001b[1;31m---------------------------------------------------------------------------\u001b[0m",
      "\u001b[1;31mKeyError\u001b[0m                                  Traceback (most recent call last)",
      "Cell \u001b[1;32mIn[42], line 2\u001b[0m\n\u001b[0;32m      1\u001b[0m d1\u001b[38;5;241m=\u001b[39m{\u001b[38;5;241m10\u001b[39m:\u001b[38;5;124m\"\u001b[39m\u001b[38;5;124mapple\u001b[39m\u001b[38;5;124m\"\u001b[39m,\u001b[38;5;241m20\u001b[39m:\u001b[38;5;124m\"\u001b[39m\u001b[38;5;124mbanana\u001b[39m\u001b[38;5;124m\"\u001b[39m,\u001b[38;5;241m30\u001b[39m:\u001b[38;5;124m\"\u001b[39m\u001b[38;5;124mguava\u001b[39m\u001b[38;5;124m\"\u001b[39m}\n\u001b[1;32m----> 2\u001b[0m \u001b[43md1\u001b[49m\u001b[43m[\u001b[49m\u001b[38;5;241;43m0\u001b[39;49m\u001b[43m]\u001b[49m\n",
      "\u001b[1;31mKeyError\u001b[0m: 0"
     ]
    }
   ],
   "source": [
    "d1={10:\"apple\",20:\"banana\",30:\"guava\"}\n",
    "d1[0]"
   ]
  },
  {
   "cell_type": "code",
   "execution_count": null,
   "metadata": {},
   "outputs": [
    {
     "name": "stdout",
     "output_type": "stream",
     "text": [
      "{10: 'apple', 20: 'banana', 30: 'guava', 50: 4.5}\n"
     ]
    }
   ],
   "source": [
    "d1[50]=4.5\n",
    "print(d1)"
   ]
  },
  {
   "cell_type": "code",
   "execution_count": null,
   "metadata": {},
   "outputs": [],
   "source": [
    "# pre define function in dict"
   ]
  },
  {
   "cell_type": "markdown",
   "metadata": {},
   "source": [
    "# clear"
   ]
  },
  {
   "cell_type": "code",
   "execution_count": null,
   "metadata": {},
   "outputs": [
    {
     "name": "stdout",
     "output_type": "stream",
     "text": [
      "{} 2413442269824 <class 'dict'>\n"
     ]
    }
   ],
   "source": [
    "d1={10:\"apple\",20:\"banana\",30:\"guava\"}\n",
    "d1.clear()\n",
    "\n",
    "print(d1,id(d1),type(d1))"
   ]
  },
  {
   "cell_type": "code",
   "execution_count": null,
   "metadata": {},
   "outputs": [
    {
     "name": "stdout",
     "output_type": "stream",
     "text": [
      "None\n",
      "{} 2413442269824 <class 'dict'>\n"
     ]
    }
   ],
   "source": [
    "print(d1.clear())\n",
    "print(d1,id(d1),type(d1))"
   ]
  },
  {
   "cell_type": "code",
   "execution_count": null,
   "metadata": {},
   "outputs": [
    {
     "name": "stdout",
     "output_type": "stream",
     "text": [
      "{10: 'apple', 30: 'guava'} 2413442200704 <class 'dict'>\n"
     ]
    }
   ],
   "source": [
    "#pop\n",
    "d1={10:\"apple\",20:\"banana\",30:\"guava\"}\n",
    "d1.pop(20)\n",
    "print(d1,id(d1),type(d1))"
   ]
  },
  {
   "cell_type": "markdown",
   "metadata": {},
   "source": [
    "- pop()\n",
    "dictobj.pop(key)\n",
    "\n",
    "- this function is used for removing (key,value) from non-empty dict object \n",
    "\n",
    "- if value does not exist then we get keyError"
   ]
  },
  {
   "cell_type": "code",
   "execution_count": null,
   "metadata": {},
   "outputs": [
    {
     "ename": "KeyError",
     "evalue": "50",
     "output_type": "error",
     "traceback": [
      "\u001b[1;31m---------------------------------------------------------------------------\u001b[0m",
      "\u001b[1;31mKeyError\u001b[0m                                  Traceback (most recent call last)",
      "Cell \u001b[1;32mIn[48], line 1\u001b[0m\n\u001b[1;32m----> 1\u001b[0m \u001b[43md1\u001b[49m\u001b[38;5;241;43m.\u001b[39;49m\u001b[43mpop\u001b[49m\u001b[43m(\u001b[49m\u001b[38;5;241;43m50\u001b[39;49m\u001b[43m)\u001b[49m\n\u001b[0;32m      2\u001b[0m \u001b[38;5;28mprint\u001b[39m(d1,\u001b[38;5;28mid\u001b[39m(d1),\u001b[38;5;28mtype\u001b[39m(d1))\n",
      "\u001b[1;31mKeyError\u001b[0m: 50"
     ]
    }
   ],
   "source": [
    "d1.pop(50)\n",
    "print(d1,id(d1),type(d1))"
   ]
  },
  {
   "cell_type": "code",
   "execution_count": null,
   "metadata": {},
   "outputs": [
    {
     "name": "stdout",
     "output_type": "stream",
     "text": [
      "{10: 'apple'} 2413442200704 <class 'dict'>\n"
     ]
    }
   ],
   "source": [
    "d1.popitem()\n",
    "\n",
    "print(d1,id(d1),type(d1))"
   ]
  },
  {
   "cell_type": "code",
   "execution_count": null,
   "metadata": {},
   "outputs": [],
   "source": [
    "# it automatically remove from last index"
   ]
  },
  {
   "cell_type": "markdown",
   "metadata": {},
   "source": [
    "- popitem()\n",
    "\n",
    "- this function is used for removing last (key,value) from non-empty dict object\n",
    "\n",
    "- if dict is empty and we try to remove it from dictobj then we will get keyerror\n",
    "\n"
   ]
  },
  {
   "cell_type": "code",
   "execution_count": null,
   "metadata": {},
   "outputs": [
    {
     "ename": "NameError",
     "evalue": "name 'dictobj1' is not defined",
     "output_type": "error",
     "traceback": [
      "\u001b[1;31m---------------------------------------------------------------------------\u001b[0m",
      "\u001b[1;31mNameError\u001b[0m                                 Traceback (most recent call last)",
      "Cell \u001b[1;32mIn[52], line 2\u001b[0m\n\u001b[0;32m      1\u001b[0m \u001b[38;5;66;03m# copy\u001b[39;00m\n\u001b[1;32m----> 2\u001b[0m dictobj2\u001b[38;5;241m=\u001b[39m\u001b[43mdictobj1\u001b[49m\u001b[38;5;241m.\u001b[39mcopy()\n\u001b[0;32m      4\u001b[0m d2\u001b[38;5;241m=\u001b[39md1 \u001b[38;5;66;03m# shallow copy\u001b[39;00m\n",
      "\u001b[1;31mNameError\u001b[0m: name 'dictobj1' is not defined"
     ]
    }
   ],
   "source": [
    "# copy\n",
    "dictobj2=dictobj1.copy()\n",
    "\n",
    "d2=d1 # shallow copy"
   ]
  },
  {
   "cell_type": "code",
   "execution_count": null,
   "metadata": {},
   "outputs": [
    {
     "name": "stdout",
     "output_type": "stream",
     "text": [
      "apple\n"
     ]
    }
   ],
   "source": [
    "# get()\n",
    "d1={10:\"apple\",20:\"banana\",30:\"guava\"}\n",
    "val=d1.get(10)\n",
    "print(val)\n",
    "\n"
   ]
  },
  {
   "cell_type": "code",
   "execution_count": null,
   "metadata": {},
   "outputs": [
    {
     "name": "stdout",
     "output_type": "stream",
     "text": [
      "None\n"
     ]
    }
   ],
   "source": [
    "val=d1.get(900)\n",
    "print(val)"
   ]
  },
  {
   "cell_type": "markdown",
   "metadata": {},
   "source": [
    "- key()\n",
    "\n",
    "- dictobj.keys()\n",
    "\n",
    "- this function is used for obtaining value of key and placed in varname and whose type <class,'dict_keys>"
   ]
  },
  {
   "cell_type": "code",
   "execution_count": null,
   "metadata": {},
   "outputs": [
    {
     "data": {
      "text/plain": [
       "dict_keys([10, 20, 30, 40])"
      ]
     },
     "execution_count": 55,
     "metadata": {},
     "output_type": "execute_result"
    }
   ],
   "source": [
    "d1={10:\"python\",20:\"java\",30:\"c\",40:\"javascript\"}\n",
    "d1.keys()"
   ]
  },
  {
   "cell_type": "code",
   "execution_count": null,
   "metadata": {},
   "outputs": [
    {
     "name": "stdout",
     "output_type": "stream",
     "text": [
      "dict_keys([10, 20, 30, 40])\n"
     ]
    }
   ],
   "source": [
    "ks=d1.keys()\n",
    "print(ks)"
   ]
  },
  {
   "cell_type": "code",
   "execution_count": null,
   "metadata": {},
   "outputs": [
    {
     "name": "stdout",
     "output_type": "stream",
     "text": [
      "10\n",
      "20\n",
      "30\n",
      "40\n"
     ]
    }
   ],
   "source": [
    "for k in d1.keys():\n",
    "    print(k)\n"
   ]
  },
  {
   "cell_type": "code",
   "execution_count": null,
   "metadata": {},
   "outputs": [
    {
     "name": "stdout",
     "output_type": "stream",
     "text": [
      "python\n",
      "java\n",
      "c\n",
      "javascript\n"
     ]
    }
   ],
   "source": [
    "for v in d1.values():\n",
    "    print(v)"
   ]
  },
  {
   "cell_type": "markdown",
   "metadata": {},
   "source": [
    "# items()"
   ]
  },
  {
   "cell_type": "code",
   "execution_count": null,
   "metadata": {},
   "outputs": [
    {
     "data": {
      "text/plain": [
       "dict_items([(10, 'python'), (20, 'java'), (30, 'c'), (40, 'javascript')])"
      ]
     },
     "execution_count": 59,
     "metadata": {},
     "output_type": "execute_result"
    }
   ],
   "source": [
    "d1.items()"
   ]
  },
  {
   "cell_type": "code",
   "execution_count": null,
   "metadata": {},
   "outputs": [
    {
     "name": "stdout",
     "output_type": "stream",
     "text": [
      "10 --> python\n",
      "20 --> java\n",
      "30 --> c\n",
      "40 --> javascript\n"
     ]
    }
   ],
   "source": [
    "for k,v in d1.items():\n",
    "    print(k,\"-->\",v) "
   ]
  },
  {
   "cell_type": "markdown",
   "metadata": {},
   "source": [
    "# combination of dict with list ,tuple,set"
   ]
  },
  {
   "cell_type": "code",
   "execution_count": null,
   "metadata": {},
   "outputs": [],
   "source": [
    "#dict in dict\n",
    "#list in dict\n",
    "#tuple in dict\n",
    "#set in dict\n",
    "#dict in list"
   ]
  },
  {
   "cell_type": "code",
   "execution_count": null,
   "metadata": {},
   "outputs": [
    {
     "name": "stdout",
     "output_type": "stream",
     "text": [
      "{'sno': 10, 'name': 'rs', 'IM': {'cm': 17, 'os': 16, 'py': 19}, 'EM': {'cm': 67, 'os': 78, 'py': 67}, 'cname': 'oucet'} 2413436406336 <class 'dict'>\n"
     ]
    }
   ],
   "source": [
    "#dict iin dict\n",
    "d1={\"sno\":10,\"name\":\"rs\",\"IM\":{\"cm\":17,\"os\":16,\"py\":19},\"EM\":{\"cm\":67,\"os\":78,\"py\":67},\"cname\":\"oucet\"}\n",
    "\n",
    "print(d1,id(d1),type(d1))"
   ]
  },
  {
   "cell_type": "code",
   "execution_count": null,
   "metadata": {},
   "outputs": [
    {
     "name": "stdout",
     "output_type": "stream",
     "text": [
      "('sno', 10) <class 'tuple'>\n",
      "('name', 'rs') <class 'tuple'>\n",
      "('IM', {'cm': 17, 'os': 16, 'py': 19}) <class 'tuple'>\n",
      "('EM', {'cm': 67, 'os': 78, 'py': 67}) <class 'tuple'>\n",
      "('cname', 'oucet') <class 'tuple'>\n"
     ]
    }
   ],
   "source": [
    "for kv in d1.items():\n",
    "    print(kv,type(kv))"
   ]
  },
  {
   "cell_type": "code",
   "execution_count": null,
   "metadata": {},
   "outputs": [
    {
     "name": "stdout",
     "output_type": "stream",
     "text": [
      "sno --> 10 <class 'int'> --> <class 'dict'>\n",
      "name --> rs <class 'str'> --> <class 'dict'>\n",
      "IM --> {'cm': 17, 'os': 16, 'py': 19} <class 'dict'> --> <class 'dict'>\n",
      "EM --> {'cm': 67, 'os': 78, 'py': 67} <class 'dict'> --> <class 'dict'>\n",
      "cname --> oucet <class 'str'> --> <class 'dict'>\n"
     ]
    }
   ],
   "source": [
    "for k,v in d1.items():\n",
    "    print(k,\"-->\",v,type(v),\"-->\",type(d1))"
   ]
  },
  {
   "cell_type": "code",
   "execution_count": null,
   "metadata": {},
   "outputs": [
    {
     "name": "stdout",
     "output_type": "stream",
     "text": [
      "cm --> 17\n",
      "os --> 16\n",
      "py --> 19\n"
     ]
    }
   ],
   "source": [
    "# INTERNAL MARKS\n",
    "for k,v in d1[\"IM\"].items():\n",
    "    print(k,\"-->\",v)"
   ]
  },
  {
   "cell_type": "code",
   "execution_count": null,
   "metadata": {},
   "outputs": [
    {
     "name": "stdout",
     "output_type": "stream",
     "text": [
      "cm --> 67\n",
      "os --> 78\n",
      "py --> 67\n"
     ]
    }
   ],
   "source": [
    "# EXTERNAL MARKS\n",
    "for k,v in d1[\"EM\"].items():\n",
    "    print(k,\"-->\",v)"
   ]
  },
  {
   "cell_type": "code",
   "execution_count": null,
   "metadata": {},
   "outputs": [
    {
     "name": "stdout",
     "output_type": "stream",
     "text": [
      "{'sno': 10, 'name': 'rs', 'IM': {'cm': 17, 'py': 19}, 'EM': {'cm': 67, 'os': 78, 'py': 67}, 'cname': 'oucet'}\n"
     ]
    }
   ],
   "source": [
    "d1[\"IM\"].pop(\"os\")\n",
    "print(d1)"
   ]
  },
  {
   "cell_type": "code",
   "execution_count": null,
   "metadata": {},
   "outputs": [
    {
     "name": "stdout",
     "output_type": "stream",
     "text": [
      "{'sno': 10, 'name': 'rs', 'IM': {'cm': 17, 'os': 16, 'py': 19}, 'EM': {'cm': 17, 'os': 78, 'py': 67}, 'cname': 'oucet'}\n"
     ]
    }
   ],
   "source": [
    "d1={\"sno\":10,\"name\":\"rs\",\"IM\":{\"cm\":17,\"os\":16,\"py\":19},\"EM\":{\"cm\":67,\"os\":78,\"py\":67},\"cname\":\"oucet\"}\n",
    "\n",
    "d1[\"EM\"][\"cm\"]=17\n",
    "d1[\"IM\"][\"os\"]=16\n",
    "print(d1)\n"
   ]
  },
  {
   "cell_type": "code",
   "execution_count": null,
   "metadata": {},
   "outputs": [
    {
     "name": "stdout",
     "output_type": "stream",
     "text": [
      "{'sno': 10, 'name': 'rs', 'IM': {'cm': 17, 'os': 16, 'py': 19}, 'EM': {'cm': 67, 'os': 78, 'py': 65}, 'cname': 'oucet'}\n"
     ]
    }
   ],
   "source": [
    "#update the \"EM\" of py\n",
    "d1={\"sno\":10,\"name\":\"rs\",\"IM\":{\"cm\":17,\"os\":16,\"py\":19},\"EM\":{\"cm\":67,\"os\":78,\"py\":67},\"cname\":\"oucet\"}\n",
    "\n",
    "d1[\"EM\"][\"py\"]=65\n",
    "print(d1)"
   ]
  },
  {
   "cell_type": "code",
   "execution_count": null,
   "metadata": {},
   "outputs": [
    {
     "name": "stdout",
     "output_type": "stream",
     "text": [
      "{'sno': 10, 'name': 'rs', 'IM': {'cm': 17, 'os': 16, 'py': 19, 'OS]': 16}, 'EM': {'cm': 17, 'os': 78, 'py': 65}, 'cname': 'oucet', 'total': {}}\n"
     ]
    }
   ],
   "source": [
    "# calculate total marks\n",
    "\n",
    "d1[\"total\"]=dict()\n",
    "print(d1)"
   ]
  },
  {
   "cell_type": "code",
   "execution_count": null,
   "metadata": {},
   "outputs": [
    {
     "name": "stdout",
     "output_type": "stream",
     "text": [
      "{'sno': 10, 'name': 'rs', 'IM': {'cm': 17, 'os': 16, 'py': 19, 'OS]': 16}, 'EM': {'cm': 17, 'os': 78, 'py': 65}, 'cname': 'oucet', 'total': 94}\n"
     ]
    }
   ],
   "source": [
    "d1[\"total\"]=d1[\"IM\"][\"py\"]+d1[\"EM\"][\"py\"]\n",
    "d1[\"total\"]=d1[\"IM\"][\"cm\"]+d1[\"EM\"][\"cm\"]\n",
    "d1[\"total\"]=d1[\"IM\"][\"os\"]+d1[\"EM\"][\"os\"]  \n",
    "print(d1)"
   ]
  },
  {
   "cell_type": "code",
   "execution_count": null,
   "metadata": {},
   "outputs": [
    {
     "name": "stdout",
     "output_type": "stream",
     "text": [
      "{'sno': 10, 'name': 'rs', 'IM': {'cm': 17, 'os': 16, 'py': 19, 'OS]': 16}, 'EM': {'cm': 17, 'os': 78, 'py': 65}, 'cname': 'oucet', 'total': {'cm': 34, 'os': 94, 'py': 84}}\n"
     ]
    }
   ],
   "source": [
    "#above we get the latest value only so we\n",
    "d1[\"total\"]=dict()\n",
    "d1[\"total\"][\"cm\"]=d1[\"IM\"][\"cm\"]+d1[\"EM\"][\"cm\"]\n",
    "d1[\"total\"][\"os\"]=d1[\"IM\"][\"os\"]+d1[\"EM\"][\"os\"]\n",
    "d1[\"total\"][\"py\"]=d1[\"IM\"][\"py\"]+d1[\"EM\"][\"py\"]\n",
    "print(d1)"
   ]
  },
  {
   "cell_type": "code",
   "execution_count": null,
   "metadata": {},
   "outputs": [
    {
     "name": "stdout",
     "output_type": "stream",
     "text": [
      "{'sno': 10, 'name': 'rs', 'IM': {'cm': 17, 'os': 16, 'py': 19, 'OS]': 16}, 'EM': {'cm': 17, 'os': 78, 'py': 65}, 'cname': 'oucet', 'total': {'cm': 34, 'os': 94, 'py': 84}}\n"
     ]
    }
   ],
   "source": [
    "#another method\n",
    "d1[\"total\"][\"py\"]=d1[\"IM\"].get(\"py\")+d1[\"EM\"].get(\"py\")\n",
    "print(d1)"
   ]
  },
  {
   "cell_type": "markdown",
   "metadata": {},
   "source": [
    "- dict in dict --possible\n"
   ]
  },
  {
   "cell_type": "code",
   "execution_count": null,
   "metadata": {},
   "outputs": [],
   "source": [
    "# List in dict"
   ]
  },
  {
   "cell_type": "code",
   "execution_count": null,
   "metadata": {},
   "outputs": [
    {
     "name": "stdout",
     "output_type": "stream",
     "text": [
      "sno --> 10 <class 'int'> --> <class 'dict'>\n",
      "name --> rs <class 'str'> --> <class 'dict'>\n",
      "IM --> [18, 13, 17] <class 'list'> --> <class 'dict'>\n",
      "EM --> [55, 66, 68] <class 'list'> --> <class 'dict'>\n",
      "cname --> JNTU <class 'str'> --> <class 'dict'>\n"
     ]
    }
   ],
   "source": [
    "d1={\"sno\":10,\"name\":\"rs\",\"IM\":[18,13,17],\"EM\":[55,66,68],\"cname\":\"JNTU\"}\n",
    "for k,v in d1.items():\n",
    "    print(k,\"-->\",v,type(v),\"-->\",type(d1))"
   ]
  },
  {
   "cell_type": "code",
   "execution_count": null,
   "metadata": {},
   "outputs": [
    {
     "name": "stdout",
     "output_type": "stream",
     "text": [
      "{'sno': 10, 'name': 'rs', 'IM': [13, 17, 18], 'EM': [55, 66, 68], 'cname': 'JNTU'}\n"
     ]
    }
   ],
   "source": [
    "#sort\n",
    "d1[\"IM\"].sort()\n",
    "print(d1)"
   ]
  },
  {
   "cell_type": "code",
   "execution_count": null,
   "metadata": {},
   "outputs": [
    {
     "name": "stdout",
     "output_type": "stream",
     "text": [
      "{'sno': 10, 'name': 'rs', 'IM': [13, 17, 18], 'EM': [68, 66, 55], 'cname': 'JNTU'}\n"
     ]
    }
   ],
   "source": [
    "# another method of sorting \n",
    "d1.get(\"EM\").sort(reverse=True)\n",
    "print(d1)"
   ]
  },
  {
   "cell_type": "code",
   "execution_count": null,
   "metadata": {},
   "outputs": [
    {
     "name": "stdout",
     "output_type": "stream",
     "text": [
      "{'sno': 10, 'name': 'rs', 'IM': [13, 17, 18, 19], 'EM': [68, 66, 55], 'cname': 'JNTU'}\n"
     ]
    }
   ],
   "source": [
    "# add one more internal marks\n",
    "\n",
    "d1[\"IM\"].append(19)\n",
    "print(d1)"
   ]
  },
  {
   "cell_type": "code",
   "execution_count": null,
   "metadata": {},
   "outputs": [
    {
     "name": "stdout",
     "output_type": "stream",
     "text": [
      "{'sno': 10, 'name': 'rs', 'IM': [13, 17, 18, 19], 'EM': [68, 66, 55, 78], 'cname': 'JNTU'}\n"
     ]
    }
   ],
   "source": [
    "# another method\n",
    "d1.get(\"EM\").append(78)\n",
    "print(d1)"
   ]
  },
  {
   "cell_type": "code",
   "execution_count": null,
   "metadata": {},
   "outputs": [
    {
     "name": "stdout",
     "output_type": "stream",
     "text": [
      "IM\n",
      "EM\n"
     ]
    }
   ],
   "source": [
    "# get the value of IM na EM only\n",
    "\n",
    "x=[\"IM\",\"EM\"]\n",
    "for k in x:\n",
    "    print(k)"
   ]
  },
  {
   "cell_type": "code",
   "execution_count": null,
   "metadata": {},
   "outputs": [
    {
     "name": "stdout",
     "output_type": "stream",
     "text": [
      "[13, 17, 18, 19]\n",
      "[68, 66, 55, 78]\n"
     ]
    }
   ],
   "source": [
    "for k in x:\n",
    "    print(d1.get(k))"
   ]
  },
  {
   "cell_type": "code",
   "execution_count": null,
   "metadata": {},
   "outputs": [],
   "source": [
    "#tuple in dict-possible\n"
   ]
  },
  {
   "cell_type": "code",
   "execution_count": null,
   "metadata": {},
   "outputs": [
    {
     "name": "stdout",
     "output_type": "stream",
     "text": [
      "sno --> 10 <class 'int'> --> <class 'dict'>\n",
      "name --> rs <class 'str'> --> <class 'dict'>\n",
      "IM --> (18, 13, 17) <class 'tuple'> --> <class 'dict'>\n",
      "EM --> (55, 66, 68) <class 'tuple'> --> <class 'dict'>\n",
      "cname --> JNTU <class 'str'> --> <class 'dict'>\n"
     ]
    }
   ],
   "source": [
    "d1={\"sno\":10,\"name\":\"rs\",\"IM\":(18,13,17),\"EM\":(55,66,68),\"cname\":\"JNTU\"}\n",
    "\n",
    "for k,v in d1.items():\n",
    "    print(k,\"-->\",v,type(v),\"-->\",type(d1))"
   ]
  },
  {
   "cell_type": "code",
   "execution_count": null,
   "metadata": {},
   "outputs": [],
   "source": [
    "#set in dict -possible"
   ]
  },
  {
   "cell_type": "code",
   "execution_count": null,
   "metadata": {},
   "outputs": [
    {
     "name": "stdout",
     "output_type": "stream",
     "text": [
      "ref\n"
     ]
    }
   ],
   "source": [
    "prod={\"tv\":1.0,\"mobile\":0.35,\"tab\":0.25,\"ref\":1.5}\n",
    "# find the highest price of the product\n",
    "hp=max(prod,key=prod.get)\n",
    "print(hp)"
   ]
  },
  {
   "cell_type": "code",
   "execution_count": null,
   "metadata": {},
   "outputs": [
    {
     "name": "stdout",
     "output_type": "stream",
     "text": [
      "product name:ref and price is:1.5\n"
     ]
    }
   ],
   "source": [
    "print(\"product name:{} and price is:{}\".format(hp,prod.get(hp)))"
   ]
  },
  {
   "cell_type": "code",
   "execution_count": null,
   "metadata": {},
   "outputs": [
    {
     "name": "stdout",
     "output_type": "stream",
     "text": [
      "(10, 'rs', {'cm': 13, 'os': 16, 'py': 14}, 'oucet')\n"
     ]
    }
   ],
   "source": [
    "tpl=(10,\"rs\",{\"cm\":13,\"os\":16,\"py\":14},\"oucet\")\n",
    "print(tpl)"
   ]
  },
  {
   "cell_type": "code",
   "execution_count": null,
   "metadata": {},
   "outputs": [
    {
     "name": "stdout",
     "output_type": "stream",
     "text": [
      "10 --> <class 'tuple'>\n",
      "rs --> <class 'tuple'>\n",
      "{'cm': 13, 'os': 16, 'py': 14} --> <class 'tuple'>\n",
      "oucet --> <class 'tuple'>\n"
     ]
    }
   ],
   "source": [
    "for val in tpl:\n",
    "    print(val,\"-->\",type(tpl))"
   ]
  },
  {
   "cell_type": "code",
   "execution_count": null,
   "metadata": {},
   "outputs": [
    {
     "name": "stdout",
     "output_type": "stream",
     "text": [
      "(10, 'rs', {'cm': 18, 'os': 16, 'py': 14}, 'oucet')\n"
     ]
    }
   ],
   "source": [
    "tpl[2][\"cm\"]=18\n",
    "print(tpl)"
   ]
  },
  {
   "cell_type": "code",
   "execution_count": null,
   "metadata": {},
   "outputs": [
    {
     "ename": "TypeError",
     "evalue": "unhashable type: 'dict'",
     "output_type": "error",
     "traceback": [
      "\u001b[1;31m---------------------------------------------------------------------------\u001b[0m",
      "\u001b[1;31mTypeError\u001b[0m                                 Traceback (most recent call last)",
      "Cell \u001b[1;32mIn[90], line 1\u001b[0m\n\u001b[1;32m----> 1\u001b[0m s1\u001b[38;5;241m=\u001b[39m{\u001b[38;5;241m10\u001b[39m,\u001b[38;5;124m\"\u001b[39m\u001b[38;5;124mrs\u001b[39m\u001b[38;5;124m\"\u001b[39m,{\u001b[38;5;124m\"\u001b[39m\u001b[38;5;124mcm\u001b[39m\u001b[38;5;124m\"\u001b[39m:\u001b[38;5;241m13\u001b[39m,\u001b[38;5;124m\"\u001b[39m\u001b[38;5;124mos\u001b[39m\u001b[38;5;124m\"\u001b[39m:\u001b[38;5;241m16\u001b[39m,\u001b[38;5;124m\"\u001b[39m\u001b[38;5;124mpy\u001b[39m\u001b[38;5;124m\"\u001b[39m:\u001b[38;5;241m14\u001b[39m},\u001b[38;5;124m\"\u001b[39m\u001b[38;5;124moucet\u001b[39m\u001b[38;5;124m\"\u001b[39m}\n\u001b[0;32m      2\u001b[0m \u001b[38;5;28mprint\u001b[39m(s1)\n",
      "\u001b[1;31mTypeError\u001b[0m: unhashable type: 'dict'"
     ]
    }
   ],
   "source": [
    "s1={10,\"rs\",{\"cm\":13,\"os\":16,\"py\":14},\"oucet\"}\n",
    "print(s1)"
   ]
  },
  {
   "cell_type": "code",
   "execution_count": null,
   "metadata": {},
   "outputs": [],
   "source": [
    "# dict in set is not possible"
   ]
  },
  {
   "cell_type": "code",
   "execution_count": null,
   "metadata": {},
   "outputs": [
    {
     "ename": "TypeError",
     "evalue": "argument of type 'type' is not iterable",
     "output_type": "error",
     "traceback": [
      "\u001b[1;31m---------------------------------------------------------------------------\u001b[0m",
      "\u001b[1;31mTypeError\u001b[0m                                 Traceback (most recent call last)",
      "Cell \u001b[1;32mIn[92], line 1\u001b[0m\n\u001b[1;32m----> 1\u001b[0m \u001b[38;5;28;43mlist\u001b[39;49m\u001b[43m \u001b[49m\u001b[38;5;129;43;01min\u001b[39;49;00m\u001b[43m \u001b[49m\u001b[38;5;28;43mlist\u001b[39;49m \u001b[38;5;66;03m# P\u001b[39;00m\n\u001b[0;32m      2\u001b[0m \u001b[38;5;28mlist\u001b[39m \u001b[38;5;129;01min\u001b[39;00m \u001b[38;5;28mtuple\u001b[39m \u001b[38;5;66;03m#P\u001b[39;00m\n\u001b[0;32m      3\u001b[0m \u001b[38;5;28mlist\u001b[39m \u001b[38;5;129;01min\u001b[39;00m \u001b[38;5;28mset\u001b[39m \u001b[38;5;66;03m#NP\u001b[39;00m\n",
      "\u001b[1;31mTypeError\u001b[0m: argument of type 'type' is not iterable"
     ]
    }
   ],
   "source": [
    "list in list # P\n",
    "list in tuple #P\n",
    "list in set #NP\n",
    "list in dict #P\n",
    "\n",
    "\n",
    "tuple in tuple #P\n",
    "tuple in list #P\n",
    "tuple in set #P\n",
    "tuple in dict #P\n",
    "\n",
    "\n",
    "set in set #NP\n",
    "set in list #P\n",
    "set in tuple #P\n",
    "set in dict #P\n",
    "\n",
    "dict in dict #P\n",
    "dict in list #P\n",
    "dict in tuple #P\n",
    "dict in set #NP"
   ]
  },
  {
   "cell_type": "markdown",
   "metadata": {},
   "source": [
    "# none type"
   ]
  },
  {
   "cell_type": "code",
   "execution_count": null,
   "metadata": {},
   "outputs": [
    {
     "name": "stdout",
     "output_type": "stream",
     "text": [
      "[]\n"
     ]
    }
   ],
   "source": [
    "l1=[10,20,30,40]\n",
    "l1.clear()\n",
    "print(l1)"
   ]
  },
  {
   "cell_type": "code",
   "execution_count": null,
   "metadata": {},
   "outputs": [
    {
     "data": {
      "text/plain": [
       "False"
      ]
     },
     "execution_count": 94,
     "metadata": {},
     "output_type": "execute_result"
    }
   ],
   "source": [
    "None==0\n"
   ]
  },
  {
   "cell_type": "code",
   "execution_count": null,
   "metadata": {},
   "outputs": [
    {
     "data": {
      "text/plain": [
       "False"
      ]
     },
     "execution_count": 95,
     "metadata": {},
     "output_type": "execute_result"
    }
   ],
   "source": [
    "None==\"\""
   ]
  },
  {
   "cell_type": "code",
   "execution_count": null,
   "metadata": {},
   "outputs": [
    {
     "data": {
      "text/plain": [
       "True"
      ]
     },
     "execution_count": 96,
     "metadata": {},
     "output_type": "execute_result"
    }
   ],
   "source": [
    "None==None"
   ]
  },
  {
   "cell_type": "markdown",
   "metadata": {},
   "source": [
    "# Operation and Expression in python\n",
    "\n",
    "- an operator is a symbol which will perform an operation on data \n",
    "OR  value or object\n",
    "\n",
    "- if two or more object or variable or value connected with an operator then it is called expression\n",
    "\n",
    "- in other words , an expression is a collection of object or variable or value connected with operator\n",
    "\n",
    "- there are 7 type of operator\n",
    "\n",
    "1. Arithmetic operator\n",
    "2. Assignment operators\n",
    "3. Relational operator\n",
    "4. Logical operator\n",
    "5. Bitwise operator[most important]\n",
    "6. membership operators\n",
    "    - in\n",
    "    - not in\n",
    "7. Identity operators\n",
    "    - is\n",
    "    - is not\n",
    "\n",
    "    "
   ]
  },
  {
   "cell_type": "markdown",
   "metadata": {},
   "source": [
    "- python programming does not support Unary operator(++) and (--)\n",
    "\n",
    " note :-\n",
    " - python support short hand operator\n",
    " \n"
   ]
  },
  {
   "cell_type": "markdown",
   "metadata": {},
   "source": [
    "1. Arithmetic operator:-\n",
    "\n",
    "7 type of arithmetic operator:-\n",
    "1. \"+\" addition\n",
    "2. \"-\" subtraction\n",
    "3. \"*\" multiplication\n",
    "4. \"/\" division # ()give float quotiet)\n",
    "5. \"//\" floor division # (integer quotiet)\n",
    "6. \"%\" modulus # (remainder of division)\n",
    "7. \"**\" exponentiation # (power of)\n"
   ]
  },
  {
   "cell_type": "code",
   "execution_count": null,
   "metadata": {},
   "outputs": [
    {
     "name": "stdout",
     "output_type": "stream",
     "text": [
      "0.01\n"
     ]
    }
   ],
   "source": [
    "print(10**-2)"
   ]
  },
  {
   "cell_type": "code",
   "execution_count": null,
   "metadata": {},
   "outputs": [
    {
     "name": "stdout",
     "output_type": "stream",
     "text": [
      "3.3333333333333335\n"
     ]
    }
   ],
   "source": [
    "#Q wap to demonstrate the function of arithmetic  operator?\n",
    "print(10.0/3)\n",
    "\n"
   ]
  },
  {
   "cell_type": "code",
   "execution_count": null,
   "metadata": {},
   "outputs": [
    {
     "name": "stdout",
     "output_type": "stream",
     "text": [
      "3.0\n"
     ]
    }
   ],
   "source": [
    "print(10.0//3)"
   ]
  },
  {
   "cell_type": "code",
   "execution_count": null,
   "metadata": {},
   "outputs": [
    {
     "name": "stdout",
     "output_type": "stream",
     "text": [
      "3\n"
     ]
    }
   ],
   "source": [
    "print(10//3)"
   ]
  },
  {
   "cell_type": "code",
   "execution_count": null,
   "metadata": {},
   "outputs": [
    {
     "name": "stdout",
     "output_type": "stream",
     "text": [
      "5.0\n"
     ]
    }
   ],
   "source": [
    "# find the sqrt without using math function\n",
    "print(25**0.5)"
   ]
  },
  {
   "cell_type": "code",
   "execution_count": null,
   "metadata": {},
   "outputs": [
    {
     "name": "stdout",
     "output_type": "stream",
     "text": [
      "5.0\n"
     ]
    }
   ],
   "source": [
    "import math\n",
    "\n",
    "print(math.sqrt(25))"
   ]
  },
  {
   "cell_type": "code",
   "execution_count": null,
   "metadata": {},
   "outputs": [
    {
     "name": "stdout",
     "output_type": "stream",
     "text": [
      "Help on built-in module math:\n",
      "\n",
      "NAME\n",
      "    math\n",
      "\n",
      "DESCRIPTION\n",
      "    This module provides access to the mathematical functions\n",
      "    defined by the C standard.\n",
      "\n",
      "FUNCTIONS\n",
      "    acos(x, /)\n",
      "        Return the arc cosine (measured in radians) of x.\n",
      "\n",
      "        The result is between 0 and pi.\n",
      "\n",
      "    acosh(x, /)\n",
      "        Return the inverse hyperbolic cosine of x.\n",
      "\n",
      "    asin(x, /)\n",
      "        Return the arc sine (measured in radians) of x.\n",
      "\n",
      "        The result is between -pi/2 and pi/2.\n",
      "\n",
      "    asinh(x, /)\n",
      "        Return the inverse hyperbolic sine of x.\n",
      "\n",
      "    atan(x, /)\n",
      "        Return the arc tangent (measured in radians) of x.\n",
      "\n",
      "        The result is between -pi/2 and pi/2.\n",
      "\n",
      "    atan2(y, x, /)\n",
      "        Return the arc tangent (measured in radians) of y/x.\n",
      "\n",
      "        Unlike atan(y/x), the signs of both x and y are considered.\n",
      "\n",
      "    atanh(x, /)\n",
      "        Return the inverse hyperbolic tangent of x.\n",
      "\n",
      "    cbrt(x, /)\n",
      "        Return the cube root of x.\n",
      "\n",
      "    ceil(x, /)\n",
      "        Return the ceiling of x as an Integral.\n",
      "\n",
      "        This is the smallest integer >= x.\n",
      "\n",
      "    comb(n, k, /)\n",
      "        Number of ways to choose k items from n items without repetition and without order.\n",
      "\n",
      "        Evaluates to n! / (k! * (n - k)!) when k <= n and evaluates\n",
      "        to zero when k > n.\n",
      "\n",
      "        Also called the binomial coefficient because it is equivalent\n",
      "        to the coefficient of k-th term in polynomial expansion of the\n",
      "        expression (1 + x)**n.\n",
      "\n",
      "        Raises TypeError if either of the arguments are not integers.\n",
      "        Raises ValueError if either of the arguments are negative.\n",
      "\n",
      "    copysign(x, y, /)\n",
      "        Return a float with the magnitude (absolute value) of x but the sign of y.\n",
      "\n",
      "        On platforms that support signed zeros, copysign(1.0, -0.0)\n",
      "        returns -1.0.\n",
      "\n",
      "    cos(x, /)\n",
      "        Return the cosine of x (measured in radians).\n",
      "\n",
      "    cosh(x, /)\n",
      "        Return the hyperbolic cosine of x.\n",
      "\n",
      "    degrees(x, /)\n",
      "        Convert angle x from radians to degrees.\n",
      "\n",
      "    dist(p, q, /)\n",
      "        Return the Euclidean distance between two points p and q.\n",
      "\n",
      "        The points should be specified as sequences (or iterables) of\n",
      "        coordinates.  Both inputs must have the same dimension.\n",
      "\n",
      "        Roughly equivalent to:\n",
      "            sqrt(sum((px - qx) ** 2.0 for px, qx in zip(p, q)))\n",
      "\n",
      "    erf(x, /)\n",
      "        Error function at x.\n",
      "\n",
      "    erfc(x, /)\n",
      "        Complementary error function at x.\n",
      "\n",
      "    exp(x, /)\n",
      "        Return e raised to the power of x.\n",
      "\n",
      "    exp2(x, /)\n",
      "        Return 2 raised to the power of x.\n",
      "\n",
      "    expm1(x, /)\n",
      "        Return exp(x)-1.\n",
      "\n",
      "        This function avoids the loss of precision involved in the direct evaluation of exp(x)-1 for small x.\n",
      "\n",
      "    fabs(x, /)\n",
      "        Return the absolute value of the float x.\n",
      "\n",
      "    factorial(n, /)\n",
      "        Find n!.\n",
      "\n",
      "        Raise a ValueError if x is negative or non-integral.\n",
      "\n",
      "    floor(x, /)\n",
      "        Return the floor of x as an Integral.\n",
      "\n",
      "        This is the largest integer <= x.\n",
      "\n",
      "    fma(x, y, z, /)\n",
      "        Fused multiply-add operation.\n",
      "\n",
      "        Compute (x * y) + z with a single round.\n",
      "\n",
      "    fmod(x, y, /)\n",
      "        Return fmod(x, y), according to platform C.\n",
      "\n",
      "        x % y may differ.\n",
      "\n",
      "    frexp(x, /)\n",
      "        Return the mantissa and exponent of x, as pair (m, e).\n",
      "\n",
      "        m is a float and e is an int, such that x = m * 2.**e.\n",
      "        If x is 0, m and e are both 0.  Else 0.5 <= abs(m) < 1.0.\n",
      "\n",
      "    fsum(seq, /)\n",
      "        Return an accurate floating-point sum of values in the iterable seq.\n",
      "\n",
      "        Assumes IEEE-754 floating-point arithmetic.\n",
      "\n",
      "    gamma(x, /)\n",
      "        Gamma function at x.\n",
      "\n",
      "    gcd(*integers)\n",
      "        Greatest Common Divisor.\n",
      "\n",
      "    hypot(...)\n",
      "        hypot(*coordinates) -> value\n",
      "\n",
      "        Multidimensional Euclidean distance from the origin to a point.\n",
      "\n",
      "        Roughly equivalent to:\n",
      "            sqrt(sum(x**2 for x in coordinates))\n",
      "\n",
      "        For a two dimensional point (x, y), gives the hypotenuse\n",
      "        using the Pythagorean theorem:  sqrt(x*x + y*y).\n",
      "\n",
      "        For example, the hypotenuse of a 3/4/5 right triangle is:\n",
      "\n",
      "            >>> hypot(3.0, 4.0)\n",
      "            5.0\n",
      "\n",
      "    isclose(a, b, *, rel_tol=1e-09, abs_tol=0.0)\n",
      "        Determine whether two floating-point numbers are close in value.\n",
      "\n",
      "          rel_tol\n",
      "            maximum difference for being considered \"close\", relative to the\n",
      "            magnitude of the input values\n",
      "          abs_tol\n",
      "            maximum difference for being considered \"close\", regardless of the\n",
      "            magnitude of the input values\n",
      "\n",
      "        Return True if a is close in value to b, and False otherwise.\n",
      "\n",
      "        For the values to be considered close, the difference between them\n",
      "        must be smaller than at least one of the tolerances.\n",
      "\n",
      "        -inf, inf and NaN behave similarly to the IEEE 754 Standard.  That\n",
      "        is, NaN is not close to anything, even itself.  inf and -inf are\n",
      "        only close to themselves.\n",
      "\n",
      "    isfinite(x, /)\n",
      "        Return True if x is neither an infinity nor a NaN, and False otherwise.\n",
      "\n",
      "    isinf(x, /)\n",
      "        Return True if x is a positive or negative infinity, and False otherwise.\n",
      "\n",
      "    isnan(x, /)\n",
      "        Return True if x is a NaN (not a number), and False otherwise.\n",
      "\n",
      "    isqrt(n, /)\n",
      "        Return the integer part of the square root of the input.\n",
      "\n",
      "    lcm(*integers)\n",
      "        Least Common Multiple.\n",
      "\n",
      "    ldexp(x, i, /)\n",
      "        Return x * (2**i).\n",
      "\n",
      "        This is essentially the inverse of frexp().\n",
      "\n",
      "    lgamma(x, /)\n",
      "        Natural logarithm of absolute value of Gamma function at x.\n",
      "\n",
      "    log(...)\n",
      "        log(x, [base=math.e])\n",
      "        Return the logarithm of x to the given base.\n",
      "\n",
      "        If the base is not specified, returns the natural logarithm (base e) of x.\n",
      "\n",
      "    log10(x, /)\n",
      "        Return the base 10 logarithm of x.\n",
      "\n",
      "    log1p(x, /)\n",
      "        Return the natural logarithm of 1+x (base e).\n",
      "\n",
      "        The result is computed in a way which is accurate for x near zero.\n",
      "\n",
      "    log2(x, /)\n",
      "        Return the base 2 logarithm of x.\n",
      "\n",
      "    modf(x, /)\n",
      "        Return the fractional and integer parts of x.\n",
      "\n",
      "        Both results carry the sign of x and are floats.\n",
      "\n",
      "    nextafter(x, y, /, *, steps=None)\n",
      "        Return the floating-point value the given number of steps after x towards y.\n",
      "\n",
      "        If steps is not specified or is None, it defaults to 1.\n",
      "\n",
      "        Raises a TypeError, if x or y is not a double, or if steps is not an integer.\n",
      "        Raises ValueError if steps is negative.\n",
      "\n",
      "    perm(n, k=None, /)\n",
      "        Number of ways to choose k items from n items without repetition and with order.\n",
      "\n",
      "        Evaluates to n! / (n - k)! when k <= n and evaluates\n",
      "        to zero when k > n.\n",
      "\n",
      "        If k is not specified or is None, then k defaults to n\n",
      "        and the function returns n!.\n",
      "\n",
      "        Raises TypeError if either of the arguments are not integers.\n",
      "        Raises ValueError if either of the arguments are negative.\n",
      "\n",
      "    pow(x, y, /)\n",
      "        Return x**y (x to the power of y).\n",
      "\n",
      "    prod(iterable, /, *, start=1)\n",
      "        Calculate the product of all the elements in the input iterable.\n",
      "\n",
      "        The default start value for the product is 1.\n",
      "\n",
      "        When the iterable is empty, return the start value.  This function is\n",
      "        intended specifically for use with numeric values and may reject\n",
      "        non-numeric types.\n",
      "\n",
      "    radians(x, /)\n",
      "        Convert angle x from degrees to radians.\n",
      "\n",
      "    remainder(x, y, /)\n",
      "        Difference between x and the closest integer multiple of y.\n",
      "\n",
      "        Return x - n*y where n*y is the closest integer multiple of y.\n",
      "        In the case where x is exactly halfway between two multiples of\n",
      "        y, the nearest even value of n is used. The result is always exact.\n",
      "\n",
      "    sin(x, /)\n",
      "        Return the sine of x (measured in radians).\n",
      "\n",
      "    sinh(x, /)\n",
      "        Return the hyperbolic sine of x.\n",
      "\n",
      "    sqrt(x, /)\n",
      "        Return the square root of x.\n",
      "\n",
      "    sumprod(p, q, /)\n",
      "        Return the sum of products of values from two iterables p and q.\n",
      "\n",
      "        Roughly equivalent to:\n",
      "\n",
      "            sum(itertools.starmap(operator.mul, zip(p, q, strict=True)))\n",
      "\n",
      "        For float and mixed int/float inputs, the intermediate products\n",
      "        and sums are computed with extended precision.\n",
      "\n",
      "    tan(x, /)\n",
      "        Return the tangent of x (measured in radians).\n",
      "\n",
      "    tanh(x, /)\n",
      "        Return the hyperbolic tangent of x.\n",
      "\n",
      "    trunc(x, /)\n",
      "        Truncates the Real x to the nearest Integral toward 0.\n",
      "\n",
      "        Uses the __trunc__ magic method.\n",
      "\n",
      "    ulp(x, /)\n",
      "        Return the value of the least significant bit of the float x.\n",
      "\n",
      "DATA\n",
      "    e = 2.718281828459045\n",
      "    inf = inf\n",
      "    nan = nan\n",
      "    pi = 3.141592653589793\n",
      "    tau = 6.283185307179586\n",
      "\n",
      "FILE\n",
      "    (built-in)\n",
      "\n",
      "\n"
     ]
    }
   ],
   "source": [
    "help(math)"
   ]
  },
  {
   "cell_type": "code",
   "execution_count": null,
   "metadata": {},
   "outputs": [
    {
     "name": "stdout",
     "output_type": "stream",
     "text": [
      "5.0\n"
     ]
    }
   ],
   "source": [
    "n=float(input(\"enter the number\"))\n",
    "x=n**0.5\n",
    "print(x)"
   ]
  },
  {
   "cell_type": "code",
   "execution_count": null,
   "metadata": {},
   "outputs": [
    {
     "name": "stdout",
     "output_type": "stream",
     "text": [
      "square 81.0 is 9\n"
     ]
    }
   ],
   "source": [
    "n= float(input(\"enter the number\"))\n",
    "res=n**0.5\n",
    "print(\"square {} is {}\".format(n,round(res)))"
   ]
  },
  {
   "cell_type": "code",
   "execution_count": null,
   "metadata": {},
   "outputs": [
    {
     "name": "stdout",
     "output_type": "stream",
     "text": [
      "3.9999999999999996\n"
     ]
    }
   ],
   "source": [
    "# find the cube root\n",
    "x=64\n",
    "print(x**(1/3))"
   ]
  },
  {
   "cell_type": "code",
   "execution_count": null,
   "metadata": {},
   "outputs": [
    {
     "name": "stdout",
     "output_type": "stream",
     "text": [
      "cube 100.0 is 5\n"
     ]
    }
   ],
   "source": [
    "n= float(input(\"enter the number\"))\n",
    "res=n**(1/3)\n",
    "print(\"cube {} is {}\".format(n,round(res)))"
   ]
  },
  {
   "cell_type": "code",
   "execution_count": null,
   "metadata": {},
   "outputs": [
    {
     "name": "stdout",
     "output_type": "stream",
     "text": [
      " Swaped value of a:66\n",
      " Swaped value of b:55\n"
     ]
    }
   ],
   "source": [
    "# swap two number ?\n",
    "a=input(\"enter the number\")\n",
    "b=input(\"enter the number\")\n",
    "x=a\n",
    "a=b\n",
    "b=x\n",
    "print(\" Swaped value of a:{}\".format(a))\n",
    "print(\" Swaped value of b:{}\".format(b))"
   ]
  },
  {
   "cell_type": "code",
   "execution_count": null,
   "metadata": {},
   "outputs": [
    {
     "name": "stdout",
     "output_type": "stream",
     "text": [
      "65 --> A\n",
      "66 --> B\n",
      "67 --> C\n",
      "68 --> D\n",
      "69 --> E\n",
      "70 --> F\n",
      "71 --> G\n",
      "72 --> H\n",
      "73 --> I\n",
      "74 --> J\n",
      "75 --> K\n",
      "76 --> L\n",
      "77 --> M\n",
      "78 --> N\n",
      "79 --> O\n",
      "80 --> P\n",
      "81 --> Q\n",
      "82 --> R\n",
      "83 --> S\n",
      "84 --> T\n",
      "85 --> U\n",
      "86 --> V\n",
      "87 --> W\n",
      "88 --> X\n",
      "89 --> Y\n",
      "90 --> Z\n"
     ]
    }
   ],
   "source": [
    "for val in range(65,91):\n",
    "    print(val,\"-->\",chr(val))"
   ]
  },
  {
   "cell_type": "code",
   "execution_count": null,
   "metadata": {},
   "outputs": [
    {
     "name": "stdout",
     "output_type": "stream",
     "text": [
      "97 --> a\n",
      "98 --> b\n",
      "99 --> c\n",
      "100 --> d\n",
      "101 --> e\n",
      "102 --> f\n",
      "103 --> g\n",
      "104 --> h\n",
      "105 --> i\n",
      "106 --> j\n",
      "107 --> k\n",
      "108 --> l\n",
      "109 --> m\n",
      "110 --> n\n",
      "111 --> o\n",
      "112 --> p\n",
      "113 --> q\n",
      "114 --> r\n",
      "115 --> s\n",
      "116 --> t\n",
      "117 --> u\n",
      "118 --> v\n",
      "119 --> w\n",
      "120 --> x\n",
      "121 --> y\n",
      "122 --> z\n"
     ]
    }
   ],
   "source": [
    "for val in range(97,123):\n",
    "    print(val,\"-->\",chr(val))"
   ]
  },
  {
   "cell_type": "code",
   "execution_count": null,
   "metadata": {},
   "outputs": [
    {
     "data": {
      "text/plain": [
       "True"
      ]
     },
     "execution_count": 111,
     "metadata": {},
     "output_type": "execute_result"
    }
   ],
   "source": [
    "\"just\">=\"jsut\""
   ]
  },
  {
   "cell_type": "code",
   "execution_count": null,
   "metadata": {},
   "outputs": [
    {
     "data": {
      "text/plain": [
       "False"
      ]
     },
     "execution_count": 112,
     "metadata": {},
     "output_type": "execute_result"
    }
   ],
   "source": [
    "\"just\"<=\"jsut\""
   ]
  },
  {
   "cell_type": "markdown",
   "metadata": {},
   "source": [
    "# Program"
   ]
  },
  {
   "cell_type": "code",
   "execution_count": null,
   "metadata": {},
   "outputs": [
    {
     "name": "stdout",
     "output_type": "stream",
     "text": [
      " Swaped value of a:89\n",
      " Swaped value of b:78\n"
     ]
    }
   ],
   "source": [
    "# swap two number ?\n",
    "a=input(\"enter the number\")\n",
    "b=input(\"enter the number\")\n",
    "x=a\n",
    "a=b\n",
    "b=x\n",
    "print(\" Swaped value of a:{}\".format(a))\n",
    "print(\" Swaped value of b:{}\".format(b))"
   ]
  },
  {
   "cell_type": "markdown",
   "metadata": {},
   "source": [
    "# Relational operator"
   ]
  },
  {
   "cell_type": "code",
   "execution_count": null,
   "metadata": {},
   "outputs": [
    {
     "data": {
      "text/plain": [
       "False"
      ]
     },
     "execution_count": 2,
     "metadata": {},
     "output_type": "execute_result"
    }
   ],
   "source": [
    "\"Python\">\"python\""
   ]
  },
  {
   "cell_type": "code",
   "execution_count": null,
   "metadata": {},
   "outputs": [
    {
     "data": {
      "text/plain": [
       "False"
      ]
     },
     "execution_count": 3,
     "metadata": {},
     "output_type": "execute_result"
    }
   ],
   "source": [
    "\"abc\">=\"acb\""
   ]
  },
  {
   "cell_type": "code",
   "execution_count": null,
   "metadata": {},
   "outputs": [
    {
     "name": "stdout",
     "output_type": "stream",
     "text": [
      "65 --> A\n",
      "66 --> B\n",
      "67 --> C\n",
      "68 --> D\n",
      "69 --> E\n",
      "70 --> F\n",
      "71 --> G\n",
      "72 --> H\n",
      "73 --> I\n",
      "74 --> J\n",
      "75 --> K\n",
      "76 --> L\n",
      "77 --> M\n",
      "78 --> N\n",
      "79 --> O\n",
      "80 --> P\n",
      "81 --> Q\n",
      "82 --> R\n",
      "83 --> S\n",
      "84 --> T\n",
      "85 --> U\n",
      "86 --> V\n",
      "87 --> W\n",
      "88 --> X\n",
      "89 --> Y\n",
      "90 --> Z\n"
     ]
    }
   ],
   "source": [
    "for val in range(65,91):\n",
    "    print(val,\"-->\",chr(val))"
   ]
  },
  {
   "cell_type": "code",
   "execution_count": null,
   "metadata": {},
   "outputs": [
    {
     "name": "stdout",
     "output_type": "stream",
     "text": [
      "97 --> a\n",
      "98 --> b\n",
      "99 --> c\n",
      "100 --> d\n",
      "101 --> e\n",
      "102 --> f\n",
      "103 --> g\n",
      "104 --> h\n",
      "105 --> i\n",
      "106 --> j\n",
      "107 --> k\n",
      "108 --> l\n",
      "109 --> m\n",
      "110 --> n\n",
      "111 --> o\n",
      "112 --> p\n",
      "113 --> q\n",
      "114 --> r\n",
      "115 --> s\n",
      "116 --> t\n",
      "117 --> u\n",
      "118 --> v\n",
      "119 --> w\n",
      "120 --> x\n",
      "121 --> y\n",
      "122 --> z\n"
     ]
    }
   ],
   "source": [
    "for val in range(97,123):\n",
    "    print(val,\"-->\",chr(val))"
   ]
  },
  {
   "cell_type": "code",
   "execution_count": null,
   "metadata": {},
   "outputs": [
    {
     "data": {
      "text/plain": [
       "True"
      ]
     },
     "execution_count": 6,
     "metadata": {},
     "output_type": "execute_result"
    }
   ],
   "source": [
    "\"just\">=\"jsut\""
   ]
  },
  {
   "cell_type": "code",
   "execution_count": null,
   "metadata": {},
   "outputs": [
    {
     "data": {
      "text/plain": [
       "False"
      ]
     },
     "execution_count": 7,
     "metadata": {},
     "output_type": "execute_result"
    }
   ],
   "source": [
    "\"just\"<=\"jsut\""
   ]
  },
  {
   "cell_type": "code",
   "execution_count": null,
   "metadata": {},
   "outputs": [
    {
     "name": "stdout",
     "output_type": "stream",
     "text": [
      "Help on class enumerate in module builtins:\n",
      "\n",
      "class enumerate(object)\n",
      " |  enumerate(iterable, start=0)\n",
      " |\n",
      " |  Return an enumerate object.\n",
      " |\n",
      " |    iterable\n",
      " |      an object supporting iteration\n",
      " |\n",
      " |  The enumerate object yields pairs containing a count (from start, which\n",
      " |  defaults to zero) and a value yielded by the iterable argument.\n",
      " |\n",
      " |  enumerate is useful for obtaining an indexed list:\n",
      " |      (0, seq[0]), (1, seq[1]), (2, seq[2]), ...\n",
      " |\n",
      " |  Methods defined here:\n",
      " |\n",
      " |  __getattribute__(self, name, /)\n",
      " |      Return getattr(self, name).\n",
      " |\n",
      " |  __iter__(self, /)\n",
      " |      Implement iter(self).\n",
      " |\n",
      " |  __next__(self, /)\n",
      " |      Implement next(self).\n",
      " |\n",
      " |  __reduce__(self, /)\n",
      " |      Return state information for pickling.\n",
      " |\n",
      " |  ----------------------------------------------------------------------\n",
      " |  Class methods defined here:\n",
      " |\n",
      " |  __class_getitem__(object, /)\n",
      " |      See PEP 585\n",
      " |\n",
      " |  ----------------------------------------------------------------------\n",
      " |  Static methods defined here:\n",
      " |\n",
      " |  __new__(*args, **kwargs)\n",
      " |      Create and return a new object.  See help(type) for accurate signature.\n",
      "\n"
     ]
    }
   ],
   "source": [
    "help(enumerate)"
   ]
  },
  {
   "cell_type": "markdown",
   "metadata": {},
   "source": [
    "# Logical operator\n",
    "\n",
    "- the purpose of logical operator is that \" to combine two or more relational expression\"\n",
    "\n",
    "- if two or more relational expressions connected with logical operator then it is called logical expression\n",
    "\n",
    "- the logical expression is called comound test condition (multiple relational expressions )\n",
    "\n",
    "- in python we have 3 type of logical expression \n",
    "\n",
    "- they are \n",
    "\n",
    "1. and --->physical ANDing\n",
    "2. or --->physical ORing\n",
    "3. not --->no name\n"
   ]
  },
  {
   "cell_type": "markdown",
   "metadata": {},
   "source": [
    "# AND opertor\n",
    "\n",
    "- the functionality of \"and\" operator. define in following truth table.\n",
    "\n",
    "- false true =false\n",
    "- true false = false\n",
    "- false false =false\n",
    "- true true = true\n"
   ]
  },
  {
   "cell_type": "code",
   "execution_count": null,
   "metadata": {},
   "outputs": [
    {
     "data": {
      "text/plain": [
       "True"
      ]
     },
     "execution_count": 9,
     "metadata": {},
     "output_type": "execute_result"
    }
   ],
   "source": [
    "True and True"
   ]
  },
  {
   "cell_type": "code",
   "execution_count": null,
   "metadata": {},
   "outputs": [
    {
     "data": {
      "text/plain": [
       "True"
      ]
     },
     "execution_count": 10,
     "metadata": {},
     "output_type": "execute_result"
    }
   ],
   "source": [
    "True & True"
   ]
  },
  {
   "cell_type": "code",
   "execution_count": null,
   "metadata": {},
   "outputs": [
    {
     "ename": "SyntaxError",
     "evalue": "invalid syntax (2290736897.py, line 2)",
     "output_type": "error",
     "traceback": [
      "\u001b[1;36m  Cell \u001b[1;32mIn[11], line 2\u001b[1;36m\u001b[0m\n\u001b[1;33m    True && True\u001b[0m\n\u001b[1;37m          ^\u001b[0m\n\u001b[1;31mSyntaxError\u001b[0m\u001b[1;31m:\u001b[0m invalid syntax\n"
     ]
    }
   ],
   "source": [
    "# && has no meaning in python\n",
    "True && True"
   ]
  },
  {
   "cell_type": "code",
   "execution_count": null,
   "metadata": {},
   "outputs": [
    {
     "data": {
      "text/plain": [
       "False"
      ]
     },
     "execution_count": 12,
     "metadata": {},
     "output_type": "execute_result"
    }
   ],
   "source": [
    "# MCQ type question \n",
    "10>2 and 10>30"
   ]
  },
  {
   "cell_type": "code",
   "execution_count": null,
   "metadata": {},
   "outputs": [
    {
     "data": {
      "text/plain": [
       "False"
      ]
     },
     "execution_count": 13,
     "metadata": {},
     "output_type": "execute_result"
    }
   ],
   "source": [
    "10>20 and 20>10"
   ]
  },
  {
   "cell_type": "markdown",
   "metadata": {},
   "source": [
    "# Short circuit evaluation\n",
    "\n",
    "- if two or more relational expressions are connected with \"and\" operator and if the result of first relational expression is false then PVM will evaluate second and sub-sequent relational expressions and total result of entire expression (logical expression) is false .this process of evaluation is called short circuit evaluation"
   ]
  },
  {
   "cell_type": "markdown",
   "metadata": {},
   "source": [
    "# OR operator \n",
    "\n",
    "- the functionality of \"or\" operator. define in following truth table.\n",
    "\n",
    "- false true = true\n",
    "- true false = true\n",
    "- false false = false\n",
    "- true true = true"
   ]
  },
  {
   "cell_type": "code",
   "execution_count": null,
   "metadata": {},
   "outputs": [
    {
     "data": {
      "text/plain": [
       "True"
      ]
     },
     "execution_count": 14,
     "metadata": {},
     "output_type": "execute_result"
    }
   ],
   "source": [
    "100>20 or 20<50"
   ]
  },
  {
   "cell_type": "markdown",
   "metadata": {},
   "source": [
    "# not Operator\n",
    "\n",
    "- give the opposite result of boolean\n"
   ]
  },
  {
   "cell_type": "code",
   "execution_count": null,
   "metadata": {},
   "outputs": [
    {
     "data": {
      "text/plain": [
       "False"
      ]
     },
     "execution_count": 15,
     "metadata": {},
     "output_type": "execute_result"
    }
   ],
   "source": [
    "not True"
   ]
  },
  {
   "cell_type": "code",
   "execution_count": null,
   "metadata": {},
   "outputs": [
    {
     "data": {
      "text/plain": [
       "False"
      ]
     },
     "execution_count": 16,
     "metadata": {},
     "output_type": "execute_result"
    }
   ],
   "source": [
    "not 123"
   ]
  },
  {
   "cell_type": "code",
   "execution_count": null,
   "metadata": {},
   "outputs": [
    {
     "data": {
      "text/plain": [
       "False"
      ]
     },
     "execution_count": 17,
     "metadata": {},
     "output_type": "execute_result"
    }
   ],
   "source": [
    "not -345"
   ]
  },
  {
   "cell_type": "code",
   "execution_count": null,
   "metadata": {},
   "outputs": [
    {
     "data": {
      "text/plain": [
       "True"
      ]
     },
     "execution_count": 18,
     "metadata": {},
     "output_type": "execute_result"
    }
   ],
   "source": [
    "not 0"
   ]
  },
  {
   "cell_type": "code",
   "execution_count": null,
   "metadata": {},
   "outputs": [
    {
     "data": {
      "text/plain": [
       "False"
      ]
     },
     "execution_count": 19,
     "metadata": {},
     "output_type": "execute_result"
    }
   ],
   "source": [
    "# it is string non zero.\n",
    "not \"python\""
   ]
  },
  {
   "cell_type": "code",
   "execution_count": null,
   "metadata": {},
   "outputs": [
    {
     "data": {
      "text/plain": [
       "False"
      ]
     },
     "execution_count": 20,
     "metadata": {},
     "output_type": "execute_result"
    }
   ],
   "source": [
    "not \"not\""
   ]
  },
  {
   "cell_type": "code",
   "execution_count": null,
   "metadata": {},
   "outputs": [
    {
     "data": {
      "text/plain": [
       "False"
      ]
     },
     "execution_count": 21,
     "metadata": {},
     "output_type": "execute_result"
    }
   ],
   "source": [
    "not \"False\""
   ]
  },
  {
   "cell_type": "code",
   "execution_count": null,
   "metadata": {},
   "outputs": [
    {
     "data": {
      "text/plain": [
       "True"
      ]
     },
     "execution_count": 22,
     "metadata": {},
     "output_type": "execute_result"
    }
   ],
   "source": [
    "not False"
   ]
  },
  {
   "cell_type": "code",
   "execution_count": null,
   "metadata": {},
   "outputs": [
    {
     "data": {
      "text/plain": [
       "True"
      ]
     },
     "execution_count": 23,
     "metadata": {},
     "output_type": "execute_result"
    }
   ],
   "source": [
    "not \"\""
   ]
  },
  {
   "cell_type": "code",
   "execution_count": null,
   "metadata": {},
   "outputs": [
    {
     "data": {
      "text/plain": [
       "False"
      ]
     },
     "execution_count": 24,
     "metadata": {},
     "output_type": "execute_result"
    }
   ],
   "source": [
    "not \"10-10\""
   ]
  },
  {
   "cell_type": "code",
   "execution_count": null,
   "metadata": {},
   "outputs": [
    {
     "data": {
      "text/plain": [
       "200"
      ]
     },
     "execution_count": 25,
     "metadata": {},
     "output_type": "execute_result"
    }
   ],
   "source": [
    "100 and 200"
   ]
  },
  {
   "cell_type": "code",
   "execution_count": null,
   "metadata": {},
   "outputs": [
    {
     "data": {
      "text/plain": [
       "'  \\n100 --non Zero  true\\n200  non Zero true\\no/p --200\\n'"
      ]
     },
     "execution_count": 26,
     "metadata": {},
     "output_type": "execute_result"
    }
   ],
   "source": [
    "\"\"\"  \n",
    "100 --non Zero  true\n",
    "200  non Zero true\n",
    "o/p --200\n",
    "\"\"\""
   ]
  },
  {
   "cell_type": "code",
   "execution_count": null,
   "metadata": {},
   "outputs": [
    {
     "data": {
      "text/plain": [
       "0"
      ]
     },
     "execution_count": 27,
     "metadata": {},
     "output_type": "execute_result"
    }
   ],
   "source": [
    "100  and 0"
   ]
  },
  {
   "cell_type": "code",
   "execution_count": null,
   "metadata": {},
   "outputs": [
    {
     "data": {
      "text/plain": [
       "-34"
      ]
     },
     "execution_count": 28,
     "metadata": {},
     "output_type": "execute_result"
    }
   ],
   "source": [
    "-24 and -34"
   ]
  },
  {
   "cell_type": "code",
   "execution_count": null,
   "metadata": {},
   "outputs": [
    {
     "data": {
      "text/plain": [
       "1"
      ]
     },
     "execution_count": 29,
     "metadata": {},
     "output_type": "execute_result"
    }
   ],
   "source": [
    "100 and 10 and 1"
   ]
  },
  {
   "cell_type": "code",
   "execution_count": null,
   "metadata": {},
   "outputs": [
    {
     "data": {
      "text/plain": [
       "0"
      ]
     },
     "execution_count": 30,
     "metadata": {},
     "output_type": "execute_result"
    }
   ],
   "source": [
    "100 and 0 and 10"
   ]
  },
  {
   "cell_type": "code",
   "execution_count": null,
   "metadata": {},
   "outputs": [
    {
     "data": {
      "text/plain": [
       "-53"
      ]
     },
     "execution_count": 31,
     "metadata": {},
     "output_type": "execute_result"
    }
   ],
   "source": [
    "100 and True -54"
   ]
  },
  {
   "cell_type": "code",
   "execution_count": null,
   "metadata": {},
   "outputs": [
    {
     "data": {
      "text/plain": [
       "-55"
      ]
     },
     "execution_count": 32,
     "metadata": {},
     "output_type": "execute_result"
    }
   ],
   "source": [
    "100 and True and -55"
   ]
  },
  {
   "cell_type": "markdown",
   "metadata": {},
   "source": [
    "# or operator special points"
   ]
  },
  {
   "cell_type": "code",
   "execution_count": null,
   "metadata": {},
   "outputs": [
    {
     "data": {
      "text/plain": [
       "100"
      ]
     },
     "execution_count": 33,
     "metadata": {},
     "output_type": "execute_result"
    }
   ],
   "source": [
    "100 or 200"
   ]
  },
  {
   "cell_type": "code",
   "execution_count": null,
   "metadata": {},
   "outputs": [
    {
     "data": {
      "text/plain": [
       "100"
      ]
     },
     "execution_count": 34,
     "metadata": {},
     "output_type": "execute_result"
    }
   ],
   "source": [
    "100 or 0"
   ]
  },
  {
   "cell_type": "code",
   "execution_count": null,
   "metadata": {},
   "outputs": [
    {
     "data": {
      "text/plain": [
       "100"
      ]
     },
     "execution_count": 35,
     "metadata": {},
     "output_type": "execute_result"
    }
   ],
   "source": [
    "0 or 100"
   ]
  },
  {
   "cell_type": "code",
   "execution_count": null,
   "metadata": {},
   "outputs": [
    {
     "data": {
      "text/plain": [
       "True"
      ]
     },
     "execution_count": 36,
     "metadata": {},
     "output_type": "execute_result"
    }
   ],
   "source": [
    "0 or True or 200"
   ]
  },
  {
   "cell_type": "code",
   "execution_count": null,
   "metadata": {},
   "outputs": [
    {
     "data": {
      "text/plain": [
       "'python'"
      ]
     },
     "execution_count": 37,
     "metadata": {},
     "output_type": "execute_result"
    }
   ],
   "source": [
    "\"python\" or \"java\" or \"c\" or \"html\""
   ]
  },
  {
   "cell_type": "markdown",
   "metadata": {},
   "source": [
    "# Special point on \"and\" and \"or\" operators"
   ]
  },
  {
   "cell_type": "code",
   "execution_count": null,
   "metadata": {},
   "outputs": [
    {
     "data": {
      "text/plain": [
       "100"
      ]
     },
     "execution_count": 38,
     "metadata": {},
     "output_type": "execute_result"
    }
   ],
   "source": [
    "100 or 200 and 300 or 400"
   ]
  },
  {
   "cell_type": "code",
   "execution_count": null,
   "metadata": {},
   "outputs": [],
   "source": [
    "# when \"and\" and \"or\" operators are present then \"and \" operator is given more priority.\n",
    "\n",
    "\n",
    "# because \"and\" operator mean \"*\"\n",
    "# and \"or\" operator mean \"+-\""
   ]
  },
  {
   "cell_type": "code",
   "execution_count": null,
   "metadata": {},
   "outputs": [
    {
     "data": {
      "text/plain": [
       "'html'"
      ]
     },
     "execution_count": 40,
     "metadata": {},
     "output_type": "execute_result"
    }
   ],
   "source": [
    "\"java\" and \"python\" and \"html\" or \"django\""
   ]
  },
  {
   "cell_type": "code",
   "execution_count": null,
   "metadata": {},
   "outputs": [
    {
     "data": {
      "text/plain": [
       "True"
      ]
     },
     "execution_count": 42,
     "metadata": {},
     "output_type": "execute_result"
    }
   ],
   "source": [
    "0 and 30 or -123 and 0 and \"python\" or True"
   ]
  },
  {
   "cell_type": "markdown",
   "metadata": {},
   "source": [
    "# Bitwise operators - Most important\n",
    "\n",
    "- Bitwise operator are used to perform operation on integer data in the form of bit by bit \n",
    "\n",
    "- bitwise operator are applicable on integer values but not applicable on floating point value.\n",
    "\n",
    "- because floating point value does not contain certainity on floating point \n",
    "\n",
    "- whereas integer data contain certainity.\n",
    "\n",
    "- the execution process of bitwise operator are shown below:-\n",
    "\n",
    "- bitwise operator convert the integer data into binary bit\n",
    "- bitwise operator applied on binary bit and perform operation depend on type of  bitwise operator.\n",
    "- the result of bitwise operator display python execution environment in form of decimal number system.\n",
    "- "
   ]
  },
  {
   "cell_type": "code",
   "execution_count": null,
   "metadata": {},
   "outputs": [
    {
     "name": "stdout",
     "output_type": "stream",
     "text": [
      "3.39999999999999991118\n"
     ]
    }
   ],
   "source": [
    "a=3.4\n",
    "print(\"%0.20f\" %a)"
   ]
  },
  {
   "cell_type": "code",
   "execution_count": null,
   "metadata": {},
   "outputs": [
    {
     "name": "stdout",
     "output_type": "stream",
     "text": [
      "5.00000000000000000000\n"
     ]
    }
   ],
   "source": [
    "a=5\n",
    "print(\"%0.20f\" %a)"
   ]
  },
  {
   "cell_type": "markdown",
   "metadata": {},
   "source": [
    "# In python we have 6 type of bitwise operators.\n",
    "\n",
    "1. << bitwise left shift operator\n",
    "2. >> bitwise right shift operator\n",
    "3. & bitwise AND operator\n",
    "4. | bitwise OR operator\n",
    "5. ^ bitwise XOR operator\n",
    "6. ~ bitwise complement operator(tilde)\n"
   ]
  },
  {
   "cell_type": "code",
   "execution_count": null,
   "metadata": {},
   "outputs": [
    {
     "data": {
      "text/plain": [
       "'   \\nsyntax:\\n    varname = givenValue<< number_of_bit\\n\\n'"
      ]
     },
     "execution_count": 46,
     "metadata": {},
     "output_type": "execute_result"
    }
   ],
   "source": [
    "# 1. << bitwise left shift operator\n",
    "\n",
    "# (<<) ---> symbol\n",
    "\n",
    "\"\"\"   \n",
    "syntax:\n",
    "    varname = givenValue<< number_of_bit\n",
    "\n",
    "\"\"\""
   ]
  },
  {
   "cell_type": "code",
   "execution_count": null,
   "metadata": {},
   "outputs": [
    {
     "name": "stdout",
     "output_type": "stream",
     "text": [
      "80\n"
     ]
    }
   ],
   "source": [
    "a=10\n",
    "b=3\n",
    "c=a<<b\n",
    "print(c)"
   ]
  },
  {
   "cell_type": "code",
   "execution_count": null,
   "metadata": {},
   "outputs": [],
   "source": [
    "# to solve this use this formula\n",
    "\n",
    "# a=10 , b=3\n",
    "\n",
    "# 10*(2power of 3)\n",
    "\n",
    "# a*(2power of b)"
   ]
  },
  {
   "cell_type": "code",
   "execution_count": null,
   "metadata": {},
   "outputs": [
    {
     "data": {
      "text/plain": [
       "512"
      ]
     },
     "execution_count": 49,
     "metadata": {},
     "output_type": "execute_result"
    }
   ],
   "source": [
    "32<<4"
   ]
  },
  {
   "cell_type": "code",
   "execution_count": null,
   "metadata": {},
   "outputs": [
    {
     "ename": "TypeError",
     "evalue": "unsupported operand type(s) for <<: 'str' and 'int'",
     "output_type": "error",
     "traceback": [
      "\u001b[1;31m---------------------------------------------------------------------------\u001b[0m",
      "\u001b[1;31mTypeError\u001b[0m                                 Traceback (most recent call last)",
      "Cell \u001b[1;32mIn[50], line 1\u001b[0m\n\u001b[1;32m----> 1\u001b[0m \u001b[38;5;124;43m\"\u001b[39;49m\u001b[38;5;124;43mapple\u001b[39;49m\u001b[38;5;124;43m\"\u001b[39;49m\u001b[38;5;241;43m<<\u001b[39;49m\u001b[38;5;241;43m2\u001b[39;49m\n",
      "\u001b[1;31mTypeError\u001b[0m: unsupported operand type(s) for <<: 'str' and 'int'"
     ]
    }
   ],
   "source": [
    "\"apple\"<<2"
   ]
  },
  {
   "cell_type": "code",
   "execution_count": null,
   "metadata": {},
   "outputs": [
    {
     "ename": "TypeError",
     "evalue": "unsupported operand type(s) for <<: 'float' and 'int'",
     "output_type": "error",
     "traceback": [
      "\u001b[1;31m---------------------------------------------------------------------------\u001b[0m",
      "\u001b[1;31mTypeError\u001b[0m                                 Traceback (most recent call last)",
      "Cell \u001b[1;32mIn[51], line 1\u001b[0m\n\u001b[1;32m----> 1\u001b[0m \u001b[38;5;241;43m10.2\u001b[39;49m\u001b[38;5;241;43m<<\u001b[39;49m\u001b[38;5;241;43m2\u001b[39;49m\n",
      "\u001b[1;31mTypeError\u001b[0m: unsupported operand type(s) for <<: 'float' and 'int'"
     ]
    }
   ],
   "source": [
    "10.2<<2"
   ]
  },
  {
   "cell_type": "code",
   "execution_count": null,
   "metadata": {},
   "outputs": [
    {
     "name": "stdout",
     "output_type": "stream",
     "text": [
      "1\n"
     ]
    }
   ],
   "source": [
    "# Right shift operator\n",
    "a=10\n",
    "b=3\n",
    "c=a>>b\n",
    "print(c)\n",
    "\n",
    "# formula\n",
    "# a//(2power of b)"
   ]
  },
  {
   "cell_type": "code",
   "execution_count": null,
   "metadata": {},
   "outputs": [
    {
     "data": {
      "text/plain": [
       "2"
      ]
     },
     "execution_count": 53,
     "metadata": {},
     "output_type": "execute_result"
    }
   ],
   "source": [
    "10>>2"
   ]
  },
  {
   "cell_type": "code",
   "execution_count": null,
   "metadata": {},
   "outputs": [],
   "source": [
    "# 10/(2power of 2)\n",
    "# always take quotint value\n"
   ]
  },
  {
   "cell_type": "code",
   "execution_count": null,
   "metadata": {},
   "outputs": [
    {
     "data": {
      "text/plain": [
       "1"
      ]
     },
     "execution_count": 55,
     "metadata": {},
     "output_type": "execute_result"
    }
   ],
   "source": [
    "15>>3"
   ]
  },
  {
   "cell_type": "code",
   "execution_count": null,
   "metadata": {},
   "outputs": [
    {
     "data": {
      "text/plain": [
       "5"
      ]
     },
     "execution_count": 56,
     "metadata": {},
     "output_type": "execute_result"
    }
   ],
   "source": [
    "10>>1"
   ]
  },
  {
   "cell_type": "code",
   "execution_count": null,
   "metadata": {},
   "outputs": [
    {
     "data": {
      "text/plain": [
       "10"
      ]
     },
     "execution_count": 57,
     "metadata": {},
     "output_type": "execute_result"
    }
   ],
   "source": [
    "10>>0"
   ]
  },
  {
   "cell_type": "markdown",
   "metadata": {},
   "source": [
    "# bitwise AND operator\n"
   ]
  },
  {
   "cell_type": "code",
   "execution_count": null,
   "metadata": {},
   "outputs": [
    {
     "data": {
      "text/plain": [
       "0"
      ]
     },
     "execution_count": 58,
     "metadata": {},
     "output_type": "execute_result"
    }
   ],
   "source": [
    "0&1"
   ]
  },
  {
   "cell_type": "code",
   "execution_count": null,
   "metadata": {},
   "outputs": [
    {
     "data": {
      "text/plain": [
       "0"
      ]
     },
     "execution_count": 59,
     "metadata": {},
     "output_type": "execute_result"
    }
   ],
   "source": [
    "1&0"
   ]
  },
  {
   "cell_type": "code",
   "execution_count": null,
   "metadata": {},
   "outputs": [
    {
     "data": {
      "text/plain": [
       "0"
      ]
     },
     "execution_count": 60,
     "metadata": {},
     "output_type": "execute_result"
    }
   ],
   "source": [
    "0&0"
   ]
  },
  {
   "cell_type": "code",
   "execution_count": null,
   "metadata": {},
   "outputs": [
    {
     "data": {
      "text/plain": [
       "1"
      ]
     },
     "execution_count": 61,
     "metadata": {},
     "output_type": "execute_result"
    }
   ],
   "source": [
    "1&1"
   ]
  },
  {
   "cell_type": "code",
   "execution_count": null,
   "metadata": {},
   "outputs": [
    {
     "data": {
      "text/plain": [
       "0"
      ]
     },
     "execution_count": 62,
     "metadata": {},
     "output_type": "execute_result"
    }
   ],
   "source": [
    "10&4"
   ]
  },
  {
   "cell_type": "code",
   "execution_count": null,
   "metadata": {},
   "outputs": [
    {
     "data": {
      "text/plain": [
       "10"
      ]
     },
     "execution_count": 63,
     "metadata": {},
     "output_type": "execute_result"
    }
   ],
   "source": [
    "4 and 10"
   ]
  },
  {
   "cell_type": "code",
   "execution_count": null,
   "metadata": {},
   "outputs": [
    {
     "data": {
      "text/plain": [
       "0"
      ]
     },
     "execution_count": 64,
     "metadata": {},
     "output_type": "execute_result"
    }
   ],
   "source": [
    "10 & 4"
   ]
  },
  {
   "cell_type": "code",
   "execution_count": null,
   "metadata": {},
   "outputs": [
    {
     "data": {
      "text/plain": [
       "True"
      ]
     },
     "execution_count": 65,
     "metadata": {},
     "output_type": "execute_result"
    }
   ],
   "source": [
    "True and True"
   ]
  },
  {
   "cell_type": "code",
   "execution_count": null,
   "metadata": {},
   "outputs": [
    {
     "data": {
      "text/plain": [
       "True"
      ]
     },
     "execution_count": 66,
     "metadata": {},
     "output_type": "execute_result"
    }
   ],
   "source": [
    "True & True"
   ]
  },
  {
   "cell_type": "code",
   "execution_count": null,
   "metadata": {},
   "outputs": [
    {
     "data": {
      "text/plain": [
       "2"
      ]
     },
     "execution_count": 67,
     "metadata": {},
     "output_type": "execute_result"
    }
   ],
   "source": [
    "10.2 and 2"
   ]
  },
  {
   "cell_type": "code",
   "execution_count": null,
   "metadata": {},
   "outputs": [
    {
     "ename": "TypeError",
     "evalue": "unsupported operand type(s) for &: 'float' and 'int'",
     "output_type": "error",
     "traceback": [
      "\u001b[1;31m---------------------------------------------------------------------------\u001b[0m",
      "\u001b[1;31mTypeError\u001b[0m                                 Traceback (most recent call last)",
      "Cell \u001b[1;32mIn[68], line 1\u001b[0m\n\u001b[1;32m----> 1\u001b[0m \u001b[38;5;241;43m10.2\u001b[39;49m\u001b[43m \u001b[49m\u001b[38;5;241;43m&\u001b[39;49m\u001b[43m \u001b[49m\u001b[38;5;241;43m2\u001b[39;49m\n",
      "\u001b[1;31mTypeError\u001b[0m: unsupported operand type(s) for &: 'float' and 'int'"
     ]
    }
   ],
   "source": [
    "10.2 & 2"
   ]
  },
  {
   "cell_type": "code",
   "execution_count": null,
   "metadata": {},
   "outputs": [
    {
     "name": "stdout",
     "output_type": "stream",
     "text": [
      "{20}\n"
     ]
    }
   ],
   "source": [
    "s1={10,20,30}\n",
    "s2={15,20,35}\n",
    "s3=s1&s2\n",
    "print(s3)"
   ]
  },
  {
   "cell_type": "code",
   "execution_count": null,
   "metadata": {},
   "outputs": [
    {
     "name": "stdout",
     "output_type": "stream",
     "text": [
      "{35, 20, 15}\n"
     ]
    }
   ],
   "source": [
    "s4=s1 and s2\n",
    "print(s4)"
   ]
  },
  {
   "cell_type": "code",
   "execution_count": null,
   "metadata": {},
   "outputs": [
    {
     "data": {
      "text/plain": [
       "0"
      ]
     },
     "execution_count": 71,
     "metadata": {},
     "output_type": "execute_result"
    }
   ],
   "source": [
    "10 & 4"
   ]
  },
  {
   "cell_type": "code",
   "execution_count": null,
   "metadata": {},
   "outputs": [],
   "source": [
    "# to solve this \n",
    "# step 1 \n",
    "#convert 10 into binary ---0b1010\n",
    "#step 2 \n",
    "#convert 4 into binary ---0b100\n",
    "#step 3\n",
    "# now apply and operation\n",
    "#  0b1010\n",
    "#  0b0100\n",
    "# _______ = apply and operotor you get\n",
    "#  0b0000\n"
   ]
  },
  {
   "cell_type": "code",
   "execution_count": null,
   "metadata": {},
   "outputs": [
    {
     "name": "stdout",
     "output_type": "stream",
     "text": [
      "0b1010\n"
     ]
    }
   ],
   "source": [
    "numToBinary=bin(10)\n",
    "print(numToBinary)"
   ]
  },
  {
   "cell_type": "code",
   "execution_count": null,
   "metadata": {},
   "outputs": [
    {
     "name": "stdout",
     "output_type": "stream",
     "text": [
      "0b100\n"
     ]
    }
   ],
   "source": [
    "numToBinary=bin(4)\n",
    "print(numToBinary)"
   ]
  },
  {
   "cell_type": "markdown",
   "metadata": {},
   "source": [
    "# Flow control statements in python\n",
    "\n",
    " - purpose of flow control statements in python\n",
    "\n",
    " 1. conditional OR selection OR branching statement :-\n",
    "\n",
    "  a. simple if statement\n",
    "  b. if-else statement\n",
    "  c. if..elif statement\n",
    "  d. match case statement\n",
    "\n",
    "  2. looping OR iterating or repetition statement:-\n",
    "\n",
    "  a. for loop---for else loop\n",
    "  b. while loop---while else loop\n",
    "  \n",
    "  3. Transfer flow statement:-\n",
    "\n",
    "  a. break statement\n",
    "  b. continue statement\n",
    "  c. pass statement\n",
    "  d. return statement"
   ]
  },
  {
   "cell_type": "code",
   "execution_count": null,
   "metadata": {},
   "outputs": [
    {
     "data": {
      "text/plain": [
       "'\"  \\nsyntax:\\nif(test condition):\\n    statement1\\n    statement2\\n    ----------\\n    ----------\\n\\n'"
      ]
     },
     "execution_count": 75,
     "metadata": {},
     "output_type": "execute_result"
    }
   ],
   "source": [
    "# simple if statement\n",
    "\"\"\"\"  \n",
    "syntax:\n",
    "if(test condition):\n",
    "    statement1\n",
    "    statement2\n",
    "    ----------\n",
    "    ----------\n",
    "\n",
    "\"\"\""
   ]
  },
  {
   "cell_type": "code",
   "execution_count": null,
   "metadata": {},
   "outputs": [
    {
     "name": "stdout",
     "output_type": "stream",
     "text": [
      "52.0 is even number\n"
     ]
    }
   ],
   "source": [
    "n=float(input(\"enter any number\"))\n",
    "if(n<=0):\n",
    "    print(\"{} is invalid input\".format(n))\n",
    "if(n%2==0) and (n>0):\n",
    "    print(\"{} is even number\".format(n))\n",
    "if(n%2!=0) and (n>0):\n",
    "    print(\"{} is odd number\".format(n))"
   ]
  },
  {
   "cell_type": "markdown",
   "metadata": {},
   "source": [
    "# if else statements\n"
   ]
  },
  {
   "cell_type": "code",
   "execution_count": null,
   "metadata": {},
   "outputs": [
    {
     "data": {
      "text/plain": [
       "'  \\n syntax :-\\n\\n    if(test condition):\\n       block of statements\\n    else:\\n     block of statements   \\n \\n'"
      ]
     },
     "execution_count": 77,
     "metadata": {},
     "output_type": "execute_result"
    }
   ],
   "source": [
    "\"\"\"  \n",
    " syntax :-\n",
    "\n",
    "    if(test condition):\n",
    "       block of statements\n",
    "    else:\n",
    "     block of statements   \n",
    " \n",
    "\"\"\""
   ]
  },
  {
   "cell_type": "markdown",
   "metadata": {},
   "source": [
    "# String handling \n",
    "- str operation on strings ie., indexing and slicing"
   ]
  },
  {
   "cell_type": "code",
   "execution_count": null,
   "metadata": {},
   "outputs": [
    {
     "data": {
      "text/plain": [
       "'p'"
      ]
     },
     "execution_count": 78,
     "metadata": {},
     "output_type": "execute_result"
    }
   ],
   "source": [
    "s=\"python\"\n",
    "s[0]"
   ]
  },
  {
   "cell_type": "code",
   "execution_count": null,
   "metadata": {},
   "outputs": [
    {
     "name": "stdout",
     "output_type": "stream",
     "text": [
      "python program <class 'str'> 2105721419056\n"
     ]
    }
   ],
   "source": [
    "s=s+\" program\"\n",
    "print(s,type(s),id(s))"
   ]
  },
  {
   "cell_type": "code",
   "execution_count": null,
   "metadata": {},
   "outputs": [],
   "source": [
    "# str is immutable object , we want to perform various operation by pre define function "
   ]
  },
  {
   "cell_type": "markdown",
   "metadata": {},
   "source": [
    "# capitalize"
   ]
  },
  {
   "cell_type": "code",
   "execution_count": null,
   "metadata": {},
   "outputs": [
    {
     "name": "stdout",
     "output_type": "stream",
     "text": [
      "Python <class 'str'> 2105716591328\n"
     ]
    }
   ],
   "source": [
    "s=\"python\"\n",
    "s=s.capitalize()\n",
    "print(s,type(s),id(s))"
   ]
  },
  {
   "cell_type": "markdown",
   "metadata": {},
   "source": [
    "# title"
   ]
  },
  {
   "cell_type": "code",
   "execution_count": null,
   "metadata": {},
   "outputs": [
    {
     "name": "stdout",
     "output_type": "stream",
     "text": [
      "Python <class 'str'> 2105716591328\n"
     ]
    }
   ],
   "source": [
    "s=\"python\"\n",
    "s=s.title()\n",
    "print(s,type(s),id(s))"
   ]
  },
  {
   "cell_type": "code",
   "execution_count": null,
   "metadata": {},
   "outputs": [
    {
     "name": "stdout",
     "output_type": "stream",
     "text": [
      "Python is a oop language  <class 'str'> 2105721427312\n"
     ]
    }
   ],
   "source": [
    "s=\"python is a oop language \"\n",
    "s=s.capitalize()\n",
    "print(s,type(s),id(s))"
   ]
  },
  {
   "cell_type": "code",
   "execution_count": null,
   "metadata": {},
   "outputs": [
    {
     "name": "stdout",
     "output_type": "stream",
     "text": [
      "Python Is A Oop Language  <class 'str'> 2105721433152\n"
     ]
    }
   ],
   "source": [
    "s=\"python is a oop language \"\n",
    "s=s.title()\n",
    "print(s,type(s),id(s))"
   ]
  },
  {
   "cell_type": "markdown",
   "metadata": {},
   "source": [
    "# count()"
   ]
  },
  {
   "cell_type": "code",
   "execution_count": null,
   "metadata": {},
   "outputs": [
    {
     "name": "stdout",
     "output_type": "stream",
     "text": [
      "3 <class 'int'> 140735408047080\n"
     ]
    }
   ],
   "source": [
    "s=\"python is a oop language \"\n",
    "s=s.count(\"o\")\n",
    "print(s,type(s),id(s))"
   ]
  },
  {
   "cell_type": "code",
   "execution_count": null,
   "metadata": {},
   "outputs": [
    {
     "name": "stdout",
     "output_type": "stream",
     "text": [
      "3 <class 'int'> 140735408047080\n"
     ]
    }
   ],
   "source": [
    "\n",
    "s=\"python is a oop language \"\n",
    "s=s.count(\"a\")\n",
    "print(s,type(s),id(s))"
   ]
  },
  {
   "cell_type": "code",
   "execution_count": null,
   "metadata": {},
   "outputs": [
    {
     "name": "stdout",
     "output_type": "stream",
     "text": [
      "6\n"
     ]
    }
   ],
   "source": [
    "s=1276757612553613111\n",
    "# find how many time 1 occurrences\n",
    "s1=str(s)\n",
    "s1=s1.count(\"1\")\n",
    "print(s1)\n"
   ]
  },
  {
   "cell_type": "markdown",
   "metadata": {},
   "source": [
    "# swapcase()"
   ]
  },
  {
   "cell_type": "code",
   "execution_count": null,
   "metadata": {},
   "outputs": [
    {
     "name": "stdout",
     "output_type": "stream",
     "text": [
      "pYtHoN\n"
     ]
    }
   ],
   "source": [
    "s=\"PyThOn\"\n",
    "s1=s.swapcase()\n",
    "print(s1)"
   ]
  },
  {
   "cell_type": "markdown",
   "metadata": {},
   "source": [
    "# isalpha()"
   ]
  },
  {
   "cell_type": "code",
   "execution_count": null,
   "metadata": {},
   "outputs": [
    {
     "name": "stdout",
     "output_type": "stream",
     "text": [
      "True\n"
     ]
    }
   ],
   "source": [
    "s=\"PyThOn\"\n",
    "s1=s.isalpha()\n",
    "print(s1)"
   ]
  },
  {
   "cell_type": "markdown",
   "metadata": {},
   "source": [
    "# split()"
   ]
  },
  {
   "cell_type": "code",
   "execution_count": null,
   "metadata": {},
   "outputs": [],
   "source": [
    "s=\"Py12Th67o4N9\"\n",
    "# get the number and charecter separately"
   ]
  },
  {
   "cell_type": "code",
   "execution_count": null,
   "metadata": {},
   "outputs": [
    {
     "name": "stdout",
     "output_type": "stream",
     "text": [
      "['python', 'is', 'a', 'oop', 'language']\n"
     ]
    }
   ],
   "source": [
    "s=\"python is a oop language\"\n",
    "s1=s.split()\n",
    "print(s1)"
   ]
  },
  {
   "cell_type": "code",
   "execution_count": null,
   "metadata": {},
   "outputs": [
    {
     "name": "stdout",
     "output_type": "stream",
     "text": [
      "['09', '03', '1995']\n",
      "DD= 09\n",
      "MM= 03\n",
      "YY= 1995\n"
     ]
    }
   ],
   "source": [
    "s=\"09-03-1995\"\n",
    "s1=s.split(\"-\")\n",
    "print(s1)\n",
    "print(\"DD=\",s1[0])\n",
    "print(\"MM=\",s1[1])\n",
    "print(\"YY=\",s1[2])"
   ]
  },
  {
   "cell_type": "code",
   "execution_count": null,
   "metadata": {},
   "outputs": [
    {
     "name": "stdout",
     "output_type": "stream",
     "text": [
      "['Apple', 'Mango-Kiwi', 'Guava']\n"
     ]
    }
   ],
   "source": [
    "s=\"Apple#Mango-Kiwi#Guava\"\n",
    "s1=s.split(\"#\")\n",
    "print(s1)"
   ]
  },
  {
   "cell_type": "code",
   "execution_count": null,
   "metadata": {},
   "outputs": [
    {
     "name": "stdout",
     "output_type": "stream",
     "text": [
      "['Mango', 'Kiwi']\n"
     ]
    }
   ],
   "source": [
    "y=s1[1].split(\"-\")\n",
    "print(y)"
   ]
  },
  {
   "cell_type": "code",
   "execution_count": null,
   "metadata": {},
   "outputs": [
    {
     "name": "stdout",
     "output_type": "stream",
     "text": [
      "['Apple', 'Mango', 'Guava']\n"
     ]
    }
   ],
   "source": [
    "s1[1]=y[0]\n",
    "print(s1)"
   ]
  },
  {
   "cell_type": "code",
   "execution_count": null,
   "metadata": {},
   "outputs": [
    {
     "name": "stdout",
     "output_type": "stream",
     "text": [
      "['Apple', 'Mango', 'Kiwi', 'Guava']\n"
     ]
    }
   ],
   "source": [
    "s1.insert(-1,y[1])\n",
    "print(s1)"
   ]
  },
  {
   "cell_type": "code",
   "execution_count": null,
   "metadata": {},
   "outputs": [
    {
     "name": "stdout",
     "output_type": "stream",
     "text": [
      "['python', 'is', 'hll', 'program']\n"
     ]
    }
   ],
   "source": [
    "s=\"python is hll program\"\n",
    "x=s.split()\n",
    "print(x)"
   ]
  },
  {
   "cell_type": "code",
   "execution_count": null,
   "metadata": {},
   "outputs": [
    {
     "name": "stdout",
     "output_type": "stream",
     "text": [
      "python is hll program\n"
     ]
    }
   ],
   "source": [
    "lst=['python', 'is', 'hll', 'program']\n",
    "s=\" \"\n",
    "s1=s.join(lst)\n",
    "print(s1)"
   ]
  },
  {
   "cell_type": "code",
   "execution_count": null,
   "metadata": {},
   "outputs": [
    {
     "name": "stdout",
     "output_type": "stream",
     "text": [
      "python\n"
     ]
    }
   ],
   "source": [
    "s=\"   python\"\n",
    "s1=s.lstrip()\n",
    "print(s1)"
   ]
  },
  {
   "cell_type": "markdown",
   "metadata": {},
   "source": [
    "# Looping or Iterating or Repetative statement\n",
    "\n",
    "- while loop or while else loop\n",
    "- for loop or else loop\n",
    "\n",
    "- Looping statements containing \n",
    "1. Initialisation\n",
    "2. conditional part\n",
    "3. updation part"
   ]
  },
  {
   "cell_type": "code",
   "execution_count": null,
   "metadata": {},
   "outputs": [
    {
     "data": {
      "text/plain": [
       "'  \\n\\n# while loop\\n- syntax-1:-\\n\\nwhile(test condition):\\n    statement(s)\\n    increment/decrement statement\\n\\n- syntax-2:-\\n\\nwhile(test condition):\\n    statement(s)\\n    increment/decrement statement\\nelse:\\n    statement(s)\\n\\n\\n'"
      ]
     },
     "execution_count": 102,
     "metadata": {},
     "output_type": "execute_result"
    }
   ],
   "source": [
    "\"\"\"  \n",
    "\n",
    "# while loop\n",
    "- syntax-1:-\n",
    "\n",
    "while(test condition):\n",
    "    statement(s)\n",
    "    increment/decrement statement\n",
    "\n",
    "- syntax-2:-\n",
    "\n",
    "while(test condition):\n",
    "    statement(s)\n",
    "    increment/decrement statement\n",
    "else:\n",
    "    statement(s)\n",
    "\n",
    "\n",
    "\"\"\""
   ]
  },
  {
   "cell_type": "code",
   "execution_count": null,
   "metadata": {},
   "outputs": [
    {
     "name": "stdout",
     "output_type": "stream",
     "text": [
      "1\n",
      "2\n",
      "3\n",
      "4\n",
      "5\n",
      "6\n",
      "7\n",
      "8\n",
      "9\n",
      "10\n",
      "loop completed\n"
     ]
    }
   ],
   "source": [
    "# wap to generate 1 to 10 number .\n",
    "\n",
    "i=1 # initialization\n",
    "while(i<=10): # condition\n",
    "    print(\"{}\".format(i))\n",
    "    i=i+1 # updation\n",
    "else:\n",
    "    print(\"loop completed\")\n"
   ]
  },
  {
   "cell_type": "code",
   "execution_count": null,
   "metadata": {},
   "outputs": [
    {
     "name": "stdout",
     "output_type": "stream",
     "text": [
      "loop completed\n"
     ]
    }
   ],
   "source": [
    "n=int(input(\"enter the number you want to generate:\"))\n",
    "i=1 # initialization\n",
    "while(n<=i):# condition\n",
    "    print(\"{}\".format(i))\n",
    "    i=i-1 # updation\n",
    "else:\n",
    "    print(\"loop completed\")\n"
   ]
  },
  {
   "cell_type": "code",
   "execution_count": null,
   "metadata": {},
   "outputs": [
    {
     "name": "stdout",
     "output_type": "stream",
     "text": [
      "5\n",
      "4\n",
      "3\n",
      "2\n",
      "1\n",
      "loop completed\n"
     ]
    }
   ],
   "source": [
    "# generate n to 1 \n",
    "\n",
    "n=int(input(\"enter the number you want to generate:\"))\n",
    "\n",
    "if(n<=0):\n",
    "    print(\"{} is invalid input\".format())\n",
    "else:\n",
    "    i=n\n",
    "    while(i>=1):\n",
    "        print(\"{}\".format(i))\n",
    "        i=i-1 # updation\n",
    "    else:\n",
    "        print(\"loop completed\")\n",
    "\n",
    "\n",
    "\n"
   ]
  },
  {
   "cell_type": "code",
   "execution_count": null,
   "metadata": {},
   "outputs": [
    {
     "name": "stdout",
     "output_type": "stream",
     "text": [
      "1 is odd\n",
      "3 is odd\n",
      "5 is odd\n",
      "loop completed\n"
     ]
    }
   ],
   "source": [
    "#wap to generate odd number within n\n",
    "n=int(input(\"enter the number you want to generate:\"))\n",
    "\n",
    "if(n<=0):\n",
    "    print(\"{} is invalid input\".format())\n",
    "else:\n",
    "    i=1\n",
    "    while(i<=n):\n",
    "        print(\"{} is odd\".format(i))\n",
    "        i=i+2 # updation\n",
    "    else:\n",
    "        print(\"loop completed\")"
   ]
  },
  {
   "cell_type": "code",
   "execution_count": null,
   "metadata": {},
   "outputs": [
    {
     "name": "stdout",
     "output_type": "stream",
     "text": [
      "5 is odd\n",
      "3 is odd\n",
      "1 is odd\n",
      "loop completed\n"
     ]
    }
   ],
   "source": [
    "#wap to generate odd number within n , it should be in decreasing order\n",
    "\n",
    "n=int(input(\"enter the number you want to generate:\"))\n",
    "\n",
    "if(n<=0):\n",
    "    print(\"{} is invalid input\".format())\n",
    "else:\n",
    "    i=n\n",
    "    while(i>=1):\n",
    "        print(\"{} is odd\".format(i))\n",
    "        i=i-2 # updation\n",
    "    else:\n",
    "        print(\"loop completed\")"
   ]
  },
  {
   "cell_type": "code",
   "execution_count": null,
   "metadata": {},
   "outputs": [
    {
     "name": "stdout",
     "output_type": "stream",
     "text": [
      "5 is odd\n",
      "3 is odd\n"
     ]
    }
   ],
   "source": [
    "# another way\n",
    "\n",
    "n=int(input(\"enter the number you want to generate:\"))\n",
    "\n",
    "if(n<=0):\n",
    "    print(\"{} is invalid input\".format())\n",
    "else:\n",
    "    while(n>=2):\n",
    "        print(\"{} is odd\".format(n))\n",
    "        n=n-2 # updation\n",
    "        "
   ]
  },
  {
   "cell_type": "markdown",
   "metadata": {},
   "source": [
    "# For loop\n",
    "\n",
    "  "
   ]
  },
  {
   "cell_type": "code",
   "execution_count": null,
   "metadata": {},
   "outputs": [
    {
     "name": "stdout",
     "output_type": "stream",
     "text": [
      "1\n",
      "2\n",
      "3\n",
      "4\n",
      "5\n",
      "6\n",
      "7\n",
      "8\n",
      "9\n",
      "10\n"
     ]
    }
   ],
   "source": [
    "# wap to generate 1 to n number where n is +ve:-\n",
    "\n",
    "# while loop \n",
    "n=10\n",
    "i=1\n",
    "while(i<=n):\n",
    "    print(i)\n",
    "    i=i+1\n",
    "\n"
   ]
  },
  {
   "cell_type": "code",
   "execution_count": null,
   "metadata": {},
   "outputs": [
    {
     "name": "stdout",
     "output_type": "stream",
     "text": [
      "1\n",
      "2\n",
      "3\n",
      "4\n",
      "5\n",
      "6\n",
      "7\n",
      "8\n",
      "9\n",
      "10\n"
     ]
    }
   ],
   "source": [
    "for i in range(1,n+1):\n",
    "    print(i) "
   ]
  },
  {
   "cell_type": "code",
   "execution_count": null,
   "metadata": {},
   "outputs": [
    {
     "name": "stdout",
     "output_type": "stream",
     "text": [
      "number \n",
      "1\n",
      "2\n",
      "3\n",
      "4\n",
      "5\n"
     ]
    }
   ],
   "source": [
    "n=int(input(\"enter the number\"))\n",
    "if(n<0):\n",
    "    print(\"{} is invalid \".format(n))\n",
    "else:\n",
    "    print(\"number \")\n",
    "    for i in range(1,n+1):\n",
    "        print(i)"
   ]
  },
  {
   "cell_type": "code",
   "execution_count": null,
   "metadata": {},
   "outputs": [
    {
     "name": "stdout",
     "output_type": "stream",
     "text": [
      "5\n",
      "4\n",
      "3\n",
      "2\n",
      "1\n"
     ]
    }
   ],
   "source": [
    "# wap to print n to 1\n",
    "\n",
    "n=int(input(\"enter the number\"))\n",
    "if(n<=0):\n",
    "    print(\"{} is invalid \".format(n))\n",
    "else:\n",
    "    for i in range(n,0,-1):\n",
    "        print(i)"
   ]
  },
  {
   "cell_type": "code",
   "execution_count": null,
   "metadata": {},
   "outputs": [
    {
     "name": "stdout",
     "output_type": "stream",
     "text": [
      "1 is odd\n",
      "2 is even\n",
      "3 is odd\n",
      "4 is even\n",
      "5 is odd\n",
      "6 is even\n",
      "7 is odd\n",
      "8 is even\n",
      "9 is odd\n",
      "10 is even\n"
     ]
    }
   ],
   "source": [
    "# wap to generate odd and even numbers number\n",
    "\n",
    "for i in range(1,11):\n",
    "    if(i%2==0):\n",
    "        print(i,\"is even\")\n",
    "    else:\n",
    "        print(i,\"is odd\")"
   ]
  },
  {
   "cell_type": "code",
   "execution_count": null,
   "metadata": {},
   "outputs": [
    {
     "name": "stdout",
     "output_type": "stream",
     "text": [
      "sum of first 10 natural number is 1\n",
      "sum of first 10 natural number is 3\n",
      "sum of first 10 natural number is 6\n",
      "sum of first 10 natural number is 10\n",
      "sum of first 10 natural number is 15\n",
      "sum of first 10 natural number is 21\n",
      "sum of first 10 natural number is 28\n",
      "sum of first 10 natural number is 36\n",
      "sum of first 10 natural number is 45\n",
      "sum of first 10 natural number is 55\n"
     ]
    }
   ],
   "source": [
    "# find the sum of first n natural number, wher en is +ve\n",
    "\n",
    "n=int(input(\"enter the number\"))\n",
    "if(n<=0):\n",
    "    print(\"{} is invalid number\".format(n))\n",
    "else:\n",
    "    sum=0\n",
    "    for i in range(1,n+1):\n",
    "        sum+=i\n",
    "        print(\"sum of first {} natural number is {}\".format(n,sum))"
   ]
  },
  {
   "cell_type": "code",
   "execution_count": null,
   "metadata": {},
   "outputs": [],
   "source": [
    "# python fullstack programming will help you to become \n",
    "\n",
    "\"\"\"\n",
    "- data analyst\n",
    "- data analytics\n",
    "- Business Intelligence Engineering\n",
    "- Data Analyzer\n",
    "- Data science \n",
    " \n",
    "numpy 20days\n",
    "panda 20 days\n",
    "matplotlib 10 days\n",
    "\n",
    "\"\"\""
   ]
  },
  {
   "cell_type": "code",
   "execution_count": null,
   "metadata": {},
   "outputs": [
    {
     "name": "stdout",
     "output_type": "stream",
     "text": [
      "1\n",
      "4\n",
      "9\n",
      "16\n",
      "25\n",
      "36\n",
      "49\n",
      "64\n",
      "81\n",
      "100\n"
     ]
    }
   ],
   "source": [
    "# square of natural number\n",
    "n=int(input(\"enter the number\"))\n",
    "for i in range(1,n+1):\n",
    "    print(i**2)"
   ]
  },
  {
   "cell_type": "markdown",
   "metadata": {},
   "source": [
    "# FUNCTION"
   ]
  },
  {
   "cell_type": "code",
   "execution_count": null,
   "metadata": {},
   "outputs": [],
   "source": [
    "\"\"\"  \n",
    "Index\n",
    "-----------\n",
    "=>Purpose of Functions\n",
    "=>Types of languages\n",
    "\ta) Un-Structured Programming Lang\n",
    "\tb) Structured Programming Lang\n",
    "=>Definition of Function\n",
    "=>Parts of Function\n",
    "=>Phases in Functions\n",
    "=>Syntax for Defining Functions\n",
    "=>Programming Examples\n",
    "=>Number of approaches to define Functions\n",
    "=>Programming Examples\n",
    "____________________________\n",
    "\n",
    "=>Arguments and Parameters\n",
    "=>Types of Arguments\n",
    "\t\t1. Positional Arguments\n",
    "\t\t2. Default Arguments\n",
    "\t\t3. Keyword Arguments\n",
    "\t\t4. Variable Length Arguments\n",
    "\t\t5. Keyword Variable Length Arguments\n",
    "=>Programming Examples\n",
    "__________________________\n",
    "\n",
    "=>Global  and Local Variables\n",
    "=>Programming Examples\n",
    "=>global keyword\n",
    "=>globals()\n",
    "=>Programming Examples\n",
    "=>Anonymous OR Lambda Functions\n",
    "=>Implementation of Anonymous OR Lambda Functions\n",
    "=>Programming Examples\n",
    "________________________\n",
    "\n",
    "Special Functions in Python\n",
    "\ta) filter() with Normal and Anonymous Function\n",
    "\tb) map() with Normal and Anonymous Function\n",
    "\tc) reduce() with Normal and Anonymous Function\n",
    "=>Programming Examples\n",
    "___________\n",
    "Nested function or decorator\n",
    "\n",
    "\"\"\""
   ]
  },
  {
   "cell_type": "markdown",
   "metadata": {},
   "source": [
    "# Types of languages\n",
    "\n",
    "- Un-structured programming language example [GW-BASIC]\n",
    "- Structured programming language example [C,C++,Python,Java,C#]\n",
    "\n",
    "# a) Un-Structured Programming Lang\n",
    "\n",
    "- Since Un-Structured Programming Lang does not contains the concept of FUNCTIONS and Hence \n",
    "    whose Applications having the following  Limitations.\n",
    "\n",
    "\t1. Application development Time is More\n",
    "\t2. Application takes More memory Space\n",
    "\t3. Application execution time is More\n",
    "\t4. Application Performance Degraded\n",
    "\t5. Redundency ( Duplication or Replication) of the Code is More.\n",
    "\n",
    "Examples:  GW-BASIC\n",
    "\n",
    "# b) Structured Programming Lang\n",
    "- Since Structured Programming Lang  contains the concept of FUNCTIONS and Hence \n",
    "    whose Applications having the following  Advantages.\n",
    "\t1. Application development Time is Less\n",
    "\t2. Application takes Less memory Space\n",
    "\t3. Application execution time is Less\n",
    "\t4. Application Performance Enahnced (Improved)\n",
    "\t5. Redundency ( Duplication or Replication) of the Code is Minimized.\n",
    "\n",
    "Examples:     C,C++,Java,PYTHON,C#.net...etc"
   ]
  },
  {
   "cell_type": "markdown",
   "metadata": {},
   "source": [
    "# Functions in Python\n",
    "\n",
    "- The purpose of Functions is that \" To Perform Certain Operation /Task and Provides Code \n",
    "    Re-Usability\".\n",
    "    - The Advantages of Functions in any languages are\n",
    "\t\t1. Application Development time is Less\n",
    "\t\t2. Application Memory Space is Less\n",
    "\t\t3. Application Execution Time is Less\n",
    "\t\t4. Application Performance  is Enhanced\n",
    "\t\t5. Redundency of the Code is Minimized\n",
    "\n",
    "\t# Parts of Functions\n",
    "\n",
    "\t- At the time Developing functions in real time, we must ensure that, there must exist 2 Parts. they are\n",
    "\t\t1. Function Definition\n",
    "\t\t2. Function Calls\n",
    "\t- Every Function Definition Exists Only Once.\n",
    "\t- Function Definition will execute when we call by using function calls OR Without  calling the Function \n",
    "    by using Function Calls PVM will not execute Function Definition.\n",
    " \n",
    "\n",
    "\t# Phases in Functions\n",
    "\n",
    "\t- At the time Defining the functions, the Programmer must ensure that there must exist the following Phases.\n",
    "\t\t1. Every Function Must take INPUT\n",
    "\t\t2. Every Function Must PROCESS the Input\n",
    "\t\t3. Every Function Must give OUTPUT or RESULT"
   ]
  },
  {
   "cell_type": "markdown",
   "metadata": {},
   "source": [
    "# Number of approaches to define function\n",
    "- 4 way to define function\n",
    "\n"
   ]
  },
  {
   "cell_type": "code",
   "execution_count": null,
   "metadata": {},
   "outputs": [
    {
     "data": {
      "text/plain": [
       "30"
      ]
     },
     "execution_count": 9,
     "metadata": {},
     "output_type": "execute_result"
    }
   ],
   "source": [
    "\n",
    "# - Approach:1\n",
    "\n",
    "# define a function for addition of two number\n",
    "\n",
    "def addop(a,b):# here a,b are called formal parameters\n",
    "    c=a+b # here c is called local  variables\n",
    "    return c\n",
    "    print(c)\n",
    "addop(10,20)\n",
    "    "
   ]
  },
  {
   "cell_type": "code",
   "execution_count": null,
   "metadata": {},
   "outputs": [
    {
     "name": "stdout",
     "output_type": "stream",
     "text": [
      "Mul(10.0,10.0)=100.0\n"
     ]
    }
   ],
   "source": [
    "# return is keyword that is used to return the local varia RESULT\n",
    "\n",
    "\n",
    "def mulop(a,b):\n",
    "    \n",
    "    c=a*b \n",
    "    return c\n",
    "\n",
    "#main program\n",
    "a=float(input(\"Enter First Value:\"))\n",
    "b=float(input(\"Enter Second Value:\"))\n",
    "res=mulop(a,b) # Function call\n",
    "print(\"Mul({},{})={}\".format(a,b,res))"
   ]
  },
  {
   "cell_type": "markdown",
   "metadata": {},
   "source": [
    "# parameter and argument\n",
    "__________________\n",
    "\n",
    "# Parameter:-\n",
    " \n",
    " - parameter are classified into two types:-\n",
    " 1. Formal parameter\n",
    " 2. Local parameter/ variable\n",
    "\n",
    " - Formal parameter are those which are used in function heading .\n",
    " - the purpose of of formal parameter is to \" store  or hold input coming from function call\"\n",
    " \n",
    "\n",
    "____________________________\n",
    "\n",
    "# local variable\n",
    "\n",
    "- local variable are those which are used as a part of function body\n",
    "- the purpose of local variable is to \" store result of function processing logic\n",
    "\n",
    "# Example :-\n",
    "\n",
    "-def functionName(a,b,c): # a,b,c are called formal parameter\n",
    "-d= a+b+c # d is called local variable\n",
    "\n",
    "# Argument \n",
    "\n",
    "- argument are also called variable\n",
    "- argument are used inside function call\n",
    "____________________________________\n",
    "\n",
    "- the relationship between argument and parameter is that every value of argument must pass to formal parameter\n",
    "- based on passing the value of argument to formal parameter , argument are classified into 5 types:-\n",
    " 1. Positional argument\n",
    " 2. default argument\n",
    " 3. keyword argument\n",
    " 4. variable length argument\n",
    " 5. keyword variable length\n"
   ]
  },
  {
   "cell_type": "markdown",
   "metadata": {},
   "source": [
    "# Anonymous functions or Lambda functions\n",
    "- anonymous function are those which does not have any name function name explicitly .\n",
    "- the purpose of anonymous function is \" to perform instant operation\"\n",
    "- Instant operation are those which are used at point of time only but no longer interested to use in other part s of the application.\n",
    "- to define anonymous function we use lambda keyword. and hence anonymous function are called lambda function.\n",
    "- anonymous function perform instant operation they contain single executable statement only ( not multiple )\n",
    "- anonymous function return the result the automatically / implicitly / ( there is no need to write return statement)\n",
    "\n",
    "# Syntax:-\n",
    "\n",
    "- varname = lambda Param-list : expression\n",
    "\n",
    "\n",
    "__Explanation:-__\n",
    "\n",
    "- 'lambda' keyword is used to declare a lambda function\n",
    "- param list = represent list of formal parameters which are used for holding or storing the input coming from function call.\n",
    "- expression represent single executable statement and it is the solution  or logic for instant operation.\n",
    "\n",
    "\n",
    "\n"
   ]
  },
  {
   "cell_type": "code",
   "execution_count": null,
   "metadata": {},
   "outputs": [
    {
     "name": "stdout",
     "output_type": "stream",
     "text": [
      "30\n"
     ]
    }
   ],
   "source": [
    "# define a function to add two number\n",
    "# this is normal function\n",
    "def addop(a,b):\n",
    "    c=a+b\n",
    "    return c\n",
    "\n",
    "res=addop(10,20)\n",
    "print(res)"
   ]
  },
  {
   "cell_type": "code",
   "execution_count": null,
   "metadata": {},
   "outputs": [
    {
     "name": "stdout",
     "output_type": "stream",
     "text": [
      "30\n"
     ]
    }
   ],
   "source": [
    "# using lambda function\n",
    "addop1 = lambda a,b:a+b\n",
    "print(addop1(10,20))"
   ]
  },
  {
   "cell_type": "code",
   "execution_count": null,
   "metadata": {},
   "outputs": [
    {
     "name": "stdout",
     "output_type": "stream",
     "text": [
      "30\n"
     ]
    }
   ],
   "source": [
    "# find the max  of two number\n",
    "findMax= lambda a,b: a if a>b else b \n",
    "print(findMax(20,30))"
   ]
  },
  {
   "cell_type": "code",
   "execution_count": null,
   "metadata": {},
   "outputs": [
    {
     "name": "stdout",
     "output_type": "stream",
     "text": [
      "a is greater\n"
     ]
    }
   ],
   "source": [
    "findMax2= lambda a,b:\"a is greater\" if a>b else \"b is greater\" if b>a else \"both value are equal\"\n",
    "print(findMax2(51,5))"
   ]
  },
  {
   "cell_type": "code",
   "execution_count": null,
   "metadata": {},
   "outputs": [
    {
     "name": "stdout",
     "output_type": "stream",
     "text": [
      "enter the list of values separated by space\n",
      "content of the list [10]\n",
      "10 10\n"
     ]
    }
   ],
   "source": [
    "\n",
    "# find the min and max from list\n",
    "findmax= lambda values: max(values)\n",
    "findmin= lambda values: min(values)\n",
    "\n",
    "#main code \n",
    "print(\"enter the list of values separated by space\")\n",
    "vals= [int(val) for val in input().split()]\n",
    "print(\"content of the list\",vals)\n",
    "bv= findmax(vals)\n",
    "sv= findmin(vals)\n",
    "print(bv,sv)"
   ]
  },
  {
   "cell_type": "markdown",
   "metadata": {},
   "source": [
    "# Basic Program for interview "
   ]
  },
  {
   "cell_type": "code",
   "execution_count": null,
   "metadata": {},
   "outputs": [
    {
     "name": "stdout",
     "output_type": "stream",
     "text": [
      "1\n",
      "3\n",
      "6\n",
      "10\n",
      "15\n",
      "21\n",
      "28\n",
      "36\n",
      "45\n",
      "55\n"
     ]
    }
   ],
   "source": [
    "# find the sum of first 10 natural number \n",
    "sum=0\n",
    "for i in range(1,11):\n",
    "    sum+=i\n",
    "    print(sum)"
   ]
  },
  {
   "cell_type": "code",
   "execution_count": null,
   "metadata": {},
   "outputs": [
    {
     "name": "stdout",
     "output_type": "stream",
     "text": [
      "6*1=6\n",
      "6*2=12\n",
      "6*3=18\n",
      "6*4=24\n",
      "6*5=30\n",
      "6*6=36\n",
      "6*7=42\n",
      "6*8=48\n",
      "6*9=54\n",
      "6*10=60\n"
     ]
    }
   ],
   "source": [
    "# find the table of 6\n",
    "for i in range(1,11):\n",
    "    print(\"{}*{}={}\".format(6,i,6*i))"
   ]
  },
  {
   "cell_type": "code",
   "execution_count": null,
   "metadata": {},
   "outputs": [
    {
     "name": "stdout",
     "output_type": "stream",
     "text": [
      "the square of 1 is 1\n",
      "the square of 2 is 4\n",
      "the square of 3 is 9\n",
      "the square of 4 is 16\n",
      "the square of 5 is 25\n",
      "the square of 6 is 36\n",
      "the square of 7 is 49\n",
      "the square of 8 is 64\n",
      "the square of 9 is 81\n",
      "the square of 10 is 100\n"
     ]
    }
   ],
   "source": [
    "# find the square of first 10 number \n",
    "\n",
    "for i in range(1,11):\n",
    "    print(\"the square of {} is {}\".format(i,i*i))"
   ]
  },
  {
   "cell_type": "code",
   "execution_count": null,
   "metadata": {},
   "outputs": [
    {
     "name": "stdout",
     "output_type": "stream",
     "text": [
      "the cube of 1 is 1\n",
      "the cube of 2 is 8\n",
      "the cube of 3 is 27\n",
      "the cube of 4 is 64\n",
      "the cube of 5 is 125\n",
      "the cube of 6 is 216\n",
      "the cube of 7 is 343\n",
      "the cube of 8 is 512\n",
      "the cube of 9 is 729\n",
      "the cube of 10 is 1000\n"
     ]
    }
   ],
   "source": [
    "# wap to find the cube of first 10 natural number\n",
    "\n",
    "for i in range(1,11):\n",
    "    print(\"the cube of {} is {}\".format(i,i**3))"
   ]
  },
  {
   "cell_type": "code",
   "execution_count": null,
   "metadata": {},
   "outputs": [
    {
     "name": "stdout",
     "output_type": "stream",
     "text": [
      "1 is odd\n",
      "2 is even\n",
      "3 is odd\n",
      "4 is even\n",
      "5 is odd\n",
      "6 is even\n",
      "7 is odd\n",
      "8 is even\n",
      "9 is odd\n",
      "10 is even\n"
     ]
    }
   ],
   "source": [
    "# wap to find the first 10 natural number and check even or odd\n",
    "\n",
    "for i in range(1,11):\n",
    "    if i%2==0:\n",
    "        print(\"{} is even\".format(i))\n",
    "    else:\n",
    "        print(\"{} is odd\".format(i))"
   ]
  },
  {
   "cell_type": "code",
   "execution_count": null,
   "metadata": {},
   "outputs": [
    {
     "name": "stdout",
     "output_type": "stream",
     "text": [
      "\t10!=3628800\n"
     ]
    }
   ],
   "source": [
    "# wap to find factorial \n",
    "n=int(input(\"Enter a Number for Cal factorial:\"))\n",
    "if(n<0):\n",
    "    print(\"{} is Invalid Input\".format(n))\n",
    "else:\n",
    "    f=1\n",
    "    for i in range(1,n+1):\n",
    "        f=f*i\n",
    "    else:\n",
    "        print(\"\\t{}!={}\".format(n,f))\n"
   ]
  },
  {
   "cell_type": "code",
   "execution_count": null,
   "metadata": {},
   "outputs": [
    {
     "name": "stdout",
     "output_type": "stream",
     "text": [
      "5 sum of number is 1\n",
      "5 sum of number is 3\n",
      "5 sum of number is 6\n",
      "5 sum of number is 10\n",
      "5 sum of number is 15\n"
     ]
    }
   ],
   "source": [
    "n=int(input(\"enter the number\"))\n",
    "if(n<0):\n",
    "    print(\"number you enter {} is invalid or negative\")\n",
    "else:\n",
    "    sum=0\n",
    "    for i in range(1,n+1):\n",
    "        sum+=i\n",
    "        print(\"{} sum of number is {}\".format(n,sum))"
   ]
  },
  {
   "cell_type": "code",
   "execution_count": null,
   "metadata": {},
   "outputs": [
    {
     "name": "stdout",
     "output_type": "stream",
     "text": [
      "value of i outer loop:1\n",
      "------------------------------\n",
      "\tvalue of j-Inner Loop:1\n",
      "\tvalue of j-Inner Loop:2\n",
      "\tvalue of j-Inner Loop:3\n",
      "\tI am coming out of inner loop\n",
      "------------------------------\n",
      "value of i outer loop:2\n",
      "------------------------------\n",
      "\tvalue of j-Inner Loop:1\n",
      "\tvalue of j-Inner Loop:2\n",
      "\tvalue of j-Inner Loop:3\n",
      "\tI am coming out of inner loop\n",
      "------------------------------\n",
      "value of i outer loop:3\n",
      "------------------------------\n",
      "\tvalue of j-Inner Loop:1\n",
      "\tvalue of j-Inner Loop:2\n",
      "\tvalue of j-Inner Loop:3\n",
      "\tI am coming out of inner loop\n",
      "------------------------------\n",
      "value of i outer loop:4\n",
      "------------------------------\n",
      "\tvalue of j-Inner Loop:1\n",
      "\tvalue of j-Inner Loop:2\n",
      "\tvalue of j-Inner Loop:3\n",
      "\tI am coming out of inner loop\n",
      "------------------------------\n",
      "value of i outer loop:5\n",
      "------------------------------\n",
      "\tvalue of j-Inner Loop:1\n",
      "\tvalue of j-Inner Loop:2\n",
      "\tvalue of j-Inner Loop:3\n",
      "\tI am coming out of inner loop\n",
      "------------------------------\n",
      "I am coming out of outer loop\n"
     ]
    }
   ],
   "source": [
    "for i in range(1,6): # Outer Loop\n",
    "    print(\"value of i outer loop:{}\".format(i))\n",
    "    print(\"------------------------------\")\n",
    "    for j in range(1,4): # Inner Loop\n",
    "        print(\"\\tvalue of j-Inner Loop:{}\".format(j))\n",
    "    else:\n",
    "        print(\"\\tI am coming out of inner loop\")\n",
    "        print(\"------------------------------\")\n",
    "else:\n",
    "    print(\"I am coming out of outer loop\")"
   ]
  },
  {
   "cell_type": "code",
   "execution_count": null,
   "metadata": {},
   "outputs": [
    {
     "name": "stdout",
     "output_type": "stream",
     "text": [
      "--------------------------------------------------\n",
      "Mul Table for:5\n",
      "--------------------------------------------------\n",
      "\t5 x 1=5\n",
      "\t5 x 2=10\n",
      "\t5 x 3=15\n",
      "\t5 x 4=20\n",
      "\t5 x 5=25\n",
      "\t5 x 6=30\n",
      "\t5 x 7=35\n",
      "\t5 x 8=40\n",
      "\t5 x 9=45\n",
      "\t5 x 10=50\n",
      "**************************************************\n"
     ]
    }
   ],
   "source": [
    "#program for generating Mul Table for a given +ve number\n",
    "\n",
    "n=int(input(\"Enter a Number for generating Mul Table:\"))\n",
    "if(n<=0):\n",
    "    print(\"{} is Invalid Input\".format(n))\n",
    "else:\n",
    "    print('-'*50)\n",
    "    print(\"Mul Table for:{}\".format(n))\n",
    "    print('-' * 50)\n",
    "    i=1 # Init Part\n",
    "    while(i<11):\n",
    "        print(\"\\t{} x {}={}\".format(n,i,n*i))\n",
    "        i=i+1\n",
    "    else:\n",
    "        print(\"*\"*50)"
   ]
  },
  {
   "cell_type": "code",
   "execution_count": null,
   "metadata": {},
   "outputs": [],
   "source": [
    "def AverageSum():\n",
    "        try:\n",
    "            n1=eval(input(\"enter 1st number\"))\n",
    "            n2=eval(input(\"enter 2nd number\"))\n",
    "            n3=eval(input(\"enter 3rd number\"))\n",
    "            n4=eval(input(\"enter 4th number\"))\n",
    "            avg= (n1+n2+n3+n4)/4\n",
    "            print(\"the average of {} , {} , {} and {} is {}\".format(n1,n2,n3,n4,avg))\n",
    "        except Exception as e:\n",
    "            print(e)"
   ]
  },
  {
   "cell_type": "code",
   "execution_count": null,
   "metadata": {},
   "outputs": [
    {
     "name": "stdout",
     "output_type": "stream",
     "text": [
      "the average of 10 , 20 , 30 and 40 is 25.0\n"
     ]
    }
   ],
   "source": [
    "AverageSum()"
   ]
  },
  {
   "cell_type": "code",
   "execution_count": null,
   "metadata": {},
   "outputs": [
    {
     "name": "stdout",
     "output_type": "stream",
     "text": [
      "the addition of 69 and 89 is 158\n"
     ]
    }
   ],
   "source": [
    "def sum(n1,n2):\n",
    "    add=n1+n2\n",
    "    print(\"the addition of {} and {} is {}\".format(n1,n2,add))\n",
    "\n",
    "sum(69,89)"
   ]
  },
  {
   "cell_type": "code",
   "execution_count": null,
   "metadata": {},
   "outputs": [
    {
     "name": "stdout",
     "output_type": "stream",
     "text": [
      "30 is the greatest mumber\n"
     ]
    }
   ],
   "source": [
    "def numbers():\n",
    "    num1=eval(input(\"enter 1st number\"))\n",
    "    num2=eval(input(\"enter 2nd number\"))\n",
    "    num3=eval(input(\"enter 3rd number\"))\n",
    "    if num2<num1>num3:\n",
    "        print(num1,\"is the greatest mumber\")\n",
    "        a=num1\n",
    "\n",
    "    elif num2>num3:\n",
    "        print(num2,\"is the greatest mumber\")\n",
    "        a=num2\n",
    "\n",
    "    else:\n",
    "        print(num3,\"is the greatest mumber\")\n",
    "        a=num3\n",
    "\n",
    "    return(a)\n",
    "\n",
    "a=numbers()\n",
    "        \n",
    "    "
   ]
  },
  {
   "cell_type": "code",
   "execution_count": null,
   "metadata": {},
   "outputs": [],
   "source": [
    "list1=[\"hyd\",\"mumbai\",\"chennai\",\"delhi\"]\n",
    "\n",
    "#output:[\"Hyd\",\"Mumbai\",\"Chennai\",\"Delhi\"]\n",
    "\n",
    "#METHOD-1 : use append method\n",
    "#M-2 : use list comprehension\n",
    "#M-3 : use lambda function"
   ]
  },
  {
   "cell_type": "code",
   "execution_count": null,
   "metadata": {},
   "outputs": [
    {
     "name": "stdout",
     "output_type": "stream",
     "text": [
      "['Hyd', 'Mumbai', 'Chennai', 'Delhi']\n"
     ]
    }
   ],
   "source": [
    "list1=[\"hyd\",\"mumbai\",\"chennai\",\"delhi\"]\n",
    "\n",
    "list2=[]\n",
    "for i in list1:\n",
    "    list2.append(i.capitalize())\n",
    "\n",
    "print(list2)"
   ]
  },
  {
   "cell_type": "code",
   "execution_count": null,
   "metadata": {},
   "outputs": [
    {
     "name": "stdout",
     "output_type": "stream",
     "text": [
      "['Hyd', 'Mumbai', 'Chennai', 'Delhi']\n"
     ]
    }
   ],
   "source": [
    "list3=[i.capitalize() for i in list1]\n",
    "print(list3)\n"
   ]
  },
  {
   "cell_type": "code",
   "execution_count": null,
   "metadata": {},
   "outputs": [
    {
     "data": {
      "text/plain": [
       "'  \\nlambda <arg> :<output>,<iterator>\\n'"
      ]
     },
     "execution_count": 10,
     "metadata": {},
     "output_type": "execute_result"
    }
   ],
   "source": [
    "\"\"\"  \n",
    "lambda <arg> :<output>,<iterator>\n",
    "\"\"\""
   ]
  },
  {
   "cell_type": "code",
   "execution_count": null,
   "metadata": {},
   "outputs": [
    {
     "name": "stdout",
     "output_type": "stream",
     "text": [
      "['Hyd', 'Mumbai', 'Chennai', 'Delhi']\n"
     ]
    }
   ],
   "source": [
    "list3=[i.capitalize() for i in list1]\n",
    "print(list3)\n"
   ]
  },
  {
   "cell_type": "code",
   "execution_count": null,
   "metadata": {},
   "outputs": [
    {
     "data": {
      "text/plain": [
       "['Hyd', 'Mumbai', 'Chennai', 'Delhi']"
      ]
     },
     "execution_count": 11,
     "metadata": {},
     "output_type": "execute_result"
    }
   ],
   "source": [
    "list(map(lambda i:i.capitalize(),list1))"
   ]
  },
  {
   "cell_type": "code",
   "execution_count": null,
   "metadata": {},
   "outputs": [
    {
     "data": {
      "text/plain": [
       "('Hyd', 'Mumbai', 'Chennai', 'Delhi')"
      ]
     },
     "execution_count": 12,
     "metadata": {},
     "output_type": "execute_result"
    }
   ],
   "source": [
    "tuple(map(lambda i:i.capitalize(),list1))"
   ]
  },
  {
   "cell_type": "code",
   "execution_count": null,
   "metadata": {},
   "outputs": [],
   "source": [
    "list1=[1,2,3,4,5,6,7,8,9]\n",
    "\n",
    "#apply the square\n",
    "#apply the cube\n"
   ]
  },
  {
   "cell_type": "code",
   "execution_count": null,
   "metadata": {},
   "outputs": [
    {
     "name": "stdout",
     "output_type": "stream",
     "text": [
      "1\n",
      "4\n",
      "9\n",
      "16\n",
      "25\n",
      "36\n",
      "49\n",
      "64\n",
      "81\n"
     ]
    }
   ],
   "source": [
    "#lambda <argument> : <output>,<iterator>\n",
    "list1=[1,2,3,4,5,6,7,8,9]\n",
    "for i in map(lambda i:i*i,list1):\n",
    "    print(i)"
   ]
  },
  {
   "cell_type": "code",
   "execution_count": null,
   "metadata": {},
   "outputs": [
    {
     "data": {
      "text/plain": [
       "[1, 4, 9, 16, 25, 36, 49, 64, 81]"
      ]
     },
     "execution_count": 15,
     "metadata": {},
     "output_type": "execute_result"
    }
   ],
   "source": [
    "list(map(lambda i:i*i,list1))"
   ]
  },
  {
   "cell_type": "code",
   "execution_count": null,
   "metadata": {},
   "outputs": [
    {
     "data": {
      "text/plain": [
       "[1, 8, 27, 64, 125, 216, 343, 512, 729]"
      ]
     },
     "execution_count": 16,
     "metadata": {},
     "output_type": "execute_result"
    }
   ],
   "source": [
    "list(map(lambda i:i*i*i,list1))"
   ]
  },
  {
   "cell_type": "code",
   "execution_count": null,
   "metadata": {},
   "outputs": [],
   "source": [
    "list1=[1,2,3]\n",
    "list2=[11,22,33]\n",
    "\n",
    "#output [12,24,36]"
   ]
  },
  {
   "cell_type": "code",
   "execution_count": null,
   "metadata": {},
   "outputs": [
    {
     "name": "stdout",
     "output_type": "stream",
     "text": [
      "12\n",
      "24\n",
      "36\n"
     ]
    }
   ],
   "source": [
    "\n",
    "list1=[1,2,3]\n",
    "list2=[11,22,33]\n",
    "for i,j in zip(list1,list2):\n",
    "    print(i+j)"
   ]
  },
  {
   "cell_type": "code",
   "execution_count": null,
   "metadata": {},
   "outputs": [
    {
     "data": {
      "text/plain": [
       "(<function __main__.<lambda>(i, j)>, [1, 2, 3], [11, 22, 33])"
      ]
     },
     "execution_count": 19,
     "metadata": {},
     "output_type": "execute_result"
    }
   ],
   "source": [
    "lambda i,j:i+j,list1,list2"
   ]
  },
  {
   "cell_type": "code",
   "execution_count": null,
   "metadata": {},
   "outputs": [
    {
     "data": {
      "text/plain": [
       "[12, 24, 36]"
      ]
     },
     "execution_count": 20,
     "metadata": {},
     "output_type": "execute_result"
    }
   ],
   "source": [
    "list(map(lambda i,j:i+j,list1,list2))"
   ]
  },
  {
   "cell_type": "code",
   "execution_count": null,
   "metadata": {},
   "outputs": [
    {
     "name": "stdout",
     "output_type": "stream",
     "text": [
      "['h#d', 'mum#bai', 'de#hi']\n"
     ]
    }
   ],
   "source": [
    "list1=[\"h#d\",\"mum#bai\",\"banglore\",\"de#hi\"]\n",
    "\n",
    "list2=[]\n",
    "for i in list1:\n",
    "    if \"#\" in i:\n",
    "        list2.append(i)\n",
    "\n",
    "print(list2)"
   ]
  },
  {
   "cell_type": "code",
   "execution_count": null,
   "metadata": {},
   "outputs": [
    {
     "data": {
      "text/plain": [
       "['h#d', 'mum#bai', 'de#hi']"
      ]
     },
     "execution_count": 22,
     "metadata": {},
     "output_type": "execute_result"
    }
   ],
   "source": [
    "[i for i in list1 if \"#\" in i]"
   ]
  },
  {
   "cell_type": "code",
   "execution_count": null,
   "metadata": {},
   "outputs": [
    {
     "data": {
      "text/plain": [
       "[True, True, False, True]"
      ]
     },
     "execution_count": 23,
     "metadata": {},
     "output_type": "execute_result"
    }
   ],
   "source": [
    "list(map(lambda i:\"#\" in i,list1))"
   ]
  },
  {
   "cell_type": "code",
   "execution_count": null,
   "metadata": {},
   "outputs": [
    {
     "data": {
      "text/plain": [
       "['h#d', 'mum#bai', 'de#hi']"
      ]
     },
     "execution_count": 24,
     "metadata": {},
     "output_type": "execute_result"
    }
   ],
   "source": [
    "list(filter(lambda i:\"#\" in i,list1))"
   ]
  },
  {
   "cell_type": "code",
   "execution_count": null,
   "metadata": {},
   "outputs": [
    {
     "data": {
      "text/plain": [
       "True"
      ]
     },
     "execution_count": 25,
     "metadata": {},
     "output_type": "execute_result"
    }
   ],
   "source": [
    "list1=[\"h#d\",\"mum#bai\",\"banglore\",\"de#hi\"]\n",
    "\"#\" in \"h#d\""
   ]
  },
  {
   "cell_type": "code",
   "execution_count": null,
   "metadata": {},
   "outputs": [],
   "source": [
    "#n: new line\n",
    "#t: tab\n"
   ]
  },
  {
   "cell_type": "code",
   "execution_count": null,
   "metadata": {},
   "outputs": [],
   "source": [
    "a = [1, 2, 3]\n",
    "b = [1, 2, 3]\n",
    "print(a == b)  # True (same values)\n",
    "print(a is b)  # False (different memory locations)\n",
    "# is checks object identity (whether they refer to the same memory location).\n",
    "# == checks for value equality (whether they have the same content)."
   ]
  },
  {
   "cell_type": "code",
   "execution_count": null,
   "metadata": {},
   "outputs": [],
   "source": [
    "# In lamda there is no \"return\" keywords"
   ]
  },
  {
   "cell_type": "markdown",
   "metadata": {},
   "source": [
    "# Special function in python\n",
    "\n",
    "- There are 3 special functions in python:- \n",
    "- map()\n",
    "- filter()\n",
    "- reduce()\n"
   ]
  },
  {
   "cell_type": "markdown",
   "metadata": {},
   "source": [
    "# filter():-\n",
    "\n",
    "- filter() function in python is used to create a new list from elements of an iterable for which a function returns true.\n",
    "- Syntax:varname = filter(functionName, iterableObject)"
   ]
  },
  {
   "cell_type": "code",
   "execution_count": 1,
   "metadata": {},
   "outputs": [
    {
     "name": "stdout",
     "output_type": "stream",
     "text": [
      "<filter object at 0x0000022FCBBCB0A0> <class 'filter'>\n",
      "[10, 20, 30, 40, 70] <class 'list'>\n"
     ]
    }
   ],
   "source": [
    "\n",
    "\n",
    "def pos(val):\n",
    "    if(val>0):\n",
    "        return True\n",
    "    else:\n",
    "        return False\n",
    "\n",
    "lst=[10,20,30,-1,-10,-20,40,-50,0, 70]\n",
    "positiveList=filter(pos,lst)\n",
    "print(positiveList,type(positiveList))\n",
    "pslst=list(positiveList)\n",
    "print(pslst,type(pslst))\n",
    "\n"
   ]
  },
  {
   "cell_type": "code",
   "execution_count": 2,
   "metadata": {},
   "outputs": [
    {
     "name": "stdout",
     "output_type": "stream",
     "text": [
      "<filter object at 0x0000022FCBBCB0A0> <class 'filter'>\n",
      "[-1, -10, -20, -50] <class 'list'>\n"
     ]
    }
   ],
   "source": [
    "#  to find the neg value\n",
    "def neg(val):\n",
    "    if (val<0):\n",
    "        return True\n",
    "    else:\n",
    "        return False\n",
    "\n",
    "\n",
    "lst=[10,20,30,-1,-10,-20,40,-50,0, 70]\n",
    "negativeList=filter(neg,lst)\n",
    "print(positiveList,type(positiveList))\n",
    "nslst=list(negativeList)\n",
    "print(nslst,type(nslst))"
   ]
  },
  {
   "cell_type": "code",
   "execution_count": 3,
   "metadata": {},
   "outputs": [
    {
     "name": "stdout",
     "output_type": "stream",
     "text": [
      "<filter object at 0x0000022FCBBCA950> <class 'filter'>\n",
      "[10, 20, 30, 40, 70] <class 'filter'>\n",
      "[-1, -10, -20, -50] <class 'list'>\n"
     ]
    }
   ],
   "source": [
    "# writing via lambda function\n",
    "\n",
    "pos= lambda val: val>0\n",
    "neg= lambda val: val<0\n",
    "\n",
    "lst=[10,20,30,-1,-10,-20,40,-50,0, 70]\n",
    "positiveList=filter(pos,lst)\n",
    "negativeList=filter(neg,lst)\n",
    "print(positiveList,type(positiveList))\n",
    "pslst=list(positiveList)\n",
    "print(pslst,type(negativeList))\n",
    "nslst=list(negativeList)\n",
    "print(nslst,type(nslst))"
   ]
  },
  {
   "cell_type": "code",
   "execution_count": 4,
   "metadata": {},
   "outputs": [
    {
     "name": "stdout",
     "output_type": "stream",
     "text": [
      "enter list of values speaparated by space:\n",
      "content of the list= [10, 20]\n",
      "list of positive value=[10, 20] \n",
      " and list of negative value is []\n"
     ]
    }
   ],
   "source": [
    "# accept dynamically value from keywords:\n",
    "print(\"enter list of values speaparated by space:\")\n",
    "lst=[int(val) for val in input().split()]\n",
    "print(\"content of the list=\",lst)\n",
    "\n",
    "# define function to filter the pos and neg\n",
    "pos= lambda val:val>0\n",
    "# define function to filter the negative value\n",
    "neg=lambda val:val<0\n",
    "# filter the positive and negative value \n",
    "ps=list(filter(pos,lst))\n",
    "ns=list(filter(neg,lst))\n",
    "print(\"list of positive value={} \\n and list of negative value is {}\".format(ps,ns))"
   ]
  },
  {
   "cell_type": "code",
   "execution_count": 5,
   "metadata": {},
   "outputs": [
    {
     "name": "stdout",
     "output_type": "stream",
     "text": [
      "Enter list of values separated by space:\n",
      "content of list= [10, 20, -4]\n",
      "list of positive even numbers= [10, 20]\n",
      "list of negative even numbers= [-4]\n"
     ]
    }
   ],
   "source": [
    "print(\"Enter list of values separated by space:\")\n",
    "lst=[int(val) for val in input().split()]\n",
    "print(\"content of list=\",lst)\n",
    "psEvenLst=list(filter(lambda val: val>0 and val%2==0,lst))\n",
    "nsEvenLst=list(filter(lambda val: val<0 and val%2==0,lst))\n",
    "print(\"list of positive even numbers=\",psEvenLst)\n",
    "print(\"list of negative even numbers=\",nsEvenLst)"
   ]
  },
  {
   "cell_type": "code",
   "execution_count": 6,
   "metadata": {},
   "outputs": [],
   "source": [
    "# wap to find the number , aplhabet , vowel, special symbol\n",
    "\n",
    "#value =\"P2y&t0onP2r*g#m\""
   ]
  },
  {
   "cell_type": "code",
   "execution_count": 7,
   "metadata": {},
   "outputs": [
    {
     "name": "stdout",
     "output_type": "stream",
     "text": [
      "['P', 'y', 't', 'o', 'n', 'P', 'r', 'g', 'm']\n",
      "PytonPrgm\n"
     ]
    }
   ],
   "source": [
    "value =\"P2y&t0onP2r*g#m\"\n",
    "aplhas= list(filter(lambda ch:ch.isalpha(),value))\n",
    "print(aplhas)\n",
    "print(\"\".join(aplhas))"
   ]
  },
  {
   "cell_type": "code",
   "execution_count": 8,
   "metadata": {},
   "outputs": [
    {
     "name": "stdout",
     "output_type": "stream",
     "text": [
      "('2', '0', '2')\n",
      "202\n",
      "022\n",
      "220\n"
     ]
    }
   ],
   "source": [
    "digits=tuple(filter(lambda ch:ch.isdigit(),value))\n",
    "print(digits)\n",
    "print(\"\".join(digits))\n",
    "print(\"\".join(sorted(digits)))\n",
    "print(\"\".join(sorted(digits)[::-1]))"
   ]
  },
  {
   "cell_type": "code",
   "execution_count": 9,
   "metadata": {},
   "outputs": [
    {
     "name": "stdout",
     "output_type": "stream",
     "text": [
      "['&', '*', '#']\n"
     ]
    }
   ],
   "source": [
    "# special symbol\n",
    "symbols=list(filter(lambda ch: not ch.isalnum(),value))\n",
    "print(symbols)"
   ]
  },
  {
   "cell_type": "code",
   "execution_count": 10,
   "metadata": {},
   "outputs": [
    {
     "name": "stdout",
     "output_type": "stream",
     "text": [
      "['P', 'P']\n",
      "PP\n"
     ]
    }
   ],
   "source": [
    "value =\"P2y&t0onP2r*g#m\"\n",
    "aplhas= list(filter(lambda ch:ch.isalpha() and ch.isupper(),value))\n",
    "print(aplhas)\n",
    "print(\"\".join(aplhas))"
   ]
  },
  {
   "cell_type": "markdown",
   "metadata": {},
   "source": [
    "- filter is used for \"filtering out the some element from list of elements by applying to function\" .\n",
    "- syntax: varName=filter(functionName,iterableObject)\n",
    "\n",
    "- \"functionName - represnt either normal function or anonymous function\n",
    "- iterableObject - represent the sequence of list, set and dict.\n",
    "-\n"
   ]
  },
  {
   "cell_type": "markdown",
   "metadata": {},
   "source": [
    "# map()\n",
    "\n",
    "- requirement \n",
    "\n",
    "- old marks= [40,60,30,80,10]\n",
    "- new marks = [add grace marks]\n",
    "\n",
    "syntax: varName= map(functionName,iterableObject)\n",
    "\n",
    "- map send every element of iterableObject to the specified function, process it and return the modified value (result) and new list of elements will be obtained \" the process will be continued until all element of iterable object completed.\n",
    "\n",
    "\n",
    "\n",
    " "
   ]
  },
  {
   "cell_type": "code",
   "execution_count": 12,
   "metadata": {},
   "outputs": [
    {
     "name": "stdout",
     "output_type": "stream",
     "text": [
      "enter list of old salary:\n",
      "list of old salaries [10.0, 20.0, 30.0, -90.0, -7.0]\n",
      "<map object at 0x0000022FCBBCA410>\n",
      "[12.0, 24.0, 36.0, -108.0, -8.4]\n"
     ]
    }
   ],
   "source": [
    "# wap to read list of salary and obtain new list of salary\n",
    "def increment(sal):\n",
    "    sal=sal+sal*(20/100)\n",
    "    return sal\n",
    "    \n",
    "print(\"enter list of old salary:\")\n",
    "oldsal= [float(sal) for sal in input().split()]\n",
    "print(\"list of old salaries\",oldsal)\n",
    "nsl=map(increment,oldsal) # here nsl is called  object of class map\n",
    "print(nsl)\n",
    "newsal=list(nsl)\n",
    "print(newsal)\n",
    "\n"
   ]
  },
  {
   "cell_type": "code",
   "execution_count": 13,
   "metadata": {},
   "outputs": [
    {
     "name": "stdout",
     "output_type": "stream",
     "text": [
      "10 --> rs\n",
      "20 --> vk\n"
     ]
    }
   ],
   "source": [
    "lst1=[10,20,30,40]\n",
    "lst2=[\"rs\",\"vk\"]\n",
    "\n",
    "for x,y in zip(lst1,lst2):\n",
    "    print(x,\"-->\",y)\n",
    "    "
   ]
  },
  {
   "cell_type": "code",
   "execution_count": 14,
   "metadata": {},
   "outputs": [
    {
     "name": "stdout",
     "output_type": "stream",
     "text": [
      "cat --> meow\n",
      "dog --> bow\n",
      "human --> unnecessary-sound\n",
      "tiger --> roar\n"
     ]
    }
   ],
   "source": [
    "# hacker rank question\n",
    "animal=[\"cat\",\"dog\",\"human\",\"tiger\"]\n",
    "sound=[\"meow\",\"bow\",\"unnecessary-sound\",\"roar\"]\n",
    "\n",
    "for x,y in zip(animal,sound):\n",
    "    print(x,\"-->\",y)"
   ]
  },
  {
   "cell_type": "code",
   "execution_count": 15,
   "metadata": {},
   "outputs": [
    {
     "name": "stdout",
     "output_type": "stream",
     "text": [
      "('cat-meow', 'dog-bow', 'human-unnecessary-sound', 'tiger-roar')\n"
     ]
    }
   ],
   "source": [
    "# using lambda and tuple \n",
    "animal=[\"cat\",\"dog\",\"human\",\"tiger\"]\n",
    "sound=[\"meow\",\"bow\",\"unnecessary-sound\",\"roar\"]\n",
    "\n",
    "animal_sound=tuple(map(lambda ani,snd: ani+\"-\"+snd,animal,sound))\n",
    "print(animal_sound)"
   ]
  },
  {
   "cell_type": "code",
   "execution_count": null,
   "metadata": {},
   "outputs": [],
   "source": []
  },
  {
   "cell_type": "code",
   "execution_count": null,
   "metadata": {},
   "outputs": [],
   "source": []
  },
  {
   "cell_type": "code",
   "execution_count": null,
   "metadata": {},
   "outputs": [],
   "source": []
  }
 ],
 "metadata": {
  "kernelspec": {
   "display_name": "Python 3",
   "language": "python",
   "name": "python3"
  },
  "language_info": {
   "codemirror_mode": {
    "name": "ipython",
    "version": 3
   },
   "file_extension": ".py",
   "mimetype": "text/x-python",
   "name": "python",
   "nbconvert_exporter": "python",
   "pygments_lexer": "ipython3",
   "version": "3.13.1"
  }
 },
 "nbformat": 4,
 "nbformat_minor": 2
}
