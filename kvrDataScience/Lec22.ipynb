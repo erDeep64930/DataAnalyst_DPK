{
 "cells": [
  {
   "cell_type": "markdown",
   "metadata": {},
   "source": [
    "# attribute of Series object\n",
    "    - name of pandas series object\n",
    "    - get all values of series as a list\n",
    "    - get count of number of element in series\n",
    "    - check if series is empty or not\n",
    "    - get first n element of pandas series\n",
    "    - get last n element of pandas series\n",
    "    - get the count of non NaN value\n",
    "    --------------------------------\n",
    "    # add and remove series element\n",
    "    - adding / merging series together\n",
    "    - subtracting two series\n",
    "    - deleting element from series\n",
    "    - get sum of all values in the series\n",
    "    - get the max values in the series"
   ]
  },
  {
   "cell_type": "code",
   "execution_count": 2,
   "metadata": {},
   "outputs": [],
   "source": [
    "import numpy as np\n",
    "import pandas as pd\n"
   ]
  },
  {
   "cell_type": "code",
   "execution_count": 5,
   "metadata": {},
   "outputs": [
    {
     "name": "stdout",
     "output_type": "stream",
     "text": [
      "a      dori\n",
      "b      itty\n",
      "c    dhurvi\n",
      "d      geet\n",
      "dtype: object\n"
     ]
    }
   ],
   "source": [
    "import pandas as pd\n",
    "names = pd.Series([\"dori\",\"itty\",\"dhurvi\",\"geet\"],index=[\"a\",\"b\",\"c\",\"d\"])\n",
    "print(names)"
   ]
  },
  {
   "cell_type": "code",
   "execution_count": 6,
   "metadata": {},
   "outputs": [
    {
     "name": "stdout",
     "output_type": "stream",
     "text": [
      "['dori' 'itty' 'dhurvi' 'geet']\n"
     ]
    }
   ],
   "source": [
    "print(names.values)"
   ]
  },
  {
   "cell_type": "code",
   "execution_count": 8,
   "metadata": {},
   "outputs": [
    {
     "name": "stdout",
     "output_type": "stream",
     "text": [
      "['dori', 'itty', 'dhurvi', 'geet']\n"
     ]
    }
   ],
   "source": [
    "lst=list(names.values)\n",
    "print(lst)"
   ]
  },
  {
   "cell_type": "code",
   "execution_count": 16,
   "metadata": {},
   "outputs": [
    {
     "ename": "AttributeError",
     "evalue": "`np.NaN` was removed in the NumPy 2.0 release. Use `np.nan` instead.",
     "output_type": "error",
     "traceback": [
      "\u001b[1;31m---------------------------------------------------------------------------\u001b[0m",
      "\u001b[1;31mAttributeError\u001b[0m                            Traceback (most recent call last)",
      "Cell \u001b[1;32mIn[16], line 2\u001b[0m\n\u001b[0;32m      1\u001b[0m \u001b[38;5;28;01mimport\u001b[39;00m\u001b[38;5;250m \u001b[39m\u001b[38;5;21;01mnumpy\u001b[39;00m\u001b[38;5;250m \u001b[39m\u001b[38;5;28;01mas\u001b[39;00m\u001b[38;5;250m \u001b[39m\u001b[38;5;21;01mnp\u001b[39;00m\n\u001b[1;32m----> 2\u001b[0m \u001b[38;5;28mprint\u001b[39m(\u001b[38;5;124m\"\u001b[39m\u001b[38;5;124mtype of NaN=\u001b[39m\u001b[38;5;124m\"\u001b[39m,\u001b[38;5;28mtype\u001b[39m(\u001b[43mnp\u001b[49m\u001b[38;5;241;43m.\u001b[39;49m\u001b[43mNaN\u001b[49m))\n",
      "File \u001b[1;32mc:\\Users\\deepa\\AppData\\Local\\Programs\\Python\\Python313\\Lib\\site-packages\\numpy\\__init__.py:413\u001b[0m, in \u001b[0;36m__getattr__\u001b[1;34m(attr)\u001b[0m\n\u001b[0;32m    410\u001b[0m     \u001b[38;5;28;01mraise\u001b[39;00m \u001b[38;5;167;01mAttributeError\u001b[39;00m(__former_attrs__[attr], name\u001b[38;5;241m=\u001b[39m\u001b[38;5;28;01mNone\u001b[39;00m)\n\u001b[0;32m    412\u001b[0m \u001b[38;5;28;01mif\u001b[39;00m attr \u001b[38;5;129;01min\u001b[39;00m __expired_attributes__:\n\u001b[1;32m--> 413\u001b[0m     \u001b[38;5;28;01mraise\u001b[39;00m \u001b[38;5;167;01mAttributeError\u001b[39;00m(\n\u001b[0;32m    414\u001b[0m         \u001b[38;5;124mf\u001b[39m\u001b[38;5;124m\"\u001b[39m\u001b[38;5;124m`np.\u001b[39m\u001b[38;5;132;01m{\u001b[39;00mattr\u001b[38;5;132;01m}\u001b[39;00m\u001b[38;5;124m` was removed in the NumPy 2.0 release. \u001b[39m\u001b[38;5;124m\"\u001b[39m\n\u001b[0;32m    415\u001b[0m         \u001b[38;5;124mf\u001b[39m\u001b[38;5;124m\"\u001b[39m\u001b[38;5;132;01m{\u001b[39;00m__expired_attributes__[attr]\u001b[38;5;132;01m}\u001b[39;00m\u001b[38;5;124m\"\u001b[39m,\n\u001b[0;32m    416\u001b[0m         name\u001b[38;5;241m=\u001b[39m\u001b[38;5;28;01mNone\u001b[39;00m\n\u001b[0;32m    417\u001b[0m     )\n\u001b[0;32m    419\u001b[0m \u001b[38;5;28;01mif\u001b[39;00m attr \u001b[38;5;241m==\u001b[39m \u001b[38;5;124m\"\u001b[39m\u001b[38;5;124mchararray\u001b[39m\u001b[38;5;124m\"\u001b[39m:\n\u001b[0;32m    420\u001b[0m     warnings\u001b[38;5;241m.\u001b[39mwarn(\n\u001b[0;32m    421\u001b[0m         \u001b[38;5;124m\"\u001b[39m\u001b[38;5;124m`np.chararray` is deprecated and will be removed from \u001b[39m\u001b[38;5;124m\"\u001b[39m\n\u001b[0;32m    422\u001b[0m         \u001b[38;5;124m\"\u001b[39m\u001b[38;5;124mthe main namespace in the future. Use an array with a string \u001b[39m\u001b[38;5;124m\"\u001b[39m\n\u001b[0;32m    423\u001b[0m         \u001b[38;5;124m\"\u001b[39m\u001b[38;5;124mor bytes dtype instead.\u001b[39m\u001b[38;5;124m\"\u001b[39m, \u001b[38;5;167;01mDeprecationWarning\u001b[39;00m, stacklevel\u001b[38;5;241m=\u001b[39m\u001b[38;5;241m2\u001b[39m)\n",
      "\u001b[1;31mAttributeError\u001b[0m: `np.NaN` was removed in the NumPy 2.0 release. Use `np.nan` instead."
     ]
    }
   ],
   "source": [
    "import numpy as np\n",
    "print(\"type of NaN=\",type(np.NaN))"
   ]
  },
  {
   "cell_type": "code",
   "execution_count": null,
   "metadata": {},
   "outputs": [],
   "source": [
    "# missing number in pandas are represented by NaN\n"
   ]
  },
  {
   "cell_type": "code",
   "execution_count": 17,
   "metadata": {},
   "outputs": [
    {
     "name": "stdout",
     "output_type": "stream",
     "text": [
      "[10 20 None 30 40 True]\n"
     ]
    }
   ],
   "source": [
    "a=np.array([10,20,None,30,40,True])\n",
    "print(a)"
   ]
  },
  {
   "cell_type": "code",
   "execution_count": 18,
   "metadata": {},
   "outputs": [
    {
     "name": "stdout",
     "output_type": "stream",
     "text": [
      "0      10\n",
      "1      20\n",
      "2    None\n",
      "3      30\n",
      "4      40\n",
      "5    True\n",
      "dtype: object\n"
     ]
    }
   ],
   "source": [
    "s=pd.Series(a)\n",
    "print(s)"
   ]
  },
  {
   "cell_type": "code",
   "execution_count": 19,
   "metadata": {},
   "outputs": [
    {
     "name": "stdout",
     "output_type": "stream",
     "text": [
      "5\n"
     ]
    }
   ],
   "source": [
    "print(s.count())"
   ]
  },
  {
   "cell_type": "code",
   "execution_count": 21,
   "metadata": {},
   "outputs": [
    {
     "name": "stdout",
     "output_type": "stream",
     "text": [
      "0      dori\n",
      "1      itty\n",
      "2    dhurvi\n",
      "3      geet\n",
      "4        10\n",
      "5        20\n",
      "6        30\n",
      "7     False\n",
      "8      None\n",
      "Name: students, dtype: object\n"
     ]
    }
   ],
   "source": [
    "s1=pd.Series([\"dori\",\"itty\",\"dhurvi\",\"geet\",10,20,30,False,None],name=\"students\")\n",
    "print(s1)"
   ]
  },
  {
   "cell_type": "code",
   "execution_count": null,
   "metadata": {},
   "outputs": [],
   "source": [
    "# get the first n element in pandas series --- we use head() of series object.\n"
   ]
  },
  {
   "cell_type": "code",
   "execution_count": 23,
   "metadata": {},
   "outputs": [
    {
     "name": "stdout",
     "output_type": "stream",
     "text": [
      "0      10\n",
      "1      15\n",
      "2      20\n",
      "3      25\n",
      "4      30\n",
      "5      35\n",
      "6      40\n",
      "7      45\n",
      "8      50\n",
      "9      55\n",
      "10     60\n",
      "11     65\n",
      "12     70\n",
      "13     75\n",
      "14     80\n",
      "15     85\n",
      "16     90\n",
      "17     95\n",
      "18    100\n",
      "19    105\n",
      "20    110\n",
      "21    115\n",
      "22    120\n",
      "23    125\n",
      "24    130\n",
      "25    135\n",
      "26    140\n",
      "27    145\n",
      "28    150\n",
      "29    155\n",
      "30    160\n",
      "31    165\n",
      "32    170\n",
      "33    175\n",
      "34    180\n",
      "35    185\n",
      "36    190\n",
      "37    195\n",
      "dtype: int64\n"
     ]
    }
   ],
   "source": [
    "s1=pd.Series(range(10,200,5))\n",
    "print(s1)"
   ]
  },
  {
   "cell_type": "code",
   "execution_count": 24,
   "metadata": {},
   "outputs": [
    {
     "name": "stdout",
     "output_type": "stream",
     "text": [
      "0    10\n",
      "1    15\n",
      "2    20\n",
      "3    25\n",
      "4    30\n",
      "dtype: int64\n"
     ]
    }
   ],
   "source": [
    "print(s1.head())"
   ]
  },
  {
   "cell_type": "code",
   "execution_count": null,
   "metadata": {},
   "outputs": [
    {
     "name": "stdout",
     "output_type": "stream",
     "text": [
      "38\n"
     ]
    }
   ],
   "source": [
    "print(len(s1))"
   ]
  },
  {
   "cell_type": "code",
   "execution_count": 26,
   "metadata": {},
   "outputs": [
    {
     "name": "stdout",
     "output_type": "stream",
     "text": [
      "0    10\n",
      "1    15\n",
      "2    20\n",
      "dtype: int64\n"
     ]
    }
   ],
   "source": [
    "#get first three elements in pandas series\n",
    "print(s1.head(3))"
   ]
  },
  {
   "cell_type": "code",
   "execution_count": 27,
   "metadata": {},
   "outputs": [
    {
     "name": "stdout",
     "output_type": "stream",
     "text": [
      "33    175\n",
      "34    180\n",
      "35    185\n",
      "36    190\n",
      "37    195\n",
      "dtype: int64\n"
     ]
    }
   ],
   "source": [
    "# to get last 10 value we use tail() of series object\n",
    "print(s1.tail())"
   ]
  },
  {
   "cell_type": "code",
   "execution_count": 28,
   "metadata": {},
   "outputs": [
    {
     "name": "stdout",
     "output_type": "stream",
     "text": [
      "28    150\n",
      "29    155\n",
      "30    160\n",
      "31    165\n",
      "32    170\n",
      "33    175\n",
      "34    180\n",
      "35    185\n",
      "36    190\n",
      "37    195\n",
      "dtype: int64\n"
     ]
    }
   ],
   "source": [
    "print(s1.tail(10))"
   ]
  },
  {
   "cell_type": "code",
   "execution_count": 29,
   "metadata": {},
   "outputs": [
    {
     "data": {
      "text/plain": [
       "0    10\n",
       "1    15\n",
       "2    20\n",
       "3    25\n",
       "4    30\n",
       "dtype: int64"
      ]
     },
     "execution_count": 29,
     "metadata": {},
     "output_type": "execute_result"
    }
   ],
   "source": [
    "# another method to get first 5\n",
    "s1[0:5]"
   ]
  },
  {
   "cell_type": "code",
   "execution_count": 30,
   "metadata": {},
   "outputs": [
    {
     "data": {
      "text/plain": [
       "33    175\n",
       "34    180\n",
       "35    185\n",
       "36    190\n",
       "37    195\n",
       "dtype: int64"
      ]
     },
     "execution_count": 30,
     "metadata": {},
     "output_type": "execute_result"
    }
   ],
   "source": [
    "# another method to get last 5\n",
    "s1[-5:]"
   ]
  },
  {
   "cell_type": "code",
   "execution_count": 31,
   "metadata": {},
   "outputs": [],
   "source": [
    "# add and remove series element\n",
    "# to add the element of one series object to another we use a function add()\n",
    "\n",
    "#syntax: varname=serobj1.add(serobj2,fill_value=None)"
   ]
  },
  {
   "cell_type": "code",
   "execution_count": 38,
   "metadata": {},
   "outputs": [
    {
     "name": "stdout",
     "output_type": "stream",
     "text": [
      "a    110.0\n",
      "b    220.0\n",
      "c      NaN\n",
      "d      NaN\n",
      "e    540.0\n",
      "g      NaN\n",
      "dtype: float64\n"
     ]
    }
   ],
   "source": [
    "# to add a series element\n",
    "s1=pd.Series([100,200,300,400,500],index=[\"a\",\"b\",\"c\",\"d\",\"e\"])\n",
    "s2=pd.Series([10,20,30,40],index=[\"a\",\"b\",\"g\",\"e\"])\n",
    "res=s1.add(s2)\n",
    "print(res)"
   ]
  },
  {
   "cell_type": "code",
   "execution_count": 39,
   "metadata": {},
   "outputs": [
    {
     "name": "stdout",
     "output_type": "stream",
     "text": [
      "a    110.0\n",
      "b    220.0\n",
      "c    300.0\n",
      "d    400.0\n",
      "e    540.0\n",
      "g     30.0\n",
      "dtype: float64\n"
     ]
    }
   ],
   "source": [
    "# fill NaN with other value \n",
    "s1=pd.Series([100,200,300,400,500],index=[\"a\",\"b\",\"c\",\"d\",\"e\"])\n",
    "s2=pd.Series([10,20,30,40],index=[\"a\",\"b\",\"g\",\"e\"])\n",
    "res=s1.add(s2,fill_value=0)\n",
    "print(res)"
   ]
  },
  {
   "cell_type": "code",
   "execution_count": 40,
   "metadata": {},
   "outputs": [
    {
     "name": "stdout",
     "output_type": "stream",
     "text": [
      "a     90.0\n",
      "b    180.0\n",
      "c      NaN\n",
      "d      NaN\n",
      "e    460.0\n",
      "g      NaN\n",
      "dtype: float64\n"
     ]
    }
   ],
   "source": [
    "# to subtract a series element\n",
    "s1=pd.Series([100,200,300,400,500],index=[\"a\",\"b\",\"c\",\"d\",\"e\"])\n",
    "s2=pd.Series([10,20,30,40],index=[\"a\",\"b\",\"g\",\"e\"])\n",
    "res=s1.subtract(s2)\n",
    "print(res)"
   ]
  },
  {
   "cell_type": "code",
   "execution_count": 41,
   "metadata": {},
   "outputs": [
    {
     "name": "stdout",
     "output_type": "stream",
     "text": [
      "a     90.0\n",
      "b    180.0\n",
      "c    300.0\n",
      "d    400.0\n",
      "e    460.0\n",
      "g    -30.0\n",
      "dtype: float64\n"
     ]
    }
   ],
   "source": [
    "# to subtract a series element\n",
    "s1=pd.Series([100,200,300,400,500],index=[\"a\",\"b\",\"c\",\"d\",\"e\"])\n",
    "s2=pd.Series([10,20,30,40],index=[\"a\",\"b\",\"g\",\"e\"])\n",
    "res=s1.subtract(s2,fill_value=0)\n",
    "print(res)"
   ]
  },
  {
   "cell_type": "code",
   "execution_count": 42,
   "metadata": {},
   "outputs": [
    {
     "name": "stdout",
     "output_type": "stream",
     "text": [
      "a     1000.0\n",
      "b     4000.0\n",
      "c        NaN\n",
      "d        NaN\n",
      "e    20000.0\n",
      "g        NaN\n",
      "dtype: float64\n"
     ]
    }
   ],
   "source": [
    "# to multiply a series element\n",
    "s1=pd.Series([100,200,300,400,500],index=[\"a\",\"b\",\"c\",\"d\",\"e\"])\n",
    "s2=pd.Series([10,20,30,40],index=[\"a\",\"b\",\"g\",\"e\"])\n",
    "res=s1.multiply(s2)\n",
    "print(res)"
   ]
  },
  {
   "cell_type": "code",
   "execution_count": 45,
   "metadata": {},
   "outputs": [
    {
     "name": "stdout",
     "output_type": "stream",
     "text": [
      "a    100\n",
      "b    200\n",
      "d    400\n",
      "e    500\n",
      "dtype: int64\n"
     ]
    }
   ],
   "source": [
    "# to delete c\n",
    "res=s1.drop(\"c\")\n",
    "print(res)"
   ]
  },
  {
   "cell_type": "code",
   "execution_count": 46,
   "metadata": {},
   "outputs": [
    {
     "name": "stdout",
     "output_type": "stream",
     "text": [
      "a    100\n",
      "b    200\n",
      "c    300\n",
      "d    400\n",
      "e    500\n",
      "dtype: int64\n"
     ]
    }
   ],
   "source": [
    "print(s1)"
   ]
  },
  {
   "cell_type": "code",
   "execution_count": 47,
   "metadata": {},
   "outputs": [],
   "source": [
    "# note s1 is not modified"
   ]
  },
  {
   "cell_type": "code",
   "execution_count": null,
   "metadata": {},
   "outputs": [],
   "source": []
  },
  {
   "cell_type": "code",
   "execution_count": null,
   "metadata": {},
   "outputs": [],
   "source": []
  },
  {
   "cell_type": "code",
   "execution_count": null,
   "metadata": {},
   "outputs": [],
   "source": []
  },
  {
   "cell_type": "code",
   "execution_count": null,
   "metadata": {},
   "outputs": [],
   "source": []
  },
  {
   "cell_type": "code",
   "execution_count": null,
   "metadata": {},
   "outputs": [],
   "source": []
  },
  {
   "cell_type": "code",
   "execution_count": null,
   "metadata": {},
   "outputs": [],
   "source": []
  },
  {
   "cell_type": "code",
   "execution_count": null,
   "metadata": {},
   "outputs": [],
   "source": []
  },
  {
   "cell_type": "code",
   "execution_count": null,
   "metadata": {},
   "outputs": [],
   "source": []
  },
  {
   "cell_type": "code",
   "execution_count": null,
   "metadata": {},
   "outputs": [],
   "source": []
  },
  {
   "cell_type": "code",
   "execution_count": null,
   "metadata": {},
   "outputs": [],
   "source": []
  },
  {
   "cell_type": "code",
   "execution_count": null,
   "metadata": {},
   "outputs": [],
   "source": []
  },
  {
   "cell_type": "code",
   "execution_count": null,
   "metadata": {},
   "outputs": [],
   "source": []
  },
  {
   "cell_type": "code",
   "execution_count": null,
   "metadata": {},
   "outputs": [],
   "source": []
  },
  {
   "cell_type": "code",
   "execution_count": null,
   "metadata": {},
   "outputs": [],
   "source": []
  },
  {
   "cell_type": "code",
   "execution_count": null,
   "metadata": {},
   "outputs": [],
   "source": []
  },
  {
   "cell_type": "code",
   "execution_count": null,
   "metadata": {},
   "outputs": [],
   "source": []
  },
  {
   "cell_type": "code",
   "execution_count": null,
   "metadata": {},
   "outputs": [],
   "source": []
  },
  {
   "cell_type": "code",
   "execution_count": null,
   "metadata": {},
   "outputs": [],
   "source": []
  },
  {
   "cell_type": "code",
   "execution_count": null,
   "metadata": {},
   "outputs": [],
   "source": []
  },
  {
   "cell_type": "code",
   "execution_count": null,
   "metadata": {},
   "outputs": [],
   "source": []
  },
  {
   "cell_type": "code",
   "execution_count": null,
   "metadata": {},
   "outputs": [],
   "source": []
  }
 ],
 "metadata": {
  "kernelspec": {
   "display_name": "Python 3",
   "language": "python",
   "name": "python3"
  },
  "language_info": {
   "codemirror_mode": {
    "name": "ipython",
    "version": 3
   },
   "file_extension": ".py",
   "mimetype": "text/x-python",
   "name": "python",
   "nbconvert_exporter": "python",
   "pygments_lexer": "ipython3",
   "version": "3.13.1"
  }
 },
 "nbformat": 4,
 "nbformat_minor": 2
}
