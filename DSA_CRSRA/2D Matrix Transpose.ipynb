{
 "cells": [
  {
   "cell_type": "code",
   "execution_count": 5,
   "id": "3d970993-d1df-4ae3-bcf3-f08ab58dfc34",
   "metadata": {},
   "outputs": [
    {
     "name": "stdout",
     "output_type": "stream",
     "text": [
      "Orijinal array :\n",
      "[[1 2 3]\n",
      " [4 5 6]]\n",
      "Transpose array:\n",
      "[[1 4]\n",
      " [2 5]\n",
      " [3 6]]\n"
     ]
    }
   ],
   "source": [
    "import numpy as np\n",
    "arr1 = np.array([\n",
    "    [1,2,3],[4,5,6]])\n",
    "print(\"Orijinal array :\")\n",
    "print(arr1)\n",
    "result=np.transpose(arr1)\n",
    "print(\"Transpose array:\")\n",
    "print(result)"
   ]
  },
  {
   "cell_type": "code",
   "execution_count": null,
   "id": "a05bc994-5760-490c-b748-32ee70e7cad4",
   "metadata": {},
   "outputs": [],
   "source": []
  }
 ],
 "metadata": {
  "kernelspec": {
   "display_name": "Python 3 (ipykernel)",
   "language": "python",
   "name": "python3"
  },
  "language_info": {
   "codemirror_mode": {
    "name": "ipython",
    "version": 3
   },
   "file_extension": ".py",
   "mimetype": "text/x-python",
   "name": "python",
   "nbconvert_exporter": "python",
   "pygments_lexer": "ipython3",
   "version": "3.12.4"
  }
 },
 "nbformat": 4,
 "nbformat_minor": 5
}
