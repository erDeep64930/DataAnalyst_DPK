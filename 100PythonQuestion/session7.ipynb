{
 "cells": [
  {
   "cell_type": "code",
   "execution_count": 5,
   "id": "6f6303db-c85b-4d91-b4a2-2ad78b336912",
   "metadata": {},
   "outputs": [
    {
     "name": "stdin",
     "output_type": "stream",
     "text": [
      " 12\n",
      " 13.30\n"
     ]
    },
    {
     "name": "stdout",
     "output_type": "stream",
     "text": [
      "$5\n"
     ]
    }
   ],
   "source": [
    "# Ask the customer's age and for the time on a 24-hour clock (where noon is\n",
    "# 12.00 and 4:30 PM is 16.30). The show timings are 10.15, 13.30, 18.00\n",
    "# and 22.00. The normal adult ticket price is $8.00, however, the adult\n",
    "# matinee price is $5.00. Adults are those over 13 years. The normal\n",
    "# children's ticket price is $4.00, however, the children's matinee price is\n",
    "# $2.00. Write a program that determines the price of a movie ticket\n",
    "# Input format:\n",
    "# The first input containing an integer which denotes the age\n",
    "# The second input containing the floating point number which denotes the\n",
    "# show timing.\n",
    "# Output format:\n",
    "# Print the price of a movie ticket.\n",
    "# Question 1\n",
    "# Sample Input:\n",
    "# 16\n",
    "# 10.15\n",
    "# Sample Output:\n",
    "# $8.00\n",
    "age=int(input())\n",
    "time=float(input())\n",
    "time = (10.15,13.30,18.00,22.00)\n",
    "if age>=13:\n",
    "    print(\"$8\")\n",
    "elif age<=13:\n",
    "    print('$5')\n",
    "elif age<=8:\n",
    "    print('$4')\n",
    "elif age>=5:\n",
    "    print(\"$2\")\n",
    "else:\n",
    "    print(\"invalid input\")\n"
   ]
  },
  {
   "cell_type": "code",
   "execution_count": 9,
   "id": "131a6f16-d6f3-409b-a275-9476a5c70bd9",
   "metadata": {},
   "outputs": [
    {
     "name": "stdin",
     "output_type": "stream",
     "text": [
      " front\n",
      " 1\n"
     ]
    },
    {
     "name": "stdout",
     "output_type": "stream",
     "text": [
      "Left Handed\n"
     ]
    }
   ],
   "source": [
    "door = input().strip().lower()\n",
    "rail = int(input())\n",
    "\n",
    "if (door == \"front\" and rail == 1) or (door == \"rear\" and rail == 2):\n",
    "    print(\"Left Handed\")\n",
    "else:\n",
    "    print(\"Right Handed\")\n"
   ]
  },
  {
   "cell_type": "code",
   "execution_count": 11,
   "id": "e0416c38-cbd1-490a-a6be-9131a5ac7b33",
   "metadata": {},
   "outputs": [
    {
     "name": "stdin",
     "output_type": "stream",
     "text": [
      " 59.99\n",
      " 1\n",
      " 60\n"
     ]
    },
    {
     "name": "stdout",
     "output_type": "stream",
     "text": [
      "No\n"
     ]
    }
   ],
   "source": [
    "# We are driving down the street and see a green traffic light ahead. Because\n",
    "# we know precisely the pattern of this traffic light, we know exactly how\n",
    "# long we have before it will turn red. We wish to compute whether we will\n",
    "# pass the traffic light before it turns red at our current speed. Write a\n",
    "# program to check whether we will beat the light or not with the current\n",
    "# speed.\n",
    "# Input format:\n",
    "# The first input containing the floating point number which denotes\n",
    "# the current speed in miles per hour\n",
    "# The second input containing the floating point number which\n",
    "# denotes the distance to the light in miles\n",
    "# The third input containing the floating point number which denotes\n",
    "# the time until it turns red in seconds\n",
    "# Question 3\n",
    "# Output format:\n",
    "# Print \"Yes\", if we will be able to beat the light at current speed.\n",
    "# Print \"No\", if we won't be able to beat light at current speed.\n",
    "# Sample Input:\n",
    "# 59.99\n",
    "# 1\n",
    "# 60\n",
    "# Sample Output:\n",
    "# No\n",
    "speed = float(input())  \n",
    "distance = float(input())  \n",
    "time_red = float(input())  \n",
    "\n",
    "speeds = speed / 3600  \n",
    "\n",
    "time = distance / speeds  \n",
    "\n",
    "if time <= time_red:\n",
    "    print(\"Yes\")  \n",
    "else:\n",
    "    print(\"No\") \n"
   ]
  },
  {
   "cell_type": "code",
   "execution_count": 23,
   "id": "7f7a9945-8cf6-4115-9950-96554331f67f",
   "metadata": {},
   "outputs": [
    {
     "name": "stdin",
     "output_type": "stream",
     "text": [
      "enter your type MSH\n",
      " 40000\n",
      " 12000\n",
      " 50000\n"
     ]
    },
    {
     "name": "stdout",
     "output_type": "stream",
     "text": [
      "90000\n"
     ]
    }
   ],
   "source": [
    "# Write a program to determine the fee amount to be collected from a\n",
    "# student. Refer the table below for fee details. Student Type Student Type\n",
    "# denoted as Fee Details Merit Seat Day Scholar MSDS Tuition fee + Bus fee\n",
    "# Merit Seat Hosteller MSH Tuition fee + Hostel fee Management Seat Day\n",
    "# Scholar MGSDS 150% of Tuition fee + Bus fee Management Seat Hosteller\n",
    "# MGSH 150% of Tuition fee + Hostel fee\n",
    "# Input format:\n",
    "# The first input corresponds to the student type\n",
    "# The second input corresponds to the tuition fee\n",
    "# The third input corresponds to the bus fee\n",
    "# The fourth input corresponds to the hostel fees\n",
    "# Output format:\n",
    "# Print the total fee amount of the corresponding student with 2 decimal places.\n",
    "# Question 4\n",
    "# Sample Input:\n",
    "# MSH\n",
    "# 40000\n",
    "# 12000utput:\n",
    "# 90000.\n",
    "# 50000\n",
    "# Sample O00\n",
    "type = input(\"enter your type\")\n",
    "tuition_fee =int(input())\n",
    "bus_fee = int(input())\n",
    "hostel = int(input())\n",
    "\n",
    "if type ==\"MSH\":\n",
    "    print(tuition_fee + hostel)\n",
    "elif type ==\"MSDS\":\n",
    "    print(tuition_fee + bus_fee)\n",
    "elif type ==\"MGSDS\":\n",
    "    print(1.5*tuition_fee + bus_fee)\n",
    "elif type ==\"MGSH\":\n",
    "    print(1.5*tuition_fee + hostel)\n",
    "else:\n",
    "    print(\"invid\")"
   ]
  },
  {
   "cell_type": "code",
   "execution_count": 41,
   "id": "56f7d840-a0a0-46d5-a3a6-9f47e7e2231d",
   "metadata": {},
   "outputs": [
    {
     "name": "stdin",
     "output_type": "stream",
     "text": [
      " 62\n",
      " 00\n"
     ]
    },
    {
     "name": "stdout",
     "output_type": "stream",
     "text": [
      "38\n"
     ]
    }
   ],
   "source": [
    "# nput consists of 2 integers\n",
    "# he first integer corresponds to the last 2 digits of the birth year\n",
    "# The second integer corresponds to the last 2 digits of the current\n",
    "# year\n",
    "# Output format:\n",
    "# Print the user's current age\n",
    "# Question 5\n",
    "# Sample Input:\n",
    "# 62\n",
    "# 00\n",
    "# Sample Output:\n",
    "# 38\n",
    "year = int(input())\n",
    "curr_year = int(input())\n",
    "if year <= curr_year:\n",
    "   age = curr_year - year\n",
    "else:\n",
    "    age =(100-year) + curr_year\n",
    "print(age)\n"
   ]
  },
  {
   "cell_type": "code",
   "execution_count": null,
   "id": "f82d7a10-4e76-4957-a6ac-18e5d61b30b5",
   "metadata": {},
   "outputs": [],
   "source": []
  },
  {
   "cell_type": "code",
   "execution_count": 50,
   "id": "5abe0594-5f29-480a-b1b4-799bdf6fff57",
   "metadata": {},
   "outputs": [
    {
     "name": "stdin",
     "output_type": "stream",
     "text": [
      " 2\n",
      " 5.0\n"
     ]
    },
    {
     "name": "stdout",
     "output_type": "stream",
     "text": [
      "7.5\n"
     ]
    }
   ],
   "source": [
    "items = int(input())\n",
    "heating = float(input())\n",
    "total = heating/2\n",
    "if total>= items:\n",
    "    print(heating + total)\n",
    "else:\n",
    "    print(\"number of item is more\")"
   ]
  },
  {
   "cell_type": "code",
   "execution_count": 52,
   "id": "dd8782b5-73e4-4a29-8365-8045daf19290",
   "metadata": {},
   "outputs": [
    {
     "name": "stdin",
     "output_type": "stream",
     "text": [
      " 5\n",
      " 4.5\n"
     ]
    },
    {
     "name": "stdout",
     "output_type": "stream",
     "text": [
      "number of item is more\n"
     ]
    }
   ],
   "source": [
    "# A microwave oven manufacturer recommends that when heating two\n",
    "# items, add 50% to the heating time, and when heating three items double\n",
    "# the heating time. Heating more than three items at once is not\n",
    "# recommended. Write a program to find out the recommended heating time.\n",
    "# Input format:\n",
    "# The first input containing an integer which denotes the number of items\n",
    "# The second input containing the floating point number which denotes the\n",
    "# single item heating time.\n",
    "# Output format:\n",
    "# Print the recommended heating time in floating point with 2 decimal places.\n",
    "# If the number of items is more than three, print \"Number of items is more\"\n",
    "# Question 6\n",
    "# Sample Input 1:\n",
    "# 2\n",
    "# 5.0\n",
    "# Sample Output 1:\n",
    "# 7.50\n",
    "items = int(input())\n",
    "heating = float(input())\n",
    "total = heating/2\n",
    "if total>= items:\n",
    "    print(heating + total)\n",
    "else:\n",
    "    print(\"number of item is more\")"
   ]
  },
  {
   "cell_type": "code",
   "execution_count": 54,
   "id": "5a2396dd-4d2c-4e2d-83fc-1db1dee9d6d8",
   "metadata": {},
   "outputs": [],
   "source": [
    "#thanks you"
   ]
  },
  {
   "cell_type": "code",
   "execution_count": 56,
   "id": "0d380e72-d47f-48ba-b8c9-3b717d0065ee",
   "metadata": {},
   "outputs": [
    {
     "name": "stdin",
     "output_type": "stream",
     "text": [
      " 2\n",
      " 5.0\n"
     ]
    },
    {
     "name": "stdout",
     "output_type": "stream",
     "text": [
      "7.50\n"
     ]
    }
   ],
   "source": [
    "# A microwave oven manufacturer recommends that when heating two\n",
    "# items, add 50% to the heating time, and when heating three items double\n",
    "# the heating time. Heating more than three items at once is not\n",
    "# recommended. Write a program to find out the recommended heating time.\n",
    "# Input format:\n",
    "# The first input containing an integer which denotes the number of items\n",
    "# The second input containing the floating point number which denotes the\n",
    "# single item heating time.\n",
    "# Output format:\n",
    "# Print the recommended heating time in floating point with 2 decimal places.\n",
    "# If the number of items is more than three, print \"Number of items is more\"\n",
    "# Question 6\n",
    "# Sample Input 1:\n",
    "# 2\n",
    "# 5.0\n",
    "# Sample Output 1:\n",
    "# 7.50\n",
    "items = int(input()) \n",
    "heating_time = float(input())  \n",
    "\n",
    "if items == 1:\n",
    "    total_time = heating_time\n",
    "elif items == 2:\n",
    "    total_time = 1.5 * heating_time\n",
    "elif items == 3:\n",
    "    total_time = 2 * heating_time\n",
    "else:\n",
    "    print(\"Number of items is more\")\n",
    "    exit()  \n",
    "\n",
    "print(f\"{total_time:.2f}\")\n"
   ]
  },
  {
   "cell_type": "code",
   "execution_count": null,
   "id": "0bafdcd3-644a-4bd6-9feb-c8030580a8b3",
   "metadata": {},
   "outputs": [],
   "source": []
  }
 ],
 "metadata": {
  "kernelspec": {
   "display_name": "Python 3 (ipykernel)",
   "language": "python",
   "name": "python3"
  },
  "language_info": {
   "codemirror_mode": {
    "name": "ipython",
    "version": 3
   },
   "file_extension": ".py",
   "mimetype": "text/x-python",
   "name": "python",
   "nbconvert_exporter": "python",
   "pygments_lexer": "ipython3",
   "version": "3.12.7"
  }
 },
 "nbformat": 4,
 "nbformat_minor": 5
}
