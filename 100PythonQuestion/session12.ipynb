{
 "cells": [
  {
   "cell_type": "code",
   "execution_count": 1,
   "id": "22ab43f3-45e9-4bfc-a122-5c7761e13503",
   "metadata": {},
   "outputs": [
    {
     "name": "stdin",
     "output_type": "stream",
     "text": [
      " 13\n"
     ]
    },
    {
     "name": "stdout",
     "output_type": "stream",
     "text": [
      "144\n"
     ]
    }
   ],
   "source": [
    "# The Research team led by Bernadette Wolowitz at Cal-tech University has\n",
    "# discovered a new Amoeba that grows in the order of a Fibonacci series\n",
    "# every month.\n",
    "# They are exhibiting this amoeba at a national conference. They want to\n",
    "# know the size of the amoeba at a particular time instant. If a particular\n",
    "# month’s index is given, write a program to display the amoeba’s size.\n",
    "# For Example, the size of the amoeba in months 1, 2, 3, 4, 5, 6,... will be 0, 1,\n",
    "# 1, 2, 3, 5, 8.... respectively.\n",
    "def fibonacci(n):\n",
    "    if n == 1:\n",
    "        return 0\n",
    "    elif n == 2:\n",
    "        return 1\n",
    "    \n",
    "    a, b = 0, 1  \n",
    "    for _ in range(n - 2): \n",
    "        a, b = b, a + b  \n",
    "\n",
    "    return b\n",
    "\n",
    "\n",
    "n = int(input())\n",
    "\n",
    "print(fibonacci(n))\n"
   ]
  },
  {
   "cell_type": "code",
   "execution_count": 7,
   "id": "bfa71860-0896-45d9-a5f8-9f1bd446d8b5",
   "metadata": {},
   "outputs": [
    {
     "name": "stdin",
     "output_type": "stream",
     "text": [
      " 78945623\n"
     ]
    },
    {
     "name": "stdout",
     "output_type": "stream",
     "text": [
      "8\n"
     ]
    }
   ],
   "source": [
    "# Write a program to find the sum of digits of a number until the sum becomes a\n",
    "# single digit.\n",
    "# Sample Input 1:\n",
    "# 78945623\n",
    "# Sample Output 1:\n",
    "# 8\n",
    "# Sample Input 2:\n",
    "# 45678\n",
    "# Sample Output 2:\n",
    "# 3\n",
    "def sum_of_digits_until_single(n):\n",
    "    while n >= 10:  \n",
    "        n = sum(int(digit) for digit in str(n))  \n",
    "    return n\n",
    "\n",
    "n = int(input())\n",
    "\n",
    "print(sum_of_digits_until_single(n))\n"
   ]
  },
  {
   "cell_type": "code",
   "execution_count": 11,
   "id": "20f35a51-6b96-4bf3-8234-70b760f2f888",
   "metadata": {},
   "outputs": [
    {
     "name": "stdin",
     "output_type": "stream",
     "text": [
      " 564\n"
     ]
    },
    {
     "name": "stdout",
     "output_type": "stream",
     "text": [
      "Not a Kaprekar Number\n"
     ]
    }
   ],
   "source": [
    "# Jaffer wanted to excel in Math. He was learning about the Kaprekar number\n",
    "# from Meena, his Maths teacher. She gave him a few random numbers and\n",
    "# asked him to find out whether they are Kaprekar number or not.\n",
    "# (Consider an n-digit number k. Square it and add the right n digits to the\n",
    "# left n or n-1 digits. If the resultant sum is k, then k is called a Kaprekar\n",
    "# number.\n",
    "# For example, 9 is a Kaprekar number since 9^2 = 81 & 8 + 1 = 9, similarly,\n",
    "# 297 is a Kaprekar number as 297^2 = 88209 & 88 + 209 = 297 ).\n",
    "# Can you help Jaffer to write a program to find whether the given number is\n",
    "#a Kaprekar number or not?\n",
    "def is_kaprekar(n):\n",
    "    square = n * n \n",
    "    str_sq = str(square) \n",
    "    d = len(str(n))  \n",
    "    \n",
    "    right_part = int(str_sq[-d:])  \n",
    "    left_part = int(str_sq[:-d]) if str_sq[:-d] else 0  \n",
    "    \n",
    "    if left_part + right_part == n:\n",
    "        print(\"Kaprekar Number\")\n",
    "    else:\n",
    "        print(\"Not a Kaprekar Number\")\n",
    "\n",
    "\n",
    "n = int(input())  \n",
    "is_kaprekar(n)  \n"
   ]
  },
  {
   "cell_type": "code",
   "execution_count": 15,
   "id": "81793c1b-7948-409f-bef7-4910aab7271d",
   "metadata": {},
   "outputs": [
    {
     "name": "stdin",
     "output_type": "stream",
     "text": [
      " 100\n",
      " 4\n",
      " 40\n",
      " 60\n"
     ]
    },
    {
     "name": "stdout",
     "output_type": "stream",
     "text": [
      "The number of turns is 3\n"
     ]
    }
   ],
   "source": [
    "# Drona normally trains his disciples using a board which consists of\n",
    "# concentric circles. When the student correctly hits the center of the\n",
    "# concentric circles, his score is 100. The score gets reduced depending on\n",
    "# where the students hits on the board. When the student hits outside the\n",
    "# board, his score is 0.\n",
    "# Drona will not allow a student to have his food unless he scores 100.\n",
    "# Arjuna will always hit the target in his first attempt and he will leave early.\n",
    "# Others may take more turns to reach the score of 100.\n",
    "# Can you write a program to determine the number of turns a disciple takes\n",
    "# to reach the target score of 'n'?\n",
    "# Question 4\n",
    "# Input Format:\n",
    "# Input consists of a list of positive integers. The first integer corresponds to\n",
    "# the target score 'n'. Assume that all the other integers input are less than or\n",
    "# equal to n.\n",
    "# Output Format:\n",
    "# Output consists of a single line.\n",
    "# Sample Input:\n",
    "# 100\n",
    "# 4\n",
    "# 40\n",
    "# 60\n",
    "# Sample Output :\n",
    "# The number of turns is 3\n",
    "def count_turns():\n",
    "    target = int(input())  \n",
    "    total = 0 \n",
    "    turns = 0  \n",
    "    \n",
    "    while total < target:\n",
    "        score = int(input())  \n",
    "        total += score  \n",
    "        turns += 1 \n",
    "    \n",
    "    print(\"The number of turns is\", turns) \n",
    "\n",
    "count_turns()\n"
   ]
  },
  {
   "cell_type": "code",
   "execution_count": 17,
   "id": "721317c0-1678-4512-b772-34aa0b96c569",
   "metadata": {},
   "outputs": [
    {
     "name": "stdin",
     "output_type": "stream",
     "text": [
      " 143\n"
     ]
    },
    {
     "name": "stdout",
     "output_type": "stream",
     "text": [
      "yes\n"
     ]
    }
   ],
   "source": [
    "# In the University Examinations conducted during the past 5 years, the\n",
    "# toppers registration numbers were 7126, 82417914, 7687 and 6657. Your\n",
    "# father is an expert in data mining and he could easily infer a pattern in the\n",
    "# toppers registration numbers.\n",
    "# In all the registration numbers listed here, the sum of the odd digits is equal\n",
    "# to the sum of the even digits in the number. He termed the numbers that\n",
    "# satisfy this property as Probable Topper Numbers.\n",
    "# Write a program to find whether a given number is a probable topper\n",
    "# number or not.\n",
    "# Question 5\n",
    "# Input Format:\n",
    "# Input consists of a single integer.\n",
    "# Output Format:\n",
    "# Output consists of a single line.\n",
    "# Sample Input:\n",
    "# 143\n",
    "# Sample Output:\n",
    "# yes\n",
    "def is_probable_topper(num):\n",
    "    odd_sum = 0  \n",
    "    even_sum = 0 \n",
    "\n",
    "    for digit in str(num):  \n",
    "        digit = int(digit)  \n",
    "        \n",
    "        if digit % 2 == 0: \n",
    "            even_sum += digit\n",
    "        else: \n",
    "            odd_sum += digit\n",
    "\n",
    "    if odd_sum == even_sum:\n",
    "        print(\"yes\")\n",
    "    else:\n",
    "        print(\"no\")\n",
    "\n",
    "n = int(input())\n",
    "is_probable_topper(n)\n"
   ]
  },
  {
   "cell_type": "code",
   "execution_count": null,
   "id": "4b93ff35-fa61-473f-9ab3-cfde1d7c9207",
   "metadata": {},
   "outputs": [],
   "source": [
    "#thanks u"
   ]
  }
 ],
 "metadata": {
  "kernelspec": {
   "display_name": "Python 3 (ipykernel)",
   "language": "python",
   "name": "python3"
  },
  "language_info": {
   "codemirror_mode": {
    "name": "ipython",
    "version": 3
   },
   "file_extension": ".py",
   "mimetype": "text/x-python",
   "name": "python",
   "nbconvert_exporter": "python",
   "pygments_lexer": "ipython3",
   "version": "3.12.7"
  }
 },
 "nbformat": 4,
 "nbformat_minor": 5
}
