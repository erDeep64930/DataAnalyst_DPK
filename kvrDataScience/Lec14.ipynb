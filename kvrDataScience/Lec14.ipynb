{
 "cells": [
  {
   "cell_type": "code",
   "execution_count": null,
   "metadata": {},
   "outputs": [],
   "source": [
    "# example of numpy swaping "
   ]
  },
  {
   "cell_type": "code",
   "execution_count": 1,
   "metadata": {},
   "outputs": [
    {
     "name": "stdout",
     "output_type": "stream",
     "text": [
      "original array:\n",
      "[[ 0  1  2]\n",
      " [ 3  4  5]\n",
      " [ 6  7  8]\n",
      " [ 9 10 11]]\n",
      "after swaping the array the last column and first column :\n",
      "[[ 2  1  0]\n",
      " [ 5  4  3]\n",
      " [ 8  7  6]\n",
      " [11 10  9]]\n"
     ]
    }
   ],
   "source": [
    "import numpy as np\n",
    "# create array with shape(4,3)\n",
    "my_array=np.arange(12).reshape(4,3)\n",
    "print(\"original array:\")\n",
    "print(my_array)\n",
    "# swaping the column with index of original array\n",
    "my_array[:,[2,0]]=my_array[:,[0,2]]\n",
    "print(\"after swaping the array the last column and first column :\")\n",
    "print(my_array)"
   ]
  },
  {
   "cell_type": "code",
   "execution_count": 4,
   "metadata": {},
   "outputs": [
    {
     "data": {
      "text/plain": [
       "' \\nimport numpy as np\\n# creating array\\ndef swap(arr,startIndex,lastIndex):\\n     arr[:,[startIndex,lastIndex]]=arr[lastIndex,startIndex]\\n   \\n'"
      ]
     },
     "execution_count": 4,
     "metadata": {},
     "output_type": "execute_result"
    }
   ],
   "source": [
    "# function defination for swap\n",
    "\n",
    "\"\"\" \n",
    "import numpy as np\n",
    "# creating array\n",
    "def swap(arr,startIndex,lastIndex):\n",
    "     arr[:,[startIndex,lastIndex]]=arr[lastIndex,startIndex]\n",
    "   \n",
    "\"\"\""
   ]
  },
  {
   "cell_type": "markdown",
   "metadata": {},
   "source": [
    "# Numpy statistics operation:-\n",
    "1. amax()\n",
    "2. amin()\n",
    "3. mean()\n",
    "4. median()\n",
    "5. mode() not present in python module\n",
    "6. var() # variance \n",
    "7. std() # standard deviation"
   ]
  },
  {
   "cell_type": "code",
   "execution_count": 5,
   "metadata": {},
   "outputs": [
    {
     "name": "stdout",
     "output_type": "stream",
     "text": [
      "26\n",
      "-6\n"
     ]
    }
   ],
   "source": [
    "# 1d array\n",
    "a=np.array([10,20,3,5,14,-6,26])\n",
    "print(np.amax(a))\n",
    "print(np.amin(a))\n"
   ]
  },
  {
   "cell_type": "code",
   "execution_count": 9,
   "metadata": {},
   "outputs": [
    {
     "name": "stdout",
     "output_type": "stream",
     "text": [
      "[[1 2 3]\n",
      " [4 5 6]\n",
      " [7 8 9]]\n",
      "9\n",
      "1\n",
      "[7 8 9]\n",
      "[3 6 9]\n"
     ]
    }
   ],
   "source": [
    "# 2d array related row max and col max\n",
    "a=np.array([[1,2,3],[4,5,6],[7,8,9]])\n",
    "print(a)\n",
    "print(np.amax(a))\n",
    "print(np.amin(a))\n",
    "print(np.amax(a,axis=0))\n",
    "print(np.amax(a,axis=1))"
   ]
  },
  {
   "cell_type": "code",
   "execution_count": 14,
   "metadata": {},
   "outputs": [
    {
     "name": "stdout",
     "output_type": "stream",
     "text": [
      ":sum= 550\n",
      "mean or average= 55.0\n",
      "using pre define function: 55.0\n"
     ]
    }
   ],
   "source": [
    "# find the mean \n",
    "lst=[10,20,30,40,50,60,70,80,90,100]\n",
    "s=0\n",
    "for val in lst:\n",
    "    s=s+val\n",
    "    \n",
    "print(\":sum=\",s)\n",
    "print(\"mean or average=\",(s/len(lst)))\n",
    "print(\"using pre define function:\",(sum(lst)/len(lst)))"
   ]
  },
  {
   "cell_type": "code",
   "execution_count": 15,
   "metadata": {},
   "outputs": [
    {
     "name": "stdout",
     "output_type": "stream",
     "text": [
      "content of a [ 10  20  30  40  50  60  70  80  90 100]\n",
      "mean of 1D array 55.0\n"
     ]
    }
   ],
   "source": [
    "# finding mean of 1D array\n",
    "a=np.array([10,20,30,40,50,60,70,80,90,100])\n",
    "print(\"content of a\",a)\n",
    "print(\"mean of 1D array\",np.mean(a))\n"
   ]
  },
  {
   "cell_type": "code",
   "execution_count": 19,
   "metadata": {},
   "outputs": [
    {
     "name": "stdout",
     "output_type": "stream",
     "text": [
      "[[10 20 30]\n",
      " [40 50 60]\n",
      " [70 80 90]]\n",
      "mean of 2D array 50.0\n",
      "mean of 2D array along axis 0 [40. 50. 60.]\n",
      "mean of 2D array along axis 1 [20. 50. 80.]\n"
     ]
    }
   ],
   "source": [
    "# finding mean of 2D array\n",
    "\n",
    "a=np.array([[10,20,30],[40,50,60],[70,80,90]])\n",
    "print(a)\n",
    "print(\"mean of 2D array\",np.mean(a))\n",
    "print(\"mean of 2D array along axis 0\",np.mean(a,axis=0))\n",
    "print(\"mean of 2D array along axis 1\",np.mean(a,axis=1))"
   ]
  },
  {
   "cell_type": "code",
   "execution_count": 21,
   "metadata": {},
   "outputs": [
    {
     "data": {
      "text/plain": [
       "' \\n0 axis mean = y axis or vertical axis or column\\n1 axis mean = x axis or horizontal axis or row\\n\\n'"
      ]
     },
     "execution_count": 21,
     "metadata": {},
     "output_type": "execute_result"
    }
   ],
   "source": [
    "\"\"\" \n",
    "0 axis mean = y axis or vertical axis or column\n",
    "1 axis mean = x axis or horizontal axis or row\n",
    "\n",
    "\"\"\""
   ]
  },
  {
   "cell_type": "code",
   "execution_count": 26,
   "metadata": {},
   "outputs": [
    {
     "name": "stdout",
     "output_type": "stream",
     "text": [
      "list of average salary [12 35 24  6 36  8  9]\n",
      "12.0\n",
      "mean sal 18.571428571428573\n"
     ]
    }
   ],
   "source": [
    "# finding median of 1D array\n",
    "sals=[12,35,24,6,36,8,9]\n",
    "asals=np.array(sals)\n",
    "print(\"list of average salary\",asals)\n",
    "mdsal=np.median(asals)\n",
    "print(mdsal)\n",
    "print(\"mean sal\",np.mean(asals))"
   ]
  },
  {
   "cell_type": "code",
   "execution_count": null,
   "metadata": {},
   "outputs": [
    {
     "name": "stdout",
     "output_type": "stream",
     "text": [
      "[[10  2 20]\n",
      " [ 5 15  8]\n",
      " [ 5 15  4]]\n",
      "median 8.0\n",
      "median of 2d array 9.333333333333334\n"
     ]
    }
   ],
   "source": [
    "# find the median of 2-d array with number of values\n",
    "import numpy as np\n",
    "a=np.array([[10,2,20],[5,15,8],[5,15,4]])\n",
    "print(a)\n",
    "print(\"median\",np.median(a))\n",
    "print(\"median of 2d array\",np.mean(a))\n",
    "\n"
   ]
  },
  {
   "cell_type": "code",
   "execution_count": 6,
   "metadata": {},
   "outputs": [
    {
     "ename": "AttributeError",
     "evalue": "module 'numpy' has no attribute 'mode'",
     "output_type": "error",
     "traceback": [
      "\u001b[1;31m---------------------------------------------------------------------------\u001b[0m",
      "\u001b[1;31mAttributeError\u001b[0m                            Traceback (most recent call last)",
      "Cell \u001b[1;32mIn[6], line 1\u001b[0m\n\u001b[1;32m----> 1\u001b[0m \u001b[38;5;28mprint\u001b[39m(\u001b[43mnp\u001b[49m\u001b[38;5;241;43m.\u001b[39;49m\u001b[43mmode\u001b[49m)\n",
      "File \u001b[1;32mc:\\Users\\deepa\\AppData\\Local\\Programs\\Python\\Python313\\Lib\\site-packages\\numpy\\__init__.py:427\u001b[0m, in \u001b[0;36m__getattr__\u001b[1;34m(attr)\u001b[0m\n\u001b[0;32m    424\u001b[0m     \u001b[38;5;28;01mimport\u001b[39;00m\u001b[38;5;250m \u001b[39m\u001b[38;5;21;01mnumpy\u001b[39;00m\u001b[38;5;21;01m.\u001b[39;00m\u001b[38;5;21;01mchar\u001b[39;00m\u001b[38;5;250m \u001b[39m\u001b[38;5;28;01mas\u001b[39;00m\u001b[38;5;250m \u001b[39m\u001b[38;5;21;01mchar\u001b[39;00m\n\u001b[0;32m    425\u001b[0m     \u001b[38;5;28;01mreturn\u001b[39;00m char\u001b[38;5;241m.\u001b[39mchararray\n\u001b[1;32m--> 427\u001b[0m \u001b[38;5;28;01mraise\u001b[39;00m \u001b[38;5;167;01mAttributeError\u001b[39;00m(\u001b[38;5;124m\"\u001b[39m\u001b[38;5;124mmodule \u001b[39m\u001b[38;5;132;01m{!r}\u001b[39;00m\u001b[38;5;124m has no attribute \u001b[39m\u001b[38;5;124m\"\u001b[39m\n\u001b[0;32m    428\u001b[0m                      \u001b[38;5;124m\"\u001b[39m\u001b[38;5;132;01m{!r}\u001b[39;00m\u001b[38;5;124m\"\u001b[39m\u001b[38;5;241m.\u001b[39mformat(\u001b[38;5;18m__name__\u001b[39m, attr))\n",
      "\u001b[1;31mAttributeError\u001b[0m: module 'numpy' has no attribute 'mode'"
     ]
    }
   ],
   "source": [
    "print(np.mode)"
   ]
  },
  {
   "cell_type": "code",
   "execution_count": null,
   "metadata": {},
   "outputs": [],
   "source": [
    "# we dont have mode in numpy"
   ]
  },
  {
   "cell_type": "code",
   "execution_count": null,
   "metadata": {},
   "outputs": [],
   "source": []
  },
  {
   "cell_type": "code",
   "execution_count": null,
   "metadata": {},
   "outputs": [],
   "source": []
  },
  {
   "cell_type": "code",
   "execution_count": null,
   "metadata": {},
   "outputs": [],
   "source": []
  },
  {
   "cell_type": "code",
   "execution_count": null,
   "metadata": {},
   "outputs": [],
   "source": []
  },
  {
   "cell_type": "code",
   "execution_count": null,
   "metadata": {},
   "outputs": [],
   "source": []
  },
  {
   "cell_type": "code",
   "execution_count": null,
   "metadata": {},
   "outputs": [],
   "source": []
  },
  {
   "cell_type": "code",
   "execution_count": null,
   "metadata": {},
   "outputs": [],
   "source": []
  },
  {
   "cell_type": "code",
   "execution_count": null,
   "metadata": {},
   "outputs": [],
   "source": []
  },
  {
   "cell_type": "code",
   "execution_count": null,
   "metadata": {},
   "outputs": [],
   "source": []
  },
  {
   "cell_type": "code",
   "execution_count": null,
   "metadata": {},
   "outputs": [],
   "source": []
  },
  {
   "cell_type": "code",
   "execution_count": null,
   "metadata": {},
   "outputs": [],
   "source": []
  },
  {
   "cell_type": "code",
   "execution_count": null,
   "metadata": {},
   "outputs": [],
   "source": []
  },
  {
   "cell_type": "code",
   "execution_count": null,
   "metadata": {},
   "outputs": [],
   "source": []
  },
  {
   "cell_type": "code",
   "execution_count": null,
   "metadata": {},
   "outputs": [],
   "source": []
  },
  {
   "cell_type": "code",
   "execution_count": null,
   "metadata": {},
   "outputs": [],
   "source": []
  },
  {
   "cell_type": "code",
   "execution_count": null,
   "metadata": {},
   "outputs": [],
   "source": []
  },
  {
   "cell_type": "code",
   "execution_count": null,
   "metadata": {},
   "outputs": [],
   "source": []
  },
  {
   "cell_type": "code",
   "execution_count": null,
   "metadata": {},
   "outputs": [],
   "source": []
  },
  {
   "cell_type": "code",
   "execution_count": null,
   "metadata": {},
   "outputs": [],
   "source": []
  }
 ],
 "metadata": {
  "kernelspec": {
   "display_name": "Python 3",
   "language": "python",
   "name": "python3"
  },
  "language_info": {
   "codemirror_mode": {
    "name": "ipython",
    "version": 3
   },
   "file_extension": ".py",
   "mimetype": "text/x-python",
   "name": "python",
   "nbconvert_exporter": "python",
   "pygments_lexer": "ipython3",
   "version": "3.13.1"
  }
 },
 "nbformat": 4,
 "nbformat_minor": 2
}
