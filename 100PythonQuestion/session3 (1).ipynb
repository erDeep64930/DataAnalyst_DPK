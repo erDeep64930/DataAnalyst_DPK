{
 "cells": [
  {
   "cell_type": "code",
   "execution_count": 3,
   "id": "5b93a627-bc10-45bc-9d44-d67cc2cca529",
   "metadata": {},
   "outputs": [
    {
     "name": "stdin",
     "output_type": "stream",
     "text": [
      "Enter the first x-coordinate:  2\n",
      "Enter the first y-coordinate:  4\n",
      "Enter the second x-coordinate:  10\n",
      "Enter the second y-coordinate:  15\n",
      "Enter the third x-coordinate:  5\n",
      "Enter the third y-coordinate:  8\n"
     ]
    },
    {
     "name": "stdout",
     "output_type": "stream",
     "text": [
      "5.7 9.0\n"
     ]
    }
   ],
   "source": [
    "# d'Artagnan joined the group of 3 Musketeers and now their\n",
    "# group is called four Musketeers. Meanwhile, d'Artagnan also\n",
    "# moved to a new house in the same locality nearby to the other\n",
    "# three. Currently, the houses of Athos, Porthos and Aramis are\n",
    "# located in the shape of a triangle. When the three musketeers\n",
    "# asked d'Artagnan about the location of his house, he said that\n",
    "# his house is equidistant from the houses of the other 3. Can you\n",
    "# please help them find out the location of the house?\n",
    "# Given the 3 locations {(x1,y1), (x2,y2) and (x3,y3)} of a triangle,\n",
    "# write a program to determine the point which is equidistant from\n",
    "# all the 3 points.\n",
    "# Question 1\n",
    "# INPUT FORMAT:\n",
    "# Input consists of 6 integers.\n",
    "# The first integer corresponds to x1.\n",
    "# The second integer corresponds to y1.\n",
    "# The third and fourth integers correspond to x2 and y2\n",
    "# respectively.\n",
    "# The fifth and sixth integers correspond to x3 and y3 respectively.\n",
    "# OUTPUT FORMAT:\n",
    "# The output consists of two floating point numbers (with one\n",
    "# decimal place) which correspond to the location of the house.\n",
    "# Question 1\n",
    "# SAMPLE INPUT:\n",
    "# 2\n",
    "# 4\n",
    "# 10\n",
    "# 15\n",
    "# 5\n",
    "# 8\n",
    "# SAMPLE OUTPUT:\n",
    "# 5.7\n",
    "# 9.0\n",
    "# Taking input for three points (x1, y1), (x2, y2), (x3, y3)\n",
    "x1 = int(input(\"Enter the first x-coordinate: \"))\n",
    "y1 = int(input(\"Enter the first y-coordinate: \"))\n",
    "x2 = int(input(\"Enter the second x-coordinate: \"))\n",
    "y2 = int(input(\"Enter the second y-coordinate: \"))\n",
    "x3 = int(input(\"Enter the third x-coordinate: \"))\n",
    "y3 = int(input(\"Enter the third y-coordinate: \"))\n",
    "\n",
    "\n",
    "X = (x1 + x2 + x3) / 3\n",
    "Y = (y1 + y2 + y3) / 3\n",
    "\n",
    "\n",
    "print(f\"{X:.1f} {Y:.1f}\")\n"
   ]
  },
  {
   "cell_type": "code",
   "execution_count": 7,
   "id": "d5160fc4-a79b-47c3-8fb0-06f14ac6d673",
   "metadata": {},
   "outputs": [
    {
     "name": "stdin",
     "output_type": "stream",
     "text": [
      "Enter the first x-coordinate:  2\n",
      "Enter the first y-coordinate:  4\n",
      "Enter the second x-coordinate:  10\n",
      "Enter the second y-coordinate:  15\n"
     ]
    },
    {
     "name": "stdout",
     "output_type": "stream",
     "text": [
      " arun house is located6.0 9.5\n"
     ]
    }
   ],
   "source": [
    "# Mani, Arun, and Kumar were very close friends at school. They were very\n",
    "# good in Mathematics and were the pets of Ranjani Ma'am. Mani, Arun, and\n",
    "# Kumar live in the same locality and their gang was known as 3 - Psychos. A\n",
    "# new student Logan joins their class and he wanted to be friends with the 3\n",
    "# - Psychos.\n",
    "# Logan asked Arun about his home address. Arun wanted to test Logan's\n",
    "# mathematical skills and hence told that his house is at the midpoint of the\n",
    "# line joining Mani's house and Kumar's house. Logan was puzzled. Can you\n",
    "# help Logan out?\n",
    "# Given the coordinates of the 2 endpoints of a line (x1,y1) and (x2,y2). Write\n",
    "# a program to find the midpoint of the line.\n",
    "# Question 2\n",
    "# INPUT FORMAT:\n",
    "# Input consists of 4 integers.\n",
    "# The first and second integer corresponds to x1 and y1\n",
    "# respectively.\n",
    "# The third and fourth integers correspond to x2 and y2\n",
    "# respectively\n",
    "x1 = int(input(\"Enter the first x-coordinate: \"))\n",
    "y1 = int(input(\"Enter the first y-coordinate: \"))\n",
    "x2 = int(input(\"Enter the second x-coordinate: \"))\n",
    "y2 = int(input(\"Enter the second y-coordinate: \"))\n",
    "X = (x1 + x2 ) / 2\n",
    "Y = (y1 + y2) / 2\n",
    "\n",
    "\n",
    "print(f\" arun house is located{X:.1f} {Y:.1f}\")"
   ]
  },
  {
   "cell_type": "code",
   "execution_count": 15,
   "id": "5e16c747-d58a-4535-bf01-0901405bf54d",
   "metadata": {},
   "outputs": [
    {
     "name": "stdin",
     "output_type": "stream",
     "text": [
      "enter a no 373\n"
     ]
    },
    {
     "name": "stdout",
     "output_type": "stream",
     "text": [
      "1\n",
      "1\n",
      "1\n"
     ]
    }
   ],
   "source": [
    "# Booka is an alien. He couldn't understand how to measure days, weeks,\n",
    "# months, and years. Make Booka understand what is meant by days, weeks,\n",
    "# months, and years. Teach him about the conversion of days into years,\n",
    "# months, and weeks using a program.\n",
    "# INPUT FORMAT:\n",
    "# Input consists of an integer that corresponds to the number of days.\n",
    "# OUTPUT FORMAT:\n",
    "# The output consists of three integers.\n",
    "# The first integer corresponds to the total years.\n",
    "# The second integer corresponds to the total weeks.\n",
    "# The third integer corresponds to the total days.\n",
    "days=int(input(\"enter a no\"))\n",
    "year=days//365\n",
    "remainingday= days%365\n",
    "week=remainingday//7\n",
    "days=remainingday%7\n",
    "\n",
    "print(year)\n",
    "print(days)\n",
    "print(week)"
   ]
  },
  {
   "cell_type": "code",
   "execution_count": 17,
   "id": "f2d985c4-c1e2-4904-8b85-25b2343a13b7",
   "metadata": {},
   "outputs": [
    {
     "name": "stdin",
     "output_type": "stream",
     "text": [
      "Enter total gold coins:  729\n",
      "Enter Long Ben's percentage share:  65\n",
      "Enter Blackbeard's percentage share:  87\n"
     ]
    },
    {
     "name": "stdout",
     "output_type": "stream",
     "text": [
      "473\n",
      "221\n",
      "11\n"
     ]
    }
   ],
   "source": [
    "# Though there have been more successful pirates, Blackbeard is one of the\n",
    "# best-known and widely-feared of his time. He commanded four ships and\n",
    "# had a pirate army of 300 at the height of his career and defeated the\n",
    "# famous warship, HMS “Scarborough” in sea-battle.\n",
    "# He was known for barreling into battle clutching two swords with several\n",
    "# knives and pistols at the ready. He captured over forty merchant ships in\n",
    "# the Caribbean and without flinching killed many prisoners. Now,\n",
    "# Blackbeard and his three pirates found a treasure of gold coins. Long Ben\n",
    "# too joined them. They decided to share the treasure.\n",
    "# Blackbeard agreed to give x% share for Long Ben. He then decided to take\n",
    "# y% share from the remaining treasure. His other pirates will share the\n",
    "# remaining gold coins equally. Write a program to compute their share's.\n",
    "# Question 4\n",
    "# Input Format:\n",
    "# Input consists of 3 integers.\n",
    "# The first input corresponds to the number of gold coins in the\n",
    "# treasure.\n",
    "# The second input corresponds to Ben's share percentage and the\n",
    "# last input is Blackbeard's share percentage.\n",
    "# Output Format:\n",
    "# The output consists of three integers.\n",
    "# The first output integer corresponds to Long Ben's share.\n",
    "# The second integer corresponds to Blackbeard's share.\n",
    "# The last integer corresponds to the other pirate's share.\n",
    "# Question 4\n",
    "# Sample Input 1:\n",
    "# 729\n",
    "# 65\n",
    "# 87\n",
    "# Sample Output 1:\n",
    "# 473\n",
    "# 222\n",
    "# 11\n",
    "\n",
    "total_coins = int(input(\"Enter total gold coins: \"))\n",
    "x = int(input(\"Enter Long Ben's percentage share: \"))\n",
    "y = int(input(\"Enter Blackbeard's percentage share: \"))\n",
    "\n",
    "long_ben_share = (x / 100) * total_coins\n",
    "remaining_after_long_ben = total_coins - long_ben_share\n",
    "\n",
    "\n",
    "blackbeard_share = (y / 100) * remaining_after_long_ben\n",
    "remaining_coins = remaining_after_long_ben - blackbeard_share\n",
    "\n",
    "each_pirate_share = remaining_coins / 3\n",
    "\n",
    "print(f\"{int(long_ben_share)}\")\n",
    "print(f\"{int(blackbeard_share)}\")\n",
    "print(f\"{int(each_pirate_share)}\")\n"
   ]
  },
  {
   "cell_type": "code",
   "execution_count": 29,
   "id": "31e9ccc3-2999-4d79-b5e4-431e03358393",
   "metadata": {},
   "outputs": [
    {
     "name": "stdin",
     "output_type": "stream",
     "text": [
      "enter a no 56\n"
     ]
    },
    {
     "name": "stdout",
     "output_type": "stream",
     "text": [
      "Alice must go in path-11\n"
     ]
    }
   ],
   "source": [
    "# Input format:\n",
    "# Input consists of an integer corresponding to the 2-digit number.\n",
    "# Output format:\n",
    "# Output consists of an integer corresponding to the sum of its digits.\n",
    "# Sample Input:\n",
    "# 23\n",
    "# Sample Output:\n",
    "# Alice must go in path-5\n",
    "num=int(input(\"enter a no\"))\n",
    "tens=num//10\n",
    "one=num%10\n",
    "sum=tens+one\n",
    "print(f\"Alice must go in path-{sum}\")"
   ]
  },
  {
   "cell_type": "code",
   "execution_count": 31,
   "id": "bf95a8e9-27cb-4d0a-aed6-0f0eb53c098e",
   "metadata": {},
   "outputs": [
    {
     "name": "stdin",
     "output_type": "stream",
     "text": [
      " 791\n"
     ]
    },
    {
     "name": "stdout",
     "output_type": "stream",
     "text": [
      "Trendy Number\n"
     ]
    }
   ],
   "source": [
    "# Joey Tribbiani wanted to buy a meatball Sandwich and went to the nearby\n",
    "# sandwich shop. There was a poster that said that if anyone comes up with a\n",
    "# program for Trendy Number they can get lifelong free Sandwiches as a gift.\n",
    "# Can you help Joey to write a program to check whether the given number is a\n",
    "# trendy number or not? A number is said to be a trendy number if and only if it\n",
    "# has 3 digits and the middle digit is divisible by 3.\n",
    "# Input Format:\n",
    "# The input is an integer that denotes the given number.\n",
    "# Output Format:\n",
    "# If the given number is a trendy number, then print \"Trendy Number\".\n",
    "# Otherwise, print \"Not a Trendy Number\".\n",
    "# If the given number is not a 3 digit number print \"Invalid Number\".\n",
    "num = int(input())\n",
    "\n",
    "if num < 100 or num > 999:\n",
    "    print(\"Invalid Number\")\n",
    "else:\n",
    "\n",
    "    middle_digit = (num // 10) % 10\n",
    "    \n",
    "    if middle_digit % 3 == 0:\n",
    "        print(\"Trendy Number\")\n",
    "    else:\n",
    "        print(\"Not a Trendy Number\")\n"
   ]
  },
  {
   "cell_type": "code",
   "execution_count": 39,
   "id": "8b50adb1-e210-4b8e-b7c7-7c1ada3a2a44",
   "metadata": {},
   "outputs": [
    {
     "name": "stdin",
     "output_type": "stream",
     "text": [
      "Enter a number:  456\n"
     ]
    },
    {
     "name": "stdout",
     "output_type": "stream",
     "text": [
      "654\n"
     ]
    }
   ],
   "source": [
    "# Write a program to reverse a 3-digit number.\n",
    "# Input Format\n",
    "# Input consists of an integer.\n",
    "# Output Format\n",
    "# The output will be the reverse of the input integers.\n",
    "# Sample Input\n",
    "# 456\n",
    "# Sample Output\n",
    "# 654\n",
    "num = input(\"Enter a number: \") \n",
    "print(num[::-1]) \n"
   ]
  },
  {
   "cell_type": "code",
   "execution_count": 45,
   "id": "cce435aa-55d9-431b-a557-6a08076f39b9",
   "metadata": {},
   "outputs": [
    {
     "name": "stdin",
     "output_type": "stream",
     "text": [
      "enter a no 50\n",
      "enter ax no 1.6\n"
     ]
    },
    {
     "name": "stdout",
     "output_type": "stream",
     "text": [
      "19.531249999999996\n"
     ]
    }
   ],
   "source": [
    "# Write a program to calculate the Body mass index(BMI).\n",
    "# Constraints : Height in meter, Weight in Kg.\n",
    "# Sample Input:\n",
    "# 50\n",
    "# 1.6\n",
    "# Sample Output:\n",
    "# 19.53\n",
    "# Hint:\n",
    "# BMI is calculated by dividing your weight in kilograms by your height in\n",
    "# metres squared.\n",
    "num= float(input(\"enter a no\"))\n",
    "num2= float(input(\"enter ax no\"))\n",
    "bmi= num/num2**2\n",
    "print(bmi)"
   ]
  },
  {
   "cell_type": "code",
   "execution_count": null,
   "id": "f877b8a5-09b4-43d8-a25c-db8df6fcbce0",
   "metadata": {},
   "outputs": [],
   "source": [
    "#thanks you kundan kumar gupta for complete this assigenement"
   ]
  }
 ],
 "metadata": {
  "kernelspec": {
   "display_name": "Python 3 (ipykernel)",
   "language": "python",
   "name": "python3"
  },
  "language_info": {
   "codemirror_mode": {
    "name": "ipython",
    "version": 3
   },
   "file_extension": ".py",
   "mimetype": "text/x-python",
   "name": "python",
   "nbconvert_exporter": "python",
   "pygments_lexer": "ipython3",
   "version": "3.12.7"
  }
 },
 "nbformat": 4,
 "nbformat_minor": 5
}
