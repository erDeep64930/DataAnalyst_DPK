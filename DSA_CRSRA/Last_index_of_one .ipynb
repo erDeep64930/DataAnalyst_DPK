{
 "cells": [
  {
   "cell_type": "code",
   "execution_count": 6,
   "id": "bd677ed6-615d-42bd-9a45-36ad3e701185",
   "metadata": {},
   "outputs": [
    {
     "name": "stdout",
     "output_type": "stream",
     "text": [
      "4\n"
     ]
    }
   ],
   "source": [
    "def example(n, d, l, h):\n",
    "    while l <= h:\n",
    "        mid = (l + h) // 2\n",
    "        sumd = sum(int(digit) for digit in str(mid))\n",
    "        diff = mid - sumd\n",
    "        \n",
    "        if diff <= d:\n",
    "            l = mid + 1\n",
    "        else:\n",
    "            h = mid - 1\n",
    "\n",
    "    return n - h\n",
    "\n",
    "print(example(13, 2, 1, 13))\n"
   ]
  },
  {
   "cell_type": "markdown",
   "id": "62e7e05e-185a-48d4-8c4f-8f466ba35d4d",
   "metadata": {},
   "source": [
    "## Last index of one"
   ]
  },
  {
   "cell_type": "code",
   "execution_count": 10,
   "id": "092bd79d-a9f1-47df-ba37-871648d120a1",
   "metadata": {},
   "outputs": [
    {
     "name": "stdout",
     "output_type": "stream",
     "text": [
      "1\n",
      "2\n",
      "4\n",
      "6\n",
      "7\n"
     ]
    }
   ],
   "source": [
    "x = \"01101011\"\n",
    "for i in range(len(x)):\n",
    "    if x[i] == '1':  \n",
    "        index = i\n",
    "        print(index)\n"
   ]
  },
  {
   "cell_type": "code",
   "execution_count": null,
   "id": "4cfd8598-34be-4c34-9363-20908d24d426",
   "metadata": {},
   "outputs": [],
   "source": []
  }
 ],
 "metadata": {
  "kernelspec": {
   "display_name": "Python 3 (ipykernel)",
   "language": "python",
   "name": "python3"
  },
  "language_info": {
   "codemirror_mode": {
    "name": "ipython",
    "version": 3
   },
   "file_extension": ".py",
   "mimetype": "text/x-python",
   "name": "python",
   "nbconvert_exporter": "python",
   "pygments_lexer": "ipython3",
   "version": "3.12.4"
  }
 },
 "nbformat": 4,
 "nbformat_minor": 5
}
