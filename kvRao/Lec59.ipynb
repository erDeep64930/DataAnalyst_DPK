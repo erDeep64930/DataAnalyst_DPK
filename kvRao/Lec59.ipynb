{
 "cells": [
  {
   "cell_type": "markdown",
   "metadata": {},
   "source": [
    "# Anonymous functions or Lambda functions\n",
    "- anonymous function are those which does not have any name function name explicitly .\n",
    "- the purpose of anonymous function is \" to perform instant operation\"\n",
    "- Instant operation are those which are used at point of time only but no longer interested to use in other part s of the application.\n",
    "- to define anonymous function we use lambda keyword. and hence anonymous function are called lambda function.\n",
    "- anonymous function perform instant operation they contain single executable statement only ( not multiple )\n",
    "- anonymous function return the result the automatically / implicitly / ( there is no need to write return statement)\n",
    "\n",
    "# Syntax:-\n",
    "\n",
    "- varname = lambda Param-list : expression\n",
    "\n",
    "\n",
    "__Explanation:-__\n",
    "\n",
    "- 'lambda' keyword is used to declare a lambda function\n",
    "- param list = represent list of formal parameters which are used for holding or storing the input coming from function call.\n",
    "- expression represent single executable statement and it is the solution  or logic for instant operation.\n",
    "\n",
    "\n",
    "\n"
   ]
  },
  {
   "cell_type": "code",
   "execution_count": 3,
   "metadata": {},
   "outputs": [
    {
     "name": "stdout",
     "output_type": "stream",
     "text": [
      "30\n"
     ]
    }
   ],
   "source": [
    "# define a function to add two number\n",
    "# this is normal function\n",
    "def addop(a,b):\n",
    "    c=a+b\n",
    "    return c\n",
    "\n",
    "res=addop(10,20)\n",
    "print(res)"
   ]
  },
  {
   "cell_type": "code",
   "execution_count": 5,
   "metadata": {},
   "outputs": [
    {
     "name": "stdout",
     "output_type": "stream",
     "text": [
      "30\n"
     ]
    }
   ],
   "source": [
    "# using lambda function\n",
    "addop1 = lambda a,b:a+b\n",
    "print(addop1(10,20))"
   ]
  },
  {
   "cell_type": "code",
   "execution_count": 9,
   "metadata": {},
   "outputs": [
    {
     "name": "stdout",
     "output_type": "stream",
     "text": [
      "30\n"
     ]
    }
   ],
   "source": [
    "# find the max  of two number\n",
    "findMax= lambda a,b: a if a>b else b \n",
    "print(findMax(20,30))"
   ]
  },
  {
   "cell_type": "code",
   "execution_count": null,
   "metadata": {},
   "outputs": [
    {
     "name": "stdout",
     "output_type": "stream",
     "text": [
      "a is greater\n"
     ]
    }
   ],
   "source": [
    "findMax2= lambda a,b:\"a is greater\" if a>b else \"b is greater\" if b>a else \"both value are equal\"\n",
    "print(findMax2(51,5))"
   ]
  },
  {
   "cell_type": "code",
   "execution_count": 19,
   "metadata": {},
   "outputs": [
    {
     "name": "stdout",
     "output_type": "stream",
     "text": [
      "enter the list of values separated by space\n",
      "content of the list [10, 20, 30, 40]\n",
      "40 10\n"
     ]
    }
   ],
   "source": [
    "\n",
    "# find the min and max from list\n",
    "findmax= lambda values: max(values)\n",
    "findmin= lambda values: min(values)\n",
    "\n",
    "#main code \n",
    "print(\"enter the list of values separated by space\")\n",
    "vals= [int(val) for val in input().split()]\n",
    "print(\"content of the list\",vals)\n",
    "bv= findmax(vals)\n",
    "sv= findmin(vals)\n",
    "print(bv,sv)"
   ]
  },
  {
   "cell_type": "code",
   "execution_count": null,
   "metadata": {},
   "outputs": [],
   "source": [
    "# in lambda we dont have return keyword"
   ]
  }
 ],
 "metadata": {
  "kernelspec": {
   "display_name": "Python 3",
   "language": "python",
   "name": "python3"
  },
  "language_info": {
   "codemirror_mode": {
    "name": "ipython",
    "version": 3
   },
   "file_extension": ".py",
   "mimetype": "text/x-python",
   "name": "python",
   "nbconvert_exporter": "python",
   "pygments_lexer": "ipython3",
   "version": "3.13.1"
  }
 },
 "nbformat": 4,
 "nbformat_minor": 2
}
