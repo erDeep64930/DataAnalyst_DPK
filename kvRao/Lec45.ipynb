{
 "cells": [
  {
   "cell_type": "markdown",
   "metadata": {},
   "source": [
    "# Looping || Iterating || Repetative statement"
   ]
  },
  {
   "cell_type": "markdown",
   "metadata": {},
   "source": [
    "- while loop or while else loop\n",
    "- for loop or else loop\n",
    "\n",
    "- Looping statements containing \n",
    "1. Initialisation\n",
    "2. conditional part\n",
    "3. updation part"
   ]
  },
  {
   "cell_type": "markdown",
   "metadata": {},
   "source": [
    "# while loop\n",
    "- syntax-1:-\n",
    "\n",
    "while(test condition):\n",
    "    statement(s)\n",
    "    increment/decrement statement\n",
    "\n",
    "- syntax-2:-\n",
    "\n",
    "while(test condition):\n",
    "    statement(s)\n",
    "    increment/decrement statement\n",
    "else:\n",
    "    statement(s)\n",
    "\n",
    "\n"
   ]
  },
  {
   "cell_type": "code",
   "execution_count": 2,
   "metadata": {},
   "outputs": [
    {
     "name": "stdout",
     "output_type": "stream",
     "text": [
      "1\n",
      "2\n",
      "3\n",
      "4\n",
      "5\n",
      "6\n",
      "7\n",
      "8\n",
      "9\n",
      "10\n",
      "loop completed\n"
     ]
    }
   ],
   "source": [
    "# wap to generate 1 to 10 number .\n",
    "\n",
    "i=1 # initialization\n",
    "while(i<=10): # condition\n",
    "    print(\"{}\".format(i))\n",
    "    i=i+1 # updation\n",
    "else:\n",
    "    print(\"loop completed\")\n"
   ]
  },
  {
   "cell_type": "code",
   "execution_count": null,
   "metadata": {},
   "outputs": [
    {
     "name": "stdout",
     "output_type": "stream",
     "text": [
      "1\n",
      "2\n",
      "3\n",
      "4\n",
      "5\n",
      "loop completed\n"
     ]
    }
   ],
   "source": [
    "n=int(input(\"enter the number you want to generate:\"))\n",
    "i=1 # initialization\n",
    "while(n<=i):# condition\n",
    "    print(\"{}\".format(i))\n",
    "    i=i-1 # updation\n",
    "else:\n",
    "    print(\"loop completed\")\n"
   ]
  },
  {
   "cell_type": "code",
   "execution_count": 8,
   "metadata": {},
   "outputs": [
    {
     "name": "stdout",
     "output_type": "stream",
     "text": [
      "10\n",
      "9\n",
      "8\n",
      "7\n",
      "6\n",
      "5\n",
      "4\n",
      "3\n",
      "2\n",
      "1\n",
      "loop completed\n"
     ]
    }
   ],
   "source": [
    "# generate n to 1 \n",
    "\n",
    "n=int(input(\"enter the number you want to generate:\"))\n",
    "\n",
    "if(n<=0):\n",
    "    print(\"{} is invalid input\".format())\n",
    "else:\n",
    "    i=n\n",
    "    while(i>=1):\n",
    "        print(\"{}\".format(i))\n",
    "        i=i-1 # updation\n",
    "    else:\n",
    "        print(\"loop completed\")\n",
    "\n",
    "\n",
    "\n"
   ]
  },
  {
   "cell_type": "code",
   "execution_count": 10,
   "metadata": {},
   "outputs": [
    {
     "name": "stdout",
     "output_type": "stream",
     "text": [
      "1 is odd\n",
      "3 is odd\n",
      "5 is odd\n",
      "7 is odd\n",
      "9 is odd\n",
      "loop completed\n"
     ]
    }
   ],
   "source": [
    "#wap to generate odd number within n\n",
    "n=int(input(\"enter the number you want to generate:\"))\n",
    "\n",
    "if(n<=0):\n",
    "    print(\"{} is invalid input\".format())\n",
    "else:\n",
    "    i=1\n",
    "    while(i<=n):\n",
    "        print(\"{} is odd\".format(i))\n",
    "        i=i+2 # updation\n",
    "    else:\n",
    "        print(\"loop completed\")"
   ]
  },
  {
   "cell_type": "code",
   "execution_count": 11,
   "metadata": {},
   "outputs": [
    {
     "name": "stdout",
     "output_type": "stream",
     "text": [
      "10 is odd\n",
      "8 is odd\n",
      "6 is odd\n",
      "4 is odd\n",
      "2 is odd\n",
      "loop completed\n"
     ]
    }
   ],
   "source": [
    "#wap to generate odd number within n , it should be in decreasing order\n",
    "\n",
    "n=int(input(\"enter the number you want to generate:\"))\n",
    "\n",
    "if(n<=0):\n",
    "    print(\"{} is invalid input\".format())\n",
    "else:\n",
    "    i=n\n",
    "    while(i>=1):\n",
    "        print(\"{} is odd\".format(i))\n",
    "        i=i-2 # updation\n",
    "    else:\n",
    "        print(\"loop completed\")"
   ]
  },
  {
   "cell_type": "code",
   "execution_count": 12,
   "metadata": {},
   "outputs": [
    {
     "name": "stdout",
     "output_type": "stream",
     "text": [
      "10 is odd\n",
      "8 is odd\n",
      "6 is odd\n",
      "4 is odd\n",
      "2 is odd\n"
     ]
    }
   ],
   "source": [
    "# another way\n",
    "\n",
    "n=int(input(\"enter the number you want to generate:\"))\n",
    "\n",
    "if(n<=0):\n",
    "    print(\"{} is invalid input\".format())\n",
    "else:\n",
    "    while(n>=2):\n",
    "        print(\"{} is odd\".format(n))\n",
    "        n=n-2 # updation"
   ]
  },
  {
   "cell_type": "code",
   "execution_count": null,
   "metadata": {},
   "outputs": [],
   "source": []
  },
  {
   "cell_type": "code",
   "execution_count": null,
   "metadata": {},
   "outputs": [],
   "source": []
  },
  {
   "cell_type": "code",
   "execution_count": null,
   "metadata": {},
   "outputs": [],
   "source": []
  },
  {
   "cell_type": "code",
   "execution_count": null,
   "metadata": {},
   "outputs": [],
   "source": []
  },
  {
   "cell_type": "code",
   "execution_count": null,
   "metadata": {},
   "outputs": [],
   "source": []
  },
  {
   "cell_type": "code",
   "execution_count": null,
   "metadata": {},
   "outputs": [],
   "source": []
  },
  {
   "cell_type": "code",
   "execution_count": null,
   "metadata": {},
   "outputs": [],
   "source": []
  },
  {
   "cell_type": "code",
   "execution_count": null,
   "metadata": {},
   "outputs": [],
   "source": []
  },
  {
   "cell_type": "code",
   "execution_count": null,
   "metadata": {},
   "outputs": [],
   "source": []
  },
  {
   "cell_type": "code",
   "execution_count": null,
   "metadata": {},
   "outputs": [],
   "source": []
  },
  {
   "cell_type": "code",
   "execution_count": null,
   "metadata": {},
   "outputs": [],
   "source": []
  },
  {
   "cell_type": "code",
   "execution_count": null,
   "metadata": {},
   "outputs": [],
   "source": []
  },
  {
   "cell_type": "code",
   "execution_count": null,
   "metadata": {},
   "outputs": [],
   "source": []
  },
  {
   "cell_type": "code",
   "execution_count": null,
   "metadata": {},
   "outputs": [],
   "source": []
  },
  {
   "cell_type": "code",
   "execution_count": null,
   "metadata": {},
   "outputs": [],
   "source": []
  },
  {
   "cell_type": "code",
   "execution_count": null,
   "metadata": {},
   "outputs": [],
   "source": []
  },
  {
   "cell_type": "code",
   "execution_count": null,
   "metadata": {},
   "outputs": [],
   "source": []
  },
  {
   "cell_type": "code",
   "execution_count": null,
   "metadata": {},
   "outputs": [],
   "source": []
  },
  {
   "cell_type": "code",
   "execution_count": null,
   "metadata": {},
   "outputs": [],
   "source": []
  },
  {
   "cell_type": "code",
   "execution_count": null,
   "metadata": {},
   "outputs": [],
   "source": []
  },
  {
   "cell_type": "code",
   "execution_count": null,
   "metadata": {},
   "outputs": [],
   "source": []
  },
  {
   "cell_type": "code",
   "execution_count": null,
   "metadata": {},
   "outputs": [],
   "source": []
  },
  {
   "cell_type": "code",
   "execution_count": null,
   "metadata": {},
   "outputs": [],
   "source": []
  },
  {
   "cell_type": "code",
   "execution_count": null,
   "metadata": {},
   "outputs": [],
   "source": []
  },
  {
   "cell_type": "code",
   "execution_count": null,
   "metadata": {},
   "outputs": [],
   "source": []
  },
  {
   "cell_type": "code",
   "execution_count": null,
   "metadata": {},
   "outputs": [],
   "source": []
  },
  {
   "cell_type": "code",
   "execution_count": null,
   "metadata": {},
   "outputs": [],
   "source": []
  },
  {
   "cell_type": "code",
   "execution_count": null,
   "metadata": {},
   "outputs": [],
   "source": []
  }
 ],
 "metadata": {
  "kernelspec": {
   "display_name": "Python 3",
   "language": "python",
   "name": "python3"
  },
  "language_info": {
   "codemirror_mode": {
    "name": "ipython",
    "version": 3
   },
   "file_extension": ".py",
   "mimetype": "text/x-python",
   "name": "python",
   "nbconvert_exporter": "python",
   "pygments_lexer": "ipython3",
   "version": "3.13.1"
  }
 },
 "nbformat": 4,
 "nbformat_minor": 2
}
