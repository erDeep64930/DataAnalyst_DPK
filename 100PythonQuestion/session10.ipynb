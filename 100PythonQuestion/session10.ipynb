{
 "cells": [
  {
   "cell_type": "code",
   "execution_count": 16,
   "id": "2c17c8db-e755-46ee-ac98-60173a42fdbf",
   "metadata": {
    "jp-MarkdownHeadingCollapsed": true
   },
   "outputs": [
    {
     "name": "stdin",
     "output_type": "stream",
     "text": [
      " 5 15\n"
     ]
    },
    {
     "name": "stdout",
     "output_type": "stream",
     "text": [
      "5\n",
      "6\n",
      "7\n",
      "8\n",
      "9\n",
      "10\n",
      "11\n",
      "12\n",
      "13\n",
      "14\n",
      "15\n"
     ]
    }
   ],
   "source": [
    "# Write a program to print all numbers between a and b (a and b inclusive)\n",
    "# using a while loop.\n",
    "# Input Format:\n",
    "# Input consists of 2 integers.\n",
    "# The first integer corresponds to a and the second integer corresponds to b.\n",
    "# Assume a>=b\n",
    "a =int(input())\n",
    "b =int(input())\n",
    "\n",
    "if a <= b:\n",
    "    while a <= b:\n",
    "        print(a)\n",
    "        a += 1\n"
   ]
  },
  {
   "cell_type": "code",
   "execution_count": 20,
   "id": "dcf36f22-c9ef-498a-a974-9fba652f729e",
   "metadata": {},
   "outputs": [
    {
     "name": "stdin",
     "output_type": "stream",
     "text": [
      " 15\n",
      " 5\n"
     ]
    },
    {
     "name": "stdout",
     "output_type": "stream",
     "text": [
      "15\n",
      "14\n",
      "13\n",
      "12\n",
      "11\n",
      "10\n",
      "9\n",
      "8\n",
      "7\n",
      "6\n",
      "5\n"
     ]
    }
   ],
   "source": [
    "# Write a program to print all numbers between a and b (a and b inclusive) using\n",
    "# a while loop.\n",
    "# Input Format:\n",
    "# Input consists of 2 integers.\n",
    "# The first integer corresponds to a and the second integer corresponds to b.\n",
    "# Assume a>=b.\n",
    "# Output Format:\n",
    "# Refer Sample Input and Output for formatting specifications.\n",
    "a =int(input())\n",
    "b =int(input())\n",
    "if a >= b:\n",
    "    while a >= b:\n",
    "        print(a)\n",
    "        a -= 1\n"
   ]
  },
  {
   "cell_type": "code",
   "execution_count": 34,
   "id": "04a268c1-6d17-4a31-b97e-c068fb9c85d6",
   "metadata": {},
   "outputs": [
    {
     "name": "stdin",
     "output_type": "stream",
     "text": [
      " 515\n"
     ]
    },
    {
     "name": "stdout",
     "output_type": "stream",
     "text": [
      "3\n"
     ]
    }
   ],
   "source": [
    "# Question 3\n",
    "# Write a program to find the how many digits in the given number.\n",
    "num = int(input())\n",
    "count = 0\n",
    "\n",
    "while num != 0:\n",
    "    num = num // 10\n",
    "    count = count + 1\n",
    "\n",
    "print(count)\n"
   ]
  },
  {
   "cell_type": "code",
   "execution_count": 38,
   "id": "0e2459c7-885d-4ffb-a8cc-216bf2533f66",
   "metadata": {},
   "outputs": [
    {
     "name": "stdin",
     "output_type": "stream",
     "text": [
      " 5\n",
      " 5\n"
     ]
    },
    {
     "name": "stdout",
     "output_type": "stream",
     "text": [
      "5 * 1 = 5\n",
      "5 * 2 = 10\n",
      "5 * 3 = 15\n",
      "5 * 4 = 20\n",
      "5 * 5 = 25\n"
     ]
    }
   ],
   "source": [
    "# Question 4\n",
    "# Penny wanted to complete her graduation from the Community College of\n",
    "# California. But being the newbee she is , she does not how to multiply two\n",
    "# numbers. Sheldon being a good friend wanted to help Penny by writing a\n",
    "# program to print the multiplication table of an integer n.\n",
    "# Input Format\n",
    "# Input consists of 2 integers. The first integer corresponds to n. The second\n",
    "# integer corresponds to m(rows).\n",
    "# Output Format\n",
    "# Refer to the sample output for formatting specifications.\n",
    "n =int(input())\n",
    "m =int(input())\n",
    "\n",
    "for i in range(1, m + 1):\n",
    "    print(f\"{n} * {i} = {n * i}\")\n"
   ]
  },
  {
   "cell_type": "code",
   "execution_count": 40,
   "id": "ca12aa03-53a4-4dd3-a411-5da68d471f12",
   "metadata": {},
   "outputs": [
    {
     "name": "stdin",
     "output_type": "stream",
     "text": [
      " 5\n"
     ]
    },
    {
     "name": "stdout",
     "output_type": "stream",
     "text": [
      "120\n"
     ]
    }
   ],
   "source": [
    "# Write a program to compute the factorial of a number\n",
    "# Input Format\n",
    "# Input consists of an integer.\n",
    "# Output Format\n",
    "# The output consists of an integer that corresponds to the factorial\n",
    "# value.\n",
    "# Sample Input 1\n",
    "# 5\n",
    "# Sample Output 1\n",
    "# The factorial of 5 is 120\n",
    "\n",
    "num = int(input())\n",
    "fact = 1\n",
    "for i in range (1 ,num+1):\n",
    "    fact =fact*i\n",
    "print(fact)\n"
   ]
  },
  {
   "cell_type": "code",
   "execution_count": 46,
   "id": "1598d380-bff7-40e5-9025-2c09523406f4",
   "metadata": {},
   "outputs": [
    {
     "name": "stdin",
     "output_type": "stream",
     "text": [
      " 5 15\n"
     ]
    },
    {
     "name": "stdout",
     "output_type": "stream",
     "text": [
      "110\n"
     ]
    }
   ],
   "source": [
    "# Write a program to print the sum of a given range of numbers.#\n",
    "a,b =map(int,input().split())\n",
    "sum1 =sum(range(a,b+1))\n",
    "print(sum1)"
   ]
  },
  {
   "cell_type": "code",
   "execution_count": 52,
   "id": "08d7a5fe-e9f3-4312-95b5-acdb9997056b",
   "metadata": {},
   "outputs": [
    {
     "name": "stdin",
     "output_type": "stream",
     "text": [
      " 4\n",
      " 5\n",
      " -2\n",
      " -1\n",
      " 6\n"
     ]
    },
    {
     "name": "stdout",
     "output_type": "stream",
     "text": [
      "Number of positive numbers entered is 2 and the sum is 11\n"
     ]
    }
   ],
   "source": [
    "# Write a program to that allows the user to enter 'n' numbers and finds the\n",
    "# number of positive numbers entered and the number of negative numbers\n",
    "# entered using a while loop.\n",
    "# Input Format:\n",
    "# Input consists of n+1 integers.\n",
    "# The first integer corresponds to n.\n",
    "# The next n integers correspond to the numbers to be added.\n",
    "# Consider 0 to be a positive number.\n",
    "# Output Format:\n",
    "# Refer Sample Input and Output for formatting specifications.\n",
    "\n",
    "n = int(input())\n",
    "\n",
    "positive_count = 0\n",
    "positive_sum = 0\n",
    "\n",
    "count = 0\n",
    "while count < n:\n",
    "    num = int(input())\n",
    "    if num >= 0:\n",
    "        positive_count += 1\n",
    "        positive_sum += num\n",
    "    count += 1\n",
    "\n",
    "\n",
    "print(f\"Number of positive numbers entered is {positive_count} and the sum is {positive_sum}\")\n"
   ]
  },
  {
   "cell_type": "code",
   "execution_count": null,
   "id": "2bae8ead-afce-4c50-90e0-a8eb84680732",
   "metadata": {},
   "outputs": [],
   "source": [
    "#thanks youu "
   ]
  }
 ],
 "metadata": {
  "kernelspec": {
   "display_name": "Python 3 (ipykernel)",
   "language": "python",
   "name": "python3"
  },
  "language_info": {
   "codemirror_mode": {
    "name": "ipython",
    "version": 3
   },
   "file_extension": ".py",
   "mimetype": "text/x-python",
   "name": "python",
   "nbconvert_exporter": "python",
   "pygments_lexer": "ipython3",
   "version": "3.12.7"
  }
 },
 "nbformat": 4,
 "nbformat_minor": 5
}
