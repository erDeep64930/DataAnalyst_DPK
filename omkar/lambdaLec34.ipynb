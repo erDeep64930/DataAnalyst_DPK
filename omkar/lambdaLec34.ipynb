{
 "cells": [
  {
   "cell_type": "markdown",
   "id": "6988bc63-715d-49ab-9061-131f1ca85111",
   "metadata": {},
   "source": [
    "# lambda function"
   ]
  },
  {
   "cell_type": "raw",
   "id": "3a3e6e6c-0209-4160-93e2-98a4f46f600f",
   "metadata": {},
   "source": [
    "- new way of creating a function\n",
    "-  lambda <argument> : <output>,<iterator>"
   ]
  },
  {
   "cell_type": "code",
   "execution_count": null,
   "id": "84d4491e-23f1-4e7c-8d58-bf9083eaf713",
   "metadata": {},
   "outputs": [],
   "source": [
    "list1=[\"hyd\",\"mumbai\",\"chennai\",\"delhi\"]\n",
    "\n",
    "#output:[\"Hyd\",\"Mumbai\",\"Chennai\",\"Delhi\"]\n",
    "\n",
    "#METHOD-1 : use append method\n",
    "#M-2 : use list comprehension\n",
    "#M-3 : use lambda function\n",
    "\n"
   ]
  },
  {
   "cell_type": "code",
   "execution_count": 3,
   "id": "c5a13176-fe9f-47ae-8c59-6edd0a8fcb9c",
   "metadata": {},
   "outputs": [
    {
     "name": "stdout",
     "output_type": "stream",
     "text": [
      "['Hyd', 'Mumbai', 'Chennai', 'Delhi']\n"
     ]
    }
   ],
   "source": [
    "list1=[\"hyd\",\"mumbai\",\"chennai\",\"delhi\"]\n",
    "\n",
    "list2=[]\n",
    "for i in list1:\n",
    "    list2.append(i.capitalize())\n",
    "\n",
    "print(list2)"
   ]
  },
  {
   "cell_type": "code",
   "execution_count": 5,
   "id": "f78c153b-6165-4d31-9ea9-5b9ddebf624e",
   "metadata": {},
   "outputs": [
    {
     "name": "stdout",
     "output_type": "stream",
     "text": [
      "['Hyd', 'Mumbai', 'Chennai', 'Delhi']\n"
     ]
    }
   ],
   "source": [
    "list3=[i.capitalize() for i in list1]\n",
    "print(list3)\n"
   ]
  },
  {
   "cell_type": "raw",
   "id": "c74eed1a-c090-448d-b5d6-c3f71cdc7495",
   "metadata": {},
   "source": [
    "lambda <arg> :<output>"
   ]
  },
  {
   "cell_type": "raw",
   "id": "3684747d-5c34-4467-a8de-64db4a9a746c",
   "metadata": {},
   "source": [
    " whenever you use iterator \n",
    " some thing can be iterable you can print using for loop\n",
    " list , string , tuple , dictionary\n"
   ]
  },
  {
   "cell_type": "code",
   "execution_count": null,
   "id": "cefbae59-5ad8-4f54-b6e3-94a2ada0ec1f",
   "metadata": {},
   "outputs": [],
   "source": [
    "lambda <arg> :<output>,<iterator>"
   ]
  },
  {
   "cell_type": "code",
   "execution_count": 7,
   "id": "8f0a5c13-2d8d-47d3-8fe8-c6271b2d6d7a",
   "metadata": {},
   "outputs": [
    {
     "data": {
      "text/plain": [
       "(<function __main__.<lambda>(i)>, ['hyd', 'mumbai', 'chennai', 'delhi'])"
      ]
     },
     "execution_count": 7,
     "metadata": {},
     "output_type": "execute_result"
    }
   ],
   "source": [
    "list1=[\"hyd\",\"mumbai\",\"chennai\",\"delhi\"]\n",
    "\n",
    "lambda i:i.capitalize(),list1"
   ]
  },
  {
   "cell_type": "raw",
   "id": "827e1e68-03f2-4f24-95d7-43ddfb163c15",
   "metadata": {},
   "source": [
    "-map input and output\n"
   ]
  },
  {
   "cell_type": "code",
   "execution_count": null,
   "id": "7ff5f29b-dfcd-4973-9786-562c9f68f54e",
   "metadata": {},
   "outputs": [],
   "source": [
    "list1=[\"hyd\",\"mumbai\",\"chennai\",\"delhi\"]\n",
    "\n",
    "map(lambda i:i.capitalize(),list1)"
   ]
  },
  {
   "cell_type": "code",
   "execution_count": null,
   "id": "423b3f37-2d94-46c9-8d6c-f8c70480a1a1",
   "metadata": {},
   "outputs": [],
   "source": [
    "store the ouput"
   ]
  },
  {
   "cell_type": "code",
   "execution_count": 8,
   "id": "efe5eb40-e518-4cc9-b18c-c2b6706c602f",
   "metadata": {},
   "outputs": [
    {
     "data": {
      "text/plain": [
       "['Hyd', 'Mumbai', 'Chennai', 'Delhi']"
      ]
     },
     "execution_count": 8,
     "metadata": {},
     "output_type": "execute_result"
    }
   ],
   "source": [
    "list(map(lambda i:i.capitalize(),list1))"
   ]
  },
  {
   "cell_type": "code",
   "execution_count": 9,
   "id": "4ec6b769-3766-427c-a09c-81c784133ca5",
   "metadata": {},
   "outputs": [
    {
     "data": {
      "text/plain": [
       "('Hyd', 'Mumbai', 'Chennai', 'Delhi')"
      ]
     },
     "execution_count": 9,
     "metadata": {},
     "output_type": "execute_result"
    }
   ],
   "source": [
    "tuple(map(lambda i:i.capitalize(),list1))"
   ]
  },
  {
   "cell_type": "code",
   "execution_count": null,
   "id": "c5098b50-4879-4e3e-a290-6cb11ce9c354",
   "metadata": {},
   "outputs": [],
   "source": [
    "list1=[1,2,3,4,5,6,7,8,9]\n",
    "\n",
    "#apply the square\n",
    "#apply the cube\n"
   ]
  },
  {
   "cell_type": "code",
   "execution_count": 15,
   "id": "652d4e32-f458-4a82-a612-556358f64268",
   "metadata": {},
   "outputs": [
    {
     "name": "stdout",
     "output_type": "stream",
     "text": [
      "1\n",
      "4\n",
      "9\n",
      "16\n",
      "25\n",
      "36\n",
      "49\n",
      "64\n",
      "81\n"
     ]
    }
   ],
   "source": [
    "#lambda <argument> : <output>,<iterator>\n",
    "list1=[1,2,3,4,5,6,7,8,9]\n",
    "for i in map(lambda i:i*i,list1):\n",
    "    print(i)"
   ]
  },
  {
   "cell_type": "code",
   "execution_count": 16,
   "id": "618a34d3-d49a-4144-87eb-5a22092e60fb",
   "metadata": {},
   "outputs": [
    {
     "data": {
      "text/plain": [
       "[1, 4, 9, 16, 25, 36, 49, 64, 81]"
      ]
     },
     "execution_count": 16,
     "metadata": {},
     "output_type": "execute_result"
    }
   ],
   "source": [
    " list(map(lambda i:i*i,list1))"
   ]
  },
  {
   "cell_type": "code",
   "execution_count": 17,
   "id": "f33dce6f-cbd0-49d1-802f-de45ad01ec64",
   "metadata": {},
   "outputs": [
    {
     "data": {
      "text/plain": [
       "[1, 8, 27, 64, 125, 216, 343, 512, 729]"
      ]
     },
     "execution_count": 17,
     "metadata": {},
     "output_type": "execute_result"
    }
   ],
   "source": [
    "list(map(lambda i:i*i*i,list1))"
   ]
  },
  {
   "cell_type": "code",
   "execution_count": null,
   "id": "e5b44737-efb7-4547-8eb0-7be092e41e68",
   "metadata": {},
   "outputs": [],
   "source": [
    "list1=[1,2,3]\n",
    "list2=[11,22,33]\n",
    "\n",
    "#output [12,24,36]"
   ]
  },
  {
   "cell_type": "code",
   "execution_count": 20,
   "id": "599efb40-388e-41b4-8232-985e6a4a9502",
   "metadata": {},
   "outputs": [
    {
     "name": "stdout",
     "output_type": "stream",
     "text": [
      "12\n",
      "24\n",
      "36\n"
     ]
    }
   ],
   "source": [
    "\n",
    "list1=[1,2,3]\n",
    "list2=[11,22,33]\n",
    "for i,j in zip(list1,list2):\n",
    "    print(i+j)"
   ]
  },
  {
   "cell_type": "code",
   "execution_count": 21,
   "id": "c2e4f3fd-fb81-410d-b420-e2be76a9d9ac",
   "metadata": {},
   "outputs": [
    {
     "data": {
      "text/plain": [
       "(<function __main__.<lambda>(i, j)>, [1, 2, 3], [11, 22, 33])"
      ]
     },
     "execution_count": 21,
     "metadata": {},
     "output_type": "execute_result"
    }
   ],
   "source": [
    "lambda i,j:i+j,list1,list2"
   ]
  },
  {
   "cell_type": "code",
   "execution_count": 22,
   "id": "92f0203c-6320-4f01-8b2d-59eaf2b7a92d",
   "metadata": {},
   "outputs": [
    {
     "data": {
      "text/plain": [
       "[12, 24, 36]"
      ]
     },
     "execution_count": 22,
     "metadata": {},
     "output_type": "execute_result"
    }
   ],
   "source": [
    "list(map(lambda i,j:i+j,list1,list2))"
   ]
  },
  {
   "cell_type": "code",
   "execution_count": null,
   "id": "2603dea3-c306-4eb0-94b7-31434898a818",
   "metadata": {},
   "outputs": [],
   "source": [
    "list1=[\"h#d\",\"mum#bai\",\"banglore\",\"de#hi\"]\n",
    "\n",
    "#print which have # "
   ]
  },
  {
   "cell_type": "code",
   "execution_count": 23,
   "id": "f94378f8-4e3c-452c-a51d-b5b777f80543",
   "metadata": {},
   "outputs": [
    {
     "name": "stdout",
     "output_type": "stream",
     "text": [
      "['h#d', 'mum#bai', 'de#hi']\n"
     ]
    }
   ],
   "source": [
    "list1=[\"h#d\",\"mum#bai\",\"banglore\",\"de#hi\"]\n",
    "\n",
    "list2=[]\n",
    "for i in list1:\n",
    "    if \"#\" in i:\n",
    "        list2.append(i)\n",
    "\n",
    "print(list2)"
   ]
  },
  {
   "cell_type": "code",
   "execution_count": 24,
   "id": "1276e27f-7449-4eca-a52f-c20c8187e1bd",
   "metadata": {},
   "outputs": [
    {
     "data": {
      "text/plain": [
       "['h#d', 'mum#bai', 'de#hi']"
      ]
     },
     "execution_count": 24,
     "metadata": {},
     "output_type": "execute_result"
    }
   ],
   "source": [
    "[i for i in list1 if \"#\" in i]"
   ]
  },
  {
   "cell_type": "code",
   "execution_count": 26,
   "id": "b302724c-c71d-4e2e-b6e8-4e2e5be85986",
   "metadata": {},
   "outputs": [
    {
     "ename": "SyntaxError",
     "evalue": "expected 'else' after 'if' expression (2333797859.py, line 1)",
     "output_type": "error",
     "traceback": [
      "\u001b[1;36m  Cell \u001b[1;32mIn[26], line 1\u001b[1;36m\u001b[0m\n\u001b[1;33m    lambda i:i if \"#\" in i,list1\u001b[0m\n\u001b[1;37m             ^\u001b[0m\n\u001b[1;31mSyntaxError\u001b[0m\u001b[1;31m:\u001b[0m expected 'else' after 'if' expression\n"
     ]
    }
   ],
   "source": [
    "lambda i:i if \"#\" in i,list1"
   ]
  },
  {
   "cell_type": "raw",
   "id": "2f783000-d809-4888-9289-39270fe4b943",
   "metadata": {},
   "source": [
    "lambda <arg>:<condition>,<iterator>"
   ]
  },
  {
   "cell_type": "code",
   "execution_count": 27,
   "id": "a2735a39-9c50-4013-9e8d-8819c5a0a680",
   "metadata": {},
   "outputs": [
    {
     "data": {
      "text/plain": [
       "[True, True, False, True]"
      ]
     },
     "execution_count": 27,
     "metadata": {},
     "output_type": "execute_result"
    }
   ],
   "source": [
    "list(map(lambda i:\"#\" in i,list1))"
   ]
  },
  {
   "cell_type": "code",
   "execution_count": 28,
   "id": "a597fe53-5d1c-4819-b786-1dcd6efd87a0",
   "metadata": {},
   "outputs": [
    {
     "data": {
      "text/plain": [
       "['h#d', 'mum#bai', 'de#hi']"
      ]
     },
     "execution_count": 28,
     "metadata": {},
     "output_type": "execute_result"
    }
   ],
   "source": [
    "list(filter(lambda i:\"#\" in i,list1))"
   ]
  },
  {
   "cell_type": "code",
   "execution_count": 29,
   "id": "7d0f0992-7afa-415c-89b7-79be81523477",
   "metadata": {},
   "outputs": [
    {
     "data": {
      "text/plain": [
       "True"
      ]
     },
     "execution_count": 29,
     "metadata": {},
     "output_type": "execute_result"
    }
   ],
   "source": [
    "list1=[\"h#d\",\"mum#bai\",\"banglore\",\"de#hi\"]\n",
    "\"#\" in \"h#d\""
   ]
  },
  {
   "cell_type": "raw",
   "id": "f4b3831e-b419-45a0-9170-143682f88f74",
   "metadata": {},
   "source": [
    "types of files :-\n",
    ".txt\n",
    ".csv comma separated values\n",
    ".xlsx\n",
    ".json (dictionary format)\n",
    ".xml (IOT files)\n",
    ".parquet (encoded files)\n",
    ".delta (encoded files)\n",
    ".pdf\n",
    ".jpg\n",
    ".png\n",
    "\n",
    "\n",
    "#notes \n",
    "\n",
    "-where is your located\n",
    "-what is your files names\n",
    "-what is the types of files\n",
    "\n"
   ]
  },
  {
   "cell_type": "code",
   "execution_count": null,
   "id": "1b2a907e-a603-4ee6-b4f7-db78167095f6",
   "metadata": {},
   "outputs": [],
   "source": [
    "#eg:-\n",
    "\n",
    "file_location =\"c:\\User\\\"\n",
    "file_name=\"\"\n",
    "extension=\".txt\"\n"
   ]
  },
  {
   "cell_type": "code",
   "execution_count": null,
   "id": "d4b3613d-98a4-4f06-a2c0-147e9eaa07e4",
   "metadata": {},
   "outputs": [],
   "source": [
    "file_location+file_name+extension"
   ]
  },
  {
   "cell_type": "code",
   "execution_count": null,
   "id": "766708c3-04e2-4f24-8967-6b808a7b1277",
   "metadata": {},
   "outputs": [],
   "source": [
    "use double slash \"\\\\\""
   ]
  },
  {
   "cell_type": "code",
   "execution_count": 32,
   "id": "2d1e624d-702c-4f36-b26d-c59364364a6e",
   "metadata": {},
   "outputs": [
    {
     "ename": "NameError",
     "evalue": "name 'file_path' is not defined",
     "output_type": "error",
     "traceback": [
      "\u001b[1;31m---------------------------------------------------------------------------\u001b[0m",
      "\u001b[1;31mNameError\u001b[0m                                 Traceback (most recent call last)",
      "Cell \u001b[1;32mIn[32], line 1\u001b[0m\n\u001b[1;32m----> 1\u001b[0m \u001b[38;5;28mopen\u001b[39m(\u001b[43mfile_path\u001b[49m,encoding\u001b[38;5;241m=\u001b[39m\u001b[38;5;124m\"\u001b[39m\u001b[38;5;124mutf-8-sig\u001b[39m\u001b[38;5;124m\"\u001b[39m)\n",
      "\u001b[1;31mNameError\u001b[0m: name 'file_path' is not defined"
     ]
    }
   ],
   "source": [
    "open(file_path,encoding=\"utf-8-sig\")"
   ]
  },
  {
   "cell_type": "raw",
   "id": "a61333a8-ca45-4a09-9e3a-ea0dd22c6fb5",
   "metadata": {},
   "source": [
    "\"utf-8\" or \"cp-1252\""
   ]
  },
  {
   "cell_type": "raw",
   "id": "21572742-82b5-4d26-90af-a37933c87cc4",
   "metadata": {},
   "source": [
    "#n: new line\n",
    "#t: tab\n",
    "\n"
   ]
  },
  {
   "cell_type": "code",
   "execution_count": 33,
   "id": "cacae7f6-d564-4096-ab60-82999c6c212d",
   "metadata": {},
   "outputs": [],
   "source": [
    "import os"
   ]
  },
  {
   "cell_type": "code",
   "execution_count": 34,
   "id": "ba43cf5a-9701-4cb5-9c62-7beecaa878ba",
   "metadata": {},
   "outputs": [
    {
     "data": {
      "text/plain": [
       "'C:\\\\Users\\\\hp'"
      ]
     },
     "execution_count": 34,
     "metadata": {},
     "output_type": "execute_result"
    }
   ],
   "source": [
    "os.getcwd()"
   ]
  },
  {
   "cell_type": "code",
   "execution_count": null,
   "id": "06aae145-4a03-4481-9008-dd3f148e306d",
   "metadata": {},
   "outputs": [],
   "source": [
    "#data file and python file both are in same location \n",
    "#file_name+extension\n",
    "#no need to provide location\n",
    "\n",
    "# note: data file and python file in same location\n",
    "\n"
   ]
  },
  {
   "cell_type": "code",
   "execution_count": 35,
   "id": "fb866d67-9858-409b-bd0a-e368ef4715b9",
   "metadata": {},
   "outputs": [
    {
     "ename": "TypeError",
     "evalue": "chdir() missing required argument 'path' (pos 1)",
     "output_type": "error",
     "traceback": [
      "\u001b[1;31m---------------------------------------------------------------------------\u001b[0m",
      "\u001b[1;31mTypeError\u001b[0m                                 Traceback (most recent call last)",
      "Cell \u001b[1;32mIn[35], line 2\u001b[0m\n\u001b[0;32m      1\u001b[0m \u001b[38;5;66;03m#change directory\u001b[39;00m\n\u001b[1;32m----> 2\u001b[0m \u001b[43mos\u001b[49m\u001b[38;5;241;43m.\u001b[39;49m\u001b[43mchdir\u001b[49m\u001b[43m(\u001b[49m\u001b[43m)\u001b[49m\n",
      "\u001b[1;31mTypeError\u001b[0m: chdir() missing required argument 'path' (pos 1)"
     ]
    }
   ],
   "source": [
    "#change directory\n",
    "os.chdir()"
   ]
  },
  {
   "cell_type": "code",
   "execution_count": 36,
   "id": "1eb9e69c-bc8b-4966-bf06-492a1b36a440",
   "metadata": {},
   "outputs": [],
   "source": [
    "path=\"C:\\\\Users\\\\hp\\\\OneDrive\\\\Documents\"\n",
    "os.chdir(path)"
   ]
  },
  {
   "cell_type": "code",
   "execution_count": 37,
   "id": "1ad3eff7-12b1-4e67-a339-d7c08ab6b187",
   "metadata": {},
   "outputs": [
    {
     "data": {
      "text/plain": [
       "'C:\\\\Users\\\\hp\\\\OneDrive\\\\Documents'"
      ]
     },
     "execution_count": 37,
     "metadata": {},
     "output_type": "execute_result"
    }
   ],
   "source": [
    "os.getcwd()"
   ]
  },
  {
   "cell_type": "markdown",
   "id": "2ac550fa-311b-4567-9837-22684afbd0cc",
   "metadata": {},
   "source": [
    "# With"
   ]
  },
  {
   "cell_type": "code",
   "execution_count": 38,
   "id": "2c974ef2-bf1a-451a-a137-237b2b679d9e",
   "metadata": {},
   "outputs": [
    {
     "name": "stdout",
     "output_type": "stream",
     "text": [
      "This session has been summarized by AI\n",
      "and hence is subject to some issues.\n",
      "\n",
      "- Rajneesh Kumar introduced himself and the class approach of discussing theory, solutions, and practice problems\n",
      "- Balancing time and space complexity is important and different search methods for data sets were discussed\n",
      "- Mapping negative indices to positive indices in arrays expands the range of possible numbers\n",
      "- N square loop and complexity calculations were explained along with the importance of good coding practices\n",
      "- Summation calculation and logarithmic notation were discussed for data searching\n",
      "- The Dutch national flag algorithm was introduced to optimize segregation in an array of 0s and 1s\n",
      "- An algorithm for quicksort and segregating an array containing 0, 1, and 2 were explained\n",
      "- Pivot implementation in quicksort and the two-pivot quicksort were discussed\n",
      "- Diagrams were recommended to visualize and solve problems related to sorted arrays and elevation\n",
      "- Solving problems optimally in a two-pointer method was discussed, along with the Dexter algorithm in graph\n",
      "- The class questions are unique and not readily available on the internet\n",
      "- Good coding practices and going back to basics are important, and the next session will be on Saturday.\n",
      "This session has been summarized by AI\n",
      "and hence is subject to some issues.\n",
      "\n",
      "- Rajneesh Kumar introduced himself and the class approach of discussing theory, solutions, and practice problems\n",
      "- Balancing time and space complexity is important and different search methods for data sets were discussed\n",
      "- Mapping negative indices to positive indices in arrays expands the range of possible numbers\n",
      "- N square loop and complexity calculations were explained along with the importance of good coding practices\n",
      "- Summation calculation and logarithmic notation were discussed for data searching\n",
      "- The Dutch national flag algorithm was introduced to optimize segregation in an array of 0s and 1s\n",
      "- An algorithm for quicksort and segregating an array containing 0, 1, and 2 were explained\n",
      "- Pivot implementation in quicksort and the two-pivot quicksort were discussed\n",
      "- Diagrams were recommended to visualize and solve problems related to sorted arrays and elevation\n",
      "- Solving problems optimally in a two-pointer method was discussed, along with the Dexter algorithm in graph\n",
      "- The class questions are unique and not readily available on the internet\n",
      "- Good coding practices and going back to basics are important, and the next session will be on Saturday.\n"
     ]
    }
   ],
   "source": [
    "file_path=\"Summary.txt\"\n",
    "file=open(file_path,encoding=\"utf-8-sig\")\n",
    "print(file.read())\n",
    "\n",
    "with open(file_path) as file:\n",
    "    data=file.read()\n",
    "\n",
    "print(data)\n",
    "\n",
    "\n",
    "\n",
    "    "
   ]
  },
  {
   "cell_type": "markdown",
   "id": "3b50f1d0-99e7-40e2-a40e-3cf0b0add7c6",
   "metadata": {},
   "source": [
    "# how to read data "
   ]
  },
  {
   "cell_type": "code",
   "execution_count": 39,
   "id": "752b72dd-f55b-4a1b-8c7b-f234fa50e5d6",
   "metadata": {},
   "outputs": [
    {
     "name": "stdout",
     "output_type": "stream",
     "text": [
      "========  Common Points===============\n",
      "=>No fixed format for resume..\n",
      "=> Number of pages  ( Doc should be short and sweet document)   (1 side printing)\n",
      "          fresher  -> 2-3 pages (max)        \n",
      "\t  1 year of experience  -> 2-3 pages (max)\n",
      "\t  2 years of experience  -> 3-4 pages (max)\n",
      "\t  3/4/5 years of experience  -> 4-5 pages (max)\n",
      "=> Professional fonts     Arial, verdana , Consolas, TimesNewRoman , callibri \n",
      "=> Font sizes :: as required     (12-16  :: normal text)\n",
      "                                                      (14-18 (B) ::  side headings)\n",
      "\t\t\t\t\t\t      (20-24 (b)  :: main heading)\n",
      "=>No border\n",
      "=> Justify the paragraphs\n",
      "=> Uniform Look Through out the document..\n",
      "=>No Spell mistakes  and No Grametical  mistakes\n",
      "=>As as fresher  ::  CV  (More academic details)\n",
      "=>As Experienced  :: Resume or CV (More Proffessional Information)\n",
      "\n",
      "=============Section 1   (HEader Section) ==========================\n",
      "=> name ::  <first name>  <surname>\n",
      "=> Java certification  Logo (o  or more)  (if  there)\n",
      "=>Write java certification exams after joining the company ... when u r in free pool (bench)\n",
      "       https://en.wikipedia.org/wiki/Oracle_Certification_Program   (     Certification exams list )\n",
      "       https://www.brainbench.com/xml/bb/common/testcenter/freetests.xml  (Free Certifications)\n",
      "       http://www.dump4exam.com/ocjp.html  (for ocjp dumps)\n",
      "=> Java fresher ::    Amcat, Elitmus , hackerrank  exams\n",
      "=> Java experience ::       java certifications logos + Scrum(agile) logos  (0 or more)\n",
      "----------------------------------------------------------------------------------------------------------------------------------------------\n",
      "   ================  Section 2     Career Objective  for Fresher ===================  (not required for experienced)\n",
      "    -->  collect  content  from internet / friend   CV  but  understand its   meaning  to face the  counter  queries\n",
      "Q)Down the line , after 5 years where want see u r self?\n",
      "    ans1) Now i  am java developer.. but i want to become  java full stack developer \n",
      "    ans2) Want to become java subject expert\n",
      "    ans3)  want to become  key player/resource in the Organization\n",
      "\n",
      "   ================  Section 2     Experience Summary for Experienced ===================  (not required for Fresher)\n",
      "       -->  place  minimum   6- 10 points  about  Experience summary  , In that   70% on  technology  stack    and   30% on  personality   \n",
      "\n",
      " Why  should  we hire u ?    \n",
      "   Ans) In a given  situation, i can put my best efforts to work for organization which helps me and \n",
      "         organization to grow  using my technical, interpersonal and leadership qualities\n",
      "\n",
      "  ================ section  3   (Achievements)   for  fresher======== \n",
      "          -> keep   1 or more  academic achievements  ,  if  do not have cooked up  1 or 2  achievements\n",
      "  ================ section  3   (Achievements)   for  Experienced======== \n",
      "          --> keep  4-5 points    , In that  3 points   on  career related achievements  and  2 points on   academic  achievements\n",
      "    \n",
      "What is u r weakness?\n",
      "    Ans1) if i struck up somewhere in the work.. i will spend more time for perfection with out worrying about\n",
      "              deadlines  and  other  taks that are assigned\n",
      "    Ans2)  Being from village , my  english vocabulary is not so good ,i want to improve\n",
      "    Ans3)  Lazy to get up in the mornings.. but i want to resolve it to utilize day time more effectively..\n",
      "    Ans4)  I am bit sensitive or  overreacting person .. I want to make my self strong and more workholic person \n",
      "\n",
      "======================= section 4  for   the freshers   (Strengths) =================\n",
      "          write  few  points  about     u r  personality\n",
      "\n",
      "  ========================== SEction 4 for  experienced  (Experience  Profile)============\n",
      "           --> keep  companies  info  last to  first  including  month and year  details\n",
      "          note::   Better  to  show  experience as   contract employee in  big companies   when  u  r arranging the docs\n",
      "          note::   if  any  company allowing only  perminent  job role  people  to apply  we need to keep original  company  on  whom  u got the  docs\n",
      "  ========================== Section 5  Academic  profile for  fresher =================\n",
      "        ->  keep  highest  qualification to  lowest qualification  in  the  form  table\n",
      "        ->  if  academic percentages are good  highlight  them otherwise  hide them\n",
      "  ========================== Section 5  Academic  profile for  Experienced =================\n",
      "       -->  Only One line   specifying  about  highest  qualification  either graduation /post graduation  , No  need of keeping table\n",
      "\n",
      "    Q)why  there is  downfall in u r academic percentages?\n",
      "     Ans) initially , i used mug up the answers... later i started understanding and analyzing the subject.. which\n",
      "     effected my academic percentages...\n",
      "\n",
      "      Q)why  there is  growth in u r academic percentages?\n",
      "          Ans)   initially i studied  in the  small village /small town  , there  less competition and less facilities  \n",
      "                       for graduation  i  moved  city where i found more  facilities and  competition  \n",
      "\n",
      "      Q) Why did u take much time to complete u r graduation?\n",
      "             a) Financial problem in  the family .. did job for few years to support family\n",
      "\t     b) Main Family member is expired --Taken care of family business\n",
      "\n",
      "      Q)  Why there are gaps in u r academics   ?\n",
      "               Above reasons +\n",
      "\t                 Social work  (or) spiritual life (or)  Entrance exam preparation   (or) govt job preparation\n",
      "\n",
      "       Q) why are coming to IT industry as non-IT graduate?\n",
      "                Ans1) From the childhood i am interested  in computers.. but i could not get engineering seat in that stream.. but\n",
      "\t\t          from the beginning  i was learning IT related technologies.. So i am pursuing  IT career.\n",
      "             Ans2)  People misguided me  while choosing courses of engineering because of IT sector recession ... But i later\n",
      "\t             realized      IT is feture .. So i am pursuing IT career\n",
      "             Ans3) While using mobile Apps like  Flipkart.. i am very impressed .. i felt like entire word in\n",
      "\t             my pocket.. So i attracted to IT sector\n",
      "\t\t     note ::: lastly off course .. there are more  openings and packages in IT sector... even quality life..\n",
      "\t        \n",
      "\t\tnatarazjavaarena --->FB group..\n",
      "\n",
      "                --------------------------------section 6--------------------------------Fresher Technical Profile---------------\n",
      "\t         \n",
      "\t       =>   Core java + adv.java + spring/spring boot f/w +oracle+tools+server+...   (to place in resume)\n",
      "\t       = > CRT  (Aptitude +reasoning + verbal  +basic maths +puzzles and etc -- soft skills)  (Not required to place in resume)\n",
      "\n",
      "             As a Fresher  how do u rate u r self in java ?\n",
      "\t        Ans )  on the scale 1 to 10  , I rate my rate my self   7  (choose b/w 5.5 to 8.5)\n",
      "\n",
      "\t\tAs experienced  how do u rate u r self in java ?\n",
      "\t        Ans )  on the scale 1 to 10  , I rate my rate my self   8  (choose b/w 7 to 9.5)\n",
      "\n",
      "\t\tCan u work on new Technology which is relevant to java?\n",
      "\t\t     Ans)  get name of the Technology ... then accept it or reject it.\n",
      "\n",
      "note:: if u have done any internship  with any company as fresher then we can\n",
      "             put it as experience  .. (but company do not considers it)\n",
      "note::    As experienced  person   ,  we  can  apply for the jobs   as java domain job seeker  i.e  we can  demand to work only in  java domain  jobs\n",
      "                 As    java fresher   we  can not  try  u  r  self     as  java  engineer and  u can  not  demand  job in java domain  i.e  as as fresher  we must be\n",
      "                 ready to work in any  domain\n",
      "\n",
      "-------------------------------section  6    Technical profile  for   experienced --------------------------------\n",
      "          ->  for  3/4  years of  experience  in java  ,  we need to specify   java , jse  technologies ,  jee technologies, servers, angular/reactjs , spring,spring boot,\n",
      "                web services ,  aws cloud ,    java tools , devops  tools  and etc...\n",
      "          --> No  need of  learning  and specifying    softskills \n",
      "   \n",
      "  How to evaluate  the number  of  years  of experience to claim?       \n",
      "      case1:: MCA fresher \n",
      "                       Graduation  +  3  years  of experience\n",
      "      case2::  M.sc/M.Tech  Fresher\n",
      "                      Graduation  +  2  years  of experience\n",
      "        \n",
      "      case3:: after M.Tech   2 years gap \n",
      "                      M.tech  + 2 years  of experience\n",
      "                     B.tech  +   4  years of experience\n",
      "       case4 ::   After b.tech  tried  govt job  6  years         \n",
      "                      initial 1/2  years Non-IT Experience\n",
      "                      last  5/4  years   IT  Experience\n",
      "       case5  ::  2013   B.tech pass out\n",
      "                 In  11 years  of experience    initial   7  years   in  Non-IT\n",
      "                last 4 years     in IT \n",
      "       case6 ::   B.sc/B.com/BA/...   +  2 years gap\n",
      "                    --> 2  years  gap as experience\n",
      "       case7:: after 10+2  two  years gap  and  current b.tech fresher\n",
      "                   try as  B.tech fresher ,  gap after the 10+2  can  not  be shown as the experience\n",
      "                 only  the gaps that are after  graduation /post graduation can be shown as the experience  \n",
      "        \n",
      "   why same company has not recruited u as employee from the internship ?\n",
      "        Ans)  I want to learn and work on latest technologies ... in Java domain..\n",
      "\t        But they offered job on old technologies.  (like struts, jsf,  Soap based webservices,....)\n",
      "                 \n",
      "    why did u not  joined in the other  company  which  offered u  job?\n",
      "         Ans)  I want learn and work on latest technologies ... in Java domain..\n",
      "\t        But they offered me job on old technologies.\n",
      "         \n",
      "  we can get experience  docs in two ways\n",
      "        a)  As Permanent Employee   (Good but will not work out some times)\n",
      "\t b) As Contract employee of MNC   ( will work out most of the times)\n",
      "\n",
      "\t   Avoid going to   Accenture ,  infosys , MicroSoft, TCS,IBM ,.....\n",
      "\n",
      "\t   http://www.mca.gov.in/  (To check wheather company is registered or not?)\n",
      "\n",
      " What about bank statements?\n",
      "   =>manage on u r own by depositing money into private sector bank account..\n",
      "       through  Consultancy company reflecting company name or salary word\n",
      "         int the statement..  (start  this  process before 8 months of  job trails)\n",
      "\n",
      "  How many companies  to  show in the  experience?\n",
      "   =>  upto 3 to 4 yeas 1 company ok\n",
      "    =>  more than 3/4 years  better to  show two  companies\n",
      "     (note:: Min 1/1.5 years of experience in every company makes u r profile\n",
      "       as stable profile)\n",
      "\n",
      "   How to manage more &more gap (above 4/5 years) as experience?\n",
      "       Ans) divide exp into  \n",
      "                  a) relevant experience  (IT experience)\n",
      "\t\t   b) irrelevant experience  (Non-IT experience)\n",
      "\t\t   \n",
      "  =================Section  7================  Projects  =============================\n",
      "         note::   The way  we keep information  about projects in the resume  is going  to  be same  for  both fresher and  experienced ,  the only  thing that\n",
      "                         changes is    no.of projects we keep\n",
      "\n",
      "      Fresher ::    IT /CS background  -->  2 s/w projects   1 major + 1 mini\n",
      "                            NoN IT Engg -->  2 Projects  1 core  area project + 1 s/w project\n",
      "\t\t\t      Non IT -Non Engg(BCA,B.sc) --> 1 s/w project\n",
      "\t\t\t      \n",
      "\t\t\t       To get Projects :\n",
      "\t\t\t        ---------------------\n",
      "\t\t\t\t  a) U r engg /MCA projects\n",
      "\t\t\t\t  b) From  engg friend\n",
      "\t\t\t\t  c) from GITHUB.com  and etc..\n",
      "                                        d)  from  NareshIT  JRTP batch\n",
      "\n",
      "    Experienced ::     1 year ::   1 Project                      (any Project max 10 months)\n",
      "                                    2 years ::  2- 3 projects\n",
      "\t\t\t\t    3 year  :: 3-4 projects \n",
      "\t\t\t\t    4 year  ::  4-5 projects\n",
      "\n",
      "\t\t\t\t    To get these Projeccts\n",
      "\t\t\t\t    -------------------------------\n",
      "                                   a) NareshIT  Realtime Project batch   (best)\n",
      "\t\t\t\t   b) Working  friend or relative\n",
      "\t\t\t\t   c) Github.com\n",
      "\t\t\t\t   d) Class room MiniProjects Enhacements..\n",
      "\n",
      "  Order of  keeping content   in Project profile\n",
      "            a) Project title  & other information\n",
      "            b)  Technical Stack\n",
      "            c)  Brief  Description about the project in 2 or 3 paragraphs\n",
      "            d)  roles and responsibilities\n",
      "\n",
      "=============section  7   person profile ============================\n",
      "   #  write   personal info\n",
      "\n",
      "HR  Interview questions for experienced\n",
      "===================================\n",
      "    Q)After  how many days u  can join in my company ?\n",
      "             ans) In most of companies  2-3 months   notice period will be there , So u  can join the  in company once the  notice period is completed\n",
      "\n",
      "    Q) why are u leaving existing company?\n",
      "                 ans)  To  work  in new   projects  in which   new technologies and  frameworks will be used\n",
      "\n",
      "    q) Why should we hire u?  (or)  what  makes u  different from others ?\n",
      "\n",
      "\n",
      "    Q)  are u ready to relocate ?\n",
      "            A) yes \n",
      "\n",
      "    q) What is expected CTC?    CTC :: Cost To company --Per Anum Salary\n",
      "              =>  30% to 50% hike on existing CTC   (Good performence)\n",
      "\t      =>   30% 70 %  hike on existing CTC   (Best performence)\n",
      "\t         Existing CTC\n",
      "                    Fresher ::  3.0/3.5L\n",
      "\t           1+ years of experienced ---->  3.5L to  4.5L\n",
      "\t\t   2+ years of experienced  --->  4.5L  to 6.5L\n",
      "\t\t   3+ years of experienced  -->  6.5L  to  9.0L\n",
      "                      4+ years of experienced  -->  9.0L  to  12.0L\n",
      "    \n",
      "   Q) what is take home salary  ?   (per month  salary)\n",
      "               CTC/12  -    20% of CTC\n",
      "\n",
      "   HR Questions for  FReshers\n",
      "   =======================\n",
      "     Q)  Down the line 10 years, where u want to see u r self?\n",
      "     Ans)\n",
      "\n",
      "     Q)  What is u r weakness ?\n",
      "\n",
      "     Q) Introduce u r self or Tell about ur self?\n",
      "\n",
      "     Q)  Most imp incident in u r life?\n",
      "\n",
      "     Q) Why did u choose our company?\n",
      "\n",
      "     Q) why should we hire u ?\n",
      "\n",
      "\n",
      "\n",
      "\n",
      "              \n",
      "\n",
      "\n",
      "\n",
      "\n",
      "\n",
      "\n",
      "\t        \n",
      "\n",
      "\n",
      "\n",
      "\n",
      "\n",
      "\n",
      "     \n",
      "\n",
      "\n",
      "\n",
      "\n",
      "\n",
      "\n",
      "\n",
      "\n",
      "\t  \n"
     ]
    }
   ],
   "source": [
    "####################### M-1 ###############\n",
    "\n",
    "file_path=\"C:\\\\Users\\\\hp\\\\OneDrive\\\\Pictures\\\\resume_workshop.txt\"\n",
    "file=open(file_path,encoding=\"utf-8-sig\")\n",
    "print(file.read())"
   ]
  },
  {
   "cell_type": "code",
   "execution_count": 43,
   "id": "0dfa41c3-6b76-40c5-9f6d-155108574927",
   "metadata": {},
   "outputs": [
    {
     "ename": "UnicodeDecodeError",
     "evalue": "'charmap' codec can't decode byte 0x9d in position 834: character maps to <undefined>",
     "output_type": "error",
     "traceback": [
      "\u001b[1;31m---------------------------------------------------------------------------\u001b[0m",
      "\u001b[1;31mUnicodeDecodeError\u001b[0m                        Traceback (most recent call last)",
      "Cell \u001b[1;32mIn[43], line 5\u001b[0m\n\u001b[0;32m      3\u001b[0m file_path\u001b[38;5;241m=\u001b[39m\u001b[38;5;124m\"\u001b[39m\u001b[38;5;124mFresher_Resume.doc\u001b[39m\u001b[38;5;124m\"\u001b[39m\n\u001b[0;32m      4\u001b[0m \u001b[38;5;28;01mwith\u001b[39;00m \u001b[38;5;28mopen\u001b[39m(file_path) \u001b[38;5;28;01mas\u001b[39;00m file:\n\u001b[1;32m----> 5\u001b[0m     data\u001b[38;5;241m=\u001b[39m\u001b[43mfile\u001b[49m\u001b[38;5;241;43m.\u001b[39;49m\u001b[43mread\u001b[49m\u001b[43m(\u001b[49m\u001b[43m)\u001b[49m\n",
      "File \u001b[1;32m~\\anaconda3\\Lib\\encodings\\cp1252.py:23\u001b[0m, in \u001b[0;36mIncrementalDecoder.decode\u001b[1;34m(self, input, final)\u001b[0m\n\u001b[0;32m     22\u001b[0m \u001b[38;5;28;01mdef\u001b[39;00m \u001b[38;5;21mdecode\u001b[39m(\u001b[38;5;28mself\u001b[39m, \u001b[38;5;28minput\u001b[39m, final\u001b[38;5;241m=\u001b[39m\u001b[38;5;28;01mFalse\u001b[39;00m):\n\u001b[1;32m---> 23\u001b[0m     \u001b[38;5;28;01mreturn\u001b[39;00m \u001b[43mcodecs\u001b[49m\u001b[38;5;241;43m.\u001b[39;49m\u001b[43mcharmap_decode\u001b[49m\u001b[43m(\u001b[49m\u001b[38;5;28;43minput\u001b[39;49m\u001b[43m,\u001b[49m\u001b[38;5;28;43mself\u001b[39;49m\u001b[38;5;241;43m.\u001b[39;49m\u001b[43merrors\u001b[49m\u001b[43m,\u001b[49m\u001b[43mdecoding_table\u001b[49m\u001b[43m)\u001b[49m[\u001b[38;5;241m0\u001b[39m]\n",
      "\u001b[1;31mUnicodeDecodeError\u001b[0m: 'charmap' codec can't decode byte 0x9d in position 834: character maps to <undefined>"
     ]
    }
   ],
   "source": [
    "############## m-3 ##################\n",
    "\n",
    "file_path=\"Fresher_Resume.doc\"\n",
    "with open(file_path) as file:\n",
    "    data=file.read()"
   ]
  },
  {
   "cell_type": "code",
   "execution_count": 46,
   "id": "e275e5f6-67b4-4aa5-a6b2-f453852cbceb",
   "metadata": {},
   "outputs": [
    {
     "name": "stdout",
     "output_type": "stream",
     "text": [
      "========  Common Points===============\n",
      "=>No fixed format for resume..\n",
      "=> Number of pages  ( Doc should be short and sweet document)   (1 side printing)\n",
      "          fresher  -> 2-3 pages (max)        \n",
      "\t  1 year of experience  -> 2-3 pages (max)\n",
      "\t  2 years of experience  -> 3-4 pages (max)\n",
      "\t  3/4/5 years of experience  -> 4-5 pages (max)\n",
      "=> Professional fonts     Arial, verdana , Consolas, TimesNewRoman , callibri \n",
      "=> Font sizes :: as required     (12-16  :: normal text)\n",
      "                                                      (14-18 (B) ::  side headings)\n",
      "\t\t\t\t\t\t      (20-24 (b)  :: main heading)\n",
      "=>No border\n",
      "=> Justify the paragraphs\n",
      "=> Uniform Look Through out the document..\n",
      "=>No Spell mistakes  and No Grametical  mistakes\n",
      "=>As as fresher  ::  CV  (More academic details)\n",
      "=>As Experienced  :: Resume or CV (More Proffessional Information)\n",
      "\n",
      "=============Section 1   (HEader Section) ==========================\n",
      "=> name ::  <first name>  <surname>\n",
      "=> Java certification  Logo (o  or more)  (if  there)\n",
      "=>Write java certification exams after joining the company ... when u r in free pool (bench)\n",
      "       https://en.wikipedia.org/wiki/Oracle_Certification_Program   (     Certification exams list )\n",
      "       https://www.brainbench.com/xml/bb/common/testcenter/freetests.xml  (Free Certifications)\n",
      "       http://www.dump4exam.com/ocjp.html  (for ocjp dumps)\n",
      "=> Java fresher ::    Amcat, Elitmus , hackerrank  exams\n",
      "=> Java experience ::       java certifications logos + Scrum(agile) logos  (0 or more)\n",
      "----------------------------------------------------------------------------------------------------------------------------------------------\n",
      "   ================  Section 2     Career Objective  for Fresher ===================  (not required for experienced)\n",
      "    -->  collect  content  from internet / friend   CV  but  understand its   meaning  to face the  counter  queries\n",
      "Q)Down the line , after 5 years where want see u r self?\n",
      "    ans1) Now i  am java developer.. but i want to become  java full stack developer \n",
      "    ans2) Want to become java subject expert\n",
      "    ans3)  want to become  key player/resource in the Organization\n",
      "\n",
      "   ================  Section 2     Experience Summary for Experienced ===================  (not required for Fresher)\n",
      "       -->  place  minimum   6- 10 points  about  Experience summary  , In that   70% on  technology  stack    and   30% on  personality   \n",
      "\n",
      " Why  should  we hire u ?    \n",
      "   Ans) In a given  situation, i can put my best efforts to work for organization which helps me and \n",
      "         organization to grow  using my technical, interpersonal and leadership qualities\n",
      "\n",
      "  ================ section  3   (Achievements)   for  fresher======== \n",
      "          -> keep   1 or more  academic achievements  ,  if  do not have cooked up  1 or 2  achievements\n",
      "  ================ section  3   (Achievements)   for  Experienced======== \n",
      "          --> keep  4-5 points    , In that  3 points   on  career related achievements  and  2 points on   academic  achievements\n",
      "    \n",
      "What is u r weakness?\n",
      "    Ans1) if i struck up somewhere in the work.. i will spend more time for perfection with out worrying about\n",
      "              deadlines  and  other  taks that are assigned\n",
      "    Ans2)  Being from village , my  english vocabulary is not so good ,i want to improve\n",
      "    Ans3)  Lazy to get up in the mornings.. but i want to resolve it to utilize day time more effectively..\n",
      "    Ans4)  I am bit sensitive or  overreacting person .. I want to make my self strong and more workholic person \n",
      "\n",
      "======================= section 4  for   the freshers   (Strengths) =================\n",
      "          write  few  points  about     u r  personality\n",
      "\n",
      "  ========================== SEction 4 for  experienced  (Experience  Profile)============\n",
      "           --> keep  companies  info  last to  first  including  month and year  details\n",
      "          note::   Better  to  show  experience as   contract employee in  big companies   when  u  r arranging the docs\n",
      "          note::   if  any  company allowing only  perminent  job role  people  to apply  we need to keep original  company  on  whom  u got the  docs\n",
      "  ========================== Section 5  Academic  profile for  fresher =================\n",
      "        ->  keep  highest  qualification to  lowest qualification  in  the  form  table\n",
      "        ->  if  academic percentages are good  highlight  them otherwise  hide them\n",
      "  ========================== Section 5  Academic  profile for  Experienced =================\n",
      "       -->  Only One line   specifying  about  highest  qualification  either graduation /post graduation  , No  need of keeping table\n",
      "\n",
      "    Q)why  there is  downfall in u r academic percentages?\n",
      "     Ans) initially , i used mug up the answers... later i started understanding and analyzing the subject.. which\n",
      "     effected my academic percentages...\n",
      "\n",
      "      Q)why  there is  growth in u r academic percentages?\n",
      "          Ans)   initially i studied  in the  small village /small town  , there  less competition and less facilities  \n",
      "                       for graduation  i  moved  city where i found more  facilities and  competition  \n",
      "\n",
      "      Q) Why did u take much time to complete u r graduation?\n",
      "             a) Financial problem in  the family .. did job for few years to support family\n",
      "\t     b) Main Family member is expired --Taken care of family business\n",
      "\n",
      "      Q)  Why there are gaps in u r academics   ?\n",
      "               Above reasons +\n",
      "\t                 Social work  (or) spiritual life (or)  Entrance exam preparation   (or) govt job preparation\n",
      "\n",
      "       Q) why are coming to IT industry as non-IT graduate?\n",
      "                Ans1) From the childhood i am interested  in computers.. but i could not get engineering seat in that stream.. but\n",
      "\t\t          from the beginning  i was learning IT related technologies.. So i am pursuing  IT career.\n",
      "             Ans2)  People misguided me  while choosing courses of engineering because of IT sector recession ... But i later\n",
      "\t             realized      IT is feture .. So i am pursuing IT career\n",
      "             Ans3) While using mobile Apps like  Flipkart.. i am very impressed .. i felt like entire word in\n",
      "\t             my pocket.. So i attracted to IT sector\n",
      "\t\t     note ::: lastly off course .. there are more  openings and packages in IT sector... even quality life..\n",
      "\t        \n",
      "\t\tnatarazjavaarena --->FB group..\n",
      "\n",
      "                --------------------------------section 6--------------------------------Fresher Technical Profile---------------\n",
      "\t         \n",
      "\t       =>   Core java + adv.java + spring/spring boot f/w +oracle+tools+server+...   (to place in resume)\n",
      "\t       = > CRT  (Aptitude +reasoning + verbal  +basic maths +puzzles and etc -- soft skills)  (Not required to place in resume)\n",
      "\n",
      "             As a Fresher  how do u rate u r self in java ?\n",
      "\t        Ans )  on the scale 1 to 10  , I rate my rate my self   7  (choose b/w 5.5 to 8.5)\n",
      "\n",
      "\t\tAs experienced  how do u rate u r self in java ?\n",
      "\t        Ans )  on the scale 1 to 10  , I rate my rate my self   8  (choose b/w 7 to 9.5)\n",
      "\n",
      "\t\tCan u work on new Technology which is relevant to java?\n",
      "\t\t     Ans)  get name of the Technology ... then accept it or reject it.\n",
      "\n",
      "note:: if u have done any internship  with any company as fresher then we can\n",
      "             put it as experience  .. (but company do not considers it)\n",
      "note::    As experienced  person   ,  we  can  apply for the jobs   as java domain job seeker  i.e  we can  demand to work only in  java domain  jobs\n",
      "                 As    java fresher   we  can not  try  u  r  self     as  java  engineer and  u can  not  demand  job in java domain  i.e  as as fresher  we must be\n",
      "                 ready to work in any  domain\n",
      "\n",
      "-------------------------------section  6    Technical profile  for   experienced --------------------------------\n",
      "          ->  for  3/4  years of  experience  in java  ,  we need to specify   java , jse  technologies ,  jee technologies, servers, angular/reactjs , spring,spring boot,\n",
      "                web services ,  aws cloud ,    java tools , devops  tools  and etc...\n",
      "          --> No  need of  learning  and specifying    softskills \n",
      "   \n",
      "  How to evaluate  the number  of  years  of experience to claim?       \n",
      "      case1:: MCA fresher \n",
      "                       Graduation  +  3  years  of experience\n",
      "      case2::  M.sc/M.Tech  Fresher\n",
      "                      Graduation  +  2  years  of experience\n",
      "        \n",
      "      case3:: after M.Tech   2 years gap \n",
      "                      M.tech  + 2 years  of experience\n",
      "                     B.tech  +   4  years of experience\n",
      "       case4 ::   After b.tech  tried  govt job  6  years         \n",
      "                      initial 1/2  years Non-IT Experience\n",
      "                      last  5/4  years   IT  Experience\n",
      "       case5  ::  2013   B.tech pass out\n",
      "                 In  11 years  of experience    initial   7  years   in  Non-IT\n",
      "                last 4 years     in IT \n",
      "       case6 ::   B.sc/B.com/BA/...   +  2 years gap\n",
      "                    --> 2  years  gap as experience\n",
      "       case7:: after 10+2  two  years gap  and  current b.tech fresher\n",
      "                   try as  B.tech fresher ,  gap after the 10+2  can  not  be shown as the experience\n",
      "                 only  the gaps that are after  graduation /post graduation can be shown as the experience  \n",
      "        \n",
      "   why same company has not recruited u as employee from the internship ?\n",
      "        Ans)  I want to learn and work on latest technologies ... in Java domain..\n",
      "\t        But they offered job on old technologies.  (like struts, jsf,  Soap based webservices,....)\n",
      "                 \n",
      "    why did u not  joined in the other  company  which  offered u  job?\n",
      "         Ans)  I want learn and work on latest technologies ... in Java domain..\n",
      "\t        But they offered me job on old technologies.\n",
      "         \n",
      "  we can get experience  docs in two ways\n",
      "        a)  As Permanent Employee   (Good but will not work out some times)\n",
      "\t b) As Contract employee of MNC   ( will work out most of the times)\n",
      "\n",
      "\t   Avoid going to   Accenture ,  infosys , MicroSoft, TCS,IBM ,.....\n",
      "\n",
      "\t   http://www.mca.gov.in/  (To check wheather company is registered or not?)\n",
      "\n",
      " What about bank statements?\n",
      "   =>manage on u r own by depositing money into private sector bank account..\n",
      "       through  Consultancy company reflecting company name or salary word\n",
      "         int the statement..  (start  this  process before 8 months of  job trails)\n",
      "\n",
      "  How many companies  to  show in the  experience?\n",
      "   =>  upto 3 to 4 yeas 1 company ok\n",
      "    =>  more than 3/4 years  better to  show two  companies\n",
      "     (note:: Min 1/1.5 years of experience in every company makes u r profile\n",
      "       as stable profile)\n",
      "\n",
      "   How to manage more &more gap (above 4/5 years) as experience?\n",
      "       Ans) divide exp into  \n",
      "                  a) relevant experience  (IT experience)\n",
      "\t\t   b) irrelevant experience  (Non-IT experience)\n",
      "\t\t   \n",
      "  =================Section  7================  Projects  =============================\n",
      "         note::   The way  we keep information  about projects in the resume  is going  to  be same  for  both fresher and  experienced ,  the only  thing that\n",
      "                         changes is    no.of projects we keep\n",
      "\n",
      "      Fresher ::    IT /CS background  -->  2 s/w projects   1 major + 1 mini\n",
      "                            NoN IT Engg -->  2 Projects  1 core  area project + 1 s/w project\n",
      "\t\t\t      Non IT -Non Engg(BCA,B.sc) --> 1 s/w project\n",
      "\t\t\t      \n",
      "\t\t\t       To get Projects :\n",
      "\t\t\t        ---------------------\n",
      "\t\t\t\t  a) U r engg /MCA projects\n",
      "\t\t\t\t  b) From  engg friend\n",
      "\t\t\t\t  c) from GITHUB.com  and etc..\n",
      "                                        d)  from  NareshIT  JRTP batch\n",
      "\n",
      "    Experienced ::     1 year ::   1 Project                      (any Project max 10 months)\n",
      "                                    2 years ::  2- 3 projects\n",
      "\t\t\t\t    3 year  :: 3-4 projects \n",
      "\t\t\t\t    4 year  ::  4-5 projects\n",
      "\n",
      "\t\t\t\t    To get these Projeccts\n",
      "\t\t\t\t    -------------------------------\n",
      "                                   a) NareshIT  Realtime Project batch   (best)\n",
      "\t\t\t\t   b) Working  friend or relative\n",
      "\t\t\t\t   c) Github.com\n",
      "\t\t\t\t   d) Class room MiniProjects Enhacements..\n",
      "\n",
      "  Order of  keeping content   in Project profile\n",
      "            a) Project title  & other information\n",
      "            b)  Technical Stack\n",
      "            c)  Brief  Description about the project in 2 or 3 paragraphs\n",
      "            d)  roles and responsibilities\n",
      "\n",
      "=============section  7   person profile ============================\n",
      "   #  write   personal info\n",
      "\n",
      "HR  Interview questions for experienced\n",
      "===================================\n",
      "    Q)After  how many days u  can join in my company ?\n",
      "             ans) In most of companies  2-3 months   notice period will be there , So u  can join the  in company once the  notice period is completed\n",
      "\n",
      "    Q) why are u leaving existing company?\n",
      "                 ans)  To  work  in new   projects  in which   new technologies and  frameworks will be used\n",
      "\n",
      "    q) Why should we hire u?  (or)  what  makes u  different from others ?\n",
      "\n",
      "\n",
      "    Q)  are u ready to relocate ?\n",
      "            A) yes \n",
      "\n",
      "    q) What is expected CTC?    CTC :: Cost To company --Per Anum Salary\n",
      "              =>  30% to 50% hike on existing CTC   (Good performence)\n",
      "\t      =>   30% 70 %  hike on existing CTC   (Best performence)\n",
      "\t         Existing CTC\n",
      "                    Fresher ::  3.0/3.5L\n",
      "\t           1+ years of experienced ---->  3.5L to  4.5L\n",
      "\t\t   2+ years of experienced  --->  4.5L  to 6.5L\n",
      "\t\t   3+ years of experienced  -->  6.5L  to  9.0L\n",
      "                      4+ years of experienced  -->  9.0L  to  12.0L\n",
      "    \n",
      "   Q) what is take home salary  ?   (per month  salary)\n",
      "               CTC/12  -    20% of CTC\n",
      "\n",
      "   HR Questions for  FReshers\n",
      "   =======================\n",
      "     Q)  Down the line 10 years, where u want to see u r self?\n",
      "     Ans)\n",
      "\n",
      "     Q)  What is u r weakness ?\n",
      "\n",
      "     Q) Introduce u r self or Tell about ur self?\n",
      "\n",
      "     Q)  Most imp incident in u r life?\n",
      "\n",
      "     Q) Why did u choose our company?\n",
      "\n",
      "     Q) why should we hire u ?\n",
      "\n",
      "\n",
      "\n",
      "\n",
      "              \n",
      "\n",
      "\n",
      "\n",
      "\n",
      "\n",
      "\n",
      "\t        \n",
      "\n",
      "\n",
      "\n",
      "\n",
      "\n",
      "\n",
      "     \n",
      "\n",
      "\n",
      "\n",
      "\n",
      "\n",
      "\n",
      "\n",
      "\n",
      "\t  \n",
      "de#hi\n"
     ]
    }
   ],
   "source": [
    "file_path=\"C:\\\\Users\\\\hp\\\\OneDrive\\\\Pictures\\\\resume_workshop.txt\"\n",
    "file=open(file_path,encoding=\"utf-8-sig\")\n",
    "print(file.read())\n",
    "\n",
    "count=0\n",
    "for i in file:\n",
    "    count+=1\n",
    "    \n",
    "print(i)"
   ]
  },
  {
   "cell_type": "code",
   "execution_count": 48,
   "id": "3a0a1bca-82c0-4aee-8927-0ac215719054",
   "metadata": {},
   "outputs": [
    {
     "name": "stdout",
     "output_type": "stream",
     "text": [
      "This session has been summarized by AI\n",
      "and hence is subject to some issues.\n",
      "\n",
      "- Rajneesh Kumar introduced himself and the class approach of discussing theory, solutions, and practice problems\n",
      "- Balancing time and space complexity is important and different search methods for data sets were discussed\n",
      "- Mapping negative indices to positive indices in arrays expands the range of possible numbers\n",
      "- N square loop and complexity calculations were explained along with the importance of good coding practices\n",
      "- Summation calculation and logarithmic notation were discussed for data searching\n",
      "- The Dutch national flag algorithm was introduced to optimize segregation in an array of 0s and 1s\n",
      "- An algorithm for quicksort and segregating an array containing 0, 1, and 2 were explained\n",
      "- Pivot implementation in quicksort and the two-pivot quicksort were discussed\n",
      "- Diagrams were recommended to visualize and solve problems related to sorted arrays and elevation\n",
      "- Solving problems optimally in a two-pointer method was discussed, along with the Dexter algorithm in graph\n",
      "- The class questions are unique and not readily available on the internet\n",
      "- Good coding practices and going back to basics are important, and the next session will be on Saturday.\n"
     ]
    },
    {
     "ename": "ValueError",
     "evalue": "I/O operation on closed file.",
     "output_type": "error",
     "traceback": [
      "\u001b[1;31m---------------------------------------------------------------------------\u001b[0m",
      "\u001b[1;31mValueError\u001b[0m                                Traceback (most recent call last)",
      "Cell \u001b[1;32mIn[48], line 8\u001b[0m\n\u001b[0;32m      5\u001b[0m \u001b[38;5;28;01mwith\u001b[39;00m \u001b[38;5;28mopen\u001b[39m(file_path) \u001b[38;5;28;01mas\u001b[39;00m file:\n\u001b[0;32m      6\u001b[0m     data\u001b[38;5;241m=\u001b[39mfile\u001b[38;5;241m.\u001b[39mread()\n\u001b[1;32m----> 8\u001b[0m \u001b[38;5;28;01mfor\u001b[39;00m index,line \u001b[38;5;129;01min\u001b[39;00m \u001b[38;5;28;43menumerate\u001b[39;49m\u001b[43m(\u001b[49m\u001b[43mfile\u001b[49m\u001b[43m)\u001b[49m:\n\u001b[0;32m      9\u001b[0m     \u001b[38;5;28mprint\u001b[39m(index,line)\n\u001b[0;32m     11\u001b[0m \u001b[38;5;28mprint\u001b[39m(data)\n",
      "\u001b[1;31mValueError\u001b[0m: I/O operation on closed file."
     ]
    }
   ],
   "source": [
    "file_path=\"Summary.txt\"\n",
    "file=open(file_path,encoding=\"utf-8-sig\")\n",
    "print(file.read())\n",
    "\n",
    "with open(file_path) as file:\n",
    "    data=file.read()\n",
    "\n",
    "for index,line in enumerate(file):\n",
    "    print(index,line)\n",
    "\n",
    "print(data)\n",
    "\n",
    "\n",
    "\n"
   ]
  },
  {
   "cell_type": "code",
   "execution_count": 53,
   "id": "373b7044-d33f-4025-b55c-a2ae71e768c0",
   "metadata": {},
   "outputs": [
    {
     "name": "stdout",
     "output_type": "stream",
     "text": [
      "[(0, 'This session has been summarized by AI\\n'), (1, 'and hence is subject to some issues.\\n'), (2, '\\n'), (3, '- Rajneesh Kumar introduced himself and the class approach of discussing theory, solutions, and practice problems\\n'), (4, '- Balancing time and space complexity is important and different search methods for data sets were discussed\\n'), (5, '- Mapping negative indices to positive indices in arrays expands the range of possible numbers\\n'), (6, '- N square loop and complexity calculations were explained along with the importance of good coding practices\\n'), (7, '- Summation calculation and logarithmic notation were discussed for data searching\\n'), (8, '- The Dutch national flag algorithm was introduced to optimize segregation in an array of 0s and 1s\\n'), (9, '- An algorithm for quicksort and segregating an array containing 0, 1, and 2 were explained\\n'), (10, '- Pivot implementation in quicksort and the two-pivot quicksort were discussed\\n'), (11, '- Diagrams were recommended to visualize and solve problems related to sorted arrays and elevation\\n'), (12, '- Solving problems optimally in a two-pointer method was discussed, along with the Dexter algorithm in graph\\n'), (13, '- The class questions are unique and not readily available on the internet\\n'), (14, '- Good coding practices and going back to basics are important, and the next session will be on Saturday.')]\n"
     ]
    }
   ],
   "source": [
    "file_path=\"Summary.txt\"\n",
    "file=open(file_path,encoding=\"utf-8-sig\")\n",
    "\n",
    "l1=[index for index in enumerate(file)]\n",
    "\n",
    "print(l1)"
   ]
  },
  {
   "cell_type": "code",
   "execution_count": 54,
   "id": "e6487185-b1fc-4608-a366-1e8a460453cd",
   "metadata": {},
   "outputs": [
    {
     "name": "stdout",
     "output_type": "stream",
     "text": [
      "[0, 1, 2, 3, 4, 5, 6, 7, 8, 9, 10, 11, 12, 13, 14]\n"
     ]
    }
   ],
   "source": [
    "file_path=\"Summary.txt\"\n",
    "file=open(file_path,encoding=\"utf-8-sig\")\n",
    "\n",
    "l1=[index for index,_ in enumerate(file)]\n",
    "\n",
    "print(l1)"
   ]
  },
  {
   "cell_type": "raw",
   "id": "7b98038f-faf3-4f6f-a4cf-ce2c52482943",
   "metadata": {},
   "source": [
    "\"_\" underscore used when you dont require lines,\n",
    "and you dont want to use any specific variable ,\n",
    "then keep that variable name as \"_\"\n"
   ]
  },
  {
   "cell_type": "code",
   "execution_count": 56,
   "id": "a35564d8-f75d-4f30-a991-87fe3f0c4944",
   "metadata": {},
   "outputs": [
    {
     "name": "stdout",
     "output_type": "stream",
     "text": [
      "0 This session has been summarized by AI\n",
      "\n",
      "1 and hence is subject to some issues.\n",
      "\n",
      "2 \n",
      "\n",
      "3 - Rajneesh Kumar introduced himself and the class approach of discussing theory, solutions, and practice problems\n",
      "\n",
      "4 - Balancing time and space complexity is important and different search methods for data sets were discussed\n",
      "\n",
      "5 - Mapping negative indices to positive indices in arrays expands the range of possible numbers\n",
      "\n"
     ]
    }
   ],
   "source": [
    "# print first 5 lines\n",
    "\n",
    "file_path=\"Summary.txt\"\n",
    "file=open(file_path,encoding=\"utf-8-sig\")\n",
    "\n",
    "for index,line in enumerate(file):\n",
    "    print(index,line)\n",
    "    if index==5:\n",
    "        break"
   ]
  },
  {
   "cell_type": "code",
   "execution_count": 57,
   "id": "b8a4f07a-6d4f-47bf-84d3-ddc070114568",
   "metadata": {},
   "outputs": [
    {
     "name": "stdout",
     "output_type": "stream",
     "text": [
      "This session has been summarized by AI\n",
      "and hence is subject to some issues.\n",
      "\n",
      "- Rajneesh Kumar introduced himself and the class approach of discussing theory, solutions, and practice problems\n",
      "- Balancing time and space complexity is important and different search methods for data sets were discussed\n",
      "- Mapping negative indices to positive indices in arrays expands the range of possible numbers\n",
      "- N square loop and complexity calculations were explained along with the importance of good coding practices\n",
      "- Summation calculation and logarithmic notation were discussed for data searching\n",
      "- The Dutch national flag algorithm was introduced to optimize segregation in an array of 0s and 1s\n",
      "- An algorithm for quicksort and segregating an array containing 0, 1, and 2 were explained\n",
      "- Pivot implementation in quicksort and the two-pivot quicksort were discussed\n",
      "- Diagrams were recommended to visualize and solve problems related to sorted arrays and elevation\n",
      "- Solving problems optimally in a two-pointer method was discussed, along with the Dexter algorithm in graph\n",
      "- The class questions are unique and not readily available on the internet\n",
      "- Good coding practices and going back to basics are important, and the next session will be on Saturday.\n"
     ]
    }
   ],
   "source": [
    "# make all line in same alignment\n",
    "\n",
    "file_path=\"Summary.txt\"\n",
    "file=open(file_path,encoding=\"utf-8-sig\")\n",
    "\n",
    "for line in file:\n",
    "    print(line.strip())"
   ]
  },
  {
   "cell_type": "code",
   "execution_count": null,
   "id": "c5be8e2e-6702-480c-aeb6-37dfe5d7d99d",
   "metadata": {},
   "outputs": [],
   "source": [
    "#extract the line which are started with \"from\"\n",
    "#keep it in list\n",
    "#get count of list\n"
   ]
  },
  {
   "cell_type": "code",
   "execution_count": 59,
   "id": "5f10184f-72a5-401f-9e37-47428575e026",
   "metadata": {},
   "outputs": [],
   "source": [
    "file_path=\"Summary.txt\"\n",
    "file=open(file_path,encoding=\"utf-8-sig\")\n",
    "\n",
    "for line in file:\n",
    "    if line.startswith(\"the\"):\n",
    "        print(line)"
   ]
  },
  {
   "cell_type": "code",
   "execution_count": 61,
   "id": "684e0445-ef34-4e4d-9b9e-0f55ceed6207",
   "metadata": {},
   "outputs": [
    {
     "data": {
      "text/plain": [
       "12"
      ]
     },
     "execution_count": 61,
     "metadata": {},
     "output_type": "execute_result"
    }
   ],
   "source": [
    "file_path=\"Summary.txt\"\n",
    "file=open(file_path,encoding=\"utf-8-sig\")\n",
    "from_list =[line for line in file if line.startswith(\"-\")]\n",
    "len(from_list)"
   ]
  },
  {
   "cell_type": "code",
   "execution_count": 62,
   "id": "9eed304d-f666-4818-b66a-c3e1cae159ac",
   "metadata": {},
   "outputs": [
    {
     "data": {
      "text/plain": [
       "['- Rajneesh Kumar introduced himself and the class approach of discussing theory, solutions, and practice problems\\n',\n",
       " '- Balancing time and space complexity is important and different search methods for data sets were discussed\\n',\n",
       " '- Mapping negative indices to positive indices in arrays expands the range of possible numbers\\n',\n",
       " '- N square loop and complexity calculations were explained along with the importance of good coding practices\\n',\n",
       " '- Summation calculation and logarithmic notation were discussed for data searching\\n',\n",
       " '- The Dutch national flag algorithm was introduced to optimize segregation in an array of 0s and 1s\\n',\n",
       " '- An algorithm for quicksort and segregating an array containing 0, 1, and 2 were explained\\n',\n",
       " '- Pivot implementation in quicksort and the two-pivot quicksort were discussed\\n',\n",
       " '- Diagrams were recommended to visualize and solve problems related to sorted arrays and elevation\\n',\n",
       " '- Solving problems optimally in a two-pointer method was discussed, along with the Dexter algorithm in graph\\n',\n",
       " '- The class questions are unique and not readily available on the internet\\n',\n",
       " '- Good coding practices and going back to basics are important, and the next session will be on Saturday.']"
      ]
     },
     "execution_count": 62,
     "metadata": {},
     "output_type": "execute_result"
    }
   ],
   "source": [
    "from_list"
   ]
  },
  {
   "cell_type": "code",
   "execution_count": 65,
   "id": "c6e439ff-aefc-41f8-adb3-3bc0465ebefc",
   "metadata": {},
   "outputs": [
    {
     "data": {
      "text/plain": [
       "['- Rajneesh Kumar introduced himself and the class approach of discussing theory, solutions, and practice problems',\n",
       " '- Balancing time and space complexity is important and different search methods for data sets were discussed',\n",
       " '- Mapping negative indices to positive indices in arrays expands the range of possible numbers',\n",
       " '- N square loop and complexity calculations were explained along with the importance of good coding practices',\n",
       " '- Summation calculation and logarithmic notation were discussed for data searching',\n",
       " '- The Dutch national flag algorithm was introduced to optimize segregation in an array of 0s and 1s',\n",
       " '- An algorithm for quicksort and segregating an array containing 0, 1, and 2 were explained',\n",
       " '- Pivot implementation in quicksort and the two-pivot quicksort were discussed',\n",
       " '- Diagrams were recommended to visualize and solve problems related to sorted arrays and elevation',\n",
       " '- Solving problems optimally in a two-pointer method was discussed, along with the Dexter algorithm in graph',\n",
       " '- The class questions are unique and not readily available on the internet',\n",
       " '- Good coding practices and going back to basics are important, and the next session will be on Saturday.']"
      ]
     },
     "execution_count": 65,
     "metadata": {},
     "output_type": "execute_result"
    }
   ],
   "source": [
    "# remove /n\n",
    "file_path=\"Summary.txt\"\n",
    "file=open(file_path,encoding=\"utf-8-sig\")\n",
    "from_list =[line.rstrip(\"\\n\") for line in file if line.startswith(\"-\")]\n",
    "len(from_list)\n",
    "from_list\n"
   ]
  },
  {
   "cell_type": "code",
   "execution_count": null,
   "id": "335be0b3-adfe-450e-8680-46df9cc8627c",
   "metadata": {},
   "outputs": [],
   "source": [
    "s1=\"ABC\"\n",
    "s2=\"abc\"\n",
    "\n",
    "#AaBbCc"
   ]
  },
  {
   "cell_type": "code",
   "execution_count": null,
   "id": "80a87211-a62c-4db0-9b43-946f4c40ff90",
   "metadata": {},
   "outputs": [],
   "source": [
    "#create unique email list\n",
    "#unique vowels\n",
    "#counter\n",
    "#create empty string/list/dictionary\n"
   ]
  },
  {
   "cell_type": "code",
   "execution_count": 68,
   "id": "ee0d93ec-c723-40c7-a95a-8834043ba4a2",
   "metadata": {},
   "outputs": [
    {
     "name": "stdout",
     "output_type": "stream",
     "text": [
      "deepak.kumar@accenture.com,\n",
      "anuj.kumar@wipro.com,\n",
      "bablu.kumar@kpmg.com,\n",
      "harish.anand@google.com,\n",
      "rishita.anand@meta.com,\n",
      "deep.shikha@adobe.com,\n",
      "rudra.pratap@unity.com,\n",
      "Chandni.kumari@accenture.com,\n",
      "sai.madukar@wipro.com,\n",
      "dhurvi.deep@accenture.com,\n",
      "itty.deep@accenture.com\n"
     ]
    }
   ],
   "source": [
    "file_path=\"demo_emails.txt\"\n",
    "file=open(file_path,encoding=\"utf-8-sig\")\n",
    "print(file.read())\n"
   ]
  },
  {
   "cell_type": "code",
   "execution_count": null,
   "id": "559b1354-1abc-464d-9d9e-c5009c591970",
   "metadata": {},
   "outputs": [],
   "source": []
  },
  {
   "cell_type": "code",
   "execution_count": null,
   "id": "9731b395-125d-4807-806c-39cbf23cf6f1",
   "metadata": {},
   "outputs": [],
   "source": []
  },
  {
   "cell_type": "code",
   "execution_count": null,
   "id": "ff391b43-ffc1-43f9-a881-df5e64dc8834",
   "metadata": {},
   "outputs": [],
   "source": []
  },
  {
   "cell_type": "code",
   "execution_count": null,
   "id": "f87b0c76-60a6-4b91-b4c3-eb7b32a7a98f",
   "metadata": {},
   "outputs": [],
   "source": []
  },
  {
   "cell_type": "code",
   "execution_count": null,
   "id": "70979948-b0c5-42ca-9da5-ce696d767b54",
   "metadata": {},
   "outputs": [],
   "source": []
  },
  {
   "cell_type": "code",
   "execution_count": null,
   "id": "1fa2fbf7-aa25-44c3-8837-65c2832a6668",
   "metadata": {},
   "outputs": [],
   "source": []
  }
 ],
 "metadata": {
  "kernelspec": {
   "display_name": "Python 3 (ipykernel)",
   "language": "python",
   "name": "python3"
  },
  "language_info": {
   "codemirror_mode": {
    "name": "ipython",
    "version": 3
   },
   "file_extension": ".py",
   "mimetype": "text/x-python",
   "name": "python",
   "nbconvert_exporter": "python",
   "pygments_lexer": "ipython3",
   "version": "3.12.4"
  }
 },
 "nbformat": 4,
 "nbformat_minor": 5
}
