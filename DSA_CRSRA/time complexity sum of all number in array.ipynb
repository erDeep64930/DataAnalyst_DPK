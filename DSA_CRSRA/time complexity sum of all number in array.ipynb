{
 "cells": [
  {
   "cell_type": "markdown",
   "id": "03af5dbc-5bec-4797-ad70-149afa8ce49c",
   "metadata": {},
   "source": [
    "## Writw a program to sum of all element in array"
   ]
  },
  {
   "cell_type": "code",
   "execution_count": 1,
   "id": "1227dc25-248d-4e35-b17e-a95d787c23cb",
   "metadata": {},
   "outputs": [
    {
     "name": "stdout",
     "output_type": "stream",
     "text": [
      "45\n"
     ]
    }
   ],
   "source": [
    "import numpy as np\n",
    "\n",
    "def sum_array(arr):\n",
    "    total = 0 \n",
    "    for i in arr:\n",
    "        total += i \n",
    "    return total  \n",
    "\n",
    "\n",
    "x = np.array([1, 2, 3, 4, 5, 6, 7, 8, 9])\n",
    "print(sum_array(x))  \n"
   ]
  },
  {
   "cell_type": "code",
   "execution_count": null,
   "id": "06f78bb0-e40b-4f94-8df4-f047c22dd08c",
   "metadata": {},
   "outputs": [],
   "source": []
  }
 ],
 "metadata": {
  "kernelspec": {
   "display_name": "Python 3 (ipykernel)",
   "language": "python",
   "name": "python3"
  },
  "language_info": {
   "codemirror_mode": {
    "name": "ipython",
    "version": 3
   },
   "file_extension": ".py",
   "mimetype": "text/x-python",
   "name": "python",
   "nbconvert_exporter": "python",
   "pygments_lexer": "ipython3",
   "version": "3.12.4"
  }
 },
 "nbformat": 4,
 "nbformat_minor": 5
}
