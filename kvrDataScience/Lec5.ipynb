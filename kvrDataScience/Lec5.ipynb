{
 "cells": [
  {
   "cell_type": "markdown",
   "metadata": {},
   "source": [
    "# 2. arange()\n",
    "- arange() is used for generating range of values with equal interval of value(default interval value or step value is 1)\n",
    "- syntax:-\n",
    "- varname=numpy.arange(start)\n",
    "- varname=numpy.arange(start,end)\n",
    "- varname=numpy.arange(start,end,step)\n",
    "\n",
    "- arange() by default create an object of ndarray with 1D  array only ,it cannot built 2D and n-dimension array\n",
    "\n",
    "- to built 2D and n-D array from arange() function we use reshape() or shape attribute.\n",
    " "
   ]
  },
  {
   "cell_type": "code",
   "execution_count": 2,
   "metadata": {},
   "outputs": [
    {
     "name": "stdout",
     "output_type": "stream",
     "text": [
      "[0 1 2 3 4 5 6 7 8 9] <class 'numpy.ndarray'>\n",
      "dimension 1\n",
      "shape (10,)\n",
      "size 10\n",
      "internal data type int64\n"
     ]
    }
   ],
   "source": [
    "import numpy as np\n",
    "a=np.arange(10)\n",
    "print(a,type(a))\n",
    "print(\"dimension\",a.ndim)\n",
    "print(\"shape\",a.shape)\n",
    "print(\"size\",a.size)\n",
    "print(\"internal data type\",a.dtype)"
   ]
  },
  {
   "cell_type": "code",
   "execution_count": 6,
   "metadata": {},
   "outputs": [
    {
     "name": "stdout",
     "output_type": "stream",
     "text": [
      "[[0 1]\n",
      " [2 3]\n",
      " [4 5]\n",
      " [6 7]\n",
      " [8 9]] <class 'numpy.ndarray'>\n",
      "dimension 2\n",
      "shape (5, 2)\n",
      "size 10\n",
      "internal data type int64\n"
     ]
    }
   ],
   "source": [
    "a.shape=(5,2)\n",
    "print(a,type(a))\n",
    "print(\"dimension\",a.ndim)\n",
    "print(\"shape\",a.shape)\n",
    "print(\"size\",a.size)\n",
    "print(\"internal data type\",a.dtype)"
   ]
  },
  {
   "cell_type": "code",
   "execution_count": 8,
   "metadata": {},
   "outputs": [
    {
     "name": "stdout",
     "output_type": "stream",
     "text": [
      "[10 11 12 13 14 15 16 17 18 19 20 21] <class 'numpy.ndarray'> 12\n",
      "dimension 1\n",
      "shape (12,)\n",
      "size 12\n",
      "internal data type int64\n"
     ]
    }
   ],
   "source": [
    "a=np.arange(10,22)\n",
    "print(a,type(a),len(a))\n",
    "print(\"dimension\",a.ndim)\n",
    "print(\"shape\",a.shape)\n",
    "print(\"size\",a.size)\n",
    "print(\"internal data type\",a.dtype)"
   ]
  },
  {
   "cell_type": "code",
   "execution_count": 9,
   "metadata": {},
   "outputs": [
    {
     "name": "stdout",
     "output_type": "stream",
     "text": [
      "[[[10 11 12]\n",
      "  [13 14 15]]\n",
      "\n",
      " [[16 17 18]\n",
      "  [19 20 21]]] <class 'numpy.ndarray'>\n",
      "dimension 3\n",
      "shape (2, 2, 3)\n",
      "size 12\n",
      "internal data type int64\n"
     ]
    }
   ],
   "source": [
    "a.shape=(2,2,3)\n",
    "print(a,type(a))\n",
    "print(\"dimension\",a.ndim)\n",
    "print(\"shape\",a.shape)\n",
    "print(\"size\",a.size)\n",
    "print(\"internal data type\",a.dtype)"
   ]
  },
  {
   "cell_type": "code",
   "execution_count": 10,
   "metadata": {},
   "outputs": [
    {
     "name": "stdout",
     "output_type": "stream",
     "text": [
      "[[[10 11]\n",
      "  [12 13]\n",
      "  [14 15]]\n",
      "\n",
      " [[16 17]\n",
      "  [18 19]\n",
      "  [20 21]]] <class 'numpy.ndarray'>\n"
     ]
    }
   ],
   "source": [
    "a=np.arange(10,22).reshape(2,3,2)\n",
    "print(a,type(a))"
   ]
  },
  {
   "cell_type": "code",
   "execution_count": 12,
   "metadata": {},
   "outputs": [
    {
     "name": "stdout",
     "output_type": "stream",
     "text": [
      "[[ 10  15  20  25]\n",
      " [ 30  35  40  45]\n",
      " [ 50  55  60  65]\n",
      " [ 70  75  80  85]\n",
      " [ 90  95 100 105]] <class 'numpy.ndarray'> 5\n"
     ]
    }
   ],
   "source": [
    "a=np.arange(10,106,5).reshape(5,4)\n",
    "print(a,type(a),len(a))"
   ]
  },
  {
   "cell_type": "markdown",
   "metadata": {},
   "source": [
    "# linspace()\n",
    "- syntax:-\n",
    "- varname=numpy.linspace(start,stop,num,endpoint,restep,dtype)\n",
    "- "
   ]
  },
  {
   "cell_type": "code",
   "execution_count": 13,
   "metadata": {},
   "outputs": [
    {
     "name": "stdout",
     "output_type": "stream",
     "text": [
      "[1.         1.02040816 1.04081633 1.06122449 1.08163265 1.10204082\n",
      " 1.12244898 1.14285714 1.16326531 1.18367347 1.20408163 1.2244898\n",
      " 1.24489796 1.26530612 1.28571429 1.30612245 1.32653061 1.34693878\n",
      " 1.36734694 1.3877551  1.40816327 1.42857143 1.44897959 1.46938776\n",
      " 1.48979592 1.51020408 1.53061224 1.55102041 1.57142857 1.59183673\n",
      " 1.6122449  1.63265306 1.65306122 1.67346939 1.69387755 1.71428571\n",
      " 1.73469388 1.75510204 1.7755102  1.79591837 1.81632653 1.83673469\n",
      " 1.85714286 1.87755102 1.89795918 1.91836735 1.93877551 1.95918367\n",
      " 1.97959184 2.        ] <class 'numpy.ndarray'>\n"
     ]
    }
   ],
   "source": [
    "a=np.linspace(1,2)\n",
    "\n",
    "print(a,type(a))"
   ]
  },
  {
   "cell_type": "code",
   "execution_count": 14,
   "metadata": {},
   "outputs": [
    {
     "name": "stdout",
     "output_type": "stream",
     "text": [
      "[1.   1.25 1.5  1.75 2.  ] <class 'numpy.ndarray'>\n"
     ]
    }
   ],
   "source": [
    "a=np.linspace(1,2,num=5)\n",
    "print(a,type(a))"
   ]
  },
  {
   "cell_type": "code",
   "execution_count": 16,
   "metadata": {},
   "outputs": [
    {
     "name": "stdout",
     "output_type": "stream",
     "text": [
      "[1.  1.2 1.4 1.6 1.8] <class 'numpy.ndarray'>\n"
     ]
    }
   ],
   "source": [
    "a=np.linspace(1,2,num=5,endpoint=False)\n",
    "print(a,type(a))"
   ]
  },
  {
   "cell_type": "code",
   "execution_count": 17,
   "metadata": {},
   "outputs": [
    {
     "name": "stdout",
     "output_type": "stream",
     "text": [
      "(array([1.  , 1.25, 1.5 , 1.75, 2.  ]), np.float64(0.25)) <class 'tuple'>\n"
     ]
    }
   ],
   "source": [
    "a=np.linspace(1,2,num=5,retstep=True)\n",
    "print(a,type(a))"
   ]
  },
  {
   "cell_type": "markdown",
   "metadata": {},
   "source": [
    "# zeros()\n",
    "- syntax:-\n",
    "- varname=numpy.zeros(shape,dtype)"
   ]
  },
  {
   "cell_type": "code",
   "execution_count": 20,
   "metadata": {},
   "outputs": [
    {
     "name": "stdout",
     "output_type": "stream",
     "text": [
      "[0 0 0 0] <class 'numpy.ndarray'>\n",
      "[[0 0]\n",
      " [0 0]] <class 'numpy.ndarray'>\n"
     ]
    }
   ],
   "source": [
    "l1=[0,0,0,0]\n",
    "a=np.array(l1)\n",
    "print(a,type(a))\n",
    "a.shape=(2,2)\n",
    "print(a,type(a))"
   ]
  },
  {
   "cell_type": "code",
   "execution_count": 23,
   "metadata": {},
   "outputs": [
    {
     "name": "stdout",
     "output_type": "stream",
     "text": [
      "[[0 0]\n",
      " [0 0]] <class 'numpy.ndarray'>\n",
      "dimension 2\n",
      "shape (2, 2)\n",
      "size 4\n",
      "internal data type int64\n"
     ]
    }
   ],
   "source": [
    "a=np.zeros((2,2),dtype=int)\n",
    "print(a,type(a))\n",
    "print(\"dimension\",a.ndim)\n",
    "print(\"shape\",a.shape)\n",
    "print(\"size\",a.size)\n",
    "print(\"internal data type\",a.dtype)\n"
   ]
  },
  {
   "cell_type": "code",
   "execution_count": 24,
   "metadata": {},
   "outputs": [
    {
     "name": "stdout",
     "output_type": "stream",
     "text": [
      "[[[0 0 0]\n",
      "  [0 0 0]\n",
      "  [0 0 0]]\n",
      "\n",
      " [[0 0 0]\n",
      "  [0 0 0]\n",
      "  [0 0 0]]\n",
      "\n",
      " [[0 0 0]\n",
      "  [0 0 0]\n",
      "  [0 0 0]]] <class 'numpy.ndarray'>\n",
      "dimension 3\n",
      "shape (3, 3, 3)\n",
      "size 27\n",
      "internal data type int64\n"
     ]
    }
   ],
   "source": [
    "a=np.zeros((3,3,3),dtype=int)\n",
    "print(a,type(a))\n",
    "print(\"dimension\",a.ndim)\n",
    "print(\"shape\",a.shape)\n",
    "print(\"size\",a.size)\n",
    "print(\"internal data type\",a.dtype)\n"
   ]
  },
  {
   "cell_type": "markdown",
   "metadata": {},
   "source": [
    "# ones()\n",
    "- syntax:-\n",
    "- "
   ]
  },
  {
   "cell_type": "code",
   "execution_count": 25,
   "metadata": {},
   "outputs": [
    {
     "name": "stdout",
     "output_type": "stream",
     "text": [
      "[1 1 1] <class 'numpy.ndarray'>\n",
      "dimension 1\n",
      "shape (3,)\n",
      "size 3\n",
      "internal data type int64\n"
     ]
    }
   ],
   "source": [
    "a=np.ones(3,dtype=int)\n",
    "print(a,type(a))\n",
    "print(\"dimension\",a.ndim)\n",
    "print(\"shape\",a.shape)\n",
    "print(\"size\",a.size)\n",
    "print(\"internal data type\",a.dtype)\n"
   ]
  },
  {
   "cell_type": "code",
   "execution_count": 26,
   "metadata": {},
   "outputs": [
    {
     "name": "stdout",
     "output_type": "stream",
     "text": [
      "[[[1 1 1 1]\n",
      "  [1 1 1 1]\n",
      "  [1 1 1 1]]\n",
      "\n",
      " [[1 1 1 1]\n",
      "  [1 1 1 1]\n",
      "  [1 1 1 1]]] <class 'numpy.ndarray'>\n",
      "dimension 3\n",
      "shape (2, 3, 4)\n",
      "size 24\n",
      "internal data type int64\n"
     ]
    }
   ],
   "source": [
    "a=np.ones((2,3,4),dtype=int)\n",
    "print(a,type(a))\n",
    "print(\"dimension\",a.ndim)\n",
    "print(\"shape\",a.shape)\n",
    "print(\"size\",a.size)\n",
    "print(\"internal data type\",a.dtype)\n"
   ]
  },
  {
   "cell_type": "markdown",
   "metadata": {},
   "source": [
    "# full()\n",
    "- syntax:-\n",
    "- varname=numpy.full(shape,fill_value,dtype)\n"
   ]
  },
  {
   "cell_type": "code",
   "execution_count": 27,
   "metadata": {},
   "outputs": [
    {
     "name": "stdout",
     "output_type": "stream",
     "text": [
      "[9 9 9 9 9 9] <class 'numpy.ndarray'>\n",
      "dimension 1\n",
      "shape (6,)\n",
      "size 6\n",
      "internal data type int64\n"
     ]
    }
   ],
   "source": [
    "a=np.full(6,9)\n",
    "print(a,type(a))\n",
    "print(\"dimension\",a.ndim)\n",
    "print(\"shape\",a.shape)\n",
    "print(\"size\",a.size)\n",
    "print(\"internal data type\",a.dtype)\n"
   ]
  },
  {
   "cell_type": "code",
   "execution_count": 28,
   "metadata": {},
   "outputs": [
    {
     "name": "stdout",
     "output_type": "stream",
     "text": [
      "[[9 9 9]\n",
      " [9 9 9]] <class 'numpy.ndarray'>\n",
      "dimension 2\n",
      "shape (2, 3)\n",
      "size 6\n",
      "internal data type int64\n"
     ]
    }
   ],
   "source": [
    "a=np.full(6,9).reshape(2,3)\n",
    "print(a,type(a))\n",
    "print(\"dimension\",a.ndim)\n",
    "print(\"shape\",a.shape)\n",
    "print(\"size\",a.size)\n",
    "print(\"internal data type\",a.dtype)\n"
   ]
  },
  {
   "cell_type": "code",
   "execution_count": 29,
   "metadata": {},
   "outputs": [
    {
     "name": "stdout",
     "output_type": "stream",
     "text": [
      "[[6 6 6]\n",
      " [6 6 6]\n",
      " [6 6 6]] <class 'numpy.ndarray'>\n",
      "dimension 2\n",
      "shape (3, 3)\n",
      "size 9\n",
      "internal data type int64\n"
     ]
    }
   ],
   "source": [
    "a=np.full((3,3),6)\n",
    "print(a,type(a))\n",
    "print(\"dimension\",a.ndim)\n",
    "print(\"shape\",a.shape)\n",
    "print(\"size\",a.size)\n",
    "print(\"internal data type\",a.dtype)\n"
   ]
  },
  {
   "cell_type": "code",
   "execution_count": 30,
   "metadata": {},
   "outputs": [
    {
     "name": "stdout",
     "output_type": "stream",
     "text": [
      "[[[6 6 6]\n",
      "  [6 6 6]\n",
      "  [6 6 6]]\n",
      "\n",
      " [[6 6 6]\n",
      "  [6 6 6]\n",
      "  [6 6 6]]\n",
      "\n",
      " [[6 6 6]\n",
      "  [6 6 6]\n",
      "  [6 6 6]]] <class 'numpy.ndarray'>\n",
      "dimension 3\n",
      "shape (3, 3, 3)\n",
      "size 27\n",
      "internal data type int64\n"
     ]
    }
   ],
   "source": [
    "a=np.full((3,3,3),6)\n",
    "print(a,type(a))\n",
    "print(\"dimension\",a.ndim)\n",
    "print(\"shape\",a.shape)\n",
    "print(\"size\",a.size)\n",
    "print(\"internal data type\",a.dtype)"
   ]
  },
  {
   "cell_type": "code",
   "execution_count": 31,
   "metadata": {},
   "outputs": [
    {
     "name": "stdout",
     "output_type": "stream",
     "text": [
      "[[['itty' 'itty' 'itty']\n",
      "  ['itty' 'itty' 'itty']\n",
      "  ['itty' 'itty' 'itty']]\n",
      "\n",
      " [['itty' 'itty' 'itty']\n",
      "  ['itty' 'itty' 'itty']\n",
      "  ['itty' 'itty' 'itty']]\n",
      "\n",
      " [['itty' 'itty' 'itty']\n",
      "  ['itty' 'itty' 'itty']\n",
      "  ['itty' 'itty' 'itty']]] <class 'numpy.ndarray'>\n",
      "dimension 3\n",
      "shape (3, 3, 3)\n",
      "size 27\n",
      "internal data type <U4\n"
     ]
    }
   ],
   "source": [
    "a=np.full((3,3,3),\"itty\")\n",
    "print(a,type(a))\n",
    "print(\"dimension\",a.ndim)\n",
    "print(\"shape\",a.shape)\n",
    "print(\"size\",a.size)\n",
    "print(\"internal data type\",a.dtype)"
   ]
  },
  {
   "cell_type": "markdown",
   "metadata": {},
   "source": [
    "# identity()\n",
    "- syntax:-\n",
    "- varname=numpy.identity(N,dtype)"
   ]
  },
  {
   "cell_type": "code",
   "execution_count": 35,
   "metadata": {},
   "outputs": [
    {
     "name": "stdout",
     "output_type": "stream",
     "text": [
      "[[1. 0. 0.]\n",
      " [0. 1. 0.]\n",
      " [0. 0. 1.]] <class 'numpy.ndarray'>\n",
      "dimension 2\n",
      "shape (3, 3)\n",
      "size 9\n",
      "internal data type float64\n"
     ]
    }
   ],
   "source": [
    "a=np.identity(3)\n",
    "print(a,type(a))\n",
    "print(\"dimension\",a.ndim)\n",
    "print(\"shape\",a.shape)\n",
    "print(\"size\",a.size)\n",
    "print(\"internal data type\",a.dtype)"
   ]
  },
  {
   "cell_type": "markdown",
   "metadata": {},
   "source": [
    "# eye()\n",
    "\n",
    "- varname= numpy.eye(N,M=none,k=0,dtype)"
   ]
  },
  {
   "cell_type": "code",
   "execution_count": 4,
   "metadata": {},
   "outputs": [
    {
     "name": "stdout",
     "output_type": "stream",
     "text": [
      "[[1 0 0 0 0]\n",
      " [0 1 0 0 0]\n",
      " [0 0 1 0 0]\n",
      " [0 0 0 1 0]\n",
      " [0 0 0 0 1]] <class 'numpy.ndarray'>\n"
     ]
    }
   ],
   "source": [
    "a= np.identity(5,dtype=int)\n",
    "print(a,type(a))"
   ]
  },
  {
   "cell_type": "code",
   "execution_count": 5,
   "metadata": {},
   "outputs": [
    {
     "name": "stdout",
     "output_type": "stream",
     "text": [
      "[[1 0 0 0 0]\n",
      " [0 1 0 0 0]\n",
      " [0 0 1 0 0]\n",
      " [0 0 0 1 0]\n",
      " [0 0 0 0 1]] <class 'numpy.ndarray'>\n"
     ]
    }
   ],
   "source": [
    "a= np.eye(5,dtype=int)\n",
    "print(a,type(a))"
   ]
  },
  {
   "cell_type": "code",
   "execution_count": 7,
   "metadata": {},
   "outputs": [
    {
     "name": "stdout",
     "output_type": "stream",
     "text": [
      "[[0 0 0 0 0]\n",
      " [1 0 0 0 0]\n",
      " [0 1 0 0 0]\n",
      " [0 0 1 0 0]\n",
      " [0 0 0 1 0]] <class 'numpy.ndarray'>\n"
     ]
    }
   ],
   "source": [
    "a= np.eye(5,k=-1,dtype=int)\n",
    "print(a,type(a))"
   ]
  },
  {
   "cell_type": "code",
   "execution_count": 8,
   "metadata": {},
   "outputs": [
    {
     "name": "stdout",
     "output_type": "stream",
     "text": [
      "[[0 0 0 0 0]\n",
      " [0 0 0 0 0]\n",
      " [1 0 0 0 0]\n",
      " [0 1 0 0 0]\n",
      " [0 0 1 0 0]] <class 'numpy.ndarray'>\n"
     ]
    }
   ],
   "source": [
    "a= np.eye(5,k=-2,dtype=int)\n",
    "print(a,type(a))"
   ]
  },
  {
   "cell_type": "code",
   "execution_count": 9,
   "metadata": {},
   "outputs": [
    {
     "name": "stdout",
     "output_type": "stream",
     "text": [
      "[[1 0 0 0 0]\n",
      " [0 1 0 0 0]\n",
      " [0 0 1 0 0]] <class 'numpy.ndarray'>\n"
     ]
    }
   ],
   "source": [
    "a= np.eye(3,5,dtype=int)\n",
    "print(a,type(a))"
   ]
  },
  {
   "cell_type": "code",
   "execution_count": 10,
   "metadata": {},
   "outputs": [
    {
     "name": "stdout",
     "output_type": "stream",
     "text": [
      "[[1 0 0]\n",
      " [0 1 0]\n",
      " [0 0 1]\n",
      " [0 0 0]\n",
      " [0 0 0]] <class 'numpy.ndarray'>\n"
     ]
    }
   ],
   "source": [
    "a= np.eye(5,3,dtype=int)\n",
    "print(a,type(a))"
   ]
  },
  {
   "cell_type": "code",
   "execution_count": null,
   "metadata": {},
   "outputs": [],
   "source": []
  },
  {
   "cell_type": "code",
   "execution_count": null,
   "metadata": {},
   "outputs": [],
   "source": []
  },
  {
   "cell_type": "code",
   "execution_count": null,
   "metadata": {},
   "outputs": [],
   "source": []
  },
  {
   "cell_type": "code",
   "execution_count": null,
   "metadata": {},
   "outputs": [],
   "source": []
  },
  {
   "cell_type": "code",
   "execution_count": null,
   "metadata": {},
   "outputs": [],
   "source": []
  },
  {
   "cell_type": "code",
   "execution_count": null,
   "metadata": {},
   "outputs": [],
   "source": []
  },
  {
   "cell_type": "code",
   "execution_count": null,
   "metadata": {},
   "outputs": [],
   "source": []
  },
  {
   "cell_type": "code",
   "execution_count": null,
   "metadata": {},
   "outputs": [],
   "source": []
  }
 ],
 "metadata": {
  "kernelspec": {
   "display_name": "Python 3",
   "language": "python",
   "name": "python3"
  },
  "language_info": {
   "codemirror_mode": {
    "name": "ipython",
    "version": 3
   },
   "file_extension": ".py",
   "mimetype": "text/x-python",
   "name": "python",
   "nbconvert_exporter": "python",
   "pygments_lexer": "ipython3",
   "version": "3.13.1"
  }
 },
 "nbformat": 4,
 "nbformat_minor": 2
}
