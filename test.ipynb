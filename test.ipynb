{
 "cells": [
  {
   "cell_type": "code",
   "execution_count": null,
   "metadata": {},
   "outputs": [
    {
     "name": "stdout",
     "output_type": "stream",
     "text": [
      "hello\n"
     ]
    }
   ],
   "source": [
    "print(\"hello\")\n",
    "# conda create -p venv python\n",
    "# conda activate venv"
   ]
  },
  {
   "cell_type": "markdown",
   "metadata": {},
   "source": []
  },
  {
   "cell_type": "code",
   "execution_count": 1,
   "metadata": {},
   "outputs": [],
   "source": [
    "# creating an environment\n",
    "# conda create -p venv python\n",
    "# conda activate venv\n",
    "\n",
    "\n",
    "# venv is a environment name for python we are running\n",
    "\n",
    "# test.ipynb\n",
    "\n",
    "# to execute the code type - shift+enter\n",
    "\n",
    "#pip install ipykernel\n",
    "\n",
    "\n",
    "\n"
   ]
  },
  {
   "cell_type": "code",
   "execution_count": 2,
   "metadata": {},
   "outputs": [
    {
     "name": "stdout",
     "output_type": "stream",
     "text": [
      "2*1=2\n",
      "2*2=4\n",
      "2*3=6\n",
      "2*4=8\n",
      "2*5=10\n",
      "2*6=12\n",
      "2*7=14\n",
      "2*8=16\n",
      "2*9=18\n",
      "2*10=20\n"
     ]
    }
   ],
   "source": [
    "for i in range(1,11):\n",
    "    print(\"{}*{}={}\".format(2,i,2*i))"
   ]
  },
  {
   "cell_type": "code",
   "execution_count": 3,
   "metadata": {},
   "outputs": [
    {
     "name": "stdout",
     "output_type": "stream",
     "text": [
      "[[[1 1]\n",
      "  [1 1]\n",
      "  [1 1]\n",
      "  [1 1]]\n",
      "\n",
      " [[1 1]\n",
      "  [1 1]\n",
      "  [1 1]\n",
      "  [1 1]]\n",
      "\n",
      " [[1 1]\n",
      "  [1 1]\n",
      "  [1 1]\n",
      "  [1 1]]]\n"
     ]
    }
   ],
   "source": [
    "import numpy as np\n",
    "a=np.ones((3,4,2),dtype=int)\n",
    "print(a)\n",
    "#a= numpy.ones((dimension,rows,columns),dtype=int)"
   ]
  },
  {
   "cell_type": "code",
   "execution_count": 4,
   "metadata": {},
   "outputs": [
    {
     "name": "stdout",
     "output_type": "stream",
     "text": [
      "virat\n",
      "kohli\n",
      "blr\n"
     ]
    }
   ],
   "source": [
    "s1=\"virat.kohli@blr.com,rohit.sharma@mumbai.com,kl.rahul@lucknow.com\"\n",
    "str1=\"virat.kohli@blr.com\"\n",
    "f_name=str1[:str1.find(\".\")]\n",
    "s_name=str1[str1.find(\".\")+1:str1.find(\"@\")]\n",
    "c_name=str1[str1.find(\"@\")+1:str1.find(\".\",str1.find(\".\")+1)]\n",
    "print(f_name)\n",
    "print(s_name)\n",
    "print(c_name) "
   ]
  },
  {
   "cell_type": "code",
   "execution_count": 5,
   "metadata": {},
   "outputs": [
    {
     "ename": "AttributeError",
     "evalue": "'dict' object has no attribute 'append'",
     "output_type": "error",
     "traceback": [
      "\u001b[1;31m---------------------------------------------------------------------------\u001b[0m",
      "\u001b[1;31mAttributeError\u001b[0m                            Traceback (most recent call last)",
      "Cell \u001b[1;32mIn[5], line 6\u001b[0m\n\u001b[0;32m      4\u001b[0m f_name\u001b[38;5;241m=\u001b[39m{}\n\u001b[0;32m      5\u001b[0m \u001b[38;5;28;01mfor\u001b[39;00m str1 \u001b[38;5;129;01min\u001b[39;00m s1\u001b[38;5;241m.\u001b[39msplit(\u001b[38;5;124m\"\u001b[39m\u001b[38;5;124m,\u001b[39m\u001b[38;5;124m\"\u001b[39m):\n\u001b[1;32m----> 6\u001b[0m     \u001b[43mf_name\u001b[49m\u001b[38;5;241;43m.\u001b[39;49m\u001b[43mappend\u001b[49m(str1[:str1\u001b[38;5;241m.\u001b[39mfind(\u001b[38;5;124m\"\u001b[39m\u001b[38;5;124m.\u001b[39m\u001b[38;5;124m\"\u001b[39m)])\n\u001b[0;32m      7\u001b[0m f_name\u001b[38;5;241m=\u001b[39m[str1[:str1\u001b[38;5;241m.\u001b[39mfind(\u001b[38;5;124m\"\u001b[39m\u001b[38;5;124m.\u001b[39m\u001b[38;5;124m\"\u001b[39m)] \u001b[38;5;28;01mfor\u001b[39;00m str1 \u001b[38;5;129;01min\u001b[39;00m s1\u001b[38;5;241m.\u001b[39msplit(\u001b[38;5;124m\"\u001b[39m\u001b[38;5;124m,\u001b[39m\u001b[38;5;124m\"\u001b[39m)]\n\u001b[0;32m      8\u001b[0m s_name\u001b[38;5;241m=\u001b[39m[str1[str1\u001b[38;5;241m.\u001b[39mfind(\u001b[38;5;124m\"\u001b[39m\u001b[38;5;124m.\u001b[39m\u001b[38;5;124m\"\u001b[39m)\u001b[38;5;241m+\u001b[39m\u001b[38;5;241m1\u001b[39m:str1\u001b[38;5;241m.\u001b[39mfind(\u001b[38;5;124m\"\u001b[39m\u001b[38;5;124m@\u001b[39m\u001b[38;5;124m\"\u001b[39m)] \u001b[38;5;28;01mfor\u001b[39;00m str1 \u001b[38;5;129;01min\u001b[39;00m s1\u001b[38;5;241m.\u001b[39msplit(\u001b[38;5;124m\"\u001b[39m\u001b[38;5;124m,\u001b[39m\u001b[38;5;124m\"\u001b[39m)]\n",
      "\u001b[1;31mAttributeError\u001b[0m: 'dict' object has no attribute 'append'"
     ]
    }
   ],
   "source": [
    "s1=\"virat.kohli@blr.com,rohit.sharma@mumbai.com,kl.rahul@lucknow.com\"\n",
    "s1.split(\",\")\n",
    "\n",
    "f_name={}\n",
    "for str1 in s1.split(\",\"):\n",
    "    f_name.append(str1[:str1.find(\".\")])\n",
    "f_name=[str1[:str1.find(\".\")] for str1 in s1.split(\",\")]\n",
    "s_name=[str1[str1.find(\".\")+1:str1.find(\"@\")] for str1 in s1.split(\",\")]\n",
    "c_name=[str1[str1.find(\"@\")+1:str1.find(\".\",str1.find(\".\")+1)] for str1 in s1.split(\",\")]\n",
    "print(f_name)\n",
    "print(s_name)\n",
    "print(c_name)"
   ]
  },
  {
   "cell_type": "code",
   "execution_count": null,
   "metadata": {},
   "outputs": [
    {
     "name": "stdout",
     "output_type": "stream",
     "text": [
      "['virat', 'rohit', 'kl']\n",
      "['kohli', 'sharma', 'rahul']\n",
      "['blr', 'mumbai', 'lucknow']\n",
      "{'first_name': ['virat', 'rohit', 'kl'], 'second_name': ['kohli', 'sharma', 'rahul'], 'company_name': ['blr', 'mumbai', 'lucknow']}\n"
     ]
    }
   ],
   "source": [
    "s1=\"virat.kohli@blr.com,rohit.sharma@mumbai.com,kl.rahul@lucknow.com\"\n",
    "s1.split(\",\")\n",
    "\n",
    "d1={}\n",
    "f_name=[str1[:str1.find(\".\")] for str1 in s1.split(\",\")]\n",
    "s_name=[str1[str1.find(\".\")+1:str1.find(\"@\")] for str1 in s1.split(\",\")]\n",
    "c_name=[str1[str1.find(\"@\")+1:str1.find(\".\",str1.find(\".\")+1)] for str1 in s1.split(\",\")]\n",
    "print(f_name)\n",
    "print(s_name)\n",
    "print(c_name) \n",
    "\n",
    "d1[\"first_name\"]=f_name\n",
    "d1[\"second_name\"]=s_name\n",
    "d1[\"company_name\"]=c_name\n",
    "print(d1)\n"
   ]
  },
  {
   "cell_type": "code",
   "execution_count": null,
   "metadata": {},
   "outputs": [],
   "source": [
    "inplace=True\n",
    "# mean data will be overwrite"
   ]
  },
  {
   "cell_type": "code",
   "execution_count": null,
   "metadata": {},
   "outputs": [
    {
     "name": "stdout",
     "output_type": "stream",
     "text": [
      "['Hyd', 'Mumbai', 'Chennai', 'Delhi']\n"
     ]
    }
   ],
   "source": [
    "list1=[\"hyd\",\"mumbai\",\"chennai\",\"delhi\"]\n",
    "\n",
    "list2=[]\n",
    "for i in list1:\n",
    "    list2.append(i.capitalize())\n",
    "\n",
    "print(list2)"
   ]
  },
  {
   "cell_type": "code",
   "execution_count": null,
   "metadata": {},
   "outputs": [
    {
     "name": "stdout",
     "output_type": "stream",
     "text": [
      "['Hyd', 'Mumbai', 'Chennai', 'Delhi']\n"
     ]
    }
   ],
   "source": [
    "list3=[i.capitalize() for i in list1]\n",
    "print(list3)\n"
   ]
  },
  {
   "cell_type": "code",
   "execution_count": null,
   "metadata": {},
   "outputs": [],
   "source": [
    "# lambda <arg> :<output>"
   ]
  },
  {
   "cell_type": "code",
   "execution_count": null,
   "metadata": {},
   "outputs": [
    {
     "name": "stdout",
     "output_type": "stream",
     "text": [
      "1\n",
      "4\n",
      "9\n",
      "16\n",
      "25\n",
      "36\n",
      "49\n",
      "64\n",
      "81\n"
     ]
    }
   ],
   "source": [
    "#lambda <argument> : <output>,<iterator>\n",
    "list1=[1,2,3,4,5,6,7,8,9]\n",
    "for i in map(lambda i:i*i,list1):\n",
    "    print(i)"
   ]
  },
  {
   "cell_type": "code",
   "execution_count": null,
   "metadata": {},
   "outputs": [],
   "source": [
    "list1=[\"h#d\",\"mum#bai\",\"banglore\",\"de#hi\"]\n",
    "\n",
    "#print which have #"
   ]
  },
  {
   "cell_type": "code",
   "execution_count": null,
   "metadata": {},
   "outputs": [
    {
     "name": "stdout",
     "output_type": "stream",
     "text": [
      "['h#d', 'mum#bai', 'de#hi']\n"
     ]
    }
   ],
   "source": [
    "list1=[\"h#d\",\"mum#bai\",\"banglore\",\"de#hi\"]\n",
    "\n",
    "list2=[]\n",
    "for i in list1:\n",
    "    if \"#\" in i:\n",
    "        list2.append(i)\n",
    "\n",
    "print(list2)"
   ]
  },
  {
   "cell_type": "code",
   "execution_count": null,
   "metadata": {},
   "outputs": [
    {
     "data": {
      "text/plain": [
       "['h#d', 'mum#bai', 'de#hi']"
      ]
     },
     "execution_count": 12,
     "metadata": {},
     "output_type": "execute_result"
    }
   ],
   "source": [
    "[i for i in list1 if \"#\" in i]"
   ]
  },
  {
   "cell_type": "code",
   "execution_count": null,
   "metadata": {},
   "outputs": [],
   "source": [
    "#lambda <arg>:<condition>,<iterator>"
   ]
  },
  {
   "cell_type": "code",
   "execution_count": null,
   "metadata": {},
   "outputs": [
    {
     "data": {
      "text/plain": [
       "[True, True, False, True]"
      ]
     },
     "execution_count": 14,
     "metadata": {},
     "output_type": "execute_result"
    }
   ],
   "source": [
    "list(map(lambda i:\"#\" in i,list1))"
   ]
  },
  {
   "cell_type": "code",
   "execution_count": null,
   "metadata": {},
   "outputs": [
    {
     "data": {
      "text/plain": [
       "['h#d', 'mum#bai', 'de#hi']"
      ]
     },
     "execution_count": 15,
     "metadata": {},
     "output_type": "execute_result"
    }
   ],
   "source": [
    "list(filter(lambda i:\"#\" in i,list1))"
   ]
  },
  {
   "cell_type": "code",
   "execution_count": null,
   "metadata": {},
   "outputs": [],
   "source": [
    "#n: new line\n",
    "#t: tab"
   ]
  },
  {
   "cell_type": "markdown",
   "metadata": {},
   "source": [
    "**List comprehension**"
   ]
  },
  {
   "cell_type": "code",
   "execution_count": null,
   "metadata": {},
   "outputs": [],
   "source": [
    "#syntax:\n",
    "# [<output> <forloop>]"
   ]
  },
  {
   "cell_type": "code",
   "execution_count": null,
   "metadata": {},
   "outputs": [
    {
     "name": "stdout",
     "output_type": "stream",
     "text": [
      "['Hyd', 'Delhi', 'Bengaluru']\n"
     ]
    }
   ],
   "source": [
    "list1=[\"hyd\",\"delhi\",\"bengaluru\"]\n",
    "\n",
    "#list1=[\"Hyd\",\"Delhi\",\"Bengaluru\"]\n",
    "\n",
    "output=[i.capitalize() for i in list1]\n",
    "print(output)"
   ]
  },
  {
   "cell_type": "markdown",
   "metadata": {},
   "source": [
    "**List Comprehension with if condtion**\n"
   ]
  },
  {
   "cell_type": "code",
   "execution_count": null,
   "metadata": {},
   "outputs": [
    {
     "name": "stdout",
     "output_type": "stream",
     "text": [
      "[]\n"
     ]
    }
   ],
   "source": [
    "output=[]\n",
    "for i in list1:\n",
    "    if \"#\" in i:\n",
    "        output.append(i)\n",
    "\n",
    "output\n",
    "\n",
    "#syntax:\n",
    "\n",
    "# output=[<output> <for_loop> <if_condition>]\n"
   ]
  },
  {
   "cell_type": "code",
   "execution_count": null,
   "metadata": {},
   "outputs": [
    {
     "name": "stdout",
     "output_type": "stream",
     "text": [
      "['h#d', 'de#hi']\n"
     ]
    }
   ],
   "source": [
    "list1=[\"h#d\",\"de#hi\",\"bengaluru\"]\n",
    "output1=[i for i in list1 if \"#\" in i]\n",
    "print(output1)"
   ]
  },
  {
   "cell_type": "code",
   "execution_count": null,
   "metadata": {},
   "outputs": [],
   "source": [
    "#syntax:-\n",
    "\n",
    "# [<if_output> <if_condition> else <else_output> <for_loop>]"
   ]
  },
  {
   "cell_type": "code",
   "execution_count": null,
   "metadata": {},
   "outputs": [
    {
     "data": {
      "text/plain": [
       "['odd:1', 'even:2', 'odd:3', 'even:4', 'odd:5', 'even:6']"
      ]
     },
     "execution_count": 23,
     "metadata": {},
     "output_type": "execute_result"
    }
   ],
   "source": [
    "list1=[1,2,3,4,5,6]\n",
    "output=[]\n",
    "\n",
    "for i in list1:\n",
    "    if i%2==0:\n",
    "        output.append(\"even:{}\".format(i))\n",
    "\n",
    "    else:\n",
    "        output.append(\"odd:{}\".format(i))\n",
    "\n",
    "output"
   ]
  },
  {
   "cell_type": "code",
   "execution_count": null,
   "metadata": {},
   "outputs": [
    {
     "data": {
      "text/plain": [
       "['odd:1', 'even:2', 'odd:3', 'even:4', 'odd:5', 'even:6']"
      ]
     },
     "execution_count": 24,
     "metadata": {},
     "output_type": "execute_result"
    }
   ],
   "source": [
    "[\"even:{}\".format(i) if i%2==0 else \"odd:{}\".format(i) for i in list1]"
   ]
  },
  {
   "cell_type": "code",
   "execution_count": null,
   "metadata": {},
   "outputs": [
    {
     "name": "stdout",
     "output_type": "stream",
     "text": [
      "the ascii value of A is 65\n",
      "the ascii value of B is 66\n",
      "the ascii value of C is 67\n",
      "the ascii value of D is 68\n",
      "the ascii value of E is 69\n",
      "the ascii value of F is 70\n",
      "the ascii value of G is 71\n",
      "the ascii value of H is 72\n",
      "the ascii value of I is 73\n",
      "the ascii value of J is 74\n",
      "the ascii value of K is 75\n",
      "the ascii value of L is 76\n",
      "the ascii value of M is 77\n",
      "the ascii value of N is 78\n",
      "the ascii value of O is 79\n",
      "the ascii value of P is 80\n",
      "the ascii value of Q is 81\n",
      "the ascii value of R is 82\n",
      "the ascii value of S is 83\n",
      "the ascii value of T is 84\n",
      "the ascii value of U is 85\n",
      "the ascii value of V is 86\n",
      "the ascii value of W is 87\n",
      "the ascii value of X is 88\n",
      "the ascii value of Y is 89\n",
      "the ascii value of Z is 90\n"
     ]
    }
   ],
   "source": [
    "import string\n",
    "for i in string.ascii_uppercase:\n",
    "    print(\"the ascii value of {} is {}\".format(i,ord(i)))"
   ]
  },
  {
   "cell_type": "code",
   "execution_count": null,
   "metadata": {},
   "outputs": [
    {
     "name": "stdout",
     "output_type": "stream",
     "text": [
      "the ascii value of a is 97\n",
      "the ascii value of b is 98\n",
      "the ascii value of c is 99\n",
      "the ascii value of d is 100\n",
      "the ascii value of e is 101\n",
      "the ascii value of f is 102\n",
      "the ascii value of g is 103\n",
      "the ascii value of h is 104\n",
      "the ascii value of i is 105\n",
      "the ascii value of j is 106\n",
      "the ascii value of k is 107\n",
      "the ascii value of l is 108\n",
      "the ascii value of m is 109\n",
      "the ascii value of n is 110\n",
      "the ascii value of o is 111\n",
      "the ascii value of p is 112\n",
      "the ascii value of q is 113\n",
      "the ascii value of r is 114\n",
      "the ascii value of s is 115\n",
      "the ascii value of t is 116\n",
      "the ascii value of u is 117\n",
      "the ascii value of v is 118\n",
      "the ascii value of w is 119\n",
      "the ascii value of x is 120\n",
      "the ascii value of y is 121\n",
      "the ascii value of z is 122\n"
     ]
    }
   ],
   "source": [
    "import string\n",
    "for i in string.ascii_lowercase:\n",
    "    print(\"the ascii value of {} is {}\".format(i,ord(i)))"
   ]
  },
  {
   "cell_type": "code",
   "execution_count": null,
   "metadata": {},
   "outputs": [
    {
     "data": {
      "text/plain": [
       "'resta$t'"
      ]
     },
     "execution_count": 27,
     "metadata": {},
     "output_type": "execute_result"
    }
   ],
   "source": [
    "string1=\"restart\"\n",
    "s1=string1[0]\n",
    "s2=string1[1:].replace(\"r\",\"$\")\n",
    "s1+s2"
   ]
  },
  {
   "cell_type": "code",
   "execution_count": null,
   "metadata": {},
   "outputs": [],
   "source": []
  }
 ],
 "metadata": {
  "kernelspec": {
   "display_name": "Python 3",
   "language": "python",
   "name": "python3"
  },
  "language_info": {
   "codemirror_mode": {
    "name": "ipython",
    "version": 3
   },
   "file_extension": ".py",
   "mimetype": "text/x-python",
   "name": "python",
   "nbconvert_exporter": "python",
   "pygments_lexer": "ipython3",
   "version": "3.13.1"
  }
 },
 "nbformat": 4,
 "nbformat_minor": 2
}
