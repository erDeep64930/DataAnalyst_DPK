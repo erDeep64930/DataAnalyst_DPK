{
 "cells": [
  {
   "cell_type": "markdown",
   "metadata": {},
   "source": [
    "# enumerate"
   ]
  },
  {
   "cell_type": "markdown",
   "metadata": {},
   "source": [
    "- this function is used for obtaining index and value entries for every element of iterable objects. (contain more than one value)\n",
    "\n",
    "- syntax: enumerate(iterable object)"
   ]
  },
  {
   "cell_type": "code",
   "execution_count": 1,
   "metadata": {},
   "outputs": [
    {
     "name": "stdout",
     "output_type": "stream",
     "text": [
      "0 ---> m\n",
      "1 ---> i\n",
      "2 ---> s\n",
      "3 ---> s\n",
      "4 ---> i\n",
      "5 ---> s\n",
      "6 ---> s\n",
      "7 ---> i\n",
      "8 ---> p\n",
      "9 ---> p\n",
      "10 ---> i\n"
     ]
    }
   ],
   "source": [
    "s=\"mississippi\"\n",
    "for i,v in enumerate(s):\n",
    "    print(i,\"--->\",v)"
   ]
  },
  {
   "cell_type": "code",
   "execution_count": 2,
   "metadata": {},
   "outputs": [
    {
     "name": "stdout",
     "output_type": "stream",
     "text": [
      "1 ---> i\n",
      "4 ---> i\n",
      "7 ---> i\n",
      "10 ---> i\n"
     ]
    }
   ],
   "source": [
    "s=\"mississippi\"\n",
    "for i,v in enumerate(s):\n",
    "    if(v==\"i\"):\n",
    "        print(i,\"--->\",v)\n",
    "        \n",
    "    "
   ]
  },
  {
   "cell_type": "markdown",
   "metadata": {},
   "source": [
    "# copy()"
   ]
  },
  {
   "cell_type": "markdown",
   "metadata": {},
   "source": [
    "in python we have 2 types of copy technique , they are :-\n",
    "    1.shallow copy\n",
    "    2.deep copy"
   ]
  },
  {
   "cell_type": "code",
   "execution_count": 3,
   "metadata": {},
   "outputs": [],
   "source": [
    "# shallow copy"
   ]
  },
  {
   "cell_type": "code",
   "execution_count": 5,
   "metadata": {},
   "outputs": [
    {
     "data": {
      "text/plain": [
       "' \\n- the property of shadow copy are \\n\\n1. the initial content of both the objects are same.\\n\\n2.the memory address of both the object are different.\\n\\n3.the modification are independent (whatever the changes we do on one object, those changes are not reflected to another object, because memory address are different)\\n\\n--> to implement shallow copy , we use copy().\\n\\n--> syntax:-\\n\\nobject2=object1.copy()\\n\\n\\n'"
      ]
     },
     "execution_count": 5,
     "metadata": {},
     "output_type": "execute_result"
    }
   ],
   "source": [
    "\"\"\" \n",
    "- the property of shadow copy are \n",
    "\n",
    "1. the initial content of both the objects are same.\n",
    "\n",
    "2.the memory address of both the object are different.\n",
    "\n",
    "3.the modification are independent (whatever the changes we do on one object, those changes are not reflected to another object, because memory address are different)\n",
    "\n",
    "--> to implement shallow copy , we use copy().\n",
    "\n",
    "--> syntax:-\n",
    "\n",
    "object2=object1.copy()\n",
    "\n",
    "\n",
    "\"\"\""
   ]
  },
  {
   "cell_type": "code",
   "execution_count": 7,
   "metadata": {},
   "outputs": [
    {
     "name": "stdout",
     "output_type": "stream",
     "text": [
      "[10, 'rs'] 2292252212288 2292252695296\n"
     ]
    }
   ],
   "source": [
    "lst=[10,\"rs\"]\n",
    "lst2=lst.copy() # shallow copy\n",
    "print(lst2,id(lst),id(lst2))"
   ]
  },
  {
   "cell_type": "markdown",
   "metadata": {},
   "source": [
    "- deep copy()"
   ]
  },
  {
   "cell_type": "code",
   "execution_count": 8,
   "metadata": {},
   "outputs": [
    {
     "data": {
      "text/plain": [
       "'  \\n- the property of deep copy are-\\n    1.the initial content of both the object are same .\\n    2.the memory address of both the object are same .\\n    3.the modification are dependent.(whatever the changes we do in one object , those changes are reflecting to another object because memory address are same )\\n'"
      ]
     },
     "execution_count": 8,
     "metadata": {},
     "output_type": "execute_result"
    }
   ],
   "source": [
    " \n",
    "\"\"\"  \n",
    "- the property of deep copy are-\n",
    "    1.the initial content of both the object are same .\n",
    "    2.the memory address of both the object are same .\n",
    "    3.the modification are dependent.(whatever the changes we do in one object , those changes are reflecting to another object because memory address are same )\n",
    "\"\"\""
   ]
  },
  {
   "cell_type": "code",
   "execution_count": null,
   "metadata": {},
   "outputs": [],
   "source": [
    "# to implement deep copy , we use assignment operator\n",
    "# (=)\n",
    "# syntax:\n",
    "# object2=object1"
   ]
  },
  {
   "cell_type": "code",
   "execution_count": 9,
   "metadata": {},
   "outputs": [
    {
     "name": "stdout",
     "output_type": "stream",
     "text": [
      "2292252077248 2292252077248 <class 'list'>\n"
     ]
    }
   ],
   "source": [
    "lst=[10,\"rs\",\"b7\"]\n",
    "lst2=lst\n",
    "print(id(lst),id(lst2),type(lst))"
   ]
  },
  {
   "cell_type": "markdown",
   "metadata": {},
   "source": [
    "# count()"
   ]
  },
  {
   "cell_type": "markdown",
   "metadata": {},
   "source": [
    "- syntax:-\n"
   ]
  },
  {
   "cell_type": "code",
   "execution_count": 10,
   "metadata": {},
   "outputs": [
    {
     "name": "stdout",
     "output_type": "stream",
     "text": [
      "[10, 20, 10, 30, 10, 20, 30, 30, 40, 40, 50, 10, 50, 20] <class 'list'>\n"
     ]
    },
    {
     "data": {
      "text/plain": [
       "4"
      ]
     },
     "execution_count": 10,
     "metadata": {},
     "output_type": "execute_result"
    }
   ],
   "source": [
    "\n",
    "lst=[10,20,10,30,10,20,30,30,40,40,50,10,50,20]\n",
    "print(lst,type(lst))\n",
    "lst.count(10)"
   ]
  },
  {
   "cell_type": "code",
   "execution_count": 14,
   "metadata": {},
   "outputs": [
    {
     "name": "stdout",
     "output_type": "stream",
     "text": [
      "0 ---> m\n",
      "1 ---> i\n",
      "2 ---> s\n",
      "3 ---> s\n",
      "4 ---> i\n",
      "5 ---> s\n",
      "6 ---> s\n",
      "7 ---> i\n",
      "8 ---> p\n",
      "9 ---> p\n",
      "10 ---> i\n"
     ]
    }
   ],
   "source": [
    "s=\"mississippi\"\n",
    "for i,v in enumerate(s):\n",
    "    print(i,\"--->\",v)\n",
    "  "
   ]
  },
  {
   "cell_type": "code",
   "execution_count": 15,
   "metadata": {},
   "outputs": [
    {
     "name": "stdout",
     "output_type": "stream",
     "text": [
      "[10, 20, 10, 30, 10, 20, 30, 30, 40, 40, 50, 10, 50, 20] <class 'list'>\n"
     ]
    },
    {
     "data": {
      "text/plain": [
       "0"
      ]
     },
     "execution_count": 15,
     "metadata": {},
     "output_type": "execute_result"
    }
   ],
   "source": [
    "lst=[10,20,10,30,10,20,30,30,40,40,50,10,50,20]\n",
    "print(lst,type(lst))\n",
    "lst.count(10)\n",
    "lst.count(160)\n"
   ]
  },
  {
   "cell_type": "code",
   "execution_count": 16,
   "metadata": {},
   "outputs": [
    {
     "data": {
      "text/plain": [
       "0"
      ]
     },
     "execution_count": 16,
     "metadata": {},
     "output_type": "execute_result"
    }
   ],
   "source": [
    "[].count(10)"
   ]
  },
  {
   "cell_type": "code",
   "execution_count": null,
   "metadata": {},
   "outputs": [],
   "source": [
    "# this function is used for counting number of occurrence of specific value.\n",
    "\n",
    "# if specific value does not exist then we get 0. \n",
    "\n",
    "#"
   ]
  },
  {
   "cell_type": "code",
   "execution_count": 17,
   "metadata": {},
   "outputs": [
    {
     "name": "stdout",
     "output_type": "stream",
     "text": [
      "0 ---> m\n",
      "1 ---> i\n",
      "2 ---> s\n",
      "3 ---> s\n",
      "4 ---> i\n",
      "5 ---> s\n",
      "6 ---> s\n",
      "7 ---> i\n",
      "8 ---> p\n",
      "9 ---> p\n",
      "10 ---> i\n",
      "['m', 'i', 's', 's', 'i', 's', 's', 'i', 'p', 'p', 'i']\n"
     ]
    }
   ],
   "source": [
    "s=\"mississippi\"\n",
    "for i,v in enumerate(s):\n",
    "    print(i,\"--->\",v)\n",
    "    \n",
    "lst=list(s)\n",
    "print(lst)"
   ]
  },
  {
   "cell_type": "code",
   "execution_count": 18,
   "metadata": {},
   "outputs": [
    {
     "data": {
      "text/plain": [
       "4"
      ]
     },
     "execution_count": 18,
     "metadata": {},
     "output_type": "execute_result"
    }
   ],
   "source": [
    "lst.count(\"i\")"
   ]
  },
  {
   "cell_type": "code",
   "execution_count": 19,
   "metadata": {},
   "outputs": [
    {
     "data": {
      "text/plain": [
       "4"
      ]
     },
     "execution_count": 19,
     "metadata": {},
     "output_type": "execute_result"
    }
   ],
   "source": [
    "lst.count(\"s\")"
   ]
  },
  {
   "cell_type": "code",
   "execution_count": 20,
   "metadata": {},
   "outputs": [
    {
     "data": {
      "text/plain": [
       "2"
      ]
     },
     "execution_count": 20,
     "metadata": {},
     "output_type": "execute_result"
    }
   ],
   "source": [
    "list(\"mission\").count(\"s\")"
   ]
  },
  {
   "cell_type": "code",
   "execution_count": 21,
   "metadata": {},
   "outputs": [
    {
     "data": {
      "text/plain": [
       "0"
      ]
     },
     "execution_count": 21,
     "metadata": {},
     "output_type": "execute_result"
    }
   ],
   "source": [
    "[\"mississippi\"].count(\"s\")"
   ]
  },
  {
   "cell_type": "code",
   "execution_count": 22,
   "metadata": {},
   "outputs": [
    {
     "name": "stdout",
     "output_type": "stream",
     "text": [
      "[10, 20, 30, 40, 50, 60, 70] 2292253071296\n",
      "None 140718232752784\n"
     ]
    }
   ],
   "source": [
    "lst=[10,20,30,40,50,60,70]\n",
    "print(lst,id(lst))\n",
    "\n",
    "lst1=lst.reverse()\n",
    "print(lst1,id(lst1))"
   ]
  },
  {
   "cell_type": "code",
   "execution_count": 23,
   "metadata": {},
   "outputs": [
    {
     "name": "stdout",
     "output_type": "stream",
     "text": [
      "[70, 60, 50, 40, 30, 20, 10]\n"
     ]
    }
   ],
   "source": [
    "print(lst)"
   ]
  },
  {
   "cell_type": "code",
   "execution_count": 24,
   "metadata": {},
   "outputs": [
    {
     "name": "stdout",
     "output_type": "stream",
     "text": [
      "None\n"
     ]
    }
   ],
   "source": [
    "print(lst1)"
   ]
  },
  {
   "cell_type": "markdown",
   "metadata": {},
   "source": [
    "syntax:-\n",
    "listobj.reverse()\n",
    "\n",
    "- this function is used for reversing the elements(of listobj and reversed element placed in same listobj itself)\n",
    "\n",
    "- front element become last element.\n",
    "\n"
   ]
  },
  {
   "cell_type": "markdown",
   "metadata": {},
   "source": [
    "# sort()--most important"
   ]
  },
  {
   "cell_type": "markdown",
   "metadata": {},
   "source": []
  },
  {
   "cell_type": "code",
   "execution_count": 29,
   "metadata": {},
   "outputs": [
    {
     "name": "stdout",
     "output_type": "stream",
     "text": [
      "[-2, 5, 10, 12, 25, 30] 2292253040960\n"
     ]
    }
   ],
   "source": [
    "lst1=[10,12,-2,30,5,25]\n",
    "lst1.sort()\n",
    "print(lst1,id(lst1))"
   ]
  },
  {
   "cell_type": "code",
   "execution_count": 28,
   "metadata": {},
   "outputs": [
    {
     "name": "stdout",
     "output_type": "stream",
     "text": [
      "[-2, 5, 10, 12, 25, 30] 2292252074176\n"
     ]
    }
   ],
   "source": [
    "lst1.reverse()\n",
    "print(lst1,id(lst1))"
   ]
  },
  {
   "cell_type": "code",
   "execution_count": 30,
   "metadata": {},
   "outputs": [
    {
     "name": "stdout",
     "output_type": "stream",
     "text": [
      "[30, 25, 12, 10, 5, -2] 2292253040960\n"
     ]
    }
   ],
   "source": [
    "lst1.sort(reverse=True)\n",
    "print(lst1,id(lst1))"
   ]
  },
  {
   "cell_type": "code",
   "execution_count": 31,
   "metadata": {},
   "outputs": [
    {
     "ename": "TypeError",
     "evalue": "'<' not supported between instances of 'str' and 'int'",
     "output_type": "error",
     "traceback": [
      "\u001b[1;31m---------------------------------------------------------------------------\u001b[0m",
      "\u001b[1;31mTypeError\u001b[0m                                 Traceback (most recent call last)",
      "Cell \u001b[1;32mIn[31], line 2\u001b[0m\n\u001b[0;32m      1\u001b[0m lst1\u001b[38;5;241m=\u001b[39m[\u001b[38;5;241m10\u001b[39m,\u001b[38;5;241m20\u001b[39m,\u001b[38;5;124m\"\u001b[39m\u001b[38;5;124mrs\u001b[39m\u001b[38;5;124m\"\u001b[39m,\u001b[38;5;124m\"\u001b[39m\u001b[38;5;124mb7\u001b[39m\u001b[38;5;124m\"\u001b[39m,\u001b[38;5;241m2\u001b[39m\u001b[38;5;241m+\u001b[39m\u001b[38;5;241m4\u001b[39mj,\u001b[38;5;28;01mTrue\u001b[39;00m,\u001b[38;5;28;01mFalse\u001b[39;00m]\n\u001b[1;32m----> 2\u001b[0m \u001b[43mlst1\u001b[49m\u001b[38;5;241;43m.\u001b[39;49m\u001b[43msort\u001b[49m\u001b[43m(\u001b[49m\u001b[43m)\u001b[49m\n\u001b[0;32m      3\u001b[0m \u001b[38;5;28mprint\u001b[39m(lst1,\u001b[38;5;28mid\u001b[39m(lst1))\n",
      "\u001b[1;31mTypeError\u001b[0m: '<' not supported between instances of 'str' and 'int'"
     ]
    }
   ],
   "source": [
    "lst1=[10,20,\"rs\",\"b7\",2+4j,True,False]\n",
    "lst1.sort()\n",
    "print(lst1,id(lst1))"
   ]
  },
  {
   "cell_type": "code",
   "execution_count": 34,
   "metadata": {},
   "outputs": [],
   "source": [
    "lst1=[10,20,\"rs\",\"b7\",2+4j,True,False]\n",
    "lst2=[\"python\",\"javascript\",\"react\",\"html\",\"css\",\"nextjs\",\"tailwind\"]\n",
    "\n",
    "lst1.extend(lst2)"
   ]
  },
  {
   "cell_type": "code",
   "execution_count": 35,
   "metadata": {},
   "outputs": [
    {
     "name": "stdout",
     "output_type": "stream",
     "text": [
      "[10, 20, 'rs', 'b7', (2+4j), True, False, 'python', 'javascript', 'react', 'html', 'css', 'nextjs', 'tailwind']\n"
     ]
    }
   ],
   "source": [
    "print(lst1)"
   ]
  },
  {
   "cell_type": "code",
   "execution_count": 36,
   "metadata": {},
   "outputs": [],
   "source": [
    "# merging to list we use extend function"
   ]
  },
  {
   "cell_type": "code",
   "execution_count": 37,
   "metadata": {},
   "outputs": [],
   "source": [
    "# when we use append then it is added within the same list "
   ]
  },
  {
   "cell_type": "code",
   "execution_count": 38,
   "metadata": {},
   "outputs": [
    {
     "name": "stdout",
     "output_type": "stream",
     "text": [
      "[10, 20, 'rs', 'b7', (2+4j), True, False, 'python', 'javascript', 'react', 'html', 'css', 'nextjs', 'tailwind', ['python', 'javascript', 'react', 'html', 'css', 'nextjs', 'tailwind']]\n"
     ]
    }
   ],
   "source": [
    "lst1.append(lst2)\n",
    "print(lst1)"
   ]
  },
  {
   "cell_type": "code",
   "execution_count": 39,
   "metadata": {},
   "outputs": [],
   "source": [
    "# list with in list will come "
   ]
  },
  {
   "cell_type": "code",
   "execution_count": 40,
   "metadata": {},
   "outputs": [],
   "source": [
    "#syntax:-\n",
    "\n",
    "# lst1.extend(lst2)\n"
   ]
  },
  {
   "cell_type": "code",
   "execution_count": 41,
   "metadata": {},
   "outputs": [
    {
     "data": {
      "text/plain": [
       "[10,\n",
       " 20,\n",
       " 'rs',\n",
       " 'b7',\n",
       " (2+4j),\n",
       " True,\n",
       " False,\n",
       " 'python',\n",
       " 'javascript',\n",
       " 'react',\n",
       " 'html',\n",
       " 'css',\n",
       " 'nextjs',\n",
       " 'tailwind',\n",
       " ['python', 'javascript', 'react', 'html', 'css', 'nextjs', 'tailwind'],\n",
       " 'python',\n",
       " 'javascript',\n",
       " 'react',\n",
       " 'html',\n",
       " 'css',\n",
       " 'nextjs',\n",
       " 'tailwind']"
      ]
     },
     "execution_count": 41,
     "metadata": {},
     "output_type": "execute_result"
    }
   ],
   "source": [
    "lst1+lst2"
   ]
  },
  {
   "cell_type": "code",
   "execution_count": 42,
   "metadata": {},
   "outputs": [
    {
     "name": "stdout",
     "output_type": "stream",
     "text": [
      "[10, 20, 'rs', 'b7', (2+4j), True, False, 'python', 'javascript', 'react', 'html', 'css', 'nextjs', 'tailwind', ['python', 'javascript', 'react', 'html', 'css', 'nextjs', 'tailwind'], 'python', 'javascript', 'react', 'html', 'css', 'nextjs', 'tailwind']\n"
     ]
    }
   ],
   "source": [
    "lst3=lst1+lst2\n",
    "print(lst3)"
   ]
  },
  {
   "cell_type": "code",
   "execution_count": null,
   "metadata": {},
   "outputs": [],
   "source": []
  }
 ],
 "metadata": {
  "kernelspec": {
   "display_name": ".venv",
   "language": "python",
   "name": "python3"
  },
  "language_info": {
   "codemirror_mode": {
    "name": "ipython",
    "version": 3
   },
   "file_extension": ".py",
   "mimetype": "text/x-python",
   "name": "python",
   "nbconvert_exporter": "python",
   "pygments_lexer": "ipython3",
   "version": "3.12.6"
  }
 },
 "nbformat": 4,
 "nbformat_minor": 2
}
