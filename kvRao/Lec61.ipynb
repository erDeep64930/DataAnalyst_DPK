{
 "cells": [
  {
   "cell_type": "markdown",
   "metadata": {},
   "source": [
    "- filter is used for \"filtering out the some element from list of elements by applying to function\" .\n",
    "- syntax: varName=filter(functionName,iterableObject)\n",
    "\n",
    "- \"functionName - represnt either normal function or anonymous function\n",
    "- iterableObject - represent the sequence of list, set and dict.\n",
    "-\n"
   ]
  },
  {
   "cell_type": "code",
   "execution_count": null,
   "metadata": {},
   "outputs": [],
   "source": []
  },
  {
   "cell_type": "markdown",
   "metadata": {},
   "source": [
    "# map()\n",
    "\n",
    "- requirement \n",
    "\n",
    "- old marks= [40,60,30,80,10]\n",
    "- new marks = [add grace marks]\n",
    "\n",
    "syntax: varName= map(functionName,iterableObject)\n",
    "\n",
    "- map send every element of iterableObject to the specified function, process it and return the modified value (result) and new list of elements will be obtained \" the process will be continued until all element of iterable object completed.\n",
    "\n",
    "\n",
    "\n",
    " "
   ]
  },
  {
   "cell_type": "code",
   "execution_count": 3,
   "metadata": {},
   "outputs": [
    {
     "name": "stdout",
     "output_type": "stream",
     "text": [
      "enter list of old salary:\n",
      "list of old salaries [100.0, 200.0, 300.0]\n",
      "<map object at 0x0000020479398D30>\n",
      "[120.0, 240.0, 360.0]\n"
     ]
    }
   ],
   "source": [
    "# wap to read list of salary and obtain new list of salary\n",
    "def increment(sal):\n",
    "    sal=sal+sal*(20/100)\n",
    "    return sal\n",
    "    \n",
    "print(\"enter list of old salary:\")\n",
    "oldsal= [float(sal) for sal in input().split()]\n",
    "print(\"list of old salaries\",oldsal)\n",
    "nsl=map(increment,oldsal) # here nsl is called  object of class map\n",
    "print(nsl)\n",
    "newsal=list(nsl)\n",
    "print(newsal)\n",
    "\n"
   ]
  },
  {
   "cell_type": "code",
   "execution_count": 6,
   "metadata": {},
   "outputs": [
    {
     "name": "stdout",
     "output_type": "stream",
     "text": [
      "10 --> rs\n",
      "20 --> vk\n"
     ]
    }
   ],
   "source": [
    "lst1=[10,20,30,40]\n",
    "lst2=[\"rs\",\"vk\"]\n",
    "\n",
    "for x,y in zip(lst1,lst2):\n",
    "    print(x,\"-->\",y)\n",
    "    "
   ]
  },
  {
   "cell_type": "code",
   "execution_count": 10,
   "metadata": {},
   "outputs": [
    {
     "name": "stdout",
     "output_type": "stream",
     "text": [
      "cat --> meow\n",
      "dog --> bow\n",
      "human --> unnecessary-sound\n",
      "tiger --> roar\n"
     ]
    }
   ],
   "source": [
    "# hacker rank question\n",
    "animal=[\"cat\",\"dog\",\"human\",\"tiger\"]\n",
    "sound=[\"meow\",\"bow\",\"unnecessary-sound\",\"roar\"]\n",
    "\n",
    "for x,y in zip(animal,sound):\n",
    "    print(x,\"-->\",y)"
   ]
  },
  {
   "cell_type": "code",
   "execution_count": 13,
   "metadata": {},
   "outputs": [
    {
     "name": "stdout",
     "output_type": "stream",
     "text": [
      "('cat-meow', 'dog-bow', 'human-unnecessary-sound', 'tiger-roar')\n"
     ]
    }
   ],
   "source": [
    "# using lambda and tuple \n",
    "animal=[\"cat\",\"dog\",\"human\",\"tiger\"]\n",
    "sound=[\"meow\",\"bow\",\"unnecessary-sound\",\"roar\"]\n",
    "\n",
    "animal_sound=tuple(map(lambda ani,snd: ani+\"-\"+snd,animal,sound))\n",
    "print(animal_sound)"
   ]
  },
  {
   "cell_type": "code",
   "execution_count": null,
   "metadata": {},
   "outputs": [],
   "source": []
  },
  {
   "cell_type": "code",
   "execution_count": null,
   "metadata": {},
   "outputs": [],
   "source": []
  },
  {
   "cell_type": "code",
   "execution_count": null,
   "metadata": {},
   "outputs": [],
   "source": []
  },
  {
   "cell_type": "code",
   "execution_count": null,
   "metadata": {},
   "outputs": [],
   "source": []
  },
  {
   "cell_type": "code",
   "execution_count": null,
   "metadata": {},
   "outputs": [],
   "source": []
  },
  {
   "cell_type": "code",
   "execution_count": null,
   "metadata": {},
   "outputs": [],
   "source": []
  },
  {
   "cell_type": "code",
   "execution_count": null,
   "metadata": {},
   "outputs": [],
   "source": []
  },
  {
   "cell_type": "code",
   "execution_count": null,
   "metadata": {},
   "outputs": [],
   "source": []
  },
  {
   "cell_type": "code",
   "execution_count": null,
   "metadata": {},
   "outputs": [],
   "source": []
  },
  {
   "cell_type": "code",
   "execution_count": null,
   "metadata": {},
   "outputs": [],
   "source": []
  },
  {
   "cell_type": "code",
   "execution_count": null,
   "metadata": {},
   "outputs": [],
   "source": []
  },
  {
   "cell_type": "code",
   "execution_count": null,
   "metadata": {},
   "outputs": [],
   "source": []
  }
 ],
 "metadata": {
  "kernelspec": {
   "display_name": "Python 3",
   "language": "python",
   "name": "python3"
  },
  "language_info": {
   "codemirror_mode": {
    "name": "ipython",
    "version": 3
   },
   "file_extension": ".py",
   "mimetype": "text/x-python",
   "name": "python",
   "nbconvert_exporter": "python",
   "pygments_lexer": "ipython3",
   "version": "3.13.1"
  }
 },
 "nbformat": 4,
 "nbformat_minor": 2
}
