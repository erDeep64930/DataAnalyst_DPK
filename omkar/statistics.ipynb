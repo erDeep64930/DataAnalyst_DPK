{
 "cells": [
  {
   "cell_type": "markdown",
   "id": "19792be1-49e8-44df-a542-18111e45f937",
   "metadata": {},
   "source": [
    "# statistic"
   ]
  },
  {
   "cell_type": "code",
   "execution_count": null,
   "id": "35c0d4b3-5357-4cda-a650-84f670fa44a8",
   "metadata": {},
   "outputs": [],
   "source": [
    "level - 1\n",
    "level -2 \n",
    "level-3 [oops]\n",
    "\n",
    "python flask\n",
    "\n",
    "generative ai\n",
    "\n",
    "statistics\n",
    "\n",
    "eda with python\n",
    "\n"
   ]
  },
  {
   "cell_type": "raw",
   "id": "488d5e6b-9e05-4dd4-ae8f-bb4a52414005",
   "metadata": {},
   "source": [
    "statistic is a bridge for ML"
   ]
  },
  {
   "cell_type": "raw",
   "id": "7234fd6b-f33b-42a2-abbe-07b861d678ec",
   "metadata": {},
   "source": [
    "what is statistics ?\n",
    "-mean,median and mode \n",
    "-graph\n",
    "-probability\n",
    "-data presentation\n",
    "-deviation\n",
    "-distribution\n",
    "-analysis"
   ]
  },
  {
   "cell_type": "code",
   "execution_count": null,
   "id": "8399b6a0-6347-49a3-b5f6-fe51602f6a94",
   "metadata": {},
   "outputs": [],
   "source": [
    "statistics === story \n",
    "\n",
    "data science is a good story teller\n",
    "\n"
   ]
  },
  {
   "cell_type": "code",
   "execution_count": null,
   "id": "bab21f55-a857-4a58-a648-3b7feb202554",
   "metadata": {},
   "outputs": [],
   "source": [
    "step 1: - collect the data\n",
    "\n",
    "step 2:- organise the data\n",
    "\n",
    "step 3:- analyse tha data\n",
    "\n",
    "step 4:- interprete the data\n",
    "\n",
    "step 5:- expalin the story"
   ]
  },
  {
   "cell_type": "code",
   "execution_count": null,
   "id": "edba2dfd-d690-425e-ae51-2a1b15118c93",
   "metadata": {},
   "outputs": [],
   "source": [
    "types of data :-\n",
    "\n",
    "two types of data\n",
    "\n",
    "Quantity === numerical data {{numbers}}\n",
    "\n",
    "Quality === categorical data  {{english}}\n",
    "\n",
    "\n",
    "\n"
   ]
  },
  {
   "cell_type": "code",
   "execution_count": null,
   "id": "d2a1c3f2-7cd9-4b19-8d1c-c2bfc472fc75",
   "metadata": {},
   "outputs": [],
   "source": [
    "1. nominal data == categorical data\n",
    "random names, it does not have any logics\n",
    "\n",
    "eg: blr, mi, blr,csk\n",
    "\n",
    "2. ordinal data == categorical data\n",
    " you can see some order,\n",
    "\n",
    "eg:\n",
    "\n",
    "flop,hit,superhit,blockbuster\n",
    "\n",
    "primm --> secondary==> tertiary\n",
    "\n",
    "pass --fail\n",
    "\n",
    "past presnt future\n",
    "\n",
    "======================================================\n",
    "\n",
    "3.interval data ==numerical data\n",
    "\n",
    "have zero scale\n",
    "\n",
    "temperature\n",
    "\n",
    "\n",
    "4. Ratio level data ==numerical data \n",
    "\n",
    "a metric which do not have zero sacle \n",
    "eg: \n"
   ]
  },
  {
   "cell_type": "code",
   "execution_count": null,
   "id": "bf92c8da-92f6-4722-9432-e0ecfafddec8",
   "metadata": {},
   "outputs": [],
   "source": [
    "histogram = numerical data x-axis=numeric ; y-axis=numeric"
   ]
  },
  {
   "cell_type": "raw",
   "id": "1795b84a-4cfc-4493-9b66-e8de23f4e4fa",
   "metadata": {},
   "source": [
    "categorical : frequency table bar plot/pie chart\n",
    "\n",
    "numerical data : frequency distribution table  histogram\n",
    "\n",
    "after plot distribution :-\n",
    "\n",
    "\n",
    "there are two types of analysys\n",
    "\n",
    "1 central point tndency ---central tendency\n",
    "\n",
    "  mean , median , mode\n",
    "\n",
    "2. data flow tendency ---data dispersion/data variance\n",
    "\n",
    " range \n",
    " mean deviation\n",
    " absolute mean deviation\n",
    " variance\n",
    " standard deviation\n",
    "\n",
    "\n"
   ]
  },
  {
   "cell_type": "markdown",
   "id": "d121a221-a022-4baa-83fa-fd6717128578",
   "metadata": {},
   "source": [
    "# Central point analysis"
   ]
  },
  {
   "cell_type": "raw",
   "id": "8fe81ec8-abdf-46f3-a644-a3c18f053d73",
   "metadata": {},
   "source": [
    " the edges in distribution plot is called asymtodes\n",
    "asymtodes never touches real axis\n",
    "\n",
    "median == middle value ===50 percentile\n",
    "\n",
    "median vs mean is better ?\n",
    "\n",
    "mean will affect by outlier\n",
    "\n",
    "median will not affect by outlier\n",
    "\n",
    "mode : highest repeated value\n",
    "\n"
   ]
  },
  {
   "cell_type": "markdown",
   "id": "013d2943-e5a2-49e0-adbd-8d3aeca85490",
   "metadata": {},
   "source": [
    "mean: average value\n",
    "\n",
    "median: 50 percentile data [middle value]\n",
    "\n",
    "mode : most repeated value,in distributed highest peak.\n",
    "\n",
    "\n",
    "data is skewed ===it has outlier\n",
    "\n",
    "outlier are present mean will affect\n",
    "\n",
    "mean will present in the skewed position\n",
    "\n",
    " whenever ambani salary is added our salar is also affected.\n",
    "\n",
    "\n",
    "\n"
   ]
  },
  {
   "cell_type": "markdown",
   "id": "a0f46915-3856-448e-932c-4725034a43ac",
   "metadata": {},
   "source": [
    "# mean>median>mode = right skew /positive skewed"
   ]
  },
  {
   "cell_type": "markdown",
   "id": "55a0ed8f-d3e1-40bf-9092-18611e5ae458",
   "metadata": {},
   "source": [
    "# mode>median>mean = no skewed == left skewed or negative skewed"
   ]
  },
  {
   "cell_type": "markdown",
   "id": "2da5e379-7ed5-476c-bf0b-d0a7c67a84ad",
   "metadata": {},
   "source": [
    "# no skewed = normal distribution\n",
    "# mean = median = mode ===>bell shaped"
   ]
  },
  {
   "cell_type": "markdown",
   "id": "a275d58f-3be6-4eed-ad8b-0edcc5543979",
   "metadata": {},
   "source": [
    "- data types\n",
    "- representation bar/pie/his ==data distribution\n",
    "- mesurement : central tendency\n",
    "  mean ,median,mode,outlier,data distribution"
   ]
  },
  {
   "cell_type": "markdown",
   "id": "876a854b-2208-4b36-af21-9bc3c0bbb4fe",
   "metadata": {},
   "source": [
    "# data dispersion/data flow /data variance"
   ]
  },
  {
   "cell_type": "markdown",
   "id": "b1075eee-36f8-4474-8656-8895b91df299",
   "metadata": {},
   "source": [
    "dispersion = flow = variance \n",
    "\n",
    "when data is in flow we need to analyse the data.\n",
    "\n",
    "range\n",
    "mean deviation\n",
    "absolute mean deviation\n",
    "variance\n",
    "standard deviation\n"
   ]
  },
  {
   "cell_type": "markdown",
   "id": "9645c016-7789-4027-8c9e-8ad9cced6e81",
   "metadata": {},
   "source": [
    "a.) range \n",
    "    suppose a data point start at 1 and end at 100\n",
    "\n",
    "    low=1\n",
    "    high=100\n",
    "\n",
    "    range=high-low\n",
    "\n",
    "   eg:\n",
    "   1===>2===>3====>4\n",
    "   range: 4-1=3\n",
    "\n",
    "   drawback:\n",
    "  - it will concentrate on low and high value and not middle value.\n",
    "   -"
   ]
  },
  {
   "cell_type": "markdown",
   "id": "aee789ab-26c2-4a76-b366-dc73eb187f54",
   "metadata": {},
   "source": [
    "# mean deviation \n",
    "- each and every observation will be consider\n",
    "- in such a way that how much it is deviated (far)  from mean point\n",
    "- 1 2 3 4 5\n",
    "- mean = 3\n",
    "- \n"
   ]
  },
  {
   "cell_type": "raw",
   "id": "f908515e-6cb2-4c8c-82fa-28a7fbd43bb9",
   "metadata": {},
   "source": [
    "topic to be done in statistics:-\n",
    "1. what is statistics\n",
    "2.types of statistics\n",
    "3.population vs sample\n",
    "4.data types\n",
    "5.levels of data\n",
    "6.parameter vs statistics\n",
    "7.frequency table\n",
    "8.frequency distribution table\n",
    "9.bar plot\n",
    "10.pie chart\n",
    "11.histogram\n",
    "12.distribution plot\n",
    "13.central tendency\n",
    "14.mean-median mode\n",
    "15.mean vs median\n",
    "16.outlier\n",
    "17.types of distribution\n",
    "18.negative skew  , positive skew , no skew\n",
    "19.range mean deviation, absolute mean deviation\n",
    "20.variance\n",
    "21.standard deviation\n",
    "22.how to find outlier\n",
    "23.percentile , quartile\n",
    "24.box-plot\n",
    "25.univariant bivariant multivariant\n",
    "26.scatter plot\n",
    "27.co variance\n",
    "28.covariance matrix\n",
    "29.corelation\n",
    "30.diffrence between covariance and corelation"
   ]
  },
  {
   "cell_type": "raw",
   "id": "c3064608-51c2-4585-b400-c86c28dc318c",
   "metadata": {},
   "source": [
    "### Notes on Statistics with Examples\n",
    "\n",
    "#### 1. What is Statistics?\n",
    "Statistics is the branch of mathematics dealing with the collection, analysis, interpretation, and presentation of data. It is essential for making informed decisions in various fields such as business, medicine, and social sciences.\n",
    "\n",
    "#### 2. Types of Statistics\n",
    "- **Descriptive Statistics**: Summarizes and describes data (e.g., mean, median).\n",
    "- **Inferential Statistics**: Makes predictions or inferences about a population based on a sample.\n",
    "\n",
    "#### 3. Population vs. Sample\n",
    "- **Population**: The entire group being studied.\n",
    "- **Sample**: A subset of the population used to make inferences about the whole.\n",
    "\n",
    "**Example**: A survey of 1000 voters (sample) to predict election results for a country (population).\n",
    "\n",
    "#### 4. Data Types\n",
    "- **Quantitative**: Numeric data (e.g., height, weight).\n",
    "- **Qualitative**: Categorical data (e.g., gender, color).\n",
    "\n",
    "#### 5. Levels of Data\n",
    "1. **Nominal**: Categories without order (e.g., colors).\n",
    "2. **Ordinal**: Ordered categories (e.g., rankings).\n",
    "3. **Interval**: Numeric with no true zero (e.g., temperature).\n",
    "4. **Ratio**: Numeric with a true zero (e.g., weight).\n",
    "\n",
    "#### 6. Parameter vs. Statistic\n",
    "- **Parameter**: Describes a population (e.g., population mean).\n",
    "- **Statistic**: Describes a sample (e.g., sample mean).\n",
    "\n",
    "#### 7. Frequency Table\n",
    "Organizes data into categories and shows the count.\n",
    "\n",
    "#### 8. Frequency Distribution Table\n",
    "Shows frequencies of data within specific intervals or categories.\n",
    "\n",
    "#### 9. Bar Plot\n",
    "Visualizes categorical data using rectangular bars.\n",
    "\n",
    "**Example**: Bar plot of sales for different product categories.\n",
    "\n",
    "#### 10. Pie Chart\n",
    "Represents proportions as slices of a circle.\n",
    "\n",
    "**Example**: Market share of companies in a sector.\n",
    "\n",
    "#### 11. Histogram\n",
    "Shows the frequency of data within intervals.\n",
    "\n",
    "#### 12. Distribution Plot\n",
    "Visualizes the probability distribution of data.\n",
    "\n",
    "#### 13. Central Tendency\n",
    "Measures to identify the center of a dataset.\n",
    "\n",
    "#### 14. Mean, Median, Mode\n",
    "- **Mean**: Average of data.\n",
    "- **Median**: Middle value.\n",
    "- **Mode**: Most frequent value.\n",
    "\n",
    "**Example**: For data {1, 2, 2, 3, 4}:\n",
    "- Mean: 2.4\n",
    "- Median: 2\n",
    "- Mode: 2\n",
    "\n",
    "#### 15. Mean vs. Median\n",
    "- Mean is sensitive to outliers, while median is not.\n",
    "\n",
    "#### 16. Outlier\n",
    "An extreme value that differs significantly from the rest of the data.\n",
    "\n",
    "#### 17. Types of Distribution\n",
    "- **Normal**: Symmetrical bell curve.\n",
    "- **Skewed**: Asymmetrical distribution.\n",
    "\n",
    "#### 18. Negative Skew, Positive Skew, No Skew\n",
    "- **Negative Skew**: Tail to the left.\n",
    "- **Positive Skew**: Tail to the right.\n",
    "- **No Skew**: Symmetrical.\n",
    "\n",
    "#### 19. Range, Mean Deviation, Absolute Mean Deviation\n",
    "- **Range**: Difference between max and min values.\n",
    "- **Mean Deviation**: Average of absolute deviations from the mean.\n",
    "\n",
    "#### 20. Variance\n",
    "Measures the spread of data around the mean.\n",
    "\n",
    "#### 21. Standard Deviation\n",
    "Square root of variance, indicating data dispersion.\n",
    "\n",
    "#### 22. How to Find Outlier\n",
    "- Use 1.5 * IQR rule in box plots.\n",
    "\n",
    "#### 23. Percentile, Quartile\n",
    "- **Percentile**: Data position in 100 parts.\n",
    "- **Quartile**: Data position in 4 parts.\n",
    "\n",
    "#### 24. Box-Plot\n",
    "Visualizes data spread and identifies outliers.\n",
    "\n",
    "#### 25. Univariate, Bivariate, Multivariate\n",
    "- **Univariate**: One variable.\n",
    "- **Bivariate**: Two variables.\n",
    "- **Multivariate**: More than two variables.\n",
    "\n",
    "#### 26. Scatter Plot\n",
    "Plots two variables to show relationships.\n",
    "\n",
    "**Example**: Relationship between hours studied and exam score.\n",
    "\n",
    "#### 27. Co-Variance\n",
    "Measures how two variables vary together.\n",
    "\n",
    "#### 28. Covariance Matrix\n",
    "Matrix showing covariances among multiple variables.\n",
    "\n",
    "#### 29. Correlation\n",
    "Measures the strength and direction of a linear relationship between variables.\n",
    "\n",
    "#### 30. Difference Between Covariance and Correlation\n",
    "- **Covariance**: Magnitude of relationship.\n",
    "- **Correlation**: Standardized measure of relationship.\n",
    "\n",
    "### Examples with Explanation\n",
    "\n",
    "**Example 1: Central Tendency Analysis**\n",
    "Consider the data: {3, 7, 7, 10, 12}\n",
    "- **Mean**: (3 + 7 + 7 + 10 + 12)/5 = 7.8\n",
    "- **Median**: 7 (middle value when sorted)\n",
    "- **Mode**: 7 (most frequent value)\n",
    "This example highlights how central tendency measures summarize data.\n",
    "\n",
    "**Example 2: Visualizing Data**\n",
    "Data: Sales of products (A: 50, B: 30, C: 20).\n",
    "- **Bar Plot**: Displays sales as bars of different heights.\n",
    "- **Pie Chart**: Shows proportions (e.g., A = 50%, B = 30%).\n",
    "This example illustrates how different visualizations can present the same data effectively.\n",
    "\n"
   ]
  },
  {
   "cell_type": "code",
   "execution_count": null,
   "id": "48a131ff-b136-4404-b440-75931334872a",
   "metadata": {},
   "outputs": [],
   "source": [
    "empherical law:-\n",
    "\n"
   ]
  },
  {
   "cell_type": "code",
   "execution_count": null,
   "id": "7754bdaa-4b7d-4755-aacc-b635dfa98b7b",
   "metadata": {},
   "outputs": [],
   "source": []
  },
  {
   "cell_type": "code",
   "execution_count": null,
   "id": "4053238b-1e19-469f-82b9-f28abb148e0b",
   "metadata": {},
   "outputs": [],
   "source": []
  },
  {
   "cell_type": "code",
   "execution_count": null,
   "id": "756c9729-dce9-4b82-9eb0-17e36d2af940",
   "metadata": {},
   "outputs": [],
   "source": []
  },
  {
   "cell_type": "code",
   "execution_count": null,
   "id": "3532f54a-237e-460b-92ee-1b1f1e69bb0a",
   "metadata": {},
   "outputs": [],
   "source": []
  },
  {
   "cell_type": "code",
   "execution_count": null,
   "id": "74c88cad-ecd2-44a6-9e5c-eee0cf25e22c",
   "metadata": {},
   "outputs": [],
   "source": []
  }
 ],
 "metadata": {
  "kernelspec": {
   "display_name": "Python 3 (ipykernel)",
   "language": "python",
   "name": "python3"
  },
  "language_info": {
   "codemirror_mode": {
    "name": "ipython",
    "version": 3
   },
   "file_extension": ".py",
   "mimetype": "text/x-python",
   "name": "python",
   "nbconvert_exporter": "python",
   "pygments_lexer": "ipython3",
   "version": "3.12.4"
  }
 },
 "nbformat": 4,
 "nbformat_minor": 5
}
