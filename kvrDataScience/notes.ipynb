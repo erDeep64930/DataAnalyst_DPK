{
 "cells": [
  {
   "cell_type": "markdown",
   "metadata": {},
   "source": [
    "# NumPy, Pandas, Matplotlib"
   ]
  },
  {
   "cell_type": "markdown",
   "metadata": {},
   "source": [
    "- NumPy\n",
    "- creation of numpy array\n",
    "- array()\n",
    "- arrange()\n",
    "- linspace()\n",
    "- zeros()\n",
    "- Ones()\n",
    "- full()\n",
    "- eye()\n",
    "- identity()\n",
    "- diag()\n",
    "- empty()\n",
    "- random library function\n",
    "\n",
    "- randint()\n",
    "- rand()\n",
    "- uniform()\n",
    "- randn()\n",
    "- normal()\n",
    "- shuffle()\n",
    "-------------------------\n",
    "\n",
    "- Array attributes & numpy data types\n",
    "- view vs copy\n",
    "\n",
    "------------------\n",
    "\n",
    "- Indexing, Slicing and advance Indexing\n",
    "- basic indexing- to select only one element\n",
    "- slicing - to select multiple arbitrary element\n",
    "- condition based selection\n",
    "\n",
    "------------------\n",
    "\n",
    "- how to iterate element of the nd array\n",
    "\n",
    "- by python loop\n",
    "- by numpy nditer() function\n",
    "- by using ndenumerate() function\n",
    "\n",
    "------------------\n",
    "\n",
    "Arithmetics operation:\n",
    "- arithmetics operation for numpy array with scaler\n",
    "- arithmetics operation for array with array\n",
    "\n",
    "\n",
    "----------------------\n",
    "Array manipulation function\n",
    "\n",
    "- reshape()\n",
    "- resize() \n",
    "- flatten()\n",
    "- flat variable\n",
    "- ravel()\n",
    "- transpose()\n",
    "- swapaxes()\n",
    "\n",
    "\n",
    "--------------\n",
    "- Joining of multiple array into a single array\n",
    "\n",
    "- concatenate()\n",
    "- stack()\n",
    "- vstack()\n",
    "- hstack()\n",
    "- dstack()\n",
    "\n",
    "--------------\n",
    "- splitting of array \n",
    "\n",
    "- split()\n",
    "- vsplit()\n",
    "- hsplit()\n",
    "- dsplit()\n",
    "\n",
    "--------------\n",
    "- how to insert element from ndarray\n",
    "\n",
    "- insert()\n",
    "- append()\n",
    "\n",
    "---------------\n",
    "\n",
    "- deleting element from ndarray\n",
    "- matrix multiplication\n",
    "- importance of matrix class in numpy library.\n",
    "\n",
    "--------------\n",
    "- Linear algebra function from linalg module\n",
    "- inv() - to find the inverse of matrix\n",
    "- matrix_power() - to find the power of matrix A^n\n",
    "- det() - to find the determinant of matrix\n",
    "- solve() - to solve the linear algebra question\n",
    "-  I/O  operation with numpy \n",
    "- basic statistics with numpy\n",
    "- numpy mathematics function\n",
    "- how to find unique items and count.\n"
   ]
  },
  {
   "cell_type": "code",
   "execution_count": 1,
   "metadata": {},
   "outputs": [
    {
     "data": {
      "text/plain": [
       "'\\nPre requisite-\\n Data type\\n loop\\n function\\n \\n'"
      ]
     },
     "execution_count": 1,
     "metadata": {},
     "output_type": "execute_result"
    }
   ],
   "source": [
    "\"\"\"\n",
    "Pre requisite-\n",
    " Data type\n",
    " loop\n",
    " function\n",
    " \n",
    "\"\"\""
   ]
  },
  {
   "cell_type": "markdown",
   "metadata": {},
   "source": [
    "- Numpy stand for numerical python \n",
    "- to deal with arrays based computing + complex operation\n",
    "- travis oliphan developed numpy \n",
    "- he developed numpy in C, Python language."
   ]
  },
  {
   "cell_type": "code",
   "execution_count": 3,
   "metadata": {},
   "outputs": [
    {
     "name": "stdout",
     "output_type": "stream",
     "text": [
      "[[10, 20], [30, 40]]\n"
     ]
    }
   ],
   "source": [
    "lst=[[10,20],[30,40]]\n",
    "print(lst)"
   ]
  },
  {
   "cell_type": "code",
   "execution_count": 4,
   "metadata": {},
   "outputs": [
    {
     "name": "stdout",
     "output_type": "stream",
     "text": [
      "[10, 20]\n",
      "[30, 40]\n"
     ]
    }
   ],
   "source": [
    "for row in lst:\n",
    "    print(row)"
   ]
  },
  {
   "cell_type": "code",
   "execution_count": 1,
   "metadata": {},
   "outputs": [
    {
     "data": {
      "text/plain": [
       "'\"\\n- ndarray - mean n dimension array\\n- pip install numpy\\n\\n- to uninstall\\npip uninstall numpy\\n\\n# to install and uninstall you need internet connection\\nbecause pip is connected to github\\n\\n-to find the version of numpy\\nimport numpy\\nprint(np.__version__)\\n\\n'"
      ]
     },
     "execution_count": 1,
     "metadata": {},
     "output_type": "execute_result"
    }
   ],
   "source": [
    "\"\"\"\"\n",
    "- ndarray - mean n dimension array\n",
    "- pip install numpy\n",
    "\n",
    "- to uninstall\n",
    "pip uninstall numpy\n",
    "\n",
    "# to install and uninstall you need internet connection\n",
    "because pip is connected to github\n",
    "\n",
    "-to find the version of numpy\n",
    "import numpy\n",
    "print(np.__version__)\n",
    "\n",
    "\"\"\""
   ]
  },
  {
   "cell_type": "code",
   "execution_count": 2,
   "metadata": {},
   "outputs": [
    {
     "name": "stdout",
     "output_type": "stream",
     "text": [
      "2.2.2\n"
     ]
    }
   ],
   "source": [
    "import numpy as np\n",
    "print(np.__version__)\n",
    "\n"
   ]
  },
  {
   "cell_type": "code",
   "execution_count": 7,
   "metadata": {},
   "outputs": [
    {
     "name": "stdout",
     "output_type": "stream",
     "text": [
      "[10 20 30 40 50 60 15 10 35 20 30] <class 'numpy.ndarray'>\n"
     ]
    }
   ],
   "source": [
    "lst=[10,20,30,40,50,60,15,10,35,20,30]\n",
    "a=np.array(lst)\n",
    "print(a,type(a))"
   ]
  },
  {
   "cell_type": "code",
   "execution_count": 8,
   "metadata": {},
   "outputs": [
    {
     "name": "stdout",
     "output_type": "stream",
     "text": [
      "[11 21 31 41 51 61 16 11 36 21 31] <class 'numpy.ndarray'>\n"
     ]
    }
   ],
   "source": [
    "a=a+1\n",
    "print(a,type(a))"
   ]
  },
  {
   "cell_type": "code",
   "execution_count": 9,
   "metadata": {},
   "outputs": [
    {
     "name": "stdout",
     "output_type": "stream",
     "text": [
      "88\n"
     ]
    }
   ],
   "source": [
    "# how to find the memory size \n",
    "import sys\n",
    "lst1=[10,20,30]\n",
    "print(sys.getsizeof(lst1))"
   ]
  },
  {
   "cell_type": "code",
   "execution_count": 1,
   "metadata": {},
   "outputs": [],
   "source": [
    "# vector based operation is done with numpy.\n",
    "# nd array take less memory space for large scale data \n",
    "#"
   ]
  },
  {
   "cell_type": "markdown",
   "metadata": {},
   "source": [
    "# Numpy"
   ]
  },
  {
   "cell_type": "markdown",
   "metadata": {},
   "source": [
    "\"\"\"  \n",
    "- numpy stand for numerical python .\n",
    "- numpy is one of the pre define third party module / library and numpy module is not pre define module in python.\n",
    "- syntax for installing any module in python:\n",
    "    pip install numpy\n",
    "    \n",
    "- to use numpy as a part of our program , we must import numpy module.\n",
    "- a numpy module is collection of variable, function, and classes.\n",
    "____________________\n",
    "\n",
    "History of numpy:-\n",
    "\n",
    "- developed in 2005 by travis oliphan.\n",
    "- to solve complex math.\n",
    "- numpy is developed in c and python language.\n",
    "\n",
    "- in numpy programming , data is organise in the object of \"ndarray\". which is one of the pre defined class in numpy.\n",
    "- hence object of ndarray can store same type or different type ( unique+duplicate ) in single object.\n",
    "\n",
    "__________________________\n",
    "\n",
    "# Advantage of numpy.\n",
    "\n",
    "- with revolution of data science , data analysis like numpy, scipy, scikit and pandas etc., have seen a lot of growth.\n",
    "- numpy provide a convenient and efficient way to handle the vast amount of data .\n",
    "- numpy can also do matrix operation and data reshaping.\n",
    "- numpy is fast which makes it resonable to work with large set of data.\n",
    "\n",
    "\n",
    "- we can perform 1d,2d ,3d multi dimension array.\n",
    "- numpy maintain minimal memory for large of data .\n",
    "-  numpy provide fast in performing operation because it internally its data is available at same address.\n",
    "- numpy provide many inbuilt function for various complex mathematics operation such as statistical, algebraic, trigonometric, financial and many more.\n",
    "    \n",
    "\"\"\""
   ]
  },
  {
   "cell_type": "markdown",
   "metadata": {},
   "source": [
    "# number of ways to create an object of ndarray:-\n",
    "\n",
    " \n",
    "# i want to create a object of list:-\n",
    "- lst1=list()\n",
    "#or\n",
    "- lst2=[]\n",
    "#or \n",
    "- lst3=list({v1,v2,v3})\n",
    "#or\n",
    "lst4=list((v1,v2,v3))\n"
   ]
  },
  {
   "cell_type": "code",
   "execution_count": 4,
   "metadata": {},
   "outputs": [],
   "source": [
    "# in numpy we can create an object of ndarray with the following ways:-\n",
    "\n",
    "#1. array()\n",
    "#2. arange()\n",
    "#3. linspace()\n",
    "#4. zeros()\n",
    "#5. ones()\n",
    "#6. full()\n",
    "#7. identity()\n",
    "#8. eye()\n",
    "#9. hstack()\n",
    "#10. vstack()\n",
    "\n",
    "\n",
    "#numpy.random \n",
    "    #a. randint()\n",
    "    #b. rand()\n",
    "    #c. uniform()\n",
    "    #d. randn()\n",
    "    #e. normal()\n",
    "    #f. shuffle()\n",
    "    "
   ]
  },
  {
   "cell_type": "code",
   "execution_count": 5,
   "metadata": {},
   "outputs": [],
   "source": [
    "#pip show numpy\n",
    "#pip list"
   ]
  },
  {
   "cell_type": "markdown",
   "metadata": {},
   "source": [
    "# 1. array()\n",
    "- syntax:-\n",
    "- varname=numpy.array(object,dtype)\n",
    "- this function is used  for converting traditional python objects into ndarray object\n",
    "\n"
   ]
  },
  {
   "cell_type": "code",
   "execution_count": 7,
   "metadata": {},
   "outputs": [
    {
     "name": "stdout",
     "output_type": "stream",
     "text": [
      "90 <class 'numpy.ndarray'>\n"
     ]
    }
   ],
   "source": [
    "import numpy as np\n",
    "b=90\n",
    "a=np.array(b)\n",
    "print(a,type(a))"
   ]
  },
  {
   "cell_type": "code",
   "execution_count": 9,
   "metadata": {},
   "outputs": [
    {
     "name": "stdout",
     "output_type": "stream",
     "text": [
      "0\n"
     ]
    }
   ],
   "source": [
    "print(a.ndim)"
   ]
  },
  {
   "cell_type": "code",
   "execution_count": 10,
   "metadata": {},
   "outputs": [
    {
     "name": "stdout",
     "output_type": "stream",
     "text": [
      "()\n"
     ]
    }
   ],
   "source": [
    "print(a.shape)"
   ]
  },
  {
   "cell_type": "code",
   "execution_count": 11,
   "metadata": {},
   "outputs": [
    {
     "name": "stdout",
     "output_type": "stream",
     "text": [
      "1\n"
     ]
    }
   ],
   "source": [
    "print(a.size)"
   ]
  },
  {
   "cell_type": "code",
   "execution_count": 12,
   "metadata": {},
   "outputs": [
    {
     "name": "stdout",
     "output_type": "stream",
     "text": [
      "int64\n"
     ]
    }
   ],
   "source": [
    "print(a.dtype)"
   ]
  },
  {
   "cell_type": "code",
   "execution_count": 13,
   "metadata": {},
   "outputs": [
    {
     "name": "stdout",
     "output_type": "stream",
     "text": [
      "3.4 <class 'numpy.ndarray'>\n",
      "dimension 0\n",
      "shape ()\n",
      "size 1\n",
      "internal data type float64\n"
     ]
    }
   ],
   "source": [
    "b=3.4\n",
    "a=np.array(b)\n",
    "print(a,type(a))\n",
    "print(\"dimension\",a.ndim)\n",
    "print(\"shape\",a.shape)\n",
    "print(\"size\",a.size)\n",
    "print(\"internal data type\",a.dtype)"
   ]
  },
  {
   "cell_type": "code",
   "execution_count": 14,
   "metadata": {},
   "outputs": [
    {
     "name": "stdout",
     "output_type": "stream",
     "text": [
      "(3.4+4.5j) <class 'numpy.ndarray'>\n",
      "dimension 0\n",
      "shape ()\n",
      "size 1\n",
      "internal data type complex128\n"
     ]
    }
   ],
   "source": [
    "b=3.4+4.5j\n",
    "a=np.array(b)\n",
    "print(a,type(a))\n",
    "print(\"dimension\",a.ndim)\n",
    "print(\"shape\",a.shape)\n",
    "print(\"size\",a.size)\n",
    "print(\"internal data type\",a.dtype)"
   ]
  },
  {
   "cell_type": "code",
   "execution_count": 15,
   "metadata": {},
   "outputs": [
    {
     "name": "stdout",
     "output_type": "stream",
     "text": [
      "python <class 'numpy.ndarray'>\n",
      "dimension 0\n",
      "shape ()\n",
      "size 1\n",
      "internal data type <U6\n"
     ]
    }
   ],
   "source": [
    "b=\"python\"\n",
    "a=np.array(b)\n",
    "print(a,type(a))\n",
    "print(\"dimension\",a.ndim)\n",
    "print(\"shape\",a.shape)\n",
    "print(\"size\",a.size)\n",
    "print(\"internal data type\",a.dtype)"
   ]
  },
  {
   "cell_type": "code",
   "execution_count": 17,
   "metadata": {},
   "outputs": [
    {
     "name": "stdout",
     "output_type": "stream",
     "text": [
      "1\t2\t3\t4\t5\t6\t7\t8\t9\t10\t"
     ]
    }
   ],
   "source": [
    "for val in range(1,11):\n",
    "    print(val,end=\"\\t\")"
   ]
  },
  {
   "cell_type": "code",
   "execution_count": 18,
   "metadata": {},
   "outputs": [
    {
     "name": "stdout",
     "output_type": "stream",
     "text": [
      "[10 12 14 16 18 20 22 24 26 28 30 32 34 36 38 40 42 44 46 48 50]\t"
     ]
    }
   ],
   "source": [
    "r=range(10,51,2)\n",
    "a=np.array(r)\n",
    "print(a,end=\"\\t\")"
   ]
  },
  {
   "cell_type": "code",
   "execution_count": 19,
   "metadata": {},
   "outputs": [
    {
     "name": "stdout",
     "output_type": "stream",
     "text": [
      "[10 12 14 16 18 20 22 24 26 28 30 32 34 36 38 40 42 44 46 48 50] <class 'numpy.ndarray'>\n",
      "dimension 1\n",
      "shape (21,)\n",
      "size 21\n",
      "internal data type int64\n"
     ]
    }
   ],
   "source": [
    "print(a,type(a))\n",
    "print(\"dimension\",a.ndim)\n",
    "print(\"shape\",a.shape)\n",
    "print(\"size\",a.size)\n",
    "print(\"internal data type\",a.dtype)"
   ]
  },
  {
   "cell_type": "code",
   "execution_count": 20,
   "metadata": {},
   "outputs": [
    {
     "name": "stdout",
     "output_type": "stream",
     "text": [
      "[False  True  True  True  True  True] <class 'numpy.ndarray'>\n",
      "dimension 1\n",
      "shape (6,)\n",
      "size 6\n",
      "internal data type bool\n"
     ]
    }
   ],
   "source": [
    "a=np.array(range(6),dtype=bool)\n",
    "print(a,type(a))\n",
    "print(\"dimension\",a.ndim)\n",
    "print(\"shape\",a.shape)\n",
    "print(\"size\",a.size)\n",
    "print(\"internal data type\",a.dtype)"
   ]
  },
  {
   "cell_type": "code",
   "execution_count": 21,
   "metadata": {},
   "outputs": [
    {
     "name": "stdout",
     "output_type": "stream",
     "text": [
      "[0 1 2 3 4 5] <class 'numpy.ndarray'>\n",
      "dimension 1\n",
      "shape (6,)\n",
      "size 6\n",
      "internal data type int64\n"
     ]
    }
   ],
   "source": [
    "a=np.array(range(6),dtype=int)\n",
    "print(a,type(a))\n",
    "print(\"dimension\",a.ndim)\n",
    "print(\"shape\",a.shape)\n",
    "print(\"size\",a.size)\n",
    "print(\"internal data type\",a.dtype)"
   ]
  },
  {
   "cell_type": "markdown",
   "metadata": {},
   "source": [
    "# now i want to reshape the 1D to 2D array:-\n",
    "\n",
    "- syntax: for shape attribute\n",
    "- ndarrayobj.shape=(rows,cols)\n",
    "-  syntax: for reshape attribute\n",
    "- ndarrayobj=ndarrayobj.reshape(rows,cols)"
   ]
  },
  {
   "cell_type": "code",
   "execution_count": 22,
   "metadata": {},
   "outputs": [
    {
     "name": "stdout",
     "output_type": "stream",
     "text": [
      "[100 105 110 115 120 125 130 135 140 145 150 155] <class 'numpy.ndarray'>\n",
      "dimension 1\n",
      "shape (12,)\n",
      "size 12\n",
      "internal data type int64\n"
     ]
    }
   ],
   "source": [
    "a=np.array(range(100,156,5))\n",
    "print(a,type(a))\n",
    "print(\"dimension\",a.ndim)\n",
    "print(\"shape\",a.shape)\n",
    "print(\"size\",a.size)\n",
    "print(\"internal data type\",a.dtype)"
   ]
  },
  {
   "cell_type": "code",
   "execution_count": 23,
   "metadata": {},
   "outputs": [
    {
     "name": "stdout",
     "output_type": "stream",
     "text": [
      "[[100 105 110]\n",
      " [115 120 125]\n",
      " [130 135 140]\n",
      " [145 150 155]] <class 'numpy.ndarray'>\n",
      "dimension 2\n",
      "shape (4, 3)\n",
      "size 12\n",
      "internal data type int64\n"
     ]
    }
   ],
   "source": [
    "a.shape=(4,3)\n",
    "print(a,type(a))\n",
    "print(\"dimension\",a.ndim)\n",
    "print(\"shape\",a.shape)\n",
    "print(\"size\",a.size)\n",
    "print(\"internal data type\",a.dtype)"
   ]
  },
  {
   "cell_type": "code",
   "execution_count": 24,
   "metadata": {},
   "outputs": [
    {
     "name": "stdout",
     "output_type": "stream",
     "text": [
      "[100 105 110 115 120 125 130 135 140 145 150 155] <class 'numpy.ndarray'>\n",
      "dimension 1\n",
      "shape (12,)\n",
      "size 12\n",
      "internal data type int64\n"
     ]
    }
   ],
   "source": [
    "a.shape=(12,)\n",
    "print(a,type(a))\n",
    "print(\"dimension\",a.ndim)\n",
    "print(\"shape\",a.shape)\n",
    "print(\"size\",a.size)\n",
    "print(\"internal data type\",a.dtype)"
   ]
  },
  {
   "cell_type": "code",
   "execution_count": 25,
   "metadata": {},
   "outputs": [
    {
     "name": "stdout",
     "output_type": "stream",
     "text": [
      "[100 105 110 115 120 125 130 135 140 145 150 155] <class 'numpy.ndarray'>\n",
      "dimension 1\n",
      "shape (12,)\n",
      "size 12\n",
      "internal data type int64\n"
     ]
    }
   ],
   "source": [
    "a.reshape(4,3)\n",
    "print(a,type(a))\n",
    "print(\"dimension\",a.ndim)\n",
    "print(\"shape\",a.shape)\n",
    "print(\"size\",a.size)\n",
    "print(\"internal data type\",a.dtype)"
   ]
  },
  {
   "cell_type": "code",
   "execution_count": 26,
   "metadata": {},
   "outputs": [
    {
     "name": "stdout",
     "output_type": "stream",
     "text": [
      "[100 105 110 115 120 125 130 135 140 145 150 155] <class 'numpy.ndarray'>\n",
      "dimension 1\n",
      "shape (12,)\n",
      "size 12\n",
      "internal data type int64\n"
     ]
    }
   ],
   "source": [
    "a=a.reshape(12,)\n",
    "print(a,type(a))\n",
    "print(\"dimension\",a.ndim)\n",
    "print(\"shape\",a.shape)\n",
    "print(\"size\",a.size)\n",
    "print(\"internal data type\",a.dtype)"
   ]
  },
  {
   "cell_type": "code",
   "execution_count": 27,
   "metadata": {},
   "outputs": [
    {
     "name": "stdout",
     "output_type": "stream",
     "text": [
      "[[[[ 0  1]\n",
      "   [ 2  3]]\n",
      "\n",
      "  [[ 4  5]\n",
      "   [ 6  7]]]\n",
      "\n",
      "\n",
      " [[[ 8  9]\n",
      "   [10 11]]\n",
      "\n",
      "  [[12 13]\n",
      "   [14 15]]]] <class 'numpy.ndarray'>\n",
      "dimension 4\n",
      "shape (2, 2, 2, 2)\n",
      "size 16\n",
      "internal data type int64\n"
     ]
    }
   ],
   "source": [
    "a=np.array(range(0,16))\n",
    "a.shape=(2,2,2,2)\n",
    "print(a,type(a))\n",
    "print(\"dimension\",a.ndim)\n",
    "print(\"shape\",a.shape)\n",
    "print(\"size\",a.size)\n",
    "print(\"internal data type\",a.dtype)"
   ]
  },
  {
   "cell_type": "code",
   "execution_count": 28,
   "metadata": {},
   "outputs": [
    {
     "name": "stdout",
     "output_type": "stream",
     "text": [
      "[[ 0  1  2  3]\n",
      " [ 4  5  6  7]\n",
      " [ 8  9 10 11]\n",
      " [12 13 14 15]] <class 'numpy.ndarray'>\n",
      "dimension 2\n",
      "shape (4, 4)\n",
      "size 16\n",
      "internal data type int64\n"
     ]
    }
   ],
   "source": [
    "lst=[10,20,30,40,50,60,70,80,90,100,110,120,130,140,160]\n",
    "a.shape=(4,4)\n",
    "print(a,type(a))\n",
    "print(\"dimension\",a.ndim)\n",
    "print(\"shape\",a.shape)\n",
    "print(\"size\",a.size)\n",
    "print(\"internal data type\",a.dtype)"
   ]
  },
  {
   "cell_type": "code",
   "execution_count": 29,
   "metadata": {},
   "outputs": [
    {
     "name": "stdout",
     "output_type": "stream",
     "text": [
      "[[[ 0  1  2  3]\n",
      "  [ 4  5  6  7]]\n",
      "\n",
      " [[ 8  9 10 11]\n",
      "  [12 13 14 15]]] <class 'numpy.ndarray'>\n",
      "dimension 3\n",
      "shape (2, 2, 4)\n",
      "size 16\n",
      "internal data type int64\n"
     ]
    }
   ],
   "source": [
    "a.shape=(2,2,4)\n",
    "print(a,type(a))\n",
    "print(\"dimension\",a.ndim)\n",
    "print(\"shape\",a.shape)\n",
    "print(\"size\",a.size)\n",
    "print(\"internal data type\",a.dtype)"
   ]
  },
  {
   "cell_type": "code",
   "execution_count": 30,
   "metadata": {},
   "outputs": [
    {
     "name": "stdout",
     "output_type": "stream",
     "text": [
      "[ 0  1  2  3  4  5  6  7  8  9 10 11 12 13 14 15] <class 'numpy.ndarray'>\n",
      "dimension 1\n",
      "shape (16,)\n",
      "size 16\n",
      "internal data type int64\n"
     ]
    }
   ],
   "source": [
    "# to flatten\n",
    "a.shape=(16,)\n",
    "print(a,type(a))\n",
    "print(\"dimension\",a.ndim)\n",
    "print(\"shape\",a.shape)\n",
    "print(\"size\",a.size)\n",
    "print(\"internal data type\",a.dtype)"
   ]
  },
  {
   "cell_type": "code",
   "execution_count": 31,
   "metadata": {},
   "outputs": [
    {
     "name": "stdout",
     "output_type": "stream",
     "text": [
      "{50, 20, 40, 10, 60, 30} <class 'set'>\n"
     ]
    }
   ],
   "source": [
    "s1={10,20,30,40,50,60}\n",
    "print(s1,type(s1))"
   ]
  },
  {
   "cell_type": "code",
   "execution_count": 32,
   "metadata": {},
   "outputs": [
    {
     "name": "stdout",
     "output_type": "stream",
     "text": [
      "{50, 20, 40, 10, 60, 30} <class 'numpy.ndarray'>\n"
     ]
    }
   ],
   "source": [
    "a=np.array(s1)\n",
    "\n",
    "print(a,type(a))"
   ]
  },
  {
   "cell_type": "code",
   "execution_count": 33,
   "metadata": {},
   "outputs": [
    {
     "name": "stdout",
     "output_type": "stream",
     "text": [
      "{50, 20, 40, 10, 60, 30} <class 'numpy.ndarray'>\n",
      "dimension 0\n",
      "shape ()\n",
      "size 1\n",
      "internal data type object\n"
     ]
    }
   ],
   "source": [
    "print(a,type(a))\n",
    "print(\"dimension\",a.ndim)\n",
    "print(\"shape\",a.shape)\n",
    "print(\"size\",a.size)\n",
    "print(\"internal data type\",a.dtype)"
   ]
  },
  {
   "cell_type": "code",
   "execution_count": 34,
   "metadata": {},
   "outputs": [
    {
     "name": "stdout",
     "output_type": "stream",
     "text": [
      "{10: 'python', 20: 'java', 30: 'c', 40: 'c++'} <class 'numpy.ndarray'>\n",
      "{10: 'python', 20: 'java', 30: 'c', 40: 'c++'} <class 'numpy.ndarray'>\n",
      "dimension 0\n",
      "shape ()\n",
      "size 1\n",
      "internal data type object\n"
     ]
    }
   ],
   "source": [
    "d1={10:\"python\",20:\"java\",30:\"c\",40:\"c++\"}\n",
    "\n",
    "a=np.array(d1)\n",
    "print(a,type(a))\n",
    "print(a,type(a))\n",
    "print(\"dimension\",a.ndim)\n",
    "print(\"shape\",a.shape)\n",
    "print(\"size\",a.size)\n",
    "print(\"internal data type\",a.dtype)"
   ]
  },
  {
   "cell_type": "code",
   "execution_count": null,
   "metadata": {},
   "outputs": [],
   "source": [
    "  "
   ]
  }
 ],
 "metadata": {
  "kernelspec": {
   "display_name": "Python 3",
   "language": "python",
   "name": "python3"
  },
  "language_info": {
   "codemirror_mode": {
    "name": "ipython",
    "version": 3
   },
   "file_extension": ".py",
   "mimetype": "text/x-python",
   "name": "python",
   "nbconvert_exporter": "python",
   "pygments_lexer": "ipython3",
   "version": "3.13.1"
  }
 },
 "nbformat": 4,
 "nbformat_minor": 2
}
