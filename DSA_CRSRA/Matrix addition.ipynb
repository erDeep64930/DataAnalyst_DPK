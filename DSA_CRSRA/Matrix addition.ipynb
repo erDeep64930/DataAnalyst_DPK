{
 "cells": [
  {
   "cell_type": "code",
   "execution_count": 1,
   "id": "446d4945-86f0-4321-8342-1f9385df9e81",
   "metadata": {},
   "outputs": [
    {
     "name": "stdout",
     "output_type": "stream",
     "text": [
      "[[11 22 33]\n",
      " [44 55 66]\n",
      " [77 88 99]]\n"
     ]
    }
   ],
   "source": [
    "import numpy as np\n",
    "arr1= np.array([\n",
    "    [1,2,3],[4,5,6],[7,8,9]])\n",
    "arr2 = np.array([\n",
    "    [10,20,30],[40,50,60],[70,80,90]\n",
    "])\n",
    "result=arr1+arr2\n",
    "print(result)\n"
   ]
  },
  {
   "cell_type": "markdown",
   "id": "8bb526d8-f8f9-4fcb-a6ca-1d3c9fe6d576",
   "metadata": {},
   "source": [
    "## adding matrix using for loop"
   ]
  },
  {
   "cell_type": "code",
   "execution_count": 2,
   "id": "e4951396-4649-4ca1-8136-61cd2a7cea83",
   "metadata": {},
   "outputs": [
    {
     "name": "stdout",
     "output_type": "stream",
     "text": [
      "[[11, 22, 33], [44, 55, 66], [77, 88, 99]]\n"
     ]
    }
   ],
   "source": [
    "import numpy as np\n",
    "arr1= np.array([\n",
    "    [1,2,3],[4,5,6],[7,8,9]])\n",
    "arr2 = np.array([\n",
    "    [10,20,30],[40,50,60],[70,80,90]\n",
    "])\n",
    "result=[]\n",
    "for i in range (len(arr1)):\n",
    "    row=[]\n",
    "    for j in range(len(arr1[0])):\n",
    "        row.append(arr1[i,j]+arr2[i,j])\n",
    "\n",
    "    result.append(row)\n",
    "print(result)"
   ]
  },
  {
   "cell_type": "code",
   "execution_count": 3,
   "id": "90397358-f6a3-4aef-8563-1762fa19050e",
   "metadata": {},
   "outputs": [
    {
     "name": "stdout",
     "output_type": "stream",
     "text": [
      "[[ 300  360  420]\n",
      " [ 660  810  960]\n",
      " [1020 1260 1500]]\n"
     ]
    }
   ],
   "source": [
    "import numpy as np\n",
    "arr1= np.array([\n",
    "    [1,2,3],[4,5,6],[7,8,9]])\n",
    "arr2 = np.array([\n",
    "    [10,20,30],[40,50,60],[70,80,90]\n",
    "])\n",
    "result=[]\n",
    "for i in range (len(arr1)):\n",
    "    row=[]\n",
    "    for j in range(len(arr1[0])):\n",
    "        row.append(arr1[i,j]+arr2[i,j])\n",
    "\n",
    "    result=np.dot(arr1,arr2)\n",
    "print(result)"
   ]
  },
  {
   "cell_type": "code",
   "execution_count": 4,
   "id": "c925d82c-5bbc-42b3-97e5-1c25d4bf1f95",
   "metadata": {},
   "outputs": [
    {
     "name": "stdout",
     "output_type": "stream",
     "text": [
      "[[1 2 3]\n",
      " [4 5 6]\n",
      " [7 8 9]]\n"
     ]
    }
   ],
   "source": [
    "import numpy as np\n",
    "arr1= np.array([\n",
    "    [1,2,3],[4,5,6],[7,8,9]])\n",
    "arr2 = np.array([\n",
    "    [10,20,30],[40,50,60],[70,80,90]\n",
    "])\n",
    "result=[]\n",
    "for i in range (len(arr1)):\n",
    "    row=[]\n",
    "    for j in range(len(arr1[0])):\n",
    "        row.append(arr1[i,j]+arr2[i,j])\n",
    "\n",
    "    result=np.mod(arr1,arr2)\n",
    "print(result)"
   ]
  },
  {
   "cell_type": "markdown",
   "id": "b78686c2-c5a2-4814-a77d-a19212d5ceac",
   "metadata": {},
   "source": [
    "## do using matrix multiplication"
   ]
  },
  {
   "cell_type": "markdown",
   "id": "659cc9e3-7695-4929-a78a-d0487f282adc",
   "metadata": {},
   "source": [
    "# TRANSPOSE MATRIX"
   ]
  },
  {
   "cell_type": "code",
   "execution_count": null,
   "id": "cd3f837e-4490-4c32-b898-3e9a52878b33",
   "metadata": {},
   "outputs": [],
   "source": []
  }
 ],
 "metadata": {
  "kernelspec": {
   "display_name": "Python 3 (ipykernel)",
   "language": "python",
   "name": "python3"
  },
  "language_info": {
   "codemirror_mode": {
    "name": "ipython",
    "version": 3
   },
   "file_extension": ".py",
   "mimetype": "text/x-python",
   "name": "python",
   "nbconvert_exporter": "python",
   "pygments_lexer": "ipython3",
   "version": "3.12.4"
  }
 },
 "nbformat": 4,
 "nbformat_minor": 5
}
