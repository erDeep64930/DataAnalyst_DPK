{
 "cells": [
  {
   "cell_type": "markdown",
   "id": "f2111f63-0a92-4d26-a4a0-3c51bf7e476b",
   "metadata": {},
   "source": [
    "wap to find even or odd ?"
   ]
  },
  {
   "cell_type": "code",
   "execution_count": 3,
   "id": "bf50b7e1-8117-4248-9a3f-de0348004fef",
   "metadata": {},
   "outputs": [
    {
     "name": "stdin",
     "output_type": "stream",
     "text": [
      "enter the number 89\n"
     ]
    },
    {
     "name": "stdout",
     "output_type": "stream",
     "text": [
      "the number 89 is odd\n"
     ]
    }
   ],
   "source": [
    "num1 = eval(input(\"enter the number\"))\n",
    "if(num1%2==0):\n",
    "    print(\"the number {} is even\".format(num1))\n",
    "else:\n",
    "    print(\"the number {} is odd\".format(num1))\n",
    "    "
   ]
  },
  {
   "cell_type": "code",
   "execution_count": 11,
   "id": "9c2d0bac-7fc8-49d8-9f28-957d6ccba08c",
   "metadata": {},
   "outputs": [
    {
     "name": "stdin",
     "output_type": "stream",
     "text": [
      "enter the number python\n"
     ]
    },
    {
     "name": "stdout",
     "output_type": "stream",
     "text": [
      "name 'python' is not defined\n"
     ]
    }
   ],
   "source": [
    "try:\n",
    "   num1 = eval(input(\"enter the number\"))\n",
    "   if(num1%2==0):\n",
    "      print(\"the number {} is even\".format(num1))\n",
    "   else:\n",
    "      print(\"the number {} is odd\".format(num1))\n",
    "\n",
    "except Exception as e:\n",
    "      print(e)"
   ]
  },
  {
   "cell_type": "code",
   "execution_count": null,
   "id": "8ff65c9a-4b20-475d-affc-1cc878e27faa",
   "metadata": {},
   "outputs": [],
   "source": [
    "wap to get random number between 1 to 50\n",
    "and check even or odd ?"
   ]
  },
  {
   "cell_type": "code",
   "execution_count": 13,
   "id": "ebeae8a8-598f-44f6-a604-c4b9d7ac5832",
   "metadata": {},
   "outputs": [
    {
     "name": "stdout",
     "output_type": "stream",
     "text": [
      "the number 39 is odd\n"
     ]
    }
   ],
   "source": [
    "import random\n",
    "\n",
    "try:\n",
    "   num1 = random.randint(1,50)\n",
    "   if(num1%2==0):\n",
    "      print(\"the number {} is even\".format(num1))\n",
    "   else:\n",
    "      print(\"the number {} is odd\".format(num1))\n",
    "\n",
    "except Exception as e:\n",
    "      print(e)"
   ]
  },
  {
   "cell_type": "code",
   "execution_count": 15,
   "id": "075d423b-4516-4955-9596-0e19b3a32034",
   "metadata": {},
   "outputs": [
    {
     "name": "stdin",
     "output_type": "stream",
     "text": [
      "enter a number 89\n"
     ]
    },
    {
     "name": "stdout",
     "output_type": "stream",
     "text": [
      "the given number 89 is positive\n"
     ]
    }
   ],
   "source": [
    "num2 = eval(input(\"enter a number\"))\n",
    "if num2>0:\n",
    "    print(\"the given number {} is positive\".format(num2))\n",
    "elif num2<0:\n",
    "    print(\"the given number {} is negative\".format(num2))\n",
    "else:\n",
    "    print(\"the given number {} is Zero\".format(num2))"
   ]
  },
  {
   "cell_type": "code",
   "execution_count": 18,
   "id": "0dcee5e0-2bf9-40d8-9b4a-8d2a2e453cf1",
   "metadata": {},
   "outputs": [
    {
     "name": "stdin",
     "output_type": "stream",
     "text": [
      "enter the number 10\n"
     ]
    },
    {
     "name": "stdout",
     "output_type": "stream",
     "text": [
      "d grade\n"
     ]
    }
   ],
   "source": [
    "try:\n",
    "   num1 = eval(input(\"enter the number\"))\n",
    "   if num1>=90:\n",
    "      print(\"A grade\")\n",
    "   elif 70<num1<90:\n",
    "      print(\"B grade\")\n",
    "   elif 50<num1<70:\n",
    "       print(\"C grade\")\n",
    "   else:\n",
    "       print(\"d grade\")\n",
    "\n",
    "\n",
    "except Exception as e:\n",
    "      print(e)"
   ]
  },
  {
   "cell_type": "code",
   "execution_count": 19,
   "id": "d1c1ac5a-9b69-41f8-be8a-7e795b9ee878",
   "metadata": {},
   "outputs": [
    {
     "name": "stdin",
     "output_type": "stream",
     "text": [
      "enter the number 10\n"
     ]
    },
    {
     "name": "stdout",
     "output_type": "stream",
     "text": [
      "d grade\n"
     ]
    }
   ],
   "source": [
    "try:\n",
    "   num1 = eval(input(\"enter the number\"))\n",
    "   if num1>=90:\n",
    "      print(\"A grade\")\n",
    "   elif num1>=70:\n",
    "      print(\"B grade\")\n",
    "   elif num1>=50:\n",
    "       print(\"C grade\")\n",
    "   else:\n",
    "       print(\"d grade\")\n",
    "\n",
    "\n",
    "except Exception as e:\n",
    "      print(e)"
   ]
  },
  {
   "cell_type": "code",
   "execution_count": null,
   "id": "4938cd93-676b-4de5-b2a4-527d4f2fe718",
   "metadata": {},
   "outputs": [],
   "source": [
    "#wap ask the user to enter the distance in km \n",
    "# if distance is more than 10km :print charge is 100rs\n",
    "# if distance is between 7 to 10km :print charge is 70rs\n",
    "# if distance is between 4 to 7km :print charge is 40rs"
   ]
  },
  {
   "cell_type": "code",
   "execution_count": 3,
   "id": "38e49bda-8ea6-470f-93f6-8190daa394f9",
   "metadata": {},
   "outputs": [
    {
     "name": "stdin",
     "output_type": "stream",
     "text": [
      "enter the distance 2\n"
     ]
    },
    {
     "name": "stdout",
     "output_type": "stream",
     "text": [
      "charge is 30rs\n"
     ]
    }
   ],
   "source": [
    "try:\n",
    "   dis = eval(input(\"enter the distance\"))\n",
    "   if dis>=10:\n",
    "      print(\"charge is 100rs\")\n",
    "   elif dis>=7:\n",
    "      print(\"charge is 70rs\")\n",
    "   elif dis>=50:\n",
    "       print(\"charge is 40rs\")\n",
    "   else:\n",
    "       print(\"charge is 30rs\")\n",
    "\n",
    "\n",
    "except Exception as e:\n",
    "      print(e)"
   ]
  },
  {
   "cell_type": "code",
   "execution_count": 5,
   "id": "cef33cd8-2e41-4d01-bfb0-5acd545dcb0d",
   "metadata": {},
   "outputs": [
    {
     "name": "stdout",
     "output_type": "stream",
     "text": [
      "[1]\n",
      "[1, 4]\n",
      "[1, 4, 9]\n",
      "[1, 4, 9, 16]\n"
     ]
    }
   ],
   "source": [
    "x=[1,2,3,4]\n",
    "out = []\n",
    "for num in x:\n",
    "    out.append(num**2)\n",
    "    print(out)"
   ]
  },
  {
   "cell_type": "code",
   "execution_count": 6,
   "id": "34e3a2e6-2aff-4583-a25c-90b98768e3f4",
   "metadata": {},
   "outputs": [],
   "source": [
    "import numpy as ny"
   ]
  },
  {
   "cell_type": "code",
   "execution_count": 9,
   "id": "e7050204-75d8-4eff-b94c-461505ed67d3",
   "metadata": {},
   "outputs": [],
   "source": [
    "arr = ny.random.randint(1,100,10)"
   ]
  },
  {
   "cell_type": "code",
   "execution_count": 13,
   "id": "452d8362-d57a-45f6-b6fe-f8ccf7a1e412",
   "metadata": {},
   "outputs": [
    {
     "name": "stdout",
     "output_type": "stream",
     "text": [
      "[77 35 19 49 73  8 45 73 72 46]\n"
     ]
    }
   ],
   "source": [
    "print(arr)"
   ]
  },
  {
   "cell_type": "code",
   "execution_count": 14,
   "id": "1fd65e03-0d38-4695-8762-5d963fbc4e98",
   "metadata": {},
   "outputs": [
    {
     "data": {
      "text/plain": [
       "array([[77, 35, 19, 49, 73],\n",
       "       [ 8, 45, 73, 72, 46]])"
      ]
     },
     "execution_count": 14,
     "metadata": {},
     "output_type": "execute_result"
    }
   ],
   "source": [
    "arr.reshape(2,5)"
   ]
  },
  {
   "cell_type": "code",
   "execution_count": 21,
   "id": "926bbe93-5552-40f2-9156-2a17cb7e7731",
   "metadata": {},
   "outputs": [
    {
     "name": "stdin",
     "output_type": "stream",
     "text": [
      "enter the symbol add\n"
     ]
    },
    {
     "name": "stdout",
     "output_type": "stream",
     "text": [
      "name 'add' is not defined\n"
     ]
    }
   ],
   "source": [
    "try:\n",
    "   symbol = eval(input(\"enter the symbol\"))\n",
    "   if symbol==\"add\":\n",
    "       num1=eval(input(\"enter the first number\"));\n",
    "       num2=eval(input(\"enter the second number\"));\n",
    "       print(num1+num2)\n",
    "   elif symbol==\"sub\":\n",
    "        num1=eval(input(\"enter the first number\"));\n",
    "        num2=eval(input(\"enter the second number\"));\n",
    "        print(num1-num2)\n",
    "   elif symbol==\"mul\":\n",
    "        num1=eval(input(\"enter the first number\"));\n",
    "        num2=eval(input(\"enter the second number\"));\n",
    "        print(num1*num2)\n",
    "   elif symbol==\"div\":\n",
    "        num1=eval(input(\"enter the first number\"));\n",
    "        num2=eval(input(\"enter the second number\"));\n",
    "        print(num1/num2)\n",
    "   else:\n",
    "       print(\"provide sitable symbol\")\n",
    "\n",
    "\n",
    "except Exception as e:\n",
    "      print(e)"
   ]
  },
  {
   "cell_type": "code",
   "execution_count": null,
   "id": "e52f82ce-9e21-4190-a94c-6b2cc2ccf4e9",
   "metadata": {},
   "outputs": [],
   "source": [
    "the above code has some error "
   ]
  },
  {
   "cell_type": "code",
   "execution_count": 26,
   "id": "38e58985-7608-4e05-bfc5-55eb3020d321",
   "metadata": {},
   "outputs": [
    {
     "name": "stdin",
     "output_type": "stream",
     "text": [
      "enter the symbol add\n",
      "enter the first number 90\n",
      "enter the second number 90\n"
     ]
    },
    {
     "name": "stdout",
     "output_type": "stream",
     "text": [
      "180\n"
     ]
    }
   ],
   "source": [
    "try:\n",
    "   symbol = input(\"enter the symbol\")\n",
    "   num1=eval(input(\"enter the first number\"));\n",
    "   num2=eval(input(\"enter the second number\"));\n",
    "   if symbol==\"add\":\n",
    "       print(num1+num2)\n",
    "   elif symbol==\"sub\":\n",
    "        print(num1-num2)\n",
    "   elif symbol==\"mul\":\n",
    "        print( num1*num2)\n",
    "   elif symbol==\"div\":\n",
    "        print(num1/num2)\n",
    "   else:\n",
    "       print(\"provide sitable symbol\")\n",
    "\n",
    "\n",
    "except Exception as e:\n",
    "      print(e)"
   ]
  },
  {
   "cell_type": "markdown",
   "id": "9b5da601-be49-4e0d-b798-71e3b9f42216",
   "metadata": {},
   "source": [
    "#nested if-else#"
   ]
  },
  {
   "cell_type": "code",
   "execution_count": 1,
   "id": "beea490c-82f9-461e-8cf9-e4f54dc95ad6",
   "metadata": {},
   "outputs": [
    {
     "ename": "SyntaxError",
     "evalue": "invalid syntax (1748177163.py, line 2)",
     "output_type": "error",
     "traceback": [
      "\u001b[1;36m  Cell \u001b[1;32mIn[1], line 2\u001b[1;36m\u001b[0m\n\u001b[1;33m    if num==0:\u001b[0m\n\u001b[1;37m             ^\u001b[0m\n\u001b[1;31mSyntaxError\u001b[0m\u001b[1;31m:\u001b[0m invalid syntax\n"
     ]
    }
   ],
   "source": [
    "    num = eval(input(\"enter a number\")\n",
    "               if num==0:\n",
    "           if num >=0:\n",
    "           print(\"check condition\")\n",
    "           if num ==0:\n",
    "           print\"it is zero\")\n",
    "    else: \n",
    "    print(\"it is positive\")\n",
    "\n",
    "           "
   ]
  },
  {
   "cell_type": "code",
   "execution_count": null,
   "id": "1c32b08d-6b44-4028-8435-1ebb3dfb22a8",
   "metadata": {},
   "outputs": [],
   "source": [
    "#wap ask the user to enter 3 number and find the biggest"
   ]
  },
  {
   "cell_type": "code",
   "execution_count": null,
   "id": "280c9f30-aa30-4c3c-acbf-8c3d89c8dff1",
   "metadata": {},
   "outputs": [],
   "source": [
    "eval === number\n",
    "else does not require condition\n",
    "if a==10:\n",
    "    dont forget to give colon\n",
    "\n",
    "keyword should be in green color "
   ]
  },
  {
   "cell_type": "code",
   "execution_count": 2,
   "id": "9e323f4f-d494-41c2-8a62-d9a714c57531",
   "metadata": {},
   "outputs": [
    {
     "name": "stdout",
     "output_type": "stream",
     "text": [
      "the addition of 10 and 20 is 30\n"
     ]
    }
   ],
   "source": [
    "n1=10\n",
    "n2=20\n",
    "add=n1+n2\n",
    "print(\"the addition of {} and {} is {}\".format(n1,n2,add))"
   ]
  },
  {
   "cell_type": "code",
   "execution_count": null,
   "id": "0c0a3748-5bf0-425e-9afd-700928118e1b",
   "metadata": {},
   "outputs": [],
   "source": [
    "function keyword start with def\n",
    "\n",
    "def <function_name>():\n",
    "    #write code\n"
   ]
  },
  {
   "cell_type": "code",
   "execution_count": 5,
   "id": "9a829946-348e-4edc-91ba-3f35f06c06f3",
   "metadata": {},
   "outputs": [
    {
     "name": "stdout",
     "output_type": "stream",
     "text": [
      "the addition of 10 and 20 is 30\n"
     ]
    }
   ],
   "source": [
    "def addition():\n",
    "    n1=10\n",
    "    n2=20\n",
    "    add=n1+n2\n",
    "print(\"the addition of {} and {} is {}\".format(n1,n2,add))"
   ]
  },
  {
   "cell_type": "code",
   "execution_count": 7,
   "id": "ad3bcf56-2d95-4d83-a5d4-d21a98a91c9b",
   "metadata": {},
   "outputs": [],
   "source": [
    "addition()\n"
   ]
  },
  {
   "cell_type": "code",
   "execution_count": 8,
   "id": "92c24f0b-bc68-42f4-880d-6a8409e5fc83",
   "metadata": {},
   "outputs": [],
   "source": [
    "def hello():\n",
    "    print(\"try in it\")\n",
    "    print(\"try in it 2\")\n",
    "    "
   ]
  },
  {
   "cell_type": "code",
   "execution_count": 9,
   "id": "cd942756-4819-492e-95ac-3599ae091920",
   "metadata": {},
   "outputs": [
    {
     "name": "stdout",
     "output_type": "stream",
     "text": [
      "try in it\n",
      "try in it 2\n"
     ]
    }
   ],
   "source": [
    "hello()"
   ]
  },
  {
   "cell_type": "code",
   "execution_count": null,
   "id": "f0127883-684d-44a2-88bd-3d06040d84f2",
   "metadata": {},
   "outputs": [],
   "source": [
    "#wap ask the user to enter 3 number and find the avg"
   ]
  },
  {
   "cell_type": "code",
   "execution_count": 10,
   "id": "35a8d962-057c-4e7c-be72-e9748a401ea0",
   "metadata": {},
   "outputs": [],
   "source": [
    "def AverageSum():\n",
    "    n1=eval(input(\"enter 1st number\"))\n",
    "    n2=eval(input(\"enter 2nd number\"))\n",
    "    n3=eval(input(\"enter 3rd number\"))\n",
    "    n4=eval(input(\"enter 4th number\"))\n",
    "    avg= (n1+n2+n3+n4)/4\n",
    "    print(avg)"
   ]
  },
  {
   "cell_type": "code",
   "execution_count": 11,
   "id": "450b44f0-528b-4f4f-b4e5-649dba35b36b",
   "metadata": {},
   "outputs": [
    {
     "name": "stdin",
     "output_type": "stream",
     "text": [
      "enter 1st number 5\n",
      "enter 2nd number 5\n",
      "enter 3rd number 5\n",
      "enter 4th number 5\n"
     ]
    },
    {
     "name": "stdout",
     "output_type": "stream",
     "text": [
      "5.0\n"
     ]
    }
   ],
   "source": [
    "AverageSum()"
   ]
  },
  {
   "cell_type": "code",
   "execution_count": 16,
   "id": "3ea244db-bea1-42b7-917b-c8ffd25069d9",
   "metadata": {},
   "outputs": [],
   "source": [
    "def AverageSum():\n",
    "    try:\n",
    "        n1=eval(input(\"enter 1st number\"))\n",
    "        n2=eval(input(\"enter 2nd number\"))\n",
    "        n3=eval(input(\"enter 3rd number\"))\n",
    "        n4=eval(input(\"enter 4th number\"))\n",
    "        avg= (n1+n2+n3+n4)/4\n",
    "        print(\"the average of {} , {} ,{} and {} is {}\".format(n1,n2,n3,n4 ,avg))\n",
    "    except Exception as e:\n",
    "        print(e)"
   ]
  },
  {
   "cell_type": "code",
   "execution_count": 17,
   "id": "5d2571f4-2f2c-45a3-a03c-577c752cf5b3",
   "metadata": {},
   "outputs": [
    {
     "name": "stdin",
     "output_type": "stream",
     "text": [
      "enter 1st number 5\n",
      "enter 2nd number 5\n",
      "enter 3rd number 5\n",
      "enter 4th number 5\n"
     ]
    },
    {
     "name": "stdout",
     "output_type": "stream",
     "text": [
      "the average of 5 , 5 ,5 and 5 is 5.0\n"
     ]
    }
   ],
   "source": [
    "AverageSum()"
   ]
  },
  {
   "cell_type": "code",
   "execution_count": null,
   "id": "94c9c938-1ae2-4cdf-9322-5e2a2db4255e",
   "metadata": {},
   "outputs": [],
   "source": []
  }
 ],
 "metadata": {
  "kernelspec": {
   "display_name": "Python 3 (ipykernel)",
   "language": "python",
   "name": "python3"
  },
  "language_info": {
   "codemirror_mode": {
    "name": "ipython",
    "version": 3
   },
   "file_extension": ".py",
   "mimetype": "text/x-python",
   "name": "python",
   "nbconvert_exporter": "python",
   "pygments_lexer": "ipython3",
   "version": "3.12.4"
  }
 },
 "nbformat": 4,
 "nbformat_minor": 5
}
