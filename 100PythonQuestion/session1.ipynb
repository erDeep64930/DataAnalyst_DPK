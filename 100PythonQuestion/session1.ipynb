{
 "cells": [
  {
   "cell_type": "code",
   "execution_count": 1,
   "id": "a470742f-354f-4957-90e4-8bacdea47f65",
   "metadata": {},
   "outputs": [
    {
     "ename": "SyntaxError",
     "evalue": "unmatched ')' (1039715428.py, line 6)",
     "output_type": "error",
     "traceback": [
      "\u001b[1;36m  Cell \u001b[1;32mIn[1], line 6\u001b[1;36m\u001b[0m\n\u001b[1;33m    1)Dead : Number of people died\u001b[0m\n\u001b[1;37m     ^\u001b[0m\n\u001b[1;31mSyntaxError\u001b[0m\u001b[1;31m:\u001b[0m unmatched ')'\n"
     ]
    }
   ],
   "source": [
    "##### '''Question 1\n",
    "INPUT FORMAT:\n",
    "Input consists of three integers corresponding to the number of people\n",
    "dead, injured and those who are still alive and safe.\n",
    "OUTPUT FORMAT:\n",
    "1)Dead : Number of people died\n",
    "2)Injured : Number of people injured\n",
    "3)Safe : Number of people safe\n",
    "Please help the people who are suffering!!!\n",
    "'''\n",
    "A=input(\"dead:\",)\n",
    "B=input(\"injured:\",)\n",
    "C=input(\"safe:\",)\n",
    "print(\"the people who are suffering\")\n"
   ]
  },
  {
   "cell_type": "code",
   "execution_count": null,
   "id": "6d93a033-fe3f-4154-be65-e0a740ca4aec",
   "metadata": {},
   "outputs": [],
   "source": [
    "'''\n",
    "Question 2\n",
    "Write a program to get 2 numbers from the user and calculate their sum\n",
    "and difference using '+' and '-' operators respectively.\n",
    "Input format:\n",
    "First input: an integer\n",
    "Second input: an integer\n",
    "Output format:\n",
    "First output will be the sum of two integers Second output will be the\n",
    "difference of two integers\n",
    "'''\n",
    "A = int(input(\"Enter a number: \"))\n",
    "B = int(input(\"Enter another number: \"))\n",
    "\n",
    "result = A + B\n",
    "result1 = A - B\n",
    "\n",
    "print(\"Sum:\", result)\n",
    "print(\"Difference:\", result1)\n",
    "\n"
   ]
  },
  {
   "cell_type": "code",
   "execution_count": null,
   "id": "919b447e-4514-4f5b-953c-25151b348fec",
   "metadata": {},
   "outputs": [],
   "source": [
    "# '''\n",
    "Write a program to find the integral quotient and remainder of a division.\n",
    "Input format:\n",
    "The input consists of two lines.\n",
    "The first line is an integer, the numerator.\n",
    "The second line is an integer, the denominator.\n",
    "Sample Input :\n",
    "2500\n",
    "235\n",
    "Sample Output :\n",
    "Given Numerator=2500\n",
    "Given Denominator=235\n",
    "Quotient=10,Remainder=150\n",
    "'''\n",
    "A = int(input(\"Given Numerator: \"))\n",
    "B = int(input(\"Given denomenator: \"))\n",
    "result= A % B\n",
    "result1= A / B\n",
    "print(\"quotient:\", result)\n",
    "print(\"remainder:\", result1)"
   ]
  },
  {
   "cell_type": "code",
   "execution_count": null,
   "id": "ce5628da-a377-4466-b4c6-af7a272d3d14",
   "metadata": {},
   "outputs": [
    {
     "name": "stdout",
     "output_type": "stream",
     "text": [
      "22\n"
     ]
    }
   ],
   "source": [
    "# ## '''\n",
    "# Write a code to add two values without using \"+“\n",
    "# Input:\n",
    "# 10\n",
    "# 20\n",
    "# Output:\n",
    "# 30\n",
    "\n",
    "def sum_without_using_plus(a, b):\n",
    "    while b != 0:\n",
    "      \n",
    "        carry = a & b\n",
    "        \n",
    "   \n",
    "        a = a ^ b\n",
    "        \n",
    "       \n",
    "        b = carry << 1\n",
    "    \n",
    "    return a\n",
    "\n",
    "print(sum_without_using_plus(10, 12))\n"
   ]
  },
  {
   "cell_type": "code",
   "execution_count": null,
   "id": "3c852f2c-8053-4f5c-9a3e-75351c33e516",
   "metadata": {},
   "outputs": [
    {
     "name": "stdout",
     "output_type": "stream",
     "text": [
      " 5\n",
      " 60\n"
     ]
    },
    {
     "name": "stdout",
     "output_type": "stream",
     "text": [
      "5.23\n"
     ]
    },
    {
     "name": "stdout",
     "output_type": "stream",
     "text": [
      " 63\n"
     ]
    },
    {
     "name": "stdout",
     "output_type": "stream",
     "text": [
      "?\n"
     ]
    }
   ],
   "source": [
    "# Write a program to find the arc length of a circle.\n",
    "# The input radius and center angle must be a float variables, the output\n",
    "# should also be printed as a floating point value with 2 point precision.\n",
    "# No other extra information should be printed except the arc length value to\n",
    "# the stdout. (Assume PI = 3.14)\n",
    "# Hint:\n",
    "# The formula to calculate the arc length of a circle =2*pi*radius*(angle/360)\n",
    "# Sheetal and Pearl were playing a game where they have to find the\n",
    "# character value of each integer. Since both are weak in finding the answers\n",
    "# help them with a program to find the respective character of each integer.\n",
    "# Sample Input 1:\n",
    "# 103\n",
    "# Sample Output 1:\n",
    "# g\n",
    "# Sample Input 2:\n",
    "# 63\n",
    "# Sample Output 2:\n",
    "# ?\n",
    "# Input radius and center angle\n",
    "radius = float(input())\n",
    "angle = float(input())\n",
    "\n",
    "pi = 3.14\n",
    "\n",
    "arc_length = 2 * pi * radius * (angle / 360)\n",
    "\n",
    "print(f\"{arc_length:.2f}\")\n",
    "\n",
    "num = int(input())\n",
    "character = chr(num)\n",
    "\n",
    "print(character)\n"
   ]
  },
  {
   "cell_type": "code",
   "execution_count": null,
   "id": "724cd004-d71d-40fe-b9d3-bdfa26d08f98",
   "metadata": {},
   "outputs": [
    {
     "name": "stdout",
     "output_type": "stream",
     "text": [
      "enter a no A\n"
     ]
    },
    {
     "name": "stdout",
     "output_type": "stream",
     "text": [
      "65\n"
     ]
    }
   ],
   "source": [
    "# Iron Man is very interested in converting a character to an integer. Write a\n",
    "# program to help him in this conversion.\n",
    "# Sample Input 1:\n",
    "# a\n",
    "# Sample Output 1:\n",
    "# 97\n",
    "# Sample Input 2:\n",
    "# A\n",
    "# Sample Output 2:\n",
    "# 65\n",
    "char=input(\"enter a no\")     #ord convert to chracter to number\n",
    "num=ord(char)\n",
    "print(num)"
   ]
  },
  {
   "cell_type": "code",
   "execution_count": null,
   "id": "0904f13d-797d-439f-a5dc-d6519b3ff479",
   "metadata": {},
   "outputs": [
    {
     "name": "stdout",
     "output_type": "stream",
     "text": [
      " 5\n"
     ]
    },
    {
     "ename": "TypeError",
     "evalue": "can't multiply sequence by non-int of type 'float'",
     "output_type": "error",
     "traceback": [
      "\u001b[1;31m---------------------------------------------------------------------------\u001b[0m",
      "\u001b[1;31mTypeError\u001b[0m                                 Traceback (most recent call last)",
      "Cell \u001b[1;32mIn[3], line 10\u001b[0m\n\u001b[0;32m      8\u001b[0m r\u001b[38;5;241m=\u001b[39m\u001b[38;5;28minput\u001b[39m()\n\u001b[0;32m      9\u001b[0m pi\u001b[38;5;241m=\u001b[39m\u001b[38;5;241m3.4\u001b[39m\n\u001b[1;32m---> 10\u001b[0m area_of_circle\u001b[38;5;241m=\u001b[39m pi \u001b[38;5;241m*\u001b[39m r \u001b[38;5;241m*\u001b[39m r\n\u001b[0;32m     11\u001b[0m \u001b[38;5;28mprint\u001b[39m(area_of_circle)\n",
      "\u001b[1;31mTypeError\u001b[0m: can't multiply sequence by non-int of type 'float'"
     ]
    }
   ],
   "source": [
    "##### Program to find the area of a circle.\n",
    "# The input diameter will be given as an integer, the output area should be\n",
    "# printed as a floating point value with 2 point precision. No other extra\n",
    "# information should be printed except the area value to the stdout. (Assume\n",
    "# PI = 3.14)\n",
    "# Hint:\n",
    "# Area of a circle=pi*r*r\n",
    "r=input()\n",
    "pi=3.4\n",
    "area_of_circle= pi * r * r\n",
    "print(area_of_circle)"
   ]
  },
  {
   "cell_type": "code",
   "execution_count": null,
   "id": "6b3932e1-2836-4203-8d51-345753677fbb",
   "metadata": {},
   "outputs": [
    {
     "name": "stdout",
     "output_type": "stream",
     "text": [
      "enter a no 5\n",
      "enter a no 5\n"
     ]
    },
    {
     "name": "stdout",
     "output_type": "stream",
     "text": [
      "The hypotenuse of the triangle: 7.0710678118654755\n"
     ]
    }
   ],
   "source": [
    "# Program to find the hypotenuse of a triangle.\n",
    "# Get the opposite and adjacent sides from the user and calculate and display\n",
    "# the hypotenuse of the given triangle, The output is a floating point value\n",
    "# with precision 2.\n",
    "# Hint:\n",
    "# Hypotenuse of triangle = square root (side1*side1+side2*side2)\n",
    "import math\n",
    "side1=float(input(\"enter a no\"))\n",
    "side2=float(input(\"enter a no\"))\n",
    "\n",
    "sq=side1*side1\n",
    "sq1=side2*side2\n",
    "\n",
    "hypotenuse = math.sqrt(sq+sq1)\n",
    "print(\"The hypotenuse of the triangle:\",hypotenuse)\n"
   ]
  },
  {
   "cell_type": "code",
   "execution_count": null,
   "id": "ac375c85-222c-4e3c-891e-00ecdbabad7a",
   "metadata": {},
   "outputs": [
    {
     "name": "stdout",
     "output_type": "stream",
     "text": [
      "enter a no 5\n"
     ]
    },
    {
     "name": "stdout",
     "output_type": "stream",
     "text": [
      "31.400000000000002\n"
     ]
    }
   ],
   "source": [
    "# Write a program to find the circumference of a circle.\n",
    "# The input radius must be a float variable, the output circumference should\n",
    "# be printed as a floating point value with 2 point precision. No other extra\n",
    "# information should be printed except the circumference value to the stdout.\n",
    "# (Assume PI = 3.14)\n",
    "# Hint:\n",
    "# Circumference of a circle= 2*pi*r\n",
    "import math\n",
    "r=float(input(\"enter a no\"))\n",
    "pi=3.14\n",
    "area_of_circumference = 2*pi*r\n",
    "print(area_of_circumference)"
   ]
  },
  {
   "cell_type": "code",
   "execution_count": null,
   "id": "5555ac13-4e74-4a8e-b069-a4ffbe052975",
   "metadata": {},
   "outputs": [],
   "source": []
  }
 ],
 "metadata": {
  "kernelspec": {
   "display_name": "Python 3",
   "language": "python",
   "name": "python3"
  },
  "language_info": {
   "codemirror_mode": {
    "name": "ipython",
    "version": 3
   },
   "file_extension": ".py",
   "mimetype": "text/x-python",
   "name": "python",
   "nbconvert_exporter": "python",
   "pygments_lexer": "ipython3",
   "version": "3.13.1"
  }
 },
 "nbformat": 4,
 "nbformat_minor": 5
}
