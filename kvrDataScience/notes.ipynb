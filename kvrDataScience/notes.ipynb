{
 "cells": [
  {
   "cell_type": "markdown",
   "metadata": {},
   "source": [
    "# NumPy, Pandas, Matplotlib"
   ]
  },
  {
   "cell_type": "markdown",
   "metadata": {},
   "source": [
    "- NumPy\n",
    "- creation of numpy array\n",
    "- array()\n",
    "- arange()\n",
    "- linspace()\n",
    "- zeros()\n",
    "- Ones()\n",
    "- full()\n",
    "- eye()\n",
    "- identity()\n",
    "- diag()\n",
    "- empty()\n",
    "- random library function\n",
    "\n",
    "- randint()\n",
    "- rand()\n",
    "- uniform()\n",
    "- randn()\n",
    "- normal()\n",
    "- shuffle()\n",
    "-------------------------\n",
    "\n",
    "- Array attributes & numpy data types\n",
    "- view vs copy\n",
    "\n",
    "------------------\n",
    "\n",
    "- Indexing, Slicing and advance Indexing\n",
    "- basic indexing- to select only one element\n",
    "- slicing - to select multiple arbitrary element\n",
    "- condition based selection\n",
    "\n",
    "------------------\n",
    "\n",
    "- how to iterate element of the nd array\n",
    "\n",
    "- by python loop\n",
    "- by numpy nditer() function\n",
    "- by using ndenumerate() function\n",
    "\n",
    "------------------\n",
    "\n",
    "Arithmetics operation:\n",
    "- arithmetics operation for numpy array with scaler\n",
    "- arithmetics operation for array with array\n",
    "\n",
    "\n",
    "----------------------\n",
    "Array manipulation function\n",
    "\n",
    "- reshape()\n",
    "- resize() \n",
    "- flatten()\n",
    "- flat variable\n",
    "- ravel()\n",
    "- transpose()\n",
    "- swapaxes()\n",
    "\n",
    "\n",
    "--------------\n",
    "- Joining of multiple array into a single array\n",
    "\n",
    "- concatenate()\n",
    "- stack()\n",
    "- vstack()\n",
    "- hstack()\n",
    "- dstack()\n",
    "\n",
    "--------------\n",
    "- splitting of array \n",
    "\n",
    "- split()\n",
    "- vsplit()\n",
    "- hsplit()\n",
    "- dsplit()\n",
    "\n",
    "--------------\n",
    "- how to insert element from ndarray\n",
    "\n",
    "- insert()\n",
    "- append()\n",
    "\n",
    "---------------\n",
    "\n",
    "- deleting element from ndarray\n",
    "- matrix multiplication\n",
    "- importance of matrix class in numpy library.\n",
    "\n",
    "--------------\n",
    "- Linear algebra function from linalg module\n",
    "- inv() - to find the inverse of matrix\n",
    "- matrix_power() - to find the power of matrix A^n\n",
    "- det() - to find the determinant of matrix\n",
    "- solve() - to solve the linear algebra question\n",
    "-  I/O  operation with numpy \n",
    "- basic statistics with numpy\n",
    "- numpy mathematics function\n",
    "- how to find unique items and count.\n"
   ]
  },
  {
   "cell_type": "code",
   "execution_count": 1,
   "metadata": {},
   "outputs": [
    {
     "data": {
      "text/plain": [
       "'\\nPre requisite-\\n Data type\\n loop\\n function\\n \\n'"
      ]
     },
     "execution_count": 1,
     "metadata": {},
     "output_type": "execute_result"
    }
   ],
   "source": [
    "\"\"\"\n",
    "Pre requisite-\n",
    " Data type\n",
    " loop\n",
    " function\n",
    " \n",
    "\"\"\""
   ]
  },
  {
   "cell_type": "markdown",
   "metadata": {},
   "source": [
    "- Numpy stand for numerical python \n",
    "- to deal with arrays based computing + complex operation\n",
    "- travis oliphan developed numpy \n",
    "- he developed numpy in C, Python language."
   ]
  },
  {
   "cell_type": "code",
   "execution_count": 3,
   "metadata": {},
   "outputs": [
    {
     "name": "stdout",
     "output_type": "stream",
     "text": [
      "[[10, 20], [30, 40]]\n"
     ]
    }
   ],
   "source": [
    "lst=[[10,20],[30,40]]\n",
    "print(lst)"
   ]
  },
  {
   "cell_type": "code",
   "execution_count": 4,
   "metadata": {},
   "outputs": [
    {
     "name": "stdout",
     "output_type": "stream",
     "text": [
      "[10, 20]\n",
      "[30, 40]\n"
     ]
    }
   ],
   "source": [
    "for row in lst:\n",
    "    print(row)"
   ]
  },
  {
   "cell_type": "code",
   "execution_count": 1,
   "metadata": {},
   "outputs": [
    {
     "data": {
      "text/plain": [
       "'\"\\n- ndarray - mean n dimension array\\n- pip install numpy\\n\\n- to uninstall\\npip uninstall numpy\\n\\n# to install and uninstall you need internet connection\\nbecause pip is connected to github\\n\\n-to find the version of numpy\\nimport numpy\\nprint(np.__version__)\\n\\n'"
      ]
     },
     "execution_count": 1,
     "metadata": {},
     "output_type": "execute_result"
    }
   ],
   "source": [
    "\"\"\"\"\n",
    "- ndarray - mean n dimension array\n",
    "- pip install numpy\n",
    "\n",
    "- to uninstall\n",
    "pip uninstall numpy\n",
    "\n",
    "# to install and uninstall you need internet connection\n",
    "because pip is connected to github\n",
    "\n",
    "-to find the version of numpy\n",
    "import numpy\n",
    "print(np.__version__)\n",
    "\n",
    "\"\"\""
   ]
  },
  {
   "cell_type": "code",
   "execution_count": 2,
   "metadata": {},
   "outputs": [
    {
     "name": "stdout",
     "output_type": "stream",
     "text": [
      "2.2.2\n"
     ]
    }
   ],
   "source": [
    "import numpy as np\n",
    "print(np.__version__)\n",
    "\n"
   ]
  },
  {
   "cell_type": "code",
   "execution_count": 7,
   "metadata": {},
   "outputs": [
    {
     "name": "stdout",
     "output_type": "stream",
     "text": [
      "[10 20 30 40 50 60 15 10 35 20 30] <class 'numpy.ndarray'>\n"
     ]
    }
   ],
   "source": [
    "lst=[10,20,30,40,50,60,15,10,35,20,30]\n",
    "a=np.array(lst)\n",
    "print(a,type(a))"
   ]
  },
  {
   "cell_type": "code",
   "execution_count": 8,
   "metadata": {},
   "outputs": [
    {
     "name": "stdout",
     "output_type": "stream",
     "text": [
      "[11 21 31 41 51 61 16 11 36 21 31] <class 'numpy.ndarray'>\n"
     ]
    }
   ],
   "source": [
    "a=a+1\n",
    "print(a,type(a))"
   ]
  },
  {
   "cell_type": "code",
   "execution_count": 9,
   "metadata": {},
   "outputs": [
    {
     "name": "stdout",
     "output_type": "stream",
     "text": [
      "88\n"
     ]
    }
   ],
   "source": [
    "# how to find the memory size \n",
    "import sys\n",
    "lst1=[10,20,30]\n",
    "print(sys.getsizeof(lst1))"
   ]
  },
  {
   "cell_type": "code",
   "execution_count": 1,
   "metadata": {},
   "outputs": [],
   "source": [
    "# vector based operation is done with numpy.\n",
    "# nd array take less memory space for large scale data \n",
    "#"
   ]
  },
  {
   "cell_type": "markdown",
   "metadata": {},
   "source": [
    "# Numpy"
   ]
  },
  {
   "cell_type": "markdown",
   "metadata": {},
   "source": [
    "\"\"\"  \n",
    "- numpy stand for numerical python .\n",
    "- numpy is one of the pre define third party module / library and numpy module is not pre define module in python.\n",
    "- syntax for installing any module in python:\n",
    "    pip install numpy\n",
    "    \n",
    "- to use numpy as a part of our program , we must import numpy module.\n",
    "- a numpy module is collection of variable, function, and classes.\n",
    "____________________\n",
    "\n",
    "History of numpy:-\n",
    "\n",
    "- developed in 2005 by travis oliphan.\n",
    "- to solve complex math.\n",
    "- numpy is developed in c and python language.\n",
    "\n",
    "- in numpy programming , data is organise in the object of \"ndarray\". which is one of the pre defined class in numpy.\n",
    "- hence object of ndarray can store same type or different type ( unique+duplicate ) in single object.\n",
    "\n",
    "__________________________\n",
    "\n",
    "# Advantage of numpy.\n",
    "\n",
    "- with revolution of data science , data analysis like numpy, scipy, scikit and pandas etc., have seen a lot of growth.\n",
    "- numpy provide a convenient and efficient way to handle the vast amount of data .\n",
    "- numpy can also do matrix operation and data reshaping.\n",
    "- numpy is fast which makes it resonable to work with large set of data.\n",
    "\n",
    "\n",
    "- we can perform 1d,2d ,3d multi dimension array.\n",
    "- numpy maintain minimal memory for large of data .\n",
    "-  numpy provide fast in performing operation because it internally its data is available at same address.\n",
    "- numpy provide many inbuilt function for various complex mathematics operation such as statistical, algebraic, trigonometric, financial and many more.\n",
    "    \n",
    "\"\"\""
   ]
  },
  {
   "cell_type": "markdown",
   "metadata": {},
   "source": [
    "# number of ways to create an object of ndarray:-\n",
    "\n",
    " \n",
    "# i want to create a object of list:-\n",
    "- lst1=list()\n",
    "#or\n",
    "- lst2=[]\n",
    "#or \n",
    "- lst3=list({v1,v2,v3})\n",
    "#or\n",
    "lst4=list((v1,v2,v3))\n"
   ]
  },
  {
   "cell_type": "code",
   "execution_count": 4,
   "metadata": {},
   "outputs": [],
   "source": [
    "# in numpy we can create an object of ndarray with the following ways:-\n",
    "\n",
    "#1. array()\n",
    "#2. arange()\n",
    "#3. linspace()\n",
    "#4. zeros()\n",
    "#5. ones()\n",
    "#6. full()\n",
    "#7. identity()\n",
    "#8. eye()\n",
    "#9. hstack()\n",
    "#10. vstack()\n",
    "\n",
    "\n",
    "#numpy.random \n",
    "    #a. randint()\n",
    "    #b. rand()\n",
    "    #c. uniform()\n",
    "    #d. randn()\n",
    "    #e. normal()\n",
    "    #f. shuffle()\n",
    "    "
   ]
  },
  {
   "cell_type": "code",
   "execution_count": 5,
   "metadata": {},
   "outputs": [],
   "source": [
    "#pip show numpy\n",
    "#pip list"
   ]
  },
  {
   "cell_type": "markdown",
   "metadata": {},
   "source": [
    "# 1. array()\n",
    "- syntax:-\n",
    "- varname=numpy.array(object,dtype)\n",
    "- this function is used  for converting traditional python objects into ndarray object\n",
    "\n"
   ]
  },
  {
   "cell_type": "code",
   "execution_count": 7,
   "metadata": {},
   "outputs": [
    {
     "name": "stdout",
     "output_type": "stream",
     "text": [
      "90 <class 'numpy.ndarray'>\n"
     ]
    }
   ],
   "source": [
    "import numpy as np\n",
    "b=90\n",
    "a=np.array(b)\n",
    "print(a,type(a))"
   ]
  },
  {
   "cell_type": "code",
   "execution_count": 9,
   "metadata": {},
   "outputs": [
    {
     "name": "stdout",
     "output_type": "stream",
     "text": [
      "0\n"
     ]
    }
   ],
   "source": [
    "print(a.ndim)"
   ]
  },
  {
   "cell_type": "code",
   "execution_count": 10,
   "metadata": {},
   "outputs": [
    {
     "name": "stdout",
     "output_type": "stream",
     "text": [
      "()\n"
     ]
    }
   ],
   "source": [
    "print(a.shape)"
   ]
  },
  {
   "cell_type": "code",
   "execution_count": 11,
   "metadata": {},
   "outputs": [
    {
     "name": "stdout",
     "output_type": "stream",
     "text": [
      "1\n"
     ]
    }
   ],
   "source": [
    "print(a.size)"
   ]
  },
  {
   "cell_type": "code",
   "execution_count": 12,
   "metadata": {},
   "outputs": [
    {
     "name": "stdout",
     "output_type": "stream",
     "text": [
      "int64\n"
     ]
    }
   ],
   "source": [
    "print(a.dtype)"
   ]
  },
  {
   "cell_type": "code",
   "execution_count": 13,
   "metadata": {},
   "outputs": [
    {
     "name": "stdout",
     "output_type": "stream",
     "text": [
      "3.4 <class 'numpy.ndarray'>\n",
      "dimension 0\n",
      "shape ()\n",
      "size 1\n",
      "internal data type float64\n"
     ]
    }
   ],
   "source": [
    "b=3.4\n",
    "a=np.array(b)\n",
    "print(a,type(a))\n",
    "print(\"dimension\",a.ndim)\n",
    "print(\"shape\",a.shape)\n",
    "print(\"size\",a.size)\n",
    "print(\"internal data type\",a.dtype)"
   ]
  },
  {
   "cell_type": "code",
   "execution_count": 14,
   "metadata": {},
   "outputs": [
    {
     "name": "stdout",
     "output_type": "stream",
     "text": [
      "(3.4+4.5j) <class 'numpy.ndarray'>\n",
      "dimension 0\n",
      "shape ()\n",
      "size 1\n",
      "internal data type complex128\n"
     ]
    }
   ],
   "source": [
    "b=3.4+4.5j\n",
    "a=np.array(b)\n",
    "print(a,type(a))\n",
    "print(\"dimension\",a.ndim)\n",
    "print(\"shape\",a.shape)\n",
    "print(\"size\",a.size)\n",
    "print(\"internal data type\",a.dtype)"
   ]
  },
  {
   "cell_type": "code",
   "execution_count": 15,
   "metadata": {},
   "outputs": [
    {
     "name": "stdout",
     "output_type": "stream",
     "text": [
      "python <class 'numpy.ndarray'>\n",
      "dimension 0\n",
      "shape ()\n",
      "size 1\n",
      "internal data type <U6\n"
     ]
    }
   ],
   "source": [
    "b=\"python\"\n",
    "a=np.array(b)\n",
    "print(a,type(a))\n",
    "print(\"dimension\",a.ndim)\n",
    "print(\"shape\",a.shape)\n",
    "print(\"size\",a.size)\n",
    "print(\"internal data type\",a.dtype)"
   ]
  },
  {
   "cell_type": "code",
   "execution_count": 17,
   "metadata": {},
   "outputs": [
    {
     "name": "stdout",
     "output_type": "stream",
     "text": [
      "1\t2\t3\t4\t5\t6\t7\t8\t9\t10\t"
     ]
    }
   ],
   "source": [
    "for val in range(1,11):\n",
    "    print(val,end=\"\\t\")"
   ]
  },
  {
   "cell_type": "code",
   "execution_count": 18,
   "metadata": {},
   "outputs": [
    {
     "name": "stdout",
     "output_type": "stream",
     "text": [
      "[10 12 14 16 18 20 22 24 26 28 30 32 34 36 38 40 42 44 46 48 50]\t"
     ]
    }
   ],
   "source": [
    "r=range(10,51,2)\n",
    "a=np.array(r)\n",
    "print(a,end=\"\\t\")"
   ]
  },
  {
   "cell_type": "code",
   "execution_count": 19,
   "metadata": {},
   "outputs": [
    {
     "name": "stdout",
     "output_type": "stream",
     "text": [
      "[10 12 14 16 18 20 22 24 26 28 30 32 34 36 38 40 42 44 46 48 50] <class 'numpy.ndarray'>\n",
      "dimension 1\n",
      "shape (21,)\n",
      "size 21\n",
      "internal data type int64\n"
     ]
    }
   ],
   "source": [
    "print(a,type(a))\n",
    "print(\"dimension\",a.ndim)\n",
    "print(\"shape\",a.shape)\n",
    "print(\"size\",a.size)\n",
    "print(\"internal data type\",a.dtype)"
   ]
  },
  {
   "cell_type": "code",
   "execution_count": 20,
   "metadata": {},
   "outputs": [
    {
     "name": "stdout",
     "output_type": "stream",
     "text": [
      "[False  True  True  True  True  True] <class 'numpy.ndarray'>\n",
      "dimension 1\n",
      "shape (6,)\n",
      "size 6\n",
      "internal data type bool\n"
     ]
    }
   ],
   "source": [
    "a=np.array(range(6),dtype=bool)\n",
    "print(a,type(a))\n",
    "print(\"dimension\",a.ndim)\n",
    "print(\"shape\",a.shape)\n",
    "print(\"size\",a.size)\n",
    "print(\"internal data type\",a.dtype)"
   ]
  },
  {
   "cell_type": "code",
   "execution_count": 21,
   "metadata": {},
   "outputs": [
    {
     "name": "stdout",
     "output_type": "stream",
     "text": [
      "[0 1 2 3 4 5] <class 'numpy.ndarray'>\n",
      "dimension 1\n",
      "shape (6,)\n",
      "size 6\n",
      "internal data type int64\n"
     ]
    }
   ],
   "source": [
    "a=np.array(range(6),dtype=int)\n",
    "print(a,type(a))\n",
    "print(\"dimension\",a.ndim)\n",
    "print(\"shape\",a.shape)\n",
    "print(\"size\",a.size)\n",
    "print(\"internal data type\",a.dtype)"
   ]
  },
  {
   "cell_type": "markdown",
   "metadata": {},
   "source": [
    "# now i want to reshape the 1D to 2D array:-\n",
    "\n",
    "- syntax: for shape attribute\n",
    "- ndarrayobj.shape=(rows,cols)\n",
    "-  syntax: for reshape attribute\n",
    "- ndarrayobj=ndarrayobj.reshape(rows,cols)"
   ]
  },
  {
   "cell_type": "code",
   "execution_count": 22,
   "metadata": {},
   "outputs": [
    {
     "name": "stdout",
     "output_type": "stream",
     "text": [
      "[100 105 110 115 120 125 130 135 140 145 150 155] <class 'numpy.ndarray'>\n",
      "dimension 1\n",
      "shape (12,)\n",
      "size 12\n",
      "internal data type int64\n"
     ]
    }
   ],
   "source": [
    "a=np.array(range(100,156,5))\n",
    "print(a,type(a))\n",
    "print(\"dimension\",a.ndim)\n",
    "print(\"shape\",a.shape)\n",
    "print(\"size\",a.size)\n",
    "print(\"internal data type\",a.dtype)"
   ]
  },
  {
   "cell_type": "code",
   "execution_count": 23,
   "metadata": {},
   "outputs": [
    {
     "name": "stdout",
     "output_type": "stream",
     "text": [
      "[[100 105 110]\n",
      " [115 120 125]\n",
      " [130 135 140]\n",
      " [145 150 155]] <class 'numpy.ndarray'>\n",
      "dimension 2\n",
      "shape (4, 3)\n",
      "size 12\n",
      "internal data type int64\n"
     ]
    }
   ],
   "source": [
    "a.shape=(4,3)\n",
    "print(a,type(a))\n",
    "print(\"dimension\",a.ndim)\n",
    "print(\"shape\",a.shape)\n",
    "print(\"size\",a.size)\n",
    "print(\"internal data type\",a.dtype)"
   ]
  },
  {
   "cell_type": "code",
   "execution_count": 24,
   "metadata": {},
   "outputs": [
    {
     "name": "stdout",
     "output_type": "stream",
     "text": [
      "[100 105 110 115 120 125 130 135 140 145 150 155] <class 'numpy.ndarray'>\n",
      "dimension 1\n",
      "shape (12,)\n",
      "size 12\n",
      "internal data type int64\n"
     ]
    }
   ],
   "source": [
    "a.shape=(12,)\n",
    "print(a,type(a))\n",
    "print(\"dimension\",a.ndim)\n",
    "print(\"shape\",a.shape)\n",
    "print(\"size\",a.size)\n",
    "print(\"internal data type\",a.dtype)"
   ]
  },
  {
   "cell_type": "code",
   "execution_count": 25,
   "metadata": {},
   "outputs": [
    {
     "name": "stdout",
     "output_type": "stream",
     "text": [
      "[100 105 110 115 120 125 130 135 140 145 150 155] <class 'numpy.ndarray'>\n",
      "dimension 1\n",
      "shape (12,)\n",
      "size 12\n",
      "internal data type int64\n"
     ]
    }
   ],
   "source": [
    "a.reshape(4,3)\n",
    "print(a,type(a))\n",
    "print(\"dimension\",a.ndim)\n",
    "print(\"shape\",a.shape)\n",
    "print(\"size\",a.size)\n",
    "print(\"internal data type\",a.dtype)"
   ]
  },
  {
   "cell_type": "code",
   "execution_count": 26,
   "metadata": {},
   "outputs": [
    {
     "name": "stdout",
     "output_type": "stream",
     "text": [
      "[100 105 110 115 120 125 130 135 140 145 150 155] <class 'numpy.ndarray'>\n",
      "dimension 1\n",
      "shape (12,)\n",
      "size 12\n",
      "internal data type int64\n"
     ]
    }
   ],
   "source": [
    "a=a.reshape(12,)\n",
    "print(a,type(a))\n",
    "print(\"dimension\",a.ndim)\n",
    "print(\"shape\",a.shape)\n",
    "print(\"size\",a.size)\n",
    "print(\"internal data type\",a.dtype)"
   ]
  },
  {
   "cell_type": "code",
   "execution_count": 27,
   "metadata": {},
   "outputs": [
    {
     "name": "stdout",
     "output_type": "stream",
     "text": [
      "[[[[ 0  1]\n",
      "   [ 2  3]]\n",
      "\n",
      "  [[ 4  5]\n",
      "   [ 6  7]]]\n",
      "\n",
      "\n",
      " [[[ 8  9]\n",
      "   [10 11]]\n",
      "\n",
      "  [[12 13]\n",
      "   [14 15]]]] <class 'numpy.ndarray'>\n",
      "dimension 4\n",
      "shape (2, 2, 2, 2)\n",
      "size 16\n",
      "internal data type int64\n"
     ]
    }
   ],
   "source": [
    "a=np.array(range(0,16))\n",
    "a.shape=(2,2,2,2)\n",
    "print(a,type(a))\n",
    "print(\"dimension\",a.ndim)\n",
    "print(\"shape\",a.shape)\n",
    "print(\"size\",a.size)\n",
    "print(\"internal data type\",a.dtype)"
   ]
  },
  {
   "cell_type": "code",
   "execution_count": 28,
   "metadata": {},
   "outputs": [
    {
     "name": "stdout",
     "output_type": "stream",
     "text": [
      "[[ 0  1  2  3]\n",
      " [ 4  5  6  7]\n",
      " [ 8  9 10 11]\n",
      " [12 13 14 15]] <class 'numpy.ndarray'>\n",
      "dimension 2\n",
      "shape (4, 4)\n",
      "size 16\n",
      "internal data type int64\n"
     ]
    }
   ],
   "source": [
    "lst=[10,20,30,40,50,60,70,80,90,100,110,120,130,140,160]\n",
    "a.shape=(4,4)\n",
    "print(a,type(a))\n",
    "print(\"dimension\",a.ndim)\n",
    "print(\"shape\",a.shape)\n",
    "print(\"size\",a.size)\n",
    "print(\"internal data type\",a.dtype)"
   ]
  },
  {
   "cell_type": "code",
   "execution_count": 29,
   "metadata": {},
   "outputs": [
    {
     "name": "stdout",
     "output_type": "stream",
     "text": [
      "[[[ 0  1  2  3]\n",
      "  [ 4  5  6  7]]\n",
      "\n",
      " [[ 8  9 10 11]\n",
      "  [12 13 14 15]]] <class 'numpy.ndarray'>\n",
      "dimension 3\n",
      "shape (2, 2, 4)\n",
      "size 16\n",
      "internal data type int64\n"
     ]
    }
   ],
   "source": [
    "a.shape=(2,2,4)\n",
    "print(a,type(a))\n",
    "print(\"dimension\",a.ndim)\n",
    "print(\"shape\",a.shape)\n",
    "print(\"size\",a.size)\n",
    "print(\"internal data type\",a.dtype)"
   ]
  },
  {
   "cell_type": "code",
   "execution_count": 30,
   "metadata": {},
   "outputs": [
    {
     "name": "stdout",
     "output_type": "stream",
     "text": [
      "[ 0  1  2  3  4  5  6  7  8  9 10 11 12 13 14 15] <class 'numpy.ndarray'>\n",
      "dimension 1\n",
      "shape (16,)\n",
      "size 16\n",
      "internal data type int64\n"
     ]
    }
   ],
   "source": [
    "# to flatten\n",
    "a.shape=(16,)\n",
    "print(a,type(a))\n",
    "print(\"dimension\",a.ndim)\n",
    "print(\"shape\",a.shape)\n",
    "print(\"size\",a.size)\n",
    "print(\"internal data type\",a.dtype)"
   ]
  },
  {
   "cell_type": "code",
   "execution_count": 31,
   "metadata": {},
   "outputs": [
    {
     "name": "stdout",
     "output_type": "stream",
     "text": [
      "{50, 20, 40, 10, 60, 30} <class 'set'>\n"
     ]
    }
   ],
   "source": [
    "s1={10,20,30,40,50,60}\n",
    "print(s1,type(s1))"
   ]
  },
  {
   "cell_type": "code",
   "execution_count": 32,
   "metadata": {},
   "outputs": [
    {
     "name": "stdout",
     "output_type": "stream",
     "text": [
      "{50, 20, 40, 10, 60, 30} <class 'numpy.ndarray'>\n"
     ]
    }
   ],
   "source": [
    "a=np.array(s1)\n",
    "\n",
    "print(a,type(a))"
   ]
  },
  {
   "cell_type": "code",
   "execution_count": 33,
   "metadata": {},
   "outputs": [
    {
     "name": "stdout",
     "output_type": "stream",
     "text": [
      "{50, 20, 40, 10, 60, 30} <class 'numpy.ndarray'>\n",
      "dimension 0\n",
      "shape ()\n",
      "size 1\n",
      "internal data type object\n"
     ]
    }
   ],
   "source": [
    "print(a,type(a))\n",
    "print(\"dimension\",a.ndim)\n",
    "print(\"shape\",a.shape)\n",
    "print(\"size\",a.size)\n",
    "print(\"internal data type\",a.dtype)"
   ]
  },
  {
   "cell_type": "code",
   "execution_count": 34,
   "metadata": {},
   "outputs": [
    {
     "name": "stdout",
     "output_type": "stream",
     "text": [
      "{10: 'python', 20: 'java', 30: 'c', 40: 'c++'} <class 'numpy.ndarray'>\n",
      "{10: 'python', 20: 'java', 30: 'c', 40: 'c++'} <class 'numpy.ndarray'>\n",
      "dimension 0\n",
      "shape ()\n",
      "size 1\n",
      "internal data type object\n"
     ]
    }
   ],
   "source": [
    "d1={10:\"python\",20:\"java\",30:\"c\",40:\"c++\"}\n",
    "\n",
    "a=np.array(d1)\n",
    "print(a,type(a))\n",
    "print(a,type(a))\n",
    "print(\"dimension\",a.ndim)\n",
    "print(\"shape\",a.shape)\n",
    "print(\"size\",a.size)\n",
    "print(\"internal data type\",a.dtype)"
   ]
  },
  {
   "cell_type": "markdown",
   "metadata": {},
   "source": [
    "# 2. arange()\n",
    "- arange() is used for generating range of values with equal interval of value(default interval value or step value is 1)\n",
    "- syntax:-\n",
    "- varname=numpy.arange(start)\n",
    "- varname=numpy.arange(start,end)\n",
    "- varname=numpy.arange(start,end,step)\n",
    "\n",
    "- arange() by default create an object of ndarray with 1D  array only ,it cannot built 2D and n-dimension array\n",
    "\n",
    "- to built 2D and n-D array from arange() function we use reshape() or shape attribute.\n",
    " "
   ]
  },
  {
   "cell_type": "code",
   "execution_count": 2,
   "metadata": {},
   "outputs": [
    {
     "name": "stdout",
     "output_type": "stream",
     "text": [
      "[0 1 2 3 4 5 6 7 8 9] <class 'numpy.ndarray'>\n",
      "dimension 1\n",
      "shape (10,)\n",
      "size 10\n",
      "internal data type int64\n"
     ]
    }
   ],
   "source": [
    "import numpy as np\n",
    "a=np.arange(10)\n",
    "print(a,type(a))\n",
    "print(\"dimension\",a.ndim)\n",
    "print(\"shape\",a.shape)\n",
    "print(\"size\",a.size)\n",
    "print(\"internal data type\",a.dtype)"
   ]
  },
  {
   "cell_type": "code",
   "execution_count": 3,
   "metadata": {},
   "outputs": [
    {
     "name": "stdout",
     "output_type": "stream",
     "text": [
      "[[0 1]\n",
      " [2 3]\n",
      " [4 5]\n",
      " [6 7]\n",
      " [8 9]] <class 'numpy.ndarray'>\n",
      "dimension 2\n",
      "shape (5, 2)\n",
      "size 10\n",
      "internal data type int64\n"
     ]
    }
   ],
   "source": [
    "a.shape=(5,2)\n",
    "print(a,type(a))\n",
    "print(\"dimension\",a.ndim)\n",
    "print(\"shape\",a.shape)\n",
    "print(\"size\",a.size)\n",
    "print(\"internal data type\",a.dtype)"
   ]
  },
  {
   "cell_type": "code",
   "execution_count": 4,
   "metadata": {},
   "outputs": [
    {
     "name": "stdout",
     "output_type": "stream",
     "text": [
      "[10 11 12 13 14 15 16 17 18 19 20 21] <class 'numpy.ndarray'> 12\n",
      "dimension 1\n",
      "shape (12,)\n",
      "size 12\n",
      "internal data type int64\n"
     ]
    }
   ],
   "source": [
    "a=np.arange(10,22)\n",
    "print(a,type(a),len(a))\n",
    "print(\"dimension\",a.ndim)\n",
    "print(\"shape\",a.shape)\n",
    "print(\"size\",a.size)\n",
    "print(\"internal data type\",a.dtype)"
   ]
  },
  {
   "cell_type": "code",
   "execution_count": 5,
   "metadata": {},
   "outputs": [
    {
     "name": "stdout",
     "output_type": "stream",
     "text": [
      "[[[10 11 12]\n",
      "  [13 14 15]]\n",
      "\n",
      " [[16 17 18]\n",
      "  [19 20 21]]] <class 'numpy.ndarray'>\n",
      "dimension 3\n",
      "shape (2, 2, 3)\n",
      "size 12\n",
      "internal data type int64\n"
     ]
    }
   ],
   "source": [
    "a.shape=(2,2,3)\n",
    "print(a,type(a))\n",
    "print(\"dimension\",a.ndim)\n",
    "print(\"shape\",a.shape)\n",
    "print(\"size\",a.size)\n",
    "print(\"internal data type\",a.dtype)"
   ]
  },
  {
   "cell_type": "code",
   "execution_count": 6,
   "metadata": {},
   "outputs": [
    {
     "name": "stdout",
     "output_type": "stream",
     "text": [
      "[[[10 11]\n",
      "  [12 13]\n",
      "  [14 15]]\n",
      "\n",
      " [[16 17]\n",
      "  [18 19]\n",
      "  [20 21]]] <class 'numpy.ndarray'>\n"
     ]
    }
   ],
   "source": [
    "a=np.arange(10,22).reshape(2,3,2)\n",
    "print(a,type(a))"
   ]
  },
  {
   "cell_type": "code",
   "execution_count": 7,
   "metadata": {},
   "outputs": [
    {
     "name": "stdout",
     "output_type": "stream",
     "text": [
      "[[ 10  15  20  25]\n",
      " [ 30  35  40  45]\n",
      " [ 50  55  60  65]\n",
      " [ 70  75  80  85]\n",
      " [ 90  95 100 105]] <class 'numpy.ndarray'> 5\n"
     ]
    }
   ],
   "source": [
    "a=np.arange(10,106,5).reshape(5,4)\n",
    "print(a,type(a),len(a))"
   ]
  },
  {
   "cell_type": "markdown",
   "metadata": {},
   "source": [
    "# linspace()\n",
    "- syntax:-\n",
    "- varname=numpy.linspace(start,stop,num,endpoint,restep,dtype)\n",
    "- "
   ]
  },
  {
   "cell_type": "code",
   "execution_count": 8,
   "metadata": {},
   "outputs": [
    {
     "name": "stdout",
     "output_type": "stream",
     "text": [
      "[1.         1.02040816 1.04081633 1.06122449 1.08163265 1.10204082\n",
      " 1.12244898 1.14285714 1.16326531 1.18367347 1.20408163 1.2244898\n",
      " 1.24489796 1.26530612 1.28571429 1.30612245 1.32653061 1.34693878\n",
      " 1.36734694 1.3877551  1.40816327 1.42857143 1.44897959 1.46938776\n",
      " 1.48979592 1.51020408 1.53061224 1.55102041 1.57142857 1.59183673\n",
      " 1.6122449  1.63265306 1.65306122 1.67346939 1.69387755 1.71428571\n",
      " 1.73469388 1.75510204 1.7755102  1.79591837 1.81632653 1.83673469\n",
      " 1.85714286 1.87755102 1.89795918 1.91836735 1.93877551 1.95918367\n",
      " 1.97959184 2.        ] <class 'numpy.ndarray'>\n"
     ]
    }
   ],
   "source": [
    "a=np.linspace(1,2)\n",
    "\n",
    "print(a,type(a))"
   ]
  },
  {
   "cell_type": "code",
   "execution_count": 9,
   "metadata": {},
   "outputs": [
    {
     "name": "stdout",
     "output_type": "stream",
     "text": [
      "[1.   1.25 1.5  1.75 2.  ] <class 'numpy.ndarray'>\n"
     ]
    }
   ],
   "source": [
    "a=np.linspace(1,2,num=5)\n",
    "print(a,type(a))"
   ]
  },
  {
   "cell_type": "code",
   "execution_count": 10,
   "metadata": {},
   "outputs": [
    {
     "name": "stdout",
     "output_type": "stream",
     "text": [
      "[1.  1.2 1.4 1.6 1.8] <class 'numpy.ndarray'>\n"
     ]
    }
   ],
   "source": [
    "a=np.linspace(1,2,num=5,endpoint=False)\n",
    "print(a,type(a))"
   ]
  },
  {
   "cell_type": "code",
   "execution_count": 11,
   "metadata": {},
   "outputs": [
    {
     "name": "stdout",
     "output_type": "stream",
     "text": [
      "(array([1.  , 1.25, 1.5 , 1.75, 2.  ]), np.float64(0.25)) <class 'tuple'>\n"
     ]
    }
   ],
   "source": [
    "a=np.linspace(1,2,num=5,retstep=True)\n",
    "print(a,type(a))"
   ]
  },
  {
   "cell_type": "markdown",
   "metadata": {},
   "source": [
    "# zeros()\n",
    "- syntax:-\n",
    "- varname=numpy.zeros(shape,dtype)"
   ]
  },
  {
   "cell_type": "code",
   "execution_count": 13,
   "metadata": {},
   "outputs": [
    {
     "name": "stdout",
     "output_type": "stream",
     "text": [
      "[0 0 0 0] <class 'numpy.ndarray'>\n",
      "[[0 0]\n",
      " [0 0]] <class 'numpy.ndarray'>\n"
     ]
    }
   ],
   "source": [
    "l1=[0,0,0,0]\n",
    "a=np.array(l1)\n",
    "print(a,type(a))\n",
    "a.shape=(2,2)\n",
    "print(a,type(a))"
   ]
  },
  {
   "cell_type": "code",
   "execution_count": 14,
   "metadata": {},
   "outputs": [
    {
     "name": "stdout",
     "output_type": "stream",
     "text": [
      "[[0 0]\n",
      " [0 0]] <class 'numpy.ndarray'>\n",
      "dimension 2\n",
      "shape (2, 2)\n",
      "size 4\n",
      "internal data type int64\n"
     ]
    }
   ],
   "source": [
    "a=np.zeros((2,2),dtype=int)\n",
    "print(a,type(a))\n",
    "print(\"dimension\",a.ndim)\n",
    "print(\"shape\",a.shape)\n",
    "print(\"size\",a.size)\n",
    "print(\"internal data type\",a.dtype)\n"
   ]
  },
  {
   "cell_type": "code",
   "execution_count": 15,
   "metadata": {},
   "outputs": [
    {
     "name": "stdout",
     "output_type": "stream",
     "text": [
      "[[[0 0 0]\n",
      "  [0 0 0]\n",
      "  [0 0 0]]\n",
      "\n",
      " [[0 0 0]\n",
      "  [0 0 0]\n",
      "  [0 0 0]]\n",
      "\n",
      " [[0 0 0]\n",
      "  [0 0 0]\n",
      "  [0 0 0]]] <class 'numpy.ndarray'>\n",
      "dimension 3\n",
      "shape (3, 3, 3)\n",
      "size 27\n",
      "internal data type int64\n"
     ]
    }
   ],
   "source": [
    "a=np.zeros((3,3,3),dtype=int)\n",
    "print(a,type(a))\n",
    "print(\"dimension\",a.ndim)\n",
    "print(\"shape\",a.shape)\n",
    "print(\"size\",a.size)\n",
    "print(\"internal data type\",a.dtype)\n"
   ]
  },
  {
   "cell_type": "markdown",
   "metadata": {},
   "source": [
    "# ones()\n",
    "- syntax:-\n",
    "- "
   ]
  },
  {
   "cell_type": "code",
   "execution_count": 16,
   "metadata": {},
   "outputs": [
    {
     "name": "stdout",
     "output_type": "stream",
     "text": [
      "[1 1 1] <class 'numpy.ndarray'>\n",
      "dimension 1\n",
      "shape (3,)\n",
      "size 3\n",
      "internal data type int64\n"
     ]
    }
   ],
   "source": [
    "a=np.ones(3,dtype=int)\n",
    "print(a,type(a))\n",
    "print(\"dimension\",a.ndim)\n",
    "print(\"shape\",a.shape)\n",
    "print(\"size\",a.size)\n",
    "print(\"internal data type\",a.dtype)\n"
   ]
  },
  {
   "cell_type": "code",
   "execution_count": 17,
   "metadata": {},
   "outputs": [
    {
     "name": "stdout",
     "output_type": "stream",
     "text": [
      "[[[1 1 1 1]\n",
      "  [1 1 1 1]\n",
      "  [1 1 1 1]]\n",
      "\n",
      " [[1 1 1 1]\n",
      "  [1 1 1 1]\n",
      "  [1 1 1 1]]] <class 'numpy.ndarray'>\n",
      "dimension 3\n",
      "shape (2, 3, 4)\n",
      "size 24\n",
      "internal data type int64\n"
     ]
    }
   ],
   "source": [
    "a=np.ones((2,3,4),dtype=int)\n",
    "print(a,type(a))\n",
    "print(\"dimension\",a.ndim)\n",
    "print(\"shape\",a.shape)\n",
    "print(\"size\",a.size)\n",
    "print(\"internal data type\",a.dtype)\n"
   ]
  },
  {
   "cell_type": "markdown",
   "metadata": {},
   "source": [
    "# full()\n",
    "- syntax:-\n",
    "- varname=numpy.full(shape,fill_value,dtype)\n"
   ]
  },
  {
   "cell_type": "code",
   "execution_count": 18,
   "metadata": {},
   "outputs": [
    {
     "name": "stdout",
     "output_type": "stream",
     "text": [
      "[9 9 9 9 9 9] <class 'numpy.ndarray'>\n",
      "dimension 1\n",
      "shape (6,)\n",
      "size 6\n",
      "internal data type int64\n"
     ]
    }
   ],
   "source": [
    "a=np.full(6,9)\n",
    "print(a,type(a))\n",
    "print(\"dimension\",a.ndim)\n",
    "print(\"shape\",a.shape)\n",
    "print(\"size\",a.size)\n",
    "print(\"internal data type\",a.dtype)\n"
   ]
  },
  {
   "cell_type": "code",
   "execution_count": 19,
   "metadata": {},
   "outputs": [
    {
     "name": "stdout",
     "output_type": "stream",
     "text": [
      "[[9 9 9]\n",
      " [9 9 9]] <class 'numpy.ndarray'>\n",
      "dimension 2\n",
      "shape (2, 3)\n",
      "size 6\n",
      "internal data type int64\n"
     ]
    }
   ],
   "source": [
    "a=np.full(6,9).reshape(2,3)\n",
    "print(a,type(a))\n",
    "print(\"dimension\",a.ndim)\n",
    "print(\"shape\",a.shape)\n",
    "print(\"size\",a.size)\n",
    "print(\"internal data type\",a.dtype)\n"
   ]
  },
  {
   "cell_type": "code",
   "execution_count": 20,
   "metadata": {},
   "outputs": [
    {
     "name": "stdout",
     "output_type": "stream",
     "text": [
      "[[6 6 6]\n",
      " [6 6 6]\n",
      " [6 6 6]] <class 'numpy.ndarray'>\n",
      "dimension 2\n",
      "shape (3, 3)\n",
      "size 9\n",
      "internal data type int64\n"
     ]
    }
   ],
   "source": [
    "a=np.full((3,3),6)\n",
    "print(a,type(a))\n",
    "print(\"dimension\",a.ndim)\n",
    "print(\"shape\",a.shape)\n",
    "print(\"size\",a.size)\n",
    "print(\"internal data type\",a.dtype)\n"
   ]
  },
  {
   "cell_type": "code",
   "execution_count": 21,
   "metadata": {},
   "outputs": [
    {
     "name": "stdout",
     "output_type": "stream",
     "text": [
      "[[[6 6 6]\n",
      "  [6 6 6]\n",
      "  [6 6 6]]\n",
      "\n",
      " [[6 6 6]\n",
      "  [6 6 6]\n",
      "  [6 6 6]]\n",
      "\n",
      " [[6 6 6]\n",
      "  [6 6 6]\n",
      "  [6 6 6]]] <class 'numpy.ndarray'>\n",
      "dimension 3\n",
      "shape (3, 3, 3)\n",
      "size 27\n",
      "internal data type int64\n"
     ]
    }
   ],
   "source": [
    "a=np.full((3,3,3),6)\n",
    "print(a,type(a))\n",
    "print(\"dimension\",a.ndim)\n",
    "print(\"shape\",a.shape)\n",
    "print(\"size\",a.size)\n",
    "print(\"internal data type\",a.dtype)"
   ]
  },
  {
   "cell_type": "code",
   "execution_count": 22,
   "metadata": {},
   "outputs": [
    {
     "name": "stdout",
     "output_type": "stream",
     "text": [
      "[[['itty' 'itty' 'itty']\n",
      "  ['itty' 'itty' 'itty']\n",
      "  ['itty' 'itty' 'itty']]\n",
      "\n",
      " [['itty' 'itty' 'itty']\n",
      "  ['itty' 'itty' 'itty']\n",
      "  ['itty' 'itty' 'itty']]\n",
      "\n",
      " [['itty' 'itty' 'itty']\n",
      "  ['itty' 'itty' 'itty']\n",
      "  ['itty' 'itty' 'itty']]] <class 'numpy.ndarray'>\n",
      "dimension 3\n",
      "shape (3, 3, 3)\n",
      "size 27\n",
      "internal data type <U4\n"
     ]
    }
   ],
   "source": [
    "a=np.full((3,3,3),\"itty\")\n",
    "print(a,type(a))\n",
    "print(\"dimension\",a.ndim)\n",
    "print(\"shape\",a.shape)\n",
    "print(\"size\",a.size)\n",
    "print(\"internal data type\",a.dtype)"
   ]
  },
  {
   "cell_type": "markdown",
   "metadata": {},
   "source": [
    "# identity()\n",
    "- syntax:-\n",
    "- varname=numpy.identity(N,dtype)"
   ]
  },
  {
   "cell_type": "code",
   "execution_count": 23,
   "metadata": {},
   "outputs": [
    {
     "name": "stdout",
     "output_type": "stream",
     "text": [
      "[[1. 0. 0.]\n",
      " [0. 1. 0.]\n",
      " [0. 0. 1.]] <class 'numpy.ndarray'>\n",
      "dimension 2\n",
      "shape (3, 3)\n",
      "size 9\n",
      "internal data type float64\n"
     ]
    }
   ],
   "source": [
    "a=np.identity(3)\n",
    "print(a,type(a))\n",
    "print(\"dimension\",a.ndim)\n",
    "print(\"shape\",a.shape)\n",
    "print(\"size\",a.size)\n",
    "print(\"internal data type\",a.dtype)"
   ]
  },
  {
   "cell_type": "markdown",
   "metadata": {},
   "source": [
    "# eye()\n",
    "\n",
    "- varname= numpy.eye(N,M=none,k=0,dtype)"
   ]
  },
  {
   "cell_type": "code",
   "execution_count": 24,
   "metadata": {},
   "outputs": [
    {
     "name": "stdout",
     "output_type": "stream",
     "text": [
      "[[1 0 0 0 0]\n",
      " [0 1 0 0 0]\n",
      " [0 0 1 0 0]\n",
      " [0 0 0 1 0]\n",
      " [0 0 0 0 1]] <class 'numpy.ndarray'>\n"
     ]
    }
   ],
   "source": [
    "a= np.identity(5,dtype=int)\n",
    "print(a,type(a))"
   ]
  },
  {
   "cell_type": "code",
   "execution_count": 25,
   "metadata": {},
   "outputs": [
    {
     "name": "stdout",
     "output_type": "stream",
     "text": [
      "[[1 0 0 0 0]\n",
      " [0 1 0 0 0]\n",
      " [0 0 1 0 0]\n",
      " [0 0 0 1 0]\n",
      " [0 0 0 0 1]] <class 'numpy.ndarray'>\n"
     ]
    }
   ],
   "source": [
    "a= np.eye(5,dtype=int)\n",
    "print(a,type(a))"
   ]
  },
  {
   "cell_type": "code",
   "execution_count": 26,
   "metadata": {},
   "outputs": [
    {
     "name": "stdout",
     "output_type": "stream",
     "text": [
      "[[0 0 0 0 0]\n",
      " [1 0 0 0 0]\n",
      " [0 1 0 0 0]\n",
      " [0 0 1 0 0]\n",
      " [0 0 0 1 0]] <class 'numpy.ndarray'>\n"
     ]
    }
   ],
   "source": [
    "a= np.eye(5,k=-1,dtype=int)\n",
    "print(a,type(a))"
   ]
  },
  {
   "cell_type": "code",
   "execution_count": 27,
   "metadata": {},
   "outputs": [
    {
     "name": "stdout",
     "output_type": "stream",
     "text": [
      "[[0 0 0 0 0]\n",
      " [0 0 0 0 0]\n",
      " [1 0 0 0 0]\n",
      " [0 1 0 0 0]\n",
      " [0 0 1 0 0]] <class 'numpy.ndarray'>\n"
     ]
    }
   ],
   "source": [
    "a= np.eye(5,k=-2,dtype=int)\n",
    "print(a,type(a))"
   ]
  },
  {
   "cell_type": "code",
   "execution_count": 28,
   "metadata": {},
   "outputs": [
    {
     "name": "stdout",
     "output_type": "stream",
     "text": [
      "[[1 0 0 0 0]\n",
      " [0 1 0 0 0]\n",
      " [0 0 1 0 0]] <class 'numpy.ndarray'>\n"
     ]
    }
   ],
   "source": [
    "a= np.eye(3,5,dtype=int)\n",
    "print(a,type(a))"
   ]
  },
  {
   "cell_type": "code",
   "execution_count": 29,
   "metadata": {},
   "outputs": [
    {
     "name": "stdout",
     "output_type": "stream",
     "text": [
      "[[1 0 0]\n",
      " [0 1 0]\n",
      " [0 0 1]\n",
      " [0 0 0]\n",
      " [0 0 0]] <class 'numpy.ndarray'>\n"
     ]
    }
   ],
   "source": [
    "a= np.eye(5,3,dtype=int)\n",
    "print(a,type(a))"
   ]
  },
  {
   "cell_type": "markdown",
   "metadata": {},
   "source": [
    "# Random number generation in numpy:-\n",
    "- numpy.random\n",
    "- 1. randint()\n",
    "- 2. rand()\n",
    "- 3. uniform()\n",
    "- 4. randn()\n",
    "- 5. normal()\n",
    "- 6. shuffle()\n",
    "\n",
    "\n",
    "- --> these are very much useful data science algorithm.(random number generation in numpy:-)"
   ]
  },
  {
   "cell_type": "code",
   "execution_count": 30,
   "metadata": {},
   "outputs": [
    {
     "data": {
      "text/plain": [
       "' \\n_____________________________________  \\n 1. randint() :- \\n syntax:-\\n randint(low, high=None, size=None, dtype=int)\\n_____________________________________\\n- 2. rand()\\n_____________________________________\\n- 3. uniform()\\n_____________________________________\\n- 4. randn()\\n_____________________________________\\n- 5. normal()\\n_____________________________________\\n- 6. shuffle()\\n_____________________________________\\n\\n\\n\\n'"
      ]
     },
     "execution_count": 30,
     "metadata": {},
     "output_type": "execute_result"
    }
   ],
   "source": [
    "import numpy as np\n",
    "\"\"\" \n",
    "_____________________________________  \n",
    " 1. randint() :- \n",
    " syntax:-\n",
    " randint(low, high=None, size=None, dtype=int)\n",
    "_____________________________________\n",
    "- 2. rand()\n",
    "_____________________________________\n",
    "- 3. uniform()\n",
    "_____________________________________\n",
    "- 4. randn()\n",
    "_____________________________________\n",
    "- 5. normal()\n",
    "_____________________________________\n",
    "- 6. shuffle()\n",
    "_____________________________________\n",
    "\n",
    "\n",
    "\n",
    "\"\"\"\n"
   ]
  },
  {
   "cell_type": "code",
   "execution_count": 31,
   "metadata": {},
   "outputs": [
    {
     "name": "stdout",
     "output_type": "stream",
     "text": [
      "0 <class 'int'>\n"
     ]
    }
   ],
   "source": [
    "a=np.random.randint(10)\n",
    "print(a,type(a))"
   ]
  },
  {
   "cell_type": "code",
   "execution_count": 32,
   "metadata": {},
   "outputs": [
    {
     "name": "stdout",
     "output_type": "stream",
     "text": [
      "[[12 21 12 26 20 10 26 24 26 19 13 22 19 21 12 26 27 10 13 11]\n",
      " [11 14 22 16 21 24 25 29 20 17 21 16 15 25 10 10 20 22 20 28]\n",
      " [25 17 24 18 29 28 22 19 19 13 15 24 18 10 27 11 12 25 12 15]\n",
      " [21 10 22 21 27 26 21 17 29 26 17 11 29 18 16 26 14 14 14 21]\n",
      " [19 14 18 15 26 18 24 25 29 15 10 19 25 19 21 14 17 16 12 18]\n",
      " [15 22 10 10 11 24 18 16 28 11 16 12 13 26 15 20 16 27 23 29]\n",
      " [26 25 27 25 21 28 13 15 13 21 14 22 22 18 12 16 25 13 18 24]\n",
      " [13 28 12 20 22 13 29 17 27 15 15 18 27 25 21 13 26 28 27 22]\n",
      " [20 18 20 22 10 18 10 23 26 22 20 16 26 27 11 15 21 23 17 18]\n",
      " [11 26 23 24 18 13 24 13 22 17 29 13 18 21 24 18 11 15 14 21]] <class 'numpy.ndarray'>\n"
     ]
    }
   ],
   "source": [
    "a=np.random.randint(10,30,size=(10,20))\n",
    "print(a,type(a))"
   ]
  },
  {
   "cell_type": "code",
   "execution_count": 33,
   "metadata": {},
   "outputs": [
    {
     "name": "stdout",
     "output_type": "stream",
     "text": [
      "[[[12 12 23]\n",
      "  [19 24 12]\n",
      "  [14 12 15]]\n",
      "\n",
      " [[12 24 13]\n",
      "  [14 19 21]\n",
      "  [19 19 27]]\n",
      "\n",
      " [[15 18 29]\n",
      "  [22 20 28]\n",
      "  [21 27 14]]] <class 'numpy.ndarray'>\n"
     ]
    }
   ],
   "source": [
    "a=np.random.randint(10,30,size=(3,3,3))\n",
    "print(a,type(a))"
   ]
  },
  {
   "cell_type": "code",
   "execution_count": 34,
   "metadata": {},
   "outputs": [
    {
     "name": "stdout",
     "output_type": "stream",
     "text": [
      "[[[[26 18]\n",
      "   [17 19]]\n",
      "\n",
      "  [[11 26]\n",
      "   [17 16]]]\n",
      "\n",
      "\n",
      " [[[20 20]\n",
      "   [24 20]]\n",
      "\n",
      "  [[23 26]\n",
      "   [12 18]]]] <class 'numpy.ndarray'>\n"
     ]
    }
   ],
   "source": [
    "a=np.random.randint(10,30,size=(2,2,2,2))\n",
    "print(a,type(a))"
   ]
  },
  {
   "cell_type": "code",
   "execution_count": 35,
   "metadata": {},
   "outputs": [],
   "source": [
    "# multi dimension array are used in image processing"
   ]
  },
  {
   "cell_type": "code",
   "execution_count": 36,
   "metadata": {},
   "outputs": [
    {
     "ename": "TypeError",
     "evalue": "Unsupported dtype dtype('float64') for randint",
     "output_type": "error",
     "traceback": [
      "\u001b[1;31m---------------------------------------------------------------------------\u001b[0m",
      "\u001b[1;31mTypeError\u001b[0m                                 Traceback (most recent call last)",
      "Cell \u001b[1;32mIn[36], line 1\u001b[0m\n\u001b[1;32m----> 1\u001b[0m a\u001b[38;5;241m=\u001b[39m\u001b[43mnp\u001b[49m\u001b[38;5;241;43m.\u001b[39;49m\u001b[43mrandom\u001b[49m\u001b[38;5;241;43m.\u001b[39;49m\u001b[43mrandint\u001b[49m\u001b[43m(\u001b[49m\u001b[38;5;241;43m10\u001b[39;49m\u001b[43m,\u001b[49m\u001b[38;5;241;43m30\u001b[39;49m\u001b[43m,\u001b[49m\u001b[43mdtype\u001b[49m\u001b[38;5;241;43m=\u001b[39;49m\u001b[38;5;28;43mfloat\u001b[39;49m\u001b[43m)\u001b[49m\n\u001b[0;32m      2\u001b[0m \u001b[38;5;28mprint\u001b[39m(a,\u001b[38;5;28mtype\u001b[39m(a))\n",
      "File \u001b[1;32mnumpy\\\\random\\\\mtrand.pyx:812\u001b[0m, in \u001b[0;36mnumpy.random.mtrand.RandomState.randint\u001b[1;34m()\u001b[0m\n",
      "\u001b[1;31mTypeError\u001b[0m: Unsupported dtype dtype('float64') for randint"
     ]
    }
   ],
   "source": [
    "a=np.random.randint(10,30,dtype=float)\n",
    "print(a,type(a))"
   ]
  },
  {
   "cell_type": "code",
   "execution_count": 37,
   "metadata": {},
   "outputs": [
    {
     "data": {
      "text/plain": [
       "'  \\n\\n'"
      ]
     },
     "execution_count": 37,
     "metadata": {},
     "output_type": "execute_result"
    }
   ],
   "source": [
    "# rand()---> generating random integer values between 0.0 and 1.0\n",
    "\n",
    "\"\"\"  \n",
    "\n",
    "\"\"\"\n",
    "# randn()---> generating random integer values between 0.0 and 1.0 (normal distribution)\n",
    "\"\"\"  \n",
    "\n",
    "\"\"\"\n"
   ]
  },
  {
   "cell_type": "code",
   "execution_count": 38,
   "metadata": {},
   "outputs": [
    {
     "name": "stdout",
     "output_type": "stream",
     "text": [
      "[[[[2.08851978 2.66759212 1.86344694]\n",
      "   [2.22547847 1.59337147 2.28022215]\n",
      "   [2.42596536 2.73153228 2.71123368]]\n",
      "\n",
      "  [[1.76871019 2.77794028 2.73464789]\n",
      "   [2.86490528 1.55705042 2.11778691]\n",
      "   [2.63163652 2.25165703 1.69511772]]\n",
      "\n",
      "  [[2.07223973 2.05762932 2.21650431]\n",
      "   [2.77046553 2.19935115 2.26308615]\n",
      "   [2.76217697 2.35458837 1.66862355]]]\n",
      "\n",
      "\n",
      " [[[2.72158641 2.09978997 2.30443615]\n",
      "   [2.44682336 1.9924728  1.58111492]\n",
      "   [2.3334867  2.32077649 2.14452618]]\n",
      "\n",
      "  [[2.79808995 1.88832343 2.0536822 ]\n",
      "   [2.45071752 1.8209472  2.31531861]\n",
      "   [2.46999475 1.88395301 1.95614113]]\n",
      "\n",
      "  [[1.65071917 2.0504026  1.58282654]\n",
      "   [2.37617944 2.50885632 1.54609237]\n",
      "   [2.46516692 2.4730309  2.72038159]]]] <class 'numpy.ndarray'>\n",
      "dimension 4\n",
      "shape (2, 3, 3, 3)\n",
      "size 54\n",
      "dtype float64\n"
     ]
    }
   ],
   "source": [
    "a=np.random.uniform(1.5,2.9,size=(2,3,3,3))\n",
    "print(a,type(a))\n",
    "print(\"dimension\",a.ndim)\n",
    "print(\"shape\",a.shape)\n",
    "print(\"size\",a.size)\n",
    "print(\"dtype\",a.dtype)"
   ]
  },
  {
   "cell_type": "code",
   "execution_count": 2,
   "metadata": {},
   "outputs": [
    {
     "name": "stdout",
     "output_type": "stream",
     "text": [
      "[[ 90  22  52  36   9  71]\n",
      " [ 48  54  96 100  43  59]\n",
      " [ 65  26  77  89  21  58]\n",
      " [ 32  84  87  81  44  73]\n",
      " [ 31  31  56  41   2  76]] <class 'numpy.ndarray'>\n"
     ]
    }
   ],
   "source": [
    "import numpy as np\n",
    "a=np.random.randint(1,101,size=(5,6))\n",
    "print(a,type(a))"
   ]
  },
  {
   "cell_type": "code",
   "execution_count": 3,
   "metadata": {},
   "outputs": [
    {
     "name": "stdout",
     "output_type": "stream",
     "text": [
      "[[ 31  31  56  41   2  76]\n",
      " [ 32  84  87  81  44  73]\n",
      " [ 90  22  52  36   9  71]\n",
      " [ 48  54  96 100  43  59]\n",
      " [ 65  26  77  89  21  58]]\n"
     ]
    }
   ],
   "source": [
    "np.random.shuffle(a)\n",
    "print(a)"
   ]
  },
  {
   "cell_type": "code",
   "execution_count": 4,
   "metadata": {},
   "outputs": [
    {
     "name": "stdout",
     "output_type": "stream",
     "text": [
      "[[ 0  1  2  3]\n",
      " [ 4  5  6  7]\n",
      " [ 8  9 10 11]\n",
      " [12 13 14 15]]\n"
     ]
    }
   ],
   "source": [
    "a=np.arange(0,16).reshape(4,4)\n",
    "print(a)"
   ]
  },
  {
   "cell_type": "code",
   "execution_count": 5,
   "metadata": {},
   "outputs": [
    {
     "name": "stdout",
     "output_type": "stream",
     "text": [
      "[[[[ 0  1]\n",
      "   [ 2  3]]\n",
      "\n",
      "  [[ 4  5]\n",
      "   [ 6  7]]]\n",
      "\n",
      "\n",
      " [[[ 8  9]\n",
      "   [10 11]]\n",
      "\n",
      "  [[12 13]\n",
      "   [14 15]]]]\n"
     ]
    }
   ],
   "source": [
    "a=np.arange(0,16).reshape(2,2,2,2)\n",
    "print(a)"
   ]
  },
  {
   "cell_type": "code",
   "execution_count": 6,
   "metadata": {},
   "outputs": [
    {
     "name": "stdout",
     "output_type": "stream",
     "text": [
      "Help on _ArrayFunctionDispatcher in module numpy:\n",
      "\n",
      "hstack(tup, *, dtype=None, casting='same_kind')\n",
      "    Stack arrays in sequence horizontally (column wise).\n",
      "\n",
      "    This is equivalent to concatenation along the second axis, except for 1-D\n",
      "    arrays where it concatenates along the first axis. Rebuilds arrays divided\n",
      "    by `hsplit`.\n",
      "\n",
      "    This function makes most sense for arrays with up to 3 dimensions. For\n",
      "    instance, for pixel-data with a height (first axis), width (second axis),\n",
      "    and r/g/b channels (third axis). The functions `concatenate`, `stack` and\n",
      "    `block` provide more general stacking and concatenation operations.\n",
      "\n",
      "    Parameters\n",
      "    ----------\n",
      "    tup : sequence of ndarrays\n",
      "        The arrays must have the same shape along all but the second axis,\n",
      "        except 1-D arrays which can be any length. In the case of a single\n",
      "        array_like input, it will be treated as a sequence of arrays; i.e.,\n",
      "        each element along the zeroth axis is treated as a separate array.\n",
      "\n",
      "    dtype : str or dtype\n",
      "        If provided, the destination array will have this dtype. Cannot be\n",
      "        provided together with `out`.\n",
      "\n",
      "        .. versionadded:: 1.24\n",
      "\n",
      "    casting : {'no', 'equiv', 'safe', 'same_kind', 'unsafe'}, optional\n",
      "        Controls what kind of data casting may occur. Defaults to 'same_kind'.\n",
      "\n",
      "        .. versionadded:: 1.24\n",
      "\n",
      "    Returns\n",
      "    -------\n",
      "    stacked : ndarray\n",
      "        The array formed by stacking the given arrays.\n",
      "\n",
      "    See Also\n",
      "    --------\n",
      "    concatenate : Join a sequence of arrays along an existing axis.\n",
      "    stack : Join a sequence of arrays along a new axis.\n",
      "    block : Assemble an nd-array from nested lists of blocks.\n",
      "    vstack : Stack arrays in sequence vertically (row wise).\n",
      "    dstack : Stack arrays in sequence depth wise (along third axis).\n",
      "    column_stack : Stack 1-D arrays as columns into a 2-D array.\n",
      "    hsplit : Split an array into multiple sub-arrays\n",
      "             horizontally (column-wise).\n",
      "    unstack : Split an array into a tuple of sub-arrays along an axis.\n",
      "\n",
      "    Examples\n",
      "    --------\n",
      "    >>> import numpy as np\n",
      "    >>> a = np.array((1,2,3))\n",
      "    >>> b = np.array((4,5,6))\n",
      "    >>> np.hstack((a,b))\n",
      "    array([1, 2, 3, 4, 5, 6])\n",
      "    >>> a = np.array([[1],[2],[3]])\n",
      "    >>> b = np.array([[4],[5],[6]])\n",
      "    >>> np.hstack((a,b))\n",
      "    array([[1, 4],\n",
      "           [2, 5],\n",
      "           [3, 6]])\n",
      "\n"
     ]
    }
   ],
   "source": [
    "help(np.hstack)"
   ]
  },
  {
   "cell_type": "code",
   "execution_count": 7,
   "metadata": {},
   "outputs": [
    {
     "name": "stdout",
     "output_type": "stream",
     "text": [
      "[array([0, 1, 2, 3]), array([4, 5, 6]), array([7, 8, 9]), array([10, 11, 12])]\n"
     ]
    }
   ],
   "source": [
    "a=np.arange(13)\n",
    "b=np.array_split(a,4)\n",
    "print(b)"
   ]
  },
  {
   "cell_type": "code",
   "execution_count": 8,
   "metadata": {},
   "outputs": [],
   "source": [
    "# 0:4 => 0 to 4-1\n",
    "# 4:5 => 4 to 5-1\n"
   ]
  },
  {
   "cell_type": "markdown",
   "metadata": {},
   "source": [
    "# NumPy index\n",
    "- indexing is the process of obtaining single value from given iterable object.\n",
    "- the values of iterable object contain +ve index and -ve index\n",
    "- object of ndarray is also one of the iterable objects. also contain +ve and -ve index.\n",
    "- in numpy  programmning , we can apply indexing operation on 3 types of array , they are :-\n",
    "    - 1-D indexing\n",
    "    - 2-D indexing\n",
    "    - N-D indexing\n",
    "________________________________________\n",
    "\n",
    "# 1-D indexing\n",
    "- syntax:-\n",
    "    - 1darray[index]\n",
    "\n",
    "    - here inding can be +ve  or -ve\n",
    "    - if we enter valid index then we get corrosponding value from 1d array\n",
    "    - if we enter invalid index then we get an IndexError.\n",
    "    \n",
    "\n"
   ]
  },
  {
   "cell_type": "code",
   "execution_count": 9,
   "metadata": {},
   "outputs": [],
   "source": [
    "# example on indexing operation\n",
    "import numpy as np"
   ]
  },
  {
   "cell_type": "code",
   "execution_count": 10,
   "metadata": {},
   "outputs": [
    {
     "name": "stdout",
     "output_type": "stream",
     "text": [
      "1. 40\n",
      "2. 60\n",
      "3. 10\n",
      "4. 60\n",
      "5. 10\n"
     ]
    },
    {
     "ename": "IndexError",
     "evalue": "index 100 is out of bounds for axis 0 with size 6",
     "output_type": "error",
     "traceback": [
      "\u001b[1;31m---------------------------------------------------------------------------\u001b[0m",
      "\u001b[1;31mIndexError\u001b[0m                                Traceback (most recent call last)",
      "Cell \u001b[1;32mIn[10], line 7\u001b[0m\n\u001b[0;32m      5\u001b[0m \u001b[38;5;28mprint\u001b[39m(\u001b[38;5;124m\"\u001b[39m\u001b[38;5;124m4.\u001b[39m\u001b[38;5;124m\"\u001b[39m,a[\u001b[38;5;28mlen\u001b[39m(a)\u001b[38;5;241m-\u001b[39m\u001b[38;5;241m1\u001b[39m])\n\u001b[0;32m      6\u001b[0m \u001b[38;5;28mprint\u001b[39m(\u001b[38;5;124m\"\u001b[39m\u001b[38;5;124m5.\u001b[39m\u001b[38;5;124m\"\u001b[39m,a[\u001b[38;5;241m-\u001b[39m\u001b[38;5;28mlen\u001b[39m(a)])\n\u001b[1;32m----> 7\u001b[0m \u001b[38;5;28mprint\u001b[39m(\u001b[38;5;124m\"\u001b[39m\u001b[38;5;124m6.\u001b[39m\u001b[38;5;124m\"\u001b[39m,\u001b[43ma\u001b[49m\u001b[43m[\u001b[49m\u001b[38;5;241;43m100\u001b[39;49m\u001b[43m]\u001b[49m)\n",
      "\u001b[1;31mIndexError\u001b[0m: index 100 is out of bounds for axis 0 with size 6"
     ]
    }
   ],
   "source": [
    "a=np.array([10,20,30,40,50,60])\n",
    "print(\"1.\",a[3])\n",
    "print(\"2.\",a[-1])\n",
    "print(\"3.\",a[-6])\n",
    "print(\"4.\",a[len(a)-1])\n",
    "print(\"5.\",a[-len(a)])\n",
    "print(\"6.\",a[100])"
   ]
  },
  {
   "cell_type": "code",
   "execution_count": 11,
   "metadata": {},
   "outputs": [
    {
     "name": "stdout",
     "output_type": "stream",
     "text": [
      "content of a= [10 20 30 40 50 60]\n",
      "Dimension = 1\n",
      "shape= (6,)\n",
      "size= 6\n"
     ]
    }
   ],
   "source": [
    "print(\"content of a=\",a)\n",
    "print(\"Dimension =\",a.ndim)\n",
    "print(\"shape=\",a.shape)\n",
    "print(\"size=\",a.size)"
   ]
  },
  {
   "cell_type": "code",
   "execution_count": 12,
   "metadata": {},
   "outputs": [
    {
     "name": "stdout",
     "output_type": "stream",
     "text": [
      "item size  of a= 8\n"
     ]
    }
   ],
   "source": [
    "print(\"item size  of a=\",a.itemsize)"
   ]
  },
  {
   "cell_type": "markdown",
   "metadata": {},
   "source": [
    "# 2D Indexing\n",
    "- syntax:-\n",
    "    - 2darray[row_index][col_index] \n",
    "    - or \n",
    "    - 2darray[row_index,col_index]"
   ]
  },
  {
   "cell_type": "code",
   "execution_count": 13,
   "metadata": {},
   "outputs": [
    {
     "name": "stdout",
     "output_type": "stream",
     "text": [
      "[[ 0  1  2  3]\n",
      " [ 4  5  6  7]\n",
      " [ 8  9 10 11]\n",
      " [12 13 14 15]] <class 'numpy.ndarray'>\n"
     ]
    }
   ],
   "source": [
    "a=np.arange(16).reshape(4,4)\n",
    "print(a,type(a))"
   ]
  },
  {
   "cell_type": "code",
   "execution_count": 14,
   "metadata": {},
   "outputs": [
    {
     "data": {
      "text/plain": [
       "np.int64(5)"
      ]
     },
     "execution_count": 14,
     "metadata": {},
     "output_type": "execute_result"
    }
   ],
   "source": [
    "# to get 5\n",
    "a[1,1]"
   ]
  },
  {
   "cell_type": "code",
   "execution_count": 15,
   "metadata": {},
   "outputs": [
    {
     "data": {
      "text/plain": [
       "np.int64(5)"
      ]
     },
     "execution_count": 15,
     "metadata": {},
     "output_type": "execute_result"
    }
   ],
   "source": [
    "# to get 5\n",
    "a[1][1]"
   ]
  },
  {
   "cell_type": "code",
   "execution_count": 16,
   "metadata": {},
   "outputs": [
    {
     "data": {
      "text/plain": [
       "np.int64(5)"
      ]
     },
     "execution_count": 16,
     "metadata": {},
     "output_type": "execute_result"
    }
   ],
   "source": [
    "# you can get via -ve indexing\n",
    "a[-3,-3]"
   ]
  },
  {
   "cell_type": "code",
   "execution_count": 17,
   "metadata": {},
   "outputs": [
    {
     "data": {
      "text/plain": [
       "np.int64(10)"
      ]
     },
     "execution_count": 17,
     "metadata": {},
     "output_type": "execute_result"
    }
   ],
   "source": [
    "# to get 10\n",
    "a[-2,-2]"
   ]
  },
  {
   "cell_type": "markdown",
   "metadata": {},
   "source": [
    "# 3D indexing\n",
    "$ or $\n",
    "# ND indexing\n",
    "\n",
    "- Syntax:-\n",
    "    - ndarrayObject[matrixIndex,RowIndex,ColIndex]\n",
    "    - ndarrayObject[matrixIndex],[rowIndex][colIndex]"
   ]
  },
  {
   "cell_type": "code",
   "execution_count": 18,
   "metadata": {},
   "outputs": [
    {
     "name": "stdout",
     "output_type": "stream",
     "text": [
      "[[[ 0  1  2]\n",
      "  [ 3  4  5]\n",
      "  [ 6  7  8]]\n",
      "\n",
      " [[ 9 10 11]\n",
      "  [12 13 14]\n",
      "  [15 16 17]]\n",
      "\n",
      " [[18 19 20]\n",
      "  [21 22 23]\n",
      "  [24 25 26]]] <class 'numpy.ndarray'>\n"
     ]
    }
   ],
   "source": [
    "a=np.arange(27).reshape(3,3,3)\n",
    "print(a,type(a))"
   ]
  },
  {
   "cell_type": "code",
   "execution_count": 19,
   "metadata": {},
   "outputs": [
    {
     "name": "stdout",
     "output_type": "stream",
     "text": [
      "content of a= [[[ 0  1  2]\n",
      "  [ 3  4  5]\n",
      "  [ 6  7  8]]\n",
      "\n",
      " [[ 9 10 11]\n",
      "  [12 13 14]\n",
      "  [15 16 17]]\n",
      "\n",
      " [[18 19 20]\n",
      "  [21 22 23]\n",
      "  [24 25 26]]]\n",
      "Dimension = 3\n",
      "shape= (3, 3, 3)\n",
      "size= 27\n"
     ]
    }
   ],
   "source": [
    "print(\"content of a=\",a)\n",
    "print(\"Dimension =\",a.ndim)\n",
    "print(\"shape=\",a.shape)\n",
    "print(\"size=\",a.size)"
   ]
  },
  {
   "cell_type": "code",
   "execution_count": 20,
   "metadata": {},
   "outputs": [
    {
     "data": {
      "text/plain": [
       "np.int64(4)"
      ]
     },
     "execution_count": 20,
     "metadata": {},
     "output_type": "execute_result"
    }
   ],
   "source": [
    "# to get 4\n",
    "a[0,1,1]"
   ]
  },
  {
   "cell_type": "code",
   "execution_count": 21,
   "metadata": {},
   "outputs": [
    {
     "data": {
      "text/plain": [
       "np.int64(4)"
      ]
     },
     "execution_count": 21,
     "metadata": {},
     "output_type": "execute_result"
    }
   ],
   "source": [
    "#to get 4\n",
    "a[-3,-2,-2]"
   ]
  },
  {
   "cell_type": "code",
   "execution_count": 22,
   "metadata": {},
   "outputs": [
    {
     "data": {
      "text/plain": [
       "np.int64(4)"
      ]
     },
     "execution_count": 22,
     "metadata": {},
     "output_type": "execute_result"
    }
   ],
   "source": [
    "#to get 4\n",
    "a[-3][-2][-2]"
   ]
  },
  {
   "cell_type": "markdown",
   "metadata": {},
   "source": [
    "# Slicing:-\n",
    "- 1D\n",
    "- 2D\n",
    "- 3D OR ND"
   ]
  },
  {
   "cell_type": "code",
   "execution_count": 23,
   "metadata": {},
   "outputs": [
    {
     "name": "stdout",
     "output_type": "stream",
     "text": [
      "content of a= mississippi\n",
      "Dimension = 0\n",
      "shape= ()\n",
      "size= 1\n"
     ]
    }
   ],
   "source": [
    "a= np.array(\"mississippi\")\n",
    "print(\"content of a=\",a)\n",
    "print(\"Dimension =\",a.ndim)\n",
    "print(\"shape=\",a.shape)\n",
    "print(\"size=\",a.size)"
   ]
  },
  {
   "cell_type": "code",
   "execution_count": 24,
   "metadata": {},
   "outputs": [
    {
     "name": "stdout",
     "output_type": "stream",
     "text": [
      "content of a= ['mississippi']\n",
      "Dimension = 1\n",
      "shape= (1,)\n",
      "size= 1\n"
     ]
    }
   ],
   "source": [
    "a= np.array([\"mississippi\"])\n",
    "print(\"content of a=\",a)\n",
    "print(\"Dimension =\",a.ndim)\n",
    "print(\"shape=\",a.shape)\n",
    "print(\"size=\",a.size)"
   ]
  },
  {
   "cell_type": "code",
   "execution_count": 25,
   "metadata": {},
   "outputs": [
    {
     "name": "stdout",
     "output_type": "stream",
     "text": [
      "content of a= ['m' 'i' 's' 's' 'i' 's' 's' 'i' 'p' 'p' 'i']\n",
      "Dimension = 1\n",
      "shape= (11,)\n",
      "size= 11\n"
     ]
    }
   ],
   "source": [
    "a= np.array(list(\"mississippi\"))\n",
    "print(\"content of a=\",a)\n",
    "print(\"Dimension =\",a.ndim)\n",
    "print(\"shape=\",a.shape)\n",
    "print(\"size=\",a.size)"
   ]
  },
  {
   "cell_type": "markdown",
   "metadata": {},
   "source": [
    "- the process of obtaining range of values or sub values from an iterable object is called slicing.\n",
    "- we can apply slicing operations on 3 type of ndarray. they are \n",
    "    - 1-D array\n",
    "    - 2-D array\n",
    "    - 3-D array /ND array\n",
    "\n",
    "# 1D array:-\n",
    "- syntax:- ndarray[begin:end]\n",
    "    - gives range of values from the begin index to end-1 index provided begin<end\n",
    "    - syntax:- adarray[begin:]\n",
    "    - syntax:- adarray[:end]\n",
    "    - syntax:- adarray[:]\n",
    "    - syntax:- adarray[begin:end:step]\n"
   ]
  },
  {
   "cell_type": "markdown",
   "metadata": {},
   "source": [
    "# syntax for 2D slicing:-\n",
    "- 2DArrayObj[rowbegin:rowend:rowstep,colbegin:colend,colStep[]]"
   ]
  },
  {
   "cell_type": "code",
   "execution_count": 3,
   "metadata": {},
   "outputs": [
    {
     "name": "stdout",
     "output_type": "stream",
     "text": [
      "[[ 0  1  2  3]\n",
      " [ 4  5  6  7]\n",
      " [ 8  9 10 11]\n",
      " [12 13 14 15]] <class 'numpy.ndarray'>\n"
     ]
    }
   ],
   "source": [
    "import numpy as np\n",
    "a=np.arange(16).reshape(4,4)\n",
    "print(a,type(a))"
   ]
  },
  {
   "cell_type": "code",
   "execution_count": 2,
   "metadata": {},
   "outputs": [
    {
     "data": {
      "text/plain": [
       "array([[ 0],\n",
       "       [ 4],\n",
       "       [ 8],\n",
       "       [12]])"
      ]
     },
     "execution_count": 2,
     "metadata": {},
     "output_type": "execute_result"
    }
   ],
   "source": [
    "a[0:4,0:1]"
   ]
  },
  {
   "cell_type": "code",
   "execution_count": 3,
   "metadata": {},
   "outputs": [
    {
     "data": {
      "text/plain": [
       "array([[ 0],\n",
       "       [ 4],\n",
       "       [ 8],\n",
       "       [12]])"
      ]
     },
     "execution_count": 3,
     "metadata": {},
     "output_type": "execute_result"
    }
   ],
   "source": [
    "a[:,0:1]"
   ]
  },
  {
   "cell_type": "code",
   "execution_count": 4,
   "metadata": {},
   "outputs": [
    {
     "data": {
      "text/plain": [
       "array([[ 0],\n",
       "       [ 4],\n",
       "       [ 8],\n",
       "       [12]])"
      ]
     },
     "execution_count": 4,
     "metadata": {},
     "output_type": "execute_result"
    }
   ],
   "source": [
    "a[::,:1]"
   ]
  },
  {
   "cell_type": "code",
   "execution_count": 5,
   "metadata": {},
   "outputs": [
    {
     "data": {
      "text/plain": [
       "array([[4, 5],\n",
       "       [8, 9]])"
      ]
     },
     "execution_count": 5,
     "metadata": {},
     "output_type": "execute_result"
    }
   ],
   "source": [
    "# want 4,5,8,9\n",
    "a[1:3,0:2]"
   ]
  },
  {
   "cell_type": "code",
   "execution_count": 6,
   "metadata": {},
   "outputs": [
    {
     "data": {
      "text/plain": [
       "array([[ 5,  6,  7],\n",
       "       [ 9, 10, 11],\n",
       "       [13, 14, 15]])"
      ]
     },
     "execution_count": 6,
     "metadata": {},
     "output_type": "execute_result"
    }
   ],
   "source": [
    "a[1:4,1:4]"
   ]
  },
  {
   "cell_type": "code",
   "execution_count": 7,
   "metadata": {},
   "outputs": [
    {
     "data": {
      "text/plain": [
       "array([[ 4,  5,  6,  7],\n",
       "       [ 8,  9, 10, 11]])"
      ]
     },
     "execution_count": 7,
     "metadata": {},
     "output_type": "execute_result"
    }
   ],
   "source": [
    "a[1:3,0:4]"
   ]
  },
  {
   "cell_type": "code",
   "execution_count": 8,
   "metadata": {},
   "outputs": [
    {
     "data": {
      "text/plain": [
       "array([[ 4,  5,  6,  7],\n",
       "       [ 8,  9, 10, 11]])"
      ]
     },
     "execution_count": 8,
     "metadata": {},
     "output_type": "execute_result"
    }
   ],
   "source": [
    "a[1:3,:]"
   ]
  },
  {
   "cell_type": "code",
   "execution_count": 9,
   "metadata": {},
   "outputs": [
    {
     "data": {
      "text/plain": [
       "array([[ 4,  5,  6,  7],\n",
       "       [ 8,  9, 10, 11]])"
      ]
     },
     "execution_count": 9,
     "metadata": {},
     "output_type": "execute_result"
    }
   ],
   "source": [
    "a[1:3,::]"
   ]
  },
  {
   "cell_type": "code",
   "execution_count": 11,
   "metadata": {},
   "outputs": [
    {
     "data": {
      "text/plain": [
       "array([[ 0,  1,  2,  3],\n",
       "       [ 8,  9, 10, 11]])"
      ]
     },
     "execution_count": 11,
     "metadata": {},
     "output_type": "execute_result"
    }
   ],
   "source": [
    "# with step value\n",
    "a[0:4:2,0:4]"
   ]
  },
  {
   "cell_type": "code",
   "execution_count": 12,
   "metadata": {},
   "outputs": [
    {
     "data": {
      "text/plain": [
       "array([[10, 11],\n",
       "       [14, 15]])"
      ]
     },
     "execution_count": 12,
     "metadata": {},
     "output_type": "execute_result"
    }
   ],
   "source": [
    "a[-2:,-2:]"
   ]
  },
  {
   "cell_type": "code",
   "execution_count": 13,
   "metadata": {},
   "outputs": [],
   "source": [
    "# its not possible t get principle element by using regular indexing and slicing operations\n",
    "# you can get diagonal element via advance indexing method.\n",
    " "
   ]
  },
  {
   "cell_type": "code",
   "execution_count": 14,
   "metadata": {},
   "outputs": [
    {
     "name": "stdout",
     "output_type": "stream",
     "text": [
      "[[[ 0  1  2]\n",
      "  [ 3  4  5]\n",
      "  [ 6  7  8]]\n",
      "\n",
      " [[ 9 10 11]\n",
      "  [12 13 14]\n",
      "  [15 16 17]]\n",
      "\n",
      " [[18 19 20]\n",
      "  [21 22 23]\n",
      "  [24 25 26]]]\n"
     ]
    }
   ],
   "source": [
    "a=np.arange(27).reshape(3,3,3)\n",
    "print(a)"
   ]
  },
  {
   "cell_type": "code",
   "execution_count": 15,
   "metadata": {},
   "outputs": [
    {
     "data": {
      "text/plain": [
       "'3D array'"
      ]
     },
     "execution_count": 15,
     "metadata": {},
     "output_type": "execute_result"
    }
   ],
   "source": [
    "\"\"\"3D array\"\"\"\n",
    "# [matrixBegin:matrixEnd:matrixStep,rowBegin:rowEnd:rowStep,colBegin:colEnd:colStep]"
   ]
  },
  {
   "cell_type": "code",
   "execution_count": 16,
   "metadata": {},
   "outputs": [
    {
     "data": {
      "text/plain": [
       "array([[[ 0,  1]],\n",
       "\n",
       "       [[ 9, 10]]])"
      ]
     },
     "execution_count": 16,
     "metadata": {},
     "output_type": "execute_result"
    }
   ],
   "source": [
    "a[0:2,0:1,0:2]"
   ]
  },
  {
   "cell_type": "code",
   "execution_count": 17,
   "metadata": {},
   "outputs": [
    {
     "data": {
      "text/plain": [
       "array([[[ 0,  1]],\n",
       "\n",
       "       [[ 9, 10]]])"
      ]
     },
     "execution_count": 17,
     "metadata": {},
     "output_type": "execute_result"
    }
   ],
   "source": [
    "a[:2,:1,:2]"
   ]
  },
  {
   "cell_type": "code",
   "execution_count": 18,
   "metadata": {},
   "outputs": [
    {
     "data": {
      "text/plain": [
       "array([[[ 0],\n",
       "        [ 6]],\n",
       "\n",
       "       [[ 9],\n",
       "        [15]],\n",
       "\n",
       "       [[18],\n",
       "        [24]]])"
      ]
     },
     "execution_count": 18,
     "metadata": {},
     "output_type": "execute_result"
    }
   ],
   "source": [
    "a[:,::2,0:1]"
   ]
  },
  {
   "cell_type": "code",
   "execution_count": 19,
   "metadata": {},
   "outputs": [
    {
     "data": {
      "text/plain": [
       "array([[[ 6,  8]],\n",
       "\n",
       "       [[24, 26]]])"
      ]
     },
     "execution_count": 19,
     "metadata": {},
     "output_type": "execute_result"
    }
   ],
   "source": [
    "a[::2,2:3,::2]"
   ]
  },
  {
   "cell_type": "code",
   "execution_count": 20,
   "metadata": {},
   "outputs": [
    {
     "data": {
      "text/plain": [
       "array([[[ 0,  2],\n",
       "        [ 6,  8]],\n",
       "\n",
       "       [[ 9, 11],\n",
       "        [15, 17]],\n",
       "\n",
       "       [[18, 20],\n",
       "        [24, 26]]])"
      ]
     },
     "execution_count": 20,
     "metadata": {},
     "output_type": "execute_result"
    }
   ],
   "source": [
    "# want corner element\n",
    "a[:,::2,::2]"
   ]
  },
  {
   "cell_type": "code",
   "execution_count": 21,
   "metadata": {},
   "outputs": [],
   "source": [
    "# to convert 3d to 1d\n",
    "# use ravel and flaten"
   ]
  },
  {
   "cell_type": "code",
   "execution_count": 22,
   "metadata": {},
   "outputs": [
    {
     "data": {
      "text/plain": [
       "'with slicing operation , we cant get random element \\n- for getting random element , we must learn advance indexing and slicing.\\n\\n'"
      ]
     },
     "execution_count": 22,
     "metadata": {},
     "output_type": "execute_result"
    }
   ],
   "source": [
    "\"\"\"with slicing operation , we cant get random element \n",
    "- for getting random element , we must learn advance indexing and slicing.\n",
    "\n",
    "\"\"\""
   ]
  },
  {
   "cell_type": "markdown",
   "metadata": {},
   "source": [
    "# Advance indexing and slicing\n",
    "- 2D advance indexing:-\n",
    "identify the row indices of random element\n",
    "- syntax : rowindices=(row1,row2,row3..row-n)\n",
    "- identify the column indices of random element\n",
    "- syntax : columnindices=(col1,col2,col3..col-n)\n",
    "\n",
    "- pass the row indices and colindices to original"
   ]
  },
  {
   "cell_type": "code",
   "execution_count": 5,
   "metadata": {},
   "outputs": [
    {
     "name": "stdout",
     "output_type": "stream",
     "text": [
      "[[10 20 30]\n",
      " [40 50 60]\n",
      " [70 80 90]] <class 'numpy.ndarray'>\n"
     ]
    }
   ],
   "source": [
    "import numpy as np\n",
    "a=np.array([10,20,30,40,50,60,70,80,90])\n",
    "a.shape=(3,3)\n",
    "print(a,type(a))"
   ]
  },
  {
   "cell_type": "code",
   "execution_count": null,
   "metadata": {},
   "outputs": [
    {
     "data": {
      "text/plain": [
       "array([10, 50, 90])"
      ]
     },
     "execution_count": 6,
     "metadata": {},
     "output_type": "execute_result"
    }
   ],
   "source": [
    "# to get diagonal element (10,50,90)\n",
    "rowindices=(0,1,2)# step1\n",
    "colindices=(0,1,2)#step2\n",
    "# a[rowindices,colindices]"
   ]
  },
  {
   "cell_type": "code",
   "execution_count": 7,
   "metadata": {},
   "outputs": [
    {
     "name": "stdout",
     "output_type": "stream",
     "text": [
      "[[10 20 30]\n",
      " [40 50 60]\n",
      " [70 80 90]]\n"
     ]
    },
    {
     "data": {
      "text/plain": [
       "array([30, 50, 70])"
      ]
     },
     "execution_count": 7,
     "metadata": {},
     "output_type": "execute_result"
    }
   ],
   "source": [
    "#get reverse diagonal element\n",
    "print(a)\n",
    "a[(0,1,2),(2,1,0)]"
   ]
  },
  {
   "cell_type": "code",
   "execution_count": 8,
   "metadata": {},
   "outputs": [
    {
     "name": "stdout",
     "output_type": "stream",
     "text": [
      "[[10 20 30]\n",
      " [40 50 60]\n",
      " [70 80 90]]\n"
     ]
    },
    {
     "name": "stderr",
     "output_type": "stream",
     "text": [
      "<>:2: SyntaxWarning: 'tuple' object is not callable; perhaps you missed a comma?\n",
      "<>:2: SyntaxWarning: 'tuple' object is not callable; perhaps you missed a comma?\n",
      "C:\\Users\\deepa\\AppData\\Local\\Temp\\ipykernel_16452\\1474923528.py:2: SyntaxWarning: 'tuple' object is not callable; perhaps you missed a comma?\n",
      "  a[(0,1,2,2)(1,1,2,0)] # internally process as a[(0,1),(1,1),(2,2),(2,0)]\n"
     ]
    },
    {
     "ename": "TypeError",
     "evalue": "'tuple' object is not callable",
     "output_type": "error",
     "traceback": [
      "\u001b[1;31m---------------------------------------------------------------------------\u001b[0m",
      "\u001b[1;31mTypeError\u001b[0m                                 Traceback (most recent call last)",
      "Cell \u001b[1;32mIn[8], line 2\u001b[0m\n\u001b[0;32m      1\u001b[0m \u001b[38;5;28mprint\u001b[39m(a)\n\u001b[1;32m----> 2\u001b[0m a[\u001b[43m(\u001b[49m\u001b[38;5;241;43m0\u001b[39;49m\u001b[43m,\u001b[49m\u001b[38;5;241;43m1\u001b[39;49m\u001b[43m,\u001b[49m\u001b[38;5;241;43m2\u001b[39;49m\u001b[43m,\u001b[49m\u001b[38;5;241;43m2\u001b[39;49m\u001b[43m)\u001b[49m\u001b[43m(\u001b[49m\u001b[38;5;241;43m1\u001b[39;49m\u001b[43m,\u001b[49m\u001b[38;5;241;43m1\u001b[39;49m\u001b[43m,\u001b[49m\u001b[38;5;241;43m2\u001b[39;49m\u001b[43m,\u001b[49m\u001b[38;5;241;43m0\u001b[39;49m\u001b[43m)\u001b[49m] \u001b[38;5;66;03m# internally process as a[(0,1),(1,1),(2,2),(2,0)]\u001b[39;00m\n",
      "\u001b[1;31mTypeError\u001b[0m: 'tuple' object is not callable"
     ]
    }
   ],
   "source": [
    "print(a)\n",
    "a[(0,1,2,2)(1,1,2,0)] # internally process as a[(0,1),(1,1),(2,2),(2,0)]"
   ]
  },
  {
   "cell_type": "markdown",
   "metadata": {},
   "source": [
    "# Numpy filtering the data\n",
    "- 1D,2D,3D or conditional based retrieval from 1D,2D,3D"
   ]
  },
  {
   "cell_type": "code",
   "execution_count": 9,
   "metadata": {},
   "outputs": [
    {
     "name": "stdout",
     "output_type": "stream",
     "text": [
      "[[10 20 30]\n",
      " [40 50 60]\n",
      " [70 80 90]]\n"
     ]
    }
   ],
   "source": [
    "import numpy as np\n",
    "a=np.array([[10,20,30],[40,50,60],[70,80,90]])\n",
    "print(a)\n"
   ]
  },
  {
   "cell_type": "code",
   "execution_count": 10,
   "metadata": {},
   "outputs": [
    {
     "name": "stdout",
     "output_type": "stream",
     "text": [
      "[10 20 30 40 50 60 70 80 90]\n"
     ]
    }
   ],
   "source": [
    "a.shape=(9,)\n",
    "print(a)"
   ]
  },
  {
   "cell_type": "code",
   "execution_count": 11,
   "metadata": {},
   "outputs": [
    {
     "data": {
      "text/plain": [
       "' \\n- procedure-1:-\\nstep1:\\ncreate a boolean array\\n_____________________\\nstep2:-\\npass boolean to ndarray\\n__________\\n\\n'"
      ]
     },
     "execution_count": 11,
     "metadata": {},
     "output_type": "execute_result"
    }
   ],
   "source": [
    "\n",
    "\"\"\" \n",
    "- procedure-1:-\n",
    "step1:\n",
    "create a boolean array\n",
    "_____________________\n",
    "step2:-\n",
    "pass boolean to ndarray\n",
    "__________\n",
    "\n",
    "\"\"\""
   ]
  },
  {
   "cell_type": "code",
   "execution_count": 12,
   "metadata": {},
   "outputs": [
    {
     "name": "stdout",
     "output_type": "stream",
     "text": [
      "[False False  True False False  True False False  True] <class 'numpy.ndarray'>\n"
     ]
    }
   ],
   "source": [
    "# get the multiple of 3\n",
    "ba=a%3==0\n",
    "print(ba,type(ba))"
   ]
  },
  {
   "cell_type": "code",
   "execution_count": 13,
   "metadata": {},
   "outputs": [
    {
     "data": {
      "text/plain": [
       "array([30, 60, 90])"
      ]
     },
     "execution_count": 13,
     "metadata": {},
     "output_type": "execute_result"
    }
   ],
   "source": [
    "# pass the boolean to ndarray object\n",
    "a[ba]"
   ]
  },
  {
   "cell_type": "code",
   "execution_count": 14,
   "metadata": {},
   "outputs": [
    {
     "data": {
      "text/plain": [
       "array([20, 40, 60, 80])"
      ]
     },
     "execution_count": 14,
     "metadata": {},
     "output_type": "execute_result"
    }
   ],
   "source": [
    "# get the multiple of 4\n",
    "a[a%4==0]"
   ]
  },
  {
   "cell_type": "code",
   "execution_count": 15,
   "metadata": {},
   "outputs": [
    {
     "name": "stdout",
     "output_type": "stream",
     "text": [
      "[[ 10 -20 -30]\n",
      " [ 40 -50  60]\n",
      " [ 70 -80 -90]] <class 'numpy.ndarray'>\n"
     ]
    }
   ],
   "source": [
    "a=np.array([[10,-20,-30],[40,-50,60],[70,-80,-90]])\n",
    "print(a,type(a))"
   ]
  },
  {
   "cell_type": "code",
   "execution_count": 16,
   "metadata": {},
   "outputs": [
    {
     "name": "stdout",
     "output_type": "stream",
     "text": [
      "[10 40 60 70] <class 'numpy.ndarray'>\n"
     ]
    }
   ],
   "source": [
    "#get all positive value\n",
    "pa=a[a>0]\n",
    "print(pa,type(pa))"
   ]
  },
  {
   "cell_type": "code",
   "execution_count": 17,
   "metadata": {},
   "outputs": [
    {
     "name": "stdout",
     "output_type": "stream",
     "text": [
      "[-20 -30 -50 -80 -90] <class 'numpy.ndarray'>\n"
     ]
    }
   ],
   "source": [
    "#get all the negative value\n",
    "na=a[a<0]\n",
    "print(na,type(na))"
   ]
  },
  {
   "cell_type": "markdown",
   "metadata": {},
   "source": [
    "# numpy copy vs view\n",
    "- copy()\n",
    "- view()"
   ]
  },
  {
   "cell_type": "code",
   "execution_count": 18,
   "metadata": {},
   "outputs": [
    {
     "name": "stdout",
     "output_type": "stream",
     "text": [
      "[10 20 30 40] <class 'numpy.ndarray'>\n"
     ]
    }
   ],
   "source": [
    "a=np.array([10,20,30,40])\n",
    "print(a,type(a))"
   ]
  },
  {
   "cell_type": "code",
   "execution_count": 19,
   "metadata": {},
   "outputs": [
    {
     "name": "stdout",
     "output_type": "stream",
     "text": [
      "original array = [10 20 30 40] and <class 'numpy.ndarray'>\n",
      "copied array = [10 20 30 40] and <class 'numpy.ndarray'>\n"
     ]
    }
   ],
   "source": [
    "b=a.copy()\n",
    "print(\"original array = {} and {}\".format(a,type(a)))\n",
    "print(\"copied array = {} and {}\".format(b,type(b)))\n"
   ]
  },
  {
   "cell_type": "code",
   "execution_count": 20,
   "metadata": {},
   "outputs": [
    {
     "name": "stdout",
     "output_type": "stream",
     "text": [
      "original array = [100  20  30  40] and <class 'numpy.ndarray'>\n",
      "copied array = [10 20 30 40] and <class 'numpy.ndarray'>\n"
     ]
    }
   ],
   "source": [
    "a[0]=100\n",
    "print(\"original array = {} and {}\".format(a,type(a)))\n",
    "print(\"copied array = {} and {}\".format(b,type(b)))"
   ]
  },
  {
   "cell_type": "markdown",
   "metadata": {},
   "source": [
    "# view()"
   ]
  },
  {
   "cell_type": "code",
   "execution_count": 21,
   "metadata": {},
   "outputs": [
    {
     "name": "stdout",
     "output_type": "stream",
     "text": [
      "original array = [100  20  30  40] and <class 'numpy.ndarray'>\n",
      "copied array = [100  20  30  40] and <class 'numpy.ndarray'>\n"
     ]
    }
   ],
   "source": [
    "b=a.view()\n",
    "print(\"original array = {} and {}\".format(a,type(a)))\n",
    "print(\"copied array = {} and {}\".format(b,type(b)))"
   ]
  },
  {
   "cell_type": "code",
   "execution_count": 22,
   "metadata": {},
   "outputs": [],
   "source": [
    "# it is just deep copy changes on one will affect the others"
   ]
  },
  {
   "cell_type": "code",
   "execution_count": 23,
   "metadata": {},
   "outputs": [
    {
     "data": {
      "text/plain": [
       "'   \\n+\\n-\\n*\\n/\\n//\\n%\\n**\\n\\n '"
      ]
     },
     "execution_count": 23,
     "metadata": {},
     "output_type": "execute_result"
    }
   ],
   "source": [
    "# arithmetic operation on ndarray\n",
    "#or\n",
    "#arithmetic operation\n",
    "\"\"\"   \n",
    "+\n",
    "-\n",
    "*\n",
    "/\n",
    "//\n",
    "%\n",
    "**\n",
    "\n",
    " \"\"\""
   ]
  },
  {
   "cell_type": "code",
   "execution_count": 24,
   "metadata": {},
   "outputs": [
    {
     "name": "stdout",
     "output_type": "stream",
     "text": [
      "Help on function ones in module numpy:\n",
      "\n",
      "ones(shape, dtype=None, order='C', *, device=None, like=None)\n",
      "    Return a new array of given shape and type, filled with ones.\n",
      "\n",
      "    Parameters\n",
      "    ----------\n",
      "    shape : int or sequence of ints\n",
      "        Shape of the new array, e.g., ``(2, 3)`` or ``2``.\n",
      "    dtype : data-type, optional\n",
      "        The desired data-type for the array, e.g., `numpy.int8`.  Default is\n",
      "        `numpy.float64`.\n",
      "    order : {'C', 'F'}, optional, default: C\n",
      "        Whether to store multi-dimensional data in row-major\n",
      "        (C-style) or column-major (Fortran-style) order in\n",
      "        memory.\n",
      "    device : str, optional\n",
      "        The device on which to place the created array. Default: None.\n",
      "        For Array-API interoperability only, so must be ``\"cpu\"`` if passed.\n",
      "\n",
      "        .. versionadded:: 2.0.0\n",
      "    like : array_like, optional\n",
      "            Reference object to allow the creation of arrays which are not\n",
      "            NumPy arrays. If an array-like passed in as ``like`` supports\n",
      "            the ``__array_function__`` protocol, the result will be defined\n",
      "            by it. In this case, it ensures the creation of an array object\n",
      "            compatible with that passed in via this argument.\n",
      "\n",
      "        .. versionadded:: 1.20.0\n",
      "\n",
      "    Returns\n",
      "    -------\n",
      "    out : ndarray\n",
      "        Array of ones with the given shape, dtype, and order.\n",
      "\n",
      "    See Also\n",
      "    --------\n",
      "    ones_like : Return an array of ones with shape and type of input.\n",
      "    empty : Return a new uninitialized array.\n",
      "    zeros : Return a new array setting values to zero.\n",
      "    full : Return a new array of given shape filled with value.\n",
      "\n",
      "    Examples\n",
      "    --------\n",
      "    >>> import numpy as np\n",
      "    >>> np.ones(5)\n",
      "    array([1., 1., 1., 1., 1.])\n",
      "\n",
      "    >>> np.ones((5,), dtype=int)\n",
      "    array([1, 1, 1, 1, 1])\n",
      "\n",
      "    >>> np.ones((2, 1))\n",
      "    array([[1.],\n",
      "           [1.]])\n",
      "\n",
      "    >>> s = (2,2)\n",
      "    >>> np.ones(s)\n",
      "    array([[1.,  1.],\n",
      "           [1.,  1.]])\n",
      "\n"
     ]
    }
   ],
   "source": [
    "import numpy as np\n",
    "help(np.ones)"
   ]
  },
  {
   "cell_type": "code",
   "execution_count": null,
   "metadata": {},
   "outputs": [],
   "source": []
  },
  {
   "cell_type": "code",
   "execution_count": null,
   "metadata": {},
   "outputs": [],
   "source": []
  },
  {
   "cell_type": "code",
   "execution_count": null,
   "metadata": {},
   "outputs": [],
   "source": []
  },
  {
   "cell_type": "code",
   "execution_count": null,
   "metadata": {},
   "outputs": [],
   "source": []
  },
  {
   "cell_type": "code",
   "execution_count": null,
   "metadata": {},
   "outputs": [],
   "source": []
  },
  {
   "cell_type": "code",
   "execution_count": null,
   "metadata": {},
   "outputs": [],
   "source": []
  },
  {
   "cell_type": "code",
   "execution_count": null,
   "metadata": {},
   "outputs": [],
   "source": []
  },
  {
   "cell_type": "code",
   "execution_count": null,
   "metadata": {},
   "outputs": [],
   "source": []
  },
  {
   "cell_type": "code",
   "execution_count": null,
   "metadata": {},
   "outputs": [],
   "source": []
  }
 ],
 "metadata": {
  "kernelspec": {
   "display_name": "Python 3",
   "language": "python",
   "name": "python3"
  },
  "language_info": {
   "codemirror_mode": {
    "name": "ipython",
    "version": 3
   },
   "file_extension": ".py",
   "mimetype": "text/x-python",
   "name": "python",
   "nbconvert_exporter": "python",
   "pygments_lexer": "ipython3",
   "version": "3.13.1"
  }
 },
 "nbformat": 4,
 "nbformat_minor": 2
}
