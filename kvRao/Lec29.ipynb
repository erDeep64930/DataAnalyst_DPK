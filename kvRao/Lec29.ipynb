{
 "cells": [
  {
   "cell_type": "markdown",
   "metadata": {},
   "source": [
    "# dict category data type (collection data type)\n",
    "\n",
    "- dict  --> dictionary ==> difficult word=meaning key,value\n",
    "\n",
    "- key:value pair\n",
    "\n",
    "- values of key are unique\n",
    "\n",
    "- value of value are unique / duplicate\n",
    "\n",
    "- to store the (key:value ), in dict we use curly braces.\n",
    "\n",
    "- syntax:\n",
    "\n",
    "    - varname={key1:value1,key2:value2,...}\n",
    "\n",
    "    - here key1\n",
    "\n"
   ]
  },
  {
   "cell_type": "code",
   "execution_count": 1,
   "metadata": {},
   "outputs": [
    {
     "name": "stdout",
     "output_type": "stream",
     "text": [
      "{} <class 'dict'>\n"
     ]
    }
   ],
   "source": [
    "# to create empty dictionary\n",
    "d1=dict()\n",
    "print(d1,type(d1))"
   ]
  },
  {
   "cell_type": "code",
   "execution_count": 2,
   "metadata": {},
   "outputs": [
    {
     "name": "stdout",
     "output_type": "stream",
     "text": [
      "{} <class 'dict'>\n"
     ]
    }
   ],
   "source": [
    "# to create empty dictionary\n",
    "d1={}\n",
    "print(d1,type(d1))"
   ]
  },
  {
   "cell_type": "code",
   "execution_count": 3,
   "metadata": {},
   "outputs": [
    {
     "name": "stdout",
     "output_type": "stream",
     "text": [
      "{10: 3.4, 20: 1.3}\n"
     ]
    }
   ],
   "source": [
    "d1={10:1.2,20:1.3,10:3.4}\n",
    "print(d1)"
   ]
  },
  {
   "cell_type": "code",
   "execution_count": 4,
   "metadata": {},
   "outputs": [],
   "source": [
    " # in dict we dont have indexing and slicing \n"
   ]
  },
  {
   "cell_type": "code",
   "execution_count": 5,
   "metadata": {},
   "outputs": [
    {
     "name": "stdout",
     "output_type": "stream",
     "text": [
      "{10: 3.4, 20: 1.3} 2324436116288\n",
      "{10: 3.7, 20: 1.3} 2324436116288\n"
     ]
    }
   ],
   "source": [
    "d1={10:1.2,20:1.3,10:3.4}\n",
    "print(d1,id(d1))\n",
    "d1[10]=3.7\n",
    "print(d1,id(d1))"
   ]
  },
  {
   "cell_type": "code",
   "execution_count": 6,
   "metadata": {},
   "outputs": [
    {
     "name": "stdout",
     "output_type": "stream",
     "text": [
      "{100: 1.2, 200: 2.3000000000000003}\n"
     ]
    }
   ],
   "source": [
    "# adding (key:value) to empty dict\n",
    "# syntax : dictObj[key]=value\n",
    "d1=dict()\n",
    "d1[100]=1.2\n",
    "d1[200]=2.2+0.1\n",
    "print(d1)"
   ]
  },
  {
   "cell_type": "code",
   "execution_count": 7,
   "metadata": {},
   "outputs": [
    {
     "data": {
      "text/plain": [
       "2"
      ]
     },
     "execution_count": 7,
     "metadata": {},
     "output_type": "execute_result"
    }
   ],
   "source": [
    "len(d1)"
   ]
  },
  {
   "cell_type": "markdown",
   "metadata": {},
   "source": [
    "# Pre define function in dict\n",
    "\n",
    "- we can perform insert the (key:value) and how to modify the value by passing value of key along with these operation.\n",
    "\n",
    "- 1.clear()\n",
    "- 2. pop()\n",
    "- 3. popitem()\n",
    "  4. copy()\n",
    "  5. get()\n",
    "  6. keys()\n",
    "  7. values()\n",
    "  8. items()\n"
   ]
  },
  {
   "cell_type": "code",
   "execution_count": 8,
   "metadata": {},
   "outputs": [
    {
     "ename": "KeyError",
     "evalue": "0",
     "output_type": "error",
     "traceback": [
      "\u001b[1;31m---------------------------------------------------------------------------\u001b[0m",
      "\u001b[1;31mKeyError\u001b[0m                                  Traceback (most recent call last)",
      "Cell \u001b[1;32mIn[8], line 2\u001b[0m\n\u001b[0;32m      1\u001b[0m d1\u001b[38;5;241m=\u001b[39m{\u001b[38;5;241m10\u001b[39m:\u001b[38;5;124m\"\u001b[39m\u001b[38;5;124mapple\u001b[39m\u001b[38;5;124m\"\u001b[39m,\u001b[38;5;241m20\u001b[39m:\u001b[38;5;124m\"\u001b[39m\u001b[38;5;124mbanana\u001b[39m\u001b[38;5;124m\"\u001b[39m,\u001b[38;5;241m30\u001b[39m:\u001b[38;5;124m\"\u001b[39m\u001b[38;5;124mguava\u001b[39m\u001b[38;5;124m\"\u001b[39m}\n\u001b[1;32m----> 2\u001b[0m d1[\u001b[38;5;241m0\u001b[39m]\n",
      "\u001b[1;31mKeyError\u001b[0m: 0"
     ]
    }
   ],
   "source": [
    "d1={10:\"apple\",20:\"banana\",30:\"guava\"}\n",
    "d1[0]"
   ]
  },
  {
   "cell_type": "code",
   "execution_count": 9,
   "metadata": {},
   "outputs": [
    {
     "name": "stdout",
     "output_type": "stream",
     "text": [
      "{10: 'apple', 20: 'banana', 30: 'guava', 50: 4.5}\n"
     ]
    }
   ],
   "source": [
    "d1[50]=4.5\n",
    "print(d1)"
   ]
  },
  {
   "cell_type": "code",
   "execution_count": 10,
   "metadata": {},
   "outputs": [],
   "source": [
    "# pre define function in dict"
   ]
  },
  {
   "cell_type": "markdown",
   "metadata": {},
   "source": [
    "- clear()"
   ]
  },
  {
   "cell_type": "code",
   "execution_count": 12,
   "metadata": {},
   "outputs": [
    {
     "name": "stdout",
     "output_type": "stream",
     "text": [
      "{} 2324450246080 <class 'dict'>\n"
     ]
    }
   ],
   "source": [
    "d1={10:\"apple\",20:\"banana\",30:\"guava\"}\n",
    "d1.clear()\n",
    "\n",
    "print(d1,id(d1),type(d1))"
   ]
  },
  {
   "cell_type": "code",
   "execution_count": 13,
   "metadata": {},
   "outputs": [
    {
     "name": "stdout",
     "output_type": "stream",
     "text": [
      "None\n",
      "{} 2324450246080 <class 'dict'>\n"
     ]
    }
   ],
   "source": [
    "print(d1.clear())\n",
    "print(d1,id(d1),type(d1))"
   ]
  },
  {
   "cell_type": "code",
   "execution_count": 14,
   "metadata": {},
   "outputs": [
    {
     "name": "stdout",
     "output_type": "stream",
     "text": [
      "{10: 'apple', 30: 'guava'} 2324450330048 <class 'dict'>\n"
     ]
    }
   ],
   "source": [
    "#pop\n",
    "d1={10:\"apple\",20:\"banana\",30:\"guava\"}\n",
    "d1.pop(20)\n",
    "print(d1,id(d1),type(d1))"
   ]
  },
  {
   "cell_type": "markdown",
   "metadata": {},
   "source": [
    "- pop()\n",
    "dictobj.pop(key)\n",
    "\n",
    "- this function is used for removing (key,value) from non-empty dict object \n",
    "\n",
    "- if value does not exist then we get keyError"
   ]
  },
  {
   "cell_type": "code",
   "execution_count": 15,
   "metadata": {},
   "outputs": [
    {
     "ename": "KeyError",
     "evalue": "50",
     "output_type": "error",
     "traceback": [
      "\u001b[1;31m---------------------------------------------------------------------------\u001b[0m",
      "\u001b[1;31mKeyError\u001b[0m                                  Traceback (most recent call last)",
      "Cell \u001b[1;32mIn[15], line 1\u001b[0m\n\u001b[1;32m----> 1\u001b[0m d1\u001b[38;5;241m.\u001b[39mpop(\u001b[38;5;241m50\u001b[39m)\n\u001b[0;32m      2\u001b[0m \u001b[38;5;28mprint\u001b[39m(d1,\u001b[38;5;28mid\u001b[39m(d1),\u001b[38;5;28mtype\u001b[39m(d1))\n",
      "\u001b[1;31mKeyError\u001b[0m: 50"
     ]
    }
   ],
   "source": [
    "d1.pop(50)\n",
    "print(d1,id(d1),type(d1))"
   ]
  },
  {
   "cell_type": "code",
   "execution_count": 16,
   "metadata": {},
   "outputs": [
    {
     "name": "stdout",
     "output_type": "stream",
     "text": [
      "{10: 'apple'} 2324450330048 <class 'dict'>\n"
     ]
    }
   ],
   "source": [
    "d1.popitem()\n",
    "\n",
    "print(d1,id(d1),type(d1))"
   ]
  },
  {
   "cell_type": "code",
   "execution_count": 17,
   "metadata": {},
   "outputs": [],
   "source": [
    "# it automatically remove from last index"
   ]
  },
  {
   "cell_type": "markdown",
   "metadata": {},
   "source": [
    "- popitem()\n",
    "\n",
    "- this function is used for removing last (key,value) from non-empty dict object\n",
    "\n",
    "- if dict is empty and we try to remove it from dictobj then we will get keyerror\n",
    "\n"
   ]
  },
  {
   "cell_type": "code",
   "execution_count": 1,
   "metadata": {},
   "outputs": [
    {
     "ename": "NameError",
     "evalue": "name 'dictobj1' is not defined",
     "output_type": "error",
     "traceback": [
      "\u001b[1;31m---------------------------------------------------------------------------\u001b[0m",
      "\u001b[1;31mNameError\u001b[0m                                 Traceback (most recent call last)",
      "Cell \u001b[1;32mIn[1], line 2\u001b[0m\n\u001b[0;32m      1\u001b[0m \u001b[38;5;66;03m# copy\u001b[39;00m\n\u001b[1;32m----> 2\u001b[0m dictobj2\u001b[38;5;241m=\u001b[39mdictobj1\u001b[38;5;241m.\u001b[39mcopy()\n\u001b[0;32m      4\u001b[0m d2\u001b[38;5;241m=\u001b[39md1\n",
      "\u001b[1;31mNameError\u001b[0m: name 'dictobj1' is not defined"
     ]
    }
   ],
   "source": [
    "# copy\n",
    "dictobj2=dictobj1.copy()\n",
    "\n",
    "d2=d1 # shallow copy"
   ]
  },
  {
   "cell_type": "code",
   "execution_count": 4,
   "metadata": {},
   "outputs": [
    {
     "name": "stdout",
     "output_type": "stream",
     "text": [
      "apple\n"
     ]
    }
   ],
   "source": [
    "# get()\n",
    "d1={10:\"apple\",20:\"banana\",30:\"guava\"}\n",
    "val=d1.get(10)\n",
    "print(val)\n",
    "\n"
   ]
  },
  {
   "cell_type": "code",
   "execution_count": 5,
   "metadata": {},
   "outputs": [
    {
     "name": "stdout",
     "output_type": "stream",
     "text": [
      "None\n"
     ]
    }
   ],
   "source": [
    "val=d1.get(900)\n",
    "print(val)"
   ]
  },
  {
   "cell_type": "code",
   "execution_count": null,
   "metadata": {},
   "outputs": [],
   "source": []
  },
  {
   "cell_type": "markdown",
   "metadata": {},
   "source": []
  }
 ],
 "metadata": {
  "kernelspec": {
   "display_name": "base",
   "language": "python",
   "name": "python3"
  },
  "language_info": {
   "codemirror_mode": {
    "name": "ipython",
    "version": 3
   },
   "file_extension": ".py",
   "mimetype": "text/x-python",
   "name": "python",
   "nbconvert_exporter": "python",
   "pygments_lexer": "ipython3",
   "version": "3.12.7"
  }
 },
 "nbformat": 4,
 "nbformat_minor": 2
}
