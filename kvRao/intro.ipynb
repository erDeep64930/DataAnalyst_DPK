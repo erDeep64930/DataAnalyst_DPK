{
 "cells": [
  {
   "cell_type": "markdown",
   "metadata": {},
   "source": [
    "# Full- stack Python"
   ]
  },
  {
   "cell_type": "code",
   "execution_count": null,
   "metadata": {
    "vscode": {
     "languageId": "plaintext"
    }
   },
   "outputs": [],
   "source": [
    "About Faculty:-\n",
    "- KVR sir\n",
    "\n",
    "\n",
    "*************** Course Information ********\n",
    "\n",
    "1. python programming\n",
    "    a). core python programming\n",
    "    real time project\n",
    "\n",
    "    b). Advance Python\n",
    "\n",
    "2. Python for Data Science\n",
    "\n",
    "   a) Pandas\n",
    "   b) Numpy\n",
    "   c) matplotlib\n",
    "\n",
    "3. Module -2 [UI technology]\n",
    " HTML,CSS, JAVASCRIPT\n",
    "\n",
    "4. Web Frame workf\n",
    "  Django\n",
    "  flask\n",
    "  RestAPI\n",
    "\n",
    "5. Module -4 \n",
    " MY SQl\n",
    "\n",
    "\n"
   ]
  }
 ],
 "metadata": {
  "language_info": {
   "name": "python"
  }
 },
 "nbformat": 4,
 "nbformat_minor": 2
}
