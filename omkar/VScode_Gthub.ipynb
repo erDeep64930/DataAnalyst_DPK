{
 "cells": [
  {
   "cell_type": "markdown",
   "id": "6bc76c10-8f4f-46fb-8323-0836ec33c1d8",
   "metadata": {},
   "source": [
    "# lec40"
   ]
  },
  {
   "cell_type": "markdown",
   "id": "33cf3cc1-4d59-4bbf-9c86-5c2cbf37f3a8",
   "metadata": {},
   "source": [
    "- python platform \n",
    "\n",
    "1. jupyter notebook =.ipynb extension\n",
    "2.google colab == jupyter notebook\n",
    "\n",
    "3.Vs code  ===.py extension\n",
    "\n",
    "4.pycharm ==.py\n",
    "\n",
    "5.notepad++ ==.py"
   ]
  },
  {
   "cell_type": "code",
   "execution_count": null,
   "id": "32e267e0-8302-4b36-8f8c-5cd1089782de",
   "metadata": {},
   "outputs": [],
   "source": []
  }
 ],
 "metadata": {
  "kernelspec": {
   "display_name": "Python 3 (ipykernel)",
   "language": "python",
   "name": "python3"
  },
  "language_info": {
   "codemirror_mode": {
    "name": "ipython",
    "version": 3
   },
   "file_extension": ".py",
   "mimetype": "text/x-python",
   "name": "python",
   "nbconvert_exporter": "python",
   "pygments_lexer": "ipython3",
   "version": "3.12.4"
  }
 },
 "nbformat": 4,
 "nbformat_minor": 5
}
