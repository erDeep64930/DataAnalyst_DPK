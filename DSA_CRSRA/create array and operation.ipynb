{
 "cells": [
  {
   "cell_type": "markdown",
   "id": "e184757a-9b56-4fdb-a1dc-4bb7076600e9",
   "metadata": {},
   "source": [
    " ## create an array"
   ]
  },
  {
   "cell_type": "code",
   "execution_count": 1,
   "id": "568ffc67-2cf1-40e9-b252-8cdbf07c21b9",
   "metadata": {},
   "outputs": [
    {
     "name": "stdout",
     "output_type": "stream",
     "text": [
      "[[10 20 30]\n",
      " [40 50 60]\n",
      " [70 80 90]]\n"
     ]
    }
   ],
   "source": [
    "import numpy as np\n",
    "x= np.array([\n",
    "            [10,20,30],\n",
    "            [40,50,60],\n",
    "            [70,80,90]])\n",
    "print(x)"
   ]
  },
  {
   "cell_type": "code",
   "execution_count": 2,
   "id": "6b8d65ac-09f2-4ac2-a9b1-2889c09c9662",
   "metadata": {},
   "outputs": [
    {
     "name": "stdout",
     "output_type": "stream",
     "text": [
      "[[10.+0.j 20.+0.j 30.+0.j]\n",
      " [40.+0.j 50.+0.j 60.+0.j]\n",
      " [70.+0.j 80.+0.j 90.+0.j]]\n"
     ]
    }
   ],
   "source": [
    "import numpy as np\n",
    "x= np.array([\n",
    "            [10,20,30],\n",
    "            [40,50,60],\n",
    "            [70,80,90]], dtype=complex )\n",
    "print(x)"
   ]
  },
  {
   "cell_type": "markdown",
   "id": "c22cfe49-54cb-4440-9d1b-12f32161fe0d",
   "metadata": {},
   "source": [
    "## how to specifies the binary data"
   ]
  },
  {
   "cell_type": "code",
   "execution_count": 3,
   "id": "b5100a30-2b63-4ff7-904d-5a04a02d2878",
   "metadata": {},
   "outputs": [
    {
     "name": "stdout",
     "output_type": "stream",
     "text": [
      "[[0. 0. 0.]\n",
      " [0. 0. 0.]]\n"
     ]
    }
   ],
   "source": [
    "y= np.zeros((2,3))\n",
    "print(y)"
   ]
  },
  {
   "cell_type": "code",
   "execution_count": 4,
   "id": "97bf0abf-9db0-430d-b894-884780e832a7",
   "metadata": {},
   "outputs": [
    {
     "name": "stdout",
     "output_type": "stream",
     "text": [
      "[[1. 1.]\n",
      " [1. 1.]\n",
      " [1. 1.]]\n"
     ]
    }
   ],
   "source": [
    "y= np.ones((3,2))\n",
    "print(y)"
   ]
  },
  {
   "cell_type": "code",
   "execution_count": 5,
   "id": "7c7f36ae-908d-4397-83c4-52f7df4d9611",
   "metadata": {},
   "outputs": [
    {
     "name": "stdout",
     "output_type": "stream",
     "text": [
      "[[(1, 1.) (1, 1.) (1, 1.)]\n",
      " [(1, 1.) (1, 1.) (1, 1.)]\n",
      " [(1, 1.) (1, 1.) (1, 1.)]]\n"
     ]
    }
   ],
   "source": [
    "z=np.ones((3,3),dtype=[('m','int'),('n','float')])\n",
    "print(z)"
   ]
  },
  {
   "cell_type": "code",
   "execution_count": 6,
   "id": "4d0c1535-b74f-4133-9ca3-cc50221324fd",
   "metadata": {},
   "outputs": [
    {
     "name": "stdout",
     "output_type": "stream",
     "text": [
      "10 20 30 \n",
      "40 50 60 \n",
      "70 80 90 \n"
     ]
    }
   ],
   "source": [
    "x= np.array([\n",
    "            [10,20,30],\n",
    "            [40,50,60],\n",
    "            [70,80,90]])\n",
    "for i in x:\n",
    "    for j in i:\n",
    "        print(j,end=\" \")  # to print in a new line \n",
    "    print() # for print in a new line    \n"
   ]
  },
  {
   "cell_type": "code",
   "execution_count": 7,
   "id": "98ebac4e-dad6-44d6-90fb-ed0ca735d93e",
   "metadata": {},
   "outputs": [
    {
     "name": "stdout",
     "output_type": "stream",
     "text": [
      "Row 0: [10 20 30]\n",
      "Row 1: [40 50 60]\n"
     ]
    }
   ],
   "source": [
    "x= np.array([\n",
    "            [10,20,30],\n",
    "            [40,50,60],\n",
    "            [70,80,90]])\n",
    "print(\"Row 0:\",x[0])\n",
    "print(\"Row 1:\",x[1])"
   ]
  },
  {
   "cell_type": "code",
   "execution_count": 8,
   "id": "49c05543-599b-4204-a962-59a6ee0e7825",
   "metadata": {},
   "outputs": [
    {
     "name": "stdout",
     "output_type": "stream",
     "text": [
      "[[10 20 30]\n",
      " [40 50 60]]\n"
     ]
    }
   ],
   "source": [
    "x= np.array([\n",
    "            [10,20,30],\n",
    "            [40,50,60],\n",
    "            [70,80,90]])\n",
    "print(x[0:2]) # slicing from where to were only aplicable to rows only"
   ]
  },
  {
   "cell_type": "code",
   "execution_count": 9,
   "id": "b2300c11-887a-4dd9-8ca6-10ec6b088b9e",
   "metadata": {},
   "outputs": [
    {
     "name": "stdout",
     "output_type": "stream",
     "text": [
      "[[40 50 60]\n",
      " [70 80 90]]\n"
     ]
    }
   ],
   "source": [
    "print(x[1:])"
   ]
  },
  {
   "cell_type": "code",
   "execution_count": 10,
   "id": "8a3da0f3-b8e2-41ec-aacd-24c9b5db4876",
   "metadata": {},
   "outputs": [
    {
     "name": "stdout",
     "output_type": "stream",
     "text": [
      "[[70 80 90]\n",
      " [40 50 60]\n",
      " [10 20 30]]\n"
     ]
    }
   ],
   "source": [
    "print(x[::-1]) # reversing the rows"
   ]
  },
  {
   "cell_type": "code",
   "execution_count": 11,
   "id": "3d023ba9-5205-467a-b098-23282bb024bc",
   "metadata": {},
   "outputs": [],
   "source": [
    "# senario question"
   ]
  },
  {
   "cell_type": "code",
   "execution_count": 12,
   "id": "9edc6375-6c51-442f-bc3b-3cb810356fde",
   "metadata": {},
   "outputs": [
    {
     "name": "stdout",
     "output_type": "stream",
     "text": [
      "[10 40 70]\n"
     ]
    }
   ],
   "source": [
    "print (x[: , 0]) # column wise acess"
   ]
  },
  {
   "cell_type": "code",
   "execution_count": 13,
   "id": "b4e8b07d-fdd5-4f61-8935-94d8fd038823",
   "metadata": {},
   "outputs": [
    {
     "name": "stdout",
     "output_type": "stream",
     "text": [
      "[[70 80 90]\n",
      " [40 50 60]]\n"
     ]
    }
   ],
   "source": [
    "print(x[:0:-1])"
   ]
  },
  {
   "cell_type": "markdown",
   "id": "e80680ac-da2b-48cc-af2a-f3f45565589b",
   "metadata": {},
   "source": [
    "## column representation"
   ]
  },
  {
   "cell_type": "code",
   "execution_count": 14,
   "id": "11f24deb-c0c3-4f2f-975e-b1408dd122ee",
   "metadata": {},
   "outputs": [
    {
     "name": "stdout",
     "output_type": "stream",
     "text": [
      "[20 50 80]\n"
     ]
    }
   ],
   "source": [
    "print (x[: , 1])# column wise access"
   ]
  },
  {
   "cell_type": "code",
   "execution_count": 15,
   "id": "9a82c6de-8ee9-41b4-87b3-03bdcd08461d",
   "metadata": {},
   "outputs": [
    {
     "name": "stdout",
     "output_type": "stream",
     "text": [
      "column 0: [10 40 70]\n"
     ]
    }
   ],
   "source": [
    "print(\"column 0:\",x[: ,0])"
   ]
  },
  {
   "cell_type": "code",
   "execution_count": 16,
   "id": "dddebd25-d1f8-4ee9-9d1f-8bcb1596f5b8",
   "metadata": {},
   "outputs": [
    {
     "name": "stdout",
     "output_type": "stream",
     "text": [
      "column 2: [30 60 90]\n"
     ]
    }
   ],
   "source": [
    "print(\"column 2:\",x[: ,-1])"
   ]
  },
  {
   "cell_type": "code",
   "execution_count": null,
   "id": "f8e89524-aa7c-4e95-b7c9-fe554f122a64",
   "metadata": {},
   "outputs": [],
   "source": []
  }
 ],
 "metadata": {
  "kernelspec": {
   "display_name": "Python 3",
   "language": "python",
   "name": "python3"
  },
  "language_info": {
   "codemirror_mode": {
    "name": "ipython",
    "version": 3
   },
   "file_extension": ".py",
   "mimetype": "text/x-python",
   "name": "python",
   "nbconvert_exporter": "python",
   "pygments_lexer": "ipython3",
   "version": "3.13.1"
  }
 },
 "nbformat": 4,
 "nbformat_minor": 5
}
