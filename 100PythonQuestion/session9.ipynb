{
 "cells": [
  {
   "cell_type": "code",
   "execution_count": 17,
   "id": "15794140-f8da-4c34-8737-46e7bfea6797",
   "metadata": {},
   "outputs": [],
   "source": [
    "#"
   ]
  },
  {
   "cell_type": "code",
   "execution_count": 19,
   "id": "8c8a7e0f-8618-418f-9e21-fd1c09dc81e7",
   "metadata": {},
   "outputs": [
    {
     "name": "stdin",
     "output_type": "stream",
     "text": [
      " 10000\n",
      " 1\n"
     ]
    },
    {
     "name": "stdout",
     "output_type": "stream",
     "text": [
      "8000.0\n"
     ]
    }
   ],
   "source": [
    "# Chris is going to celebrate his birthday in January. His father wants to buy a\n",
    "# new dress for his son. Also as Christmas is approaching, he wants to buy a\n",
    "# new dress for Christmas as well. As all the textile showrooms offer a\n",
    "# discount in the month of December, his father decides to buy a dress for\n",
    "# Chris birthday in December itself. Before that, he wants to know how much\n",
    "# discount was given in each month.\n",
    "# In the first month of the year, they offered a 20% discount. In the third and\n",
    "# fourth month, they offered a 10% discount. In the sixth and seventh month,\n",
    "# they offered a 75% discount. In the tenth and eleventh month, they offered\n",
    "# a 30% discount. In the twelfth month, they offered a 35% discount.\n",
    "# Implement this program using switch case.\n",
    "# Note: Use Fall through concept\n",
    "def get_discount(month):\n",
    "    match month:\n",
    "        case 1:\n",
    "            return 20\n",
    "        case 3 | 4:\n",
    "            return 10\n",
    "        case 6 | 7:\n",
    "            return 75\n",
    "        case 10 | 11:\n",
    "            return 30\n",
    "        case 12:\n",
    "            return 35\n",
    "        case _:\n",
    "            return None \n",
    "\n",
    "rate = int(input())\n",
    "month = int(input())\n",
    "\n",
    "discount = get_discount(month)\n",
    "\n",
    "if discount is None:\n",
    "    print(\"Invalid Month\")\n",
    "else:\n",
    "    amount = rate - (rate * discount / 100)\n",
    "    print(amount)\n"
   ]
  },
  {
   "cell_type": "code",
   "execution_count": 27,
   "id": "093329e9-9e81-4bc9-baa7-c187895959e5",
   "metadata": {},
   "outputs": [
    {
     "name": "stdin",
     "output_type": "stream",
     "text": [
      " pen\n",
      " 10\n",
      " 15\n",
      " 5\n"
     ]
    },
    {
     "name": "stdout",
     "output_type": "stream",
     "text": [
      "amounts 5  pen is 75\n",
      "remaining no is pen  is 5\n"
     ]
    }
   ],
   "source": [
    "# Raj starts a new stationery shop. He wants to calculate the number of items\n",
    "# that are sold and the number of items that are remaining in the stock. Whenever\n",
    "# a customer asks for them, he will be able to quickly check whether the item is\n",
    "# already sold or available. If the item is not available, it should display \"Out of\n",
    "# stock\".\n",
    "# If it is available, it should display the remaining number of items available and\n",
    "# the total cost that should be paid by a customer. If the number of items asked by\n",
    "# the customer is greater than the items available, it should display the number of\n",
    "# items currently available.\n",
    "# For example, if a customer asks 8 scales and only 3 scales are available, display\n",
    "# \"Only 3 scale are available\".\n",
    "# Question 2\n",
    "# INPUT & OUTPUT FORMAT:\n",
    "# Input consists of 1 string and 3 integers.\n",
    "# First input corresponds to the item name.\n",
    "# Second input corresponds to the number of items available in the stock.\n",
    "# Third input corresponds to the amount of one item.\n",
    "# Fourth input corresponds to the number of items asked by the customer\n",
    "# SAMPLE INPUT:\n",
    "# pencil\n",
    "# 10\n",
    "# 15\n",
    "# 5\n",
    "# SAMPLE OUTPUT:\n",
    "# Amount for 5 pencil is 75\n",
    "# Remaining number of pencils present in stock is 5\n",
    "name = str(input())\n",
    "total_item = int(input())\n",
    "price = int(input())\n",
    "ask_cus =int(input())\n",
    "\n",
    "amount =price*ask_cus\n",
    "\n",
    "\n",
    "print(f\"amounts {ask_cus}  {name} is {amount}\")\n",
    "\n",
    "remain =total_item -ask_cus\n",
    "\n",
    "print(f\"remaining no is {name}  is {remain}\")"
   ]
  },
  {
   "cell_type": "code",
   "execution_count": 35,
   "id": "e3ae0172-ca86-4058-ba42-d81a67581497",
   "metadata": {},
   "outputs": [
    {
     "name": "stdin",
     "output_type": "stream",
     "text": [
      " 55\n",
      " 5\n"
     ]
    },
    {
     "name": "stdout",
     "output_type": "stream",
     "text": [
      "1\n"
     ]
    }
   ],
   "source": [
    "# Tara and Jyoti were given with 1 number each. She has to find\n",
    "# whether sum of the two number is divisible by 5 or not .\n",
    "# if yes then print 1 else print 0.\n",
    "# Sample Input\n",
    "# 55\n",
    "# 5\n",
    "# Sample Output\n",
    "# 1\n",
    "num = int(input())\n",
    "num1 = int(input())\n",
    "\n",
    "total = num + num1  \n",
    "if total % 5 == 0:\n",
    "    print(\"1\") \n",
    "else:\n",
    "    print(\"0\") \n"
   ]
  },
  {
   "cell_type": "code",
   "execution_count": 40,
   "id": "73c6a55c-2763-4855-8d63-195fea15f5ab",
   "metadata": {},
   "outputs": [
    {
     "name": "stdin",
     "output_type": "stream",
     "text": [
      " raj\n",
      " raj\n"
     ]
    },
    {
     "name": "stdout",
     "output_type": "stream",
     "text": [
      "string are same\n"
     ]
    }
   ],
   "source": [
    "# Write a program to find whether the given two strings are the same or\n",
    "# not\n",
    "# INPUT & OUTPUT FORMAT:\n",
    "# Input consists of 2 strings.\n",
    "# If two strings are same, display “Strings are same”, else display\n",
    "# “Strings are not same”.\n",
    "# SAMPLE INPUT & OUTPUT:\n",
    "# face\n",
    "# face\n",
    "# Strings are same\n",
    "num = str(input())\n",
    "num1 = str(input())\n",
    "\n",
    "if num == num1:\n",
    "   print(\"string are same\")\n",
    "else:\n",
    "    print(\"string are not same\")\n"
   ]
  },
  {
   "cell_type": "code",
   "execution_count": 42,
   "id": "fbaf4f9e-b664-45b3-8357-5a0a52212f0a",
   "metadata": {},
   "outputs": [
    {
     "name": "stdin",
     "output_type": "stream",
     "text": [
      "Enter a two-digit number:  59\n"
     ]
    },
    {
     "name": "stdout",
     "output_type": "stream",
     "text": [
      "Great Number\n"
     ]
    }
   ],
   "source": [
    "# Question 5\n",
    "# You are given a 2 digit positive number ‘n’. You have to tell whether a number is\n",
    "# great or not. A great number is a number whose sum of digits let (m) and product of\n",
    "# digits let(j) when summed together gives the number back\n",
    "# m+j=n\n",
    "# Input Description:\n",
    "# You are given a number n;\n",
    "# Output Description:\n",
    "# Print Great if a number is great else print the no\n",
    "# Sample Input :\n",
    "# 59\n",
    "# Sample Output :\n",
    "# Great\n",
    "\n",
    "def is_great_number(n):\n",
    "    if not (10 <= n <= 99):\n",
    "        return \"Invalid input\"\n",
    "    \n",
    "    digit1 = n // 10  \n",
    "    digit2 = n % 10   \n",
    "    \n",
    "    m = digit1 + digit2 \n",
    "    j = digit1 * digit2 \n",
    "    \n",
    "    if (m + j) == n:\n",
    "        return \"Great Number\"\n",
    "    else:\n",
    "        return \"Not a Great Number\"\n",
    "\n",
    "n = int(input())\n",
    "print(is_great_number(n))\n"
   ]
  },
  {
   "cell_type": "code",
   "execution_count": 44,
   "id": "a255f286-f4e9-4e46-86ac-01fe8076d6ab",
   "metadata": {},
   "outputs": [
    {
     "name": "stdin",
     "output_type": "stream",
     "text": [
      " 49\n"
     ]
    },
    {
     "name": "stdout",
     "output_type": "stream",
     "text": [
      "yes\n"
     ]
    }
   ],
   "source": [
    "# Given a number N, print yes if the number is a multiple of 7 else\n",
    "# print no.\n",
    "# Sample Input\n",
    "# 49\n",
    "# S\n",
    "num = int(input())\n",
    "if num%7==0:\n",
    "    print(\"yes\")\n",
    "else:\n",
    "    print(\"no\")"
   ]
  },
  {
   "cell_type": "code",
   "execution_count": 56,
   "id": "d3ae2c08-1f1b-4cc0-8084-ef9a0d8daee0",
   "metadata": {},
   "outputs": [],
   "source": [
    "#"
   ]
  },
  {
   "cell_type": "code",
   "execution_count": 54,
   "id": "ab6fdf11-fd9e-4189-bc99-76bf480acc00",
   "metadata": {},
   "outputs": [
    {
     "name": "stdin",
     "output_type": "stream",
     "text": [
      "Enter N:  3\n",
      "Enter L and R:  2 6\n"
     ]
    },
    {
     "name": "stdout",
     "output_type": "stream",
     "text": [
      "Yes\n"
     ]
    }
   ],
   "source": [
    "# Given 3 numbers N , L and R. Print 'yes' if N is between L and R\n",
    "# else print 'no'.\n",
    "# Sample Testcase :\n",
    "# INPUT\n",
    "# 3\n",
    "# 2 6\n",
    "# OUTPUT\n",
    "# Yes\n",
    "def is_between(n, l, r):\n",
    "    if l <= n <= r:\n",
    "        return \"Yes\"\n",
    "    else:\n",
    "        return \"No\"\n",
    "\n",
    "n = int(input(\"Enter N: \"))\n",
    "l, r = map(int, input(\"Enter L and R: \").split())\n",
    "\n",
    "print(is_between(n, l, r))\n"
   ]
  },
  {
   "cell_type": "code",
   "execution_count": null,
   "id": "d291a10a-2d46-4c20-bea9-9dfd71345801",
   "metadata": {},
   "outputs": [],
   "source": [
    "#thank you"
   ]
  }
 ],
 "metadata": {
  "kernelspec": {
   "display_name": "Python 3 (ipykernel)",
   "language": "python",
   "name": "python3"
  },
  "language_info": {
   "codemirror_mode": {
    "name": "ipython",
    "version": 3
   },
   "file_extension": ".py",
   "mimetype": "text/x-python",
   "name": "python",
   "nbconvert_exporter": "python",
   "pygments_lexer": "ipython3",
   "version": "3.12.7"
  }
 },
 "nbformat": 4,
 "nbformat_minor": 5
}
