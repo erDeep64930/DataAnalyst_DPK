{
 "cells": [
  {
   "cell_type": "code",
   "execution_count": 1,
   "id": "b1eb99ca-aa24-4b5b-97d9-04ef9bd47959",
   "metadata": {},
   "outputs": [
    {
     "name": "stdin",
     "output_type": "stream",
     "text": [
      " 100\n"
     ]
    },
    {
     "name": "stdout",
     "output_type": "stream",
     "text": [
      "happy no\n"
     ]
    }
   ],
   "source": [
    "# Write a code to find whether the given number is a happy number or not.\n",
    "# Note:\n",
    "# A number is said to be a Happy Number if the repeated sum of the digits\n",
    "# squared is equal to 1. If on repeating this process we get the result as 1\n",
    "# then it is a happy number. If the result is 4 then it goes in an endless loop\n",
    "# and is not a happy number.\n",
    "# Sample Input 1:\n",
    "# 100\n",
    "# Sample Output 1:\n",
    "# Happy Number\n",
    "num =int(input())\n",
    "while num!=1 and num !=4:\n",
    "    num =sum(int(digit) ** 2 for digit in str(num))\n",
    "\n",
    "if num==1:\n",
    "    print(\"happy no\")\n",
    "else:\n",
    "    print(\"not happy no\")\n"
   ]
  },
  {
   "cell_type": "code",
   "execution_count": 7,
   "id": "fc56d720-4433-4d82-8777-1293b5653f86",
   "metadata": {},
   "outputs": [
    {
     "name": "stdin",
     "output_type": "stream",
     "text": [
      " 153\n"
     ]
    },
    {
     "name": "stdout",
     "output_type": "stream",
     "text": [
      "Armstrong Number\n"
     ]
    }
   ],
   "source": [
    "# Working from home ,Joey Tribbiani is in a dilemma what to order for lunch. He\n",
    "# was confused between Pizza and Sandwich. He decided to ask Chandler to tell\n",
    "# a number and if it is Armstrong number, he will order Pizza and not an\n",
    "# armstrong number, he will order Sandwich. But poor Joey! He was not knowing\n",
    "# the what is armstrong number. Help Joey by writing a program to get a number\n",
    "# and find out whether it is armstrong number or not.\n",
    "# Write a program to check whether the number is Armstrong number or not.\n",
    "# Sample Input1:\n",
    "# 153\n",
    "# Sample Output1:\n",
    "# yes\n",
    "# Explanation:\n",
    "# 153 is an armstrong number.so it prints yes.\n",
    "num = int(input()) \n",
    "num_digits = len(str(num)) \n",
    "sum_of_powers = sum(int(digit) ** num_digits for digit in str(num)) \n",
    "\n",
    "if sum_of_powers == num:\n",
    "    print(\"Armstrong Number\")\n",
    "else:\n",
    "    print(\"Not an Armstrong Number\")\n"
   ]
  },
  {
   "cell_type": "code",
   "execution_count": 5,
   "id": "7b2f966c-f5a9-47a5-a660-d8c58a68706e",
   "metadata": {},
   "outputs": [
    {
     "name": "stdin",
     "output_type": "stream",
     "text": [
      " bhgjghjgy43322\n"
     ]
    },
    {
     "name": "stdout",
     "output_type": "stream",
     "text": [
      "9\n",
      "5\n"
     ]
    }
   ],
   "source": [
    "# Write a Program to calculate the number of digits and letters in a string.\n",
    "# Sample Input:\n",
    "# Hello123\n",
    "# Sample Output:\n",
    "# The number of digits is:\n",
    "# 3\n",
    "# The number of characters is:\n",
    "# 5\n",
    "text = input()\n",
    "\n",
    "char_count = sum(c.isalpha() for c in text)  \n",
    "digit_count = sum(c.isdigit() for c in text) \n",
    "\n",
    "print(char_count)\n",
    "print(digit_count)\n"
   ]
  },
  {
   "cell_type": "code",
   "execution_count": 15,
   "id": "01756b91-3264-4f0f-b46b-23fd457e8af8",
   "metadata": {},
   "outputs": [
    {
     "name": "stdin",
     "output_type": "stream",
     "text": [
      " 6 28\n"
     ]
    },
    {
     "name": "stdout",
     "output_type": "stream",
     "text": [
      "Friendly Pair\n"
     ]
    }
   ],
   "source": [
    "# Write a program to find whether the given numbers are Friendly Pair or not.\n",
    "# Friendly pair is two or more numbers with a common abundance index\n",
    "# i.e the ratio between the sum of divisors of a number and the number itself.\n",
    "# For example, 6 and 28 are a Friendly pair as (Sum of divisors of 6)/6 = (Sum\n",
    "# of divisors of 28)/28\n",
    "# Note: Don't use unnecessary sentences in input or output.\n",
    "# Input Format:\n",
    "# Input consists of 2 integers. The first integer corresponds to number 1 and\n",
    "# the second integer corresponds to number 2.\n",
    "# Output Format:\n",
    "# If they are a Friendly pair, display “Friendly Pair” or display “Not Friendly\n",
    "# Pair”\n",
    "def sum_of_divisors(n):\n",
    "    return sum(i for i in range(1, n + 1) if n % i == 0)\n",
    "\n",
    "\n",
    "a, b = map(int, input().split())\n",
    "\n",
    "abundance_a = sum_of_divisors(a) / a\n",
    "abundance_b = sum_of_divisors(b) / b\n",
    "\n",
    "if abundance_a == abundance_b:\n",
    "    print(\"Friendly Pair\")\n",
    "else:\n",
    "    print(\"Not Friendly Pair\")\n",
    "\n"
   ]
  },
  {
   "cell_type": "code",
   "execution_count": 7,
   "id": "14158e49-1a9b-4998-8ece-fad62ec066d1",
   "metadata": {},
   "outputs": [
    {
     "name": "stdin",
     "output_type": "stream",
     "text": [
      " 12\n"
     ]
    },
    {
     "name": "stdout",
     "output_type": "stream",
     "text": [
      "No\n"
     ]
    }
   ],
   "source": [
    "# Check whether a number is perfect number or not.\n",
    "# A perfect number is a positive integer that is equal to the sum of its\n",
    "# proper positive divisors.\n",
    "# Input format:\n",
    "# The input consists of a single integer n.\n",
    "# Output format:\n",
    "# Print \"Yes\" if n is a perfect number, \"No\" otherwise.\n",
    "# Sample Input: 6\n",
    "# Sample Output: Yes\n",
    "# Explanation:\n",
    "# The proper divisors of 6 are 1, 2, and 3. 1 + 2 + 3 = 6.\n",
    "\n",
    "n = int(input())\n",
    "sum_of_divisors = 0\n",
    "for i in range(1, n // 2 + 1):\n",
    "    if n % i == 0:\n",
    "        sum_of_divisors += i\n",
    "if sum_of_divisors == n:\n",
    "    print(\"Yes\")\n",
    "else:\n",
    "    print(\"No\")\n"
   ]
  },
  {
   "cell_type": "code",
   "execution_count": 9,
   "id": "edcf5c7d-641e-4a23-a5cc-e00a2e31f8c9",
   "metadata": {},
   "outputs": [
    {
     "name": "stdin",
     "output_type": "stream",
     "text": [
      "Enter the starting number:  5\n",
      "Enter the ending number:  10\n"
     ]
    },
    {
     "name": "stdout",
     "output_type": "stream",
     "text": [
      "6\n",
      "Total count: 1\n"
     ]
    }
   ],
   "source": [
    "# Write a program to find the perfect numbers and its count between\n",
    "# a given range.\n",
    "# Input Format:\n",
    "# The first input contains an integer which denotes the starting\n",
    "# number of the range\n",
    "# The second input contains an integer which denotes the ending\n",
    "# number of the range\n",
    "# Output Format:\n",
    "# Print the perfect numbers and its count in a given range\n",
    "# Input: Start and End of the Range\n",
    "start = int(input(\"Enter the starting number: \"))\n",
    "end = int(input(\"Enter the ending number: \"))\n",
    "perfect_numbers = []\n",
    "\n",
    "\n",
    "for n in range(start, end + 1):\n",
    "    sum_of_divisors = sum(i for i in range(1, n // 2 + 1) if n % i == 0)\n",
    "    if sum_of_divisors == n:\n",
    "        perfect_numbers.append(n)\n",
    "\n",
    "\n",
    "if perfect_numbers:\n",
    "    print(*perfect_numbers) \n",
    "else:\n",
    "    print(\"No perfect numbers found\")\n",
    "\n",
    "print(\"Total count:\", len(perfect_numbers))\n",
    "\n"
   ]
  },
  {
   "cell_type": "code",
   "execution_count": null,
   "id": "c4473c00-7ac6-4c5c-ab04-d486b34dae67",
   "metadata": {},
   "outputs": [],
   "source": []
  }
 ],
 "metadata": {
  "kernelspec": {
   "display_name": "Python 3 (ipykernel)",
   "language": "python",
   "name": "python3"
  },
  "language_info": {
   "codemirror_mode": {
    "name": "ipython",
    "version": 3
   },
   "file_extension": ".py",
   "mimetype": "text/x-python",
   "name": "python",
   "nbconvert_exporter": "python",
   "pygments_lexer": "ipython3",
   "version": "3.12.7"
  }
 },
 "nbformat": 4,
 "nbformat_minor": 5
}
