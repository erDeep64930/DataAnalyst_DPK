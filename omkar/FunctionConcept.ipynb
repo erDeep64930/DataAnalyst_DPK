{
 "cells": [
  {
   "cell_type": "code",
   "execution_count": 3,
   "id": "59a2dc03-1b13-4495-8864-441280d7b7cc",
   "metadata": {},
   "outputs": [],
   "source": [
    "def AverageSum():\n",
    "        try:\n",
    "            n1=eval(input(\"enter 1st number\"))\n",
    "            n2=eval(input(\"enter 2nd number\"))\n",
    "            n3=eval(input(\"enter 3rd number\"))\n",
    "            n4=eval(input(\"enter 4th number\"))\n",
    "            avg= (n1+n2+n3+n4)/4\n",
    "            print(\"the average of {} , {} , {} and {} is {}\".format(n1,n2,n3,n4,avg))\n",
    "        except Exception as e:\n",
    "            print(e)"
   ]
  },
  {
   "cell_type": "code",
   "execution_count": 4,
   "id": "dd5db6af-c665-406f-bee2-f3ab4e758dc4",
   "metadata": {},
   "outputs": [
    {
     "name": "stdin",
     "output_type": "stream",
     "text": [
      "enter 1st number 5\n",
      "enter 2nd number 5\n",
      "enter 3rd number 5\n",
      "enter 4th number 5\n"
     ]
    },
    {
     "name": "stdout",
     "output_type": "stream",
     "text": [
      "the average of 5 , 5 ,5 and 5 is 5.0\n"
     ]
    }
   ],
   "source": [
    "AverageSum()"
   ]
  },
  {
   "cell_type": "code",
   "execution_count": 9,
   "id": "975594fa-e90a-4a7f-af82-b53d6db76dc7",
   "metadata": {},
   "outputs": [
    {
     "name": "stdout",
     "output_type": "stream",
     "text": [
      "29 is odd number\n"
     ]
    }
   ],
   "source": [
    "import random \n",
    "def even_odd():\n",
    "    try:\n",
    "        num=random.randint(1,100)\n",
    "        if num%2==0:\n",
    "            print(\"{} is even number\".format(num))\n",
    "        else:\n",
    "            print(\"{} is odd number\".format(num))\n",
    "    except Exception as e:\n",
    "            print(e)\n",
    "even_odd()\n",
    "        "
   ]
  },
  {
   "cell_type": "code",
   "execution_count": null,
   "id": "24391f94-3360-4504-a46a-86d8ae11eb0e",
   "metadata": {},
   "outputs": [],
   "source": [
    "-if you not mentioning any values inside function bracket\n",
    "is called without agrument, or without parameter"
   ]
  },
  {
   "cell_type": "code",
   "execution_count": 10,
   "id": "81b847a8-1d5f-4034-90cb-38226c66a94c",
   "metadata": {},
   "outputs": [
    {
     "name": "stdout",
     "output_type": "stream",
     "text": [
      "the addition of 69 and 89 is 158\n"
     ]
    }
   ],
   "source": [
    "def sum(n1,n2):\n",
    "    add=n1+n2\n",
    "    print(\"the addition of {} and {} is {}\".format(n1,n2,add))\n",
    "\n",
    "sum(69,89)"
   ]
  },
  {
   "cell_type": "markdown",
   "id": "368ae5cb-7ee4-4ef5-877c-551a41446f4e",
   "metadata": {},
   "source": [
    "this is called with argument"
   ]
  },
  {
   "cell_type": "code",
   "execution_count": 12,
   "id": "8f0a530b-b765-440b-b27a-7fa2d6ed062b",
   "metadata": {},
   "outputs": [
    {
     "name": "stdout",
     "output_type": "stream",
     "text": [
      "5050\n"
     ]
    }
   ],
   "source": [
    "def Bill(bill_amt,tip_amt):\n",
    "    try:\n",
    "        total_bill=bill_amt+tip_amt\n",
    "        print(total_bill)\n",
    "\n",
    "    except exception as e:\n",
    "        print(e)\n",
    "\n",
    "Bill(5000,50)"
   ]
  },
  {
   "cell_type": "code",
   "execution_count": null,
   "id": "36c7e6de-ca78-4cab-a6fe-f9f6ab229698",
   "metadata": {},
   "outputs": [],
   "source": [
    "#wap a program to find area of circle"
   ]
  },
  {
   "cell_type": "code",
   "execution_count": 14,
   "id": "0513b755-04e1-41dc-9233-9a970a66540e",
   "metadata": {},
   "outputs": [
    {
     "name": "stdin",
     "output_type": "stream",
     "text": [
      "enter the radius 21\n"
     ]
    },
    {
     "ename": "TypeError",
     "evalue": "'float' object is not callable",
     "output_type": "error",
     "traceback": [
      "\u001b[1;31m---------------------------------------------------------------------------\u001b[0m",
      "\u001b[1;31mTypeError\u001b[0m                                 Traceback (most recent call last)",
      "Cell \u001b[1;32mIn[14], line 11\u001b[0m\n\u001b[0;32m      8\u001b[0m \u001b[38;5;28;01mexcept\u001b[39;00m exception \u001b[38;5;28;01mas\u001b[39;00m e:\n\u001b[0;32m      9\u001b[0m         \u001b[38;5;28mprint\u001b[39m(e) \n\u001b[1;32m---> 11\u001b[0m areaOfCicle()\n",
      "Cell \u001b[1;32mIn[14], line 5\u001b[0m, in \u001b[0;36mareaOfCicle\u001b[1;34m()\u001b[0m\n\u001b[0;32m      3\u001b[0m \u001b[38;5;28;01mdef\u001b[39;00m \u001b[38;5;21mareaOfCicle\u001b[39m():\n\u001b[0;32m      4\u001b[0m     r\u001b[38;5;241m=\u001b[39m\u001b[38;5;28meval\u001b[39m(\u001b[38;5;28minput\u001b[39m(\u001b[38;5;124m\"\u001b[39m\u001b[38;5;124menter the radius\u001b[39m\u001b[38;5;124m\"\u001b[39m))\n\u001b[1;32m----> 5\u001b[0m     area\u001b[38;5;241m=\u001b[39m \u001b[38;5;28mround\u001b[39m(math\u001b[38;5;241m.\u001b[39mpi(r\u001b[38;5;241m*\u001b[39mr),\u001b[38;5;241m2\u001b[39m)\n\u001b[0;32m      6\u001b[0m     \u001b[38;5;28mprint\u001b[39m(area)\n",
      "\u001b[1;31mTypeError\u001b[0m: 'float' object is not callable"
     ]
    }
   ],
   "source": [
    "import math \n",
    "try:\n",
    "    def areaOfCicle():\n",
    "        r=eval(input(\"enter the radius\"))\n",
    "        area= round(math.pi(r*r),2)\n",
    "        print(area)\n",
    "        \n",
    "except exception as e:\n",
    "        print(e) \n",
    "\n",
    "areaOfCicle()"
   ]
  },
  {
   "cell_type": "code",
   "execution_count": 21,
   "id": "a35164e1-1c39-45b5-89f8-6525700500ca",
   "metadata": {},
   "outputs": [
    {
     "name": "stdin",
     "output_type": "stream",
     "text": [
      "enter the radius 60\n"
     ]
    },
    {
     "name": "stdout",
     "output_type": "stream",
     "text": [
      "11309.73\n"
     ]
    }
   ],
   "source": [
    "import math \n",
    "try:\n",
    "    def areaOfCicle():\n",
    "        pii=math.pi\n",
    "        r=eval(input(\"enter the radius\"))\n",
    "        area= round(pii*(r*r),2)\n",
    "        print(area)\n",
    "        \n",
    "except exception as e:\n",
    "        print(e) \n",
    "\n",
    "areaOfCicle()"
   ]
  },
  {
   "cell_type": "code",
   "execution_count": 23,
   "id": "7f355bfa-d685-47a8-abaa-012ca2c3a19a",
   "metadata": {},
   "outputs": [
    {
     "ename": "TypeError",
     "evalue": "areaOfCicle() takes 0 positional arguments but 2 were given",
     "output_type": "error",
     "traceback": [
      "\u001b[1;31m---------------------------------------------------------------------------\u001b[0m",
      "\u001b[1;31mTypeError\u001b[0m                                 Traceback (most recent call last)",
      "Cell \u001b[1;32mIn[23], line 1\u001b[0m\n\u001b[1;32m----> 1\u001b[0m areaOfCicle(\u001b[38;5;241m21\u001b[39m,\u001b[38;5;241m21\u001b[39m)\n",
      "\u001b[1;31mTypeError\u001b[0m: areaOfCicle() takes 0 positional arguments but 2 were given"
     ]
    }
   ],
   "source": [
    "areaOfCicle(21,21)"
   ]
  },
  {
   "cell_type": "code",
   "execution_count": 24,
   "id": "80c4c93d-b5bb-4b5e-a3b2-b8c5e8c9d0d3",
   "metadata": {},
   "outputs": [
    {
     "name": "stdin",
     "output_type": "stream",
     "text": [
      "enter the radius 21\n"
     ]
    },
    {
     "name": "stdout",
     "output_type": "stream",
     "text": [
      "1385.44\n"
     ]
    },
    {
     "data": {
      "text/plain": [
       "1385.44"
      ]
     },
     "execution_count": 24,
     "metadata": {},
     "output_type": "execute_result"
    }
   ],
   "source": [
    "import math \n",
    "try:\n",
    "    def areaOfCicle():\n",
    "        pii=math.pi\n",
    "        r=eval(input(\"enter the radius\"))\n",
    "        area= round(pii*(r*r),2)\n",
    "        print(area)\n",
    "        return (area11)\n",
    "        \n",
    "except exception as e:\n",
    "        print(e) \n",
    "\n",
    "areaOfCicle()"
   ]
  },
  {
   "cell_type": "code",
   "execution_count": 26,
   "id": "7713e6ff-f962-417c-bfa0-3d77b8b3bfbd",
   "metadata": {},
   "outputs": [
    {
     "ename": "TypeError",
     "evalue": "areaOfCicle() takes 0 positional arguments but 1 was given",
     "output_type": "error",
     "traceback": [
      "\u001b[1;31m---------------------------------------------------------------------------\u001b[0m",
      "\u001b[1;31mTypeError\u001b[0m                                 Traceback (most recent call last)",
      "Cell \u001b[1;32mIn[26], line 1\u001b[0m\n\u001b[1;32m----> 1\u001b[0m om\u001b[38;5;241m=\u001b[39mareaOfCicle(\u001b[38;5;241m21\u001b[39m)\n",
      "\u001b[1;31mTypeError\u001b[0m: areaOfCicle() takes 0 positional arguments but 1 was given"
     ]
    }
   ],
   "source": [
    "\n",
    "om=areaOfCicle(21)"
   ]
  },
  {
   "cell_type": "code",
   "execution_count": 34,
   "id": "e086e1ff-3748-4990-be76-3b4a6dc0a2a8",
   "metadata": {},
   "outputs": [
    {
     "name": "stdin",
     "output_type": "stream",
     "text": [
      "enter the radius 100\n"
     ]
    },
    {
     "name": "stdout",
     "output_type": "stream",
     "text": [
      "the area of circle is :  31415.927\n",
      "31415.927\n",
      "3.141592653589793\n"
     ]
    }
   ],
   "source": [
    "import math\n",
    "def area_of_circle():\n",
    "    pii=math.pi\n",
    "    r=eval(input(\"enter the radius\"))\n",
    "    area11=round(pii*r*r,3)\n",
    "    print(\"the area of circle is : \" , area11)\n",
    "    return(area11,pii)\n",
    "Area,Pi = area_of_circle()\n",
    "print(Area)\n",
    "print(Pi)"
   ]
  },
  {
   "cell_type": "markdown",
   "id": "4c4fc436-f50f-46a6-b031-ae04d72368c9",
   "metadata": {},
   "source": [
    "**return concept**\n"
   ]
  },
  {
   "cell_type": "markdown",
   "id": "3e07d61b-77f5-4b47-a863-9fed0c6c17f0",
   "metadata": {},
   "source": [
    "**global variable** vs *local variable*"
   ]
  },
  {
   "cell_type": "code",
   "execution_count": 1,
   "id": "4028076e-fc13-42a4-8ecc-bc73fad5b089",
   "metadata": {},
   "outputs": [
    {
     "name": "stdin",
     "output_type": "stream",
     "text": [
      "enter 1st number 20\n",
      "enter 2nd number 40\n",
      "enter 3rd number 10\n"
     ]
    },
    {
     "name": "stdout",
     "output_type": "stream",
     "text": [
      "40 is the greatest mumber\n"
     ]
    }
   ],
   "source": [
    "def numbers():\n",
    "    num1=eval(input(\"enter 1st number\"))\n",
    "    num2=eval(input(\"enter 2nd number\"))\n",
    "    num3=eval(input(\"enter 3rd number\"))\n",
    "    if num2<num1>num3:\n",
    "        print(num1,\"is the greatest mumber\")\n",
    "        a=num1\n",
    "\n",
    "    elif num2>num3:\n",
    "        print(num2,\"is the greatest mumber\")\n",
    "        a=num2\n",
    "\n",
    "    else:\n",
    "        print(num3,\"is the greatest mumber\")\n",
    "        a=num3\n",
    "\n",
    "    return(a)\n",
    "\n",
    "a=numbers()\n",
    "        \n",
    "    "
   ]
  },
  {
   "cell_type": "code",
   "execution_count": 5,
   "id": "1cafa8ad-7a8c-4bc1-89ee-a727262d1897",
   "metadata": {},
   "outputs": [
    {
     "name": "stdin",
     "output_type": "stream",
     "text": [
      "enter the first number : 20\n",
      "enter the second number : 20\n",
      "enter the number 2\n"
     ]
    },
    {
     "name": "stdout",
     "output_type": "stream",
     "text": [
      "0\n"
     ]
    }
   ],
   "source": [
    "\n",
    "def add(a,b):\n",
    "    print(a+b)\n",
    "\n",
    "def sub(a,b):\n",
    "    print(a-b)\n",
    "\n",
    "def mul(a,b):\n",
    "    print(a*b)\n",
    "\n",
    "def div(a,b):\n",
    "    print(a/b)\n",
    "\n",
    "def main():\n",
    "    a=eval(input(\"enter the first number :\"))\n",
    "    b=eval(input(\"enter the second number :\"))\n",
    "    num=eval(input(\"enter the number\"))\n",
    "    if num==1:\n",
    "        add(a,b)\n",
    "\n",
    "    elif num==2:\n",
    "        sub(a,b)\n",
    "\n",
    "    elif num==3:\n",
    "        mul(a,b)\n",
    "\n",
    "    else:\n",
    "        div(a,b)\n",
    "\n",
    "main()\n",
    "\n",
    "\n",
    "\n"
   ]
  },
  {
   "cell_type": "code",
   "execution_count": 9,
   "id": "a583325e-2555-4461-935a-d22ca7592fde",
   "metadata": {},
   "outputs": [
    {
     "name": "stdin",
     "output_type": "stream",
     "text": [
      "enter the number between 1 to 10 6\n"
     ]
    },
    {
     "name": "stdout",
     "output_type": "stream",
     "text": [
      "you lost\n"
     ]
    },
    {
     "name": "stdin",
     "output_type": "stream",
     "text": [
      "enter the number between 1 to 10 7\n"
     ]
    },
    {
     "name": "stdout",
     "output_type": "stream",
     "text": [
      "you lost\n"
     ]
    },
    {
     "name": "stdin",
     "output_type": "stream",
     "text": [
      "enter the number between 1 to 10 7\n"
     ]
    },
    {
     "name": "stdout",
     "output_type": "stream",
     "text": [
      "you lost\n"
     ]
    }
   ],
   "source": [
    "import random\n",
    "random_num =random.randint(1,10)\n",
    "for i in range(3):\n",
    "    user_num=eval(input(\"enter the number between 1 to 10\"))\n",
    "    if user_num==random_num:\n",
    "           \n",
    "           print(\"you won\")\n",
    "           break\n",
    "    else:\n",
    "           print(\"you lost\")\n",
    "          \n",
    "                  "
   ]
  },
  {
   "cell_type": "code",
   "execution_count": 11,
   "id": "19832550-7f31-41f5-9e82-94c451186dcf",
   "metadata": {},
   "outputs": [
    {
     "name": "stdin",
     "output_type": "stream",
     "text": [
      "enter how many chances you want 4\n",
      "enter the number between 1 to 10 3\n"
     ]
    },
    {
     "name": "stdout",
     "output_type": "stream",
     "text": [
      "you lost\n",
      "the number of chances left is: 3\n"
     ]
    },
    {
     "name": "stdin",
     "output_type": "stream",
     "text": [
      "enter the number between 1 to 10 4\n"
     ]
    },
    {
     "name": "stdout",
     "output_type": "stream",
     "text": [
      "you lost\n",
      "the number of chances left is: 2\n"
     ]
    },
    {
     "name": "stdin",
     "output_type": "stream",
     "text": [
      "enter the number between 1 to 10 5\n"
     ]
    },
    {
     "name": "stdout",
     "output_type": "stream",
     "text": [
      "you lost\n",
      "the number of chances left is: 1\n"
     ]
    }
   ],
   "source": [
    "import random\n",
    "random_num =random.randint(1,10)\n",
    "chances=eval(input(\"enter how many chances you want\"))\n",
    "for i in range(3):\n",
    "    user_num=eval(input(\"enter the number between 1 to 10\"))\n",
    "    if user_num==random_num:\n",
    "           \n",
    "           print(\"you won\")\n",
    "           break\n",
    "    else:\n",
    "           print(\"you lost\")\n",
    "           print(\"the number of chances left is:\",chances-1-i)"
   ]
  },
  {
   "cell_type": "code",
   "execution_count": 12,
   "id": "fd0d6c69-ce75-4f9a-a187-e66d3a601b92",
   "metadata": {},
   "outputs": [
    {
     "name": "stdin",
     "output_type": "stream",
     "text": [
      "enter how many chances you want 2\n",
      "enter the number between 1 to 10 9\n"
     ]
    },
    {
     "name": "stdout",
     "output_type": "stream",
     "text": [
      "you lost\n",
      "the number of chances left is: 1\n"
     ]
    },
    {
     "name": "stdin",
     "output_type": "stream",
     "text": [
      "enter the number between 1 to 10 7\n"
     ]
    },
    {
     "name": "stdout",
     "output_type": "stream",
     "text": [
      "plz try after sometime you lost\n"
     ]
    },
    {
     "name": "stdin",
     "output_type": "stream",
     "text": [
      "enter the number between 1 to 10 8\n"
     ]
    },
    {
     "name": "stdout",
     "output_type": "stream",
     "text": [
      "you lost\n",
      "the number of chances left is: -1\n"
     ]
    }
   ],
   "source": [
    "import random\n",
    "random_num =random.randint(1,10)\n",
    "chances=eval(input(\"enter how many chances you want\"))\n",
    "for i in range(3):\n",
    "    user_num=eval(input(\"enter the number between 1 to 10\"))\n",
    "    if user_num==random_num:\n",
    "           \n",
    "           print(\"you won\")\n",
    "           break\n",
    "    elif chances-1-i==0:\n",
    "           print(\"plz try after sometime you lost\")\n",
    "    else:\n",
    "           print(\"you lost\")\n",
    "           print(\"the number of chances left is:\",chances-1-i)"
   ]
  },
  {
   "cell_type": "code",
   "execution_count": null,
   "id": "cf4bf16a-4ac2-4233-a812-02aa5afba2cf",
   "metadata": {},
   "outputs": [],
   "source": []
  },
  {
   "cell_type": "code",
   "execution_count": null,
   "id": "16d116e7-8537-4ff4-a04c-4b2ba903fa7e",
   "metadata": {},
   "outputs": [],
   "source": []
  },
  {
   "cell_type": "code",
   "execution_count": null,
   "id": "24cb8237-22b5-48ba-80bf-5a5d114396eb",
   "metadata": {},
   "outputs": [],
   "source": []
  },
  {
   "cell_type": "code",
   "execution_count": null,
   "id": "0feaaec4-ec2b-4115-88de-0f98e2eb92de",
   "metadata": {},
   "outputs": [],
   "source": []
  }
 ],
 "metadata": {
  "kernelspec": {
   "display_name": "Python 3 (ipykernel)",
   "language": "python",
   "name": "python3"
  },
  "language_info": {
   "codemirror_mode": {
    "name": "ipython",
    "version": 3
   },
   "file_extension": ".py",
   "mimetype": "text/x-python",
   "name": "python",
   "nbconvert_exporter": "python",
   "pygments_lexer": "ipython3",
   "version": "3.12.4"
  }
 },
 "nbformat": 4,
 "nbformat_minor": 5
}
