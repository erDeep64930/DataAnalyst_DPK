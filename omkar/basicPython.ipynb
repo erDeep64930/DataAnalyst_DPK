{
 "cells": [
  {
   "cell_type": "markdown",
   "id": "7b4bd61c-d655-4b81-97d6-5984d633d210",
   "metadata": {},
   "source": [
    "**Data Scientist**"
   ]
  },
  {
   "cell_type": "markdown",
   "id": "f8cc1f35-8c56-420c-aa79-cbbe96fe144b",
   "metadata": {},
   "source": [
    "$EDA$ --*Exporatory Data Analysis*\n",
    "-"
   ]
  },
  {
   "cell_type": "raw",
   "id": "cefb62bc-dc5b-467c-8b56-29d034a11895",
   "metadata": {},
   "source": [
    "1.Numpy - {Numerical Python}\n",
    "2.Pandas - {Data base operation}\n",
    "3.Matplotlib - {plotting }\n",
    "4.Seaborn - {plotting}\n",
    "5.Bokhe - {plotting }\n"
   ]
  },
  {
   "cell_type": "markdown",
   "id": "ea2ce9f6-5e73-421c-b622-74b2bd078d32",
   "metadata": {},
   "source": [
    "$ML$ -- **Machine Learning**"
   ]
  },
  {
   "cell_type": "raw",
   "id": "9dbda8cd-af53-45d9-aad0-7cbb0153c787",
   "metadata": {},
   "source": [
    "SciKit learn -{used by data scientist}\n",
    "MLlib -{used by data engineer}"
   ]
  },
  {
   "cell_type": "markdown",
   "id": "721badc1-96d7-41bf-b1f5-d0cf0bb3238a",
   "metadata": {},
   "source": [
    "**Deep Learning**"
   ]
  },
  {
   "cell_type": "raw",
   "id": "b076633e-96f6-45a8-bdd1-fdf7ff33d863",
   "metadata": {},
   "source": [
    "1.Tensorflow\n",
    "2.keras\n",
    "3.pyTorch\n",
    "4.openCV"
   ]
  },
  {
   "cell_type": "markdown",
   "id": "c6a9f57c-80d9-457b-bdb3-cca829212bad",
   "metadata": {},
   "source": [
    "$NLP$ -- **Natural Learning Process**"
   ]
  },
  {
   "cell_type": "markdown",
   "id": "ed1c2632-5255-46cc-ac96-690dab337d39",
   "metadata": {},
   "source": [
    "1.mtk\n",
    "2.SciPy"
   ]
  },
  {
   "cell_type": "markdown",
   "id": "7a6f121e-4a6d-4777-9ee4-1145e0100b21",
   "metadata": {},
   "source": [
    "$BERT-MODEL$ --**Transformer**"
   ]
  },
  {
   "cell_type": "raw",
   "id": "7987a25f-0c08-4c96-abb4-a554600dd218",
   "metadata": {},
   "source": [
    "1.Azure ML package\n",
    "2.chat gpt package\n",
    "3.open CV\n",
    "4.FLASK\n",
    "5.streamLit\n"
   ]
  },
  {
   "cell_type": "markdown",
   "id": "0e9d4c57-5924-472a-b805-4d0bbc7e882f",
   "metadata": {},
   "source": [
    "$Deep Learning + NLP == Data Science$"
   ]
  },
  {
   "cell_type": "markdown",
   "id": "68e53ef2-fde7-4299-850e-5b5368873b01",
   "metadata": {},
   "source": [
    "# python package:-\n",
    "\n",
    "EDA = [numpy, pandas, matplotlib]\n",
    "\n",
    "ML = [skylean=python, MLlib=pyspark]\n",
    "\n",
    "DL = [tensorflow,keras,pytorch,opencv]\n",
    "\n",
    "NLP = [nltk,scipy]\n"
   ]
  },
  {
   "cell_type": "raw",
   "id": "531d4603-e9ca-43b7-a620-f8cdf6e2606c",
   "metadata": {},
   "source": [
    "x = 10  # Integer literal\n",
    "y = 3.14  # Float literal\n",
    "name = \"John\"  # String literal\n",
    "is_valid = True  # Boolean literal\n",
    "my_list = [1, 2, 3]  # List literal\n",
    "my_tuple = (4, 5, 6)  # Tuple literal\n",
    "my_dict = {'a': 1, 'b': 2}  # Dictionary literal"
   ]
  },
  {
   "cell_type": "markdown",
   "id": "5cfb33d2-eb3e-4954-847e-1ae70df623c9",
   "metadata": {},
   "source": [
    "$Literals$"
   ]
  },
  {
   "cell_type": "markdown",
   "id": "4e050e98-1aaf-4cdb-9d9c-1c1e59df8c29",
   "metadata": {},
   "source": [
    "--literals are fixed value that can't be changed in program\n",
    "--Literals are used to represent data types\n",
    "\n",
    "eg:-\n",
    "String, Charecter, boolean,etc.."
   ]
  },
  {
   "cell_type": "raw",
   "id": "57f1026e-9b24-4005-9230-ba385b93ac0d",
   "metadata": {},
   "source": [
    "Numeric Literals:\n",
    "\n",
    "Integers: Whole numbers, e.g., 42, -10, 0b1010 (binary), 0o12 (octal), 0x1A (hexadecimal).\n",
    "Floats: Decimal numbers, e.g., 3.14, -2.718, 1e-5 (scientific notation).\n",
    "Complex: Numbers with real and imaginary parts, e.g., 2 + 3j.\n",
    "\n",
    "String Literals:\n",
    "\n",
    "Single-quoted: Enclosed within single quotes, e.g., 'Hello'.\n",
    "Double-quoted: Enclosed within double quotes, e.g., \"World\".\n",
    "Triple-quoted: Enclosed within triple single or double quotes, e.g., `'''Multi-line\n",
    "string'''`, `\"\"\"Another multi-line\n",
    "string\"\"\"`.\n",
    "\n",
    "\n",
    "Boolean Literals:\n",
    "\n",
    "True\n",
    "False\n",
    "\n",
    "Sequence Literals:\n",
    "\n",
    "List: Enclosed within square brackets, e.g., [1, 2, 3].\n",
    "Tuple: Enclosed within parentheses, e.g., (1, 2, 3).\n",
    "\n",
    "Mapping Literal:\n",
    "\n",
    "Dictionary: Enclosed within curly braces, with key-value pairs separated by colons,\n",
    "e.g., {'name': 'Alice', 'age': 30}."
   ]
  },
  {
   "cell_type": "markdown",
   "id": "e10441c1-978c-436f-bfb0-6f64ac9b8c5e",
   "metadata": {},
   "source": [
    "$print() function$"
   ]
  },
  {
   "cell_type": "markdown",
   "id": "eae4c281-c44f-4699-82cc-226e365529e8",
   "metadata": {},
   "source": [
    "The print() function is a very versatile tool that is used to print anything\n",
    "in Python."
   ]
  },
  {
   "cell_type": "markdown",
   "id": "5adcd96e-8fe8-4a76-8882-dd1491018f04",
   "metadata": {},
   "source": [
    "# data type :-\n",
    "\n",
    "integer ---int\n",
    "\n",
    "float  ---float\n",
    "\n",
    "string  ----str\n",
    "\n",
    "boolean  ---bool\n",
    "\n",
    "complex  ----complex\n"
   ]
  },
  {
   "cell_type": "code",
   "execution_count": 4,
   "id": "e2ef4ad4-bfd5-4d76-a58b-7c5788376d56",
   "metadata": {},
   "outputs": [
    {
     "name": "stdout",
     "output_type": "stream",
     "text": [
      "Hello World!\n"
     ]
    }
   ],
   "source": [
    "# Simple print function\n",
    "print(\"Hello World!\")\n",
    "\n"
   ]
  },
  {
   "cell_type": "code",
   "execution_count": 5,
   "id": "8a316071-cbb7-40ef-85cb-f29fcf3ffb09",
   "metadata": {},
   "outputs": [
    {
     "name": "stdout",
     "output_type": "stream",
     "text": [
      "January 2010\n"
     ]
    }
   ],
   "source": [
    "# Concatenating string and integer literal\n",
    "print(\"January\", 2010)\n"
   ]
  },
  {
   "cell_type": "code",
   "execution_count": 7,
   "id": "d7f04962-e43c-4e54-aee8-a0814e78ddb0",
   "metadata": {},
   "outputs": [
    {
     "name": "stdout",
     "output_type": "stream",
     "text": [
      "this is string1 this is string2\n"
     ]
    }
   ],
   "source": [
    "# Concatenating two strings\n",
    "print(\"this is string1\", \"this is string2\")"
   ]
  },
  {
   "cell_type": "markdown",
   "id": "75de9081-3a4f-4a58-adeb-95cb10db992d",
   "metadata": {},
   "source": [
    "# format() function"
   ]
  },
  {
   "cell_type": "markdown",
   "id": "826c4b93-3d92-48cd-89b0-eccbae9c3993",
   "metadata": {},
   "source": [
    "Using this function, we can construct a string from information like variables..\n"
   ]
  },
  {
   "cell_type": "code",
   "execution_count": 12,
   "id": "3019136f-d7dd-4756-8d23-23ec36a59944",
   "metadata": {},
   "outputs": [
    {
     "name": "stdout",
     "output_type": "stream",
     "text": [
      "the addition of 10 and 20 is 30\n"
     ]
    }
   ],
   "source": [
    "n1=10\n",
    "n2=20\n",
    "add=n1+n2\n",
    "print(\"the addition of {} and {} is {}\".format(n1,n2,add))"
   ]
  },
  {
   "cell_type": "code",
   "execution_count": 14,
   "id": "dd0269b8-c816-4233-abab-cf01d3f8c068",
   "metadata": {},
   "outputs": [
    {
     "data": {
      "text/plain": [
       "'Python! Python! Python! '"
      ]
     },
     "execution_count": 14,
     "metadata": {},
     "output_type": "execute_result"
    }
   ],
   "source": [
    "string = 'Python! '\n",
    "string * 3"
   ]
  },
  {
   "cell_type": "code",
   "execution_count": 16,
   "id": "9bc4398c-b39f-4e0d-805e-d7bbc383f1f6",
   "metadata": {},
   "outputs": [
    {
     "data": {
      "text/plain": [
       "'E'"
      ]
     },
     "execution_count": 16,
     "metadata": {},
     "output_type": "execute_result"
    }
   ],
   "source": [
    "string = 'EPAT Handbook!'\n",
    "string[0] # 0 refers to an element E"
   ]
  },
  {
   "cell_type": "code",
   "execution_count": 28,
   "id": "f437d4aa-140f-444a-9970-67fdb0908c74",
   "metadata": {},
   "outputs": [
    {
     "data": {
      "text/plain": [
       "7"
      ]
     },
     "execution_count": 28,
     "metadata": {},
     "output_type": "execute_result"
    }
   ],
   "source": [
    "\n",
    "#\"\"\"Returns the sum of of two numbers\"\"\"\n",
    "\n",
    "def addition(a,b):\n",
    "   \n",
    "   return a+b\n",
    "addition(2,5)"
   ]
  },
  {
   "cell_type": "code",
   "execution_count": 31,
   "id": "0c4d8527-e55b-4cfa-bfab-c98f746e0095",
   "metadata": {},
   "outputs": [
    {
     "data": {
      "text/plain": [
       "120"
      ]
     },
     "execution_count": 31,
     "metadata": {},
     "output_type": "execute_result"
    }
   ],
   "source": [
    "def factorial(n):\n",
    "#\"\"\"Returns the factorial of n\"\"\"\n",
    "    i = 0\n",
    "    result = 1\n",
    "    while(i != n):\n",
    "      i = i + 1\n",
    "      result = result * i\n",
    "    return result\n",
    "\n",
    "factorial(5)"
   ]
  },
  {
   "cell_type": "raw",
   "id": "5386bb7b-3a82-4980-9372-d2c2da7fa51c",
   "metadata": {},
   "source": [
    "• Data Science : NumPy, pandas, SciPy, etc\n",
    "• Graphics : matplotlib, plotly, seaborn, bokeh, etc.\n",
    "• Statistics : statsmodels\n",
    "• Machine learning : SciKit-Learn, Keras, TensorFlow, Theano, etc.\n",
    "• Web scraping : Scrapy, BeautifulSoup,\n",
    "• GUI Toolkit : pyGtk, pyQT, wxPython, etc.\n",
    "• Web Development : Django, web2py, Flask, Pyramid, etc."
   ]
  },
  {
   "cell_type": "raw",
   "id": "558e07b1-2a86-40cd-9b54-34e36c9ff9ad",
   "metadata": {},
   "source": [
    "whenever you see () this mean function \n",
    "another name of functon is called \"method\"\n",
    "\n",
    "-inside bracket what you see are called parameter.\n",
    "\n",
    "-another name for parameter is called arguments\n",
    "\n"
   ]
  },
  {
   "cell_type": "code",
   "execution_count": 1,
   "id": "4373e633-5f55-4c8d-9b22-ecb052b14da1",
   "metadata": {},
   "outputs": [
    {
     "data": {
      "text/plain": [
       "tuple"
      ]
     },
     "execution_count": 1,
     "metadata": {},
     "output_type": "execute_result"
    }
   ],
   "source": [
    "s=(10,20,'Hello')\n",
    "type(s)\n"
   ]
  },
  {
   "cell_type": "code",
   "execution_count": 2,
   "id": "3bbd72b0-256b-47a4-8b75-223ed4049269",
   "metadata": {},
   "outputs": [
    {
     "ename": "AttributeError",
     "evalue": "'tuple' object has no attribute 'append'",
     "output_type": "error",
     "traceback": [
      "\u001b[1;31m---------------------------------------------------------------------------\u001b[0m",
      "\u001b[1;31mAttributeError\u001b[0m                            Traceback (most recent call last)",
      "Cell \u001b[1;32mIn[2], line 1\u001b[0m\n\u001b[1;32m----> 1\u001b[0m \u001b[43ms\u001b[49m\u001b[38;5;241;43m.\u001b[39;49m\u001b[43mappend\u001b[49m(\u001b[38;5;241m10\u001b[39m)\n",
      "\u001b[1;31mAttributeError\u001b[0m: 'tuple' object has no attribute 'append'"
     ]
    }
   ],
   "source": [
    " s.append(10)\n"
   ]
  },
  {
   "cell_type": "raw",
   "id": "8096a63f-0f6f-45e9-8d05-a53758666ea8",
   "metadata": {},
   "source": [
    "#If Else statement\r\n",
    "if(conditional statement):\r\n",
    "(statement to be executed)\r\n",
    "else:\r\n",
    "(alternate statement)"
   ]
  },
  {
   "cell_type": "code",
   "execution_count": 4,
   "id": "e58515b9-3bf7-4979-98b0-d499446f1051",
   "metadata": {},
   "outputs": [
    {
     "name": "stdin",
     "output_type": "stream",
     "text": [
      "Enter the value:- 43\n"
     ]
    },
    {
     "name": "stdout",
     "output_type": "stream",
     "text": [
      "No. is Odd\n"
     ]
    }
   ],
   "source": [
    "#eg\n",
    "A=eval(input(\"Enter the value:-\"))\n",
    "if A%2==0:\n",
    "   print(\"No. is Even\")\n",
    "else:\n",
    "   print(\"No. is Odd\")\n"
   ]
  },
  {
   "cell_type": "raw",
   "id": "309cd3f3-bede-4227-aea8-f5c97a19639a",
   "metadata": {},
   "source": [
    "3. If Else Elif statement\n",
    "if(conditional #1):\n",
    "(statement 1)\n",
    "elif(condition 2):\n",
    "(statement# 2)\n",
    "elif(cond 3):\n",
    "(3rd statement)\n",
    "else:\n",
    "(alternate statement)\n"
   ]
  },
  {
   "cell_type": "code",
   "execution_count": 6,
   "id": "da6c755a-1428-414b-9051-3c2c0e63524d",
   "metadata": {},
   "outputs": [
    {
     "name": "stdin",
     "output_type": "stream",
     "text": [
      "Enter your marks:- 78\n"
     ]
    },
    {
     "name": "stdout",
     "output_type": "stream",
     "text": [
      "first div\n"
     ]
    }
   ],
   "source": [
    "#eg.\n",
    "M=eval(input(\"Enter your marks:-\"))\n",
    "if M>=60:\n",
    "   print(\"first div\")\n",
    "elif 48<M<60:\n",
    "   print(\"Second div\")\n",
    "elif 33<M<48:\n",
    "   print(\"Third div\")\n",
    "else:\n",
    "   print(\"Student is Fail\")"
   ]
  },
  {
   "cell_type": "markdown",
   "id": "3e736eb4-fdbf-48f2-b659-81fc8f7a196e",
   "metadata": {},
   "source": [
    "# For Loop with Range() in Python"
   ]
  },
  {
   "cell_type": "markdown",
   "id": "bc7c21a5-fe84-44ab-91e9-465c82cceb79",
   "metadata": {},
   "source": [
    "It is used for repeatation and iteration\n"
   ]
  },
  {
   "cell_type": "code",
   "execution_count": 8,
   "id": "da5cf345-8508-4758-95fa-9ed4b751df79",
   "metadata": {},
   "outputs": [
    {
     "name": "stdout",
     "output_type": "stream",
     "text": [
      "2* 1 = 2\n",
      "2* 2 = 4\n",
      "2* 3 = 6\n",
      "2* 4 = 8\n",
      "2* 5 = 10\n",
      "2* 6 = 12\n",
      "2* 7 = 14\n",
      "2* 8 = 16\n",
      "2* 9 = 18\n",
      "2* 10 = 20\n"
     ]
    }
   ],
   "source": [
    "for N in range(1,11):\n",
    "  print('2*',N,'=',2*N)"
   ]
  },
  {
   "cell_type": "code",
   "execution_count": 10,
   "id": "cf945dd6-a294-4286-b2cd-ebc6872af3ae",
   "metadata": {},
   "outputs": [
    {
     "name": "stdout",
     "output_type": "stream",
     "text": [
      "5* 1 = 5\n",
      "5* 2 = 10\n",
      "5* 3 = 15\n",
      "5* 4 = 20\n",
      "5* 5 = 25\n",
      "5* 6 = 30\n",
      "5* 7 = 35\n",
      "5* 8 = 40\n",
      "5* 9 = 45\n",
      "5* 10 = 50\n",
      "5* 11 = 55\n",
      "5* 12 = 60\n",
      "5* 13 = 65\n",
      "5* 14 = 70\n"
     ]
    }
   ],
   "source": [
    " for z in range(1,15):\n",
    "   print('5*',z,'=',5*z)"
   ]
  },
  {
   "cell_type": "code",
   "execution_count": 12,
   "id": "d53edc34-bea9-4386-8d06-25c7dfc5aaeb",
   "metadata": {},
   "outputs": [
    {
     "name": "stdout",
     "output_type": "stream",
     "text": [
      "2* 10 = 20\n",
      "2* 9 = 18\n",
      "2* 8 = 16\n",
      "2* 7 = 14\n",
      "2* 6 = 12\n",
      "2* 5 = 10\n",
      "2* 4 = 8\n",
      "2* 3 = 6\n",
      "2* 2 = 4\n",
      "2* 1 = 2\n"
     ]
    }
   ],
   "source": [
    "## Reverse looping\n",
    "for a in range(10,0,-1):\n",
    "  print(\"2*\",a,'=',2*a)"
   ]
  },
  {
   "cell_type": "code",
   "execution_count": 13,
   "id": "38e2f1b4-a57e-40ca-8e5a-59cc0a0e6bd1",
   "metadata": {},
   "outputs": [
    {
     "name": "stdout",
     "output_type": "stream",
     "text": [
      "a\n",
      "a\n",
      "a\n",
      "b\n",
      "b\n",
      "3\n",
      "3\n",
      "3\n"
     ]
    }
   ],
   "source": [
    "for i in range(3):\n",
    "    print(\"a\")\n",
    "\n",
    "for i in range(2):\n",
    "    print(\"b\")\n",
    "\n",
    "for i in range(3):\n",
    "    print(\"3\")"
   ]
  },
  {
   "cell_type": "code",
   "execution_count": 14,
   "id": "a01494e6-78eb-4c41-9fad-2fb8ffbd5e12",
   "metadata": {},
   "outputs": [
    {
     "name": "stdout",
     "output_type": "stream",
     "text": [
      "the square of 10 is 100\n",
      "the square of 11 is 121\n",
      "the square of 12 is 144\n",
      "the square of 13 is 169\n",
      "the square of 14 is 196\n",
      "the square of 15 is 225\n"
     ]
    }
   ],
   "source": [
    "for i in range(10,16):\n",
    "    print(\"the square of {} is {}\".format(i,i*i))"
   ]
  },
  {
   "cell_type": "code",
   "execution_count": 15,
   "id": "2456b8ef-4ba1-40ed-91e8-ead1f3adc9fb",
   "metadata": {},
   "outputs": [
    {
     "name": "stdin",
     "output_type": "stream",
     "text": [
      "enter start number 4\n",
      "enter end number 8\n"
     ]
    },
    {
     "name": "stdout",
     "output_type": "stream",
     "text": [
      "the square of 4 is 16\n",
      "the square of 5 is 25\n",
      "the square of 6 is 36\n",
      "the square of 7 is 49\n"
     ]
    }
   ],
   "source": [
    "def square():\n",
    "    num1=eval(input(\"enter start number\"))\n",
    "    num2=eval(input(\"enter end number\"))\n",
    "\n",
    "    for i in range(num1,num2):\n",
    "       print(\"the square of {} is {}\".format(i,i*i))\n",
    "\n",
    "\n",
    "square()\n",
    "        "
   ]
  },
  {
   "cell_type": "code",
   "execution_count": 16,
   "id": "8924d4eb-923e-408b-a9f1-69df367e3e56",
   "metadata": {},
   "outputs": [
    {
     "name": "stdout",
     "output_type": "stream",
     "text": [
      "1+1 is :\n",
      "1\n",
      "3+2 is :\n",
      "3\n",
      "6+3 is :\n",
      "6\n",
      "10+4 is :\n",
      "10\n",
      "15+5 is :\n",
      "15\n",
      "21+6 is :\n",
      "21\n",
      "28+7 is :\n",
      "28\n",
      "36+8 is :\n",
      "36\n",
      "45+9 is :\n",
      "45\n",
      "55+10 is :\n",
      "55\n"
     ]
    }
   ],
   "source": [
    "sum=0\n",
    "for i in range(1,11):\n",
    "    \n",
    "    sum=sum+i\n",
    "    print(\"{}+{} is :\".format(sum,i))\n",
    "    print(sum)"
   ]
  },
  {
   "cell_type": "code",
   "execution_count": 17,
   "id": "795e13fe-d9f8-4790-ba3a-1e3beb6e6b39",
   "metadata": {},
   "outputs": [
    {
     "name": "stdout",
     "output_type": "stream",
     "text": [
      "the given number 25 is odd\n",
      "the given number 15 is odd\n",
      "the given number 28 is even\n",
      "the given number 22 is even\n",
      "the given number 25 is odd\n"
     ]
    }
   ],
   "source": [
    "import random \n",
    "for i in range(5):\n",
    "    num=random.randint(10,30)\n",
    "    if num%2==0:\n",
    "        print(\"the given number {} is even\".format(num))\n",
    "    else:\n",
    "        print(\"the given number {} is odd\".format(num))\n",
    "        "
   ]
  },
  {
   "cell_type": "code",
   "execution_count": 18,
   "id": "e03d60ae-89a2-4c9a-9918-21e6f489ad24",
   "metadata": {},
   "outputs": [
    {
     "name": "stdin",
     "output_type": "stream",
     "text": [
      "enter which number divisible you want to know: 65\n"
     ]
    }
   ],
   "source": [
    "num= eval(input(\"enter which number divisible you want to know:\"))\n",
    "for i in range (1,num+1):\n",
    "    if(num/i)%2==0:\n",
    "        print(\"{} is divisible by {}\".format(num,i))"
   ]
  },
  {
   "cell_type": "code",
   "execution_count": 19,
   "id": "5ef53ab7-e636-4b13-9d6f-6c82d592d733",
   "metadata": {},
   "outputs": [
    {
     "data": {
      "text/plain": [
       "[0, 1, 8, 27, 64, 125, 216, 343, 512, 729]"
      ]
     },
     "execution_count": 19,
     "metadata": {},
     "output_type": "execute_result"
    }
   ],
   "source": [
    "[i**3 for i in range(0,10)]"
   ]
  },
  {
   "cell_type": "code",
   "execution_count": 22,
   "id": "1d29ab29-df81-4a49-8ba7-3ade1383f41a",
   "metadata": {},
   "outputs": [
    {
     "data": {
      "text/plain": [
       "list"
      ]
     },
     "execution_count": 22,
     "metadata": {},
     "output_type": "execute_result"
    }
   ],
   "source": [
    "x = [10,20,30,40,50,60]\n",
    "type(x)"
   ]
  },
  {
   "cell_type": "code",
   "execution_count": 25,
   "id": "c99d1444-a3eb-4238-bc49-b2a8e3be142e",
   "metadata": {},
   "outputs": [
    {
     "data": {
      "text/plain": [
       "list"
      ]
     },
     "execution_count": 25,
     "metadata": {},
     "output_type": "execute_result"
    }
   ],
   "source": [
    "y = ([10,20,30,40,50,60])\n",
    "type(y)"
   ]
  },
  {
   "cell_type": "markdown",
   "id": "60365963-e917-4bec-8b9e-28cf5b534789",
   "metadata": {},
   "source": [
    "# List"
   ]
  },
  {
   "cell_type": "markdown",
   "id": "6065bdf6-4329-4b24-9407-a62f206d4568",
   "metadata": {},
   "source": [
    "                                                - Lists are just like the arrays , declared in other \n",
    "                                                languages which is a ordered collection of data.\n",
    "                                                - It\r",
    "                                                \n",
    "is very flexible as the items in a list do not need t                                                 \r\n",
    "be of the same typ\n",
    "                                                - list elements are hetrogenous (diffrent) data types are allowede."
   ]
  },
  {
   "cell_type": "code",
   "execution_count": 29,
   "id": "eaa0040a-d1c2-4b69-95db-31d82b3d1906",
   "metadata": {},
   "outputs": [
    {
     "data": {
      "text/plain": [
       "list"
      ]
     },
     "execution_count": 29,
     "metadata": {},
     "output_type": "execute_result"
    }
   ],
   "source": [
    "list1=[1,1,2,3,4,\"a\",\"b\",3+5j]\n",
    "type(list1)"
   ]
  },
  {
   "cell_type": "code",
   "execution_count": 32,
   "id": "e2f28d68-2c97-4f0b-b6cc-f85860401c26",
   "metadata": {},
   "outputs": [
    {
     "data": {
      "text/plain": [
       "(3+5j)"
      ]
     },
     "execution_count": 32,
     "metadata": {},
     "output_type": "execute_result"
    }
   ],
   "source": [
    "list1[7]"
   ]
  },
  {
   "cell_type": "code",
   "execution_count": 33,
   "id": "8497a523-a29d-42c7-928a-f510dcfc6013",
   "metadata": {},
   "outputs": [
    {
     "data": {
      "text/plain": [
       "complex"
      ]
     },
     "execution_count": 33,
     "metadata": {},
     "output_type": "execute_result"
    }
   ],
   "source": [
    "type(list1[7])"
   ]
  },
  {
   "cell_type": "code",
   "execution_count": 34,
   "id": "71215324-1eed-47fe-bc47-453694b9077c",
   "metadata": {},
   "outputs": [
    {
     "data": {
      "text/plain": [
       "['virat.kohli@blr.com', 'rohit.sharma@mumbai.com', 'kl.rahul@lucknow.com']"
      ]
     },
     "execution_count": 34,
     "metadata": {},
     "output_type": "execute_result"
    }
   ],
   "source": [
    "s1=\"virat.kohli@blr.com,rohit.sharma@mumbai.com,kl.rahul@lucknow.com\" \n",
    "s1.split(\",\")"
   ]
  },
  {
   "cell_type": "code",
   "execution_count": 35,
   "id": "fb6c4334-a2b6-492f-aa6d-2683d66d24bd",
   "metadata": {},
   "outputs": [
    {
     "name": "stdout",
     "output_type": "stream",
     "text": [
      "virat\n"
     ]
    }
   ],
   "source": [
    "s1=\"virat.kohli@blr.com,rohit.sharma@mumbai.com,kl.rahul@lucknow.com\"\n",
    "str1=\"virat.kohli@blr.com\"\n",
    "first_name=str1[:str1.find(\".\")]\n",
    "print(first_name)"
   ]
  },
  {
   "cell_type": "code",
   "execution_count": 36,
   "id": "224e1552-06c3-4133-b0a0-da8b7410ddf9",
   "metadata": {},
   "outputs": [
    {
     "name": "stdout",
     "output_type": "stream",
     "text": [
      "virat\n",
      "kohli\n",
      "blr\n"
     ]
    }
   ],
   "source": [
    "s1=\"virat.kohli@blr.com,rohit.sharma@mumbai.com,kl.rahul@lucknow.com\"\n",
    "str1=\"virat.kohli@blr.com\"\n",
    "f_name=str1[:str1.find(\".\")]\n",
    "s_name=str1[str1.find(\".\")+1:str1.find(\"@\")]\n",
    "c_name=str1[str1.find(\"@\")+1:str1.find(\".\",str1.find(\".\")+1)]\n",
    "print(f_name)\n",
    "print(s_name)\n",
    "print(c_name)  "
   ]
  },
  {
   "cell_type": "code",
   "execution_count": null,
   "id": "1bcfa294-3a29-4c7a-98fa-889428b4e55b",
   "metadata": {},
   "outputs": [],
   "source": []
  },
  {
   "cell_type": "code",
   "execution_count": null,
   "id": "8bf0efe2-2da8-4987-a7b5-d5acdb8f51a1",
   "metadata": {},
   "outputs": [],
   "source": []
  },
  {
   "cell_type": "code",
   "execution_count": null,
   "id": "8b870182-ac72-4603-af94-ee784568b22c",
   "metadata": {},
   "outputs": [],
   "source": []
  },
  {
   "cell_type": "code",
   "execution_count": null,
   "id": "c887bef6-756c-4695-a8a1-d309be66243a",
   "metadata": {},
   "outputs": [],
   "source": []
  },
  {
   "cell_type": "code",
   "execution_count": null,
   "id": "5b4e3a6c-401d-4dda-a176-511243070d1c",
   "metadata": {},
   "outputs": [],
   "source": []
  },
  {
   "cell_type": "code",
   "execution_count": null,
   "id": "a49a86cc-4ea2-414b-928f-e3f6c9f3e376",
   "metadata": {},
   "outputs": [],
   "source": []
  },
  {
   "cell_type": "code",
   "execution_count": null,
   "id": "ecf01b0f-a39b-434c-bc61-54ed6ce9b6ff",
   "metadata": {},
   "outputs": [],
   "source": []
  },
  {
   "cell_type": "code",
   "execution_count": null,
   "id": "79241170-b514-44d2-997f-89d5d1430579",
   "metadata": {},
   "outputs": [],
   "source": []
  },
  {
   "cell_type": "code",
   "execution_count": null,
   "id": "6299ed0c-b4c0-4ca8-9d9b-0fcce1f46025",
   "metadata": {},
   "outputs": [],
   "source": []
  },
  {
   "cell_type": "code",
   "execution_count": null,
   "id": "105cdd4c-32a7-4cb5-be48-0446e3202110",
   "metadata": {},
   "outputs": [],
   "source": []
  },
  {
   "cell_type": "code",
   "execution_count": null,
   "id": "982054e9-f97c-4752-83cf-95e5f58ce311",
   "metadata": {},
   "outputs": [],
   "source": []
  },
  {
   "cell_type": "code",
   "execution_count": null,
   "id": "be5a5cf3-7ac9-4d8c-8a0e-ff0893677f1d",
   "metadata": {},
   "outputs": [],
   "source": []
  },
  {
   "cell_type": "code",
   "execution_count": null,
   "id": "6d05e358-25b4-45b8-8794-957bdccab262",
   "metadata": {},
   "outputs": [],
   "source": []
  },
  {
   "cell_type": "code",
   "execution_count": null,
   "id": "5b7d98d0-95a8-4531-84eb-936d7940166a",
   "metadata": {},
   "outputs": [],
   "source": []
  },
  {
   "cell_type": "code",
   "execution_count": null,
   "id": "4144ac97-021c-42d4-854e-0371e91e5406",
   "metadata": {},
   "outputs": [],
   "source": []
  }
 ],
 "metadata": {
  "kernelspec": {
   "display_name": "Python 3 (ipykernel)",
   "language": "python",
   "name": "python3"
  },
  "language_info": {
   "codemirror_mode": {
    "name": "ipython",
    "version": 3
   },
   "file_extension": ".py",
   "mimetype": "text/x-python",
   "name": "python",
   "nbconvert_exporter": "python",
   "pygments_lexer": "ipython3",
   "version": "3.12.4"
  }
 },
 "nbformat": 4,
 "nbformat_minor": 5
}
