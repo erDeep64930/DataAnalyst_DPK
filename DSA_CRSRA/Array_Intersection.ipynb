{
 "cells": [
  {
   "cell_type": "markdown",
   "id": "c7082743-4ff5-445a-b291-25e1abacffa9",
   "metadata": {},
   "source": [
    "## Give two array , write a python program funnction to find the intersection of both array (i.e, cooin elements)."
   ]
  },
  {
   "cell_type": "code",
   "execution_count": 1,
   "id": "ab4da6e8-4a11-4642-b42d-989fdcc72082",
   "metadata": {},
   "outputs": [
    {
     "name": "stdout",
     "output_type": "stream",
     "text": [
      "[4 5 6]\n",
      "<class 'numpy.ndarray'>\n"
     ]
    }
   ],
   "source": [
    "import numpy as np\n",
    "\n",
    "x1 = np.array([1, 2, 3, 4, 5, 6])\n",
    "x2 = np.array([4, 5, 6, 7, 8, 9])\n",
    "\n",
    "def array_intersection(x1, x2):\n",
    "    new_arr = []\n",
    "    for i in x1:\n",
    "        if i in x2:\n",
    "            new_arr.append(i)\n",
    "    return np.array(new_arr)\n",
    "\n",
    "\n",
    "result = array_intersection(x1, x2)\n",
    "\n",
    "\n",
    "print(result)  \n",
    "print(type(result))  \n",
    "\n"
   ]
  },
  {
   "cell_type": "code",
   "execution_count": 2,
   "id": "36c15009-fd75-4e9c-87cc-44d5c23fb085",
   "metadata": {},
   "outputs": [
    {
     "name": "stdout",
     "output_type": "stream",
     "text": [
      "[4 5 6]\n"
     ]
    }
   ],
   "source": [
    "import numpy as np\n",
    "\n",
    "x1 = np.array([1, 2, 3, 4, 5, 6])\n",
    "x2 = np.array([4, 5, 6, 7, 8, 9])\n",
    "\n",
    "result = np.intersect1d(x1, x2)\n",
    "\n",
    "print(result)  "
   ]
  },
  {
   "cell_type": "code",
   "execution_count": null,
   "id": "1eca1571-5f85-4bfa-a250-e5f564fd990c",
   "metadata": {},
   "outputs": [],
   "source": []
  }
 ],
 "metadata": {
  "kernelspec": {
   "display_name": "Python 3 (ipykernel)",
   "language": "python",
   "name": "python3"
  },
  "language_info": {
   "codemirror_mode": {
    "name": "ipython",
    "version": 3
   },
   "file_extension": ".py",
   "mimetype": "text/x-python",
   "name": "python",
   "nbconvert_exporter": "python",
   "pygments_lexer": "ipython3",
   "version": "3.12.4"
  }
 },
 "nbformat": 4,
 "nbformat_minor": 5
}
