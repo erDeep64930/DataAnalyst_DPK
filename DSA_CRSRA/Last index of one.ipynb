{
 "cells": [
  {
   "cell_type": "markdown",
   "id": "f653271d-8b32-4920-9945-0f643b944cab",
   "metadata": {},
   "source": [
    "## Last index of one "
   ]
  },
  {
   "cell_type": "code",
   "execution_count": 4,
   "id": "35e06b93-5118-4062-aaf2-a021e03e9bc4",
   "metadata": {},
   "outputs": [
    {
     "name": "stdout",
     "output_type": "stream",
     "text": [
      "Last index of one: 5\n"
     ]
    }
   ],
   "source": [
    "import numpy as np\n",
    "\n",
    "x = np.array([0, 1, 0, 1, 1, 1, 0])\n",
    "\n",
    "def last_occurrence_1(x):\n",
    "    index = -1  \n",
    "    for i in range(len(x)):\n",
    "        if x[i] == 1:\n",
    "            index = i \n",
    "    return index\n",
    "\n",
    "print(\"Last index of one:\", last_occurrence_1(x))\n"
   ]
  },
  {
   "cell_type": "code",
   "execution_count": 5,
   "id": "b452e6e0-5468-4e60-ad4e-1426453b18d0",
   "metadata": {},
   "outputs": [
    {
     "name": "stdout",
     "output_type": "stream",
     "text": [
      "Processed list: [1, 1, 1, 1, 1, 1, 2, 1, 3, 1]\n"
     ]
    }
   ],
   "source": [
    "import numpy as np\n",
    "\n",
    "x = np.array([0, 1, 0, 1, 1, 1, 0, 0, 1, 0, 0, 0, 1])\n",
    "\n",
    "def count_and_store(x):\n",
    "    result = []  \n",
    "    zero_count = 0 \n",
    "\n",
    "    for value in x:\n",
    "        if value == 1:\n",
    "            if zero_count > 0:\n",
    "                result.append(zero_count) \n",
    "                zero_count = 0  \n",
    "                result.append(1)\n",
    "        else:\n",
    "            zero_count += 1  \n",
    "\n",
    "   \n",
    "    if zero_count > 0:\n",
    "        result.append(zero_count)\n",
    "\n",
    "    return result\n",
    "\n",
    "print(\"Processed list:\", count_and_store(x))\n"
   ]
  },
  {
   "cell_type": "code",
   "execution_count": null,
   "id": "7bfb281c-504f-4a28-8a5a-49bea0f19072",
   "metadata": {},
   "outputs": [],
   "source": []
  }
 ],
 "metadata": {
  "kernelspec": {
   "display_name": "Python 3 (ipykernel)",
   "language": "python",
   "name": "python3"
  },
  "language_info": {
   "codemirror_mode": {
    "name": "ipython",
    "version": 3
   },
   "file_extension": ".py",
   "mimetype": "text/x-python",
   "name": "python",
   "nbconvert_exporter": "python",
   "pygments_lexer": "ipython3",
   "version": "3.12.4"
  }
 },
 "nbformat": 4,
 "nbformat_minor": 5
}
