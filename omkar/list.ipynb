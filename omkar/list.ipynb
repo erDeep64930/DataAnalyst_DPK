{
 "cells": [
  {
   "cell_type": "markdown",
   "id": "2c8c5b9f-a947-4e99-94a7-dba707b3dc35",
   "metadata": {},
   "source": [
    "$List$"
   ]
  },
  {
   "cell_type": "code",
   "execution_count": null,
   "id": "561df3ba-0601-4f2b-aa9a-c89b40cf8e42",
   "metadata": {},
   "outputs": [],
   "source": [
    "- list is an array of elements [number | string]\n",
    "- list elements are hetrogenous (diffrent) data types are allowed\n"
   ]
  },
  {
   "cell_type": "code",
   "execution_count": 2,
   "id": "0d20a499-db7c-432e-a896-948059705c83",
   "metadata": {},
   "outputs": [
    {
     "data": {
      "text/plain": [
       "[1, 2, 3, 4]"
      ]
     },
     "execution_count": 2,
     "metadata": {},
     "output_type": "execute_result"
    }
   ],
   "source": [
    "list1=[1,2,3,4]\n",
    "list1"
   ]
  },
  {
   "cell_type": "code",
   "execution_count": 3,
   "id": "bdd0e2ad-7631-4da2-890e-82d45ded2915",
   "metadata": {},
   "outputs": [
    {
     "data": {
      "text/plain": [
       "['a', 'b', 'c']"
      ]
     },
     "execution_count": 3,
     "metadata": {},
     "output_type": "execute_result"
    }
   ],
   "source": [
    "list2=[\"a\",\"b\",\"c\"]\n",
    "list2"
   ]
  },
  {
   "cell_type": "code",
   "execution_count": 4,
   "id": "10656c95-2e4d-4e23-a69a-00a32d5e6399",
   "metadata": {},
   "outputs": [
    {
     "data": {
      "text/plain": [
       "[10, 10, 10]"
      ]
     },
     "execution_count": 4,
     "metadata": {},
     "output_type": "execute_result"
    }
   ],
   "source": [
    "list3=[10,10,10]\n",
    "list3"
   ]
  },
  {
   "cell_type": "code",
   "execution_count": null,
   "id": "28a963d5-2527-4d4c-9d25-13b19a83a9b3",
   "metadata": {},
   "outputs": [],
   "source": [
    "- in list duplicate are allowed\n"
   ]
  },
  {
   "cell_type": "code",
   "execution_count": 5,
   "id": "6b8c62ef-dbbd-4398-a980-a32a633fa9d4",
   "metadata": {},
   "outputs": [
    {
     "data": {
      "text/plain": [
       "[[1, 2, 3, 4]]"
      ]
     },
     "execution_count": 5,
     "metadata": {},
     "output_type": "execute_result"
    }
   ],
   "source": [
    "list4=[[1,2,3,4]]\n",
    "list4"
   ]
  },
  {
   "cell_type": "code",
   "execution_count": null,
   "id": "86ce0795-f132-4160-afd4-94ba7189ab75",
   "metadata": {},
   "outputs": [],
   "source": [
    "- list in list also work\n"
   ]
  },
  {
   "cell_type": "code",
   "execution_count": 7,
   "id": "e77e84f6-37d0-47a3-a67c-643eaa344987",
   "metadata": {},
   "outputs": [
    {
     "data": {
      "text/plain": [
       "list"
      ]
     },
     "execution_count": 7,
     "metadata": {},
     "output_type": "execute_result"
    }
   ],
   "source": [
    "type(list2)"
   ]
  },
  {
   "cell_type": "code",
   "execution_count": 8,
   "id": "bb33d804-1aa7-44a8-8173-b1d85958fd3b",
   "metadata": {},
   "outputs": [
    {
     "data": {
      "text/plain": [
       "'c'"
      ]
     },
     "execution_count": 8,
     "metadata": {},
     "output_type": "execute_result"
    }
   ],
   "source": [
    "max(list2)"
   ]
  },
  {
   "cell_type": "code",
   "execution_count": null,
   "id": "14b23cf8-d3f5-418f-a649-d566f9fe8f01",
   "metadata": {},
   "outputs": [],
   "source": [
    "- in list we cannot compare diffrent data types\n",
    " "
   ]
  },
  {
   "cell_type": "code",
   "execution_count": 9,
   "id": "d289c3a4-4adc-4719-8b6b-aa20c95a1633",
   "metadata": {},
   "outputs": [
    {
     "name": "stdout",
     "output_type": "stream",
     "text": [
      "0\n",
      "1\n",
      "2\n",
      "3\n",
      "4\n",
      "5\n",
      "6\n",
      "7\n"
     ]
    }
   ],
   "source": [
    "list3=[1,2,3,4,5]\n",
    "\n",
    "#python index start with 0\n",
    "for i in range(8):\n",
    "    print(i)"
   ]
  },
  {
   "cell_type": "code",
   "execution_count": 10,
   "id": "ef8b09b3-7471-4757-87bc-a52b5c004e38",
   "metadata": {},
   "outputs": [
    {
     "name": "stdout",
     "output_type": "stream",
     "text": [
      "0 1\n",
      "1 2\n",
      "2 3\n",
      "3 4\n",
      "4 5\n"
     ]
    }
   ],
   "source": [
    "for i in range(len(list3)):\n",
    "    print(i,list3[i])\n"
   ]
  },
  {
   "cell_type": "code",
   "execution_count": 12,
   "id": "7bd47a97-2d60-4404-9521-7e4104f54d7f",
   "metadata": {},
   "outputs": [
    {
     "name": "stdout",
     "output_type": "stream",
     "text": [
      "positive index is: 0 and negative index is -8: for an elements a\n",
      "positive index is: 1 and negative index is -7: for an elements b\n",
      "positive index is: 2 and negative index is -6: for an elements c\n",
      "positive index is: 3 and negative index is -5: for an elements d\n",
      "positive index is: 4 and negative index is -4: for an elements 1\n",
      "positive index is: 5 and negative index is -3: for an elements 2\n",
      "positive index is: 6 and negative index is -2: for an elements 3\n",
      "positive index is: 7 and negative index is -1: for an elements 4\n"
     ]
    }
   ],
   "source": [
    "list3=[\"a\",\"b\",\"c\",\"d\",1,2,3,4]\n",
    "for i in range(len(list3)):\n",
    "    print('positive index is: {} and negative index is {}: for an elements {}'.format(i,i-len(list3),list3[i]))"
   ]
  },
  {
   "cell_type": "code",
   "execution_count": 14,
   "id": "bd823275-50d9-4064-b631-c8d4696454cd",
   "metadata": {},
   "outputs": [
    {
     "name": "stdout",
     "output_type": "stream",
     "text": [
      "apple\n",
      "ball\n",
      "cat\n",
      "dog\n",
      "ab\n",
      "bc\n",
      "cd\n"
     ]
    }
   ],
   "source": [
    "#wap find the elements which are having len<3\n",
    "list4=[\"apple\",\"ball\",\"cat\",\"dog\",\"ab\",\"bc\",\"cd\"]\n",
    "for i in range(len(list4)):\n",
    "    print(list4[i])\n"
   ]
  },
  {
   "cell_type": "code",
   "execution_count": 15,
   "id": "5292309a-d96f-4612-95b4-0da747f43276",
   "metadata": {},
   "outputs": [
    {
     "name": "stdout",
     "output_type": "stream",
     "text": [
      "ab\n",
      "bc\n",
      "cd\n"
     ]
    }
   ],
   "source": [
    "#wap find the elements which are having len<3\n",
    "list4=[\"apple\",\"ball\",\"cat\",\"dog\",\"ab\",\"bc\",\"cd\"]\n",
    "for i in range(len(list4)):\n",
    "    if len(list4[i])<3:\n",
    "      print(list4[i])"
   ]
  },
  {
   "cell_type": "code",
   "execution_count": 1,
   "id": "88f3ae40-3da2-48c6-a0d8-6c175fdd2ee3",
   "metadata": {},
   "outputs": [
    {
     "name": "stdout",
     "output_type": "stream",
     "text": [
      "apple\n",
      "ball\n"
     ]
    }
   ],
   "source": [
    "#wap find the elements which are having len>3\n",
    "list4=[\"apple\",\"ball\",\"cat\",\"dog\",\"ab\",\"bc\",\"cd\"]\n",
    "for i in range(len(list4)):\n",
    "    if len(list4[i])>3:\n",
    "      print(list4[i])"
   ]
  },
  {
   "cell_type": "code",
   "execution_count": 16,
   "id": "135868c9-784b-48cb-9a8f-19df7730caa2",
   "metadata": {},
   "outputs": [
    {
     "data": {
      "text/plain": [
       "'ball'"
      ]
     },
     "execution_count": 16,
     "metadata": {},
     "output_type": "execute_result"
    }
   ],
   "source": [
    "list1=[1,2,3,4,[\"apple\",\"ball\",\"cat\"]]\n",
    "#retrive the ball using the index\n",
    "list1[4][1]  \n",
    "               \n"
   ]
  },
  {
   "cell_type": "code",
   "execution_count": 19,
   "id": "3dd717cf-4304-4639-afbe-1ab24a10c355",
   "metadata": {},
   "outputs": [
    {
     "data": {
      "text/plain": [
       "'mango'"
      ]
     },
     "execution_count": 19,
     "metadata": {},
     "output_type": "execute_result"
    }
   ],
   "source": [
    "list2=[[[[[\"mango\"]]]]];\n",
    "list2[0][0][0][0][0]\n"
   ]
  },
  {
   "cell_type": "code",
   "execution_count": 1,
   "id": "972ab51d-e0cb-41b5-bf6c-013ae699eb21",
   "metadata": {},
   "outputs": [
    {
     "name": "stdout",
     "output_type": "stream",
     "text": [
      "[[['a', 'b', [[[1, 2, 3, ['car']]]]]]]\n"
     ]
    }
   ],
   "source": [
    "list3=[[[[\"a\",\"b\",[[[1,2,3,[\"car\"]]]]]]]]\n",
    "for i in list3:\n",
    "    print(i)\n",
    "#retrive the car"
   ]
  },
  {
   "cell_type": "code",
   "execution_count": 24,
   "id": "bc9500e1-701d-4b60-be37-5bef8d31db0e",
   "metadata": {},
   "outputs": [
    {
     "data": {
      "text/plain": [
       "'car'"
      ]
     },
     "execution_count": 24,
     "metadata": {},
     "output_type": "execute_result"
    }
   ],
   "source": [
    "list3[0][0][0][2][0][0][3][0]"
   ]
  },
  {
   "cell_type": "markdown",
   "id": "38b65838-258c-485a-977d-2eda22fb17a6",
   "metadata": {},
   "source": [
    "    $Mutable$    "
   ]
  },
  {
   "cell_type": "code",
   "execution_count": 25,
   "id": "c6f7c9e1-0715-4ec8-929d-d8bf4b2c0cd5",
   "metadata": {},
   "outputs": [
    {
     "data": {
      "text/plain": [
       "[100, 'b', 'c']"
      ]
     },
     "execution_count": 25,
     "metadata": {},
     "output_type": "execute_result"
    }
   ],
   "source": [
    "list1=[\"a\",\"b\",\"c\"]\n",
    "list1[0]=100\n",
    "list1"
   ]
  },
  {
   "cell_type": "code",
   "execution_count": 30,
   "id": "4ebe7314-dca3-44af-9bcc-018882a0ae3c",
   "metadata": {},
   "outputs": [
    {
     "name": "stdout",
     "output_type": "stream",
     "text": [
      "[]\n"
     ]
    }
   ],
   "source": [
    "list1=[10,20,30,40,50,\"p\",\"y\",\"t\",\"h\",\"o\",\"n\",\"a\",\"b\",\"c\",\"d\",\"e\"]\n",
    "list1[2:14:3]\n",
    "print(list1[2:-14:-3])"
   ]
  },
  {
   "cell_type": "code",
   "execution_count": 27,
   "id": "31df9b18-0579-4382-aa10-fc08a16a0312",
   "metadata": {},
   "outputs": [
    {
     "data": {
      "text/plain": [
       "[]"
      ]
     },
     "execution_count": 27,
     "metadata": {},
     "output_type": "execute_result"
    }
   ],
   "source": [
    "list1[2:14:-3]"
   ]
  },
  {
   "cell_type": "code",
   "execution_count": 28,
   "id": "e1d4fb71-31a4-4dbb-a627-3e97f7d65db7",
   "metadata": {},
   "outputs": [
    {
     "data": {
      "text/plain": [
       "[]"
      ]
     },
     "execution_count": 28,
     "metadata": {},
     "output_type": "execute_result"
    }
   ],
   "source": [
    "list1[2:-14:-3]"
   ]
  },
  {
   "cell_type": "code",
   "execution_count": 31,
   "id": "0f083c47-eb42-45f7-aa42-1556bf02a3a4",
   "metadata": {},
   "outputs": [
    {
     "data": {
      "text/plain": [
       "['__add__',\n",
       " '__class__',\n",
       " '__class_getitem__',\n",
       " '__contains__',\n",
       " '__delattr__',\n",
       " '__delitem__',\n",
       " '__dir__',\n",
       " '__doc__',\n",
       " '__eq__',\n",
       " '__format__',\n",
       " '__ge__',\n",
       " '__getattribute__',\n",
       " '__getitem__',\n",
       " '__getstate__',\n",
       " '__gt__',\n",
       " '__hash__',\n",
       " '__iadd__',\n",
       " '__imul__',\n",
       " '__init__',\n",
       " '__init_subclass__',\n",
       " '__iter__',\n",
       " '__le__',\n",
       " '__len__',\n",
       " '__lt__',\n",
       " '__mul__',\n",
       " '__ne__',\n",
       " '__new__',\n",
       " '__reduce__',\n",
       " '__reduce_ex__',\n",
       " '__repr__',\n",
       " '__reversed__',\n",
       " '__rmul__',\n",
       " '__setattr__',\n",
       " '__setitem__',\n",
       " '__sizeof__',\n",
       " '__str__',\n",
       " '__subclasshook__',\n",
       " 'append',\n",
       " 'clear',\n",
       " 'copy',\n",
       " 'count',\n",
       " 'extend',\n",
       " 'index',\n",
       " 'insert',\n",
       " 'pop',\n",
       " 'remove',\n",
       " 'reverse',\n",
       " 'sort']"
      ]
     },
     "execution_count": 31,
     "metadata": {},
     "output_type": "execute_result"
    }
   ],
   "source": [
    "dir([])"
   ]
  },
  {
   "cell_type": "code",
   "execution_count": null,
   "id": "103a7aad-3c11-4903-a0c0-9423e0fcb4d5",
   "metadata": {},
   "outputs": [],
   "source": [
    "method in list:-\n"
   ]
  },
  {
   "cell_type": "code",
   "execution_count": 33,
   "id": "edc0451d-6cba-4af1-8401-f5242764de76",
   "metadata": {},
   "outputs": [
    {
     "name": "stdout",
     "output_type": "stream",
     "text": [
      "[1, 2, 3, 4]\n"
     ]
    }
   ],
   "source": [
    "list1=[1,2,3,4]\n",
    "\n",
    "list2=list1.copy()\n",
    "print(list2)"
   ]
  },
  {
   "cell_type": "code",
   "execution_count": 34,
   "id": "40eb7d6b-8748-4e75-909e-0ca2354f0c97",
   "metadata": {},
   "outputs": [
    {
     "name": "stdout",
     "output_type": "stream",
     "text": [
      "[]\n",
      "[1, 2, 3, 4]\n"
     ]
    }
   ],
   "source": [
    "list1.clear()\n",
    "print(list1)\n",
    "print(list2)"
   ]
  },
  {
   "cell_type": "code",
   "execution_count": 3,
   "id": "e4bcaaae-f1d6-4a86-bab4-cb272cbb43df",
   "metadata": {},
   "outputs": [
    {
     "name": "stdout",
     "output_type": "stream",
     "text": [
      "[100, 200]\n",
      "[100, 200, 300]\n",
      "[]\n"
     ]
    }
   ],
   "source": [
    "list1=[100,200]\n",
    "print(list1)\n",
    "list1.append(300)\n",
    "print(list1)\n",
    "list1=[]\n",
    "print(list1)"
   ]
  },
  {
   "cell_type": "code",
   "execution_count": 4,
   "id": "cbd4f1b6-2d4b-4c38-9179-4b64a3dd6f98",
   "metadata": {},
   "outputs": [
    {
     "name": "stdout",
     "output_type": "stream",
     "text": [
      "['a', 'b', 'c', 1, 2, 3, 'apple']\n"
     ]
    }
   ],
   "source": [
    "list2=[\"a\",\"b\",\"c\",1,2,3]\n",
    "list2.append(\"apple\")\n",
    "print(list2)"
   ]
  },
  {
   "cell_type": "code",
   "execution_count": 5,
   "id": "3526ca03-6bd6-4c6e-835b-82dd4b3b0bf1",
   "metadata": {},
   "outputs": [
    {
     "name": "stdout",
     "output_type": "stream",
     "text": [
      "['a', 'b', 'c', 1, 2, 3, 'apple', [1, 2]]\n"
     ]
    }
   ],
   "source": [
    "list2.append([1,2])\n",
    "print(list2)"
   ]
  },
  {
   "cell_type": "code",
   "execution_count": 6,
   "id": "b532f28c-0512-45bd-8497-485c5cea290f",
   "metadata": {},
   "outputs": [
    {
     "name": "stdout",
     "output_type": "stream",
     "text": [
      "[1, 4, 9, 16, 25]\n"
     ]
    }
   ],
   "source": [
    "list3=[1,2,3,4,5]\n",
    "output=[]\n",
    "for i in list3:\n",
    "    output.append(i*i)\n",
    "\n",
    "print(output)"
   ]
  },
  {
   "cell_type": "code",
   "execution_count": 8,
   "id": "22f37638-a605-4496-ae2e-5f9bdec3e33b",
   "metadata": {},
   "outputs": [],
   "source": [
    "\n",
    "list1=[\"hyd\",\"delhi\",\"bengaluru\"]\n",
    "\n",
    "#list1=[\"Hyd\",\"Delhi\",\"Bengaluru\"]\n",
    "    \n",
    "    "
   ]
  },
  {
   "cell_type": "code",
   "execution_count": 9,
   "id": "7b4e7bce-ff63-4913-bd57-98e32760a41e",
   "metadata": {},
   "outputs": [
    {
     "name": "stdout",
     "output_type": "stream",
     "text": [
      "Hyd\n",
      "Delhi\n",
      "Bengaluru\n"
     ]
    }
   ],
   "source": [
    "\n",
    "list1=[\"hyd\",\"delhi\",\"bengaluru\"]\n",
    "\n",
    "for i in list1:\n",
    "    print(i.capitalize())"
   ]
  },
  {
   "cell_type": "markdown",
   "id": "8dc84187-a298-4f25-ab59-685058bd3a68",
   "metadata": {},
   "source": [
    "<package_name>.<method>()\n",
    "\n"
   ]
  },
  {
   "cell_type": "code",
   "execution_count": 14,
   "id": "08ded84e-6042-4d5b-ac09-799df9d0c72f",
   "metadata": {},
   "outputs": [
    {
     "name": "stdout",
     "output_type": "stream",
     "text": [
      "['Hyd', 'Delhi', 'Bengaluru']\n"
     ]
    }
   ],
   "source": [
    "list1=[\"hyd\",\"delhi\",\"bengaluru\"]\n",
    "\n",
    "output=[]\n",
    "\n",
    "for i in list1:\n",
    "    output.append(i.capitalize())\n",
    "\n",
    "    \n",
    "print(output)"
   ]
  },
  {
   "cell_type": "code",
   "execution_count": 18,
   "id": "b96e3ffa-83c4-44c2-bd5d-f21b989ce800",
   "metadata": {},
   "outputs": [
    {
     "name": "stdout",
     "output_type": "stream",
     "text": [
      "['h#d', 'de#hi']\n"
     ]
    }
   ],
   "source": [
    "list1=[\"h#d\",\"de#hi\",\"bengaluru\"]\n",
    "#retrive the \n",
    "#output =[\"h#d\",\"de#hi\"]\n",
    "\n",
    "output=[]\n",
    "\n",
    "for i in list1:\n",
    "  \n",
    "    if \"#\" in i:\n",
    "        output.append(i)\n",
    "\n",
    "print(output)\n",
    "\n"
   ]
  },
  {
   "cell_type": "markdown",
   "id": "73cf6529-98bf-4b3d-b31e-70d4cdada09c",
   "metadata": {},
   "source": [
    "**List comprehension**"
   ]
  },
  {
   "cell_type": "code",
   "execution_count": null,
   "id": "4dc2d015-9e2d-4de4-973d-068c769ceb05",
   "metadata": {},
   "outputs": [],
   "source": [
    "ie., code in a single line\n",
    "it will speed up the code"
   ]
  },
  {
   "cell_type": "code",
   "execution_count": null,
   "id": "a19d0926-ae9e-4c4b-b2a2-092c05e3bc34",
   "metadata": {},
   "outputs": [],
   "source": [
    "syntax:\n",
    "[<output> <forloop>]"
   ]
  },
  {
   "cell_type": "code",
   "execution_count": 19,
   "id": "2aa15a65-ceae-4d38-9ed5-d223dbd6330b",
   "metadata": {},
   "outputs": [
    {
     "name": "stdout",
     "output_type": "stream",
     "text": [
      "[1, 4, 9, 16, 25]\n"
     ]
    }
   ],
   "source": [
    "list1=[1,2,3,4,5]\n",
    "output=[i*i for i in list1]\n",
    "print(output)"
   ]
  },
  {
   "cell_type": "code",
   "execution_count": 21,
   "id": "54db814f-0023-41a6-86c9-9ab33be90eb7",
   "metadata": {},
   "outputs": [
    {
     "name": "stdout",
     "output_type": "stream",
     "text": [
      "['Hyd', 'Delhi', 'Bengaluru']\n"
     ]
    }
   ],
   "source": [
    "list1=[\"hyd\",\"delhi\",\"bengaluru\"]\n",
    "\n",
    "#list1=[\"Hyd\",\"Delhi\",\"Bengaluru\"]\n",
    "\n",
    "output=[i.capitalize() for i in list1]\n",
    "print(output)"
   ]
  },
  {
   "cell_type": "code",
   "execution_count": null,
   "id": "cc581d90-ed6a-4fa2-acd5-a13372d5b1c8",
   "metadata": {},
   "outputs": [],
   "source": [
    "#create list of 20 numbers from 1 to 20"
   ]
  },
  {
   "cell_type": "code",
   "execution_count": 28,
   "id": "67a3f471-7448-4347-b8b6-618ae7eeab07",
   "metadata": {},
   "outputs": [
    {
     "name": "stdout",
     "output_type": "stream",
     "text": [
      "[1, 2, 3, 4, 5, 6, 7, 8, 9, 10, 11, 12, 13, 14, 15, 16, 17, 18, 19, 20]\n"
     ]
    }
   ],
   "source": [
    "\n",
    "numbers=[]\n",
    "\n",
    "for i in range(1,21):\n",
    "    numbers.append(i)\n",
    "    \n",
    "print(numbers)\n",
    "    \n"
   ]
  },
  {
   "cell_type": "code",
   "execution_count": 30,
   "id": "44d905f7-a4c6-482a-9a6f-619f354232a3",
   "metadata": {},
   "outputs": [
    {
     "name": "stdout",
     "output_type": "stream",
     "text": [
      "[1, 2, 3, 4, 5, 6, 7, 8, 9, 10, 11, 12, 13, 14, 15, 16, 17, 18, 19, 20]\n"
     ]
    }
   ],
   "source": [
    "numbers=[i for i in range(1,21)]\n",
    "print(numbers)"
   ]
  },
  {
   "cell_type": "markdown",
   "id": "3b61a2da-bc6d-48b4-a8ad-399700f51ac6",
   "metadata": {},
   "source": [
    "**List Comprehension with if condtion**"
   ]
  },
  {
   "cell_type": "code",
   "execution_count": null,
   "id": "1e3597f5-423f-4b0d-969d-2a88a076f8fc",
   "metadata": {},
   "outputs": [],
   "source": [
    "list1=[\"h#d\",\"de#hi\",\"bengaluru\"]\n",
    "\n",
    "\n",
    "output=[]\n",
    "for i in list1:\n",
    "    if \"#\" in i:\n",
    "        output.append(i)\n",
    "\n",
    "output\n",
    "\n",
    "syntax:\n",
    "\n",
    "output=[<output> <for_loop> <if_condition>]\n",
    "output1=[i for i in list1 >if condition>]"
   ]
  },
  {
   "cell_type": "code",
   "execution_count": 33,
   "id": "c0018d8a-233f-43a1-bfbb-9f96e8426bf0",
   "metadata": {},
   "outputs": [
    {
     "name": "stdout",
     "output_type": "stream",
     "text": [
      "['h#d', 'de#hi']\n"
     ]
    }
   ],
   "source": [
    "list1=[\"h#d\",\"de#hi\",\"bengaluru\"]\n",
    "output1=[i for i in list1 if \"#\" in i]\n",
    "print(output1)"
   ]
  },
  {
   "cell_type": "code",
   "execution_count": null,
   "id": "64f0b1b4-d814-4e42-ba23-474cb21267f5",
   "metadata": {},
   "outputs": [],
   "source": [
    "syntax:-\n",
    "\n",
    "[<if_output> <if_condition> else <else_output> <for_loop>]"
   ]
  },
  {
   "cell_type": "code",
   "execution_count": 1,
   "id": "12f44035-ee04-4c19-9e5e-b8f42b6bd249",
   "metadata": {},
   "outputs": [
    {
     "data": {
      "text/plain": [
       "['odd:1', 'even:2', 'odd:3', 'even:4', 'odd:5', 'even:6']"
      ]
     },
     "execution_count": 1,
     "metadata": {},
     "output_type": "execute_result"
    }
   ],
   "source": [
    "list1=[1,2,3,4,5,6]\n",
    "output=[]\n",
    "\n",
    "for i in list1:\n",
    "    if i%2==0:\n",
    "        output.append(\"even:{}\".format(i))\n",
    "\n",
    "    else:\n",
    "        output.append(\"odd:{}\".format(i))\n",
    "\n",
    "output\n",
    "        \n",
    "    \n",
    "    "
   ]
  },
  {
   "cell_type": "code",
   "execution_count": 2,
   "id": "6cf2b87f-a7f7-4df2-b569-9c7c32b65cca",
   "metadata": {},
   "outputs": [
    {
     "data": {
      "text/plain": [
       "['odd:1', 'even:2', 'odd:3', 'even:4', 'odd:5', 'even:6']"
      ]
     },
     "execution_count": 2,
     "metadata": {},
     "output_type": "execute_result"
    }
   ],
   "source": [
    "[\"even:{}\".format(i) if i%2==0 else \"odd:{}\".format(i) for i in list1]"
   ]
  },
  {
   "cell_type": "code",
   "execution_count": 3,
   "id": "637623cf-e4e0-4f9b-96fb-07165f1c4881",
   "metadata": {},
   "outputs": [
    {
     "data": {
      "text/plain": [
       "3"
      ]
     },
     "execution_count": 3,
     "metadata": {},
     "output_type": "execute_result"
    }
   ],
   "source": [
    "list1=[1,2,3,\"a\",\"b\",\"b\",\"b\",\"c\",\"c\"]\n",
    "list1.count(\"b\")"
   ]
  },
  {
   "cell_type": "code",
   "execution_count": 4,
   "id": "9be3231a-6711-472f-96fb-5c56a68ac05c",
   "metadata": {},
   "outputs": [
    {
     "name": "stdout",
     "output_type": "stream",
     "text": [
      "3\n"
     ]
    }
   ],
   "source": [
    "count=0\n",
    "for i in list1:\n",
    "    if i==\"b\":\n",
    "        count+=1\n",
    "\n",
    "print(count)"
   ]
  },
  {
   "cell_type": "markdown",
   "id": "d2fec321-ff6e-485c-98ea-2c2bfcc405c7",
   "metadata": {},
   "source": [
    "$Extend$"
   ]
  },
  {
   "cell_type": "code",
   "execution_count": 7,
   "id": "bb899769-8c0c-44c4-a617-0afb8dd68e7c",
   "metadata": {},
   "outputs": [
    {
     "data": {
      "text/plain": [
       "['a', 'b', 'c', 1, 2, 3, 4]"
      ]
     },
     "execution_count": 7,
     "metadata": {},
     "output_type": "execute_result"
    }
   ],
   "source": [
    "list1=[\"a\",\"b\",\"c\"]\n",
    "list2=[1,2,3,4]\n",
    "\n",
    "list1.extend(list2)\n",
    "list1\n"
   ]
  },
  {
   "cell_type": "code",
   "execution_count": 12,
   "id": "c22f43fc-86e7-4d56-bfa6-7fced78f99a2",
   "metadata": {},
   "outputs": [
    {
     "name": "stdout",
     "output_type": "stream",
     "text": [
      "None\n"
     ]
    }
   ],
   "source": [
    "list1=[\"a\",\"b\",\"c\"]\n",
    "list2=[1,2,3,4]\n",
    "\n",
    "list3=list1.extend(list2)\n",
    "print(list3)\n",
    "#here new list will not be updated"
   ]
  },
  {
   "cell_type": "code",
   "execution_count": 13,
   "id": "a60c7710-8c84-4e79-8329-a31822534763",
   "metadata": {},
   "outputs": [
    {
     "name": "stdout",
     "output_type": "stream",
     "text": [
      "['a', 'b', 'c', 1, 2, 3, 4]\n"
     ]
    }
   ],
   "source": [
    "list1=[\"a\",\"b\",\"c\"]\n",
    "list2=[1,2,3,4]\n",
    "\n",
    "list3=list1+list2\n",
    "print(list3)"
   ]
  },
  {
   "cell_type": "code",
   "execution_count": null,
   "id": "03793291-1088-45a1-b5db-5f21603283a2",
   "metadata": {},
   "outputs": [],
   "source": [
    "#here new list will be updated"
   ]
  },
  {
   "cell_type": "markdown",
   "id": "354b6fdd-69e3-4958-a67a-3fcac6905c00",
   "metadata": {},
   "source": [
    "$$append __vs__ extend __vs__ concat$$"
   ]
  },
  {
   "cell_type": "code",
   "execution_count": 18,
   "id": "d43dc2f9-236a-482b-ad07-48a5fb5200fe",
   "metadata": {},
   "outputs": [
    {
     "name": "stdout",
     "output_type": "stream",
     "text": [
      "None\n",
      "['a', 'b', 'c', [1, 2, 3, 4]]\n"
     ]
    }
   ],
   "source": [
    "#-append will add the element at last , that element can be any type\n",
    "\n",
    "list1=[\"a\",\"b\",\"c\"]\n",
    "list2=[1,2,3,4]\n",
    "\n",
    "list3=list1.append(list2)\n",
    "print(list3)\n",
    "print(list1)\n"
   ]
  },
  {
   "cell_type": "code",
   "execution_count": 19,
   "id": "0e523348-17a8-45bc-9a11-6c4e1d3015f4",
   "metadata": {},
   "outputs": [
    {
     "name": "stdout",
     "output_type": "stream",
     "text": [
      "None\n",
      "['a', 'b', 'c', 1, 2, 3, 4]\n"
     ]
    }
   ],
   "source": [
    "#-extend will update the element by adding new element, that element can be any type\n",
    "\n",
    "list1=[\"a\",\"b\",\"c\"]\n",
    "list2=[1,2,3,4]\n",
    "\n",
    "list3=list1.extend(list2)\n",
    "print(list3)\n",
    "print(list1)"
   ]
  },
  {
   "cell_type": "code",
   "execution_count": 20,
   "id": "a7c4e96d-9a47-4f3f-ae36-778829b6bf96",
   "metadata": {},
   "outputs": [
    {
     "name": "stdout",
     "output_type": "stream",
     "text": [
      "['a', 'b', 'c', 1, 2, 3, 4]\n",
      "['a', 'b', 'c']\n"
     ]
    }
   ],
   "source": [
    "#-concat will add two list , but result will not update in a same list  \n",
    "\n",
    "list1=[\"a\",\"b\",\"c\"]\n",
    "list2=[1,2,3,4]\n",
    "\n",
    "list3=list1+list2\n",
    "print(list3)\n",
    "print(list1)"
   ]
  },
  {
   "cell_type": "markdown",
   "id": "eaa99431-b149-44f3-90e9-3875a8eeca72",
   "metadata": {},
   "source": [
    "$Iterator$"
   ]
  },
  {
   "cell_type": "code",
   "execution_count": null,
   "id": "12031d84-e679-45b2-b3d4-6451e4796c90",
   "metadata": {},
   "outputs": [],
   "source": [
    "# Iterator mean the loop \n",
    "the element we can print using for loop\n",
    "\n"
   ]
  },
  {
   "cell_type": "code",
   "execution_count": 21,
   "id": "832301f7-231d-4f1b-a49d-557fc5cf98a8",
   "metadata": {},
   "outputs": [
    {
     "data": {
      "text/plain": [
       "[1, 2, 3, 'p', 'y', 't', 'h', 'o', 'n']"
      ]
     },
     "execution_count": 21,
     "metadata": {},
     "output_type": "execute_result"
    }
   ],
   "source": [
    "list1=[1,2,3]\n",
    "list1.extend(\"python\")\n",
    "list1"
   ]
  },
  {
   "cell_type": "code",
   "execution_count": 22,
   "id": "268b9ade-622f-46a4-9e9e-7f2355aaf883",
   "metadata": {},
   "outputs": [
    {
     "data": {
      "text/plain": [
       "[1, 2, 3, 'p', 'y', 't', 'h', 'o', 'n', 'python']"
      ]
     },
     "execution_count": 22,
     "metadata": {},
     "output_type": "execute_result"
    }
   ],
   "source": [
    "list1=[1,2,3]\n",
    "list1.extend(\"python\")\n",
    "list1.append(\"python\")\n",
    "list1"
   ]
  },
  {
   "cell_type": "code",
   "execution_count": 23,
   "id": "5089b78d-7430-4698-a4fb-0725b5b0939a",
   "metadata": {},
   "outputs": [
    {
     "data": {
      "text/plain": [
       "3"
      ]
     },
     "execution_count": 23,
     "metadata": {},
     "output_type": "execute_result"
    }
   ],
   "source": [
    "list1=[1, 2, 3, 'p', 'y', 't', 'h', 'o', 'n']\n",
    "list1.pop(2)"
   ]
  },
  {
   "cell_type": "code",
   "execution_count": 27,
   "id": "56010e66-fbfc-40ec-b71e-f710670c6336",
   "metadata": {},
   "outputs": [
    {
     "data": {
      "text/plain": [
       "[1, 2, 3, 'p', 'y', 't', 'h', 'n']"
      ]
     },
     "execution_count": 27,
     "metadata": {},
     "output_type": "execute_result"
    }
   ],
   "source": [
    "list1=[1, 2, 3, 'p', 'y', 't', 'h', 'o', 'n']\n",
    "list1.pop(7)\n",
    "list1"
   ]
  },
  {
   "cell_type": "code",
   "execution_count": 29,
   "id": "f21b3b2e-8763-46b9-90f4-1bd5459fe9b3",
   "metadata": {},
   "outputs": [
    {
     "data": {
      "text/plain": [
       "['__add__',\n",
       " '__class__',\n",
       " '__contains__',\n",
       " '__delattr__',\n",
       " '__dir__',\n",
       " '__doc__',\n",
       " '__eq__',\n",
       " '__format__',\n",
       " '__ge__',\n",
       " '__getattribute__',\n",
       " '__getitem__',\n",
       " '__getnewargs__',\n",
       " '__getstate__',\n",
       " '__gt__',\n",
       " '__hash__',\n",
       " '__init__',\n",
       " '__init_subclass__',\n",
       " '__iter__',\n",
       " '__le__',\n",
       " '__len__',\n",
       " '__lt__',\n",
       " '__mod__',\n",
       " '__mul__',\n",
       " '__ne__',\n",
       " '__new__',\n",
       " '__reduce__',\n",
       " '__reduce_ex__',\n",
       " '__repr__',\n",
       " '__rmod__',\n",
       " '__rmul__',\n",
       " '__setattr__',\n",
       " '__sizeof__',\n",
       " '__str__',\n",
       " '__subclasshook__',\n",
       " 'capitalize',\n",
       " 'casefold',\n",
       " 'center',\n",
       " 'count',\n",
       " 'encode',\n",
       " 'endswith',\n",
       " 'expandtabs',\n",
       " 'find',\n",
       " 'format',\n",
       " 'format_map',\n",
       " 'index',\n",
       " 'isalnum',\n",
       " 'isalpha',\n",
       " 'isascii',\n",
       " 'isdecimal',\n",
       " 'isdigit',\n",
       " 'isidentifier',\n",
       " 'islower',\n",
       " 'isnumeric',\n",
       " 'isprintable',\n",
       " 'isspace',\n",
       " 'istitle',\n",
       " 'isupper',\n",
       " 'join',\n",
       " 'ljust',\n",
       " 'lower',\n",
       " 'lstrip',\n",
       " 'maketrans',\n",
       " 'partition',\n",
       " 'removeprefix',\n",
       " 'removesuffix',\n",
       " 'replace',\n",
       " 'rfind',\n",
       " 'rindex',\n",
       " 'rjust',\n",
       " 'rpartition',\n",
       " 'rsplit',\n",
       " 'rstrip',\n",
       " 'split',\n",
       " 'splitlines',\n",
       " 'startswith',\n",
       " 'strip',\n",
       " 'swapcase',\n",
       " 'title',\n",
       " 'translate',\n",
       " 'upper',\n",
       " 'zfill']"
      ]
     },
     "execution_count": 29,
     "metadata": {},
     "output_type": "execute_result"
    }
   ],
   "source": [
    "dir(str)"
   ]
  },
  {
   "cell_type": "code",
   "execution_count": 30,
   "id": "d6d1f3f6-1d5d-4571-a40f-ec2a5dde419d",
   "metadata": {},
   "outputs": [
    {
     "data": {
      "text/plain": [
       "['__add__',\n",
       " '__class__',\n",
       " '__class_getitem__',\n",
       " '__contains__',\n",
       " '__delattr__',\n",
       " '__delitem__',\n",
       " '__dir__',\n",
       " '__doc__',\n",
       " '__eq__',\n",
       " '__format__',\n",
       " '__ge__',\n",
       " '__getattribute__',\n",
       " '__getitem__',\n",
       " '__getstate__',\n",
       " '__gt__',\n",
       " '__hash__',\n",
       " '__iadd__',\n",
       " '__imul__',\n",
       " '__init__',\n",
       " '__init_subclass__',\n",
       " '__iter__',\n",
       " '__le__',\n",
       " '__len__',\n",
       " '__lt__',\n",
       " '__mul__',\n",
       " '__ne__',\n",
       " '__new__',\n",
       " '__reduce__',\n",
       " '__reduce_ex__',\n",
       " '__repr__',\n",
       " '__reversed__',\n",
       " '__rmul__',\n",
       " '__setattr__',\n",
       " '__setitem__',\n",
       " '__sizeof__',\n",
       " '__str__',\n",
       " '__subclasshook__',\n",
       " 'append',\n",
       " 'clear',\n",
       " 'copy',\n",
       " 'count',\n",
       " 'extend',\n",
       " 'index',\n",
       " 'insert',\n",
       " 'pop',\n",
       " 'remove',\n",
       " 'reverse',\n",
       " 'sort']"
      ]
     },
     "execution_count": 30,
     "metadata": {},
     "output_type": "execute_result"
    }
   ],
   "source": [
    "dir(list)"
   ]
  },
  {
   "cell_type": "code",
   "execution_count": null,
   "id": "73c1f970-931b-4dd3-a346-937f19bc467a",
   "metadata": {},
   "outputs": [],
   "source": [
    "list1=[\"lal\",\"bal\",\"pal\"]\n",
    "list2=[1,2,3]\n",
    "\n",
    "#lal is 1\n",
    "#bal is 2\n",
    "#pal is 3"
   ]
  },
  {
   "cell_type": "markdown",
   "id": "5e0a06e8-8e65-4581-b150-f62514279d56",
   "metadata": {},
   "source": [
    "$Zip$"
   ]
  },
  {
   "cell_type": "code",
   "execution_count": 32,
   "id": "d7aaad9c-11d4-4842-9db9-3ac02c23fd50",
   "metadata": {},
   "outputs": [
    {
     "name": "stdout",
     "output_type": "stream",
     "text": [
      "lal 1\n",
      "lal rank is 1\n",
      "bal 2\n",
      "bal rank is 2\n",
      "pal 3\n",
      "pal rank is 3\n"
     ]
    }
   ],
   "source": [
    "list1=[\"lal\",\"bal\",\"pal\"]\n",
    "list2=[1,2,3]\n",
    "\n",
    "for i,j in zip(list1,list2):\n",
    "    print(i,j)\n",
    "    print(\"{} rank is {}\".format(i,j))"
   ]
  },
  {
   "cell_type": "code",
   "execution_count": 33,
   "id": "45bb925e-06f5-486d-a51c-cf52331e4d43",
   "metadata": {},
   "outputs": [
    {
     "name": "stdout",
     "output_type": "stream",
     "text": [
      "125\n",
      "250\n",
      "375\n"
     ]
    }
   ],
   "source": [
    "list1=[100,200,300]\n",
    "list2=[25,50,75]\n",
    "\n",
    "for i,j in zip(list1,list2):\n",
    "    print(i+j)"
   ]
  },
  {
   "cell_type": "code",
   "execution_count": 35,
   "id": "4f8145bd-2a84-4411-8a0e-67dd959c5105",
   "metadata": {},
   "outputs": [
    {
     "name": "stdout",
     "output_type": "stream",
     "text": [
      "[125, 250, 375]\n"
     ]
    }
   ],
   "source": [
    "output = [i+j for i,j in zip(list1,list2)]\n",
    "print(output)"
   ]
  },
  {
   "cell_type": "code",
   "execution_count": null,
   "id": "4152ead6-cd9e-4181-b900-b68fe05bd680",
   "metadata": {},
   "outputs": [],
   "source": []
  }
 ],
 "metadata": {
  "kernelspec": {
   "display_name": "Python 3 (ipykernel)",
   "language": "python",
   "name": "python3"
  },
  "language_info": {
   "codemirror_mode": {
    "name": "ipython",
    "version": 3
   },
   "file_extension": ".py",
   "mimetype": "text/x-python",
   "name": "python",
   "nbconvert_exporter": "python",
   "pygments_lexer": "ipython3",
   "version": "3.12.4"
  }
 },
 "nbformat": 4,
 "nbformat_minor": 5
}
