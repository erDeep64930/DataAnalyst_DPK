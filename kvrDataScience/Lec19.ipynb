{
 "cells": [
  {
   "cell_type": "markdown",
   "metadata": {},
   "source": [
    "# pandas\n"
   ]
  },
  {
   "cell_type": "markdown",
   "metadata": {},
   "source": [
    "- develop by wes mc kinney - package/module/\n",
    "- pip install pandas\n",
    "- import pandas as pd \n",
    "- print(pd.__version___)\n",
    "\n",
    "- pip show pandas\n",
    "- pip list\n",
    "- in pandas data is organise in 1 . series 2. datafrane 3. panel\n"
   ]
  },
  {
   "cell_type": "code",
   "execution_count": null,
   "metadata": {
    "vscode": {
     "languageId": "plaintext"
    }
   },
   "outputs": [],
   "source": []
  }
 ],
 "metadata": {
  "language_info": {
   "name": "python"
  }
 },
 "nbformat": 4,
 "nbformat_minor": 2
}
