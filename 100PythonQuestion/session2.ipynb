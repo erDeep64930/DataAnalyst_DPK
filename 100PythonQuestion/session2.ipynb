{
 "cells": [
  {
   "cell_type": "code",
   "execution_count": 1,
   "id": "cddca089-2d31-4c92-bb4f-026a2dee9e12",
   "metadata": {},
   "outputs": [
    {
     "name": "stdout",
     "output_type": "stream",
     "text": [
      "The roots are imaginary: -0.44 ± 0.83i\n"
     ]
    }
   ],
   "source": [
    "# Write a program to find the roots of a given quadratic equation.\n",
    "# The equation will be in the form of ax2 + bx + c = 0. The input will be 3\n",
    "# integers a, b and c and the output will be the roots of the equation. The\n",
    "# roots need to be floating point integers with 2 precision digits.\n",
    "# Hint:\n",
    "# To find the discriminant value,b*b - 4*a*c is used.\n",
    "# If the discriminant value is greater than zero, then the roots are (-b ±\n",
    "# (discriminant)**1/2) / (2*a)\n",
    "# In case the discriminant value is equal to zero, then the roots are (-\n",
    "# b+(discriminant)**1/2) / (2*a)\n",
    "# otherwise, the roots are imaginary.\n",
    "\n",
    "import math\n",
    "\n",
    "\n",
    "a = int(input(\"Enter the coefficient a: \"))\n",
    "b = int(input(\"Enter the coefficient b: \"))\n",
    "c = int(input(\"Enter the coefficient c: \"))\n",
    "\n",
    "\n",
    "discriminant = b * b - 4 * a * c\n",
    "\n",
    "\n",
    "if discriminant > 0:\n",
    "    root1 = (-b + math.sqrt(discriminant)) / (2 * a)\n",
    "    root2 = (-b - math.sqrt(discriminant)) / (2 * a)\n",
    "    print(root1)\n",
    "    print(root2)\n",
    "elif discriminant == 0:\n",
    "    root = -b / (2 * a)\n",
    "    print(root)\n",
    "else:\n",
    "    real_part = -b / (2 * a)\n",
    "    imaginary_part = math.sqrt(abs(discriminant)) / (2 * a)\n",
    "    print(f\"The roots are imaginary: {real_part:.2f} ± {imaginary_part:.2f}i\")\n"
   ]
  },
  {
   "cell_type": "code",
   "execution_count": 2,
   "id": "af0080cd-d5e7-4bf5-a7bc-51419688dd63",
   "metadata": {},
   "outputs": [
    {
     "name": "stdout",
     "output_type": "stream",
     "text": [
      "H\n"
     ]
    }
   ],
   "source": [
    "# Write a program to change the case of the given alphabet and print\n",
    "# Sample Input: Sample Output:\n",
    "# T------t\n",
    "char=str(input(\"enter a alphabets:\"))\n",
    "if char.isupper():\n",
    "    print(char.lower())\n",
    "elif char.islower():\n",
    "    print(char.upper())\n",
    "else:\n",
    "    print(\"Invalid input. Please enter a single alphabet.\")\n"
   ]
  },
  {
   "cell_type": "code",
   "execution_count": 3,
   "id": "8764a662-c014-4a1f-b98c-0f98c71db51a",
   "metadata": {},
   "outputs": [
    {
     "name": "stdout",
     "output_type": "stream",
     "text": [
      "44.6\n",
      "280.15\n"
     ]
    }
   ],
   "source": [
    "# Write a program to convert the temperature Celsius into Fahrenheit and\n",
    "# kelvin.\n",
    "# Hint:\n",
    "# To calculate the Fahrenheit from the given Celsius =>celsius*9/5+32\n",
    "# # To calculate the Kelvin from the given Celsius => celsius+273.15\n",
    "cel= float(input(\"enter a no\"))\n",
    "\n",
    "Fahrenheit = cel * 9/5 + 32\n",
    "kelvien = cel + 273.15\n",
    "print(Fahrenheit)\n",
    "print(kelvien)"
   ]
  },
  {
   "cell_type": "code",
   "execution_count": 4,
   "id": "ae230454-b120-4178-acb8-fac7d497d5fc",
   "metadata": {},
   "outputs": [
    {
     "name": "stdout",
     "output_type": "stream",
     "text": [
      "1 2\n"
     ]
    }
   ],
   "source": [
    "# Pradeep is designing the input interaction for X-O game (a.k.a TIC-TAC-\n",
    "# TOE). The user identifies the positions as 1|2|3 4|5|6| 7|8|9.\n",
    "# Since the board is a 2-dimensional layout (3x3), Pradeep uses a 2-\n",
    "# dimensional array to store board status and he identifies positions by row,\n",
    "# and column as for first-row elements -(0,0),(0,1),(0,2) andfor second-row\n",
    "# elements - (1,0),(1,1),(1,2) and for 3rd row elements - (2,0),(2,1),(2,2).\n",
    "# Help Pradeep to solve the conversion from user's input (1-9) to (Row,\n",
    "# Column) (0-2),(0-2) respectively.\n",
    "# Note - Indexing for rows and columns is 0-based.\n",
    "\n",
    "n = int(input(\"Enter the position (1-9): \"))\n",
    "\n",
    "row = (n - 1) // 3\n",
    "col = (n - 1) % 3\n",
    "\n",
    "print(row, col)\n"
   ]
  },
  {
   "cell_type": "code",
   "execution_count": 5,
   "id": "d4e4f08d-5d58-48df-9788-9bf1f7735e16",
   "metadata": {},
   "outputs": [
    {
     "ename": "ValueError",
     "evalue": "not enough values to unpack (expected 4, got 0)",
     "output_type": "error",
     "traceback": [
      "\u001b[1;31m---------------------------------------------------------------------------\u001b[0m",
      "\u001b[1;31mValueError\u001b[0m                                Traceback (most recent call last)",
      "Cell \u001b[1;32mIn[5], line 20\u001b[0m\n\u001b[0;32m      1\u001b[0m \u001b[38;5;66;03m# Given four different variables of different data types: a (int), b\u001b[39;00m\n\u001b[0;32m      2\u001b[0m \u001b[38;5;66;03m# (float), c (double), l (long), d (string).The task is to do step-wise\u001b[39;00m\n\u001b[0;32m      3\u001b[0m \u001b[38;5;66;03m# operations as given below:\u001b[39;00m\n\u001b[1;32m   (...)\u001b[0m\n\u001b[0;32m     17\u001b[0m \u001b[38;5;66;03m# string, separated by space.\u001b[39;00m\n\u001b[0;32m     18\u001b[0m \u001b[38;5;66;03m# Read input\u001b[39;00m\n\u001b[0;32m     19\u001b[0m d \u001b[38;5;241m=\u001b[39m \u001b[38;5;28minput\u001b[39m()\n\u001b[1;32m---> 20\u001b[0m a, b, c, l \u001b[38;5;241m=\u001b[39m \u001b[38;5;28minput\u001b[39m()\u001b[38;5;241m.\u001b[39msplit()\n\u001b[0;32m     23\u001b[0m a \u001b[38;5;241m=\u001b[39m \u001b[38;5;28mint\u001b[39m(a)\n\u001b[0;32m     24\u001b[0m b \u001b[38;5;241m=\u001b[39m \u001b[38;5;28mfloat\u001b[39m(b)\n",
      "\u001b[1;31mValueError\u001b[0m: not enough values to unpack (expected 4, got 0)"
     ]
    }
   ],
   "source": [
    "# Given four different variables of different data types: a (int), b\n",
    "# (float), c (double), l (long), d (string).The task is to do step-wise\n",
    "# operations as given below:\n",
    "# 1. Divide b by c.\n",
    "# 2. Divide c by a (cast to int).\n",
    "# 3. Add result of step 2 with l.\n",
    "# 4. Print the given string, and the 4th (0-based indexing)\n",
    "# character of the string both separated by a space.\n",
    "# Input format:\n",
    "# The input consists of two lines.\n",
    "# The first line consists of the string d.\n",
    "# The second line consists of space separated entries a, b, c, l.\n",
    "# Output format:\n",
    "# The output consists of two lines.\n",
    "# Print the results of the first 3 steps separated by space.\n",
    "# In the next line, print the string and the 4th character of the\n",
    "# string, separated by space.\n",
    "# Read input\n",
    "d = input()\n",
    "a, b, c, l = input().split()\n",
    "\n",
    "\n",
    "a = int(a)\n",
    "b = float(b)\n",
    "c = float(c)\n",
    "l = int(l)\n",
    "\n",
    "\n",
    "step1 = b / c\n",
    "\n",
    "\n",
    "step2 = int(c) / a\n",
    "\n",
    "\n",
    "step3 = step2 + l\n",
    "\n",
    "\n",
    "print(f\"{step1:.6f}\")\n",
    "print(f\"{step2:.6f}\")\n",
    "print(f\"{step3:.6f}\")\n",
    "\n",
    "\n",
    "print(d, d[4])\n"
   ]
  },
  {
   "cell_type": "code",
   "execution_count": null,
   "id": "4edfd5e0-4605-4ce6-841c-af5ce673182a",
   "metadata": {},
   "outputs": [
    {
     "name": "stdout",
     "output_type": "stream",
     "text": [
      " 5\n",
      " 10\n"
     ]
    },
    {
     "name": "stdout",
     "output_type": "stream",
     "text": [
      "6\n"
     ]
    }
   ],
   "source": [
    "# Question 6\n",
    "# Peter Rabbit lives in a colony. He is the only rabbit in his colony who is not able\n",
    "# to hop. On his 5th birthday, his father rabbit gifted him a pogo stick as he could\n",
    "# not jump like the other rabbits. He is so excited to play with the pogo stick. The\n",
    "# pogo stick hops one unit per jump. He wanders around his house jumping with\n",
    "# pogo sticks. He wants to show the pogo stick to his friends and decides to go\n",
    "# using pogo sticks. Write a program to find the number of hops needed to reach\n",
    "# his friends' house. Assume that Peter Rabbit's house is in the location (3,4).\n",
    "# Input Format:\n",
    "# Input consists of two integers x,y.\n",
    "# The x and y correspond to the x and y coordinates of his friends' house.\n",
    "# Output Format:\n",
    "# The output is an integer. It corresponds to the number of hops needs to reach\n",
    "# his friends' house.\n",
    "# Question 6\n",
    "# Sample Input 1:\n",
    "# 5\n",
    "# 10\n",
    "# Sample Output 1:\n",
    "# 6\n",
    "# Explanation:\n",
    "# Here, we can calculate the distance between the coordinates, and\n",
    "# hence the output is 6.\n",
    "x1 ,y1 = 3,4\n",
    "\n",
    "x2 = int(input())\n",
    "y2 = int(input())\n",
    "\n",
    "distance = math.sqrt((x2 - x1) ** 2 + (y2 - y1) ** 2)\n",
    "\n",
    "tot = round(distance)\n",
    "\n",
    "print(tot)\n",
    "\n"
   ]
  },
  {
   "cell_type": "code",
   "execution_count": null,
   "id": "2a679d08-54a6-4f7f-8c67-2ef9e772e877",
   "metadata": {},
   "outputs": [
    {
     "name": "stdout",
     "output_type": "stream",
     "text": [
      " 5\n",
      " 10\n"
     ]
    },
    {
     "name": "stdout",
     "output_type": "stream",
     "text": [
      "10\n",
      "5\n"
     ]
    }
   ],
   "source": [
    "# Write a program to swap two values\n",
    "# INPUT FORMAT:\n",
    "# The first & second inputs consist of an integer\n",
    "# OUTPUT FORMAT:\n",
    "# The output will be integers (swapped values)\n",
    "# SAMPLE INPUT:\n",
    "# 10\n",
    "# 20\n",
    "# SAMPL\n",
    "#Write a program to swap two values without the use of a third variable\n",
    "a = int(input())\n",
    "b = int(input())\n",
    "\n",
    "a,b = b,a\n",
    "\n",
    "print(a)\n",
    "print(b)"
   ]
  },
  {
   "cell_type": "code",
   "execution_count": null,
   "id": "824b9750-b4b4-418e-9550-91dde56c0058",
   "metadata": {},
   "outputs": [
    {
     "name": "stdout",
     "output_type": "stream",
     "text": [
      " 5\n",
      " 14\n"
     ]
    },
    {
     "name": "stdout",
     "output_type": "stream",
     "text": [
      "14\n",
      "5\n"
     ]
    }
   ],
   "source": [
    "#Write a program to swap two values  the use of a third variable\n",
    "a = int(input())\n",
    "b = int(input())\n",
    "\n",
    "temp = a\n",
    "a = b\n",
    "b = temp\n",
    "print(a)\n",
    "print(b)\n",
    "\n"
   ]
  },
  {
   "cell_type": "code",
   "execution_count": null,
   "id": "e2d79a9d-1db4-48d2-9d46-61cb1755ff77",
   "metadata": {},
   "outputs": [
    {
     "name": "stdout",
     "output_type": "stream",
     "text": [
      " 5\n",
      " 10\n"
     ]
    },
    {
     "name": "stdout",
     "output_type": "stream",
     "text": [
      "10\n",
      "5\n"
     ]
    }
   ],
   "source": [
    "#write a program to swap two values using bitwise operator\n",
    "a = int(input())\n",
    "b = int(input())\n",
    "\n",
    "a = a ^ b\n",
    "b = a ^ b\n",
    "a = a ^ b\n",
    "\n",
    "print(a)\n",
    "print(b)\n"
   ]
  },
  {
   "cell_type": "code",
   "execution_count": null,
   "id": "8a0586f9-0d5d-4c31-a68a-74a42b9330d5",
   "metadata": {},
   "outputs": [
    {
     "name": "stdout",
     "output_type": "stream",
     "text": [
      " 35\n",
      " 20\n"
     ]
    },
    {
     "name": "stdout",
     "output_type": "stream",
     "text": [
      "23.92128483478926\n"
     ]
    }
   ],
   "source": [
    "t = int(input())\n",
    "v = int(input())\n",
    "\n",
    "WCF = 35.74 + (0.6215 * t) + ((0.4275 * t - 35.75) * (v ** 0.16))\n",
    "\n",
    "print(WCF)\n",
    "\n"
   ]
  },
  {
   "cell_type": "code",
   "execution_count": null,
   "id": "ddf42a42-bf96-4af4-a65d-950c42de807b",
   "metadata": {},
   "outputs": [],
   "source": [
    "#thanks you"
   ]
  }
 ],
 "metadata": {
  "kernelspec": {
   "display_name": "Python 3",
   "language": "python",
   "name": "python3"
  },
  "language_info": {
   "codemirror_mode": {
    "name": "ipython",
    "version": 3
   },
   "file_extension": ".py",
   "mimetype": "text/x-python",
   "name": "python",
   "nbconvert_exporter": "python",
   "pygments_lexer": "ipython3",
   "version": "3.13.1"
  }
 },
 "nbformat": 4,
 "nbformat_minor": 5
}
