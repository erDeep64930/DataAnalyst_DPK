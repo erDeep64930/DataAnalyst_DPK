{
 "cells": [
  {
   "cell_type": "code",
   "execution_count": 11,
   "id": "10cc3d8c-5703-43ac-92df-74c3f6a55850",
   "metadata": {},
   "outputs": [
    {
     "name": "stdin",
     "output_type": "stream",
     "text": [
      "enter a number 210\n"
     ]
    },
    {
     "name": "stdout",
     "output_type": "stream",
     "text": [
      "105.0\n"
     ]
    }
   ],
   "source": [
    "# In the city King's Landing, the Golden company is taking care of the expenses\n",
    "# for the Court's discussion room. Due to continuous discussion regarding the\n",
    "# upcoming war with dragons, the electricity bill was high where they need to\n",
    "# pay it with all the money they had. The electricity bo\n",
    "# ard has decided to charge rupees based on the units consumed by a particular\n",
    "# home.\n",
    "# If the units consumed are less than or equal to 200, the cost for one unit is 0.5.\n",
    "# If the unit is less than or equal to 400, the cost for one unit is 0.65 and Rs.100\n",
    "# extra charge.\n",
    "# If the unit is less than or equal to 600, the cost for one unit is 0.80 and Rs.200\n",
    "# extra charge.\n",
    "# If the unit is greater than 600 the cost for one unit is 1.25 and Rs.425 extra\n",
    "# charge.\n",
    "# You need to now calculate the electricity bill based on the units consumed\n",
    "# (given input).\n",
    "# Question 1\n",
    "# Input Format:\n",
    "# Input consists of one integer.\n",
    "# This corresponds to the units consumed\n",
    "unit = int(input(\"enter a number\"))\n",
    "if unit >= 200:\n",
    "    print(unit*0.5)\n",
    "elif unit >= 400:\n",
    "    print(unit*0.65)\n",
    "elif unit >= 600:\n",
    "    print(unit*1.25)\n",
    "else:\n",
    "    print(unit*1.25)\n"
   ]
  },
  {
   "cell_type": "code",
   "execution_count": 17,
   "id": "d70a96d2-594d-4c13-b217-35e90fe26bb9",
   "metadata": {},
   "outputs": [
    {
     "name": "stdin",
     "output_type": "stream",
     "text": [
      " 3624\n"
     ]
    },
    {
     "name": "stdout",
     "output_type": "stream",
     "text": [
      "divisible\n"
     ]
    }
   ],
   "source": [
    "# write a program to check whether the given number is divisible\n",
    "# by 8 or not\n",
    "# Sample Input:\n",
    "# 3624\n",
    "# Sample Output:\n",
    "# Divisible\n",
    "check = int(input())\n",
    "if check%8==0:\n",
    "    print(\"divisible\")\n",
    "else:\n",
    "    print(\"not visible\")"
   ]
  },
  {
   "cell_type": "code",
   "execution_count": 27,
   "id": "59ed7996-6894-4afd-96e7-5913077dba9b",
   "metadata": {},
   "outputs": [
    {
     "name": "stdin",
     "output_type": "stream",
     "text": [
      "enter a number 77\n",
      "enter a number 65\n"
     ]
    },
    {
     "name": "stdout",
     "output_type": "stream",
     "text": [
      "Circle can't be inside a square\n"
     ]
    }
   ],
   "source": [
    "# Input Format:\n",
    "# Input consists of 2 integers.\n",
    "# The first input corresponds to the radius of a circle.\n",
    "# The second input corresponds to the length of a square.\n",
    "# Output Format:\n",
    "# The output should be any one of the following two strings,\n",
    "# Circle can be inside a square or Circle cannot be inside a square.\n",
    "radius = int(input(\"enter a number\"))\n",
    "length = int(input(\"enter a number\"))\n",
    "diameter= 2 * radius\n",
    "if diameter <= length:\n",
    "    print(\"circle can be inside a square\")\n",
    "else:\n",
    "    print(\"Circle can't be inside a square\")\n",
    "\n",
    "\n",
    "\n",
    "\n"
   ]
  },
  {
   "cell_type": "code",
   "execution_count": 37,
   "id": "a4efb02d-1588-43af-ad56-4a8bd7f3765d",
   "metadata": {},
   "outputs": [
    {
     "name": "stdin",
     "output_type": "stream",
     "text": [
      "enter a number 500\n",
      "enter a number 2\n",
      "enter a number 2\n"
     ]
    },
    {
     "name": "stdout",
     "output_type": "stream",
     "text": [
      "Boat is sinking\n"
     ]
    }
   ],
   "source": [
    "# Assume that an adult weighs 75 kg and children weighing 30 kg\n",
    "# each. If the weight is normal, the display Boat is stable, else display\n",
    "# Boat will sink.\n",
    "# Question 4\n",
    "# Input Format:\n",
    "# Input consists of 3 integers.\n",
    "# The first input corresponds to the weight that the boat can handle.\n",
    "# The second input corresponds to the number of adults.\n",
    "# The third input corresponds to the number of children.\n",
    "# Output Format:\n",
    "# The output should be any one of the below-given strings. Boat is\n",
    "# stable or Boat will sink\n",
    "# weight = int(input(\"enter a number\"))\n",
    "# man = int(input(\"enter a number\"))\n",
    "# child = int(input(\"enter a number\"))\n",
    "total_weight = (man * 75) + (child * 30)\n",
    "if total_weight >= weight:\n",
    "    print(\"Boat is not sinking\")\n",
    "else:\n",
    "    print(\"Boat is sinking\")"
   ]
  },
  {
   "cell_type": "code",
   "execution_count": 39,
   "id": "120a095d-d928-4813-bb14-af30b72debf9",
   "metadata": {},
   "outputs": [
    {
     "name": "stdin",
     "output_type": "stream",
     "text": [
      "enetr a no 20\n",
      "enetr a no 56\n",
      "enetr a no 45\n",
      "enetr a no 17\n"
     ]
    },
    {
     "name": "stdout",
     "output_type": "stream",
     "text": [
      "Car 2 goes into road b\n"
     ]
    }
   ],
   "source": [
    "# Daenerys is very much interested in watching car racing. Once\n",
    "# while doing so, this is what she observes that Car 1 is coming so\n",
    "# fast.\n",
    "# The road on which the car comes is divided into three. There are\n",
    "# three roads A, B, and C.\n",
    "# Each road is given some number. Before the car reaches the end of\n",
    "# the road, she wants to know the road on which the car will travel.\n",
    "# Help her in finding in which road the car will travel?\n",
    "# Question 5\n",
    "# Input Format:\n",
    "# Input consists of 4 integers.\n",
    "# The first input corresponds to the number of road A.\n",
    "# The second input corresponds to the number of road B.\n",
    "# The third input corresponds to the number of road C.\n",
    "# The fourth input corresponds to the number of cars.\n",
    "\n",
    "A=int(input(\"enetr a no\"))\n",
    "B=int(input(\"enetr a no\"))\n",
    "C=int(input(\"enetr a no\"))\n",
    "D=int(input(\"enetr a no\"))\n",
    "if D%3==1:\n",
    "    print(\"Car 1 goes into road A\")\n",
    "elif D%3==2:\n",
    "    print(\"Car 1 goes into road b\")\n",
    "else:\n",
    "    print(\"car 1 goes into road c\")"
   ]
  },
  {
   "cell_type": "code",
   "execution_count": 41,
   "id": "ed7be77b-8bab-4140-a02c-a2e8eaf4031d",
   "metadata": {},
   "outputs": [
    {
     "name": "stdin",
     "output_type": "stream",
     "text": [
      " 11\n",
      " 6\n",
      " 67\n"
     ]
    },
    {
     "name": "stdout",
     "output_type": "stream",
     "text": [
      "cannot reach\n"
     ]
    }
   ],
   "source": [
    "# Nanu bought a new car and for the first time, he wants to go to a\n",
    "# temple. Without checking how much petrol is available in the car,\n",
    "# he started traveling.\n",
    "# After reaching a certain distance, he remembered that he didn't\n",
    "# check the petrol level of his car.\n",
    "# Then he checks the petrol level and calculates how much distance\n",
    "# he must travel to reach the destination.\n",
    "# Find whether he can reach the destination with the available petrol.\n",
    "# Mileage is also known. Display “Can reach” or “Cannot reach”\n",
    "# based on the situation.\n",
    "# Question 6\n",
    "# INPUT FORMAT:\n",
    "# Input consists of 1 float and 2 integers values.\n",
    "# First input corresponds to the mileage which is of float datatype.\n",
    "# Second input corresponds to liters of petrol available.\n",
    "# Third input corresponds to the distance to be travelled.\n",
    "# OUTPUT FORMAT:\n",
    "# The output consists of one string.\n",
    "# # Question 6\n",
    "# SAMPLE INPUT:\n",
    "# 11\n",
    "# 6\n",
    "# 67\n",
    "# SAMPLE OUTPUT:\n",
    "# Cannot reach\n",
    "mileage = int(input())\n",
    "petrol = int(input())\n",
    "dist = int(input())\n",
    "total= (mileage*petrol)\n",
    "if total >= dist:\n",
    "    print(\"reach\")\n",
    "else:\n",
    "    print(\"cannot reach\")\n"
   ]
  },
  {
   "cell_type": "code",
   "execution_count": 45,
   "id": "1227e050-c50b-4b36-9be3-079124d2a1ec",
   "metadata": {},
   "outputs": [
    {
     "name": "stdin",
     "output_type": "stream",
     "text": [
      " 1\n"
     ]
    },
    {
     "name": "stdout",
     "output_type": "stream",
     "text": [
      "can't store\n"
     ]
    }
   ],
   "source": [
    "# Question 7\n",
    "# Dinu feels very bored during her summer vacation. So she decided to go to\n",
    "# swimming class during the summer holidays.\n",
    "# The swimming pool is in cubic shape. There she finds a problem that the\n",
    "# owner doesn’t know to calculate how many liters of water can be stored in\n",
    "# that swimming pool.\n",
    "# Help him solve the mess and display “Cannot store” or “Can store”.\n",
    "# SAMPLE INPUT:\n",
    "# 1\n",
    "# 1500\n",
    "# SAMPLE OUTPUT:\n",
    "# Cannot store\n",
    "\n",
    "side = int(input())\n",
    "total_liters = (side ** 3) * 1000\n",
    "if total_liters >= 2000:\n",
    "    print(\"can store\")\n",
    "else:\n",
    "    print(\"can't store\")"
   ]
  },
  {
   "cell_type": "code",
   "execution_count": null,
   "id": "fae1aa2b-6ce1-4559-bdb5-57b6ef0e84b3",
   "metadata": {},
   "outputs": [],
   "source": [
    "#thanks you"
   ]
  }
 ],
 "metadata": {
  "kernelspec": {
   "display_name": "Python 3 (ipykernel)",
   "language": "python",
   "name": "python3"
  },
  "language_info": {
   "codemirror_mode": {
    "name": "ipython",
    "version": 3
   },
   "file_extension": ".py",
   "mimetype": "text/x-python",
   "name": "python",
   "nbconvert_exporter": "python",
   "pygments_lexer": "ipython3",
   "version": "3.12.7"
  }
 },
 "nbformat": 4,
 "nbformat_minor": 5
}
