{
 "cells": [
  {
   "cell_type": "code",
   "execution_count": 5,
   "id": "7615aff0-9d09-4e14-b7d1-edea2c30d220",
   "metadata": {},
   "outputs": [
    {
     "name": "stdin",
     "output_type": "stream",
     "text": [
      " 5\n",
      " 7\n",
      " 9\n"
     ]
    },
    {
     "name": "stdout",
     "output_type": "stream",
     "text": [
      "9\n"
     ]
    }
   ],
   "source": [
    "# Write a program to print the greatest of given three numbers\n",
    "a = int(input())\n",
    "b = int(input())\n",
    "c = int(input())\n",
    "\n",
    "if a > b and a > c:\n",
    "    print(a)\n",
    "elif b > c:\n",
    "    print(b)\n",
    "else:\n",
    "    print(c)\n"
   ]
  },
  {
   "cell_type": "code",
   "execution_count": 7,
   "id": "a55f53ef-d007-41bc-ba03-784b2921290b",
   "metadata": {},
   "outputs": [
    {
     "name": "stdin",
     "output_type": "stream",
     "text": [
      " 5\n",
      " 8\n",
      " 10\n"
     ]
    },
    {
     "name": "stdout",
     "output_type": "stream",
     "text": [
      "8\n"
     ]
    }
   ],
   "source": [
    "# Write a program to find the second greatest of three numbers.\n",
    "# Sample Input: Sample Output:\n",
    "# 75\n",
    "# 7\n",
    "# 8\n",
    "a = int(input())\n",
    "b = int(input())\n",
    "c = int(input())\n",
    "second=sorted([a,b,c])[-2]\n",
    "print(second)\n",
    "\n",
    "\n"
   ]
  },
  {
   "cell_type": "code",
   "execution_count": 9,
   "id": "b35764a0-80c6-4320-b152-c66c0518d65d",
   "metadata": {},
   "outputs": [
    {
     "name": "stdin",
     "output_type": "stream",
     "text": [
      " 8\n",
      " 5\n",
      " 9\n",
      " 1\n"
     ]
    },
    {
     "name": "stdout",
     "output_type": "stream",
     "text": [
      "1\n"
     ]
    }
   ],
   "source": [
    "#Write a program to find the Smallest of given four numbers\n",
    "a = int(input())\n",
    "b = int(input())\n",
    "c = int(input())\n",
    "d = int(input())\n",
    "second=sorted([a,b,c,d])[-4]\n",
    "print(second)"
   ]
  },
  {
   "cell_type": "code",
   "execution_count": 21,
   "id": "72e12757-5521-4d5b-b3e3-98e6f3eb46dc",
   "metadata": {},
   "outputs": [
    {
     "name": "stdin",
     "output_type": "stream",
     "text": [
      " -45\n"
     ]
    },
    {
     "name": "stdout",
     "output_type": "stream",
     "text": [
      "negative no\n"
     ]
    }
   ],
   "source": [
    "# Write a program to find whether the given number is positive or\n",
    "# negative.\n",
    "a = int(input())\n",
    "if a>0:\n",
    "    print('postive no')\n",
    "else:\n",
    "    print('negative no')"
   ]
  },
  {
   "cell_type": "code",
   "execution_count": 33,
   "id": "f67303af-5516-484e-804b-5e483de253fb",
   "metadata": {},
   "outputs": [
    {
     "name": "stdin",
     "output_type": "stream",
     "text": [
      " 2000\n"
     ]
    },
    {
     "name": "stdout",
     "output_type": "stream",
     "text": [
      "leap year\n"
     ]
    }
   ],
   "source": [
    "# Your task is to write a program to find whether the given year is Leap year\n",
    "# or Not.\n",
    "# Sample Input 1: Sample Output 1:\n",
    "# NOT LEAP YEAR2100\n",
    "# Sample Input 2: Sample Output 2:\n",
    "sample= int(input())\n",
    "if sample%4==0 and sample%400==0:\n",
    "    print('leap year')\n",
    "else:\n",
    "    print('not leap year')"
   ]
  },
  {
   "cell_type": "code",
   "execution_count": 35,
   "id": "5d3cb600-ac9d-42c4-8642-b48dcf6a93fe",
   "metadata": {},
   "outputs": [
    {
     "name": "stdin",
     "output_type": "stream",
     "text": [
      "Enter a number:  25\n"
     ]
    },
    {
     "name": "stdout",
     "output_type": "stream",
     "text": [
      "YES\n"
     ]
    }
   ],
   "source": [
    "# Program to check whether the integer is a perfect square.\n",
    "# Get an input from the user and display \"YES\" if it is a perfect square else\n",
    "# display \" NO\" as output\n",
    "import math\n",
    "\n",
    "n = int(input(\"Enter a number: \"))\n",
    "\n",
    "if math.isqrt(n) ** 2 == n:\n",
    "    print(\"YES\")\n",
    "else:\n",
    "    print(\"NO\")\n"
   ]
  },
  {
   "cell_type": "code",
   "execution_count": 43,
   "id": "92d6d61c-8c89-4e9f-b540-a12fce393ea0",
   "metadata": {},
   "outputs": [
    {
     "name": "stdin",
     "output_type": "stream",
     "text": [
      "Enter a letter:  A\n"
     ]
    },
    {
     "name": "stdout",
     "output_type": "stream",
     "text": [
      "Vowel\n"
     ]
    }
   ],
   "source": [
    "# Write a program to check whether the given character is vowel or\n",
    "# consonant.\n",
    "# Input format:\n",
    "# The input consist of a character\n",
    "# Output format:\n",
    "# The output consists of a below-given string \"Vowel\" / \"Consonant\"\n",
    "# / \"Not an alphabet\"\n",
    "# Sample Input:\n",
    "# a\n",
    "# Sample Output:\n",
    "# Vowel\n",
    "word = input(\"Enter a letter: \").lower() \n",
    "\n",
    "if word in ('a', 'e', 'i', 'o', 'u'):  \n",
    "    print(\"Vowel\")\n",
    "else:\n",
    "    print(\"Consonant\")\n"
   ]
  },
  {
   "cell_type": "code",
   "execution_count": 45,
   "id": "508f11e5-91c4-4427-8807-9e741886c82f",
   "metadata": {},
   "outputs": [
    {
     "name": "stdin",
     "output_type": "stream",
     "text": [
      "Enter x-coordinate:  5\n",
      "Enter y-coordinate:  7\n"
     ]
    },
    {
     "name": "stdout",
     "output_type": "stream",
     "text": [
      "Ist Quadrant\n"
     ]
    }
   ],
   "source": [
    "# Write a program to find the quadrant in which the given x and y\n",
    "# coordinates are present in a graph.\n",
    "# If it is in 1st Quadrant, then display Ist Quadrant,\n",
    "# If it is in 2nd Quadrant, then display IInd Quadrant,\n",
    "# If it is in 3rd Quadrant, then display IIIrd Quadrant,\n",
    "# If it is in 4th Quadrant, then display IVth Quadrant and\n",
    "# If it is in center display Origin.\n",
    "x = int(input(\"Enter x-coordinate: \"))\n",
    "y = int(input(\"Enter y-coordinate: \"))\n",
    "\n",
    "if x > 0 and y > 0:\n",
    "    print(\"Ist Quadrant\")\n",
    "elif x < 0 and y > 0:\n",
    "    print(\"IInd Quadrant\")\n",
    "elif x < 0 and y < 0:\n",
    "    print(\"IIIrd Quadrant\")\n",
    "elif x > 0 and y < 0:\n",
    "    print(\"IVth Quadrant\")\n",
    "elif x == 0 and y == 0:\n",
    "    print(\"Origin\")\n",
    "elif x == 0:\n",
    "    print(\"On Y-Axis\")\n",
    "elif y == 0:\n",
    "    print(\"On X-Axis\")\n"
   ]
  },
  {
   "cell_type": "code",
   "execution_count": null,
   "id": "a7c21afa-6f69-4669-866e-8156193bd602",
   "metadata": {},
   "outputs": [],
   "source": []
  }
 ],
 "metadata": {
  "kernelspec": {
   "display_name": "Python 3 (ipykernel)",
   "language": "python",
   "name": "python3"
  },
  "language_info": {
   "codemirror_mode": {
    "name": "ipython",
    "version": 3
   },
   "file_extension": ".py",
   "mimetype": "text/x-python",
   "name": "python",
   "nbconvert_exporter": "python",
   "pygments_lexer": "ipython3",
   "version": "3.12.7"
  }
 },
 "nbformat": 4,
 "nbformat_minor": 5
}
