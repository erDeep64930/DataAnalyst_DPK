{
 "cells": [
  {
   "cell_type": "code",
   "execution_count": 12,
   "id": "d53165b1-8d7c-4544-bdc1-cfa6eb8fffc0",
   "metadata": {},
   "outputs": [
    {
     "name": "stdout",
     "output_type": "stream",
     "text": [
      "i\n",
      "10\n",
      "20\n",
      "40\n",
      "50\n",
      "70\n",
      "90\n"
     ]
    }
   ],
   "source": [
    "import numpy as np\n",
    "array1 = np.array(['i', 10, 20, 40, 50, 70, 90]) \n",
    "for x in array1:\n",
    "    print(x)\n"
   ]
  },
  {
   "cell_type": "markdown",
   "id": "717b4d4c-dbe2-4df9-a6cd-5be00abd5a57",
   "metadata": {},
   "source": [
    "## acessing the element"
   ]
  },
  {
   "cell_type": "code",
   "execution_count": 22,
   "id": "79fe624a-5b6c-4c8f-876e-39e8d9f4aade",
   "metadata": {},
   "outputs": [
    {
     "name": "stdout",
     "output_type": "stream",
     "text": [
      "i\n",
      "10\n",
      "20\n",
      "70\n"
     ]
    }
   ],
   "source": [
    "array1 = np.array(['i', 10, 20, 40, 50, 70, 90]) \n",
    "print(array1[0])\n",
    "print(array1[1])\n",
    "print(array1[2])\n",
    "print(array1[5])\n",
    "\n"
   ]
  },
  {
   "cell_type": "code",
   "execution_count": 24,
   "id": "90e89dfd-6507-4da7-a33e-559718830aef",
   "metadata": {},
   "outputs": [
    {
     "name": "stdout",
     "output_type": "stream",
     "text": [
      "10\n",
      "60\n",
      "20\n",
      "40\n",
      "50\n",
      "70\n",
      "90\n"
     ]
    }
   ],
   "source": [
    "import numpy as np\n",
    "\n",
    "array1 = np.array([10, 20, 40, 50, 70, 90]) \n",
    "array1 = np.insert(array1, 1, 60)  \n",
    "\n",
    "for x in array1:\n",
    "    print(x)\n"
   ]
  },
  {
   "cell_type": "code",
   "execution_count": 33,
   "id": "71212875-16b7-4ef3-8086-7ddaafe7a528",
   "metadata": {},
   "outputs": [
    {
     "name": "stdout",
     "output_type": "stream",
     "text": [
      "10\n",
      "20\n",
      "30\n",
      "40\n",
      "50\n"
     ]
    }
   ],
   "source": [
    "from array import*\n",
    "array1 = array('i', [10, 20, 30, 40, 50])\n",
    "for x in array1:\n",
    "    print(x)"
   ]
  },
  {
   "cell_type": "code",
   "execution_count": 34,
   "id": "f7eab6e4-751c-4ee5-a99e-c0a076eaa156",
   "metadata": {},
   "outputs": [
    {
     "name": "stdout",
     "output_type": "stream",
     "text": [
      "10\n",
      "30\n"
     ]
    }
   ],
   "source": [
    "from array import*\n",
    "array1 = array('i', [10, 20, 30, 40, 50])\n",
    "print(array1[0])\n",
    "print(array1[2])"
   ]
  },
  {
   "cell_type": "code",
   "execution_count": 35,
   "id": "10e4fd51-c5c1-45f4-9cd9-875323e61eb3",
   "metadata": {},
   "outputs": [
    {
     "name": "stdout",
     "output_type": "stream",
     "text": [
      "10\n",
      "60\n",
      "20\n",
      "30\n",
      "40\n",
      "50\n"
     ]
    }
   ],
   "source": [
    "from array import*\n",
    "array1 = array('i', [10, 20, 30, 40, 50])\n",
    "array1.insert(1, 60)\n",
    "for x in array1:\n",
    "    print(x)"
   ]
  },
  {
   "cell_type": "code",
   "execution_count": 36,
   "id": "14d1c9d4-d413-4e86-980d-b905bb3f3eff",
   "metadata": {},
   "outputs": [
    {
     "name": "stdout",
     "output_type": "stream",
     "text": [
      "10\n",
      "20\n",
      "30\n",
      "50\n"
     ]
    }
   ],
   "source": [
    "from array import*\n",
    "array1 = array('i', [10, 20, 30, 40, 50])\n",
    "array1.remove(40)\n",
    "for x in array1:\n",
    "    print(x)"
   ]
  },
  {
   "cell_type": "code",
   "execution_count": 37,
   "id": "ed41daa8-1ffb-4521-a9ca-3303223fd394",
   "metadata": {},
   "outputs": [
    {
     "name": "stdout",
     "output_type": "stream",
     "text": [
      "3\n"
     ]
    }
   ],
   "source": [
    "from array import*\n",
    "array1 = array('i', [10, 20, 30, 40, 50])\n",
    "print(array1.index(40))"
   ]
  },
  {
   "cell_type": "markdown",
   "id": "3fa7c4a5-8a5d-4638-965b-6b05cd4b666d",
   "metadata": {},
   "source": [
    "## finding the largest and smallest element of an array"
   ]
  },
  {
   "cell_type": "code",
   "execution_count": 38,
   "id": "02d7201c-363f-4109-a74f-e2450187ab42",
   "metadata": {},
   "outputs": [
    {
     "name": "stdout",
     "output_type": "stream",
     "text": [
      "Largest number: 90\n",
      "Smallest number: 2\n"
     ]
    }
   ],
   "source": [
    "def find_largest_smallest(arr):\n",
    "    largest = max(arr)\n",
    "    smallest = min(arr)\n",
    "    return largest, smallest\n",
    "\n",
    "# Example usage\n",
    "numbers = [10, 25, 5, 78, 90, 2, 45]\n",
    "largest, smallest = find_largest_smallest(numbers)\n",
    "\n",
    "print(\"Largest number:\", largest)\n",
    "print(\"Smallest number:\", smallest)\n"
   ]
  },
  {
   "cell_type": "code",
   "execution_count": null,
   "id": "3c43c3bd-9864-4830-b5e2-23a22bf94959",
   "metadata": {},
   "outputs": [],
   "source": []
  }
 ],
 "metadata": {
  "kernelspec": {
   "display_name": "Python 3 (ipykernel)",
   "language": "python",
   "name": "python3"
  },
  "language_info": {
   "codemirror_mode": {
    "name": "ipython",
    "version": 3
   },
   "file_extension": ".py",
   "mimetype": "text/x-python",
   "name": "python",
   "nbconvert_exporter": "python",
   "pygments_lexer": "ipython3",
   "version": "3.12.4"
  }
 },
 "nbformat": 4,
 "nbformat_minor": 5
}
