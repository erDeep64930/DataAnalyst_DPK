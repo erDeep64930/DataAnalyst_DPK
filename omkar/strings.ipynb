{
 "cells": [
  {
   "cell_type": "markdown",
   "id": "bd96b7e4-b71c-4fd7-a77f-6294d2a36d0b",
   "metadata": {},
   "source": [
    "$String$"
   ]
  },
  {
   "cell_type": "markdown",
   "id": "6acac8b6-3594-4ff6-84da-fcf534bddaa2",
   "metadata": {},
   "source": [
    "$how_ to_ read_ the_ strings:$\n"
   ]
  },
  {
   "cell_type": "code",
   "execution_count": 1,
   "id": "526ad0a7-e35b-4d94-9b57-aa9c20443d77",
   "metadata": {},
   "outputs": [
    {
     "data": {
      "text/plain": [
       "'python'"
      ]
     },
     "execution_count": 1,
     "metadata": {},
     "output_type": "execute_result"
    }
   ],
   "source": [
    "string1='python'  #single quote\n",
    "string1"
   ]
  },
  {
   "cell_type": "code",
   "execution_count": 2,
   "id": "bffcc9f4-d036-4046-8715-8d51c7778800",
   "metadata": {},
   "outputs": [
    {
     "data": {
      "text/plain": [
       "'python2'"
      ]
     },
     "execution_count": 2,
     "metadata": {},
     "output_type": "execute_result"
    }
   ],
   "source": [
    "string2=\"python2\" #double quote\n",
    "string2"
   ]
  },
  {
   "cell_type": "code",
   "execution_count": null,
   "id": "e49fbfec-14b9-4f9e-b4bf-192c6e37872e",
   "metadata": {},
   "outputs": [],
   "source": [
    "#triple quote\n",
    "\n",
    "doc string is used to say something information \n",
    "about your python string.\n",
    "\n",
    "    \"\"\"i am triple quote\"\"\"\n"
   ]
  },
  {
   "cell_type": "markdown",
   "id": "9d8a2489-b271-4b6a-b4dc-e0168aefc5cf",
   "metadata": {},
   "source": [
    "$string$\n",
    "\n"
   ]
  },
  {
   "cell_type": "markdown",
   "id": "c2ecff2e-cf18-4235-b258-c1a3b93d13a5",
   "metadata": {},
   "source": [
    "range() - you need to provide number inside the string\n",
    "\n",
    "in - is used only for the string"
   ]
  },
  {
   "cell_type": "code",
   "execution_count": 6,
   "id": "afe4d253-f084-49f0-81b1-de7088c9b580",
   "metadata": {},
   "outputs": [
    {
     "name": "stdout",
     "output_type": "stream",
     "text": [
      "p\n",
      "y\n",
      "t\n",
      "h\n",
      "o\n",
      "n\n"
     ]
    }
   ],
   "source": [
    "string3 =\"python\"\n",
    "for i in string3:\n",
    "    print(i)"
   ]
  },
  {
   "cell_type": "code",
   "execution_count": 7,
   "id": "2d8e7069-3c96-447b-91f4-444c1838f916",
   "metadata": {},
   "outputs": [
    {
     "name": "stdout",
     "output_type": "stream",
     "text": [
      "112\n",
      "121\n",
      "116\n",
      "104\n",
      "111\n",
      "110\n"
     ]
    }
   ],
   "source": [
    "for i in string3:\n",
    "    print(ord(i))"
   ]
  },
  {
   "cell_type": "code",
   "execution_count": 9,
   "id": "b1134ff8-1479-4b2a-992e-5a275845e50b",
   "metadata": {},
   "outputs": [
    {
     "name": "stdout",
     "output_type": "stream",
     "text": [
      "the ascii value of p is 112\n",
      "the ascii value of y is 121\n",
      "the ascii value of t is 116\n",
      "the ascii value of h is 104\n",
      "the ascii value of o is 111\n",
      "the ascii value of n is 110\n"
     ]
    }
   ],
   "source": [
    "for i in string3:\n",
    "    print(\"the ascii value of {} is {}\".format(i,ord(i)))"
   ]
  },
  {
   "cell_type": "code",
   "execution_count": null,
   "id": "4209767f-9f1e-4a3e-a08f-e375272aa2d3",
   "metadata": {},
   "outputs": [],
   "source": [
    "Aplhabet= \"ABCDEFGHIJKLMNOPQRSTUVWXYZ\""
   ]
  },
  {
   "cell_type": "code",
   "execution_count": null,
   "id": "b61cc695-d8a4-4077-bee4-96afc67b6daa",
   "metadata": {},
   "outputs": [],
   "source": [
    "#package_name:string\n"
   ]
  },
  {
   "cell_type": "code",
   "execution_count": 11,
   "id": "2d578e6e-9a7d-419e-a057-a4200defb324",
   "metadata": {},
   "outputs": [
    {
     "name": "stdout",
     "output_type": "stream",
     "text": [
      "the ascii value of A is 65\n",
      "the ascii value of B is 66\n",
      "the ascii value of C is 67\n",
      "the ascii value of D is 68\n",
      "the ascii value of E is 69\n",
      "the ascii value of F is 70\n",
      "the ascii value of G is 71\n",
      "the ascii value of H is 72\n",
      "the ascii value of I is 73\n",
      "the ascii value of J is 74\n",
      "the ascii value of K is 75\n",
      "the ascii value of L is 76\n",
      "the ascii value of M is 77\n",
      "the ascii value of N is 78\n",
      "the ascii value of O is 79\n",
      "the ascii value of P is 80\n",
      "the ascii value of Q is 81\n",
      "the ascii value of R is 82\n",
      "the ascii value of S is 83\n",
      "the ascii value of T is 84\n",
      "the ascii value of U is 85\n",
      "the ascii value of V is 86\n",
      "the ascii value of W is 87\n",
      "the ascii value of X is 88\n",
      "the ascii value of Y is 89\n",
      "the ascii value of Z is 90\n"
     ]
    }
   ],
   "source": [
    "import string\n",
    "for i in string.ascii_uppercase:\n",
    "    print(\"the ascii value of {} is {}\".format(i,ord(i)))"
   ]
  },
  {
   "cell_type": "code",
   "execution_count": 12,
   "id": "3fca768f-4588-4865-aeca-87a05f8d05a6",
   "metadata": {},
   "outputs": [
    {
     "name": "stdout",
     "output_type": "stream",
     "text": [
      "the ascii value of a is 97\n",
      "the ascii value of b is 98\n",
      "the ascii value of c is 99\n",
      "the ascii value of d is 100\n",
      "the ascii value of e is 101\n",
      "the ascii value of f is 102\n",
      "the ascii value of g is 103\n",
      "the ascii value of h is 104\n",
      "the ascii value of i is 105\n",
      "the ascii value of j is 106\n",
      "the ascii value of k is 107\n",
      "the ascii value of l is 108\n",
      "the ascii value of m is 109\n",
      "the ascii value of n is 110\n",
      "the ascii value of o is 111\n",
      "the ascii value of p is 112\n",
      "the ascii value of q is 113\n",
      "the ascii value of r is 114\n",
      "the ascii value of s is 115\n",
      "the ascii value of t is 116\n",
      "the ascii value of u is 117\n",
      "the ascii value of v is 118\n",
      "the ascii value of w is 119\n",
      "the ascii value of x is 120\n",
      "the ascii value of y is 121\n",
      "the ascii value of z is 122\n"
     ]
    }
   ],
   "source": [
    "import string\n",
    "for i in string.ascii_lowercase:\n",
    "    print(\"the ascii value of {} is {}\".format(i,ord(i)))"
   ]
  },
  {
   "cell_type": "markdown",
   "id": "d88044ed-dc92-4288-8ef0-17cbc6c6ebc2",
   "metadata": {},
   "source": [
    "$ASCII$"
   ]
  },
  {
   "cell_type": "code",
   "execution_count": 13,
   "id": "e26bc171-159c-4360-a970-07d668023b70",
   "metadata": {},
   "outputs": [
    {
     "name": "stdout",
     "output_type": "stream",
     "text": [
      "33 !\n",
      "34 \"\n",
      "35 #\n",
      "36 $\n",
      "37 %\n",
      "38 &\n",
      "39 '\n",
      "40 (\n",
      "41 )\n",
      "42 *\n",
      "43 +\n",
      "44 ,\n",
      "45 -\n",
      "46 .\n",
      "47 /\n",
      "48 0\n",
      "49 1\n",
      "50 2\n",
      "51 3\n",
      "52 4\n",
      "53 5\n",
      "54 6\n",
      "55 7\n",
      "56 8\n",
      "57 9\n",
      "58 :\n",
      "59 ;\n",
      "60 <\n",
      "61 =\n",
      "62 >\n",
      "63 ?\n",
      "64 @\n",
      "65 A\n",
      "66 B\n",
      "67 C\n",
      "68 D\n",
      "69 E\n",
      "70 F\n",
      "71 G\n",
      "72 H\n",
      "73 I\n",
      "74 J\n",
      "75 K\n",
      "76 L\n",
      "77 M\n",
      "78 N\n",
      "79 O\n",
      "80 P\n",
      "81 Q\n",
      "82 R\n",
      "83 S\n",
      "84 T\n",
      "85 U\n",
      "86 V\n",
      "87 W\n",
      "88 X\n",
      "89 Y\n",
      "90 Z\n",
      "91 [\n",
      "92 \\\n",
      "93 ]\n",
      "94 ^\n",
      "95 _\n",
      "96 `\n",
      "97 a\n",
      "98 b\n",
      "99 c\n",
      "100 d\n",
      "101 e\n",
      "102 f\n",
      "103 g\n",
      "104 h\n",
      "105 i\n",
      "106 j\n",
      "107 k\n",
      "108 l\n",
      "109 m\n",
      "110 n\n",
      "111 o\n",
      "112 p\n",
      "113 q\n",
      "114 r\n",
      "115 s\n",
      "116 t\n",
      "117 u\n",
      "118 v\n",
      "119 w\n",
      "120 x\n",
      "121 y\n",
      "122 z\n",
      "123 {\n",
      "124 |\n",
      "125 }\n",
      "126 ~\n"
     ]
    }
   ],
   "source": [
    "for i in range(33,127):\n",
    "    print(i,chr(i))"
   ]
  },
  {
   "cell_type": "markdown",
   "id": "917a7979-382a-4ffb-b187-e158b46cdc5c",
   "metadata": {},
   "source": [
    "# wap ask the user find number of a \"letters\" in a given strinng \n",
    "#string=\"hiiii how are you\"\n",
    "ans=3\n",
    "count=0\n",
    "first iterate the string using in and for loop\n",
    "print each letter ==>i\n"
   ]
  },
  {
   "cell_type": "code",
   "execution_count": 15,
   "id": "34858427-0076-45cf-b718-91df533d85d5",
   "metadata": {},
   "outputs": [
    {
     "name": "stdout",
     "output_type": "stream",
     "text": [
      "h\n",
      "a\n",
      "1\n",
      "i\n",
      " \n",
      "h\n",
      "o\n",
      "w\n",
      " \n",
      "a\n",
      "2\n",
      "r\n",
      "e\n",
      " \n",
      "y\n",
      "o\n",
      "u\n",
      " \n",
      "a\n",
      "3\n",
      "n\n",
      "d\n",
      " \n",
      "h\n",
      "o\n",
      "w\n",
      " \n",
      "d\n",
      "o\n",
      " \n",
      "y\n",
      "o\n",
      "u\n",
      " \n",
      "d\n",
      "o\n"
     ]
    }
   ],
   "source": [
    "string=\"hai how are you and how do you do\"\n",
    "count=0\n",
    "for i in string:\n",
    "    print(i)\n",
    "    if i==\"a\":\n",
    "        count=count+1\n",
    "        print(count)"
   ]
  },
  {
   "cell_type": "code",
   "execution_count": 17,
   "id": "552b3e61-5f27-4e09-9398-1ba64409854d",
   "metadata": {},
   "outputs": [
    {
     "name": "stdout",
     "output_type": "stream",
     "text": [
      "1\n",
      "2\n",
      "3\n",
      "4\n",
      "5\n",
      "6\n",
      "7\n"
     ]
    }
   ],
   "source": [
    "string = \"hai how are you \"\n",
    "count=0\n",
    "for i in string:\n",
    "    if i in \"aeiou\":\n",
    "      count=count+1\n",
    "      print(count)"
   ]
  },
  {
   "cell_type": "code",
   "execution_count": 18,
   "id": "cf93bef9-2f61-47a9-8c1d-959b2367eb0d",
   "metadata": {},
   "outputs": [
    {
     "name": "stdout",
     "output_type": "stream",
     "text": [
      "p\n",
      "y\n",
      "t\n",
      "h\n",
      "o\n",
      "n\n",
      "0 p\n",
      "1 y\n",
      "2 t\n",
      "3 h\n",
      "4 o\n",
      "5 n\n"
     ]
    }
   ],
   "source": [
    "string1=\"python\"\n",
    "# i want to print letter using in operator\n",
    "# i want to print letter using range operator\n",
    "\n",
    "for i in string1:\n",
    "    print(i)\n",
    "\n",
    "for i in range(len(string1)):\n",
    "    print(i,string1[i])"
   ]
  },
  {
   "cell_type": "markdown",
   "id": "333d6e4a-549d-469a-bd9c-a797a3ae4436",
   "metadata": {},
   "source": [
    "$Count$"
   ]
  },
  {
   "cell_type": "code",
   "execution_count": 2,
   "id": "6b9ed84c-8f23-44c0-80f2-cbbdad04b857",
   "metadata": {},
   "outputs": [
    {
     "data": {
      "text/plain": [
       "3"
      ]
     },
     "execution_count": 2,
     "metadata": {},
     "output_type": "execute_result"
    }
   ],
   "source": [
    "string1= \"hi how are you bro\"\n",
    "string1.count(\"o\")"
   ]
  },
  {
   "cell_type": "code",
   "execution_count": 4,
   "id": "bd935a1d-efad-4a86-be24-2cc24ce15d93",
   "metadata": {},
   "outputs": [
    {
     "data": {
      "text/plain": [
       "3"
      ]
     },
     "execution_count": 4,
     "metadata": {},
     "output_type": "execute_result"
    }
   ],
   "source": [
    "string1 =\"ola ola ola\"\n",
    "string1.count(\"ola\")"
   ]
  },
  {
   "cell_type": "code",
   "execution_count": null,
   "id": "5f9db517-efac-4953-bf4e-5d86fe4e60f3",
   "metadata": {},
   "outputs": [],
   "source": [
    "replace \"l\" with \"L\""
   ]
  },
  {
   "cell_type": "code",
   "execution_count": 5,
   "id": "674caa00-8dbd-49c7-a125-3ef2ffe36713",
   "metadata": {},
   "outputs": [
    {
     "data": {
      "text/plain": [
       "'weLcome'"
      ]
     },
     "execution_count": 5,
     "metadata": {},
     "output_type": "execute_result"
    }
   ],
   "source": [
    "string1 =\"welcome\"\n",
    "string1.replace(\"l\",\"L\")"
   ]
  },
  {
   "cell_type": "code",
   "execution_count": 7,
   "id": "035743f4-f71d-4a50-aff7-249144e4b35f",
   "metadata": {},
   "outputs": [
    {
     "data": {
      "text/plain": [
       "'resta$t'"
      ]
     },
     "execution_count": 7,
     "metadata": {},
     "output_type": "execute_result"
    }
   ],
   "source": [
    "string1=\"restart\"\n",
    "s1=string1[0]\n",
    "s2=string1[1:].replace(\"r\",\"$\")\n",
    "s1+s2"
   ]
  },
  {
   "cell_type": "code",
   "execution_count": 9,
   "id": "7dd900f0-db1b-4f00-a0be-4347bf283570",
   "metadata": {},
   "outputs": [
    {
     "data": {
      "text/plain": [
       "'resta$t'"
      ]
     },
     "execution_count": 9,
     "metadata": {},
     "output_type": "execute_result"
    }
   ],
   "source": [
    "string1[::-1].replace(\"r\",\"$\",1)[::-1]"
   ]
  },
  {
   "cell_type": "markdown",
   "id": "e44204be-20b9-4431-84d4-5db22ec83b5e",
   "metadata": {},
   "source": [
    "$index$"
   ]
  },
  {
   "cell_type": "code",
   "execution_count": 10,
   "id": "fbaeb756-a228-4ead-b656-7e24cbb712ef",
   "metadata": {},
   "outputs": [
    {
     "data": {
      "text/plain": [
       "3"
      ]
     },
     "execution_count": 10,
     "metadata": {},
     "output_type": "execute_result"
    }
   ],
   "source": [
    "string1 = \"welcome to python\"\n",
    "#index of \"c\"\n",
    "string1.index(\"c\")\n"
   ]
  },
  {
   "cell_type": "code",
   "execution_count": null,
   "id": "5817499c-998a-4f78-a5db-74918bf51e09",
   "metadata": {},
   "outputs": [],
   "source": [
    "str1=\"how are you bro whatsapp\"\n",
    "#how many \"a\" are there\n",
    "#what are the index of a "
   ]
  },
  {
   "cell_type": "code",
   "execution_count": 12,
   "id": "ce8381b4-083e-4232-9893-a2aaf70b5ec8",
   "metadata": {},
   "outputs": [
    {
     "name": "stdout",
     "output_type": "stream",
     "text": [
      "3\n"
     ]
    },
    {
     "data": {
      "text/plain": [
       "3"
      ]
     },
     "execution_count": 12,
     "metadata": {},
     "output_type": "execute_result"
    }
   ],
   "source": [
    "str1=\"how are you bro whatsapp\"\n",
    "count =0 \n",
    "for i in str1:\n",
    "    if i==\"a\":\n",
    "        count+=1\n",
    "\n",
    "print(count)\n",
    "str1.count(\"a\")"
   ]
  },
  {
   "cell_type": "code",
   "execution_count": 13,
   "id": "55896b8e-7828-4cd9-8f54-0edc925dda91",
   "metadata": {},
   "outputs": [
    {
     "name": "stdout",
     "output_type": "stream",
     "text": [
      "4\n",
      "18\n",
      "21\n"
     ]
    }
   ],
   "source": [
    "\n",
    "for i in range(len(str1)):\n",
    "    if str1[i]==\"a\":\n",
    "        print(i)"
   ]
  },
  {
   "cell_type": "markdown",
   "id": "d15c944d-791f-4cda-a3da-67814d000762",
   "metadata": {},
   "source": [
    "$strip$"
   ]
  },
  {
   "cell_type": "code",
   "execution_count": 1,
   "id": "19756b1d-34d5-4d9d-b13c-cbd909c451dc",
   "metadata": {},
   "outputs": [],
   "source": [
    "str1=\" hello how are you \"\n",
    "str2=\" hello how are you\"\n",
    "str3=\"hello how are you \"\n",
    "\n",
    "#remove the spaces\n",
    "#remove the both side spaces then use strip method\n",
    "#if you want to remove the spaces only left side then use lstrip "
   ]
  },
  {
   "cell_type": "code",
   "execution_count": 2,
   "id": "c5c8a349-a0cb-4f62-a379-1d4a2e2abdad",
   "metadata": {},
   "outputs": [
    {
     "data": {
      "text/plain": [
       "'hello how are you'"
      ]
     },
     "execution_count": 2,
     "metadata": {},
     "output_type": "execute_result"
    }
   ],
   "source": [
    "str1.strip()"
   ]
  },
  {
   "cell_type": "code",
   "execution_count": null,
   "id": "9129438d-35b7-4005-af6a-4c2ffefc8b1b",
   "metadata": {},
   "outputs": [],
   "source": [
    "#wap to extract \n",
    "str1= \"python.anaconda@nareshit.com\"\n",
    "#extract first name \n",
    "#extract second name \n",
    "#extract company name\n",
    "\n",
    "#donot use count init \n",
    "#use method find/index\n"
   ]
  },
  {
   "cell_type": "code",
   "execution_count": 6,
   "id": "670d95f6-3d13-44b1-af70-dcdf7c433a08",
   "metadata": {},
   "outputs": [
    {
     "data": {
      "text/plain": [
       "'python'"
      ]
     },
     "execution_count": 6,
     "metadata": {},
     "output_type": "execute_result"
    }
   ],
   "source": [
    "str1= \"python.anaconda@nareshit.com\"\n",
    "str1.find('.')\n",
    "str1[:str1.find('.')]"
   ]
  },
  {
   "cell_type": "code",
   "execution_count": 7,
   "id": "750ccbdd-7756-4462-86de-68aedb44b369",
   "metadata": {},
   "outputs": [
    {
     "data": {
      "text/plain": [
       "6"
      ]
     },
     "execution_count": 7,
     "metadata": {},
     "output_type": "execute_result"
    }
   ],
   "source": [
    "str1= \"python.anaconda@nareshit.com\"\n",
    "str1.index(\".\")"
   ]
  },
  {
   "cell_type": "code",
   "execution_count": 8,
   "id": "ad9fd61f-4a65-4b32-829b-ad0531ebd050",
   "metadata": {},
   "outputs": [
    {
     "data": {
      "text/plain": [
       "'nareshit'"
      ]
     },
     "execution_count": 8,
     "metadata": {},
     "output_type": "execute_result"
    }
   ],
   "source": [
    "str1= \"python.anaconda@nareshit.com\"\n",
    "first_dot=str1.index('.')\n",
    "second_dot=str1.index(\".\",first_dot+1)\n",
    "str1[str1.find('@')+1:second_dot]"
   ]
  },
  {
   "cell_type": "code",
   "execution_count": 9,
   "id": "8793e73d-69df-4f82-a519-ee01af60073d",
   "metadata": {},
   "outputs": [],
   "source": [
    "str1= \"python.anaconda@nareshit.com\"\n",
    "first_dot=str1.index('.')\n",
    "second_dot=str1.index(\".\",first_dot+1)"
   ]
  },
  {
   "cell_type": "code",
   "execution_count": 10,
   "id": "f56c30c7-056c-4234-89d7-b6f94c278d51",
   "metadata": {},
   "outputs": [
    {
     "name": "stdout",
     "output_type": "stream",
     "text": [
      "python\n",
      "anaconda\n",
      "nareshit\n"
     ]
    }
   ],
   "source": [
    "str1= \"python.anaconda@nareshit.com\"\n",
    "num1=str1.find(\".\")\n",
    "f_name=str1[:num1]\n",
    "print(f_name)\n",
    "num2=str1.find(\"@\")\n",
    "s_name=str1[num1+1:num2]\n",
    "print(s_name)\n",
    "num3=str1.find(\".\",str1.find(\".\")+1)\n",
    "c_name=str1[num2+1:num3]\n",
    "print(c_name)"
   ]
  },
  {
   "cell_type": "code",
   "execution_count": null,
   "id": "e1f90c4e-cd65-4984-82b3-6caffe4da601",
   "metadata": {},
   "outputs": [],
   "source": [
    "#wap\n",
    "str1='3.1487'\n",
    "#extract 3\n",
    "#extract 1487\n"
   ]
  },
  {
   "cell_type": "code",
   "execution_count": 12,
   "id": "a46e46b6-7096-4a30-bfe4-bf66e716bb4a",
   "metadata": {},
   "outputs": [
    {
     "name": "stdout",
     "output_type": "stream",
     "text": [
      "python\n"
     ]
    }
   ],
   "source": [
    "num1=str1.find('.')\n",
    "f_name=str1[:num1]\n",
    "print(f_name)"
   ]
  },
  {
   "cell_type": "code",
   "execution_count": 14,
   "id": "a2e6c8f0-1982-48cb-afa9-91caad7d9627",
   "metadata": {},
   "outputs": [
    {
     "name": "stdout",
     "output_type": "stream",
     "text": [
      "3\n",
      "3\n"
     ]
    }
   ],
   "source": [
    "str1='3.1487'\n",
    "num1=str1[str1.index(\".\")-1]\n",
    "print(num1)\n",
    "num2=str1[str1.index(\".\")+1:]\n",
    "print(num1)"
   ]
  },
  {
   "cell_type": "code",
   "execution_count": 15,
   "id": "0206b5ff-7db8-4245-b26a-92715d1df005",
   "metadata": {},
   "outputs": [
    {
     "data": {
      "text/plain": [
       "'1487'"
      ]
     },
     "execution_count": 15,
     "metadata": {},
     "output_type": "execute_result"
    }
   ],
   "source": [
    "str1='3.1487'\n",
    "\n",
    "str1[str1.index(\".\")+1:]\n"
   ]
  },
  {
   "cell_type": "markdown",
   "id": "4d41d38d-945b-4a22-95e3-76dffd9f2dc7",
   "metadata": {},
   "source": [
    "$start with end with$"
   ]
  },
  {
   "cell_type": "markdown",
   "id": "bf859a0d-b4f8-4c09-b5a5-a33358c72b97",
   "metadata": {},
   "source": []
  },
  {
   "cell_type": "code",
   "execution_count": null,
   "id": "64919809-d800-4529-9c93-c4519764f9de",
   "metadata": {},
   "outputs": [],
   "source": []
  },
  {
   "cell_type": "code",
   "execution_count": null,
   "id": "1958cebc-4759-42b8-85a3-38018ebb0869",
   "metadata": {},
   "outputs": [],
   "source": []
  },
  {
   "cell_type": "code",
   "execution_count": null,
   "id": "851f7924-48ea-4fa5-bea7-2a6ec6ba29ca",
   "metadata": {},
   "outputs": [],
   "source": []
  },
  {
   "cell_type": "code",
   "execution_count": null,
   "id": "10581cd8-dcf8-4c60-b23c-6c1285a2b1ef",
   "metadata": {},
   "outputs": [],
   "source": []
  }
 ],
 "metadata": {
  "kernelspec": {
   "display_name": "Python 3 (ipykernel)",
   "language": "python",
   "name": "python3"
  },
  "language_info": {
   "codemirror_mode": {
    "name": "ipython",
    "version": 3
   },
   "file_extension": ".py",
   "mimetype": "text/x-python",
   "name": "python",
   "nbconvert_exporter": "python",
   "pygments_lexer": "ipython3",
   "version": "3.12.4"
  }
 },
 "nbformat": 4,
 "nbformat_minor": 5
}
