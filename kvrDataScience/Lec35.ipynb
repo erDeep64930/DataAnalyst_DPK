{
 "cells": [
  {
   "cell_type": "markdown",
   "metadata": {},
   "source": [
    "# adding row to a data frame "
   ]
  },
  {
   "cell_type": "code",
   "execution_count": 1,
   "metadata": {},
   "outputs": [],
   "source": [
    "import pandas as pd\n",
    "import numpy as np\n"
   ]
  },
  {
   "cell_type": "code",
   "execution_count": 2,
   "metadata": {},
   "outputs": [
    {
     "name": "stdout",
     "output_type": "stream",
     "text": [
      "    Unnamed: 0   id        name        city designation\n",
      "0            0   10      dhurvi       delhi          tl\n",
      "1            1   20        itty       delhi          se\n",
      "2            2   30      deepak      mumbai          se\n",
      "3            3   40        dori      mumbai          pm\n",
      "4            4   50      lovely        pune          hr\n",
      "5            5   60     pragati        pune          hr\n",
      "6            6   70      shayam        pune          tl\n",
      "7            7   80     sandeep      ranchi          pm\n",
      "8            8   90    sangeeta    kolkatta          hr\n",
      "9            9  100        usha        pune          se\n",
      "10          10  110     mahadeo      orrisa          tl\n",
      "11          11  120        prem     chennai          tl\n",
      "12          12  130       bablu     haryana          se\n",
      "13          13  140      harish  chandigarh          se\n",
      "14          14  150     harshit   ludhiyana          pm\n",
      "15          15  160       anand    amritsar          hr\n",
      "16          16  170     rishita       patna          hr\n",
      "17          17  180     parwati     guahati          tl\n",
      "18          18  190     jagdish     chennai          pm\n",
      "19          19  200       karan    kolkatta          hr\n",
      "20          20  210       sanoj      orrisa          se\n",
      "21          21  220    anushkha     chennai          tl\n",
      "22          22  230   daleshwar     haryana          tl\n",
      "23          23  240      kishor  chandigarh          se\n",
      "24          24  250       horil   ludhiyana          se\n",
      "25          25  260      rajesh    amritsar          pm\n",
      "26          26  270     chander       patna          hr\n",
      "27          27  280       badri     guahati          hr\n",
      "28          28  290  parmeshwar     chennai          tl\n",
      "29          29  300        ramu    kolkatta          pm\n",
      "30          30  310    mahendra       delhi          hr\n",
      "31          31  320     jagdish      mumbai          se\n",
      "32          32  330    ramapati    banglore          tl\n"
     ]
    }
   ],
   "source": [
    "df=pd.read_csv(\"D:\\\\clone\\\\DataAnalyst_DPK\\\\files\\\\workingPeople.csv\")\n",
    "print(df)"
   ]
  },
  {
   "cell_type": "code",
   "execution_count": 3,
   "metadata": {},
   "outputs": [
    {
     "data": {
      "text/plain": [
       "33"
      ]
     },
     "execution_count": 3,
     "metadata": {},
     "output_type": "execute_result"
    }
   ],
   "source": [
    "len(df)"
   ]
  },
  {
   "cell_type": "code",
   "execution_count": 4,
   "metadata": {},
   "outputs": [],
   "source": [
    "# to add a new row\n",
    "# syntax: df.loc[len(df)+1] = [value1, value2, value3, ...]"
   ]
  },
  {
   "cell_type": "code",
   "execution_count": 5,
   "metadata": {},
   "outputs": [
    {
     "name": "stdout",
     "output_type": "stream",
     "text": [
      "    Unnamed: 0    id      name      city designation\n",
      "29          29   300      ramu  kolkatta          pm\n",
      "30          30   310  mahendra     delhi          hr\n",
      "31          31   320   jagdish    mumbai          se\n",
      "32          32   330  ramapati  banglore          tl\n",
      "34           5  John        25  New York       50000\n"
     ]
    }
   ],
   "source": [
    "df.loc[len(df)+1] = [5, \"John\", 25, \"New York\", 50000]\n",
    "print(df.tail())"
   ]
  },
  {
   "cell_type": "markdown",
   "metadata": {},
   "source": [
    "# Pandas dataframe rename() method\n",
    "- by using this method we can alter or change the axes labels"
   ]
  },
  {
   "cell_type": "code",
   "execution_count": null,
   "metadata": {},
   "outputs": [],
   "source": [
    "#syntax:\n",
    "# df.rename(mapper=None,index=None, columns=None, axis=None, copy=True, inplace=False, level=None, errors='raise')"
   ]
  },
  {
   "cell_type": "code",
   "execution_count": 9,
   "metadata": {},
   "outputs": [
    {
     "name": "stdout",
     "output_type": "stream",
     "text": [
      "   A  B\n",
      "0  1  4\n",
      "1  2  5\n",
      "2  3  6\n",
      "****************************************\n",
      "   a  b\n",
      "0  1  4\n",
      "1  2  5\n",
      "2  3  6\n",
      "****************************************\n"
     ]
    }
   ],
   "source": [
    "# example\n",
    "df= pd.DataFrame({'A': [1, 2, 3], 'B': [4, 5, 6]})\n",
    "print(df)\n",
    "print(\"**\" * 20)\n",
    "print(df.rename(columns={'A': 'a', 'B': 'b'}))\n",
    "print(\"**\" * 20)\n",
    "# rename columns name \n"
   ]
  },
  {
   "cell_type": "code",
   "execution_count": 6,
   "metadata": {},
   "outputs": [
    {
     "name": "stdout",
     "output_type": "stream",
     "text": [
      "   Unnamed: 0   id     name      city        state  age  experience  salary\n",
      "0           0   10   dhurvi     delhi        delhi   20           1   10000\n",
      "1           1   20     itty     delhi        delhi   21           2   20000\n",
      "2           2   30   deepak    mumbai  maharashtra   22           3   30000\n",
      "3           3   40     dori    mumbai  maharashtra   23           4   40000\n",
      "4           4   50   lovely      pune  maharashtra   24           5   50000\n",
      "5           5   60  pragati      pune  maharashtra   25           6   60000\n",
      "6           6   70   shayam      pune  maharashtra   26           7   70000\n",
      "7           7   80     aadi       goa          goa   27           8   80000\n",
      "8           8   90    bablu  kolkatta     kolkatta   28           9   90000\n",
      "9           9  100     anuj  hydrabad     hydrabad   29          10  100000\n"
     ]
    }
   ],
   "source": [
    "df=pd.read_csv(\"D:\\\\clone\\\\DataAnalyst_DPK\\\\files\\\\studentLife.csv\")\n",
    "print(df)"
   ]
  },
  {
   "cell_type": "code",
   "execution_count": 10,
   "metadata": {},
   "outputs": [
    {
     "name": "stdout",
     "output_type": "stream",
     "text": [
      "        0   1   2   3\n",
      "ids    10  20  30  40\n",
      "names  rs  ps  it  ds\n"
     ]
    }
   ],
   "source": [
    "# other than rename\n",
    "lst=[[10,20,30,40],[\"rs\",\"ps\",\"it\",\"ds\"]]\n",
    "df= pd.DataFrame(lst,index=[\"ids\",\"names\"])\n",
    "print(df)"
   ]
  },
  {
   "cell_type": "code",
   "execution_count": 11,
   "metadata": {},
   "outputs": [
    {
     "name": "stdout",
     "output_type": "stream",
     "text": [
      "        A   B   C   D\n",
      "ids    10  20  30  40\n",
      "names  rs  ps  it  ds\n"
     ]
    }
   ],
   "source": [
    "# other than rename\n",
    "lst=[[10,20,30,40],[\"rs\",\"ps\",\"it\",\"ds\"]]\n",
    "df= pd.DataFrame(lst,index=[\"ids\",\"names\"],columns=[\"A\",\"B\",\"C\",\"D\"])\n",
    "print(df)"
   ]
  },
  {
   "cell_type": "markdown",
   "metadata": {},
   "source": [
    "# Pandas append() method"
   ]
  },
  {
   "cell_type": "code",
   "execution_count": null,
   "metadata": {},
   "outputs": [],
   "source": [
    "#syntax"
   ]
  },
  {
   "cell_type": "code",
   "execution_count": 13,
   "metadata": {},
   "outputs": [
    {
     "name": "stdout",
     "output_type": "stream",
     "text": [
      "   name   id    course  salary\n",
      "0  itty  100   science    1000\n",
      "1  deep  101  commerce    4000\n",
      "****************************************\n",
      "   name   id   course  salary\n",
      "0  dori  103  science    5000\n",
      "1    ps  104  science    6500\n",
      "****************************************\n"
     ]
    }
   ],
   "source": [
    "df1= pd.DataFrame([[\"itty\",100,\"science\",1000],[\"deep\",101,\"commerce\",4000]],columns=[\"name\",\"id\",\"course\",\"salary\"])\n",
    "print(df1)\n",
    "print(\"**\" * 20)\n",
    "df2= pd.DataFrame([[\"dori\",103,\"science\",5000],[\"ps\",104,\"science\",6500]],columns=[\"name\",\"id\",\"course\",\"salary\"])\n",
    "print(df2)\n",
    "print(\"**\" * 20)"
   ]
  },
  {
   "cell_type": "code",
   "execution_count": 14,
   "metadata": {},
   "outputs": [
    {
     "ename": "AttributeError",
     "evalue": "'DataFrame' object has no attribute 'append'",
     "output_type": "error",
     "traceback": [
      "\u001b[1;31m---------------------------------------------------------------------------\u001b[0m",
      "\u001b[1;31mAttributeError\u001b[0m                            Traceback (most recent call last)",
      "\u001b[1;32m~\\AppData\\Local\\Temp\\ipykernel_2960\\2756232253.py\u001b[0m in \u001b[0;36m?\u001b[1;34m()\u001b[0m\n\u001b[1;32m----> 1\u001b[1;33m \u001b[0mdf3\u001b[0m\u001b[1;33m=\u001b[0m\u001b[0mdf1\u001b[0m\u001b[1;33m.\u001b[0m\u001b[0mappend\u001b[0m\u001b[1;33m(\u001b[0m\u001b[0mdf2\u001b[0m\u001b[1;33m)\u001b[0m\u001b[1;33m\u001b[0m\u001b[1;33m\u001b[0m\u001b[0m\n\u001b[0m\u001b[0;32m      2\u001b[0m \u001b[0mprint\u001b[0m\u001b[1;33m(\u001b[0m\u001b[0mdf3\u001b[0m\u001b[1;33m)\u001b[0m\u001b[1;33m\u001b[0m\u001b[1;33m\u001b[0m\u001b[0m\n",
      "\u001b[1;32mc:\\Users\\deepa\\AppData\\Local\\Programs\\Python\\Python313\\Lib\\site-packages\\pandas\\core\\generic.py\u001b[0m in \u001b[0;36m?\u001b[1;34m(self, name)\u001b[0m\n\u001b[0;32m   6295\u001b[0m             \u001b[1;32mand\u001b[0m \u001b[0mname\u001b[0m \u001b[1;32mnot\u001b[0m \u001b[1;32min\u001b[0m \u001b[0mself\u001b[0m\u001b[1;33m.\u001b[0m\u001b[0m_accessors\u001b[0m\u001b[1;33m\u001b[0m\u001b[1;33m\u001b[0m\u001b[0m\n\u001b[0;32m   6296\u001b[0m             \u001b[1;32mand\u001b[0m \u001b[0mself\u001b[0m\u001b[1;33m.\u001b[0m\u001b[0m_info_axis\u001b[0m\u001b[1;33m.\u001b[0m\u001b[0m_can_hold_identifiers_and_holds_name\u001b[0m\u001b[1;33m(\u001b[0m\u001b[0mname\u001b[0m\u001b[1;33m)\u001b[0m\u001b[1;33m\u001b[0m\u001b[1;33m\u001b[0m\u001b[0m\n\u001b[0;32m   6297\u001b[0m         \u001b[1;33m)\u001b[0m\u001b[1;33m:\u001b[0m\u001b[1;33m\u001b[0m\u001b[1;33m\u001b[0m\u001b[0m\n\u001b[0;32m   6298\u001b[0m             \u001b[1;32mreturn\u001b[0m \u001b[0mself\u001b[0m\u001b[1;33m[\u001b[0m\u001b[0mname\u001b[0m\u001b[1;33m]\u001b[0m\u001b[1;33m\u001b[0m\u001b[1;33m\u001b[0m\u001b[0m\n\u001b[1;32m-> 6299\u001b[1;33m         \u001b[1;32mreturn\u001b[0m \u001b[0mobject\u001b[0m\u001b[1;33m.\u001b[0m\u001b[0m__getattribute__\u001b[0m\u001b[1;33m(\u001b[0m\u001b[0mself\u001b[0m\u001b[1;33m,\u001b[0m \u001b[0mname\u001b[0m\u001b[1;33m)\u001b[0m\u001b[1;33m\u001b[0m\u001b[1;33m\u001b[0m\u001b[0m\n\u001b[0m",
      "\u001b[1;31mAttributeError\u001b[0m: 'DataFrame' object has no attribute 'append'"
     ]
    }
   ],
   "source": [
    "df3=df1.append(df2)\n",
    "print(df3)"
   ]
  },
  {
   "cell_type": "code",
   "execution_count": 15,
   "metadata": {},
   "outputs": [],
   "source": [
    "# this has been removed"
   ]
  },
  {
   "cell_type": "markdown",
   "metadata": {},
   "source": [
    "# apply()\n",
    "- df.apply(np.sum)\n",
    "- df.apply(np.sum,axis=1)"
   ]
  },
  {
   "cell_type": "code",
   "execution_count": null,
   "metadata": {},
   "outputs": [],
   "source": []
  },
  {
   "cell_type": "code",
   "execution_count": null,
   "metadata": {},
   "outputs": [],
   "source": []
  },
  {
   "cell_type": "code",
   "execution_count": null,
   "metadata": {},
   "outputs": [],
   "source": []
  },
  {
   "cell_type": "code",
   "execution_count": null,
   "metadata": {},
   "outputs": [],
   "source": []
  }
 ],
 "metadata": {
  "kernelspec": {
   "display_name": "Python 3",
   "language": "python",
   "name": "python3"
  },
  "language_info": {
   "codemirror_mode": {
    "name": "ipython",
    "version": 3
   },
   "file_extension": ".py",
   "mimetype": "text/x-python",
   "name": "python",
   "nbconvert_exporter": "python",
   "pygments_lexer": "ipython3",
   "version": "3.13.1"
  }
 },
 "nbformat": 4,
 "nbformat_minor": 2
}
