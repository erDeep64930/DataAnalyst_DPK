{
 "cells": [
  {
   "cell_type": "markdown",
   "metadata": {},
   "source": [
    "# Special function in python\n",
    "\n",
    "- There are 3 special functions in python:- \n",
    "- map()\n",
    "- filter()\n",
    "- reduce()\n"
   ]
  },
  {
   "cell_type": "markdown",
   "metadata": {},
   "source": [
    "# filter():-\n",
    "\n",
    "- filter() function in python is used to create a new list from elements of an iterable for which a function returns true.\n",
    "- Syntax:varname = filter(functionName, iterableObject)"
   ]
  },
  {
   "cell_type": "code",
   "execution_count": null,
   "metadata": {},
   "outputs": [
    {
     "name": "stdout",
     "output_type": "stream",
     "text": [
      "<filter object at 0x0000021442C9B4C0> <class 'filter'>\n",
      "[10, 20, 30, 40, 70] <class 'list'>\n"
     ]
    }
   ],
   "source": [
    "\n",
    "\n",
    "def pos(val):\n",
    "    if(val>0):\n",
    "        return True\n",
    "    else:\n",
    "        return False\n",
    "\n",
    "lst=[10,20,30,-1,-10,-20,40,-50,0, 70]\n",
    "positiveList=filter(pos,lst)\n",
    "print(positiveList,type(positiveList))\n",
    "pslst=list(positiveList)\n",
    "print(pslst,type(pslst))\n",
    "\n"
   ]
  },
  {
   "cell_type": "code",
   "execution_count": 7,
   "metadata": {},
   "outputs": [
    {
     "name": "stdout",
     "output_type": "stream",
     "text": [
      "<filter object at 0x0000021442C9B4C0> <class 'filter'>\n",
      "[-1, -10, -20, -50] <class 'list'>\n"
     ]
    }
   ],
   "source": [
    "#  to find the neg value\n",
    "def neg(val):\n",
    "    if (val<0):\n",
    "        return True\n",
    "    else:\n",
    "        return False\n",
    "\n",
    "\n",
    "lst=[10,20,30,-1,-10,-20,40,-50,0, 70]\n",
    "negativeList=filter(neg,lst)\n",
    "print(positiveList,type(positiveList))\n",
    "nslst=list(negativeList)\n",
    "print(nslst,type(nslst))"
   ]
  },
  {
   "cell_type": "code",
   "execution_count": 9,
   "metadata": {},
   "outputs": [
    {
     "name": "stdout",
     "output_type": "stream",
     "text": [
      "<filter object at 0x0000021442B6B970> <class 'filter'>\n",
      "[10, 20, 30, 40, 70] <class 'filter'>\n",
      "[-1, -10, -20, -50] <class 'list'>\n"
     ]
    }
   ],
   "source": [
    "# writing via lambda function\n",
    "\n",
    "pos= lambda val: val>0\n",
    "neg= lambda val: val<0\n",
    "\n",
    "lst=[10,20,30,-1,-10,-20,40,-50,0, 70]\n",
    "positiveList=filter(pos,lst)\n",
    "negativeList=filter(neg,lst)\n",
    "print(positiveList,type(positiveList))\n",
    "pslst=list(positiveList)\n",
    "print(pslst,type(negativeList))\n",
    "nslst=list(negativeList)\n",
    "print(nslst,type(nslst))"
   ]
  },
  {
   "cell_type": "code",
   "execution_count": 13,
   "metadata": {},
   "outputs": [
    {
     "name": "stdout",
     "output_type": "stream",
     "text": [
      "enter list of values speaparated by space:\n",
      "content of the list= [10, 20, 30, 40, 50, 60, -10, -80, -50, -90]\n",
      "list of positive value=[10, 20, 30, 40, 50, 60] \n",
      " and list of negative value is [-10, -80, -50, -90]\n"
     ]
    }
   ],
   "source": [
    "# accept dynamically value from keywords:\n",
    "print(\"enter list of values speaparated by space:\")\n",
    "lst=[int(val) for val in input().split()]\n",
    "print(\"content of the list=\",lst)\n",
    "\n",
    "# define function to filter the pos and neg\n",
    "pos= lambda val:val>0\n",
    "# define function to filter the negative value\n",
    "neg=lambda val:val<0\n",
    "# filter the positive and negative value \n",
    "ps=list(filter(pos,lst))\n",
    "ns=list(filter(neg,lst))\n",
    "print(\"list of positive value={} \\n and list of negative value is {}\".format(ps,ns))"
   ]
  },
  {
   "cell_type": "code",
   "execution_count": 15,
   "metadata": {},
   "outputs": [
    {
     "name": "stdout",
     "output_type": "stream",
     "text": [
      "Enter list of values separated by space:\n",
      "content of list= [10, 20, 11, 123, -90, -1, -5, -10, -20, 50, 60]\n",
      "list of positive even numbers= [10, 20, 50, 60]\n",
      "list of negative even numbers= [-90, -10, -20]\n"
     ]
    }
   ],
   "source": [
    "print(\"Enter list of values separated by space:\")\n",
    "lst=[int(val) for val in input().split()]\n",
    "print(\"content of list=\",lst)\n",
    "psEvenLst=list(filter(lambda val: val>0 and val%2==0,lst))\n",
    "nsEvenLst=list(filter(lambda val: val<0 and val%2==0,lst))\n",
    "print(\"list of positive even numbers=\",psEvenLst)\n",
    "print(\"list of negative even numbers=\",nsEvenLst)"
   ]
  },
  {
   "cell_type": "code",
   "execution_count": null,
   "metadata": {},
   "outputs": [],
   "source": [
    "# wap to find the number , aplhabet , vowel, special symbol\n",
    "\n",
    "#value =\"P2y&t0onP2r*g#m\""
   ]
  },
  {
   "cell_type": "code",
   "execution_count": 21,
   "metadata": {},
   "outputs": [
    {
     "name": "stdout",
     "output_type": "stream",
     "text": [
      "['P', 'y', 't', 'o', 'n', 'P', 'r', 'g', 'm']\n",
      "PytonPrgm\n"
     ]
    }
   ],
   "source": [
    "value =\"P2y&t0onP2r*g#m\"\n",
    "aplhas= list(filter(lambda ch:ch.isalpha(),value))\n",
    "print(aplhas)\n",
    "print(\"\".join(aplhas))"
   ]
  },
  {
   "cell_type": "code",
   "execution_count": 23,
   "metadata": {},
   "outputs": [
    {
     "name": "stdout",
     "output_type": "stream",
     "text": [
      "('2', '0', '2')\n",
      "202\n",
      "022\n",
      "220\n"
     ]
    }
   ],
   "source": [
    "digits=tuple(filter(lambda ch:ch.isdigit(),value))\n",
    "print(digits)\n",
    "print(\"\".join(digits))\n",
    "print(\"\".join(sorted(digits)))\n",
    "print(\"\".join(sorted(digits)[::-1]))"
   ]
  },
  {
   "cell_type": "code",
   "execution_count": 25,
   "metadata": {},
   "outputs": [
    {
     "name": "stdout",
     "output_type": "stream",
     "text": [
      "['&', '*', '#']\n"
     ]
    }
   ],
   "source": [
    "# special symbol\n",
    "symbols=list(filter(lambda ch: not ch.isalnum(),value))\n",
    "print(symbols)"
   ]
  },
  {
   "cell_type": "code",
   "execution_count": 26,
   "metadata": {},
   "outputs": [
    {
     "name": "stdout",
     "output_type": "stream",
     "text": [
      "['P', 'P']\n",
      "PP\n"
     ]
    }
   ],
   "source": [
    "value =\"P2y&t0onP2r*g#m\"\n",
    "aplhas= list(filter(lambda ch:ch.isalpha() and ch.isupper(),value))\n",
    "print(aplhas)\n",
    "print(\"\".join(aplhas))"
   ]
  },
  {
   "cell_type": "code",
   "execution_count": null,
   "metadata": {},
   "outputs": [],
   "source": []
  },
  {
   "cell_type": "code",
   "execution_count": null,
   "metadata": {},
   "outputs": [],
   "source": []
  },
  {
   "cell_type": "code",
   "execution_count": null,
   "metadata": {},
   "outputs": [],
   "source": []
  },
  {
   "cell_type": "code",
   "execution_count": null,
   "metadata": {},
   "outputs": [],
   "source": []
  },
  {
   "cell_type": "code",
   "execution_count": null,
   "metadata": {},
   "outputs": [],
   "source": []
  },
  {
   "cell_type": "code",
   "execution_count": null,
   "metadata": {},
   "outputs": [],
   "source": []
  }
 ],
 "metadata": {
  "kernelspec": {
   "display_name": "Python 3",
   "language": "python",
   "name": "python3"
  },
  "language_info": {
   "codemirror_mode": {
    "name": "ipython",
    "version": 3
   },
   "file_extension": ".py",
   "mimetype": "text/x-python",
   "name": "python",
   "nbconvert_exporter": "python",
   "pygments_lexer": "ipython3",
   "version": "3.13.1"
  }
 },
 "nbformat": 4,
 "nbformat_minor": 2
}
