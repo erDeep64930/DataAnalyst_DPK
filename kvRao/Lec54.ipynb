{
 "cells": [
  {
   "cell_type": "markdown",
   "metadata": {},
   "source": [
    "# parameter and argument\n",
    "__________________\n",
    "\n",
    "# Parameter:-\n",
    " \n",
    " - parameter are classified into two types:-\n",
    " 1. Formal parameter\n",
    " 2. Local parameter/ variable\n",
    "\n",
    " - Formal parameter are those which are used in function heading .\n",
    " - the purpose of of formal parameter is to \" store  or hold input coming from function call\"\n",
    " \n",
    "\n",
    "____________________________\n",
    "\n",
    "# local variable\n",
    "\n",
    "- local variable are those which are used as a part of function body\n",
    "- the purpose of local variable is to \" store result of function processing logic\n",
    "\n",
    "# Example :-\n",
    "\n",
    "-def functionName(a,b,c): # a,b,c are called formal parameter\n",
    "-d= a+b+c # d is called local variable\n",
    "\n",
    "# Argument \n",
    "\n",
    "- argument are also called variable\n",
    "- argument are used inside function call\n",
    "____________________________________\n",
    "\n",
    "- the relationship between argument and parameter is that every value of argument must pass to formal parameter\n",
    "- based on passing the value of argument to formal parameter , argument are classified into 5 types:-\n",
    " 1. Positional argument\n",
    " 2. default argument\n",
    " 3. keyword argument\n",
    " 4. variable length argument\n",
    " 5. keyword variable length\n"
   ]
  },
  {
   "cell_type": "markdown",
   "metadata": {},
   "source": []
  }
 ],
 "metadata": {
  "language_info": {
   "name": "python"
  }
 },
 "nbformat": 4,
 "nbformat_minor": 2
}
