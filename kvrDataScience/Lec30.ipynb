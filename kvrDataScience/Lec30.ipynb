{
 "cells": [
  {
   "cell_type": "markdown",
   "metadata": {},
   "source": [
    "Adding new column name to data frame :-"
   ]
  },
  {
   "cell_type": "code",
   "execution_count": 19,
   "metadata": {},
   "outputs": [],
   "source": [
    "# how to add a new column \n",
    "# eno,name,sal,comm,compname\n",
    "# 100,rossum,34.56,10.00,psf\n"
   ]
  },
  {
   "cell_type": "code",
   "execution_count": 20,
   "metadata": {},
   "outputs": [],
   "source": [
    "import numpy as np\n",
    "import pandas as pd"
   ]
  },
  {
   "cell_type": "code",
   "execution_count": 21,
   "metadata": {},
   "outputs": [
    {
     "name": "stdout",
     "output_type": "stream",
     "text": [
      "   sno   sname  marks\n",
      "0  100  rossum  45.67\n",
      "1  200  travis  56.87\n",
      "2  300  hunter  66.10\n"
     ]
    }
   ],
   "source": [
    "# get the data\n",
    "df=pd.read_csv(\"D:\\\\clone\\\\DataAnalyst_DPK\\\\files\\\\student.csv\")\n",
    "print(df)"
   ]
  },
  {
   "cell_type": "code",
   "execution_count": 22,
   "metadata": {},
   "outputs": [],
   "source": [
    "# add a new column -total salary\n",
    "# syntax for adding a new column name\n",
    "# dataFrameObj[new column name]=value/expression\n",
    "\n",
    "df[\"totsal\"]=100\n"
   ]
  },
  {
   "cell_type": "code",
   "execution_count": 23,
   "metadata": {},
   "outputs": [
    {
     "name": "stdout",
     "output_type": "stream",
     "text": [
      "   sno   sname  marks  totsal\n",
      "0  100  rossum  45.67     100\n",
      "1  200  travis  56.87     100\n",
      "2  300  hunter  66.10     100\n"
     ]
    }
   ],
   "source": [
    "print(df)"
   ]
  },
  {
   "cell_type": "code",
   "execution_count": 24,
   "metadata": {},
   "outputs": [
    {
     "name": "stdout",
     "output_type": "stream",
     "text": [
      "   sno     name   sal  comm         com\n",
      "0  100   rossum  8000    80         psf\n",
      "1  200   travis  3500    35       numpy\n",
      "2  300   kinney  4000    65      pandas\n",
      "3  400  brendam  6000    50  javascript\n",
      "4  500    rohit  5000    80       react\n",
      "5  600   hunter  5500    90        next\n"
     ]
    }
   ],
   "source": [
    "# get the data\n",
    "df=pd.read_csv(\"D:\\\\clone\\\\DataAnalyst_DPK\\\\files\\\\emp.csv\")\n",
    "print(df)"
   ]
  },
  {
   "cell_type": "code",
   "execution_count": 27,
   "metadata": {},
   "outputs": [
    {
     "name": "stdout",
     "output_type": "stream",
     "text": [
      "   sno     name   sal  comm         com  totalSal\n",
      "0  100   rossum  8000    80         psf      8080\n",
      "1  200   travis  3500    35       numpy      3535\n",
      "2  300   kinney  4000    65      pandas      4065\n",
      "3  400  brendam  6000    50  javascript      6050\n",
      "4  500    rohit  5000    80       react      5080\n",
      "5  600   hunter  5500    90        next      5590\n"
     ]
    }
   ],
   "source": [
    "# adding a new column to a data frame :-\n",
    "# print the total salary\n",
    "df[\"totalSal\"]=df[\"sal\"]+df[\"comm\"]\n",
    "print(df)"
   ]
  },
  {
   "cell_type": "code",
   "execution_count": null,
   "metadata": {},
   "outputs": [],
   "source": [
    "# export or modify the emp.csv with modified data \n",
    "# to do this we use \n",
    "# dataFrameObj.to_csv(\"absolute_path\")"
   ]
  },
  {
   "cell_type": "code",
   "execution_count": 28,
   "metadata": {},
   "outputs": [
    {
     "name": "stdout",
     "output_type": "stream",
     "text": [
      "   sno     name   sal  comm         com  totalSal\n",
      "0  100   rossum  8000    80         psf      8080\n",
      "1  200   travis  3500    35       numpy      3535\n",
      "2  300   kinney  4000    65      pandas      4065\n",
      "3  400  brendam  6000    50  javascript      6050\n",
      "4  500    rohit  5000    80       react      5080\n",
      "5  600   hunter  5500    90        next      5590\n"
     ]
    }
   ],
   "source": [
    "df.to_csv(\"D:\\\\clone\\\\DataAnalyst_DPK\\\\files\\\\Modifiedemp.csv\")\n",
    "print(df)"
   ]
  },
  {
   "cell_type": "code",
   "execution_count": 29,
   "metadata": {},
   "outputs": [
    {
     "name": "stdout",
     "output_type": "stream",
     "text": [
      "{'a': [10, 20, 30, 40], 'b': [1, 2, 3, 4], 'c': [1.1, 2.2, 3.3, 4.4]} <class 'dict'>\n"
     ]
    }
   ],
   "source": [
    "# another example\n",
    "d={\"a\":[10,20,30,40],\"b\":[1,2,3,4],\"c\":[1.1,2.2,3.3,4.4]}\n",
    "print(d,type(d))"
   ]
  },
  {
   "cell_type": "code",
   "execution_count": 30,
   "metadata": {},
   "outputs": [
    {
     "name": "stdout",
     "output_type": "stream",
     "text": [
      "a --> [10, 20, 30, 40]\n",
      "b --> [1, 2, 3, 4]\n",
      "c --> [1.1, 2.2, 3.3, 4.4]\n"
     ]
    }
   ],
   "source": [
    "for key,val in d.items():\n",
    "    print(key,\"-->\",val)"
   ]
  },
  {
   "cell_type": "code",
   "execution_count": 31,
   "metadata": {},
   "outputs": [
    {
     "name": "stdout",
     "output_type": "stream",
     "text": [
      "    a  b    c\n",
      "0  10  1  1.1\n",
      "1  20  2  2.2\n",
      "2  30  3  3.3\n",
      "3  40  4  4.4\n"
     ]
    }
   ],
   "source": [
    "# convert dict object into dataframe\n",
    "df=pd.DataFrame(d)\n",
    "print(df)"
   ]
  },
  {
   "cell_type": "code",
   "execution_count": 33,
   "metadata": {},
   "outputs": [
    {
     "name": "stdout",
     "output_type": "stream",
     "text": [
      "    a  b    c     d   sum\n",
      "0  10  1  1.1  12.1  12.1\n",
      "1  20  2  2.2  24.2  24.2\n",
      "2  30  3  3.3  36.3  36.3\n",
      "3  40  4  4.4  48.4  48.4\n"
     ]
    }
   ],
   "source": [
    "# add a new column and add the value of a,b,c in it\n",
    "df[\"sum\"]=df[\"a\"]+df[\"b\"]+df[\"c\"]\n",
    "print(df)"
   ]
  },
  {
   "cell_type": "code",
   "execution_count": 34,
   "metadata": {},
   "outputs": [],
   "source": [
    "df.to_csv(\"D:\\\\clone\\\\DataAnalyst_DPK\\\\files\\\\dictSum.csv\")"
   ]
  },
  {
   "cell_type": "code",
   "execution_count": 35,
   "metadata": {},
   "outputs": [
    {
     "name": "stdout",
     "output_type": "stream",
     "text": [
      "    a  b    c     d   sum  percentage\n",
      "0  10  1  1.1  12.1  12.1        12.1\n",
      "1  20  2  2.2  24.2  24.2        24.2\n",
      "2  30  3  3.3  36.3  36.3        36.3\n",
      "3  40  4  4.4  48.4  48.4        48.4\n"
     ]
    }
   ],
   "source": [
    "# calculate the %\n",
    "df[\"percentage\"]=(df[\"sum\"]/100)*100\n",
    "print(df)"
   ]
  },
  {
   "cell_type": "code",
   "execution_count": 40,
   "metadata": {},
   "outputs": [
    {
     "name": "stdout",
     "output_type": "stream",
     "text": [
      "   sno    name  eng  math  science\n",
      "0    1  dhurvi   98   100       99\n",
      "1    2  deepak   95    96       92\n",
      "2    3    itty   95    96       94\n",
      "3    4  rossum   99    98       93\n",
      "--------------------------------------------------\n",
      "--------------------------------------------------\n",
      "   sno    name  eng  math  science\n",
      "0    1  dhurvi   98   100       99\n",
      "1    2  deepak   95    96       92\n",
      "2    3    itty   95    96       94\n",
      "3    4  rossum   99    98       93\n"
     ]
    }
   ],
   "source": [
    "# create a student data table\n",
    "studentData={\"sno\":[1,2,3,4],\"name\":[\"dhurvi\",\"deepak\",\"itty\",\"rossum\"],\"eng\":[98,95,95,99],\"math\":[100,96,96,98],\"science\":[99,92,94,93]}\n",
    "\n",
    "# convert dict object into dataframe\n",
    "df=pd.DataFrame(studentData)\n",
    "print(df)\n",
    "print(\"-\"*50)\n",
    "df.to_csv(\"D:\\\\clone\\\\DataAnalyst_DPK\\\\files\\\\studentData.csv\")\n",
    "print(\"-\"*50)\n",
    "print(df)"
   ]
  },
  {
   "cell_type": "code",
   "execution_count": 45,
   "metadata": {},
   "outputs": [
    {
     "name": "stdout",
     "output_type": "stream",
     "text": [
      "   sno    name  eng  math  science  total\n",
      "0    1  dhurvi   98   100       99    297\n",
      "1    2  deepak   95    96       92    283\n",
      "2    3    itty   95    96       94    285\n",
      "3    4  rossum   99    98       93    290\n"
     ]
    }
   ],
   "source": [
    "# cal the total marks\n",
    "df[\"total\"]=df[\"eng\"]+df[\"math\"]+df[\"science\"]\n",
    "print(df)"
   ]
  },
  {
   "cell_type": "code",
   "execution_count": 53,
   "metadata": {},
   "outputs": [
    {
     "name": "stdout",
     "output_type": "stream",
     "text": [
      "   sno    name  eng  math  science  total  fullMarks  percentage\n",
      "0    1  dhurvi   98   100       99    297        300       74.25\n",
      "1    2  deepak   95    96       92    283        300       70.75\n",
      "2    3    itty   95    96       94    285        300       71.25\n",
      "3    4  rossum   99    98       93    290        300       72.50\n"
     ]
    }
   ],
   "source": [
    "# full marks subject wise\n",
    "df[\"fullMarks\"]=300\n",
    "print(df)"
   ]
  },
  {
   "cell_type": "code",
   "execution_count": 56,
   "metadata": {},
   "outputs": [
    {
     "name": "stdout",
     "output_type": "stream",
     "text": [
      "   sno    name  eng  math  science  total  fullMarks  percentage\n",
      "0    1  dhurvi   98   100       99    297        300       99.00\n",
      "1    2  deepak   95    96       92    283        300       94.33\n",
      "2    3    itty   95    96       94    285        300       95.00\n",
      "3    4  rossum   99    98       93    290        300       96.67\n"
     ]
    }
   ],
   "source": [
    "# cal the %\n",
    "df[\"percentage\"]=round((df[\"total\"]/df[\"fullMarks\"])*100,2)\n",
    "print(df)"
   ]
  },
  {
   "cell_type": "code",
   "execution_count": null,
   "metadata": {},
   "outputs": [],
   "source": [
    "# give the grade acording to %\n",
    "# filtering the data\n"
   ]
  },
  {
   "cell_type": "code",
   "execution_count": 57,
   "metadata": {},
   "outputs": [],
   "source": [
    "df.to_csv(\"D:\\\\clone\\\\DataAnalyst_DPK\\\\files\\\\ModifiedstudentData.csv\")"
   ]
  },
  {
   "cell_type": "code",
   "execution_count": 58,
   "metadata": {},
   "outputs": [
    {
     "name": "stdout",
     "output_type": "stream",
     "text": [
      "   sno    name  eng  math  science  total  fullMarks  percentage\n",
      "0    1  dhurvi   98   100       99    297        300       99.00\n",
      "1    2  deepak   95    96       92    283        300       94.33\n",
      "2    3    itty   95    96       94    285        300       95.00\n",
      "3    4  rossum   99    98       93    290        300       96.67\n"
     ]
    }
   ],
   "source": [
    "print(df)"
   ]
  },
  {
   "cell_type": "markdown",
   "metadata": {},
   "source": [
    "# Filtering the data in pandas"
   ]
  },
  {
   "cell_type": "code",
   "execution_count": null,
   "metadata": {},
   "outputs": [],
   "source": [
    "# example on filtering the data"
   ]
  },
  {
   "cell_type": "code",
   "execution_count": 59,
   "metadata": {},
   "outputs": [
    {
     "name": "stdout",
     "output_type": "stream",
     "text": [
      "   sno     name   sal  comm         com\n",
      "0  100   rossum  8000    80         psf\n",
      "1  200   travis  3500    35       numpy\n",
      "2  300   kinney  4000    65      pandas\n",
      "3  400  brendam  6000    50  javascript\n",
      "4  500    rohit  5000    80       react\n",
      "5  600   hunter  5500    90        next\n"
     ]
    }
   ],
   "source": [
    "# get the data\n",
    "df=pd.read_csv(\"D:\\\\clone\\\\DataAnalyst_DPK\\\\files\\\\emp.csv\")\n",
    "print(df)"
   ]
  },
  {
   "cell_type": "code",
   "execution_count": 60,
   "metadata": {},
   "outputs": [
    {
     "data": {
      "text/plain": [
       "0     True\n",
       "1    False\n",
       "2    False\n",
       "3     True\n",
       "4    False\n",
       "5     True\n",
       "Name: sal, dtype: bool"
      ]
     },
     "execution_count": 60,
     "metadata": {},
     "output_type": "execute_result"
    }
   ],
   "source": [
    "df[\"sal\"]>5000"
   ]
  },
  {
   "cell_type": "code",
   "execution_count": null,
   "metadata": {},
   "outputs": [],
   "source": [
    "# it will give the boolean array"
   ]
  },
  {
   "cell_type": "code",
   "execution_count": 62,
   "metadata": {},
   "outputs": [
    {
     "data": {
      "text/html": [
       "<div>\n",
       "<style scoped>\n",
       "    .dataframe tbody tr th:only-of-type {\n",
       "        vertical-align: middle;\n",
       "    }\n",
       "\n",
       "    .dataframe tbody tr th {\n",
       "        vertical-align: top;\n",
       "    }\n",
       "\n",
       "    .dataframe thead th {\n",
       "        text-align: right;\n",
       "    }\n",
       "</style>\n",
       "<table border=\"1\" class=\"dataframe\">\n",
       "  <thead>\n",
       "    <tr style=\"text-align: right;\">\n",
       "      <th></th>\n",
       "      <th>sno</th>\n",
       "      <th>name</th>\n",
       "      <th>sal</th>\n",
       "      <th>comm</th>\n",
       "      <th>com</th>\n",
       "    </tr>\n",
       "  </thead>\n",
       "  <tbody>\n",
       "    <tr>\n",
       "      <th>0</th>\n",
       "      <td>100</td>\n",
       "      <td>rossum</td>\n",
       "      <td>8000</td>\n",
       "      <td>80</td>\n",
       "      <td>psf</td>\n",
       "    </tr>\n",
       "    <tr>\n",
       "      <th>3</th>\n",
       "      <td>400</td>\n",
       "      <td>brendam</td>\n",
       "      <td>6000</td>\n",
       "      <td>50</td>\n",
       "      <td>javascript</td>\n",
       "    </tr>\n",
       "    <tr>\n",
       "      <th>5</th>\n",
       "      <td>600</td>\n",
       "      <td>hunter</td>\n",
       "      <td>5500</td>\n",
       "      <td>90</td>\n",
       "      <td>next</td>\n",
       "    </tr>\n",
       "  </tbody>\n",
       "</table>\n",
       "</div>"
      ],
      "text/plain": [
       "   sno     name   sal  comm         com\n",
       "0  100   rossum  8000    80         psf\n",
       "3  400  brendam  6000    50  javascript\n",
       "5  600   hunter  5500    90        next"
      ]
     },
     "execution_count": 62,
     "metadata": {},
     "output_type": "execute_result"
    }
   ],
   "source": [
    "df[df[\"sal\"]>5000]\n"
   ]
  },
  {
   "cell_type": "code",
   "execution_count": null,
   "metadata": {},
   "outputs": [
    {
     "data": {
      "text/plain": [
       "0     True\n",
       "1    False\n",
       "2    False\n",
       "3     True\n",
       "4     True\n",
       "5     True\n",
       "Name: sal, dtype: bool"
      ]
     },
     "execution_count": 64,
     "metadata": {},
     "output_type": "execute_result"
    }
   ],
   "source": [
    "# get the names of those employee whose salary range between 5000 and 9000\n",
    "(df[\"sal\"]>=5000) & (df[\"sal\"]<9000)"
   ]
  },
  {
   "cell_type": "code",
   "execution_count": 65,
   "metadata": {},
   "outputs": [
    {
     "data": {
      "text/html": [
       "<div>\n",
       "<style scoped>\n",
       "    .dataframe tbody tr th:only-of-type {\n",
       "        vertical-align: middle;\n",
       "    }\n",
       "\n",
       "    .dataframe tbody tr th {\n",
       "        vertical-align: top;\n",
       "    }\n",
       "\n",
       "    .dataframe thead th {\n",
       "        text-align: right;\n",
       "    }\n",
       "</style>\n",
       "<table border=\"1\" class=\"dataframe\">\n",
       "  <thead>\n",
       "    <tr style=\"text-align: right;\">\n",
       "      <th></th>\n",
       "      <th>sno</th>\n",
       "      <th>name</th>\n",
       "      <th>sal</th>\n",
       "      <th>comm</th>\n",
       "      <th>com</th>\n",
       "    </tr>\n",
       "  </thead>\n",
       "  <tbody>\n",
       "    <tr>\n",
       "      <th>0</th>\n",
       "      <td>100</td>\n",
       "      <td>rossum</td>\n",
       "      <td>8000</td>\n",
       "      <td>80</td>\n",
       "      <td>psf</td>\n",
       "    </tr>\n",
       "    <tr>\n",
       "      <th>3</th>\n",
       "      <td>400</td>\n",
       "      <td>brendam</td>\n",
       "      <td>6000</td>\n",
       "      <td>50</td>\n",
       "      <td>javascript</td>\n",
       "    </tr>\n",
       "    <tr>\n",
       "      <th>4</th>\n",
       "      <td>500</td>\n",
       "      <td>rohit</td>\n",
       "      <td>5000</td>\n",
       "      <td>80</td>\n",
       "      <td>react</td>\n",
       "    </tr>\n",
       "    <tr>\n",
       "      <th>5</th>\n",
       "      <td>600</td>\n",
       "      <td>hunter</td>\n",
       "      <td>5500</td>\n",
       "      <td>90</td>\n",
       "      <td>next</td>\n",
       "    </tr>\n",
       "  </tbody>\n",
       "</table>\n",
       "</div>"
      ],
      "text/plain": [
       "   sno     name   sal  comm         com\n",
       "0  100   rossum  8000    80         psf\n",
       "3  400  brendam  6000    50  javascript\n",
       "4  500    rohit  5000    80       react\n",
       "5  600   hunter  5500    90        next"
      ]
     },
     "execution_count": 65,
     "metadata": {},
     "output_type": "execute_result"
    }
   ],
   "source": [
    "# get the data\n",
    "df[(df[\"sal\"]>=5000) & (df[\"sal\"]<9000)]"
   ]
  },
  {
   "cell_type": "code",
   "execution_count": 66,
   "metadata": {},
   "outputs": [
    {
     "data": {
      "text/html": [
       "<div>\n",
       "<style scoped>\n",
       "    .dataframe tbody tr th:only-of-type {\n",
       "        vertical-align: middle;\n",
       "    }\n",
       "\n",
       "    .dataframe tbody tr th {\n",
       "        vertical-align: top;\n",
       "    }\n",
       "\n",
       "    .dataframe thead th {\n",
       "        text-align: right;\n",
       "    }\n",
       "</style>\n",
       "<table border=\"1\" class=\"dataframe\">\n",
       "  <thead>\n",
       "    <tr style=\"text-align: right;\">\n",
       "      <th></th>\n",
       "      <th>name</th>\n",
       "      <th>sal</th>\n",
       "    </tr>\n",
       "  </thead>\n",
       "  <tbody>\n",
       "    <tr>\n",
       "      <th>0</th>\n",
       "      <td>rossum</td>\n",
       "      <td>8000</td>\n",
       "    </tr>\n",
       "    <tr>\n",
       "      <th>3</th>\n",
       "      <td>brendam</td>\n",
       "      <td>6000</td>\n",
       "    </tr>\n",
       "    <tr>\n",
       "      <th>4</th>\n",
       "      <td>rohit</td>\n",
       "      <td>5000</td>\n",
       "    </tr>\n",
       "    <tr>\n",
       "      <th>5</th>\n",
       "      <td>hunter</td>\n",
       "      <td>5500</td>\n",
       "    </tr>\n",
       "  </tbody>\n",
       "</table>\n",
       "</div>"
      ],
      "text/plain": [
       "      name   sal\n",
       "0   rossum  8000\n",
       "3  brendam  6000\n",
       "4    rohit  5000\n",
       "5   hunter  5500"
      ]
     },
     "execution_count": 66,
     "metadata": {},
     "output_type": "execute_result"
    }
   ],
   "source": [
    "# print only name and sal\n",
    "df[(df[\"sal\"]>=5000) & (df[\"sal\"]<9000)][[\"name\",\"sal\"]]"
   ]
  },
  {
   "cell_type": "code",
   "execution_count": 67,
   "metadata": {},
   "outputs": [
    {
     "data": {
      "text/plain": [
       "0    False\n",
       "1     True\n",
       "2    False\n",
       "3    False\n",
       "4    False\n",
       "5    False\n",
       "Name: com, dtype: bool"
      ]
     },
     "execution_count": 67,
     "metadata": {},
     "output_type": "execute_result"
    }
   ],
   "source": [
    "# get the emplyee name who only work in numpy\n",
    "df[\"com\"]==\"numpy\""
   ]
  },
  {
   "cell_type": "code",
   "execution_count": 68,
   "metadata": {},
   "outputs": [
    {
     "data": {
      "text/html": [
       "<div>\n",
       "<style scoped>\n",
       "    .dataframe tbody tr th:only-of-type {\n",
       "        vertical-align: middle;\n",
       "    }\n",
       "\n",
       "    .dataframe tbody tr th {\n",
       "        vertical-align: top;\n",
       "    }\n",
       "\n",
       "    .dataframe thead th {\n",
       "        text-align: right;\n",
       "    }\n",
       "</style>\n",
       "<table border=\"1\" class=\"dataframe\">\n",
       "  <thead>\n",
       "    <tr style=\"text-align: right;\">\n",
       "      <th></th>\n",
       "      <th>name</th>\n",
       "      <th>sal</th>\n",
       "    </tr>\n",
       "  </thead>\n",
       "  <tbody>\n",
       "    <tr>\n",
       "      <th>1</th>\n",
       "      <td>travis</td>\n",
       "      <td>3500</td>\n",
       "    </tr>\n",
       "  </tbody>\n",
       "</table>\n",
       "</div>"
      ],
      "text/plain": [
       "     name   sal\n",
       "1  travis  3500"
      ]
     },
     "execution_count": 68,
     "metadata": {},
     "output_type": "execute_result"
    }
   ],
   "source": [
    "df[df[\"com\"]==\"numpy\"][[\"name\",\"sal\"]]"
   ]
  },
  {
   "cell_type": "code",
   "execution_count": 69,
   "metadata": {},
   "outputs": [
    {
     "data": {
      "text/plain": [
       "np.int64(32000)"
      ]
     },
     "execution_count": 69,
     "metadata": {},
     "output_type": "execute_result"
    }
   ],
   "source": [
    "#total sal paid to all the employee\n",
    "df[\"sal\"].sum()"
   ]
  },
  {
   "cell_type": "code",
   "execution_count": 71,
   "metadata": {},
   "outputs": [
    {
     "data": {
      "text/plain": [
       "0    False\n",
       "1    False\n",
       "2    False\n",
       "3    False\n",
       "4    False\n",
       "5    False\n",
       "Name: name, dtype: bool"
      ]
     },
     "execution_count": 71,
     "metadata": {},
     "output_type": "execute_result"
    }
   ],
   "source": [
    "# find the emp who are working in numpy and react\n",
    "(df[\"name\"]==\"react\")| (df[\"name\"]==\"numpy\")"
   ]
  },
  {
   "cell_type": "code",
   "execution_count": 76,
   "metadata": {},
   "outputs": [
    {
     "data": {
      "text/html": [
       "<div>\n",
       "<style scoped>\n",
       "    .dataframe tbody tr th:only-of-type {\n",
       "        vertical-align: middle;\n",
       "    }\n",
       "\n",
       "    .dataframe tbody tr th {\n",
       "        vertical-align: top;\n",
       "    }\n",
       "\n",
       "    .dataframe thead th {\n",
       "        text-align: right;\n",
       "    }\n",
       "</style>\n",
       "<table border=\"1\" class=\"dataframe\">\n",
       "  <thead>\n",
       "    <tr style=\"text-align: right;\">\n",
       "      <th></th>\n",
       "      <th>name</th>\n",
       "      <th>sal</th>\n",
       "      <th>com</th>\n",
       "    </tr>\n",
       "  </thead>\n",
       "  <tbody>\n",
       "    <tr>\n",
       "      <th>1</th>\n",
       "      <td>travis</td>\n",
       "      <td>3500</td>\n",
       "      <td>numpy</td>\n",
       "    </tr>\n",
       "    <tr>\n",
       "      <th>4</th>\n",
       "      <td>rohit</td>\n",
       "      <td>5000</td>\n",
       "      <td>react</td>\n",
       "    </tr>\n",
       "  </tbody>\n",
       "</table>\n",
       "</div>"
      ],
      "text/plain": [
       "     name   sal    com\n",
       "1  travis  3500  numpy\n",
       "4   rohit  5000  react"
      ]
     },
     "execution_count": 76,
     "metadata": {},
     "output_type": "execute_result"
    }
   ],
   "source": [
    "df[(df[\"com\"]==\"react\")| (df[\"com\"]==\"numpy\")][[\"name\",\"sal\",\"com\"]]"
   ]
  },
  {
   "cell_type": "code",
   "execution_count": 78,
   "metadata": {},
   "outputs": [
    {
     "name": "stdout",
     "output_type": "stream",
     "text": [
      "travis\n",
      "rohit\n"
     ]
    }
   ],
   "source": [
    "for name in df[(df[\"com\"]==\"react\")| (df[\"com\"]==\"numpy\")][\"name\"]:\n",
    "    print(name)"
   ]
  },
  {
   "cell_type": "code",
   "execution_count": 79,
   "metadata": {},
   "outputs": [
    {
     "data": {
      "text/plain": [
       "0           psf\n",
       "1         numpy\n",
       "2        pandas\n",
       "3    javascript\n",
       "4         react\n",
       "5          next\n",
       "Name: com, dtype: object"
      ]
     },
     "execution_count": 79,
     "metadata": {},
     "output_type": "execute_result"
    }
   ],
   "source": [
    "# get he company name\n",
    "df[\"com\"]"
   ]
  },
  {
   "cell_type": "code",
   "execution_count": 80,
   "metadata": {},
   "outputs": [
    {
     "name": "stdout",
     "output_type": "stream",
     "text": [
      "psf\n",
      "numpy\n",
      "pandas\n",
      "javascript\n",
      "react\n",
      "next\n"
     ]
    }
   ],
   "source": [
    "for cname in df[\"com\"]:\n",
    "    print(cname)"
   ]
  },
  {
   "cell_type": "code",
   "execution_count": 81,
   "metadata": {},
   "outputs": [
    {
     "name": "stdout",
     "output_type": "stream",
     "text": [
      "   sno     name   sal  comm         com\n",
      "0  100   rossum  8000    80         psf\n",
      "1  200   travis  3500    35       numpy\n",
      "2  300   kinney  4000    65      pandas\n",
      "3  400  brendam  6000    50  javascript\n",
      "4  500    rohit  5000    80       react\n",
      "5  600   hunter  5500    90        next\n",
      "   sno     name   sal  comm         com\n",
      "0  100   rossum  8000    80         psf\n",
      "1  200   travis  3500    35       numpy\n",
      "2  300   kinney  4000    65      pandas\n",
      "3  400  brendam  6000    50  javascript\n",
      "4  500    rohit  5000    80       react\n",
      "5  600   hunter  5500    90        next\n"
     ]
    }
   ],
   "source": [
    "for cname in df[\"com\"]:\n",
    "    if cname in [\"numpy\",\"javascript\"]:\n",
    "        print(df)"
   ]
  },
  {
   "cell_type": "code",
   "execution_count": 82,
   "metadata": {},
   "outputs": [
    {
     "name": "stdout",
     "output_type": "stream",
     "text": [
      "{'name': 0     rossum\n",
      "1     travis\n",
      "2     kinney\n",
      "3    brendam\n",
      "4      rohit\n",
      "5     hunter\n",
      "Name: name, dtype: object, 'com': 0           psf\n",
      "1         numpy\n",
      "2        pandas\n",
      "3    javascript\n",
      "4         react\n",
      "5          next\n",
      "Name: com, dtype: object}\n"
     ]
    }
   ],
   "source": [
    "# another method\n",
    "x=dict(df[[\"name\",\"com\"]])\n",
    "print(x)"
   ]
  },
  {
   "cell_type": "code",
   "execution_count": 92,
   "metadata": {},
   "outputs": [
    {
     "data": {
      "text/plain": [
       "1     travis\n",
       "3    brendam\n",
       "Name: name, dtype: object"
      ]
     },
     "execution_count": 92,
     "metadata": {},
     "output_type": "execute_result"
    }
   ],
   "source": [
    "# get the data via loc\n",
    "df.loc[(df[\"com\"]==\"numpy\")| (df[\"com\"]==\"javascript\")][\"name\"]"
   ]
  },
  {
   "cell_type": "code",
   "execution_count": null,
   "metadata": {},
   "outputs": [],
   "source": []
  }
 ],
 "metadata": {
  "kernelspec": {
   "display_name": "Python 3",
   "language": "python",
   "name": "python3"
  },
  "language_info": {
   "codemirror_mode": {
    "name": "ipython",
    "version": 3
   },
   "file_extension": ".py",
   "mimetype": "text/x-python",
   "name": "python",
   "nbconvert_exporter": "python",
   "pygments_lexer": "ipython3",
   "version": "3.13.1"
  }
 },
 "nbformat": 4,
 "nbformat_minor": 2
}
