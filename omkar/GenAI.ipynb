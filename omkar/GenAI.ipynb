{
 "cells": [
  {
   "cell_type": "markdown",
   "id": "de90abbd-103e-4506-9581-367155281bdd",
   "metadata": {},
   "source": [
    "# syllabus \n",
    " -python\n",
    "\n",
    " -numpy\n",
    "\n",
    " -pandas\n",
    "\n",
    " -matplotlib\n",
    "\n",
    " -seaborn\n",
    "\n",
    " -maths and statistics\n",
    "\n",
    " -ML template & internal \n",
    "\n",
    " -Deep learning\n",
    "\n",
    " -NLP\n",
    "\n",
    " -CV\n",
    "\n",
    " -time series\n",
    "\n",
    " -azure\n",
    "\n",
    " -mlops (development)\n",
    "\n",
    " -excel\n",
    "\n",
    " -powerBI\n",
    "\n",
    " -tableau\n",
    "\n",
    " -\n",
    " "
   ]
  }
 ],
 "metadata": {
  "kernelspec": {
   "display_name": "Python 3 (ipykernel)",
   "language": "python",
   "name": "python3"
  },
  "language_info": {
   "codemirror_mode": {
    "name": "ipython",
    "version": 3
   },
   "file_extension": ".py",
   "mimetype": "text/x-python",
   "name": "python",
   "nbconvert_exporter": "python",
   "pygments_lexer": "ipython3",
   "version": "3.12.4"
  }
 },
 "nbformat": 4,
 "nbformat_minor": 5
}
