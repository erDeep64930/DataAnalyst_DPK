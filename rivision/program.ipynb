{
 "cells": [
  {
   "cell_type": "markdown",
   "metadata": {},
   "source": [
    "# Basic Program for interview "
   ]
  },
  {
   "cell_type": "code",
   "execution_count": 1,
   "metadata": {},
   "outputs": [
    {
     "name": "stdout",
     "output_type": "stream",
     "text": [
      "1\n",
      "3\n",
      "6\n",
      "10\n",
      "15\n",
      "21\n",
      "28\n",
      "36\n",
      "45\n",
      "55\n"
     ]
    }
   ],
   "source": [
    "# find the sum of first 10 natural number \n",
    "sum=0\n",
    "for i in range(1,11):\n",
    "    sum+=i\n",
    "    print(sum)"
   ]
  },
  {
   "cell_type": "code",
   "execution_count": 2,
   "metadata": {},
   "outputs": [
    {
     "name": "stdout",
     "output_type": "stream",
     "text": [
      "6*1=6\n",
      "6*2=12\n",
      "6*3=18\n",
      "6*4=24\n",
      "6*5=30\n",
      "6*6=36\n",
      "6*7=42\n",
      "6*8=48\n",
      "6*9=54\n",
      "6*10=60\n"
     ]
    }
   ],
   "source": [
    "# find the table of 6\n",
    "for i in range(1,11):\n",
    "    print(\"{}*{}={}\".format(6,i,6*i))"
   ]
  },
  {
   "cell_type": "code",
   "execution_count": 5,
   "metadata": {},
   "outputs": [
    {
     "name": "stdout",
     "output_type": "stream",
     "text": [
      "the square of 1 is 1\n",
      "the square of 2 is 4\n",
      "the square of 3 is 9\n",
      "the square of 4 is 16\n",
      "the square of 5 is 25\n",
      "the square of 6 is 36\n",
      "the square of 7 is 49\n",
      "the square of 8 is 64\n",
      "the square of 9 is 81\n",
      "the square of 10 is 100\n"
     ]
    }
   ],
   "source": [
    "# find the square of first 10 number \n",
    "\n",
    "for i in range(1,11):\n",
    "    print(\"the square of {} is {}\".format(i,i*i))"
   ]
  },
  {
   "cell_type": "code",
   "execution_count": 6,
   "metadata": {},
   "outputs": [
    {
     "name": "stdout",
     "output_type": "stream",
     "text": [
      "the cube of 1 is 1\n",
      "the cube of 2 is 8\n",
      "the cube of 3 is 27\n",
      "the cube of 4 is 64\n",
      "the cube of 5 is 125\n",
      "the cube of 6 is 216\n",
      "the cube of 7 is 343\n",
      "the cube of 8 is 512\n",
      "the cube of 9 is 729\n",
      "the cube of 10 is 1000\n"
     ]
    }
   ],
   "source": [
    "# wap to find the cube of first 10 natural number\n",
    "\n",
    "for i in range(1,11):\n",
    "    print(\"the cube of {} is {}\".format(i,i**3))"
   ]
  },
  {
   "cell_type": "code",
   "execution_count": 7,
   "metadata": {},
   "outputs": [
    {
     "name": "stdout",
     "output_type": "stream",
     "text": [
      "1 is odd\n",
      "2 is even\n",
      "3 is odd\n",
      "4 is even\n",
      "5 is odd\n",
      "6 is even\n",
      "7 is odd\n",
      "8 is even\n",
      "9 is odd\n",
      "10 is even\n"
     ]
    }
   ],
   "source": [
    "# wap to find the first 10 natural number and check even or odd\n",
    "\n",
    "for i in range(1,11):\n",
    "    if i%2==0:\n",
    "        print(\"{} is even\".format(i))\n",
    "    else:\n",
    "        print(\"{} is odd\".format(i))"
   ]
  },
  {
   "cell_type": "code",
   "execution_count": null,
   "metadata": {},
   "outputs": [
    {
     "name": "stdout",
     "output_type": "stream",
     "text": [
      "\t5!=120\n"
     ]
    }
   ],
   "source": [
    "# wap to find factorial \n",
    "n=int(input(\"Enter a Number for Cal factorial:\"))\n",
    "if(n<0):\n",
    "    print(\"{} is Invalid Input\".format(n))\n",
    "else:\n",
    "    f=1\n",
    "    for i in range(1,n+1):\n",
    "        f=f*i\n",
    "    else:\n",
    "        print(\"\\t{}!={}\".format(n,f))\n"
   ]
  },
  {
   "cell_type": "code",
   "execution_count": 12,
   "metadata": {},
   "outputs": [
    {
     "name": "stdout",
     "output_type": "stream",
     "text": [
      "20 sum of number is 1\n",
      "20 sum of number is 3\n",
      "20 sum of number is 6\n",
      "20 sum of number is 10\n",
      "20 sum of number is 15\n",
      "20 sum of number is 21\n",
      "20 sum of number is 28\n",
      "20 sum of number is 36\n",
      "20 sum of number is 45\n",
      "20 sum of number is 55\n",
      "20 sum of number is 66\n",
      "20 sum of number is 78\n",
      "20 sum of number is 91\n",
      "20 sum of number is 105\n",
      "20 sum of number is 120\n",
      "20 sum of number is 136\n",
      "20 sum of number is 153\n",
      "20 sum of number is 171\n",
      "20 sum of number is 190\n",
      "20 sum of number is 210\n"
     ]
    }
   ],
   "source": [
    "n=int(input(\"enter the number\"))\n",
    "if(n<0):\n",
    "    print(\"number you enter {} is invalid or negative\")\n",
    "else:\n",
    "    sum=0\n",
    "    for i in range(1,n+1):\n",
    "        sum+=i\n",
    "        print(\"{} sum of number is {}\".format(n,sum))"
   ]
  },
  {
   "cell_type": "code",
   "execution_count": 13,
   "metadata": {},
   "outputs": [
    {
     "name": "stdout",
     "output_type": "stream",
     "text": [
      "value of i outer loop:1\n",
      "------------------------------\n",
      "\tvalue of j-Inner Loop:1\n",
      "\tvalue of j-Inner Loop:2\n",
      "\tvalue of j-Inner Loop:3\n",
      "\tI am coming out of inner loop\n",
      "------------------------------\n",
      "value of i outer loop:2\n",
      "------------------------------\n",
      "\tvalue of j-Inner Loop:1\n",
      "\tvalue of j-Inner Loop:2\n",
      "\tvalue of j-Inner Loop:3\n",
      "\tI am coming out of inner loop\n",
      "------------------------------\n",
      "value of i outer loop:3\n",
      "------------------------------\n",
      "\tvalue of j-Inner Loop:1\n",
      "\tvalue of j-Inner Loop:2\n",
      "\tvalue of j-Inner Loop:3\n",
      "\tI am coming out of inner loop\n",
      "------------------------------\n",
      "value of i outer loop:4\n",
      "------------------------------\n",
      "\tvalue of j-Inner Loop:1\n",
      "\tvalue of j-Inner Loop:2\n",
      "\tvalue of j-Inner Loop:3\n",
      "\tI am coming out of inner loop\n",
      "------------------------------\n",
      "value of i outer loop:5\n",
      "------------------------------\n",
      "\tvalue of j-Inner Loop:1\n",
      "\tvalue of j-Inner Loop:2\n",
      "\tvalue of j-Inner Loop:3\n",
      "\tI am coming out of inner loop\n",
      "------------------------------\n",
      "I am coming out of outer loop\n"
     ]
    }
   ],
   "source": [
    "for i in range(1,6): # Outer Loop\n",
    "    print(\"value of i outer loop:{}\".format(i))\n",
    "    print(\"------------------------------\")\n",
    "    for j in range(1,4): # Inner Loop\n",
    "        print(\"\\tvalue of j-Inner Loop:{}\".format(j))\n",
    "    else:\n",
    "        print(\"\\tI am coming out of inner loop\")\n",
    "        print(\"------------------------------\")\n",
    "else:\n",
    "    print(\"I am coming out of outer loop\")"
   ]
  },
  {
   "cell_type": "code",
   "execution_count": null,
   "metadata": {},
   "outputs": [
    {
     "name": "stdout",
     "output_type": "stream",
     "text": [
      "--------------------------------------------------\n",
      "Mul Table for:11\n",
      "--------------------------------------------------\n",
      "\t11 x 1=11\n",
      "\t11 x 2=22\n",
      "\t11 x 3=33\n",
      "\t11 x 4=44\n",
      "\t11 x 5=55\n",
      "\t11 x 6=66\n",
      "\t11 x 7=77\n",
      "\t11 x 8=88\n",
      "\t11 x 9=99\n",
      "\t11 x 10=110\n",
      "**************************************************\n"
     ]
    }
   ],
   "source": [
    "#program for generating Mul Table for a given +ve number\n",
    "\n",
    "n=int(input(\"Enter a Number for generating Mul Table:\"))\n",
    "if(n<=0):\n",
    "    print(\"{} is Invalid Input\".format(n))\n",
    "else:\n",
    "    print('-'*50)\n",
    "    print(\"Mul Table for:{}\".format(n))\n",
    "    print('-' * 50)\n",
    "    i=1 # Init Part\n",
    "    while(i<11):\n",
    "        print(\"\\t{} x {}={}\".format(n,i,n*i))\n",
    "        i=i+1\n",
    "    else:\n",
    "        print(\"*\"*50)"
   ]
  },
  {
   "cell_type": "code",
   "execution_count": null,
   "metadata": {},
   "outputs": [],
   "source": []
  }
 ],
 "metadata": {
  "kernelspec": {
   "display_name": "Python 3",
   "language": "python",
   "name": "python3"
  },
  "language_info": {
   "codemirror_mode": {
    "name": "ipython",
    "version": 3
   },
   "file_extension": ".py",
   "mimetype": "text/x-python",
   "name": "python",
   "nbconvert_exporter": "python",
   "pygments_lexer": "ipython3",
   "version": "3.13.1"
  }
 },
 "nbformat": 4,
 "nbformat_minor": 2
}
