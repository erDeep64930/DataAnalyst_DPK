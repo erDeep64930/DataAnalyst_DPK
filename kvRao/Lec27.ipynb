{
 "cells": [
  {
   "cell_type": "markdown",
   "metadata": {},
   "source": [
    "# set\n",
    "- union"
   ]
  },
  {
   "cell_type": "code",
   "execution_count": 2,
   "metadata": {},
   "outputs": [
    {
     "name": "stdout",
     "output_type": "stream",
     "text": [
      "{40, 10, 20, 30} <class 'set'>\n",
      "{25, 10, 35, 20} <class 'set'>\n",
      "{35, 40, 10, 20, 25, 30} <class 'set'>\n"
     ]
    }
   ],
   "source": [
    "s1={10,20,30,40}\n",
    "print(s1,type(s1))\n",
    "s2={10,20,25,35}\n",
    "print(s2,type(s2))\n",
    "\n",
    "# to get combination of s1 and s2\n",
    "# use of union mean combining the elements and removing the duplicate \n",
    "\n",
    "s3=s1.union(s2)\n",
    "print(s3,type(s3))\n"
   ]
  },
  {
   "cell_type": "markdown",
   "metadata": {},
   "source": [
    "- union\n",
    "    syntax:-\n",
    "\n",
    "    setObj3=setObj1.union(setObj2)\n",
    "\n",
    "    - this function is used for obtaining unique values of setObj1 and setObj2 and place them in setObj3.\n",
    "\n"
   ]
  },
  {
   "cell_type": "code",
   "execution_count": 4,
   "metadata": {},
   "outputs": [
    {
     "name": "stdout",
     "output_type": "stream",
     "text": [
      "{'restapi', 'html', 'django', 'python', 'mysql', 'css'} <class 'set'>\n"
     ]
    }
   ],
   "source": [
    "x={\"python\",\"html\",\"django\"}\n",
    "y={\"css\",\"restapi\",\"mysql\"}\n",
    "z=x.union(y)\n",
    "print(z,type(z))"
   ]
  },
  {
   "cell_type": "markdown",
   "metadata": {},
   "source": [
    "# intersection()\n",
    "\n",
    "- syntax:-\n",
    "    - setObj3=setObj1.intersection(setObj2)\n",
    "\n",
    "    "
   ]
  },
  {
   "cell_type": "code",
   "execution_count": 5,
   "metadata": {},
   "outputs": [
    {
     "name": "stdout",
     "output_type": "stream",
     "text": [
      "{40, 10, 20, 30} <class 'set'>\n",
      "{25, 10, 35, 20} <class 'set'>\n",
      "{10, 20} <class 'set'>\n"
     ]
    }
   ],
   "source": [
    "s1={10,20,30,40}\n",
    "print(s1,type(s1))\n",
    "s2={10,20,25,35}\n",
    "print(s2,type(s2))\n",
    "\n",
    "s3=s2.intersection(s1)\n",
    "print(s3,type(s3))"
   ]
  },
  {
   "cell_type": "code",
   "execution_count": 7,
   "metadata": {},
   "outputs": [
    {
     "name": "stdout",
     "output_type": "stream",
     "text": [
      "set() <class 'set'> 0\n"
     ]
    }
   ],
   "source": [
    "x={\"python\",\"html\",\"django\"}\n",
    "y={\"css\",\"restapi\",\"mysql\"}\n",
    "z=x.intersection(y)\n",
    "print(z,type(z),len(z))"
   ]
  },
  {
   "cell_type": "code",
   "execution_count": 8,
   "metadata": {},
   "outputs": [
    {
     "name": "stdout",
     "output_type": "stream",
     "text": [
      "{1, 35, 5, 'python', 40, 10, 50, 20, 25, 30} <class 'set'>\n"
     ]
    }
   ],
   "source": [
    "s1={10,20,30,40,50}\n",
    "s2={10,20,25,35}\n",
    "s3={1,5,\"python\"}\n",
    "s4=s1.union(s2,s3)\n",
    "print(s4,type(s4))"
   ]
  },
  {
   "cell_type": "code",
   "execution_count": 9,
   "metadata": {},
   "outputs": [
    {
     "name": "stdout",
     "output_type": "stream",
     "text": [
      "set() <class 'set'>\n"
     ]
    }
   ],
   "source": [
    "s1={10,20,30,40,50}\n",
    "s2={10,20,25,35}\n",
    "s3={1,5,\"python\"}\n",
    "s4=s1.intersection(s2,s3)\n",
    "print(s4,type(s4))"
   ]
  },
  {
   "cell_type": "markdown",
   "metadata": {},
   "source": [
    "- difference()\n",
    "\n",
    "    this function remove the common elements from from both setObj1 and setObj2 and takes remaining elements from setObj1 and place them in setObj3"
   ]
  },
  {
   "cell_type": "code",
   "execution_count": 10,
   "metadata": {},
   "outputs": [
    {
     "name": "stdout",
     "output_type": "stream",
     "text": [
      "{40, 50, 30} <class 'set'>\n"
     ]
    }
   ],
   "source": [
    "s1={10,20,30,40,50}\n",
    "s2={10,20,25,35}\n",
    "s3={1,5,\"python\"}\n",
    "s4=s1.difference(s2,s3)\n",
    "print(s4,type(s4))"
   ]
  },
  {
   "cell_type": "code",
   "execution_count": 11,
   "metadata": {},
   "outputs": [
    {
     "name": "stdout",
     "output_type": "stream",
     "text": [
      "{'html', 'django', 'python'} <class 'set'> 3\n"
     ]
    }
   ],
   "source": [
    "x={\"python\",\"html\",\"django\"}\n",
    "y={\"css\",\"restapi\",\"mysql\"}\n",
    "z=x.difference(y)\n",
    "print(z,type(z),len(z))"
   ]
  },
  {
   "cell_type": "code",
   "execution_count": 12,
   "metadata": {},
   "outputs": [
    {
     "name": "stdout",
     "output_type": "stream",
     "text": [
      "set() <class 'set'> 0\n"
     ]
    }
   ],
   "source": [
    "k={1,2,3}\n",
    "v={1,2,3}\n",
    "r=k.difference(v)\n",
    "print(r,type(r),len(r))"
   ]
  },
  {
   "cell_type": "markdown",
   "metadata": {},
   "source": [
    "# symmetric_difference()\n",
    "\n",
    "- setObj3=setObj1.symmetric_diffrence(setObj2)\n",
    "\n",
    "- this element remove the common elements from both setObj1 and setObj2 and takes remaining elements from setObj and setObj2 and place them in setObj3 \n",
    "\n"
   ]
  },
  {
   "cell_type": "code",
   "execution_count": 13,
   "metadata": {},
   "outputs": [
    {
     "name": "stdout",
     "output_type": "stream",
     "text": [
      "{35, 40, 25, 30}\n"
     ]
    }
   ],
   "source": [
    "s1={10,20,30,40}\n",
    "s2={10,20,25,35}\n",
    "s3=s1.symmetric_difference(s2)\n",
    "print(s3)"
   ]
  },
  {
   "cell_type": "code",
   "execution_count": 14,
   "metadata": {},
   "outputs": [
    {
     "name": "stdout",
     "output_type": "stream",
     "text": [
      "set() <class 'set'> 0\n"
     ]
    }
   ],
   "source": [
    "k={1,2,3}\n",
    "v={1,2,3}\n",
    "r=k.symmetric_difference(v)\n",
    "print(r,type(r),len(r))"
   ]
  },
  {
   "cell_type": "code",
   "execution_count": 15,
   "metadata": {},
   "outputs": [
    {
     "name": "stdout",
     "output_type": "stream",
     "text": [
      "{'restapi', 'python', 'css', 'html', 'django', 'mysql'} <class 'set'> 6\n"
     ]
    }
   ],
   "source": [
    "x={\"python\",\"html\",\"django\"}\n",
    "y={\"css\",\"restapi\",\"mysql\"}\n",
    "z=x.symmetric_difference(y)\n",
    "print(z,type(z),len(z))"
   ]
  },
  {
   "cell_type": "code",
   "execution_count": 1,
   "metadata": {},
   "outputs": [],
   "source": [
    "# symetric difference update"
   ]
  },
  {
   "cell_type": "markdown",
   "metadata": {},
   "source": [
    "consider the following :-\n",
    "\n",
    "set cricket player  = {\"rohit\",\"kl\",\"ms\",\"vk}\n",
    "\n",
    "set of tennis players ={\"rk\",\"lm\",\"vk\",\"jk\"}\n",
    "\n",
    "write the code for the following \n",
    "# Q\n",
    "- solve the following using set function.\n",
    "\n",
    "1. find the names of all the players\n",
    "-->union\n",
    "2. find the names of the players who are playing all types of games\n",
    "3. find the player who are playing both cricket and tennis.\n",
    "-->intersection\n",
    "4. find the player who are playing only cricket but not tennis\n",
    "-->\n",
    "5. find the player who are playing tennis but not cricket\n",
    "6. find the player who are exclusively playing both cricket and tennis.\n",
    "\n",
    "---------------------------------------\n",
    "# Q\n",
    "consider the following :-\n",
    "\n",
    "set cricket player  = {\"rohit\",\"kl\",\"ms\",\"vk}\n",
    "\n",
    "set of tennis players ={\"rk\",\"lm\",\"vk\",\"jk\"}\n",
    "\n",
    "write the code for the following \n",
    "\n",
    "- solve the following without using set function.\n",
    "\n",
    "1. find the names of all the players\n",
    "-->union\n",
    "2. find the names of the players who are playing all types of games\n",
    "3. find the player who are playing both cricket and tennis.\n",
    "-->intersection\n",
    "4. find the player who are playing only cricket but not tennis\n",
    "-->\n",
    "5. find the player who are playing tennis but not cricket\n",
    "6. find the player who are exclusively playing both cricket and tennis.\n",
    "\n",
    "\n",
    "\n"
   ]
  },
  {
   "cell_type": "code",
   "execution_count": 1,
   "metadata": {},
   "outputs": [
    {
     "name": "stdout",
     "output_type": "stream",
     "text": [
      "{'kinney', 'travis', 'rossum', 'kohli', 'rohit'}\n"
     ]
    }
   ],
   "source": [
    "# find names of all the player who are playing all types of games---union()\n",
    "\n",
    "cric={\"rohit\",\"kohli\",\"rossum\"}\n",
    "tennis={\"travis\",\"kinney\",\"rossum\"}\n",
    "\n",
    "tournament=cric.union(tennis)\n",
    "print(tournament)"
   ]
  },
  {
   "cell_type": "code",
   "execution_count": 2,
   "metadata": {},
   "outputs": [
    {
     "name": "stdout",
     "output_type": "stream",
     "text": [
      "{'rossum'}\n"
     ]
    }
   ],
   "source": [
    "# who play both games\n",
    "cric={\"rohit\",\"kohli\",\"rossum\"}\n",
    "tennis={\"travis\",\"kinney\",\"rossum\"}\n",
    "tournament=cric.intersection(tennis)\n",
    "print(tournament)"
   ]
  },
  {
   "cell_type": "code",
   "execution_count": 3,
   "metadata": {},
   "outputs": [
    {
     "name": "stdout",
     "output_type": "stream",
     "text": [
      "{'rohit', 'kohli'}\n"
     ]
    }
   ],
   "source": [
    "#only cricket player but not tennis\n",
    "\n",
    "cric={\"rohit\",\"kohli\",\"rossum\"}\n",
    "tennis={\"travis\",\"kinney\",\"rossum\"}\n",
    "tournament=cric.difference(tennis)\n",
    "print(tournament)\n"
   ]
  },
  {
   "cell_type": "code",
   "execution_count": 4,
   "metadata": {},
   "outputs": [
    {
     "name": "stdout",
     "output_type": "stream",
     "text": [
      "{'travis', 'kinney'}\n"
     ]
    }
   ],
   "source": [
    "#only tennis player but not cricket\n",
    "\n",
    "cric={\"rohit\",\"kohli\",\"rossum\"}\n",
    "tennis={\"travis\",\"kinney\",\"rossum\"}\n",
    "tournament=tennis.difference(cric)\n",
    "print(tournament)"
   ]
  },
  {
   "cell_type": "code",
   "execution_count": 5,
   "metadata": {},
   "outputs": [
    {
     "name": "stdout",
     "output_type": "stream",
     "text": [
      "{'rohit', 'travis', 'kohli', 'kinney'}\n"
     ]
    }
   ],
   "source": [
    "# exclusively playing cricket and tennis \n",
    "# ie., except \"rossum\" all the palyer\n",
    "\n",
    "#only cricket player but not tennis\n",
    "\n",
    "cric={\"rohit\",\"kohli\",\"rossum\"}\n",
    "tennis={\"travis\",\"kinney\",\"rossum\"}\n",
    "tournament=cric.symmetric_difference(tennis)\n",
    "print(tournament)"
   ]
  },
  {
   "cell_type": "markdown",
   "metadata": {},
   "source": [
    "without using this pre made function "
   ]
  },
  {
   "cell_type": "code",
   "execution_count": 6,
   "metadata": {},
   "outputs": [],
   "source": [
    "# here we will use bitwise operators"
   ]
  },
  {
   "cell_type": "code",
   "execution_count": 7,
   "metadata": {},
   "outputs": [
    {
     "name": "stdout",
     "output_type": "stream",
     "text": [
      "{'kohli', 'rohit', 'travis', 'kinney', 'rossum'}\n"
     ]
    }
   ],
   "source": [
    "#only cricket player but not tennis\n",
    "\n",
    "cric={\"rohit\",\"kohli\",\"rossum\"}\n",
    "tennis={\"travis\",\"kinney\",\"rossum\"}\n",
    "tournament=cric.difference(tennis)\n",
    "print(tournament)"
   ]
  },
  {
   "cell_type": "code",
   "execution_count": 8,
   "metadata": {},
   "outputs": [
    {
     "name": "stdout",
     "output_type": "stream",
     "text": [
      "{'kohli', 'rohit', 'travis', 'kinney', 'rossum'}\n",
      "{'kohli', 'rohit', 'travis', 'kinney', 'rossum'}\n"
     ]
    }
   ],
   "source": [
    "# find names of all the player who are playing all types of games---union()\n",
    "\n",
    "cric={\"rohit\",\"kohli\",\"rossum\"}\n",
    "tennis={\"travis\",\"kinney\",\"rossum\"}\n",
    "\n",
    "tournament=cric.union(tennis)\n",
    "print(tournament)\n",
    "\n",
    "\n",
    "# also\n",
    "\n",
    "torunamnent2=cric|tennis\n",
    "print(torunamnent2)"
   ]
  },
  {
   "cell_type": "code",
   "execution_count": 9,
   "metadata": {},
   "outputs": [
    {
     "name": "stdout",
     "output_type": "stream",
     "text": [
      "{'rossum'}\n",
      "{'rossum'}\n"
     ]
    }
   ],
   "source": [
    "# who play both games\n",
    "cric={\"rohit\",\"kohli\",\"rossum\"}\n",
    "tennis={\"travis\",\"kinney\",\"rossum\"}\n",
    "tournament=cric.intersection(tennis)\n",
    "print(tournament)\n",
    "\n",
    "# also\n",
    "\n",
    "torunamnent2=cric&tennis\n",
    "print(torunamnent2)\n"
   ]
  },
  {
   "cell_type": "code",
   "execution_count": 10,
   "metadata": {},
   "outputs": [
    {
     "name": "stdout",
     "output_type": "stream",
     "text": [
      "{'rohit', 'kohli'}\n",
      "{'rohit', 'kohli'}\n"
     ]
    }
   ],
   "source": [
    "#only cricket player but not tennis\n",
    "\n",
    "cric={\"rohit\",\"kohli\",\"rossum\"}\n",
    "tennis={\"travis\",\"kinney\",\"rossum\"}\n",
    "tournament=cric.difference(tennis)\n",
    "print(tournament)\n",
    "\n",
    "\n",
    "# also\n",
    "\n",
    "torunamnent2=cric-tennis\n",
    "print(torunamnent2)"
   ]
  },
  {
   "cell_type": "code",
   "execution_count": 11,
   "metadata": {},
   "outputs": [
    {
     "name": "stdout",
     "output_type": "stream",
     "text": [
      "{'travis', 'kinney'}\n",
      "{'travis', 'kinney'}\n"
     ]
    }
   ],
   "source": [
    "#only tennis player but not cricket\n",
    "\n",
    "cric={\"rohit\",\"kohli\",\"rossum\"}\n",
    "tennis={\"travis\",\"kinney\",\"rossum\"}\n",
    "tournament=tennis.difference(cric)\n",
    "print(tournament)\n",
    "\n",
    "# also\n",
    "\n",
    "torunamnent2=tennis-cric\n",
    "print(torunamnent2)"
   ]
  },
  {
   "cell_type": "code",
   "execution_count": 12,
   "metadata": {},
   "outputs": [
    {
     "name": "stdout",
     "output_type": "stream",
     "text": [
      "{'rohit', 'travis', 'kohli', 'kinney'}\n",
      "{'rohit', 'travis', 'kohli', 'kinney'}\n"
     ]
    }
   ],
   "source": [
    "# exclusively playing cricket and tennis \n",
    "# ie., except \"rossum\" all the palyer\n",
    "\n",
    "#only cricket player but not tennis\n",
    "\n",
    "cric={\"rohit\",\"kohli\",\"rossum\"}\n",
    "tennis={\"travis\",\"kinney\",\"rossum\"}\n",
    "tournament=cric.symmetric_difference(tennis)\n",
    "print(tournament)\n",
    "\n",
    "# also\n",
    "\n",
    "torunamnent2=cric^tennis\n",
    "print(torunamnent2)"
   ]
  },
  {
   "cell_type": "code",
   "execution_count": null,
   "metadata": {},
   "outputs": [],
   "source": []
  }
 ],
 "metadata": {
  "kernelspec": {
   "display_name": ".venv",
   "language": "python",
   "name": "python3"
  },
  "language_info": {
   "codemirror_mode": {
    "name": "ipython",
    "version": 3
   },
   "file_extension": ".py",
   "mimetype": "text/x-python",
   "name": "python",
   "nbconvert_exporter": "python",
   "pygments_lexer": "ipython3",
   "version": "3.12.6"
  }
 },
 "nbformat": 4,
 "nbformat_minor": 2
}
