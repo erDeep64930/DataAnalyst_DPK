{
 "cells": [
  {
   "cell_type": "code",
   "execution_count": 13,
   "id": "ffefd8e1-bde2-4cbf-bfab-77254cf7e70a",
   "metadata": {},
   "outputs": [
    {
     "name": "stdin",
     "output_type": "stream",
     "text": [
      "Enter the n value:  12\n",
      "Enter the m value:  36\n"
     ]
    },
    {
     "name": "stdout",
     "output_type": "stream",
     "text": [
      "The GCD of 36 and 12 is: 12\n"
     ]
    }
   ],
   "source": [
    "def Euclid_gcd(m, n):\n",
    "    if n == 0: \n",
    "        return m\n",
    "    else:\n",
    "        return Euclid_gcd(n, m % n)\n",
    "\n",
    "\n",
    "n = int(input(\"Enter the n value: \"))\n",
    "m = int(input(\"Enter the m value: \"))\n",
    "\n",
    "\n",
    "\n",
    "print(f\"The GCD of {m} and {n} is: {Euclid_gcd(m, n)}\")\n"
   ]
  },
  {
   "cell_type": "code",
   "execution_count": 4,
   "id": "6b9befb0-bb8c-4288-9987-9b6baacb7734",
   "metadata": {},
   "outputs": [
    {
     "name": "stdout",
     "output_type": "stream",
     "text": [
      "[5, 5, 5, 5, 5]\n"
     ]
    }
   ],
   "source": [
    "arr = [1,2,3,4,5] \n",
    "prod_arr=[]\n",
    "    for i in range(len.arr)\n",
    "                  \n",
    "\n",
    "print(arr)"
   ]
  },
  {
   "cell_type": "code",
   "execution_count": 7,
   "id": "b53d6251-b11f-4d83-ae32-2bc5139f9ba4",
   "metadata": {},
   "outputs": [
    {
     "name": "stdout",
     "output_type": "stream",
     "text": [
      "Input array: [1 2 3 4 5]\n",
      "Product array: [120  60  40  30  24]\n"
     ]
    }
   ],
   "source": [
    "import numpy as np\n",
    "arr = np.array([1, 2, 3, 4, 5])\n",
    "prod_arr = np.ones_like(arr)\n",
    "for i in range(len(arr)):\n",
    "    prod_arr[i] = np.prod(np.delete(arr, i))\n",
    "\n",
    "\n",
    "print(\"Input array:\", arr)\n",
    "print(\"Product array:\",prod_arr)"
   ]
  },
  {
   "cell_type": "code",
   "execution_count": null,
   "id": "418dc95c-b7af-4862-914c-86d89d2a1822",
   "metadata": {},
   "outputs": [],
   "source": []
  }
 ],
 "metadata": {
  "kernelspec": {
   "display_name": "Python 3 (ipykernel)",
   "language": "python",
   "name": "python3"
  },
  "language_info": {
   "codemirror_mode": {
    "name": "ipython",
    "version": 3
   },
   "file_extension": ".py",
   "mimetype": "text/x-python",
   "name": "python",
   "nbconvert_exporter": "python",
   "pygments_lexer": "ipython3",
   "version": "3.12.4"
  }
 },
 "nbformat": 4,
 "nbformat_minor": 5
}
