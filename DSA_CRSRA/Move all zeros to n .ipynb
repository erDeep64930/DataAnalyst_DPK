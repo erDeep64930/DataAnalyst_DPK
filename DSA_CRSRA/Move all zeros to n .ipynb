{
 "cells": [
  {
   "cell_type": "markdown",
   "id": "dd25d91f-96d6-4619-b4f8-b3d47d344190",
   "metadata": {},
   "source": [
    "## moveing zeros from n "
   ]
  },
  {
   "cell_type": "code",
   "execution_count": 1,
   "id": "b66e0a49-4dfe-435c-b0a0-7b8413571f04",
   "metadata": {},
   "outputs": [
    {
     "name": "stdout",
     "output_type": "stream",
     "text": [
      "Output: [1, 1, 1, 1, 0, 0, 0]\n"
     ]
    }
   ],
   "source": [
    "def move_zeros_in_place(arr):\n",
    "    n = len(arr)\n",
    "    j = 0  \n",
    "    for i in range(n):\n",
    "        if arr[i] != 0:\n",
    "            arr[j], arr[i] = arr[i], arr[j]  \n",
    "            j += 1\n",
    "\n",
    "\n",
    "arr = [0, 1, 0, 1, 1, 0, 1]\n",
    "move_zeros_in_place(arr)\n",
    "print(\"Output:\", arr)\n"
   ]
  },
  {
   "cell_type": "code",
   "execution_count": 2,
   "id": "8e57a256-bf1b-4ab2-92e5-127a95150c7c",
   "metadata": {},
   "outputs": [
    {
     "name": "stdout",
     "output_type": "stream",
     "text": [
      "[1, 1, 1, 1, 1, 1, 1, 1, 0, 0, 0, 0]\n"
     ]
    }
   ],
   "source": [
    "num = [1,1,1,1,1,1,0,0,0,0,1,1]\n",
    "store = []\n",
    "count = 0\n",
    "i = 0\n",
    "while i<len(num):\n",
    "    if num[i]==1:\n",
    "        store.append(num[i])\n",
    "    elif num[i]==0:\n",
    "        count+=1\n",
    "    i+=1\n",
    "\n",
    "print(store +[0]*count)"
   ]
  },
  {
   "cell_type": "markdown",
   "id": "e89c42ab-debf-42fa-be6d-c6b3dddcd33c",
   "metadata": {},
   "source": [
    " ## Binary array Shorting"
   ]
  },
  {
   "cell_type": "code",
   "execution_count": null,
   "id": "5a3f1a33-fa6f-4384-bfad-1ffd482a37e1",
   "metadata": {},
   "outputs": [],
   "source": [
    "num = [1,1,1,1,1,1,0,0,0,0,1,1]\n",
    "store = []\n",
    "count = 0"
   ]
  }
 ],
 "metadata": {
  "kernelspec": {
   "display_name": "Python 3 (ipykernel)",
   "language": "python",
   "name": "python3"
  },
  "language_info": {
   "codemirror_mode": {
    "name": "ipython",
    "version": 3
   },
   "file_extension": ".py",
   "mimetype": "text/x-python",
   "name": "python",
   "nbconvert_exporter": "python",
   "pygments_lexer": "ipython3",
   "version": "3.12.4"
  }
 },
 "nbformat": 4,
 "nbformat_minor": 5
}
