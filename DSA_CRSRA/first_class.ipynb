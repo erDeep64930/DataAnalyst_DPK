{
 "cells": [
  {
   "cell_type": "markdown",
   "id": "2a322f81-0635-4dda-aceb-0165f79b4a95",
   "metadata": {},
   "source": [
    "# 15/01/2025"
   ]
  },
  {
   "cell_type": "markdown",
   "id": "3c400cf1-6364-4f7a-a19c-a8df2200f7e7",
   "metadata": {},
   "source": [
    "## algorithem of finding simple  GCD"
   ]
  },
  {
   "cell_type": "code",
   "execution_count": 2,
   "id": "5fca901e-9f4e-406c-aa6f-471620e9d18a",
   "metadata": {},
   "outputs": [
    {
     "name": "stdout",
     "output_type": "stream",
     "text": [
      "The GCD of 18 and 25 is 1.\n"
     ]
    }
   ],
   "source": [
    "def gcd(a, b):\n",
    "    \n",
    "    fa = []\n",
    "    for i in range(1, a + 1):\n",
    "        if a % i == 0:\n",
    "            fa.append(i)\n",
    "\n",
    "  \n",
    "    fb = []\n",
    "    for i in range(1, b + 1):\n",
    "        if b % i == 0:\n",
    "            fb.append(i)\n",
    "\n",
    "    \n",
    "    cf = []\n",
    "    for f in fa:\n",
    "        if f in fb:\n",
    "            cf.append(f)\n",
    "\n",
    "   \n",
    "    return cf[-1]\n",
    "\n",
    "\n",
    "num1 = 18\n",
    "num2 = 25\n",
    "print(f\"The GCD of {num1} and {num2} is {gcd(num1, num2)}.\")\n",
    "\n"
   ]
  },
  {
   "cell_type": "code",
   "execution_count": 1,
   "id": "74aed1fa-a8ad-4e3b-903c-aac44da12572",
   "metadata": {},
   "outputs": [
    {
     "name": "stdout",
     "output_type": "stream",
     "text": [
      "7\n"
     ]
    }
   ],
   "source": [
    "def simple_gcd(m, n):\n",
    "    fm = []  \n",
    "    for i in range(1, m + 1):\n",
    "        if (m % i) == 0:\n",
    "            fm.append(i)\n",
    "\n",
    "    fn = []  \n",
    "    for j in range(1, n + 1):\n",
    "        if (n % j) == 0:\n",
    "            fn.append(j)\n",
    "\n",
    "    cf = []  \n",
    "    for k in fm:\n",
    "        if k in fn:\n",
    "            cf.append(k)\n",
    "\n",
    "    return cf[-1]  \n",
    "\n",
    "print(simple_gcd(14, 63))  \n"
   ]
  },
  {
   "cell_type": "code",
   "execution_count": 11,
   "id": "5255ef92-3540-43c2-b6f9-7b6decf2166f",
   "metadata": {},
   "outputs": [],
   "source": [
    "# less complex"
   ]
  },
  {
   "cell_type": "code",
   "execution_count": 12,
   "id": "ebf7444c-d421-44ec-9ac1-06dea1034e36",
   "metadata": {},
   "outputs": [
    {
     "name": "stdout",
     "output_type": "stream",
     "text": [
      "7\n"
     ]
    }
   ],
   "source": [
    "def gcd(m,n):\n",
    "    cf=[]\n",
    "    for i in range (1,min(m,n)+1):\n",
    "        if (m%i)==0 and (n%i)==0:\n",
    "            cf.append(i)\n",
    "            return(cf[-1])\n",
    "\n",
    "print(simple_gcd(14, 63))  "
   ]
  },
  {
   "cell_type": "code",
   "execution_count": 13,
   "id": "bb449be9-d152-4e26-8286-fbe972dc4748",
   "metadata": {},
   "outputs": [
    {
     "name": "stdout",
     "output_type": "stream",
     "text": [
      "7\n"
     ]
    }
   ],
   "source": [
    "def gcd(m,n):\n",
    "    for i in range (1,min(m,n)+1):\n",
    "        if (m%i)==0 and (n%i)==0:\n",
    "            mrcf=i\n",
    "            return(mrcf)\n",
    "print(simple_gcd(14, 63))  "
   ]
  },
  {
   "cell_type": "code",
   "execution_count": 17,
   "id": "4613b575-e504-4f69-90d0-9ca688f2e59c",
   "metadata": {},
   "outputs": [
    {
     "name": "stdout",
     "output_type": "stream",
     "text": [
      "7\n"
     ]
    }
   ],
   "source": [
    "def gcd(m,n):\n",
    "    i = min(m,n)\n",
    "    while i>0:\n",
    "        if (m%i)==0 and (n%i)==0:\n",
    "            return(i)\n",
    "        else:\n",
    "            i=i-1\n",
    "print(simple_gcd(14, 63)) "
   ]
  },
  {
   "cell_type": "code",
   "execution_count": null,
   "id": "8a09d144-ac49-4ec3-9423-bdf87f3edc29",
   "metadata": {},
   "outputs": [],
   "source": []
  }
 ],
 "metadata": {
  "kernelspec": {
   "display_name": "Python 3 (ipykernel)",
   "language": "python",
   "name": "python3"
  },
  "language_info": {
   "codemirror_mode": {
    "name": "ipython",
    "version": 3
   },
   "file_extension": ".py",
   "mimetype": "text/x-python",
   "name": "python",
   "nbconvert_exporter": "python",
   "pygments_lexer": "ipython3",
   "version": "3.12.4"
  }
 },
 "nbformat": 4,
 "nbformat_minor": 5
}
