{
 "cells": [
  {
   "cell_type": "code",
   "execution_count": null,
   "metadata": {},
   "outputs": [],
   "source": []
  },
  {
   "cell_type": "code",
   "execution_count": 8,
   "metadata": {},
   "outputs": [
    {
     "name": "stdout",
     "output_type": "stream",
     "text": [
      "N=100, number of instructions in O(n^2):  100\n"
     ]
    }
   ],
   "source": [
    "def fun(n):\n",
    "\tc=0\n",
    "\ti=0\n",
    "\twhile i<n:\n",
    "\t\tc=c+1\n",
    "\t\ti=i+1\n",
    "\treturn c\n",
    "print(\"N=100, number of instructions in O(n^2): \",fun(100))"
   ]
  },
  {
   "cell_type": "code",
   "execution_count": 9,
   "metadata": {},
   "outputs": [
    {
     "name": "stdout",
     "output_type": "stream",
     "text": [
      "N=100, number of instructions in O(n^2):  10000\n"
     ]
    }
   ],
   "source": [
    "def fun(n):\n",
    "\tc=0\n",
    "\ti=0\n",
    "\twhile i<n:\n",
    "\t\tj=0\n",
    "\t\twhile j<n:\n",
    "\t\t\tc=c+1\n",
    "\t\t\tj=j+1\n",
    "\t\ti=i+1\n",
    "\treturn c\n",
    "print(\"N=100, number of instructions in O(n^2): \",fun(100)) #7"
   ]
  },
  {
   "cell_type": "code",
   "execution_count": 3,
   "metadata": {},
   "outputs": [],
   "source": [
    "def fun(n):\n",
    "\tc=0\n",
    "\ti=n\n",
    "\twhile i>0:\n",
    "\t\tc=c+1\n",
    "\t\ti=i//2\n",
    "\treturn c"
   ]
  },
  {
   "cell_type": "code",
   "execution_count": 4,
   "metadata": {},
   "outputs": [
    {
     "name": "stdout",
     "output_type": "stream",
     "text": [
      "prakash BaBu\n",
      "PrAkAsH BaBu\n"
     ]
    }
   ],
   "source": [
    "def myfun(s):\n",
    "\tl = list(s.lower())\n",
    "\tfor i in range(len(l)):\n",
    "\t\tif i%2==0:\n",
    "\t\t\tl[i] = l[i].upper()\n",
    "\treturn ''.join(l)\n",
    "\n",
    "s = \"prakash BaBu\"\n",
    "print(s) #prakash BaBu\n",
    "print(myfun(s)) #PrAkAsH BaBu"
   ]
  },
  {
   "cell_type": "code",
   "execution_count": 5,
   "metadata": {},
   "outputs": [
    {
     "name": "stdout",
     "output_type": "stream",
     "text": [
      "165\n",
      "165\n",
      "165\n"
     ]
    }
   ],
   "source": [
    "import functools\n",
    "\n",
    "def fun_version1(L):\n",
    "\ts=0\n",
    "\tfor i in L:\n",
    "\t\ts=s+i\n",
    "\treturn s\n",
    "\n",
    "def fun_version2(L):\n",
    "\treturn sum(L)\n",
    "\n",
    "def fun_version3(L):\n",
    "\treturn functools.reduce(lambda i,j:i+j,L)\n",
    "\n",
    "L = [11,22,33,44,55]\n",
    "print(fun_version1(L)) #11+22+33+44+55=165\n",
    "print(fun_version2(L)) #11+22+33+44+55=165\n",
    "print(fun_version3(L)) #11+22+33+44+55=165"
   ]
  },
  {
   "cell_type": "code",
   "execution_count": 6,
   "metadata": {},
   "outputs": [
    {
     "name": "stdout",
     "output_type": "stream",
     "text": [
      "max value by using version1: 9\n",
      "max value by using version2: 9\n",
      "max value by using version3: 9\n",
      "max value by using version4: 9\n",
      "max value by using version5: 9\n"
     ]
    }
   ],
   "source": [
    "def maxfun_version1(a,b):\n",
    "\treturn max(a,b)\n",
    "\n",
    "def maxfun_version2(a,b):\n",
    "\treturn a if a>b else b\n",
    "\n",
    "def maxfun_version3(a,b):\n",
    "\tif a>b:\n",
    "\t\treturn a\n",
    "\telse:\n",
    "\t\treturn b\n",
    "def maxfun_version4(a,b):\n",
    "\tcall = lambda a,b: a if a>b else b\n",
    "\treturn call(a,b)\n",
    "\n",
    "def maxfun_version5(a,b):\n",
    "\tL=[]\n",
    "\tL.append(a)\n",
    "\tL.append(b)\n",
    "\treturn max(L)\n",
    "\n",
    "a = int(input())\n",
    "b = int(input())\n",
    "print(\"max value by using version1:\",maxfun_version1(a,b)) \n",
    "print(\"max value by using version2:\",maxfun_version2(a,b)) \n",
    "print(\"max value by using version3:\",maxfun_version3(a,b)) \n",
    "print(\"max value by using version4:\",maxfun_version4(a,b)) \n",
    "print(\"max value by using version5:\",maxfun_version5(a,b)) "
   ]
  },
  {
   "cell_type": "code",
   "execution_count": 7,
   "metadata": {},
   "outputs": [],
   "source": [
    "def add_first(self,value):\n",
    "\tnewnode = self.node(value,None)\n",
    "\tif self.head==None:\n",
    "\t\tself.head = newnode\n",
    "\t\treturn\n",
    "\tnewnode.next = self.head\n",
    "\tself.head = newnode"
   ]
  },
  {
   "cell_type": "markdown",
   "metadata": {},
   "source": [
    "advantages of algorithm/flowchart\n",
    "~~~~~~~~~~~~~~~~~~~~~~~~~~~~~~~~~\n",
    "1) problem will be simplified.\n",
    "2) easy to understand problem statement.\n",
    "3) easy to implement\n",
    "4) we will get a format/template/pattern to solve the problem.\n",
    "\n",
    "properties of algorithm:\n",
    "~~~~~~~~~~~~~~~~~~~~~~~~\n",
    "1) zero or more inputs.\n",
    "2) one or more outpus  (atleast one output should be there).\n",
    "3) deterministic (same output for same input again again).\n",
    "4) correct\n",
    "5) terminate at finate steps (base condition)\n",
    "6) efficient (logic should be clear)\n",
    "\n",
    "Complexity:\n",
    "~~~~~~~~~~~\n",
    "complexity of an algorithm is the amount of time or space required by the algorithm or program to the process the inputs and produce output.\n",
    "\n",
    "1) time complexity\n",
    "2) space complexity\n",
    "\n",
    "time complexity\n",
    "---------------\n",
    "The amount of time taken by the algorithm to process the inputs is called as time complexity, which is measured by using T(n).\n",
    "\n",
    "space complexity\n",
    "----------------\n",
    "The amount of space taken by the algorithm to process the inputs is called as space complexity, which is measured by using S(n).\n",
    "\n",
    "Asymptotic notations:\n",
    "~~~~~~~~~~~~~~~~~~~~~\n",
    "Big-Oh notation: O(n)\n",
    "Omega notation : W(n)\n",
    "Theta notation : 0(n)\n",
    "\n",
    "All these programs or algorithms are classified into three types\n",
    "\n",
    "1) worst case complexity ****\n",
    "2) average case complexity\n",
    "3) best case complexity\n",
    "\n",
    "O(1)\t\tconstant time\n",
    "O(n)\t\tlinear time\n",
    "O(logn)\t\tlogarithmic time\n",
    "O(nlogn)\tlogarithmic time\n",
    "O(n^2)\t\tquadratic time\n",
    "O(2^n)\t\texponential time\n",
    "O(n!)\t\tfactorial time etc\n"
   ]
  },
  {
   "cell_type": "code",
   "execution_count": null,
   "metadata": {},
   "outputs": [],
   "source": []
  },
  {
   "cell_type": "code",
   "execution_count": null,
   "metadata": {},
   "outputs": [],
   "source": []
  },
  {
   "cell_type": "code",
   "execution_count": null,
   "metadata": {},
   "outputs": [],
   "source": []
  },
  {
   "cell_type": "code",
   "execution_count": null,
   "metadata": {},
   "outputs": [],
   "source": []
  }
 ],
 "metadata": {
  "kernelspec": {
   "display_name": "Python 3",
   "language": "python",
   "name": "python3"
  },
  "language_info": {
   "codemirror_mode": {
    "name": "ipython",
    "version": 3
   },
   "file_extension": ".py",
   "mimetype": "text/x-python",
   "name": "python",
   "nbconvert_exporter": "python",
   "pygments_lexer": "ipython3",
   "version": "3.13.1"
  }
 },
 "nbformat": 4,
 "nbformat_minor": 2
}
