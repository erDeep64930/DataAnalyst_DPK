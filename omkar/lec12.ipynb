{
 "cells": [
  {
   "cell_type": "code",
   "execution_count": null,
   "id": "8759ac9f-40d1-409f-a527-c5d4ee7c8d75",
   "metadata": {},
   "outputs": [],
   "source": [
    "integer to other data types:-\n"
   ]
  },
  {
   "cell_type": "code",
   "execution_count": 1,
   "id": "ef4293b2-4203-4540-b9dc-141ec4994008",
   "metadata": {},
   "outputs": [],
   "source": [
    "num1=1;\n"
   ]
  },
  {
   "cell_type": "code",
   "execution_count": 2,
   "id": "3bac4a16-67ec-44d2-8736-670a686b0c65",
   "metadata": {},
   "outputs": [
    {
     "data": {
      "text/plain": [
       "1"
      ]
     },
     "execution_count": 2,
     "metadata": {},
     "output_type": "execute_result"
    }
   ],
   "source": [
    "num1"
   ]
  },
  {
   "cell_type": "code",
   "execution_count": 5,
   "id": "23f7d87a-c48e-4afb-9d91-96b772b388f7",
   "metadata": {},
   "outputs": [],
   "source": [
    "type(num1);\n"
   ]
  },
  {
   "cell_type": "code",
   "execution_count": null,
   "id": "1f7e5522-4cc4-4360-90ea-25d2a6295f4e",
   "metadata": {},
   "outputs": [],
   "source": [
    "int to float\n"
   ]
  },
  {
   "cell_type": "code",
   "execution_count": 6,
   "id": "92c381ce-557c-4cc7-a402-538cbc18efe8",
   "metadata": {},
   "outputs": [],
   "source": [
    "float_num = float(num1)"
   ]
  },
  {
   "cell_type": "code",
   "execution_count": 7,
   "id": "bb9766d9-202a-44f6-83e3-b0e78a67de44",
   "metadata": {},
   "outputs": [
    {
     "data": {
      "text/plain": [
       "1.0"
      ]
     },
     "execution_count": 7,
     "metadata": {},
     "output_type": "execute_result"
    }
   ],
   "source": [
    "float_num"
   ]
  },
  {
   "cell_type": "code",
   "execution_count": 8,
   "id": "a9b5d99b-b1ce-42a5-a39c-ee8edb4be93d",
   "metadata": {},
   "outputs": [
    {
     "data": {
      "text/plain": [
       "float"
      ]
     },
     "execution_count": 8,
     "metadata": {},
     "output_type": "execute_result"
    }
   ],
   "source": [
    "type(float_num)"
   ]
  },
  {
   "cell_type": "code",
   "execution_count": null,
   "id": "14113c4d-98b0-4019-bb90-528dbb578089",
   "metadata": {},
   "outputs": [],
   "source": [
    "int to string"
   ]
  },
  {
   "cell_type": "code",
   "execution_count": 9,
   "id": "d593b6b6-8da5-4b13-89c8-a1679907fb18",
   "metadata": {},
   "outputs": [],
   "source": [
    "str_num = str(num1)"
   ]
  },
  {
   "cell_type": "code",
   "execution_count": 10,
   "id": "f3353dec-91f3-4734-9b65-93f78cacf1dd",
   "metadata": {},
   "outputs": [
    {
     "data": {
      "text/plain": [
       "str"
      ]
     },
     "execution_count": 10,
     "metadata": {},
     "output_type": "execute_result"
    }
   ],
   "source": [
    "type(str_num)"
   ]
  },
  {
   "cell_type": "code",
   "execution_count": null,
   "id": "1f9870da-276f-40ed-be0c-868edc303011",
   "metadata": {},
   "outputs": [],
   "source": [
    "you cannot convert english to math "
   ]
  },
  {
   "cell_type": "code",
   "execution_count": 11,
   "id": "4574c5ef-2954-4978-a42b-1a9b11ea9b07",
   "metadata": {},
   "outputs": [
    {
     "name": "stdout",
     "output_type": "stream",
     "text": [
      "100\n"
     ]
    }
   ],
   "source": [
    "number1 = 100\n",
    "print(number1)"
   ]
  },
  {
   "cell_type": "code",
   "execution_count": 12,
   "id": "32bd7d35-74c3-4d4e-b127-cb53b975541b",
   "metadata": {},
   "outputs": [
    {
     "ename": "NameError",
     "evalue": "name 'hello' is not defined",
     "output_type": "error",
     "traceback": [
      "\u001b[1;31m---------------------------------------------------------------------------\u001b[0m",
      "\u001b[1;31mNameError\u001b[0m                                 Traceback (most recent call last)",
      "Cell \u001b[1;32mIn[12], line 1\u001b[0m\n\u001b[1;32m----> 1\u001b[0m \u001b[38;5;28mprint\u001b[39m(hello)\n",
      "\u001b[1;31mNameError\u001b[0m: name 'hello' is not defined"
     ]
    }
   ],
   "source": [
    "print(hello)"
   ]
  },
  {
   "cell_type": "code",
   "execution_count": 13,
   "id": "93dc8db2-bfd4-4c5f-ac42-4634d0b17d04",
   "metadata": {},
   "outputs": [
    {
     "name": "stdout",
     "output_type": "stream",
     "text": [
      "how are you\n"
     ]
    }
   ],
   "source": [
    "print(\"how\",\"are\",\"you\")"
   ]
  },
  {
   "cell_type": "code",
   "execution_count": 14,
   "id": "ec0faf1a-3f83-4781-8df3-60497398e74e",
   "metadata": {},
   "outputs": [
    {
     "name": "stdout",
     "output_type": "stream",
     "text": [
      "how are you\n"
     ]
    }
   ],
   "source": [
    "print(\"how are you\")"
   ]
  },
  {
   "cell_type": "code",
   "execution_count": null,
   "id": "a3053b1d-60b9-4f47-abf1-25352482c0c3",
   "metadata": {},
   "outputs": [],
   "source": [
    "joining multiple print statement\n"
   ]
  },
  {
   "cell_type": "code",
   "execution_count": 16,
   "id": "5082fbf9-54ed-43a4-bee9-19130ee05b5a",
   "metadata": {},
   "outputs": [
    {
     "name": "stdout",
     "output_type": "stream",
     "text": [
      "hiHello"
     ]
    }
   ],
   "source": [
    "print(\"hi\",end=\"Hello\")"
   ]
  },
  {
   "cell_type": "code",
   "execution_count": 17,
   "id": "65552141-c18b-4cf5-9b21-b2584e7aa67f",
   "metadata": {},
   "outputs": [
    {
     "name": "stdout",
     "output_type": "stream",
     "text": [
      "hi &"
     ]
    }
   ],
   "source": [
    "print(\"hi\",end=\" &\")"
   ]
  },
  {
   "cell_type": "code",
   "execution_count": 19,
   "id": "e374de23-9fa3-4be6-a34f-e388ef49cd07",
   "metadata": {},
   "outputs": [
    {
     "name": "stdout",
     "output_type": "stream",
     "text": [
      "the sum of the number 10\n"
     ]
    }
   ],
   "source": [
    "num1=5\n",
    "num2=5\n",
    "sum=num1+num2;\n",
    "print(\"the sum of the number\", sum)\n"
   ]
  },
  {
   "cell_type": "code",
   "execution_count": 20,
   "id": "447339f7-1ae6-4798-91de-22a81316acd2",
   "metadata": {},
   "outputs": [
    {
     "name": "stdout",
     "output_type": "stream",
     "text": [
      "the sum of  5 and 5 is 10\n"
     ]
    }
   ],
   "source": [
    "num1=5\n",
    "num2=5\n",
    "sum=num1+num2;\n",
    "print(\"the sum of \",num1,\"and\",num2,\"is\",sum)"
   ]
  },
  {
   "cell_type": "code",
   "execution_count": 21,
   "id": "80b0501d-941d-4d6b-9f47-ccec530ff92c",
   "metadata": {},
   "outputs": [
    {
     "name": "stdout",
     "output_type": "stream",
     "text": [
      "my name is python my city is hyd my age is 28\n"
     ]
    }
   ],
   "source": [
    "name=\"python\"\n",
    "city=\"hyd\"\n",
    "age=28\n",
    "\n",
    "print(\"my name is\",name,\"my city is\",city,\"my age is\",age)\n"
   ]
  },
  {
   "cell_type": "code",
   "execution_count": 22,
   "id": "7d505b43-911d-4488-93b1-bbf3fff7c0fa",
   "metadata": {},
   "outputs": [
    {
     "name": "stdout",
     "output_type": "stream",
     "text": [
      "the sum of 5 and 5 is 10\n"
     ]
    }
   ],
   "source": [
    "num1=5\n",
    "num2=5\n",
    "sum=num1+num2;\n",
    "print(\"the sum of {} and {} is {}\".format(num1,num2,sum))"
   ]
  },
  {
   "cell_type": "code",
   "execution_count": null,
   "id": "a5cfc750-7308-4349-a7e7-6507e0af1756",
   "metadata": {},
   "outputs": [],
   "source": [
    "1.17"
   ]
  },
  {
   "cell_type": "code",
   "execution_count": 1,
   "id": "62c376dd-d1a9-4044-ad83-0e2efdb5e99b",
   "metadata": {},
   "outputs": [
    {
     "name": "stdout",
     "output_type": "stream",
     "text": [
      "1\n"
     ]
    }
   ],
   "source": [
    "print(5%2)\n"
   ]
  },
  {
   "cell_type": "code",
   "execution_count": 2,
   "id": "7159d35f-241f-4cb7-b920-64795db938a2",
   "metadata": {},
   "outputs": [
    {
     "name": "stdin",
     "output_type": "stream",
     "text": [
      " 24\n"
     ]
    },
    {
     "data": {
      "text/plain": [
       "'24'"
      ]
     },
     "execution_count": 2,
     "metadata": {},
     "output_type": "execute_result"
    }
   ],
   "source": [
    "input()"
   ]
  },
  {
   "cell_type": "code",
   "execution_count": 3,
   "id": "10f79f22-6c80-4d7e-9844-f96f49e90329",
   "metadata": {},
   "outputs": [
    {
     "name": "stdin",
     "output_type": "stream",
     "text": [
      "enter number 67\n"
     ]
    },
    {
     "data": {
      "text/plain": [
       "'67'"
      ]
     },
     "execution_count": 3,
     "metadata": {},
     "output_type": "execute_result"
    }
   ],
   "source": [
    "input(\"enter number\")"
   ]
  },
  {
   "cell_type": "code",
   "execution_count": 4,
   "id": "17fe6156-1816-4c9a-b7d8-d78c0d0b9937",
   "metadata": {},
   "outputs": [
    {
     "name": "stdin",
     "output_type": "stream",
     "text": [
      "enter the number 65\n"
     ]
    }
   ],
   "source": [
    "num = input(\"enter the number\")"
   ]
  },
  {
   "cell_type": "code",
   "execution_count": 8,
   "id": "eb23fd1b-4219-43d6-9ee8-c4555f59c71e",
   "metadata": {},
   "outputs": [
    {
     "data": {
      "text/plain": [
       "str"
      ]
     },
     "execution_count": 8,
     "metadata": {},
     "output_type": "execute_result"
    }
   ],
   "source": [
    "type(num)"
   ]
  },
  {
   "cell_type": "code",
   "execution_count": 9,
   "id": "5b5d1f9b-fe3e-4f94-bb58-74a756ed44e0",
   "metadata": {},
   "outputs": [
    {
     "name": "stdin",
     "output_type": "stream",
     "text": [
      "enter the number 97\n",
      "enter the number 89\n"
     ]
    },
    {
     "name": "stdout",
     "output_type": "stream",
     "text": [
      "186\n"
     ]
    }
   ],
   "source": [
    "num1 = eval(input(\"enter the number\"));\n",
    "num2 = eval(input(\"enter the number\"));\n",
    "print(num1+num2)"
   ]
  },
  {
   "cell_type": "code",
   "execution_count": 1,
   "id": "ad3a665a-ca97-4f05-b988-127962e1359c",
   "metadata": {},
   "outputs": [
    {
     "name": "stdin",
     "output_type": "stream",
     "text": [
      "enter the basic salary 50000\n"
     ]
    }
   ],
   "source": [
    "basic_salary =eval(input(\"enter the basic salary\"))"
   ]
  },
  {
   "cell_type": "code",
   "execution_count": 2,
   "id": "c9a1d11b-06e8-4c00-82cd-33262271cbe2",
   "metadata": {},
   "outputs": [
    {
     "data": {
      "text/plain": [
       "50000"
      ]
     },
     "execution_count": 2,
     "metadata": {},
     "output_type": "execute_result"
    }
   ],
   "source": [
    "basic_salary"
   ]
  },
  {
   "cell_type": "code",
   "execution_count": 3,
   "id": "6b7a9a0b-d23e-4dd1-ba60-68c81c9402fe",
   "metadata": {},
   "outputs": [
    {
     "name": "stdin",
     "output_type": "stream",
     "text": [
      "enter the da 2000\n"
     ]
    }
   ],
   "source": [
    "DA= eval(input(\"enter the da\"))"
   ]
  },
  {
   "cell_type": "code",
   "execution_count": 4,
   "id": "da022faf-1097-44bc-8045-a89c363a6d4f",
   "metadata": {},
   "outputs": [
    {
     "name": "stdin",
     "output_type": "stream",
     "text": [
      "enter the hra 3000\n"
     ]
    }
   ],
   "source": [
    "hra=eval(input(\"enter the hra\"))"
   ]
  },
  {
   "cell_type": "code",
   "execution_count": 6,
   "id": "5d4399b5-0b55-4f47-9aa6-0b953424aa64",
   "metadata": {},
   "outputs": [],
   "source": [
    "total_salary =basic_salary+DA+hra\n"
   ]
  },
  {
   "cell_type": "code",
   "execution_count": 7,
   "id": "998d3a9d-2202-4769-87f8-dc1e539df11f",
   "metadata": {},
   "outputs": [
    {
     "data": {
      "text/plain": [
       "55000"
      ]
     },
     "execution_count": 7,
     "metadata": {},
     "output_type": "execute_result"
    }
   ],
   "source": [
    "total_salary"
   ]
  },
  {
   "cell_type": "code",
   "execution_count": null,
   "id": "b129689c-893b-404c-95bb-3c581b2962d5",
   "metadata": {},
   "outputs": [],
   "source": [
    "wap ask the user enter the salar?\n",
    "ask the user tax percentage\n",
    "calculate how tax user need to pay ?\n"
   ]
  },
  {
   "cell_type": "code",
   "execution_count": null,
   "id": "09a2cf24-225c-4c39-8279-cffbb4456258",
   "metadata": {},
   "outputs": [],
   "source": [
    "wap ask the user get a random value b/w 1 and 100 perform the square of it"
   ]
  },
  {
   "cell_type": "code",
   "execution_count": null,
   "id": "61c161d7-dbfc-4062-b462-6b62242dc12a",
   "metadata": {},
   "outputs": [],
   "source": [
    "package name : random\n",
    "method name : randint\n"
   ]
  },
  {
   "cell_type": "code",
   "execution_count": 14,
   "id": "6d3104dd-603c-434c-9931-07e325f79ce2",
   "metadata": {},
   "outputs": [
    {
     "name": "stdout",
     "output_type": "stream",
     "text": [
      "enter square of 4 is 16\n"
     ]
    }
   ],
   "source": [
    "import random  \n",
    "number =random.randint(1,10)\n",
    "print(\"enter square of {} is {}\".format(number,number*number))"
   ]
  },
  {
   "cell_type": "code",
   "execution_count": null,
   "id": "0f0a7809-f0d4-4dd0-b18b-3f7cc28bf335",
   "metadata": {},
   "outputs": [],
   "source": [
    "wap ask the user enter a distance  ,\n",
    "ask the user enter a rate per distance\n",
    "calcluate the total charge ?\n"
   ]
  },
  {
   "cell_type": "code",
   "execution_count": 20,
   "id": "1981e261-c4a0-4cd3-94a3-3c3441d92269",
   "metadata": {},
   "outputs": [
    {
     "name": "stdin",
     "output_type": "stream",
     "text": [
      "enter the distance 50\n",
      "enter the rate per distance 5\n"
     ]
    },
    {
     "name": "stdout",
     "output_type": "stream",
     "text": [
      "net charge = 50 distance and per distance is 250\n"
     ]
    }
   ],
   "source": [
    "distance=eval(input(\"enter the distance\"))\n",
    "rate_per_dis =eval(input(\"enter the rate per distance\"));\n",
    "print(\"net charge = {} distance and per distance i {}\".format(distance,distance*rate_per_dis))"
   ]
  },
  {
   "cell_type": "code",
   "execution_count": 10,
   "id": "042bf73d-fb9a-4224-b092-9127bf024722",
   "metadata": {},
   "outputs": [
    {
     "name": "stdout",
     "output_type": "stream",
     "text": [
      "sum of 90 and 78 is 168\n"
     ]
    }
   ],
   "source": [
    "try:\n",
    "    num1=90\n",
    "    num2=78\n",
    "    sum=num1+num2\n",
    "    print(\"sum of {} and {} is {}\".format(num1,num2,sum))\n",
    "    \n",
    "except Exception as e:\n",
    "    print(e)"
   ]
  },
  {
   "cell_type": "markdown",
   "id": "8e2dc74d-5291-464c-b304-f2a0b010107c",
   "metadata": {},
   "source": [
    " try and exception are exist together\n",
    " *Note*\n"
   ]
  },
  {
   "cell_type": "markdown",
   "id": "23702496-098d-41ec-bb97-982280a2d0dd",
   "metadata": {},
   "source": [
    "$lec-14$\n",
    "\n",
    "#Conditional_Statemnet\n",
    "\n",
    "if - else\n",
    "\n"
   ]
  },
  {
   "cell_type": "code",
   "execution_count": null,
   "id": "1a38a1d2-8cd1-4f8f-a646-dc3dacd6c068",
   "metadata": {},
   "outputs": [],
   "source": [
    "name=\"pyhton\"\n",
    "if <condition>\n",
    " #statement1\n",
    "#statement2\n",
    "else:\n",
    "    #code \n",
    "\n",
    "    "
   ]
  },
  {
   "cell_type": "code",
   "execution_count": null,
   "id": "0256333b-66fa-4644-8db1-addeb8b4e8b7",
   "metadata": {},
   "outputs": [],
   "source": [
    "= assign\n",
    "== condition\n",
    "\n"
   ]
  },
  {
   "cell_type": "code",
   "execution_count": 11,
   "id": "5d6a6301-2769-4406-a024-d0a5cd8a8716",
   "metadata": {},
   "outputs": [
    {
     "name": "stdin",
     "output_type": "stream",
     "text": [
      "enter the number 67\n",
      "enter the number 67\n"
     ]
    }
   ],
   "source": [
    "num1= eval(input(\"enter the number\"))\n",
    "num2= eval(input(\"enter the number\"))\n"
   ]
  },
  {
   "cell_type": "code",
   "execution_count": 15,
   "id": "cbadfe60-0c07-42e8-83ae-c0f0d271fc7a",
   "metadata": {},
   "outputs": [
    {
     "name": "stdin",
     "output_type": "stream",
     "text": [
      "enter the number 67\n"
     ]
    },
    {
     "name": "stdout",
     "output_type": "stream",
     "text": [
      "the number 67 is odd\n"
     ]
    }
   ],
   "source": [
    "num1= eval(input(\"enter the number\"))\n",
    "if(num1%2==0):\n",
    "              print(\"the number {} is even\".format(num1))\n",
    "else:\n",
    "     print(\"the number {} is odd\".format(num1))\n"
   ]
  },
  {
   "cell_type": "code",
   "execution_count": 19,
   "id": "4d7caf8f-b6d1-4465-b63a-8efdd42c21a8",
   "metadata": {},
   "outputs": [
    {
     "ename": "IndentationError",
     "evalue": "expected an indented block after 'try' statement on line 1 (3551271553.py, line 2)",
     "output_type": "error",
     "traceback": [
      "\u001b[1;36m  Cell \u001b[1;32mIn[19], line 2\u001b[1;36m\u001b[0m\n\u001b[1;33m    num1= eval(input(\"enter the number\"))\u001b[0m\n\u001b[1;37m    ^\u001b[0m\n\u001b[1;31mIndentationError\u001b[0m\u001b[1;31m:\u001b[0m expected an indented block after 'try' statement on line 1\n"
     ]
    }
   ],
   "source": [
    "       "
   ]
  },
  {
   "cell_type": "code",
   "execution_count": null,
   "id": "bbef15c3-d079-4803-8484-e661a3559f97",
   "metadata": {},
   "outputs": [],
   "source": []
  }
 ],
 "metadata": {
  "kernelspec": {
   "display_name": "Python 3 (ipykernel)",
   "language": "python",
   "name": "python3"
  },
  "language_info": {
   "codemirror_mode": {
    "name": "ipython",
    "version": 3
   },
   "file_extension": ".py",
   "mimetype": "text/x-python",
   "name": "python",
   "nbconvert_exporter": "python",
   "pygments_lexer": "ipython3",
   "version": "3.12.4"
  }
 },
 "nbformat": 4,
 "nbformat_minor": 5
}
