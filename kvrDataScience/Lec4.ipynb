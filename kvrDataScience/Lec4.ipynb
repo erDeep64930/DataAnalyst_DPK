{
 "cells": [
  {
   "cell_type": "markdown",
   "metadata": {},
   "source": [
    "# 1. array()\n",
    "- syntax:-\n",
    "- varname=numpy.array(object.dtype)\n",
    "- this function is used  for converting traditional python objects into ndarray object\n",
    "\n"
   ]
  },
  {
   "cell_type": "markdown",
   "metadata": {},
   "source": [
    "- Numpy stand for numerical python \n",
    "- to deal with arrays based computing + complex operation\n",
    "- travis oliphan developed numpy \n",
    "- he developed numpy in C, Python language\n",
    "\"\"\""
   ]
  },
  {
   "cell_type": "code",
   "execution_count": 3,
   "metadata": {},
   "outputs": [
    {
     "name": "stdout",
     "output_type": "stream",
     "text": [
      "90 <class 'numpy.ndarray'>\n"
     ]
    }
   ],
   "source": [
    "import numpy as np\n",
    "b=90\n",
    "a=np.array(b)\n",
    "print(a,type(a))"
   ]
  },
  {
   "cell_type": "code",
   "execution_count": 4,
   "metadata": {},
   "outputs": [
    {
     "name": "stdout",
     "output_type": "stream",
     "text": [
      "0\n"
     ]
    }
   ],
   "source": [
    "print(a.ndim)"
   ]
  },
  {
   "cell_type": "code",
   "execution_count": 5,
   "metadata": {},
   "outputs": [
    {
     "name": "stdout",
     "output_type": "stream",
     "text": [
      "()\n"
     ]
    }
   ],
   "source": [
    "print(a.shape)"
   ]
  },
  {
   "cell_type": "code",
   "execution_count": 6,
   "metadata": {},
   "outputs": [
    {
     "name": "stdout",
     "output_type": "stream",
     "text": [
      "1\n"
     ]
    }
   ],
   "source": [
    "print(a.size)"
   ]
  },
  {
   "cell_type": "code",
   "execution_count": 7,
   "metadata": {},
   "outputs": [
    {
     "name": "stdout",
     "output_type": "stream",
     "text": [
      "int64\n"
     ]
    }
   ],
   "source": [
    "print(a.dtype)"
   ]
  },
  {
   "cell_type": "code",
   "execution_count": 9,
   "metadata": {},
   "outputs": [
    {
     "name": "stdout",
     "output_type": "stream",
     "text": [
      "3.4 <class 'numpy.ndarray'>\n",
      "dimension 0\n",
      "shape ()\n",
      "size 1\n",
      "internal data type float64\n"
     ]
    }
   ],
   "source": [
    "b=3.4\n",
    "a=np.array(b)\n",
    "print(a,type(a))\n",
    "print(\"dimension\",a.ndim)\n",
    "print(\"shape\",a.shape)\n",
    "print(\"size\",a.size)\n",
    "print(\"internal data type\",a.dtype)"
   ]
  },
  {
   "cell_type": "code",
   "execution_count": 10,
   "metadata": {},
   "outputs": [
    {
     "name": "stdout",
     "output_type": "stream",
     "text": [
      "(3.4+4.5j) <class 'numpy.ndarray'>\n",
      "dimension 0\n",
      "shape ()\n",
      "size 1\n",
      "internal data type complex128\n"
     ]
    }
   ],
   "source": [
    "b=3.4+4.5j\n",
    "a=np.array(b)\n",
    "print(a,type(a))\n",
    "print(\"dimension\",a.ndim)\n",
    "print(\"shape\",a.shape)\n",
    "print(\"size\",a.size)\n",
    "print(\"internal data type\",a.dtype)"
   ]
  },
  {
   "cell_type": "code",
   "execution_count": 11,
   "metadata": {},
   "outputs": [
    {
     "name": "stdout",
     "output_type": "stream",
     "text": [
      "python <class 'numpy.ndarray'>\n",
      "dimension 0\n",
      "shape ()\n",
      "size 1\n",
      "internal data type <U6\n"
     ]
    }
   ],
   "source": [
    "b=\"python\"\n",
    "a=np.array(b)\n",
    "print(a,type(a))\n",
    "print(\"dimension\",a.ndim)\n",
    "print(\"shape\",a.shape)\n",
    "print(\"size\",a.size)\n",
    "print(\"internal data type\",a.dtype)"
   ]
  },
  {
   "cell_type": "code",
   "execution_count": 12,
   "metadata": {},
   "outputs": [
    {
     "name": "stdout",
     "output_type": "stream",
     "text": [
      "range(0, 7) <class 'range'>\n"
     ]
    }
   ],
   "source": [
    "r=range(7)\n",
    "print(r,type(r))"
   ]
  },
  {
   "cell_type": "code",
   "execution_count": 13,
   "metadata": {},
   "outputs": [
    {
     "name": "stdout",
     "output_type": "stream",
     "text": [
      "10\t11\t12\t13\t14\t15\t16\t17\t18\t19\t20\t"
     ]
    }
   ],
   "source": [
    "for val in range(10,21):\n",
    "    print(val,end=\"\\t\")"
   ]
  },
  {
   "cell_type": "code",
   "execution_count": 14,
   "metadata": {},
   "outputs": [
    {
     "name": "stdout",
     "output_type": "stream",
     "text": [
      "[10 12 14 16 18 20 22 24 26 28 30 32 34 36 38 40 42 44 46 48 50]\t"
     ]
    }
   ],
   "source": [
    "r=range(10,51,2)\n",
    "a=np.array(r)\n",
    "print(a,end=\"\\t\")"
   ]
  },
  {
   "cell_type": "code",
   "execution_count": 15,
   "metadata": {},
   "outputs": [
    {
     "name": "stdout",
     "output_type": "stream",
     "text": [
      "[10 12 14 16 18 20 22 24 26 28 30 32 34 36 38 40 42 44 46 48 50] <class 'numpy.ndarray'>\n",
      "dimension 1\n",
      "shape (21,)\n",
      "size 21\n",
      "internal data type int64\n"
     ]
    }
   ],
   "source": [
    "print(a,type(a))\n",
    "print(\"dimension\",a.ndim)\n",
    "print(\"shape\",a.shape)\n",
    "print(\"size\",a.size)\n",
    "print(\"internal data type\",a.dtype)"
   ]
  },
  {
   "cell_type": "code",
   "execution_count": 16,
   "metadata": {},
   "outputs": [
    {
     "name": "stdout",
     "output_type": "stream",
     "text": [
      "[False  True  True  True  True  True] <class 'numpy.ndarray'>\n",
      "dimension 1\n",
      "shape (6,)\n",
      "size 6\n",
      "internal data type bool\n"
     ]
    }
   ],
   "source": [
    "a=np.array(range(6),dtype=bool)\n",
    "print(a,type(a))\n",
    "print(\"dimension\",a.ndim)\n",
    "print(\"shape\",a.shape)\n",
    "print(\"size\",a.size)\n",
    "print(\"internal data type\",a.dtype)"
   ]
  },
  {
   "cell_type": "code",
   "execution_count": 17,
   "metadata": {},
   "outputs": [
    {
     "name": "stdout",
     "output_type": "stream",
     "text": [
      "[0 1 2 3 4 5] <class 'numpy.ndarray'>\n",
      "dimension 1\n",
      "shape (6,)\n",
      "size 6\n",
      "internal data type int64\n"
     ]
    }
   ],
   "source": [
    "a=np.array(range(6),dtype=int)\n",
    "print(a,type(a))\n",
    "print(\"dimension\",a.ndim)\n",
    "print(\"shape\",a.shape)\n",
    "print(\"size\",a.size)\n",
    "print(\"internal data type\",a.dtype)"
   ]
  },
  {
   "cell_type": "markdown",
   "metadata": {},
   "source": [
    "# now i want to reshape the 1D to 2D array:-\n",
    "\n",
    "- syntax: for shape attribute\n",
    "- ndarrayobj.shape=(rows,cols)\n",
    "-  syntax: for reshape attribute\n",
    "- ndarrayobj=ndarrayobj.reshape(rows,cols)"
   ]
  },
  {
   "cell_type": "code",
   "execution_count": 18,
   "metadata": {},
   "outputs": [
    {
     "name": "stdout",
     "output_type": "stream",
     "text": [
      "[100 105 110 115 120 125 130 135 140 145 150 155] <class 'numpy.ndarray'>\n",
      "dimension 1\n",
      "shape (12,)\n",
      "size 12\n",
      "internal data type int64\n"
     ]
    }
   ],
   "source": [
    "a=np.array(range(100,156,5))\n",
    "print(a,type(a))\n",
    "print(\"dimension\",a.ndim)\n",
    "print(\"shape\",a.shape)\n",
    "print(\"size\",a.size)\n",
    "print(\"internal data type\",a.dtype)"
   ]
  },
  {
   "cell_type": "code",
   "execution_count": 19,
   "metadata": {},
   "outputs": [
    {
     "name": "stdout",
     "output_type": "stream",
     "text": [
      "[[100 105 110]\n",
      " [115 120 125]\n",
      " [130 135 140]\n",
      " [145 150 155]] <class 'numpy.ndarray'>\n",
      "dimension 2\n",
      "shape (4, 3)\n",
      "size 12\n",
      "internal data type int64\n"
     ]
    }
   ],
   "source": [
    "a.shape=(4,3)\n",
    "print(a,type(a))\n",
    "print(\"dimension\",a.ndim)\n",
    "print(\"shape\",a.shape)\n",
    "print(\"size\",a.size)\n",
    "print(\"internal data type\",a.dtype)"
   ]
  },
  {
   "cell_type": "code",
   "execution_count": 21,
   "metadata": {},
   "outputs": [
    {
     "name": "stdout",
     "output_type": "stream",
     "text": [
      "[100 105 110 115 120 125 130 135 140 145 150 155] <class 'numpy.ndarray'>\n",
      "dimension 1\n",
      "shape (12,)\n",
      "size 12\n",
      "internal data type int64\n"
     ]
    }
   ],
   "source": [
    "a.shape=(12,)\n",
    "print(a,type(a))\n",
    "print(\"dimension\",a.ndim)\n",
    "print(\"shape\",a.shape)\n",
    "print(\"size\",a.size)\n",
    "print(\"internal data type\",a.dtype)"
   ]
  },
  {
   "cell_type": "code",
   "execution_count": 22,
   "metadata": {},
   "outputs": [
    {
     "name": "stdout",
     "output_type": "stream",
     "text": [
      "[100 105 110 115 120 125 130 135 140 145 150 155]\n"
     ]
    }
   ],
   "source": [
    "print(a)"
   ]
  },
  {
   "cell_type": "code",
   "execution_count": 24,
   "metadata": {},
   "outputs": [
    {
     "name": "stdout",
     "output_type": "stream",
     "text": [
      "[100 105 110 115 120 125 130 135 140 145 150 155] <class 'numpy.ndarray'>\n",
      "dimension 1\n",
      "shape (12,)\n",
      "size 12\n",
      "internal data type int64\n"
     ]
    }
   ],
   "source": [
    "a.reshape(4,3)\n",
    "print(a,type(a))\n",
    "print(\"dimension\",a.ndim)\n",
    "print(\"shape\",a.shape)\n",
    "print(\"size\",a.size)\n",
    "print(\"internal data type\",a.dtype)"
   ]
  },
  {
   "cell_type": "code",
   "execution_count": 26,
   "metadata": {},
   "outputs": [
    {
     "name": "stdout",
     "output_type": "stream",
     "text": [
      "[100 105 110 115 120 125 130 135 140 145 150 155] <class 'numpy.ndarray'>\n",
      "dimension 1\n",
      "shape (12,)\n",
      "size 12\n",
      "internal data type int64\n"
     ]
    }
   ],
   "source": [
    "a=a.reshape(12,)\n",
    "print(a,type(a))\n",
    "print(\"dimension\",a.ndim)\n",
    "print(\"shape\",a.shape)\n",
    "print(\"size\",a.size)\n",
    "print(\"internal data type\",a.dtype)"
   ]
  },
  {
   "cell_type": "code",
   "execution_count": 28,
   "metadata": {},
   "outputs": [
    {
     "name": "stdout",
     "output_type": "stream",
     "text": [
      "[[[[ 0  1]\n",
      "   [ 2  3]]\n",
      "\n",
      "  [[ 4  5]\n",
      "   [ 6  7]]]\n",
      "\n",
      "\n",
      " [[[ 8  9]\n",
      "   [10 11]]\n",
      "\n",
      "  [[12 13]\n",
      "   [14 15]]]] <class 'numpy.ndarray'>\n",
      "dimension 4\n",
      "shape (2, 2, 2, 2)\n",
      "size 16\n",
      "internal data type int64\n"
     ]
    }
   ],
   "source": [
    "a=np.array(range(0,16))\n",
    "a.shape=(2,2,2,2)\n",
    "print(a,type(a))\n",
    "print(\"dimension\",a.ndim)\n",
    "print(\"shape\",a.shape)\n",
    "print(\"size\",a.size)\n",
    "print(\"internal data type\",a.dtype)"
   ]
  },
  {
   "cell_type": "code",
   "execution_count": 36,
   "metadata": {},
   "outputs": [
    {
     "name": "stdout",
     "output_type": "stream",
     "text": [
      "[[ 0  1  2  3]\n",
      " [ 4  5  6  7]\n",
      " [ 8  9 10 11]\n",
      " [12 13 14 15]] <class 'numpy.ndarray'>\n",
      "dimension 2\n",
      "shape (4, 4)\n",
      "size 16\n",
      "internal data type int64\n"
     ]
    }
   ],
   "source": [
    "lst=[10,20,30,40,50,60,70,80,90,100,110,120,130,140,160]\n",
    "a.shape=(4,4)\n",
    "print(a,type(a))\n",
    "print(\"dimension\",a.ndim)\n",
    "print(\"shape\",a.shape)\n",
    "print(\"size\",a.size)\n",
    "print(\"internal data type\",a.dtype)"
   ]
  },
  {
   "cell_type": "code",
   "execution_count": 39,
   "metadata": {},
   "outputs": [
    {
     "name": "stdout",
     "output_type": "stream",
     "text": [
      "[[[ 0  1  2  3]\n",
      "  [ 4  5  6  7]]\n",
      "\n",
      " [[ 8  9 10 11]\n",
      "  [12 13 14 15]]] <class 'numpy.ndarray'>\n",
      "dimension 3\n",
      "shape (2, 2, 4)\n",
      "size 16\n",
      "internal data type int64\n"
     ]
    }
   ],
   "source": [
    "a.shape=(2,2,4)\n",
    "print(a,type(a))\n",
    "print(\"dimension\",a.ndim)\n",
    "print(\"shape\",a.shape)\n",
    "print(\"size\",a.size)\n",
    "print(\"internal data type\",a.dtype)"
   ]
  },
  {
   "cell_type": "code",
   "execution_count": 40,
   "metadata": {},
   "outputs": [
    {
     "name": "stdout",
     "output_type": "stream",
     "text": [
      "[ 0  1  2  3  4  5  6  7  8  9 10 11 12 13 14 15] <class 'numpy.ndarray'>\n",
      "dimension 1\n",
      "shape (16,)\n",
      "size 16\n",
      "internal data type int64\n"
     ]
    }
   ],
   "source": [
    "# to flatten\n",
    "a.shape=(16,)\n",
    "print(a,type(a))\n",
    "print(\"dimension\",a.ndim)\n",
    "print(\"shape\",a.shape)\n",
    "print(\"size\",a.size)\n",
    "print(\"internal data type\",a.dtype)"
   ]
  },
  {
   "cell_type": "code",
   "execution_count": 41,
   "metadata": {},
   "outputs": [
    {
     "name": "stdout",
     "output_type": "stream",
     "text": [
      "{50, 20, 40, 10, 60, 30} <class 'set'>\n"
     ]
    }
   ],
   "source": [
    "s1={10,20,30,40,50,60}\n",
    "print(s1,type(s1))"
   ]
  },
  {
   "cell_type": "code",
   "execution_count": 42,
   "metadata": {},
   "outputs": [
    {
     "name": "stdout",
     "output_type": "stream",
     "text": [
      "{50, 20, 40, 10, 60, 30} <class 'numpy.ndarray'>\n"
     ]
    }
   ],
   "source": [
    "a=np.array(s1)\n",
    "\n",
    "print(a,type(a))"
   ]
  },
  {
   "cell_type": "code",
   "execution_count": 43,
   "metadata": {},
   "outputs": [
    {
     "name": "stdout",
     "output_type": "stream",
     "text": [
      "{50, 20, 40, 10, 60, 30} <class 'numpy.ndarray'>\n",
      "dimension 0\n",
      "shape ()\n",
      "size 1\n",
      "internal data type object\n"
     ]
    }
   ],
   "source": [
    "print(a,type(a))\n",
    "print(\"dimension\",a.ndim)\n",
    "print(\"shape\",a.shape)\n",
    "print(\"size\",a.size)\n",
    "print(\"internal data type\",a.dtype)"
   ]
  },
  {
   "cell_type": "markdown",
   "metadata": {},
   "source": [
    "- set never maintain indexing.\n",
    "hence matrix formation with set and frozenset is not possible.\n"
   ]
  },
  {
   "cell_type": "code",
   "execution_count": 47,
   "metadata": {},
   "outputs": [
    {
     "name": "stdout",
     "output_type": "stream",
     "text": [
      "{10: 'python', 20: 'java', 30: 'c', 40: 'c++'} <class 'numpy.ndarray'>\n",
      "{10: 'python', 20: 'java', 30: 'c', 40: 'c++'} <class 'numpy.ndarray'>\n",
      "dimension 0\n",
      "shape ()\n",
      "size 1\n",
      "internal data type object\n"
     ]
    }
   ],
   "source": [
    "d1={10:\"python\",20:\"java\",30:\"c\",40:\"c++\"}\n",
    "\n",
    "a=np.array(d1)\n",
    "print(a,type(a))\n",
    "print(a,type(a))\n",
    "print(\"dimension\",a.ndim)\n",
    "print(\"shape\",a.shape)\n",
    "print(\"size\",a.size)\n",
    "print(\"internal data type\",a.dtype)"
   ]
  },
  {
   "cell_type": "code",
   "execution_count": null,
   "metadata": {},
   "outputs": [],
   "source": []
  },
  {
   "cell_type": "code",
   "execution_count": null,
   "metadata": {},
   "outputs": [],
   "source": []
  },
  {
   "cell_type": "code",
   "execution_count": null,
   "metadata": {},
   "outputs": [],
   "source": []
  },
  {
   "cell_type": "code",
   "execution_count": null,
   "metadata": {},
   "outputs": [],
   "source": []
  },
  {
   "cell_type": "code",
   "execution_count": null,
   "metadata": {},
   "outputs": [],
   "source": []
  },
  {
   "cell_type": "code",
   "execution_count": null,
   "metadata": {},
   "outputs": [],
   "source": []
  },
  {
   "cell_type": "code",
   "execution_count": null,
   "metadata": {},
   "outputs": [],
   "source": []
  }
 ],
 "metadata": {
  "kernelspec": {
   "display_name": "Python 3",
   "language": "python",
   "name": "python3"
  },
  "language_info": {
   "codemirror_mode": {
    "name": "ipython",
    "version": 3
   },
   "file_extension": ".py",
   "mimetype": "text/x-python",
   "name": "python",
   "nbconvert_exporter": "python",
   "pygments_lexer": "ipython3",
   "version": "3.13.1"
  }
 },
 "nbformat": 4,
 "nbformat_minor": 2
}
