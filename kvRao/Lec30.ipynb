{
 "cells": [
  {
   "cell_type": "markdown",
   "metadata": {},
   "source": [
    "- key()\n",
    "\n",
    "- dictobj.keys()\n",
    "\n",
    "- this function is used for obtaining value of key and placed in varname and whose type <class,'dict_keys>"
   ]
  },
  {
   "cell_type": "code",
   "execution_count": 1,
   "metadata": {},
   "outputs": [
    {
     "data": {
      "text/plain": [
       "dict_keys([10, 20, 30, 40])"
      ]
     },
     "execution_count": 1,
     "metadata": {},
     "output_type": "execute_result"
    }
   ],
   "source": [
    "d1={10:\"python\",20:\"java\",30:\"c\",40:\"javascript\"}\n",
    "d1.keys()"
   ]
  },
  {
   "cell_type": "code",
   "execution_count": 2,
   "metadata": {},
   "outputs": [
    {
     "name": "stdout",
     "output_type": "stream",
     "text": [
      "dict_keys([10, 20, 30, 40])\n"
     ]
    }
   ],
   "source": [
    "ks=d1.keys()\n",
    "print(ks)"
   ]
  },
  {
   "cell_type": "code",
   "execution_count": 5,
   "metadata": {},
   "outputs": [
    {
     "name": "stdout",
     "output_type": "stream",
     "text": [
      "10\n",
      "20\n",
      "30\n",
      "40\n"
     ]
    }
   ],
   "source": [
    "for k in d1.keys():\n",
    "    print(k)\n"
   ]
  },
  {
   "cell_type": "code",
   "execution_count": 6,
   "metadata": {},
   "outputs": [
    {
     "name": "stdout",
     "output_type": "stream",
     "text": [
      "python\n",
      "java\n",
      "c\n",
      "javascript\n"
     ]
    }
   ],
   "source": [
    "for v in d1.values():\n",
    "    print(v)"
   ]
  },
  {
   "cell_type": "markdown",
   "metadata": {},
   "source": [
    "- item()"
   ]
  },
  {
   "cell_type": "code",
   "execution_count": 7,
   "metadata": {},
   "outputs": [
    {
     "data": {
      "text/plain": [
       "dict_items([(10, 'python'), (20, 'java'), (30, 'c'), (40, 'javascript')])"
      ]
     },
     "execution_count": 7,
     "metadata": {},
     "output_type": "execute_result"
    }
   ],
   "source": [
    "d1.items()"
   ]
  },
  {
   "cell_type": "code",
   "execution_count": 8,
   "metadata": {},
   "outputs": [
    {
     "name": "stdout",
     "output_type": "stream",
     "text": [
      "10 --> python\n",
      "20 --> java\n",
      "30 --> c\n",
      "40 --> javascript\n"
     ]
    }
   ],
   "source": [
    "for k,v in d1.items():\n",
    "    print(k,\"-->\",v)"
   ]
  },
  {
   "cell_type": "markdown",
   "metadata": {},
   "source": [
    "- combination of dict with list ,tuple,set"
   ]
  },
  {
   "cell_type": "code",
   "execution_count": 9,
   "metadata": {},
   "outputs": [],
   "source": [
    "#dict in dict\n",
    "#list in dict\n",
    "#tuple in dict\n",
    "#set in dict\n",
    "#dict in list"
   ]
  },
  {
   "cell_type": "code",
   "execution_count": 30,
   "metadata": {},
   "outputs": [
    {
     "name": "stdout",
     "output_type": "stream",
     "text": [
      "{'sno': 10, 'name': 'rs', 'IM': {'cm': 17, 'os': 16, 'py': 19}, 'EM': {'cm': 67, 'os': 78, 'py': 67}, 'cname': 'oucet'} 2494851939520 <class 'dict'>\n"
     ]
    }
   ],
   "source": [
    "#dict iin dict\n",
    "d1={\"sno\":10,\"name\":\"rs\",\"IM\":{\"cm\":17,\"os\":16,\"py\":19},\"EM\":{\"cm\":67,\"os\":78,\"py\":67},\"cname\":\"oucet\"}\n",
    "\n",
    "print(d1,id(d1),type(d1))"
   ]
  },
  {
   "cell_type": "code",
   "execution_count": 31,
   "metadata": {},
   "outputs": [
    {
     "name": "stdout",
     "output_type": "stream",
     "text": [
      "('sno', 10) <class 'tuple'>\n",
      "('name', 'rs') <class 'tuple'>\n",
      "('IM', {'cm': 17, 'os': 16, 'py': 19}) <class 'tuple'>\n",
      "('EM', {'cm': 67, 'os': 78, 'py': 67}) <class 'tuple'>\n",
      "('cname', 'oucet') <class 'tuple'>\n"
     ]
    }
   ],
   "source": [
    "for kv in d1.items():\n",
    "    print(kv,type(kv))"
   ]
  },
  {
   "cell_type": "code",
   "execution_count": 32,
   "metadata": {},
   "outputs": [
    {
     "name": "stdout",
     "output_type": "stream",
     "text": [
      "sno --> 10 <class 'int'> --> <class 'dict'>\n",
      "name --> rs <class 'str'> --> <class 'dict'>\n",
      "IM --> {'cm': 17, 'os': 16, 'py': 19} <class 'dict'> --> <class 'dict'>\n",
      "EM --> {'cm': 67, 'os': 78, 'py': 67} <class 'dict'> --> <class 'dict'>\n",
      "cname --> oucet <class 'str'> --> <class 'dict'>\n"
     ]
    }
   ],
   "source": [
    "for k,v in d1.items():\n",
    "    print(k,\"-->\",v,type(v),\"-->\",type(d1))"
   ]
  },
  {
   "cell_type": "code",
   "execution_count": 33,
   "metadata": {},
   "outputs": [
    {
     "name": "stdout",
     "output_type": "stream",
     "text": [
      "cm --> 17\n",
      "os --> 16\n",
      "py --> 19\n"
     ]
    }
   ],
   "source": [
    "# INTERNAL MARKS\n",
    "for k,v in d1[\"IM\"].items():\n",
    "    print(k,\"-->\",v)"
   ]
  },
  {
   "cell_type": "code",
   "execution_count": 34,
   "metadata": {},
   "outputs": [
    {
     "name": "stdout",
     "output_type": "stream",
     "text": [
      "cm --> 67\n",
      "os --> 78\n",
      "py --> 67\n"
     ]
    }
   ],
   "source": [
    "# EXTERNAL MARKS\n",
    "for k,v in d1[\"EM\"].items():\n",
    "    print(k,\"-->\",v)"
   ]
  },
  {
   "cell_type": "code",
   "execution_count": 35,
   "metadata": {},
   "outputs": [
    {
     "name": "stdout",
     "output_type": "stream",
     "text": [
      "{'sno': 10, 'name': 'rs', 'IM': {'cm': 17, 'py': 19}, 'EM': {'cm': 67, 'os': 78, 'py': 67}, 'cname': 'oucet'}\n"
     ]
    }
   ],
   "source": [
    "d1[\"IM\"].pop(\"os\")\n",
    "print(d1)"
   ]
  },
  {
   "cell_type": "code",
   "execution_count": 36,
   "metadata": {},
   "outputs": [],
   "source": [
    "# 47.35"
   ]
  },
  {
   "cell_type": "code",
   "execution_count": 2,
   "metadata": {},
   "outputs": [
    {
     "name": "stdout",
     "output_type": "stream",
     "text": [
      "{'sno': 10, 'name': 'rs', 'IM': {'cm': 17, 'os': 16, 'py': 19, 'OS]': 16}, 'EM': {'cm': 17, 'os': 78, 'py': 67}, 'cname': 'oucet'}\n"
     ]
    }
   ],
   "source": [
    "d1={\"sno\":10,\"name\":\"rs\",\"IM\":{\"cm\":17,\"os\":16,\"py\":19},\"EM\":{\"cm\":67,\"os\":78,\"py\":67},\"cname\":\"oucet\"}\n",
    "\n",
    "d1[\"EM\"][\"cm\"]=17\n",
    "d1[\"IM\"][\"OS]\"]=16\n",
    "print(d1)"
   ]
  },
  {
   "cell_type": "code",
   "execution_count": 5,
   "metadata": {},
   "outputs": [
    {
     "name": "stdout",
     "output_type": "stream",
     "text": [
      "{'sno': 10, 'name': 'rs', 'IM': {'cm': 17, 'os': 16, 'py': 19, 'OS]': 16}, 'EM': {'cm': 67, 'os': 78, 'py': 65}, 'cname': 'oucet'}\n"
     ]
    }
   ],
   "source": [
    "\n",
    "d1[\"EM\"][\"py\"]=65\n",
    "print(d1)"
   ]
  },
  {
   "cell_type": "code",
   "execution_count": 6,
   "metadata": {},
   "outputs": [
    {
     "name": "stdout",
     "output_type": "stream",
     "text": [
      "{'sno': 10, 'name': 'rs', 'IM': {'cm': 17, 'os': 16, 'py': 19, 'OS]': 16}, 'EM': {'cm': 67, 'os': 78, 'py': 65}, 'cname': 'oucet', 'total': {}}\n"
     ]
    }
   ],
   "source": [
    "# calculate total marks\n",
    "\n",
    "d1[\"total\"]=dict()\n",
    "print(d1)"
   ]
  },
  {
   "cell_type": "code",
   "execution_count": 8,
   "metadata": {},
   "outputs": [
    {
     "name": "stdout",
     "output_type": "stream",
     "text": [
      "{'sno': 10, 'name': 'rs', 'IM': {'cm': 17, 'os': 16, 'py': 19, 'OS]': 16}, 'EM': {'cm': 67, 'os': 78, 'py': 65}, 'cname': 'oucet', 'total': 94}\n"
     ]
    }
   ],
   "source": [
    "d1[\"total\"]=d1[\"IM\"][\"py\"]+d1[\"EM\"][\"py\"]\n",
    "d1[\"total\"]=d1[\"IM\"][\"cm\"]+d1[\"EM\"][\"cm\"]\n",
    "d1[\"total\"]=d1[\"IM\"][\"os\"]+d1[\"EM\"][\"os\"]\n",
    "print(d1)"
   ]
  },
  {
   "cell_type": "code",
   "execution_count": 9,
   "metadata": {},
   "outputs": [
    {
     "name": "stdout",
     "output_type": "stream",
     "text": [
      "{'sno': 10, 'name': 'rs', 'IM': {'cm': 17, 'os': 16, 'py': 19, 'OS]': 16}, 'EM': {'cm': 67, 'os': 78, 'py': 65}, 'cname': 'oucet', 'total': {'cm': 84, 'os': 94, 'py': 84}}\n"
     ]
    }
   ],
   "source": [
    "#above we get the latest value only so we\n",
    "d1[\"total\"]=dict()\n",
    "d1[\"total\"][\"cm\"]=d1[\"IM\"][\"cm\"]+d1[\"EM\"][\"cm\"]\n",
    "d1[\"total\"][\"os\"]=d1[\"IM\"][\"os\"]+d1[\"EM\"][\"os\"]\n",
    "d1[\"total\"][\"py\"]=d1[\"IM\"][\"py\"]+d1[\"EM\"][\"py\"]\n",
    "print(d1)"
   ]
  },
  {
   "cell_type": "code",
   "execution_count": 10,
   "metadata": {},
   "outputs": [
    {
     "name": "stdout",
     "output_type": "stream",
     "text": [
      "{'sno': 10, 'name': 'rs', 'IM': {'cm': 17, 'os': 16, 'py': 19, 'OS]': 16}, 'EM': {'cm': 67, 'os': 78, 'py': 65}, 'cname': 'oucet', 'total': {'cm': 84, 'os': 94, 'py': 84}}\n"
     ]
    }
   ],
   "source": [
    "#another method\n",
    "d1[\"total\"][\"py\"]=d1[\"IM\"].get(\"py\")+d1[\"EM\"].get(\"py\")\n",
    "print(d1)"
   ]
  },
  {
   "cell_type": "markdown",
   "metadata": {},
   "source": [
    "- dict in dict --possible\n"
   ]
  },
  {
   "cell_type": "code",
   "execution_count": 11,
   "metadata": {},
   "outputs": [],
   "source": [
    "# List in dict"
   ]
  },
  {
   "cell_type": "code",
   "execution_count": 13,
   "metadata": {},
   "outputs": [
    {
     "name": "stdout",
     "output_type": "stream",
     "text": [
      "sno --> 10 <class 'int'> --> <class 'dict'>\n",
      "name --> rs <class 'str'> --> <class 'dict'>\n",
      "IM --> [18, 13, 17] <class 'list'> --> <class 'dict'>\n",
      "EM --> [55, 66, 68] <class 'list'> --> <class 'dict'>\n",
      "cname --> JNTU <class 'str'> --> <class 'dict'>\n"
     ]
    }
   ],
   "source": [
    "d1={\"sno\":10,\"name\":\"rs\",\"IM\":[18,13,17],\"EM\":[55,66,68],\"cname\":\"JNTU\"}\n",
    "for k,v in d1.items():\n",
    "    print(k,\"-->\",v,type(v),\"-->\",type(d1))"
   ]
  },
  {
   "cell_type": "code",
   "execution_count": 14,
   "metadata": {},
   "outputs": [
    {
     "name": "stdout",
     "output_type": "stream",
     "text": [
      "{'sno': 10, 'name': 'rs', 'IM': [13, 17, 18], 'EM': [55, 66, 68], 'cname': 'JNTU'}\n"
     ]
    }
   ],
   "source": [
    "#sort\n",
    "d1[\"IM\"].sort()\n",
    "print(d1)"
   ]
  },
  {
   "cell_type": "code",
   "execution_count": 19,
   "metadata": {},
   "outputs": [
    {
     "name": "stdout",
     "output_type": "stream",
     "text": [
      "{'sno': 10, 'name': 'rs', 'IM': [13, 17, 18], 'EM': [68, 66, 55], 'cname': 'JNTU'}\n"
     ]
    }
   ],
   "source": [
    "# another method of sorting \n",
    "d1.get(\"EM\").sort(reverse=True)\n",
    "print(d1)"
   ]
  },
  {
   "cell_type": "code",
   "execution_count": 20,
   "metadata": {},
   "outputs": [
    {
     "name": "stdout",
     "output_type": "stream",
     "text": [
      "{'sno': 10, 'name': 'rs', 'IM': [13, 17, 18, 19], 'EM': [68, 66, 55], 'cname': 'JNTU'}\n"
     ]
    }
   ],
   "source": [
    "# add one more internal marks\n",
    "\n",
    "d1[\"IM\"].append(19)\n",
    "print(d1)"
   ]
  },
  {
   "cell_type": "code",
   "execution_count": 21,
   "metadata": {},
   "outputs": [
    {
     "name": "stdout",
     "output_type": "stream",
     "text": [
      "{'sno': 10, 'name': 'rs', 'IM': [13, 17, 18, 19], 'EM': [68, 66, 55, 78], 'cname': 'JNTU'}\n"
     ]
    }
   ],
   "source": [
    "# another method\n",
    "d1.get(\"EM\").append(78)\n",
    "print(d1)"
   ]
  },
  {
   "cell_type": "code",
   "execution_count": 22,
   "metadata": {},
   "outputs": [
    {
     "name": "stdout",
     "output_type": "stream",
     "text": [
      "IM\n",
      "EM\n"
     ]
    }
   ],
   "source": [
    "# get the value of IM na EM only\n",
    "\n",
    "x=[\"IM\",\"EM\"]\n",
    "for k in x:\n",
    "    print(k)"
   ]
  },
  {
   "cell_type": "code",
   "execution_count": 23,
   "metadata": {},
   "outputs": [
    {
     "name": "stdout",
     "output_type": "stream",
     "text": [
      "[13, 17, 18, 19]\n",
      "[68, 66, 55, 78]\n"
     ]
    }
   ],
   "source": [
    "for k in x:\n",
    "    print(d1.get(k))"
   ]
  },
  {
   "cell_type": "code",
   "execution_count": 25,
   "metadata": {},
   "outputs": [],
   "source": [
    "#tuple in dict-possiblea\n"
   ]
  },
  {
   "cell_type": "code",
   "execution_count": 26,
   "metadata": {},
   "outputs": [
    {
     "name": "stdout",
     "output_type": "stream",
     "text": [
      "sno --> 10 <class 'int'> --> <class 'dict'>\n",
      "name --> rs <class 'str'> --> <class 'dict'>\n",
      "IM --> (18, 13, 17) <class 'tuple'> --> <class 'dict'>\n",
      "EM --> (55, 66, 68) <class 'tuple'> --> <class 'dict'>\n",
      "cname --> JNTU <class 'str'> --> <class 'dict'>\n"
     ]
    }
   ],
   "source": [
    "d1={\"sno\":10,\"name\":\"rs\",\"IM\":(18,13,17),\"EM\":(55,66,68),\"cname\":\"JNTU\"}\n",
    "\n",
    "for k,v in d1.items():\n",
    "    print(k,\"-->\",v,type(v),\"-->\",type(d1))"
   ]
  },
  {
   "cell_type": "code",
   "execution_count": 27,
   "metadata": {},
   "outputs": [],
   "source": [
    "#set in dict -possible"
   ]
  },
  {
   "cell_type": "code",
   "execution_count": 29,
   "metadata": {},
   "outputs": [
    {
     "name": "stdout",
     "output_type": "stream",
     "text": [
      "ref\n"
     ]
    }
   ],
   "source": [
    "prod={\"tv\":1.0,\"mobile\":0.35,\"tab\":0.25,\"ref\":1.5}\n",
    "# find the highest price of the product\n",
    "hp=max(prod,key=prod.get)\n",
    "print(hp)"
   ]
  },
  {
   "cell_type": "code",
   "execution_count": 30,
   "metadata": {},
   "outputs": [
    {
     "name": "stdout",
     "output_type": "stream",
     "text": [
      "product name:ref and price is:1.5\n"
     ]
    }
   ],
   "source": [
    "print(\"product name:{} and price is:{}\".format(hp,prod.get(hp)))"
   ]
  },
  {
   "cell_type": "code",
   "execution_count": 31,
   "metadata": {},
   "outputs": [
    {
     "name": "stdout",
     "output_type": "stream",
     "text": [
      "(10, 'rs', {'cm': 13, 'os': 16, 'py': 14}, 'oucet')\n"
     ]
    }
   ],
   "source": [
    "tpl=(10,\"rs\",{\"cm\":13,\"os\":16,\"py\":14},\"oucet\")\n",
    "print(tpl)"
   ]
  },
  {
   "cell_type": "code",
   "execution_count": 32,
   "metadata": {},
   "outputs": [
    {
     "name": "stdout",
     "output_type": "stream",
     "text": [
      "10 --> <class 'tuple'>\n",
      "rs --> <class 'tuple'>\n",
      "{'cm': 13, 'os': 16, 'py': 14} --> <class 'tuple'>\n",
      "oucet --> <class 'tuple'>\n"
     ]
    }
   ],
   "source": [
    "for val in tpl:\n",
    "    print(val,\"-->\",type(tpl))"
   ]
  },
  {
   "cell_type": "code",
   "execution_count": 33,
   "metadata": {},
   "outputs": [
    {
     "name": "stdout",
     "output_type": "stream",
     "text": [
      "(10, 'rs', {'cm': 18, 'os': 16, 'py': 14}, 'oucet')\n"
     ]
    }
   ],
   "source": [
    "tpl[2][\"cm\"]=18\n",
    "print(tpl)"
   ]
  },
  {
   "cell_type": "code",
   "execution_count": 34,
   "metadata": {},
   "outputs": [
    {
     "ename": "TypeError",
     "evalue": "unhashable type: 'dict'",
     "output_type": "error",
     "traceback": [
      "\u001b[1;31m---------------------------------------------------------------------------\u001b[0m",
      "\u001b[1;31mTypeError\u001b[0m                                 Traceback (most recent call last)",
      "Cell \u001b[1;32mIn[34], line 1\u001b[0m\n\u001b[1;32m----> 1\u001b[0m s1\u001b[38;5;241m=\u001b[39m{\u001b[38;5;241m10\u001b[39m,\u001b[38;5;124m\"\u001b[39m\u001b[38;5;124mrs\u001b[39m\u001b[38;5;124m\"\u001b[39m,{\u001b[38;5;124m\"\u001b[39m\u001b[38;5;124mcm\u001b[39m\u001b[38;5;124m\"\u001b[39m:\u001b[38;5;241m13\u001b[39m,\u001b[38;5;124m\"\u001b[39m\u001b[38;5;124mos\u001b[39m\u001b[38;5;124m\"\u001b[39m:\u001b[38;5;241m16\u001b[39m,\u001b[38;5;124m\"\u001b[39m\u001b[38;5;124mpy\u001b[39m\u001b[38;5;124m\"\u001b[39m:\u001b[38;5;241m14\u001b[39m},\u001b[38;5;124m\"\u001b[39m\u001b[38;5;124moucet\u001b[39m\u001b[38;5;124m\"\u001b[39m}\n\u001b[0;32m      2\u001b[0m \u001b[38;5;28mprint\u001b[39m(s1)\n",
      "\u001b[1;31mTypeError\u001b[0m: unhashable type: 'dict'"
     ]
    }
   ],
   "source": [
    "s1={10,\"rs\",{\"cm\":13,\"os\":16,\"py\":14},\"oucet\"}\n",
    "print(s1)"
   ]
  },
  {
   "cell_type": "code",
   "execution_count": 35,
   "metadata": {},
   "outputs": [],
   "source": [
    "# dict in set is not possible]"
   ]
  },
  {
   "cell_type": "code",
   "execution_count": 36,
   "metadata": {},
   "outputs": [
    {
     "ename": "TypeError",
     "evalue": "argument of type 'type' is not iterable",
     "output_type": "error",
     "traceback": [
      "\u001b[1;31m---------------------------------------------------------------------------\u001b[0m",
      "\u001b[1;31mTypeError\u001b[0m                                 Traceback (most recent call last)",
      "Cell \u001b[1;32mIn[36], line 1\u001b[0m\n\u001b[1;32m----> 1\u001b[0m \u001b[38;5;28mlist\u001b[39m \u001b[38;5;129;01min\u001b[39;00m \u001b[38;5;28mlist\u001b[39m \u001b[38;5;66;03m# P\u001b[39;00m\n\u001b[0;32m      2\u001b[0m \u001b[38;5;28mlist\u001b[39m \u001b[38;5;129;01min\u001b[39;00m \u001b[38;5;28mtuple\u001b[39m \u001b[38;5;66;03m#P\u001b[39;00m\n\u001b[0;32m      3\u001b[0m \u001b[38;5;28mlist\u001b[39m \u001b[38;5;129;01min\u001b[39;00m \u001b[38;5;28mset\u001b[39m \u001b[38;5;66;03m#NP\u001b[39;00m\n",
      "\u001b[1;31mTypeError\u001b[0m: argument of type 'type' is not iterable"
     ]
    }
   ],
   "source": [
    "list in list # P\n",
    "list in tuple #P\n",
    "list in set #NP\n",
    "list in dict #P\n",
    "\n",
    "\n",
    "tuple in tuple #P\n",
    "tuple in list #P\n",
    "tuple in set #P\n",
    "tuple in dict #P\n",
    "\n",
    "\n",
    "set in set #NP\n",
    "set in list #P\n",
    "set in tuple #P\n",
    "set in dict #P\n",
    "\n",
    "dict in dict #P\n",
    "dict in list #P\n",
    "dict in tuple #P\n",
    "dict in set #NP"
   ]
  },
  {
   "cell_type": "markdown",
   "metadata": {},
   "source": [
    "# none type"
   ]
  },
  {
   "cell_type": "code",
   "execution_count": 37,
   "metadata": {},
   "outputs": [
    {
     "name": "stdout",
     "output_type": "stream",
     "text": [
      "[]\n"
     ]
    }
   ],
   "source": [
    "l1=[10,20,30,40]\n",
    "l1.clear()\n",
    "print(l1)"
   ]
  },
  {
   "cell_type": "code",
   "execution_count": 38,
   "metadata": {},
   "outputs": [
    {
     "data": {
      "text/plain": [
       "False"
      ]
     },
     "execution_count": 38,
     "metadata": {},
     "output_type": "execute_result"
    }
   ],
   "source": [
    "None==0\n"
   ]
  },
  {
   "cell_type": "code",
   "execution_count": 39,
   "metadata": {},
   "outputs": [
    {
     "data": {
      "text/plain": [
       "False"
      ]
     },
     "execution_count": 39,
     "metadata": {},
     "output_type": "execute_result"
    }
   ],
   "source": [
    "None==\"\""
   ]
  },
  {
   "cell_type": "code",
   "execution_count": 40,
   "metadata": {},
   "outputs": [
    {
     "data": {
      "text/plain": [
       "True"
      ]
     },
     "execution_count": 40,
     "metadata": {},
     "output_type": "execute_result"
    }
   ],
   "source": [
    "None==None"
   ]
  },
  {
   "cell_type": "code",
   "execution_count": null,
   "metadata": {},
   "outputs": [],
   "source": []
  }
 ],
 "metadata": {
  "kernelspec": {
   "display_name": "base",
   "language": "python",
   "name": "python3"
  },
  "language_info": {
   "codemirror_mode": {
    "name": "ipython",
    "version": 3
   },
   "file_extension": ".py",
   "mimetype": "text/x-python",
   "name": "python",
   "nbconvert_exporter": "python",
   "pygments_lexer": "ipython3",
   "version": "3.12.7"
  }
 },
 "nbformat": 4,
 "nbformat_minor": 2
}
