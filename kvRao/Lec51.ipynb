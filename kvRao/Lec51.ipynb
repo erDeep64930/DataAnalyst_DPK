{
 "cells": [
  {
   "cell_type": "markdown",
   "metadata": {},
   "source": [
    "# Function"
   ]
  },
  {
   "cell_type": "code",
   "execution_count": null,
   "metadata": {},
   "outputs": [],
   "source": [
    "\"\"\"\t\n",
    " \n",
    " =========================================================\n",
    "\t\t\t\tFunctions in Python--8 days\n",
    "\t\t=========================================================\n",
    "Index\n",
    "-----------\n",
    "=>Purpose of Functions\n",
    "=>Types of languages\n",
    "\ta) Un-Structured Programming Lang\n",
    "\tb) Structured Programming Lang\n",
    "=>Definition of Function\n",
    "=>Parts of Function\n",
    "=>Phases in Functions\n",
    "=>Syntax for Defining Functions\n",
    "=>Programming Examples\n",
    "=>Number of approaches to define Functions\n",
    "=>Programming Examples\n",
    "---------------------------------------------------------------------------------------------------------------------------\n",
    "=>Arguments and Parameters\n",
    "=>Types of Arguments\n",
    "\t\t1. Positional Arguments\n",
    "\t\t2. Default Arguments\n",
    "\t\t3. Keyword Arguments\n",
    "\t\t4. Variable Length Arguments\n",
    "\t\t5. Keyword Variable Length Arguments\n",
    "=>Programming Examples\n",
    "---------------------------------------------------------------------------------------------------------------------\n",
    "=>Global  and Local Variables\n",
    "=>Programming Examples\n",
    "=>global keyword\n",
    "=>globals()\n",
    "=>Programming Examples\n",
    "=>Anonymous OR Lambda Functions\n",
    "=>Implementation of Anonymous OR Lambda Functions\n",
    "=>Programming Examples\n",
    "----------------------------------------------------------------------------------------------------------------------\n",
    "=>Special Functions in Python\n",
    "\ta) filter() with Normal and Anonymous Function\n",
    "\tb) map() with Normal and Anonymous Function\n",
    "\tc) reduce() with Normal and Anonymous Function\n",
    "=>Programming Examples\n",
    "==================================x==========================================\n",
    "Nested function or decorator\n",
    "\"\"\""
   ]
  },
  {
   "cell_type": "markdown",
   "metadata": {},
   "source": [
    "# Types of languages\n",
    "\n",
    "- Un-structured programming language example [GW-BASIC]\n",
    "- Structured programming language example [C,C++,Python,Java,C#]\n",
    "\n",
    "# a) Un-Structured Programming Lang\n",
    "\n",
    "- Since Un-Structured Programming Lang does not contains the concept of FUNCTIONS and Hence \n",
    "    whose Applications having the following  Limitations.\n",
    "\n",
    "\t1. Application development Time is More\n",
    "\t2. Application takes More memory Space\n",
    "\t3. Application execution time is More\n",
    "\t4. Application Performance Degraded\n",
    "\t5. Redundency ( Duplication or Replication) of the Code is More.\n",
    "\n",
    "Examples:  GW-BASIC\n",
    "\n",
    "# b) Structured Programming Lang\n",
    "- Since Structured Programming Lang  contains the concept of FUNCTIONS and Hence \n",
    "    whose Applications having the following  Advantages.\n",
    "\t1. Application development Time is Less\n",
    "\t2. Application takes Less memory Space\n",
    "\t3. Application execution time is Less\n",
    "\t4. Application Performance Enahnced (Improved)\n",
    "\t5. Redundency ( Duplication or Replication) of the Code is Minimized.\n",
    "\n",
    "Examples:     C,C++,Java,PYTHON,C#.net...etc"
   ]
  },
  {
   "cell_type": "markdown",
   "metadata": {},
   "source": [
    "# Functions in Python\n",
    "\n",
    "- The purpose of Functions is that \" To Perform Certain Operation /Task and Provides Code \n",
    "    Re-Usability\".\n",
    "    - The Advantages of Functions in any languages are\n",
    "\t\t1. Application Development time is Less\n",
    "\t\t2. Application Memory Space is Less\n",
    "\t\t3. Application Execution Time is Less\n",
    "\t\t4. Application Performance  is Enhanced\n",
    "\t\t5. Redundency of the Code is Minimized\n",
    "\n",
    "\t# Parts of Functions\n",
    "\n",
    "\t- At the time Developing functions in real time, we must ensure that, there must exist 2 Parts. they are\n",
    "\t\t1. Function Definition\n",
    "\t\t2. Function Calls\n",
    "\t- Every Function Definition Exists Only Once.\n",
    "\t- Function Definition will execute when we call by using function calls OR Without  calling the Function \n",
    "    by using Function Calls PVM will not execute Function Definition.\n",
    " \n",
    "\n",
    "\t# Phases in Functions\n",
    "\n",
    "\t- At the time Defining the functions, the Programmer must ensure that there must exist the following Phases.\n",
    "\t\t1. Every Function Must take INPUT\n",
    "\t\t2. Every Function Must PROCESS the Input\n",
    "\t\t3. Every Function Must give OUTPUT or RESULT"
   ]
  },
  {
   "cell_type": "code",
   "execution_count": null,
   "metadata": {},
   "outputs": [],
   "source": []
  },
  {
   "cell_type": "code",
   "execution_count": null,
   "metadata": {},
   "outputs": [],
   "source": []
  },
  {
   "cell_type": "code",
   "execution_count": null,
   "metadata": {},
   "outputs": [],
   "source": []
  },
  {
   "cell_type": "code",
   "execution_count": null,
   "metadata": {},
   "outputs": [],
   "source": []
  },
  {
   "cell_type": "code",
   "execution_count": null,
   "metadata": {},
   "outputs": [],
   "source": []
  },
  {
   "cell_type": "code",
   "execution_count": null,
   "metadata": {},
   "outputs": [],
   "source": []
  },
  {
   "cell_type": "code",
   "execution_count": null,
   "metadata": {},
   "outputs": [],
   "source": []
  },
  {
   "cell_type": "code",
   "execution_count": null,
   "metadata": {},
   "outputs": [],
   "source": []
  },
  {
   "cell_type": "code",
   "execution_count": null,
   "metadata": {},
   "outputs": [],
   "source": []
  },
  {
   "cell_type": "code",
   "execution_count": null,
   "metadata": {},
   "outputs": [],
   "source": []
  },
  {
   "cell_type": "code",
   "execution_count": null,
   "metadata": {},
   "outputs": [],
   "source": []
  },
  {
   "cell_type": "code",
   "execution_count": null,
   "metadata": {},
   "outputs": [],
   "source": []
  },
  {
   "cell_type": "code",
   "execution_count": null,
   "metadata": {},
   "outputs": [],
   "source": []
  }
 ],
 "metadata": {
  "kernelspec": {
   "display_name": "Python 3",
   "language": "python",
   "name": "python3"
  },
  "language_info": {
   "name": "python",
   "version": "3.13.1"
  }
 },
 "nbformat": 4,
 "nbformat_minor": 2
}
