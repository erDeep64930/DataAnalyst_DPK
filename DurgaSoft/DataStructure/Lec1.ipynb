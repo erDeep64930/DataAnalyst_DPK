{
 "cells": [
  {
   "cell_type": "markdown",
   "metadata": {},
   "source": [
    "syllabus:\n",
    "---------\n",
    "01. introduction to DSA\n",
    "02. python basics (20 programs)\n",
    "03. python inbuilt data structures (str, list, tuple, set and dict) (30 programs)\n",
    "04. sample algorithms and implementation (30 programs)\n",
    "05. array data structure\n",
    "06. programs on array data structure\n",
    "07. string data structures and programs\n",
    "08. recursion and its application\n",
    "09. backtracking \n",
    "10. sorting\n",
    "11. searching\n",
    "12. divide and conquer algorithms (mergesort and quick sort)\n",
    "13. list data structure (SLL, DLL, CSLL, CDLL)\n",
    "14. stack data structures\n",
    "15. queue data structures\n",
    "16. hashtable data structure\n",
    "17. tree data structures\n",
    "18. priority queues or heaps\n",
    "19. graph data structure\n",
    "20. dynamic programming\n",
    "21. greedy methods\n",
    "22. complexities (time and space)\n",
    "23. bitmanipulations\n",
    "\n"
   ]
  },
  {
   "cell_type": "markdown",
   "metadata": {},
   "source": [
    "\n",
    "Algorithm:\n",
    "----------\n",
    "step by step process for solving any problem is called as an algorithm.\n",
    "\n",
    "Ex: addition of three numbers\n",
    "-----------------------------\n",
    "Alg:\n",
    "\tstep1: read 'a' value from the user\n",
    "\tstep2: read 'b' value from the user\n",
    "\tstep3: read 'c' value from the user\n",
    "\tstep4: calculate sum = a+b+c\n",
    "\tstep5: print/return the result sum\n",
    "\n",
    "Flowchart:\n",
    "----------\n",
    "diagrametic representation or pictorial representation of an alg is called as flow chart.\n",
    "\n",
    "Implementation:\n",
    "---------------\n",
    "a=int(input(\"Enter a value: \"))\n",
    "b=int(input(\"Enter b value: \"))\n",
    "c=int(input(\"Enter c value: \"))\n",
    "sum=a+b+c\n",
    "print(f\"sum = {sum}\")\n",
    "\n",
    "C:\\8pm>py test.py\n",
    "Enter a value: 10\n",
    "Enter b value: 20\n",
    "Enter c value: 30\n",
    "sum = 60\n",
    "\n",
    "advantages of algorithm/flowchart\n",
    "~~~~~~~~~~~~~~~~~~~~~~~~~~~~~~~~~\n",
    "1) problem will be simplified.\n",
    "2) easy to understand problem statement.\n",
    "3) easy to implement\n",
    "4) we will get a format/template/pattern to solve the problem.\n",
    "\n",
    "properties of algorithm:\n",
    "~~~~~~~~~~~~~~~~~~~~~~~~\n",
    "1) zero or more inputs.\n",
    "2) one or more outpus  (atleast one output should be there).\n",
    "3) deterministic (same output for same input again again).\n",
    "4) correct\n",
    "5) terminate at finate steps (base condition)\n",
    "6) efficient (logic should be clear)\n",
    "\n",
    "Complexity:\n",
    "~~~~~~~~~~~\n",
    "complexity of an algorithm is the amount of time or space required by the algorithm or program to the process the inputs and produce output.\n",
    "\n",
    "1) time complexity\n",
    "2) space complexity\n",
    "\n",
    "time complexity\n",
    "---------------\n",
    "The amount of time taken by the algorithm to process the inputs is called as time complexity, which is measured by using T(n).\n",
    "\n",
    "space complexity\n",
    "----------------\n",
    "The amount of space taken by the algorithm to process the inputs is called as space complexity, which is measured by using S(n).\n",
    "\n",
    "Asymptotic notations:\n",
    "~~~~~~~~~~~~~~~~~~~~~\n",
    "Big-Oh notation: O(n)\n",
    "Omega notation : W(n)\n",
    "Theta notation : 0(n)\n",
    "\n",
    "All these programs or algorithms are classified into three types\n",
    "\n",
    "1) worst case complexity ****\n",
    "2) average case complexity\n",
    "3) best case complexity\n",
    "\n",
    "O(1)\t\tconstant time\n",
    "O(n)\t\tlinear time\n",
    "O(logn)\t\tlogarithmic time\n",
    "O(nlogn)\tlogarithmic time\n",
    "O(n^2)\t\tquadratic time\n",
    "O(2^n)\t\texponential time\n",
    "O(n!)\t\tfactorial time etc"
   ]
  },
  {
   "cell_type": "code",
   "execution_count": 1,
   "metadata": {},
   "outputs": [
    {
     "name": "stdout",
     "output_type": "stream",
     "text": [
      "sum = 6\n"
     ]
    }
   ],
   "source": [
    "a=int(input(\"Enter a value: \"))\n",
    "b=int(input(\"Enter b value: \"))\n",
    "c=int(input(\"Enter c value: \"))\n",
    "sum=a+b+c\n",
    "print(f\"sum = {sum}\")"
   ]
  },
  {
   "cell_type": "code",
   "execution_count": null,
   "metadata": {},
   "outputs": [],
   "source": []
  },
  {
   "cell_type": "code",
   "execution_count": null,
   "metadata": {},
   "outputs": [],
   "source": []
  },
  {
   "cell_type": "code",
   "execution_count": null,
   "metadata": {},
   "outputs": [],
   "source": []
  },
  {
   "cell_type": "code",
   "execution_count": null,
   "metadata": {},
   "outputs": [],
   "source": []
  },
  {
   "cell_type": "code",
   "execution_count": null,
   "metadata": {},
   "outputs": [],
   "source": []
  },
  {
   "cell_type": "code",
   "execution_count": null,
   "metadata": {},
   "outputs": [],
   "source": []
  },
  {
   "cell_type": "code",
   "execution_count": null,
   "metadata": {},
   "outputs": [],
   "source": []
  },
  {
   "cell_type": "code",
   "execution_count": null,
   "metadata": {},
   "outputs": [],
   "source": []
  },
  {
   "cell_type": "code",
   "execution_count": null,
   "metadata": {},
   "outputs": [],
   "source": []
  },
  {
   "cell_type": "code",
   "execution_count": null,
   "metadata": {},
   "outputs": [],
   "source": []
  },
  {
   "cell_type": "code",
   "execution_count": null,
   "metadata": {},
   "outputs": [],
   "source": []
  },
  {
   "cell_type": "code",
   "execution_count": null,
   "metadata": {},
   "outputs": [],
   "source": []
  },
  {
   "cell_type": "code",
   "execution_count": null,
   "metadata": {},
   "outputs": [],
   "source": []
  },
  {
   "cell_type": "code",
   "execution_count": null,
   "metadata": {},
   "outputs": [],
   "source": []
  },
  {
   "cell_type": "code",
   "execution_count": null,
   "metadata": {},
   "outputs": [],
   "source": []
  },
  {
   "cell_type": "code",
   "execution_count": null,
   "metadata": {},
   "outputs": [],
   "source": []
  },
  {
   "cell_type": "code",
   "execution_count": null,
   "metadata": {},
   "outputs": [],
   "source": []
  },
  {
   "cell_type": "code",
   "execution_count": null,
   "metadata": {},
   "outputs": [],
   "source": []
  },
  {
   "cell_type": "code",
   "execution_count": null,
   "metadata": {},
   "outputs": [],
   "source": []
  },
  {
   "cell_type": "code",
   "execution_count": null,
   "metadata": {},
   "outputs": [],
   "source": []
  },
  {
   "cell_type": "code",
   "execution_count": null,
   "metadata": {},
   "outputs": [],
   "source": []
  },
  {
   "cell_type": "code",
   "execution_count": null,
   "metadata": {},
   "outputs": [],
   "source": []
  },
  {
   "cell_type": "code",
   "execution_count": null,
   "metadata": {},
   "outputs": [],
   "source": []
  }
 ],
 "metadata": {
  "kernelspec": {
   "display_name": "Python 3",
   "language": "python",
   "name": "python3"
  },
  "language_info": {
   "codemirror_mode": {
    "name": "ipython",
    "version": 3
   },
   "file_extension": ".py",
   "mimetype": "text/x-python",
   "name": "python",
   "nbconvert_exporter": "python",
   "pygments_lexer": "ipython3",
   "version": "3.13.1"
  }
 },
 "nbformat": 4,
 "nbformat_minor": 2
}
