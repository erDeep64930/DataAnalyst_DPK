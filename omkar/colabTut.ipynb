{
 "cells": [
  {
   "cell_type": "code",
   "execution_count": 1,
   "id": "cbfcb48d-bf9e-4e5c-8ee0-1d1c15a4729a",
   "metadata": {},
   "outputs": [
    {
     "data": {
      "text/plain": [
       "'C:\\\\Users\\\\hp'"
      ]
     },
     "execution_count": 1,
     "metadata": {},
     "output_type": "execute_result"
    }
   ],
   "source": [
    "import os\n",
    "os.getcwd()\n"
   ]
  },
  {
   "cell_type": "code",
   "execution_count": null,
   "id": "218f4698-2dd0-42b5-b080-4046a13a9f0e",
   "metadata": {},
   "outputs": [],
   "source": [
    "CPU-CENTRAL PROCESSING UNIT\n",
    "GPU-GRAPHICAL PROCESSING UNIT\n",
    "TPU-TENSOR PROCESSING UNIT\n",
    "\n"
   ]
  },
  {
   "cell_type": "code",
   "execution_count": 2,
   "id": "858c5301-b730-4e66-8f66-13c346ae6ba9",
   "metadata": {},
   "outputs": [
    {
     "ename": "SyntaxError",
     "evalue": "invalid syntax (2793247229.py, line 1)",
     "output_type": "error",
     "traceback": [
      "\u001b[1;36m  Cell \u001b[1;32mIn[2], line 1\u001b[1;36m\u001b[0m\n\u001b[1;33m    google colabs\u001b[0m\n\u001b[1;37m           ^\u001b[0m\n\u001b[1;31mSyntaxError\u001b[0m\u001b[1;31m:\u001b[0m invalid syntax\n"
     ]
    }
   ],
   "source": [
    "google colabs"
   ]
  },
  {
   "cell_type": "markdown",
   "id": "a29c9049-b0e8-41d2-b5b8-fc74752bf283",
   "metadata": {},
   "source": [
    "$dictionary$"
   ]
  },
  {
   "cell_type": "code",
   "execution_count": 3,
   "id": "27aa573b-5056-431f-9080-62f148934da1",
   "metadata": {},
   "outputs": [
    {
     "data": {
      "text/plain": [
       "['__class__',\n",
       " '__class_getitem__',\n",
       " '__contains__',\n",
       " '__delattr__',\n",
       " '__delitem__',\n",
       " '__dir__',\n",
       " '__doc__',\n",
       " '__eq__',\n",
       " '__format__',\n",
       " '__ge__',\n",
       " '__getattribute__',\n",
       " '__getitem__',\n",
       " '__getstate__',\n",
       " '__gt__',\n",
       " '__hash__',\n",
       " '__init__',\n",
       " '__init_subclass__',\n",
       " '__ior__',\n",
       " '__iter__',\n",
       " '__le__',\n",
       " '__len__',\n",
       " '__lt__',\n",
       " '__ne__',\n",
       " '__new__',\n",
       " '__or__',\n",
       " '__reduce__',\n",
       " '__reduce_ex__',\n",
       " '__repr__',\n",
       " '__reversed__',\n",
       " '__ror__',\n",
       " '__setattr__',\n",
       " '__setitem__',\n",
       " '__sizeof__',\n",
       " '__str__',\n",
       " '__subclasshook__',\n",
       " 'clear',\n",
       " 'copy',\n",
       " 'fromkeys',\n",
       " 'get',\n",
       " 'items',\n",
       " 'keys',\n",
       " 'pop',\n",
       " 'popitem',\n",
       " 'setdefault',\n",
       " 'update',\n",
       " 'values']"
      ]
     },
     "execution_count": 3,
     "metadata": {},
     "output_type": "execute_result"
    }
   ],
   "source": [
    "dir({})"
   ]
  },
  {
   "cell_type": "code",
   "execution_count": null,
   "id": "2d43085b-6856-4388-b57c-e7011977c528",
   "metadata": {},
   "outputs": [],
   "source": [
    "#str=\"\"\n",
    "#list=[]\n",
    "#dict={}\n"
   ]
  },
  {
   "cell_type": "code",
   "execution_count": null,
   "id": "f996be08-4e2a-45b7-9ae2-f031e28d3dba",
   "metadata": {},
   "outputs": [],
   "source": [
    "#i will give the dictionary \n",
    "#can you extract keys and values in list\n",
    "\n",
    "#i will give 2 dictionary \n",
    "#can u create a dict\n"
   ]
  },
  {
   "cell_type": "code",
   "execution_count": null,
   "id": "2d96b77e-8fea-49cc-ad6c-dce6f64f3984",
   "metadata": {},
   "outputs": [],
   "source": [
    "d1={\"ram\":25,\"raheem\":35,\"robert\":45}"
   ]
  },
  {
   "cell_type": "code",
   "execution_count": 6,
   "id": "5624545b-96df-4945-a6db-4273d407586a",
   "metadata": {},
   "outputs": [
    {
     "name": "stdout",
     "output_type": "stream",
     "text": [
      "['ram', 'raheem', 'robert']\n",
      "[25, 35, 45]\n"
     ]
    }
   ],
   "source": [
    "d1={\"ram\":25,\"raheem\":35,\"robert\":45}\n",
    "\n",
    "keys=list(d1.keys())\n",
    "values=list(d1.values())\n",
    "print(keys)\n",
    "print(values)"
   ]
  },
  {
   "cell_type": "code",
   "execution_count": 8,
   "id": "2961359f-05cb-489a-8e39-da1e6e62ddd7",
   "metadata": {},
   "outputs": [
    {
     "data": {
      "text/plain": [
       "{'ram': 25, 'raheem': 35, 'robert': 45}"
      ]
     },
     "execution_count": 8,
     "metadata": {},
     "output_type": "execute_result"
    }
   ],
   "source": [
    "{i:j for i,j in zip(keys,values)}"
   ]
  },
  {
   "cell_type": "code",
   "execution_count": 9,
   "id": "386db130-b876-43b9-9652-f14671ad83db",
   "metadata": {},
   "outputs": [
    {
     "data": {
      "text/plain": [
       "{'ram': 25, 'raheem': 35, 'robert': 45}"
      ]
     },
     "execution_count": 9,
     "metadata": {},
     "output_type": "execute_result"
    }
   ],
   "source": [
    "d1={}\n",
    "for i in range(len(keys)):\n",
    "    d1[keys[i]]=values[i]\n",
    "\n",
    "d1"
   ]
  },
  {
   "cell_type": "markdown",
   "id": "db667f3c-d49a-4c0c-a58e-a52cc7883f93",
   "metadata": {},
   "source": [
    "# string\n",
    "# list\n",
    "# dictionay\n",
    "\n",
    "# very important in industry"
   ]
  },
  {
   "cell_type": "code",
   "execution_count": null,
   "id": "894b7336-baab-4873-aae9-8b057d00a84e",
   "metadata": {},
   "outputs": [],
   "source": [
    "s1=\"virat.kohli@blr.com,rohit.sharma@mumbai.com,kl.rahul@lucknow.com\"\n",
    "\n",
    "#{\n",
    "\"first_name\":[\"virat\",\"rohit\",\"kl\"],\n",
    "\"second_name\":[\"kohli\",\"sharma\",\"rahul\"],\n",
    "\"company\":[\"blr\",\"mumbai\",\"lucknow\"],\n"
   ]
  },
  {
   "cell_type": "code",
   "execution_count": 10,
   "id": "11ada02c-1954-4576-8e79-628911e45679",
   "metadata": {},
   "outputs": [
    {
     "data": {
      "text/plain": [
       "['virat.kohli@blr.com', 'rohit.sharma@mumbai.com', 'kl.rahul@lucknow.com']"
      ]
     },
     "execution_count": 10,
     "metadata": {},
     "output_type": "execute_result"
    }
   ],
   "source": [
    "s1=\"virat.kohli@blr.com,rohit.sharma@mumbai.com,kl.rahul@lucknow.com\" \n",
    "s1.split(\",\")"
   ]
  },
  {
   "cell_type": "code",
   "execution_count": 13,
   "id": "6ab76c97-5413-4e31-8efc-3b463bea1fa9",
   "metadata": {},
   "outputs": [
    {
     "name": "stdout",
     "output_type": "stream",
     "text": [
      "virat\n"
     ]
    }
   ],
   "source": [
    "s1=\"virat.kohli@blr.com,rohit.sharma@mumbai.com,kl.rahul@lucknow.com\"\n",
    "str1=\"virat.kohli@blr.com\"\n",
    "first_name=str1[:str1.find(\".\")]\n",
    "print(first_name)"
   ]
  },
  {
   "cell_type": "code",
   "execution_count": 17,
   "id": "89db217c-c253-4e7f-9474-1e7c6e7a8e78",
   "metadata": {},
   "outputs": [
    {
     "name": "stdout",
     "output_type": "stream",
     "text": [
      "virat\n",
      "kohli\n",
      "blr\n"
     ]
    }
   ],
   "source": [
    "s1=\"virat.kohli@blr.com,rohit.sharma@mumbai.com,kl.rahul@lucknow.com\"\n",
    "str1=\"virat.kohli@blr.com\"\n",
    "f_name=str1[:str1.find(\".\")]\n",
    "s_name=str1[str1.find(\".\")+1:str1.find(\"@\")]\n",
    "c_name=str1[str1.find(\"@\")+1:str1.find(\".\",str1.find(\".\")+1)]\n",
    "print(f_name)\n",
    "print(s_name)\n",
    "print(c_name)      "
   ]
  },
  {
   "cell_type": "code",
   "execution_count": 24,
   "id": "976f34a4-61d0-4926-9b8f-ba1a74433fb4",
   "metadata": {},
   "outputs": [
    {
     "name": "stdout",
     "output_type": "stream",
     "text": [
      "['virat', 'rohit', 'kl']\n",
      "['kohli', 'sharma', 'rahul']\n",
      "['blr', 'mumbai', 'lucknow']\n"
     ]
    }
   ],
   "source": [
    "s1=\"virat.kohli@blr.com,rohit.sharma@mumbai.com,kl.rahul@lucknow.com\"\n",
    "s1.split(\",\")\n",
    "f_name=[str1[:str1.find(\".\")] for str1 in s1.split(\",\")]\n",
    "s_name=[str1[str1.find(\".\")+1:str1.find(\"@\")] for str1 in s1.split(\",\")]\n",
    "c_name=[str1[str1.find(\"@\")+1:str1.find(\".\",str1.find(\".\")+1)] for str1 in s1.split(\",\")]\n",
    "print(f_name)\n",
    "print(s_name)\n",
    "print(c_name) "
   ]
  },
  {
   "cell_type": "code",
   "execution_count": 26,
   "id": "8eff0ae2-0dd9-4de6-abf0-eafa5320ba1a",
   "metadata": {},
   "outputs": [
    {
     "name": "stdout",
     "output_type": "stream",
     "text": [
      "['virat', 'rohit', 'kl']\n",
      "['kohli', 'sharma', 'rahul']\n",
      "['blr', 'mumbai', 'lucknow']\n"
     ]
    }
   ],
   "source": [
    "s1=\"virat.kohli@blr.com,rohit.sharma@mumbai.com,kl.rahul@lucknow.com\"\n",
    "s1.split(\",\")\n",
    "\n",
    "f_name={}\n",
    "for str1 in s1.split(\",\"):\n",
    "    f_name.append(str1[:str1.find(\".\")])\n",
    "f_name=[str1[:str1.find(\".\")] for str1 in s1.split(\",\")]\n",
    "s_name=[str1[str1.find(\".\")+1:str1.find(\"@\")] for str1 in s1.split(\",\")]\n",
    "c_name=[str1[str1.find(\"@\")+1:str1.find(\".\",str1.find(\".\")+1)] for str1 in s1.split(\",\")]\n",
    "print(f_name)\n",
    "print(s_name)\n",
    "print(c_name) \n",
    "\n"
   ]
  },
  {
   "cell_type": "code",
   "execution_count": 27,
   "id": "9e8bbe1e-185e-43bf-a074-69e3991bb152",
   "metadata": {},
   "outputs": [
    {
     "name": "stdout",
     "output_type": "stream",
     "text": [
      "['virat', 'rohit', 'kl']\n",
      "['kohli', 'sharma', 'rahul']\n",
      "['blr', 'mumbai', 'lucknow']\n",
      "{'first_name': ['virat', 'rohit', 'kl'], 'second_name': ['kohli', 'sharma', 'rahul'], 'company_name': ['blr', 'mumbai', 'lucknow']}\n"
     ]
    }
   ],
   "source": [
    "s1=\"virat.kohli@blr.com,rohit.sharma@mumbai.com,kl.rahul@lucknow.com\"\n",
    "s1.split(\",\")\n",
    "\n",
    "d1={}\n",
    "f_name=[str1[:str1.find(\".\")] for str1 in s1.split(\",\")]\n",
    "s_name=[str1[str1.find(\".\")+1:str1.find(\"@\")] for str1 in s1.split(\",\")]\n",
    "c_name=[str1[str1.find(\"@\")+1:str1.find(\".\",str1.find(\".\")+1)] for str1 in s1.split(\",\")]\n",
    "print(f_name)\n",
    "print(s_name)\n",
    "print(c_name) \n",
    "\n",
    "d1[\"first_name\"]=f_name\n",
    "d1[\"second_name\"]=s_name\n",
    "d1[\"company_name\"]=c_name\n",
    "print(d1)\n"
   ]
  },
  {
   "cell_type": "markdown",
   "id": "b94f8c7a-7c64-449d-8ce3-c94905e9e1b3",
   "metadata": {},
   "source": [
    "$words frequents$"
   ]
  },
  {
   "cell_type": "code",
   "execution_count": null,
   "id": "8286f410-6344-4784-bfe6-bc7e9c5dfdee",
   "metadata": {},
   "outputs": [],
   "source": [
    "str1=\"can can you canner can you able to can canner\"\n",
    "# find the reapeated words with numbers \n",
    "\n",
    "#eg:-\n",
    "#can:4\n",
    "#canner:2\n",
    "#you:2"
   ]
  },
  {
   "cell_type": "code",
   "execution_count": 28,
   "id": "2d9a1236-723a-4576-aef1-2326149246f8",
   "metadata": {},
   "outputs": [
    {
     "data": {
      "text/plain": [
       "['can', 'can', 'you', 'canner', 'can', 'you', 'able', 'to', 'can', 'canner']"
      ]
     },
     "execution_count": 28,
     "metadata": {},
     "output_type": "execute_result"
    }
   ],
   "source": [
    "str1=\"can can you canner can you able to can canner\"\n",
    "str1.split()"
   ]
  },
  {
   "cell_type": "code",
   "execution_count": 31,
   "id": "8d1aea9c-ce5e-4e53-b82c-fc54fb4067e8",
   "metadata": {},
   "outputs": [
    {
     "data": {
      "text/plain": [
       "{'can': 4, 'you': 2, 'canner': 2, 'able': 1, 'to': 1}"
      ]
     },
     "execution_count": 31,
     "metadata": {},
     "output_type": "execute_result"
    }
   ],
   "source": [
    "str1=\"can can you canner can you able to can canner\"\n",
    "\n",
    "l1=str1.split(\" \")\n",
    "\n",
    "d1={}\n",
    "\n",
    "for i in l1:\n",
    "    d1[i]=l1.count(i)\n",
    "\n",
    "d1"
   ]
  },
  {
   "cell_type": "code",
   "execution_count": null,
   "id": "91a74380-9fb6-474e-a516-cda0aeb45b01",
   "metadata": {},
   "outputs": [],
   "source": [
    "str1=\"can can you canner can you able to can canner\"\n",
    "\n",
    "l1=str1.split(\" \")\n",
    "\n",
    "d1={}\n",
    "\n",
    "for i in l1:\n",
    "    d1[i]=l1.count(i)\n",
    "\n",
    "d1"
   ]
  },
  {
   "cell_type": "code",
   "execution_count": 32,
   "id": "83c03e23-cdc2-4003-ae0d-01a75bc1a66e",
   "metadata": {},
   "outputs": [
    {
     "data": {
      "text/plain": [
       "['can', 'you', 'canner', 'able', 'to']"
      ]
     },
     "execution_count": 32,
     "metadata": {},
     "output_type": "execute_result"
    }
   ],
   "source": [
    "list(d1.keys())"
   ]
  },
  {
   "cell_type": "code",
   "execution_count": 33,
   "id": "5279870e-98d0-4456-8f78-ec041b9dd824",
   "metadata": {},
   "outputs": [
    {
     "data": {
      "text/plain": [
       "[4, 2, 2, 1, 1]"
      ]
     },
     "execution_count": 33,
     "metadata": {},
     "output_type": "execute_result"
    }
   ],
   "source": [
    "list(d1.values())"
   ]
  },
  {
   "cell_type": "code",
   "execution_count": 34,
   "id": "a969b055-84a1-4113-8ef4-0c9ba5514198",
   "metadata": {},
   "outputs": [
    {
     "data": {
      "text/plain": [
       "4"
      ]
     },
     "execution_count": 34,
     "metadata": {},
     "output_type": "execute_result"
    }
   ],
   "source": [
    "max(list(d1.values()))"
   ]
  },
  {
   "cell_type": "code",
   "execution_count": 35,
   "id": "f4c6c47a-e409-445f-b89a-16f632caaf44",
   "metadata": {},
   "outputs": [
    {
     "data": {
      "text/plain": [
       "'robert'"
      ]
     },
     "execution_count": 35,
     "metadata": {},
     "output_type": "execute_result"
    }
   ],
   "source": [
    "keys[values.index(max(values))]"
   ]
  },
  {
   "cell_type": "code",
   "execution_count": 38,
   "id": "aced933d-cdbc-4a21-aa52-162ebfe85785",
   "metadata": {},
   "outputs": [
    {
     "data": {
      "text/plain": [
       "{'can': 4, 'you': 2, 'canner': 2, 'able': 1, 'to': 1}"
      ]
     },
     "execution_count": 38,
     "metadata": {},
     "output_type": "execute_result"
    }
   ],
   "source": [
    "str1=\"can can you canner can you able to can canner\"\n",
    "\n",
    "l1=str1.split(\" \")\n",
    "\n",
    "d1={}\n",
    "\n",
    "for i in l1:\n",
    "    d1[i]=l1.count(i)\n",
    "\n",
    "d1"
   ]
  },
  {
   "cell_type": "code",
   "execution_count": 39,
   "id": "7ccf78a5-02e8-4c97-b013-a2ae181c4ad8",
   "metadata": {},
   "outputs": [],
   "source": [
    "keys=list(d1.keys())"
   ]
  },
  {
   "cell_type": "code",
   "execution_count": 40,
   "id": "c3ef07e4-9d13-45fd-8970-2cddc195392f",
   "metadata": {},
   "outputs": [],
   "source": [
    "values=list(d1.values())"
   ]
  },
  {
   "cell_type": "code",
   "execution_count": null,
   "id": "2c31fe66-330d-425e-8d21-0ac246d51426",
   "metadata": {},
   "outputs": [],
   "source": [
    "d1={\"a\":20,\"b\":30,\"c\":40}\n",
    "d2={\"a\":50,\"b\":100,\"c\":200}\n",
    "\n",
    "#o/p={\"a\":70,\"b\":130,\"c\":240}"
   ]
  },
  {
   "cell_type": "code",
   "execution_count": 41,
   "id": "447f3179-65fe-4ffc-8bf6-6b73f032a656",
   "metadata": {},
   "outputs": [
    {
     "name": "stdout",
     "output_type": "stream",
     "text": [
      "ok\n"
     ]
    }
   ],
   "source": [
    "d1={\"a\":20,\"b\":30,\"c\":40}\n",
    "d2={\"a\":50,\"b\":100,\"c\":200}\n",
    "\n",
    "if len(d1)==len(d2):\n",
    "    print(\"ok\")\n",
    "\n",
    "else:\n",
    "    print(\"length not matched\")"
   ]
  },
  {
   "cell_type": "code",
   "execution_count": 43,
   "id": "95681374-d140-4f88-862f-7562545de84a",
   "metadata": {},
   "outputs": [
    {
     "data": {
      "text/plain": [
       "{'a': 70, 'b': 130, 'c': 240}"
      ]
     },
     "execution_count": 43,
     "metadata": {},
     "output_type": "execute_result"
    }
   ],
   "source": [
    "d1={\"a\":20,\"b\":30,\"c\":40}\n",
    "d2={\"a\":50,\"b\":100,\"c\":200}\n",
    "\n",
    "d3={}\n",
    "if len(d1)==len(d2):\n",
    "    for i in d1:\n",
    "        d3[i]=d1[i]+d2[i]\n",
    "\n",
    "d3"
   ]
  },
  {
   "cell_type": "code",
   "execution_count": 44,
   "id": "04ae1838-5136-4369-9349-09038c8d75ce",
   "metadata": {},
   "outputs": [
    {
     "data": {
      "text/plain": [
       "{'a': 70, 'b': 130, 'c': 240}"
      ]
     },
     "execution_count": 44,
     "metadata": {},
     "output_type": "execute_result"
    }
   ],
   "source": [
    "d1={\"a\":20,\"b\":30,\"c\":40}\n",
    "d2={\"a\":50,\"b\":100,\"c\":200}\n",
    "\n",
    "for i in range(min(len(d1),len(d2))):\n",
    "    d1[list(d1.keys())[i]]+=d2[list(d2.keys())[i]]\n",
    "\n",
    "d1"
   ]
  },
  {
   "cell_type": "code",
   "execution_count": null,
   "id": "38981468-cc98-4f3f-8187-4c711b9f8430",
   "metadata": {},
   "outputs": [],
   "source": []
  },
  {
   "cell_type": "code",
   "execution_count": null,
   "id": "f376d83a-ec14-4ad5-96c7-d206e2bb0578",
   "metadata": {},
   "outputs": [],
   "source": []
  },
  {
   "cell_type": "code",
   "execution_count": null,
   "id": "34b70aa8-ae9a-4617-a4e0-df24dcd6656a",
   "metadata": {},
   "outputs": [],
   "source": []
  },
  {
   "cell_type": "code",
   "execution_count": null,
   "id": "f6d0fe8f-b033-42e8-8098-838457c35ca8",
   "metadata": {},
   "outputs": [],
   "source": []
  },
  {
   "cell_type": "code",
   "execution_count": null,
   "id": "16f79b9d-eef4-41c0-bc52-d515b92b2c8d",
   "metadata": {},
   "outputs": [],
   "source": []
  },
  {
   "cell_type": "code",
   "execution_count": null,
   "id": "a8cfaac6-88f8-4309-abc5-47950df978a2",
   "metadata": {},
   "outputs": [],
   "source": []
  },
  {
   "cell_type": "code",
   "execution_count": null,
   "id": "93ef1c24-745f-46d1-9840-eecfa52c3685",
   "metadata": {},
   "outputs": [],
   "source": []
  },
  {
   "cell_type": "code",
   "execution_count": null,
   "id": "871a42b8-0d70-4adc-ab20-a325d2a09993",
   "metadata": {},
   "outputs": [],
   "source": []
  },
  {
   "cell_type": "code",
   "execution_count": null,
   "id": "8bf740d9-713a-43bd-a16d-8c99a819dedc",
   "metadata": {},
   "outputs": [],
   "source": []
  },
  {
   "cell_type": "code",
   "execution_count": null,
   "id": "4a2256eb-b207-4c9c-8899-6ac8cdad9b67",
   "metadata": {},
   "outputs": [],
   "source": []
  }
 ],
 "metadata": {
  "kernelspec": {
   "display_name": "Python 3 (ipykernel)",
   "language": "python",
   "name": "python3"
  },
  "language_info": {
   "codemirror_mode": {
    "name": "ipython",
    "version": 3
   },
   "file_extension": ".py",
   "mimetype": "text/x-python",
   "name": "python",
   "nbconvert_exporter": "python",
   "pygments_lexer": "ipython3",
   "version": "3.12.4"
  }
 },
 "nbformat": 4,
 "nbformat_minor": 5
}
