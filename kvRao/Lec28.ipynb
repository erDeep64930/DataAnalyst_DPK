{
 "cells": [
  {
   "cell_type": "markdown",
   "metadata": {},
   "source": [
    "# Nested or inner set\n",
    "\n",
    "    - combination set with tuple with list\n",
    "\n",
    "list\n",
    "- list in list = possible\n",
    "- tuple in list = possible\n",
    "- set in list = possible\n",
    "\n",
    "tuple\n",
    "- tuple in tuple = possible\n",
    "- list in tuple = possible\n",
    "- set in tuple = possible\n",
    "\n",
    "set\n",
    "- set in set = possible\n"
   ]
  },
  {
   "cell_type": "markdown",
   "metadata": {},
   "source": [
    "# set in set\n",
    "  - list in set \n",
    "  - tuple in set"
   ]
  },
  {
   "cell_type": "code",
   "execution_count": null,
   "metadata": {},
   "outputs": [],
   "source": [
    "# nested set or inner set "
   ]
  },
  {
   "cell_type": "code",
   "execution_count": 1,
   "metadata": {},
   "outputs": [
    {
     "ename": "TypeError",
     "evalue": "unhashable type: 'set'",
     "output_type": "error",
     "traceback": [
      "\u001b[1;31m---------------------------------------------------------------------------\u001b[0m",
      "\u001b[1;31mTypeError\u001b[0m                                 Traceback (most recent call last)",
      "Cell \u001b[1;32mIn[1], line 1\u001b[0m\n\u001b[1;32m----> 1\u001b[0m s1\u001b[38;5;241m=\u001b[39m{\u001b[38;5;241m10\u001b[39m,\u001b[38;5;124m\"\u001b[39m\u001b[38;5;124mrs\u001b[39m\u001b[38;5;124m\"\u001b[39m,{\u001b[38;5;241m16\u001b[39m,\u001b[38;5;241m17\u001b[39m,\u001b[38;5;241m18\u001b[39m},{\u001b[38;5;241m77\u001b[39m,\u001b[38;5;241m67\u001b[39m,\u001b[38;5;241m78\u001b[39m},\u001b[38;5;124m\"\u001b[39m\u001b[38;5;124moucet\u001b[39m\u001b[38;5;124m\"\u001b[39m}\n\u001b[0;32m      3\u001b[0m \u001b[38;5;66;03m#  writing set in set has no meaning since it has no indexing\u001b[39;00m\n\u001b[0;32m      4\u001b[0m \n\u001b[0;32m      5\u001b[0m \u001b[38;5;66;03m# type error\u001b[39;00m\n\u001b[0;32m      6\u001b[0m \u001b[38;5;66;03m# unhashable mean no indexing, no slicing ,no modification\u001b[39;00m\n",
      "\u001b[1;31mTypeError\u001b[0m: unhashable type: 'set'"
     ]
    }
   ],
   "source": [
    "s1={10,\"rs\",{16,17,18},{77,67,78},\"oucet\"}\n",
    "\n",
    "#  writing set in set has no meaning since it has no indexing\n",
    "\n",
    "# type error\n",
    "# unhashable mean no indexing, no slicing ,no modification"
   ]
  },
  {
   "cell_type": "code",
   "execution_count": 2,
   "metadata": {},
   "outputs": [
    {
     "ename": "TypeError",
     "evalue": "unhashable type: 'list'",
     "output_type": "error",
     "traceback": [
      "\u001b[1;31m---------------------------------------------------------------------------\u001b[0m",
      "\u001b[1;31mTypeError\u001b[0m                                 Traceback (most recent call last)",
      "Cell \u001b[1;32mIn[2], line 1\u001b[0m\n\u001b[1;32m----> 1\u001b[0m s1\u001b[38;5;241m=\u001b[39m{\u001b[38;5;241m10\u001b[39m,\u001b[38;5;124m\"\u001b[39m\u001b[38;5;124mrs\u001b[39m\u001b[38;5;124m\"\u001b[39m,[\u001b[38;5;241m16\u001b[39m,\u001b[38;5;241m17\u001b[39m,\u001b[38;5;241m18\u001b[39m],[\u001b[38;5;241m77\u001b[39m,\u001b[38;5;241m67\u001b[39m,\u001b[38;5;241m78\u001b[39m],\u001b[38;5;124m\"\u001b[39m\u001b[38;5;124moucet\u001b[39m\u001b[38;5;124m\"\u001b[39m}\n",
      "\u001b[1;31mTypeError\u001b[0m: unhashable type: 'list'"
     ]
    }
   ],
   "source": [
    "s1={10,\"rs\",[16,17,18],[77,67,78],\"oucet\"}"
   ]
  },
  {
   "cell_type": "code",
   "execution_count": 3,
   "metadata": {},
   "outputs": [],
   "source": [
    "# set in set is not possible\n",
    "# set in list is not possible"
   ]
  },
  {
   "cell_type": "code",
   "execution_count": 4,
   "metadata": {},
   "outputs": [],
   "source": [
    "s1={10,\"rs\",(16,17,18),(77,67,78),\"oucet\"}"
   ]
  },
  {
   "cell_type": "code",
   "execution_count": 2,
   "metadata": {},
   "outputs": [],
   "source": [
    "#set in tuple is possible\n",
    "# since it is immutable"
   ]
  },
  {
   "cell_type": "code",
   "execution_count": 4,
   "metadata": {},
   "outputs": [
    {
     "name": "stdout",
     "output_type": "stream",
     "text": [
      "321\n"
     ]
    }
   ],
   "source": [
    "# to reverse an integer \n",
    "# step 1: convert integer to string\n",
    "# step 2: reverse the string\n",
    "\n",
    "x=123\n",
    "str(x)\n",
    "print(str(x)[::-1])"
   ]
  },
  {
   "cell_type": "code",
   "execution_count": 6,
   "metadata": {},
   "outputs": [
    {
     "name": "stdout",
     "output_type": "stream",
     "text": [
      "-321\n"
     ]
    }
   ],
   "source": [
    "x=-123\n",
    "# reverse this as -321\n",
    "\n",
    "str(x)[1:]\n",
    "str(x)[1:][::-1]\n",
    "print(int(str(x)[1:][::-1])*-1)"
   ]
  },
  {
   "cell_type": "markdown",
   "metadata": {},
   "source": [
    "# frozenset (immutable)\n",
    "\n",
    "- the functionality of frozenset is exactly similar to set but an object of set belongs to both mutable(add,remove,pop,discard.etc) and also immutable in case of item assignment whereas frozenset object belongs to immutable because it niether perform item assignment or add,remove, discrad etc.,\n"
   ]
  },
  {
   "cell_type": "code",
   "execution_count": 8,
   "metadata": {},
   "outputs": [
    {
     "name": "stdout",
     "output_type": "stream",
     "text": [
      "frozenset({40, 10, 20, 30}) <class 'frozenset'>\n"
     ]
    }
   ],
   "source": [
    "s1={10,20,30,40}\n",
    "fs=frozenset(s1)\n",
    "print(fs,type(fs))"
   ]
  },
  {
   "cell_type": "code",
   "execution_count": 9,
   "metadata": {},
   "outputs": [
    {
     "name": "stdout",
     "output_type": "stream",
     "text": [
      "frozenset({'s', 'i', 'm', 'p'}) <class 'frozenset'>\n"
     ]
    }
   ],
   "source": [
    "s=\"mississippi\"\n",
    "fs=frozenset(s)\n",
    "print(fs,type(fs))"
   ]
  },
  {
   "cell_type": "markdown",
   "metadata": {},
   "source": [
    "- function in frozenset\n",
    "\n",
    "- isdisjoint\n",
    "- issuperset\n",
    "- issubset\n",
    "- union\n",
    "- intersection\n",
    "- difference\n",
    "- symmetric difference\n",
    "- copy\n",
    "\n",
    "\n"
   ]
  },
  {
   "cell_type": "code",
   "execution_count": null,
   "metadata": {},
   "outputs": [],
   "source": []
  }
 ],
 "metadata": {
  "kernelspec": {
   "display_name": ".venv",
   "language": "python",
   "name": "python3"
  },
  "language_info": {
   "codemirror_mode": {
    "name": "ipython",
    "version": 3
   },
   "file_extension": ".py",
   "mimetype": "text/x-python",
   "name": "python",
   "nbconvert_exporter": "python",
   "pygments_lexer": "ipython3",
   "version": "3.12.6"
  }
 },
 "nbformat": 4,
 "nbformat_minor": 2
}
