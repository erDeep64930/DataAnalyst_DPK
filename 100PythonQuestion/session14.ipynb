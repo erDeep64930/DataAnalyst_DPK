{
 "cells": [
  {
   "cell_type": "code",
   "execution_count": 21,
   "id": "109edd9c-317d-4baf-8609-5cac9bc268f2",
   "metadata": {},
   "outputs": [
    {
     "name": "stdin",
     "output_type": "stream",
     "text": [
      " 45\n"
     ]
    },
    {
     "name": "stdout",
     "output_type": "stream",
     "text": [
      "1\n",
      "2\n",
      "fizz\n",
      "4\n",
      "buzz\n",
      "fizz\n",
      "7\n",
      "8\n",
      "fizz\n",
      "buzz\n",
      "11\n",
      "fizz\n",
      "13\n",
      "14\n",
      "fizzbuzz\n",
      "16\n",
      "17\n",
      "fizz\n",
      "19\n",
      "buzz\n",
      "fizz\n",
      "22\n",
      "23\n",
      "fizz\n",
      "buzz\n",
      "26\n",
      "fizz\n",
      "28\n",
      "29\n",
      "fizzbuzz\n",
      "31\n",
      "32\n",
      "fizz\n",
      "34\n",
      "buzz\n",
      "fizz\n",
      "37\n",
      "38\n",
      "fizz\n",
      "buzz\n",
      "41\n",
      "fizz\n",
      "43\n",
      "44\n",
      "fizzbuzz\n"
     ]
    }
   ],
   "source": [
    "# Write a program that prints each number from 1 to 100 on a new\n",
    "# line.\n",
    "# • For each multiple of 3, print \"Fizz\" instead of the number.\n",
    "# • For each multiple of 5, print \"Buzz\" instead of the number.\n",
    "# • For numbers which are multiples of both 3 and 5, print\n",
    "# \"FizzBuzz\" instead of the number.\n",
    "# Question 1\n",
    "# Question 1\n",
    "# Input:\n",
    "# 15\n",
    "# Output:\n",
    "# 1\n",
    "# 2\n",
    "# Fizz\n",
    "# 4\n",
    "# Buzz\n",
    "# Fizz\n",
    "# 7\n",
    "# 8\n",
    "# 9\n",
    "# Buzz\n",
    "# 11\n",
    "# Fizz\n",
    "# 13\n",
    "# 14\n",
    "# FizzBuzz\n",
    "n = int(input())  \n",
    "for i in range(1, n + 1):\n",
    "    if i % 3 == 0 and i % 5 == 0:\n",
    "        print(\"fizzbuzz\")\n",
    "    elif i % 3 == 0:\n",
    "        print(\"fizz\")\n",
    "    elif i % 5 == 0:\n",
    "        print(\"buzz\")\n",
    "    else:\n",
    "        print(i)\n"
   ]
  },
  {
   "cell_type": "code",
   "execution_count": 29,
   "id": "f92e1599-6c74-4ee1-b576-c672d6a2c3b3",
   "metadata": {},
   "outputs": [
    {
     "name": "stdin",
     "output_type": "stream",
     "text": [
      " 14770\n"
     ]
    },
    {
     "name": "stdout",
     "output_type": "stream",
     "text": [
      "Abundant Number\n"
     ]
    }
   ],
   "source": [
    "# Write a program to find whether the given number is an abundant number or\n",
    "# not.\n",
    "# Note: An abundant number is a number for which the sum of its proper divisors\n",
    "# is greater than the number itself.\n",
    "# For example, integer 12 is an abundant number.\n",
    "# The divisors of 12 are 1, 2, 3, 4, and 6.\n",
    "# The sum of divisors of 12 is 16. As 12 < 16, it is an abundant number.\n",
    "# Input Format:\n",
    "# Input consists of 1 integer.\n",
    "# Output Format:\n",
    "# If it is an abundant number display “Abundant Number” or display “Not\n",
    "# Abundant Number”.\n",
    "# Question 2\n",
    "# Sample Input 1:\n",
    "# 6\n",
    "# Sample Output 1:\n",
    "# Not Abundant Number\n",
    "# Sample Input 2:\n",
    "# 14770\n",
    "# Sample Output 2:\n",
    "# Abundant Number\n",
    "n = int(input())\n",
    "\n",
    "sum_of_divisors = 0\n",
    "\n",
    "for i in range(1, n // 2 + 1):  \n",
    "    if n % i == 0:\n",
    "        sum_of_divisors += i  \n",
    "\n",
    "if sum_of_divisors > n:\n",
    "    print(\"Abundant Number\")\n",
    "else:\n",
    "    print(\"Not Abundant Number\")\n"
   ]
  },
  {
   "cell_type": "code",
   "execution_count": 1,
   "id": "19a389d9-78a4-4fb7-92e8-346f7dfdb454",
   "metadata": {},
   "outputs": [
    {
     "name": "stdin",
     "output_type": "stream",
     "text": [
      " 5\n",
      " 10\n"
     ]
    },
    {
     "name": "stdout",
     "output_type": "stream",
     "text": [
      "21 24 3\n"
     ]
    }
   ],
   "source": [
    "# Write a program to find the sums of the running odd numbers and even\n",
    "# numbers from a given lower bound to an upper bound and also compute\n",
    "# their absolute difference.\n",
    "# Input format:\n",
    "# The input consist of two Integers\n",
    "# Output format:\n",
    "# The output consists of three Integer.\n",
    "# First Input -Lower bound\n",
    "# Second Input-Upper bound\n",
    "# Function to calculate sums of odd and even numbers in a range\n",
    "def sum_odd_even(lower, upper):\n",
    "    sum_odd = 0\n",
    "    sum_even = 0\n",
    "\n",
    "    for num in range(lower, upper + 1):\n",
    "        if num % 2 == 0:\n",
    "            sum_even += num  \n",
    "        else:\n",
    "            sum_odd += num  \n",
    "\n",
    "    \n",
    "    abs_difference = abs(sum_odd - sum_even)\n",
    "\n",
    "    print(sum_odd, sum_even, abs_difference)\n",
    "\n",
    "lower = int(input())\n",
    "upper = int(input())\n",
    "\n",
    "sum_odd_even(lower, upper)\n",
    "\n"
   ]
  },
  {
   "cell_type": "code",
   "execution_count": 3,
   "id": "23315a48-5ea2-44d0-bb48-58da0a9fd83a",
   "metadata": {},
   "outputs": [
    {
     "name": "stdin",
     "output_type": "stream",
     "text": [
      " z\n"
     ]
    },
    {
     "name": "stdout",
     "output_type": "stream",
     "text": [
      "A B C D E F G H I J K L M N O P Q R S T U V W X Y Z "
     ]
    }
   ],
   "source": [
    "# Write a Program to Display Characters from A to given input using\n",
    "# loop.\n",
    "# Sample Input:\n",
    "# Z\n",
    "# Sample Output:\n",
    "# A B C D E F G H I J K L M N O P Q R S T U V W X Y Z\n",
    "# Sample Input:\n",
    "# G\n",
    "# Sample Output:\n",
    "# A B C D E F G\n",
    "ch = input().strip().upper() \n",
    "\n",
    "for c in range(65, ord(ch) + 1): \n",
    "    print(chr(c), end=\" \")\n"
   ]
  },
  {
   "cell_type": "code",
   "execution_count": 5,
   "id": "20ef6ee6-96eb-4934-8aaa-e161f59899f9",
   "metadata": {},
   "outputs": [
    {
     "name": "stdin",
     "output_type": "stream",
     "text": [
      " 2\n",
      " 3\n"
     ]
    },
    {
     "name": "stdout",
     "output_type": "stream",
     "text": [
      "8\n"
     ]
    }
   ],
   "source": [
    "# Write a program to read X as the base and N as the power and calculate\n",
    "# the result (X^N - X to the power of N).\n",
    "# Input format:\n",
    "# The first line containing integer denotes the base(X) The second line\n",
    "# containing integer denotes the power(N)\n",
    "# Output format:\n",
    "# Print the power of a number\n",
    "# Sample Input 1:\n",
    "# 2\n",
    "# 3\n",
    "# Sample Output 1:\n",
    "# 8\n",
    "a = int(input())\n",
    "b = int(input())\n",
    "sq = a**b\n",
    "print(sq)\n"
   ]
  },
  {
   "cell_type": "code",
   "execution_count": 25,
   "id": "1e807d5b-20e2-4a22-ab19-6ae91f28a66c",
   "metadata": {},
   "outputs": [
    {
     "name": "stdin",
     "output_type": "stream",
     "text": [
      " gghghyfFGFG\n"
     ]
    },
    {
     "name": "stdout",
     "output_type": "stream",
     "text": [
      "7\n",
      "4\n"
     ]
    }
   ],
   "source": [
    "# There are 50 students in the class. The teacher wants to arrange them in\n",
    "# the height order. So help the teacher to find the smallest person and tallest\n",
    "# to arrange.(count the number of lowercase letters and uppercase letters in\n",
    "# a string.)\n",
    "# Problem Description\n",
    "# The program takes a string and counts the number of lowercase letters and\n",
    "# uppercase letters in the string.\n",
    "# Problem Solution\n",
    "# 1. Take a string from the user and store it in a variable.\n",
    "# 2. Initialize the two count variables to 0.\n",
    "# 3. Use a for loop to traverse through the characters in the string\n",
    "# and increment the first count variable each time a lowercase\n",
    "# character is encountered and increment the second count\n",
    "# variable each time a uppercase character is encountered.\n",
    "# 4. Print the total count of both the variables.\n",
    "# 5. Exit.\n",
    "# Sample Input:\n",
    "# HeLLo\n",
    "# Sample output:\n",
    "# 2\n",
    "# 3\n",
    "ch = input().strip()\n",
    "lower_count = 0\n",
    "upper_count = 0\n",
    "for char in ch:\n",
    "    if char.islower():\n",
    "        lower_count+= 1\n",
    "    elif char.isupper():\n",
    "        upper_count+= 1\n",
    "\n",
    "print(lower_count)\n",
    "print(upper_count)"
   ]
  },
  {
   "cell_type": "code",
   "execution_count": 27,
   "id": "bc16ee7c-7450-4d51-b93f-31567089df45",
   "metadata": {},
   "outputs": [],
   "source": [
    "#THE END"
   ]
  },
  {
   "cell_type": "code",
   "execution_count": null,
   "id": "bb958f5f-981a-44b7-8c58-86cd60228aec",
   "metadata": {},
   "outputs": [],
   "source": [
    "#THANKS YOU"
   ]
  }
 ],
 "metadata": {
  "kernelspec": {
   "display_name": "Python 3 (ipykernel)",
   "language": "python",
   "name": "python3"
  },
  "language_info": {
   "codemirror_mode": {
    "name": "ipython",
    "version": 3
   },
   "file_extension": ".py",
   "mimetype": "text/x-python",
   "name": "python",
   "nbconvert_exporter": "python",
   "pygments_lexer": "ipython3",
   "version": "3.12.7"
  }
 },
 "nbformat": 4,
 "nbformat_minor": 5
}
