{
 "cells": [
  {
   "cell_type": "code",
   "execution_count": 40,
   "id": "6bdee2e7-8c18-43fc-a659-ebf9d9b990a7",
   "metadata": {},
   "outputs": [
    {
     "name": "stdin",
     "output_type": "stream",
     "text": [
      " 7\n"
     ]
    },
    {
     "name": "stdout",
     "output_type": "stream",
     "text": [
      "1 4 9 16 25 36 49 "
     ]
    }
   ],
   "source": [
    "# Write a program to generate the following series --- 1,4,9,16,25, ....\n",
    "# Input format:\n",
    "# The input containing an integer which denotes 'n'\n",
    "# Output format:\n",
    "# Print the series and refer the sample output for formatting\n",
    "# Sample Input:\n",
    "# 7\n",
    "# Sample Output:\n",
    "# 1 4 9 16 25 36 49\n",
    "# Read input\n",
    "n = int(input())\n",
    "\n",
    "for i in range(1, n + 1):\n",
    "    print(i * i , end=\" \")\n"
   ]
  },
  {
   "cell_type": "code",
   "execution_count": 18,
   "id": "fc73d505-9375-4b4c-8392-6678b23c55f6",
   "metadata": {},
   "outputs": [
    {
     "name": "stdin",
     "output_type": "stream",
     "text": [
      " 6\n"
     ]
    },
    {
     "name": "stdout",
     "output_type": "stream",
     "text": [
      "3 7 13 21 31 43 "
     ]
    }
   ],
   "source": [
    "# Write a program to generate the following series --- 6,11,21,36,56,...\n",
    "# Input format:\n",
    "# The input containing an integer which denotes 'n'\n",
    "# Output format:\n",
    "# Print the series and refer the sample output for formatting.\n",
    "# Sample Input:\n",
    "# 6\n",
    "# Sample Output:\n",
    "# 6 11 21 36 56 81\n",
    "# tn = 6\n",
    "# n=5\n",
    "# tn=n(n+1)+1\n",
    "# print(tn)\n",
    "# Read input\n",
    "n = int(input())\n",
    "for i in range(1, n + 1):\n",
    "    print(i * (i + 1) + 1, end=\" \")\n",
    "\n"
   ]
  },
  {
   "cell_type": "code",
   "execution_count": 28,
   "id": "31912c50-e2b4-41de-a95b-6f2f7f27592e",
   "metadata": {},
   "outputs": [
    {
     "name": "stdin",
     "output_type": "stream",
     "text": [
      " 6\n"
     ]
    },
    {
     "name": "stdout",
     "output_type": "stream",
     "text": [
      "3 9 27 81 243 729 "
     ]
    }
   ],
   "source": [
    "# Write a program to generate the first n terms in the series --- 3, 9,\n",
    "# 27, 81,...,.\n",
    "# Input format:\n",
    "# The input containing an integer which denotes 'n'\n",
    "# Output format:\n",
    "# Print the series and refer the sample output for formatting\n",
    "# Sample Input:\n",
    "# 6\n",
    "# Sample Output:\n",
    "# 3 9 27 81 243 729\n",
    "n = int(input())\n",
    "\n",
    "for i in range(n):\n",
    "   print(3 ** (i + 1), end=\" \")"
   ]
  },
  {
   "cell_type": "code",
   "execution_count": 30,
   "id": "51f35506-ea21-403c-95db-d26bff48a2d1",
   "metadata": {},
   "outputs": [
    {
     "name": "stdin",
     "output_type": "stream",
     "text": [
      " 5\n"
     ]
    },
    {
     "name": "stdout",
     "output_type": "stream",
     "text": [
      "0.5 1.5 4.5 13.5 40.5 "
     ]
    }
   ],
   "source": [
    "# Write a program to generate the following series ---\n",
    "# 0.5,1.5,4.5,13.5,...\n",
    "# Input format:\n",
    "# The input containing an integer which denotes 'n'\n",
    "# Output format:\n",
    "# Print the series and refer the sample output for formatting.\n",
    "# Sample Input:\n",
    "# 5\n",
    "# Sample Output:\n",
    "# 0.5 1.5 4.5 13.5 40.5\n",
    "n = int(input())\n",
    "\n",
    "for i in range(n):\n",
    "   print(0.5 * (3 ** i), end=\" \")"
   ]
  },
  {
   "cell_type": "code",
   "execution_count": 36,
   "id": "ebb5a78d-d778-4ffa-98bb-679d97648a5f",
   "metadata": {},
   "outputs": [
    {
     "name": "stdin",
     "output_type": "stream",
     "text": [
      " 5\n"
     ]
    },
    {
     "name": "stdout",
     "output_type": "stream",
     "text": [
      "121 225 361 529 729 "
     ]
    }
   ],
   "source": [
    "# Write a program to generate the following series -- 121,225,361,...\n",
    "# Input format:\n",
    "# The input containing an integer which denotes 'n'\n",
    "# Output format:\n",
    "# Print the series and refer the sample output for formatting.\n",
    "# Sample Input:\n",
    "# 4\n",
    "# Sample Output:\n",
    "# 121 225 361 529\n",
    "# THANK\n",
    "# Read input\n",
    "n = int(input())\n",
    "\n",
    "for i in range(n):\n",
    "    num = 11 + (i * 4)  \n",
    "    print(num ** 2, end=\" \")\n",
    "\n",
    "\n"
   ]
  },
  {
   "cell_type": "code",
   "execution_count": 42,
   "id": "a148a9de-6eb3-4dd9-b0e1-686761e615ec",
   "metadata": {},
   "outputs": [],
   "source": [
    "#thanks you"
   ]
  },
  {
   "cell_type": "code",
   "execution_count": null,
   "id": "d2ba7504-511f-4e08-b39c-47bfdf440543",
   "metadata": {},
   "outputs": [],
   "source": []
  }
 ],
 "metadata": {
  "kernelspec": {
   "display_name": "Python 3 (ipykernel)",
   "language": "python",
   "name": "python3"
  },
  "language_info": {
   "codemirror_mode": {
    "name": "ipython",
    "version": 3
   },
   "file_extension": ".py",
   "mimetype": "text/x-python",
   "name": "python",
   "nbconvert_exporter": "python",
   "pygments_lexer": "ipython3",
   "version": "3.12.7"
  }
 },
 "nbformat": 4,
 "nbformat_minor": 5
}
