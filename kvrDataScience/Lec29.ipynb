{
 "cells": [
  {
   "cell_type": "code",
   "execution_count": 1,
   "metadata": {},
   "outputs": [
    {
     "data": {
      "text/plain": [
       "'  \\nloc and iloc uses square bracket\\n-> present in both in series and  dataframes object.\\n-> \\n-----------------------\\n=>loc[] is used for slicing the data either on the basis row index and column index.\\n=> loc[] always take row index and column names only (never take column index)\\nsyntax: dataFrameObj.loc[]\\ndataFrameObj.loc[row_number]\\ndataFrameObj.loc[row_number,[col name,..]]\\ndataFrameObj.loc[start:stop:step,[col name]]\\n\\n\\n'"
      ]
     },
     "execution_count": 1,
     "metadata": {},
     "output_type": "execute_result"
    }
   ],
   "source": [
    "# pandas --> loc and iloc\n",
    "\n",
    "\"\"\"  \n",
    "loc and iloc uses square bracket\n",
    "-> present in both in series and  dataframes object.\n",
    "-> \n",
    "-----------------------\n",
    "=>loc[] is used for slicing the data either on the basis row index and column index.\n",
    "=> loc[] always take row index and column names only (never take column index)\n",
    "syntax: dataFrameObj.loc[]\n",
    "dataFrameObj.loc[row_number]\n",
    "dataFrameObj.loc[row_number,[col name,..]]\n",
    "dataFrameObj.loc[start:stop:step,[col name]]\n",
    "\n",
    "\n",
    "\"\"\""
   ]
  },
  {
   "cell_type": "code",
   "execution_count": 2,
   "metadata": {},
   "outputs": [],
   "source": [
    "# info() - it is a pre defined function in series and dataframe object and the gives the following information"
   ]
  },
  {
   "cell_type": "code",
   "execution_count": 3,
   "metadata": {},
   "outputs": [
    {
     "name": "stdout",
     "output_type": "stream",
     "text": [
      "==================================================\n",
      "      id               name               nationality                 city  \\\n",
      "0      0          Kiana Lor                     China               Suzhou   \n",
      "1      1     Joshua Lonaker  United States of America        Santa Clarita   \n",
      "2      2      Dakota Blanco  United States of America              Oakland   \n",
      "3      3    Natasha Yarusso  United States of America        Castro Valley   \n",
      "4      4     Brooke Cazares                    Brazil  São José dos Campos   \n",
      "..   ...                ...                       ...                  ...   \n",
      "302  302        Austin Haas  United States of America             Columbus   \n",
      "303  303    Madison Fithian  United States of America          Los Angeles   \n",
      "304  304  Zachary Mulvahill  United States of America          Los Angeles   \n",
      "305  305   Eliana Michelsen  United States of America              Oakland   \n",
      "306  306    Dane Whittemore                    Canada              Toronto   \n",
      "\n",
      "     latitude  longitude gender  ethnic.group  age  english.grade  math.grade  \\\n",
      "0       31.31     120.62      F           NaN   22            3.5         3.7   \n",
      "1       34.39    -118.54      M           NaN   22            2.9         3.2   \n",
      "2       37.80    -122.27      F           NaN   22            3.9         3.8   \n",
      "3       37.69    -122.09      F           NaN   20            3.3         2.8   \n",
      "4      -23.18     -45.88      F           NaN   21            3.7         2.6   \n",
      "..        ...        ...    ...           ...  ...            ...         ...   \n",
      "302     39.96     -83.00      M           NaN   20            3.6         3.7   \n",
      "303     34.05    -118.24      F           NaN   20            3.6         3.9   \n",
      "304     34.05    -118.24      M           NaN   20            3.2         3.4   \n",
      "305     37.80    -122.27      F           NaN   23            3.0         2.8   \n",
      "306     43.67     -79.42      M           NaN   21            3.8         3.2   \n",
      "\n",
      "     sciences.grade  language.grade  portfolio.rating  coverletter.rating  \\\n",
      "0               3.1             1.0                 4                 4.0   \n",
      "1               3.6             5.0                 5                 4.0   \n",
      "2               3.2             5.0                 3                 3.0   \n",
      "3               3.2             5.0                 5                 2.0   \n",
      "4               3.4             1.0                 4                 4.0   \n",
      "..              ...             ...               ...                 ...   \n",
      "302             3.1             5.0                 4                 5.0   \n",
      "303             4.0             5.0                 5                 5.0   \n",
      "304             3.9             5.0                 5                 5.0   \n",
      "305             2.9             5.0                 4                 4.0   \n",
      "306             4.0             5.0                 5                 4.0   \n",
      "\n",
      "     refletter.rating  \n",
      "0                   4  \n",
      "1                   5  \n",
      "2                   4  \n",
      "3                   4  \n",
      "4                   5  \n",
      "..                ...  \n",
      "302                 5  \n",
      "303                 3  \n",
      "304                 3  \n",
      "305                 5  \n",
      "306                 5  \n",
      "\n",
      "[307 rows x 16 columns]\n",
      "==================================================\n"
     ]
    }
   ],
   "source": [
    "import pandas as pd\n",
    "import numpy as np\n",
    "# get the data from student.csv into dataframe\n",
    "df= pd.read_csv(\"D:\\\\clone\\\\DataAnalyst_DPK\\\\files\\\\student-dataset.csv\")\n",
    "print(\"=\"*50)\n",
    "print(df)\n",
    "print(\"=\"*50)"
   ]
  },
  {
   "cell_type": "code",
   "execution_count": 4,
   "metadata": {},
   "outputs": [
    {
     "name": "stdout",
     "output_type": "stream",
     "text": [
      "<class 'pandas.core.frame.DataFrame'>\n",
      "RangeIndex: 307 entries, 0 to 306\n",
      "Data columns (total 16 columns):\n",
      " #   Column              Non-Null Count  Dtype  \n",
      "---  ------              --------------  -----  \n",
      " 0   id                  307 non-null    int64  \n",
      " 1   name                307 non-null    object \n",
      " 2   nationality         307 non-null    object \n",
      " 3   city                307 non-null    object \n",
      " 4   latitude            307 non-null    float64\n",
      " 5   longitude           307 non-null    float64\n",
      " 6   gender              307 non-null    object \n",
      " 7   ethnic.group        0 non-null      float64\n",
      " 8   age                 307 non-null    int64  \n",
      " 9   english.grade       307 non-null    float64\n",
      " 10  math.grade          307 non-null    float64\n",
      " 11  sciences.grade      307 non-null    float64\n",
      " 12  language.grade      307 non-null    float64\n",
      " 13  portfolio.rating    307 non-null    int64  \n",
      " 14  coverletter.rating  307 non-null    float64\n",
      " 15  refletter.rating    307 non-null    int64  \n",
      "dtypes: float64(8), int64(4), object(4)\n",
      "memory usage: 38.5+ KB\n"
     ]
    }
   ],
   "source": [
    "df.info()"
   ]
  },
  {
   "cell_type": "code",
   "execution_count": 5,
   "metadata": {},
   "outputs": [
    {
     "data": {
      "text/plain": [
       "name                    Natasha Yarusso\n",
       "nationality    United States of America\n",
       "Name: 3, dtype: object"
      ]
     },
     "execution_count": 5,
     "metadata": {},
     "output_type": "execute_result"
    }
   ],
   "source": [
    "df.loc[3,[\"name\",\"nationality\"]]"
   ]
  },
  {
   "cell_type": "code",
   "execution_count": 6,
   "metadata": {},
   "outputs": [],
   "source": [
    "#syntax\n",
    "#dataFrameObj.loc[row_number,[colName1,colName2..]]"
   ]
  },
  {
   "cell_type": "code",
   "execution_count": 7,
   "metadata": {},
   "outputs": [
    {
     "data": {
      "text/html": [
       "<div>\n",
       "<style scoped>\n",
       "    .dataframe tbody tr th:only-of-type {\n",
       "        vertical-align: middle;\n",
       "    }\n",
       "\n",
       "    .dataframe tbody tr th {\n",
       "        vertical-align: top;\n",
       "    }\n",
       "\n",
       "    .dataframe thead th {\n",
       "        text-align: right;\n",
       "    }\n",
       "</style>\n",
       "<table border=\"1\" class=\"dataframe\">\n",
       "  <thead>\n",
       "    <tr style=\"text-align: right;\">\n",
       "      <th></th>\n",
       "      <th>id</th>\n",
       "      <th>name</th>\n",
       "      <th>nationality</th>\n",
       "      <th>city</th>\n",
       "      <th>latitude</th>\n",
       "      <th>longitude</th>\n",
       "      <th>gender</th>\n",
       "      <th>ethnic.group</th>\n",
       "      <th>age</th>\n",
       "      <th>english.grade</th>\n",
       "      <th>math.grade</th>\n",
       "      <th>sciences.grade</th>\n",
       "      <th>language.grade</th>\n",
       "      <th>portfolio.rating</th>\n",
       "      <th>coverletter.rating</th>\n",
       "      <th>refletter.rating</th>\n",
       "    </tr>\n",
       "  </thead>\n",
       "  <tbody>\n",
       "    <tr>\n",
       "      <th>3</th>\n",
       "      <td>3</td>\n",
       "      <td>Natasha Yarusso</td>\n",
       "      <td>United States of America</td>\n",
       "      <td>Castro Valley</td>\n",
       "      <td>37.69</td>\n",
       "      <td>-122.09</td>\n",
       "      <td>F</td>\n",
       "      <td>NaN</td>\n",
       "      <td>20</td>\n",
       "      <td>3.3</td>\n",
       "      <td>2.8</td>\n",
       "      <td>3.2</td>\n",
       "      <td>5.0</td>\n",
       "      <td>5</td>\n",
       "      <td>2.0</td>\n",
       "      <td>4</td>\n",
       "    </tr>\n",
       "    <tr>\n",
       "      <th>4</th>\n",
       "      <td>4</td>\n",
       "      <td>Brooke Cazares</td>\n",
       "      <td>Brazil</td>\n",
       "      <td>São José dos Campos</td>\n",
       "      <td>-23.18</td>\n",
       "      <td>-45.88</td>\n",
       "      <td>F</td>\n",
       "      <td>NaN</td>\n",
       "      <td>21</td>\n",
       "      <td>3.7</td>\n",
       "      <td>2.6</td>\n",
       "      <td>3.4</td>\n",
       "      <td>1.0</td>\n",
       "      <td>4</td>\n",
       "      <td>4.0</td>\n",
       "      <td>5</td>\n",
       "    </tr>\n",
       "    <tr>\n",
       "      <th>5</th>\n",
       "      <td>5</td>\n",
       "      <td>Rochelle Johnson</td>\n",
       "      <td>United States of America</td>\n",
       "      <td>Indianapolis</td>\n",
       "      <td>39.77</td>\n",
       "      <td>-86.16</td>\n",
       "      <td>F</td>\n",
       "      <td>NaN</td>\n",
       "      <td>21</td>\n",
       "      <td>3.4</td>\n",
       "      <td>3.1</td>\n",
       "      <td>3.7</td>\n",
       "      <td>5.0</td>\n",
       "      <td>2</td>\n",
       "      <td>4.0</td>\n",
       "      <td>4</td>\n",
       "    </tr>\n",
       "    <tr>\n",
       "      <th>6</th>\n",
       "      <td>6</td>\n",
       "      <td>Joey Abreu</td>\n",
       "      <td>China</td>\n",
       "      <td>Shenyang</td>\n",
       "      <td>41.79</td>\n",
       "      <td>123.43</td>\n",
       "      <td>M</td>\n",
       "      <td>NaN</td>\n",
       "      <td>22</td>\n",
       "      <td>3.7</td>\n",
       "      <td>3.9</td>\n",
       "      <td>3.6</td>\n",
       "      <td>2.0</td>\n",
       "      <td>5</td>\n",
       "      <td>5.0</td>\n",
       "      <td>5</td>\n",
       "    </tr>\n",
       "    <tr>\n",
       "      <th>7</th>\n",
       "      <td>7</td>\n",
       "      <td>Preston Suarez</td>\n",
       "      <td>Brazil</td>\n",
       "      <td>São Paulo</td>\n",
       "      <td>-23.47</td>\n",
       "      <td>-46.67</td>\n",
       "      <td>M</td>\n",
       "      <td>NaN</td>\n",
       "      <td>22</td>\n",
       "      <td>3.8</td>\n",
       "      <td>3.7</td>\n",
       "      <td>3.6</td>\n",
       "      <td>2.0</td>\n",
       "      <td>5</td>\n",
       "      <td>5.0</td>\n",
       "      <td>4</td>\n",
       "    </tr>\n",
       "  </tbody>\n",
       "</table>\n",
       "</div>"
      ],
      "text/plain": [
       "   id              name               nationality                 city  \\\n",
       "3   3   Natasha Yarusso  United States of America        Castro Valley   \n",
       "4   4    Brooke Cazares                    Brazil  São José dos Campos   \n",
       "5   5  Rochelle Johnson  United States of America         Indianapolis   \n",
       "6   6        Joey Abreu                     China             Shenyang   \n",
       "7   7    Preston Suarez                    Brazil            São Paulo   \n",
       "\n",
       "   latitude  longitude gender  ethnic.group  age  english.grade  math.grade  \\\n",
       "3     37.69    -122.09      F           NaN   20            3.3         2.8   \n",
       "4    -23.18     -45.88      F           NaN   21            3.7         2.6   \n",
       "5     39.77     -86.16      F           NaN   21            3.4         3.1   \n",
       "6     41.79     123.43      M           NaN   22            3.7         3.9   \n",
       "7    -23.47     -46.67      M           NaN   22            3.8         3.7   \n",
       "\n",
       "   sciences.grade  language.grade  portfolio.rating  coverletter.rating  \\\n",
       "3             3.2             5.0                 5                 2.0   \n",
       "4             3.4             1.0                 4                 4.0   \n",
       "5             3.7             5.0                 2                 4.0   \n",
       "6             3.6             2.0                 5                 5.0   \n",
       "7             3.6             2.0                 5                 5.0   \n",
       "\n",
       "   refletter.rating  \n",
       "3                 4  \n",
       "4                 5  \n",
       "5                 4  \n",
       "6                 5  \n",
       "7                 4  "
      ]
     },
     "execution_count": 7,
     "metadata": {},
     "output_type": "execute_result"
    }
   ],
   "source": [
    "df.loc[3:7]"
   ]
  },
  {
   "cell_type": "code",
   "execution_count": 8,
   "metadata": {},
   "outputs": [
    {
     "data": {
      "text/plain": [
       "'  \\n=>iloc[] is used for slicing the data either on the basis rows(Index) and column(columns)\\n=>iloc[] always takes row indeces and never takes column indecs\\n=>\\n'"
      ]
     },
     "execution_count": 8,
     "metadata": {},
     "output_type": "execute_result"
    }
   ],
   "source": [
    "#iloc[]\n",
    "\"\"\"  \n",
    "=>iloc[] is used for slicing the data either on the basis rows(Index) and column(columns)\n",
    "=>iloc[] always takes row indeces and never takes column indecs\n",
    "=>\n",
    "\"\"\""
   ]
  },
  {
   "cell_type": "code",
   "execution_count": 9,
   "metadata": {},
   "outputs": [],
   "source": [
    "#syntax:\n",
    "#dataFrameObj.iloc[row_number,[ColNumber1,colNumber2,..]]\n",
    "\n",
    "#dataFrameObj.iloc[rowStart:rowStop:rowStep,colStart:colStop:colStep]"
   ]
  },
  {
   "cell_type": "code",
   "execution_count": 10,
   "metadata": {},
   "outputs": [
    {
     "data": {
      "text/plain": [
       "id                                 7\n",
       "name                  Preston Suarez\n",
       "nationality                   Brazil\n",
       "city                       São Paulo\n",
       "latitude                      -23.47\n",
       "longitude                     -46.67\n",
       "gender                             M\n",
       "ethnic.group                     NaN\n",
       "age                               22\n",
       "english.grade                    3.8\n",
       "math.grade                       3.7\n",
       "sciences.grade                   3.6\n",
       "language.grade                   2.0\n",
       "portfolio.rating                   5\n",
       "coverletter.rating               5.0\n",
       "refletter.rating                   4\n",
       "Name: 7, dtype: object"
      ]
     },
     "execution_count": 10,
     "metadata": {},
     "output_type": "execute_result"
    }
   ],
   "source": [
    "#get the 7th records\n",
    "df1=df.iloc[7]\n",
    "df1"
   ]
  },
  {
   "cell_type": "code",
   "execution_count": 11,
   "metadata": {},
   "outputs": [
    {
     "data": {
      "text/plain": [
       "'Preston'"
      ]
     },
     "execution_count": 11,
     "metadata": {},
     "output_type": "execute_result"
    }
   ],
   "source": [
    "# get the first name\n",
    "y=df1[\"name\"][:7]\n",
    "y\n"
   ]
  },
  {
   "cell_type": "code",
   "execution_count": 12,
   "metadata": {},
   "outputs": [
    {
     "data": {
      "text/plain": [
       "3     Natasha Yarusso\n",
       "4      Brooke Cazares\n",
       "5    Rochelle Johnson\n",
       "6          Joey Abreu\n",
       "7      Preston Suarez\n",
       "8            Lee Dong\n",
       "9       Maa'iz al-Dia\n",
       "Name: name, dtype: object"
      ]
     },
     "execution_count": 12,
     "metadata": {},
     "output_type": "execute_result"
    }
   ],
   "source": [
    "df.iloc[3:10,[1,3]][\"name\"]"
   ]
  },
  {
   "cell_type": "code",
   "execution_count": 13,
   "metadata": {},
   "outputs": [
    {
     "data": {
      "text/plain": [
       "id                      0\n",
       "name                    0\n",
       "nationality             0\n",
       "city                    0\n",
       "latitude                0\n",
       "longitude               0\n",
       "gender                  0\n",
       "ethnic.group          307\n",
       "age                     0\n",
       "english.grade           0\n",
       "math.grade              0\n",
       "sciences.grade          0\n",
       "language.grade          0\n",
       "portfolio.rating        0\n",
       "coverletter.rating      0\n",
       "refletter.rating        0\n",
       "dtype: int64"
      ]
     },
     "execution_count": 13,
     "metadata": {},
     "output_type": "execute_result"
    }
   ],
   "source": [
    "## Check missing values\n",
    "df.isnull().sum()"
   ]
  },
  {
   "cell_type": "code",
   "execution_count": null,
   "metadata": {},
   "outputs": [],
   "source": []
  },
  {
   "cell_type": "code",
   "execution_count": null,
   "metadata": {},
   "outputs": [],
   "source": []
  },
  {
   "cell_type": "code",
   "execution_count": null,
   "metadata": {},
   "outputs": [],
   "source": []
  },
  {
   "cell_type": "code",
   "execution_count": null,
   "metadata": {},
   "outputs": [],
   "source": []
  },
  {
   "cell_type": "code",
   "execution_count": null,
   "metadata": {},
   "outputs": [],
   "source": []
  },
  {
   "cell_type": "code",
   "execution_count": null,
   "metadata": {},
   "outputs": [],
   "source": []
  },
  {
   "cell_type": "code",
   "execution_count": null,
   "metadata": {},
   "outputs": [],
   "source": []
  },
  {
   "cell_type": "code",
   "execution_count": null,
   "metadata": {},
   "outputs": [],
   "source": []
  }
 ],
 "metadata": {
  "kernelspec": {
   "display_name": "Python 3",
   "language": "python",
   "name": "python3"
  },
  "language_info": {
   "codemirror_mode": {
    "name": "ipython",
    "version": 3
   },
   "file_extension": ".py",
   "mimetype": "text/x-python",
   "name": "python",
   "nbconvert_exporter": "python",
   "pygments_lexer": "ipython3",
   "version": "3.13.1"
  }
 },
 "nbformat": 4,
 "nbformat_minor": 2
}
