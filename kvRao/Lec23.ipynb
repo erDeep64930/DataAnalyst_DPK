{
 "cells": [
  {
   "cell_type": "markdown",
   "metadata": {},
   "source": [
    "# enumerate"
   ]
  },
  {
   "cell_type": "markdown",
   "metadata": {},
   "source": [
    "- this function is used for obtaining index and value entries for every element of iterable objects. (contain more than one value)\n",
    "\n",
    "- syntax: enumerate(iterable object)"
   ]
  },
  {
   "cell_type": "code",
   "execution_count": 1,
   "metadata": {},
   "outputs": [
    {
     "name": "stdout",
     "output_type": "stream",
     "text": [
      "0 ---> m\n",
      "1 ---> i\n",
      "2 ---> s\n",
      "3 ---> s\n",
      "4 ---> i\n",
      "5 ---> s\n",
      "6 ---> s\n",
      "7 ---> i\n",
      "8 ---> p\n",
      "9 ---> p\n",
      "10 ---> i\n"
     ]
    }
   ],
   "source": [
    "s=\"mississippi\"\n",
    "for i,v in enumerate(s):\n",
    "    print(i,\"--->\",v)"
   ]
  },
  {
   "cell_type": "code",
   "execution_count": 2,
   "metadata": {},
   "outputs": [
    {
     "name": "stdout",
     "output_type": "stream",
     "text": [
      "1 ---> i\n",
      "4 ---> i\n",
      "7 ---> i\n",
      "10 ---> i\n"
     ]
    }
   ],
   "source": [
    "s=\"mississippi\"\n",
    "for i,v in enumerate(s):\n",
    "    if(v==\"i\"):\n",
    "        print(i,\"--->\",v)\n",
    "        \n",
    "    "
   ]
  },
  {
   "cell_type": "markdown",
   "metadata": {},
   "source": [
    "# copy()"
   ]
  },
  {
   "cell_type": "markdown",
   "metadata": {},
   "source": [
    "in python we have 2 types of copy technique , they are :-\n",
    "    1.shallow copy\n",
    "    2.deep copy"
   ]
  },
  {
   "cell_type": "code",
   "execution_count": 3,
   "metadata": {},
   "outputs": [],
   "source": [
    "# shallow copy"
   ]
  },
  {
   "cell_type": "code",
   "execution_count": 5,
   "metadata": {},
   "outputs": [
    {
     "data": {
      "text/plain": [
       "' \\n- the property of shadow copy are \\n\\n1. the initial content of both the objects are same.\\n\\n2.the memory address of both the object are different.\\n\\n3.the modification are independent (whatever the changes we do on one object, those changes are not reflected to another object, because memory address are different)\\n\\n--> to implement shallow copy , we use copy().\\n\\n--> syntax:-\\n\\nobject2=object1.copy()\\n\\n\\n'"
      ]
     },
     "execution_count": 5,
     "metadata": {},
     "output_type": "execute_result"
    }
   ],
   "source": [
    "\"\"\" \n",
    "- the property of shadow copy are \n",
    "\n",
    "1. the initial content of both the objects are same.\n",
    "\n",
    "2.the memory address of both the object are different.\n",
    "\n",
    "3.the modification are independent (whatever the changes we do on one object, those changes are not reflected to another object, because memory address are different)\n",
    "\n",
    "--> to implement shallow copy , we use copy().\n",
    "\n",
    "--> syntax:-\n",
    "\n",
    "object2=object1.copy()\n",
    "\n",
    "\n",
    "\"\"\""
   ]
  },
  {
   "cell_type": "code",
   "execution_count": 7,
   "metadata": {},
   "outputs": [
    {
     "name": "stdout",
     "output_type": "stream",
     "text": [
      "[10, 'rs'] 2292252212288 2292252695296\n"
     ]
    }
   ],
   "source": [
    "lst=[10,\"rs\"]\n",
    "lst2=lst.copy() # shallow copy\n",
    "print(lst2,id(lst),id(lst2))"
   ]
  },
  {
   "cell_type": "markdown",
   "metadata": {},
   "source": [
    "- deep copy()"
   ]
  },
  {
   "cell_type": "code",
   "execution_count": 8,
   "metadata": {},
   "outputs": [
    {
     "data": {
      "text/plain": [
       "'  \\n- the property of deep copy are-\\n    1.the initial content of both the object are same .\\n    2.the memory address of both the object are same .\\n    3.the modification are dependent.(whatever the changes we do in one object , those changes are reflecting to another object because memory address are same )\\n'"
      ]
     },
     "execution_count": 8,
     "metadata": {},
     "output_type": "execute_result"
    }
   ],
   "source": [
    " \n",
    "\"\"\"  \n",
    "- the property of deep copy are-\n",
    "    1.the initial content of both the object are same .\n",
    "    2.the memory address of both the object are same .\n",
    "    3.the modification are dependent.(whatever the changes we do in one object , those changes are reflecting to another object because memory address are same )\n",
    "\"\"\""
   ]
  },
  {
   "cell_type": "code",
   "execution_count": null,
   "metadata": {},
   "outputs": [],
   "source": [
    "# to implement deep copy , we use assignment operator\n",
    "# (=)\n",
    "# syntax:\n",
    "# object2=object1"
   ]
  },
  {
   "cell_type": "code",
   "execution_count": 9,
   "metadata": {},
   "outputs": [
    {
     "name": "stdout",
     "output_type": "stream",
     "text": [
      "2292252077248 2292252077248 <class 'list'>\n"
     ]
    }
   ],
   "source": [
    "lst=[10,\"rs\",\"b7\"]\n",
    "lst2=lst\n",
    "print(id(lst),id(lst2),type(lst))"
   ]
  },
  {
   "cell_type": "markdown",
   "metadata": {},
   "source": [
    "# count()"
   ]
  },
  {
   "cell_type": "markdown",
   "metadata": {},
   "source": [
    "- syntax:-\n"
   ]
  },
  {
   "cell_type": "code",
   "execution_count": 10,
   "metadata": {},
   "outputs": [
    {
     "name": "stdout",
     "output_type": "stream",
     "text": [
      "[10, 20, 10, 30, 10, 20, 30, 30, 40, 40, 50, 10, 50, 20] <class 'list'>\n"
     ]
    },
    {
     "data": {
      "text/plain": [
       "4"
      ]
     },
     "execution_count": 10,
     "metadata": {},
     "output_type": "execute_result"
    }
   ],
   "source": [
    "\n",
    "lst=[10,20,10,30,10,20,30,30,40,40,50,10,50,20]\n",
    "print(lst,type(lst))\n",
    "lst.count(10)"
   ]
  },
  {
   "cell_type": "code",
   "execution_count": 14,
   "metadata": {},
   "outputs": [
    {
     "name": "stdout",
     "output_type": "stream",
     "text": [
      "0 ---> m\n",
      "1 ---> i\n",
      "2 ---> s\n",
      "3 ---> s\n",
      "4 ---> i\n",
      "5 ---> s\n",
      "6 ---> s\n",
      "7 ---> i\n",
      "8 ---> p\n",
      "9 ---> p\n",
      "10 ---> i\n"
     ]
    }
   ],
   "source": [
    "s=\"mississippi\"\n",
    "for i,v in enumerate(s):\n",
    "    print(i,\"--->\",v)\n",
    "  "
   ]
  },
  {
   "cell_type": "code",
   "execution_count": null,
   "metadata": {},
   "outputs": [],
   "source": []
  }
 ],
 "metadata": {
  "kernelspec": {
   "display_name": ".venv",
   "language": "python",
   "name": "python3"
  },
  "language_info": {
   "codemirror_mode": {
    "name": "ipython",
    "version": 3
   },
   "file_extension": ".py",
   "mimetype": "text/x-python",
   "name": "python",
   "nbconvert_exporter": "python",
   "pygments_lexer": "ipython3",
   "version": "3.12.6"
  }
 },
 "nbformat": 4,
 "nbformat_minor": 2
}
