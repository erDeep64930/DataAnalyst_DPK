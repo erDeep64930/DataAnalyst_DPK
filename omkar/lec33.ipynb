{
 "cells": [
  {
   "cell_type": "code",
   "execution_count": 4,
   "id": "e260d649-be22-47fb-b458-2279e15d209a",
   "metadata": {},
   "outputs": [
    {
     "data": {
      "text/plain": [
       "['__class__',\n",
       " '__class_getitem__',\n",
       " '__contains__',\n",
       " '__delattr__',\n",
       " '__delitem__',\n",
       " '__dir__',\n",
       " '__doc__',\n",
       " '__eq__',\n",
       " '__format__',\n",
       " '__ge__',\n",
       " '__getattribute__',\n",
       " '__getitem__',\n",
       " '__getstate__',\n",
       " '__gt__',\n",
       " '__hash__',\n",
       " '__init__',\n",
       " '__init_subclass__',\n",
       " '__ior__',\n",
       " '__iter__',\n",
       " '__le__',\n",
       " '__len__',\n",
       " '__lt__',\n",
       " '__ne__',\n",
       " '__new__',\n",
       " '__or__',\n",
       " '__reduce__',\n",
       " '__reduce_ex__',\n",
       " '__repr__',\n",
       " '__reversed__',\n",
       " '__ror__',\n",
       " '__setattr__',\n",
       " '__setitem__',\n",
       " '__sizeof__',\n",
       " '__str__',\n",
       " '__subclasshook__',\n",
       " 'clear',\n",
       " 'copy',\n",
       " 'fromkeys',\n",
       " 'get',\n",
       " 'items',\n",
       " 'keys',\n",
       " 'pop',\n",
       " 'popitem',\n",
       " 'setdefault',\n",
       " 'update',\n",
       " 'values']"
      ]
     },
     "execution_count": 4,
     "metadata": {},
     "output_type": "execute_result"
    }
   ],
   "source": [
    "dir({})\n"
   ]
  },
  {
   "cell_type": "code",
   "execution_count": null,
   "id": "7aee0619-fc79-4cd6-beca-8390a6fa2fe2",
   "metadata": {},
   "outputs": [],
   "source": [
    "#take one dctionary \n",
    "#take 2nd dictionary copy first into 2nd \n",
    "#claer the first\n",
    "#print the both\n"
   ]
  },
  {
   "cell_type": "markdown",
   "id": "453e9794-2026-4255-ba14-8eb66c087cb4",
   "metadata": {},
   "source": [
    "$clear$ - $copy$"
   ]
  },
  {
   "cell_type": "code",
   "execution_count": 5,
   "id": "09813987-192b-4a78-a1d6-fd0550805e5e",
   "metadata": {},
   "outputs": [
    {
     "name": "stdout",
     "output_type": "stream",
     "text": [
      "{'a': 10, 'b': 20, 'c': 30, 'd': 40}\n"
     ]
    }
   ],
   "source": [
    " d1={\"a\":10,\"b\":20,\"c\":30,\"d\":40}\n",
    "d2=d1.copy()\n",
    "print(d2)"
   ]
  },
  {
   "cell_type": "code",
   "execution_count": 6,
   "id": "b559d808-e9d4-494e-8a1f-cde47ee18e1f",
   "metadata": {},
   "outputs": [
    {
     "name": "stdout",
     "output_type": "stream",
     "text": [
      "{}\n"
     ]
    }
   ],
   "source": [
    "d1.clear()\n",
    "print(d1)"
   ]
  },
  {
   "cell_type": "code",
   "execution_count": 7,
   "id": "eadacd07-16fa-49ad-8bf4-33a068a7a7c1",
   "metadata": {},
   "outputs": [
    {
     "name": "stdout",
     "output_type": "stream",
     "text": [
      "{'a': 10, 'b': 20, 'c': 30, 'd': 40}\n"
     ]
    }
   ],
   "source": [
    "print(d2)"
   ]
  },
  {
   "cell_type": "markdown",
   "id": "2aa1781e-d487-46f3-8135-0a61ade897ba",
   "metadata": {},
   "source": [
    "$pop$ - $popitem$ - $del$"
   ]
  },
  {
   "cell_type": "markdown",
   "id": "da9eb8af-6e57-4d25-8138-5f4087be7f2c",
   "metadata": {},
   "source": [
    "- pop-\n",
    "- popitem-\n",
    "- del-"
   ]
  },
  {
   "cell_type": "code",
   "execution_count": null,
   "id": "9481d263-5286-4ce9-a98b-c2d0b61ffd10",
   "metadata": {},
   "outputs": [],
   "source": [
    "#pop = pop will remove specify key ,return value\n",
    "\n",
    "#what is popitem = remove the last value default ,return the pair\n",
    "\n",
    "#what is del = del is a keywords , \n",
    "\n"
   ]
  },
  {
   "cell_type": "code",
   "execution_count": 8,
   "id": "b4c0837a-b363-49fe-8587-4f0b56db703d",
   "metadata": {},
   "outputs": [
    {
     "data": {
      "text/plain": [
       "10"
      ]
     },
     "execution_count": 8,
     "metadata": {},
     "output_type": "execute_result"
    }
   ],
   "source": [
    "d2.pop(\"a\")"
   ]
  },
  {
   "cell_type": "code",
   "execution_count": 9,
   "id": "59fd0311-2ec3-4ecf-a54a-31a9663f0a5b",
   "metadata": {},
   "outputs": [
    {
     "name": "stdout",
     "output_type": "stream",
     "text": [
      "{'b': 20, 'c': 30, 'd': 40}\n"
     ]
    }
   ],
   "source": [
    "print(d2)"
   ]
  },
  {
   "cell_type": "code",
   "execution_count": 13,
   "id": "a2604aac-d028-460c-aa04-3b5fde2e3235",
   "metadata": {},
   "outputs": [
    {
     "name": "stdout",
     "output_type": "stream",
     "text": [
      "[1, 2, 4, 5]\n"
     ]
    }
   ],
   "source": [
    "l1=[1,2,3,4,5]\n",
    "\n",
    "del l1[2]\n",
    "print(l1)"
   ]
  },
  {
   "cell_type": "code",
   "execution_count": 17,
   "id": "8645d1c3-fe4d-4294-9025-3492ba3b17a2",
   "metadata": {},
   "outputs": [
    {
     "name": "stdout",
     "output_type": "stream",
     "text": [
      "{'a': 10, 'b': 20, 'c': 30}\n"
     ]
    }
   ],
   "source": [
    " d1={\"a\":10,\"b\":20,\"c\":30,\"d\":40}\n",
    "del d1[\"d\"]\n",
    "print(d1)"
   ]
  },
  {
   "cell_type": "code",
   "execution_count": 18,
   "id": "a190c492-e2e4-49d7-8551-e65bd3b80846",
   "metadata": {},
   "outputs": [],
   "source": [
    "del(d1)"
   ]
  },
  {
   "cell_type": "code",
   "execution_count": 19,
   "id": "83196bf4-d18f-44f4-b26d-545a725d2776",
   "metadata": {},
   "outputs": [
    {
     "ename": "NameError",
     "evalue": "name 'd1' is not defined",
     "output_type": "error",
     "traceback": [
      "\u001b[1;31m---------------------------------------------------------------------------\u001b[0m",
      "\u001b[1;31mNameError\u001b[0m                                 Traceback (most recent call last)",
      "Cell \u001b[1;32mIn[19], line 1\u001b[0m\n\u001b[1;32m----> 1\u001b[0m \u001b[38;5;28mprint\u001b[39m(\u001b[43md1\u001b[49m)\n",
      "\u001b[1;31mNameError\u001b[0m: name 'd1' is not defined"
     ]
    }
   ],
   "source": [
    "print(d1)"
   ]
  },
  {
   "cell_type": "code",
   "execution_count": null,
   "id": "e39d190f-96c4-4754-9d7e-6f5df10b7a52",
   "metadata": {},
   "outputs": [],
   "source": [
    "# items/values/keys\n",
    "\n",
    "- if i provide two list you know how to make dict\n",
    "\n",
    "- if i provide dict , you know how to generate list\n",
    "\n",
    "- create an emplty string/list/dict\n",
    "\n",
    "-counter \n",
    "\n",
    "-summ\n",
    "\n",
    "-function\n",
    "\n",
    "-pop/popitem/del\n",
    "\n",
    "-"
   ]
  },
  {
   "cell_type": "code",
   "execution_count": 21,
   "id": "684cf976-c939-4074-8995-b0b249625c25",
   "metadata": {},
   "outputs": [
    {
     "data": {
      "text/plain": [
       "30"
      ]
     },
     "execution_count": 21,
     "metadata": {},
     "output_type": "execute_result"
    }
   ],
   "source": [
    "d1={\"a\":10,\"b\":20,\"c\":30,\"d\":40}\n",
    "d1.get(\"c\")"
   ]
  },
  {
   "cell_type": "code",
   "execution_count": 22,
   "id": "38e12955-ab0a-407c-8995-986b9e945a14",
   "metadata": {},
   "outputs": [
    {
     "data": {
      "text/plain": [
       "20"
      ]
     },
     "execution_count": 22,
     "metadata": {},
     "output_type": "execute_result"
    }
   ],
   "source": [
    "d1[\"b\"]"
   ]
  },
  {
   "cell_type": "code",
   "execution_count": 23,
   "id": "911edfc6-0642-4d6e-8878-6ab94e54f4c1",
   "metadata": {},
   "outputs": [],
   "source": [
    "d1.get(\"e\")"
   ]
  },
  {
   "cell_type": "markdown",
   "id": "36ba5657-7b84-4655-968e-5912285ed793",
   "metadata": {},
   "source": [
    "$set$ $as$ $default$"
   ]
  },
  {
   "cell_type": "code",
   "execution_count": 24,
   "id": "8cb7b89f-ee36-4557-b6f3-4812beeb4049",
   "metadata": {},
   "outputs": [
    {
     "data": {
      "text/plain": [
       "{'nareshit': 'ds', 'city': None}"
      ]
     },
     "execution_count": 24,
     "metadata": {},
     "output_type": "execute_result"
    }
   ],
   "source": [
    "d1={}\n",
    "d1.setdefault(\"nareshit\",\"ds\")\n",
    "d1.setdefault(\"city\")\n",
    "d1"
   ]
  },
  {
   "cell_type": "code",
   "execution_count": 25,
   "id": "31a0bf35-237e-4de6-9728-ba254bdfddfb",
   "metadata": {},
   "outputs": [
    {
     "name": "stdout",
     "output_type": "stream",
     "text": [
      "{'b': 20, 'c': 30, 'd': 40, 'nareshit': ['ds', 'MLOP', 'de']}\n"
     ]
    }
   ],
   "source": [
    "d2[\"nareshit\"]=[\"ds\",\"MLOP\",\"de\"]\n",
    "print(d2)"
   ]
  },
  {
   "cell_type": "markdown",
   "id": "d2a3fcb0-325d-4080-80c5-479498411335",
   "metadata": {},
   "source": [
    "$update$"
   ]
  },
  {
   "cell_type": "code",
   "execution_count": null,
   "id": "e2608276-cdb6-4867-a3c4-38cbce61fdf4",
   "metadata": {},
   "outputs": [],
   "source": [
    "# it insert the particular items to the dictionary"
   ]
  },
  {
   "cell_type": "code",
   "execution_count": null,
   "id": "17ef9a21-59ae-422c-8697-db0e1dd31a0e",
   "metadata": {},
   "outputs": [],
   "source": [
    "# in list duplicate are not allowed"
   ]
  },
  {
   "cell_type": "code",
   "execution_count": 26,
   "id": "af1e1b96-0738-40b7-9007-86e2102745cb",
   "metadata": {},
   "outputs": [
    {
     "name": "stdout",
     "output_type": "stream",
     "text": [
      "{'a': 1, 'b': 7, 'c': 5, 'd': 9}\n"
     ]
    }
   ],
   "source": [
    "d1={\"a\":1,\"b\":4,\"c\":5}\n",
    "\n",
    "d2={\"b\":7,\"d\":9}\n",
    "\n",
    "d1.update(d2)\n",
    "print(d1)"
   ]
  },
  {
   "cell_type": "code",
   "execution_count": null,
   "id": "7845ea8d-5ed9-4f2c-85cb-79560b3ce5df",
   "metadata": {},
   "outputs": [],
   "source": [
    "update method will update dictionary with element from another dictionary,\n",
    "it modify the dictionary\n",
    "\n"
   ]
  },
  {
   "cell_type": "markdown",
   "id": "e4ff4830-6e47-4d92-aba1-061548a79128",
   "metadata": {},
   "source": [
    "# Lambda "
   ]
  },
  {
   "cell_type": "code",
   "execution_count": 27,
   "id": "b1fcecaa-5da2-43e1-8627-a8623db763ad",
   "metadata": {},
   "outputs": [
    {
     "data": {
      "text/plain": [
       "30"
      ]
     },
     "execution_count": 27,
     "metadata": {},
     "output_type": "execute_result"
    }
   ],
   "source": [
    "#create a basic function\n",
    "\n",
    "def add(x):\n",
    "    return(x+10)\n",
    "\n",
    "add(20)"
   ]
  },
  {
   "cell_type": "code",
   "execution_count": null,
   "id": "0a177bd0-cf22-4a51-b64b-8beadbfa6369",
   "metadata": {},
   "outputs": [],
   "source": [
    "#lambda function\n",
    "\n",
    "#how many argument are present?: x\n",
    "\n",
    "#what you are returning>: x+10\n",
    "\n",
    "\n",
    "\n"
   ]
  },
  {
   "cell_type": "markdown",
   "id": "f709c80a-b675-44ae-9fa7-95dfa210ef0f",
   "metadata": {},
   "source": [
    "# syntax\n",
    "\n",
    "lambda<argument>:<output>"
   ]
  },
  {
   "cell_type": "code",
   "execution_count": null,
   "id": "4fbdf63a-7827-4144-b527-a7aafd950c11",
   "metadata": {},
   "outputs": [],
   "source": [
    "\n",
    "lambda<argumentName>:<output>"
   ]
  },
  {
   "cell_type": "code",
   "execution_count": 30,
   "id": "3b602efb-adfa-4475-ace4-3ae96e7f301d",
   "metadata": {},
   "outputs": [
    {
     "data": {
      "text/plain": [
       "30"
      ]
     },
     "execution_count": 30,
     "metadata": {},
     "output_type": "execute_result"
    }
   ],
   "source": [
    "add = lambda x:x+10\n",
    "add(20)"
   ]
  },
  {
   "cell_type": "code",
   "execution_count": 31,
   "id": "6b748950-2d66-48bc-b6e2-9a767c6a8f99",
   "metadata": {},
   "outputs": [
    {
     "data": {
      "text/plain": [
       "25"
      ]
     },
     "execution_count": 31,
     "metadata": {},
     "output_type": "execute_result"
    }
   ],
   "source": [
    "#square of number \n",
    "def square(x):\n",
    "    return(x*x)\n",
    "\n",
    "square(5)"
   ]
  },
  {
   "cell_type": "code",
   "execution_count": 32,
   "id": "87ae7208-5e5b-4685-9701-172a44acb7ec",
   "metadata": {},
   "outputs": [
    {
     "data": {
      "text/plain": [
       "25"
      ]
     },
     "execution_count": 32,
     "metadata": {},
     "output_type": "execute_result"
    }
   ],
   "source": [
    "#using lambda function\n",
    "square= lambda x:x*x\n",
    "square(5)"
   ]
  },
  {
   "cell_type": "code",
   "execution_count": 34,
   "id": "49d8f4fc-edb0-4c07-b193-025593f578a5",
   "metadata": {},
   "outputs": [
    {
     "data": {
      "text/plain": [
       "343"
      ]
     },
     "execution_count": 34,
     "metadata": {},
     "output_type": "execute_result"
    }
   ],
   "source": [
    "def cube(x):\n",
    "    return(x*x*x)\n",
    "\n",
    "cube(7)"
   ]
  },
  {
   "cell_type": "code",
   "execution_count": 35,
   "id": "30052a32-f6bb-41b0-9e74-778af0fa52e2",
   "metadata": {},
   "outputs": [
    {
     "data": {
      "text/plain": [
       "512"
      ]
     },
     "execution_count": 35,
     "metadata": {},
     "output_type": "execute_result"
    }
   ],
   "source": [
    "cube = lambda x:x*x*x\n",
    "cube(8)"
   ]
  },
  {
   "cell_type": "code",
   "execution_count": 36,
   "id": "37b29823-452c-4efe-9367-09f132ca9441",
   "metadata": {},
   "outputs": [
    {
     "data": {
      "text/plain": [
       "16"
      ]
     },
     "execution_count": 36,
     "metadata": {},
     "output_type": "execute_result"
    }
   ],
   "source": [
    "#two argument\n",
    "\n",
    "def add(a,b):\n",
    "   return(a+b)\n",
    "add(7,9)"
   ]
  },
  {
   "cell_type": "code",
   "execution_count": 37,
   "id": "a9469692-261a-4fb8-a396-b1be3e29b864",
   "metadata": {},
   "outputs": [
    {
     "data": {
      "text/plain": [
       "10"
      ]
     },
     "execution_count": 37,
     "metadata": {},
     "output_type": "execute_result"
    }
   ],
   "source": [
    "add = lambda x,y:x+y\n",
    "add(5,5)"
   ]
  },
  {
   "cell_type": "code",
   "execution_count": null,
   "id": "4144f871-1dd3-4738-9361-349aef455070",
   "metadata": {},
   "outputs": [],
   "source": [
    "#syntax\n",
    "\n",
    "lambda <arg1>,<arg2>:<output>\n",
    "\n"
   ]
  },
  {
   "cell_type": "code",
   "execution_count": 38,
   "id": "ebd3375b-7e1b-42d1-a802-d56d9ddea994",
   "metadata": {},
   "outputs": [
    {
     "data": {
      "text/plain": [
       "4.0"
      ]
     },
     "execution_count": 38,
     "metadata": {},
     "output_type": "execute_result"
    }
   ],
   "source": [
    "#implement avg of three number using lambda\n",
    "\n",
    "avg=lambda x,y,z:x+y+z/3\n",
    "avg(1,2,3)\n",
    "\n"
   ]
  },
  {
   "cell_type": "code",
   "execution_count": 40,
   "id": "0525daf9-1048-48b3-9492-7471753ccd4b",
   "metadata": {},
   "outputs": [
    {
     "data": {
      "text/plain": [
       "26.67"
      ]
     },
     "execution_count": 40,
     "metadata": {},
     "output_type": "execute_result"
    }
   ],
   "source": [
    "avg2= lambda a,b,c=30: round((a+b+c)/3,2)\n",
    "avg2(20,30)"
   ]
  },
  {
   "cell_type": "markdown",
   "id": "4f159d63-3514-4ee6-9e14-f062deeaf8f8",
   "metadata": {},
   "source": [
    "$if-else$"
   ]
  },
  {
   "cell_type": "code",
   "execution_count": null,
   "id": "e75c40bc-30c2-495b-bcda-bc1d13401b09",
   "metadata": {},
   "outputs": [],
   "source": [
    "# create a function for finding the greatest number b/w two numbers\n"
   ]
  },
  {
   "cell_type": "code",
   "execution_count": 43,
   "id": "fb9d5c71-adf3-45f5-b9d0-09e622ca1e6a",
   "metadata": {},
   "outputs": [
    {
     "data": {
      "text/plain": [
       "90"
      ]
     },
     "execution_count": 43,
     "metadata": {},
     "output_type": "execute_result"
    }
   ],
   "source": [
    "def greater(n1,n2):\n",
    "    if n1>n2:\n",
    "        return (n1)\n",
    "        print(\"n1 {} is greater\".format(n1))\n",
    "\n",
    "    else:\n",
    "        return(n2)\n",
    "        print(\"n2 {} is greater\".format(n2))\n",
    "\n",
    "greater(30,90)"
   ]
  },
  {
   "cell_type": "code",
   "execution_count": 1,
   "id": "bd4eb33d-6cf9-4ca0-983f-eb1ddc72229f",
   "metadata": {},
   "outputs": [],
   "source": [
    "list1=[\"hyd\",\"mum\",\"chenai\"]\n",
    "#m1- uae append ethod\n",
    "#m2- use list comprehenshion\n"
   ]
  },
  {
   "cell_type": "raw",
   "id": "6643fc0f-180e-4942-9380-59ff27759898",
   "metadata": {},
   "source": [
    "# lambda <argument> : <output>,<iterator>\n"
   ]
  },
  {
   "cell_type": "code",
   "execution_count": 2,
   "id": "4fe7bbdb-8416-40f3-acc9-32df84107ef8",
   "metadata": {},
   "outputs": [
    {
     "ename": "TypeError",
     "evalue": "can't multiply sequence by non-int of type 'str'",
     "output_type": "error",
     "traceback": [
      "\u001b[1;31m---------------------------------------------------------------------------\u001b[0m",
      "\u001b[1;31mTypeError\u001b[0m                                 Traceback (most recent call last)",
      "Cell \u001b[1;32mIn[2], line 3\u001b[0m\n\u001b[0;32m      1\u001b[0m \u001b[38;5;28mlist\u001b[39m \u001b[38;5;241m=\u001b[39m [\u001b[38;5;241m1\u001b[39m,\u001b[38;5;241m2\u001b[39m,\u001b[38;5;241m3\u001b[39m,\u001b[38;5;241m4\u001b[39m,\u001b[38;5;241m5\u001b[39m]\n\u001b[1;32m----> 3\u001b[0m \u001b[38;5;28;43;01mfor\u001b[39;49;00m\u001b[43m \u001b[49m\u001b[43mi\u001b[49m\u001b[43m \u001b[49m\u001b[38;5;129;43;01min\u001b[39;49;00m\u001b[43m \u001b[49m\u001b[38;5;28;43mmap\u001b[39;49m\u001b[43m(\u001b[49m\u001b[38;5;28;43;01mlambda\u001b[39;49;00m\u001b[43m \u001b[49m\u001b[43mi\u001b[49m\u001b[43m:\u001b[49m\u001b[43mi\u001b[49m\u001b[38;5;241;43m*\u001b[39;49m\u001b[43mi\u001b[49m\u001b[43m,\u001b[49m\u001b[43mlist1\u001b[49m\u001b[43m)\u001b[49m\u001b[43m:\u001b[49m\n\u001b[0;32m      4\u001b[0m \u001b[43m    \u001b[49m\u001b[38;5;28;43mprint\u001b[39;49m\u001b[43m(\u001b[49m\u001b[43mi\u001b[49m\u001b[43m)\u001b[49m\n",
      "Cell \u001b[1;32mIn[2], line 3\u001b[0m, in \u001b[0;36m<lambda>\u001b[1;34m(i)\u001b[0m\n\u001b[0;32m      1\u001b[0m \u001b[38;5;28mlist\u001b[39m \u001b[38;5;241m=\u001b[39m [\u001b[38;5;241m1\u001b[39m,\u001b[38;5;241m2\u001b[39m,\u001b[38;5;241m3\u001b[39m,\u001b[38;5;241m4\u001b[39m,\u001b[38;5;241m5\u001b[39m]\n\u001b[1;32m----> 3\u001b[0m \u001b[38;5;28;01mfor\u001b[39;00m i \u001b[38;5;129;01min\u001b[39;00m \u001b[38;5;28mmap\u001b[39m(\u001b[38;5;28;01mlambda\u001b[39;00m i:\u001b[43mi\u001b[49m\u001b[38;5;241;43m*\u001b[39;49m\u001b[43mi\u001b[49m,list1):\n\u001b[0;32m      4\u001b[0m     \u001b[38;5;28mprint\u001b[39m(i)\n",
      "\u001b[1;31mTypeError\u001b[0m: can't multiply sequence by non-int of type 'str'"
     ]
    }
   ],
   "source": [
    "list = [1,2,3,4,5]\n",
    "\n",
    "for i in map(lambda i:i*i,list1):\n",
    "    print(i)"
   ]
  },
  {
   "cell_type": "code",
   "execution_count": null,
   "id": "82f1e588-c41d-4f89-96bd-2b02f5a50d76",
   "metadata": {},
   "outputs": [],
   "source": []
  },
  {
   "cell_type": "code",
   "execution_count": null,
   "id": "a16f6986-3b6c-4e0f-b1b0-d5c171711130",
   "metadata": {},
   "outputs": [],
   "source": []
  },
  {
   "cell_type": "code",
   "execution_count": null,
   "id": "308a8c30-bfca-4502-8915-d1aef100a9b3",
   "metadata": {},
   "outputs": [],
   "source": []
  },
  {
   "cell_type": "code",
   "execution_count": null,
   "id": "889145ee-d461-449d-9b4c-fb3b99458541",
   "metadata": {},
   "outputs": [],
   "source": []
  },
  {
   "cell_type": "code",
   "execution_count": null,
   "id": "e470acf1-d42d-4594-8a4a-cd5e50ab42b7",
   "metadata": {},
   "outputs": [],
   "source": []
  },
  {
   "cell_type": "code",
   "execution_count": null,
   "id": "ef784403-3c24-47cf-a1f6-c7c90e8ed3f2",
   "metadata": {},
   "outputs": [],
   "source": []
  },
  {
   "cell_type": "code",
   "execution_count": null,
   "id": "563b879f-9544-42fa-b53f-589f5d78f8d5",
   "metadata": {},
   "outputs": [],
   "source": []
  },
  {
   "cell_type": "code",
   "execution_count": null,
   "id": "366a5cc3-d979-448d-9675-dfb86eaea63d",
   "metadata": {},
   "outputs": [],
   "source": []
  },
  {
   "cell_type": "code",
   "execution_count": null,
   "id": "cd904814-5953-4540-90f8-984f6803b1c8",
   "metadata": {},
   "outputs": [],
   "source": []
  },
  {
   "cell_type": "code",
   "execution_count": null,
   "id": "36a22a52-dfa2-408f-9ac5-92be29a19c8e",
   "metadata": {},
   "outputs": [],
   "source": []
  }
 ],
 "metadata": {
  "kernelspec": {
   "display_name": "Python 3 (ipykernel)",
   "language": "python",
   "name": "python3"
  },
  "language_info": {
   "codemirror_mode": {
    "name": "ipython",
    "version": 3
   },
   "file_extension": ".py",
   "mimetype": "text/x-python",
   "name": "python",
   "nbconvert_exporter": "python",
   "pygments_lexer": "ipython3",
   "version": "3.12.4"
  }
 },
 "nbformat": 4,
 "nbformat_minor": 5
}
