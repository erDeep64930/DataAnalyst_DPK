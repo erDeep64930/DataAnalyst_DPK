{
 "cells": [
  {
   "cell_type": "markdown",
   "metadata": {},
   "source": [
    "- intro to numpy\n",
    "- 3rd party module\n",
    "- develop by Travis oliphant in 2007\n",
    "- develop by C and python\n",
    "- numpy is used for \"dealing with array based computing + to deal with complex math operations\n",
    "\n",
    "\n",
    "# pip install numpy\n",
    "\n",
    "\n",
    "\n"
   ]
  },
  {
   "cell_type": "code",
   "execution_count": null,
   "metadata": {},
   "outputs": [],
   "source": [
    "\"\"\"\"\n",
    "- ndarray - mean n dimension array\n",
    "- pip install numpy\n",
    "\n",
    "- to uninstall\n",
    "pip uninstall numpy\n",
    "\n",
    "# to install and uninstall you need internet connection\n",
    "because pip is connected to github\n",
    "\n",
    "-to find the version of numpy\n",
    "import numpy\n",
    "print)(np.__version__)\n",
    "\n",
    "\"\"\""
   ]
  },
  {
   "cell_type": "code",
   "execution_count": 3,
   "metadata": {},
   "outputs": [
    {
     "name": "stdout",
     "output_type": "stream",
     "text": [
      "2.2.2\n"
     ]
    }
   ],
   "source": [
    "import numpy as np\n",
    "print(np.__version__)\n",
    "\n"
   ]
  },
  {
   "cell_type": "code",
   "execution_count": 4,
   "metadata": {},
   "outputs": [
    {
     "name": "stdout",
     "output_type": "stream",
     "text": [
      "[10 20 30 40 50 60 15 10 35 20 30] <class 'numpy.ndarray'>\n"
     ]
    }
   ],
   "source": [
    "lst=[10,20,30,40,50,60,15,10,35,20,30]\n",
    "a=np.array(lst)\n",
    "print(a,type(a))"
   ]
  },
  {
   "cell_type": "code",
   "execution_count": 5,
   "metadata": {},
   "outputs": [
    {
     "name": "stdout",
     "output_type": "stream",
     "text": [
      "[11 21 31 41 51 61 16 11 36 21 31] <class 'numpy.ndarray'>\n"
     ]
    }
   ],
   "source": [
    "a=a+1\n",
    "print(a,type(a))"
   ]
  },
  {
   "cell_type": "code",
   "execution_count": 7,
   "metadata": {},
   "outputs": [
    {
     "name": "stdout",
     "output_type": "stream",
     "text": [
      "88\n"
     ]
    }
   ],
   "source": [
    "# how to find the memory size \n",
    "import sys\n",
    "lst1=[10,20,30]\n",
    "print(sys.getsizeof(lst1))"
   ]
  },
  {
   "cell_type": "code",
   "execution_count": null,
   "metadata": {},
   "outputs": [],
   "source": []
  }
 ],
 "metadata": {
  "kernelspec": {
   "display_name": "Python 3",
   "language": "python",
   "name": "python3"
  },
  "language_info": {
   "codemirror_mode": {
    "name": "ipython",
    "version": 3
   },
   "file_extension": ".py",
   "mimetype": "text/x-python",
   "name": "python",
   "nbconvert_exporter": "python",
   "pygments_lexer": "ipython3",
   "version": "3.13.1"
  }
 },
 "nbformat": 4,
 "nbformat_minor": 2
}
