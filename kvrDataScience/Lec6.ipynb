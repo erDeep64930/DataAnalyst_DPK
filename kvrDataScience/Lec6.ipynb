{
 "cells": [
  {
   "cell_type": "markdown",
   "metadata": {},
   "source": [
    "# Random number generation in numpy:-\n",
    "- numpy.random\n",
    "- 1. randint()\n",
    "- 2. rand()\n",
    "- 3. uniform()\n",
    "- 4. randn()\n",
    "- 5. normal()\n",
    "- 6. shuffle()\n",
    "\n",
    "\n",
    "- --> these are very much useful data science algorithm.(random number generation in numpy:-)"
   ]
  },
  {
   "cell_type": "code",
   "execution_count": null,
   "metadata": {},
   "outputs": [],
   "source": [
    "import numpy as np\n",
    "\"\"\" \n",
    "_____________________________________  \n",
    " 1. randint() :- \n",
    " syntax:-\n",
    " randint(low, high=None, size=None, dtype=int)\n",
    "_____________________________________\n",
    "- 2. rand()\n",
    "_____________________________________\n",
    "- 3. uniform()\n",
    "_____________________________________\n",
    "- 4. randn()\n",
    "_____________________________________\n",
    "- 5. normal()\n",
    "_____________________________________\n",
    "- 6. shuffle()\n",
    "_____________________________________\n",
    "\n",
    "\n",
    "\n",
    "\"\"\"\n"
   ]
  },
  {
   "cell_type": "code",
   "execution_count": 3,
   "metadata": {},
   "outputs": [
    {
     "name": "stdout",
     "output_type": "stream",
     "text": [
      "3 <class 'int'>\n"
     ]
    }
   ],
   "source": [
    "a=np.random.randint(10)\n",
    "print(a,type(a))"
   ]
  },
  {
   "cell_type": "code",
   "execution_count": 4,
   "metadata": {},
   "outputs": [
    {
     "name": "stdout",
     "output_type": "stream",
     "text": [
      "[[27 12 14 29 27 24 20 10 27 21 21 18 19 21 17 23 21 19 11 14]\n",
      " [18 28 13 26 21 21 29 13 11 14 29 26 26 15 18 15 18 15 18 16]\n",
      " [23 16 28 13 12 27 21 26 27 22 20 15 24 17 26 24 13 23 29 19]\n",
      " [10 10 14 23 15 29 13 14 26 29 26 11 12 14 15 26 22 20 13 21]\n",
      " [26 15 28 26 12 25 14 14 17 19 25 12 27 21 29 16 14 13 16 10]\n",
      " [17 19 24 21 22 23 11 17 27 21 24 20 14 26 20 27 10 29 25 10]\n",
      " [29 17 24 19 25 13 29 18 10 23 29 24 23 22 12 11 26 16 20 26]\n",
      " [12 20 23 12 25 12 12 15 21 14 26 11 14 13 16 27 11 21 19 17]\n",
      " [23 26 20 15 12 16 11 27 20 25 18 14 12 19 16 12 15 20 28 21]\n",
      " [22 24 24 22 21 17 16 18 22 14 10 19 23 13 19 22 17 28 19 15]] <class 'numpy.ndarray'>\n"
     ]
    }
   ],
   "source": [
    "a=np.random.randint(10,30,size=(10,20))\n",
    "print(a,type(a))"
   ]
  },
  {
   "cell_type": "code",
   "execution_count": 5,
   "metadata": {},
   "outputs": [
    {
     "name": "stdout",
     "output_type": "stream",
     "text": [
      "[[[24 25 24]\n",
      "  [24 26 16]\n",
      "  [18 24 14]]\n",
      "\n",
      " [[18 13 18]\n",
      "  [25 19 22]\n",
      "  [16 11 17]]\n",
      "\n",
      " [[12 25 15]\n",
      "  [22 22 27]\n",
      "  [22 27 18]]] <class 'numpy.ndarray'>\n"
     ]
    }
   ],
   "source": [
    "a=np.random.randint(10,30,size=(3,3,3))\n",
    "print(a,type(a))"
   ]
  },
  {
   "cell_type": "code",
   "execution_count": 6,
   "metadata": {},
   "outputs": [
    {
     "name": "stdout",
     "output_type": "stream",
     "text": [
      "[[[[18 11]\n",
      "   [16 17]]\n",
      "\n",
      "  [[16 13]\n",
      "   [16 25]]]\n",
      "\n",
      "\n",
      " [[[18 29]\n",
      "   [22 26]]\n",
      "\n",
      "  [[16 18]\n",
      "   [27 26]]]] <class 'numpy.ndarray'>\n"
     ]
    }
   ],
   "source": [
    "a=np.random.randint(10,30,size=(2,2,2,2))\n",
    "print(a,type(a))"
   ]
  },
  {
   "cell_type": "code",
   "execution_count": 8,
   "metadata": {},
   "outputs": [],
   "source": [
    "# multi dimension array are used in image processing"
   ]
  },
  {
   "cell_type": "code",
   "execution_count": 9,
   "metadata": {},
   "outputs": [
    {
     "ename": "TypeError",
     "evalue": "Unsupported dtype dtype('float64') for randint",
     "output_type": "error",
     "traceback": [
      "\u001b[1;31m---------------------------------------------------------------------------\u001b[0m",
      "\u001b[1;31mTypeError\u001b[0m                                 Traceback (most recent call last)",
      "Cell \u001b[1;32mIn[9], line 1\u001b[0m\n\u001b[1;32m----> 1\u001b[0m a\u001b[38;5;241m=\u001b[39m\u001b[43mnp\u001b[49m\u001b[38;5;241;43m.\u001b[39;49m\u001b[43mrandom\u001b[49m\u001b[38;5;241;43m.\u001b[39;49m\u001b[43mrandint\u001b[49m\u001b[43m(\u001b[49m\u001b[38;5;241;43m10\u001b[39;49m\u001b[43m,\u001b[49m\u001b[38;5;241;43m30\u001b[39;49m\u001b[43m,\u001b[49m\u001b[43mdtype\u001b[49m\u001b[38;5;241;43m=\u001b[39;49m\u001b[38;5;28;43mfloat\u001b[39;49m\u001b[43m)\u001b[49m\n\u001b[0;32m      2\u001b[0m \u001b[38;5;28mprint\u001b[39m(a,\u001b[38;5;28mtype\u001b[39m(a))\n",
      "File \u001b[1;32mnumpy\\\\random\\\\mtrand.pyx:812\u001b[0m, in \u001b[0;36mnumpy.random.mtrand.RandomState.randint\u001b[1;34m()\u001b[0m\n",
      "\u001b[1;31mTypeError\u001b[0m: Unsupported dtype dtype('float64') for randint"
     ]
    }
   ],
   "source": [
    "a=np.random.randint(10,30,dtype=float)\n",
    "print(a,type(a))"
   ]
  },
  {
   "cell_type": "code",
   "execution_count": null,
   "metadata": {},
   "outputs": [],
   "source": [
    "# rand()---> generating random integer values between 0.0 and 1.0\n",
    "\n",
    "\"\"\"  \n",
    "\n",
    "\"\"\"\n",
    "# randn()---> generating random integer values between 0.0 and 1.0 (normal distribution)\n",
    "\"\"\"  \n",
    "\n",
    "\"\"\"\n"
   ]
  },
  {
   "cell_type": "code",
   "execution_count": 10,
   "metadata": {},
   "outputs": [
    {
     "name": "stdout",
     "output_type": "stream",
     "text": [
      "[[[[1.51524085 1.62183213 1.51084612]\n",
      "   [1.68438233 1.70425405 2.12406422]\n",
      "   [1.92161536 1.9718088  2.35204423]]\n",
      "\n",
      "  [[1.98035264 2.62856018 2.25429841]\n",
      "   [1.53667093 1.80676093 2.13584791]\n",
      "   [2.8655215  2.53154155 2.10290377]]\n",
      "\n",
      "  [[2.05646795 2.79958348 2.40566808]\n",
      "   [2.26299241 2.50916316 2.57953147]\n",
      "   [2.2296586  2.19497578 2.5152095 ]]]\n",
      "\n",
      "\n",
      " [[[2.4244942  2.13137871 1.80320333]\n",
      "   [2.82520299 2.73170503 2.85697163]\n",
      "   [2.72503967 1.9100031  2.0551468 ]]\n",
      "\n",
      "  [[2.47494401 2.50595435 2.28944074]\n",
      "   [1.99687535 1.81505567 2.73214266]\n",
      "   [2.07091375 2.14405594 2.57120746]]\n",
      "\n",
      "  [[2.73581673 1.88910781 2.7557907 ]\n",
      "   [2.2287992  2.6508615  2.42922012]\n",
      "   [1.99391818 1.75682761 2.44062949]]]] <class 'numpy.ndarray'>\n",
      "dimension 4\n",
      "shape (2, 3, 3, 3)\n",
      "size 54\n",
      "dtype float64\n"
     ]
    }
   ],
   "source": [
    "a=np.random.uniform(1.5,2.9,size=(2,3,3,3))\n",
    "print(a,type(a))\n",
    "print(\"dimension\",a.ndim)\n",
    "print(\"shape\",a.shape)\n",
    "print(\"size\",a.size)\n",
    "print(\"dtype\",a.dtype)"
   ]
  },
  {
   "cell_type": "code",
   "execution_count": null,
   "metadata": {},
   "outputs": [],
   "source": []
  },
  {
   "cell_type": "code",
   "execution_count": null,
   "metadata": {},
   "outputs": [],
   "source": []
  },
  {
   "cell_type": "code",
   "execution_count": null,
   "metadata": {},
   "outputs": [],
   "source": []
  },
  {
   "cell_type": "code",
   "execution_count": null,
   "metadata": {},
   "outputs": [],
   "source": []
  },
  {
   "cell_type": "code",
   "execution_count": null,
   "metadata": {},
   "outputs": [],
   "source": []
  },
  {
   "cell_type": "code",
   "execution_count": null,
   "metadata": {},
   "outputs": [],
   "source": []
  },
  {
   "cell_type": "code",
   "execution_count": null,
   "metadata": {},
   "outputs": [],
   "source": []
  },
  {
   "cell_type": "code",
   "execution_count": null,
   "metadata": {},
   "outputs": [],
   "source": []
  },
  {
   "cell_type": "code",
   "execution_count": null,
   "metadata": {},
   "outputs": [],
   "source": []
  },
  {
   "cell_type": "code",
   "execution_count": null,
   "metadata": {},
   "outputs": [],
   "source": []
  },
  {
   "cell_type": "code",
   "execution_count": null,
   "metadata": {},
   "outputs": [],
   "source": []
  },
  {
   "cell_type": "code",
   "execution_count": null,
   "metadata": {},
   "outputs": [],
   "source": []
  },
  {
   "cell_type": "code",
   "execution_count": null,
   "metadata": {},
   "outputs": [],
   "source": []
  },
  {
   "cell_type": "code",
   "execution_count": null,
   "metadata": {},
   "outputs": [],
   "source": []
  },
  {
   "cell_type": "code",
   "execution_count": null,
   "metadata": {},
   "outputs": [],
   "source": []
  },
  {
   "cell_type": "code",
   "execution_count": null,
   "metadata": {},
   "outputs": [],
   "source": []
  },
  {
   "cell_type": "code",
   "execution_count": null,
   "metadata": {},
   "outputs": [],
   "source": []
  },
  {
   "cell_type": "code",
   "execution_count": null,
   "metadata": {},
   "outputs": [],
   "source": []
  },
  {
   "cell_type": "code",
   "execution_count": null,
   "metadata": {},
   "outputs": [],
   "source": []
  },
  {
   "cell_type": "code",
   "execution_count": null,
   "metadata": {},
   "outputs": [],
   "source": []
  },
  {
   "cell_type": "code",
   "execution_count": null,
   "metadata": {},
   "outputs": [],
   "source": []
  },
  {
   "cell_type": "code",
   "execution_count": null,
   "metadata": {},
   "outputs": [],
   "source": []
  },
  {
   "cell_type": "code",
   "execution_count": null,
   "metadata": {},
   "outputs": [],
   "source": []
  },
  {
   "cell_type": "code",
   "execution_count": null,
   "metadata": {},
   "outputs": [],
   "source": []
  },
  {
   "cell_type": "code",
   "execution_count": null,
   "metadata": {},
   "outputs": [],
   "source": []
  },
  {
   "cell_type": "code",
   "execution_count": null,
   "metadata": {},
   "outputs": [],
   "source": []
  },
  {
   "cell_type": "code",
   "execution_count": null,
   "metadata": {},
   "outputs": [],
   "source": []
  },
  {
   "cell_type": "code",
   "execution_count": null,
   "metadata": {},
   "outputs": [],
   "source": []
  },
  {
   "cell_type": "code",
   "execution_count": null,
   "metadata": {},
   "outputs": [],
   "source": []
  },
  {
   "cell_type": "code",
   "execution_count": null,
   "metadata": {},
   "outputs": [],
   "source": []
  },
  {
   "cell_type": "code",
   "execution_count": null,
   "metadata": {},
   "outputs": [],
   "source": []
  },
  {
   "cell_type": "code",
   "execution_count": null,
   "metadata": {},
   "outputs": [],
   "source": []
  },
  {
   "cell_type": "code",
   "execution_count": null,
   "metadata": {},
   "outputs": [],
   "source": []
  },
  {
   "cell_type": "code",
   "execution_count": null,
   "metadata": {},
   "outputs": [],
   "source": []
  },
  {
   "cell_type": "code",
   "execution_count": null,
   "metadata": {},
   "outputs": [],
   "source": []
  },
  {
   "cell_type": "code",
   "execution_count": null,
   "metadata": {},
   "outputs": [],
   "source": []
  },
  {
   "cell_type": "code",
   "execution_count": null,
   "metadata": {},
   "outputs": [],
   "source": []
  },
  {
   "cell_type": "code",
   "execution_count": null,
   "metadata": {},
   "outputs": [],
   "source": []
  },
  {
   "cell_type": "code",
   "execution_count": null,
   "metadata": {},
   "outputs": [],
   "source": []
  },
  {
   "cell_type": "code",
   "execution_count": null,
   "metadata": {},
   "outputs": [],
   "source": []
  },
  {
   "cell_type": "code",
   "execution_count": null,
   "metadata": {},
   "outputs": [],
   "source": []
  },
  {
   "cell_type": "code",
   "execution_count": null,
   "metadata": {},
   "outputs": [],
   "source": []
  },
  {
   "cell_type": "code",
   "execution_count": null,
   "metadata": {},
   "outputs": [],
   "source": []
  },
  {
   "cell_type": "code",
   "execution_count": null,
   "metadata": {},
   "outputs": [],
   "source": []
  },
  {
   "cell_type": "code",
   "execution_count": null,
   "metadata": {},
   "outputs": [],
   "source": []
  },
  {
   "cell_type": "code",
   "execution_count": null,
   "metadata": {},
   "outputs": [],
   "source": []
  },
  {
   "cell_type": "code",
   "execution_count": null,
   "metadata": {},
   "outputs": [],
   "source": []
  },
  {
   "cell_type": "code",
   "execution_count": null,
   "metadata": {},
   "outputs": [],
   "source": []
  },
  {
   "cell_type": "code",
   "execution_count": null,
   "metadata": {},
   "outputs": [],
   "source": []
  },
  {
   "cell_type": "code",
   "execution_count": null,
   "metadata": {},
   "outputs": [],
   "source": []
  },
  {
   "cell_type": "code",
   "execution_count": null,
   "metadata": {},
   "outputs": [],
   "source": []
  },
  {
   "cell_type": "code",
   "execution_count": null,
   "metadata": {},
   "outputs": [],
   "source": []
  },
  {
   "cell_type": "code",
   "execution_count": null,
   "metadata": {},
   "outputs": [],
   "source": []
  },
  {
   "cell_type": "code",
   "execution_count": null,
   "metadata": {},
   "outputs": [],
   "source": []
  },
  {
   "cell_type": "code",
   "execution_count": null,
   "metadata": {},
   "outputs": [],
   "source": []
  },
  {
   "cell_type": "code",
   "execution_count": null,
   "metadata": {},
   "outputs": [],
   "source": []
  },
  {
   "cell_type": "code",
   "execution_count": null,
   "metadata": {},
   "outputs": [],
   "source": []
  },
  {
   "cell_type": "code",
   "execution_count": null,
   "metadata": {},
   "outputs": [],
   "source": []
  },
  {
   "cell_type": "code",
   "execution_count": null,
   "metadata": {},
   "outputs": [],
   "source": []
  },
  {
   "cell_type": "code",
   "execution_count": null,
   "metadata": {},
   "outputs": [],
   "source": []
  },
  {
   "cell_type": "code",
   "execution_count": null,
   "metadata": {},
   "outputs": [],
   "source": []
  }
 ],
 "metadata": {
  "kernelspec": {
   "display_name": "Python 3",
   "language": "python",
   "name": "python3"
  },
  "language_info": {
   "codemirror_mode": {
    "name": "ipython",
    "version": 3
   },
   "file_extension": ".py",
   "mimetype": "text/x-python",
   "name": "python",
   "nbconvert_exporter": "python",
   "pygments_lexer": "ipython3",
   "version": "3.13.1"
  }
 },
 "nbformat": 4,
 "nbformat_minor": 2
}
