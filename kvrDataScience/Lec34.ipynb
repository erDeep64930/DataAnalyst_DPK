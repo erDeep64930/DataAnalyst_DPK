{
 "cells": [
  {
   "cell_type": "code",
   "execution_count": 12,
   "metadata": {},
   "outputs": [],
   "source": [
    "import pandas as pd\n",
    "import numpy as np\n"
   ]
  },
  {
   "cell_type": "code",
   "execution_count": 13,
   "metadata": {},
   "outputs": [
    {
     "name": "stdout",
     "output_type": "stream",
     "text": [
      "     id        name        city designation\n",
      "0    10      dhurvi       delhi          tl\n",
      "1    20        itty       delhi          se\n",
      "2    30      deepak      mumbai          se\n",
      "3    40        dori      mumbai          pm\n",
      "4    50      lovely        pune          hr\n",
      "5    60     pragati        pune          hr\n",
      "6    70      shayam        pune          tl\n",
      "7    80     sandeep      ranchi          pm\n",
      "8    90    sangeeta    kolkatta          hr\n",
      "9   100        usha        pune          se\n",
      "10  110     mahadeo      orrisa          tl\n",
      "11  120        prem     chennai          tl\n",
      "12  130       bablu     haryana          se\n",
      "13  140      harish  chandigarh          se\n",
      "14  150     harshit   ludhiyana          pm\n",
      "15  160       anand    amritsar          hr\n",
      "16  170     rishita       patna          hr\n",
      "17  180     parwati     guahati          tl\n",
      "18  190     jagdish     chennai          pm\n",
      "19  200       karan    kolkatta          hr\n",
      "20  210       sanoj      orrisa          se\n",
      "21  220    anushkha     chennai          tl\n",
      "22  230   daleshwar     haryana          tl\n",
      "23  240      kishor  chandigarh          se\n",
      "24  250       horil   ludhiyana          se\n",
      "25  260      rajesh    amritsar          pm\n",
      "26  270     chander       patna          hr\n",
      "27  280       badri     guahati          hr\n",
      "28  290  parmeshwar     chennai          tl\n",
      "29  300        ramu    kolkatta          pm\n",
      "30  310    mahendra       delhi          hr\n",
      "31  320     jagdish      mumbai          se\n",
      "32  330    ramapati    banglore          tl\n"
     ]
    }
   ],
   "source": [
    "d={\"id\":[10,20,30,40,50,60,70,80,90,100,110,120,130,140,150,160,170,180,190,200,210,220,230,240,250,260,270,280,290,300,310,320,330],\"name\":[\"dhurvi\",\"itty\",\"deepak\",\"dori\",\"lovely\",\"pragati\",\"shayam\",\"sandeep\",\"sangeeta\",\"usha\",\"mahadeo\",\"prem\",\"bablu\",\"harish\",\"harshit\",\"anand\",\"rishita\",\"parwati\",\"jagdish\",\"karan\",\"sanoj\",\"anushkha\",\"daleshwar\",\"kishor\",\"horil\",\"rajesh\",\"chander\",\"badri\",\"parmeshwar\",\"ramu\",\"mahendra\",\"jagdish\",\"ramapati\"],\"city\":[\"delhi\",\"delhi\",\"mumbai\",\"mumbai\",\"pune\",\"pune\",\"pune\",\"ranchi\",\"kolkatta\",\"pune\",\"orrisa\",\"chennai\",\"haryana\",\"chandigarh\",\"ludhiyana\",\"amritsar\",\"patna\",\"guahati\",\"chennai\",\"kolkatta\",\"orrisa\",\"chennai\",\"haryana\",\"chandigarh\",\"ludhiyana\",\"amritsar\",\"patna\",\"guahati\",\"chennai\",\"kolkatta\",\"delhi\",\"mumbai\",\"banglore\"],\"designation\":[\"tl\",\"se\",\"se\",\"pm\",\"hr\",\"hr\",\"tl\",\"pm\",\"hr\",\"se\",\"tl\",\"tl\",\"se\",\"se\",\"pm\",\"hr\",\"hr\",\"tl\",\"pm\",\"hr\",\"se\",\"tl\",\"tl\",\"se\",\"se\",\"pm\",\"hr\",\"hr\",\"tl\",\"pm\",\"hr\",\"se\",\"tl\"]}\n",
    "\n",
    "df=pd.DataFrame(d)\n",
    "print(df)\n",
    "df.to_csv(\"D:\\\\clone\\\\DataAnalyst_DPK\\\\files\\\\workingPeople.csv\")"
   ]
  },
  {
   "cell_type": "code",
   "execution_count": 14,
   "metadata": {},
   "outputs": [
    {
     "name": "stdout",
     "output_type": "stream",
     "text": [
      "(0, id                 10\n",
      "name           dhurvi\n",
      "city            delhi\n",
      "designation        tl\n",
      "Name: 0, dtype: object)\n",
      "(1, id                20\n",
      "name            itty\n",
      "city           delhi\n",
      "designation       se\n",
      "Name: 1, dtype: object)\n",
      "(2, id                 30\n",
      "name           deepak\n",
      "city           mumbai\n",
      "designation        se\n",
      "Name: 2, dtype: object)\n",
      "(3, id                 40\n",
      "name             dori\n",
      "city           mumbai\n",
      "designation        pm\n",
      "Name: 3, dtype: object)\n",
      "(4, id                 50\n",
      "name           lovely\n",
      "city             pune\n",
      "designation        hr\n",
      "Name: 4, dtype: object)\n",
      "(5, id                  60\n",
      "name           pragati\n",
      "city              pune\n",
      "designation         hr\n",
      "Name: 5, dtype: object)\n",
      "(6, id                 70\n",
      "name           shayam\n",
      "city             pune\n",
      "designation        tl\n",
      "Name: 6, dtype: object)\n",
      "(7, id                  80\n",
      "name           sandeep\n",
      "city            ranchi\n",
      "designation         pm\n",
      "Name: 7, dtype: object)\n",
      "(8, id                   90\n",
      "name           sangeeta\n",
      "city           kolkatta\n",
      "designation          hr\n",
      "Name: 8, dtype: object)\n",
      "(9, id              100\n",
      "name           usha\n",
      "city           pune\n",
      "designation      se\n",
      "Name: 9, dtype: object)\n",
      "(10, id                 110\n",
      "name           mahadeo\n",
      "city            orrisa\n",
      "designation         tl\n",
      "Name: 10, dtype: object)\n",
      "(11, id                 120\n",
      "name              prem\n",
      "city           chennai\n",
      "designation         tl\n",
      "Name: 11, dtype: object)\n",
      "(12, id                 130\n",
      "name             bablu\n",
      "city           haryana\n",
      "designation         se\n",
      "Name: 12, dtype: object)\n",
      "(13, id                    140\n",
      "name               harish\n",
      "city           chandigarh\n",
      "designation            se\n",
      "Name: 13, dtype: object)\n",
      "(14, id                   150\n",
      "name             harshit\n",
      "city           ludhiyana\n",
      "designation           pm\n",
      "Name: 14, dtype: object)\n",
      "(15, id                  160\n",
      "name              anand\n",
      "city           amritsar\n",
      "designation          hr\n",
      "Name: 15, dtype: object)\n",
      "(16, id                 170\n",
      "name           rishita\n",
      "city             patna\n",
      "designation         hr\n",
      "Name: 16, dtype: object)\n",
      "(17, id                 180\n",
      "name           parwati\n",
      "city           guahati\n",
      "designation         tl\n",
      "Name: 17, dtype: object)\n",
      "(18, id                 190\n",
      "name           jagdish\n",
      "city           chennai\n",
      "designation         pm\n",
      "Name: 18, dtype: object)\n",
      "(19, id                  200\n",
      "name              karan\n",
      "city           kolkatta\n",
      "designation          hr\n",
      "Name: 19, dtype: object)\n",
      "(20, id                210\n",
      "name            sanoj\n",
      "city           orrisa\n",
      "designation        se\n",
      "Name: 20, dtype: object)\n",
      "(21, id                  220\n",
      "name           anushkha\n",
      "city            chennai\n",
      "designation          tl\n",
      "Name: 21, dtype: object)\n",
      "(22, id                   230\n",
      "name           daleshwar\n",
      "city             haryana\n",
      "designation           tl\n",
      "Name: 22, dtype: object)\n",
      "(23, id                    240\n",
      "name               kishor\n",
      "city           chandigarh\n",
      "designation            se\n",
      "Name: 23, dtype: object)\n",
      "(24, id                   250\n",
      "name               horil\n",
      "city           ludhiyana\n",
      "designation           se\n",
      "Name: 24, dtype: object)\n",
      "(25, id                  260\n",
      "name             rajesh\n",
      "city           amritsar\n",
      "designation          pm\n",
      "Name: 25, dtype: object)\n",
      "(26, id                 270\n",
      "name           chander\n",
      "city             patna\n",
      "designation         hr\n",
      "Name: 26, dtype: object)\n",
      "(27, id                 280\n",
      "name             badri\n",
      "city           guahati\n",
      "designation         hr\n",
      "Name: 27, dtype: object)\n",
      "(28, id                    290\n",
      "name           parmeshwar\n",
      "city              chennai\n",
      "designation            tl\n",
      "Name: 28, dtype: object)\n",
      "(29, id                  300\n",
      "name               ramu\n",
      "city           kolkatta\n",
      "designation          pm\n",
      "Name: 29, dtype: object)\n",
      "(30, id                  310\n",
      "name           mahendra\n",
      "city              delhi\n",
      "designation          hr\n",
      "Name: 30, dtype: object)\n",
      "(31, id                 320\n",
      "name           jagdish\n",
      "city            mumbai\n",
      "designation         se\n",
      "Name: 31, dtype: object)\n",
      "(32, id                  330\n",
      "name           ramapati\n",
      "city           banglore\n",
      "designation          tl\n",
      "Name: 32, dtype: object)\n"
     ]
    }
   ],
   "source": [
    "for record in df.iterrows():\n",
    "    print(record)"
   ]
  },
  {
   "cell_type": "code",
   "execution_count": 15,
   "metadata": {},
   "outputs": [
    {
     "name": "stdout",
     "output_type": "stream",
     "text": [
      "     id        name        city designation\n",
      "0    10      dhurvi       delhi          tl\n",
      "1    20        itty       delhi          se\n",
      "2    30      deepak      mumbai          se\n",
      "3    40        dori      mumbai          pm\n",
      "4    50      lovely        pune          hr\n",
      "5    60     pragati        pune          hr\n",
      "6    70      shayam        pune          tl\n",
      "7    80     sandeep      ranchi          pm\n",
      "8    90    sangeeta    kolkatta          hr\n",
      "9   100        usha        pune          se\n",
      "10  110     mahadeo      orrisa          tl\n",
      "11  120        prem     chennai          tl\n",
      "12  130       bablu     haryana          se\n",
      "13  140      harish  chandigarh          se\n",
      "14  150     harshit   ludhiyana          pm\n",
      "15  160       anand    amritsar          hr\n",
      "16  170     rishita       patna          hr\n",
      "17  180     parwati     guahati          tl\n",
      "18  190     jagdish     chennai          pm\n",
      "19  200       karan    kolkatta          hr\n",
      "20  210       sanoj      orrisa          se\n",
      "21  220    anushkha     chennai          tl\n",
      "22  230   daleshwar     haryana          tl\n",
      "23  240      kishor  chandigarh          se\n",
      "24  250       horil   ludhiyana          se\n",
      "25  260      rajesh    amritsar          pm\n",
      "26  270     chander       patna          hr\n",
      "27  280       badri     guahati          hr\n",
      "28  290  parmeshwar     chennai          tl\n",
      "29  300        ramu    kolkatta          pm\n",
      "30  310    mahendra       delhi          hr\n",
      "31  320     jagdish      mumbai          se\n",
      "32  330    ramapati    banglore          tl\n"
     ]
    }
   ],
   "source": [
    "print(df)"
   ]
  },
  {
   "cell_type": "code",
   "execution_count": 16,
   "metadata": {},
   "outputs": [
    {
     "data": {
      "text/plain": [
       "(33, 4)"
      ]
     },
     "execution_count": 16,
     "metadata": {},
     "output_type": "execute_result"
    }
   ],
   "source": [
    "# based on index\n",
    "df.shape"
   ]
  },
  {
   "cell_type": "code",
   "execution_count": 17,
   "metadata": {},
   "outputs": [
    {
     "name": "stdout",
     "output_type": "stream",
     "text": [
      "number of rows= 33\n"
     ]
    }
   ],
   "source": [
    "print(\"number of rows=\",df.shape[0])"
   ]
  },
  {
   "cell_type": "code",
   "execution_count": 18,
   "metadata": {},
   "outputs": [
    {
     "name": "stdout",
     "output_type": "stream",
     "text": [
      "0      10\n",
      "1      20\n",
      "2      30\n",
      "3      40\n",
      "4      50\n",
      "5      60\n",
      "6      70\n",
      "7      80\n",
      "8      90\n",
      "9     100\n",
      "10    110\n",
      "11    120\n",
      "12    130\n",
      "13    140\n",
      "14    150\n",
      "15    160\n",
      "16    170\n",
      "17    180\n",
      "18    190\n",
      "19    200\n",
      "20    210\n",
      "21    220\n",
      "22    230\n",
      "23    240\n",
      "24    250\n",
      "25    260\n",
      "26    270\n",
      "27    280\n",
      "28    290\n",
      "29    300\n",
      "30    310\n",
      "31    320\n",
      "32    330\n",
      "Name: id, dtype: int64\n",
      "____________________\n",
      "0         dhurvi\n",
      "1           itty\n",
      "2         deepak\n",
      "3           dori\n",
      "4         lovely\n",
      "5        pragati\n",
      "6         shayam\n",
      "7        sandeep\n",
      "8       sangeeta\n",
      "9           usha\n",
      "10       mahadeo\n",
      "11          prem\n",
      "12         bablu\n",
      "13        harish\n",
      "14       harshit\n",
      "15         anand\n",
      "16       rishita\n",
      "17       parwati\n",
      "18       jagdish\n",
      "19         karan\n",
      "20         sanoj\n",
      "21      anushkha\n",
      "22     daleshwar\n",
      "23        kishor\n",
      "24         horil\n",
      "25        rajesh\n",
      "26       chander\n",
      "27         badri\n",
      "28    parmeshwar\n",
      "29          ramu\n",
      "30      mahendra\n",
      "31       jagdish\n",
      "32      ramapati\n",
      "Name: name, dtype: object\n",
      "____________________\n",
      "0          delhi\n",
      "1          delhi\n",
      "2         mumbai\n",
      "3         mumbai\n",
      "4           pune\n",
      "5           pune\n",
      "6           pune\n",
      "7         ranchi\n",
      "8       kolkatta\n",
      "9           pune\n",
      "10        orrisa\n",
      "11       chennai\n",
      "12       haryana\n",
      "13    chandigarh\n",
      "14     ludhiyana\n",
      "15      amritsar\n",
      "16         patna\n",
      "17       guahati\n",
      "18       chennai\n",
      "19      kolkatta\n",
      "20        orrisa\n",
      "21       chennai\n",
      "22       haryana\n",
      "23    chandigarh\n",
      "24     ludhiyana\n",
      "25      amritsar\n",
      "26         patna\n",
      "27       guahati\n",
      "28       chennai\n",
      "29      kolkatta\n",
      "30         delhi\n",
      "31        mumbai\n",
      "32      banglore\n",
      "Name: city, dtype: object\n",
      "____________________\n",
      "0     tl\n",
      "1     se\n",
      "2     se\n",
      "3     pm\n",
      "4     hr\n",
      "5     hr\n",
      "6     tl\n",
      "7     pm\n",
      "8     hr\n",
      "9     se\n",
      "10    tl\n",
      "11    tl\n",
      "12    se\n",
      "13    se\n",
      "14    pm\n",
      "15    hr\n",
      "16    hr\n",
      "17    tl\n",
      "18    pm\n",
      "19    hr\n",
      "20    se\n",
      "21    tl\n",
      "22    tl\n",
      "23    se\n",
      "24    se\n",
      "25    pm\n",
      "26    hr\n",
      "27    hr\n",
      "28    tl\n",
      "29    pm\n",
      "30    hr\n",
      "31    se\n",
      "32    tl\n",
      "Name: designation, dtype: object\n",
      "____________________\n"
     ]
    }
   ],
   "source": [
    "# for columns\n",
    "for i in range(df.shape[1]):\n",
    "    print(df.iloc[:,i])\n",
    "    print(\"____________________\")"
   ]
  },
  {
   "cell_type": "code",
   "execution_count": 19,
   "metadata": {},
   "outputs": [
    {
     "data": {
      "text/plain": [
       "Index(['id', 'name', 'city', 'designation'], dtype='object')"
      ]
     },
     "execution_count": 19,
     "metadata": {},
     "output_type": "execute_result"
    }
   ],
   "source": [
    "df.columns"
   ]
  },
  {
   "cell_type": "code",
   "execution_count": 20,
   "metadata": {},
   "outputs": [
    {
     "data": {
      "text/plain": [
       "Index(['designation', 'city', 'name', 'id'], dtype='object')"
      ]
     },
     "execution_count": 20,
     "metadata": {},
     "output_type": "execute_result"
    }
   ],
   "source": [
    "df.columns[::-1]"
   ]
  },
  {
   "cell_type": "markdown",
   "metadata": {},
   "source": [
    "# iterate the over rows and columns  of dataframe\n",
    "- 1. iterate over rows of dataframe by index labels\n",
    "- iterrows()\n",
    "- 2. iterate over rows of dataframe by index position\n",
    "- df.shape[0]\n",
    "- 3. iterate over rows of dataframe by columns names\n",
    "- df.columns\n",
    "- 4. iterate over rows of dataframe by columns numbers\n",
    "- df.shape[1]"
   ]
  },
  {
   "cell_type": "code",
   "execution_count": 21,
   "metadata": {},
   "outputs": [],
   "source": [
    "#for (index_label,index_series) in df.iterrows():\n",
    " #   print(index_label)\n",
    " #   print(index_series)\n",
    "#    print(\"____________________\")"
   ]
  },
  {
   "cell_type": "markdown",
   "metadata": {},
   "source": [
    "# ITERATE OVER SEQUENCE OF COLUMNS"
   ]
  },
  {
   "cell_type": "code",
   "execution_count": 22,
   "metadata": {},
   "outputs": [],
   "source": [
    "#df.columns\n",
    "# df.shape"
   ]
  },
  {
   "cell_type": "code",
   "execution_count": null,
   "metadata": {},
   "outputs": [],
   "source": [
    "# pandas merging dataframe\n",
    "# dfNew = pd.concat([firstDF,secondDF,thirdDF])\n",
    "# print(dfNew)\n",
    "# must have same number of columns"
   ]
  },
  {
   "cell_type": "code",
   "execution_count": 24,
   "metadata": {},
   "outputs": [],
   "source": [
    "# transpose dataframe\n",
    "# transposeData=df.T"
   ]
  },
  {
   "cell_type": "code",
   "execution_count": null,
   "metadata": {},
   "outputs": [],
   "source": []
  },
  {
   "cell_type": "code",
   "execution_count": null,
   "metadata": {},
   "outputs": [],
   "source": []
  },
  {
   "cell_type": "code",
   "execution_count": null,
   "metadata": {},
   "outputs": [],
   "source": []
  },
  {
   "cell_type": "code",
   "execution_count": null,
   "metadata": {},
   "outputs": [],
   "source": []
  },
  {
   "cell_type": "code",
   "execution_count": null,
   "metadata": {},
   "outputs": [],
   "source": []
  },
  {
   "cell_type": "code",
   "execution_count": null,
   "metadata": {},
   "outputs": [],
   "source": []
  },
  {
   "cell_type": "code",
   "execution_count": null,
   "metadata": {},
   "outputs": [],
   "source": []
  },
  {
   "cell_type": "code",
   "execution_count": null,
   "metadata": {},
   "outputs": [],
   "source": []
  },
  {
   "cell_type": "code",
   "execution_count": null,
   "metadata": {},
   "outputs": [],
   "source": []
  },
  {
   "cell_type": "code",
   "execution_count": null,
   "metadata": {},
   "outputs": [],
   "source": []
  },
  {
   "cell_type": "code",
   "execution_count": null,
   "metadata": {},
   "outputs": [],
   "source": []
  },
  {
   "cell_type": "code",
   "execution_count": null,
   "metadata": {},
   "outputs": [],
   "source": []
  },
  {
   "cell_type": "code",
   "execution_count": null,
   "metadata": {},
   "outputs": [],
   "source": []
  },
  {
   "cell_type": "code",
   "execution_count": null,
   "metadata": {},
   "outputs": [],
   "source": []
  },
  {
   "cell_type": "code",
   "execution_count": null,
   "metadata": {},
   "outputs": [],
   "source": []
  },
  {
   "cell_type": "code",
   "execution_count": null,
   "metadata": {},
   "outputs": [],
   "source": []
  },
  {
   "cell_type": "code",
   "execution_count": null,
   "metadata": {},
   "outputs": [],
   "source": []
  },
  {
   "cell_type": "code",
   "execution_count": null,
   "metadata": {},
   "outputs": [],
   "source": []
  },
  {
   "cell_type": "code",
   "execution_count": null,
   "metadata": {},
   "outputs": [],
   "source": []
  },
  {
   "cell_type": "code",
   "execution_count": null,
   "metadata": {},
   "outputs": [],
   "source": []
  },
  {
   "cell_type": "code",
   "execution_count": null,
   "metadata": {},
   "outputs": [],
   "source": []
  },
  {
   "cell_type": "code",
   "execution_count": null,
   "metadata": {},
   "outputs": [],
   "source": []
  },
  {
   "cell_type": "code",
   "execution_count": null,
   "metadata": {},
   "outputs": [],
   "source": []
  },
  {
   "cell_type": "code",
   "execution_count": null,
   "metadata": {},
   "outputs": [],
   "source": []
  }
 ],
 "metadata": {
  "kernelspec": {
   "display_name": "Python 3",
   "language": "python",
   "name": "python3"
  },
  "language_info": {
   "codemirror_mode": {
    "name": "ipython",
    "version": 3
   },
   "file_extension": ".py",
   "mimetype": "text/x-python",
   "name": "python",
   "nbconvert_exporter": "python",
   "pygments_lexer": "ipython3",
   "version": "3.13.1"
  }
 },
 "nbformat": 4,
 "nbformat_minor": 2
}
