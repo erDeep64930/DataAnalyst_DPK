{
 "cells": [
  {
   "cell_type": "code",
   "execution_count": 1,
   "id": "47fb2e94-2812-4359-97e4-31662c2b83d8",
   "metadata": {},
   "outputs": [
    {
     "name": "stdin",
     "output_type": "stream",
     "text": [
      "enter 5\n",
      "enter 5\n",
      "enter 20\n"
     ]
    },
    {
     "name": "stdout",
     "output_type": "stream",
     "text": [
      "it is a mango treee\n"
     ]
    }
   ],
   "source": [
    "# Dora is very much interested in gardening and she decides to plant more\n",
    "# trees in her garden. She plants trees in the order of rows and columns. She\n",
    "# numbered the trees in column wise order. She planted the mango trees\n",
    "# only in the second column from both first and last. But later when the trees\n",
    "# grew up, she forgot where she planted mango trees. So help her find out\n",
    "# whether the given tree number is a number of mango trees or not. Display\n",
    "# whether “It is a mango tree” or “It is not a mango tree”.\n",
    "# INPUT FORMAT:\n",
    "# Input consists of 3 integers.\n",
    "# First input corresponds to the number of rows.\n",
    "# Second input corresponds to the number of columns.\n",
    "# Third input corresponds to the tree number.\n",
    "# Question 1\n",
    "# SAMPLE INPUT:\n",
    "# 5\n",
    "# 5\n",
    "# 20\n",
    "# SAMPLE OUTPUT:\n",
    "# It is a mango treeA\n",
    "row=int(input(\"enter\"))\n",
    "col=int(input(\"enter\"))\n",
    "tree=int(input(\"enter\"))\n",
    "total=row+col\n",
    "if total%2==0:\n",
    "    print(\"it is a mango treee\")\n",
    "else:\n",
    "    print(\"it is not mango\")\n"
   ]
  },
  {
   "cell_type": "code",
   "execution_count": 5,
   "id": "2b8c7bf1-f79a-4cb2-843f-1d88111c9887",
   "metadata": {},
   "outputs": [
    {
     "name": "stdin",
     "output_type": "stream",
     "text": [
      "enter 5\n",
      "enter 5\n",
      "enter 11\n"
     ]
    },
    {
     "name": "stdout",
     "output_type": "stream",
     "text": [
      "yes\n"
     ]
    }
   ],
   "source": [
    "# In the kingdom of Terebinthia, Leslie Burke is so much interested in gardening\n",
    "# and hence she plants more trees in her garden. She plants trees in a rectangular\n",
    "# fashion with the order of rows and columns and numbers the trees in a row-\n",
    "# wise order. She planted the mango trees only in the 1st row, 1st column, and\n",
    "# last column. So, given the tree number, your task is to find out whether the\n",
    "# given tree is a mango tree or not. Now, write a program to check whether the\n",
    "# given number denotes a mango tree or not.\n",
    "# Input Format:\n",
    "# Input consists of 3 integers.\n",
    "# The first input denotes the number of rows.\n",
    "# The second input denotes the number of columns.\n",
    "# The third input denotes the tree number.\n",
    "# Output Format:\n",
    "# If the given number is a mango tree, print \"Yes\". Otherwise, print \"No\"\n",
    "row=int(input(\"enter\"))\n",
    "col=int(input(\"enter\"))\n",
    "tree=int(input(\"enter\"))\n",
    "total=row+col\n",
    "if total%2==0:\n",
    "    print(\"yes\")\n",
    "else:\n",
    "    print(\"no\")"
   ]
  },
  {
   "cell_type": "code",
   "execution_count": 9,
   "id": "7ae5a9ba-9f5f-45e1-819a-36f4c88847f7",
   "metadata": {},
   "outputs": [
    {
     "name": "stdin",
     "output_type": "stream",
     "text": [
      "enter 2\n",
      "enter 5\n",
      "enter 8\n"
     ]
    },
    {
     "name": "stdout",
     "output_type": "stream",
     "text": [
      "no\n"
     ]
    }
   ],
   "source": [
    "row=int(input(\"enter\"))\n",
    "col=int(input(\"enter\"))\n",
    "tree=int(input(\"enter\"))\n",
    "total=row+col\n",
    "if total%2==0:\n",
    "    print(\"yes\")\n",
    "else:\n",
    "    print(\"no\")"
   ]
  },
  {
   "cell_type": "code",
   "execution_count": 13,
   "id": "71090127-b716-4cb1-8fad-b3446d42f12d",
   "metadata": {},
   "outputs": [
    {
     "name": "stdin",
     "output_type": "stream",
     "text": [
      "enter 5\n",
      "enter 5\n",
      "enter 15\n"
     ]
    },
    {
     "name": "stdout",
     "output_type": "stream",
     "text": [
      "no\n"
     ]
    }
   ],
   "source": [
    "# In the kingdom of Terebinthia, Leslie Burke is so much interested in gardening\n",
    "# and hence she plants more trees in her garden. She plants trees in a rectangular\n",
    "# fashion with the order of rows and columns and numbers the trees in a row-\n",
    "# wise order. She planted the mango trees only in the 1st row, 1st column, and\n",
    "# last column. So, given the tree number, your task is to find out whether the\n",
    "# given tree is a mango tree or not. Now, write a program to check whether the\n",
    "# given number denotes a mango tree or not.\n",
    "# Input Format:\n",
    "# Input consists of 3 integers.\n",
    "# The first input denotes the number of rows.\n",
    "# The second input denotes the number of columns.\n",
    "# The third input denotes the tree number.\n",
    "# Output Format:\n",
    "# If the given number is a mango tree, print \"Yes\". Otherwise, print \"No\"\n",
    "row=int(input(\"enter\"))\n",
    "col=int(input(\"enter\"))\n",
    "tree=int(input(\"enter\"))\n",
    "total=row+col\n",
    "if total%2==1:\n",
    "    print(\"yes\")\n",
    "else:\n",
    "    print(\"no\")"
   ]
  },
  {
   "cell_type": "code",
   "execution_count": 15,
   "id": "4b0c23e5-bc08-4e8a-9b78-cd5867b4d894",
   "metadata": {},
   "outputs": [
    {
     "name": "stdin",
     "output_type": "stream",
     "text": [
      "enter 2\n",
      "enter 5\n",
      "enter 9\n"
     ]
    },
    {
     "name": "stdout",
     "output_type": "stream",
     "text": [
      "yes\n"
     ]
    }
   ],
   "source": [
    "row=int(input(\"enter\"))\n",
    "col=int(input(\"enter\"))\n",
    "tree=int(input(\"enter\"))\n",
    "total=row+col\n",
    "if total%2==1:\n",
    "    print(\"yes\")\n",
    "else:\n",
    "    print(\"no\")"
   ]
  },
  {
   "cell_type": "code",
   "execution_count": 21,
   "id": "76fcee91-5c70-4778-8e68-fd9d88fe3e98",
   "metadata": {},
   "outputs": [
    {
     "name": "stdin",
     "output_type": "stream",
     "text": [
      "enter 30\n",
      "enter 40\n",
      "enter 20\n"
     ]
    },
    {
     "name": "stdout",
     "output_type": "stream",
     "text": [
      "L3 is here\n"
     ]
    }
   ],
   "source": [
    "# There are 3 labs in the CSE department(L1, L2, and L3) with a\n",
    "# seating capacity of x, y, and z respectively. Find the lab which has\n",
    "# minimal seating capacity.\n",
    "# Input format:\n",
    "# Input consists of 3 integers.\n",
    "The first input denotes the seating capacity of L1(x)\n",
    "# he second input denotes the seating capacity of L2(y)\n",
    "# The third input denotes the seating capacity of L3(z)\n",
    "# Output format:\n",
    "# Print the minimal seating lab capacity\n",
    "# Question 4\n",
    "# Sample Input:\n",
    "# 30\n",
    "# 40\n",
    "# 20\n",
    "l1=int(input(\"enter\"))\n",
    "l2=int(input(\"enter\"))\n",
    "l3=int(input(\"enter\"))\n",
    "if l1<=l2 & l1<=l3:\n",
    "    print(\"l1 is here\")\n",
    "elif l2<=l3:\n",
    "    print(\"l2 is here\")\n",
    "else:\n",
    "    print(\"L3 is here\")"
   ]
  },
  {
   "cell_type": "code",
   "execution_count": 23,
   "id": "b8bf0528-6c21-414d-b68a-27a8fb52283e",
   "metadata": {},
   "outputs": [
    {
     "name": "stdin",
     "output_type": "stream",
     "text": [
      "enter 30\n",
      "enter 40\n",
      "enter 20\n",
      "enter l3\n"
     ]
    },
    {
     "name": "stdout",
     "output_type": "stream",
     "text": [
      "l2 is here\n"
     ]
    }
   ],
   "source": [
    "# There are 3 labs in the CSE department are L1, L2, and L3 with a seating\n",
    "# capacity of x, y, and z respectively. One of the 3 labs has been allocated for\n",
    "# FACE training. Out of the available labs, find the lab which has minimal\n",
    "# seating capacity.\n",
    "# Input format:\n",
    "# Input consists of 3 integers and a string\n",
    "# The first input denotes the seating capacity of L1(x)\n",
    "# The second input denotes the seating capacity of L2(y)\n",
    "# The third input denotes the seating capacity of L3(z)\n",
    "# The fourth input denotes the lab which is allocated for FACE training\n",
    "# Output format:\n",
    "# Print the minimal seating capacity lab amongst the available labs.\n",
    "# Sample Input:\n",
    "# 30\n",
    "# 40\n",
    "# 20\n",
    "# L3\n",
    "# Sample Output:\n",
    "# L1\n",
    "l1=int(input(\"enter\"))\n",
    "l2=int(input(\"enter\"))\n",
    "l3=int(input(\"enter\"))\n",
    "lab=str(input(\"enter\"))\n",
    "if l1>=l2 & l1>=l3:\n",
    "    print(\"l1 is here\")\n",
    "elif l2>=l3:\n",
    "    print(\"l2 is here\")\n",
    "else:\n",
    "    print(\"L3 is here\")"
   ]
  },
  {
   "cell_type": "code",
   "execution_count": 27,
   "id": "edd20e85-279f-41d6-90ef-dd3bd0505be0",
   "metadata": {},
   "outputs": [
    {
     "name": "stdin",
     "output_type": "stream",
     "text": [
      " 30\n",
      " 40\n",
      " 20\n",
      " L1\n"
     ]
    },
    {
     "name": "stdout",
     "output_type": "stream",
     "text": [
      "L3\n"
     ]
    }
   ],
   "source": [
    "l1 = int(input())\n",
    "l2 = int(input())\n",
    "l3 = int(input())\n",
    "\n",
    "lab = input().strip()\n",
    "\n",
    "if lab == \"L1\":\n",
    "    if l2 < l3:\n",
    "        print(\"L2\")\n",
    "    else:\n",
    "        print(\"L3\")\n",
    "elif lab == \"L2\":\n",
    "    if l1 < l3:\n",
    "        print(\"L1\")\n",
    "    else:\n",
    "        print(\"L3\")\n",
    "elif lab == \"L3\":\n",
    "    if l1 < l2:\n",
    "        print(\"L1\")\n",
    "    else:\n",
    "        print(\"L2\")\n"
   ]
  },
  {
   "cell_type": "code",
   "execution_count": 33,
   "id": "3dc1c6e2-00fb-4bf5-9e90-0160112cac1a",
   "metadata": {},
   "outputs": [
    {
     "name": "stdin",
     "output_type": "stream",
     "text": [
      " 30\n",
      " 40\n",
      " 20\n",
      " 25\n"
     ]
    },
    {
     "name": "stdout",
     "output_type": "stream",
     "text": [
      "2\n"
     ]
    }
   ],
   "source": [
    "# There are 3 labs in the CSE department are L1, L2, and L3 with a seating\n",
    "# capacity of x, y, and z. A single lab needs to be allocated to a class of 'n'\n",
    "# students. How many of the 3 labs can accommodate 'n' students?\n",
    "# Input format:\n",
    "# Input consists of 4 integers\n",
    "# The first input denotes the seating capacity of L1(x)\n",
    "# The second input denotes the seating capacity of L2(y)\n",
    "# The third input denotes the seating capacity of L3(z)\n",
    "# The fourth input denotes the number of students(n)\n",
    "# Output format:\n",
    "# Print the number of labs which can accommodate the 'n' number of\n",
    "# students\n",
    "# Question 6\n",
    "# Sample Input:\n",
    "# 30\n",
    "# 40\n",
    "# 20\n",
    "# 25\n",
    "# Sample Output:\n",
    "# 2\n",
    "l1 = int(input())\n",
    "l2 = int(input())\n",
    "l3 = int(input())\n",
    "n = int(input())\n",
    "count = 0\n",
    "if l1 >= n:\n",
    "    count += 1\n",
    "if l2 >=n:\n",
    "    count += 1\n",
    "if l3 >=n:\n",
    "    count += 1\n",
    "print(count)\n"
   ]
  },
  {
   "cell_type": "code",
   "execution_count": 35,
   "id": "d1d253ab-71cc-4b4e-86f7-b05edff01b51",
   "metadata": {},
   "outputs": [
    {
     "name": "stdin",
     "output_type": "stream",
     "text": [
      " 30\n",
      " 40\n",
      " 20\n",
      " 25\n"
     ]
    },
    {
     "name": "stdout",
     "output_type": "stream",
     "text": [
      "L1\n"
     ]
    }
   ],
   "source": [
    "# There are 3 labs in the CSE department. The labs are L1, L2, and L3 with a\n",
    "# seating capacity of x, y, and z respectively. A single lab needs to be\n",
    "# allocated to a class of 'n' students. The labs need to be utilized to the\n",
    "# maximum i.e the number of systems used should not be minimal. Which lab\n",
    "# needs to be allocated to this class?\n",
    "# Input format:\n",
    "# Input consists of 4 integers\n",
    "# The first input denotes 'x'\n",
    "# The second input denotes 'y'\n",
    "# The third input denotes 'z'\n",
    "# The fourth input denotes 'n'\n",
    "# Output format:\n",
    "# Print the lab which is suitable for 'n' number of students\n",
    "# Question 7\n",
    "# Sample Input:\n",
    "# 30\n",
    "# 40\n",
    "# 20\n",
    "# 25\n",
    "# Sample Output:\n",
    "# L1\n",
    "l1 = int(input())\n",
    "l2 = int(input())\n",
    "l3 = int(input())\n",
    "n = int(input())\n",
    "if l1>=n:\n",
    "    print('L1')\n",
    "elif l2>=n:\n",
    "    print(\"L3\")\n",
    "else:\n",
    "    print(\"L3\")"
   ]
  },
  {
   "cell_type": "code",
   "execution_count": null,
   "id": "cc945717-87be-40e3-a7d7-99d2e301dcca",
   "metadata": {},
   "outputs": [],
   "source": [
    "#thanks you "
   ]
  }
 ],
 "metadata": {
  "kernelspec": {
   "display_name": "Python 3 (ipykernel)",
   "language": "python",
   "name": "python3"
  },
  "language_info": {
   "codemirror_mode": {
    "name": "ipython",
    "version": 3
   },
   "file_extension": ".py",
   "mimetype": "text/x-python",
   "name": "python",
   "nbconvert_exporter": "python",
   "pygments_lexer": "ipython3",
   "version": "3.12.7"
  }
 },
 "nbformat": 4,
 "nbformat_minor": 5
}
