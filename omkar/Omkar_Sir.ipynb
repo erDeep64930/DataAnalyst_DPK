{
 "cells": [
  {
   "attachments": {},
   "cell_type": "markdown",
   "id": "57344fa8-644e-4f80-b2c9-0f722f87ae25",
   "metadata": {},
   "source": [
    "where Data science is used:-\n",
    "--------------------------------\n",
    "\n",
    "1. # Finace\n",
    "2.\n",
    "3. - loan prediction\n",
    "\n",
    "4. - stock market prediction\n",
    "\n",
    "5. - credit card usage\n",
    "\n",
    "6. # e-commerce\n",
    "7.\n",
    "8. -price tracking\n",
    "\n",
    "9. -recomendation\n",
    "\n",
    "10. -sentiment analysis\n",
    "\n",
    "11. # medical\n",
    "12.\n",
    "13. -pattern recognition of desease\n",
    "\n",
    "14. -efficacy of vaccination\n",
    "\n",
    "15. -blood group availability\n",
    "\n",
    "16. -chat boats\n",
    "\n",
    "17. # Automobile\n",
    "\n",
    "-self driving car \n",
    "\n",
    "-detection of parts\n",
    "\n",
    "-user manual analysis\n",
    "\n",
    "\n",
    "\n",
    "\n",
    "\n"
   ]
  },
  {
   "cell_type": "markdown",
   "id": "14345b15-1adf-420b-bfe6-0d0ad9cea582",
   "metadata": {},
   "source": [
    "# Education\n",
    "_______________________________________\n",
    "\n",
    "-pass % of student for next year\n",
    "\n",
    "-enrollment\n",
    "\n",
    "-prediction of avg salary\n",
    "\n",
    "-detect the face and the attendance\n",
    "\n",
    "# Agriculture\n",
    "__________________________\n",
    "\n",
    "-Seed suggestion\n",
    "\n",
    "-drone tech\n",
    "\n",
    "-rain prediction\n",
    "\n",
    "-seasonal crop analysis\n",
    "\n"
   ]
  },
  {
   "cell_type": "raw",
   "id": "2a571ff9-5b4e-4eca-b183-5f0e2d69cb2f",
   "metadata": {},
   "source": [
    "Pharma\n",
    "\n",
    "-drug accurate prediction\n",
    "\n",
    "-alternate drug suggestion\n",
    "\n",
    "-medical coding ====automated\n",
    "\n",
    "-side effects\n",
    "\n",
    "-bio war\n",
    "\n",
    "-cyber war\n",
    "\n",
    "-robo war\n",
    "\n"
   ]
  },
  {
   "cell_type": "markdown",
   "id": "2c192779-27cd-472d-aea4-f07b75d9594f",
   "metadata": {},
   "source": []
  },
  {
   "cell_type": "raw",
   "id": "15fe8394-9bf1-45d3-a9ac-8db3c33d6fe3",
   "metadata": {},
   "source": [
    "IT company:-\n",
    "\n",
    "-revenue prediction \n",
    "\n",
    "-churn prediction\n",
    "\n"
   ]
  },
  {
   "cell_type": "markdown",
   "id": "2d6fa70c-39c1-402d-b961-503e20f89969",
   "metadata": {},
   "source": [
    "#EDA : Exporatory data analysis\n",
    "\n",
    "-Numpy {numerical python}\n",
    "\n",
    "-Pandas {data base operation}\n",
    "\n",
    "-matplotlib {plotting}\n",
    "\n",
    "-seaborn {plotting}\n",
    "\n",
    "-bokhe {plotting}\n",
    "\n",
    "#Machine Learning :\n",
    "\n",
    "- Sickit-learn {skLearn} {python} = used by data scientist\n",
    "\n",
    "- MLlib - pyspark = used by data engineering\n",
    "\n",
    "- "
   ]
  },
  {
   "cell_type": "code",
   "execution_count": null,
   "id": "56c03083-f0f3-4775-9e77-8f3f8e862ceb",
   "metadata": {},
   "outputs": [],
   "source": [
    "#Deep Laerning\n",
    "\n",
    "-tensorflow {google}\n",
    "\n",
    "-keras {\n",
    "\n",
    "-pyTorch\n",
    "\n",
    "-openCV\n",
    "\n",
    "\n",
    "#NLP -Natural Language Toolkit\n",
    "\n",
    "-nltk\n",
    "\n",
    "-scipy\n",
    "\n",
    "#Bert model\n",
    "\n",
    "    -transformers\n",
    "\n",
    "    #Azure ml packages\n",
    "    #chat gpt packages\n",
    "    #open CV {computer vision}\n",
    "    #flask\n",
    "    #stremLit\n",
    "\n",
    "    DEEP LEARNING + NLP ==DATA SCIENCE {AI application}\n",
    "\n",
    "\n",
    "\n"
   ]
  },
  {
   "cell_type": "code",
   "execution_count": null,
   "id": "aef1d07a-3a85-485f-a3f2-a2d8ccabaa3b",
   "metadata": {},
   "outputs": [],
   "source": [
    "Q. what is package?\n",
    "\n",
    "-collection of function or method\n",
    "\n",
    "#step-1\n",
    "\n",
    "import <package_name>\n",
    "\n",
    "#step-2:\n",
    "\n",
    "dir(<package_name>)\n",
    "\n",
    "#step-3:\n",
    "\n",
    "help(<package_name>.<method>)\n"
   ]
  },
  {
   "cell_type": "code",
   "execution_count": null,
   "id": "941550c5-eb6a-46c0-951d-05d8360f6c2f",
   "metadata": {},
   "outputs": [],
   "source": [
    "Q. implement a code distance b/w two points\n",
    "\n",
    "[\"hyd\",\"chennai\",\"mumbai\"]\n",
    "\n",
    "Q. tell the max length word\n"
   ]
  },
  {
   "cell_type": "code",
   "execution_count": null,
   "id": "b8146e2b-34b2-411f-8175-f407c4161c15",
   "metadata": {},
   "outputs": [],
   "source": [
    "________________________LEC-8________________\n",
    "\n",
    "anaconda is in c drive so create folder in c drive only\n",
    "\n"
   ]
  },
  {
   "cell_type": "code",
   "execution_count": null,
   "id": "80559d3f-9f27-452f-964b-8465f3993077",
   "metadata": {},
   "outputs": [],
   "source": [
    "[1,100] === both 1 and 100 will include\n",
    "[1,100)====1 include but 100 not include\n",
    "(1,100]===1 is not included 100 is included\n",
    "(1,100)===both are not included\n"
   ]
  },
  {
   "cell_type": "code",
   "execution_count": 2,
   "id": "d500f959-5d0e-4b85-83ee-0953a8fc4d01",
   "metadata": {},
   "outputs": [
    {
     "data": {
      "text/plain": [
       "0.8939966636005579"
      ]
     },
     "execution_count": 2,
     "metadata": {},
     "output_type": "execute_result"
    }
   ],
   "source": [
    "import math\n",
    "math.sin(90)"
   ]
  },
  {
   "cell_type": "code",
   "execution_count": null,
   "id": "238b03bd-bb9d-454c-b690-d17173d4f219",
   "metadata": {},
   "outputs": [],
   "source": [
    "pip install opencv-python\n",
    "\n",
    "to anything install it in anaconda prompt\n",
    "\n",
    "\n",
    "or by \n",
    "    !pip install opencv-python\n",
    "    \"!\" before any any package\n",
    "    pip freeze\n",
    "\n",
    "- to check package install in anaconda\n",
    "\n"
   ]
  },
  {
   "cell_type": "code",
   "execution_count": null,
   "id": "cb80a971-23f0-4cec-9633-cfe00aeb1ced",
   "metadata": {},
   "outputs": [],
   "source": [
    "# python package:-\n",
    "\n",
    "EDA = [numpy, pandas, matplotlib]\n",
    "\n",
    "ML = [skylean=python, MLlib=pyspark]\n",
    "\n",
    "DL = [tensorflow,keras,pytorch,opencv]\n",
    "\n",
    "NLP = [nltk,scipy]\n",
    "\n",
    "\n"
   ]
  },
  {
   "cell_type": "code",
   "execution_count": null,
   "id": "1d2b0add-f705-46fd-b9c5-6216b5b85a2e",
   "metadata": {},
   "outputs": [],
   "source": [
    "# Varible:\n"
   ]
  },
  {
   "cell_type": "code",
   "execution_count": null,
   "id": "93081c10-87a5-4509-9023-b938fc482370",
   "metadata": {},
   "outputs": [],
   "source": [
    "- variable to store value\n"
   ]
  },
  {
   "cell_type": "code",
   "execution_count": 1,
   "id": "113dcb09-9406-4ed9-b9bd-791a81f207ce",
   "metadata": {},
   "outputs": [
    {
     "ename": "SyntaxError",
     "evalue": "invalid syntax (1327279582.py, line 1)",
     "output_type": "error",
     "traceback": [
      "\u001b[1;36m  Cell \u001b[1;32mIn[1], line 1\u001b[1;36m\u001b[0m\n\u001b[1;33m    num 90;\u001b[0m\n\u001b[1;37m        ^\u001b[0m\n\u001b[1;31mSyntaxError\u001b[0m\u001b[1;31m:\u001b[0m invalid syntax\n"
     ]
    }
   ],
   "source": [
    "num 90;\n",
    "num\n"
   ]
  },
  {
   "cell_type": "code",
   "execution_count": 2,
   "id": "f80827ed-79d1-4bc9-a589-58c62009e90e",
   "metadata": {},
   "outputs": [
    {
     "data": {
      "text/plain": [
       "90"
      ]
     },
     "execution_count": 2,
     "metadata": {},
     "output_type": "execute_result"
    }
   ],
   "source": [
    "num= 90;\n",
    "num"
   ]
  },
  {
   "cell_type": "raw",
   "id": "6e7ae43f-2c98-47c5-89d6-bdb7f5aca109",
   "metadata": {},
   "source": [
    "# level-1\n",
    "\n",
    "1.) Basic syntax\n",
    "2.)variable\n",
    "3.)python package inforation\n",
    "4.)basic python code \n",
    "5.)conditional statement\n",
    "6.)function\n",
    "7.)loop"
   ]
  },
  {
   "cell_type": "markdown",
   "id": "3fe8c8d6-8bd5-4fd0-a456-8b7c180fe844",
   "metadata": {},
   "source": [
    "# level-2\n",
    "\n",
    "string\n",
    "list\n",
    "dictionary\n",
    "tuple\n",
    "sets\n",
    "file handling session\n"
   ]
  },
  {
   "cell_type": "code",
   "execution_count": null,
   "id": "600534b0-e21c-4621-9802-2f63381324df",
   "metadata": {},
   "outputs": [],
   "source": [
    "#level-3 \n",
    "\n",
    "oops concept\n",
    "how to create own package\n",
    "flask apps\n"
   ]
  },
  {
   "cell_type": "markdown",
   "id": "71629b2c-be14-4bc2-bf16-cbda851948c8",
   "metadata": {},
   "source": [
    "# data type :-\n",
    "\n",
    "integer ---int\n",
    "\n",
    "float  ---float\n",
    "\n",
    "string  ----str\n",
    "\n",
    "boolean  ---bool\n",
    "\n",
    "complex  ----complex\n",
    "\n"
   ]
  },
  {
   "cell_type": "markdown",
   "id": "b0234505-cdf0-4119-8c91-87f58ccf85ea",
   "metadata": {},
   "source": [
    "# Integer\n"
   ]
  },
  {
   "cell_type": "code",
   "execution_count": 1,
   "id": "ae204db8-052f-446c-afd2-c652fb72cac7",
   "metadata": {},
   "outputs": [
    {
     "data": {
      "text/plain": [
       "90"
      ]
     },
     "execution_count": 1,
     "metadata": {},
     "output_type": "execute_result"
    }
   ],
   "source": [
    "number =90\n",
    "number\n"
   ]
  },
  {
   "cell_type": "code",
   "execution_count": 2,
   "id": "792cb249-6036-4f9e-a42a-d25d5f966fcc",
   "metadata": {},
   "outputs": [
    {
     "data": {
      "text/plain": [
       "int"
      ]
     },
     "execution_count": 2,
     "metadata": {},
     "output_type": "execute_result"
    }
   ],
   "source": [
    "type(number)\n"
   ]
  },
  {
   "cell_type": "code",
   "execution_count": null,
   "id": "8a09ee34-b93e-44e5-b84a-8f9e99cefb62",
   "metadata": {},
   "outputs": [],
   "source": [
    "# in math we have diffrent number system:-\n",
    "\n",
    "1.decimal\n",
    "2.binary\n",
    "3.octal\n",
    "4.hexa\n"
   ]
  },
  {
   "cell_type": "code",
   "execution_count": null,
   "id": "b970822d-3d3a-4526-bb92-58e42fccf7ee",
   "metadata": {},
   "outputs": [],
   "source": [
    "# ** Binary**\n",
    "\n",
    "# bi =  2  \n",
    "# so base is also 2\n",
    "\n",
    "# -0,1,2,3,4,5,6,7,8,9\n",
    "\n",
    "# representation is : 0 and 1"
   ]
  },
  {
   "cell_type": "code",
   "execution_count": 3,
   "id": "42ed7186-74c2-446e-92bb-bba0a80c3895",
   "metadata": {},
   "outputs": [
    {
     "data": {
      "text/plain": [
       "7"
      ]
     },
     "execution_count": 3,
     "metadata": {},
     "output_type": "execute_result"
    }
   ],
   "source": [
    "0b111"
   ]
  },
  {
   "cell_type": "code",
   "execution_count": 4,
   "id": "681e150b-863c-4305-b850-84d2c11a3e7e",
   "metadata": {},
   "outputs": [
    {
     "data": {
      "text/plain": [
       "101"
      ]
     },
     "execution_count": 4,
     "metadata": {},
     "output_type": "execute_result"
    }
   ],
   "source": [
    "101"
   ]
  },
  {
   "cell_type": "code",
   "execution_count": 5,
   "id": "f80753c9-0731-4616-87a9-ab61d0dbbaa5",
   "metadata": {},
   "outputs": [
    {
     "ename": "SyntaxError",
     "evalue": "invalid decimal literal (4206897.py, line 1)",
     "output_type": "error",
     "traceback": [
      "\u001b[1;36m  Cell \u001b[1;32mIn[5], line 1\u001b[1;36m\u001b[0m\n\u001b[1;33m    1b101\u001b[0m\n\u001b[1;37m    ^\u001b[0m\n\u001b[1;31mSyntaxError\u001b[0m\u001b[1;31m:\u001b[0m invalid decimal literal\n"
     ]
    }
   ],
   "source": [
    "1b101\n"
   ]
  },
  {
   "cell_type": "code",
   "execution_count": 6,
   "id": "95874676-51ff-4e8c-baed-bdb17885359b",
   "metadata": {},
   "outputs": [
    {
     "data": {
      "text/plain": [
       "5"
      ]
     },
     "execution_count": 6,
     "metadata": {},
     "output_type": "execute_result"
    }
   ],
   "source": [
    "0b101"
   ]
  },
  {
   "cell_type": "code",
   "execution_count": null,
   "id": "ab36113e-ebc7-4579-b076-6fc392b86dcb",
   "metadata": {},
   "outputs": [],
   "source": [
    "3 digit = 4 2 1\n",
    "4 digit = 8 4 2 1\n",
    "5 digit = 16 8 4 2 1"
   ]
  },
  {
   "cell_type": "code",
   "execution_count": 7,
   "id": "0f3b13ce-d924-4a79-a8b7-a607c368a4e8",
   "metadata": {},
   "outputs": [
    {
     "data": {
      "text/plain": [
       "7"
      ]
     },
     "execution_count": 7,
     "metadata": {},
     "output_type": "execute_result"
    }
   ],
   "source": [
    "0b111"
   ]
  },
  {
   "cell_type": "code",
   "execution_count": null,
   "id": "e8862b86-da88-48db-8954-6b7aac4e6f08",
   "metadata": {},
   "outputs": [],
   "source": [
    "4 2 1\n",
    "0 0 0\n",
    "0 0 1\n",
    "0 1 0\n",
    "0 1 1\n",
    "1 0 0\n",
    "1 0 1\n",
    "1 1 0\n",
    "1 1 1\n"
   ]
  },
  {
   "cell_type": "code",
   "execution_count": null,
   "id": "b3368b94-8b37-4c66-bf7d-988fc6b26607",
   "metadata": {},
   "outputs": [],
   "source": [
    "0-true/on\n",
    "1-fase/off\n"
   ]
  },
  {
   "cell_type": "code",
   "execution_count": null,
   "id": "1e9bc6b7-b600-497a-9b26-f80c72e07539",
   "metadata": {},
   "outputs": [],
   "source": [
    "** octa **\n",
    "octa mean 8\n",
    "\n",
    "so base is 8\n",
    "\n",
    "0 to 8 \n",
    "\n",
    "0o1111"
   ]
  },
  {
   "cell_type": "code",
   "execution_count": 8,
   "id": "7902f5e2-3746-473a-bb8d-fcc2a24140cf",
   "metadata": {},
   "outputs": [
    {
     "ename": "SyntaxError",
     "evalue": "invalid decimal literal (1264044268.py, line 1)",
     "output_type": "error",
     "traceback": [
      "\u001b[1;36m  Cell \u001b[1;32mIn[8], line 1\u001b[1;36m\u001b[0m\n\u001b[1;33m    0c1111b\u001b[0m\n\u001b[1;37m    ^\u001b[0m\n\u001b[1;31mSyntaxError\u001b[0m\u001b[1;31m:\u001b[0m invalid decimal literal\n"
     ]
    }
   ],
   "source": [
    "0c1111b"
   ]
  },
  {
   "cell_type": "code",
   "execution_count": 9,
   "id": "f4f29311-a03b-48ff-9218-60da39d59cf1",
   "metadata": {},
   "outputs": [
    {
     "ename": "SyntaxError",
     "evalue": "invalid octal literal (590008996.py, line 1)",
     "output_type": "error",
     "traceback": [
      "\u001b[1;36m  Cell \u001b[1;32mIn[9], line 1\u001b[1;36m\u001b[0m\n\u001b[1;33m    0o1100b\u001b[0m\n\u001b[1;37m         ^\u001b[0m\n\u001b[1;31mSyntaxError\u001b[0m\u001b[1;31m:\u001b[0m invalid octal literal\n"
     ]
    }
   ],
   "source": [
    "0o1100b"
   ]
  },
  {
   "cell_type": "code",
   "execution_count": 10,
   "id": "f8bf5f9b-4f4b-41a9-8a06-ee7dd370f7d1",
   "metadata": {},
   "outputs": [
    {
     "data": {
      "text/plain": [
       "585"
      ]
     },
     "execution_count": 10,
     "metadata": {},
     "output_type": "execute_result"
    }
   ],
   "source": [
    "0o1111"
   ]
  },
  {
   "cell_type": "code",
   "execution_count": 11,
   "id": "cbd67797-82f8-41c7-b954-dd8c09d6768c",
   "metadata": {},
   "outputs": [
    {
     "data": {
      "text/plain": [
       "83"
      ]
     },
     "execution_count": 11,
     "metadata": {},
     "output_type": "execute_result"
    }
   ],
   "source": [
    "0o123"
   ]
  },
  {
   "cell_type": "code",
   "execution_count": null,
   "id": "b67d422b-6ece-44a9-b8b8-0e6e4ba25d9e",
   "metadata": {},
   "outputs": [],
   "source": [
    "*hexa*\n",
    "\n",
    "hexa mean 16\n",
    "\n",
    "so base is also 16\n",
    "\n",
    "0 to 9 and \"A to f\"\n",
    "\n",
    "0x123\n"
   ]
  },
  {
   "cell_type": "code",
   "execution_count": 12,
   "id": "dcceee4b-5bae-46f7-ab10-cb7f1f7bd73f",
   "metadata": {},
   "outputs": [
    {
     "data": {
      "text/plain": [
       "291"
      ]
     },
     "execution_count": 12,
     "metadata": {},
     "output_type": "execute_result"
    }
   ],
   "source": [
    "0x123"
   ]
  },
  {
   "cell_type": "code",
   "execution_count": null,
   "id": "ec118efa-12b8-4be9-8506-8950dd1d8c65",
   "metadata": {},
   "outputs": [],
   "source": [
    "# e representaion\n",
    "\n",
    "10e3\n"
   ]
  },
  {
   "cell_type": "code",
   "execution_count": 13,
   "id": "674b7e28-8d3e-435a-9441-18d92749c692",
   "metadata": {},
   "outputs": [
    {
     "data": {
      "text/plain": [
       "10000.0"
      ]
     },
     "execution_count": 13,
     "metadata": {},
     "output_type": "execute_result"
    }
   ],
   "source": [
    "10e3"
   ]
  },
  {
   "cell_type": "code",
   "execution_count": 14,
   "id": "4578c625-b0ef-4bad-baaf-b4e4db3b37c5",
   "metadata": {},
   "outputs": [
    {
     "data": {
      "text/plain": [
       "0.01"
      ]
     },
     "execution_count": 14,
     "metadata": {},
     "output_type": "execute_result"
    }
   ],
   "source": [
    "10e-3"
   ]
  },
  {
   "cell_type": "code",
   "execution_count": null,
   "id": "f44e902e-d878-4177-96f7-716b6c9a6e3f",
   "metadata": {},
   "outputs": [],
   "source": [
    "#ml output as zero \n",
    "\n",
    "0.000000000123\n",
    "\n",
    "123e-10"
   ]
  },
  {
   "cell_type": "code",
   "execution_count": 15,
   "id": "4454ae61-8889-42fc-818e-5a6ef7562949",
   "metadata": {},
   "outputs": [
    {
     "data": {
      "text/plain": [
       "0.01"
      ]
     },
     "execution_count": 15,
     "metadata": {},
     "output_type": "execute_result"
    }
   ],
   "source": [
    "1000e-5\n"
   ]
  },
  {
   "cell_type": "code",
   "execution_count": 16,
   "id": "5377c67f-9365-4167-829c-19058368477b",
   "metadata": {},
   "outputs": [
    {
     "data": {
      "text/plain": [
       "1e-09"
      ]
     },
     "execution_count": 16,
     "metadata": {},
     "output_type": "execute_result"
    }
   ],
   "source": [
    "1e-9"
   ]
  },
  {
   "cell_type": "code",
   "execution_count": 17,
   "id": "97f3674e-7eb9-4e95-9d1f-ac03c3a9e2e5",
   "metadata": {},
   "outputs": [
    {
     "data": {
      "text/plain": [
       "1e-05"
      ]
     },
     "execution_count": 17,
     "metadata": {},
     "output_type": "execute_result"
    }
   ],
   "source": [
    "1e-5"
   ]
  },
  {
   "cell_type": "markdown",
   "id": "29cfa436-a140-4fd7-b023-9284702dfc12",
   "metadata": {},
   "source": [
    "# string\n"
   ]
  },
  {
   "cell_type": "code",
   "execution_count": null,
   "id": "41cf3f03-f07e-4817-9fac-dec1b63c33d0",
   "metadata": {},
   "outputs": [],
   "source": [
    "anthing in quote\n",
    "\n",
    "\"\" double qoute\n",
    "'' single quote\n",
    "\"\"\" for multi line use triple quote"
   ]
  },
  {
   "cell_type": "markdown",
   "id": "e40aa49a-e088-4ef9-9419-91ab6ed12ab3",
   "metadata": {},
   "source": [
    "# Boolean\n",
    "\n",
    "true and false\n",
    "\n",
    "true = 1 / on\n",
    "\n",
    "false = 0 / off\n",
    "\n"
   ]
  },
  {
   "cell_type": "code",
   "execution_count": 1,
   "id": "d080ea2f-8ae6-4a37-89ac-ff3c6e3959e7",
   "metadata": {},
   "outputs": [
    {
     "ename": "NameError",
     "evalue": "name 'false' is not defined",
     "output_type": "error",
     "traceback": [
      "\u001b[1;31m---------------------------------------------------------------------------\u001b[0m",
      "\u001b[1;31mNameError\u001b[0m                                 Traceback (most recent call last)",
      "Cell \u001b[1;32mIn[1], line 1\u001b[0m\n\u001b[1;32m----> 1\u001b[0m val \u001b[38;5;241m=\u001b[39m false\n",
      "\u001b[1;31mNameError\u001b[0m: name 'false' is not defined"
     ]
    }
   ],
   "source": [
    "val = false\n"
   ]
  },
  {
   "cell_type": "code",
   "execution_count": 2,
   "id": "2f429564-0220-4660-a5f1-29632d4cfb0d",
   "metadata": {},
   "outputs": [],
   "source": [
    "val = False\n"
   ]
  },
  {
   "cell_type": "code",
   "execution_count": 3,
   "id": "f7046106-bcfe-4f8a-8fff-25b24b17e8e1",
   "metadata": {},
   "outputs": [
    {
     "data": {
      "text/plain": [
       "bool"
      ]
     },
     "execution_count": 3,
     "metadata": {},
     "output_type": "execute_result"
    }
   ],
   "source": [
    "type(val)\n"
   ]
  },
  {
   "cell_type": "code",
   "execution_count": 8,
   "id": "341a7004-93c2-47a7-a6c3-47fe4651fcbd",
   "metadata": {},
   "outputs": [
    {
     "ename": "NameError",
     "evalue": "name 'true' is not defined",
     "output_type": "error",
     "traceback": [
      "\u001b[1;31m---------------------------------------------------------------------------\u001b[0m",
      "\u001b[1;31mNameError\u001b[0m                                 Traceback (most recent call last)",
      "Cell \u001b[1;32mIn[8], line 2\u001b[0m\n\u001b[0;32m      1\u001b[0m val1 \u001b[38;5;241m=\u001b[39m \u001b[38;5;28;01mTrue\u001b[39;00m;\n\u001b[1;32m----> 2\u001b[0m val2 \u001b[38;5;241m=\u001b[39m true;\n\u001b[0;32m      3\u001b[0m val3 \u001b[38;5;241m=\u001b[39m \u001b[38;5;124m\"\u001b[39m\u001b[38;5;124mtrue\u001b[39m\u001b[38;5;124m\"\u001b[39m;\n\u001b[0;32m      4\u001b[0m \u001b[38;5;28mtype\u001b[39m(val1,val2,val3)\n",
      "\u001b[1;31mNameError\u001b[0m: name 'true' is not defined"
     ]
    }
   ],
   "source": [
    "val1 = True;\n",
    "val2 = true;\n",
    "val3 = \"true\";\n",
    "type(val1,val2,val3)"
   ]
  },
  {
   "cell_type": "markdown",
   "id": "74660db0-8580-4c88-a366-0bb1814a2458",
   "metadata": {},
   "source": [
    "**Complex-Conjugate**\n",
    "\n",
    "a+ib; or a+jb;\n",
    "\n",
    "a= real value\n",
    "b = imaginary value\n",
    "\n",
    "i= sqrt(-1);\n",
    "\n",
    "\n",
    "\n",
    "\n"
   ]
  },
  {
   "cell_type": "code",
   "execution_count": 9,
   "id": "9c7aca48-f70f-4455-b8b8-2342619abe0d",
   "metadata": {},
   "outputs": [
    {
     "ename": "NameError",
     "evalue": "name 'j5' is not defined",
     "output_type": "error",
     "traceback": [
      "\u001b[1;31m---------------------------------------------------------------------------\u001b[0m",
      "\u001b[1;31mNameError\u001b[0m                                 Traceback (most recent call last)",
      "Cell \u001b[1;32mIn[9], line 1\u001b[0m\n\u001b[1;32m----> 1\u001b[0m num \u001b[38;5;241m=\u001b[39m \u001b[38;5;241m3\u001b[39m\u001b[38;5;241m+\u001b[39mj5;\n\u001b[0;32m      2\u001b[0m \u001b[38;5;28mtype\u001b[39m(num)\n",
      "\u001b[1;31mNameError\u001b[0m: name 'j5' is not defined"
     ]
    }
   ],
   "source": [
    "num = 3+j5;\n",
    "type(num)"
   ]
  },
  {
   "cell_type": "code",
   "execution_count": 10,
   "id": "d6aca0b4-12ff-42f3-be57-0f42f5df1059",
   "metadata": {},
   "outputs": [
    {
     "data": {
      "text/plain": [
       "complex"
      ]
     },
     "execution_count": 10,
     "metadata": {},
     "output_type": "execute_result"
    }
   ],
   "source": [
    "num = 5+6j\n",
    "type(num)"
   ]
  },
  {
   "cell_type": "code",
   "execution_count": 11,
   "id": "5c87561b-1d5c-421e-b795-f2ce25c94e08",
   "metadata": {},
   "outputs": [
    {
     "data": {
      "text/plain": [
       "(5+6j)"
      ]
     },
     "execution_count": 11,
     "metadata": {},
     "output_type": "execute_result"
    }
   ],
   "source": [
    "num"
   ]
  },
  {
   "cell_type": "code",
   "execution_count": 12,
   "id": "401517a6-cf55-486b-8c77-3b831fa50513",
   "metadata": {},
   "outputs": [
    {
     "data": {
      "text/plain": [
       "['__abs__',\n",
       " '__add__',\n",
       " '__bool__',\n",
       " '__class__',\n",
       " '__complex__',\n",
       " '__delattr__',\n",
       " '__dir__',\n",
       " '__doc__',\n",
       " '__eq__',\n",
       " '__format__',\n",
       " '__ge__',\n",
       " '__getattribute__',\n",
       " '__getnewargs__',\n",
       " '__getstate__',\n",
       " '__gt__',\n",
       " '__hash__',\n",
       " '__init__',\n",
       " '__init_subclass__',\n",
       " '__le__',\n",
       " '__lt__',\n",
       " '__mul__',\n",
       " '__ne__',\n",
       " '__neg__',\n",
       " '__new__',\n",
       " '__pos__',\n",
       " '__pow__',\n",
       " '__radd__',\n",
       " '__reduce__',\n",
       " '__reduce_ex__',\n",
       " '__repr__',\n",
       " '__rmul__',\n",
       " '__rpow__',\n",
       " '__rsub__',\n",
       " '__rtruediv__',\n",
       " '__setattr__',\n",
       " '__sizeof__',\n",
       " '__str__',\n",
       " '__sub__',\n",
       " '__subclasshook__',\n",
       " '__truediv__',\n",
       " 'conjugate',\n",
       " 'imag',\n",
       " 'real']"
      ]
     },
     "execution_count": 12,
     "metadata": {},
     "output_type": "execute_result"
    }
   ],
   "source": [
    "dir(num)"
   ]
  },
  {
   "cell_type": "code",
   "execution_count": 13,
   "id": "4194ba32-3744-409a-9617-b938c24e3d6a",
   "metadata": {},
   "outputs": [
    {
     "data": {
      "text/plain": [
       "5.0"
      ]
     },
     "execution_count": 13,
     "metadata": {},
     "output_type": "execute_result"
    }
   ],
   "source": [
    "num.real"
   ]
  },
  {
   "cell_type": "code",
   "execution_count": 14,
   "id": "8d010ecb-ecd0-4031-b5bd-3992c50203c9",
   "metadata": {},
   "outputs": [
    {
     "data": {
      "text/plain": [
       "6.0"
      ]
     },
     "execution_count": 14,
     "metadata": {},
     "output_type": "execute_result"
    }
   ],
   "source": [
    "num.imag"
   ]
  },
  {
   "cell_type": "code",
   "execution_count": 15,
   "id": "94894c9d-875b-4e6e-958d-bc9a19363417",
   "metadata": {},
   "outputs": [
    {
     "data": {
      "text/plain": [
       "<function complex.conjugate()>"
      ]
     },
     "execution_count": 15,
     "metadata": {},
     "output_type": "execute_result"
    }
   ],
   "source": [
    "num.conjugate"
   ]
  },
  {
   "cell_type": "code",
   "execution_count": 16,
   "id": "77130b6d-6c3b-48a4-b73f-5962ad12efea",
   "metadata": {},
   "outputs": [
    {
     "data": {
      "text/plain": [
       "(4+8j)"
      ]
     },
     "execution_count": 16,
     "metadata": {},
     "output_type": "execute_result"
    }
   ],
   "source": [
    "complex(4,8)"
   ]
  },
  {
   "cell_type": "code",
   "execution_count": 17,
   "id": "116597f4-4b9d-44c7-b961-8c9dd5adaa5e",
   "metadata": {},
   "outputs": [
    {
     "data": {
      "text/plain": [
       "0j"
      ]
     },
     "execution_count": 17,
     "metadata": {},
     "output_type": "execute_result"
    }
   ],
   "source": [
    "complex()"
   ]
  },
  {
   "cell_type": "code",
   "execution_count": null,
   "id": "756739fe-b1f4-4d3f-969c-cfdff4183816",
   "metadata": {},
   "outputs": [],
   "source": [
    "whenever you see () this mean function \n",
    "another name of functon is called \"method\"\n",
    "\n",
    "-inside bracket what you see are called parameter.\n",
    "\n",
    "-another name for parameter is called arguments\n",
    "\n",
    "\n"
   ]
  },
  {
   "cell_type": "code",
   "execution_count": 18,
   "id": "7230ea5e-290f-4925-9c64-a78d8e9afbd3",
   "metadata": {},
   "outputs": [
    {
     "data": {
      "text/plain": [
       "<bound method Random.randint of <random.Random object at 0x000001818D4DF6D0>>"
      ]
     },
     "execution_count": 18,
     "metadata": {},
     "output_type": "execute_result"
    }
   ],
   "source": [
    "import random\n",
    "random.randint"
   ]
  },
  {
   "cell_type": "code",
   "execution_count": 19,
   "id": "f3e4b5eb-5831-41eb-a505-6d12e3ef8e5f",
   "metadata": {},
   "outputs": [
    {
     "data": {
      "text/plain": [
       "-0.9938886539233752"
      ]
     },
     "execution_count": 19,
     "metadata": {},
     "output_type": "execute_result"
    }
   ],
   "source": [
    "import math\n",
    "math.sin(80)"
   ]
  },
  {
   "cell_type": "code",
   "execution_count": 23,
   "id": "6b769165-c1eb-4a2d-87be-67bb2e2f5efa",
   "metadata": {},
   "outputs": [
    {
     "data": {
      "text/plain": [
       "0.8414709848078965"
      ]
     },
     "execution_count": 23,
     "metadata": {},
     "output_type": "execute_result"
    }
   ],
   "source": [
    "import math\n",
    "math.sin(1)"
   ]
  },
  {
   "cell_type": "code",
   "execution_count": null,
   "id": "7e48fccf-f9b9-45e6-b096-6046786baa9f",
   "metadata": {},
   "outputs": [],
   "source": []
  }
 ],
 "metadata": {
  "kernelspec": {
   "display_name": "Python 3 (ipykernel)",
   "language": "python",
   "name": "python3"
  },
  "language_info": {
   "codemirror_mode": {
    "name": "ipython",
    "version": 3
   },
   "file_extension": ".py",
   "mimetype": "text/x-python",
   "name": "python",
   "nbconvert_exporter": "python",
   "pygments_lexer": "ipython3",
   "version": "3.12.4"
  }
 },
 "nbformat": 4,
 "nbformat_minor": 5
}
