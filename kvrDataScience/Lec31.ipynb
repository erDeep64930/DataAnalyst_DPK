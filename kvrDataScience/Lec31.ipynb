{
 "cells": [
  {
   "cell_type": "code",
   "execution_count": 1,
   "metadata": {},
   "outputs": [],
   "source": [
    "import numpy as np\n",
    "import pandas as pd"
   ]
  },
  {
   "cell_type": "code",
   "execution_count": 2,
   "metadata": {},
   "outputs": [
    {
     "name": "stdout",
     "output_type": "stream",
     "text": [
      "   Unnamed: 0  sno     name   sal  comm         com  totalSal\n",
      "0           0  100   rossum  8000    80         psf      8080\n",
      "1           1  200   travis  3500    35       numpy      3535\n",
      "2           2  300   kinney  4000    65      pandas      4065\n",
      "3           3  400  brendam  6000    50  javascript      6050\n",
      "4           4  500    rohit  5000    80       react      5080\n",
      "5           5  600   hunter  5500    90        next      5590\n"
     ]
    }
   ],
   "source": [
    "# get the data\n",
    "df=pd.read_csv(\"D:\\\\clone\\\\DataAnalyst_DPK\\\\files\\\\Modifiedemp.csv\")\n",
    "print(df)"
   ]
  },
  {
   "cell_type": "markdown",
   "metadata": {},
   "source": [
    "# Data filtering an Updation on DataFrame object"
   ]
  },
  {
   "cell_type": "code",
   "execution_count": 3,
   "metadata": {},
   "outputs": [],
   "source": [
    "# conditional based updation"
   ]
  },
  {
   "cell_type": "code",
   "execution_count": 4,
   "metadata": {},
   "outputs": [
    {
     "data": {
      "text/plain": [
       "Index(['Unnamed: 0', 'sno', 'name', 'sal', 'comm', 'com', 'totalSal'], dtype='object')"
      ]
     },
     "execution_count": 4,
     "metadata": {},
     "output_type": "execute_result"
    }
   ],
   "source": [
    "df.columns"
   ]
  },
  {
   "cell_type": "code",
   "execution_count": 5,
   "metadata": {},
   "outputs": [
    {
     "data": {
      "text/html": [
       "<div>\n",
       "<style scoped>\n",
       "    .dataframe tbody tr th:only-of-type {\n",
       "        vertical-align: middle;\n",
       "    }\n",
       "\n",
       "    .dataframe tbody tr th {\n",
       "        vertical-align: top;\n",
       "    }\n",
       "\n",
       "    .dataframe thead th {\n",
       "        text-align: right;\n",
       "    }\n",
       "</style>\n",
       "<table border=\"1\" class=\"dataframe\">\n",
       "  <thead>\n",
       "    <tr style=\"text-align: right;\">\n",
       "      <th></th>\n",
       "      <th>Unnamed: 0</th>\n",
       "      <th>sno</th>\n",
       "      <th>name</th>\n",
       "      <th>sal</th>\n",
       "      <th>comm</th>\n",
       "      <th>com</th>\n",
       "      <th>totalSal</th>\n",
       "    </tr>\n",
       "  </thead>\n",
       "  <tbody>\n",
       "    <tr>\n",
       "      <th>0</th>\n",
       "      <td>0</td>\n",
       "      <td>100</td>\n",
       "      <td>rossum</td>\n",
       "      <td>8000</td>\n",
       "      <td>80</td>\n",
       "      <td>psf</td>\n",
       "      <td>8080</td>\n",
       "    </tr>\n",
       "  </tbody>\n",
       "</table>\n",
       "</div>"
      ],
      "text/plain": [
       "   Unnamed: 0  sno    name   sal  comm  com  totalSal\n",
       "0           0  100  rossum  8000    80  psf      8080"
      ]
     },
     "execution_count": 5,
     "metadata": {},
     "output_type": "execute_result"
    }
   ],
   "source": [
    "df.loc[df[\"com\"]==\"psf\"]"
   ]
  },
  {
   "cell_type": "code",
   "execution_count": 6,
   "metadata": {},
   "outputs": [
    {
     "data": {
      "text/plain": [
       "0    rossum\n",
       "Name: name, dtype: object"
      ]
     },
     "execution_count": 6,
     "metadata": {},
     "output_type": "execute_result"
    }
   ],
   "source": [
    "#to get only names\n",
    "df.loc[df[\"com\"]==\"psf\"][\"name\"]"
   ]
  },
  {
   "cell_type": "code",
   "execution_count": 7,
   "metadata": {},
   "outputs": [
    {
     "data": {
      "text/plain": [
       "1"
      ]
     },
     "execution_count": 7,
     "metadata": {},
     "output_type": "execute_result"
    }
   ],
   "source": [
    "# count the number of people\n",
    "len(df.loc[df[\"com\"]==\"psf\"][\"name\"])"
   ]
  },
  {
   "cell_type": "code",
   "execution_count": 8,
   "metadata": {},
   "outputs": [
    {
     "name": "stdout",
     "output_type": "stream",
     "text": [
      "   Unnamed: 0  sno     name   sal  comm                         com  totalSal\n",
      "0           0  100   rossum  8000    80  python software foundation      8080\n",
      "1           1  200   travis  3500    35                       numpy      3535\n",
      "2           2  300   kinney  4000    65                      pandas      4065\n",
      "3           3  400  brendam  6000    50                  javascript      6050\n",
      "4           4  500    rohit  5000    80                       react      5080\n",
      "5           5  600   hunter  5500    90                        next      5590\n"
     ]
    }
   ],
   "source": [
    "# update \"psf\" as \"python software foundation\"\n",
    "df.loc[df[\"com\"]==\"psf\",[\"com\"]]=\"python software foundation\"\n",
    "print(df)"
   ]
  },
  {
   "cell_type": "code",
   "execution_count": 9,
   "metadata": {},
   "outputs": [
    {
     "data": {
      "text/html": [
       "<div>\n",
       "<style scoped>\n",
       "    .dataframe tbody tr th:only-of-type {\n",
       "        vertical-align: middle;\n",
       "    }\n",
       "\n",
       "    .dataframe tbody tr th {\n",
       "        vertical-align: top;\n",
       "    }\n",
       "\n",
       "    .dataframe thead th {\n",
       "        text-align: right;\n",
       "    }\n",
       "</style>\n",
       "<table border=\"1\" class=\"dataframe\">\n",
       "  <thead>\n",
       "    <tr style=\"text-align: right;\">\n",
       "      <th></th>\n",
       "      <th>Unnamed: 0</th>\n",
       "      <th>sno</th>\n",
       "      <th>name</th>\n",
       "      <th>sal</th>\n",
       "      <th>comm</th>\n",
       "      <th>com</th>\n",
       "      <th>totalSal</th>\n",
       "    </tr>\n",
       "  </thead>\n",
       "  <tbody>\n",
       "    <tr>\n",
       "      <th>4</th>\n",
       "      <td>4</td>\n",
       "      <td>500</td>\n",
       "      <td>rohit</td>\n",
       "      <td>5000</td>\n",
       "      <td>80</td>\n",
       "      <td>react</td>\n",
       "      <td>5080</td>\n",
       "    </tr>\n",
       "  </tbody>\n",
       "</table>\n",
       "</div>"
      ],
      "text/plain": [
       "   Unnamed: 0  sno   name   sal  comm    com  totalSal\n",
       "4           4  500  rohit  5000    80  react      5080"
      ]
     },
     "execution_count": 9,
     "metadata": {},
     "output_type": "execute_result"
    }
   ],
   "source": [
    "# pick the person who have commision 80\n",
    "\n",
    "df.loc[(df[\"name\"]==\"rohit\") & (df[\"comm\"]==80)]"
   ]
  },
  {
   "cell_type": "code",
   "execution_count": 10,
   "metadata": {},
   "outputs": [],
   "source": [
    "#syntax\n",
    "# dataframeObj.loc[(compound condition),[\"col name\",\"colname2\",..]]=expression"
   ]
  },
  {
   "cell_type": "code",
   "execution_count": 11,
   "metadata": {},
   "outputs": [],
   "source": [
    "# give the grading \n",
    "# 100-75 distinction\n",
    "# 75-65 first\n",
    "# 65-55 second\n",
    "# <60 third"
   ]
  },
  {
   "cell_type": "code",
   "execution_count": 12,
   "metadata": {},
   "outputs": [
    {
     "name": "stdout",
     "output_type": "stream",
     "text": [
      "      id               name               nationality                 city  \\\n",
      "0      0          Kiana Lor                     China               Suzhou   \n",
      "1      1     Joshua Lonaker  United States of America        Santa Clarita   \n",
      "2      2      Dakota Blanco  United States of America              Oakland   \n",
      "3      3    Natasha Yarusso  United States of America        Castro Valley   \n",
      "4      4     Brooke Cazares                    Brazil  São José dos Campos   \n",
      "..   ...                ...                       ...                  ...   \n",
      "302  302        Austin Haas  United States of America             Columbus   \n",
      "303  303    Madison Fithian  United States of America          Los Angeles   \n",
      "304  304  Zachary Mulvahill  United States of America          Los Angeles   \n",
      "305  305   Eliana Michelsen  United States of America              Oakland   \n",
      "306  306    Dane Whittemore                    Canada              Toronto   \n",
      "\n",
      "     latitude  longitude gender  ethnic.group  age  english.grade  math.grade  \\\n",
      "0       31.31     120.62      F           NaN   22            3.5         3.7   \n",
      "1       34.39    -118.54      M           NaN   22            2.9         3.2   \n",
      "2       37.80    -122.27      F           NaN   22            3.9         3.8   \n",
      "3       37.69    -122.09      F           NaN   20            3.3         2.8   \n",
      "4      -23.18     -45.88      F           NaN   21            3.7         2.6   \n",
      "..        ...        ...    ...           ...  ...            ...         ...   \n",
      "302     39.96     -83.00      M           NaN   20            3.6         3.7   \n",
      "303     34.05    -118.24      F           NaN   20            3.6         3.9   \n",
      "304     34.05    -118.24      M           NaN   20            3.2         3.4   \n",
      "305     37.80    -122.27      F           NaN   23            3.0         2.8   \n",
      "306     43.67     -79.42      M           NaN   21            3.8         3.2   \n",
      "\n",
      "     sciences.grade  language.grade  portfolio.rating  coverletter.rating  \\\n",
      "0               3.1             1.0                 4                 4.0   \n",
      "1               3.6             5.0                 5                 4.0   \n",
      "2               3.2             5.0                 3                 3.0   \n",
      "3               3.2             5.0                 5                 2.0   \n",
      "4               3.4             1.0                 4                 4.0   \n",
      "..              ...             ...               ...                 ...   \n",
      "302             3.1             5.0                 4                 5.0   \n",
      "303             4.0             5.0                 5                 5.0   \n",
      "304             3.9             5.0                 5                 5.0   \n",
      "305             2.9             5.0                 4                 4.0   \n",
      "306             4.0             5.0                 5                 4.0   \n",
      "\n",
      "     refletter.rating  \n",
      "0                   4  \n",
      "1                   5  \n",
      "2                   4  \n",
      "3                   4  \n",
      "4                   5  \n",
      "..                ...  \n",
      "302                 5  \n",
      "303                 3  \n",
      "304                 3  \n",
      "305                 5  \n",
      "306                 5  \n",
      "\n",
      "[307 rows x 16 columns]\n"
     ]
    }
   ],
   "source": [
    "# get the data\n",
    "df=pd.read_csv(\"D:\\\\clone\\\\DataAnalyst_DPK\\\\files\\\\student-dataset.csv\")\n",
    "print(df)"
   ]
  },
  {
   "cell_type": "code",
   "execution_count": 13,
   "metadata": {},
   "outputs": [
    {
     "data": {
      "text/plain": [
       "Index(['id', 'name', 'nationality', 'city', 'latitude', 'longitude', 'gender',\n",
       "       'ethnic.group', 'age', 'english.grade', 'math.grade', 'sciences.grade',\n",
       "       'language.grade', 'portfolio.rating', 'coverletter.rating',\n",
       "       'refletter.rating'],\n",
       "      dtype='object')"
      ]
     },
     "execution_count": 13,
     "metadata": {},
     "output_type": "execute_result"
    }
   ],
   "source": [
    "df.columns"
   ]
  },
  {
   "cell_type": "code",
   "execution_count": 14,
   "metadata": {},
   "outputs": [
    {
     "data": {
      "text/plain": [
       "0      3.5\n",
       "1      2.9\n",
       "2      3.9\n",
       "3      3.3\n",
       "4      3.7\n",
       "      ... \n",
       "302    3.6\n",
       "303    3.6\n",
       "304    3.2\n",
       "305    3.0\n",
       "306    3.8\n",
       "Name: english.grade, Length: 307, dtype: float64"
      ]
     },
     "execution_count": 14,
     "metadata": {},
     "output_type": "execute_result"
    }
   ],
   "source": [
    "df[\"english.grade\"]"
   ]
  },
  {
   "cell_type": "code",
   "execution_count": 15,
   "metadata": {},
   "outputs": [],
   "source": [
    "# 1.5 lec31\n",
    "# df.loc[((df[\"percent\"]>=60) & (df[\"percent\"]<65)),[\"grade\"]]=\"second\"\n",
    "# print(df)"
   ]
  },
  {
   "cell_type": "code",
   "execution_count": 16,
   "metadata": {},
   "outputs": [],
   "source": [
    "# export the data frame data \n",
    "# df.to_csv(\"path name .csv\")\n",
    "# df.to_excel(\"path name . xlsx\")"
   ]
  },
  {
   "cell_type": "markdown",
   "metadata": {},
   "source": [
    "# example on finding missing value and filling ,missing value"
   ]
  },
  {
   "cell_type": "code",
   "execution_count": null,
   "metadata": {},
   "outputs": [],
   "source": [
    "import pandas as pd\n",
    "import numpy as np\n",
    "# we use numpy her to fill empty value as nan\n"
   ]
  },
  {
   "cell_type": "code",
   "execution_count": 18,
   "metadata": {},
   "outputs": [
    {
     "name": "stdout",
     "output_type": "stream",
     "text": [
      "{'firstResult': [100, 200, 300, nan], 'secondResult': [150, nan, 250, nan], 'thirdResult': [nan, 250, 120, 100]} <class 'dict'>\n"
     ]
    }
   ],
   "source": [
    "d={\"firstResult\":[100,200,300,np.nan],\"secondResult\":[150,np.nan,250,np.nan],\"thirdResult\":[np.nan,250,120,100]}\n",
    "print(d,type(d))"
   ]
  },
  {
   "cell_type": "code",
   "execution_count": 19,
   "metadata": {},
   "outputs": [
    {
     "name": "stdout",
     "output_type": "stream",
     "text": [
      "firstResult --> [100, 200, 300, nan]\n",
      "secondResult --> [150, nan, 250, nan]\n",
      "thirdResult --> [nan, 250, 120, 100]\n"
     ]
    }
   ],
   "source": [
    "for k,v in d.items():\n",
    "    print(k,\"-->\",v)"
   ]
  },
  {
   "cell_type": "code",
   "execution_count": 20,
   "metadata": {},
   "outputs": [
    {
     "name": "stdout",
     "output_type": "stream",
     "text": [
      "   firstResult  secondResult  thirdResult\n",
      "0        100.0         150.0          NaN\n",
      "1        200.0           NaN        250.0\n",
      "2        300.0         250.0        120.0\n",
      "3          NaN           NaN        100.0\n"
     ]
    }
   ],
   "source": [
    "df=pd.DataFrame(d)\n",
    "print(df)"
   ]
  },
  {
   "cell_type": "code",
   "execution_count": 21,
   "metadata": {},
   "outputs": [
    {
     "data": {
      "text/html": [
       "<div>\n",
       "<style scoped>\n",
       "    .dataframe tbody tr th:only-of-type {\n",
       "        vertical-align: middle;\n",
       "    }\n",
       "\n",
       "    .dataframe tbody tr th {\n",
       "        vertical-align: top;\n",
       "    }\n",
       "\n",
       "    .dataframe thead th {\n",
       "        text-align: right;\n",
       "    }\n",
       "</style>\n",
       "<table border=\"1\" class=\"dataframe\">\n",
       "  <thead>\n",
       "    <tr style=\"text-align: right;\">\n",
       "      <th></th>\n",
       "      <th>firstResult</th>\n",
       "      <th>secondResult</th>\n",
       "      <th>thirdResult</th>\n",
       "    </tr>\n",
       "  </thead>\n",
       "  <tbody>\n",
       "    <tr>\n",
       "      <th>0</th>\n",
       "      <td>False</td>\n",
       "      <td>False</td>\n",
       "      <td>True</td>\n",
       "    </tr>\n",
       "    <tr>\n",
       "      <th>1</th>\n",
       "      <td>False</td>\n",
       "      <td>True</td>\n",
       "      <td>False</td>\n",
       "    </tr>\n",
       "    <tr>\n",
       "      <th>2</th>\n",
       "      <td>False</td>\n",
       "      <td>False</td>\n",
       "      <td>False</td>\n",
       "    </tr>\n",
       "    <tr>\n",
       "      <th>3</th>\n",
       "      <td>True</td>\n",
       "      <td>True</td>\n",
       "      <td>False</td>\n",
       "    </tr>\n",
       "  </tbody>\n",
       "</table>\n",
       "</div>"
      ],
      "text/plain": [
       "   firstResult  secondResult  thirdResult\n",
       "0        False         False         True\n",
       "1        False          True        False\n",
       "2        False         False        False\n",
       "3         True          True        False"
      ]
     },
     "execution_count": 21,
     "metadata": {},
     "output_type": "execute_result"
    }
   ],
   "source": [
    "#find the missing value with isNull()\n",
    "#syntax : dataFrameObj.isNull()\n",
    "df.isnull()"
   ]
  },
  {
   "cell_type": "code",
   "execution_count": 22,
   "metadata": {},
   "outputs": [
    {
     "data": {
      "text/plain": [
       "4"
      ]
     },
     "execution_count": 22,
     "metadata": {},
     "output_type": "execute_result"
    }
   ],
   "source": [
    "# count the number of null value\n",
    "len(df.isnull())"
   ]
  },
  {
   "cell_type": "code",
   "execution_count": 23,
   "metadata": {},
   "outputs": [
    {
     "data": {
      "text/plain": [
       "firstResult     1\n",
       "secondResult    2\n",
       "thirdResult     1\n",
       "dtype: int64"
      ]
     },
     "execution_count": 23,
     "metadata": {},
     "output_type": "execute_result"
    }
   ],
   "source": [
    "# to check column wise null value\n",
    "df.isnull().sum()"
   ]
  },
  {
   "cell_type": "code",
   "execution_count": 24,
   "metadata": {},
   "outputs": [
    {
     "data": {
      "text/html": [
       "<div>\n",
       "<style scoped>\n",
       "    .dataframe tbody tr th:only-of-type {\n",
       "        vertical-align: middle;\n",
       "    }\n",
       "\n",
       "    .dataframe tbody tr th {\n",
       "        vertical-align: top;\n",
       "    }\n",
       "\n",
       "    .dataframe thead th {\n",
       "        text-align: right;\n",
       "    }\n",
       "</style>\n",
       "<table border=\"1\" class=\"dataframe\">\n",
       "  <thead>\n",
       "    <tr style=\"text-align: right;\">\n",
       "      <th></th>\n",
       "      <th>firstResult</th>\n",
       "      <th>secondResult</th>\n",
       "      <th>thirdResult</th>\n",
       "    </tr>\n",
       "  </thead>\n",
       "  <tbody>\n",
       "    <tr>\n",
       "      <th>0</th>\n",
       "      <td>True</td>\n",
       "      <td>True</td>\n",
       "      <td>False</td>\n",
       "    </tr>\n",
       "    <tr>\n",
       "      <th>1</th>\n",
       "      <td>True</td>\n",
       "      <td>False</td>\n",
       "      <td>True</td>\n",
       "    </tr>\n",
       "    <tr>\n",
       "      <th>2</th>\n",
       "      <td>True</td>\n",
       "      <td>True</td>\n",
       "      <td>True</td>\n",
       "    </tr>\n",
       "    <tr>\n",
       "      <th>3</th>\n",
       "      <td>False</td>\n",
       "      <td>False</td>\n",
       "      <td>True</td>\n",
       "    </tr>\n",
       "  </tbody>\n",
       "</table>\n",
       "</div>"
      ],
      "text/plain": [
       "   firstResult  secondResult  thirdResult\n",
       "0         True          True        False\n",
       "1         True         False         True\n",
       "2         True          True         True\n",
       "3        False         False         True"
      ]
     },
     "execution_count": 24,
     "metadata": {},
     "output_type": "execute_result"
    }
   ],
   "source": [
    "df.notnull()"
   ]
  },
  {
   "cell_type": "code",
   "execution_count": 25,
   "metadata": {},
   "outputs": [
    {
     "data": {
      "text/plain": [
       "12"
      ]
     },
     "execution_count": 25,
     "metadata": {},
     "output_type": "execute_result"
    }
   ],
   "source": [
    "df.size"
   ]
  },
  {
   "cell_type": "code",
   "execution_count": 26,
   "metadata": {},
   "outputs": [
    {
     "ename": "TypeError",
     "evalue": "'int' object is not callable",
     "output_type": "error",
     "traceback": [
      "\u001b[1;31m---------------------------------------------------------------------------\u001b[0m",
      "\u001b[1;31mTypeError\u001b[0m                                 Traceback (most recent call last)",
      "Cell \u001b[1;32mIn[26], line 1\u001b[0m\n\u001b[1;32m----> 1\u001b[0m \u001b[43mdf\u001b[49m\u001b[38;5;241;43m.\u001b[39;49m\u001b[43msize\u001b[49m\u001b[43m(\u001b[49m\u001b[43m)\u001b[49m\n",
      "\u001b[1;31mTypeError\u001b[0m: 'int' object is not callable"
     ]
    }
   ],
   "source": [
    "df.size()"
   ]
  },
  {
   "cell_type": "code",
   "execution_count": null,
   "metadata": {},
   "outputs": [],
   "source": [
    "# size - it is not a function it is attribute"
   ]
  },
  {
   "cell_type": "markdown",
   "metadata": {},
   "source": [
    "# fill the nan value with zeros"
   ]
  },
  {
   "cell_type": "code",
   "execution_count": 28,
   "metadata": {},
   "outputs": [],
   "source": [
    "# fill nan value with zeros\n",
    "# we use fillna()\n",
    "# syntax: df.fillna(0)"
   ]
  },
  {
   "cell_type": "code",
   "execution_count": 29,
   "metadata": {},
   "outputs": [
    {
     "data": {
      "text/html": [
       "<div>\n",
       "<style scoped>\n",
       "    .dataframe tbody tr th:only-of-type {\n",
       "        vertical-align: middle;\n",
       "    }\n",
       "\n",
       "    .dataframe tbody tr th {\n",
       "        vertical-align: top;\n",
       "    }\n",
       "\n",
       "    .dataframe thead th {\n",
       "        text-align: right;\n",
       "    }\n",
       "</style>\n",
       "<table border=\"1\" class=\"dataframe\">\n",
       "  <thead>\n",
       "    <tr style=\"text-align: right;\">\n",
       "      <th></th>\n",
       "      <th>firstResult</th>\n",
       "      <th>secondResult</th>\n",
       "      <th>thirdResult</th>\n",
       "    </tr>\n",
       "  </thead>\n",
       "  <tbody>\n",
       "    <tr>\n",
       "      <th>0</th>\n",
       "      <td>100.0</td>\n",
       "      <td>150.0</td>\n",
       "      <td>0.0</td>\n",
       "    </tr>\n",
       "    <tr>\n",
       "      <th>1</th>\n",
       "      <td>200.0</td>\n",
       "      <td>0.0</td>\n",
       "      <td>250.0</td>\n",
       "    </tr>\n",
       "    <tr>\n",
       "      <th>2</th>\n",
       "      <td>300.0</td>\n",
       "      <td>250.0</td>\n",
       "      <td>120.0</td>\n",
       "    </tr>\n",
       "    <tr>\n",
       "      <th>3</th>\n",
       "      <td>0.0</td>\n",
       "      <td>0.0</td>\n",
       "      <td>100.0</td>\n",
       "    </tr>\n",
       "  </tbody>\n",
       "</table>\n",
       "</div>"
      ],
      "text/plain": [
       "   firstResult  secondResult  thirdResult\n",
       "0        100.0         150.0          0.0\n",
       "1        200.0           0.0        250.0\n",
       "2        300.0         250.0        120.0\n",
       "3          0.0           0.0        100.0"
      ]
     },
     "execution_count": 29,
     "metadata": {},
     "output_type": "execute_result"
    }
   ],
   "source": [
    "df.fillna(0)"
   ]
  },
  {
   "cell_type": "code",
   "execution_count": null,
   "metadata": {},
   "outputs": [],
   "source": [
    "d={\"firstResult\":[100,200,300,np.nan],\"secondResult\":[150,np.nan,250,np.nan],\"thirdResult\":[np.nan,250,120,100]}\n",
    "print(d,type(d))"
   ]
  },
  {
   "cell_type": "code",
   "execution_count": 31,
   "metadata": {},
   "outputs": [
    {
     "name": "stdout",
     "output_type": "stream",
     "text": [
      "   firstResult  secondResult  thirdResult\n",
      "0        100.0         150.0          NaN\n",
      "1        200.0           NaN        250.0\n",
      "2        300.0         250.0        120.0\n",
      "3          NaN           NaN        100.0\n"
     ]
    }
   ],
   "source": [
    "df=pd.DataFrame(d)\n",
    "print(df)"
   ]
  },
  {
   "cell_type": "code",
   "execution_count": 33,
   "metadata": {},
   "outputs": [
    {
     "name": "stdout",
     "output_type": "stream",
     "text": [
      "   firstResult  secondResult  thirdResult\n",
      "0        100.0         150.0          0.0\n",
      "1        200.0           0.0        250.0\n",
      "2        300.0         250.0        120.0\n",
      "3          0.0           0.0        100.0\n"
     ]
    }
   ],
   "source": [
    "df.fillna(0.0,inplace=True)\n",
    "print(df)"
   ]
  },
  {
   "cell_type": "code",
   "execution_count": null,
   "metadata": {},
   "outputs": [],
   "source": [
    "# fill nan value with 5.0"
   ]
  },
  {
   "cell_type": "code",
   "execution_count": 39,
   "metadata": {},
   "outputs": [
    {
     "name": "stdout",
     "output_type": "stream",
     "text": [
      "   firstResult  secondResult  thirdResult\n",
      "0        100.0         150.0          5.0\n",
      "1        200.0           5.0        250.0\n",
      "2        300.0         250.0        120.0\n",
      "3          5.0           5.0        100.0\n"
     ]
    }
   ],
   "source": [
    "d={\"firstResult\":[100,200,300,np.nan],\"secondResult\":[150,np.nan,250,np.nan],\"thirdResult\":[np.nan,250,120,100]}\n",
    "df=pd.DataFrame(d)\n",
    "df.fillna(5.0,inplace=True)\n",
    "print(df)"
   ]
  },
  {
   "cell_type": "code",
   "execution_count": 40,
   "metadata": {},
   "outputs": [],
   "source": [
    "# we can also use replace function in place of fillna function"
   ]
  },
  {
   "cell_type": "code",
   "execution_count": null,
   "metadata": {},
   "outputs": [],
   "source": [
    "# we can also use replace (to_replace,value)\n",
    "#syntax : df.replace(to_replace=np.nan,0.0)"
   ]
  },
  {
   "cell_type": "code",
   "execution_count": 50,
   "metadata": {},
   "outputs": [
    {
     "name": "stdout",
     "output_type": "stream",
     "text": [
      "   firstResult  secondResult  thirdResult\n",
      "0        100.0         150.0          NaN\n",
      "1        200.0           NaN        250.0\n",
      "2        300.0         250.0        120.0\n",
      "3          NaN           NaN        100.0\n"
     ]
    }
   ],
   "source": [
    "d={\"firstResult\":[100,200,300,np.nan],\"secondResult\":[150,np.nan,250,np.nan],\"thirdResult\":[np.nan,250,120,100]}\n",
    "df=pd.DataFrame(d)\n",
    "df.replace(to_replace=np.nan,value=0.0)\n",
    "print(df)"
   ]
  },
  {
   "cell_type": "code",
   "execution_count": null,
   "metadata": {},
   "outputs": [],
   "source": []
  },
  {
   "cell_type": "code",
   "execution_count": null,
   "metadata": {},
   "outputs": [],
   "source": []
  },
  {
   "cell_type": "code",
   "execution_count": null,
   "metadata": {},
   "outputs": [],
   "source": []
  },
  {
   "cell_type": "code",
   "execution_count": null,
   "metadata": {},
   "outputs": [],
   "source": []
  },
  {
   "cell_type": "code",
   "execution_count": null,
   "metadata": {},
   "outputs": [],
   "source": []
  },
  {
   "cell_type": "code",
   "execution_count": null,
   "metadata": {},
   "outputs": [],
   "source": []
  }
 ],
 "metadata": {
  "kernelspec": {
   "display_name": "Python 3",
   "language": "python",
   "name": "python3"
  },
  "language_info": {
   "codemirror_mode": {
    "name": "ipython",
    "version": 3
   },
   "file_extension": ".py",
   "mimetype": "text/x-python",
   "name": "python",
   "nbconvert_exporter": "python",
   "pygments_lexer": "ipython3",
   "version": "3.13.1"
  }
 },
 "nbformat": 4,
 "nbformat_minor": 2
}
