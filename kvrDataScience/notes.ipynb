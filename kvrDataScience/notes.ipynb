{
 "cells": [
  {
   "cell_type": "markdown",
   "metadata": {},
   "source": [
    "# NumPy, Pandas, Matplotlib"
   ]
  },
  {
   "cell_type": "markdown",
   "metadata": {},
   "source": [
    "- NumPy\n",
    "- creation of numpy array\n",
    "- array()\n",
    "- arange()\n",
    "- linspace()\n",
    "- zeros()\n",
    "- Ones()\n",
    "- full()\n",
    "- eye()\n",
    "- identity()\n",
    "- diag()\n",
    "- empty()\n",
    "- random library function\n",
    "\n",
    "- randint()\n",
    "- rand()\n",
    "- uniform()\n",
    "- randn()\n",
    "- normal()\n",
    "- shuffle()\n",
    "-------------------------\n",
    "\n",
    "- Array attributes & numpy data types\n",
    "- view vs copy\n",
    "\n",
    "------------------\n",
    "\n",
    "- Indexing, Slicing and advance Indexing\n",
    "- basic indexing- to select only one element\n",
    "- slicing - to select multiple arbitrary element\n",
    "- condition based selection\n",
    "\n",
    "------------------\n",
    "\n",
    "- how to iterate element of the nd array\n",
    "\n",
    "- by python loop\n",
    "- by numpy nditer() function\n",
    "- by using ndenumerate() function\n",
    "\n",
    "------------------\n",
    "\n",
    "Arithmetics operation:\n",
    "- arithmetics operation for numpy array with scaler\n",
    "- arithmetics operation for array with array\n",
    "\n",
    "\n",
    "----------------------\n",
    "Array manipulation function\n",
    "\n",
    "- reshape()\n",
    "- resize() \n",
    "- flatten()\n",
    "- flat variable\n",
    "- ravel()\n",
    "- transpose()\n",
    "- swapaxes()\n",
    "\n",
    "\n",
    "--------------\n",
    "- Joining of multiple array into a single array\n",
    "\n",
    "- concatenate()\n",
    "- stack()\n",
    "- vstack()\n",
    "- hstack()\n",
    "- dstack()\n",
    "\n",
    "--------------\n",
    "- splitting of array \n",
    "\n",
    "- split()\n",
    "- vsplit()\n",
    "- hsplit()\n",
    "- dsplit()\n",
    "\n",
    "--------------\n",
    "- how to insert element from ndarray\n",
    "\n",
    "- insert()\n",
    "- append()\n",
    "\n",
    "---------------\n",
    "\n",
    "- deleting element from ndarray\n",
    "- matrix multiplication\n",
    "- importance of matrix class in numpy library.\n",
    "\n",
    "--------------\n",
    "- Linear algebra function from linalg module\n",
    "- inv() - to find the inverse of matrix\n",
    "- matrix_power() - to find the power of matrix A^n\n",
    "- det() - to find the determinant of matrix\n",
    "- solve() - to solve the linear algebra question\n",
    "-  I/O  operation with numpy \n",
    "- basic statistics with numpy\n",
    "- numpy mathematics function\n",
    "- how to find unique items and count.\n"
   ]
  },
  {
   "cell_type": "code",
   "execution_count": null,
   "metadata": {},
   "outputs": [
    {
     "data": {
      "text/plain": [
       "'\\nPre requisite-\\n Data type\\n loop\\n function\\n \\n'"
      ]
     },
     "execution_count": 145,
     "metadata": {},
     "output_type": "execute_result"
    }
   ],
   "source": [
    "\"\"\"\n",
    "Pre requisite-\n",
    " Data type\n",
    " loop\n",
    " function\n",
    " \n",
    "\"\"\""
   ]
  },
  {
   "cell_type": "markdown",
   "metadata": {},
   "source": [
    "- Numpy stand for numerical python \n",
    "- to deal with arrays based computing + complex operation\n",
    "- travis oliphan developed numpy \n",
    "- he developed numpy in C, Python language."
   ]
  },
  {
   "cell_type": "code",
   "execution_count": 1,
   "metadata": {},
   "outputs": [
    {
     "name": "stdout",
     "output_type": "stream",
     "text": [
      "[[10, 20], [30, 40]]\n"
     ]
    }
   ],
   "source": [
    "lst=[[10,20],[30,40]]\n",
    "print(lst)"
   ]
  },
  {
   "cell_type": "code",
   "execution_count": 2,
   "metadata": {},
   "outputs": [
    {
     "name": "stdout",
     "output_type": "stream",
     "text": [
      "[10, 20]\n",
      "[30, 40]\n"
     ]
    }
   ],
   "source": [
    "for row in lst:\n",
    "    print(row)"
   ]
  },
  {
   "cell_type": "code",
   "execution_count": 3,
   "metadata": {},
   "outputs": [
    {
     "data": {
      "text/plain": [
       "'\"\\n- ndarray - mean n dimension array\\n- pip install numpy\\n\\n- to uninstall\\npip uninstall numpy\\n\\n# to install and uninstall you need internet connection\\nbecause pip is connected to github\\n\\n-to find the version of numpy\\nimport numpy\\nprint(np.__version__)\\n\\n'"
      ]
     },
     "execution_count": 3,
     "metadata": {},
     "output_type": "execute_result"
    }
   ],
   "source": [
    "\"\"\"\"\n",
    "- ndarray - mean n dimension array\n",
    "- pip install numpy\n",
    "\n",
    "- to uninstall\n",
    "pip uninstall numpy\n",
    "\n",
    "# to install and uninstall you need internet connection\n",
    "because pip is connected to github\n",
    "\n",
    "-to find the version of numpy\n",
    "import numpy\n",
    "print(np.__version__)\n",
    "\n",
    "\"\"\""
   ]
  },
  {
   "cell_type": "code",
   "execution_count": 4,
   "metadata": {},
   "outputs": [
    {
     "name": "stdout",
     "output_type": "stream",
     "text": [
      "2.2.2\n"
     ]
    }
   ],
   "source": [
    "import numpy as np\n",
    "print(np.__version__)\n",
    "\n"
   ]
  },
  {
   "cell_type": "code",
   "execution_count": 5,
   "metadata": {},
   "outputs": [
    {
     "name": "stdout",
     "output_type": "stream",
     "text": [
      "[10 20 30 40 50 60 15 10 35 20 30] <class 'numpy.ndarray'>\n"
     ]
    }
   ],
   "source": [
    "lst=[10,20,30,40,50,60,15,10,35,20,30]\n",
    "a=np.array(lst)\n",
    "print(a,type(a))"
   ]
  },
  {
   "cell_type": "code",
   "execution_count": 6,
   "metadata": {},
   "outputs": [
    {
     "name": "stdout",
     "output_type": "stream",
     "text": [
      "[11 21 31 41 51 61 16 11 36 21 31] <class 'numpy.ndarray'>\n"
     ]
    }
   ],
   "source": [
    "a=a+1\n",
    "print(a,type(a))"
   ]
  },
  {
   "cell_type": "code",
   "execution_count": 7,
   "metadata": {},
   "outputs": [
    {
     "name": "stdout",
     "output_type": "stream",
     "text": [
      "88\n"
     ]
    }
   ],
   "source": [
    "# how to find the memory size \n",
    "import sys\n",
    "lst1=[10,20,30]\n",
    "print(sys.getsizeof(lst1))"
   ]
  },
  {
   "cell_type": "code",
   "execution_count": 8,
   "metadata": {},
   "outputs": [],
   "source": [
    "# vector based operation is done with numpy.\n",
    "# nd array take less memory space for large scale data \n",
    "#"
   ]
  },
  {
   "cell_type": "markdown",
   "metadata": {},
   "source": [
    "# Numpy"
   ]
  },
  {
   "cell_type": "markdown",
   "metadata": {},
   "source": [
    "\"\"\"  \n",
    "- numpy stand for numerical python .\n",
    "- numpy is one of the pre define third party module / library and numpy module is not pre define module in python.\n",
    "- syntax for installing any module in python:\n",
    "    pip install numpy\n",
    "    \n",
    "- to use numpy as a part of our program , we must import numpy module.\n",
    "- a numpy module is collection of variable, function, and classes.\n",
    "____________________\n",
    "\n",
    "History of numpy:-\n",
    "\n",
    "- developed in 2005 by travis oliphan.\n",
    "- to solve complex math.\n",
    "- numpy is developed in c and python language.\n",
    "\n",
    "- in numpy programming , data is organise in the object of \"ndarray\". which is one of the pre defined class in numpy.\n",
    "- hence object of ndarray can store same type or different type ( unique+duplicate ) in single object.\n",
    "\n",
    "__________________________\n",
    "\n",
    "# Advantage of numpy.\n",
    "\n",
    "- with revolution of data science , data analysis like numpy, scipy, scikit and pandas etc., have seen a lot of growth.\n",
    "- numpy provide a convenient and efficient way to handle the vast amount of data .\n",
    "- numpy can also do matrix operation and data reshaping.\n",
    "- numpy is fast which makes it resonable to work with large set of data.\n",
    "\n",
    "\n",
    "- we can perform 1d,2d ,3d multi dimension array.\n",
    "- numpy maintain minimal memory for large of data .\n",
    "-  numpy provide fast in performing operation because it internally its data is available at same address.\n",
    "- numpy provide many inbuilt function for various complex mathematics operation such as statistical, algebraic, trigonometric, financial and many more.\n",
    "    \n",
    "\"\"\""
   ]
  },
  {
   "cell_type": "markdown",
   "metadata": {},
   "source": [
    "# number of ways to create an object of ndarray:-\n",
    "\n",
    " \n",
    "# i want to create a object of list:-\n",
    "- lst1=list()\n",
    "#or\n",
    "- lst2=[]\n",
    "#or \n",
    "- lst3=list({v1,v2,v3})\n",
    "#or\n",
    "lst4=list((v1,v2,v3))\n"
   ]
  },
  {
   "cell_type": "code",
   "execution_count": 9,
   "metadata": {},
   "outputs": [],
   "source": [
    "# in numpy we can create an object of ndarray with the following ways:-\n",
    "\n",
    "#1. array()\n",
    "#2. arange()\n",
    "#3. linspace()\n",
    "#4. zeros()\n",
    "#5. ones()\n",
    "#6. full()\n",
    "#7. identity()\n",
    "#8. eye()\n",
    "#9. hstack()\n",
    "#10. vstack()\n",
    "\n",
    "\n",
    "#numpy.random \n",
    "    #a. randint()\n",
    "    #b. rand()\n",
    "    #c. uniform()\n",
    "    #d. randn()\n",
    "    #e. normal()\n",
    "    #f. shuffle()\n",
    "    "
   ]
  },
  {
   "cell_type": "code",
   "execution_count": 10,
   "metadata": {},
   "outputs": [],
   "source": [
    "#pip show numpy\n",
    "#pip list"
   ]
  },
  {
   "cell_type": "markdown",
   "metadata": {},
   "source": [
    "# 1. array()\n",
    "- syntax:-\n",
    "- varname=numpy.array(object,dtype)\n",
    "- this function is used  for converting traditional python objects into ndarray object\n",
    "\n"
   ]
  },
  {
   "cell_type": "code",
   "execution_count": 11,
   "metadata": {},
   "outputs": [
    {
     "name": "stdout",
     "output_type": "stream",
     "text": [
      "90 <class 'numpy.ndarray'>\n"
     ]
    }
   ],
   "source": [
    "import numpy as np\n",
    "b=90\n",
    "a=np.array(b)\n",
    "print(a,type(a))"
   ]
  },
  {
   "cell_type": "code",
   "execution_count": 12,
   "metadata": {},
   "outputs": [
    {
     "name": "stdout",
     "output_type": "stream",
     "text": [
      "0\n"
     ]
    }
   ],
   "source": [
    "print(a.ndim)"
   ]
  },
  {
   "cell_type": "code",
   "execution_count": 13,
   "metadata": {},
   "outputs": [
    {
     "name": "stdout",
     "output_type": "stream",
     "text": [
      "()\n"
     ]
    }
   ],
   "source": [
    "print(a.shape)"
   ]
  },
  {
   "cell_type": "code",
   "execution_count": 14,
   "metadata": {},
   "outputs": [
    {
     "name": "stdout",
     "output_type": "stream",
     "text": [
      "1\n"
     ]
    }
   ],
   "source": [
    "print(a.size)"
   ]
  },
  {
   "cell_type": "code",
   "execution_count": 15,
   "metadata": {},
   "outputs": [
    {
     "name": "stdout",
     "output_type": "stream",
     "text": [
      "int64\n"
     ]
    }
   ],
   "source": [
    "print(a.dtype)"
   ]
  },
  {
   "cell_type": "code",
   "execution_count": 16,
   "metadata": {},
   "outputs": [
    {
     "name": "stdout",
     "output_type": "stream",
     "text": [
      "3.4 <class 'numpy.ndarray'>\n",
      "dimension 0\n",
      "shape ()\n",
      "size 1\n",
      "internal data type float64\n"
     ]
    }
   ],
   "source": [
    "b=3.4\n",
    "a=np.array(b)\n",
    "print(a,type(a))\n",
    "print(\"dimension\",a.ndim)\n",
    "print(\"shape\",a.shape)\n",
    "print(\"size\",a.size)\n",
    "print(\"internal data type\",a.dtype)"
   ]
  },
  {
   "cell_type": "code",
   "execution_count": 17,
   "metadata": {},
   "outputs": [
    {
     "name": "stdout",
     "output_type": "stream",
     "text": [
      "(3.4+4.5j) <class 'numpy.ndarray'>\n",
      "dimension 0\n",
      "shape ()\n",
      "size 1\n",
      "internal data type complex128\n"
     ]
    }
   ],
   "source": [
    "b=3.4+4.5j\n",
    "a=np.array(b)\n",
    "print(a,type(a))\n",
    "print(\"dimension\",a.ndim)\n",
    "print(\"shape\",a.shape)\n",
    "print(\"size\",a.size)\n",
    "print(\"internal data type\",a.dtype)"
   ]
  },
  {
   "cell_type": "code",
   "execution_count": 18,
   "metadata": {},
   "outputs": [
    {
     "name": "stdout",
     "output_type": "stream",
     "text": [
      "python <class 'numpy.ndarray'>\n",
      "dimension 0\n",
      "shape ()\n",
      "size 1\n",
      "internal data type <U6\n"
     ]
    }
   ],
   "source": [
    "b=\"python\"\n",
    "a=np.array(b)\n",
    "print(a,type(a))\n",
    "print(\"dimension\",a.ndim)\n",
    "print(\"shape\",a.shape)\n",
    "print(\"size\",a.size)\n",
    "print(\"internal data type\",a.dtype)"
   ]
  },
  {
   "cell_type": "code",
   "execution_count": 19,
   "metadata": {},
   "outputs": [
    {
     "name": "stdout",
     "output_type": "stream",
     "text": [
      "1\t2\t3\t4\t5\t6\t7\t8\t9\t10\t"
     ]
    }
   ],
   "source": [
    "for val in range(1,11):\n",
    "    print(val,end=\"\\t\")"
   ]
  },
  {
   "cell_type": "code",
   "execution_count": 20,
   "metadata": {},
   "outputs": [
    {
     "name": "stdout",
     "output_type": "stream",
     "text": [
      "[10 12 14 16 18 20 22 24 26 28 30 32 34 36 38 40 42 44 46 48 50]\t"
     ]
    }
   ],
   "source": [
    "r=range(10,51,2)\n",
    "a=np.array(r)\n",
    "print(a,end=\"\\t\")"
   ]
  },
  {
   "cell_type": "code",
   "execution_count": 21,
   "metadata": {},
   "outputs": [
    {
     "name": "stdout",
     "output_type": "stream",
     "text": [
      "[10 12 14 16 18 20 22 24 26 28 30 32 34 36 38 40 42 44 46 48 50] <class 'numpy.ndarray'>\n",
      "dimension 1\n",
      "shape (21,)\n",
      "size 21\n",
      "internal data type int64\n"
     ]
    }
   ],
   "source": [
    "print(a,type(a))\n",
    "print(\"dimension\",a.ndim)\n",
    "print(\"shape\",a.shape)\n",
    "print(\"size\",a.size)\n",
    "print(\"internal data type\",a.dtype)"
   ]
  },
  {
   "cell_type": "code",
   "execution_count": 22,
   "metadata": {},
   "outputs": [
    {
     "name": "stdout",
     "output_type": "stream",
     "text": [
      "[False  True  True  True  True  True] <class 'numpy.ndarray'>\n",
      "dimension 1\n",
      "shape (6,)\n",
      "size 6\n",
      "internal data type bool\n"
     ]
    }
   ],
   "source": [
    "a=np.array(range(6),dtype=bool)\n",
    "print(a,type(a))\n",
    "print(\"dimension\",a.ndim)\n",
    "print(\"shape\",a.shape)\n",
    "print(\"size\",a.size)\n",
    "print(\"internal data type\",a.dtype)"
   ]
  },
  {
   "cell_type": "code",
   "execution_count": 23,
   "metadata": {},
   "outputs": [
    {
     "name": "stdout",
     "output_type": "stream",
     "text": [
      "[0 1 2 3 4 5] <class 'numpy.ndarray'>\n",
      "dimension 1\n",
      "shape (6,)\n",
      "size 6\n",
      "internal data type int64\n"
     ]
    }
   ],
   "source": [
    "a=np.array(range(6),dtype=int)\n",
    "print(a,type(a))\n",
    "print(\"dimension\",a.ndim)\n",
    "print(\"shape\",a.shape)\n",
    "print(\"size\",a.size)\n",
    "print(\"internal data type\",a.dtype)"
   ]
  },
  {
   "cell_type": "markdown",
   "metadata": {},
   "source": [
    "# now i want to reshape the 1D to 2D array:-\n",
    "\n",
    "- syntax: for shape attribute\n",
    "- ndarrayobj.shape=(rows,cols)\n",
    "-  syntax: for reshape attribute\n",
    "- ndarrayobj=ndarrayobj.reshape(rows,cols)"
   ]
  },
  {
   "cell_type": "code",
   "execution_count": 24,
   "metadata": {},
   "outputs": [
    {
     "name": "stdout",
     "output_type": "stream",
     "text": [
      "[100 105 110 115 120 125 130 135 140 145 150 155] <class 'numpy.ndarray'>\n",
      "dimension 1\n",
      "shape (12,)\n",
      "size 12\n",
      "internal data type int64\n"
     ]
    }
   ],
   "source": [
    "a=np.array(range(100,156,5))\n",
    "print(a,type(a))\n",
    "print(\"dimension\",a.ndim)\n",
    "print(\"shape\",a.shape)\n",
    "print(\"size\",a.size)\n",
    "print(\"internal data type\",a.dtype)"
   ]
  },
  {
   "cell_type": "code",
   "execution_count": 25,
   "metadata": {},
   "outputs": [
    {
     "name": "stdout",
     "output_type": "stream",
     "text": [
      "[[100 105 110]\n",
      " [115 120 125]\n",
      " [130 135 140]\n",
      " [145 150 155]] <class 'numpy.ndarray'>\n",
      "dimension 2\n",
      "shape (4, 3)\n",
      "size 12\n",
      "internal data type int64\n"
     ]
    }
   ],
   "source": [
    "a.shape=(4,3)\n",
    "print(a,type(a))\n",
    "print(\"dimension\",a.ndim)\n",
    "print(\"shape\",a.shape)\n",
    "print(\"size\",a.size)\n",
    "print(\"internal data type\",a.dtype)"
   ]
  },
  {
   "cell_type": "code",
   "execution_count": 26,
   "metadata": {},
   "outputs": [
    {
     "name": "stdout",
     "output_type": "stream",
     "text": [
      "[100 105 110 115 120 125 130 135 140 145 150 155] <class 'numpy.ndarray'>\n",
      "dimension 1\n",
      "shape (12,)\n",
      "size 12\n",
      "internal data type int64\n"
     ]
    }
   ],
   "source": [
    "a.shape=(12,)\n",
    "print(a,type(a))\n",
    "print(\"dimension\",a.ndim)\n",
    "print(\"shape\",a.shape)\n",
    "print(\"size\",a.size)\n",
    "print(\"internal data type\",a.dtype)"
   ]
  },
  {
   "cell_type": "code",
   "execution_count": 27,
   "metadata": {},
   "outputs": [
    {
     "name": "stdout",
     "output_type": "stream",
     "text": [
      "[100 105 110 115 120 125 130 135 140 145 150 155] <class 'numpy.ndarray'>\n",
      "dimension 1\n",
      "shape (12,)\n",
      "size 12\n",
      "internal data type int64\n"
     ]
    }
   ],
   "source": [
    "a.reshape(4,3)\n",
    "print(a,type(a))\n",
    "print(\"dimension\",a.ndim)\n",
    "print(\"shape\",a.shape)\n",
    "print(\"size\",a.size)\n",
    "print(\"internal data type\",a.dtype)"
   ]
  },
  {
   "cell_type": "code",
   "execution_count": 28,
   "metadata": {},
   "outputs": [
    {
     "name": "stdout",
     "output_type": "stream",
     "text": [
      "[100 105 110 115 120 125 130 135 140 145 150 155] <class 'numpy.ndarray'>\n",
      "dimension 1\n",
      "shape (12,)\n",
      "size 12\n",
      "internal data type int64\n"
     ]
    }
   ],
   "source": [
    "a=a.reshape(12,)\n",
    "print(a,type(a))\n",
    "print(\"dimension\",a.ndim)\n",
    "print(\"shape\",a.shape)\n",
    "print(\"size\",a.size)\n",
    "print(\"internal data type\",a.dtype)"
   ]
  },
  {
   "cell_type": "code",
   "execution_count": 29,
   "metadata": {},
   "outputs": [
    {
     "name": "stdout",
     "output_type": "stream",
     "text": [
      "[[[[ 0  1]\n",
      "   [ 2  3]]\n",
      "\n",
      "  [[ 4  5]\n",
      "   [ 6  7]]]\n",
      "\n",
      "\n",
      " [[[ 8  9]\n",
      "   [10 11]]\n",
      "\n",
      "  [[12 13]\n",
      "   [14 15]]]] <class 'numpy.ndarray'>\n",
      "dimension 4\n",
      "shape (2, 2, 2, 2)\n",
      "size 16\n",
      "internal data type int64\n"
     ]
    }
   ],
   "source": [
    "a=np.array(range(0,16))\n",
    "a.shape=(2,2,2,2)\n",
    "print(a,type(a))\n",
    "print(\"dimension\",a.ndim)\n",
    "print(\"shape\",a.shape)\n",
    "print(\"size\",a.size)\n",
    "print(\"internal data type\",a.dtype)"
   ]
  },
  {
   "cell_type": "code",
   "execution_count": 30,
   "metadata": {},
   "outputs": [
    {
     "name": "stdout",
     "output_type": "stream",
     "text": [
      "[[ 0  1  2  3]\n",
      " [ 4  5  6  7]\n",
      " [ 8  9 10 11]\n",
      " [12 13 14 15]] <class 'numpy.ndarray'>\n",
      "dimension 2\n",
      "shape (4, 4)\n",
      "size 16\n",
      "internal data type int64\n"
     ]
    }
   ],
   "source": [
    "lst=[10,20,30,40,50,60,70,80,90,100,110,120,130,140,160]\n",
    "a.shape=(4,4)\n",
    "print(a,type(a))\n",
    "print(\"dimension\",a.ndim)\n",
    "print(\"shape\",a.shape)\n",
    "print(\"size\",a.size)\n",
    "print(\"internal data type\",a.dtype)"
   ]
  },
  {
   "cell_type": "code",
   "execution_count": 31,
   "metadata": {},
   "outputs": [
    {
     "name": "stdout",
     "output_type": "stream",
     "text": [
      "[[[ 0  1  2  3]\n",
      "  [ 4  5  6  7]]\n",
      "\n",
      " [[ 8  9 10 11]\n",
      "  [12 13 14 15]]] <class 'numpy.ndarray'>\n",
      "dimension 3\n",
      "shape (2, 2, 4)\n",
      "size 16\n",
      "internal data type int64\n"
     ]
    }
   ],
   "source": [
    "a.shape=(2,2,4)\n",
    "print(a,type(a))\n",
    "print(\"dimension\",a.ndim)\n",
    "print(\"shape\",a.shape)\n",
    "print(\"size\",a.size)\n",
    "print(\"internal data type\",a.dtype)"
   ]
  },
  {
   "cell_type": "code",
   "execution_count": 32,
   "metadata": {},
   "outputs": [
    {
     "name": "stdout",
     "output_type": "stream",
     "text": [
      "[ 0  1  2  3  4  5  6  7  8  9 10 11 12 13 14 15] <class 'numpy.ndarray'>\n",
      "dimension 1\n",
      "shape (16,)\n",
      "size 16\n",
      "internal data type int64\n"
     ]
    }
   ],
   "source": [
    "# to flatten\n",
    "a.shape=(16,)\n",
    "print(a,type(a))\n",
    "print(\"dimension\",a.ndim)\n",
    "print(\"shape\",a.shape)\n",
    "print(\"size\",a.size)\n",
    "print(\"internal data type\",a.dtype)"
   ]
  },
  {
   "cell_type": "code",
   "execution_count": 33,
   "metadata": {},
   "outputs": [
    {
     "name": "stdout",
     "output_type": "stream",
     "text": [
      "{50, 20, 40, 10, 60, 30} <class 'set'>\n"
     ]
    }
   ],
   "source": [
    "s1={10,20,30,40,50,60}\n",
    "print(s1,type(s1))"
   ]
  },
  {
   "cell_type": "code",
   "execution_count": 34,
   "metadata": {},
   "outputs": [
    {
     "name": "stdout",
     "output_type": "stream",
     "text": [
      "{50, 20, 40, 10, 60, 30} <class 'numpy.ndarray'>\n"
     ]
    }
   ],
   "source": [
    "a=np.array(s1)\n",
    "\n",
    "print(a,type(a))"
   ]
  },
  {
   "cell_type": "code",
   "execution_count": 35,
   "metadata": {},
   "outputs": [
    {
     "name": "stdout",
     "output_type": "stream",
     "text": [
      "{50, 20, 40, 10, 60, 30} <class 'numpy.ndarray'>\n",
      "dimension 0\n",
      "shape ()\n",
      "size 1\n",
      "internal data type object\n"
     ]
    }
   ],
   "source": [
    "print(a,type(a))\n",
    "print(\"dimension\",a.ndim)\n",
    "print(\"shape\",a.shape)\n",
    "print(\"size\",a.size)\n",
    "print(\"internal data type\",a.dtype)"
   ]
  },
  {
   "cell_type": "code",
   "execution_count": 36,
   "metadata": {},
   "outputs": [
    {
     "name": "stdout",
     "output_type": "stream",
     "text": [
      "{10: 'python', 20: 'java', 30: 'c', 40: 'c++'} <class 'numpy.ndarray'>\n",
      "{10: 'python', 20: 'java', 30: 'c', 40: 'c++'} <class 'numpy.ndarray'>\n",
      "dimension 0\n",
      "shape ()\n",
      "size 1\n",
      "internal data type object\n"
     ]
    }
   ],
   "source": [
    "d1={10:\"python\",20:\"java\",30:\"c\",40:\"c++\"}\n",
    "\n",
    "a=np.array(d1)\n",
    "print(a,type(a))\n",
    "print(a,type(a))\n",
    "print(\"dimension\",a.ndim)\n",
    "print(\"shape\",a.shape)\n",
    "print(\"size\",a.size)\n",
    "print(\"internal data type\",a.dtype)"
   ]
  },
  {
   "cell_type": "markdown",
   "metadata": {},
   "source": [
    "# 2. arange()\n",
    "- arange() is used for generating range of values with equal interval of value(default interval value or step value is 1)\n",
    "- syntax:-\n",
    "- varname=numpy.arange(start)\n",
    "- varname=numpy.arange(start,end)\n",
    "- varname=numpy.arange(start,end,step)\n",
    "\n",
    "- arange() by default create an object of ndarray with 1D  array only ,it cannot built 2D and n-dimension array\n",
    "\n",
    "- to built 2D and n-D array from arange() function we use reshape() or shape attribute.\n",
    " "
   ]
  },
  {
   "cell_type": "code",
   "execution_count": 37,
   "metadata": {},
   "outputs": [
    {
     "name": "stdout",
     "output_type": "stream",
     "text": [
      "[0 1 2 3 4 5 6 7 8 9] <class 'numpy.ndarray'>\n",
      "dimension 1\n",
      "shape (10,)\n",
      "size 10\n",
      "internal data type int64\n"
     ]
    }
   ],
   "source": [
    "import numpy as np\n",
    "a=np.arange(10)\n",
    "print(a,type(a))\n",
    "print(\"dimension\",a.ndim)\n",
    "print(\"shape\",a.shape)\n",
    "print(\"size\",a.size)\n",
    "print(\"internal data type\",a.dtype)"
   ]
  },
  {
   "cell_type": "code",
   "execution_count": 38,
   "metadata": {},
   "outputs": [
    {
     "name": "stdout",
     "output_type": "stream",
     "text": [
      "[[0 1]\n",
      " [2 3]\n",
      " [4 5]\n",
      " [6 7]\n",
      " [8 9]] <class 'numpy.ndarray'>\n",
      "dimension 2\n",
      "shape (5, 2)\n",
      "size 10\n",
      "internal data type int64\n"
     ]
    }
   ],
   "source": [
    "a.shape=(5,2)\n",
    "print(a,type(a))\n",
    "print(\"dimension\",a.ndim)\n",
    "print(\"shape\",a.shape)\n",
    "print(\"size\",a.size)\n",
    "print(\"internal data type\",a.dtype)"
   ]
  },
  {
   "cell_type": "code",
   "execution_count": 39,
   "metadata": {},
   "outputs": [
    {
     "name": "stdout",
     "output_type": "stream",
     "text": [
      "[10 11 12 13 14 15 16 17 18 19 20 21] <class 'numpy.ndarray'> 12\n",
      "dimension 1\n",
      "shape (12,)\n",
      "size 12\n",
      "internal data type int64\n"
     ]
    }
   ],
   "source": [
    "a=np.arange(10,22)\n",
    "print(a,type(a),len(a))\n",
    "print(\"dimension\",a.ndim)\n",
    "print(\"shape\",a.shape)\n",
    "print(\"size\",a.size)\n",
    "print(\"internal data type\",a.dtype)"
   ]
  },
  {
   "cell_type": "code",
   "execution_count": 40,
   "metadata": {},
   "outputs": [
    {
     "name": "stdout",
     "output_type": "stream",
     "text": [
      "[[[10 11 12]\n",
      "  [13 14 15]]\n",
      "\n",
      " [[16 17 18]\n",
      "  [19 20 21]]] <class 'numpy.ndarray'>\n",
      "dimension 3\n",
      "shape (2, 2, 3)\n",
      "size 12\n",
      "internal data type int64\n"
     ]
    }
   ],
   "source": [
    "a.shape=(2,2,3)\n",
    "print(a,type(a))\n",
    "print(\"dimension\",a.ndim)\n",
    "print(\"shape\",a.shape)\n",
    "print(\"size\",a.size)\n",
    "print(\"internal data type\",a.dtype)"
   ]
  },
  {
   "cell_type": "code",
   "execution_count": 41,
   "metadata": {},
   "outputs": [
    {
     "name": "stdout",
     "output_type": "stream",
     "text": [
      "[[[10 11]\n",
      "  [12 13]\n",
      "  [14 15]]\n",
      "\n",
      " [[16 17]\n",
      "  [18 19]\n",
      "  [20 21]]] <class 'numpy.ndarray'>\n"
     ]
    }
   ],
   "source": [
    "a=np.arange(10,22).reshape(2,3,2)\n",
    "print(a,type(a))"
   ]
  },
  {
   "cell_type": "code",
   "execution_count": 42,
   "metadata": {},
   "outputs": [
    {
     "name": "stdout",
     "output_type": "stream",
     "text": [
      "[[ 10  15  20  25]\n",
      " [ 30  35  40  45]\n",
      " [ 50  55  60  65]\n",
      " [ 70  75  80  85]\n",
      " [ 90  95 100 105]] <class 'numpy.ndarray'> 5\n"
     ]
    }
   ],
   "source": [
    "a=np.arange(10,106,5).reshape(5,4)\n",
    "print(a,type(a),len(a))"
   ]
  },
  {
   "cell_type": "markdown",
   "metadata": {},
   "source": [
    "# linspace()\n",
    "- syntax:-\n",
    "- varname=numpy.linspace(start,stop,num,endpoint,restep,dtype)\n",
    "- "
   ]
  },
  {
   "cell_type": "code",
   "execution_count": 43,
   "metadata": {},
   "outputs": [
    {
     "name": "stdout",
     "output_type": "stream",
     "text": [
      "[1.         1.02040816 1.04081633 1.06122449 1.08163265 1.10204082\n",
      " 1.12244898 1.14285714 1.16326531 1.18367347 1.20408163 1.2244898\n",
      " 1.24489796 1.26530612 1.28571429 1.30612245 1.32653061 1.34693878\n",
      " 1.36734694 1.3877551  1.40816327 1.42857143 1.44897959 1.46938776\n",
      " 1.48979592 1.51020408 1.53061224 1.55102041 1.57142857 1.59183673\n",
      " 1.6122449  1.63265306 1.65306122 1.67346939 1.69387755 1.71428571\n",
      " 1.73469388 1.75510204 1.7755102  1.79591837 1.81632653 1.83673469\n",
      " 1.85714286 1.87755102 1.89795918 1.91836735 1.93877551 1.95918367\n",
      " 1.97959184 2.        ] <class 'numpy.ndarray'>\n"
     ]
    }
   ],
   "source": [
    "a=np.linspace(1,2)\n",
    "\n",
    "print(a,type(a))"
   ]
  },
  {
   "cell_type": "code",
   "execution_count": 44,
   "metadata": {},
   "outputs": [
    {
     "name": "stdout",
     "output_type": "stream",
     "text": [
      "[1.   1.25 1.5  1.75 2.  ] <class 'numpy.ndarray'>\n"
     ]
    }
   ],
   "source": [
    "a=np.linspace(1,2,num=5)\n",
    "print(a,type(a))"
   ]
  },
  {
   "cell_type": "code",
   "execution_count": 45,
   "metadata": {},
   "outputs": [
    {
     "name": "stdout",
     "output_type": "stream",
     "text": [
      "[1.  1.2 1.4 1.6 1.8] <class 'numpy.ndarray'>\n"
     ]
    }
   ],
   "source": [
    "a=np.linspace(1,2,num=5,endpoint=False)\n",
    "print(a,type(a))"
   ]
  },
  {
   "cell_type": "code",
   "execution_count": 46,
   "metadata": {},
   "outputs": [
    {
     "name": "stdout",
     "output_type": "stream",
     "text": [
      "(array([1.  , 1.25, 1.5 , 1.75, 2.  ]), np.float64(0.25)) <class 'tuple'>\n"
     ]
    }
   ],
   "source": [
    "a=np.linspace(1,2,num=5,retstep=True)\n",
    "print(a,type(a))"
   ]
  },
  {
   "cell_type": "markdown",
   "metadata": {},
   "source": [
    "# zeros()\n",
    "- syntax:-\n",
    "- varname=numpy.zeros(shape,dtype)"
   ]
  },
  {
   "cell_type": "code",
   "execution_count": 47,
   "metadata": {},
   "outputs": [
    {
     "name": "stdout",
     "output_type": "stream",
     "text": [
      "[0 0 0 0] <class 'numpy.ndarray'>\n",
      "[[0 0]\n",
      " [0 0]] <class 'numpy.ndarray'>\n"
     ]
    }
   ],
   "source": [
    "l1=[0,0,0,0]\n",
    "a=np.array(l1)\n",
    "print(a,type(a))\n",
    "a.shape=(2,2)\n",
    "print(a,type(a))"
   ]
  },
  {
   "cell_type": "code",
   "execution_count": 48,
   "metadata": {},
   "outputs": [
    {
     "name": "stdout",
     "output_type": "stream",
     "text": [
      "[[0 0]\n",
      " [0 0]] <class 'numpy.ndarray'>\n",
      "dimension 2\n",
      "shape (2, 2)\n",
      "size 4\n",
      "internal data type int64\n"
     ]
    }
   ],
   "source": [
    "a=np.zeros((2,2),dtype=int)\n",
    "print(a,type(a))\n",
    "print(\"dimension\",a.ndim)\n",
    "print(\"shape\",a.shape)\n",
    "print(\"size\",a.size)\n",
    "print(\"internal data type\",a.dtype)\n"
   ]
  },
  {
   "cell_type": "code",
   "execution_count": 49,
   "metadata": {},
   "outputs": [
    {
     "name": "stdout",
     "output_type": "stream",
     "text": [
      "[[[0 0 0]\n",
      "  [0 0 0]\n",
      "  [0 0 0]]\n",
      "\n",
      " [[0 0 0]\n",
      "  [0 0 0]\n",
      "  [0 0 0]]\n",
      "\n",
      " [[0 0 0]\n",
      "  [0 0 0]\n",
      "  [0 0 0]]] <class 'numpy.ndarray'>\n",
      "dimension 3\n",
      "shape (3, 3, 3)\n",
      "size 27\n",
      "internal data type int64\n"
     ]
    }
   ],
   "source": [
    "a=np.zeros((3,3,3),dtype=int)\n",
    "print(a,type(a))\n",
    "print(\"dimension\",a.ndim)\n",
    "print(\"shape\",a.shape)\n",
    "print(\"size\",a.size)\n",
    "print(\"internal data type\",a.dtype)\n"
   ]
  },
  {
   "cell_type": "markdown",
   "metadata": {},
   "source": [
    "# ones()\n",
    "- syntax:-\n",
    "- "
   ]
  },
  {
   "cell_type": "code",
   "execution_count": 50,
   "metadata": {},
   "outputs": [
    {
     "name": "stdout",
     "output_type": "stream",
     "text": [
      "[1 1 1] <class 'numpy.ndarray'>\n",
      "dimension 1\n",
      "shape (3,)\n",
      "size 3\n",
      "internal data type int64\n"
     ]
    }
   ],
   "source": [
    "a=np.ones(3,dtype=int)\n",
    "print(a,type(a))\n",
    "print(\"dimension\",a.ndim)\n",
    "print(\"shape\",a.shape)\n",
    "print(\"size\",a.size)\n",
    "print(\"internal data type\",a.dtype)\n"
   ]
  },
  {
   "cell_type": "code",
   "execution_count": 51,
   "metadata": {},
   "outputs": [
    {
     "name": "stdout",
     "output_type": "stream",
     "text": [
      "[[[1 1 1 1]\n",
      "  [1 1 1 1]\n",
      "  [1 1 1 1]]\n",
      "\n",
      " [[1 1 1 1]\n",
      "  [1 1 1 1]\n",
      "  [1 1 1 1]]] <class 'numpy.ndarray'>\n",
      "dimension 3\n",
      "shape (2, 3, 4)\n",
      "size 24\n",
      "internal data type int64\n"
     ]
    }
   ],
   "source": [
    "a=np.ones((2,3,4),dtype=int)\n",
    "print(a,type(a))\n",
    "print(\"dimension\",a.ndim)\n",
    "print(\"shape\",a.shape)\n",
    "print(\"size\",a.size)\n",
    "print(\"internal data type\",a.dtype)\n",
    "#a= numpy.ones((dimension,rows,columns),dtype=int)"
   ]
  },
  {
   "cell_type": "markdown",
   "metadata": {},
   "source": [
    "# full()\n",
    "- syntax:-\n",
    "- varname=numpy.full(shape,fill_value,dtype)\n"
   ]
  },
  {
   "cell_type": "code",
   "execution_count": 52,
   "metadata": {},
   "outputs": [
    {
     "name": "stdout",
     "output_type": "stream",
     "text": [
      "[9 9 9 9 9 9] <class 'numpy.ndarray'>\n",
      "dimension 1\n",
      "shape (6,)\n",
      "size 6\n",
      "internal data type int64\n"
     ]
    }
   ],
   "source": [
    "a=np.full(6,9)\n",
    "print(a,type(a))\n",
    "print(\"dimension\",a.ndim)\n",
    "print(\"shape\",a.shape)\n",
    "print(\"size\",a.size)\n",
    "print(\"internal data type\",a.dtype)\n"
   ]
  },
  {
   "cell_type": "code",
   "execution_count": 53,
   "metadata": {},
   "outputs": [
    {
     "name": "stdout",
     "output_type": "stream",
     "text": [
      "[[9 9 9]\n",
      " [9 9 9]] <class 'numpy.ndarray'>\n",
      "dimension 2\n",
      "shape (2, 3)\n",
      "size 6\n",
      "internal data type int64\n"
     ]
    }
   ],
   "source": [
    "a=np.full(6,9).reshape(2,3)\n",
    "print(a,type(a))\n",
    "print(\"dimension\",a.ndim)\n",
    "print(\"shape\",a.shape)\n",
    "print(\"size\",a.size)\n",
    "print(\"internal data type\",a.dtype)\n"
   ]
  },
  {
   "cell_type": "code",
   "execution_count": 54,
   "metadata": {},
   "outputs": [
    {
     "name": "stdout",
     "output_type": "stream",
     "text": [
      "[[6 6 6]\n",
      " [6 6 6]\n",
      " [6 6 6]] <class 'numpy.ndarray'>\n",
      "dimension 2\n",
      "shape (3, 3)\n",
      "size 9\n",
      "internal data type int64\n"
     ]
    }
   ],
   "source": [
    "a=np.full((3,3),6)\n",
    "print(a,type(a))\n",
    "print(\"dimension\",a.ndim)\n",
    "print(\"shape\",a.shape)\n",
    "print(\"size\",a.size)\n",
    "print(\"internal data type\",a.dtype)\n"
   ]
  },
  {
   "cell_type": "code",
   "execution_count": 55,
   "metadata": {},
   "outputs": [
    {
     "name": "stdout",
     "output_type": "stream",
     "text": [
      "[[[6 6 6]\n",
      "  [6 6 6]\n",
      "  [6 6 6]]\n",
      "\n",
      " [[6 6 6]\n",
      "  [6 6 6]\n",
      "  [6 6 6]]\n",
      "\n",
      " [[6 6 6]\n",
      "  [6 6 6]\n",
      "  [6 6 6]]] <class 'numpy.ndarray'>\n",
      "dimension 3\n",
      "shape (3, 3, 3)\n",
      "size 27\n",
      "internal data type int64\n"
     ]
    }
   ],
   "source": [
    "a=np.full((3,3,3),6)\n",
    "print(a,type(a))\n",
    "print(\"dimension\",a.ndim)\n",
    "print(\"shape\",a.shape)\n",
    "print(\"size\",a.size)\n",
    "print(\"internal data type\",a.dtype)"
   ]
  },
  {
   "cell_type": "code",
   "execution_count": 56,
   "metadata": {},
   "outputs": [
    {
     "name": "stdout",
     "output_type": "stream",
     "text": [
      "[[['itty' 'itty' 'itty']\n",
      "  ['itty' 'itty' 'itty']\n",
      "  ['itty' 'itty' 'itty']]\n",
      "\n",
      " [['itty' 'itty' 'itty']\n",
      "  ['itty' 'itty' 'itty']\n",
      "  ['itty' 'itty' 'itty']]\n",
      "\n",
      " [['itty' 'itty' 'itty']\n",
      "  ['itty' 'itty' 'itty']\n",
      "  ['itty' 'itty' 'itty']]] <class 'numpy.ndarray'>\n",
      "dimension 3\n",
      "shape (3, 3, 3)\n",
      "size 27\n",
      "internal data type <U4\n"
     ]
    }
   ],
   "source": [
    "a=np.full((3,3,3),\"itty\")\n",
    "print(a,type(a))\n",
    "print(\"dimension\",a.ndim)\n",
    "print(\"shape\",a.shape)\n",
    "print(\"size\",a.size)\n",
    "print(\"internal data type\",a.dtype)"
   ]
  },
  {
   "cell_type": "markdown",
   "metadata": {},
   "source": [
    "# identity()\n",
    "- syntax:-\n",
    "- varname=numpy.identity(N,dtype)"
   ]
  },
  {
   "cell_type": "code",
   "execution_count": 57,
   "metadata": {},
   "outputs": [
    {
     "name": "stdout",
     "output_type": "stream",
     "text": [
      "[[1. 0. 0.]\n",
      " [0. 1. 0.]\n",
      " [0. 0. 1.]] <class 'numpy.ndarray'>\n",
      "dimension 2\n",
      "shape (3, 3)\n",
      "size 9\n",
      "internal data type float64\n"
     ]
    }
   ],
   "source": [
    "a=np.identity(3)\n",
    "print(a,type(a))\n",
    "print(\"dimension\",a.ndim)\n",
    "print(\"shape\",a.shape)\n",
    "print(\"size\",a.size)\n",
    "print(\"internal data type\",a.dtype)"
   ]
  },
  {
   "cell_type": "markdown",
   "metadata": {},
   "source": [
    "# eye()\n",
    "\n",
    "- varname= numpy.eye(N,M=none,k=0,dtype)"
   ]
  },
  {
   "cell_type": "code",
   "execution_count": 58,
   "metadata": {},
   "outputs": [
    {
     "name": "stdout",
     "output_type": "stream",
     "text": [
      "[[1 0 0 0 0]\n",
      " [0 1 0 0 0]\n",
      " [0 0 1 0 0]\n",
      " [0 0 0 1 0]\n",
      " [0 0 0 0 1]] <class 'numpy.ndarray'>\n"
     ]
    }
   ],
   "source": [
    "a= np.identity(5,dtype=int)\n",
    "print(a,type(a))"
   ]
  },
  {
   "cell_type": "code",
   "execution_count": 59,
   "metadata": {},
   "outputs": [
    {
     "name": "stdout",
     "output_type": "stream",
     "text": [
      "[[1 0 0 0 0]\n",
      " [0 1 0 0 0]\n",
      " [0 0 1 0 0]\n",
      " [0 0 0 1 0]\n",
      " [0 0 0 0 1]] <class 'numpy.ndarray'>\n"
     ]
    }
   ],
   "source": [
    "a= np.eye(5,dtype=int)\n",
    "print(a,type(a))"
   ]
  },
  {
   "cell_type": "code",
   "execution_count": 60,
   "metadata": {},
   "outputs": [
    {
     "name": "stdout",
     "output_type": "stream",
     "text": [
      "[[0 0 0 0 0]\n",
      " [1 0 0 0 0]\n",
      " [0 1 0 0 0]\n",
      " [0 0 1 0 0]\n",
      " [0 0 0 1 0]] <class 'numpy.ndarray'>\n"
     ]
    }
   ],
   "source": [
    "a= np.eye(5,k=-1,dtype=int)\n",
    "print(a,type(a))"
   ]
  },
  {
   "cell_type": "code",
   "execution_count": 61,
   "metadata": {},
   "outputs": [
    {
     "name": "stdout",
     "output_type": "stream",
     "text": [
      "[[0 0 0 0 0]\n",
      " [0 0 0 0 0]\n",
      " [1 0 0 0 0]\n",
      " [0 1 0 0 0]\n",
      " [0 0 1 0 0]] <class 'numpy.ndarray'>\n"
     ]
    }
   ],
   "source": [
    "a= np.eye(5,k=-2,dtype=int)\n",
    "print(a,type(a))"
   ]
  },
  {
   "cell_type": "code",
   "execution_count": 62,
   "metadata": {},
   "outputs": [
    {
     "name": "stdout",
     "output_type": "stream",
     "text": [
      "[[1 0 0 0 0]\n",
      " [0 1 0 0 0]\n",
      " [0 0 1 0 0]] <class 'numpy.ndarray'>\n"
     ]
    }
   ],
   "source": [
    "a= np.eye(3,5,dtype=int)\n",
    "print(a,type(a))"
   ]
  },
  {
   "cell_type": "code",
   "execution_count": 63,
   "metadata": {},
   "outputs": [
    {
     "name": "stdout",
     "output_type": "stream",
     "text": [
      "[[1 0 0]\n",
      " [0 1 0]\n",
      " [0 0 1]\n",
      " [0 0 0]\n",
      " [0 0 0]] <class 'numpy.ndarray'>\n"
     ]
    }
   ],
   "source": [
    "a= np.eye(5,3,dtype=int)\n",
    "print(a,type(a))"
   ]
  },
  {
   "cell_type": "markdown",
   "metadata": {},
   "source": [
    "# Random number generation in numpy:-\n",
    "- numpy.random\n",
    "- 1. randint()\n",
    "- 2. rand()\n",
    "- 3. uniform()\n",
    "- 4. randn()\n",
    "- 5. normal()\n",
    "- 6. shuffle()\n",
    "\n",
    "\n",
    "- --> these are very much useful data science algorithm.(random number generation in numpy:-)"
   ]
  },
  {
   "cell_type": "code",
   "execution_count": 64,
   "metadata": {},
   "outputs": [
    {
     "data": {
      "text/plain": [
       "' \\n_____________________________________  \\n 1. randint() :- \\n syntax:-\\n randint(low, high=None, size=None, dtype=int)\\n_____________________________________\\n- 2. rand()\\n_____________________________________\\n- 3. uniform()\\n_____________________________________\\n- 4. randn()\\n_____________________________________\\n- 5. normal()\\n_____________________________________\\n- 6. shuffle()\\n_____________________________________\\n\\n\\n\\n'"
      ]
     },
     "execution_count": 64,
     "metadata": {},
     "output_type": "execute_result"
    }
   ],
   "source": [
    "import numpy as np\n",
    "\"\"\" \n",
    "_____________________________________  \n",
    " 1. randint() :- \n",
    " syntax:-\n",
    " randint(low, high=None, size=None, dtype=int)\n",
    "_____________________________________\n",
    "- 2. rand()\n",
    "_____________________________________\n",
    "- 3. uniform()\n",
    "_____________________________________\n",
    "- 4. randn()\n",
    "_____________________________________\n",
    "- 5. normal()\n",
    "_____________________________________\n",
    "- 6. shuffle()\n",
    "_____________________________________\n",
    "\n",
    "\n",
    "\n",
    "\"\"\"\n"
   ]
  },
  {
   "cell_type": "code",
   "execution_count": 65,
   "metadata": {},
   "outputs": [
    {
     "name": "stdout",
     "output_type": "stream",
     "text": [
      "6 <class 'int'>\n"
     ]
    }
   ],
   "source": [
    "a=np.random.randint(10)\n",
    "print(a,type(a))"
   ]
  },
  {
   "cell_type": "code",
   "execution_count": 66,
   "metadata": {},
   "outputs": [
    {
     "name": "stdout",
     "output_type": "stream",
     "text": [
      "[[27 23 16 29 22 15 20 10 23 12 28 21 16 11 15 10 12 25 26 29]\n",
      " [27 16 26 26 16 26 26 12 22 24 17 19 10 27 21 12 11 23 16 21]\n",
      " [20 19 13 24 12 22 27 17 11 25 10 28 27 21 12 18 22 17 28 28]\n",
      " [20 26 16 13 24 26 21 26 22 15 19 25 19 11 20 26 14 10 15 11]\n",
      " [15 13 25 16 27 18 21 20 13 23 25 23 21 11 21 17 11 11 11 21]\n",
      " [18 28 28 29 25 20 10 18 26 13 15 14 20 26 29 27 14 25 22 19]\n",
      " [23 11 28 21 22 19 25 19 17 10 10 12 23 28 14 10 22 15 12 13]\n",
      " [29 14 16 22 28 12 27 25 22 25 12 28 18 10 17 10 28 29 17 26]\n",
      " [13 23 29 16 15 29 21 25 15 25 17 23 16 12 19 23 18 13 20 17]\n",
      " [11 22 15 12 25 28 18 27 13 25 24 10 24 12 14 20 29 14 10 28]] <class 'numpy.ndarray'>\n"
     ]
    }
   ],
   "source": [
    "a=np.random.randint(10,30,size=(10,20))\n",
    "print(a,type(a))"
   ]
  },
  {
   "cell_type": "code",
   "execution_count": 67,
   "metadata": {},
   "outputs": [
    {
     "name": "stdout",
     "output_type": "stream",
     "text": [
      "[[[11 29 11]\n",
      "  [27 14 23]\n",
      "  [14 17 10]]\n",
      "\n",
      " [[21 28 24]\n",
      "  [14 23 28]\n",
      "  [16 23 24]]\n",
      "\n",
      " [[15 17 10]\n",
      "  [19 14 28]\n",
      "  [18 20 21]]] <class 'numpy.ndarray'>\n"
     ]
    }
   ],
   "source": [
    "a=np.random.randint(10,30,size=(3,3,3))\n",
    "print(a,type(a))"
   ]
  },
  {
   "cell_type": "code",
   "execution_count": 68,
   "metadata": {},
   "outputs": [
    {
     "name": "stdout",
     "output_type": "stream",
     "text": [
      "[[[[10 18]\n",
      "   [22 18]]\n",
      "\n",
      "  [[28 17]\n",
      "   [11 12]]]\n",
      "\n",
      "\n",
      " [[[22 22]\n",
      "   [18 26]]\n",
      "\n",
      "  [[28 28]\n",
      "   [25 15]]]] <class 'numpy.ndarray'>\n"
     ]
    }
   ],
   "source": [
    "a=np.random.randint(10,30,size=(2,2,2,2))\n",
    "print(a,type(a))"
   ]
  },
  {
   "cell_type": "code",
   "execution_count": 69,
   "metadata": {},
   "outputs": [],
   "source": [
    "# multi dimension array are used in image processing"
   ]
  },
  {
   "cell_type": "code",
   "execution_count": 70,
   "metadata": {},
   "outputs": [
    {
     "ename": "TypeError",
     "evalue": "Unsupported dtype dtype('float64') for randint",
     "output_type": "error",
     "traceback": [
      "\u001b[1;31m---------------------------------------------------------------------------\u001b[0m",
      "\u001b[1;31mTypeError\u001b[0m                                 Traceback (most recent call last)",
      "Cell \u001b[1;32mIn[70], line 1\u001b[0m\n\u001b[1;32m----> 1\u001b[0m a\u001b[38;5;241m=\u001b[39m\u001b[43mnp\u001b[49m\u001b[38;5;241;43m.\u001b[39;49m\u001b[43mrandom\u001b[49m\u001b[38;5;241;43m.\u001b[39;49m\u001b[43mrandint\u001b[49m\u001b[43m(\u001b[49m\u001b[38;5;241;43m10\u001b[39;49m\u001b[43m,\u001b[49m\u001b[38;5;241;43m30\u001b[39;49m\u001b[43m,\u001b[49m\u001b[43mdtype\u001b[49m\u001b[38;5;241;43m=\u001b[39;49m\u001b[38;5;28;43mfloat\u001b[39;49m\u001b[43m)\u001b[49m\n\u001b[0;32m      2\u001b[0m \u001b[38;5;28mprint\u001b[39m(a,\u001b[38;5;28mtype\u001b[39m(a))\n",
      "File \u001b[1;32mnumpy\\\\random\\\\mtrand.pyx:812\u001b[0m, in \u001b[0;36mnumpy.random.mtrand.RandomState.randint\u001b[1;34m()\u001b[0m\n",
      "\u001b[1;31mTypeError\u001b[0m: Unsupported dtype dtype('float64') for randint"
     ]
    }
   ],
   "source": [
    "a=np.random.randint(10,30,dtype=float)\n",
    "print(a,type(a))"
   ]
  },
  {
   "cell_type": "code",
   "execution_count": null,
   "metadata": {},
   "outputs": [
    {
     "data": {
      "text/plain": [
       "'  \\n\\n'"
      ]
     },
     "execution_count": 37,
     "metadata": {},
     "output_type": "execute_result"
    }
   ],
   "source": [
    "# rand()---> generating random integer values between 0.0 and 1.0\n",
    "\n",
    "\"\"\"  \n",
    "\n",
    "\"\"\"\n",
    "# randn()---> generating random integer values between 0.0 and 1.0 (normal distribution)\n",
    "\"\"\"  \n",
    "\n",
    "\"\"\"\n"
   ]
  },
  {
   "cell_type": "code",
   "execution_count": null,
   "metadata": {},
   "outputs": [
    {
     "name": "stdout",
     "output_type": "stream",
     "text": [
      "[[[[2.08851978 2.66759212 1.86344694]\n",
      "   [2.22547847 1.59337147 2.28022215]\n",
      "   [2.42596536 2.73153228 2.71123368]]\n",
      "\n",
      "  [[1.76871019 2.77794028 2.73464789]\n",
      "   [2.86490528 1.55705042 2.11778691]\n",
      "   [2.63163652 2.25165703 1.69511772]]\n",
      "\n",
      "  [[2.07223973 2.05762932 2.21650431]\n",
      "   [2.77046553 2.19935115 2.26308615]\n",
      "   [2.76217697 2.35458837 1.66862355]]]\n",
      "\n",
      "\n",
      " [[[2.72158641 2.09978997 2.30443615]\n",
      "   [2.44682336 1.9924728  1.58111492]\n",
      "   [2.3334867  2.32077649 2.14452618]]\n",
      "\n",
      "  [[2.79808995 1.88832343 2.0536822 ]\n",
      "   [2.45071752 1.8209472  2.31531861]\n",
      "   [2.46999475 1.88395301 1.95614113]]\n",
      "\n",
      "  [[1.65071917 2.0504026  1.58282654]\n",
      "   [2.37617944 2.50885632 1.54609237]\n",
      "   [2.46516692 2.4730309  2.72038159]]]] <class 'numpy.ndarray'>\n",
      "dimension 4\n",
      "shape (2, 3, 3, 3)\n",
      "size 54\n",
      "dtype float64\n"
     ]
    }
   ],
   "source": [
    "a=np.random.uniform(1.5,2.9,size=(2,3,3,3))\n",
    "print(a,type(a))\n",
    "print(\"dimension\",a.ndim)\n",
    "print(\"shape\",a.shape)\n",
    "print(\"size\",a.size)\n",
    "print(\"dtype\",a.dtype)"
   ]
  },
  {
   "cell_type": "code",
   "execution_count": null,
   "metadata": {},
   "outputs": [
    {
     "name": "stdout",
     "output_type": "stream",
     "text": [
      "[[ 90  22  52  36   9  71]\n",
      " [ 48  54  96 100  43  59]\n",
      " [ 65  26  77  89  21  58]\n",
      " [ 32  84  87  81  44  73]\n",
      " [ 31  31  56  41   2  76]] <class 'numpy.ndarray'>\n"
     ]
    }
   ],
   "source": [
    "import numpy as np\n",
    "a=np.random.randint(1,101,size=(5,6))\n",
    "print(a,type(a))"
   ]
  },
  {
   "cell_type": "code",
   "execution_count": null,
   "metadata": {},
   "outputs": [
    {
     "name": "stdout",
     "output_type": "stream",
     "text": [
      "[[ 31  31  56  41   2  76]\n",
      " [ 32  84  87  81  44  73]\n",
      " [ 90  22  52  36   9  71]\n",
      " [ 48  54  96 100  43  59]\n",
      " [ 65  26  77  89  21  58]]\n"
     ]
    }
   ],
   "source": [
    "np.random.shuffle(a)\n",
    "print(a)"
   ]
  },
  {
   "cell_type": "code",
   "execution_count": null,
   "metadata": {},
   "outputs": [
    {
     "name": "stdout",
     "output_type": "stream",
     "text": [
      "[[ 0  1  2  3]\n",
      " [ 4  5  6  7]\n",
      " [ 8  9 10 11]\n",
      " [12 13 14 15]]\n"
     ]
    }
   ],
   "source": [
    "a=np.arange(0,16).reshape(4,4)\n",
    "print(a)"
   ]
  },
  {
   "cell_type": "code",
   "execution_count": null,
   "metadata": {},
   "outputs": [
    {
     "name": "stdout",
     "output_type": "stream",
     "text": [
      "[[[[ 0  1]\n",
      "   [ 2  3]]\n",
      "\n",
      "  [[ 4  5]\n",
      "   [ 6  7]]]\n",
      "\n",
      "\n",
      " [[[ 8  9]\n",
      "   [10 11]]\n",
      "\n",
      "  [[12 13]\n",
      "   [14 15]]]]\n"
     ]
    }
   ],
   "source": [
    "a=np.arange(0,16).reshape(2,2,2,2)\n",
    "print(a)"
   ]
  },
  {
   "cell_type": "code",
   "execution_count": null,
   "metadata": {},
   "outputs": [
    {
     "name": "stdout",
     "output_type": "stream",
     "text": [
      "Help on _ArrayFunctionDispatcher in module numpy:\n",
      "\n",
      "hstack(tup, *, dtype=None, casting='same_kind')\n",
      "    Stack arrays in sequence horizontally (column wise).\n",
      "\n",
      "    This is equivalent to concatenation along the second axis, except for 1-D\n",
      "    arrays where it concatenates along the first axis. Rebuilds arrays divided\n",
      "    by `hsplit`.\n",
      "\n",
      "    This function makes most sense for arrays with up to 3 dimensions. For\n",
      "    instance, for pixel-data with a height (first axis), width (second axis),\n",
      "    and r/g/b channels (third axis). The functions `concatenate`, `stack` and\n",
      "    `block` provide more general stacking and concatenation operations.\n",
      "\n",
      "    Parameters\n",
      "    ----------\n",
      "    tup : sequence of ndarrays\n",
      "        The arrays must have the same shape along all but the second axis,\n",
      "        except 1-D arrays which can be any length. In the case of a single\n",
      "        array_like input, it will be treated as a sequence of arrays; i.e.,\n",
      "        each element along the zeroth axis is treated as a separate array.\n",
      "\n",
      "    dtype : str or dtype\n",
      "        If provided, the destination array will have this dtype. Cannot be\n",
      "        provided together with `out`.\n",
      "\n",
      "        .. versionadded:: 1.24\n",
      "\n",
      "    casting : {'no', 'equiv', 'safe', 'same_kind', 'unsafe'}, optional\n",
      "        Controls what kind of data casting may occur. Defaults to 'same_kind'.\n",
      "\n",
      "        .. versionadded:: 1.24\n",
      "\n",
      "    Returns\n",
      "    -------\n",
      "    stacked : ndarray\n",
      "        The array formed by stacking the given arrays.\n",
      "\n",
      "    See Also\n",
      "    --------\n",
      "    concatenate : Join a sequence of arrays along an existing axis.\n",
      "    stack : Join a sequence of arrays along a new axis.\n",
      "    block : Assemble an nd-array from nested lists of blocks.\n",
      "    vstack : Stack arrays in sequence vertically (row wise).\n",
      "    dstack : Stack arrays in sequence depth wise (along third axis).\n",
      "    column_stack : Stack 1-D arrays as columns into a 2-D array.\n",
      "    hsplit : Split an array into multiple sub-arrays\n",
      "             horizontally (column-wise).\n",
      "    unstack : Split an array into a tuple of sub-arrays along an axis.\n",
      "\n",
      "    Examples\n",
      "    --------\n",
      "    >>> import numpy as np\n",
      "    >>> a = np.array((1,2,3))\n",
      "    >>> b = np.array((4,5,6))\n",
      "    >>> np.hstack((a,b))\n",
      "    array([1, 2, 3, 4, 5, 6])\n",
      "    >>> a = np.array([[1],[2],[3]])\n",
      "    >>> b = np.array([[4],[5],[6]])\n",
      "    >>> np.hstack((a,b))\n",
      "    array([[1, 4],\n",
      "           [2, 5],\n",
      "           [3, 6]])\n",
      "\n"
     ]
    }
   ],
   "source": [
    "help(np.hstack)"
   ]
  },
  {
   "cell_type": "code",
   "execution_count": null,
   "metadata": {},
   "outputs": [
    {
     "name": "stdout",
     "output_type": "stream",
     "text": [
      "[array([0, 1, 2, 3]), array([4, 5, 6]), array([7, 8, 9]), array([10, 11, 12])]\n"
     ]
    }
   ],
   "source": [
    "a=np.arange(13)\n",
    "b=np.array_split(a,4)\n",
    "print(b)"
   ]
  },
  {
   "cell_type": "code",
   "execution_count": null,
   "metadata": {},
   "outputs": [],
   "source": [
    "# 0:4 => 0 to 4-1\n",
    "# 4:5 => 4 to 5-1\n"
   ]
  },
  {
   "cell_type": "markdown",
   "metadata": {},
   "source": [
    "# NumPy index\n",
    "- indexing is the process of obtaining single value from given iterable object.\n",
    "- the values of iterable object contain +ve index and -ve index\n",
    "- object of ndarray is also one of the iterable objects. also contain +ve and -ve index.\n",
    "- in numpy  programmning , we can apply indexing operation on 3 types of array , they are :-\n",
    "    - 1-D indexing\n",
    "    - 2-D indexing\n",
    "    - N-D indexing\n",
    "________________________________________\n",
    "\n",
    "# 1-D indexing\n",
    "- syntax:-\n",
    "    - 1darray[index]\n",
    "\n",
    "    - here inding can be +ve  or -ve\n",
    "    - if we enter valid index then we get corrosponding value from 1d array\n",
    "    - if we enter invalid index then we get an IndexError.\n",
    "    \n",
    "\n"
   ]
  },
  {
   "cell_type": "code",
   "execution_count": null,
   "metadata": {},
   "outputs": [],
   "source": [
    "# example on indexing operation\n",
    "import numpy as np"
   ]
  },
  {
   "cell_type": "code",
   "execution_count": null,
   "metadata": {},
   "outputs": [
    {
     "name": "stdout",
     "output_type": "stream",
     "text": [
      "1. 40\n",
      "2. 60\n",
      "3. 10\n",
      "4. 60\n",
      "5. 10\n"
     ]
    },
    {
     "ename": "IndexError",
     "evalue": "index 100 is out of bounds for axis 0 with size 6",
     "output_type": "error",
     "traceback": [
      "\u001b[1;31m---------------------------------------------------------------------------\u001b[0m",
      "\u001b[1;31mIndexError\u001b[0m                                Traceback (most recent call last)",
      "Cell \u001b[1;32mIn[10], line 7\u001b[0m\n\u001b[0;32m      5\u001b[0m \u001b[38;5;28mprint\u001b[39m(\u001b[38;5;124m\"\u001b[39m\u001b[38;5;124m4.\u001b[39m\u001b[38;5;124m\"\u001b[39m,a[\u001b[38;5;28mlen\u001b[39m(a)\u001b[38;5;241m-\u001b[39m\u001b[38;5;241m1\u001b[39m])\n\u001b[0;32m      6\u001b[0m \u001b[38;5;28mprint\u001b[39m(\u001b[38;5;124m\"\u001b[39m\u001b[38;5;124m5.\u001b[39m\u001b[38;5;124m\"\u001b[39m,a[\u001b[38;5;241m-\u001b[39m\u001b[38;5;28mlen\u001b[39m(a)])\n\u001b[1;32m----> 7\u001b[0m \u001b[38;5;28mprint\u001b[39m(\u001b[38;5;124m\"\u001b[39m\u001b[38;5;124m6.\u001b[39m\u001b[38;5;124m\"\u001b[39m,\u001b[43ma\u001b[49m\u001b[43m[\u001b[49m\u001b[38;5;241;43m100\u001b[39;49m\u001b[43m]\u001b[49m)\n",
      "\u001b[1;31mIndexError\u001b[0m: index 100 is out of bounds for axis 0 with size 6"
     ]
    }
   ],
   "source": [
    "a=np.array([10,20,30,40,50,60])\n",
    "print(\"1.\",a[3])\n",
    "print(\"2.\",a[-1])\n",
    "print(\"3.\",a[-6])\n",
    "print(\"4.\",a[len(a)-1])\n",
    "print(\"5.\",a[-len(a)])\n",
    "print(\"6.\",a[100])"
   ]
  },
  {
   "cell_type": "code",
   "execution_count": null,
   "metadata": {},
   "outputs": [
    {
     "name": "stdout",
     "output_type": "stream",
     "text": [
      "content of a= [10 20 30 40 50 60]\n",
      "Dimension = 1\n",
      "shape= (6,)\n",
      "size= 6\n"
     ]
    }
   ],
   "source": [
    "print(\"content of a=\",a)\n",
    "print(\"Dimension =\",a.ndim)\n",
    "print(\"shape=\",a.shape)\n",
    "print(\"size=\",a.size)"
   ]
  },
  {
   "cell_type": "code",
   "execution_count": null,
   "metadata": {},
   "outputs": [
    {
     "name": "stdout",
     "output_type": "stream",
     "text": [
      "item size  of a= 8\n"
     ]
    }
   ],
   "source": [
    "print(\"item size  of a=\",a.itemsize)"
   ]
  },
  {
   "cell_type": "markdown",
   "metadata": {},
   "source": [
    "# 2D Indexing\n",
    "- syntax:-\n",
    "    - 2darray[row_index][col_index] \n",
    "    - or \n",
    "    - 2darray[row_index,col_index]"
   ]
  },
  {
   "cell_type": "code",
   "execution_count": null,
   "metadata": {},
   "outputs": [
    {
     "name": "stdout",
     "output_type": "stream",
     "text": [
      "[[ 0  1  2  3]\n",
      " [ 4  5  6  7]\n",
      " [ 8  9 10 11]\n",
      " [12 13 14 15]] <class 'numpy.ndarray'>\n"
     ]
    }
   ],
   "source": [
    "a=np.arange(16).reshape(4,4)\n",
    "print(a,type(a))"
   ]
  },
  {
   "cell_type": "code",
   "execution_count": null,
   "metadata": {},
   "outputs": [
    {
     "data": {
      "text/plain": [
       "np.int64(5)"
      ]
     },
     "execution_count": 14,
     "metadata": {},
     "output_type": "execute_result"
    }
   ],
   "source": [
    "# to get 5\n",
    "a[1,1]"
   ]
  },
  {
   "cell_type": "code",
   "execution_count": null,
   "metadata": {},
   "outputs": [
    {
     "data": {
      "text/plain": [
       "np.int64(5)"
      ]
     },
     "execution_count": 15,
     "metadata": {},
     "output_type": "execute_result"
    }
   ],
   "source": [
    "# to get 5\n",
    "a[1][1]"
   ]
  },
  {
   "cell_type": "code",
   "execution_count": null,
   "metadata": {},
   "outputs": [
    {
     "data": {
      "text/plain": [
       "np.int64(5)"
      ]
     },
     "execution_count": 16,
     "metadata": {},
     "output_type": "execute_result"
    }
   ],
   "source": [
    "# you can get via -ve indexing\n",
    "a[-3,-3]"
   ]
  },
  {
   "cell_type": "code",
   "execution_count": null,
   "metadata": {},
   "outputs": [
    {
     "data": {
      "text/plain": [
       "np.int64(10)"
      ]
     },
     "execution_count": 17,
     "metadata": {},
     "output_type": "execute_result"
    }
   ],
   "source": [
    "# to get 10\n",
    "a[-2,-2]"
   ]
  },
  {
   "cell_type": "markdown",
   "metadata": {},
   "source": [
    "# 3D indexing\n",
    "$ or $\n",
    "# ND indexing\n",
    "\n",
    "- Syntax:-\n",
    "    - ndarrayObject[matrixIndex,RowIndex,ColIndex]\n",
    "    - ndarrayObject[matrixIndex],[rowIndex][colIndex]"
   ]
  },
  {
   "cell_type": "code",
   "execution_count": null,
   "metadata": {},
   "outputs": [
    {
     "name": "stdout",
     "output_type": "stream",
     "text": [
      "[[[ 0  1  2]\n",
      "  [ 3  4  5]\n",
      "  [ 6  7  8]]\n",
      "\n",
      " [[ 9 10 11]\n",
      "  [12 13 14]\n",
      "  [15 16 17]]\n",
      "\n",
      " [[18 19 20]\n",
      "  [21 22 23]\n",
      "  [24 25 26]]] <class 'numpy.ndarray'>\n"
     ]
    }
   ],
   "source": [
    "a=np.arange(27).reshape(3,3,3)\n",
    "print(a,type(a))"
   ]
  },
  {
   "cell_type": "code",
   "execution_count": null,
   "metadata": {},
   "outputs": [
    {
     "name": "stdout",
     "output_type": "stream",
     "text": [
      "content of a= [[[ 0  1  2]\n",
      "  [ 3  4  5]\n",
      "  [ 6  7  8]]\n",
      "\n",
      " [[ 9 10 11]\n",
      "  [12 13 14]\n",
      "  [15 16 17]]\n",
      "\n",
      " [[18 19 20]\n",
      "  [21 22 23]\n",
      "  [24 25 26]]]\n",
      "Dimension = 3\n",
      "shape= (3, 3, 3)\n",
      "size= 27\n"
     ]
    }
   ],
   "source": [
    "print(\"content of a=\",a)\n",
    "print(\"Dimension =\",a.ndim)\n",
    "print(\"shape=\",a.shape)\n",
    "print(\"size=\",a.size)"
   ]
  },
  {
   "cell_type": "code",
   "execution_count": null,
   "metadata": {},
   "outputs": [
    {
     "data": {
      "text/plain": [
       "np.int64(4)"
      ]
     },
     "execution_count": 20,
     "metadata": {},
     "output_type": "execute_result"
    }
   ],
   "source": [
    "# to get 4\n",
    "a[0,1,1]"
   ]
  },
  {
   "cell_type": "code",
   "execution_count": null,
   "metadata": {},
   "outputs": [
    {
     "data": {
      "text/plain": [
       "np.int64(4)"
      ]
     },
     "execution_count": 21,
     "metadata": {},
     "output_type": "execute_result"
    }
   ],
   "source": [
    "#to get 4\n",
    "a[-3,-2,-2]"
   ]
  },
  {
   "cell_type": "code",
   "execution_count": null,
   "metadata": {},
   "outputs": [
    {
     "data": {
      "text/plain": [
       "np.int64(4)"
      ]
     },
     "execution_count": 22,
     "metadata": {},
     "output_type": "execute_result"
    }
   ],
   "source": [
    "#to get 4\n",
    "a[-3][-2][-2]"
   ]
  },
  {
   "cell_type": "markdown",
   "metadata": {},
   "source": [
    "# Slicing:-\n",
    "- 1D\n",
    "- 2D\n",
    "- 3D OR ND"
   ]
  },
  {
   "cell_type": "code",
   "execution_count": null,
   "metadata": {},
   "outputs": [
    {
     "name": "stdout",
     "output_type": "stream",
     "text": [
      "content of a= mississippi\n",
      "Dimension = 0\n",
      "shape= ()\n",
      "size= 1\n"
     ]
    }
   ],
   "source": [
    "a= np.array(\"mississippi\")\n",
    "print(\"content of a=\",a)\n",
    "print(\"Dimension =\",a.ndim)\n",
    "print(\"shape=\",a.shape)\n",
    "print(\"size=\",a.size)"
   ]
  },
  {
   "cell_type": "code",
   "execution_count": null,
   "metadata": {},
   "outputs": [
    {
     "name": "stdout",
     "output_type": "stream",
     "text": [
      "content of a= ['mississippi']\n",
      "Dimension = 1\n",
      "shape= (1,)\n",
      "size= 1\n"
     ]
    }
   ],
   "source": [
    "a= np.array([\"mississippi\"])\n",
    "print(\"content of a=\",a)\n",
    "print(\"Dimension =\",a.ndim)\n",
    "print(\"shape=\",a.shape)\n",
    "print(\"size=\",a.size)"
   ]
  },
  {
   "cell_type": "code",
   "execution_count": null,
   "metadata": {},
   "outputs": [
    {
     "name": "stdout",
     "output_type": "stream",
     "text": [
      "content of a= ['m' 'i' 's' 's' 'i' 's' 's' 'i' 'p' 'p' 'i']\n",
      "Dimension = 1\n",
      "shape= (11,)\n",
      "size= 11\n"
     ]
    }
   ],
   "source": [
    "a= np.array(list(\"mississippi\"))\n",
    "print(\"content of a=\",a)\n",
    "print(\"Dimension =\",a.ndim)\n",
    "print(\"shape=\",a.shape)\n",
    "print(\"size=\",a.size)"
   ]
  },
  {
   "cell_type": "markdown",
   "metadata": {},
   "source": [
    "- the process of obtaining range of values or sub values from an iterable object is called slicing.\n",
    "- we can apply slicing operations on 3 type of ndarray. they are \n",
    "    - 1-D array\n",
    "    - 2-D array\n",
    "    - 3-D array /ND array\n",
    "\n",
    "# 1D array:-\n",
    "- syntax:- ndarray[begin:end]\n",
    "    - gives range of values from the begin index to end-1 index provided begin<end\n",
    "    - syntax:- adarray[begin:]\n",
    "    - syntax:- adarray[:end]\n",
    "    - syntax:- adarray[:]\n",
    "    - syntax:- adarray[begin:end:step]\n"
   ]
  },
  {
   "cell_type": "markdown",
   "metadata": {},
   "source": [
    "# syntax for 2D slicing:-\n",
    "- 2DArrayObj[rowbegin:rowend:rowstep,colbegin:colend,colStep[]]"
   ]
  },
  {
   "cell_type": "code",
   "execution_count": null,
   "metadata": {},
   "outputs": [
    {
     "name": "stdout",
     "output_type": "stream",
     "text": [
      "[[ 0  1  2  3]\n",
      " [ 4  5  6  7]\n",
      " [ 8  9 10 11]\n",
      " [12 13 14 15]] <class 'numpy.ndarray'>\n"
     ]
    }
   ],
   "source": [
    "import numpy as np\n",
    "a=np.arange(16).reshape(4,4)\n",
    "print(a,type(a))"
   ]
  },
  {
   "cell_type": "code",
   "execution_count": null,
   "metadata": {},
   "outputs": [
    {
     "data": {
      "text/plain": [
       "array([[ 0],\n",
       "       [ 4],\n",
       "       [ 8],\n",
       "       [12]])"
      ]
     },
     "execution_count": 2,
     "metadata": {},
     "output_type": "execute_result"
    }
   ],
   "source": [
    "a[0:4,0:1]"
   ]
  },
  {
   "cell_type": "code",
   "execution_count": null,
   "metadata": {},
   "outputs": [
    {
     "data": {
      "text/plain": [
       "array([[ 0],\n",
       "       [ 4],\n",
       "       [ 8],\n",
       "       [12]])"
      ]
     },
     "execution_count": 3,
     "metadata": {},
     "output_type": "execute_result"
    }
   ],
   "source": [
    "a[:,0:1]"
   ]
  },
  {
   "cell_type": "code",
   "execution_count": null,
   "metadata": {},
   "outputs": [
    {
     "data": {
      "text/plain": [
       "array([[ 0],\n",
       "       [ 4],\n",
       "       [ 8],\n",
       "       [12]])"
      ]
     },
     "execution_count": 4,
     "metadata": {},
     "output_type": "execute_result"
    }
   ],
   "source": [
    "a[::,:1]"
   ]
  },
  {
   "cell_type": "code",
   "execution_count": null,
   "metadata": {},
   "outputs": [
    {
     "data": {
      "text/plain": [
       "array([[4, 5],\n",
       "       [8, 9]])"
      ]
     },
     "execution_count": 5,
     "metadata": {},
     "output_type": "execute_result"
    }
   ],
   "source": [
    "# want 4,5,8,9\n",
    "a[1:3,0:2]"
   ]
  },
  {
   "cell_type": "code",
   "execution_count": null,
   "metadata": {},
   "outputs": [
    {
     "data": {
      "text/plain": [
       "array([[ 5,  6,  7],\n",
       "       [ 9, 10, 11],\n",
       "       [13, 14, 15]])"
      ]
     },
     "execution_count": 6,
     "metadata": {},
     "output_type": "execute_result"
    }
   ],
   "source": [
    "a[1:4,1:4]"
   ]
  },
  {
   "cell_type": "code",
   "execution_count": null,
   "metadata": {},
   "outputs": [
    {
     "data": {
      "text/plain": [
       "array([[ 4,  5,  6,  7],\n",
       "       [ 8,  9, 10, 11]])"
      ]
     },
     "execution_count": 7,
     "metadata": {},
     "output_type": "execute_result"
    }
   ],
   "source": [
    "a[1:3,0:4]"
   ]
  },
  {
   "cell_type": "code",
   "execution_count": null,
   "metadata": {},
   "outputs": [
    {
     "data": {
      "text/plain": [
       "array([[ 4,  5,  6,  7],\n",
       "       [ 8,  9, 10, 11]])"
      ]
     },
     "execution_count": 8,
     "metadata": {},
     "output_type": "execute_result"
    }
   ],
   "source": [
    "a[1:3,:]"
   ]
  },
  {
   "cell_type": "code",
   "execution_count": null,
   "metadata": {},
   "outputs": [
    {
     "data": {
      "text/plain": [
       "array([[ 4,  5,  6,  7],\n",
       "       [ 8,  9, 10, 11]])"
      ]
     },
     "execution_count": 9,
     "metadata": {},
     "output_type": "execute_result"
    }
   ],
   "source": [
    "a[1:3,::]"
   ]
  },
  {
   "cell_type": "code",
   "execution_count": null,
   "metadata": {},
   "outputs": [
    {
     "data": {
      "text/plain": [
       "array([[ 0,  1,  2,  3],\n",
       "       [ 8,  9, 10, 11]])"
      ]
     },
     "execution_count": 11,
     "metadata": {},
     "output_type": "execute_result"
    }
   ],
   "source": [
    "# with step value\n",
    "a[0:4:2,0:4]"
   ]
  },
  {
   "cell_type": "code",
   "execution_count": null,
   "metadata": {},
   "outputs": [
    {
     "data": {
      "text/plain": [
       "array([[10, 11],\n",
       "       [14, 15]])"
      ]
     },
     "execution_count": 12,
     "metadata": {},
     "output_type": "execute_result"
    }
   ],
   "source": [
    "a[-2:,-2:]"
   ]
  },
  {
   "cell_type": "code",
   "execution_count": null,
   "metadata": {},
   "outputs": [],
   "source": [
    "# its not possible t get principle element by using regular indexing and slicing operations\n",
    "# you can get diagonal element via advance indexing method.\n",
    " "
   ]
  },
  {
   "cell_type": "code",
   "execution_count": null,
   "metadata": {},
   "outputs": [
    {
     "name": "stdout",
     "output_type": "stream",
     "text": [
      "[[[ 0  1  2]\n",
      "  [ 3  4  5]\n",
      "  [ 6  7  8]]\n",
      "\n",
      " [[ 9 10 11]\n",
      "  [12 13 14]\n",
      "  [15 16 17]]\n",
      "\n",
      " [[18 19 20]\n",
      "  [21 22 23]\n",
      "  [24 25 26]]]\n"
     ]
    }
   ],
   "source": [
    "a=np.arange(27).reshape(3,3,3)\n",
    "print(a)"
   ]
  },
  {
   "cell_type": "code",
   "execution_count": null,
   "metadata": {},
   "outputs": [
    {
     "data": {
      "text/plain": [
       "'3D array'"
      ]
     },
     "execution_count": 15,
     "metadata": {},
     "output_type": "execute_result"
    }
   ],
   "source": [
    "\"\"\"3D array\"\"\"\n",
    "# [matrixBegin:matrixEnd:matrixStep,rowBegin:rowEnd:rowStep,colBegin:colEnd:colStep]"
   ]
  },
  {
   "cell_type": "code",
   "execution_count": null,
   "metadata": {},
   "outputs": [
    {
     "data": {
      "text/plain": [
       "array([[[ 0,  1]],\n",
       "\n",
       "       [[ 9, 10]]])"
      ]
     },
     "execution_count": 16,
     "metadata": {},
     "output_type": "execute_result"
    }
   ],
   "source": [
    "a[0:2,0:1,0:2]"
   ]
  },
  {
   "cell_type": "code",
   "execution_count": null,
   "metadata": {},
   "outputs": [
    {
     "data": {
      "text/plain": [
       "array([[[ 0,  1]],\n",
       "\n",
       "       [[ 9, 10]]])"
      ]
     },
     "execution_count": 17,
     "metadata": {},
     "output_type": "execute_result"
    }
   ],
   "source": [
    "a[:2,:1,:2]"
   ]
  },
  {
   "cell_type": "code",
   "execution_count": null,
   "metadata": {},
   "outputs": [
    {
     "data": {
      "text/plain": [
       "array([[[ 0],\n",
       "        [ 6]],\n",
       "\n",
       "       [[ 9],\n",
       "        [15]],\n",
       "\n",
       "       [[18],\n",
       "        [24]]])"
      ]
     },
     "execution_count": 18,
     "metadata": {},
     "output_type": "execute_result"
    }
   ],
   "source": [
    "a[:,::2,0:1]"
   ]
  },
  {
   "cell_type": "code",
   "execution_count": null,
   "metadata": {},
   "outputs": [
    {
     "data": {
      "text/plain": [
       "array([[[ 6,  8]],\n",
       "\n",
       "       [[24, 26]]])"
      ]
     },
     "execution_count": 19,
     "metadata": {},
     "output_type": "execute_result"
    }
   ],
   "source": [
    "a[::2,2:3,::2]"
   ]
  },
  {
   "cell_type": "code",
   "execution_count": null,
   "metadata": {},
   "outputs": [
    {
     "data": {
      "text/plain": [
       "array([[[ 0,  2],\n",
       "        [ 6,  8]],\n",
       "\n",
       "       [[ 9, 11],\n",
       "        [15, 17]],\n",
       "\n",
       "       [[18, 20],\n",
       "        [24, 26]]])"
      ]
     },
     "execution_count": 20,
     "metadata": {},
     "output_type": "execute_result"
    }
   ],
   "source": [
    "# want corner element\n",
    "a[:,::2,::2]"
   ]
  },
  {
   "cell_type": "code",
   "execution_count": null,
   "metadata": {},
   "outputs": [],
   "source": [
    "# to convert 3d to 1d\n",
    "# use ravel and flaten"
   ]
  },
  {
   "cell_type": "code",
   "execution_count": null,
   "metadata": {},
   "outputs": [
    {
     "data": {
      "text/plain": [
       "'with slicing operation , we cant get random element \\n- for getting random element , we must learn advance indexing and slicing.\\n\\n'"
      ]
     },
     "execution_count": 22,
     "metadata": {},
     "output_type": "execute_result"
    }
   ],
   "source": [
    "\"\"\"with slicing operation , we cant get random element \n",
    "- for getting random element , we must learn advance indexing and slicing.\n",
    "\n",
    "\"\"\""
   ]
  },
  {
   "cell_type": "markdown",
   "metadata": {},
   "source": [
    "# Advance indexing and slicing\n",
    "- 2D advance indexing:-\n",
    "identify the row indices of random element\n",
    "- syntax : rowindices=(row1,row2,row3..row-n)\n",
    "- identify the column indices of random element\n",
    "- syntax : columnindices=(col1,col2,col3..col-n)\n",
    "\n",
    "- pass the row indices and colindices to original"
   ]
  },
  {
   "cell_type": "code",
   "execution_count": null,
   "metadata": {},
   "outputs": [
    {
     "name": "stdout",
     "output_type": "stream",
     "text": [
      "[[10 20 30]\n",
      " [40 50 60]\n",
      " [70 80 90]] <class 'numpy.ndarray'>\n"
     ]
    }
   ],
   "source": [
    "import numpy as np\n",
    "a=np.array([10,20,30,40,50,60,70,80,90])\n",
    "a.shape=(3,3)\n",
    "print(a,type(a))"
   ]
  },
  {
   "cell_type": "code",
   "execution_count": null,
   "metadata": {},
   "outputs": [
    {
     "data": {
      "text/plain": [
       "array([10, 50, 90])"
      ]
     },
     "execution_count": 6,
     "metadata": {},
     "output_type": "execute_result"
    }
   ],
   "source": [
    "# to get diagonal element (10,50,90)\n",
    "rowindices=(0,1,2)# step1\n",
    "colindices=(0,1,2)#step2\n",
    "# a[rowindices,colindices]"
   ]
  },
  {
   "cell_type": "code",
   "execution_count": null,
   "metadata": {},
   "outputs": [
    {
     "name": "stdout",
     "output_type": "stream",
     "text": [
      "[[10 20 30]\n",
      " [40 50 60]\n",
      " [70 80 90]]\n"
     ]
    },
    {
     "data": {
      "text/plain": [
       "array([30, 50, 70])"
      ]
     },
     "execution_count": 7,
     "metadata": {},
     "output_type": "execute_result"
    }
   ],
   "source": [
    "#get reverse diagonal element\n",
    "print(a)\n",
    "a[(0,1,2),(2,1,0)]"
   ]
  },
  {
   "cell_type": "code",
   "execution_count": null,
   "metadata": {},
   "outputs": [
    {
     "name": "stdout",
     "output_type": "stream",
     "text": [
      "[[10 20 30]\n",
      " [40 50 60]\n",
      " [70 80 90]]\n"
     ]
    },
    {
     "name": "stderr",
     "output_type": "stream",
     "text": [
      "<>:2: SyntaxWarning: 'tuple' object is not callable; perhaps you missed a comma?\n",
      "<>:2: SyntaxWarning: 'tuple' object is not callable; perhaps you missed a comma?\n",
      "C:\\Users\\deepa\\AppData\\Local\\Temp\\ipykernel_16452\\1474923528.py:2: SyntaxWarning: 'tuple' object is not callable; perhaps you missed a comma?\n",
      "  a[(0,1,2,2)(1,1,2,0)] # internally process as a[(0,1),(1,1),(2,2),(2,0)]\n"
     ]
    },
    {
     "ename": "TypeError",
     "evalue": "'tuple' object is not callable",
     "output_type": "error",
     "traceback": [
      "\u001b[1;31m---------------------------------------------------------------------------\u001b[0m",
      "\u001b[1;31mTypeError\u001b[0m                                 Traceback (most recent call last)",
      "Cell \u001b[1;32mIn[8], line 2\u001b[0m\n\u001b[0;32m      1\u001b[0m \u001b[38;5;28mprint\u001b[39m(a)\n\u001b[1;32m----> 2\u001b[0m a[\u001b[43m(\u001b[49m\u001b[38;5;241;43m0\u001b[39;49m\u001b[43m,\u001b[49m\u001b[38;5;241;43m1\u001b[39;49m\u001b[43m,\u001b[49m\u001b[38;5;241;43m2\u001b[39;49m\u001b[43m,\u001b[49m\u001b[38;5;241;43m2\u001b[39;49m\u001b[43m)\u001b[49m\u001b[43m(\u001b[49m\u001b[38;5;241;43m1\u001b[39;49m\u001b[43m,\u001b[49m\u001b[38;5;241;43m1\u001b[39;49m\u001b[43m,\u001b[49m\u001b[38;5;241;43m2\u001b[39;49m\u001b[43m,\u001b[49m\u001b[38;5;241;43m0\u001b[39;49m\u001b[43m)\u001b[49m] \u001b[38;5;66;03m# internally process as a[(0,1),(1,1),(2,2),(2,0)]\u001b[39;00m\n",
      "\u001b[1;31mTypeError\u001b[0m: 'tuple' object is not callable"
     ]
    }
   ],
   "source": [
    "print(a)\n",
    "a[(0,1,2,2)(1,1,2,0)] # internally process as a[(0,1),(1,1),(2,2),(2,0)]"
   ]
  },
  {
   "cell_type": "markdown",
   "metadata": {},
   "source": [
    "# Numpy filtering the data\n",
    "- 1D,2D,3D or conditional based retrieval from 1D,2D,3D"
   ]
  },
  {
   "cell_type": "code",
   "execution_count": null,
   "metadata": {},
   "outputs": [
    {
     "name": "stdout",
     "output_type": "stream",
     "text": [
      "[[10 20 30]\n",
      " [40 50 60]\n",
      " [70 80 90]]\n"
     ]
    }
   ],
   "source": [
    "import numpy as np\n",
    "a=np.array([[10,20,30],[40,50,60],[70,80,90]])\n",
    "print(a)\n"
   ]
  },
  {
   "cell_type": "code",
   "execution_count": null,
   "metadata": {},
   "outputs": [
    {
     "name": "stdout",
     "output_type": "stream",
     "text": [
      "[10 20 30 40 50 60 70 80 90]\n"
     ]
    }
   ],
   "source": [
    "a.shape=(9,)\n",
    "print(a)"
   ]
  },
  {
   "cell_type": "code",
   "execution_count": null,
   "metadata": {},
   "outputs": [
    {
     "data": {
      "text/plain": [
       "' \\n- procedure-1:-\\nstep1:\\ncreate a boolean array\\n_____________________\\nstep2:-\\npass boolean to ndarray\\n__________\\n\\n'"
      ]
     },
     "execution_count": 11,
     "metadata": {},
     "output_type": "execute_result"
    }
   ],
   "source": [
    "\n",
    "\"\"\" \n",
    "- procedure-1:-\n",
    "step1:\n",
    "create a boolean array\n",
    "_____________________\n",
    "step2:-\n",
    "pass boolean to ndarray\n",
    "__________\n",
    "\n",
    "\"\"\""
   ]
  },
  {
   "cell_type": "code",
   "execution_count": null,
   "metadata": {},
   "outputs": [
    {
     "name": "stdout",
     "output_type": "stream",
     "text": [
      "[False False  True False False  True False False  True] <class 'numpy.ndarray'>\n"
     ]
    }
   ],
   "source": [
    "# get the multiple of 3\n",
    "ba=a%3==0\n",
    "print(ba,type(ba))"
   ]
  },
  {
   "cell_type": "code",
   "execution_count": null,
   "metadata": {},
   "outputs": [
    {
     "data": {
      "text/plain": [
       "array([30, 60, 90])"
      ]
     },
     "execution_count": 13,
     "metadata": {},
     "output_type": "execute_result"
    }
   ],
   "source": [
    "# pass the boolean to ndarray object\n",
    "a[ba]"
   ]
  },
  {
   "cell_type": "code",
   "execution_count": null,
   "metadata": {},
   "outputs": [
    {
     "data": {
      "text/plain": [
       "array([20, 40, 60, 80])"
      ]
     },
     "execution_count": 14,
     "metadata": {},
     "output_type": "execute_result"
    }
   ],
   "source": [
    "# get the multiple of 4\n",
    "a[a%4==0]"
   ]
  },
  {
   "cell_type": "code",
   "execution_count": null,
   "metadata": {},
   "outputs": [
    {
     "name": "stdout",
     "output_type": "stream",
     "text": [
      "[[ 10 -20 -30]\n",
      " [ 40 -50  60]\n",
      " [ 70 -80 -90]] <class 'numpy.ndarray'>\n"
     ]
    }
   ],
   "source": [
    "a=np.array([[10,-20,-30],[40,-50,60],[70,-80,-90]])\n",
    "print(a,type(a))"
   ]
  },
  {
   "cell_type": "code",
   "execution_count": null,
   "metadata": {},
   "outputs": [
    {
     "name": "stdout",
     "output_type": "stream",
     "text": [
      "[10 40 60 70] <class 'numpy.ndarray'>\n"
     ]
    }
   ],
   "source": [
    "#get all positive value\n",
    "pa=a[a>0]\n",
    "print(pa,type(pa))"
   ]
  },
  {
   "cell_type": "code",
   "execution_count": null,
   "metadata": {},
   "outputs": [
    {
     "name": "stdout",
     "output_type": "stream",
     "text": [
      "[-20 -30 -50 -80 -90] <class 'numpy.ndarray'>\n"
     ]
    }
   ],
   "source": [
    "#get all the negative value\n",
    "na=a[a<0]\n",
    "print(na,type(na))"
   ]
  },
  {
   "cell_type": "markdown",
   "metadata": {},
   "source": [
    "# numpy copy vs view\n",
    "- copy()\n",
    "- view()"
   ]
  },
  {
   "cell_type": "code",
   "execution_count": null,
   "metadata": {},
   "outputs": [
    {
     "name": "stdout",
     "output_type": "stream",
     "text": [
      "[10 20 30 40] <class 'numpy.ndarray'>\n"
     ]
    }
   ],
   "source": [
    "a=np.array([10,20,30,40])\n",
    "print(a,type(a))"
   ]
  },
  {
   "cell_type": "code",
   "execution_count": null,
   "metadata": {},
   "outputs": [
    {
     "name": "stdout",
     "output_type": "stream",
     "text": [
      "original array = [10 20 30 40] and <class 'numpy.ndarray'>\n",
      "copied array = [10 20 30 40] and <class 'numpy.ndarray'>\n"
     ]
    }
   ],
   "source": [
    "b=a.copy()\n",
    "print(\"original array = {} and {}\".format(a,type(a)))\n",
    "print(\"copied array = {} and {}\".format(b,type(b)))\n"
   ]
  },
  {
   "cell_type": "code",
   "execution_count": null,
   "metadata": {},
   "outputs": [
    {
     "name": "stdout",
     "output_type": "stream",
     "text": [
      "original array = [100  20  30  40] and <class 'numpy.ndarray'>\n",
      "copied array = [10 20 30 40] and <class 'numpy.ndarray'>\n"
     ]
    }
   ],
   "source": [
    "a[0]=100\n",
    "print(\"original array = {} and {}\".format(a,type(a)))\n",
    "print(\"copied array = {} and {}\".format(b,type(b)))"
   ]
  },
  {
   "cell_type": "markdown",
   "metadata": {},
   "source": [
    "# view()"
   ]
  },
  {
   "cell_type": "code",
   "execution_count": null,
   "metadata": {},
   "outputs": [
    {
     "name": "stdout",
     "output_type": "stream",
     "text": [
      "original array = [100  20  30  40] and <class 'numpy.ndarray'>\n",
      "copied array = [100  20  30  40] and <class 'numpy.ndarray'>\n"
     ]
    }
   ],
   "source": [
    "b=a.view()\n",
    "print(\"original array = {} and {}\".format(a,type(a)))\n",
    "print(\"copied array = {} and {}\".format(b,type(b)))"
   ]
  },
  {
   "cell_type": "code",
   "execution_count": null,
   "metadata": {},
   "outputs": [],
   "source": [
    "# it is just deep copy changes on one will affect the others"
   ]
  },
  {
   "cell_type": "code",
   "execution_count": null,
   "metadata": {},
   "outputs": [
    {
     "data": {
      "text/plain": [
       "'   \\n+\\n-\\n*\\n/\\n//\\n%\\n**\\n\\n '"
      ]
     },
     "execution_count": 23,
     "metadata": {},
     "output_type": "execute_result"
    }
   ],
   "source": [
    "# arithmetic operation on ndarray\n",
    "#or\n",
    "#arithmetic operation\n",
    "\"\"\"   \n",
    "+\n",
    "-\n",
    "*\n",
    "/\n",
    "//\n",
    "%\n",
    "**\n",
    "\n",
    " \"\"\""
   ]
  },
  {
   "cell_type": "code",
   "execution_count": null,
   "metadata": {},
   "outputs": [
    {
     "name": "stdout",
     "output_type": "stream",
     "text": [
      "Help on function ones in module numpy:\n",
      "\n",
      "ones(shape, dtype=None, order='C', *, device=None, like=None)\n",
      "    Return a new array of given shape and type, filled with ones.\n",
      "\n",
      "    Parameters\n",
      "    ----------\n",
      "    shape : int or sequence of ints\n",
      "        Shape of the new array, e.g., ``(2, 3)`` or ``2``.\n",
      "    dtype : data-type, optional\n",
      "        The desired data-type for the array, e.g., `numpy.int8`.  Default is\n",
      "        `numpy.float64`.\n",
      "    order : {'C', 'F'}, optional, default: C\n",
      "        Whether to store multi-dimensional data in row-major\n",
      "        (C-style) or column-major (Fortran-style) order in\n",
      "        memory.\n",
      "    device : str, optional\n",
      "        The device on which to place the created array. Default: None.\n",
      "        For Array-API interoperability only, so must be ``\"cpu\"`` if passed.\n",
      "\n",
      "        .. versionadded:: 2.0.0\n",
      "    like : array_like, optional\n",
      "            Reference object to allow the creation of arrays which are not\n",
      "            NumPy arrays. If an array-like passed in as ``like`` supports\n",
      "            the ``__array_function__`` protocol, the result will be defined\n",
      "            by it. In this case, it ensures the creation of an array object\n",
      "            compatible with that passed in via this argument.\n",
      "\n",
      "        .. versionadded:: 1.20.0\n",
      "\n",
      "    Returns\n",
      "    -------\n",
      "    out : ndarray\n",
      "        Array of ones with the given shape, dtype, and order.\n",
      "\n",
      "    See Also\n",
      "    --------\n",
      "    ones_like : Return an array of ones with shape and type of input.\n",
      "    empty : Return a new uninitialized array.\n",
      "    zeros : Return a new array setting values to zero.\n",
      "    full : Return a new array of given shape filled with value.\n",
      "\n",
      "    Examples\n",
      "    --------\n",
      "    >>> import numpy as np\n",
      "    >>> np.ones(5)\n",
      "    array([1., 1., 1., 1., 1.])\n",
      "\n",
      "    >>> np.ones((5,), dtype=int)\n",
      "    array([1, 1, 1, 1, 1])\n",
      "\n",
      "    >>> np.ones((2, 1))\n",
      "    array([[1.],\n",
      "           [1.]])\n",
      "\n",
      "    >>> s = (2,2)\n",
      "    >>> np.ones(s)\n",
      "    array([[1.,  1.],\n",
      "           [1.,  1.]])\n",
      "\n"
     ]
    }
   ],
   "source": [
    "import numpy as np\n",
    "help(np.ones)"
   ]
  },
  {
   "cell_type": "code",
   "execution_count": null,
   "metadata": {},
   "outputs": [
    {
     "name": "stdout",
     "output_type": "stream",
     "text": [
      "[[     10     400]\n",
      " [  27000 2560000]]\n"
     ]
    }
   ],
   "source": [
    "import numpy as np\n",
    "a=np.array([[10,20],[30,40]])\n",
    "b=np.array([[1,2],[3,4]])\n",
    "c=np.power(a,b)\n",
    "print(c)"
   ]
  },
  {
   "cell_type": "code",
   "execution_count": null,
   "metadata": {},
   "outputs": [
    {
     "name": "stdout",
     "output_type": "stream",
     "text": [
      "[[     10     400]\n",
      " [  27000 2560000]]\n"
     ]
    }
   ],
   "source": [
    "# another method\n",
    "d=a**b\n",
    "print(d)"
   ]
  },
  {
   "cell_type": "code",
   "execution_count": null,
   "metadata": {},
   "outputs": [
    {
     "name": "stdout",
     "output_type": "stream",
     "text": [
      "[[10. 10.]\n",
      " [10. 10.]]\n"
     ]
    }
   ],
   "source": [
    "e=a/b\n",
    "print(e)"
   ]
  },
  {
   "cell_type": "code",
   "execution_count": null,
   "metadata": {},
   "outputs": [
    {
     "name": "stdout",
     "output_type": "stream",
     "text": [
      "[[        inf 20.        ]\n",
      " [15.         13.33333333]]\n"
     ]
    },
    {
     "name": "stderr",
     "output_type": "stream",
     "text": [
      "C:\\Users\\deepa\\AppData\\Local\\Temp\\ipykernel_3844\\1946158853.py:3: RuntimeWarning: divide by zero encountered in divide\n",
      "  c=a/b\n"
     ]
    }
   ],
   "source": [
    "a=np.array([[10,20],[30,40]])\n",
    "b=np.array([[0,1],[2,3]])\n",
    "c=a/b\n",
    "print(c)"
   ]
  },
  {
   "cell_type": "code",
   "execution_count": null,
   "metadata": {},
   "outputs": [],
   "source": [
    "#inf20  mean infinity \n",
    "# how to deal with  it "
   ]
  },
  {
   "cell_type": "code",
   "execution_count": null,
   "metadata": {},
   "outputs": [
    {
     "data": {
      "text/plain": [
       "np.float64(inf)"
      ]
     },
     "execution_count": 78,
     "metadata": {},
     "output_type": "execute_result"
    }
   ],
   "source": [
    "c[0,0]"
   ]
  },
  {
   "cell_type": "code",
   "execution_count": null,
   "metadata": {},
   "outputs": [
    {
     "ename": "ValueError",
     "evalue": "could not convert string to float: \"can't divide by zero\"",
     "output_type": "error",
     "traceback": [
      "\u001b[1;31m---------------------------------------------------------------------------\u001b[0m",
      "\u001b[1;31mValueError\u001b[0m                                Traceback (most recent call last)",
      "Cell \u001b[1;32mIn[79], line 1\u001b[0m\n\u001b[1;32m----> 1\u001b[0m \u001b[43mc\u001b[49m\u001b[43m[\u001b[49m\u001b[38;5;241;43m0\u001b[39;49m\u001b[43m,\u001b[49m\u001b[38;5;241;43m0\u001b[39;49m\u001b[43m]\u001b[49m\u001b[38;5;241m=\u001b[39m\u001b[38;5;124m\"\u001b[39m\u001b[38;5;124mcan\u001b[39m\u001b[38;5;124m'\u001b[39m\u001b[38;5;124mt divide by zero\u001b[39m\u001b[38;5;124m\"\u001b[39m\n",
      "\u001b[1;31mValueError\u001b[0m: could not convert string to float: \"can't divide by zero\""
     ]
    }
   ],
   "source": [
    "c[0,0]=\"can't divide by zero\""
   ]
  },
  {
   "cell_type": "code",
   "execution_count": null,
   "metadata": {},
   "outputs": [
    {
     "name": "stdout",
     "output_type": "stream",
     "text": [
      "[['inf' '20.0']\n",
      " ['15.0' '13.333333333333334']]\n"
     ]
    }
   ],
   "source": [
    "d=c.astype(str)\n",
    "print(d)"
   ]
  },
  {
   "cell_type": "code",
   "execution_count": null,
   "metadata": {},
   "outputs": [
    {
     "name": "stdout",
     "output_type": "stream",
     "text": [
      "[[\"can't divide by zero\" '20.0']\n",
      " ['15.0' '13.333333333333334']]\n"
     ]
    }
   ],
   "source": [
    "d[0,0]=\"can't divide by zero\"\n",
    "print(d)"
   ]
  },
  {
   "cell_type": "code",
   "execution_count": null,
   "metadata": {},
   "outputs": [
    {
     "name": "stdout",
     "output_type": "stream",
     "text": [
      "[[\"can't divide by zero\" '20.0']\n",
      " ['15.0' '13.333333333333334']]\n"
     ]
    }
   ],
   "source": [
    "e=d.astype(object)\n",
    "print(e)"
   ]
  },
  {
   "cell_type": "code",
   "execution_count": null,
   "metadata": {},
   "outputs": [
    {
     "data": {
      "text/plain": [
       "dtype('O')"
      ]
     },
     "execution_count": 83,
     "metadata": {},
     "output_type": "execute_result"
    }
   ],
   "source": [
    "e.dtype"
   ]
  },
  {
   "cell_type": "markdown",
   "metadata": {},
   "source": [
    "# where"
   ]
  },
  {
   "cell_type": "code",
   "execution_count": null,
   "metadata": {},
   "outputs": [
    {
     "name": "stdout",
     "output_type": "stream",
     "text": [
      "(array([0, 3, 5]),)\n"
     ]
    }
   ],
   "source": [
    "a=np.array([10,20,30,10,40,10,20,30])\n",
    "b=np.where(a==10)\n",
    "print(b)"
   ]
  },
  {
   "cell_type": "code",
   "execution_count": null,
   "metadata": {},
   "outputs": [
    {
     "name": "stdout",
     "output_type": "stream",
     "text": [
      "['m' 'i' 's' 's' 'i' 's' 's' 'i' 'p' 'p' 'i']\n"
     ]
    }
   ],
   "source": [
    "s=\"mississippi\"\n",
    "a=np.array(list(s))\n",
    "print(a)"
   ]
  },
  {
   "cell_type": "code",
   "execution_count": null,
   "metadata": {},
   "outputs": [
    {
     "data": {
      "text/plain": [
       "(array([2, 3, 5, 6]),)"
      ]
     },
     "execution_count": 86,
     "metadata": {},
     "output_type": "execute_result"
    }
   ],
   "source": [
    "np.where(a==\"s\")"
   ]
  },
  {
   "cell_type": "code",
   "execution_count": null,
   "metadata": {},
   "outputs": [
    {
     "name": "stdout",
     "output_type": "stream",
     "text": [
      "[[1 2 3]\n",
      " [4 5 6]\n",
      " [7 8 9]]\n"
     ]
    }
   ],
   "source": [
    "a=np.array([[1,2,3],[4,5,6],[7,8,9]])\n",
    "print(a)"
   ]
  },
  {
   "cell_type": "code",
   "execution_count": null,
   "metadata": {},
   "outputs": [
    {
     "name": "stdout",
     "output_type": "stream",
     "text": [
      "(array([1]), array([0]))\n"
     ]
    }
   ],
   "source": [
    "ind=np.where(a==4)\n",
    "print(ind)"
   ]
  },
  {
   "cell_type": "code",
   "execution_count": null,
   "metadata": {},
   "outputs": [
    {
     "name": "stdout",
     "output_type": "stream",
     "text": [
      "(array([0, 1, 2]), array([2, 2, 2]))\n"
     ]
    }
   ],
   "source": [
    "ind=np.where(a%3==0)\n",
    "print(ind)"
   ]
  },
  {
   "cell_type": "code",
   "execution_count": null,
   "metadata": {},
   "outputs": [],
   "source": [
    "# find the element which are not multiple of 3\n"
   ]
  },
  {
   "cell_type": "markdown",
   "metadata": {},
   "source": [
    "# NumPy iteration\n",
    "- 1D\n",
    "- 2D\n",
    "- 3D\n",
    "\n",
    "- nditer()\n",
    "- ndenumerate()\n"
   ]
  },
  {
   "cell_type": "code",
   "execution_count": null,
   "metadata": {},
   "outputs": [
    {
     "name": "stdout",
     "output_type": "stream",
     "text": [
      "[10 20 30 40 50 60 70 80] <class 'numpy.ndarray'> 1621729332848\n"
     ]
    }
   ],
   "source": [
    "import numpy as np\n",
    "a = np.array([10,20,30,40,50,60,70,80])\n",
    "print(a,type(a),id(a))"
   ]
  },
  {
   "cell_type": "code",
   "execution_count": null,
   "metadata": {},
   "outputs": [
    {
     "name": "stdout",
     "output_type": "stream",
     "text": [
      "10\n",
      "20\n",
      "30\n",
      "40\n",
      "50\n",
      "60\n",
      "70\n",
      "80\n"
     ]
    }
   ],
   "source": [
    "# display the element of ndarrray using for loop\n",
    "for val in a:\n",
    "    print(val)"
   ]
  },
  {
   "cell_type": "code",
   "execution_count": null,
   "metadata": {},
   "outputs": [
    {
     "name": "stdout",
     "output_type": "stream",
     "text": [
      "10\n",
      "20\n",
      "30\n",
      "40\n",
      "50\n",
      "60\n",
      "70\n",
      "80\n"
     ]
    }
   ],
   "source": [
    "# display the element of ndarray by using while loop\n",
    "i=0\n",
    "while(i<len(a)):\n",
    "    print(a[i])\n",
    "    i=i+1"
   ]
  },
  {
   "cell_type": "code",
   "execution_count": null,
   "metadata": {},
   "outputs": [
    {
     "name": "stdout",
     "output_type": "stream",
     "text": [
      "content of a\n",
      " [[ 0  1  2  3]\n",
      " [ 4  5  6  7]\n",
      " [ 8  9 10 11]\n",
      " [12 13 14 15]]\n",
      "dimension 2\n",
      "shape (4, 4)\n"
     ]
    }
   ],
   "source": [
    "a=np.arange(16).reshape(4,4)\n",
    "print(\"content of a\\n\",a)\n",
    "print(\"dimension\",a.ndim)\n",
    "print(\"shape\",a.shape)"
   ]
  },
  {
   "cell_type": "code",
   "execution_count": null,
   "metadata": {},
   "outputs": [
    {
     "name": "stdout",
     "output_type": "stream",
     "text": [
      "[0 1 2 3]\n",
      "[4 5 6 7]\n",
      "[ 8  9 10 11]\n",
      "[12 13 14 15]\n"
     ]
    }
   ],
   "source": [
    "for i in a:\n",
    "    print(i)"
   ]
  },
  {
   "cell_type": "code",
   "execution_count": null,
   "metadata": {},
   "outputs": [
    {
     "name": "stdout",
     "output_type": "stream",
     "text": [
      "0\n",
      "1\n",
      "2\n",
      "3\n",
      "4\n",
      "5\n",
      "6\n",
      "7\n",
      "8\n",
      "9\n",
      "10\n",
      "11\n",
      "12\n",
      "13\n",
      "14\n",
      "15\n"
     ]
    }
   ],
   "source": [
    "for row in a:\n",
    "    for colelement in row:\n",
    "        print(colelement)"
   ]
  },
  {
   "cell_type": "code",
   "execution_count": null,
   "metadata": {},
   "outputs": [
    {
     "name": "stdout",
     "output_type": "stream",
     "text": [
      "content of a\n",
      " [[[ 0  1]\n",
      "  [ 2  3]\n",
      "  [ 4  5]\n",
      "  [ 6  7]]\n",
      "\n",
      " [[ 8  9]\n",
      "  [10 11]\n",
      "  [12 13]\n",
      "  [14 15]]]\n",
      "dimension 3\n",
      "shape (2, 4, 2)\n"
     ]
    }
   ],
   "source": [
    "a=np.arange(16).reshape(2,4,2)\n",
    "print(\"content of a\\n\",a)\n",
    "print(\"dimension\",a.ndim)\n",
    "print(\"shape\",a.shape)"
   ]
  },
  {
   "cell_type": "code",
   "execution_count": null,
   "metadata": {},
   "outputs": [
    {
     "name": "stdout",
     "output_type": "stream",
     "text": [
      "0\n",
      "1\n",
      "2\n",
      "3\n",
      "4\n",
      "5\n",
      "6\n",
      "7\n",
      "8\n",
      "9\n",
      "10\n",
      "11\n",
      "12\n",
      "13\n",
      "14\n",
      "15\n"
     ]
    }
   ],
   "source": [
    "for matrix in a:\n",
    "    for row in matrix:\n",
    "        for colemement in row:\n",
    "            print(colemement)\n",
    "        "
   ]
  },
  {
   "cell_type": "markdown",
   "metadata": {},
   "source": [
    "- In numpy we have 2 function to iterate the element of ndarray\n",
    "1. nditer()\n",
    "2. ndenumerate()"
   ]
  },
  {
   "cell_type": "code",
   "execution_count": null,
   "metadata": {},
   "outputs": [
    {
     "name": "stdout",
     "output_type": "stream",
     "text": [
      "10\n",
      "20\n",
      "30\n",
      "40\n",
      "50\n",
      "60\n",
      "70\n",
      "80\n",
      "90\n"
     ]
    }
   ],
   "source": [
    "# nditer()\n",
    "import numpy as np\n",
    "a = np.array([10,20,30,40,50,60,70,80,90])\n",
    "for val in np.nditer(a):\n",
    "    print(val)"
   ]
  },
  {
   "cell_type": "code",
   "execution_count": null,
   "metadata": {},
   "outputs": [
    {
     "name": "stdout",
     "output_type": "stream",
     "text": [
      "[[10 20 30]\n",
      " [40 50 60]\n",
      " [70 80 90]]\n"
     ]
    }
   ],
   "source": [
    "a.shape=(3,3)\n",
    "print(a)"
   ]
  },
  {
   "cell_type": "code",
   "execution_count": null,
   "metadata": {},
   "outputs": [
    {
     "name": "stdout",
     "output_type": "stream",
     "text": [
      "10\n",
      "20\n",
      "30\n",
      "40\n",
      "50\n",
      "60\n",
      "70\n",
      "80\n",
      "90\n"
     ]
    }
   ],
   "source": [
    "# displaying 2d\n",
    "for val in np.nditer(a):\n",
    "    print(val)"
   ]
  },
  {
   "cell_type": "code",
   "execution_count": null,
   "metadata": {},
   "outputs": [
    {
     "name": "stdout",
     "output_type": "stream",
     "text": [
      "[[[ 10  20]\n",
      "  [ 30  40]\n",
      "  [ 50  60]]\n",
      "\n",
      " [[ 70  80]\n",
      "  [ 90 100]\n",
      "  [110 120]]]\n"
     ]
    }
   ],
   "source": [
    "a=np.array([10,20,30,40,50,60,70,80,90,100,110,120])\n",
    "a.shape=(2,3,2)\n",
    "print(a)"
   ]
  },
  {
   "cell_type": "code",
   "execution_count": null,
   "metadata": {},
   "outputs": [
    {
     "name": "stdout",
     "output_type": "stream",
     "text": [
      "10\n",
      "20\n",
      "30\n",
      "40\n",
      "50\n",
      "60\n",
      "70\n",
      "80\n",
      "90\n",
      "100\n",
      "110\n",
      "120\n"
     ]
    }
   ],
   "source": [
    "# diplay 3d\n",
    "for val in np.nditer(a):\n",
    "     print(val)"
   ]
  },
  {
   "cell_type": "code",
   "execution_count": null,
   "metadata": {},
   "outputs": [
    {
     "name": "stdout",
     "output_type": "stream",
     "text": [
      "(0, 0, 0) --> 10\n",
      "(0, 0, 1) --> 20\n",
      "(0, 1, 0) --> 30\n",
      "(0, 1, 1) --> 40\n",
      "(0, 2, 0) --> 50\n",
      "(0, 2, 1) --> 60\n",
      "(1, 0, 0) --> 70\n",
      "(1, 0, 1) --> 80\n",
      "(1, 1, 0) --> 90\n",
      "(1, 1, 1) --> 100\n",
      "(1, 2, 0) --> 110\n",
      "(1, 2, 1) --> 120\n"
     ]
    }
   ],
   "source": [
    "# using ndenumerate\n",
    "for index,value in np.ndenumerate(a):\n",
    "    print(index,\"-->\",value)"
   ]
  },
  {
   "cell_type": "code",
   "execution_count": null,
   "metadata": {},
   "outputs": [
    {
     "name": "stdout",
     "output_type": "stream",
     "text": [
      "1-->10\n",
      "2-->20\n",
      "3-->30\n",
      "4-->40\n",
      "5-->50\n",
      "6-->60\n",
      "7-->70\n",
      "8-->80\n",
      "9-->90\n"
     ]
    }
   ],
   "source": [
    "# index start with 0 but you want to start it with 1\n",
    "a = np.array([10,20,30,40,50,60,70,80,90])\n",
    "for i,v in np.ndenumerate(a):\n",
    "    print(\"{}-->{}\".format(i[0]+1,v))"
   ]
  },
  {
   "cell_type": "code",
   "execution_count": null,
   "metadata": {},
   "outputs": [],
   "source": [
    "# the above is called program define index"
   ]
  },
  {
   "cell_type": "code",
   "execution_count": null,
   "metadata": {},
   "outputs": [
    {
     "data": {
      "text/plain": [
       "'  \\n=> random.rand()\\n=> random.uniform()- uniform distribution\\n=> random.randn()\\n=> random.normal()-normal distribution\\n\\n_______________________\\n\\n# data distribution in numpy\\n- possibility of occurence of value\\n- value of occurence in list.\\n\\n_____________________\\n\\nprobability \\n'"
      ]
     },
     "execution_count": 107,
     "metadata": {},
     "output_type": "execute_result"
    }
   ],
   "source": [
    "\"\"\"  \n",
    "=> random.rand()\n",
    "=> random.uniform()- uniform distribution\n",
    "=> random.randn()\n",
    "=> random.normal()-normal distribution\n",
    "\n",
    "_______________________\n",
    "\n",
    "# data distribution in numpy\n",
    "- possibility of occurence of value\n",
    "- value of occurence in list.\n",
    "\n",
    "_____________________\n",
    "\n",
    "probability \n",
    "\"\"\""
   ]
  },
  {
   "cell_type": "code",
   "execution_count": null,
   "metadata": {},
   "outputs": [
    {
     "name": "stdout",
     "output_type": "stream",
     "text": [
      "[5 7 7 5 5 7 7 7 7 7 3 7 7 5 3 7 5 5 7 7 7 3 7 5 7 3 7 7 7 7 7 3 7 5 7 7 7\n",
      " 7 7 7 5 5 7 7 5 7 7 5 5 7 3 7 7 7 7 7 5 7 7 7 5 7 5 7 7 7 7 7 7 7 5 5 5 5\n",
      " 7 7 7 7 5 5 5 7 7 5 5 5 3 3 7 7 7 7 5 5 7 7 5 5 3 7]\n"
     ]
    }
   ],
   "source": [
    "# numpy random data distribution\n",
    "a=np.array([3,5,7,9])\n",
    "x=np.random.choice(a,p=[0.1,0.3,0.6,0.0],size=(100))\n",
    "print(x)"
   ]
  },
  {
   "cell_type": "code",
   "execution_count": null,
   "metadata": {},
   "outputs": [
    {
     "name": "stdout",
     "output_type": "stream",
     "text": [
      "100\n"
     ]
    }
   ],
   "source": [
    "print(x.size)"
   ]
  },
  {
   "cell_type": "code",
   "execution_count": null,
   "metadata": {},
   "outputs": [
    {
     "name": "stdout",
     "output_type": "stream",
     "text": [
      "[10, 40, 20, 60, 50, 30]\n"
     ]
    }
   ],
   "source": [
    "import random as r\n",
    "lst=[10,20,30,40,50,60]\n",
    "r.shuffle(lst)\n",
    "print(lst)"
   ]
  },
  {
   "cell_type": "code",
   "execution_count": null,
   "metadata": {},
   "outputs": [
    {
     "name": "stdout",
     "output_type": "stream",
     "text": [
      "[20, 30, 10, 60, 50, 40]\n",
      "[20, 60, 40, 10, 50, 30]\n",
      "[60, 50, 10, 20, 30, 40]\n",
      "[60, 10, 40, 30, 50, 20]\n",
      "[10, 40, 60, 50, 20, 30]\n",
      "[40, 10, 60, 30, 20, 50]\n"
     ]
    }
   ],
   "source": [
    "for i in range(len(lst)):\n",
    "    r.shuffle(lst)\n",
    "    print(lst)"
   ]
  },
  {
   "cell_type": "code",
   "execution_count": null,
   "metadata": {},
   "outputs": [
    {
     "data": {
      "text/plain": [
       "' \\nshuffle cannot apply on str,byte ,tuple,range,set,frozenset ,dict ,since they are immutable in nature\\n'"
      ]
     },
     "execution_count": 112,
     "metadata": {},
     "output_type": "execute_result"
    }
   ],
   "source": [
    "s=\"mississippi\"\n",
    "\"\"\" \n",
    "shuffle cannot apply on str,byte ,tuple,range,set,frozenset ,dict ,since they are immutable in nature\n",
    "\"\"\""
   ]
  },
  {
   "cell_type": "code",
   "execution_count": null,
   "metadata": {},
   "outputs": [
    {
     "name": "stdout",
     "output_type": "stream",
     "text": [
      "sismpiissip\n",
      "sissimiipsp\n",
      "pissmpsisii\n",
      "iipssiimpss\n",
      "piiimspsssi\n",
      "piismsipsis\n",
      "ipssmispsii\n",
      "ipsiiispssm\n",
      "imisipspsis\n",
      "iispspimssi\n",
      "mpipsssiiis\n"
     ]
    }
   ],
   "source": [
    "s=\"mississippi\"\n",
    "lst=list(s)\n",
    "for i in range(len(lst)):\n",
    "    r.shuffle(lst)\n",
    "    print(''.join(lst))"
   ]
  },
  {
   "cell_type": "code",
   "execution_count": null,
   "metadata": {},
   "outputs": [],
   "source": [
    "# example on numpy permutation and combination by numpy.random.shuffle and permutation .\n"
   ]
  },
  {
   "cell_type": "markdown",
   "metadata": {},
   "source": [
    "# NumPy random permutation of elements\n",
    "- a permutation refer to an arrangement of element eg: [3,2,1] is a permuataion of [1,2,3] and vice versa \n",
    "- NumPy random module provide two method for this \n",
    "1. shuffle() and\n",
    "2. permutation()"
   ]
  },
  {
   "cell_type": "code",
   "execution_count": null,
   "metadata": {},
   "outputs": [
    {
     "name": "stdout",
     "output_type": "stream",
     "text": [
      "original ndarray object= [10 20 30 40 50]\n"
     ]
    }
   ],
   "source": [
    "a=np.array([10,20,30,40,50,])\n",
    "print(\"original ndarray object=\",a)"
   ]
  },
  {
   "cell_type": "code",
   "execution_count": null,
   "metadata": {},
   "outputs": [
    {
     "name": "stdout",
     "output_type": "stream",
     "text": [
      "[40 30 20 10 50]\n"
     ]
    }
   ],
   "source": [
    "# re-arrange the elements of ndarray\n",
    "np.random.shuffle(a)\n",
    "print(a)"
   ]
  },
  {
   "cell_type": "code",
   "execution_count": null,
   "metadata": {},
   "outputs": [
    {
     "name": "stdout",
     "output_type": "stream",
     "text": [
      "[20 30 10 40 50]\n",
      "[30 50 20 40 10]\n",
      "[10 20 40 50 30]\n",
      "[50 40 30 20 10]\n",
      "[40 20 10 50 30]\n"
     ]
    }
   ],
   "source": [
    "for i in range(len(a)):\n",
    "    np.random.shuffle(a)\n",
    "    print(a)"
   ]
  },
  {
   "cell_type": "markdown",
   "metadata": {},
   "source": [
    "# generating permutation of array\n",
    "- the permutation method return a re-arranged array (leaves the original array unchanged)"
   ]
  },
  {
   "cell_type": "code",
   "execution_count": null,
   "metadata": {},
   "outputs": [
    {
     "name": "stdout",
     "output_type": "stream",
     "text": [
      "[1 3 5 2 4]\n"
     ]
    }
   ],
   "source": [
    "# by using permutation  for re-arranging elements\n",
    "arr=np.array([1,2,3,4,5])\n",
    "print(np.random.permutation(arr))"
   ]
  },
  {
   "cell_type": "code",
   "execution_count": null,
   "metadata": {},
   "outputs": [
    {
     "name": "stdout",
     "output_type": "stream",
     "text": [
      "['s' 'm' 'i' 's' 'i' 'i' 's' 'p' 'p' 'i' 's']\n"
     ]
    }
   ],
   "source": [
    "arr=np.array(list(\"mississippi\"))\n",
    "x=np.random.permutation(arr)\n",
    "print(x)"
   ]
  },
  {
   "cell_type": "code",
   "execution_count": null,
   "metadata": {},
   "outputs": [
    {
     "name": "stdout",
     "output_type": "stream",
     "text": [
      "['p' 'i' 'p' 'i' 's' 's' 'i' 's' 'm' 's' 'i']\n",
      "['i' 's' 'p' 'i' 'i' 's' 's' 'p' 's' 'm' 'i']\n",
      "['i' 'i' 's' 'm' 'p' 's' 's' 'i' 's' 'p' 'i']\n",
      "['p' 's' 'p' 'i' 's' 'i' 's' 's' 'm' 'i' 'i']\n",
      "['s' 'p' 's' 'i' 'i' 'i' 'p' 's' 'm' 's' 'i']\n",
      "['i' 'm' 's' 'i' 'p' 's' 's' 's' 'p' 'i' 'i']\n",
      "['s' 'i' 'i' 'p' 's' 's' 's' 'i' 'i' 'm' 'p']\n",
      "['i' 's' 'i' 'p' 's' 'i' 'i' 'm' 's' 's' 'p']\n",
      "['s' 'i' 's' 's' 'i' 'i' 's' 'i' 'p' 'p' 'm']\n",
      "['i' 'm' 's' 's' 'p' 'i' 'i' 's' 'p' 's' 'i']\n",
      "['s' 's' 'i' 'i' 'm' 'p' 'i' 's' 'i' 'p' 's']\n"
     ]
    }
   ],
   "source": [
    "arr=np.array(list(\"mississippi\"))\n",
    "for i in range(len(arr)):\n",
    "    x=np.random.permutation(arr)\n",
    "    print(x)"
   ]
  },
  {
   "cell_type": "code",
   "execution_count": null,
   "metadata": {},
   "outputs": [
    {
     "name": "stdout",
     "output_type": "stream",
     "text": [
      "ssiimpisips\n"
     ]
    }
   ],
   "source": [
    "print(\"\".join(x))"
   ]
  },
  {
   "cell_type": "markdown",
   "metadata": {},
   "source": [
    "# flatten() and ravel()"
   ]
  },
  {
   "cell_type": "code",
   "execution_count": null,
   "metadata": {},
   "outputs": [
    {
     "name": "stdout",
     "output_type": "stream",
     "text": [
      "[[0 1 2]\n",
      " [3 4 5]\n",
      " [6 7 8]]\n",
      "dimension= 2\n",
      "shape= (3, 3)\n"
     ]
    }
   ],
   "source": [
    "a=np.arange(9).reshape(3,3)\n",
    "print(a)\n",
    "print(\"dimension=\",a.ndim)\n",
    "print(\"shape=\",a.shape)\n"
   ]
  },
  {
   "cell_type": "code",
   "execution_count": null,
   "metadata": {},
   "outputs": [
    {
     "name": "stdout",
     "output_type": "stream",
     "text": [
      "[0 1 2 3 4 5 6 7 8]\n"
     ]
    }
   ],
   "source": [
    "# now make it flatten \n",
    "a.shape=(9,)\n",
    "print(a)"
   ]
  },
  {
   "cell_type": "code",
   "execution_count": null,
   "metadata": {},
   "outputs": [
    {
     "name": "stdout",
     "output_type": "stream",
     "text": [
      "[0 1 2 3 4 5 6 7 8]\n",
      "dimension= 2\n",
      "shape= (3, 3)\n"
     ]
    }
   ],
   "source": [
    "a=np.arange(9).reshape(3,3)\n",
    "print(a.flatten())\n",
    "print(\"dimension=\",a.ndim)\n",
    "print(\"shape=\",a.shape)\n"
   ]
  },
  {
   "cell_type": "code",
   "execution_count": null,
   "metadata": {},
   "outputs": [
    {
     "data": {
      "text/plain": [
       "' \\n-->numpy is made from \"C\" and \"FORTRAN\"\\n--> \"C\"- stand for column measure \\n--> \"FORTAN\" - stand for formula translation \\n'"
      ]
     },
     "execution_count": 125,
     "metadata": {},
     "output_type": "execute_result"
    }
   ],
   "source": [
    "\"\"\" \n",
    "-->numpy is made from \"C\" and \"FORTRAN\"\n",
    "--> \"C\"- stand for column measure \n",
    "--> \"FORTAN\" - stand for formula translation \n",
    "\"\"\""
   ]
  },
  {
   "cell_type": "code",
   "execution_count": null,
   "metadata": {},
   "outputs": [
    {
     "name": "stdout",
     "output_type": "stream",
     "text": [
      "given array\n",
      "[[0 1 2]\n",
      " [3 4 5]\n",
      " [6 7 8]]\n",
      "-------------------------------\n",
      "content of x= [0 3 6 1 4 7 2 5 8]\n",
      "dimension= 1\n",
      "shape= (9,)\n"
     ]
    }
   ],
   "source": [
    "a=np.arange(9).reshape(3,3)\n",
    "print(\"given array\")\n",
    "print(a)\n",
    "print(\"-------------------------------\")\n",
    "x=a.flatten(\"F\")\n",
    "print(\"content of x=\",x)\n",
    "print(\"dimension=\",x.ndim)\n",
    "print(\"shape=\",x.shape)\n",
    "\n"
   ]
  },
  {
   "cell_type": "code",
   "execution_count": null,
   "metadata": {},
   "outputs": [],
   "source": [
    "# column become row\n",
    "# row become column\n"
   ]
  },
  {
   "cell_type": "code",
   "execution_count": null,
   "metadata": {},
   "outputs": [
    {
     "name": "stdout",
     "output_type": "stream",
     "text": [
      "given array\n",
      "[0 1 2 3 4 5 6 7 8]\n"
     ]
    }
   ],
   "source": [
    "a=np.arange(9).reshape(3,3)\n",
    "print(\"given array\")\n",
    "print(a.ravel())\n"
   ]
  },
  {
   "cell_type": "code",
   "execution_count": null,
   "metadata": {},
   "outputs": [],
   "source": [
    "# example of numpy swaping "
   ]
  },
  {
   "cell_type": "code",
   "execution_count": null,
   "metadata": {},
   "outputs": [
    {
     "name": "stdout",
     "output_type": "stream",
     "text": [
      "original array:\n",
      "[[ 0  1  2]\n",
      " [ 3  4  5]\n",
      " [ 6  7  8]\n",
      " [ 9 10 11]]\n",
      "after swaping the array the last column and first column :\n",
      "[[ 2  1  0]\n",
      " [ 5  4  3]\n",
      " [ 8  7  6]\n",
      " [11 10  9]]\n"
     ]
    }
   ],
   "source": [
    "import numpy as np\n",
    "# create array with shape(4,3)\n",
    "my_array=np.arange(12).reshape(4,3)\n",
    "print(\"original array:\")\n",
    "print(my_array)\n",
    "# swaping the column with index of original array\n",
    "my_array[:,[2,0]]=my_array[:,[0,2]]\n",
    "print(\"after swaping the array the last column and first column :\")\n",
    "print(my_array)"
   ]
  },
  {
   "cell_type": "code",
   "execution_count": null,
   "metadata": {},
   "outputs": [
    {
     "data": {
      "text/plain": [
       "' \\nimport numpy as np\\n# creating array\\ndef swap(arr,startIndex,lastIndex):\\n     arr[:,[startIndex,lastIndex]]=arr[lastIndex,startIndex]\\n   \\n'"
      ]
     },
     "execution_count": 74,
     "metadata": {},
     "output_type": "execute_result"
    }
   ],
   "source": [
    "# function defination for swap\n",
    "\n",
    "\"\"\" \n",
    "import numpy as np\n",
    "# creating array\n",
    "def swap(arr,startIndex,lastIndex):\n",
    "     arr[:,[startIndex,lastIndex]]=arr[lastIndex,startIndex]\n",
    "   \n",
    "\"\"\""
   ]
  },
  {
   "cell_type": "markdown",
   "metadata": {},
   "source": [
    "# Numpy statistics operation:-\n",
    "1. amax()\n",
    "2. amin()\n",
    "3. mean()\n",
    "4. median()\n",
    "5. mode() not present in python module\n",
    "6. var() # variance \n",
    "7. std() # standard deviation"
   ]
  },
  {
   "cell_type": "code",
   "execution_count": null,
   "metadata": {},
   "outputs": [
    {
     "name": "stdout",
     "output_type": "stream",
     "text": [
      "26\n",
      "-6\n"
     ]
    }
   ],
   "source": [
    "# 1d array\n",
    "a=np.array([10,20,3,5,14,-6,26])\n",
    "print(np.amax(a))\n",
    "print(np.amin(a))\n"
   ]
  },
  {
   "cell_type": "code",
   "execution_count": null,
   "metadata": {},
   "outputs": [
    {
     "name": "stdout",
     "output_type": "stream",
     "text": [
      "[[1 2 3]\n",
      " [4 5 6]\n",
      " [7 8 9]]\n",
      "9\n",
      "1\n",
      "[7 8 9]\n",
      "[3 6 9]\n"
     ]
    }
   ],
   "source": [
    "# 2d array related row max and col max\n",
    "a=np.array([[1,2,3],[4,5,6],[7,8,9]])\n",
    "print(a)\n",
    "print(np.amax(a))\n",
    "print(np.amin(a))\n",
    "print(np.amax(a,axis=0))\n",
    "print(np.amax(a,axis=1))"
   ]
  },
  {
   "cell_type": "code",
   "execution_count": null,
   "metadata": {},
   "outputs": [
    {
     "name": "stdout",
     "output_type": "stream",
     "text": [
      ":sum= 550\n",
      "mean or average= 55.0\n",
      "using pre define function: 55.0\n"
     ]
    }
   ],
   "source": [
    "# find the mean \n",
    "lst=[10,20,30,40,50,60,70,80,90,100]\n",
    "s=0\n",
    "for val in lst:\n",
    "    s=s+val\n",
    "    \n",
    "print(\":sum=\",s)\n",
    "print(\"mean or average=\",(s/len(lst)))\n",
    "print(\"using pre define function:\",(sum(lst)/len(lst)))"
   ]
  },
  {
   "cell_type": "code",
   "execution_count": null,
   "metadata": {},
   "outputs": [
    {
     "name": "stdout",
     "output_type": "stream",
     "text": [
      "content of a [ 10  20  30  40  50  60  70  80  90 100]\n",
      "mean of 1D array 55.0\n"
     ]
    }
   ],
   "source": [
    "# finding mean of 1D array\n",
    "a=np.array([10,20,30,40,50,60,70,80,90,100])\n",
    "print(\"content of a\",a)\n",
    "print(\"mean of 1D array\",np.mean(a))\n"
   ]
  },
  {
   "cell_type": "code",
   "execution_count": null,
   "metadata": {},
   "outputs": [
    {
     "name": "stdout",
     "output_type": "stream",
     "text": [
      "[[10 20 30]\n",
      " [40 50 60]\n",
      " [70 80 90]]\n",
      "mean of 2D array 50.0\n",
      "mean of 2D array along axis 0 [40. 50. 60.]\n",
      "mean of 2D array along axis 1 [20. 50. 80.]\n"
     ]
    }
   ],
   "source": [
    "# finding mean of 2D array\n",
    "\n",
    "a=np.array([[10,20,30],[40,50,60],[70,80,90]])\n",
    "print(a)\n",
    "print(\"mean of 2D array\",np.mean(a))\n",
    "print(\"mean of 2D array along axis 0\",np.mean(a,axis=0))\n",
    "print(\"mean of 2D array along axis 1\",np.mean(a,axis=1))"
   ]
  },
  {
   "cell_type": "code",
   "execution_count": null,
   "metadata": {},
   "outputs": [
    {
     "data": {
      "text/plain": [
       "' \\n0 axis mean = y axis or vertical axis or column\\n1 axis mean = x axis or horizontal axis or row\\n\\n'"
      ]
     },
     "execution_count": 80,
     "metadata": {},
     "output_type": "execute_result"
    }
   ],
   "source": [
    "\"\"\" \n",
    "0 axis mean = y axis or vertical axis or column\n",
    "1 axis mean = x axis or horizontal axis or row\n",
    "\n",
    "\"\"\""
   ]
  },
  {
   "cell_type": "code",
   "execution_count": null,
   "metadata": {},
   "outputs": [
    {
     "name": "stdout",
     "output_type": "stream",
     "text": [
      "list of average salary [12 35 24  6 36  8  9]\n",
      "12.0\n",
      "mean sal 18.571428571428573\n"
     ]
    }
   ],
   "source": [
    "# finding median of 1D array\n",
    "sals=[12,35,24,6,36,8,9]\n",
    "asals=np.array(sals)\n",
    "print(\"list of average salary\",asals)\n",
    "mdsal=np.median(asals)\n",
    "print(mdsal)\n",
    "print(\"mean sal\",np.mean(asals))"
   ]
  },
  {
   "cell_type": "code",
   "execution_count": null,
   "metadata": {},
   "outputs": [
    {
     "name": "stdout",
     "output_type": "stream",
     "text": [
      "[[10  2 20]\n",
      " [ 5 15  8]\n",
      " [ 5 15  4]]\n",
      "median 8.0\n",
      "median of 2d array 9.333333333333334\n"
     ]
    }
   ],
   "source": [
    "# find the median of 2-d array with number of values\n",
    "import numpy as np\n",
    "a=np.array([[10,2,20],[5,15,8],[5,15,4]])\n",
    "print(a)\n",
    "print(\"median\",np.median(a))\n",
    "print(\"median of 2d array\",np.mean(a))\n",
    "\n"
   ]
  },
  {
   "cell_type": "code",
   "execution_count": null,
   "metadata": {},
   "outputs": [],
   "source": [
    "# print(np.mode)\n",
    "# we dont have mode in numpy"
   ]
  },
  {
   "cell_type": "markdown",
   "metadata": {},
   "source": [
    "# Finding variance"
   ]
  },
  {
   "cell_type": "code",
   "execution_count": null,
   "metadata": {},
   "outputs": [
    {
     "name": "stdout",
     "output_type": "stream",
     "text": [
      "[[2 4]\n",
      " [1 3]] <class 'numpy.ndarray'>\n"
     ]
    }
   ],
   "source": [
    "import numpy as np\n",
    "a=np.array([[2,4],[1,3]])\n",
    "print(a,type(a))"
   ]
  },
  {
   "cell_type": "code",
   "execution_count": null,
   "metadata": {},
   "outputs": [
    {
     "name": "stdout",
     "output_type": "stream",
     "text": [
      "2.5\n"
     ]
    }
   ],
   "source": [
    "# calculating mean\n",
    "print(np.mean(a))"
   ]
  },
  {
   "cell_type": "code",
   "execution_count": null,
   "metadata": {},
   "outputs": [
    {
     "name": "stdout",
     "output_type": "stream",
     "text": [
      "variance of a= 1.25\n"
     ]
    }
   ],
   "source": [
    "# total variance of a\n",
    "print(\"variance of a=\",np.var(a))"
   ]
  },
  {
   "cell_type": "code",
   "execution_count": null,
   "metadata": {},
   "outputs": [
    {
     "name": "stdout",
     "output_type": "stream",
     "text": [
      "column variance of a= [0.25 0.25]\n"
     ]
    }
   ],
   "source": [
    "# column variance of a\n",
    "print(\"column variance of a=\",np.var(a,axis=0))"
   ]
  },
  {
   "cell_type": "code",
   "execution_count": null,
   "metadata": {},
   "outputs": [
    {
     "name": "stdout",
     "output_type": "stream",
     "text": [
      "column variance of a= [1. 1.]\n"
     ]
    }
   ],
   "source": [
    "# row variance of a\n",
    "print(\"column variance of a=\",np.var(a,axis=1))"
   ]
  },
  {
   "cell_type": "markdown",
   "metadata": {},
   "source": [
    "# standard deviation\n",
    "# standard deviation =math.sqrt(variance)"
   ]
  },
  {
   "cell_type": "code",
   "execution_count": null,
   "metadata": {},
   "outputs": [
    {
     "name": "stdout",
     "output_type": "stream",
     "text": [
      "1.118033988749895\n"
     ]
    }
   ],
   "source": [
    "# total variance\n",
    "print(np.std(a))"
   ]
  },
  {
   "cell_type": "code",
   "execution_count": null,
   "metadata": {},
   "outputs": [
    {
     "name": "stdout",
     "output_type": "stream",
     "text": [
      "[0.5 0.5]\n"
     ]
    }
   ],
   "source": [
    "# colummn variance\n",
    "print(np.std(a,axis=0))"
   ]
  },
  {
   "cell_type": "code",
   "execution_count": null,
   "metadata": {},
   "outputs": [
    {
     "name": "stdout",
     "output_type": "stream",
     "text": [
      "[1. 1.]\n"
     ]
    }
   ],
   "source": [
    "# row variance\n",
    "print(np.std(a,axis=1))"
   ]
  },
  {
   "cell_type": "markdown",
   "metadata": {},
   "source": [
    "# concept of mode via statistics"
   ]
  },
  {
   "cell_type": "code",
   "execution_count": null,
   "metadata": {},
   "outputs": [
    {
     "name": "stdout",
     "output_type": "stream",
     "text": [
      "10\n"
     ]
    }
   ],
   "source": [
    "import statistics as s\n",
    "lst=[10,20,30,10,40,50,20,10,15]\n",
    "print(s.mode(lst))"
   ]
  },
  {
   "cell_type": "code",
   "execution_count": null,
   "metadata": {},
   "outputs": [],
   "source": [
    "# mode give most frequent/occurence element"
   ]
  },
  {
   "cell_type": "code",
   "execution_count": null,
   "metadata": {},
   "outputs": [
    {
     "name": "stdout",
     "output_type": "stream",
     "text": [
      "[10, 20, 30]\n"
     ]
    }
   ],
   "source": [
    "# to find multi frequent element \n",
    "lst=[10,20,30,10,40,30,50,20,10,15,20,20,10,15,30,30]\n",
    "print(s.multimode(lst))"
   ]
  },
  {
   "cell_type": "code",
   "execution_count": null,
   "metadata": {},
   "outputs": [
    {
     "name": "stdout",
     "output_type": "stream",
     "text": [
      "[np.str_('i'), np.str_('s')]\n"
     ]
    }
   ],
   "source": [
    "import numpy as np\n",
    "a=np.array(list(\"mississippi\"))\n",
    "print(s.multimode(a))"
   ]
  },
  {
   "cell_type": "markdown",
   "metadata": {},
   "source": [
    "# ndarray with appending,insert,delete operation"
   ]
  },
  {
   "cell_type": "code",
   "execution_count": null,
   "metadata": {},
   "outputs": [
    {
     "name": "stdout",
     "output_type": "stream",
     "text": [
      "[10 20 30 40] <class 'numpy.ndarray'>\n"
     ]
    }
   ],
   "source": [
    "# append()\n",
    "a=np.array([10,20,30,40])\n",
    "print(a,type(a))"
   ]
  },
  {
   "cell_type": "code",
   "execution_count": null,
   "metadata": {},
   "outputs": [
    {
     "data": {
      "text/plain": [
       "array([ 10,  20,  30,  40, 100])"
      ]
     },
     "execution_count": 142,
     "metadata": {},
     "output_type": "execute_result"
    }
   ],
   "source": [
    "np.append(a,100)"
   ]
  },
  {
   "cell_type": "code",
   "execution_count": null,
   "metadata": {},
   "outputs": [
    {
     "name": "stdout",
     "output_type": "stream",
     "text": [
      "[ 10  20  30  40  50  60  70  80  90 100]\n"
     ]
    }
   ],
   "source": [
    "# appending multiple values to ndarray object   \n",
    "a=np.append(a,[50,60,70,80,90,100])\n",
    "print(a)"
   ]
  },
  {
   "cell_type": "code",
   "execution_count": null,
   "metadata": {},
   "outputs": [
    {
     "name": "stdout",
     "output_type": "stream",
     "text": [
      "[[10 20]\n",
      " [30 40]]\n"
     ]
    }
   ],
   "source": [
    "# append function with 2d\n",
    "a=np.array([[10,20],[30,40]])\n",
    "print(a)"
   ]
  },
  {
   "cell_type": "code",
   "execution_count": null,
   "metadata": {},
   "outputs": [
    {
     "name": "stdout",
     "output_type": "stream",
     "text": [
      "[[10 20]\n",
      " [30 40]\n",
      " [50 60]\n",
      " [70 80]]\n"
     ]
    }
   ],
   "source": [
    "a=np.append(a,[[50,60],[70,80]],axis=0)\n",
    "print(a)"
   ]
  },
  {
   "cell_type": "code",
   "execution_count": null,
   "metadata": {},
   "outputs": [
    {
     "name": "stdout",
     "output_type": "stream",
     "text": [
      "[[10 20]\n",
      " [30 40]\n",
      " [50 60]\n",
      " [70 80]\n",
      " [50 60]\n",
      " [70 80]]\n"
     ]
    }
   ],
   "source": [
    "a=np.append(a,[[50,60],[70,80]],axis=0)\n",
    "print(a)"
   ]
  },
  {
   "cell_type": "code",
   "execution_count": null,
   "metadata": {},
   "outputs": [
    {
     "name": "stdout",
     "output_type": "stream",
     "text": [
      "[[10 20]\n",
      " [30 40]\n",
      " [50 60]\n",
      " [70 80]\n",
      " [50 60]\n",
      " [70 80]\n",
      " [ 0  0]]\n"
     ]
    }
   ],
   "source": [
    "# column\n",
    "a=np.append(a,[[0,0]],axis=0)\n",
    "print(a)"
   ]
  },
  {
   "cell_type": "code",
   "execution_count": null,
   "metadata": {},
   "outputs": [
    {
     "ename": "ValueError",
     "evalue": "all the input array dimensions except for the concatenation axis must match exactly, but along dimension 0, the array at index 0 has size 7 and the array at index 1 has size 5",
     "output_type": "error",
     "traceback": [
      "\u001b[1;31m---------------------------------------------------------------------------\u001b[0m",
      "\u001b[1;31mValueError\u001b[0m                                Traceback (most recent call last)",
      "Cell \u001b[1;32mIn[151], line 1\u001b[0m\n\u001b[1;32m----> 1\u001b[0m a\u001b[38;5;241m=\u001b[39m\u001b[43mnp\u001b[49m\u001b[38;5;241;43m.\u001b[39;49m\u001b[43mappend\u001b[49m\u001b[43m(\u001b[49m\u001b[43ma\u001b[49m\u001b[43m,\u001b[49m\u001b[43m[\u001b[49m\u001b[43m[\u001b[49m\u001b[38;5;241;43m0\u001b[39;49m\u001b[43m]\u001b[49m\u001b[43m,\u001b[49m\u001b[43m[\u001b[49m\u001b[38;5;241;43m0\u001b[39;49m\u001b[43m]\u001b[49m\u001b[43m,\u001b[49m\u001b[43m[\u001b[49m\u001b[38;5;241;43m1\u001b[39;49m\u001b[43m]\u001b[49m\u001b[43m,\u001b[49m\u001b[43m[\u001b[49m\u001b[38;5;241;43m1\u001b[39;49m\u001b[43m]\u001b[49m\u001b[43m,\u001b[49m\u001b[43m[\u001b[49m\u001b[38;5;241;43m0\u001b[39;49m\u001b[43m]\u001b[49m\u001b[43m]\u001b[49m\u001b[43m,\u001b[49m\u001b[43maxis\u001b[49m\u001b[38;5;241;43m=\u001b[39;49m\u001b[38;5;241;43m1\u001b[39;49m\u001b[43m)\u001b[49m\n\u001b[0;32m      2\u001b[0m \u001b[38;5;28mprint\u001b[39m(a)\n",
      "File \u001b[1;32mc:\\Users\\deepa\\AppData\\Local\\Programs\\Python\\Python313\\Lib\\site-packages\\numpy\\lib\\_function_base_impl.py:5711\u001b[0m, in \u001b[0;36mappend\u001b[1;34m(arr, values, axis)\u001b[0m\n\u001b[0;32m   5709\u001b[0m     values \u001b[38;5;241m=\u001b[39m ravel(values)\n\u001b[0;32m   5710\u001b[0m     axis \u001b[38;5;241m=\u001b[39m arr\u001b[38;5;241m.\u001b[39mndim\u001b[38;5;241m-\u001b[39m\u001b[38;5;241m1\u001b[39m\n\u001b[1;32m-> 5711\u001b[0m \u001b[38;5;28;01mreturn\u001b[39;00m \u001b[43mconcatenate\u001b[49m\u001b[43m(\u001b[49m\u001b[43m(\u001b[49m\u001b[43marr\u001b[49m\u001b[43m,\u001b[49m\u001b[43m \u001b[49m\u001b[43mvalues\u001b[49m\u001b[43m)\u001b[49m\u001b[43m,\u001b[49m\u001b[43m \u001b[49m\u001b[43maxis\u001b[49m\u001b[38;5;241;43m=\u001b[39;49m\u001b[43maxis\u001b[49m\u001b[43m)\u001b[49m\n",
      "\u001b[1;31mValueError\u001b[0m: all the input array dimensions except for the concatenation axis must match exactly, but along dimension 0, the array at index 0 has size 7 and the array at index 1 has size 5"
     ]
    }
   ],
   "source": [
    "a=np.append(a,[[0],[0],[1],[1],[0]],axis=1)\n",
    "print(a)"
   ]
  },
  {
   "cell_type": "markdown",
   "metadata": {},
   "source": [
    "# insert operation on ndarray"
   ]
  },
  {
   "cell_type": "code",
   "execution_count": null,
   "metadata": {},
   "outputs": [
    {
     "name": "stdout",
     "output_type": "stream",
     "text": [
      "[10 20 30 40 50 60]\n"
     ]
    }
   ],
   "source": [
    "a=np.array([10,20,30,40,50,60])\n",
    "print(a)"
   ]
  },
  {
   "cell_type": "code",
   "execution_count": null,
   "metadata": {},
   "outputs": [
    {
     "name": "stdout",
     "output_type": "stream",
     "text": [
      "[10 20 30 40 50 60] 1 15\n"
     ]
    }
   ],
   "source": [
    "print(a,1,15)"
   ]
  },
  {
   "cell_type": "code",
   "execution_count": null,
   "metadata": {},
   "outputs": [
    {
     "name": "stdout",
     "output_type": "stream",
     "text": [
      "[10 15 20 30 40 50 60]\n"
     ]
    }
   ],
   "source": [
    "a=np.insert(a,1,15)\n",
    "print(a)"
   ]
  },
  {
   "cell_type": "code",
   "execution_count": null,
   "metadata": {},
   "outputs": [
    {
     "name": "stdout",
     "output_type": "stream",
     "text": [
      "[10 15 20 11 22 33 44 30 40 50 60]\n"
     ]
    }
   ],
   "source": [
    "a=np.insert(a,3,[11,22,33,44])\n",
    "print(a)"
   ]
  },
  {
   "cell_type": "code",
   "execution_count": null,
   "metadata": {},
   "outputs": [
    {
     "name": "stdout",
     "output_type": "stream",
     "text": [
      "[10 20 30 40 50 60 70 80 90]\n"
     ]
    }
   ],
   "source": [
    "a=np.array([10,20,30,40,50,60,70,80,90])\n",
    "print(a)"
   ]
  },
  {
   "cell_type": "code",
   "execution_count": null,
   "metadata": {},
   "outputs": [
    {
     "name": "stdout",
     "output_type": "stream",
     "text": [
      "[[10 20 30]\n",
      " [40 50 60]\n",
      " [70 80 90]]\n"
     ]
    }
   ],
   "source": [
    "a.shape=(3,3)\n",
    "print(a)"
   ]
  },
  {
   "cell_type": "code",
   "execution_count": null,
   "metadata": {},
   "outputs": [
    {
     "name": "stdout",
     "output_type": "stream",
     "text": [
      "[[10 20 30]\n",
      " [11 22 33]\n",
      " [40 50 60]\n",
      " [70 80 90]]\n"
     ]
    }
   ],
   "source": [
    "print(np.insert(a,1,[11,22,33],axis=0))"
   ]
  },
  {
   "cell_type": "code",
   "execution_count": null,
   "metadata": {},
   "outputs": [
    {
     "name": "stdout",
     "output_type": "stream",
     "text": [
      "[[10 44 20 30]\n",
      " [40 55 50 60]\n",
      " [70 66 80 90]]\n"
     ]
    }
   ],
   "source": [
    "print(np.insert(a,1,[44,55,66],axis=1))"
   ]
  },
  {
   "cell_type": "markdown",
   "metadata": {},
   "source": [
    "# delete"
   ]
  },
  {
   "cell_type": "code",
   "execution_count": null,
   "metadata": {},
   "outputs": [
    {
     "name": "stdout",
     "output_type": "stream",
     "text": [
      "[20 30 40 50 60 70 90]\n"
     ]
    }
   ],
   "source": [
    "print(np.delete(a,[0,-2]))"
   ]
  },
  {
   "cell_type": "code",
   "execution_count": null,
   "metadata": {},
   "outputs": [
    {
     "name": "stdout",
     "output_type": "stream",
     "text": [
      "[[ 0  1  2  3  4]\n",
      " [ 5  6  7  8  9]\n",
      " [10 11 12 13 14]\n",
      " [15 16 17 18 19]\n",
      " [20 21 22 23 24]]\n"
     ]
    }
   ],
   "source": [
    "a=np.arange(5*5).reshape(5,5)\n",
    "print(a)"
   ]
  },
  {
   "cell_type": "code",
   "execution_count": null,
   "metadata": {},
   "outputs": [
    {
     "name": "stdout",
     "output_type": "stream",
     "text": [
      "[[ 0  1  2  3  4]\n",
      " [ 5  6  7  8  9]\n",
      " [15 16 17 18 19]\n",
      " [20 21 22 23 24]]\n"
     ]
    }
   ],
   "source": [
    "a=np.delete(a,2,axis=0)\n",
    "print(a)"
   ]
  },
  {
   "cell_type": "code",
   "execution_count": null,
   "metadata": {},
   "outputs": [
    {
     "name": "stdout",
     "output_type": "stream",
     "text": [
      "[[ 0  1  2  3  4]\n",
      " [ 5  6  7  8  9]\n",
      " [10 11 12 13 14]\n",
      " [15 16 17 18 19]\n",
      " [20 21 22 23 24]]\n"
     ]
    }
   ],
   "source": [
    "a=np.arange(5*5).reshape(5,5)\n",
    "print(a)"
   ]
  },
  {
   "cell_type": "code",
   "execution_count": null,
   "metadata": {},
   "outputs": [
    {
     "name": "stdout",
     "output_type": "stream",
     "text": [
      "[[ 0  2  3  4]\n",
      " [ 5  7  8  9]\n",
      " [10 12 13 14]\n",
      " [15 17 18 19]\n",
      " [20 22 23 24]]\n"
     ]
    }
   ],
   "source": [
    "a=np.delete(a,1,axis=1)\n",
    "print(a)"
   ]
  },
  {
   "cell_type": "code",
   "execution_count": null,
   "metadata": {},
   "outputs": [],
   "source": [
    "# axis =1 mean column\n",
    "# axis =0 mean row"
   ]
  },
  {
   "cell_type": "code",
   "execution_count": null,
   "metadata": {},
   "outputs": [
    {
     "name": "stdout",
     "output_type": "stream",
     "text": [
      "[[ 0  1  2  3  4]\n",
      " [ 5  6  7  8  9]\n",
      " [10 11 12 13 14]\n",
      " [15 16 17 18 19]\n",
      " [20 21 22 23 24]]\n"
     ]
    }
   ],
   "source": [
    "import numpy as np\n",
    "a=np.arange(25).reshape(5,5)\n",
    "print(a)"
   ]
  },
  {
   "cell_type": "code",
   "execution_count": null,
   "metadata": {},
   "outputs": [
    {
     "name": "stdout",
     "output_type": "stream",
     "text": [
      "[[ 0  1  2  3  4]\n",
      " [ 5  6  7  8  9]\n",
      " [10 11 12 13 14]\n",
      " [15 16 17 18 19]\n",
      " [20 21 22 23 24]]\n"
     ]
    }
   ],
   "source": [
    "import numpy as np\n",
    "import statistics as s\n",
    "a=np.arange(25).reshape(5,5)\n",
    "print(a)"
   ]
  },
  {
   "cell_type": "code",
   "execution_count": null,
   "metadata": {},
   "outputs": [],
   "source": [
    "# to delete complete array\n",
    "del a"
   ]
  },
  {
   "cell_type": "code",
   "execution_count": null,
   "metadata": {},
   "outputs": [
    {
     "ename": "NameError",
     "evalue": "name 'a' is not defined",
     "output_type": "error",
     "traceback": [
      "\u001b[1;31m---------------------------------------------------------------------------\u001b[0m",
      "\u001b[1;31mNameError\u001b[0m                                 Traceback (most recent call last)",
      "Cell \u001b[1;32mIn[157], line 1\u001b[0m\n\u001b[1;32m----> 1\u001b[0m \u001b[38;5;28mprint\u001b[39m(\u001b[43ma\u001b[49m)\n",
      "\u001b[1;31mNameError\u001b[0m: name 'a' is not defined"
     ]
    }
   ],
   "source": [
    "print(a)"
   ]
  },
  {
   "cell_type": "code",
   "execution_count": null,
   "metadata": {},
   "outputs": [
    {
     "name": "stdout",
     "output_type": "stream",
     "text": [
      "[[ 0  1  2  3  4]\n",
      " [ 5  6  7  8  9]\n",
      " [10 11 12 13 14]\n",
      " [15 16 17 18 19]\n",
      " [20 21 22 23 24]]\n"
     ]
    }
   ],
   "source": [
    "a=np.arange(5*5).reshape(5,5)\n",
    "print(a)"
   ]
  },
  {
   "cell_type": "code",
   "execution_count": null,
   "metadata": {},
   "outputs": [
    {
     "name": "stdout",
     "output_type": "stream",
     "text": [
      "[]\n"
     ]
    }
   ],
   "source": [
    "a=np.delete(a,[int(i) for i in range(a.shape[0])],axis=1)\n",
    "print(a)"
   ]
  },
  {
   "cell_type": "markdown",
   "metadata": {},
   "source": [
    "# universal function\n",
    "- add()\n",
    "- subtract()\n",
    "- multiply()\n",
    "- divide()\n",
    "- floor_divide()\n",
    "- mod()\n",
    "- power()\n",
    "- remainder()\n",
    "- divmod() q=[] r=[]\n"
   ]
  },
  {
   "cell_type": "code",
   "execution_count": null,
   "metadata": {},
   "outputs": [
    {
     "name": "stdout",
     "output_type": "stream",
     "text": [
      "[ 6 14 24 36 50]\n",
      "[-5 -5 -5 -5 -5]\n",
      "[ 7  9 11 13 15]\n",
      "[0.16666667 0.28571429 0.375      0.44444444 0.5       ]\n"
     ]
    }
   ],
   "source": [
    "import numpy as np\n",
    "arr1=np.array([1,2,3,4,5])\n",
    "arr2=np.array([6,7,8,9,10])\n",
    "print(np.multiply(arr1, arr2))\n",
    "print(np.subtract(arr1, arr2))\n",
    "print(np.add(arr1, arr2))\n",
    "print(np.divide(arr1, arr2))\n"
   ]
  },
  {
   "cell_type": "code",
   "execution_count": null,
   "metadata": {},
   "outputs": [
    {
     "name": "stdout",
     "output_type": "stream",
     "text": [
      "3.0\n"
     ]
    }
   ],
   "source": [
    "arr=np.around(3.16666)\n",
    "print(arr)"
   ]
  },
  {
   "cell_type": "code",
   "execution_count": null,
   "metadata": {},
   "outputs": [
    {
     "name": "stdout",
     "output_type": "stream",
     "text": [
      "18\n"
     ]
    }
   ],
   "source": [
    "arr=np.array([3,6,9])\n",
    "x=np.lcm.reduce(arr)\n",
    "print(x)"
   ]
  },
  {
   "cell_type": "code",
   "execution_count": null,
   "metadata": {},
   "outputs": [
    {
     "name": "stdout",
     "output_type": "stream",
     "text": [
      "4\n"
     ]
    }
   ],
   "source": [
    "# numpy gcd greatest common denominator\n",
    "arr=np.array([20,8,32,16])\n",
    "x=np.gcd.reduce(arr)\n",
    "print(x)"
   ]
  },
  {
   "cell_type": "markdown",
   "metadata": {},
   "source": [
    "# numpy sorting data"
   ]
  },
  {
   "cell_type": "code",
   "execution_count": null,
   "metadata": {},
   "outputs": [
    {
     "name": "stdout",
     "output_type": "stream",
     "text": [
      "[ 10   2  13   4  -5   0  16  25 -16]\n",
      "[-16  -5   0   2   4  10  13  16  25]\n"
     ]
    }
   ],
   "source": [
    "a=np.array([10,2,13,4,-5,0,16,25,-16])\n",
    "print(a)\n",
    "# to sort the data \n",
    "print(np.sort(a))"
   ]
  },
  {
   "cell_type": "code",
   "execution_count": null,
   "metadata": {},
   "outputs": [
    {
     "name": "stdout",
     "output_type": "stream",
     "text": [
      "[[ 10   2  13]\n",
      " [  4  -5   0]\n",
      " [ 16  25 -16]]\n"
     ]
    }
   ],
   "source": [
    "a.shape=(3,3)\n",
    "print(a)"
   ]
  },
  {
   "cell_type": "code",
   "execution_count": null,
   "metadata": {},
   "outputs": [
    {
     "data": {
      "text/plain": [
       "array([[  4,  -5, -16],\n",
       "       [ 10,   2,   0],\n",
       "       [ 16,  25,  13]])"
      ]
     },
     "execution_count": 177,
     "metadata": {},
     "output_type": "execute_result"
    }
   ],
   "source": [
    "np.sort(a,axis=0)"
   ]
  },
  {
   "cell_type": "code",
   "execution_count": null,
   "metadata": {},
   "outputs": [],
   "source": [
    "# here axis=0 represent column , column based sorting\n"
   ]
  },
  {
   "cell_type": "markdown",
   "metadata": {},
   "source": [
    "# example of linear algebra\n",
    "- solve()\n",
    "- det()\n",
    "- inv()\n"
   ]
  },
  {
   "cell_type": "code",
   "execution_count": null,
   "metadata": {},
   "outputs": [
    {
     "name": "stdout",
     "output_type": "stream",
     "text": [
      "[-1.5  3. ]\n"
     ]
    }
   ],
   "source": [
    "# consider the following linear equation:-\n",
    "#2x+3y=6 -->1\n",
    "#6x+4y=3 -->2\n",
    "# find the value of x and y\n",
    "a=np.array([[2,3],[6,4]])  \n",
    "b=np.array([6,3])\n",
    "sol=np.linalg.solve(a,b)\n",
    "print(sol)\n"
   ]
  },
  {
   "cell_type": "code",
   "execution_count": null,
   "metadata": {},
   "outputs": [
    {
     "name": "stdout",
     "output_type": "stream",
     "text": [
      "[ 8.19354839 -3.22580645  1.03225806]\n",
      "val of x= 8.193548387096774\n",
      "val of y= -3.225806451612903\n",
      "val of z= 1.032258064516129\n"
     ]
    }
   ],
   "source": [
    "#x+y+z=6\n",
    "#2x+3y+9z=16\n",
    "#2x-4y-9z=20\n",
    "a=np.array([[1,1,1],[2,3,9],[2,-4,-9]])\n",
    "b=np.array([6,16,20])\n",
    "sol=np.linalg.solve(a,b)\n",
    "print(sol)\n",
    "print(\"val of x=\",sol[0])\n",
    "print(\"val of y=\",sol[1])\n",
    "print(\"val of z=\",sol[2])"
   ]
  },
  {
   "cell_type": "code",
   "execution_count": null,
   "metadata": {},
   "outputs": [
    {
     "name": "stdout",
     "output_type": "stream",
     "text": [
      "-2.0000000000000004\n"
     ]
    }
   ],
   "source": [
    "# find det of given matrix\n",
    "a=-np.array([[1,2],[3,4]])\n",
    "detA=np.linalg.det(a)\n",
    "print(detA)\n"
   ]
  },
  {
   "cell_type": "code",
   "execution_count": null,
   "metadata": {},
   "outputs": [
    {
     "name": "stdout",
     "output_type": "stream",
     "text": [
      "-20.99999999999999\n"
     ]
    }
   ],
   "source": [
    "# find det of given matrix\n",
    "a=-np.array([[1,2,3],[4,5,6],[7,8,2]])\n",
    "detA=np.linalg.det(a)\n",
    "print(detA)\n"
   ]
  },
  {
   "cell_type": "code",
   "execution_count": null,
   "metadata": {},
   "outputs": [
    {
     "name": "stdout",
     "output_type": "stream",
     "text": [
      "[[-2.   1. ]\n",
      " [ 1.5 -0.5]]\n"
     ]
    }
   ],
   "source": [
    "# inverse of given matrix\n",
    "a=np.array([[1,2],[3,4]])\n",
    "invA=np.linalg.inv(a)\n",
    "print(invA)"
   ]
  },
  {
   "cell_type": "markdown",
   "metadata": {},
   "source": [
    "- develop by wes mc kinney - package/module/\n",
    "- pip install pandas\n",
    "- import pandas as pd \n",
    "- print(pd.__version___)\n",
    "\n",
    "- pip show pandas\n",
    "- pip list\n",
    "- in pandas data is organise in 1 . series 2. datafrane 3. panel\n"
   ]
  },
  {
   "cell_type": "markdown",
   "metadata": {},
   "source": [
    "# Pandas\n",
    "- why do we need panadas ?\n",
    "- it is fast , flexible and powerful data mining library , pandas is the most crucial module for applying data science using python \n",
    "\n",
    "- *********************\n",
    "- Advantage of pandas:-\n",
    "    - easy import and export into tabular formaty data structures like dataframe\n",
    "    - routing( function and method ) for manipulation\n",
    "    - easy handling of missing data\n",
    "    - data set cleaning , merging and joining.\n",
    "    - reshaping data set .\n",
    "    column can be inserted ,deleted and updated from dataframe and higher dimension object.\n",
    "    - time series based data manipulation and analysis API\n",
    "    - group by functionality to perform split apply combine operation.\n",
    "    - well integrated with other library  like numpy and and matplotlib.\n",
    "    - data produce by pandas are often used as data visualisation.\n",
    "    "
   ]
  },
  {
   "cell_type": "code",
   "execution_count": null,
   "metadata": {},
   "outputs": [
    {
     "data": {
      "text/plain": [
       "'  \\n  data structure used in pandas:-\\n  1. series\\n  2. data frame\\n  3. panel\\n'"
      ]
     },
     "execution_count": 1,
     "metadata": {},
     "output_type": "execute_result"
    }
   ],
   "source": [
    "\"\"\"  \n",
    "  data structure used in pandas:-\n",
    "  1. series\n",
    "  2. data frame\n",
    "  3. panel\n",
    "\"\"\""
   ]
  },
  {
   "cell_type": "markdown",
   "metadata": {},
   "source": [
    "# series\n",
    "    - it is 1D array , it is capable of storing same type  + diffrent type and all types and internally treated as same type as object.\n",
    "    - all values in series contain by default indices (row indices {start from 0 to n-1 here n represent number of values})\n",
    "    - programtically , we can give programmer defined indices for values of series instead of default indices.\n",
    "    - series object are \"mutable\" objects.\n",
    "    - series data can be accessed either w.r.t indices (axis) or  programmer defined indices called (label).\n",
    "    - on series object we can perform indexing and slicing operations.\n",
    "\n",
    "******************************\n",
    "- number of approaches to create an object of series:-\n",
    "    - varname = pandas.Series(object,index,dtype)\n",
    "\n"
   ]
  },
  {
   "cell_type": "code",
   "execution_count": null,
   "metadata": {},
   "outputs": [
    {
     "name": "stdout",
     "output_type": "stream",
     "text": [
      "2.2.3\n"
     ]
    }
   ],
   "source": [
    "import pandas as pd\n",
    "print(pd.__version__)"
   ]
  },
  {
   "cell_type": "code",
   "execution_count": null,
   "metadata": {},
   "outputs": [],
   "source": [
    "# creating an object of series\n",
    "# syntax varname = pandas.Series(object,index,dtype"
   ]
  },
  {
   "cell_type": "code",
   "execution_count": null,
   "metadata": {},
   "outputs": [
    {
     "name": "stdout",
     "output_type": "stream",
     "text": [
      "100 <class 'int'>\n"
     ]
    }
   ],
   "source": [
    "a=100\n",
    "print(a,type(a))"
   ]
  },
  {
   "cell_type": "code",
   "execution_count": null,
   "metadata": {},
   "outputs": [
    {
     "name": "stdout",
     "output_type": "stream",
     "text": [
      "0    100\n",
      "dtype: int64 <class 'pandas.core.series.Series'>\n"
     ]
    }
   ],
   "source": [
    "s=pd.Series(a)\n",
    "print(s,type(s))"
   ]
  },
  {
   "cell_type": "code",
   "execution_count": null,
   "metadata": {},
   "outputs": [
    {
     "name": "stdout",
     "output_type": "stream",
     "text": [
      "0    10.15\n",
      "dtype: float64 <class 'pandas.core.series.Series'>\n"
     ]
    }
   ],
   "source": [
    "s=pd.Series(10.15)\n",
    "print(s,type(s))"
   ]
  },
  {
   "cell_type": "code",
   "execution_count": null,
   "metadata": {},
   "outputs": [
    {
     "name": "stdout",
     "output_type": "stream",
     "text": [
      "0    12.34\n",
      "dtype: float64 <class 'pandas.core.series.Series'>\n"
     ]
    }
   ],
   "source": [
    "fo=12.34\n",
    "s=pd.Series(fo)\n",
    "print(s,type(s))"
   ]
  },
  {
   "cell_type": "code",
   "execution_count": null,
   "metadata": {},
   "outputs": [
    {
     "name": "stdout",
     "output_type": "stream",
     "text": [
      "0    False\n",
      "dtype: bool <class 'pandas.core.series.Series'>\n"
     ]
    }
   ],
   "source": [
    "fo=False\n",
    "s=pd.Series(fo)\n",
    "print(s,type(s))"
   ]
  },
  {
   "cell_type": "code",
   "execution_count": null,
   "metadata": {},
   "outputs": [
    {
     "name": "stdout",
     "output_type": "stream",
     "text": [
      "0    12.34+ 5.00j\n",
      "dtype: complex128 <class 'pandas.core.series.Series'>\n"
     ]
    }
   ],
   "source": [
    "fo=12.34+5j\n",
    "s=pd.Series(fo)\n",
    "print(s,type(s))"
   ]
  },
  {
   "cell_type": "code",
   "execution_count": null,
   "metadata": {},
   "outputs": [
    {
     "name": "stdout",
     "output_type": "stream",
     "text": [
      "0    100.0\n",
      "dtype: float64 <class 'pandas.core.series.Series'>\n"
     ]
    }
   ],
   "source": [
    "a=100\n",
    "s=pd.Series(a,dtype=float)\n",
    "print(s,type(s))"
   ]
  },
  {
   "cell_type": "code",
   "execution_count": null,
   "metadata": {},
   "outputs": [
    {
     "name": "stdout",
     "output_type": "stream",
     "text": [
      "0    python\n",
      "dtype: object <class 'str'>\n"
     ]
    }
   ],
   "source": [
    "s1=\"python\"\n",
    "s=pd.Series(s1)\n",
    "print(s,type(s1))"
   ]
  },
  {
   "cell_type": "code",
   "execution_count": null,
   "metadata": {},
   "outputs": [
    {
     "name": "stdout",
     "output_type": "stream",
     "text": [
      "0    0\n",
      "1    1\n",
      "2    2\n",
      "3    3\n",
      "4    4\n",
      "5    5\n",
      "dtype: int64 <class 'pandas.core.series.Series'>\n"
     ]
    }
   ],
   "source": [
    "# creating a series object by using range\n",
    "r=range(6)\n",
    "s=pd.Series(r)\n",
    "print(s,type(s))"
   ]
  },
  {
   "cell_type": "code",
   "execution_count": null,
   "metadata": {},
   "outputs": [
    {
     "name": "stdout",
     "output_type": "stream",
     "text": [
      "1    0\n",
      "2    1\n",
      "3    2\n",
      "4    3\n",
      "5    4\n",
      "6    5\n",
      "dtype: int64 <class 'pandas.core.series.Series'>\n"
     ]
    }
   ],
   "source": [
    "# creating a series object by using range with default indices\n",
    "r=range(6)\n",
    "s=pd.Series(r,index=[1,2,3,4,5,6])\n",
    "print(s,type(s))"
   ]
  },
  {
   "cell_type": "code",
   "execution_count": null,
   "metadata": {},
   "outputs": [
    {
     "name": "stdout",
     "output_type": "stream",
     "text": [
      "id1    0\n",
      "id2    1\n",
      "id3    2\n",
      "id4    3\n",
      "id5    4\n",
      "id6    5\n",
      "dtype: int64 <class 'pandas.core.series.Series'>\n"
     ]
    }
   ],
   "source": [
    "# creating a series object by using range with default indices\n",
    "r=range(6)\n",
    "s=pd.Series(r,index=[\"id1\", \"id2\", \"id3\", \"id4\",\"id5\",\"id6\"])\n",
    "print(s,type(s))"
   ]
  },
  {
   "cell_type": "code",
   "execution_count": null,
   "metadata": {},
   "outputs": [
    {
     "data": {
      "text/plain": [
       "np.int64(0)"
      ]
     },
     "execution_count": 15,
     "metadata": {},
     "output_type": "execute_result"
    }
   ],
   "source": [
    "s[\"id1\"]"
   ]
  },
  {
   "cell_type": "code",
   "execution_count": null,
   "metadata": {},
   "outputs": [
    {
     "data": {
      "text/plain": [
       "np.int64(4)"
      ]
     },
     "execution_count": 16,
     "metadata": {},
     "output_type": "execute_result"
    }
   ],
   "source": [
    "s[\"id5\"]"
   ]
  },
  {
   "cell_type": "code",
   "execution_count": null,
   "metadata": {},
   "outputs": [],
   "source": [
    "# keyerror - because no default indices present when we give programmer defined int indices."
   ]
  },
  {
   "cell_type": "code",
   "execution_count": null,
   "metadata": {},
   "outputs": [
    {
     "name": "stdout",
     "output_type": "stream",
     "text": [
      "0    10\n",
      "1    20\n",
      "2    30\n",
      "3    40\n",
      "4    50\n",
      "5    60\n",
      "dtype: int64 <class 'pandas.core.series.Series'>\n"
     ]
    }
   ],
   "source": [
    "# creating a series of object by using list/tuple with default indices\n",
    "lst=[10,20,30,40,50,60]\n",
    "s=pd.Series(lst)\n",
    "print(s,type(s))"
   ]
  },
  {
   "cell_type": "code",
   "execution_count": null,
   "metadata": {},
   "outputs": [
    {
     "name": "stdout",
     "output_type": "stream",
     "text": [
      "1    10.0\n",
      "2    20.0\n",
      "3    30.0\n",
      "4    40.0\n",
      "5    50.0\n",
      "6    60.0\n",
      "dtype: float64 <class 'pandas.core.series.Series'>\n"
     ]
    }
   ],
   "source": [
    "# creating a series of object by using list/tuple with default indices\n",
    "lst=[10,20,30,40,50,60]\n",
    "s=pd.Series(lst,index=[1,2,3,4,5,6],dtype=float)\n",
    "print(s,type(s))"
   ]
  },
  {
   "cell_type": "code",
   "execution_count": null,
   "metadata": {},
   "outputs": [
    {
     "name": "stdout",
     "output_type": "stream",
     "text": [
      "1    10.0\n",
      "2    20.0\n",
      "3    30.0\n",
      "4    40.0\n",
      "5    50.0\n",
      "6    60.0\n",
      "dtype: float64 <class 'pandas.core.series.Series'>\n"
     ]
    }
   ],
   "source": [
    "# creating a series of object by using list/tuple with default indices\n",
    "lst=[10,20,30,40,50,60]\n",
    "s=pd.Series(lst,index=[int(x) for x in range(1,7)],dtype=float)\n",
    "print(s,type(s))"
   ]
  },
  {
   "cell_type": "code",
   "execution_count": null,
   "metadata": {},
   "outputs": [
    {
     "name": "stdout",
     "output_type": "stream",
     "text": [
      "id1    10.0\n",
      "id2    20.0\n",
      "id3    30.0\n",
      "id4    40.0\n",
      "id5    50.0\n",
      "id6    60.0\n",
      "dtype: float64 <class 'pandas.core.series.Series'>\n"
     ]
    }
   ],
   "source": [
    "# creating a series of object by using list/tuple with default indices\n",
    "lst=[10,20,30,40,50,60]\n",
    "s=pd.Series(lst,index=[\"id\" + str(int(x)) for x in range(1,7)],dtype=float)\n",
    "print(s,type(s))"
   ]
  },
  {
   "cell_type": "code",
   "execution_count": null,
   "metadata": {},
   "outputs": [
    {
     "name": "stdout",
     "output_type": "stream",
     "text": [
      "id1    10.0\n",
      "id2    20.0\n",
      "id3    30.0\n",
      "id4    40.0\n",
      "id5    50.0\n",
      "id6    60.0\n",
      "dtype: float64 <class 'pandas.core.series.Series'>\n"
     ]
    }
   ],
   "source": [
    "# creating a series of object by using list/tuple with default indices\n",
    "tpl=(10,20,30,40,50,60)\n",
    "s=pd.Series(lst,index=[\"id\" + str(int(x)) for x in range(1,7)],dtype=float)\n",
    "print(s,type(s))"
   ]
  },
  {
   "cell_type": "code",
   "execution_count": null,
   "metadata": {},
   "outputs": [
    {
     "name": "stdout",
     "output_type": "stream",
     "text": [
      "{50, 20, 40, 10, 60, 30} <class 'set'>\n"
     ]
    }
   ],
   "source": [
    "# creating a series of object by using set with default indices\n",
    "# set does not maintain insertion order\n",
    "s1={10,20,30,40,50,60}\n",
    "print(s1,type(s1))\n"
   ]
  },
  {
   "cell_type": "code",
   "execution_count": null,
   "metadata": {},
   "outputs": [
    {
     "name": "stdout",
     "output_type": "stream",
     "text": [
      "{50, 20, 40, 10, 60, 30} <class 'set'>\n",
      "**************************************************\n"
     ]
    },
    {
     "ename": "TypeError",
     "evalue": "'set' type is unordered",
     "output_type": "error",
     "traceback": [
      "\u001b[1;31m---------------------------------------------------------------------------\u001b[0m",
      "\u001b[1;31mTypeError\u001b[0m                                 Traceback (most recent call last)",
      "Cell \u001b[1;32mIn[24], line 6\u001b[0m\n\u001b[0;32m      4\u001b[0m \u001b[38;5;28mprint\u001b[39m(s1,\u001b[38;5;28mtype\u001b[39m(s1))\n\u001b[0;32m      5\u001b[0m \u001b[38;5;28mprint\u001b[39m(\u001b[38;5;241m50\u001b[39m\u001b[38;5;241m*\u001b[39m\u001b[38;5;124m\"\u001b[39m\u001b[38;5;124m*\u001b[39m\u001b[38;5;124m\"\u001b[39m)\n\u001b[1;32m----> 6\u001b[0m s\u001b[38;5;241m=\u001b[39m\u001b[43mpd\u001b[49m\u001b[38;5;241;43m.\u001b[39;49m\u001b[43mSeries\u001b[49m\u001b[43m(\u001b[49m\u001b[43ms1\u001b[49m\u001b[43m)\u001b[49m\n\u001b[0;32m      7\u001b[0m \u001b[38;5;28mprint\u001b[39m(s,\u001b[38;5;28mtype\u001b[39m(s))\n",
      "File \u001b[1;32mc:\\Users\\deepa\\AppData\\Local\\Programs\\Python\\Python313\\Lib\\site-packages\\pandas\\core\\series.py:584\u001b[0m, in \u001b[0;36mSeries.__init__\u001b[1;34m(self, data, index, dtype, name, copy, fastpath)\u001b[0m\n\u001b[0;32m    582\u001b[0m         data \u001b[38;5;241m=\u001b[39m data\u001b[38;5;241m.\u001b[39mcopy()\n\u001b[0;32m    583\u001b[0m \u001b[38;5;28;01melse\u001b[39;00m:\n\u001b[1;32m--> 584\u001b[0m     data \u001b[38;5;241m=\u001b[39m \u001b[43msanitize_array\u001b[49m\u001b[43m(\u001b[49m\u001b[43mdata\u001b[49m\u001b[43m,\u001b[49m\u001b[43m \u001b[49m\u001b[43mindex\u001b[49m\u001b[43m,\u001b[49m\u001b[43m \u001b[49m\u001b[43mdtype\u001b[49m\u001b[43m,\u001b[49m\u001b[43m \u001b[49m\u001b[43mcopy\u001b[49m\u001b[43m)\u001b[49m\n\u001b[0;32m    586\u001b[0m     manager \u001b[38;5;241m=\u001b[39m _get_option(\u001b[38;5;124m\"\u001b[39m\u001b[38;5;124mmode.data_manager\u001b[39m\u001b[38;5;124m\"\u001b[39m, silent\u001b[38;5;241m=\u001b[39m\u001b[38;5;28;01mTrue\u001b[39;00m)\n\u001b[0;32m    587\u001b[0m     \u001b[38;5;28;01mif\u001b[39;00m manager \u001b[38;5;241m==\u001b[39m \u001b[38;5;124m\"\u001b[39m\u001b[38;5;124mblock\u001b[39m\u001b[38;5;124m\"\u001b[39m:\n",
      "File \u001b[1;32mc:\\Users\\deepa\\AppData\\Local\\Programs\\Python\\Python313\\Lib\\site-packages\\pandas\\core\\construction.py:642\u001b[0m, in \u001b[0;36msanitize_array\u001b[1;34m(data, index, dtype, copy, allow_2d)\u001b[0m\n\u001b[0;32m    633\u001b[0m     \u001b[38;5;28;01mreturn\u001b[39;00m sanitize_array(\n\u001b[0;32m    634\u001b[0m         data,\n\u001b[0;32m    635\u001b[0m         index\u001b[38;5;241m=\u001b[39mindex,\n\u001b[1;32m   (...)\u001b[0m\n\u001b[0;32m    638\u001b[0m         allow_2d\u001b[38;5;241m=\u001b[39mallow_2d,\n\u001b[0;32m    639\u001b[0m     )\n\u001b[0;32m    641\u001b[0m \u001b[38;5;28;01melse\u001b[39;00m:\n\u001b[1;32m--> 642\u001b[0m     \u001b[43m_sanitize_non_ordered\u001b[49m\u001b[43m(\u001b[49m\u001b[43mdata\u001b[49m\u001b[43m)\u001b[49m\n\u001b[0;32m    643\u001b[0m     \u001b[38;5;66;03m# materialize e.g. generators, convert e.g. tuples, abc.ValueView\u001b[39;00m\n\u001b[0;32m    644\u001b[0m     data \u001b[38;5;241m=\u001b[39m \u001b[38;5;28mlist\u001b[39m(data)\n",
      "File \u001b[1;32mc:\\Users\\deepa\\AppData\\Local\\Programs\\Python\\Python313\\Lib\\site-packages\\pandas\\core\\construction.py:693\u001b[0m, in \u001b[0;36m_sanitize_non_ordered\u001b[1;34m(data)\u001b[0m\n\u001b[0;32m    689\u001b[0m \u001b[38;5;250m\u001b[39m\u001b[38;5;124;03m\"\"\"\u001b[39;00m\n\u001b[0;32m    690\u001b[0m \u001b[38;5;124;03mRaise only for unordered sets, e.g., not for dict_keys\u001b[39;00m\n\u001b[0;32m    691\u001b[0m \u001b[38;5;124;03m\"\"\"\u001b[39;00m\n\u001b[0;32m    692\u001b[0m \u001b[38;5;28;01mif\u001b[39;00m \u001b[38;5;28misinstance\u001b[39m(data, (\u001b[38;5;28mset\u001b[39m, \u001b[38;5;28mfrozenset\u001b[39m)):\n\u001b[1;32m--> 693\u001b[0m     \u001b[38;5;28;01mraise\u001b[39;00m \u001b[38;5;167;01mTypeError\u001b[39;00m(\u001b[38;5;124mf\u001b[39m\u001b[38;5;124m\"\u001b[39m\u001b[38;5;124m'\u001b[39m\u001b[38;5;132;01m{\u001b[39;00m\u001b[38;5;28mtype\u001b[39m(data)\u001b[38;5;241m.\u001b[39m\u001b[38;5;18m__name__\u001b[39m\u001b[38;5;132;01m}\u001b[39;00m\u001b[38;5;124m'\u001b[39m\u001b[38;5;124m type is unordered\u001b[39m\u001b[38;5;124m\"\u001b[39m)\n",
      "\u001b[1;31mTypeError\u001b[0m: 'set' type is unordered"
     ]
    }
   ],
   "source": [
    "# creating a series of object by using set with default indices\n",
    "# set does not maintain insertion order\n",
    "s1={10,20,30,40,50,60}\n",
    "print(s1,type(s1))\n",
    "print(50*\"*\")\n",
    "s=pd.Series(s1)\n",
    "print(s,type(s))"
   ]
  },
  {
   "cell_type": "code",
   "execution_count": null,
   "metadata": {},
   "outputs": [],
   "source": [
    "# in pandas set is not possible if you want then convert it into list/tuple"
   ]
  },
  {
   "cell_type": "code",
   "execution_count": null,
   "metadata": {},
   "outputs": [
    {
     "name": "stdout",
     "output_type": "stream",
     "text": [
      "{10: 'python', 20: 'django', 30: 'ml', 40: 'dl'} <class 'dict'>\n"
     ]
    }
   ],
   "source": [
    "# creating a series of object by using dict  \n",
    "d1={10:\"python\",20:\"django\",30:\"ml\",40:\"dl\"}\n",
    "print(d1,type(d1))"
   ]
  },
  {
   "cell_type": "code",
   "execution_count": null,
   "metadata": {},
   "outputs": [
    {
     "name": "stdout",
     "output_type": "stream",
     "text": [
      "10    python\n",
      "20    django\n",
      "30        ml\n",
      "40        dl\n",
      "dtype: object <class 'pandas.core.series.Series'>\n"
     ]
    }
   ],
   "source": [
    "s=pd.Series(d1)\n",
    "print(s,type(s))"
   ]
  },
  {
   "cell_type": "code",
   "execution_count": null,
   "metadata": {},
   "outputs": [
    {
     "data": {
      "text/plain": [
       "'python'"
      ]
     },
     "execution_count": 28,
     "metadata": {},
     "output_type": "execute_result"
    }
   ],
   "source": [
    "s[10]"
   ]
  },
  {
   "cell_type": "code",
   "execution_count": null,
   "metadata": {},
   "outputs": [
    {
     "data": {
      "text/plain": [
       "'django'"
      ]
     },
     "execution_count": 29,
     "metadata": {},
     "output_type": "execute_result"
    }
   ],
   "source": [
    "s[20]"
   ]
  },
  {
   "cell_type": "code",
   "execution_count": null,
   "metadata": {},
   "outputs": [
    {
     "data": {
      "text/plain": [
       "Series([], dtype: object)"
      ]
     },
     "execution_count": 30,
     "metadata": {},
     "output_type": "execute_result"
    }
   ],
   "source": [
    "s[10:30]"
   ]
  },
  {
   "cell_type": "code",
   "execution_count": null,
   "metadata": {},
   "outputs": [],
   "source": [
    "#empty series is created "
   ]
  },
  {
   "cell_type": "code",
   "execution_count": null,
   "metadata": {},
   "outputs": [],
   "source": [
    "d={\"crs1\":[\"python\",\"django\",\"data science\"],\"crs2\":[\"java\",\"hibernet\",\"spring\"]}"
   ]
  },
  {
   "cell_type": "code",
   "execution_count": null,
   "metadata": {},
   "outputs": [
    {
     "name": "stdout",
     "output_type": "stream",
     "text": [
      "crs1-->['python', 'django', 'data science']\n",
      "crs2-->['java', 'hibernet', 'spring']\n"
     ]
    }
   ],
   "source": [
    "for key,value in d.items():\n",
    "    print(\"{}-->{}\".format(key,value))"
   ]
  },
  {
   "cell_type": "code",
   "execution_count": null,
   "metadata": {},
   "outputs": [
    {
     "name": "stdout",
     "output_type": "stream",
     "text": [
      "crs1    [python, django, data science]\n",
      "crs2          [java, hibernet, spring]\n",
      "dtype: object\n"
     ]
    }
   ],
   "source": [
    "s=pd.Series(d)\n",
    "print(s)"
   ]
  },
  {
   "cell_type": "code",
   "execution_count": null,
   "metadata": {},
   "outputs": [
    {
     "data": {
      "text/plain": [
       "['python', 'django', 'data science']"
      ]
     },
     "execution_count": 35,
     "metadata": {},
     "output_type": "execute_result"
    }
   ],
   "source": [
    "s[\"crs1\"]"
   ]
  },
  {
   "cell_type": "code",
   "execution_count": null,
   "metadata": {},
   "outputs": [
    {
     "name": "stderr",
     "output_type": "stream",
     "text": [
      "C:\\Users\\deepa\\AppData\\Local\\Temp\\ipykernel_11288\\878419959.py:1: FutureWarning: Series.__getitem__ treating keys as positions is deprecated. In a future version, integer keys will always be treated as labels (consistent with DataFrame behavior). To access a value by position, use `ser.iloc[pos]`\n",
      "  s[1]\n"
     ]
    },
    {
     "data": {
      "text/plain": [
       "['java', 'hibernet', 'spring']"
      ]
     },
     "execution_count": 36,
     "metadata": {},
     "output_type": "execute_result"
    }
   ],
   "source": [
    "s[1]"
   ]
  },
  {
   "cell_type": "code",
   "execution_count": null,
   "metadata": {},
   "outputs": [
    {
     "name": "stdout",
     "output_type": "stream",
     "text": [
      "[100 200 300 400 500]\n",
      "--------------------\n",
      "0    100\n",
      "1    200\n",
      "2    300\n",
      "3    400\n",
      "4    500\n",
      "dtype: int64\n"
     ]
    }
   ],
   "source": [
    "import numpy as np\n",
    "a=np.array((100,200,300,400,500))\n",
    "print(a)\n",
    "print(20*\"-\")\n",
    "s=pd.Series(a)\n",
    "print(s)"
   ]
  },
  {
   "cell_type": "code",
   "execution_count": null,
   "metadata": {},
   "outputs": [
    {
     "name": "stdout",
     "output_type": "stream",
     "text": [
      "[100 200 300 400 500]\n"
     ]
    }
   ],
   "source": [
    "a=np.array((100,200,300,400,500))\n",
    "print(a)\n",
    "s=pd.Series(a,index=[\"id\" +str(int(x)) for x in range(1,len(a)+1)],dtype=float)"
   ]
  },
  {
   "cell_type": "markdown",
   "metadata": {},
   "source": [
    "# set and get data to / from series object"
   ]
  },
  {
   "cell_type": "code",
   "execution_count": null,
   "metadata": {},
   "outputs": [
    {
     "name": "stdout",
     "output_type": "stream",
     "text": [
      "a      mark\n",
      "b    sundar\n",
      "c      musk\n",
      "d    rossum\n",
      "e    travis\n",
      "dtype: object\n"
     ]
    }
   ],
   "source": [
    "names= pd.Series([\"mark\",\"sundar\",\"musk\",\"rossum\",\"travis\"],index=[\"a\",\"b\",\"c\",\"d\",\"e\"])\n",
    "print(names)"
   ]
  },
  {
   "cell_type": "code",
   "execution_count": null,
   "metadata": {},
   "outputs": [
    {
     "name": "stdout",
     "output_type": "stream",
     "text": [
      "a     1\n",
      "b     4\n",
      "c     7\n",
      "d    10\n",
      "e    13\n",
      "f    16\n",
      "g    19\n",
      "dtype: int64\n"
     ]
    }
   ],
   "source": [
    "ser=pd.Series(range(1,20,3),index=[x for x in \"abcdefg\"])\n",
    "print(ser)"
   ]
  },
  {
   "cell_type": "code",
   "execution_count": null,
   "metadata": {},
   "outputs": [
    {
     "name": "stdout",
     "output_type": "stream",
     "text": [
      "10    50\n",
      "11    55\n",
      "12    60\n",
      "13    65\n",
      "14    70\n",
      "dtype: int64\n"
     ]
    }
   ],
   "source": [
    "ser=np.arange(10,15)\n",
    "serobj=pd.Series(data=ser*5,index=ser)\n",
    "print(serobj)"
   ]
  },
  {
   "cell_type": "code",
   "execution_count": null,
   "metadata": {},
   "outputs": [],
   "source": [
    "# loc and iloc\n",
    "# loc --> location\n",
    "# iloc --> index location\n",
    "# loc is used to access the data using the index value\n",
    "# iloc is used to access the data using the index position\n",
    "\n"
   ]
  },
  {
   "cell_type": "code",
   "execution_count": null,
   "metadata": {},
   "outputs": [
    {
     "data": {
      "text/plain": [
       "a      mark\n",
       "b    sundar\n",
       "c      musk\n",
       "d    rossum\n",
       "dtype: object"
      ]
     },
     "execution_count": 43,
     "metadata": {},
     "output_type": "execute_result"
    }
   ],
   "source": [
    "names.iloc[0:4]"
   ]
  },
  {
   "cell_type": "code",
   "execution_count": null,
   "metadata": {},
   "outputs": [],
   "source": [
    "#syntax:-\n",
    "#series obj.iloc[begin:end:step]\n"
   ]
  },
  {
   "cell_type": "code",
   "execution_count": null,
   "metadata": {},
   "outputs": [
    {
     "data": {
      "text/plain": [
       "a      mark\n",
       "b    sundar\n",
       "c      musk\n",
       "d    rossum\n",
       "dtype: object"
      ]
     },
     "execution_count": 45,
     "metadata": {},
     "output_type": "execute_result"
    }
   ],
   "source": [
    "names.loc[\"a\":\"d\"]"
   ]
  },
  {
   "cell_type": "code",
   "execution_count": null,
   "metadata": {},
   "outputs": [
    {
     "data": {
      "text/plain": [
       "e    travis\n",
       "d    rossum\n",
       "c      musk\n",
       "b    sundar\n",
       "a      mark\n",
       "dtype: object"
      ]
     },
     "execution_count": 46,
     "metadata": {},
     "output_type": "execute_result"
    }
   ],
   "source": [
    "names.loc[::-1]"
   ]
  },
  {
   "cell_type": "code",
   "execution_count": null,
   "metadata": {},
   "outputs": [
    {
     "ename": "TypeError",
     "evalue": "cannot do positional indexing on Index with these indexers [a] of type str",
     "output_type": "error",
     "traceback": [
      "\u001b[1;31m---------------------------------------------------------------------------\u001b[0m",
      "\u001b[1;31mTypeError\u001b[0m                                 Traceback (most recent call last)",
      "Cell \u001b[1;32mIn[47], line 1\u001b[0m\n\u001b[1;32m----> 1\u001b[0m \u001b[43mnames\u001b[49m\u001b[38;5;241;43m.\u001b[39;49m\u001b[43miloc\u001b[49m\u001b[43m[\u001b[49m\u001b[38;5;124;43m\"\u001b[39;49m\u001b[38;5;124;43ma\u001b[39;49m\u001b[38;5;124;43m\"\u001b[39;49m\u001b[43m:\u001b[49m\u001b[38;5;124;43m\"\u001b[39;49m\u001b[38;5;124;43md\u001b[39;49m\u001b[38;5;124;43m\"\u001b[39;49m\u001b[43m]\u001b[49m\n",
      "File \u001b[1;32mc:\\Users\\deepa\\AppData\\Local\\Programs\\Python\\Python313\\Lib\\site-packages\\pandas\\core\\indexing.py:1191\u001b[0m, in \u001b[0;36m_LocationIndexer.__getitem__\u001b[1;34m(self, key)\u001b[0m\n\u001b[0;32m   1189\u001b[0m maybe_callable \u001b[38;5;241m=\u001b[39m com\u001b[38;5;241m.\u001b[39mapply_if_callable(key, \u001b[38;5;28mself\u001b[39m\u001b[38;5;241m.\u001b[39mobj)\n\u001b[0;32m   1190\u001b[0m maybe_callable \u001b[38;5;241m=\u001b[39m \u001b[38;5;28mself\u001b[39m\u001b[38;5;241m.\u001b[39m_check_deprecated_callable_usage(key, maybe_callable)\n\u001b[1;32m-> 1191\u001b[0m \u001b[38;5;28;01mreturn\u001b[39;00m \u001b[38;5;28;43mself\u001b[39;49m\u001b[38;5;241;43m.\u001b[39;49m\u001b[43m_getitem_axis\u001b[49m\u001b[43m(\u001b[49m\u001b[43mmaybe_callable\u001b[49m\u001b[43m,\u001b[49m\u001b[43m \u001b[49m\u001b[43maxis\u001b[49m\u001b[38;5;241;43m=\u001b[39;49m\u001b[43maxis\u001b[49m\u001b[43m)\u001b[49m\n",
      "File \u001b[1;32mc:\\Users\\deepa\\AppData\\Local\\Programs\\Python\\Python313\\Lib\\site-packages\\pandas\\core\\indexing.py:1729\u001b[0m, in \u001b[0;36m_iLocIndexer._getitem_axis\u001b[1;34m(self, key, axis)\u001b[0m\n\u001b[0;32m   1723\u001b[0m     \u001b[38;5;28;01mraise\u001b[39;00m \u001b[38;5;167;01mIndexError\u001b[39;00m(\n\u001b[0;32m   1724\u001b[0m         \u001b[38;5;124m\"\u001b[39m\u001b[38;5;124mDataFrame indexer is not allowed for .iloc\u001b[39m\u001b[38;5;130;01m\\n\u001b[39;00m\u001b[38;5;124m\"\u001b[39m\n\u001b[0;32m   1725\u001b[0m         \u001b[38;5;124m\"\u001b[39m\u001b[38;5;124mConsider using .loc for automatic alignment.\u001b[39m\u001b[38;5;124m\"\u001b[39m\n\u001b[0;32m   1726\u001b[0m     )\n\u001b[0;32m   1728\u001b[0m \u001b[38;5;28;01mif\u001b[39;00m \u001b[38;5;28misinstance\u001b[39m(key, \u001b[38;5;28mslice\u001b[39m):\n\u001b[1;32m-> 1729\u001b[0m     \u001b[38;5;28;01mreturn\u001b[39;00m \u001b[38;5;28;43mself\u001b[39;49m\u001b[38;5;241;43m.\u001b[39;49m\u001b[43m_get_slice_axis\u001b[49m\u001b[43m(\u001b[49m\u001b[43mkey\u001b[49m\u001b[43m,\u001b[49m\u001b[43m \u001b[49m\u001b[43maxis\u001b[49m\u001b[38;5;241;43m=\u001b[39;49m\u001b[43maxis\u001b[49m\u001b[43m)\u001b[49m\n\u001b[0;32m   1731\u001b[0m \u001b[38;5;28;01mif\u001b[39;00m is_iterator(key):\n\u001b[0;32m   1732\u001b[0m     key \u001b[38;5;241m=\u001b[39m \u001b[38;5;28mlist\u001b[39m(key)\n",
      "File \u001b[1;32mc:\\Users\\deepa\\AppData\\Local\\Programs\\Python\\Python313\\Lib\\site-packages\\pandas\\core\\indexing.py:1764\u001b[0m, in \u001b[0;36m_iLocIndexer._get_slice_axis\u001b[1;34m(self, slice_obj, axis)\u001b[0m\n\u001b[0;32m   1761\u001b[0m     \u001b[38;5;28;01mreturn\u001b[39;00m obj\u001b[38;5;241m.\u001b[39mcopy(deep\u001b[38;5;241m=\u001b[39m\u001b[38;5;28;01mFalse\u001b[39;00m)\n\u001b[0;32m   1763\u001b[0m labels \u001b[38;5;241m=\u001b[39m obj\u001b[38;5;241m.\u001b[39m_get_axis(axis)\n\u001b[1;32m-> 1764\u001b[0m \u001b[43mlabels\u001b[49m\u001b[38;5;241;43m.\u001b[39;49m\u001b[43m_validate_positional_slice\u001b[49m\u001b[43m(\u001b[49m\u001b[43mslice_obj\u001b[49m\u001b[43m)\u001b[49m\n\u001b[0;32m   1765\u001b[0m \u001b[38;5;28;01mreturn\u001b[39;00m \u001b[38;5;28mself\u001b[39m\u001b[38;5;241m.\u001b[39mobj\u001b[38;5;241m.\u001b[39m_slice(slice_obj, axis\u001b[38;5;241m=\u001b[39maxis)\n",
      "File \u001b[1;32mc:\\Users\\deepa\\AppData\\Local\\Programs\\Python\\Python313\\Lib\\site-packages\\pandas\\core\\indexes\\base.py:4197\u001b[0m, in \u001b[0;36mIndex._validate_positional_slice\u001b[1;34m(self, key)\u001b[0m\n\u001b[0;32m   4191\u001b[0m \u001b[38;5;129m@final\u001b[39m\n\u001b[0;32m   4192\u001b[0m \u001b[38;5;28;01mdef\u001b[39;00m\u001b[38;5;250m \u001b[39m\u001b[38;5;21m_validate_positional_slice\u001b[39m(\u001b[38;5;28mself\u001b[39m, key: \u001b[38;5;28mslice\u001b[39m) \u001b[38;5;241m-\u001b[39m\u001b[38;5;241m>\u001b[39m \u001b[38;5;28;01mNone\u001b[39;00m:\n\u001b[0;32m   4193\u001b[0m \u001b[38;5;250m    \u001b[39m\u001b[38;5;124;03m\"\"\"\u001b[39;00m\n\u001b[0;32m   4194\u001b[0m \u001b[38;5;124;03m    For positional indexing, a slice must have either int or None\u001b[39;00m\n\u001b[0;32m   4195\u001b[0m \u001b[38;5;124;03m    for each of start, stop, and step.\u001b[39;00m\n\u001b[0;32m   4196\u001b[0m \u001b[38;5;124;03m    \"\"\"\u001b[39;00m\n\u001b[1;32m-> 4197\u001b[0m     \u001b[38;5;28;43mself\u001b[39;49m\u001b[38;5;241;43m.\u001b[39;49m\u001b[43m_validate_indexer\u001b[49m\u001b[43m(\u001b[49m\u001b[38;5;124;43m\"\u001b[39;49m\u001b[38;5;124;43mpositional\u001b[39;49m\u001b[38;5;124;43m\"\u001b[39;49m\u001b[43m,\u001b[49m\u001b[43m \u001b[49m\u001b[43mkey\u001b[49m\u001b[38;5;241;43m.\u001b[39;49m\u001b[43mstart\u001b[49m\u001b[43m,\u001b[49m\u001b[43m \u001b[49m\u001b[38;5;124;43m\"\u001b[39;49m\u001b[38;5;124;43miloc\u001b[39;49m\u001b[38;5;124;43m\"\u001b[39;49m\u001b[43m)\u001b[49m\n\u001b[0;32m   4198\u001b[0m     \u001b[38;5;28mself\u001b[39m\u001b[38;5;241m.\u001b[39m_validate_indexer(\u001b[38;5;124m\"\u001b[39m\u001b[38;5;124mpositional\u001b[39m\u001b[38;5;124m\"\u001b[39m, key\u001b[38;5;241m.\u001b[39mstop, \u001b[38;5;124m\"\u001b[39m\u001b[38;5;124miloc\u001b[39m\u001b[38;5;124m\"\u001b[39m)\n\u001b[0;32m   4199\u001b[0m     \u001b[38;5;28mself\u001b[39m\u001b[38;5;241m.\u001b[39m_validate_indexer(\u001b[38;5;124m\"\u001b[39m\u001b[38;5;124mpositional\u001b[39m\u001b[38;5;124m\"\u001b[39m, key\u001b[38;5;241m.\u001b[39mstep, \u001b[38;5;124m\"\u001b[39m\u001b[38;5;124miloc\u001b[39m\u001b[38;5;124m\"\u001b[39m)\n",
      "File \u001b[1;32mc:\\Users\\deepa\\AppData\\Local\\Programs\\Python\\Python313\\Lib\\site-packages\\pandas\\core\\indexes\\base.py:6697\u001b[0m, in \u001b[0;36mIndex._validate_indexer\u001b[1;34m(self, form, key, kind)\u001b[0m\n\u001b[0;32m   6692\u001b[0m \u001b[38;5;250m\u001b[39m\u001b[38;5;124;03m\"\"\"\u001b[39;00m\n\u001b[0;32m   6693\u001b[0m \u001b[38;5;124;03mIf we are positional indexer, validate that we have appropriate\u001b[39;00m\n\u001b[0;32m   6694\u001b[0m \u001b[38;5;124;03mtyped bounds must be an integer.\u001b[39;00m\n\u001b[0;32m   6695\u001b[0m \u001b[38;5;124;03m\"\"\"\u001b[39;00m\n\u001b[0;32m   6696\u001b[0m \u001b[38;5;28;01mif\u001b[39;00m \u001b[38;5;129;01mnot\u001b[39;00m lib\u001b[38;5;241m.\u001b[39mis_int_or_none(key):\n\u001b[1;32m-> 6697\u001b[0m     \u001b[38;5;28;43mself\u001b[39;49m\u001b[38;5;241;43m.\u001b[39;49m\u001b[43m_raise_invalid_indexer\u001b[49m\u001b[43m(\u001b[49m\u001b[43mform\u001b[49m\u001b[43m,\u001b[49m\u001b[43m \u001b[49m\u001b[43mkey\u001b[49m\u001b[43m)\u001b[49m\n",
      "File \u001b[1;32mc:\\Users\\deepa\\AppData\\Local\\Programs\\Python\\Python313\\Lib\\site-packages\\pandas\\core\\indexes\\base.py:4301\u001b[0m, in \u001b[0;36mIndex._raise_invalid_indexer\u001b[1;34m(self, form, key, reraise)\u001b[0m\n\u001b[0;32m   4299\u001b[0m \u001b[38;5;28;01mif\u001b[39;00m reraise \u001b[38;5;129;01mis\u001b[39;00m \u001b[38;5;129;01mnot\u001b[39;00m lib\u001b[38;5;241m.\u001b[39mno_default:\n\u001b[0;32m   4300\u001b[0m     \u001b[38;5;28;01mraise\u001b[39;00m \u001b[38;5;167;01mTypeError\u001b[39;00m(msg) \u001b[38;5;28;01mfrom\u001b[39;00m\u001b[38;5;250m \u001b[39m\u001b[38;5;21;01mreraise\u001b[39;00m\n\u001b[1;32m-> 4301\u001b[0m \u001b[38;5;28;01mraise\u001b[39;00m \u001b[38;5;167;01mTypeError\u001b[39;00m(msg)\n",
      "\u001b[1;31mTypeError\u001b[0m: cannot do positional indexing on Index with these indexers [a] of type str"
     ]
    }
   ],
   "source": [
    "names.iloc[\"a\":\"d\"]"
   ]
  },
  {
   "cell_type": "code",
   "execution_count": null,
   "metadata": {},
   "outputs": [
    {
     "data": {
      "text/plain": [
       "'  \\nloc[]--> default indices are possible+ programmer define indices are also possible\\n\\niloc[]--> default indices possible+ programmer define indices are not possible.\\n\\n'"
      ]
     },
     "execution_count": 48,
     "metadata": {},
     "output_type": "execute_result"
    }
   ],
   "source": [
    "\"\"\"  \n",
    "loc[]--> default indices are possible+ programmer define indices are also possible\n",
    "\n",
    "iloc[]--> default indices possible+ programmer define indices are not possible.\n",
    "\n",
    "\"\"\""
   ]
  },
  {
   "cell_type": "code",
   "execution_count": null,
   "metadata": {},
   "outputs": [
    {
     "name": "stdout",
     "output_type": "stream",
     "text": [
      "0      mark\n",
      "1      rita\n",
      "2    vickey\n",
      "3    justin\n",
      "4      john\n",
      "5    michel\n",
      "dtype: object\n"
     ]
    }
   ],
   "source": [
    "names=pd.Series([\"mark\",\"rita\",\"vickey\",\"justin\",\"john\",\"michel\"])\n",
    "print(names)"
   ]
  },
  {
   "cell_type": "code",
   "execution_count": null,
   "metadata": {},
   "outputs": [
    {
     "name": "stdout",
     "output_type": "stream",
     "text": [
      "0    sujata\n",
      "1      rita\n",
      "2    vickey\n",
      "3    justin\n",
      "4      john\n",
      "5    michel\n",
      "dtype: object\n"
     ]
    }
   ],
   "source": [
    "names[0]=\"sujata\"\n",
    "print(names)"
   ]
  },
  {
   "cell_type": "code",
   "execution_count": null,
   "metadata": {},
   "outputs": [
    {
     "name": "stdout",
     "output_type": "stream",
     "text": [
      "0      sujata\n",
      "1    sangeeta\n",
      "2     pragati\n",
      "3      justin\n",
      "4        john\n",
      "5      michel\n",
      "dtype: object\n"
     ]
    }
   ],
   "source": [
    "# changed 2 names at once \n",
    "names[1:3]=[\"sangeeta\",\"pragati\"]\n",
    "print(names)"
   ]
  },
  {
   "cell_type": "code",
   "execution_count": null,
   "metadata": {},
   "outputs": [
    {
     "name": "stdout",
     "output_type": "stream",
     "text": [
      "0      sujata\n",
      "1    sangeeta\n",
      "2     pragati\n",
      "3      justin\n",
      "4        john\n",
      "5      michel\n",
      "6        dori\n",
      "dtype: object\n"
     ]
    }
   ],
   "source": [
    "names[6]=\"dori\"\n",
    "print(names)"
   ]
  },
  {
   "cell_type": "code",
   "execution_count": null,
   "metadata": {},
   "outputs": [
    {
     "name": "stdout",
     "output_type": "stream",
     "text": [
      "0      sujata\n",
      "1    sangeeta\n",
      "2     pragati\n",
      "3      justin\n",
      "4        john\n",
      "5      michel\n",
      "6        dori\n",
      "7        deep\n",
      "dtype: object\n"
     ]
    }
   ],
   "source": [
    "names[7]=\"deep\"\n",
    "print(names)\n"
   ]
  },
  {
   "cell_type": "code",
   "execution_count": null,
   "metadata": {},
   "outputs": [
    {
     "name": "stdout",
     "output_type": "stream",
     "text": [
      "0      sujata\n",
      "1    sangeeta\n",
      "2     pragati\n",
      "3      justin\n",
      "4        john\n",
      "5      michel\n",
      "6        dori\n",
      "dtype: object\n"
     ]
    }
   ],
   "source": [
    "del names[7]\n",
    "print(names)"
   ]
  },
  {
   "cell_type": "markdown",
   "metadata": {},
   "source": [
    "# attribute of Series object\n",
    "    - name of pandas series object\n",
    "    - get all values of series as a list\n",
    "    - get count of number of element in series\n",
    "    - check if series is empty or not\n",
    "    - get first n element of pandas series\n",
    "    - get last n element of pandas series\n",
    "    - get the count of non NaN value\n",
    "    --------------------------------\n",
    "    # add and remove series element\n",
    "    - adding / merging series together\n",
    "    - subtracting two series\n",
    "    - deleting element from series\n",
    "    - get sum of all values in the series\n",
    "    - get the max values in the series"
   ]
  },
  {
   "cell_type": "code",
   "execution_count": null,
   "metadata": {},
   "outputs": [
    {
     "name": "stdout",
     "output_type": "stream",
     "text": [
      "a      dori\n",
      "b      itty\n",
      "c    dhurvi\n",
      "d      geet\n",
      "dtype: object\n"
     ]
    }
   ],
   "source": [
    "import pandas as pd\n",
    "names = pd.Series([\"dori\",\"itty\",\"dhurvi\",\"geet\"],index=[\"a\",\"b\",\"c\",\"d\"])\n",
    "print(names)"
   ]
  },
  {
   "cell_type": "code",
   "execution_count": null,
   "metadata": {},
   "outputs": [
    {
     "name": "stdout",
     "output_type": "stream",
     "text": [
      "['dori' 'itty' 'dhurvi' 'geet']\n"
     ]
    }
   ],
   "source": [
    "print(names.values)"
   ]
  },
  {
   "cell_type": "code",
   "execution_count": null,
   "metadata": {},
   "outputs": [
    {
     "name": "stdout",
     "output_type": "stream",
     "text": [
      "['dori', 'itty', 'dhurvi', 'geet']\n"
     ]
    }
   ],
   "source": [
    "lst=list(names.values)\n",
    "print(lst)"
   ]
  },
  {
   "cell_type": "code",
   "execution_count": null,
   "metadata": {},
   "outputs": [],
   "source": [
    "# missing number in pandas are represented by NaN\n"
   ]
  },
  {
   "cell_type": "code",
   "execution_count": null,
   "metadata": {},
   "outputs": [
    {
     "name": "stdout",
     "output_type": "stream",
     "text": [
      "[10 20 None 30 40 True]\n"
     ]
    }
   ],
   "source": [
    "a=np.array([10,20,None,30,40,True])\n",
    "print(a)"
   ]
  },
  {
   "cell_type": "code",
   "execution_count": null,
   "metadata": {},
   "outputs": [
    {
     "name": "stdout",
     "output_type": "stream",
     "text": [
      "0      10\n",
      "1      20\n",
      "2    None\n",
      "3      30\n",
      "4      40\n",
      "5    True\n",
      "dtype: object\n"
     ]
    }
   ],
   "source": [
    "s=pd.Series(a)\n",
    "print(s)"
   ]
  },
  {
   "cell_type": "code",
   "execution_count": null,
   "metadata": {},
   "outputs": [
    {
     "name": "stdout",
     "output_type": "stream",
     "text": [
      "5\n"
     ]
    }
   ],
   "source": [
    "print(s.count())"
   ]
  },
  {
   "cell_type": "code",
   "execution_count": null,
   "metadata": {},
   "outputs": [
    {
     "name": "stdout",
     "output_type": "stream",
     "text": [
      "0      dori\n",
      "1      itty\n",
      "2    dhurvi\n",
      "3      geet\n",
      "4        10\n",
      "5        20\n",
      "6        30\n",
      "7     False\n",
      "8      None\n",
      "Name: students, dtype: object\n"
     ]
    }
   ],
   "source": [
    "s1=pd.Series([\"dori\",\"itty\",\"dhurvi\",\"geet\",10,20,30,False,None],name=\"students\")\n",
    "print(s1)"
   ]
  },
  {
   "cell_type": "code",
   "execution_count": null,
   "metadata": {},
   "outputs": [],
   "source": [
    "# get the first n element in pandas series --- we use head() of series object.\n"
   ]
  },
  {
   "cell_type": "code",
   "execution_count": null,
   "metadata": {},
   "outputs": [
    {
     "name": "stdout",
     "output_type": "stream",
     "text": [
      "0     10\n",
      "1     15\n",
      "2     20\n",
      "3     25\n",
      "4     30\n",
      "5     35\n",
      "6     40\n",
      "7     45\n",
      "8     50\n",
      "9     55\n",
      "10    60\n",
      "11    65\n",
      "12    70\n",
      "13    75\n",
      "14    80\n",
      "15    85\n",
      "16    90\n",
      "17    95\n",
      "dtype: int64\n"
     ]
    }
   ],
   "source": [
    "import pandas as pd\n",
    "s1=pd.Series(range(10,100,5))\n",
    "print(s1)"
   ]
  },
  {
   "cell_type": "code",
   "execution_count": null,
   "metadata": {},
   "outputs": [
    {
     "name": "stdout",
     "output_type": "stream",
     "text": [
      "0    10\n",
      "1    15\n",
      "2    20\n",
      "3    25\n",
      "4    30\n",
      "dtype: int64\n"
     ]
    }
   ],
   "source": [
    "print(s1.head())"
   ]
  },
  {
   "cell_type": "code",
   "execution_count": null,
   "metadata": {},
   "outputs": [
    {
     "name": "stdout",
     "output_type": "stream",
     "text": [
      "38\n"
     ]
    }
   ],
   "source": [
    "print(len(s1))"
   ]
  },
  {
   "cell_type": "code",
   "execution_count": null,
   "metadata": {},
   "outputs": [
    {
     "name": "stdout",
     "output_type": "stream",
     "text": [
      "0    10\n",
      "1    15\n",
      "2    20\n",
      "dtype: int64\n"
     ]
    }
   ],
   "source": [
    "#get first three elements in pandas series\n",
    "print(s1.head(3))"
   ]
  },
  {
   "cell_type": "code",
   "execution_count": null,
   "metadata": {},
   "outputs": [
    {
     "name": "stdout",
     "output_type": "stream",
     "text": [
      "33    175\n",
      "34    180\n",
      "35    185\n",
      "36    190\n",
      "37    195\n",
      "dtype: int64\n"
     ]
    }
   ],
   "source": [
    "# to get last 10 value we use tail() of series object\n",
    "print(s1.tail())"
   ]
  },
  {
   "cell_type": "code",
   "execution_count": null,
   "metadata": {},
   "outputs": [
    {
     "name": "stdout",
     "output_type": "stream",
     "text": [
      "28    150\n",
      "29    155\n",
      "30    160\n",
      "31    165\n",
      "32    170\n",
      "33    175\n",
      "34    180\n",
      "35    185\n",
      "36    190\n",
      "37    195\n",
      "dtype: int64\n"
     ]
    }
   ],
   "source": [
    "print(s1.tail(10))"
   ]
  },
  {
   "cell_type": "code",
   "execution_count": null,
   "metadata": {},
   "outputs": [
    {
     "data": {
      "text/plain": [
       "0    10\n",
       "1    15\n",
       "2    20\n",
       "3    25\n",
       "4    30\n",
       "dtype: int64"
      ]
     },
     "execution_count": 70,
     "metadata": {},
     "output_type": "execute_result"
    }
   ],
   "source": [
    "# another method to get first 5\n",
    "s1[0:5]"
   ]
  },
  {
   "cell_type": "code",
   "execution_count": null,
   "metadata": {},
   "outputs": [
    {
     "data": {
      "text/plain": [
       "33    175\n",
       "34    180\n",
       "35    185\n",
       "36    190\n",
       "37    195\n",
       "dtype: int64"
      ]
     },
     "execution_count": 71,
     "metadata": {},
     "output_type": "execute_result"
    }
   ],
   "source": [
    "# another method to get last 5\n",
    "s1[-5:]"
   ]
  },
  {
   "cell_type": "code",
   "execution_count": null,
   "metadata": {},
   "outputs": [],
   "source": [
    "# add and remove series element\n",
    "# to add the element of one series object to another we use a function add()\n",
    "\n",
    "#syntax: varname=serobj1.add(serobj2,fill_value=None)"
   ]
  },
  {
   "cell_type": "code",
   "execution_count": null,
   "metadata": {},
   "outputs": [
    {
     "name": "stdout",
     "output_type": "stream",
     "text": [
      "a    110.0\n",
      "b    220.0\n",
      "c      NaN\n",
      "d      NaN\n",
      "e    540.0\n",
      "g      NaN\n",
      "dtype: float64\n"
     ]
    }
   ],
   "source": [
    "# to add a series element\n",
    "s1=pd.Series([100,200,300,400,500],index=[\"a\",\"b\",\"c\",\"d\",\"e\"])\n",
    "s2=pd.Series([10,20,30,40],index=[\"a\",\"b\",\"g\",\"e\"])\n",
    "res=s1.add(s2)\n",
    "print(res)"
   ]
  },
  {
   "cell_type": "code",
   "execution_count": null,
   "metadata": {},
   "outputs": [
    {
     "name": "stdout",
     "output_type": "stream",
     "text": [
      "a    110.0\n",
      "b    220.0\n",
      "c    300.0\n",
      "d    400.0\n",
      "e    540.0\n",
      "g     30.0\n",
      "dtype: float64\n"
     ]
    }
   ],
   "source": [
    "# fill NaN with other value \n",
    "s1=pd.Series([100,200,300,400,500],index=[\"a\",\"b\",\"c\",\"d\",\"e\"])\n",
    "s2=pd.Series([10,20,30,40],index=[\"a\",\"b\",\"g\",\"e\"])\n",
    "res=s1.add(s2,fill_value=0)\n",
    "print(res)"
   ]
  },
  {
   "cell_type": "code",
   "execution_count": null,
   "metadata": {},
   "outputs": [
    {
     "name": "stdout",
     "output_type": "stream",
     "text": [
      "a     90.0\n",
      "b    180.0\n",
      "c      NaN\n",
      "d      NaN\n",
      "e    460.0\n",
      "g      NaN\n",
      "dtype: float64\n"
     ]
    }
   ],
   "source": [
    "# to subtract a series element\n",
    "s1=pd.Series([100,200,300,400,500],index=[\"a\",\"b\",\"c\",\"d\",\"e\"])\n",
    "s2=pd.Series([10,20,30,40],index=[\"a\",\"b\",\"g\",\"e\"])\n",
    "res=s1.subtract(s2)\n",
    "print(res)"
   ]
  },
  {
   "cell_type": "code",
   "execution_count": null,
   "metadata": {},
   "outputs": [
    {
     "name": "stdout",
     "output_type": "stream",
     "text": [
      "a     90.0\n",
      "b    180.0\n",
      "c    300.0\n",
      "d    400.0\n",
      "e    460.0\n",
      "g    -30.0\n",
      "dtype: float64\n"
     ]
    }
   ],
   "source": [
    "# to subtract a series element\n",
    "s1=pd.Series([100,200,300,400,500],index=[\"a\",\"b\",\"c\",\"d\",\"e\"])\n",
    "s2=pd.Series([10,20,30,40],index=[\"a\",\"b\",\"g\",\"e\"])\n",
    "res=s1.subtract(s2,fill_value=0)\n",
    "print(res)"
   ]
  },
  {
   "cell_type": "code",
   "execution_count": null,
   "metadata": {},
   "outputs": [
    {
     "name": "stdout",
     "output_type": "stream",
     "text": [
      "a     1000.0\n",
      "b     4000.0\n",
      "c        NaN\n",
      "d        NaN\n",
      "e    20000.0\n",
      "g        NaN\n",
      "dtype: float64\n"
     ]
    }
   ],
   "source": [
    "# to multiply a series element\n",
    "s1=pd.Series([100,200,300,400,500],index=[\"a\",\"b\",\"c\",\"d\",\"e\"])\n",
    "s2=pd.Series([10,20,30,40],index=[\"a\",\"b\",\"g\",\"e\"])\n",
    "res=s1.multiply(s2)\n",
    "print(res)"
   ]
  },
  {
   "cell_type": "code",
   "execution_count": null,
   "metadata": {},
   "outputs": [
    {
     "name": "stdout",
     "output_type": "stream",
     "text": [
      "a    100\n",
      "b    200\n",
      "d    400\n",
      "e    500\n",
      "dtype: int64\n"
     ]
    }
   ],
   "source": [
    "# to delete c\n",
    "res=s1.drop(\"c\")\n",
    "print(res)"
   ]
  },
  {
   "cell_type": "code",
   "execution_count": null,
   "metadata": {},
   "outputs": [
    {
     "name": "stdout",
     "output_type": "stream",
     "text": [
      "a    100\n",
      "b    200\n",
      "c    300\n",
      "d    400\n",
      "e    500\n",
      "dtype: int64\n"
     ]
    }
   ],
   "source": [
    "print(s1)"
   ]
  },
  {
   "cell_type": "code",
   "execution_count": null,
   "metadata": {},
   "outputs": [],
   "source": [
    "# note s1 is not modified"
   ]
  },
  {
   "cell_type": "code",
   "execution_count": null,
   "metadata": {},
   "outputs": [
    {
     "data": {
      "text/plain": [
       "' \\n1. sum()\\n2. count()\\n3. mean()\\n4. median()\\n5. variances()\\n6. std()\\n7. max()\\n8. min()\\n9. mode()\\n'"
      ]
     },
     "execution_count": 81,
     "metadata": {},
     "output_type": "execute_result"
    }
   ],
   "source": [
    "# some statistics function for data science:-\n",
    "\"\"\" \n",
    "1. sum()\n",
    "2. count()\n",
    "3. mean()\n",
    "4. median()\n",
    "5. variances()\n",
    "6. std()\n",
    "7. max()\n",
    "8. min()\n",
    "9. mode()\n",
    "\"\"\""
   ]
  },
  {
   "cell_type": "code",
   "execution_count": null,
   "metadata": {},
   "outputs": [
    {
     "name": "stdout",
     "output_type": "stream",
     "text": [
      "0    10\n",
      "1    20\n",
      "2    13\n",
      "3     4\n",
      "4     0\n",
      "5    12\n",
      "dtype: int64\n"
     ]
    }
   ],
   "source": [
    "s=pd.Series([10,20,13,4,0,12])\n",
    "print(s)"
   ]
  },
  {
   "cell_type": "code",
   "execution_count": null,
   "metadata": {},
   "outputs": [
    {
     "name": "stdout",
     "output_type": "stream",
     "text": [
      "sum of elements 59\n"
     ]
    }
   ],
   "source": [
    "print(\"sum of elements\",s.sum())"
   ]
  },
  {
   "cell_type": "code",
   "execution_count": null,
   "metadata": {},
   "outputs": [
    {
     "name": "stdout",
     "output_type": "stream",
     "text": [
      "0    10.0\n",
      "1    20.0\n",
      "2    13.0\n",
      "3     4.0\n",
      "4     0.0\n",
      "5    12.0\n",
      "6     NaN\n",
      "7     NaN\n",
      "dtype: float64\n"
     ]
    }
   ],
   "source": [
    "import pandas as pd\n",
    "import numpy as np\n",
    "s=pd.Series([10,20,13,4,0,12,np.nan,None])\n",
    "print(s)"
   ]
  },
  {
   "cell_type": "code",
   "execution_count": null,
   "metadata": {},
   "outputs": [
    {
     "name": "stdout",
     "output_type": "stream",
     "text": [
      "0    12\n",
      "1    34\n",
      "2    15\n",
      "3     8\n",
      "4    22\n",
      "5    10\n",
      "6     8\n",
      "7    -4\n",
      "dtype: int64\n"
     ]
    }
   ],
   "source": [
    "import pandas as pd\n",
    "import numpy as np\n",
    "s=pd.Series([12,34,15,8,22,10,8,-4])\n",
    "print(s)"
   ]
  },
  {
   "cell_type": "code",
   "execution_count": null,
   "metadata": {},
   "outputs": [
    {
     "name": "stdout",
     "output_type": "stream",
     "text": [
      "1    34\n",
      "4    22\n",
      "2    15\n",
      "0    12\n",
      "5    10\n",
      "3     8\n",
      "6     8\n",
      "7    -4\n",
      "dtype: int64\n"
     ]
    }
   ],
   "source": [
    "print(s.sort_values(ascending=False))"
   ]
  },
  {
   "cell_type": "code",
   "execution_count": null,
   "metadata": {},
   "outputs": [
    {
     "name": "stdout",
     "output_type": "stream",
     "text": [
      "None\n",
      "1    34\n",
      "4    22\n",
      "2    15\n",
      "0    12\n",
      "5    10\n",
      "3     8\n",
      "6     8\n",
      "7    -4\n",
      "dtype: int64\n"
     ]
    }
   ],
   "source": [
    "print(s.sort_values(ascending=False,inplace=True))\n",
    "print(s)"
   ]
  },
  {
   "cell_type": "code",
   "execution_count": null,
   "metadata": {},
   "outputs": [
    {
     "name": "stdout",
     "output_type": "stream",
     "text": [
      "1    34\n",
      "4    22\n",
      "dtype: int64\n"
     ]
    }
   ],
   "source": [
    "print(s.head(2))"
   ]
  },
  {
   "cell_type": "code",
   "execution_count": null,
   "metadata": {},
   "outputs": [
    {
     "name": "stdout",
     "output_type": "stream",
     "text": [
      "1    34\n",
      "4    22\n",
      "dtype: int64\n"
     ]
    }
   ],
   "source": [
    "print(s[0:2])"
   ]
  },
  {
   "cell_type": "code",
   "execution_count": null,
   "metadata": {},
   "outputs": [
    {
     "name": "stdout",
     "output_type": "stream",
     "text": [
      "3    8\n",
      "6    8\n",
      "7   -4\n",
      "dtype: int64\n"
     ]
    }
   ],
   "source": [
    "print(s.tail(3))"
   ]
  },
  {
   "cell_type": "code",
   "execution_count": null,
   "metadata": {},
   "outputs": [
    {
     "name": "stdout",
     "output_type": "stream",
     "text": [
      "0    12\n",
      "1    34\n",
      "2    15\n",
      "3     8\n",
      "4    22\n",
      "5    10\n",
      "6     8\n",
      "7    -4\n",
      "dtype: int64\n"
     ]
    }
   ],
   "source": [
    "s=pd.Series([12,34,15,8,22,10,8,-4])\n",
    "print(s)"
   ]
  },
  {
   "cell_type": "code",
   "execution_count": null,
   "metadata": {},
   "outputs": [
    {
     "name": "stdout",
     "output_type": "stream",
     "text": [
      "0    12\n",
      "1    34\n",
      "2    15\n",
      "3     8\n",
      "4    22\n",
      "5    10\n",
      "6     8\n",
      "7    -4\n",
      "dtype: int64\n"
     ]
    }
   ],
   "source": [
    "s=pd.Series([12,34,15,8,22,10,8,-4])\n",
    "print(s)"
   ]
  },
  {
   "cell_type": "code",
   "execution_count": null,
   "metadata": {},
   "outputs": [
    {
     "name": "stdout",
     "output_type": "stream",
     "text": [
      "1    34\n",
      "4    22\n",
      "2    15\n",
      "dtype: int64\n"
     ]
    }
   ],
   "source": [
    "print(s.nlargest(3))"
   ]
  },
  {
   "cell_type": "code",
   "execution_count": null,
   "metadata": {},
   "outputs": [
    {
     "name": "stdout",
     "output_type": "stream",
     "text": [
      "7   -4\n",
      "3    8\n",
      "6    8\n",
      "dtype: int64\n"
     ]
    }
   ],
   "source": [
    "print(s.nsmallest(3))"
   ]
  },
  {
   "cell_type": "code",
   "execution_count": null,
   "metadata": {},
   "outputs": [
    {
     "name": "stdout",
     "output_type": "stream",
     "text": [
      "0    12\n",
      "1    34\n",
      "2    15\n",
      "3     8\n",
      "4    22\n",
      "5    10\n",
      "6     8\n",
      "dtype: int64\n"
     ]
    }
   ],
   "source": [
    "s=pd.Series([12,34,15,8,22,10,8])\n",
    "print(s)"
   ]
  },
  {
   "cell_type": "code",
   "execution_count": null,
   "metadata": {},
   "outputs": [
    {
     "name": "stdout",
     "output_type": "stream",
     "text": [
      "sum= 109\n",
      "product= 86169600\n",
      "mean= 15.571428571428571\n"
     ]
    }
   ],
   "source": [
    "print(\"sum=\",s.sum())\n",
    "print(\"product=\",s.product())\n",
    "print(\"mean=\",s.mean())"
   ]
  },
  {
   "cell_type": "code",
   "execution_count": null,
   "metadata": {},
   "outputs": [
    {
     "data": {
      "text/plain": [
       "sum       1.090000e+02\n",
       "prod      8.616960e+07\n",
       "mean      1.557143e+01\n",
       "median    1.200000e+01\n",
       "dtype: float64"
      ]
     },
     "execution_count": 155,
     "metadata": {},
     "output_type": "execute_result"
    }
   ],
   "source": [
    "# new method to get all at once \n",
    "s=pd.Series([12,34,15,8,22,10,8])\n",
    "s.agg([\"sum\",\"prod\",\"mean\",\"median\"])"
   ]
  },
  {
   "cell_type": "code",
   "execution_count": null,
   "metadata": {},
   "outputs": [],
   "source": [
    "# working with missing dependencies values"
   ]
  },
  {
   "cell_type": "code",
   "execution_count": null,
   "metadata": {},
   "outputs": [],
   "source": [
    "# to work with csv files\n",
    "\n",
    "# pd.read_csv(\"absolute path of csv file\")\n",
    "\n",
    "# pandas.read_csv(\"absolute path of pandas\")\n",
    "\n",
    "# this are separated by double slash\n",
    "\n",
    "# by default , the pandas read_csv() will be imported as dataframe\n",
    "\n",
    "# if we want data to be imported into series instead of dataframe we provide additional argument use cols and squeeze , the squeeze=true will convert a dataframe of one column into series.\n"
   ]
  },
  {
   "cell_type": "code",
   "execution_count": null,
   "metadata": {},
   "outputs": [
    {
     "name": "stdout",
     "output_type": "stream",
     "text": [
      "['rossum', 'travis', 'itty', 'dhurvi', 'deep']\n"
     ]
    }
   ],
   "source": [
    "names=[\"Rossum\",\"traVis\",\"itTy\",\"DhurVi\",\"dEEp\"]\n",
    "lst=[name.lower() for name in names]\n",
    "print(lst)"
   ]
  },
  {
   "cell_type": "code",
   "execution_count": null,
   "metadata": {},
   "outputs": [
    {
     "name": "stdout",
     "output_type": "stream",
     "text": [
      "['ROSSUM', 'TRAVIS', 'ITTY', 'DHURVI', 'DEEP']\n"
     ]
    }
   ],
   "source": [
    "names=[\"Rossum\",\"traVis\",\"itTy\",\"DhurVi\",\"dEEp\"]\n",
    "lst=[name.upper() for name in names]\n",
    "print(lst)"
   ]
  },
  {
   "cell_type": "code",
   "execution_count": null,
   "metadata": {},
   "outputs": [
    {
     "name": "stdout",
     "output_type": "stream",
     "text": [
      "[6, 6, 4, 6, 4]\n"
     ]
    }
   ],
   "source": [
    "names=[\"Rossum\",\"traVis\",\"itTy\",\"DhurVi\",\"dEEp\"]\n",
    "lst=[len(str(name)) for name in names]\n",
    "print(lst)"
   ]
  },
  {
   "cell_type": "code",
   "execution_count": null,
   "metadata": {},
   "outputs": [
    {
     "name": "stdout",
     "output_type": "stream",
     "text": [
      "{'Rossum': 6, 'traVis': 6, 'itTy': 4, 'DhurVi': 6, 'dEEp': 4}\n"
     ]
    }
   ],
   "source": [
    "names=[\"Rossum\",\"traVis\",\"itTy\",\"DhurVi\",\"dEEp\"]\n",
    "lst={str(name):len(str(name)) for name in names}\n",
    "print(lst)"
   ]
  },
  {
   "cell_type": "code",
   "execution_count": null,
   "metadata": {},
   "outputs": [
    {
     "name": "stdout",
     "output_type": "stream",
     "text": [
      "{'rossum': 6, 'travis': 6, 'itty': 4, 'dhurvi': 6, 'deep': 4}\n"
     ]
    }
   ],
   "source": [
    "names=[\"Rossum\",\"traVis\",\"itTy\",\"DhurVi\",\"dEEp\"]\n",
    "lst={str(name.lower()):len(str(name)) for name in names}\n",
    "print(lst)"
   ]
  },
  {
   "cell_type": "code",
   "execution_count": null,
   "metadata": {},
   "outputs": [
    {
     "name": "stdout",
     "output_type": "stream",
     "text": [
      "4      DEEP\n",
      "3    DHURVI\n",
      "2      ITTY\n",
      "0    ROSSUM\n",
      "1    TRAVIS\n",
      "dtype: object\n"
     ]
    }
   ],
   "source": [
    "names=[\"Rossum\",\"traVis\",\"itTy\",\"DhurVi\",\"dEEp\"]\n",
    "s=pd.Series(names)\n",
    "uperCaseNames=pd.Series([str(name).upper() for name in s]).sort_values()\n",
    "print(uperCaseNames)"
   ]
  },
  {
   "cell_type": "code",
   "execution_count": null,
   "metadata": {},
   "outputs": [
    {
     "name": "stdout",
     "output_type": "stream",
     "text": [
      "4      deep\n",
      "3    dhurvi\n",
      "2      itty\n",
      "0    rossum\n",
      "1    travis\n",
      "dtype: object\n"
     ]
    }
   ],
   "source": [
    "names=[\"Rossum\",\"traVis\",\"itTy\",\"DhurVi\",\"dEEp\"]\n",
    "s=pd.Series(names)\n",
    "uperCaseNames=pd.Series([str(name).lower() for name in s]).sort_values()\n",
    "print(uperCaseNames)"
   ]
  },
  {
   "cell_type": "markdown",
   "metadata": {},
   "source": [
    "# data frame\n",
    "- dataframe is one of the class and whose object allows us to store the data in tabular format or 2d format and we can perform data analysis.\n",
    "- data frame is one of the 2 dimension label array capable of storing similar type or diffrent type or both type in single object.\n",
    "- even we store multiple value of diffrent type internally those value are treated as object .\n",
    "- dataframe=data set + indices + columns \n",
    "- data set represent the collection of values and they may contain same type or diffrent type\n",
    "- indices represent row indices , whose indices by default start from 0 to N-1, here N is the number of rows.\n",
    "- the default rows indices can be assigned by programmer accordinng to programmer choice.\n",
    "- column represent column indices , whose default start from 0 to M-1 here M is the number of columns.\n",
    "- an objectof dataframe is \"Mutable\"  we can perform many operation at same address."
   ]
  },
  {
   "cell_type": "code",
   "execution_count": null,
   "metadata": {},
   "outputs": [
    {
     "data": {
      "text/plain": [
       "'  \\n\\nsyntax:- \\n\\nvarname= pandas.DataFrame(object,index,columns,dtype)\\n\\n'"
      ]
     },
     "execution_count": 164,
     "metadata": {},
     "output_type": "execute_result"
    }
   ],
   "source": [
    "# number of approaches to create an object of dataframe:-\n",
    "\n",
    "\"\"\"  \n",
    "\n",
    "syntax:- \n",
    "\n",
    "varname= pandas.DataFrame(object,index,columns,dtype)\n",
    "\n",
    "\"\"\""
   ]
  },
  {
   "cell_type": "code",
   "execution_count": null,
   "metadata": {},
   "outputs": [
    {
     "name": "stdout",
     "output_type": "stream",
     "text": [
      "10 <class 'int'>\n"
     ]
    }
   ],
   "source": [
    "a=10\n",
    "print(a,type(a))"
   ]
  },
  {
   "cell_type": "code",
   "execution_count": null,
   "metadata": {},
   "outputs": [
    {
     "ename": "ValueError",
     "evalue": "DataFrame constructor not properly called!",
     "output_type": "error",
     "traceback": [
      "\u001b[1;31m---------------------------------------------------------------------------\u001b[0m",
      "\u001b[1;31mValueError\u001b[0m                                Traceback (most recent call last)",
      "\u001b[1;32m~\\AppData\\Local\\Temp\\ipykernel_9520\\56103316.py\u001b[0m in \u001b[0;36m?\u001b[1;34m()\u001b[0m\n\u001b[0;32m      1\u001b[0m \u001b[0ma\u001b[0m\u001b[1;33m=\u001b[0m\u001b[1;36m10\u001b[0m\u001b[1;33m\u001b[0m\u001b[1;33m\u001b[0m\u001b[0m\n\u001b[0;32m      2\u001b[0m \u001b[1;33m\u001b[0m\u001b[0m\n\u001b[1;32m----> 3\u001b[1;33m \u001b[0mdf\u001b[0m\u001b[1;33m=\u001b[0m\u001b[0mpd\u001b[0m\u001b[1;33m.\u001b[0m\u001b[0mDataFrame\u001b[0m\u001b[1;33m(\u001b[0m\u001b[0ma\u001b[0m\u001b[1;33m)\u001b[0m\u001b[1;33m\u001b[0m\u001b[1;33m\u001b[0m\u001b[0m\n\u001b[0m\u001b[0;32m      4\u001b[0m \u001b[0mprint\u001b[0m\u001b[1;33m(\u001b[0m\u001b[0mdf\u001b[0m\u001b[1;33m)\u001b[0m\u001b[1;33m\u001b[0m\u001b[1;33m\u001b[0m\u001b[0m\n",
      "\u001b[1;32mc:\\Users\\deepa\\AppData\\Local\\Programs\\Python\\Python313\\Lib\\site-packages\\pandas\\core\\frame.py\u001b[0m in \u001b[0;36m?\u001b[1;34m(self, data, index, columns, dtype, copy)\u001b[0m\n\u001b[0;32m    882\u001b[0m                 \u001b[1;33m)\u001b[0m\u001b[1;33m\u001b[0m\u001b[1;33m\u001b[0m\u001b[0m\n\u001b[0;32m    883\u001b[0m         \u001b[1;31m# For data is scalar\u001b[0m\u001b[1;33m\u001b[0m\u001b[1;33m\u001b[0m\u001b[0m\n\u001b[0;32m    884\u001b[0m         \u001b[1;32melse\u001b[0m\u001b[1;33m:\u001b[0m\u001b[1;33m\u001b[0m\u001b[1;33m\u001b[0m\u001b[0m\n\u001b[0;32m    885\u001b[0m             \u001b[1;32mif\u001b[0m \u001b[0mindex\u001b[0m \u001b[1;32mis\u001b[0m \u001b[1;32mNone\u001b[0m \u001b[1;32mor\u001b[0m \u001b[0mcolumns\u001b[0m \u001b[1;32mis\u001b[0m \u001b[1;32mNone\u001b[0m\u001b[1;33m:\u001b[0m\u001b[1;33m\u001b[0m\u001b[1;33m\u001b[0m\u001b[0m\n\u001b[1;32m--> 886\u001b[1;33m                 \u001b[1;32mraise\u001b[0m \u001b[0mValueError\u001b[0m\u001b[1;33m(\u001b[0m\u001b[1;34m\"DataFrame constructor not properly called!\"\u001b[0m\u001b[1;33m)\u001b[0m\u001b[1;33m\u001b[0m\u001b[1;33m\u001b[0m\u001b[0m\n\u001b[0m\u001b[0;32m    887\u001b[0m \u001b[1;33m\u001b[0m\u001b[0m\n\u001b[0;32m    888\u001b[0m             \u001b[0mindex\u001b[0m \u001b[1;33m=\u001b[0m \u001b[0mensure_index\u001b[0m\u001b[1;33m(\u001b[0m\u001b[0mindex\u001b[0m\u001b[1;33m)\u001b[0m\u001b[1;33m\u001b[0m\u001b[1;33m\u001b[0m\u001b[0m\n\u001b[0;32m    889\u001b[0m             \u001b[0mcolumns\u001b[0m \u001b[1;33m=\u001b[0m \u001b[0mensure_index\u001b[0m\u001b[1;33m(\u001b[0m\u001b[0mcolumns\u001b[0m\u001b[1;33m)\u001b[0m\u001b[1;33m\u001b[0m\u001b[1;33m\u001b[0m\u001b[0m\n",
      "\u001b[1;31mValueError\u001b[0m: DataFrame constructor not properly called!"
     ]
    }
   ],
   "source": [
    "a=10\n",
    "\n",
    "df=pd.DataFrame(a)\n",
    "print(df)"
   ]
  },
  {
   "cell_type": "code",
   "execution_count": null,
   "metadata": {},
   "outputs": [
    {
     "data": {
      "text/plain": [
       "' \\n- therefore above is ValueError\\n-for single value there is no meaning for creating dataset. \\n-single value cannot be created as dimension\\n'"
      ]
     },
     "execution_count": 167,
     "metadata": {},
     "output_type": "execute_result"
    }
   ],
   "source": [
    "# note :\n",
    "\"\"\" \n",
    "- therefore above is ValueError\n",
    "-for single value there is no meaning for creating dataset. \n",
    "-single value cannot be created as dimension\n",
    "\"\"\""
   ]
  },
  {
   "cell_type": "code",
   "execution_count": null,
   "metadata": {},
   "outputs": [
    {
     "ename": "ValueError",
     "evalue": "DataFrame constructor not properly called!",
     "output_type": "error",
     "traceback": [
      "\u001b[1;31m---------------------------------------------------------------------------\u001b[0m",
      "\u001b[1;31mValueError\u001b[0m                                Traceback (most recent call last)",
      "\u001b[1;32m~\\AppData\\Local\\Temp\\ipykernel_9520\\3297492097.py\u001b[0m in \u001b[0;36m?\u001b[1;34m()\u001b[0m\n\u001b[0;32m      1\u001b[0m \u001b[0ma\u001b[0m\u001b[1;33m=\u001b[0m\u001b[1;36m10.12\u001b[0m\u001b[1;33m\u001b[0m\u001b[1;33m\u001b[0m\u001b[0m\n\u001b[0;32m      2\u001b[0m \u001b[1;33m\u001b[0m\u001b[0m\n\u001b[1;32m----> 3\u001b[1;33m \u001b[0mdf\u001b[0m\u001b[1;33m=\u001b[0m\u001b[0mpd\u001b[0m\u001b[1;33m.\u001b[0m\u001b[0mDataFrame\u001b[0m\u001b[1;33m(\u001b[0m\u001b[0ma\u001b[0m\u001b[1;33m)\u001b[0m\u001b[1;33m\u001b[0m\u001b[1;33m\u001b[0m\u001b[0m\n\u001b[0m\u001b[0;32m      4\u001b[0m \u001b[0mprint\u001b[0m\u001b[1;33m(\u001b[0m\u001b[0mdf\u001b[0m\u001b[1;33m)\u001b[0m\u001b[1;33m\u001b[0m\u001b[1;33m\u001b[0m\u001b[0m\n",
      "\u001b[1;32mc:\\Users\\deepa\\AppData\\Local\\Programs\\Python\\Python313\\Lib\\site-packages\\pandas\\core\\frame.py\u001b[0m in \u001b[0;36m?\u001b[1;34m(self, data, index, columns, dtype, copy)\u001b[0m\n\u001b[0;32m    882\u001b[0m                 \u001b[1;33m)\u001b[0m\u001b[1;33m\u001b[0m\u001b[1;33m\u001b[0m\u001b[0m\n\u001b[0;32m    883\u001b[0m         \u001b[1;31m# For data is scalar\u001b[0m\u001b[1;33m\u001b[0m\u001b[1;33m\u001b[0m\u001b[0m\n\u001b[0;32m    884\u001b[0m         \u001b[1;32melse\u001b[0m\u001b[1;33m:\u001b[0m\u001b[1;33m\u001b[0m\u001b[1;33m\u001b[0m\u001b[0m\n\u001b[0;32m    885\u001b[0m             \u001b[1;32mif\u001b[0m \u001b[0mindex\u001b[0m \u001b[1;32mis\u001b[0m \u001b[1;32mNone\u001b[0m \u001b[1;32mor\u001b[0m \u001b[0mcolumns\u001b[0m \u001b[1;32mis\u001b[0m \u001b[1;32mNone\u001b[0m\u001b[1;33m:\u001b[0m\u001b[1;33m\u001b[0m\u001b[1;33m\u001b[0m\u001b[0m\n\u001b[1;32m--> 886\u001b[1;33m                 \u001b[1;32mraise\u001b[0m \u001b[0mValueError\u001b[0m\u001b[1;33m(\u001b[0m\u001b[1;34m\"DataFrame constructor not properly called!\"\u001b[0m\u001b[1;33m)\u001b[0m\u001b[1;33m\u001b[0m\u001b[1;33m\u001b[0m\u001b[0m\n\u001b[0m\u001b[0;32m    887\u001b[0m \u001b[1;33m\u001b[0m\u001b[0m\n\u001b[0;32m    888\u001b[0m             \u001b[0mindex\u001b[0m \u001b[1;33m=\u001b[0m \u001b[0mensure_index\u001b[0m\u001b[1;33m(\u001b[0m\u001b[0mindex\u001b[0m\u001b[1;33m)\u001b[0m\u001b[1;33m\u001b[0m\u001b[1;33m\u001b[0m\u001b[0m\n\u001b[0;32m    889\u001b[0m             \u001b[0mcolumns\u001b[0m \u001b[1;33m=\u001b[0m \u001b[0mensure_index\u001b[0m\u001b[1;33m(\u001b[0m\u001b[0mcolumns\u001b[0m\u001b[1;33m)\u001b[0m\u001b[1;33m\u001b[0m\u001b[1;33m\u001b[0m\u001b[0m\n",
      "\u001b[1;31mValueError\u001b[0m: DataFrame constructor not properly called!"
     ]
    }
   ],
   "source": [
    "a=10.12\n",
    "\n",
    "df=pd.DataFrame(a)\n",
    "print(df)"
   ]
  },
  {
   "cell_type": "code",
   "execution_count": null,
   "metadata": {},
   "outputs": [
    {
     "ename": "ValueError",
     "evalue": "DataFrame constructor not properly called!",
     "output_type": "error",
     "traceback": [
      "\u001b[1;31m---------------------------------------------------------------------------\u001b[0m",
      "\u001b[1;31mValueError\u001b[0m                                Traceback (most recent call last)",
      "\u001b[1;32m~\\AppData\\Local\\Temp\\ipykernel_9520\\3118139666.py\u001b[0m in \u001b[0;36m?\u001b[1;34m()\u001b[0m\n\u001b[0;32m      1\u001b[0m \u001b[0ma\u001b[0m\u001b[1;33m=\u001b[0m\u001b[1;34m\"python\"\u001b[0m\u001b[1;33m\u001b[0m\u001b[1;33m\u001b[0m\u001b[0m\n\u001b[0;32m      2\u001b[0m \u001b[1;33m\u001b[0m\u001b[0m\n\u001b[1;32m----> 3\u001b[1;33m \u001b[0mdf\u001b[0m\u001b[1;33m=\u001b[0m\u001b[0mpd\u001b[0m\u001b[1;33m.\u001b[0m\u001b[0mDataFrame\u001b[0m\u001b[1;33m(\u001b[0m\u001b[0ma\u001b[0m\u001b[1;33m)\u001b[0m\u001b[1;33m\u001b[0m\u001b[1;33m\u001b[0m\u001b[0m\n\u001b[0m\u001b[0;32m      4\u001b[0m \u001b[0mprint\u001b[0m\u001b[1;33m(\u001b[0m\u001b[0mdf\u001b[0m\u001b[1;33m)\u001b[0m\u001b[1;33m\u001b[0m\u001b[1;33m\u001b[0m\u001b[0m\n",
      "\u001b[1;32mc:\\Users\\deepa\\AppData\\Local\\Programs\\Python\\Python313\\Lib\\site-packages\\pandas\\core\\frame.py\u001b[0m in \u001b[0;36m?\u001b[1;34m(self, data, index, columns, dtype, copy)\u001b[0m\n\u001b[0;32m    882\u001b[0m                 \u001b[1;33m)\u001b[0m\u001b[1;33m\u001b[0m\u001b[1;33m\u001b[0m\u001b[0m\n\u001b[0;32m    883\u001b[0m         \u001b[1;31m# For data is scalar\u001b[0m\u001b[1;33m\u001b[0m\u001b[1;33m\u001b[0m\u001b[0m\n\u001b[0;32m    884\u001b[0m         \u001b[1;32melse\u001b[0m\u001b[1;33m:\u001b[0m\u001b[1;33m\u001b[0m\u001b[1;33m\u001b[0m\u001b[0m\n\u001b[0;32m    885\u001b[0m             \u001b[1;32mif\u001b[0m \u001b[0mindex\u001b[0m \u001b[1;32mis\u001b[0m \u001b[1;32mNone\u001b[0m \u001b[1;32mor\u001b[0m \u001b[0mcolumns\u001b[0m \u001b[1;32mis\u001b[0m \u001b[1;32mNone\u001b[0m\u001b[1;33m:\u001b[0m\u001b[1;33m\u001b[0m\u001b[1;33m\u001b[0m\u001b[0m\n\u001b[1;32m--> 886\u001b[1;33m                 \u001b[1;32mraise\u001b[0m \u001b[0mValueError\u001b[0m\u001b[1;33m(\u001b[0m\u001b[1;34m\"DataFrame constructor not properly called!\"\u001b[0m\u001b[1;33m)\u001b[0m\u001b[1;33m\u001b[0m\u001b[1;33m\u001b[0m\u001b[0m\n\u001b[0m\u001b[0;32m    887\u001b[0m \u001b[1;33m\u001b[0m\u001b[0m\n\u001b[0;32m    888\u001b[0m             \u001b[0mindex\u001b[0m \u001b[1;33m=\u001b[0m \u001b[0mensure_index\u001b[0m\u001b[1;33m(\u001b[0m\u001b[0mindex\u001b[0m\u001b[1;33m)\u001b[0m\u001b[1;33m\u001b[0m\u001b[1;33m\u001b[0m\u001b[0m\n\u001b[0;32m    889\u001b[0m             \u001b[0mcolumns\u001b[0m \u001b[1;33m=\u001b[0m \u001b[0mensure_index\u001b[0m\u001b[1;33m(\u001b[0m\u001b[0mcolumns\u001b[0m\u001b[1;33m)\u001b[0m\u001b[1;33m\u001b[0m\u001b[1;33m\u001b[0m\u001b[0m\n",
      "\u001b[1;31mValueError\u001b[0m: DataFrame constructor not properly called!"
     ]
    }
   ],
   "source": [
    "a=\"python\"\n",
    "\n",
    "df=pd.DataFrame(a)\n",
    "print(df)"
   ]
  },
  {
   "cell_type": "code",
   "execution_count": null,
   "metadata": {},
   "outputs": [],
   "source": [
    "# ValueError\n"
   ]
  },
  {
   "cell_type": "code",
   "execution_count": null,
   "metadata": {},
   "outputs": [
    {
     "name": "stdout",
     "output_type": "stream",
     "text": [
      "[1000]\n"
     ]
    }
   ],
   "source": [
    "a=1000\n",
    "# here a is a int single value\n",
    "# convert it into list \n",
    "lst=list([a])\n",
    "print(lst)"
   ]
  },
  {
   "cell_type": "code",
   "execution_count": null,
   "metadata": {},
   "outputs": [
    {
     "name": "stdout",
     "output_type": "stream",
     "text": [
      "[1000]\n",
      "      0\n",
      "0  1000\n"
     ]
    }
   ],
   "source": [
    "# convert it into dataframe\n",
    "a=1000\n",
    "# here a is a int single value\n",
    "# convert it into list \n",
    "lst=list([a])\n",
    "print(lst)\n",
    "df=pd.DataFrame(lst)\n",
    "print(df)"
   ]
  },
  {
   "cell_type": "code",
   "execution_count": null,
   "metadata": {},
   "outputs": [
    {
     "name": "stdout",
     "output_type": "stream",
     "text": [
      "['p', 'y', 't', 'h', 'o', 'n']\n",
      "   0\n",
      "0  p\n",
      "1  y\n",
      "2  t\n",
      "3  h\n",
      "4  o\n",
      "5  n\n"
     ]
    }
   ],
   "source": [
    "s=\"python\"\n",
    "lst=list(s)\n",
    "print(lst)\n",
    "df=pd.DataFrame(lst)\n",
    "print(df)"
   ]
  },
  {
   "cell_type": "code",
   "execution_count": null,
   "metadata": {},
   "outputs": [
    {
     "name": "stdout",
     "output_type": "stream",
     "text": [
      "[100, 'rossum', 'travis', 32.22, 'hunter']\n",
      "        0\n",
      "0     100\n",
      "1  rossum\n",
      "2  travis\n",
      "3   32.22\n",
      "4  hunter\n",
      "<class 'pandas.core.frame.DataFrame'>\n"
     ]
    }
   ],
   "source": [
    "# convert the lsit into dataframe\n",
    "lst =[100,\"rossum\",\"travis\",32.22,\"hunter\"]\n",
    "print(lst)\n",
    "df=pd.DataFrame(lst)\n",
    "print(df)\n",
    "print(type(df))"
   ]
  },
  {
   "cell_type": "code",
   "execution_count": null,
   "metadata": {},
   "outputs": [
    {
     "name": "stdout",
     "output_type": "stream",
     "text": [
      "[100, 'rossum', 'travis', 32.22, 'hunter', [10, 20, 30]]\n",
      "              0\n",
      "0           100\n",
      "1        rossum\n",
      "2        travis\n",
      "3         32.22\n",
      "4        hunter\n",
      "5  [10, 20, 30]\n",
      "<class 'pandas.core.frame.DataFrame'>\n"
     ]
    }
   ],
   "source": [
    "# convert the lsit into dataframe\n",
    "lst =[100,\"rossum\",\"travis\",32.22,\"hunter\",[10,20,30]]\n",
    "print(lst)\n",
    "df=pd.DataFrame(lst)\n",
    "print(df)\n",
    "print(type(df))"
   ]
  },
  {
   "cell_type": "code",
   "execution_count": null,
   "metadata": {},
   "outputs": [
    {
     "name": "stdout",
     "output_type": "stream",
     "text": [
      "[[10, 20, 30], ['rossum', 'travis', 'hunter']]\n",
      "--------------------------------------------------\n",
      "       id    name  famous\n",
      "0      10      20      30\n",
      "1  rossum  travis  hunter\n"
     ]
    }
   ],
   "source": [
    "lst=[[10,20,30],[\"rossum\",\"travis\",\"hunter\"]]\n",
    "print(lst)\n",
    "print(50*\"-\")\n",
    "df=pd.DataFrame(lst,columns=[\"id\",\"name\",\"famous\"])\n",
    "print(df)"
   ]
  },
  {
   "cell_type": "code",
   "execution_count": null,
   "metadata": {},
   "outputs": [
    {
     "name": "stdout",
     "output_type": "stream",
     "text": [
      "[[10, 'rs'], [20, 'ts'], [30, 'hs']]\n",
      "--------------------------------------------------\n",
      "      id name\n",
      "row1  10   rs\n",
      "row2  20   ts\n",
      "row3  30   hs\n"
     ]
    }
   ],
   "source": [
    "# convert list value into dataframe\n",
    "\n",
    "lst=[[10,\"rs\"],[20,\"ts\"],[30,\"hs\"]]\n",
    "print(lst)\n",
    "print(50*\"-\")\n",
    "df=pd.DataFrame(lst,index=[\"row1\",\"row2\",\"row3\"],columns=[\"id\",\"name\"])\n",
    "print(df)\n"
   ]
  },
  {
   "cell_type": "code",
   "execution_count": null,
   "metadata": {},
   "outputs": [
    {
     "name": "stdout",
     "output_type": "stream",
     "text": [
      "([10, 'rs'], [20, 'ts'], [30, 'hs'])\n",
      "--------------------------------------------------\n",
      "      id name\n",
      "row1  10   rs\n",
      "row2  20   ts\n",
      "row3  30   hs\n"
     ]
    }
   ],
   "source": [
    "# convert tuple value into dataframe\n",
    "\n",
    "lst=([10,\"rs\"],[20,\"ts\"],[30,\"hs\"])\n",
    "print(lst)\n",
    "print(50*\"-\")\n",
    "df=pd.DataFrame(lst,index=[\"row1\",\"row2\",\"row3\"],columns=[\"id\",\"name\"])\n",
    "print(df)"
   ]
  },
  {
   "cell_type": "code",
   "execution_count": null,
   "metadata": {},
   "outputs": [
    {
     "name": "stdout",
     "output_type": "stream",
     "text": [
      "((10, 'rs'), (20, 'ts'), (30, 'hs'))\n",
      "--------------------------------------------------\n",
      "      id name\n",
      "row1  10   rs\n",
      "row2  20   ts\n",
      "row3  30   hs\n"
     ]
    }
   ],
   "source": [
    "# convert tuple value into dataframe\n",
    "\n",
    "lst=((10,\"rs\"),(20,\"ts\"),(30,\"hs\"))\n",
    "print(lst)\n",
    "print(50*\"-\")\n",
    "df=pd.DataFrame(lst,index=[\"row1\",\"row2\",\"row3\"],columns=[\"id\",\"name\"])\n",
    "print(df)"
   ]
  },
  {
   "cell_type": "code",
   "execution_count": null,
   "metadata": {},
   "outputs": [
    {
     "name": "stdout",
     "output_type": "stream",
     "text": [
      "{50, 20, 40, 10, 30}\n",
      "    0\n",
      "0  50\n",
      "1  20\n",
      "2  40\n",
      "3  10\n",
      "4  30\n"
     ]
    }
   ],
   "source": [
    "# set\n",
    "st={10,20,30,40,50}\n",
    "print(st)\n",
    "df=pd.DataFrame(st)\n",
    "print(df)"
   ]
  },
  {
   "cell_type": "code",
   "execution_count": null,
   "metadata": {},
   "outputs": [
    {
     "name": "stdout",
     "output_type": "stream",
     "text": [
      "{100: 'rs', 200: 'ts', 300: 'hs'}\n"
     ]
    }
   ],
   "source": [
    "#dictionary\n",
    "d={100:\"rs\",200:\"ts\",300:\"hs\"}\n",
    "print(d)"
   ]
  },
  {
   "cell_type": "code",
   "execution_count": null,
   "metadata": {},
   "outputs": [
    {
     "name": "stdout",
     "output_type": "stream",
     "text": [
      "{'sub1': ['pyhton', 'javascript', 'datascience'], 'sub2': ['html', 'css', 'react'], 'sub3': ['oracle', 'sql', 'mongodb']} <class 'dict'>\n"
     ]
    }
   ],
   "source": [
    "d={\"sub1\":[\"pyhton\",\"javascript\",\"datascience\"],\"sub2\":[\"html\",\"css\",\"react\"],\"sub3\":[\"oracle\",\"sql\",\"mongodb\"]}\n",
    "\n",
    "print(d,type(d))"
   ]
  },
  {
   "cell_type": "code",
   "execution_count": null,
   "metadata": {},
   "outputs": [
    {
     "name": "stdout",
     "output_type": "stream",
     "text": [
      "sub1 -> ['pyhton', 'javascript', 'datascience']\n",
      "sub2 -> ['html', 'css', 'react']\n",
      "sub3 -> ['oracle', 'sql', 'mongodb']\n"
     ]
    }
   ],
   "source": [
    "for key, value in d.items():\n",
    "    print(key,\"->\",value)"
   ]
  },
  {
   "cell_type": "code",
   "execution_count": null,
   "metadata": {},
   "outputs": [
    {
     "name": "stdout",
     "output_type": "stream",
     "text": [
      "{'sub1': ['pyhton', 'javascript', 'datascience'], 'sub2': ['html', 'css', 'react'], 'sub3': ['oracle', 'sql', 'mongodb']} <class 'dict'>\n",
      "          sub1   sub2     sub3\n",
      "0       pyhton   html   oracle\n",
      "1   javascript    css      sql\n",
      "2  datascience  react  mongodb <class 'pandas.core.frame.DataFrame'>\n"
     ]
    }
   ],
   "source": [
    "d={\"sub1\":[\"pyhton\",\"javascript\",\"datascience\"],\"sub2\":[\"html\",\"css\",\"react\"],\"sub3\":[\"oracle\",\"sql\",\"mongodb\"]}\n",
    "\n",
    "print(d,type(d))\n",
    "\n",
    "df=pd.DataFrame(d)\n",
    "print(df,type(df))"
   ]
  },
  {
   "cell_type": "code",
   "execution_count": null,
   "metadata": {},
   "outputs": [
    {
     "name": "stdout",
     "output_type": "stream",
     "text": [
      "{'sub1': ['pyhton', 'javascript', 'datascience'], 'sub2': ['html', 'css', 'react'], 'sub3': ['oracle', 'sql', 'mongodb']} <class 'dict'>\n",
      "               sub1   sub2     sub3\n",
      "level1       pyhton   html   oracle\n",
      "level2   javascript    css      sql\n",
      "level3  datascience  react  mongodb <class 'pandas.core.frame.DataFrame'>\n"
     ]
    }
   ],
   "source": [
    "d={\"sub1\":[\"pyhton\",\"javascript\",\"datascience\"],\"sub2\":[\"html\",\"css\",\"react\"],\"sub3\":[\"oracle\",\"sql\",\"mongodb\"]}\n",
    "\n",
    "print(d,type(d))\n",
    "\n",
    "df=pd.DataFrame(d,index=[\"level1\",\"level2\",\"level3\"])\n",
    "print(df,type(df))"
   ]
  },
  {
   "cell_type": "code",
   "execution_count": null,
   "metadata": {},
   "outputs": [
    {
     "name": "stdout",
     "output_type": "stream",
     "text": [
      "{10: 'python', 20: 'java', 30: 'c', 40: 'c++'}\n",
      "--------------------------------------------------\n"
     ]
    },
    {
     "ename": "ValueError",
     "evalue": "If using all scalar values, you must pass an index",
     "output_type": "error",
     "traceback": [
      "\u001b[1;31m---------------------------------------------------------------------------\u001b[0m",
      "\u001b[1;31mValueError\u001b[0m                                Traceback (most recent call last)",
      "Cell \u001b[1;32mIn[186], line 5\u001b[0m\n\u001b[0;32m      3\u001b[0m \u001b[38;5;28mprint\u001b[39m(d)\n\u001b[0;32m      4\u001b[0m \u001b[38;5;28mprint\u001b[39m(\u001b[38;5;241m50\u001b[39m\u001b[38;5;241m*\u001b[39m\u001b[38;5;124m\"\u001b[39m\u001b[38;5;124m-\u001b[39m\u001b[38;5;124m\"\u001b[39m)\n\u001b[1;32m----> 5\u001b[0m df\u001b[38;5;241m=\u001b[39m\u001b[43mpd\u001b[49m\u001b[38;5;241;43m.\u001b[39;49m\u001b[43mDataFrame\u001b[49m\u001b[43m(\u001b[49m\u001b[43md\u001b[49m\u001b[43m)\u001b[49m\n\u001b[0;32m      6\u001b[0m \u001b[38;5;28mprint\u001b[39m(df,\u001b[38;5;28mtype\u001b[39m(df))\n",
      "File \u001b[1;32mc:\\Users\\deepa\\AppData\\Local\\Programs\\Python\\Python313\\Lib\\site-packages\\pandas\\core\\frame.py:778\u001b[0m, in \u001b[0;36mDataFrame.__init__\u001b[1;34m(self, data, index, columns, dtype, copy)\u001b[0m\n\u001b[0;32m    772\u001b[0m     mgr \u001b[38;5;241m=\u001b[39m \u001b[38;5;28mself\u001b[39m\u001b[38;5;241m.\u001b[39m_init_mgr(\n\u001b[0;32m    773\u001b[0m         data, axes\u001b[38;5;241m=\u001b[39m{\u001b[38;5;124m\"\u001b[39m\u001b[38;5;124mindex\u001b[39m\u001b[38;5;124m\"\u001b[39m: index, \u001b[38;5;124m\"\u001b[39m\u001b[38;5;124mcolumns\u001b[39m\u001b[38;5;124m\"\u001b[39m: columns}, dtype\u001b[38;5;241m=\u001b[39mdtype, copy\u001b[38;5;241m=\u001b[39mcopy\n\u001b[0;32m    774\u001b[0m     )\n\u001b[0;32m    776\u001b[0m \u001b[38;5;28;01melif\u001b[39;00m \u001b[38;5;28misinstance\u001b[39m(data, \u001b[38;5;28mdict\u001b[39m):\n\u001b[0;32m    777\u001b[0m     \u001b[38;5;66;03m# GH#38939 de facto copy defaults to False only in non-dict cases\u001b[39;00m\n\u001b[1;32m--> 778\u001b[0m     mgr \u001b[38;5;241m=\u001b[39m \u001b[43mdict_to_mgr\u001b[49m\u001b[43m(\u001b[49m\u001b[43mdata\u001b[49m\u001b[43m,\u001b[49m\u001b[43m \u001b[49m\u001b[43mindex\u001b[49m\u001b[43m,\u001b[49m\u001b[43m \u001b[49m\u001b[43mcolumns\u001b[49m\u001b[43m,\u001b[49m\u001b[43m \u001b[49m\u001b[43mdtype\u001b[49m\u001b[38;5;241;43m=\u001b[39;49m\u001b[43mdtype\u001b[49m\u001b[43m,\u001b[49m\u001b[43m \u001b[49m\u001b[43mcopy\u001b[49m\u001b[38;5;241;43m=\u001b[39;49m\u001b[43mcopy\u001b[49m\u001b[43m,\u001b[49m\u001b[43m \u001b[49m\u001b[43mtyp\u001b[49m\u001b[38;5;241;43m=\u001b[39;49m\u001b[43mmanager\u001b[49m\u001b[43m)\u001b[49m\n\u001b[0;32m    779\u001b[0m \u001b[38;5;28;01melif\u001b[39;00m \u001b[38;5;28misinstance\u001b[39m(data, ma\u001b[38;5;241m.\u001b[39mMaskedArray):\n\u001b[0;32m    780\u001b[0m     \u001b[38;5;28;01mfrom\u001b[39;00m\u001b[38;5;250m \u001b[39m\u001b[38;5;21;01mnumpy\u001b[39;00m\u001b[38;5;21;01m.\u001b[39;00m\u001b[38;5;21;01mma\u001b[39;00m\u001b[38;5;250m \u001b[39m\u001b[38;5;28;01mimport\u001b[39;00m mrecords\n",
      "File \u001b[1;32mc:\\Users\\deepa\\AppData\\Local\\Programs\\Python\\Python313\\Lib\\site-packages\\pandas\\core\\internals\\construction.py:503\u001b[0m, in \u001b[0;36mdict_to_mgr\u001b[1;34m(data, index, columns, dtype, typ, copy)\u001b[0m\n\u001b[0;32m    499\u001b[0m     \u001b[38;5;28;01melse\u001b[39;00m:\n\u001b[0;32m    500\u001b[0m         \u001b[38;5;66;03m# dtype check to exclude e.g. range objects, scalars\u001b[39;00m\n\u001b[0;32m    501\u001b[0m         arrays \u001b[38;5;241m=\u001b[39m [x\u001b[38;5;241m.\u001b[39mcopy() \u001b[38;5;28;01mif\u001b[39;00m \u001b[38;5;28mhasattr\u001b[39m(x, \u001b[38;5;124m\"\u001b[39m\u001b[38;5;124mdtype\u001b[39m\u001b[38;5;124m\"\u001b[39m) \u001b[38;5;28;01melse\u001b[39;00m x \u001b[38;5;28;01mfor\u001b[39;00m x \u001b[38;5;129;01min\u001b[39;00m arrays]\n\u001b[1;32m--> 503\u001b[0m \u001b[38;5;28;01mreturn\u001b[39;00m \u001b[43marrays_to_mgr\u001b[49m\u001b[43m(\u001b[49m\u001b[43marrays\u001b[49m\u001b[43m,\u001b[49m\u001b[43m \u001b[49m\u001b[43mcolumns\u001b[49m\u001b[43m,\u001b[49m\u001b[43m \u001b[49m\u001b[43mindex\u001b[49m\u001b[43m,\u001b[49m\u001b[43m \u001b[49m\u001b[43mdtype\u001b[49m\u001b[38;5;241;43m=\u001b[39;49m\u001b[43mdtype\u001b[49m\u001b[43m,\u001b[49m\u001b[43m \u001b[49m\u001b[43mtyp\u001b[49m\u001b[38;5;241;43m=\u001b[39;49m\u001b[43mtyp\u001b[49m\u001b[43m,\u001b[49m\u001b[43m \u001b[49m\u001b[43mconsolidate\u001b[49m\u001b[38;5;241;43m=\u001b[39;49m\u001b[43mcopy\u001b[49m\u001b[43m)\u001b[49m\n",
      "File \u001b[1;32mc:\\Users\\deepa\\AppData\\Local\\Programs\\Python\\Python313\\Lib\\site-packages\\pandas\\core\\internals\\construction.py:114\u001b[0m, in \u001b[0;36marrays_to_mgr\u001b[1;34m(arrays, columns, index, dtype, verify_integrity, typ, consolidate)\u001b[0m\n\u001b[0;32m    111\u001b[0m \u001b[38;5;28;01mif\u001b[39;00m verify_integrity:\n\u001b[0;32m    112\u001b[0m     \u001b[38;5;66;03m# figure out the index, if necessary\u001b[39;00m\n\u001b[0;32m    113\u001b[0m     \u001b[38;5;28;01mif\u001b[39;00m index \u001b[38;5;129;01mis\u001b[39;00m \u001b[38;5;28;01mNone\u001b[39;00m:\n\u001b[1;32m--> 114\u001b[0m         index \u001b[38;5;241m=\u001b[39m \u001b[43m_extract_index\u001b[49m\u001b[43m(\u001b[49m\u001b[43marrays\u001b[49m\u001b[43m)\u001b[49m\n\u001b[0;32m    115\u001b[0m     \u001b[38;5;28;01melse\u001b[39;00m:\n\u001b[0;32m    116\u001b[0m         index \u001b[38;5;241m=\u001b[39m ensure_index(index)\n",
      "File \u001b[1;32mc:\\Users\\deepa\\AppData\\Local\\Programs\\Python\\Python313\\Lib\\site-packages\\pandas\\core\\internals\\construction.py:667\u001b[0m, in \u001b[0;36m_extract_index\u001b[1;34m(data)\u001b[0m\n\u001b[0;32m    664\u001b[0m         \u001b[38;5;28;01mraise\u001b[39;00m \u001b[38;5;167;01mValueError\u001b[39;00m(\u001b[38;5;124m\"\u001b[39m\u001b[38;5;124mPer-column arrays must each be 1-dimensional\u001b[39m\u001b[38;5;124m\"\u001b[39m)\n\u001b[0;32m    666\u001b[0m \u001b[38;5;28;01mif\u001b[39;00m \u001b[38;5;129;01mnot\u001b[39;00m indexes \u001b[38;5;129;01mand\u001b[39;00m \u001b[38;5;129;01mnot\u001b[39;00m raw_lengths:\n\u001b[1;32m--> 667\u001b[0m     \u001b[38;5;28;01mraise\u001b[39;00m \u001b[38;5;167;01mValueError\u001b[39;00m(\u001b[38;5;124m\"\u001b[39m\u001b[38;5;124mIf using all scalar values, you must pass an index\u001b[39m\u001b[38;5;124m\"\u001b[39m)\n\u001b[0;32m    669\u001b[0m \u001b[38;5;28;01mif\u001b[39;00m have_series:\n\u001b[0;32m    670\u001b[0m     index \u001b[38;5;241m=\u001b[39m union_indexes(indexes)\n",
      "\u001b[1;31mValueError\u001b[0m: If using all scalar values, you must pass an index"
     ]
    }
   ],
   "source": [
    "# creating dataframe object by using dict\n",
    "d={10:\"python\",20:\"java\",30:\"c\",40:\"c++\"}\n",
    "print(d)\n",
    "print(50*\"-\")\n",
    "df=pd.DataFrame(d)\n",
    "print(df,type(df))"
   ]
  },
  {
   "cell_type": "code",
   "execution_count": null,
   "metadata": {},
   "outputs": [],
   "source": [
    "# you will get the value error \n",
    "# since you are passing the single value in dict\n",
    "# for removing error you need to provide the index"
   ]
  },
  {
   "cell_type": "code",
   "execution_count": null,
   "metadata": {},
   "outputs": [
    {
     "name": "stdout",
     "output_type": "stream",
     "text": [
      "{10: 'python', 20: 'java', 30: 'c', 40: 'c++'}\n",
      "--------------------------------------------------\n",
      "            10    20 30   40\n",
      "course  python  java  c  c++ <class 'pandas.core.frame.DataFrame'>\n"
     ]
    }
   ],
   "source": [
    "# creating dataframe object by using dict\n",
    "d={10:\"python\",20:\"java\",30:\"c\",40:\"c++\"}\n",
    "print(d)\n",
    "print(50*\"-\")\n",
    "df=pd.DataFrame(d,index=[\"course\"])\n",
    "print(df,type(df))"
   ]
  },
  {
   "cell_type": "code",
   "execution_count": null,
   "metadata": {},
   "outputs": [
    {
     "name": "stdout",
     "output_type": "stream",
     "text": [
      "{'sub1': ['pyhton', 'javascript', 'datascience'], 'sub2': ['html', 'css', 'react'], 'sub3': ['oracle', 'sql', 'mongodb']} <class 'dict'>\n",
      "{'sub1': ['pyhton', 'javascript', 'datascience'], 'sub2': ['html', 'css', 'react'], 'sub3': ['oracle', 'sql', 'mongodb']} <class 'numpy.ndarray'>\n",
      "0\n"
     ]
    }
   ],
   "source": [
    "# creating nd array object\n",
    "d={\"sub1\":[\"pyhton\",\"javascript\",\"datascience\"],\"sub2\":[\"html\",\"css\",\"react\"],\"sub3\":[\"oracle\",\"sql\",\"mongodb\"]}\n",
    "\n",
    "print(d,type(d))\n",
    "\n",
    "a=np.array(d)\n",
    "print(a,type(a))\n",
    "print(a.ndim)"
   ]
  },
  {
   "cell_type": "code",
   "execution_count": null,
   "metadata": {},
   "outputs": [
    {
     "name": "stdout",
     "output_type": "stream",
     "text": [
      "{'sub1': ['pyhton', 'javascript', 'datascience'], 'sub2': ['html', 'css', 'react'], 'sub3': ['oracle', 'sql', 'mongodb']} <class 'numpy.ndarray'>\n",
      "0\n"
     ]
    },
    {
     "ename": "ValueError",
     "evalue": "Must pass 2-d input. shape=()",
     "output_type": "error",
     "traceback": [
      "\u001b[1;31m---------------------------------------------------------------------------\u001b[0m",
      "\u001b[1;31mValueError\u001b[0m                                Traceback (most recent call last)",
      "Cell \u001b[1;32mIn[190], line 6\u001b[0m\n\u001b[0;32m      4\u001b[0m \u001b[38;5;28mprint\u001b[39m(a,\u001b[38;5;28mtype\u001b[39m(a))\n\u001b[0;32m      5\u001b[0m \u001b[38;5;28mprint\u001b[39m(a\u001b[38;5;241m.\u001b[39mndim)\n\u001b[1;32m----> 6\u001b[0m df\u001b[38;5;241m=\u001b[39m\u001b[43mpd\u001b[49m\u001b[38;5;241;43m.\u001b[39;49m\u001b[43mDataFrame\u001b[49m\u001b[43m(\u001b[49m\u001b[43ma\u001b[49m\u001b[43m)\u001b[49m\n\u001b[0;32m      7\u001b[0m \u001b[38;5;28mprint\u001b[39m(df,\u001b[38;5;28mtype\u001b[39m(df))\n",
      "File \u001b[1;32mc:\\Users\\deepa\\AppData\\Local\\Programs\\Python\\Python313\\Lib\\site-packages\\pandas\\core\\frame.py:827\u001b[0m, in \u001b[0;36mDataFrame.__init__\u001b[1;34m(self, data, index, columns, dtype, copy)\u001b[0m\n\u001b[0;32m    816\u001b[0m         mgr \u001b[38;5;241m=\u001b[39m dict_to_mgr(\n\u001b[0;32m    817\u001b[0m             \u001b[38;5;66;03m# error: Item \"ndarray\" of \"Union[ndarray, Series, Index]\" has no\u001b[39;00m\n\u001b[0;32m    818\u001b[0m             \u001b[38;5;66;03m# attribute \"name\"\u001b[39;00m\n\u001b[1;32m   (...)\u001b[0m\n\u001b[0;32m    824\u001b[0m             copy\u001b[38;5;241m=\u001b[39m_copy,\n\u001b[0;32m    825\u001b[0m         )\n\u001b[0;32m    826\u001b[0m     \u001b[38;5;28;01melse\u001b[39;00m:\n\u001b[1;32m--> 827\u001b[0m         mgr \u001b[38;5;241m=\u001b[39m \u001b[43mndarray_to_mgr\u001b[49m\u001b[43m(\u001b[49m\n\u001b[0;32m    828\u001b[0m \u001b[43m            \u001b[49m\u001b[43mdata\u001b[49m\u001b[43m,\u001b[49m\n\u001b[0;32m    829\u001b[0m \u001b[43m            \u001b[49m\u001b[43mindex\u001b[49m\u001b[43m,\u001b[49m\n\u001b[0;32m    830\u001b[0m \u001b[43m            \u001b[49m\u001b[43mcolumns\u001b[49m\u001b[43m,\u001b[49m\n\u001b[0;32m    831\u001b[0m \u001b[43m            \u001b[49m\u001b[43mdtype\u001b[49m\u001b[38;5;241;43m=\u001b[39;49m\u001b[43mdtype\u001b[49m\u001b[43m,\u001b[49m\n\u001b[0;32m    832\u001b[0m \u001b[43m            \u001b[49m\u001b[43mcopy\u001b[49m\u001b[38;5;241;43m=\u001b[39;49m\u001b[43mcopy\u001b[49m\u001b[43m,\u001b[49m\n\u001b[0;32m    833\u001b[0m \u001b[43m            \u001b[49m\u001b[43mtyp\u001b[49m\u001b[38;5;241;43m=\u001b[39;49m\u001b[43mmanager\u001b[49m\u001b[43m,\u001b[49m\n\u001b[0;32m    834\u001b[0m \u001b[43m        \u001b[49m\u001b[43m)\u001b[49m\n\u001b[0;32m    836\u001b[0m \u001b[38;5;66;03m# For data is list-like, or Iterable (will consume into list)\u001b[39;00m\n\u001b[0;32m    837\u001b[0m \u001b[38;5;28;01melif\u001b[39;00m is_list_like(data):\n",
      "File \u001b[1;32mc:\\Users\\deepa\\AppData\\Local\\Programs\\Python\\Python313\\Lib\\site-packages\\pandas\\core\\internals\\construction.py:314\u001b[0m, in \u001b[0;36mndarray_to_mgr\u001b[1;34m(values, index, columns, dtype, copy, typ)\u001b[0m\n\u001b[0;32m    308\u001b[0m     _copy \u001b[38;5;241m=\u001b[39m (\n\u001b[0;32m    309\u001b[0m         copy_on_sanitize\n\u001b[0;32m    310\u001b[0m         \u001b[38;5;28;01mif\u001b[39;00m (dtype \u001b[38;5;129;01mis\u001b[39;00m \u001b[38;5;28;01mNone\u001b[39;00m \u001b[38;5;129;01mor\u001b[39;00m astype_is_view(values\u001b[38;5;241m.\u001b[39mdtype, dtype))\n\u001b[0;32m    311\u001b[0m         \u001b[38;5;28;01melse\u001b[39;00m \u001b[38;5;28;01mFalse\u001b[39;00m\n\u001b[0;32m    312\u001b[0m     )\n\u001b[0;32m    313\u001b[0m     values \u001b[38;5;241m=\u001b[39m np\u001b[38;5;241m.\u001b[39marray(values, copy\u001b[38;5;241m=\u001b[39m_copy)\n\u001b[1;32m--> 314\u001b[0m     values \u001b[38;5;241m=\u001b[39m \u001b[43m_ensure_2d\u001b[49m\u001b[43m(\u001b[49m\u001b[43mvalues\u001b[49m\u001b[43m)\u001b[49m\n\u001b[0;32m    316\u001b[0m \u001b[38;5;28;01melse\u001b[39;00m:\n\u001b[0;32m    317\u001b[0m     \u001b[38;5;66;03m# by definition an array here\u001b[39;00m\n\u001b[0;32m    318\u001b[0m     \u001b[38;5;66;03m# the dtypes will be coerced to a single dtype\u001b[39;00m\n\u001b[0;32m    319\u001b[0m     values \u001b[38;5;241m=\u001b[39m _prep_ndarraylike(values, copy\u001b[38;5;241m=\u001b[39mcopy_on_sanitize)\n",
      "File \u001b[1;32mc:\\Users\\deepa\\AppData\\Local\\Programs\\Python\\Python313\\Lib\\site-packages\\pandas\\core\\internals\\construction.py:592\u001b[0m, in \u001b[0;36m_ensure_2d\u001b[1;34m(values)\u001b[0m\n\u001b[0;32m    590\u001b[0m     values \u001b[38;5;241m=\u001b[39m values\u001b[38;5;241m.\u001b[39mreshape((values\u001b[38;5;241m.\u001b[39mshape[\u001b[38;5;241m0\u001b[39m], \u001b[38;5;241m1\u001b[39m))\n\u001b[0;32m    591\u001b[0m \u001b[38;5;28;01melif\u001b[39;00m values\u001b[38;5;241m.\u001b[39mndim \u001b[38;5;241m!=\u001b[39m \u001b[38;5;241m2\u001b[39m:\n\u001b[1;32m--> 592\u001b[0m     \u001b[38;5;28;01mraise\u001b[39;00m \u001b[38;5;167;01mValueError\u001b[39;00m(\u001b[38;5;124mf\u001b[39m\u001b[38;5;124m\"\u001b[39m\u001b[38;5;124mMust pass 2-d input. shape=\u001b[39m\u001b[38;5;132;01m{\u001b[39;00mvalues\u001b[38;5;241m.\u001b[39mshape\u001b[38;5;132;01m}\u001b[39;00m\u001b[38;5;124m\"\u001b[39m)\n\u001b[0;32m    593\u001b[0m \u001b[38;5;28;01mreturn\u001b[39;00m values\n",
      "\u001b[1;31mValueError\u001b[0m: Must pass 2-d input. shape=()"
     ]
    }
   ],
   "source": [
    "# creating dataframe obejct using dict\n",
    "d={\"sub1\":[\"pyhton\",\"javascript\",\"datascience\"],\"sub2\":[\"html\",\"css\",\"react\"],\"sub3\":[\"oracle\",\"sql\",\"mongodb\"]}\n",
    "a=np.array(d)\n",
    "print(a,type(a))\n",
    "print(a.ndim)\n",
    "df=pd.DataFrame(a)\n",
    "print(df,type(df))"
   ]
  },
  {
   "cell_type": "code",
   "execution_count": null,
   "metadata": {},
   "outputs": [],
   "source": [
    "# you will get the value error \n",
    "# to make txt file to csv file [\"fileName.csv\"] it must be contain with in the double quoted string"
   ]
  },
  {
   "cell_type": "code",
   "execution_count": null,
   "metadata": {},
   "outputs": [
    {
     "name": "stdout",
     "output_type": "stream",
     "text": [
      "   sno   sname  marks\n",
      "0  100  rossum  45.67\n",
      "1  200  travis  56.87\n",
      "2  300  hunter  66.10\n"
     ]
    }
   ],
   "source": [
    "# create an object of dataframe by using csv file\n",
    "#syntax\n",
    "\"\"\" \n",
    "dataframeObj=pandas.read_csv(\"absolute path of csv with double slash\")\n",
    "\"\"\"\n",
    "df=pd.read_csv(\"D:\\\\clone\\\\DataAnalyst_DPK\\\\files\\\\student.csv\")\n",
    "print(df)"
   ]
  },
  {
   "cell_type": "code",
   "execution_count": null,
   "metadata": {},
   "outputs": [
    {
     "data": {
      "text/html": [
       "<div>\n",
       "<style scoped>\n",
       "    .dataframe tbody tr th:only-of-type {\n",
       "        vertical-align: middle;\n",
       "    }\n",
       "\n",
       "    .dataframe tbody tr th {\n",
       "        vertical-align: top;\n",
       "    }\n",
       "\n",
       "    .dataframe thead th {\n",
       "        text-align: right;\n",
       "    }\n",
       "</style>\n",
       "<table border=\"1\" class=\"dataframe\">\n",
       "  <thead>\n",
       "    <tr style=\"text-align: right;\">\n",
       "      <th></th>\n",
       "      <th>sname</th>\n",
       "      <th>marks</th>\n",
       "    </tr>\n",
       "    <tr>\n",
       "      <th>sno</th>\n",
       "      <th></th>\n",
       "      <th></th>\n",
       "    </tr>\n",
       "  </thead>\n",
       "  <tbody>\n",
       "    <tr>\n",
       "      <th>100</th>\n",
       "      <td>rossum</td>\n",
       "      <td>45.67</td>\n",
       "    </tr>\n",
       "    <tr>\n",
       "      <th>200</th>\n",
       "      <td>travis</td>\n",
       "      <td>56.87</td>\n",
       "    </tr>\n",
       "    <tr>\n",
       "      <th>300</th>\n",
       "      <td>hunter</td>\n",
       "      <td>66.10</td>\n",
       "    </tr>\n",
       "  </tbody>\n",
       "</table>\n",
       "</div>"
      ],
      "text/plain": [
       "      sname  marks\n",
       "sno               \n",
       "100  rossum  45.67\n",
       "200  travis  56.87\n",
       "300  hunter  66.10"
      ]
     },
     "execution_count": 193,
     "metadata": {},
     "output_type": "execute_result"
    }
   ],
   "source": [
    "df.set_index(\"sno\")"
   ]
  },
  {
   "cell_type": "markdown",
   "metadata": {},
   "source": [
    "# Attributes of dataframe objects:-\n",
    "1. index\n",
    "2. columns\n",
    "3. dtype\n",
    "4. shape\n",
    "5. size\n",
    "6. ndim\n",
    "7. empty\n",
    "8. T\n",
    "9. values\n",
    "10. axis"
   ]
  },
  {
   "cell_type": "code",
   "execution_count": null,
   "metadata": {},
   "outputs": [],
   "source": [
    "# creating a 2d dictionary\n",
    "\n",
    "data = {\n",
    "    'Name': ['John', 'Anna', 'Peter', 'Linda'],\n",
    "    'Age': [25, 30, 28, 35],\n",
    "    'City': ['New York', 'Paris', 'London', 'Tokyo']\n",
    "}"
   ]
  },
  {
   "cell_type": "code",
   "execution_count": null,
   "metadata": {},
   "outputs": [],
   "source": [
    "# creating a 2d dictionary\n",
    "dict={\"student\":[\"arvind\",\"aryan\",\"travis\",\"rossum\"],\"marks\":[85,78,80,90],\"sports\":[\"cricket\",\"tennis\",\"volleyball\",\"badminton\"]}\n",
    "\n",
    "# creating it into dataframe\n"
   ]
  },
  {
   "cell_type": "code",
   "execution_count": null,
   "metadata": {},
   "outputs": [
    {
     "name": "stdout",
     "output_type": "stream",
     "text": [
      "  student  marks      sports\n",
      "0  arvind     85     cricket\n",
      "1   aryan     78      tennis\n",
      "2  travis     80  volleyball\n",
      "3  rossum     90   badminton\n"
     ]
    }
   ],
   "source": [
    "df=pd.DataFrame(dict)\n",
    "print(df)"
   ]
  },
  {
   "cell_type": "code",
   "execution_count": null,
   "metadata": {},
   "outputs": [
    {
     "name": "stdout",
     "output_type": "stream",
     "text": [
      "RangeIndex(start=0, stop=4, step=1)\n"
     ]
    }
   ],
   "source": [
    "print(df.index)"
   ]
  },
  {
   "cell_type": "code",
   "execution_count": null,
   "metadata": {},
   "outputs": [
    {
     "name": "stdout",
     "output_type": "stream",
     "text": [
      "Index(['student', 'marks', 'sports'], dtype='object')\n"
     ]
    }
   ],
   "source": [
    "# column attribute \n",
    "print(df.columns)"
   ]
  },
  {
   "cell_type": "code",
   "execution_count": null,
   "metadata": {},
   "outputs": [
    {
     "name": "stdout",
     "output_type": "stream",
     "text": [
      "[RangeIndex(start=0, stop=4, step=1), Index(['student', 'marks', 'sports'], dtype='object')]\n"
     ]
    }
   ],
   "source": [
    "print(df.axes)"
   ]
  },
  {
   "cell_type": "code",
   "execution_count": null,
   "metadata": {},
   "outputs": [
    {
     "name": "stdout",
     "output_type": "stream",
     "text": [
      "         sales marketting\n",
      "name    rossum     travis\n",
      "age         67         65\n",
      "gender    male     female\n"
     ]
    }
   ],
   "source": [
    "dict={\"sales\":{\"name\":\"rossum\",\"age\":67,\"gender\":\"male\"},\"marketting\":{\"name\":\"travis\",\"age\":65,\"gender\":\"female\"}}\n",
    "df=pd.DataFrame(dict)\n",
    "print(df)"
   ]
  },
  {
   "cell_type": "code",
   "execution_count": null,
   "metadata": {},
   "outputs": [
    {
     "name": "stdout",
     "output_type": "stream",
     "text": [
      "[Index(['name', 'age', 'gender'], dtype='object'), Index(['sales', 'marketting'], dtype='object')]\n"
     ]
    }
   ],
   "source": [
    "print(df.axes)"
   ]
  },
  {
   "cell_type": "code",
   "execution_count": null,
   "metadata": {},
   "outputs": [],
   "source": [
    "# axes will show you both x-axis and y-axis"
   ]
  },
  {
   "cell_type": "code",
   "execution_count": null,
   "metadata": {},
   "outputs": [
    {
     "name": "stdout",
     "output_type": "stream",
     "text": [
      "              name age  gender\n",
      "sales       rossum  67    male\n",
      "marketting  travis  65  female\n"
     ]
    }
   ],
   "source": [
    "print(df.T)"
   ]
  },
  {
   "cell_type": "markdown",
   "metadata": {},
   "source": [
    "# category data types :~"
   ]
  },
  {
   "cell_type": "code",
   "execution_count": null,
   "metadata": {},
   "outputs": [
    {
     "name": "stdout",
     "output_type": "stream",
     "text": [
      "0    python\n",
      "1      java\n",
      "2    python\n",
      "3       c++\n",
      "4      java\n",
      "5       dsc\n",
      "6       dsc\n",
      "7    python\n",
      "8      java\n",
      "dtype: object <class 'pandas.core.series.Series'>\n"
     ]
    }
   ],
   "source": [
    "import pandas as pd\n",
    "s=pd.Series([\"python\",\"java\",\"python\",\"c++\",\"java\",\"dsc\",\"dsc\",\"python\",\"java\"])\n",
    "print(s,type(s))"
   ]
  },
  {
   "cell_type": "code",
   "execution_count": null,
   "metadata": {},
   "outputs": [
    {
     "name": "stdout",
     "output_type": "stream",
     "text": [
      "0    python\n",
      "1      java\n",
      "2    python\n",
      "3       c++\n",
      "4      java\n",
      "5       dsc\n",
      "6       dsc\n",
      "7    python\n",
      "8      java\n",
      "dtype: category\n",
      "Categories (4, object): ['c++', 'dsc', 'java', 'python'] <class 'pandas.core.series.Series'>\n"
     ]
    }
   ],
   "source": [
    "s=pd.Series([\"python\",\"java\",\"python\",\"c++\",\"java\",\"dsc\",\"dsc\",\"python\",\"java\"],dtype=\"category\")\n",
    "print(s,type(s))"
   ]
  },
  {
   "cell_type": "code",
   "execution_count": null,
   "metadata": {},
   "outputs": [],
   "source": [
    "# dtype=\"category\" will group the dataset"
   ]
  },
  {
   "cell_type": "markdown",
   "metadata": {},
   "source": [
    "# Accessing the data from dataframe:-\n",
    "- dataframeobj[index]\n",
    "- dataframeObj[StartIndex:EndIndex]\n",
    "- dataframeObj[StartIndex:]\n",
    "- dataframeObj[:EndIndex]\n",
    "- dataframeObj[StartIndex:EndIndex:stepIndex]\n",
    "- dataframeObj.head()\n",
    "- dataframeObj.tail()\n",
    "- dataframeObj.iterrows()\n",
    "- dataframeObj.head()\n",
    "- dataframeObj.describe()\n",
    "- dataframeObj.at()\n",
    "- dataframeObj.iat()\n",
    "- dataframeObj.iloc()\n",
    "- dataframeObj.loc()\n"
   ]
  },
  {
   "cell_type": "code",
   "execution_count": null,
   "metadata": {},
   "outputs": [],
   "source": [
    "import pandas as pd\n",
    "import numpy as np\n"
   ]
  },
  {
   "cell_type": "code",
   "execution_count": null,
   "metadata": {},
   "outputs": [
    {
     "ename": "NameError",
     "evalue": "name 'pd' is not defined",
     "output_type": "error",
     "traceback": [
      "\u001b[1;31m---------------------------------------------------------------------------\u001b[0m",
      "\u001b[1;31mNameError\u001b[0m                                 Traceback (most recent call last)",
      "Cell \u001b[1;32mIn[144], line 2\u001b[0m\n\u001b[0;32m      1\u001b[0m \u001b[38;5;66;03m# get the data from student.csv into dataframe\u001b[39;00m\n\u001b[1;32m----> 2\u001b[0m df\u001b[38;5;241m=\u001b[39m \u001b[43mpd\u001b[49m\u001b[38;5;241m.\u001b[39mread_csv(\u001b[38;5;124m\"\u001b[39m\u001b[38;5;124mD:\u001b[39m\u001b[38;5;130;01m\\\\\u001b[39;00m\u001b[38;5;124mclone\u001b[39m\u001b[38;5;130;01m\\\\\u001b[39;00m\u001b[38;5;124mDataAnalyst_DPK\u001b[39m\u001b[38;5;130;01m\\\\\u001b[39;00m\u001b[38;5;124mfiles\u001b[39m\u001b[38;5;130;01m\\\\\u001b[39;00m\u001b[38;5;124mstudent-dataset.csv\u001b[39m\u001b[38;5;124m\"\u001b[39m)\n\u001b[0;32m      3\u001b[0m \u001b[38;5;28mprint\u001b[39m(\u001b[38;5;124m\"\u001b[39m\u001b[38;5;124m=\u001b[39m\u001b[38;5;124m\"\u001b[39m\u001b[38;5;241m*\u001b[39m\u001b[38;5;241m50\u001b[39m)\n\u001b[0;32m      4\u001b[0m \u001b[38;5;28mprint\u001b[39m(df)\n",
      "\u001b[1;31mNameError\u001b[0m: name 'pd' is not defined"
     ]
    }
   ],
   "source": [
    "# get the data from student.csv into dataframe\n",
    "df= pd.read_csv(\"D:\\\\clone\\\\DataAnalyst_DPK\\\\files\\\\student-dataset.csv\")\n",
    "print(\"=\"*50)\n",
    "print(df)\n",
    "print(\"=\"*50)"
   ]
  },
  {
   "cell_type": "code",
   "execution_count": null,
   "metadata": {},
   "outputs": [
    {
     "ename": "NameError",
     "evalue": "name 'df' is not defined",
     "output_type": "error",
     "traceback": [
      "\u001b[1;31m---------------------------------------------------------------------------\u001b[0m",
      "\u001b[1;31mNameError\u001b[0m                                 Traceback (most recent call last)",
      "Cell \u001b[1;32mIn[143], line 2\u001b[0m\n\u001b[0;32m      1\u001b[0m \u001b[38;5;66;03m# column attribute \u001b[39;00m\n\u001b[1;32m----> 2\u001b[0m \u001b[38;5;28mprint\u001b[39m(\u001b[43mdf\u001b[49m\u001b[38;5;241m.\u001b[39mcolumns)\n",
      "\u001b[1;31mNameError\u001b[0m: name 'df' is not defined"
     ]
    }
   ],
   "source": [
    "# column attribute \n",
    "print(df.columns)"
   ]
  },
  {
   "cell_type": "code",
   "execution_count": null,
   "metadata": {},
   "outputs": [
    {
     "data": {
      "text/html": [
       "<div>\n",
       "<style scoped>\n",
       "    .dataframe tbody tr th:only-of-type {\n",
       "        vertical-align: middle;\n",
       "    }\n",
       "\n",
       "    .dataframe tbody tr th {\n",
       "        vertical-align: top;\n",
       "    }\n",
       "\n",
       "    .dataframe thead th {\n",
       "        text-align: right;\n",
       "    }\n",
       "</style>\n",
       "<table border=\"1\" class=\"dataframe\">\n",
       "  <thead>\n",
       "    <tr style=\"text-align: right;\">\n",
       "      <th></th>\n",
       "      <th>id</th>\n",
       "      <th>name</th>\n",
       "      <th>nationality</th>\n",
       "      <th>city</th>\n",
       "      <th>latitude</th>\n",
       "      <th>longitude</th>\n",
       "      <th>gender</th>\n",
       "      <th>ethnic.group</th>\n",
       "      <th>age</th>\n",
       "      <th>english.grade</th>\n",
       "      <th>math.grade</th>\n",
       "      <th>sciences.grade</th>\n",
       "      <th>language.grade</th>\n",
       "      <th>portfolio.rating</th>\n",
       "      <th>coverletter.rating</th>\n",
       "      <th>refletter.rating</th>\n",
       "    </tr>\n",
       "  </thead>\n",
       "  <tbody>\n",
       "    <tr>\n",
       "      <th>0</th>\n",
       "      <td>0</td>\n",
       "      <td>Kiana Lor</td>\n",
       "      <td>China</td>\n",
       "      <td>Suzhou</td>\n",
       "      <td>31.31</td>\n",
       "      <td>120.62</td>\n",
       "      <td>F</td>\n",
       "      <td>NaN</td>\n",
       "      <td>22</td>\n",
       "      <td>3.5</td>\n",
       "      <td>3.7</td>\n",
       "      <td>3.1</td>\n",
       "      <td>1.0</td>\n",
       "      <td>4</td>\n",
       "      <td>4.0</td>\n",
       "      <td>4</td>\n",
       "    </tr>\n",
       "    <tr>\n",
       "      <th>1</th>\n",
       "      <td>1</td>\n",
       "      <td>Joshua Lonaker</td>\n",
       "      <td>United States of America</td>\n",
       "      <td>Santa Clarita</td>\n",
       "      <td>34.39</td>\n",
       "      <td>-118.54</td>\n",
       "      <td>M</td>\n",
       "      <td>NaN</td>\n",
       "      <td>22</td>\n",
       "      <td>2.9</td>\n",
       "      <td>3.2</td>\n",
       "      <td>3.6</td>\n",
       "      <td>5.0</td>\n",
       "      <td>5</td>\n",
       "      <td>4.0</td>\n",
       "      <td>5</td>\n",
       "    </tr>\n",
       "    <tr>\n",
       "      <th>2</th>\n",
       "      <td>2</td>\n",
       "      <td>Dakota Blanco</td>\n",
       "      <td>United States of America</td>\n",
       "      <td>Oakland</td>\n",
       "      <td>37.80</td>\n",
       "      <td>-122.27</td>\n",
       "      <td>F</td>\n",
       "      <td>NaN</td>\n",
       "      <td>22</td>\n",
       "      <td>3.9</td>\n",
       "      <td>3.8</td>\n",
       "      <td>3.2</td>\n",
       "      <td>5.0</td>\n",
       "      <td>3</td>\n",
       "      <td>3.0</td>\n",
       "      <td>4</td>\n",
       "    </tr>\n",
       "    <tr>\n",
       "      <th>3</th>\n",
       "      <td>3</td>\n",
       "      <td>Natasha Yarusso</td>\n",
       "      <td>United States of America</td>\n",
       "      <td>Castro Valley</td>\n",
       "      <td>37.69</td>\n",
       "      <td>-122.09</td>\n",
       "      <td>F</td>\n",
       "      <td>NaN</td>\n",
       "      <td>20</td>\n",
       "      <td>3.3</td>\n",
       "      <td>2.8</td>\n",
       "      <td>3.2</td>\n",
       "      <td>5.0</td>\n",
       "      <td>5</td>\n",
       "      <td>2.0</td>\n",
       "      <td>4</td>\n",
       "    </tr>\n",
       "    <tr>\n",
       "      <th>4</th>\n",
       "      <td>4</td>\n",
       "      <td>Brooke Cazares</td>\n",
       "      <td>Brazil</td>\n",
       "      <td>São José dos Campos</td>\n",
       "      <td>-23.18</td>\n",
       "      <td>-45.88</td>\n",
       "      <td>F</td>\n",
       "      <td>NaN</td>\n",
       "      <td>21</td>\n",
       "      <td>3.7</td>\n",
       "      <td>2.6</td>\n",
       "      <td>3.4</td>\n",
       "      <td>1.0</td>\n",
       "      <td>4</td>\n",
       "      <td>4.0</td>\n",
       "      <td>5</td>\n",
       "    </tr>\n",
       "  </tbody>\n",
       "</table>\n",
       "</div>"
      ],
      "text/plain": [
       "   id             name               nationality                 city  \\\n",
       "0   0        Kiana Lor                     China               Suzhou   \n",
       "1   1   Joshua Lonaker  United States of America        Santa Clarita   \n",
       "2   2    Dakota Blanco  United States of America              Oakland   \n",
       "3   3  Natasha Yarusso  United States of America        Castro Valley   \n",
       "4   4   Brooke Cazares                    Brazil  São José dos Campos   \n",
       "\n",
       "   latitude  longitude gender  ethnic.group  age  english.grade  math.grade  \\\n",
       "0     31.31     120.62      F           NaN   22            3.5         3.7   \n",
       "1     34.39    -118.54      M           NaN   22            2.9         3.2   \n",
       "2     37.80    -122.27      F           NaN   22            3.9         3.8   \n",
       "3     37.69    -122.09      F           NaN   20            3.3         2.8   \n",
       "4    -23.18     -45.88      F           NaN   21            3.7         2.6   \n",
       "\n",
       "   sciences.grade  language.grade  portfolio.rating  coverletter.rating  \\\n",
       "0             3.1             1.0                 4                 4.0   \n",
       "1             3.6             5.0                 5                 4.0   \n",
       "2             3.2             5.0                 3                 3.0   \n",
       "3             3.2             5.0                 5                 2.0   \n",
       "4             3.4             1.0                 4                 4.0   \n",
       "\n",
       "   refletter.rating  \n",
       "0                 4  \n",
       "1                 5  \n",
       "2                 4  \n",
       "3                 4  \n",
       "4                 5  "
      ]
     },
     "execution_count": 448,
     "metadata": {},
     "output_type": "execute_result"
    }
   ],
   "source": [
    "df.head()\n",
    "# obtain the first five records / rows from datatframe"
   ]
  },
  {
   "cell_type": "code",
   "execution_count": null,
   "metadata": {},
   "outputs": [
    {
     "data": {
      "text/html": [
       "<div>\n",
       "<style scoped>\n",
       "    .dataframe tbody tr th:only-of-type {\n",
       "        vertical-align: middle;\n",
       "    }\n",
       "\n",
       "    .dataframe tbody tr th {\n",
       "        vertical-align: top;\n",
       "    }\n",
       "\n",
       "    .dataframe thead th {\n",
       "        text-align: right;\n",
       "    }\n",
       "</style>\n",
       "<table border=\"1\" class=\"dataframe\">\n",
       "  <thead>\n",
       "    <tr style=\"text-align: right;\">\n",
       "      <th></th>\n",
       "      <th>id</th>\n",
       "      <th>name</th>\n",
       "      <th>nationality</th>\n",
       "      <th>city</th>\n",
       "      <th>latitude</th>\n",
       "      <th>longitude</th>\n",
       "      <th>gender</th>\n",
       "      <th>ethnic.group</th>\n",
       "      <th>age</th>\n",
       "      <th>english.grade</th>\n",
       "      <th>math.grade</th>\n",
       "      <th>sciences.grade</th>\n",
       "      <th>language.grade</th>\n",
       "      <th>portfolio.rating</th>\n",
       "      <th>coverletter.rating</th>\n",
       "      <th>refletter.rating</th>\n",
       "    </tr>\n",
       "  </thead>\n",
       "  <tbody>\n",
       "    <tr>\n",
       "      <th>302</th>\n",
       "      <td>302</td>\n",
       "      <td>Austin Haas</td>\n",
       "      <td>United States of America</td>\n",
       "      <td>Columbus</td>\n",
       "      <td>39.96</td>\n",
       "      <td>-83.00</td>\n",
       "      <td>M</td>\n",
       "      <td>NaN</td>\n",
       "      <td>20</td>\n",
       "      <td>3.6</td>\n",
       "      <td>3.7</td>\n",
       "      <td>3.1</td>\n",
       "      <td>5.0</td>\n",
       "      <td>4</td>\n",
       "      <td>5.0</td>\n",
       "      <td>5</td>\n",
       "    </tr>\n",
       "    <tr>\n",
       "      <th>303</th>\n",
       "      <td>303</td>\n",
       "      <td>Madison Fithian</td>\n",
       "      <td>United States of America</td>\n",
       "      <td>Los Angeles</td>\n",
       "      <td>34.05</td>\n",
       "      <td>-118.24</td>\n",
       "      <td>F</td>\n",
       "      <td>NaN</td>\n",
       "      <td>20</td>\n",
       "      <td>3.6</td>\n",
       "      <td>3.9</td>\n",
       "      <td>4.0</td>\n",
       "      <td>5.0</td>\n",
       "      <td>5</td>\n",
       "      <td>5.0</td>\n",
       "      <td>3</td>\n",
       "    </tr>\n",
       "    <tr>\n",
       "      <th>304</th>\n",
       "      <td>304</td>\n",
       "      <td>Zachary Mulvahill</td>\n",
       "      <td>United States of America</td>\n",
       "      <td>Los Angeles</td>\n",
       "      <td>34.05</td>\n",
       "      <td>-118.24</td>\n",
       "      <td>M</td>\n",
       "      <td>NaN</td>\n",
       "      <td>20</td>\n",
       "      <td>3.2</td>\n",
       "      <td>3.4</td>\n",
       "      <td>3.9</td>\n",
       "      <td>5.0</td>\n",
       "      <td>5</td>\n",
       "      <td>5.0</td>\n",
       "      <td>3</td>\n",
       "    </tr>\n",
       "    <tr>\n",
       "      <th>305</th>\n",
       "      <td>305</td>\n",
       "      <td>Eliana Michelsen</td>\n",
       "      <td>United States of America</td>\n",
       "      <td>Oakland</td>\n",
       "      <td>37.80</td>\n",
       "      <td>-122.27</td>\n",
       "      <td>F</td>\n",
       "      <td>NaN</td>\n",
       "      <td>23</td>\n",
       "      <td>3.0</td>\n",
       "      <td>2.8</td>\n",
       "      <td>2.9</td>\n",
       "      <td>5.0</td>\n",
       "      <td>4</td>\n",
       "      <td>4.0</td>\n",
       "      <td>5</td>\n",
       "    </tr>\n",
       "    <tr>\n",
       "      <th>306</th>\n",
       "      <td>306</td>\n",
       "      <td>Dane Whittemore</td>\n",
       "      <td>Canada</td>\n",
       "      <td>Toronto</td>\n",
       "      <td>43.67</td>\n",
       "      <td>-79.42</td>\n",
       "      <td>M</td>\n",
       "      <td>NaN</td>\n",
       "      <td>21</td>\n",
       "      <td>3.8</td>\n",
       "      <td>3.2</td>\n",
       "      <td>4.0</td>\n",
       "      <td>5.0</td>\n",
       "      <td>5</td>\n",
       "      <td>4.0</td>\n",
       "      <td>5</td>\n",
       "    </tr>\n",
       "  </tbody>\n",
       "</table>\n",
       "</div>"
      ],
      "text/plain": [
       "      id               name               nationality         city  latitude  \\\n",
       "302  302        Austin Haas  United States of America     Columbus     39.96   \n",
       "303  303    Madison Fithian  United States of America  Los Angeles     34.05   \n",
       "304  304  Zachary Mulvahill  United States of America  Los Angeles     34.05   \n",
       "305  305   Eliana Michelsen  United States of America      Oakland     37.80   \n",
       "306  306    Dane Whittemore                    Canada      Toronto     43.67   \n",
       "\n",
       "     longitude gender  ethnic.group  age  english.grade  math.grade  \\\n",
       "302     -83.00      M           NaN   20            3.6         3.7   \n",
       "303    -118.24      F           NaN   20            3.6         3.9   \n",
       "304    -118.24      M           NaN   20            3.2         3.4   \n",
       "305    -122.27      F           NaN   23            3.0         2.8   \n",
       "306     -79.42      M           NaN   21            3.8         3.2   \n",
       "\n",
       "     sciences.grade  language.grade  portfolio.rating  coverletter.rating  \\\n",
       "302             3.1             5.0                 4                 5.0   \n",
       "303             4.0             5.0                 5                 5.0   \n",
       "304             3.9             5.0                 5                 5.0   \n",
       "305             2.9             5.0                 4                 4.0   \n",
       "306             4.0             5.0                 5                 4.0   \n",
       "\n",
       "     refletter.rating  \n",
       "302                 5  \n",
       "303                 3  \n",
       "304                 3  \n",
       "305                 5  \n",
       "306                 5  "
      ]
     },
     "execution_count": 449,
     "metadata": {},
     "output_type": "execute_result"
    }
   ],
   "source": [
    "df.tail()\n",
    "# obtain the last five records / rows from datatframe"
   ]
  },
  {
   "cell_type": "code",
   "execution_count": null,
   "metadata": {},
   "outputs": [
    {
     "data": {
      "text/html": [
       "<div>\n",
       "<style scoped>\n",
       "    .dataframe tbody tr th:only-of-type {\n",
       "        vertical-align: middle;\n",
       "    }\n",
       "\n",
       "    .dataframe tbody tr th {\n",
       "        vertical-align: top;\n",
       "    }\n",
       "\n",
       "    .dataframe thead th {\n",
       "        text-align: right;\n",
       "    }\n",
       "</style>\n",
       "<table border=\"1\" class=\"dataframe\">\n",
       "  <thead>\n",
       "    <tr style=\"text-align: right;\">\n",
       "      <th></th>\n",
       "      <th>id</th>\n",
       "      <th>name</th>\n",
       "      <th>nationality</th>\n",
       "      <th>city</th>\n",
       "      <th>latitude</th>\n",
       "      <th>longitude</th>\n",
       "      <th>gender</th>\n",
       "      <th>ethnic.group</th>\n",
       "      <th>age</th>\n",
       "      <th>english.grade</th>\n",
       "      <th>math.grade</th>\n",
       "      <th>sciences.grade</th>\n",
       "      <th>language.grade</th>\n",
       "      <th>portfolio.rating</th>\n",
       "      <th>coverletter.rating</th>\n",
       "      <th>refletter.rating</th>\n",
       "    </tr>\n",
       "  </thead>\n",
       "  <tbody>\n",
       "    <tr>\n",
       "      <th>0</th>\n",
       "      <td>0</td>\n",
       "      <td>Kiana Lor</td>\n",
       "      <td>China</td>\n",
       "      <td>Suzhou</td>\n",
       "      <td>31.31</td>\n",
       "      <td>120.62</td>\n",
       "      <td>F</td>\n",
       "      <td>NaN</td>\n",
       "      <td>22</td>\n",
       "      <td>3.5</td>\n",
       "      <td>3.7</td>\n",
       "      <td>3.1</td>\n",
       "      <td>1.0</td>\n",
       "      <td>4</td>\n",
       "      <td>4.0</td>\n",
       "      <td>4</td>\n",
       "    </tr>\n",
       "    <tr>\n",
       "      <th>1</th>\n",
       "      <td>1</td>\n",
       "      <td>Joshua Lonaker</td>\n",
       "      <td>United States of America</td>\n",
       "      <td>Santa Clarita</td>\n",
       "      <td>34.39</td>\n",
       "      <td>-118.54</td>\n",
       "      <td>M</td>\n",
       "      <td>NaN</td>\n",
       "      <td>22</td>\n",
       "      <td>2.9</td>\n",
       "      <td>3.2</td>\n",
       "      <td>3.6</td>\n",
       "      <td>5.0</td>\n",
       "      <td>5</td>\n",
       "      <td>4.0</td>\n",
       "      <td>5</td>\n",
       "    </tr>\n",
       "    <tr>\n",
       "      <th>2</th>\n",
       "      <td>2</td>\n",
       "      <td>Dakota Blanco</td>\n",
       "      <td>United States of America</td>\n",
       "      <td>Oakland</td>\n",
       "      <td>37.80</td>\n",
       "      <td>-122.27</td>\n",
       "      <td>F</td>\n",
       "      <td>NaN</td>\n",
       "      <td>22</td>\n",
       "      <td>3.9</td>\n",
       "      <td>3.8</td>\n",
       "      <td>3.2</td>\n",
       "      <td>5.0</td>\n",
       "      <td>3</td>\n",
       "      <td>3.0</td>\n",
       "      <td>4</td>\n",
       "    </tr>\n",
       "  </tbody>\n",
       "</table>\n",
       "</div>"
      ],
      "text/plain": [
       "   id            name               nationality           city  latitude  \\\n",
       "0   0       Kiana Lor                     China         Suzhou     31.31   \n",
       "1   1  Joshua Lonaker  United States of America  Santa Clarita     34.39   \n",
       "2   2   Dakota Blanco  United States of America        Oakland     37.80   \n",
       "\n",
       "   longitude gender  ethnic.group  age  english.grade  math.grade  \\\n",
       "0     120.62      F           NaN   22            3.5         3.7   \n",
       "1    -118.54      M           NaN   22            2.9         3.2   \n",
       "2    -122.27      F           NaN   22            3.9         3.8   \n",
       "\n",
       "   sciences.grade  language.grade  portfolio.rating  coverletter.rating  \\\n",
       "0             3.1             1.0                 4                 4.0   \n",
       "1             3.6             5.0                 5                 4.0   \n",
       "2             3.2             5.0                 3                 3.0   \n",
       "\n",
       "   refletter.rating  \n",
       "0                 4  \n",
       "1                 5  \n",
       "2                 4  "
      ]
     },
     "execution_count": 450,
     "metadata": {},
     "output_type": "execute_result"
    }
   ],
   "source": [
    "df.head(3)\n",
    "# to get the first three record"
   ]
  },
  {
   "cell_type": "code",
   "execution_count": null,
   "metadata": {},
   "outputs": [
    {
     "data": {
      "text/html": [
       "<div>\n",
       "<style scoped>\n",
       "    .dataframe tbody tr th:only-of-type {\n",
       "        vertical-align: middle;\n",
       "    }\n",
       "\n",
       "    .dataframe tbody tr th {\n",
       "        vertical-align: top;\n",
       "    }\n",
       "\n",
       "    .dataframe thead th {\n",
       "        text-align: right;\n",
       "    }\n",
       "</style>\n",
       "<table border=\"1\" class=\"dataframe\">\n",
       "  <thead>\n",
       "    <tr style=\"text-align: right;\">\n",
       "      <th></th>\n",
       "      <th>id</th>\n",
       "      <th>latitude</th>\n",
       "      <th>longitude</th>\n",
       "      <th>ethnic.group</th>\n",
       "      <th>age</th>\n",
       "      <th>english.grade</th>\n",
       "      <th>math.grade</th>\n",
       "      <th>sciences.grade</th>\n",
       "      <th>language.grade</th>\n",
       "      <th>portfolio.rating</th>\n",
       "      <th>coverletter.rating</th>\n",
       "      <th>refletter.rating</th>\n",
       "    </tr>\n",
       "  </thead>\n",
       "  <tbody>\n",
       "    <tr>\n",
       "      <th>count</th>\n",
       "      <td>307.000000</td>\n",
       "      <td>307.000000</td>\n",
       "      <td>307.000000</td>\n",
       "      <td>0.0</td>\n",
       "      <td>307.000000</td>\n",
       "      <td>307.000000</td>\n",
       "      <td>307.000000</td>\n",
       "      <td>307.000000</td>\n",
       "      <td>307.000000</td>\n",
       "      <td>307.000000</td>\n",
       "      <td>307.000000</td>\n",
       "      <td>307.000000</td>\n",
       "    </tr>\n",
       "    <tr>\n",
       "      <th>mean</th>\n",
       "      <td>153.000000</td>\n",
       "      <td>32.863388</td>\n",
       "      <td>-64.539121</td>\n",
       "      <td>NaN</td>\n",
       "      <td>21.964169</td>\n",
       "      <td>3.369707</td>\n",
       "      <td>3.414332</td>\n",
       "      <td>3.446580</td>\n",
       "      <td>4.396417</td>\n",
       "      <td>3.986971</td>\n",
       "      <td>4.110749</td>\n",
       "      <td>4.188925</td>\n",
       "    </tr>\n",
       "    <tr>\n",
       "      <th>std</th>\n",
       "      <td>88.767487</td>\n",
       "      <td>13.498582</td>\n",
       "      <td>81.249146</td>\n",
       "      <td>NaN</td>\n",
       "      <td>1.248013</td>\n",
       "      <td>0.538724</td>\n",
       "      <td>0.476839</td>\n",
       "      <td>0.509081</td>\n",
       "      <td>0.996474</td>\n",
       "      <td>0.928749</td>\n",
       "      <td>0.823936</td>\n",
       "      <td>0.842193</td>\n",
       "    </tr>\n",
       "    <tr>\n",
       "      <th>min</th>\n",
       "      <td>0.000000</td>\n",
       "      <td>-33.450000</td>\n",
       "      <td>-123.130000</td>\n",
       "      <td>NaN</td>\n",
       "      <td>19.000000</td>\n",
       "      <td>1.500000</td>\n",
       "      <td>2.100000</td>\n",
       "      <td>1.400000</td>\n",
       "      <td>1.000000</td>\n",
       "      <td>1.000000</td>\n",
       "      <td>1.000000</td>\n",
       "      <td>1.000000</td>\n",
       "    </tr>\n",
       "    <tr>\n",
       "      <th>25%</th>\n",
       "      <td>76.500000</td>\n",
       "      <td>32.720000</td>\n",
       "      <td>-118.240000</td>\n",
       "      <td>NaN</td>\n",
       "      <td>21.000000</td>\n",
       "      <td>3.100000</td>\n",
       "      <td>3.100000</td>\n",
       "      <td>3.200000</td>\n",
       "      <td>4.000000</td>\n",
       "      <td>3.500000</td>\n",
       "      <td>4.000000</td>\n",
       "      <td>4.000000</td>\n",
       "    </tr>\n",
       "    <tr>\n",
       "      <th>50%</th>\n",
       "      <td>153.000000</td>\n",
       "      <td>34.390000</td>\n",
       "      <td>-99.140000</td>\n",
       "      <td>NaN</td>\n",
       "      <td>22.000000</td>\n",
       "      <td>3.500000</td>\n",
       "      <td>3.500000</td>\n",
       "      <td>3.600000</td>\n",
       "      <td>5.000000</td>\n",
       "      <td>4.000000</td>\n",
       "      <td>4.000000</td>\n",
       "      <td>4.000000</td>\n",
       "    </tr>\n",
       "    <tr>\n",
       "      <th>75%</th>\n",
       "      <td>229.500000</td>\n",
       "      <td>38.960000</td>\n",
       "      <td>-73.855000</td>\n",
       "      <td>NaN</td>\n",
       "      <td>23.000000</td>\n",
       "      <td>3.800000</td>\n",
       "      <td>3.800000</td>\n",
       "      <td>3.800000</td>\n",
       "      <td>5.000000</td>\n",
       "      <td>5.000000</td>\n",
       "      <td>5.000000</td>\n",
       "      <td>5.000000</td>\n",
       "    </tr>\n",
       "    <tr>\n",
       "      <th>max</th>\n",
       "      <td>306.000000</td>\n",
       "      <td>59.890000</td>\n",
       "      <td>139.750000</td>\n",
       "      <td>NaN</td>\n",
       "      <td>26.000000</td>\n",
       "      <td>4.000000</td>\n",
       "      <td>4.000000</td>\n",
       "      <td>4.000000</td>\n",
       "      <td>5.000000</td>\n",
       "      <td>5.000000</td>\n",
       "      <td>5.000000</td>\n",
       "      <td>5.000000</td>\n",
       "    </tr>\n",
       "  </tbody>\n",
       "</table>\n",
       "</div>"
      ],
      "text/plain": [
       "               id    latitude   longitude  ethnic.group         age  \\\n",
       "count  307.000000  307.000000  307.000000           0.0  307.000000   \n",
       "mean   153.000000   32.863388  -64.539121           NaN   21.964169   \n",
       "std     88.767487   13.498582   81.249146           NaN    1.248013   \n",
       "min      0.000000  -33.450000 -123.130000           NaN   19.000000   \n",
       "25%     76.500000   32.720000 -118.240000           NaN   21.000000   \n",
       "50%    153.000000   34.390000  -99.140000           NaN   22.000000   \n",
       "75%    229.500000   38.960000  -73.855000           NaN   23.000000   \n",
       "max    306.000000   59.890000  139.750000           NaN   26.000000   \n",
       "\n",
       "       english.grade  math.grade  sciences.grade  language.grade  \\\n",
       "count     307.000000  307.000000      307.000000      307.000000   \n",
       "mean        3.369707    3.414332        3.446580        4.396417   \n",
       "std         0.538724    0.476839        0.509081        0.996474   \n",
       "min         1.500000    2.100000        1.400000        1.000000   \n",
       "25%         3.100000    3.100000        3.200000        4.000000   \n",
       "50%         3.500000    3.500000        3.600000        5.000000   \n",
       "75%         3.800000    3.800000        3.800000        5.000000   \n",
       "max         4.000000    4.000000        4.000000        5.000000   \n",
       "\n",
       "       portfolio.rating  coverletter.rating  refletter.rating  \n",
       "count        307.000000          307.000000        307.000000  \n",
       "mean           3.986971            4.110749          4.188925  \n",
       "std            0.928749            0.823936          0.842193  \n",
       "min            1.000000            1.000000          1.000000  \n",
       "25%            3.500000            4.000000          4.000000  \n",
       "50%            4.000000            4.000000          4.000000  \n",
       "75%            5.000000            5.000000          5.000000  \n",
       "max            5.000000            5.000000          5.000000  "
      ]
     },
     "execution_count": 451,
     "metadata": {},
     "output_type": "execute_result"
    }
   ],
   "source": [
    "df.describe()\n",
    "# this function give the statistical summary of the dataframe"
   ]
  },
  {
   "cell_type": "code",
   "execution_count": null,
   "metadata": {},
   "outputs": [
    {
     "data": {
      "text/plain": [
       "(307, 16)"
      ]
     },
     "execution_count": 452,
     "metadata": {},
     "output_type": "execute_result"
    }
   ],
   "source": [
    "df.shape\n",
    "# it will give you the row and column count of the dataframe"
   ]
  },
  {
   "cell_type": "code",
   "execution_count": null,
   "metadata": {},
   "outputs": [
    {
     "data": {
      "text/plain": [
       "Index(['id', 'name', 'nationality', 'city', 'latitude', 'longitude', 'gender',\n",
       "       'ethnic.group', 'age', 'english.grade', 'math.grade', 'sciences.grade',\n",
       "       'language.grade', 'portfolio.rating', 'coverletter.rating',\n",
       "       'refletter.rating'],\n",
       "      dtype='object')"
      ]
     },
     "execution_count": 453,
     "metadata": {},
     "output_type": "execute_result"
    }
   ],
   "source": [
    "# obtain the column\n",
    "df.columns"
   ]
  },
  {
   "cell_type": "code",
   "execution_count": null,
   "metadata": {},
   "outputs": [
    {
     "data": {
      "text/plain": [
       "307"
      ]
     },
     "execution_count": 454,
     "metadata": {},
     "output_type": "execute_result"
    }
   ],
   "source": [
    "# obtain the row\n",
    "df.shape[0]"
   ]
  },
  {
   "cell_type": "code",
   "execution_count": null,
   "metadata": {},
   "outputs": [
    {
     "data": {
      "text/plain": [
       "16"
      ]
     },
     "execution_count": 455,
     "metadata": {},
     "output_type": "execute_result"
    }
   ],
   "source": [
    "# obtain the column\n",
    "df.shape[1]"
   ]
  },
  {
   "cell_type": "code",
   "execution_count": null,
   "metadata": {},
   "outputs": [
    {
     "data": {
      "text/plain": [
       "RangeIndex(start=0, stop=307, step=1)"
      ]
     },
     "execution_count": 456,
     "metadata": {},
     "output_type": "execute_result"
    }
   ],
   "source": [
    "df.index"
   ]
  },
  {
   "cell_type": "code",
   "execution_count": null,
   "metadata": {},
   "outputs": [
    {
     "data": {
      "text/html": [
       "<div>\n",
       "<style scoped>\n",
       "    .dataframe tbody tr th:only-of-type {\n",
       "        vertical-align: middle;\n",
       "    }\n",
       "\n",
       "    .dataframe tbody tr th {\n",
       "        vertical-align: top;\n",
       "    }\n",
       "\n",
       "    .dataframe thead th {\n",
       "        text-align: right;\n",
       "    }\n",
       "</style>\n",
       "<table border=\"1\" class=\"dataframe\">\n",
       "  <thead>\n",
       "    <tr style=\"text-align: right;\">\n",
       "      <th></th>\n",
       "      <th>id</th>\n",
       "      <th>name</th>\n",
       "      <th>nationality</th>\n",
       "      <th>city</th>\n",
       "      <th>latitude</th>\n",
       "      <th>longitude</th>\n",
       "      <th>gender</th>\n",
       "      <th>ethnic.group</th>\n",
       "      <th>age</th>\n",
       "      <th>english.grade</th>\n",
       "      <th>math.grade</th>\n",
       "      <th>sciences.grade</th>\n",
       "      <th>language.grade</th>\n",
       "      <th>portfolio.rating</th>\n",
       "      <th>coverletter.rating</th>\n",
       "      <th>refletter.rating</th>\n",
       "    </tr>\n",
       "  </thead>\n",
       "  <tbody>\n",
       "    <tr>\n",
       "      <th>4</th>\n",
       "      <td>4</td>\n",
       "      <td>Brooke Cazares</td>\n",
       "      <td>Brazil</td>\n",
       "      <td>São José dos Campos</td>\n",
       "      <td>-23.18</td>\n",
       "      <td>-45.88</td>\n",
       "      <td>F</td>\n",
       "      <td>NaN</td>\n",
       "      <td>21</td>\n",
       "      <td>3.7</td>\n",
       "      <td>2.6</td>\n",
       "      <td>3.4</td>\n",
       "      <td>1.0</td>\n",
       "      <td>4</td>\n",
       "      <td>4.0</td>\n",
       "      <td>5</td>\n",
       "    </tr>\n",
       "    <tr>\n",
       "      <th>6</th>\n",
       "      <td>6</td>\n",
       "      <td>Joey Abreu</td>\n",
       "      <td>China</td>\n",
       "      <td>Shenyang</td>\n",
       "      <td>41.79</td>\n",
       "      <td>123.43</td>\n",
       "      <td>M</td>\n",
       "      <td>NaN</td>\n",
       "      <td>22</td>\n",
       "      <td>3.7</td>\n",
       "      <td>3.9</td>\n",
       "      <td>3.6</td>\n",
       "      <td>2.0</td>\n",
       "      <td>5</td>\n",
       "      <td>5.0</td>\n",
       "      <td>5</td>\n",
       "    </tr>\n",
       "    <tr>\n",
       "      <th>8</th>\n",
       "      <td>8</td>\n",
       "      <td>Lee Dong</td>\n",
       "      <td>Philippines</td>\n",
       "      <td>Manila</td>\n",
       "      <td>14.60</td>\n",
       "      <td>120.98</td>\n",
       "      <td>F</td>\n",
       "      <td>NaN</td>\n",
       "      <td>24</td>\n",
       "      <td>3.9</td>\n",
       "      <td>3.6</td>\n",
       "      <td>3.2</td>\n",
       "      <td>2.0</td>\n",
       "      <td>4</td>\n",
       "      <td>3.0</td>\n",
       "      <td>5</td>\n",
       "    </tr>\n",
       "  </tbody>\n",
       "</table>\n",
       "</div>"
      ],
      "text/plain": [
       "   id            name  nationality                 city  latitude  longitude  \\\n",
       "4   4  Brooke Cazares       Brazil  São José dos Campos    -23.18     -45.88   \n",
       "6   6      Joey Abreu        China             Shenyang     41.79     123.43   \n",
       "8   8        Lee Dong  Philippines               Manila     14.60     120.98   \n",
       "\n",
       "  gender  ethnic.group  age  english.grade  math.grade  sciences.grade  \\\n",
       "4      F           NaN   21            3.7         2.6             3.4   \n",
       "6      M           NaN   22            3.7         3.9             3.6   \n",
       "8      F           NaN   24            3.9         3.6             3.2   \n",
       "\n",
       "   language.grade  portfolio.rating  coverletter.rating  refletter.rating  \n",
       "4             1.0                 4                 4.0                 5  \n",
       "6             2.0                 5                 5.0                 5  \n",
       "8             2.0                 4                 3.0                 5  "
      ]
     },
     "execution_count": 457,
     "metadata": {},
     "output_type": "execute_result"
    }
   ],
   "source": [
    "df1=df[4:10:2]\n",
    "df1"
   ]
  },
  {
   "cell_type": "code",
   "execution_count": null,
   "metadata": {},
   "outputs": [
    {
     "data": {
      "text/html": [
       "<div>\n",
       "<style scoped>\n",
       "    .dataframe tbody tr th:only-of-type {\n",
       "        vertical-align: middle;\n",
       "    }\n",
       "\n",
       "    .dataframe tbody tr th {\n",
       "        vertical-align: top;\n",
       "    }\n",
       "\n",
       "    .dataframe thead th {\n",
       "        text-align: right;\n",
       "    }\n",
       "</style>\n",
       "<table border=\"1\" class=\"dataframe\">\n",
       "  <thead>\n",
       "    <tr style=\"text-align: right;\">\n",
       "      <th></th>\n",
       "      <th>id</th>\n",
       "      <th>name</th>\n",
       "      <th>nationality</th>\n",
       "      <th>city</th>\n",
       "      <th>latitude</th>\n",
       "      <th>longitude</th>\n",
       "      <th>gender</th>\n",
       "      <th>ethnic.group</th>\n",
       "      <th>age</th>\n",
       "      <th>english.grade</th>\n",
       "      <th>math.grade</th>\n",
       "      <th>sciences.grade</th>\n",
       "      <th>language.grade</th>\n",
       "      <th>portfolio.rating</th>\n",
       "      <th>coverletter.rating</th>\n",
       "      <th>refletter.rating</th>\n",
       "    </tr>\n",
       "  </thead>\n",
       "  <tbody>\n",
       "    <tr>\n",
       "      <th>153</th>\n",
       "      <td>153</td>\n",
       "      <td>Jenna Whitney</td>\n",
       "      <td>United States of America</td>\n",
       "      <td>San Diego</td>\n",
       "      <td>32.72</td>\n",
       "      <td>-117.16</td>\n",
       "      <td>F</td>\n",
       "      <td>NaN</td>\n",
       "      <td>23</td>\n",
       "      <td>3.7</td>\n",
       "      <td>2.9</td>\n",
       "      <td>3.9</td>\n",
       "      <td>5.0</td>\n",
       "      <td>3</td>\n",
       "      <td>4.0</td>\n",
       "      <td>5</td>\n",
       "    </tr>\n",
       "  </tbody>\n",
       "</table>\n",
       "</div>"
      ],
      "text/plain": [
       "      id           name               nationality       city  latitude  \\\n",
       "153  153  Jenna Whitney  United States of America  San Diego     32.72   \n",
       "\n",
       "     longitude gender  ethnic.group  age  english.grade  math.grade  \\\n",
       "153    -117.16      F           NaN   23            3.7         2.9   \n",
       "\n",
       "     sciences.grade  language.grade  portfolio.rating  coverletter.rating  \\\n",
       "153             3.9             5.0                 3                 4.0   \n",
       "\n",
       "     refletter.rating  \n",
       "153                 5  "
      ]
     },
     "execution_count": 458,
     "metadata": {},
     "output_type": "execute_result"
    }
   ],
   "source": [
    "# to get the center of the dataframe\n",
    "df[len(df)//2:len(df)//2+1]"
   ]
  },
  {
   "cell_type": "code",
   "execution_count": null,
   "metadata": {},
   "outputs": [],
   "source": [
    "# extract the data based on column name\n"
   ]
  },
  {
   "cell_type": "code",
   "execution_count": null,
   "metadata": {},
   "outputs": [
    {
     "data": {
      "text/plain": [
       "0              Kiana Lor\n",
       "1         Joshua Lonaker\n",
       "2          Dakota Blanco\n",
       "3        Natasha Yarusso\n",
       "4         Brooke Cazares\n",
       "             ...        \n",
       "302          Austin Haas\n",
       "303      Madison Fithian\n",
       "304    Zachary Mulvahill\n",
       "305     Eliana Michelsen\n",
       "306      Dane Whittemore\n",
       "Name: name, Length: 307, dtype: object"
      ]
     },
     "execution_count": 460,
     "metadata": {},
     "output_type": "execute_result"
    }
   ],
   "source": [
    "# get the names\n",
    "df['name']"
   ]
  },
  {
   "cell_type": "code",
   "execution_count": null,
   "metadata": {},
   "outputs": [],
   "source": [
    "seriesObj=df['name']"
   ]
  },
  {
   "cell_type": "code",
   "execution_count": null,
   "metadata": {},
   "outputs": [
    {
     "name": "stdout",
     "output_type": "stream",
     "text": [
      "0              Kiana Lor\n",
      "1         Joshua Lonaker\n",
      "2          Dakota Blanco\n",
      "3        Natasha Yarusso\n",
      "4         Brooke Cazares\n",
      "             ...        \n",
      "302          Austin Haas\n",
      "303      Madison Fithian\n",
      "304    Zachary Mulvahill\n",
      "305     Eliana Michelsen\n",
      "306      Dane Whittemore\n",
      "Name: name, Length: 307, dtype: object\n"
     ]
    }
   ],
   "source": [
    "print(seriesObj)"
   ]
  },
  {
   "cell_type": "code",
   "execution_count": null,
   "metadata": {},
   "outputs": [
    {
     "data": {
      "text/html": [
       "<div>\n",
       "<style scoped>\n",
       "    .dataframe tbody tr th:only-of-type {\n",
       "        vertical-align: middle;\n",
       "    }\n",
       "\n",
       "    .dataframe tbody tr th {\n",
       "        vertical-align: top;\n",
       "    }\n",
       "\n",
       "    .dataframe thead th {\n",
       "        text-align: right;\n",
       "    }\n",
       "</style>\n",
       "<table border=\"1\" class=\"dataframe\">\n",
       "  <thead>\n",
       "    <tr style=\"text-align: right;\">\n",
       "      <th></th>\n",
       "      <th>name</th>\n",
       "      <th>age</th>\n",
       "    </tr>\n",
       "  </thead>\n",
       "  <tbody>\n",
       "    <tr>\n",
       "      <th>0</th>\n",
       "      <td>Kiana Lor</td>\n",
       "      <td>22</td>\n",
       "    </tr>\n",
       "    <tr>\n",
       "      <th>1</th>\n",
       "      <td>Joshua Lonaker</td>\n",
       "      <td>22</td>\n",
       "    </tr>\n",
       "    <tr>\n",
       "      <th>2</th>\n",
       "      <td>Dakota Blanco</td>\n",
       "      <td>22</td>\n",
       "    </tr>\n",
       "    <tr>\n",
       "      <th>3</th>\n",
       "      <td>Natasha Yarusso</td>\n",
       "      <td>20</td>\n",
       "    </tr>\n",
       "    <tr>\n",
       "      <th>4</th>\n",
       "      <td>Brooke Cazares</td>\n",
       "      <td>21</td>\n",
       "    </tr>\n",
       "    <tr>\n",
       "      <th>...</th>\n",
       "      <td>...</td>\n",
       "      <td>...</td>\n",
       "    </tr>\n",
       "    <tr>\n",
       "      <th>302</th>\n",
       "      <td>Austin Haas</td>\n",
       "      <td>20</td>\n",
       "    </tr>\n",
       "    <tr>\n",
       "      <th>303</th>\n",
       "      <td>Madison Fithian</td>\n",
       "      <td>20</td>\n",
       "    </tr>\n",
       "    <tr>\n",
       "      <th>304</th>\n",
       "      <td>Zachary Mulvahill</td>\n",
       "      <td>20</td>\n",
       "    </tr>\n",
       "    <tr>\n",
       "      <th>305</th>\n",
       "      <td>Eliana Michelsen</td>\n",
       "      <td>23</td>\n",
       "    </tr>\n",
       "    <tr>\n",
       "      <th>306</th>\n",
       "      <td>Dane Whittemore</td>\n",
       "      <td>21</td>\n",
       "    </tr>\n",
       "  </tbody>\n",
       "</table>\n",
       "<p>307 rows × 2 columns</p>\n",
       "</div>"
      ],
      "text/plain": [
       "                  name  age\n",
       "0            Kiana Lor   22\n",
       "1       Joshua Lonaker   22\n",
       "2        Dakota Blanco   22\n",
       "3      Natasha Yarusso   20\n",
       "4       Brooke Cazares   21\n",
       "..                 ...  ...\n",
       "302        Austin Haas   20\n",
       "303    Madison Fithian   20\n",
       "304  Zachary Mulvahill   20\n",
       "305   Eliana Michelsen   23\n",
       "306    Dane Whittemore   21\n",
       "\n",
       "[307 rows x 2 columns]"
      ]
     },
     "execution_count": 463,
     "metadata": {},
     "output_type": "execute_result"
    }
   ],
   "source": [
    "df[['name','age']]"
   ]
  },
  {
   "cell_type": "code",
   "execution_count": null,
   "metadata": {},
   "outputs": [
    {
     "data": {
      "text/plain": [
       "0                         China\n",
       "1      United States of America\n",
       "2      United States of America\n",
       "3      United States of America\n",
       "4                        Brazil\n",
       "                 ...           \n",
       "302    United States of America\n",
       "303    United States of America\n",
       "304    United States of America\n",
       "305    United States of America\n",
       "306                      Canada\n",
       "Name: nationality, Length: 307, dtype: object"
      ]
     },
     "execution_count": 464,
     "metadata": {},
     "output_type": "execute_result"
    }
   ],
   "source": [
    "df['nationality']"
   ]
  },
  {
   "cell_type": "markdown",
   "metadata": {},
   "source": [
    "# get the column of desire\n",
    "- syntax:-\n",
    "    dataFrameObj[['colName1','colName2',...'colName-n']][startIndex:EndIndex:StepIndex]"
   ]
  },
  {
   "cell_type": "code",
   "execution_count": null,
   "metadata": {},
   "outputs": [
    {
     "name": "stdout",
     "output_type": "stream",
     "text": [
      "(0, id                            0\n",
      "name                  Kiana Lor\n",
      "nationality               China\n",
      "city                     Suzhou\n",
      "latitude                  31.31\n",
      "longitude                120.62\n",
      "gender                        F\n",
      "ethnic.group                NaN\n",
      "age                          22\n",
      "english.grade               3.5\n",
      "math.grade                  3.7\n",
      "sciences.grade              3.1\n",
      "language.grade              1.0\n",
      "portfolio.rating              4\n",
      "coverletter.rating          4.0\n",
      "refletter.rating              4\n",
      "Name: 0, dtype: object)\n",
      "(1, id                                           1\n",
      "name                            Joshua Lonaker\n",
      "nationality           United States of America\n",
      "city                             Santa Clarita\n",
      "latitude                                 34.39\n",
      "longitude                              -118.54\n",
      "gender                                       M\n",
      "ethnic.group                               NaN\n",
      "age                                         22\n",
      "english.grade                              2.9\n",
      "math.grade                                 3.2\n",
      "sciences.grade                             3.6\n",
      "language.grade                             5.0\n",
      "portfolio.rating                             5\n",
      "coverletter.rating                         4.0\n",
      "refletter.rating                             5\n",
      "Name: 1, dtype: object)\n",
      "(2, id                                           2\n",
      "name                             Dakota Blanco\n",
      "nationality           United States of America\n",
      "city                                   Oakland\n",
      "latitude                                  37.8\n",
      "longitude                              -122.27\n",
      "gender                                       F\n",
      "ethnic.group                               NaN\n",
      "age                                         22\n",
      "english.grade                              3.9\n",
      "math.grade                                 3.8\n",
      "sciences.grade                             3.2\n",
      "language.grade                             5.0\n",
      "portfolio.rating                             3\n",
      "coverletter.rating                         3.0\n",
      "refletter.rating                             4\n",
      "Name: 2, dtype: object)\n",
      "(3, id                                           3\n",
      "name                           Natasha Yarusso\n",
      "nationality           United States of America\n",
      "city                             Castro Valley\n",
      "latitude                                 37.69\n",
      "longitude                              -122.09\n",
      "gender                                       F\n",
      "ethnic.group                               NaN\n",
      "age                                         20\n",
      "english.grade                              3.3\n",
      "math.grade                                 2.8\n",
      "sciences.grade                             3.2\n",
      "language.grade                             5.0\n",
      "portfolio.rating                             5\n",
      "coverletter.rating                         2.0\n",
      "refletter.rating                             4\n",
      "Name: 3, dtype: object)\n",
      "(4, id                                      4\n",
      "name                       Brooke Cazares\n",
      "nationality                        Brazil\n",
      "city                  São José dos Campos\n",
      "latitude                           -23.18\n",
      "longitude                          -45.88\n",
      "gender                                  F\n",
      "ethnic.group                          NaN\n",
      "age                                    21\n",
      "english.grade                         3.7\n",
      "math.grade                            2.6\n",
      "sciences.grade                        3.4\n",
      "language.grade                        1.0\n",
      "portfolio.rating                        4\n",
      "coverletter.rating                    4.0\n",
      "refletter.rating                        5\n",
      "Name: 4, dtype: object)\n",
      "(5, id                                           5\n",
      "name                          Rochelle Johnson\n",
      "nationality           United States of America\n",
      "city                              Indianapolis\n",
      "latitude                                 39.77\n",
      "longitude                               -86.16\n",
      "gender                                       F\n",
      "ethnic.group                               NaN\n",
      "age                                         21\n",
      "english.grade                              3.4\n",
      "math.grade                                 3.1\n",
      "sciences.grade                             3.7\n",
      "language.grade                             5.0\n",
      "portfolio.rating                             2\n",
      "coverletter.rating                         4.0\n",
      "refletter.rating                             4\n",
      "Name: 5, dtype: object)\n",
      "(6, id                             6\n",
      "name                  Joey Abreu\n",
      "nationality                China\n",
      "city                    Shenyang\n",
      "latitude                   41.79\n",
      "longitude                 123.43\n",
      "gender                         M\n",
      "ethnic.group                 NaN\n",
      "age                           22\n",
      "english.grade                3.7\n",
      "math.grade                   3.9\n",
      "sciences.grade               3.6\n",
      "language.grade               2.0\n",
      "portfolio.rating               5\n",
      "coverletter.rating           5.0\n",
      "refletter.rating               5\n",
      "Name: 6, dtype: object)\n",
      "(7, id                                 7\n",
      "name                  Preston Suarez\n",
      "nationality                   Brazil\n",
      "city                       São Paulo\n",
      "latitude                      -23.47\n",
      "longitude                     -46.67\n",
      "gender                             M\n",
      "ethnic.group                     NaN\n",
      "age                               22\n",
      "english.grade                    3.8\n",
      "math.grade                       3.7\n",
      "sciences.grade                   3.6\n",
      "language.grade                   2.0\n",
      "portfolio.rating                   5\n",
      "coverletter.rating               5.0\n",
      "refletter.rating                   4\n",
      "Name: 7, dtype: object)\n",
      "(8, id                              8\n",
      "name                     Lee Dong\n",
      "nationality           Philippines\n",
      "city                       Manila\n",
      "latitude                     14.6\n",
      "longitude                  120.98\n",
      "gender                          F\n",
      "ethnic.group                  NaN\n",
      "age                            24\n",
      "english.grade                 3.9\n",
      "math.grade                    3.6\n",
      "sciences.grade                3.2\n",
      "language.grade                2.0\n",
      "portfolio.rating                4\n",
      "coverletter.rating            3.0\n",
      "refletter.rating                5\n",
      "Name: 8, dtype: object)\n",
      "(9, id                                9\n",
      "name                  Maa'iz al-Dia\n",
      "nationality                  Turkey\n",
      "city                       Istanbul\n",
      "latitude                      41.02\n",
      "longitude                     28.96\n",
      "gender                            M\n",
      "ethnic.group                    NaN\n",
      "age                              22\n",
      "english.grade                   2.4\n",
      "math.grade                      2.8\n",
      "sciences.grade                  3.8\n",
      "language.grade                  3.0\n",
      "portfolio.rating                  5\n",
      "coverletter.rating              5.0\n",
      "refletter.rating                  4\n",
      "Name: 9, dtype: object)\n",
      "(10, id                                          10\n",
      "name                            Maja Nicholson\n",
      "nationality           United States of America\n",
      "city                                    Dallas\n",
      "latitude                                 32.78\n",
      "longitude                                -96.8\n",
      "gender                                       F\n",
      "ethnic.group                               NaN\n",
      "age                                         23\n",
      "english.grade                              3.4\n",
      "math.grade                                 3.5\n",
      "sciences.grade                             3.2\n",
      "language.grade                             5.0\n",
      "portfolio.rating                             4\n",
      "coverletter.rating                         2.0\n",
      "refletter.rating                             5\n",
      "Name: 10, dtype: object)\n",
      "(11, id                                          11\n",
      "name                              Sasha Jansen\n",
      "nationality           United States of America\n",
      "city                                   Chicago\n",
      "latitude                                 41.85\n",
      "longitude                               -87.65\n",
      "gender                                       F\n",
      "ethnic.group                               NaN\n",
      "age                                         21\n",
      "english.grade                              1.7\n",
      "math.grade                                 4.0\n",
      "sciences.grade                             3.6\n",
      "language.grade                             5.0\n",
      "portfolio.rating                             4\n",
      "coverletter.rating                         4.0\n",
      "refletter.rating                             5\n",
      "Name: 11, dtype: object)\n",
      "(12, id                                          12\n",
      "name                         Alexander Sherman\n",
      "nationality           United States of America\n",
      "city                                     Omaha\n",
      "latitude                                 41.26\n",
      "longitude                               -95.94\n",
      "gender                                       M\n",
      "ethnic.group                               NaN\n",
      "age                                         20\n",
      "english.grade                              3.8\n",
      "math.grade                                 3.6\n",
      "sciences.grade                             3.9\n",
      "language.grade                             5.0\n",
      "portfolio.rating                             4\n",
      "coverletter.rating                         4.0\n",
      "refletter.rating                             5\n",
      "Name: 12, dtype: object)\n",
      "(13, id                               13\n",
      "name                  Edgar Sanchez\n",
      "nationality                  Mexico\n",
      "city                        Tijuana\n",
      "latitude                      32.53\n",
      "longitude                   -117.02\n",
      "gender                            M\n",
      "ethnic.group                    NaN\n",
      "age                              23\n",
      "english.grade                   3.7\n",
      "math.grade                      3.5\n",
      "sciences.grade                  4.0\n",
      "language.grade                  4.0\n",
      "portfolio.rating                  4\n",
      "coverletter.rating              5.0\n",
      "refletter.rating                  5\n",
      "Name: 13, dtype: object)\n",
      "(14, id                                          14\n",
      "name                              Kolbi Strunk\n",
      "nationality           United States of America\n",
      "city                             Mission Viejo\n",
      "latitude                                  33.6\n",
      "longitude                              -117.67\n",
      "gender                                       M\n",
      "ethnic.group                               NaN\n",
      "age                                         21\n",
      "english.grade                              3.2\n",
      "math.grade                                 3.9\n",
      "sciences.grade                             3.3\n",
      "language.grade                             5.0\n",
      "portfolio.rating                             4\n",
      "coverletter.rating                         3.0\n",
      "refletter.rating                             4\n",
      "Name: 14, dtype: object)\n",
      "(15, id                               15\n",
      "name                  Brittany Sath\n",
      "nationality                   Japan\n",
      "city                          Tokyo\n",
      "latitude                      35.69\n",
      "longitude                    139.75\n",
      "gender                            F\n",
      "ethnic.group                    NaN\n",
      "age                              21\n",
      "english.grade                   4.0\n",
      "math.grade                      3.9\n",
      "sciences.grade                  3.7\n",
      "language.grade                  3.0\n",
      "portfolio.rating                  5\n",
      "coverletter.rating              3.0\n",
      "refletter.rating                  5\n",
      "Name: 15, dtype: object)\n",
      "(16, id                                          16\n",
      "name                              Meggan Smith\n",
      "nationality           United States of America\n",
      "city                               Los Angeles\n",
      "latitude                                 34.05\n",
      "longitude                              -118.24\n",
      "gender                                       F\n",
      "ethnic.group                               NaN\n",
      "age                                         21\n",
      "english.grade                              2.9\n",
      "math.grade                                 3.4\n",
      "sciences.grade                             3.6\n",
      "language.grade                             5.0\n",
      "portfolio.rating                             2\n",
      "coverletter.rating                         5.0\n",
      "refletter.rating                             4\n",
      "Name: 16, dtype: object)\n",
      "(17, id                                17\n",
      "name                  Ericka Arreola\n",
      "nationality                   Mexico\n",
      "city                          Mexico\n",
      "latitude                       19.43\n",
      "longitude                     -99.14\n",
      "gender                         other\n",
      "ethnic.group                     NaN\n",
      "age                               23\n",
      "english.grade                    3.1\n",
      "math.grade                       3.5\n",
      "sciences.grade                   2.8\n",
      "language.grade                   4.0\n",
      "portfolio.rating                   4\n",
      "coverletter.rating               3.0\n",
      "refletter.rating                   4\n",
      "Name: 17, dtype: object)\n",
      "(18, id                            18\n",
      "name                  David Pulc\n",
      "nationality               Canada\n",
      "city                     Toronto\n",
      "latitude                   43.67\n",
      "longitude                 -79.42\n",
      "gender                         M\n",
      "ethnic.group                 NaN\n",
      "age                           24\n",
      "english.grade                3.9\n",
      "math.grade                   2.9\n",
      "sciences.grade               4.0\n",
      "language.grade               5.0\n",
      "portfolio.rating               5\n",
      "coverletter.rating           4.0\n",
      "refletter.rating               2\n",
      "Name: 18, dtype: object)\n",
      "(19, id                                          19\n",
      "name                               Kyle Luckey\n",
      "nationality           United States of America\n",
      "city                             Moreno Valley\n",
      "latitude                                 33.94\n",
      "longitude                              -117.23\n",
      "gender                                       M\n",
      "ethnic.group                               NaN\n",
      "age                                         23\n",
      "english.grade                              3.7\n",
      "math.grade                                 3.9\n",
      "sciences.grade                             3.4\n",
      "language.grade                             5.0\n",
      "portfolio.rating                             3\n",
      "coverletter.rating                         4.0\n",
      "refletter.rating                             4\n",
      "Name: 19, dtype: object)\n",
      "(20, id                            20\n",
      "name                  Rojesh Her\n",
      "nationality                Japan\n",
      "city                       Tokyo\n",
      "latitude                   35.69\n",
      "longitude                 139.75\n",
      "gender                         M\n",
      "ethnic.group                 NaN\n",
      "age                           22\n",
      "english.grade                3.8\n",
      "math.grade                   3.6\n",
      "sciences.grade               3.6\n",
      "language.grade               2.0\n",
      "portfolio.rating               4\n",
      "coverletter.rating           4.0\n",
      "refletter.rating               3\n",
      "Name: 20, dtype: object)\n",
      "(21, id                             21\n",
      "name                  David Weber\n",
      "nationality                 China\n",
      "city                       Peking\n",
      "latitude                    39.93\n",
      "longitude                  116.39\n",
      "gender                          M\n",
      "ethnic.group                  NaN\n",
      "age                            20\n",
      "english.grade                 3.9\n",
      "math.grade                    3.9\n",
      "sciences.grade                3.9\n",
      "language.grade                2.0\n",
      "portfolio.rating                3\n",
      "coverletter.rating            4.0\n",
      "refletter.rating                5\n",
      "Name: 21, dtype: object)\n",
      "(22, id                                          22\n",
      "name                             Rachel Jambor\n",
      "nationality           United States of America\n",
      "city                                   Chicago\n",
      "latitude                                 41.85\n",
      "longitude                               -87.65\n",
      "gender                                       F\n",
      "ethnic.group                               NaN\n",
      "age                                         22\n",
      "english.grade                              3.6\n",
      "math.grade                                 3.6\n",
      "sciences.grade                             3.9\n",
      "language.grade                             5.0\n",
      "portfolio.rating                             3\n",
      "coverletter.rating                         4.0\n",
      "refletter.rating                             4\n",
      "Name: 22, dtype: object)\n",
      "(23, id                                    23\n",
      "name                  Mus'ab al-Moustafa\n",
      "nationality                     Pakistan\n",
      "city                          Rawalpindi\n",
      "latitude                            33.6\n",
      "longitude                          73.07\n",
      "gender                                 M\n",
      "ethnic.group                         NaN\n",
      "age                                   23\n",
      "english.grade                        3.8\n",
      "math.grade                           3.9\n",
      "sciences.grade                       3.8\n",
      "language.grade                       2.0\n",
      "portfolio.rating                       2\n",
      "coverletter.rating                   5.0\n",
      "refletter.rating                       4\n",
      "Name: 23, dtype: object)\n",
      "(24, id                             24\n",
      "name                  Sila Nguyen\n",
      "nationality                 China\n",
      "city                         Hebi\n",
      "latitude                     35.9\n",
      "longitude                  114.19\n",
      "gender                          M\n",
      "ethnic.group                  NaN\n",
      "age                            23\n",
      "english.grade                 2.8\n",
      "math.grade                    3.5\n",
      "sciences.grade                3.5\n",
      "language.grade                4.0\n",
      "portfolio.rating                5\n",
      "coverletter.rating            4.0\n",
      "refletter.rating                4\n",
      "Name: 24, dtype: object)\n",
      "(25, id                                          25\n",
      "name                            Samantha Hicks\n",
      "nationality           United States of America\n",
      "city                             Santa Barbara\n",
      "latitude                                 34.42\n",
      "longitude                               -119.7\n",
      "gender                                       F\n",
      "ethnic.group                               NaN\n",
      "age                                         22\n",
      "english.grade                              3.7\n",
      "math.grade                                 3.7\n",
      "sciences.grade                             3.8\n",
      "language.grade                             5.0\n",
      "portfolio.rating                             3\n",
      "coverletter.rating                         4.0\n",
      "refletter.rating                             4\n",
      "Name: 25, dtype: object)\n",
      "(26, id                                          26\n",
      "name                            Angela Harding\n",
      "nationality           United States of America\n",
      "city                                   Manteca\n",
      "latitude                                  37.8\n",
      "longitude                              -121.22\n",
      "gender                                       F\n",
      "ethnic.group                               NaN\n",
      "age                                         22\n",
      "english.grade                              3.1\n",
      "math.grade                                 2.9\n",
      "sciences.grade                             3.2\n",
      "language.grade                             5.0\n",
      "portfolio.rating                             3\n",
      "coverletter.rating                         5.0\n",
      "refletter.rating                             5\n",
      "Name: 26, dtype: object)\n",
      "(27, id                                          27\n",
      "name                           Brandon Barbour\n",
      "nationality           United States of America\n",
      "city                                South Hill\n",
      "latitude                                 47.14\n",
      "longitude                              -122.27\n",
      "gender                                       M\n",
      "ethnic.group                               NaN\n",
      "age                                         21\n",
      "english.grade                              3.9\n",
      "math.grade                                 3.7\n",
      "sciences.grade                             3.3\n",
      "language.grade                             5.0\n",
      "portfolio.rating                             4\n",
      "coverletter.rating                         5.0\n",
      "refletter.rating                             5\n",
      "Name: 27, dtype: object)\n",
      "(28, id                                          28\n",
      "name                              Reilly Wagar\n",
      "nationality           United States of America\n",
      "city                                   Modesto\n",
      "latitude                                 37.64\n",
      "longitude                               -121.0\n",
      "gender                                       F\n",
      "ethnic.group                               NaN\n",
      "age                                         23\n",
      "english.grade                              3.4\n",
      "math.grade                                 3.2\n",
      "sciences.grade                             3.7\n",
      "language.grade                             5.0\n",
      "portfolio.rating                             5\n",
      "coverletter.rating                         4.0\n",
      "refletter.rating                             5\n",
      "Name: 28, dtype: object)\n",
      "(29, id                                    29\n",
      "name                     Victoria Ibarra\n",
      "nationality           Dominican Republic\n",
      "city                       Santo Domingo\n",
      "latitude                           18.47\n",
      "longitude                          -69.9\n",
      "gender                                 F\n",
      "ethnic.group                         NaN\n",
      "age                                   22\n",
      "english.grade                        3.4\n",
      "math.grade                           3.8\n",
      "sciences.grade                       4.0\n",
      "language.grade                       4.0\n",
      "portfolio.rating                       5\n",
      "coverletter.rating                   5.0\n",
      "refletter.rating                       5\n",
      "Name: 29, dtype: object)\n",
      "(30, id                                          30\n",
      "name                              Dakota Wirth\n",
      "nationality           United States of America\n",
      "city                                Sacramento\n",
      "latitude                                 38.58\n",
      "longitude                              -121.49\n",
      "gender                                       F\n",
      "ethnic.group                               NaN\n",
      "age                                         22\n",
      "english.grade                              3.4\n",
      "math.grade                                 3.9\n",
      "sciences.grade                             3.6\n",
      "language.grade                             5.0\n",
      "portfolio.rating                             3\n",
      "coverletter.rating                         5.0\n",
      "refletter.rating                             5\n",
      "Name: 30, dtype: object)\n",
      "(31, id                                          31\n",
      "name                            Lauren Klocker\n",
      "nationality           United States of America\n",
      "city                               Los Angeles\n",
      "latitude                                 34.05\n",
      "longitude                              -118.24\n",
      "gender                                       F\n",
      "ethnic.group                               NaN\n",
      "age                                         22\n",
      "english.grade                              2.3\n",
      "math.grade                                 3.9\n",
      "sciences.grade                             3.8\n",
      "language.grade                             5.0\n",
      "portfolio.rating                             5\n",
      "coverletter.rating                         3.0\n",
      "refletter.rating                             4\n",
      "Name: 31, dtype: object)\n",
      "(32, id                                          32\n",
      "name                            Michael Benson\n",
      "nationality           United States of America\n",
      "city                                   Phoenix\n",
      "latitude                                 33.45\n",
      "longitude                              -112.07\n",
      "gender                                       M\n",
      "ethnic.group                               NaN\n",
      "age                                         21\n",
      "english.grade                              3.8\n",
      "math.grade                                 3.7\n",
      "sciences.grade                             3.7\n",
      "language.grade                             5.0\n",
      "portfolio.rating                             4\n",
      "coverletter.rating                         5.0\n",
      "refletter.rating                             3\n",
      "Name: 32, dtype: object)\n",
      "(33, id                                          33\n",
      "name                                Sean Rozga\n",
      "nationality           United States of America\n",
      "city                               Los Angeles\n",
      "latitude                                 34.05\n",
      "longitude                              -118.24\n",
      "gender                                       M\n",
      "ethnic.group                               NaN\n",
      "age                                         21\n",
      "english.grade                              3.4\n",
      "math.grade                                 3.8\n",
      "sciences.grade                             3.6\n",
      "language.grade                             5.0\n",
      "portfolio.rating                             4\n",
      "coverletter.rating                         5.0\n",
      "refletter.rating                             4\n",
      "Name: 33, dtype: object)\n",
      "(34, id                                          34\n",
      "name                            Cody Vermeylen\n",
      "nationality           United States of America\n",
      "city                                   Detroit\n",
      "latitude                                 42.33\n",
      "longitude                               -83.05\n",
      "gender                                       M\n",
      "ethnic.group                               NaN\n",
      "age                                         23\n",
      "english.grade                              3.3\n",
      "math.grade                                 3.8\n",
      "sciences.grade                             3.5\n",
      "language.grade                             5.0\n",
      "portfolio.rating                             2\n",
      "coverletter.rating                         3.0\n",
      "refletter.rating                             4\n",
      "Name: 34, dtype: object)\n",
      "(35, id                                   35\n",
      "name                  Kinaana al-Jamail\n",
      "nationality                       India\n",
      "city                             Kanpur\n",
      "latitude                          26.47\n",
      "longitude                         80.35\n",
      "gender                                F\n",
      "ethnic.group                        NaN\n",
      "age                                  22\n",
      "english.grade                       3.3\n",
      "math.grade                          3.8\n",
      "sciences.grade                      3.7\n",
      "language.grade                      3.0\n",
      "portfolio.rating                      4\n",
      "coverletter.rating                  4.0\n",
      "refletter.rating                      4\n",
      "Name: 35, dtype: object)\n",
      "(36, id                               36\n",
      "name                  Daniel Garcia\n",
      "nationality                    Peru\n",
      "city                           Lima\n",
      "latitude                     -12.05\n",
      "longitude                    -77.05\n",
      "gender                            M\n",
      "ethnic.group                    NaN\n",
      "age                              22\n",
      "english.grade                   3.7\n",
      "math.grade                      3.1\n",
      "sciences.grade                  3.0\n",
      "language.grade                  3.0\n",
      "portfolio.rating                  5\n",
      "coverletter.rating              5.0\n",
      "refletter.rating                  5\n",
      "Name: 36, dtype: object)\n",
      "(37, id                               37\n",
      "name                  Katrina Saito\n",
      "nationality                   Japan\n",
      "city                          Tokyo\n",
      "latitude                      35.69\n",
      "longitude                    139.75\n",
      "gender                            F\n",
      "ethnic.group                    NaN\n",
      "age                              22\n",
      "english.grade                   3.8\n",
      "math.grade                      4.0\n",
      "sciences.grade                  3.7\n",
      "language.grade                  4.0\n",
      "portfolio.rating                  5\n",
      "coverletter.rating              4.0\n",
      "refletter.rating                  5\n",
      "Name: 37, dtype: object)\n",
      "(38, id                                          38\n",
      "name                           Joshua Galloway\n",
      "nationality           United States of America\n",
      "city                                  New York\n",
      "latitude                                 40.71\n",
      "longitude                               -74.01\n",
      "gender                                       M\n",
      "ethnic.group                               NaN\n",
      "age                                         24\n",
      "english.grade                              3.3\n",
      "math.grade                                 3.3\n",
      "sciences.grade                             3.6\n",
      "language.grade                             5.0\n",
      "portfolio.rating                             4\n",
      "coverletter.rating                         5.0\n",
      "refletter.rating                             5\n",
      "Name: 38, dtype: object)\n",
      "(39, id                               39\n",
      "name                  Aylin Mendoza\n",
      "nationality                  Mexico\n",
      "city                         Mexico\n",
      "latitude                      19.43\n",
      "longitude                    -99.14\n",
      "gender                            F\n",
      "ethnic.group                    NaN\n",
      "age                              22\n",
      "english.grade                   3.0\n",
      "math.grade                      2.3\n",
      "sciences.grade                  3.9\n",
      "language.grade                  4.0\n",
      "portfolio.rating                  2\n",
      "coverletter.rating              4.0\n",
      "refletter.rating                  4\n",
      "Name: 39, dtype: object)\n",
      "(40, id                                          40\n",
      "name                               Sharon Fyfe\n",
      "nationality           United States of America\n",
      "city                               Los Angeles\n",
      "latitude                                 34.05\n",
      "longitude                              -118.24\n",
      "gender                                       F\n",
      "ethnic.group                               NaN\n",
      "age                                         22\n",
      "english.grade                              3.7\n",
      "math.grade                                 3.0\n",
      "sciences.grade                             3.8\n",
      "language.grade                             5.0\n",
      "portfolio.rating                             4\n",
      "coverletter.rating                         5.0\n",
      "refletter.rating                             4\n",
      "Name: 40, dtype: object)\n",
      "(41, id                                    41\n",
      "name                  Afnaan el-Mohammed\n",
      "nationality                        India\n",
      "city                           New Delhi\n",
      "latitude                            28.6\n",
      "longitude                           77.2\n",
      "gender                                 F\n",
      "ethnic.group                         NaN\n",
      "age                                   22\n",
      "english.grade                        1.7\n",
      "math.grade                           3.5\n",
      "sciences.grade                       3.9\n",
      "language.grade                       2.0\n",
      "portfolio.rating                       5\n",
      "coverletter.rating                   5.0\n",
      "refletter.rating                       4\n",
      "Name: 41, dtype: object)\n",
      "(42, id                                    42\n",
      "name                      Jesse Williams\n",
      "nationality           Russian Federation\n",
      "city                              Moscow\n",
      "latitude                           55.75\n",
      "longitude                          37.62\n",
      "gender                                 F\n",
      "ethnic.group                         NaN\n",
      "age                                   21\n",
      "english.grade                        3.9\n",
      "math.grade                           3.4\n",
      "sciences.grade                       2.6\n",
      "language.grade                       4.0\n",
      "portfolio.rating                       4\n",
      "coverletter.rating                   4.0\n",
      "refletter.rating                       5\n",
      "Name: 42, dtype: object)\n",
      "(43, id                                 43\n",
      "name                  Kenny Fukushima\n",
      "nationality                     Japan\n",
      "city                            Tokyo\n",
      "latitude                        35.69\n",
      "longitude                      139.75\n",
      "gender                              M\n",
      "ethnic.group                      NaN\n",
      "age                                22\n",
      "english.grade                     3.9\n",
      "math.grade                        2.9\n",
      "sciences.grade                    3.3\n",
      "language.grade                    4.0\n",
      "portfolio.rating                    5\n",
      "coverletter.rating                5.0\n",
      "refletter.rating                    5\n",
      "Name: 43, dtype: object)\n",
      "(44, id                                          44\n",
      "name                           Tawnie Glaisher\n",
      "nationality           United States of America\n",
      "city                                   Fremont\n",
      "latitude                                 37.55\n",
      "longitude                              -121.99\n",
      "gender                                       F\n",
      "ethnic.group                               NaN\n",
      "age                                         24\n",
      "english.grade                              3.4\n",
      "math.grade                                 3.2\n",
      "sciences.grade                             3.8\n",
      "language.grade                             5.0\n",
      "portfolio.rating                             4\n",
      "coverletter.rating                         4.0\n",
      "refletter.rating                             5\n",
      "Name: 44, dtype: object)\n",
      "(45, id                                          45\n",
      "name                           Britany Stevens\n",
      "nationality           United States of America\n",
      "city                                 Lafayette\n",
      "latitude                                 37.89\n",
      "longitude                              -122.12\n",
      "gender                                       F\n",
      "ethnic.group                               NaN\n",
      "age                                         23\n",
      "english.grade                              3.6\n",
      "math.grade                                 3.3\n",
      "sciences.grade                             3.5\n",
      "language.grade                             5.0\n",
      "portfolio.rating                             3\n",
      "coverletter.rating                         3.0\n",
      "refletter.rating                             3\n",
      "Name: 45, dtype: object)\n",
      "(46, id                            46\n",
      "name                  Alan Trinh\n",
      "nationality                Japan\n",
      "city                       Tokyo\n",
      "latitude                   35.69\n",
      "longitude                 139.75\n",
      "gender                         M\n",
      "ethnic.group                 NaN\n",
      "age                           20\n",
      "english.grade                2.8\n",
      "math.grade                   3.1\n",
      "sciences.grade               3.8\n",
      "language.grade               4.0\n",
      "portfolio.rating               3\n",
      "coverletter.rating           4.0\n",
      "refletter.rating               5\n",
      "Name: 46, dtype: object)\n",
      "(47, id                                          47\n",
      "name                                  Zoe Kern\n",
      "nationality           United States of America\n",
      "city                               West Jordan\n",
      "latitude                                 40.61\n",
      "longitude                              -111.94\n",
      "gender                                       F\n",
      "ethnic.group                               NaN\n",
      "age                                         22\n",
      "english.grade                              2.1\n",
      "math.grade                                 4.0\n",
      "sciences.grade                             3.4\n",
      "language.grade                             5.0\n",
      "portfolio.rating                             4\n",
      "coverletter.rating                         5.0\n",
      "refletter.rating                             4\n",
      "Name: 47, dtype: object)\n",
      "(48, id                                          48\n",
      "name                            Sidney Beavers\n",
      "nationality           United States of America\n",
      "city                               Los Angeles\n",
      "latitude                                 34.05\n",
      "longitude                              -118.24\n",
      "gender                                       M\n",
      "ethnic.group                               NaN\n",
      "age                                         23\n",
      "english.grade                              2.3\n",
      "math.grade                                 2.8\n",
      "sciences.grade                             3.5\n",
      "language.grade                             5.0\n",
      "portfolio.rating                             4\n",
      "coverletter.rating                         4.0\n",
      "refletter.rating                             4\n",
      "Name: 48, dtype: object)\n",
      "(49, id                                49\n",
      "name                  Miriam Aguilar\n",
      "nationality                   Mexico\n",
      "city                        Mexicali\n",
      "latitude                       32.65\n",
      "longitude                    -115.47\n",
      "gender                             F\n",
      "ethnic.group                     NaN\n",
      "age                               22\n",
      "english.grade                    3.6\n",
      "math.grade                       3.8\n",
      "sciences.grade                   2.8\n",
      "language.grade                   2.0\n",
      "portfolio.rating                   4\n",
      "coverletter.rating               4.0\n",
      "refletter.rating                   4\n",
      "Name: 49, dtype: object)\n",
      "(50, id                            50\n",
      "name                  Issac Mata\n",
      "nationality               Mexico\n",
      "city                    Tehuacán\n",
      "latitude                   18.45\n",
      "longitude                 -97.38\n",
      "gender                         M\n",
      "ethnic.group                 NaN\n",
      "age                           23\n",
      "english.grade                2.4\n",
      "math.grade                   3.1\n",
      "sciences.grade               2.7\n",
      "language.grade               1.0\n",
      "portfolio.rating               5\n",
      "coverletter.rating           5.0\n",
      "refletter.rating               4\n",
      "Name: 50, dtype: object)\n",
      "(51, id                                          51\n",
      "name                               Hannah Uren\n",
      "nationality           United States of America\n",
      "city                               Los Angeles\n",
      "latitude                                 34.05\n",
      "longitude                              -118.24\n",
      "gender                                       F\n",
      "ethnic.group                               NaN\n",
      "age                                         22\n",
      "english.grade                              3.2\n",
      "math.grade                                 2.2\n",
      "sciences.grade                             3.5\n",
      "language.grade                             5.0\n",
      "portfolio.rating                             5\n",
      "coverletter.rating                         3.0\n",
      "refletter.rating                             5\n",
      "Name: 51, dtype: object)\n",
      "(52, id                                 52\n",
      "name                  Zachary Bradley\n",
      "nationality                     Spain\n",
      "city                           Madrid\n",
      "latitude                        40.41\n",
      "longitude                       -3.69\n",
      "gender                              M\n",
      "ethnic.group                      NaN\n",
      "age                                21\n",
      "english.grade                     3.5\n",
      "math.grade                        3.5\n",
      "sciences.grade                    3.4\n",
      "language.grade                    2.0\n",
      "portfolio.rating                    3\n",
      "coverletter.rating                5.0\n",
      "refletter.rating                    5\n",
      "Name: 52, dtype: object)\n",
      "(53, id                                          53\n",
      "name                            Moira Buttitto\n",
      "nationality           United States of America\n",
      "city                               Los Angeles\n",
      "latitude                                 34.05\n",
      "longitude                              -118.24\n",
      "gender                                       F\n",
      "ethnic.group                               NaN\n",
      "age                                         23\n",
      "english.grade                              1.9\n",
      "math.grade                                 2.8\n",
      "sciences.grade                             3.2\n",
      "language.grade                             5.0\n",
      "portfolio.rating                             4\n",
      "coverletter.rating                         5.0\n",
      "refletter.rating                             5\n",
      "Name: 53, dtype: object)\n",
      "(54, id                                          54\n",
      "name                             Nicole Humpal\n",
      "nationality           United States of America\n",
      "city                              Walnut Creek\n",
      "latitude                                 37.91\n",
      "longitude                              -122.06\n",
      "gender                                       F\n",
      "ethnic.group                               NaN\n",
      "age                                         22\n",
      "english.grade                              3.9\n",
      "math.grade                                 3.7\n",
      "sciences.grade                             4.0\n",
      "language.grade                             5.0\n",
      "portfolio.rating                             3\n",
      "coverletter.rating                         5.0\n",
      "refletter.rating                             3\n",
      "Name: 54, dtype: object)\n",
      "(55, id                                          55\n",
      "name                          Georgia Williams\n",
      "nationality           United States of America\n",
      "city                                   Memphis\n",
      "latitude                                 35.15\n",
      "longitude                               -90.05\n",
      "gender                                       F\n",
      "ethnic.group                               NaN\n",
      "age                                         23\n",
      "english.grade                              2.9\n",
      "math.grade                                 3.6\n",
      "sciences.grade                             3.1\n",
      "language.grade                             5.0\n",
      "portfolio.rating                             5\n",
      "coverletter.rating                         5.0\n",
      "refletter.rating                             2\n",
      "Name: 55, dtype: object)\n",
      "(56, id                                          56\n",
      "name                              Connor Ferry\n",
      "nationality           United States of America\n",
      "city                                 Charlotte\n",
      "latitude                                 35.23\n",
      "longitude                               -80.84\n",
      "gender                                       M\n",
      "ethnic.group                               NaN\n",
      "age                                         23\n",
      "english.grade                              3.1\n",
      "math.grade                                 3.8\n",
      "sciences.grade                             4.0\n",
      "language.grade                             5.0\n",
      "portfolio.rating                             4\n",
      "coverletter.rating                         5.0\n",
      "refletter.rating                             4\n",
      "Name: 56, dtype: object)\n",
      "(57, id                                          57\n",
      "name                              Amanda Tatum\n",
      "nationality           United States of America\n",
      "city                                 San Diego\n",
      "latitude                                 32.72\n",
      "longitude                              -117.16\n",
      "gender                                       F\n",
      "ethnic.group                               NaN\n",
      "age                                         22\n",
      "english.grade                              3.5\n",
      "math.grade                                 2.3\n",
      "sciences.grade                             3.7\n",
      "language.grade                             5.0\n",
      "portfolio.rating                             4\n",
      "coverletter.rating                         5.0\n",
      "refletter.rating                             4\n",
      "Name: 57, dtype: object)\n",
      "(58, id                                          58\n",
      "name                         Cameron Steinberg\n",
      "nationality           United States of America\n",
      "city                               Los Angeles\n",
      "latitude                                 34.05\n",
      "longitude                              -118.24\n",
      "gender                                       M\n",
      "ethnic.group                               NaN\n",
      "age                                         20\n",
      "english.grade                              2.1\n",
      "math.grade                                 3.9\n",
      "sciences.grade                             3.9\n",
      "language.grade                             5.0\n",
      "portfolio.rating                             5\n",
      "coverletter.rating                         5.0\n",
      "refletter.rating                             5\n",
      "Name: 58, dtype: object)\n",
      "(59, id                                  59\n",
      "name                  Shuraih el-Karim\n",
      "nationality                   Pakistan\n",
      "city                          Khalabat\n",
      "latitude                         34.06\n",
      "longitude                        72.89\n",
      "gender                               M\n",
      "ethnic.group                       NaN\n",
      "age                                 22\n",
      "english.grade                      3.1\n",
      "math.grade                         2.1\n",
      "sciences.grade                     2.3\n",
      "language.grade                     4.0\n",
      "portfolio.rating                     4\n",
      "coverletter.rating                 4.0\n",
      "refletter.rating                     4\n",
      "Name: 59, dtype: object)\n",
      "(60, id                                          60\n",
      "name                             Katelyn Sharp\n",
      "nationality           United States of America\n",
      "city                               Los Angeles\n",
      "latitude                                 34.05\n",
      "longitude                              -118.24\n",
      "gender                                       F\n",
      "ethnic.group                               NaN\n",
      "age                                         20\n",
      "english.grade                              3.9\n",
      "math.grade                                 3.7\n",
      "sciences.grade                             2.8\n",
      "language.grade                             5.0\n",
      "portfolio.rating                             5\n",
      "coverletter.rating                         3.0\n",
      "refletter.rating                             5\n",
      "Name: 60, dtype: object)\n",
      "(61, id                              61\n",
      "name                  Colin Lemont\n",
      "nationality                  China\n",
      "city                      Shanghai\n",
      "latitude                     31.05\n",
      "longitude                    121.4\n",
      "gender                           M\n",
      "ethnic.group                   NaN\n",
      "age                             21\n",
      "english.grade                  3.6\n",
      "math.grade                     4.0\n",
      "sciences.grade                 3.1\n",
      "language.grade                 4.0\n",
      "portfolio.rating                 4\n",
      "coverletter.rating             5.0\n",
      "refletter.rating                 4\n",
      "Name: 61, dtype: object)\n",
      "(62, id                                          62\n",
      "name                             Donald Nevins\n",
      "nationality           United States of America\n",
      "city                                  San Jose\n",
      "latitude                                 37.34\n",
      "longitude                              -121.89\n",
      "gender                                       M\n",
      "ethnic.group                               NaN\n",
      "age                                         23\n",
      "english.grade                              3.6\n",
      "math.grade                                 3.4\n",
      "sciences.grade                             2.8\n",
      "language.grade                             5.0\n",
      "portfolio.rating                             2\n",
      "coverletter.rating                         4.0\n",
      "refletter.rating                             4\n",
      "Name: 62, dtype: object)\n",
      "(63, id                                          63\n",
      "name                          Macaela Kadillak\n",
      "nationality           United States of America\n",
      "city                               Los Angeles\n",
      "latitude                                 34.05\n",
      "longitude                              -118.24\n",
      "gender                                       F\n",
      "ethnic.group                               NaN\n",
      "age                                         20\n",
      "english.grade                              2.7\n",
      "math.grade                                 3.3\n",
      "sciences.grade                             3.3\n",
      "language.grade                             5.0\n",
      "portfolio.rating                             4\n",
      "coverletter.rating                         1.0\n",
      "refletter.rating                             4\n",
      "Name: 63, dtype: object)\n",
      "(64, id                                          64\n",
      "name                            Brittany Pratt\n",
      "nationality           United States of America\n",
      "city                                 San Diego\n",
      "latitude                                 32.72\n",
      "longitude                              -117.16\n",
      "gender                                       F\n",
      "ethnic.group                               NaN\n",
      "age                                         22\n",
      "english.grade                              3.0\n",
      "math.grade                                 3.1\n",
      "sciences.grade                             3.1\n",
      "language.grade                             5.0\n",
      "portfolio.rating                             3\n",
      "coverletter.rating                         4.0\n",
      "refletter.rating                             4\n",
      "Name: 64, dtype: object)\n",
      "(65, id                                 65\n",
      "name                  Cameron Hancock\n",
      "nationality                    Poland\n",
      "city                           Warsaw\n",
      "latitude                        52.25\n",
      "longitude                        21.0\n",
      "gender                              M\n",
      "ethnic.group                      NaN\n",
      "age                                21\n",
      "english.grade                     3.9\n",
      "math.grade                        3.8\n",
      "sciences.grade                    3.0\n",
      "language.grade                    3.0\n",
      "portfolio.rating                    4\n",
      "coverletter.rating                3.0\n",
      "refletter.rating                    4\n",
      "Name: 65, dtype: object)\n",
      "(66, id                                          66\n",
      "name                          William Grevious\n",
      "nationality           United States of America\n",
      "city                                  Stockton\n",
      "latitude                                 37.96\n",
      "longitude                              -121.29\n",
      "gender                                       M\n",
      "ethnic.group                               NaN\n",
      "age                                         22\n",
      "english.grade                              3.4\n",
      "math.grade                                 3.4\n",
      "sciences.grade                             3.1\n",
      "language.grade                             5.0\n",
      "portfolio.rating                             3\n",
      "coverletter.rating                         5.0\n",
      "refletter.rating                             5\n",
      "Name: 66, dtype: object)\n",
      "(67, id                                          67\n",
      "name                               Lindsey Job\n",
      "nationality           United States of America\n",
      "city                               Los Angeles\n",
      "latitude                                 34.05\n",
      "longitude                              -118.24\n",
      "gender                                       F\n",
      "ethnic.group                               NaN\n",
      "age                                         23\n",
      "english.grade                              2.7\n",
      "math.grade                                 3.7\n",
      "sciences.grade                             1.8\n",
      "language.grade                             5.0\n",
      "portfolio.rating                             4\n",
      "coverletter.rating                         5.0\n",
      "refletter.rating                             4\n",
      "Name: 67, dtype: object)\n",
      "(68, id                                     68\n",
      "name                      Gabrielle Smith\n",
      "nationality           Korea (Republic of)\n",
      "city                                Seoul\n",
      "latitude                             37.6\n",
      "longitude                          126.98\n",
      "gender                                  F\n",
      "ethnic.group                          NaN\n",
      "age                                    23\n",
      "english.grade                         4.0\n",
      "math.grade                            3.0\n",
      "sciences.grade                        2.8\n",
      "language.grade                        3.0\n",
      "portfolio.rating                        2\n",
      "coverletter.rating                    2.0\n",
      "refletter.rating                        4\n",
      "Name: 68, dtype: object)\n",
      "(69, id                                          69\n",
      "name                       Allison Brink-Lomme\n",
      "nationality           United States of America\n",
      "city                                  Portland\n",
      "latitude                                 45.52\n",
      "longitude                              -122.67\n",
      "gender                                       F\n",
      "ethnic.group                               NaN\n",
      "age                                         24\n",
      "english.grade                              2.8\n",
      "math.grade                                 3.6\n",
      "sciences.grade                             4.0\n",
      "language.grade                             5.0\n",
      "portfolio.rating                             4\n",
      "coverletter.rating                         3.0\n",
      "refletter.rating                             1\n",
      "Name: 69, dtype: object)\n",
      "(70, id                                             70\n",
      "name                  Sheyenne Delgado-Manzanares\n",
      "nationality                                  Cuba\n",
      "city                                   Manzanillo\n",
      "latitude                                    20.34\n",
      "longitude                                  -77.12\n",
      "gender                                          F\n",
      "ethnic.group                                  NaN\n",
      "age                                            21\n",
      "english.grade                                 3.9\n",
      "math.grade                                    2.8\n",
      "sciences.grade                                3.2\n",
      "language.grade                                3.0\n",
      "portfolio.rating                                4\n",
      "coverletter.rating                            4.0\n",
      "refletter.rating                                5\n",
      "Name: 70, dtype: object)\n",
      "(71, id                                          71\n",
      "name                              Joseph Smith\n",
      "nationality           United States of America\n",
      "city                                Sacramento\n",
      "latitude                                 38.58\n",
      "longitude                              -121.49\n",
      "gender                                       M\n",
      "ethnic.group                               NaN\n",
      "age                                         21\n",
      "english.grade                              3.7\n",
      "math.grade                                 3.7\n",
      "sciences.grade                             2.8\n",
      "language.grade                             5.0\n",
      "portfolio.rating                             5\n",
      "coverletter.rating                         4.0\n",
      "refletter.rating                             4\n",
      "Name: 71, dtype: object)\n",
      "(72, id                               72\n",
      "name                  Fikra al-Mina\n",
      "nationality                   India\n",
      "city                         Bombay\n",
      "latitude                      18.98\n",
      "longitude                     72.83\n",
      "gender                            F\n",
      "ethnic.group                    NaN\n",
      "age                              21\n",
      "english.grade                   3.1\n",
      "math.grade                      2.4\n",
      "sciences.grade                  3.3\n",
      "language.grade                  3.0\n",
      "portfolio.rating                  1\n",
      "coverletter.rating              5.0\n",
      "refletter.rating                  4\n",
      "Name: 72, dtype: object)\n",
      "(73, id                                          73\n",
      "name                      Aurelia Davis Ingham\n",
      "nationality           United States of America\n",
      "city                                 Roseville\n",
      "latitude                                 38.75\n",
      "longitude                              -121.29\n",
      "gender                                       F\n",
      "ethnic.group                               NaN\n",
      "age                                         22\n",
      "english.grade                              3.8\n",
      "math.grade                                 2.2\n",
      "sciences.grade                             3.7\n",
      "language.grade                             5.0\n",
      "portfolio.rating                             4\n",
      "coverletter.rating                         5.0\n",
      "refletter.rating                             5\n",
      "Name: 73, dtype: object)\n",
      "(74, id                                          74\n",
      "name                             Taylor Elstun\n",
      "nationality           United States of America\n",
      "city                                 San Diego\n",
      "latitude                                 32.72\n",
      "longitude                              -117.16\n",
      "gender                                       F\n",
      "ethnic.group                               NaN\n",
      "age                                         21\n",
      "english.grade                              2.3\n",
      "math.grade                                 3.7\n",
      "sciences.grade                             3.6\n",
      "language.grade                             5.0\n",
      "portfolio.rating                             5\n",
      "coverletter.rating                         4.0\n",
      "refletter.rating                             5\n",
      "Name: 74, dtype: object)\n",
      "(75, id                                          75\n",
      "name                             Joseph Snider\n",
      "nationality           United States of America\n",
      "city                               Los Angeles\n",
      "latitude                                 34.05\n",
      "longitude                              -118.24\n",
      "gender                                       M\n",
      "ethnic.group                               NaN\n",
      "age                                         21\n",
      "english.grade                              3.2\n",
      "math.grade                                 2.6\n",
      "sciences.grade                             3.0\n",
      "language.grade                             5.0\n",
      "portfolio.rating                             5\n",
      "coverletter.rating                         4.0\n",
      "refletter.rating                             5\n",
      "Name: 75, dtype: object)\n",
      "(76, id                                  76\n",
      "name                  Sourinthone Tran\n",
      "nationality                      China\n",
      "city                             Wuhan\n",
      "latitude                         30.58\n",
      "longitude                       114.27\n",
      "gender                               M\n",
      "ethnic.group                       NaN\n",
      "age                                 21\n",
      "english.grade                      3.5\n",
      "math.grade                         3.9\n",
      "sciences.grade                     3.4\n",
      "language.grade                     4.0\n",
      "portfolio.rating                     4\n",
      "coverletter.rating                 4.0\n",
      "refletter.rating                     5\n",
      "Name: 76, dtype: object)\n",
      "(77, id                                   77\n",
      "name                  Ibrahim al-Sawaya\n",
      "nationality                     Tunisia\n",
      "city                       Manzil Tamim\n",
      "latitude                          36.78\n",
      "longitude                         10.99\n",
      "gender                                M\n",
      "ethnic.group                        NaN\n",
      "age                                  23\n",
      "english.grade                       3.5\n",
      "math.grade                          3.1\n",
      "sciences.grade                      4.0\n",
      "language.grade                      4.0\n",
      "portfolio.rating                      5\n",
      "coverletter.rating                  3.0\n",
      "refletter.rating                      3\n",
      "Name: 77, dtype: object)\n",
      "(78, id                                          78\n",
      "name                            Alexandra Levy\n",
      "nationality           United States of America\n",
      "city                               Los Angeles\n",
      "latitude                                 34.05\n",
      "longitude                              -118.24\n",
      "gender                                       F\n",
      "ethnic.group                               NaN\n",
      "age                                         23\n",
      "english.grade                              3.1\n",
      "math.grade                                 2.5\n",
      "sciences.grade                             3.7\n",
      "language.grade                             5.0\n",
      "portfolio.rating                             4\n",
      "coverletter.rating                         3.0\n",
      "refletter.rating                             5\n",
      "Name: 78, dtype: object)\n",
      "(79, id                              79\n",
      "name                  Macie Nguyen\n",
      "nationality                  Japan\n",
      "city                         Tokyo\n",
      "latitude                     35.69\n",
      "longitude                   139.75\n",
      "gender                           F\n",
      "ethnic.group                   NaN\n",
      "age                             23\n",
      "english.grade                  3.1\n",
      "math.grade                     3.8\n",
      "sciences.grade                 3.8\n",
      "language.grade                 4.0\n",
      "portfolio.rating                 2\n",
      "coverletter.rating             4.0\n",
      "refletter.rating                 3\n",
      "Name: 79, dtype: object)\n",
      "(80, id                                          80\n",
      "name                              Sean Tegtman\n",
      "nationality           United States of America\n",
      "city                                 Kettering\n",
      "latitude                                 39.69\n",
      "longitude                               -84.17\n",
      "gender                                       M\n",
      "ethnic.group                               NaN\n",
      "age                                         25\n",
      "english.grade                              3.7\n",
      "math.grade                                 3.8\n",
      "sciences.grade                             3.8\n",
      "language.grade                             5.0\n",
      "portfolio.rating                             3\n",
      "coverletter.rating                         4.0\n",
      "refletter.rating                             5\n",
      "Name: 80, dtype: object)\n",
      "(81, id                                          81\n",
      "name                          Casey Vanden Bos\n",
      "nationality           United States of America\n",
      "city                               Los Angeles\n",
      "latitude                                 34.05\n",
      "longitude                              -118.24\n",
      "gender                                       M\n",
      "ethnic.group                               NaN\n",
      "age                                         22\n",
      "english.grade                              2.7\n",
      "math.grade                                 2.6\n",
      "sciences.grade                             3.3\n",
      "language.grade                             5.0\n",
      "portfolio.rating                             5\n",
      "coverletter.rating                         5.0\n",
      "refletter.rating                             4\n",
      "Name: 81, dtype: object)\n",
      "(82, id                            82\n",
      "name                  Staci Maes\n",
      "nationality               Mexico\n",
      "city                      Mexico\n",
      "latitude                   19.43\n",
      "longitude                 -99.14\n",
      "gender                         F\n",
      "ethnic.group                 NaN\n",
      "age                           23\n",
      "english.grade                3.4\n",
      "math.grade                   2.6\n",
      "sciences.grade               3.9\n",
      "language.grade               2.0\n",
      "portfolio.rating               5\n",
      "coverletter.rating           3.0\n",
      "refletter.rating               5\n",
      "Name: 82, dtype: object)\n",
      "(83, id                                          83\n",
      "name                                Luke Davey\n",
      "nationality           United States of America\n",
      "city                               Los Angeles\n",
      "latitude                                 34.05\n",
      "longitude                              -118.24\n",
      "gender                                       M\n",
      "ethnic.group                               NaN\n",
      "age                                         26\n",
      "english.grade                              3.8\n",
      "math.grade                                 3.4\n",
      "sciences.grade                             3.7\n",
      "language.grade                             5.0\n",
      "portfolio.rating                             4\n",
      "coverletter.rating                         5.0\n",
      "refletter.rating                             3\n",
      "Name: 83, dtype: object)\n",
      "(84, id                                          84\n",
      "name                    Harper Wheeler-Marques\n",
      "nationality           United States of America\n",
      "city                                 San Diego\n",
      "latitude                                 32.72\n",
      "longitude                              -117.16\n",
      "gender                                       F\n",
      "ethnic.group                               NaN\n",
      "age                                         23\n",
      "english.grade                              3.9\n",
      "math.grade                                 2.4\n",
      "sciences.grade                             3.9\n",
      "language.grade                             5.0\n",
      "portfolio.rating                             5\n",
      "coverletter.rating                         4.0\n",
      "refletter.rating                             2\n",
      "Name: 84, dtype: object)\n",
      "(85, id                                    85\n",
      "name                  Sherleen Saravanan\n",
      "nationality                      Myanmar\n",
      "city                             Rangoon\n",
      "latitude                           16.78\n",
      "longitude                          96.17\n",
      "gender                                 F\n",
      "ethnic.group                         NaN\n",
      "age                                   22\n",
      "english.grade                        3.1\n",
      "math.grade                           3.4\n",
      "sciences.grade                       3.7\n",
      "language.grade                       3.0\n",
      "portfolio.rating                       4\n",
      "coverletter.rating                   3.0\n",
      "refletter.rating                       5\n",
      "Name: 85, dtype: object)\n",
      "(86, id                                          86\n",
      "name                              Myles Vaught\n",
      "nationality           United States of America\n",
      "city                                  Waukegan\n",
      "latitude                                 42.36\n",
      "longitude                               -87.84\n",
      "gender                                       M\n",
      "ethnic.group                               NaN\n",
      "age                                         21\n",
      "english.grade                              3.4\n",
      "math.grade                                 3.8\n",
      "sciences.grade                             3.9\n",
      "language.grade                             5.0\n",
      "portfolio.rating                             3\n",
      "coverletter.rating                         4.0\n",
      "refletter.rating                             4\n",
      "Name: 86, dtype: object)\n",
      "(87, id                                       87\n",
      "name                  Juan Guerrero Camacho\n",
      "nationality                          Mexico\n",
      "city                                 Mexico\n",
      "latitude                              19.43\n",
      "longitude                            -99.14\n",
      "gender                                    M\n",
      "ethnic.group                            NaN\n",
      "age                                      21\n",
      "english.grade                           2.8\n",
      "math.grade                              3.7\n",
      "sciences.grade                          3.5\n",
      "language.grade                          2.0\n",
      "portfolio.rating                          4\n",
      "coverletter.rating                      4.0\n",
      "refletter.rating                          5\n",
      "Name: 87, dtype: object)\n",
      "(88, id                                          88\n",
      "name                            Lindsey Freund\n",
      "nationality           United States of America\n",
      "city                                  New York\n",
      "latitude                                 40.71\n",
      "longitude                               -74.01\n",
      "gender                                       F\n",
      "ethnic.group                               NaN\n",
      "age                                         20\n",
      "english.grade                              3.3\n",
      "math.grade                                 2.3\n",
      "sciences.grade                             3.9\n",
      "language.grade                             5.0\n",
      "portfolio.rating                             3\n",
      "coverletter.rating                         5.0\n",
      "refletter.rating                             5\n",
      "Name: 88, dtype: object)\n",
      "(89, id                                          89\n",
      "name                            Savannah Clark\n",
      "nationality           United States of America\n",
      "city                                   Visalia\n",
      "latitude                                 36.33\n",
      "longitude                              -119.29\n",
      "gender                                       F\n",
      "ethnic.group                               NaN\n",
      "age                                         20\n",
      "english.grade                              2.8\n",
      "math.grade                                 3.5\n",
      "sciences.grade                             2.6\n",
      "language.grade                             5.0\n",
      "portfolio.rating                             3\n",
      "coverletter.rating                         4.0\n",
      "refletter.rating                             4\n",
      "Name: 89, dtype: object)\n",
      "(90, id                                          90\n",
      "name                           Bradley Monsell\n",
      "nationality           United States of America\n",
      "city                                  New York\n",
      "latitude                                 40.71\n",
      "longitude                               -74.01\n",
      "gender                                       M\n",
      "ethnic.group                               NaN\n",
      "age                                         22\n",
      "english.grade                              3.0\n",
      "math.grade                                 3.9\n",
      "sciences.grade                             3.1\n",
      "language.grade                             5.0\n",
      "portfolio.rating                             5\n",
      "coverletter.rating                         2.0\n",
      "refletter.rating                             4\n",
      "Name: 90, dtype: object)\n",
      "(91, id                                          91\n",
      "name                            Daisha Schmidt\n",
      "nationality           United States of America\n",
      "city                                   Boulder\n",
      "latitude                                 40.02\n",
      "longitude                              -105.27\n",
      "gender                                       F\n",
      "ethnic.group                               NaN\n",
      "age                                         22\n",
      "english.grade                              3.7\n",
      "math.grade                                 3.9\n",
      "sciences.grade                             4.0\n",
      "language.grade                             5.0\n",
      "portfolio.rating                             5\n",
      "coverletter.rating                         4.0\n",
      "refletter.rating                             4\n",
      "Name: 91, dtype: object)\n",
      "(92, id                                          92\n",
      "name                          Airabella Koontz\n",
      "nationality           United States of America\n",
      "city                                    Dallas\n",
      "latitude                                 32.78\n",
      "longitude                                -96.8\n",
      "gender                                       F\n",
      "ethnic.group                               NaN\n",
      "age                                         22\n",
      "english.grade                              2.7\n",
      "math.grade                                 3.3\n",
      "sciences.grade                             3.4\n",
      "language.grade                             5.0\n",
      "portfolio.rating                             4\n",
      "coverletter.rating                         5.0\n",
      "refletter.rating                             4\n",
      "Name: 92, dtype: object)\n",
      "(93, id                                    93\n",
      "name                        Hailey Malle\n",
      "nationality           Russian Federation\n",
      "city                    Nizhniy Novgorod\n",
      "latitude                           56.33\n",
      "longitude                          44.01\n",
      "gender                                 F\n",
      "ethnic.group                         NaN\n",
      "age                                   22\n",
      "english.grade                        3.7\n",
      "math.grade                           2.5\n",
      "sciences.grade                       3.2\n",
      "language.grade                       2.0\n",
      "portfolio.rating                       3\n",
      "coverletter.rating                   3.0\n",
      "refletter.rating                       5\n",
      "Name: 93, dtype: object)\n",
      "(94, id                               94\n",
      "name                  Devon Miranda\n",
      "nationality                Colombia\n",
      "city                        Pereira\n",
      "latitude                       4.81\n",
      "longitude                     -75.7\n",
      "gender                            M\n",
      "ethnic.group                    NaN\n",
      "age                              20\n",
      "english.grade                   3.7\n",
      "math.grade                      3.7\n",
      "sciences.grade                  3.8\n",
      "language.grade                  1.0\n",
      "portfolio.rating                  5\n",
      "coverletter.rating              5.0\n",
      "refletter.rating                  5\n",
      "Name: 94, dtype: object)\n",
      "(95, id                                 95\n",
      "name                  Danielle Nguyen\n",
      "nationality                     Japan\n",
      "city                            Tokyo\n",
      "latitude                        35.69\n",
      "longitude                      139.75\n",
      "gender                              F\n",
      "ethnic.group                      NaN\n",
      "age                                23\n",
      "english.grade                     3.3\n",
      "math.grade                        3.5\n",
      "sciences.grade                    3.6\n",
      "language.grade                    3.0\n",
      "portfolio.rating                    5\n",
      "coverletter.rating                4.0\n",
      "refletter.rating                    4\n",
      "Name: 95, dtype: object)\n",
      "(96, id                                96\n",
      "name                  Mateo Cisneros\n",
      "nationality                   Brazil\n",
      "city                   Foz do Iguaçu\n",
      "latitude                      -25.55\n",
      "longitude                     -54.58\n",
      "gender                             M\n",
      "ethnic.group                     NaN\n",
      "age                               23\n",
      "english.grade                    3.0\n",
      "math.grade                       3.4\n",
      "sciences.grade                   2.9\n",
      "language.grade                   4.0\n",
      "portfolio.rating                   4\n",
      "coverletter.rating               4.0\n",
      "refletter.rating                   5\n",
      "Name: 96, dtype: object)\n",
      "(97, id                               97\n",
      "name                  William Pablo\n",
      "nationality                   Japan\n",
      "city                      Kashiwara\n",
      "latitude                      34.58\n",
      "longitude                    135.62\n",
      "gender                            M\n",
      "ethnic.group                    NaN\n",
      "age                              24\n",
      "english.grade                   2.9\n",
      "math.grade                      3.3\n",
      "sciences.grade                  3.1\n",
      "language.grade                  4.0\n",
      "portfolio.rating                  2\n",
      "coverletter.rating              5.0\n",
      "refletter.rating                  4\n",
      "Name: 97, dtype: object)\n",
      "(98, id                                          98\n",
      "name                         Jason Hundsdorfer\n",
      "nationality           United States of America\n",
      "city                               Los Angeles\n",
      "latitude                                 34.05\n",
      "longitude                              -118.24\n",
      "gender                                       M\n",
      "ethnic.group                               NaN\n",
      "age                                         20\n",
      "english.grade                              3.9\n",
      "math.grade                                 3.9\n",
      "sciences.grade                             4.0\n",
      "language.grade                             5.0\n",
      "portfolio.rating                             3\n",
      "coverletter.rating                         3.5\n",
      "refletter.rating                             3\n",
      "Name: 98, dtype: object)\n",
      "(99, id                               99\n",
      "name                  Antonio Desai\n",
      "nationality                   Japan\n",
      "city                       Kawasaki\n",
      "latitude                      35.52\n",
      "longitude                    139.72\n",
      "gender                            M\n",
      "ethnic.group                    NaN\n",
      "age                              22\n",
      "english.grade                   2.2\n",
      "math.grade                      3.9\n",
      "sciences.grade                  3.9\n",
      "language.grade                  3.0\n",
      "portfolio.rating                  5\n",
      "coverletter.rating              4.0\n",
      "refletter.rating                  5\n",
      "Name: 99, dtype: object)\n",
      "(100, id                                         100\n",
      "name                            Rachel Bakeman\n",
      "nationality           United States of America\n",
      "city                                   Phoenix\n",
      "latitude                                 33.45\n",
      "longitude                              -112.07\n",
      "gender                                       F\n",
      "ethnic.group                               NaN\n",
      "age                                         24\n",
      "english.grade                              3.9\n",
      "math.grade                                 3.7\n",
      "sciences.grade                             3.8\n",
      "language.grade                             5.0\n",
      "portfolio.rating                             4\n",
      "coverletter.rating                         5.0\n",
      "refletter.rating                             3\n",
      "Name: 100, dtype: object)\n",
      "(101, id                                    101\n",
      "name                  Mamdooh el-Moustafa\n",
      "nationality                      Pakistan\n",
      "city                              Karachi\n",
      "latitude                            24.91\n",
      "longitude                           67.08\n",
      "gender                                  M\n",
      "ethnic.group                          NaN\n",
      "age                                    22\n",
      "english.grade                         3.3\n",
      "math.grade                            2.8\n",
      "sciences.grade                        3.9\n",
      "language.grade                        4.0\n",
      "portfolio.rating                        4\n",
      "coverletter.rating                    4.0\n",
      "refletter.rating                        4\n",
      "Name: 101, dtype: object)\n",
      "(102, id                                         102\n",
      "name                            Lindsey Carter\n",
      "nationality           United States of America\n",
      "city                              Redwood City\n",
      "latitude                                 37.49\n",
      "longitude                              -122.24\n",
      "gender                                       F\n",
      "ethnic.group                               NaN\n",
      "age                                         24\n",
      "english.grade                              3.2\n",
      "math.grade                                 3.9\n",
      "sciences.grade                             3.9\n",
      "language.grade                             5.0\n",
      "portfolio.rating                             2\n",
      "coverletter.rating                         4.0\n",
      "refletter.rating                             5\n",
      "Name: 102, dtype: object)\n",
      "(103, id                                         103\n",
      "name                              Duncan Kruse\n",
      "nationality           United States of America\n",
      "city                                 Santa Ana\n",
      "latitude                                 33.75\n",
      "longitude                              -117.87\n",
      "gender                                       M\n",
      "ethnic.group                               NaN\n",
      "age                                         23\n",
      "english.grade                              3.7\n",
      "math.grade                                 3.8\n",
      "sciences.grade                             3.7\n",
      "language.grade                             5.0\n",
      "portfolio.rating                             1\n",
      "coverletter.rating                         5.0\n",
      "refletter.rating                             4\n",
      "Name: 103, dtype: object)\n",
      "(104, id                                104\n",
      "name                  Callahan Foster\n",
      "nationality                    Canada\n",
      "city                          Toronto\n",
      "latitude                        43.67\n",
      "longitude                      -79.42\n",
      "gender                          other\n",
      "ethnic.group                      NaN\n",
      "age                                22\n",
      "english.grade                     3.2\n",
      "math.grade                        3.0\n",
      "sciences.grade                    3.9\n",
      "language.grade                    5.0\n",
      "portfolio.rating                    3\n",
      "coverletter.rating                3.0\n",
      "refletter.rating                    5\n",
      "Name: 104, dtype: object)\n",
      "(105, id                                   105\n",
      "name                         Jamie Ortiz\n",
      "nationality                  El Salvador\n",
      "city                  Nueva San Salvador\n",
      "latitude                           13.68\n",
      "longitude                         -89.28\n",
      "gender                                 F\n",
      "ethnic.group                         NaN\n",
      "age                                   23\n",
      "english.grade                        3.3\n",
      "math.grade                           2.9\n",
      "sciences.grade                       3.5\n",
      "language.grade                       3.0\n",
      "portfolio.rating                       4\n",
      "coverletter.rating                   4.0\n",
      "refletter.rating                       4\n",
      "Name: 105, dtype: object)\n",
      "(106, id                                         106\n",
      "name                              Ryan Barrett\n",
      "nationality           United States of America\n",
      "city                                   Chicago\n",
      "latitude                                 41.85\n",
      "longitude                               -87.65\n",
      "gender                                       M\n",
      "ethnic.group                               NaN\n",
      "age                                         20\n",
      "english.grade                              3.7\n",
      "math.grade                                 3.2\n",
      "sciences.grade                             4.0\n",
      "language.grade                             5.0\n",
      "portfolio.rating                             5\n",
      "coverletter.rating                         4.0\n",
      "refletter.rating                             1\n",
      "Name: 106, dtype: object)\n",
      "(107, id                                         107\n",
      "name                             Samuel Palmer\n",
      "nationality           United States of America\n",
      "city                                  New York\n",
      "latitude                                 40.71\n",
      "longitude                               -74.01\n",
      "gender                                       M\n",
      "ethnic.group                               NaN\n",
      "age                                         22\n",
      "english.grade                              3.9\n",
      "math.grade                                 3.3\n",
      "sciences.grade                             3.3\n",
      "language.grade                             5.0\n",
      "portfolio.rating                             5\n",
      "coverletter.rating                         4.0\n",
      "refletter.rating                             2\n",
      "Name: 107, dtype: object)\n",
      "(108, id                                         108\n",
      "name                          Riley Mcloughlin\n",
      "nationality           United States of America\n",
      "city                               Los Angeles\n",
      "latitude                                 34.05\n",
      "longitude                              -118.24\n",
      "gender                                       M\n",
      "ethnic.group                               NaN\n",
      "age                                         23\n",
      "english.grade                              3.6\n",
      "math.grade                                 3.6\n",
      "sciences.grade                             3.3\n",
      "language.grade                             5.0\n",
      "portfolio.rating                             5\n",
      "coverletter.rating                         4.0\n",
      "refletter.rating                             4\n",
      "Name: 108, dtype: object)\n",
      "(109, id                                         109\n",
      "name                             Aimee Apelyan\n",
      "nationality           United States of America\n",
      "city                                    Joliet\n",
      "latitude                                 41.52\n",
      "longitude                               -88.08\n",
      "gender                                       F\n",
      "ethnic.group                               NaN\n",
      "age                                         24\n",
      "english.grade                              3.3\n",
      "math.grade                                 3.8\n",
      "sciences.grade                             3.8\n",
      "language.grade                             5.0\n",
      "portfolio.rating                             4\n",
      "coverletter.rating                         4.0\n",
      "refletter.rating                             4\n",
      "Name: 109, dtype: object)\n",
      "(110, id                                         110\n",
      "name                            Maryah Falloon\n",
      "nationality           United States of America\n",
      "city                                   Phoenix\n",
      "latitude                                 33.45\n",
      "longitude                              -112.07\n",
      "gender                                       F\n",
      "ethnic.group                               NaN\n",
      "age                                         23\n",
      "english.grade                              3.9\n",
      "math.grade                                 3.7\n",
      "sciences.grade                             3.9\n",
      "language.grade                             5.0\n",
      "portfolio.rating                             3\n",
      "coverletter.rating                         4.0\n",
      "refletter.rating                             5\n",
      "Name: 110, dtype: object)\n",
      "(111, id                                 111\n",
      "name                  Lucille Mitchell\n",
      "nationality                     Canada\n",
      "city                          Edmonton\n",
      "latitude                         53.55\n",
      "longitude                       -113.5\n",
      "gender                               F\n",
      "ethnic.group                       NaN\n",
      "age                                 22\n",
      "english.grade                      3.5\n",
      "math.grade                         3.6\n",
      "sciences.grade                     2.6\n",
      "language.grade                     5.0\n",
      "portfolio.rating                     5\n",
      "coverletter.rating                 4.0\n",
      "refletter.rating                     4\n",
      "Name: 111, dtype: object)\n",
      "(112, id                                         112\n",
      "name                  Christian Zambrano-Munoz\n",
      "nationality                             Mexico\n",
      "city                                  Mexicali\n",
      "latitude                                 32.65\n",
      "longitude                              -115.47\n",
      "gender                                       M\n",
      "ethnic.group                               NaN\n",
      "age                                         23\n",
      "english.grade                              3.1\n",
      "math.grade                                 3.9\n",
      "sciences.grade                             3.6\n",
      "language.grade                             4.0\n",
      "portfolio.rating                             4\n",
      "coverletter.rating                         3.0\n",
      "refletter.rating                             4\n",
      "Name: 112, dtype: object)\n",
      "(113, id                                         113\n",
      "name                        Bryce Vaillancourt\n",
      "nationality           United States of America\n",
      "city                                    Pomona\n",
      "latitude                                 34.06\n",
      "longitude                              -117.75\n",
      "gender                                       M\n",
      "ethnic.group                               NaN\n",
      "age                                         22\n",
      "english.grade                              3.7\n",
      "math.grade                                 3.8\n",
      "sciences.grade                             2.1\n",
      "language.grade                             5.0\n",
      "portfolio.rating                             4\n",
      "coverletter.rating                         5.0\n",
      "refletter.rating                             4\n",
      "Name: 113, dtype: object)\n",
      "(114, id                                         114\n",
      "name                         Brandilyn Collins\n",
      "nationality           United States of America\n",
      "city                               Los Angeles\n",
      "latitude                                 34.05\n",
      "longitude                              -118.24\n",
      "gender                                       F\n",
      "ethnic.group                               NaN\n",
      "age                                         21\n",
      "english.grade                              3.6\n",
      "math.grade                                 3.0\n",
      "sciences.grade                             3.3\n",
      "language.grade                             5.0\n",
      "portfolio.rating                             4\n",
      "coverletter.rating                         4.0\n",
      "refletter.rating                             4\n",
      "Name: 114, dtype: object)\n",
      "(115, id                                         115\n",
      "name                           Konner Gearhart\n",
      "nationality           United States of America\n",
      "city                                  New York\n",
      "latitude                                 40.71\n",
      "longitude                               -74.01\n",
      "gender                                       M\n",
      "ethnic.group                               NaN\n",
      "age                                         22\n",
      "english.grade                              3.9\n",
      "math.grade                                 3.7\n",
      "sciences.grade                             3.3\n",
      "language.grade                             5.0\n",
      "portfolio.rating                             4\n",
      "coverletter.rating                         3.0\n",
      "refletter.rating                             3\n",
      "Name: 115, dtype: object)\n",
      "(116, id                                         116\n",
      "name                           Andrew Houghton\n",
      "nationality           United States of America\n",
      "city                                   Spokane\n",
      "latitude                                 47.66\n",
      "longitude                              -117.42\n",
      "gender                                       M\n",
      "ethnic.group                               NaN\n",
      "age                                         22\n",
      "english.grade                              3.2\n",
      "math.grade                                 3.2\n",
      "sciences.grade                             3.8\n",
      "language.grade                             5.0\n",
      "portfolio.rating                             2\n",
      "coverletter.rating                         4.0\n",
      "refletter.rating                             5\n",
      "Name: 116, dtype: object)\n",
      "(117, id                             117\n",
      "name                  Marisa Ramey\n",
      "nationality                 Mexico\n",
      "city                        Mexico\n",
      "latitude                     19.43\n",
      "longitude                   -99.14\n",
      "gender                           F\n",
      "ethnic.group                   NaN\n",
      "age                             22\n",
      "english.grade                  3.2\n",
      "math.grade                     4.0\n",
      "sciences.grade                 3.8\n",
      "language.grade                 4.0\n",
      "portfolio.rating                 3\n",
      "coverletter.rating             3.0\n",
      "refletter.rating                 4\n",
      "Name: 117, dtype: object)\n",
      "(118, id                                         118\n",
      "name                           Magdalynne Noah\n",
      "nationality           United States of America\n",
      "city                                  New York\n",
      "latitude                                 40.71\n",
      "longitude                               -74.01\n",
      "gender                                       F\n",
      "ethnic.group                               NaN\n",
      "age                                         22\n",
      "english.grade                              3.2\n",
      "math.grade                                 3.8\n",
      "sciences.grade                             3.8\n",
      "language.grade                             5.0\n",
      "portfolio.rating                             3\n",
      "coverletter.rating                         4.0\n",
      "refletter.rating                             4\n",
      "Name: 118, dtype: object)\n",
      "(119, id                                         119\n",
      "name                            Megan Salamena\n",
      "nationality           United States of America\n",
      "city                               Los Angeles\n",
      "latitude                                 34.05\n",
      "longitude                              -118.24\n",
      "gender                                       F\n",
      "ethnic.group                               NaN\n",
      "age                                         23\n",
      "english.grade                              3.9\n",
      "math.grade                                 3.9\n",
      "sciences.grade                             3.1\n",
      "language.grade                             5.0\n",
      "portfolio.rating                             4\n",
      "coverletter.rating                         4.0\n",
      "refletter.rating                             5\n",
      "Name: 119, dtype: object)\n",
      "(120, id                                   120\n",
      "name                       Meghan Arnold\n",
      "nationality           Russian Federation\n",
      "city                    Saint Petersburg\n",
      "latitude                           59.89\n",
      "longitude                          30.26\n",
      "gender                                 F\n",
      "ethnic.group                         NaN\n",
      "age                                   24\n",
      "english.grade                        4.0\n",
      "math.grade                           3.9\n",
      "sciences.grade                       3.3\n",
      "language.grade                       3.0\n",
      "portfolio.rating                       5\n",
      "coverletter.rating                   3.0\n",
      "refletter.rating                       3\n",
      "Name: 120, dtype: object)\n",
      "(121, id                           121\n",
      "name                  James Rice\n",
      "nationality               Canada\n",
      "city                     Toronto\n",
      "latitude                   43.67\n",
      "longitude                 -79.42\n",
      "gender                         M\n",
      "ethnic.group                 NaN\n",
      "age                           20\n",
      "english.grade                3.9\n",
      "math.grade                   2.4\n",
      "sciences.grade               3.6\n",
      "language.grade               5.0\n",
      "portfolio.rating               4\n",
      "coverletter.rating           3.0\n",
      "refletter.rating               4\n",
      "Name: 121, dtype: object)\n",
      "(122, id                                         122\n",
      "name                               Wesley Nunn\n",
      "nationality           United States of America\n",
      "city                               Los Angeles\n",
      "latitude                                 34.05\n",
      "longitude                              -118.24\n",
      "gender                                       M\n",
      "ethnic.group                               NaN\n",
      "age                                         23\n",
      "english.grade                              3.9\n",
      "math.grade                                 4.0\n",
      "sciences.grade                             2.1\n",
      "language.grade                             5.0\n",
      "portfolio.rating                             5\n",
      "coverletter.rating                         5.0\n",
      "refletter.rating                             3\n",
      "Name: 122, dtype: object)\n",
      "(123, id                                         123\n",
      "name                            Gareth Newkirk\n",
      "nationality           United States of America\n",
      "city                               Los Angeles\n",
      "latitude                                 34.05\n",
      "longitude                              -118.24\n",
      "gender                                       M\n",
      "ethnic.group                               NaN\n",
      "age                                         21\n",
      "english.grade                              4.0\n",
      "math.grade                                 3.2\n",
      "sciences.grade                             3.9\n",
      "language.grade                             5.0\n",
      "portfolio.rating                             4\n",
      "coverletter.rating                         5.0\n",
      "refletter.rating                             4\n",
      "Name: 123, dtype: object)\n",
      "(124, id                                         124\n",
      "name                            Austin Harline\n",
      "nationality           United States of America\n",
      "city                                 Las Vegas\n",
      "latitude                                 36.17\n",
      "longitude                              -115.14\n",
      "gender                                       M\n",
      "ethnic.group                               NaN\n",
      "age                                         21\n",
      "english.grade                              2.8\n",
      "math.grade                                 3.8\n",
      "sciences.grade                             3.8\n",
      "language.grade                             5.0\n",
      "portfolio.rating                             5\n",
      "coverletter.rating                         5.0\n",
      "refletter.rating                             4\n",
      "Name: 124, dtype: object)\n",
      "(125, id                                  125\n",
      "name                  Courtney Martinez\n",
      "nationality                      Mexico\n",
      "city                     Aguascalientes\n",
      "latitude                          21.88\n",
      "longitude                        -102.3\n",
      "gender                                F\n",
      "ethnic.group                        NaN\n",
      "age                                  20\n",
      "english.grade                       3.7\n",
      "math.grade                          3.7\n",
      "sciences.grade                      3.7\n",
      "language.grade                      3.0\n",
      "portfolio.rating                      4\n",
      "coverletter.rating                  5.0\n",
      "refletter.rating                      5\n",
      "Name: 125, dtype: object)\n",
      "(126, id                                         126\n",
      "name                          Alexandra Graham\n",
      "nationality           United States of America\n",
      "city                               Los Angeles\n",
      "latitude                                 34.05\n",
      "longitude                              -118.24\n",
      "gender                                       F\n",
      "ethnic.group                               NaN\n",
      "age                                         22\n",
      "english.grade                              3.4\n",
      "math.grade                                 3.5\n",
      "sciences.grade                             2.8\n",
      "language.grade                             5.0\n",
      "portfolio.rating                             4\n",
      "coverletter.rating                         3.0\n",
      "refletter.rating                             5\n",
      "Name: 126, dtype: object)\n",
      "(127, id                                         127\n",
      "name                      Alexander Swearingen\n",
      "nationality           United States of America\n",
      "city                               Los Angeles\n",
      "latitude                                 34.05\n",
      "longitude                              -118.24\n",
      "gender                                       M\n",
      "ethnic.group                               NaN\n",
      "age                                         22\n",
      "english.grade                              3.9\n",
      "math.grade                                 2.8\n",
      "sciences.grade                             4.0\n",
      "language.grade                             5.0\n",
      "portfolio.rating                             3\n",
      "coverletter.rating                         4.0\n",
      "refletter.rating                             4\n",
      "Name: 127, dtype: object)\n",
      "(128, id                               128\n",
      "name                  Brandy Waldner\n",
      "nationality                  Germany\n",
      "city                         Zülpich\n",
      "latitude                        50.7\n",
      "longitude                       6.65\n",
      "gender                             F\n",
      "ethnic.group                     NaN\n",
      "age                               20\n",
      "english.grade                    3.2\n",
      "math.grade                       3.5\n",
      "sciences.grade                   3.9\n",
      "language.grade                   3.0\n",
      "portfolio.rating                   5\n",
      "coverletter.rating               5.0\n",
      "refletter.rating                   5\n",
      "Name: 128, dtype: object)\n",
      "(129, id                                  129\n",
      "name                     Coleman Keelen\n",
      "nationality                       Spain\n",
      "city                  Callosa de Segura\n",
      "latitude                          38.12\n",
      "longitude                         -0.88\n",
      "gender                                M\n",
      "ethnic.group                        NaN\n",
      "age                                  24\n",
      "english.grade                       3.4\n",
      "math.grade                          4.0\n",
      "sciences.grade                      3.4\n",
      "language.grade                      4.0\n",
      "portfolio.rating                      4\n",
      "coverletter.rating                  4.0\n",
      "refletter.rating                      4\n",
      "Name: 129, dtype: object)\n",
      "(130, id                                         130\n",
      "name                                Casey Buhr\n",
      "nationality           United States of America\n",
      "city                                   Phoenix\n",
      "latitude                                 33.45\n",
      "longitude                              -112.07\n",
      "gender                                       M\n",
      "ethnic.group                               NaN\n",
      "age                                         21\n",
      "english.grade                              3.7\n",
      "math.grade                                 3.2\n",
      "sciences.grade                             2.5\n",
      "language.grade                             5.0\n",
      "portfolio.rating                             2\n",
      "coverletter.rating                         3.0\n",
      "refletter.rating                             5\n",
      "Name: 130, dtype: object)\n",
      "(131, id                                         131\n",
      "name                              Shauna Sneed\n",
      "nationality           United States of America\n",
      "city                                Burlingame\n",
      "latitude                                 37.58\n",
      "longitude                              -122.36\n",
      "gender                                       F\n",
      "ethnic.group                               NaN\n",
      "age                                         19\n",
      "english.grade                              2.7\n",
      "math.grade                                 3.7\n",
      "sciences.grade                             3.7\n",
      "language.grade                             5.0\n",
      "portfolio.rating                             5\n",
      "coverletter.rating                         4.0\n",
      "refletter.rating                             5\n",
      "Name: 131, dtype: object)\n",
      "(132, id                                         132\n",
      "name                              Caitlin Dean\n",
      "nationality           United States of America\n",
      "city                              Philadelphia\n",
      "latitude                                 39.95\n",
      "longitude                               -75.16\n",
      "gender                                       F\n",
      "ethnic.group                               NaN\n",
      "age                                         22\n",
      "english.grade                              3.9\n",
      "math.grade                                 3.7\n",
      "sciences.grade                             3.1\n",
      "language.grade                             5.0\n",
      "portfolio.rating                             4\n",
      "coverletter.rating                         4.0\n",
      "refletter.rating                             4\n",
      "Name: 132, dtype: object)\n",
      "(133, id                                         133\n",
      "name                              Andrew Kirin\n",
      "nationality           United States of America\n",
      "city                                    Odessa\n",
      "latitude                                 31.85\n",
      "longitude                              -102.37\n",
      "gender                                       M\n",
      "ethnic.group                               NaN\n",
      "age                                         25\n",
      "english.grade                              3.8\n",
      "math.grade                                 2.2\n",
      "sciences.grade                             3.0\n",
      "language.grade                             5.0\n",
      "portfolio.rating                             3\n",
      "coverletter.rating                         2.0\n",
      "refletter.rating                             3\n",
      "Name: 133, dtype: object)\n",
      "(134, id                                   134\n",
      "name                         Nadia Minks\n",
      "nationality           Russian Federation\n",
      "city                              Moscow\n",
      "latitude                           55.75\n",
      "longitude                          37.62\n",
      "gender                                 F\n",
      "ethnic.group                         NaN\n",
      "age                                   24\n",
      "english.grade                        3.8\n",
      "math.grade                           3.1\n",
      "sciences.grade                       3.5\n",
      "language.grade                       4.0\n",
      "portfolio.rating                       2\n",
      "coverletter.rating                   5.0\n",
      "refletter.rating                       5\n",
      "Name: 134, dtype: object)\n",
      "(135, id                           135\n",
      "name                  Ivy Lucero\n",
      "nationality               Brazil\n",
      "city                   São Paulo\n",
      "latitude                  -23.47\n",
      "longitude                 -46.67\n",
      "gender                         F\n",
      "ethnic.group                 NaN\n",
      "age                           24\n",
      "english.grade                3.9\n",
      "math.grade                   3.6\n",
      "sciences.grade               3.2\n",
      "language.grade               3.0\n",
      "portfolio.rating               4\n",
      "coverletter.rating           4.0\n",
      "refletter.rating               4\n",
      "Name: 135, dtype: object)\n",
      "(136, id                                         136\n",
      "name                               Kevin Curry\n",
      "nationality           United States of America\n",
      "city                                   Phoenix\n",
      "latitude                                 33.45\n",
      "longitude                              -112.07\n",
      "gender                                       M\n",
      "ethnic.group                               NaN\n",
      "age                                         23\n",
      "english.grade                              3.9\n",
      "math.grade                                 3.0\n",
      "sciences.grade                             3.7\n",
      "language.grade                             5.0\n",
      "portfolio.rating                             5\n",
      "coverletter.rating                         5.0\n",
      "refletter.rating                             5\n",
      "Name: 136, dtype: object)\n",
      "(137, id                                         137\n",
      "name                            Charles Cramer\n",
      "nationality           United States of America\n",
      "city                          East Los Angeles\n",
      "latitude                                 34.02\n",
      "longitude                              -118.17\n",
      "gender                                       M\n",
      "ethnic.group                               NaN\n",
      "age                                         23\n",
      "english.grade                              3.1\n",
      "math.grade                                 3.5\n",
      "sciences.grade                             3.8\n",
      "language.grade                             5.0\n",
      "portfolio.rating                             4\n",
      "coverletter.rating                         5.0\n",
      "refletter.rating                             4\n",
      "Name: 137, dtype: object)\n",
      "(138, id                                         138\n",
      "name                              Emily Warner\n",
      "nationality           United States of America\n",
      "city                                      Lodi\n",
      "latitude                                 38.13\n",
      "longitude                              -121.27\n",
      "gender                                       F\n",
      "ethnic.group                               NaN\n",
      "age                                         21\n",
      "english.grade                              3.5\n",
      "math.grade                                 3.2\n",
      "sciences.grade                             3.9\n",
      "language.grade                             5.0\n",
      "portfolio.rating                             3\n",
      "coverletter.rating                         5.0\n",
      "refletter.rating                             4\n",
      "Name: 138, dtype: object)\n",
      "(139, id                                 139\n",
      "name                  Mckenzie Haycock\n",
      "nationality                     Canada\n",
      "city                           Toronto\n",
      "latitude                         43.67\n",
      "longitude                       -79.42\n",
      "gender                               F\n",
      "ethnic.group                       NaN\n",
      "age                                 20\n",
      "english.grade                      3.8\n",
      "math.grade                         2.3\n",
      "sciences.grade                     3.7\n",
      "language.grade                     5.0\n",
      "portfolio.rating                     5\n",
      "coverletter.rating                 4.0\n",
      "refletter.rating                     3\n",
      "Name: 139, dtype: object)\n",
      "(140, id                             140\n",
      "name                  Faviola Soto\n",
      "nationality                 Mexico\n",
      "city                      Cortazar\n",
      "latitude                     20.48\n",
      "longitude                  -100.93\n",
      "gender                           F\n",
      "ethnic.group                   NaN\n",
      "age                             19\n",
      "english.grade                  4.0\n",
      "math.grade                     3.8\n",
      "sciences.grade                 3.9\n",
      "language.grade                 3.7\n",
      "portfolio.rating                 5\n",
      "coverletter.rating             5.0\n",
      "refletter.rating                 4\n",
      "Name: 140, dtype: object)\n",
      "(141, id                                 141\n",
      "name                   Stephen Wharton\n",
      "nationality                     Mexico\n",
      "city                  Tuxtla Gutiérrez\n",
      "latitude                         16.75\n",
      "longitude                       -93.12\n",
      "gender                               M\n",
      "ethnic.group                       NaN\n",
      "age                                 21\n",
      "english.grade                      2.1\n",
      "math.grade                         3.7\n",
      "sciences.grade                     3.8\n",
      "language.grade                     4.0\n",
      "portfolio.rating                     4\n",
      "coverletter.rating                 5.0\n",
      "refletter.rating                     3\n",
      "Name: 141, dtype: object)\n",
      "(142, id                                         142\n",
      "name                        Alexandria Fortner\n",
      "nationality           United States of America\n",
      "city                                   Phoenix\n",
      "latitude                                 33.45\n",
      "longitude                              -112.07\n",
      "gender                                       F\n",
      "ethnic.group                               NaN\n",
      "age                                         20\n",
      "english.grade                              3.9\n",
      "math.grade                                 3.8\n",
      "sciences.grade                             3.8\n",
      "language.grade                             5.0\n",
      "portfolio.rating                             4\n",
      "coverletter.rating                         4.0\n",
      "refletter.rating                             5\n",
      "Name: 142, dtype: object)\n",
      "(143, id                                         143\n",
      "name                           Savannah Kivett\n",
      "nationality           United States of America\n",
      "city                          Colorado Springs\n",
      "latitude                                 38.83\n",
      "longitude                              -104.82\n",
      "gender                                       F\n",
      "ethnic.group                               NaN\n",
      "age                                         21\n",
      "english.grade                              3.8\n",
      "math.grade                                 3.9\n",
      "sciences.grade                             3.8\n",
      "language.grade                             5.0\n",
      "portfolio.rating                             4\n",
      "coverletter.rating                         4.0\n",
      "refletter.rating                             5\n",
      "Name: 143, dtype: object)\n",
      "(144, id                                         144\n",
      "name                              Tanner Jones\n",
      "nationality           United States of America\n",
      "city                                  Stockton\n",
      "latitude                                 37.96\n",
      "longitude                              -121.29\n",
      "gender                                       M\n",
      "ethnic.group                               NaN\n",
      "age                                         23\n",
      "english.grade                              3.9\n",
      "math.grade                                 3.7\n",
      "sciences.grade                             3.7\n",
      "language.grade                             5.0\n",
      "portfolio.rating                             4\n",
      "coverletter.rating                         5.0\n",
      "refletter.rating                             5\n",
      "Name: 144, dtype: object)\n",
      "(145, id                               145\n",
      "name                  Luisa Bautista\n",
      "nationality                   Mexico\n",
      "city                          Mexico\n",
      "latitude                       19.43\n",
      "longitude                     -99.14\n",
      "gender                             F\n",
      "ethnic.group                     NaN\n",
      "age                               21\n",
      "english.grade                    3.3\n",
      "math.grade                       3.0\n",
      "sciences.grade                   3.4\n",
      "language.grade                   3.0\n",
      "portfolio.rating                   4\n",
      "coverletter.rating               4.0\n",
      "refletter.rating                   4\n",
      "Name: 145, dtype: object)\n",
      "(146, id                                 146\n",
      "name                  Juhaina al-Bilal\n",
      "nationality                 Bangladesh\n",
      "city                             Dhaka\n",
      "latitude                         23.72\n",
      "longitude                        90.41\n",
      "gender                               F\n",
      "ethnic.group                       NaN\n",
      "age                                 20\n",
      "english.grade                      3.9\n",
      "math.grade                         3.9\n",
      "sciences.grade                     3.9\n",
      "language.grade                     5.0\n",
      "portfolio.rating                     5\n",
      "coverletter.rating                 4.0\n",
      "refletter.rating                     5\n",
      "Name: 146, dtype: object)\n",
      "(147, id                                         147\n",
      "name                              Siena Ingram\n",
      "nationality           United States of America\n",
      "city                                 Henderson\n",
      "latitude                                 36.04\n",
      "longitude                              -114.98\n",
      "gender                                       F\n",
      "ethnic.group                               NaN\n",
      "age                                         21\n",
      "english.grade                              3.8\n",
      "math.grade                                 3.7\n",
      "sciences.grade                             3.8\n",
      "language.grade                             5.0\n",
      "portfolio.rating                             5\n",
      "coverletter.rating                         3.0\n",
      "refletter.rating                             5\n",
      "Name: 147, dtype: object)\n",
      "(148, id                                      148\n",
      "name                  Alondra Gardea Corral\n",
      "nationality                          Mexico\n",
      "city                               Ensenada\n",
      "latitude                              31.87\n",
      "longitude                           -116.62\n",
      "gender                                    F\n",
      "ethnic.group                            NaN\n",
      "age                                      20\n",
      "english.grade                           2.2\n",
      "math.grade                              3.8\n",
      "sciences.grade                          3.1\n",
      "language.grade                          2.0\n",
      "portfolio.rating                          3\n",
      "coverletter.rating                      4.0\n",
      "refletter.rating                          2\n",
      "Name: 148, dtype: object)\n",
      "(149, id                                         149\n",
      "name                           Vincent Webster\n",
      "nationality           United States of America\n",
      "city                                  New York\n",
      "latitude                                 40.71\n",
      "longitude                               -74.01\n",
      "gender                                       M\n",
      "ethnic.group                               NaN\n",
      "age                                         23\n",
      "english.grade                              2.0\n",
      "math.grade                                 3.7\n",
      "sciences.grade                             3.4\n",
      "language.grade                             5.0\n",
      "portfolio.rating                             4\n",
      "coverletter.rating                         3.0\n",
      "refletter.rating                             5\n",
      "Name: 149, dtype: object)\n",
      "(150, id                                       150\n",
      "name                  Abdul Jabbaar el-Abdul\n",
      "nationality                            Egypt\n",
      "city                                   Cairo\n",
      "latitude                               30.05\n",
      "longitude                              31.25\n",
      "gender                                     M\n",
      "ethnic.group                             NaN\n",
      "age                                       20\n",
      "english.grade                            1.5\n",
      "math.grade                               3.5\n",
      "sciences.grade                           3.2\n",
      "language.grade                           3.0\n",
      "portfolio.rating                           3\n",
      "coverletter.rating                       5.0\n",
      "refletter.rating                           4\n",
      "Name: 150, dtype: object)\n",
      "(151, id                                         151\n",
      "name                            Patrick Carnes\n",
      "nationality           United States of America\n",
      "city                                      Mesa\n",
      "latitude                                 33.42\n",
      "longitude                              -111.82\n",
      "gender                                       M\n",
      "ethnic.group                               NaN\n",
      "age                                         22\n",
      "english.grade                              2.4\n",
      "math.grade                                 3.5\n",
      "sciences.grade                             3.6\n",
      "language.grade                             5.0\n",
      "portfolio.rating                             3\n",
      "coverletter.rating                         5.0\n",
      "refletter.rating                             5\n",
      "Name: 151, dtype: object)\n",
      "(152, id                                         152\n",
      "name                             Shawn O Bryan\n",
      "nationality           United States of America\n",
      "city                                 Fairfield\n",
      "latitude                                 38.25\n",
      "longitude                              -122.04\n",
      "gender                                       M\n",
      "ethnic.group                               NaN\n",
      "age                                         23\n",
      "english.grade                              2.9\n",
      "math.grade                                 3.7\n",
      "sciences.grade                             1.5\n",
      "language.grade                             5.0\n",
      "portfolio.rating                             3\n",
      "coverletter.rating                         5.0\n",
      "refletter.rating                             3\n",
      "Name: 152, dtype: object)\n",
      "(153, id                                         153\n",
      "name                             Jenna Whitney\n",
      "nationality           United States of America\n",
      "city                                 San Diego\n",
      "latitude                                 32.72\n",
      "longitude                              -117.16\n",
      "gender                                       F\n",
      "ethnic.group                               NaN\n",
      "age                                         23\n",
      "english.grade                              3.7\n",
      "math.grade                                 2.9\n",
      "sciences.grade                             3.9\n",
      "language.grade                             5.0\n",
      "portfolio.rating                             3\n",
      "coverletter.rating                         4.0\n",
      "refletter.rating                             5\n",
      "Name: 153, dtype: object)\n",
      "(154, id                                         154\n",
      "name                           Kaitlin Krueger\n",
      "nationality           United States of America\n",
      "city                               Los Angeles\n",
      "latitude                                 34.05\n",
      "longitude                              -118.24\n",
      "gender                                       F\n",
      "ethnic.group                               NaN\n",
      "age                                         24\n",
      "english.grade                              3.7\n",
      "math.grade                                 3.9\n",
      "sciences.grade                             4.0\n",
      "language.grade                             5.0\n",
      "portfolio.rating                             4\n",
      "coverletter.rating                         5.0\n",
      "refletter.rating                             4\n",
      "Name: 154, dtype: object)\n",
      "(155, id                                         155\n",
      "name                            Jaime Mikesell\n",
      "nationality           United States of America\n",
      "city                               Los Angeles\n",
      "latitude                                 34.05\n",
      "longitude                              -118.24\n",
      "gender                                       F\n",
      "ethnic.group                               NaN\n",
      "age                                         20\n",
      "english.grade                              3.9\n",
      "math.grade                                 3.7\n",
      "sciences.grade                             3.7\n",
      "language.grade                             5.0\n",
      "portfolio.rating                             4\n",
      "coverletter.rating                         5.0\n",
      "refletter.rating                             4\n",
      "Name: 155, dtype: object)\n",
      "(156, id                                         156\n",
      "name                           Katelynn Andrie\n",
      "nationality           United States of America\n",
      "city                               Kansas City\n",
      "latitude                                  39.1\n",
      "longitude                               -94.58\n",
      "gender                                       F\n",
      "ethnic.group                               NaN\n",
      "age                                         23\n",
      "english.grade                              3.0\n",
      "math.grade                                 3.9\n",
      "sciences.grade                             3.9\n",
      "language.grade                             5.0\n",
      "portfolio.rating                             5\n",
      "coverletter.rating                         5.0\n",
      "refletter.rating                             5\n",
      "Name: 156, dtype: object)\n",
      "(157, id                                         157\n",
      "name                          Maryn Manzanares\n",
      "nationality           United States of America\n",
      "city                              Laguna Hills\n",
      "latitude                                 33.61\n",
      "longitude                              -117.71\n",
      "gender                                       F\n",
      "ethnic.group                               NaN\n",
      "age                                         21\n",
      "english.grade                              3.9\n",
      "math.grade                                 3.2\n",
      "sciences.grade                             3.2\n",
      "language.grade                             5.0\n",
      "portfolio.rating                             2\n",
      "coverletter.rating                         4.0\n",
      "refletter.rating                             4\n",
      "Name: 157, dtype: object)\n",
      "(158, id                                         158\n",
      "name                            Colleen Kohout\n",
      "nationality           United States of America\n",
      "city                              Philadelphia\n",
      "latitude                                 39.95\n",
      "longitude                               -75.16\n",
      "gender                                       F\n",
      "ethnic.group                               NaN\n",
      "age                                         22\n",
      "english.grade                              3.5\n",
      "math.grade                                 3.8\n",
      "sciences.grade                             3.1\n",
      "language.grade                             5.0\n",
      "portfolio.rating                             4\n",
      "coverletter.rating                         4.0\n",
      "refletter.rating                             4\n",
      "Name: 158, dtype: object)\n",
      "(159, id                                         159\n",
      "name                            Daniel Spurlin\n",
      "nationality           United States of America\n",
      "city                                  San Jose\n",
      "latitude                                 37.34\n",
      "longitude                              -121.89\n",
      "gender                                       M\n",
      "ethnic.group                               NaN\n",
      "age                                         24\n",
      "english.grade                              3.9\n",
      "math.grade                                 3.9\n",
      "sciences.grade                             3.7\n",
      "language.grade                             5.0\n",
      "portfolio.rating                             5\n",
      "coverletter.rating                         5.0\n",
      "refletter.rating                             3\n",
      "Name: 159, dtype: object)\n",
      "(160, id                                         160\n",
      "name                              Trevor Bulba\n",
      "nationality           United States of America\n",
      "city                                   Chicago\n",
      "latitude                                 41.85\n",
      "longitude                               -87.65\n",
      "gender                                       M\n",
      "ethnic.group                               NaN\n",
      "age                                         21\n",
      "english.grade                              3.9\n",
      "math.grade                                 3.8\n",
      "sciences.grade                             3.8\n",
      "language.grade                             5.0\n",
      "portfolio.rating                             5\n",
      "coverletter.rating                         4.0\n",
      "refletter.rating                             5\n",
      "Name: 160, dtype: object)\n",
      "(161, id                                         161\n",
      "name                          Jordan Burkhamer\n",
      "nationality           United States of America\n",
      "city                                  San Jose\n",
      "latitude                                 37.34\n",
      "longitude                              -121.89\n",
      "gender                                       F\n",
      "ethnic.group                               NaN\n",
      "age                                         23\n",
      "english.grade                              3.0\n",
      "math.grade                                 3.9\n",
      "sciences.grade                             3.7\n",
      "language.grade                             5.0\n",
      "portfolio.rating                             5\n",
      "coverletter.rating                         4.0\n",
      "refletter.rating                             4\n",
      "Name: 161, dtype: object)\n",
      "(162, id                               162\n",
      "name                  Rebecca Ah Fat\n",
      "nationality                    China\n",
      "city                        Tangshan\n",
      "latitude                       37.33\n",
      "longitude                      114.7\n",
      "gender                             F\n",
      "ethnic.group                     NaN\n",
      "age                               22\n",
      "english.grade                    1.8\n",
      "math.grade                       3.8\n",
      "sciences.grade                   4.0\n",
      "language.grade                   4.0\n",
      "portfolio.rating                   4\n",
      "coverletter.rating               3.0\n",
      "refletter.rating                   4\n",
      "Name: 162, dtype: object)\n",
      "(163, id                                         163\n",
      "name                        Christopher Jacobo\n",
      "nationality           United States of America\n",
      "city                               Los Angeles\n",
      "latitude                                 34.05\n",
      "longitude                              -118.24\n",
      "gender                                       M\n",
      "ethnic.group                               NaN\n",
      "age                                         21\n",
      "english.grade                              3.4\n",
      "math.grade                                 2.7\n",
      "sciences.grade                             3.9\n",
      "language.grade                             5.0\n",
      "portfolio.rating                             4\n",
      "coverletter.rating                         4.0\n",
      "refletter.rating                             3\n",
      "Name: 163, dtype: object)\n",
      "(164, id                           164\n",
      "name                  Min Singal\n",
      "nationality                Japan\n",
      "city                       Tokyo\n",
      "latitude                   35.69\n",
      "longitude                 139.75\n",
      "gender                         F\n",
      "ethnic.group                 NaN\n",
      "age                           24\n",
      "english.grade                3.8\n",
      "math.grade                   2.9\n",
      "sciences.grade               2.9\n",
      "language.grade               4.0\n",
      "portfolio.rating               5\n",
      "coverletter.rating           3.0\n",
      "refletter.rating               2\n",
      "Name: 164, dtype: object)\n",
      "(165, id                                 165\n",
      "name                  Corey Rademacher\n",
      "nationality                    Ukraine\n",
      "city                         Chernihiv\n",
      "latitude                         51.51\n",
      "longitude                        31.28\n",
      "gender                               M\n",
      "ethnic.group                       NaN\n",
      "age                                 22\n",
      "english.grade                      3.1\n",
      "math.grade                         3.3\n",
      "sciences.grade                     3.9\n",
      "language.grade                     3.0\n",
      "portfolio.rating                     4\n",
      "coverletter.rating                 5.0\n",
      "refletter.rating                     4\n",
      "Name: 165, dtype: object)\n",
      "(166, id                                         166\n",
      "name                            Alexander Reed\n",
      "nationality           United States of America\n",
      "city                               Los Angeles\n",
      "latitude                                 34.05\n",
      "longitude                              -118.24\n",
      "gender                                       M\n",
      "ethnic.group                               NaN\n",
      "age                                         22\n",
      "english.grade                              3.0\n",
      "math.grade                                 2.7\n",
      "sciences.grade                             3.8\n",
      "language.grade                             5.0\n",
      "portfolio.rating                             4\n",
      "coverletter.rating                         2.0\n",
      "refletter.rating                             5\n",
      "Name: 166, dtype: object)\n",
      "(167, id                                         167\n",
      "name                             Dalen Whiting\n",
      "nationality           United States of America\n",
      "city                                Carrollton\n",
      "latitude                                 32.95\n",
      "longitude                               -96.89\n",
      "gender                                       F\n",
      "ethnic.group                               NaN\n",
      "age                                         23\n",
      "english.grade                              2.8\n",
      "math.grade                                 3.9\n",
      "sciences.grade                             3.3\n",
      "language.grade                             5.0\n",
      "portfolio.rating                             5\n",
      "coverletter.rating                         5.0\n",
      "refletter.rating                             5\n",
      "Name: 167, dtype: object)\n",
      "(168, id                                         168\n",
      "name                            Chelsea Persky\n",
      "nationality           United States of America\n",
      "city                            San Bernardino\n",
      "latitude                                 34.11\n",
      "longitude                              -117.29\n",
      "gender                                       F\n",
      "ethnic.group                               NaN\n",
      "age                                         23\n",
      "english.grade                              3.9\n",
      "math.grade                                 3.4\n",
      "sciences.grade                             4.0\n",
      "language.grade                             5.0\n",
      "portfolio.rating                             3\n",
      "coverletter.rating                         3.0\n",
      "refletter.rating                             4\n",
      "Name: 168, dtype: object)\n",
      "(169, id                             169\n",
      "name                  Karla Taylor\n",
      "nationality                 Mexico\n",
      "city                        Mexico\n",
      "latitude                     19.43\n",
      "longitude                   -99.14\n",
      "gender                           F\n",
      "ethnic.group                   NaN\n",
      "age                             21\n",
      "english.grade                  3.7\n",
      "math.grade                     3.0\n",
      "sciences.grade                 3.7\n",
      "language.grade                 4.0\n",
      "portfolio.rating                 4\n",
      "coverletter.rating             3.0\n",
      "refletter.rating                 2\n",
      "Name: 169, dtype: object)\n",
      "(170, id                                         170\n",
      "name                               Kaden Yates\n",
      "nationality           United States of America\n",
      "city                                   Salinas\n",
      "latitude                                 36.68\n",
      "longitude                              -121.65\n",
      "gender                                       M\n",
      "ethnic.group                               NaN\n",
      "age                                         23\n",
      "english.grade                              3.6\n",
      "math.grade                                 3.4\n",
      "sciences.grade                             4.0\n",
      "language.grade                             5.0\n",
      "portfolio.rating                             5\n",
      "coverletter.rating                         4.0\n",
      "refletter.rating                             3\n",
      "Name: 170, dtype: object)\n",
      "(171, id                                    171\n",
      "name                  Maimoona el-Soliman\n",
      "nationality                        Turkey\n",
      "city                               Ankara\n",
      "latitude                            39.91\n",
      "longitude                           32.84\n",
      "gender                                  F\n",
      "ethnic.group                          NaN\n",
      "age                                    21\n",
      "english.grade                         2.8\n",
      "math.grade                            2.6\n",
      "sciences.grade                        3.9\n",
      "language.grade                        3.0\n",
      "portfolio.rating                        4\n",
      "coverletter.rating                    3.0\n",
      "refletter.rating                        4\n",
      "Name: 171, dtype: object)\n",
      "(172, id                                 172\n",
      "name                  Aaqil el-Hashemi\n",
      "nationality                      India\n",
      "city                         Bangalore\n",
      "latitude                         12.98\n",
      "longitude                        77.58\n",
      "gender                               M\n",
      "ethnic.group                       NaN\n",
      "age                                 21\n",
      "english.grade                      3.4\n",
      "math.grade                         3.0\n",
      "sciences.grade                     3.6\n",
      "language.grade                     3.0\n",
      "portfolio.rating                     5\n",
      "coverletter.rating                 5.0\n",
      "refletter.rating                     4\n",
      "Name: 172, dtype: object)\n",
      "(173, id                               173\n",
      "name                      Sean Bruso\n",
      "nationality           United Kingdom\n",
      "city                          London\n",
      "latitude                       51.51\n",
      "longitude                      -0.09\n",
      "gender                             M\n",
      "ethnic.group                     NaN\n",
      "age                               19\n",
      "english.grade                    3.2\n",
      "math.grade                       3.7\n",
      "sciences.grade                   3.9\n",
      "language.grade                   5.0\n",
      "portfolio.rating                   3\n",
      "coverletter.rating               5.0\n",
      "refletter.rating                   4\n",
      "Name: 173, dtype: object)\n",
      "(174, id                                         174\n",
      "name                             Andrew Bishop\n",
      "nationality           United States of America\n",
      "city                               Los Angeles\n",
      "latitude                                 34.05\n",
      "longitude                              -118.24\n",
      "gender                                       M\n",
      "ethnic.group                               NaN\n",
      "age                                         22\n",
      "english.grade                              4.0\n",
      "math.grade                                 3.7\n",
      "sciences.grade                             3.8\n",
      "language.grade                             5.0\n",
      "portfolio.rating                             3\n",
      "coverletter.rating                         3.0\n",
      "refletter.rating                             3\n",
      "Name: 174, dtype: object)\n",
      "(175, id                                  175\n",
      "name                  Zahraaa el-Yousef\n",
      "nationality                       India\n",
      "city                             Hospet\n",
      "latitude                          15.27\n",
      "longitude                          76.4\n",
      "gender                                F\n",
      "ethnic.group                        NaN\n",
      "age                                  22\n",
      "english.grade                       3.9\n",
      "math.grade                          3.7\n",
      "sciences.grade                      3.8\n",
      "language.grade                      4.0\n",
      "portfolio.rating                      4\n",
      "coverletter.rating                  4.0\n",
      "refletter.rating                      4\n",
      "Name: 175, dtype: object)\n",
      "(176, id                         176\n",
      "name                  Surya Ky\n",
      "nationality              China\n",
      "city                  Tangshan\n",
      "latitude                 37.33\n",
      "longitude                114.7\n",
      "gender                       M\n",
      "ethnic.group               NaN\n",
      "age                         21\n",
      "english.grade              3.7\n",
      "math.grade                 4.0\n",
      "sciences.grade             3.8\n",
      "language.grade             4.0\n",
      "portfolio.rating             4\n",
      "coverletter.rating         4.0\n",
      "refletter.rating             5\n",
      "Name: 176, dtype: object)\n",
      "(177, id                                   177\n",
      "name                         George Mann\n",
      "nationality           Russian Federation\n",
      "city                              Moscow\n",
      "latitude                           55.75\n",
      "longitude                          37.62\n",
      "gender                                 M\n",
      "ethnic.group                         NaN\n",
      "age                                   23\n",
      "english.grade                        3.9\n",
      "math.grade                           3.9\n",
      "sciences.grade                       4.0\n",
      "language.grade                       4.0\n",
      "portfolio.rating                       5\n",
      "coverletter.rating                   5.0\n",
      "refletter.rating                       5\n",
      "Name: 177, dtype: object)\n",
      "(178, id                                178\n",
      "name                  Latino Calderon\n",
      "nationality                    Mexico\n",
      "city                       Hermosillo\n",
      "latitude                        29.07\n",
      "longitude                     -110.97\n",
      "gender                              M\n",
      "ethnic.group                      NaN\n",
      "age                                23\n",
      "english.grade                     3.6\n",
      "math.grade                        3.0\n",
      "sciences.grade                    3.0\n",
      "language.grade                    3.0\n",
      "portfolio.rating                    5\n",
      "coverletter.rating                4.0\n",
      "refletter.rating                    4\n",
      "Name: 178, dtype: object)\n",
      "(179, id                                         179\n",
      "name                           Baylen Cloutier\n",
      "nationality           United States of America\n",
      "city                                   Phoenix\n",
      "latitude                                 33.45\n",
      "longitude                              -112.07\n",
      "gender                                       M\n",
      "ethnic.group                               NaN\n",
      "age                                         22\n",
      "english.grade                              3.9\n",
      "math.grade                                 3.4\n",
      "sciences.grade                             3.7\n",
      "language.grade                             5.0\n",
      "portfolio.rating                             3\n",
      "coverletter.rating                         5.0\n",
      "refletter.rating                             3\n",
      "Name: 179, dtype: object)\n",
      "(180, id                                      180\n",
      "name                  Nicole Torres-Valadez\n",
      "nationality                          Brazil\n",
      "city                         Rio de Janeiro\n",
      "latitude                              -22.9\n",
      "longitude                            -43.23\n",
      "gender                                    F\n",
      "ethnic.group                            NaN\n",
      "age                                      24\n",
      "english.grade                           3.9\n",
      "math.grade                              3.1\n",
      "sciences.grade                          3.0\n",
      "language.grade                          1.0\n",
      "portfolio.rating                          4\n",
      "coverletter.rating                      5.0\n",
      "refletter.rating                          4\n",
      "Name: 180, dtype: object)\n",
      "(181, id                                         181\n",
      "name                       Addie Villavicencio\n",
      "nationality           United States of America\n",
      "city                                  San Jose\n",
      "latitude                                 37.34\n",
      "longitude                              -121.89\n",
      "gender                                       F\n",
      "ethnic.group                               NaN\n",
      "age                                         20\n",
      "english.grade                              4.0\n",
      "math.grade                                 3.5\n",
      "sciences.grade                             3.2\n",
      "language.grade                             5.0\n",
      "portfolio.rating                             5\n",
      "coverletter.rating                         5.0\n",
      "refletter.rating                             4\n",
      "Name: 181, dtype: object)\n",
      "(182, id                                         182\n",
      "name                         Billy Jack Bestle\n",
      "nationality           United States of America\n",
      "city                                 Baltimore\n",
      "latitude                                 39.29\n",
      "longitude                               -76.61\n",
      "gender                                       M\n",
      "ethnic.group                               NaN\n",
      "age                                         22\n",
      "english.grade                              3.7\n",
      "math.grade                                 4.0\n",
      "sciences.grade                             3.8\n",
      "language.grade                             5.0\n",
      "portfolio.rating                             5\n",
      "coverletter.rating                         4.0\n",
      "refletter.rating                             5\n",
      "Name: 182, dtype: object)\n",
      "(183, id                                  183\n",
      "name                  Isabella Martinez\n",
      "nationality                    Colombia\n",
      "city                             Bogotá\n",
      "latitude                           4.65\n",
      "longitude                        -74.06\n",
      "gender                                F\n",
      "ethnic.group                        NaN\n",
      "age                                  23\n",
      "english.grade                       2.6\n",
      "math.grade                          4.0\n",
      "sciences.grade                      2.7\n",
      "language.grade                      4.0\n",
      "portfolio.rating                      3\n",
      "coverletter.rating                  4.0\n",
      "refletter.rating                      3\n",
      "Name: 183, dtype: object)\n",
      "(184, id                                         184\n",
      "name                          Kimberly Thielke\n",
      "nationality           United States of America\n",
      "city                               Los Angeles\n",
      "latitude                                 34.05\n",
      "longitude                              -118.24\n",
      "gender                                       F\n",
      "ethnic.group                               NaN\n",
      "age                                         21\n",
      "english.grade                              3.8\n",
      "math.grade                                 3.9\n",
      "sciences.grade                             3.3\n",
      "language.grade                             5.0\n",
      "portfolio.rating                             3\n",
      "coverletter.rating                         5.0\n",
      "refletter.rating                             5\n",
      "Name: 184, dtype: object)\n",
      "(185, id                                    185\n",
      "name                  Adrian Miguel-Gomez\n",
      "nationality                      Colombia\n",
      "city                             Medellín\n",
      "latitude                             6.25\n",
      "longitude                          -75.56\n",
      "gender                                  M\n",
      "ethnic.group                          NaN\n",
      "age                                    22\n",
      "english.grade                         3.7\n",
      "math.grade                            3.3\n",
      "sciences.grade                        2.2\n",
      "language.grade                        4.0\n",
      "portfolio.rating                        4\n",
      "coverletter.rating                    4.0\n",
      "refletter.rating                        5\n",
      "Name: 185, dtype: object)\n",
      "(186, id                                         186\n",
      "name                               Kayla Sales\n",
      "nationality           United States of America\n",
      "city                                    Quincy\n",
      "latitude                                 42.25\n",
      "longitude                                -71.0\n",
      "gender                                       F\n",
      "ethnic.group                               NaN\n",
      "age                                         22\n",
      "english.grade                              2.1\n",
      "math.grade                                 3.1\n",
      "sciences.grade                             4.0\n",
      "language.grade                             5.0\n",
      "portfolio.rating                             5\n",
      "coverletter.rating                         4.0\n",
      "refletter.rating                             5\n",
      "Name: 186, dtype: object)\n",
      "(187, id                                 187\n",
      "name                  Haafiza al-Attar\n",
      "nationality                    Morocco\n",
      "city                             Rabat\n",
      "latitude                         34.01\n",
      "longitude                        -6.84\n",
      "gender                               F\n",
      "ethnic.group                       NaN\n",
      "age                                 21\n",
      "english.grade                      2.4\n",
      "math.grade                         3.6\n",
      "sciences.grade                     3.8\n",
      "language.grade                     3.0\n",
      "portfolio.rating                     3\n",
      "coverletter.rating                 5.0\n",
      "refletter.rating                     3\n",
      "Name: 187, dtype: object)\n",
      "(188, id                               188\n",
      "name                  Juanita Medina\n",
      "nationality                   Mexico\n",
      "city                          Mexico\n",
      "latitude                       19.43\n",
      "longitude                     -99.14\n",
      "gender                             F\n",
      "ethnic.group                     NaN\n",
      "age                               22\n",
      "english.grade                    3.8\n",
      "math.grade                       3.9\n",
      "sciences.grade                   3.7\n",
      "language.grade                   4.0\n",
      "portfolio.rating                   3\n",
      "coverletter.rating               5.0\n",
      "refletter.rating                   4\n",
      "Name: 188, dtype: object)\n",
      "(189, id                         189\n",
      "name                  Emma Kim\n",
      "nationality              China\n",
      "city                  Hengshui\n",
      "latitude                 37.73\n",
      "longitude                115.7\n",
      "gender                       F\n",
      "ethnic.group               NaN\n",
      "age                         22\n",
      "english.grade              2.8\n",
      "math.grade                 3.9\n",
      "sciences.grade             3.8\n",
      "language.grade             2.0\n",
      "portfolio.rating             4\n",
      "coverletter.rating         4.0\n",
      "refletter.rating             4\n",
      "Name: 189, dtype: object)\n",
      "(190, id                               190\n",
      "name                  Mckayla Dopler\n",
      "nationality              Netherlands\n",
      "city                        Kerkrade\n",
      "latitude                       50.87\n",
      "longitude                       6.07\n",
      "gender                             F\n",
      "ethnic.group                     NaN\n",
      "age                               21\n",
      "english.grade                    2.5\n",
      "math.grade                       3.5\n",
      "sciences.grade                   3.7\n",
      "language.grade                   4.0\n",
      "portfolio.rating                   2\n",
      "coverletter.rating               4.0\n",
      "refletter.rating                   4\n",
      "Name: 190, dtype: object)\n",
      "(191, id                                 191\n",
      "name                  Jonathan Nevarez\n",
      "nationality                     Mexico\n",
      "city                            Mexico\n",
      "latitude                         19.43\n",
      "longitude                       -99.14\n",
      "gender                               M\n",
      "ethnic.group                       NaN\n",
      "age                                 23\n",
      "english.grade                      2.7\n",
      "math.grade                         2.6\n",
      "sciences.grade                     3.6\n",
      "language.grade                     5.0\n",
      "portfolio.rating                     4\n",
      "coverletter.rating                 5.0\n",
      "refletter.rating                     5\n",
      "Name: 191, dtype: object)\n",
      "(192, id                                         192\n",
      "name                             Roger Redfern\n",
      "nationality           United States of America\n",
      "city                               Los Angeles\n",
      "latitude                                 34.05\n",
      "longitude                              -118.24\n",
      "gender                                       M\n",
      "ethnic.group                               NaN\n",
      "age                                         21\n",
      "english.grade                              3.9\n",
      "math.grade                                 3.9\n",
      "sciences.grade                             3.1\n",
      "language.grade                             5.0\n",
      "portfolio.rating                             5\n",
      "coverletter.rating                         3.0\n",
      "refletter.rating                             4\n",
      "Name: 192, dtype: object)\n",
      "(193, id                                         193\n",
      "name                        Hannah Critchfield\n",
      "nationality           United States of America\n",
      "city                                  New York\n",
      "latitude                                 40.71\n",
      "longitude                               -74.01\n",
      "gender                                       F\n",
      "ethnic.group                               NaN\n",
      "age                                         21\n",
      "english.grade                              3.5\n",
      "math.grade                                 3.3\n",
      "sciences.grade                             3.6\n",
      "language.grade                             5.0\n",
      "portfolio.rating                             5\n",
      "coverletter.rating                         4.0\n",
      "refletter.rating                             5\n",
      "Name: 193, dtype: object)\n",
      "(194, id                                 194\n",
      "name                  Chue Fue Richter\n",
      "nationality                      China\n",
      "city                           Qiqihar\n",
      "latitude                         47.34\n",
      "longitude                       123.97\n",
      "gender                               M\n",
      "ethnic.group                       NaN\n",
      "age                                 23\n",
      "english.grade                      3.0\n",
      "math.grade                         3.6\n",
      "sciences.grade                     1.4\n",
      "language.grade                     4.0\n",
      "portfolio.rating                     5\n",
      "coverletter.rating                 3.0\n",
      "refletter.rating                     4\n",
      "Name: 194, dtype: object)\n",
      "(195, id                                         195\n",
      "name                              Joshua Mesan\n",
      "nationality           United States of America\n",
      "city                                  San Jose\n",
      "latitude                                 37.34\n",
      "longitude                              -121.89\n",
      "gender                                       M\n",
      "ethnic.group                               NaN\n",
      "age                                         24\n",
      "english.grade                              4.0\n",
      "math.grade                                 3.8\n",
      "sciences.grade                             3.7\n",
      "language.grade                             5.0\n",
      "portfolio.rating                             5\n",
      "coverletter.rating                         4.0\n",
      "refletter.rating                             5\n",
      "Name: 195, dtype: object)\n",
      "(196, id                                         196\n",
      "name                                Dylan Bell\n",
      "nationality           United States of America\n",
      "city                                    Tucson\n",
      "latitude                                 32.22\n",
      "longitude                              -110.93\n",
      "gender                                       M\n",
      "ethnic.group                               NaN\n",
      "age                                         20\n",
      "english.grade                              3.3\n",
      "math.grade                                 3.8\n",
      "sciences.grade                             3.5\n",
      "language.grade                             5.0\n",
      "portfolio.rating                             5\n",
      "coverletter.rating                         4.0\n",
      "refletter.rating                             4\n",
      "Name: 196, dtype: object)\n",
      "(197, id                                         197\n",
      "name                                Troy White\n",
      "nationality           United States of America\n",
      "city                                  New York\n",
      "latitude                                 40.71\n",
      "longitude                               -74.01\n",
      "gender                                       M\n",
      "ethnic.group                               NaN\n",
      "age                                         22\n",
      "english.grade                              4.0\n",
      "math.grade                                 3.6\n",
      "sciences.grade                             3.4\n",
      "language.grade                             5.0\n",
      "portfolio.rating                             4\n",
      "coverletter.rating                         4.0\n",
      "refletter.rating                             5\n",
      "Name: 197, dtype: object)\n",
      "(198, id                                 198\n",
      "name                  Sabaaha al-Latif\n",
      "nationality                      India\n",
      "city                         Bangalore\n",
      "latitude                         12.98\n",
      "longitude                        77.58\n",
      "gender                               F\n",
      "ethnic.group                       NaN\n",
      "age                                 22\n",
      "english.grade                      3.7\n",
      "math.grade                         2.7\n",
      "sciences.grade                     3.0\n",
      "language.grade                     3.0\n",
      "portfolio.rating                     5\n",
      "coverletter.rating                 3.0\n",
      "refletter.rating                     5\n",
      "Name: 198, dtype: object)\n",
      "(199, id                                         199\n",
      "name                              Grant Walden\n",
      "nationality           United States of America\n",
      "city                                 San Diego\n",
      "latitude                                 32.72\n",
      "longitude                              -117.16\n",
      "gender                                       M\n",
      "ethnic.group                               NaN\n",
      "age                                         22\n",
      "english.grade                              3.8\n",
      "math.grade                                 3.3\n",
      "sciences.grade                             3.3\n",
      "language.grade                             5.0\n",
      "portfolio.rating                             5\n",
      "coverletter.rating                         4.0\n",
      "refletter.rating                             5\n",
      "Name: 199, dtype: object)\n",
      "(200, id                             200\n",
      "name                  Kitty Nguyen\n",
      "nationality                  Japan\n",
      "city                         Tokyo\n",
      "latitude                     35.69\n",
      "longitude                   139.75\n",
      "gender                           F\n",
      "ethnic.group                   NaN\n",
      "age                             25\n",
      "english.grade                  3.4\n",
      "math.grade                     3.2\n",
      "sciences.grade                 2.9\n",
      "language.grade                 4.0\n",
      "portfolio.rating                 4\n",
      "coverletter.rating             3.0\n",
      "refletter.rating                 5\n",
      "Name: 200, dtype: object)\n",
      "(201, id                                         201\n",
      "name                               Tyler Kibel\n",
      "nationality           United States of America\n",
      "city                                 Santa Ana\n",
      "latitude                                 33.75\n",
      "longitude                              -117.87\n",
      "gender                                       M\n",
      "ethnic.group                               NaN\n",
      "age                                         24\n",
      "english.grade                              4.0\n",
      "math.grade                                 3.2\n",
      "sciences.grade                             3.8\n",
      "language.grade                             5.0\n",
      "portfolio.rating                             5\n",
      "coverletter.rating                         3.0\n",
      "refletter.rating                             4\n",
      "Name: 201, dtype: object)\n",
      "(202, id                                         202\n",
      "name                             Kyler Overboe\n",
      "nationality           United States of America\n",
      "city                                   Chicago\n",
      "latitude                                 41.85\n",
      "longitude                               -87.65\n",
      "gender                                       M\n",
      "ethnic.group                               NaN\n",
      "age                                         21\n",
      "english.grade                              3.2\n",
      "math.grade                                 4.0\n",
      "sciences.grade                             3.5\n",
      "language.grade                             5.0\n",
      "portfolio.rating                             4\n",
      "coverletter.rating                         3.0\n",
      "refletter.rating                             4\n",
      "Name: 202, dtype: object)\n",
      "(203, id                                 203\n",
      "name                  Alexander Lizama\n",
      "nationality                     Brazil\n",
      "city                    Belo Horizonte\n",
      "latitude                        -19.92\n",
      "longitude                       -43.93\n",
      "gender                               M\n",
      "ethnic.group                       NaN\n",
      "age                                 21\n",
      "english.grade                      3.9\n",
      "math.grade                         3.7\n",
      "sciences.grade                     3.9\n",
      "language.grade                     3.0\n",
      "portfolio.rating                     4\n",
      "coverletter.rating                 5.0\n",
      "refletter.rating                     4\n",
      "Name: 203, dtype: object)\n",
      "(204, id                                         204\n",
      "name                               Aaron Knott\n",
      "nationality           United States of America\n",
      "city                                 Santa Ana\n",
      "latitude                                 33.75\n",
      "longitude                              -117.87\n",
      "gender                                       M\n",
      "ethnic.group                               NaN\n",
      "age                                         23\n",
      "english.grade                              3.2\n",
      "math.grade                                 3.6\n",
      "sciences.grade                             3.7\n",
      "language.grade                             5.0\n",
      "portfolio.rating                             4\n",
      "coverletter.rating                         5.0\n",
      "refletter.rating                             4\n",
      "Name: 204, dtype: object)\n",
      "(205, id                                         205\n",
      "name                         Jessica Greenberg\n",
      "nationality           United States of America\n",
      "city                                    Joplin\n",
      "latitude                                 37.08\n",
      "longitude                               -94.51\n",
      "gender                                       F\n",
      "ethnic.group                               NaN\n",
      "age                                         23\n",
      "english.grade                              3.6\n",
      "math.grade                                 3.7\n",
      "sciences.grade                             2.8\n",
      "language.grade                             5.0\n",
      "portfolio.rating                             4\n",
      "coverletter.rating                         4.0\n",
      "refletter.rating                             5\n",
      "Name: 205, dtype: object)\n",
      "(206, id                                         206\n",
      "name                               Lexi Hatton\n",
      "nationality           United States of America\n",
      "city                               Los Angeles\n",
      "latitude                                 34.05\n",
      "longitude                              -118.24\n",
      "gender                                       F\n",
      "ethnic.group                               NaN\n",
      "age                                         23\n",
      "english.grade                              3.3\n",
      "math.grade                                 2.7\n",
      "sciences.grade                             4.0\n",
      "language.grade                             5.0\n",
      "portfolio.rating                             4\n",
      "coverletter.rating                         5.0\n",
      "refletter.rating                             5\n",
      "Name: 206, dtype: object)\n",
      "(207, id                                         207\n",
      "name                              Jesse Hodapp\n",
      "nationality           United States of America\n",
      "city                                  Danville\n",
      "latitude                                 37.82\n",
      "longitude                               -122.0\n",
      "gender                                       M\n",
      "ethnic.group                               NaN\n",
      "age                                         21\n",
      "english.grade                              3.8\n",
      "math.grade                                 3.0\n",
      "sciences.grade                             3.5\n",
      "language.grade                             5.0\n",
      "portfolio.rating                             4\n",
      "coverletter.rating                         2.0\n",
      "refletter.rating                             2\n",
      "Name: 207, dtype: object)\n",
      "(208, id                                         208\n",
      "name                           Andrew Brunelli\n",
      "nationality           United States of America\n",
      "city                                  New York\n",
      "latitude                                 40.71\n",
      "longitude                               -74.01\n",
      "gender                                       M\n",
      "ethnic.group                               NaN\n",
      "age                                         23\n",
      "english.grade                              3.4\n",
      "math.grade                                 3.8\n",
      "sciences.grade                             4.0\n",
      "language.grade                             5.0\n",
      "portfolio.rating                             4\n",
      "coverletter.rating                         3.0\n",
      "refletter.rating                             3\n",
      "Name: 208, dtype: object)\n",
      "(209, id                                         209\n",
      "name                            Makenzie Swann\n",
      "nationality           United States of America\n",
      "city                                  Stockton\n",
      "latitude                                 37.96\n",
      "longitude                              -121.29\n",
      "gender                                       F\n",
      "ethnic.group                               NaN\n",
      "age                                         22\n",
      "english.grade                              3.4\n",
      "math.grade                                 2.8\n",
      "sciences.grade                             3.1\n",
      "language.grade                             5.0\n",
      "portfolio.rating                             5\n",
      "coverletter.rating                         5.0\n",
      "refletter.rating                             4\n",
      "Name: 209, dtype: object)\n",
      "(210, id                             210\n",
      "name                  Carlos Anaya\n",
      "nationality                 Mexico\n",
      "city                        Mexico\n",
      "latitude                     19.43\n",
      "longitude                   -99.14\n",
      "gender                           M\n",
      "ethnic.group                   NaN\n",
      "age                             24\n",
      "english.grade                  3.7\n",
      "math.grade                     3.7\n",
      "sciences.grade                 3.7\n",
      "language.grade                 4.0\n",
      "portfolio.rating                 4\n",
      "coverletter.rating             5.0\n",
      "refletter.rating                 5\n",
      "Name: 210, dtype: object)\n",
      "(211, id                                       211\n",
      "name                  Felipe Martinez Acosta\n",
      "nationality                            Chile\n",
      "city                                Santiago\n",
      "latitude                              -33.45\n",
      "longitude                             -70.67\n",
      "gender                                     M\n",
      "ethnic.group                             NaN\n",
      "age                                       21\n",
      "english.grade                            3.7\n",
      "math.grade                               3.7\n",
      "sciences.grade                           4.0\n",
      "language.grade                           3.0\n",
      "portfolio.rating                           4\n",
      "coverletter.rating                       3.0\n",
      "refletter.rating                           5\n",
      "Name: 211, dtype: object)\n",
      "(212, id                                         212\n",
      "name                               Emma Casias\n",
      "nationality           United States of America\n",
      "city                                 Rochester\n",
      "latitude                                 43.15\n",
      "longitude                               -77.62\n",
      "gender                                       F\n",
      "ethnic.group                               NaN\n",
      "age                                         22\n",
      "english.grade                              3.2\n",
      "math.grade                                 3.7\n",
      "sciences.grade                             3.2\n",
      "language.grade                             5.0\n",
      "portfolio.rating                             4\n",
      "coverletter.rating                         3.0\n",
      "refletter.rating                             5\n",
      "Name: 212, dtype: object)\n",
      "(213, id                                    213\n",
      "name                          Adolf Malik\n",
      "nationality           Korea (Republic of)\n",
      "city                                Seoul\n",
      "latitude                             37.6\n",
      "longitude                          126.98\n",
      "gender                                  M\n",
      "ethnic.group                          NaN\n",
      "age                                    21\n",
      "english.grade                         3.1\n",
      "math.grade                            3.5\n",
      "sciences.grade                        3.6\n",
      "language.grade                        3.0\n",
      "portfolio.rating                        4\n",
      "coverletter.rating                    4.0\n",
      "refletter.rating                        3\n",
      "Name: 213, dtype: object)\n",
      "(214, id                               214\n",
      "name                  Christian Chow\n",
      "nationality                    China\n",
      "city                          Handan\n",
      "latitude                       36.57\n",
      "longitude                     114.53\n",
      "gender                             M\n",
      "ethnic.group                     NaN\n",
      "age                               21\n",
      "english.grade                    2.6\n",
      "math.grade                       3.9\n",
      "sciences.grade                   3.4\n",
      "language.grade                   4.0\n",
      "portfolio.rating                   5\n",
      "coverletter.rating               5.0\n",
      "refletter.rating                   5\n",
      "Name: 214, dtype: object)\n",
      "(215, id                               215\n",
      "name                  Asad el-Yacoub\n",
      "nationality                    India\n",
      "city                           Thana\n",
      "latitude                        19.2\n",
      "longitude                      72.97\n",
      "gender                             M\n",
      "ethnic.group                     NaN\n",
      "age                               22\n",
      "english.grade                    2.6\n",
      "math.grade                       3.3\n",
      "sciences.grade                   4.0\n",
      "language.grade                   3.0\n",
      "portfolio.rating                   5\n",
      "coverletter.rating               4.0\n",
      "refletter.rating                   4\n",
      "Name: 215, dtype: object)\n",
      "(216, id                                         216\n",
      "name                            Holly Marshall\n",
      "nationality           United States of America\n",
      "city                             San Francisco\n",
      "latitude                                 37.77\n",
      "longitude                              -122.42\n",
      "gender                                       F\n",
      "ethnic.group                               NaN\n",
      "age                                         22\n",
      "english.grade                              3.0\n",
      "math.grade                                 2.7\n",
      "sciences.grade                             2.0\n",
      "language.grade                             5.0\n",
      "portfolio.rating                             3\n",
      "coverletter.rating                         4.0\n",
      "refletter.rating                             4\n",
      "Name: 216, dtype: object)\n",
      "(217, id                                    217\n",
      "name                  Brandilyn Hanselman\n",
      "nationality            Russian Federation\n",
      "city                          Chelyabinsk\n",
      "latitude                            55.15\n",
      "longitude                           61.43\n",
      "gender                                  F\n",
      "ethnic.group                          NaN\n",
      "age                                    21\n",
      "english.grade                         2.0\n",
      "math.grade                            3.5\n",
      "sciences.grade                        2.2\n",
      "language.grade                        4.0\n",
      "portfolio.rating                        4\n",
      "coverletter.rating                    5.0\n",
      "refletter.rating                        4\n",
      "Name: 217, dtype: object)\n",
      "(218, id                              218\n",
      "name                  Nicole Patria\n",
      "nationality                   China\n",
      "city                      Chongqing\n",
      "latitude                      29.56\n",
      "longitude                    106.55\n",
      "gender                            F\n",
      "ethnic.group                    NaN\n",
      "age                              24\n",
      "english.grade                   3.9\n",
      "math.grade                      3.3\n",
      "sciences.grade                  3.0\n",
      "language.grade                  2.0\n",
      "portfolio.rating                  3\n",
      "coverletter.rating              5.0\n",
      "refletter.rating                  5\n",
      "Name: 218, dtype: object)\n",
      "(219, id                                         219\n",
      "name                          Kyler Grieshaber\n",
      "nationality           United States of America\n",
      "city                                    Cohoes\n",
      "latitude                                 42.77\n",
      "longitude                                -73.7\n",
      "gender                                       M\n",
      "ethnic.group                               NaN\n",
      "age                                         22\n",
      "english.grade                              3.6\n",
      "math.grade                                 3.4\n",
      "sciences.grade                             4.0\n",
      "language.grade                             5.0\n",
      "portfolio.rating                             4\n",
      "coverletter.rating                         3.0\n",
      "refletter.rating                             5\n",
      "Name: 219, dtype: object)\n",
      "(220, id                                         220\n",
      "name                              Jasper Stang\n",
      "nationality           United States of America\n",
      "city                                Sacramento\n",
      "latitude                                 38.58\n",
      "longitude                              -121.49\n",
      "gender                                       M\n",
      "ethnic.group                               NaN\n",
      "age                                         24\n",
      "english.grade                              3.6\n",
      "math.grade                                 3.9\n",
      "sciences.grade                             3.3\n",
      "language.grade                             5.0\n",
      "portfolio.rating                             5\n",
      "coverletter.rating                         5.0\n",
      "refletter.rating                             5\n",
      "Name: 220, dtype: object)\n",
      "(221, id                                         221\n",
      "name                          Anthony Visocsky\n",
      "nationality           United States of America\n",
      "city                                Santa Rosa\n",
      "latitude                                 38.44\n",
      "longitude                              -122.71\n",
      "gender                                       M\n",
      "ethnic.group                               NaN\n",
      "age                                         21\n",
      "english.grade                              3.4\n",
      "math.grade                                 2.4\n",
      "sciences.grade                             4.0\n",
      "language.grade                             5.0\n",
      "portfolio.rating                             2\n",
      "coverletter.rating                         4.0\n",
      "refletter.rating                             4\n",
      "Name: 221, dtype: object)\n",
      "(222, id                                         222\n",
      "name                                Jake Seime\n",
      "nationality           United States of America\n",
      "city                                      Reno\n",
      "latitude                                 39.53\n",
      "longitude                              -119.81\n",
      "gender                                       M\n",
      "ethnic.group                               NaN\n",
      "age                                         22\n",
      "english.grade                              2.4\n",
      "math.grade                                 3.9\n",
      "sciences.grade                             3.7\n",
      "language.grade                             5.0\n",
      "portfolio.rating                             4\n",
      "coverletter.rating                         4.0\n",
      "refletter.rating                             5\n",
      "Name: 222, dtype: object)\n",
      "(223, id                                         223\n",
      "name                         Dasha Bannock Lee\n",
      "nationality           United States of America\n",
      "city                                 San Diego\n",
      "latitude                                 32.72\n",
      "longitude                              -117.16\n",
      "gender                                   other\n",
      "ethnic.group                               NaN\n",
      "age                                         20\n",
      "english.grade                              2.8\n",
      "math.grade                                 3.3\n",
      "sciences.grade                             4.0\n",
      "language.grade                             5.0\n",
      "portfolio.rating                             4\n",
      "coverletter.rating                         3.0\n",
      "refletter.rating                             2\n",
      "Name: 223, dtype: object)\n",
      "(224, id                                         224\n",
      "name                          Anthony Mcdevitt\n",
      "nationality           United States of America\n",
      "city                               Los Angeles\n",
      "latitude                                 34.05\n",
      "longitude                              -118.24\n",
      "gender                                       M\n",
      "ethnic.group                               NaN\n",
      "age                                         24\n",
      "english.grade                              3.1\n",
      "math.grade                                 4.0\n",
      "sciences.grade                             3.9\n",
      "language.grade                             5.0\n",
      "portfolio.rating                             4\n",
      "coverletter.rating                         5.0\n",
      "refletter.rating                             3\n",
      "Name: 224, dtype: object)\n",
      "(225, id                                         225\n",
      "name                              Darby Focken\n",
      "nationality           United States of America\n",
      "city                                  Hinsdale\n",
      "latitude                                  41.8\n",
      "longitude                               -87.94\n",
      "gender                                       F\n",
      "ethnic.group                               NaN\n",
      "age                                         21\n",
      "english.grade                              3.5\n",
      "math.grade                                 2.5\n",
      "sciences.grade                             3.7\n",
      "language.grade                             5.0\n",
      "portfolio.rating                             4\n",
      "coverletter.rating                         4.0\n",
      "refletter.rating                             4\n",
      "Name: 225, dtype: object)\n",
      "(226, id                                 226\n",
      "name                  Abigail Gallegos\n",
      "nationality                     Brazil\n",
      "city                             Belém\n",
      "latitude                         -1.45\n",
      "longitude                       -48.48\n",
      "gender                               F\n",
      "ethnic.group                       NaN\n",
      "age                                 24\n",
      "english.grade                      3.4\n",
      "math.grade                         3.0\n",
      "sciences.grade                     2.1\n",
      "language.grade                     4.0\n",
      "portfolio.rating                     3\n",
      "coverletter.rating                 3.0\n",
      "refletter.rating                     4\n",
      "Name: 226, dtype: object)\n",
      "(227, id                                         227\n",
      "name                         Patricia Rockhold\n",
      "nationality           United States of America\n",
      "city                             San Francisco\n",
      "latitude                                 37.77\n",
      "longitude                              -122.42\n",
      "gender                                       F\n",
      "ethnic.group                               NaN\n",
      "age                                         21\n",
      "english.grade                              4.0\n",
      "math.grade                                 3.5\n",
      "sciences.grade                             3.4\n",
      "language.grade                             5.0\n",
      "portfolio.rating                             5\n",
      "coverletter.rating                         4.0\n",
      "refletter.rating                             5\n",
      "Name: 227, dtype: object)\n",
      "(228, id                                         228\n",
      "name                             Kylie Schafer\n",
      "nationality           United States of America\n",
      "city                                   Houston\n",
      "latitude                                 29.76\n",
      "longitude                               -95.36\n",
      "gender                                       F\n",
      "ethnic.group                               NaN\n",
      "age                                         22\n",
      "english.grade                              3.1\n",
      "math.grade                                 3.0\n",
      "sciences.grade                             3.3\n",
      "language.grade                             5.0\n",
      "portfolio.rating                             5\n",
      "coverletter.rating                         5.0\n",
      "refletter.rating                             4\n",
      "Name: 228, dtype: object)\n",
      "(229, id                                         229\n",
      "name                          Katherine Beatty\n",
      "nationality           United States of America\n",
      "city                               Los Angeles\n",
      "latitude                                 34.05\n",
      "longitude                              -118.24\n",
      "gender                                       F\n",
      "ethnic.group                               NaN\n",
      "age                                         19\n",
      "english.grade                              4.0\n",
      "math.grade                                 2.4\n",
      "sciences.grade                             3.9\n",
      "language.grade                             5.0\n",
      "portfolio.rating                             4\n",
      "coverletter.rating                         5.0\n",
      "refletter.rating                             4\n",
      "Name: 229, dtype: object)\n",
      "(230, id                               230\n",
      "name                  Melissa Bickel\n",
      "nationality           United Kingdom\n",
      "city                          London\n",
      "latitude                       51.51\n",
      "longitude                      -0.09\n",
      "gender                             F\n",
      "ethnic.group                     NaN\n",
      "age                               22\n",
      "english.grade                    3.6\n",
      "math.grade                       2.6\n",
      "sciences.grade                   2.5\n",
      "language.grade                   5.0\n",
      "portfolio.rating                   4\n",
      "coverletter.rating               4.0\n",
      "refletter.rating                   4\n",
      "Name: 230, dtype: object)\n",
      "(231, id                                         231\n",
      "name                                Rachel Boh\n",
      "nationality           United States of America\n",
      "city                                 Roseville\n",
      "latitude                                 38.75\n",
      "longitude                              -121.29\n",
      "gender                                       F\n",
      "ethnic.group                               NaN\n",
      "age                                         22\n",
      "english.grade                              3.8\n",
      "math.grade                                 3.9\n",
      "sciences.grade                             2.9\n",
      "language.grade                             5.0\n",
      "portfolio.rating                             4\n",
      "coverletter.rating                         3.0\n",
      "refletter.rating                             2\n",
      "Name: 231, dtype: object)\n",
      "(232, id                               232\n",
      "name                  Anna Yoshimura\n",
      "nationality                    China\n",
      "city                          Rizhao\n",
      "latitude                       35.39\n",
      "longitude                     119.55\n",
      "gender                             F\n",
      "ethnic.group                     NaN\n",
      "age                               20\n",
      "english.grade                    3.5\n",
      "math.grade                       3.8\n",
      "sciences.grade                   3.9\n",
      "language.grade                   4.0\n",
      "portfolio.rating                   5\n",
      "coverletter.rating               5.0\n",
      "refletter.rating                   2\n",
      "Name: 232, dtype: object)\n",
      "(233, id                                         233\n",
      "name                           Joseph Hazelton\n",
      "nationality           United States of America\n",
      "city                                   Oakland\n",
      "latitude                                  37.8\n",
      "longitude                              -122.27\n",
      "gender                                       M\n",
      "ethnic.group                               NaN\n",
      "age                                         22\n",
      "english.grade                              3.5\n",
      "math.grade                                 4.0\n",
      "sciences.grade                             3.9\n",
      "language.grade                             5.0\n",
      "portfolio.rating                             5\n",
      "coverletter.rating                         4.0\n",
      "refletter.rating                             5\n",
      "Name: 233, dtype: object)\n",
      "(234, id                               234\n",
      "name                  Tiffany Nguyen\n",
      "nationality                 Thailand\n",
      "city                         Bangkok\n",
      "latitude                       13.75\n",
      "longitude                      100.5\n",
      "gender                             F\n",
      "ethnic.group                     NaN\n",
      "age                               22\n",
      "english.grade                    3.3\n",
      "math.grade                       3.9\n",
      "sciences.grade                   3.9\n",
      "language.grade                   2.0\n",
      "portfolio.rating                   5\n",
      "coverletter.rating               4.0\n",
      "refletter.rating                   5\n",
      "Name: 234, dtype: object)\n",
      "(235, id                                         235\n",
      "name                                Ryan Tyler\n",
      "nationality           United States of America\n",
      "city                               Los Angeles\n",
      "latitude                                 34.05\n",
      "longitude                              -118.24\n",
      "gender                                       M\n",
      "ethnic.group                               NaN\n",
      "age                                         20\n",
      "english.grade                              3.7\n",
      "math.grade                                 3.5\n",
      "sciences.grade                             3.5\n",
      "language.grade                             5.0\n",
      "portfolio.rating                             4\n",
      "coverletter.rating                         5.0\n",
      "refletter.rating                             5\n",
      "Name: 235, dtype: object)\n",
      "(236, id                           236\n",
      "name                  Max Flores\n",
      "nationality               Mexico\n",
      "city                     Tijuana\n",
      "latitude                   32.53\n",
      "longitude                -117.02\n",
      "gender                         M\n",
      "ethnic.group                 NaN\n",
      "age                           23\n",
      "english.grade                3.9\n",
      "math.grade                   2.8\n",
      "sciences.grade               2.5\n",
      "language.grade               4.0\n",
      "portfolio.rating               4\n",
      "coverletter.rating           5.0\n",
      "refletter.rating               5\n",
      "Name: 236, dtype: object)\n",
      "(237, id                                 237\n",
      "name                  Veronica Tounzen\n",
      "nationality                     Mexico\n",
      "city                           Tijuana\n",
      "latitude                         32.53\n",
      "longitude                      -117.02\n",
      "gender                               F\n",
      "ethnic.group                       NaN\n",
      "age                                 21\n",
      "english.grade                      3.8\n",
      "math.grade                         3.5\n",
      "sciences.grade                     3.5\n",
      "language.grade                     4.0\n",
      "portfolio.rating                     4\n",
      "coverletter.rating                 4.0\n",
      "refletter.rating                     5\n",
      "Name: 237, dtype: object)\n",
      "(238, id                                         238\n",
      "name                        Haley Ingrim-Hyrup\n",
      "nationality           United States of America\n",
      "city                                   Fontana\n",
      "latitude                                 34.09\n",
      "longitude                              -117.43\n",
      "gender                                       F\n",
      "ethnic.group                               NaN\n",
      "age                                         22\n",
      "english.grade                              3.2\n",
      "math.grade                                 3.6\n",
      "sciences.grade                             2.6\n",
      "language.grade                             5.0\n",
      "portfolio.rating                             2\n",
      "coverletter.rating                         4.0\n",
      "refletter.rating                             3\n",
      "Name: 238, dtype: object)\n",
      "(239, id                                         239\n",
      "name                            Kayla Sandefur\n",
      "nationality           United States of America\n",
      "city                               Los Angeles\n",
      "latitude                                 34.05\n",
      "longitude                              -118.24\n",
      "gender                                       F\n",
      "ethnic.group                               NaN\n",
      "age                                         23\n",
      "english.grade                              3.5\n",
      "math.grade                                 3.1\n",
      "sciences.grade                             3.5\n",
      "language.grade                             5.0\n",
      "portfolio.rating                             5\n",
      "coverletter.rating                         4.0\n",
      "refletter.rating                             5\n",
      "Name: 239, dtype: object)\n",
      "(240, id                                         240\n",
      "name                             Rylee Onstott\n",
      "nationality           United States of America\n",
      "city                               Los Angeles\n",
      "latitude                                 34.05\n",
      "longitude                              -118.24\n",
      "gender                                   other\n",
      "ethnic.group                               NaN\n",
      "age                                         21\n",
      "english.grade                              4.0\n",
      "math.grade                                 3.8\n",
      "sciences.grade                             3.8\n",
      "language.grade                             5.0\n",
      "portfolio.rating                             5\n",
      "coverletter.rating                         5.0\n",
      "refletter.rating                             3\n",
      "Name: 240, dtype: object)\n",
      "(241, id                                         241\n",
      "name                        Kelli De Bartolome\n",
      "nationality           United States of America\n",
      "city                             San Francisco\n",
      "latitude                                 37.77\n",
      "longitude                              -122.42\n",
      "gender                                       F\n",
      "ethnic.group                               NaN\n",
      "age                                         23\n",
      "english.grade                              3.4\n",
      "math.grade                                 3.4\n",
      "sciences.grade                             3.5\n",
      "language.grade                             5.0\n",
      "portfolio.rating                             2\n",
      "coverletter.rating                         5.0\n",
      "refletter.rating                             4\n",
      "Name: 241, dtype: object)\n",
      "(242, id                                         242\n",
      "name                           Thomas Chanlynn\n",
      "nationality           United States of America\n",
      "city                                 Bay Point\n",
      "latitude                                 38.03\n",
      "longitude                              -121.96\n",
      "gender                                       M\n",
      "ethnic.group                               NaN\n",
      "age                                         22\n",
      "english.grade                              2.4\n",
      "math.grade                                 3.0\n",
      "sciences.grade                             3.8\n",
      "language.grade                             5.0\n",
      "portfolio.rating                             3\n",
      "coverletter.rating                         4.0\n",
      "refletter.rating                             3\n",
      "Name: 242, dtype: object)\n",
      "(243, id                                         243\n",
      "name                             Andrew Yelich\n",
      "nationality           United States of America\n",
      "city                                   Boulder\n",
      "latitude                                 40.02\n",
      "longitude                              -105.27\n",
      "gender                                       M\n",
      "ethnic.group                               NaN\n",
      "age                                         24\n",
      "english.grade                              2.0\n",
      "math.grade                                 3.9\n",
      "sciences.grade                             3.3\n",
      "language.grade                             5.0\n",
      "portfolio.rating                             4\n",
      "coverletter.rating                         4.0\n",
      "refletter.rating                             4\n",
      "Name: 243, dtype: object)\n",
      "(244, id                                 244\n",
      "name                  Dimitri Castillo\n",
      "nationality                   Colombia\n",
      "city                     Dos Quebradas\n",
      "latitude                          4.84\n",
      "longitude                       -75.67\n",
      "gender                               M\n",
      "ethnic.group                       NaN\n",
      "age                                 21\n",
      "english.grade                      3.9\n",
      "math.grade                         3.0\n",
      "sciences.grade                     3.8\n",
      "language.grade                     3.0\n",
      "portfolio.rating                     2\n",
      "coverletter.rating                 4.0\n",
      "refletter.rating                     4\n",
      "Name: 244, dtype: object)\n",
      "(245, id                                         245\n",
      "name                       Matthew Strasburger\n",
      "nationality           United States of America\n",
      "city                               Los Angeles\n",
      "latitude                                 34.05\n",
      "longitude                              -118.24\n",
      "gender                                       M\n",
      "ethnic.group                               NaN\n",
      "age                                         21\n",
      "english.grade                              3.9\n",
      "math.grade                                 3.9\n",
      "sciences.grade                             2.9\n",
      "language.grade                             5.0\n",
      "portfolio.rating                             4\n",
      "coverletter.rating                         4.0\n",
      "refletter.rating                             4\n",
      "Name: 245, dtype: object)\n",
      "(246, id                                         246\n",
      "name                         Vittoria Faulkner\n",
      "nationality           United States of America\n",
      "city                                   Chicago\n",
      "latitude                                 41.85\n",
      "longitude                               -87.65\n",
      "gender                                       F\n",
      "ethnic.group                               NaN\n",
      "age                                         22\n",
      "english.grade                              4.0\n",
      "math.grade                                 3.6\n",
      "sciences.grade                             2.5\n",
      "language.grade                             5.0\n",
      "portfolio.rating                             5\n",
      "coverletter.rating                         4.0\n",
      "refletter.rating                             4\n",
      "Name: 246, dtype: object)\n",
      "(247, id                                         247\n",
      "name                               Tyler Goetz\n",
      "nationality           United States of America\n",
      "city                               Los Angeles\n",
      "latitude                                 34.05\n",
      "longitude                              -118.24\n",
      "gender                                       M\n",
      "ethnic.group                               NaN\n",
      "age                                         22\n",
      "english.grade                              3.7\n",
      "math.grade                                 3.5\n",
      "sciences.grade                             2.8\n",
      "language.grade                             5.0\n",
      "portfolio.rating                             5\n",
      "coverletter.rating                         4.0\n",
      "refletter.rating                             2\n",
      "Name: 247, dtype: object)\n",
      "(248, id                                         248\n",
      "name                              Tyler Weller\n",
      "nationality           United States of America\n",
      "city                                  New York\n",
      "latitude                                 40.71\n",
      "longitude                               -74.01\n",
      "gender                                       M\n",
      "ethnic.group                               NaN\n",
      "age                                         22\n",
      "english.grade                              3.7\n",
      "math.grade                                 3.2\n",
      "sciences.grade                             3.1\n",
      "language.grade                             5.0\n",
      "portfolio.rating                             4\n",
      "coverletter.rating                         3.0\n",
      "refletter.rating                             5\n",
      "Name: 248, dtype: object)\n",
      "(249, id                                         249\n",
      "name                           Terri Mergelman\n",
      "nationality           United States of America\n",
      "city                               Los Angeles\n",
      "latitude                                 34.05\n",
      "longitude                              -118.24\n",
      "gender                                       F\n",
      "ethnic.group                               NaN\n",
      "age                                         23\n",
      "english.grade                              2.7\n",
      "math.grade                                 3.9\n",
      "sciences.grade                             3.0\n",
      "language.grade                             5.0\n",
      "portfolio.rating                             4\n",
      "coverletter.rating                         4.0\n",
      "refletter.rating                             4\n",
      "Name: 249, dtype: object)\n",
      "(250, id                                         250\n",
      "name                           Abigail Orgeron\n",
      "nationality           United States of America\n",
      "city                                Prior Lake\n",
      "latitude                                 44.71\n",
      "longitude                               -93.42\n",
      "gender                                       F\n",
      "ethnic.group                               NaN\n",
      "age                                         23\n",
      "english.grade                              3.2\n",
      "math.grade                                 3.0\n",
      "sciences.grade                             3.8\n",
      "language.grade                             5.0\n",
      "portfolio.rating                             5\n",
      "coverletter.rating                         5.0\n",
      "refletter.rating                             4\n",
      "Name: 250, dtype: object)\n",
      "(251, id                                    251\n",
      "name                        Jessica Huynh\n",
      "nationality           Korea (Republic of)\n",
      "city                                Seoul\n",
      "latitude                             37.6\n",
      "longitude                          126.98\n",
      "gender                                  F\n",
      "ethnic.group                          NaN\n",
      "age                                    22\n",
      "english.grade                         3.5\n",
      "math.grade                            2.7\n",
      "sciences.grade                        3.2\n",
      "language.grade                        2.0\n",
      "portfolio.rating                        5\n",
      "coverletter.rating                    3.0\n",
      "refletter.rating                        5\n",
      "Name: 251, dtype: object)\n",
      "(252, id                                         252\n",
      "name                             Kyle Blanscet\n",
      "nationality           United States of America\n",
      "city                                  Sabattus\n",
      "latitude                                 44.12\n",
      "longitude                               -70.11\n",
      "gender                                       M\n",
      "ethnic.group                               NaN\n",
      "age                                         23\n",
      "english.grade                              3.8\n",
      "math.grade                                 3.5\n",
      "sciences.grade                             3.7\n",
      "language.grade                             5.0\n",
      "portfolio.rating                             4\n",
      "coverletter.rating                         4.0\n",
      "refletter.rating                             5\n",
      "Name: 252, dtype: object)\n",
      "(253, id                                         253\n",
      "name                               Ronald Toth\n",
      "nationality           United States of America\n",
      "city                               Los Angeles\n",
      "latitude                                 34.05\n",
      "longitude                              -118.24\n",
      "gender                                       M\n",
      "ethnic.group                               NaN\n",
      "age                                         23\n",
      "english.grade                              2.7\n",
      "math.grade                                 3.5\n",
      "sciences.grade                             3.7\n",
      "language.grade                             5.0\n",
      "portfolio.rating                             4\n",
      "coverletter.rating                         3.0\n",
      "refletter.rating                             4\n",
      "Name: 253, dtype: object)\n",
      "(254, id                                         254\n",
      "name                          Branden Cantrell\n",
      "nationality           United States of America\n",
      "city                                   Phoenix\n",
      "latitude                                 33.45\n",
      "longitude                              -112.07\n",
      "gender                                       M\n",
      "ethnic.group                               NaN\n",
      "age                                         23\n",
      "english.grade                              2.7\n",
      "math.grade                                 4.0\n",
      "sciences.grade                             3.9\n",
      "language.grade                             5.0\n",
      "portfolio.rating                             5\n",
      "coverletter.rating                         5.0\n",
      "refletter.rating                             5\n",
      "Name: 254, dtype: object)\n",
      "(255, id                                         255\n",
      "name                          Hannah Ratterman\n",
      "nationality           United States of America\n",
      "city                               Los Angeles\n",
      "latitude                                 34.05\n",
      "longitude                              -118.24\n",
      "gender                                       F\n",
      "ethnic.group                               NaN\n",
      "age                                         23\n",
      "english.grade                              3.5\n",
      "math.grade                                 3.4\n",
      "sciences.grade                             3.7\n",
      "language.grade                             5.0\n",
      "portfolio.rating                             2\n",
      "coverletter.rating                         5.0\n",
      "refletter.rating                             5\n",
      "Name: 255, dtype: object)\n",
      "(256, id                                         256\n",
      "name                         Alexandria Winter\n",
      "nationality           United States of America\n",
      "city                                  New York\n",
      "latitude                                 40.71\n",
      "longitude                               -74.01\n",
      "gender                                       F\n",
      "ethnic.group                               NaN\n",
      "age                                         24\n",
      "english.grade                              3.8\n",
      "math.grade                                 3.8\n",
      "sciences.grade                             2.2\n",
      "language.grade                             5.0\n",
      "portfolio.rating                             5\n",
      "coverletter.rating                         3.0\n",
      "refletter.rating                             4\n",
      "Name: 256, dtype: object)\n",
      "(257, id                                         257\n",
      "name                              Ryan Russell\n",
      "nationality           United States of America\n",
      "city                                 Vacaville\n",
      "latitude                                 38.36\n",
      "longitude                              -121.99\n",
      "gender                                       M\n",
      "ethnic.group                               NaN\n",
      "age                                         22\n",
      "english.grade                              3.0\n",
      "math.grade                                 3.4\n",
      "sciences.grade                             3.7\n",
      "language.grade                             5.0\n",
      "portfolio.rating                             3\n",
      "coverletter.rating                         5.0\n",
      "refletter.rating                             3\n",
      "Name: 257, dtype: object)\n",
      "(258, id                                         258\n",
      "name                         Logan Nighswonger\n",
      "nationality           United States of America\n",
      "city                               Los Angeles\n",
      "latitude                                 34.05\n",
      "longitude                              -118.24\n",
      "gender                                       M\n",
      "ethnic.group                               NaN\n",
      "age                                         21\n",
      "english.grade                              2.7\n",
      "math.grade                                 4.0\n",
      "sciences.grade                             3.9\n",
      "language.grade                             5.0\n",
      "portfolio.rating                             4\n",
      "coverletter.rating                         3.0\n",
      "refletter.rating                             5\n",
      "Name: 258, dtype: object)\n",
      "(259, id                                  259\n",
      "name                  Zaghlool al-Pasha\n",
      "nationality                       India\n",
      "city                             Deoria\n",
      "latitude                           26.5\n",
      "longitude                         83.79\n",
      "gender                                M\n",
      "ethnic.group                        NaN\n",
      "age                                  21\n",
      "english.grade                       2.3\n",
      "math.grade                          3.8\n",
      "sciences.grade                      3.8\n",
      "language.grade                      4.0\n",
      "portfolio.rating                      5\n",
      "coverletter.rating                  5.0\n",
      "refletter.rating                      5\n",
      "Name: 259, dtype: object)\n",
      "(260, id                                         260\n",
      "name                           Madeline Kremke\n",
      "nationality           United States of America\n",
      "city                        Montgomery Village\n",
      "latitude                                 39.18\n",
      "longitude                                -77.2\n",
      "gender                                       F\n",
      "ethnic.group                               NaN\n",
      "age                                         22\n",
      "english.grade                              3.2\n",
      "math.grade                                 3.6\n",
      "sciences.grade                             2.6\n",
      "language.grade                             5.0\n",
      "portfolio.rating                             4\n",
      "coverletter.rating                         4.0\n",
      "refletter.rating                             4\n",
      "Name: 260, dtype: object)\n",
      "(261, id                                         261\n",
      "name                                John Ferry\n",
      "nationality           United States of America\n",
      "city                                Long Beach\n",
      "latitude                                 33.77\n",
      "longitude                              -118.19\n",
      "gender                                       M\n",
      "ethnic.group                               NaN\n",
      "age                                         21\n",
      "english.grade                              3.8\n",
      "math.grade                                 2.4\n",
      "sciences.grade                             3.8\n",
      "language.grade                             5.0\n",
      "portfolio.rating                             4\n",
      "coverletter.rating                         2.0\n",
      "refletter.rating                             5\n",
      "Name: 261, dtype: object)\n",
      "(262, id                                         262\n",
      "name                        Michelle Goldanloo\n",
      "nationality           United States of America\n",
      "city                                 San Diego\n",
      "latitude                                 32.72\n",
      "longitude                              -117.16\n",
      "gender                                       F\n",
      "ethnic.group                               NaN\n",
      "age                                         22\n",
      "english.grade                              3.3\n",
      "math.grade                                 2.8\n",
      "sciences.grade                             3.9\n",
      "language.grade                             5.0\n",
      "portfolio.rating                             5\n",
      "coverletter.rating                         5.0\n",
      "refletter.rating                             4\n",
      "Name: 262, dtype: object)\n",
      "(263, id                                         263\n",
      "name                          Ryan Heidebrecht\n",
      "nationality           United States of America\n",
      "city                                  San Jose\n",
      "latitude                                 37.34\n",
      "longitude                              -121.89\n",
      "gender                                       M\n",
      "ethnic.group                               NaN\n",
      "age                                         22\n",
      "english.grade                              3.9\n",
      "math.grade                                 3.7\n",
      "sciences.grade                             3.8\n",
      "language.grade                             5.0\n",
      "portfolio.rating                             5\n",
      "coverletter.rating                         3.5\n",
      "refletter.rating                             5\n",
      "Name: 263, dtype: object)\n",
      "(264, id                                264\n",
      "name                  Murtidevi Chung\n",
      "nationality                     Japan\n",
      "city                            Tokyo\n",
      "latitude                        35.69\n",
      "longitude                      139.75\n",
      "gender                              F\n",
      "ethnic.group                      NaN\n",
      "age                                21\n",
      "english.grade                     2.9\n",
      "math.grade                        3.9\n",
      "sciences.grade                    3.5\n",
      "language.grade                    2.0\n",
      "portfolio.rating                    4\n",
      "coverletter.rating                5.0\n",
      "refletter.rating                    4\n",
      "Name: 264, dtype: object)\n",
      "(265, id                                265\n",
      "name                  Arely Rodriguez\n",
      "nationality                    Mexico\n",
      "city                          Morelia\n",
      "latitude                         19.7\n",
      "longitude                     -101.12\n",
      "gender                              F\n",
      "ethnic.group                      NaN\n",
      "age                                21\n",
      "english.grade                     3.9\n",
      "math.grade                        3.5\n",
      "sciences.grade                    3.6\n",
      "language.grade                    4.0\n",
      "portfolio.rating                    4\n",
      "coverletter.rating                4.0\n",
      "refletter.rating                    3\n",
      "Name: 265, dtype: object)\n",
      "(266, id                                         266\n",
      "name                              Taylor Stone\n",
      "nationality           United States of America\n",
      "city                                      Reno\n",
      "latitude                                 39.53\n",
      "longitude                              -119.81\n",
      "gender                                       F\n",
      "ethnic.group                               NaN\n",
      "age                                         22\n",
      "english.grade                              3.0\n",
      "math.grade                                 3.0\n",
      "sciences.grade                             3.5\n",
      "language.grade                             5.0\n",
      "portfolio.rating                             5\n",
      "coverletter.rating                         5.0\n",
      "refletter.rating                             3\n",
      "Name: 266, dtype: object)\n",
      "(267, id                                         267\n",
      "name                             Melody Bowyer\n",
      "nationality           United States of America\n",
      "city                                   Baytown\n",
      "latitude                                 29.74\n",
      "longitude                               -94.98\n",
      "gender                                       F\n",
      "ethnic.group                               NaN\n",
      "age                                         21\n",
      "english.grade                              3.2\n",
      "math.grade                                 3.5\n",
      "sciences.grade                             3.3\n",
      "language.grade                             5.0\n",
      "portfolio.rating                             4\n",
      "coverletter.rating                         4.0\n",
      "refletter.rating                             5\n",
      "Name: 267, dtype: object)\n",
      "(268, id                                 268\n",
      "name                  Bryant Ronquillo\n",
      "nationality                     Mexico\n",
      "city                    Aguascalientes\n",
      "latitude                         21.88\n",
      "longitude                       -102.3\n",
      "gender                               M\n",
      "ethnic.group                       NaN\n",
      "age                                 20\n",
      "english.grade                      4.0\n",
      "math.grade                         3.2\n",
      "sciences.grade                     3.5\n",
      "language.grade                     4.0\n",
      "portfolio.rating                     3\n",
      "coverletter.rating                 5.0\n",
      "refletter.rating                     3\n",
      "Name: 268, dtype: object)\n",
      "(269, id                                         269\n",
      "name                              Garrett Heim\n",
      "nationality           United States of America\n",
      "city                                    Mobile\n",
      "latitude                                 30.69\n",
      "longitude                               -88.04\n",
      "gender                                       M\n",
      "ethnic.group                               NaN\n",
      "age                                         20\n",
      "english.grade                              4.0\n",
      "math.grade                                 3.2\n",
      "sciences.grade                             3.1\n",
      "language.grade                             5.0\n",
      "portfolio.rating                             4\n",
      "coverletter.rating                         4.0\n",
      "refletter.rating                             5\n",
      "Name: 269, dtype: object)\n",
      "(270, id                                         270\n",
      "name                                 Cody Amen\n",
      "nationality           United States of America\n",
      "city                                 Las Vegas\n",
      "latitude                                 36.17\n",
      "longitude                              -115.14\n",
      "gender                                       M\n",
      "ethnic.group                               NaN\n",
      "age                                         23\n",
      "english.grade                              3.6\n",
      "math.grade                                 3.9\n",
      "sciences.grade                             3.7\n",
      "language.grade                             5.0\n",
      "portfolio.rating                             4\n",
      "coverletter.rating                         4.0\n",
      "refletter.rating                             4\n",
      "Name: 270, dtype: object)\n",
      "(271, id                              271\n",
      "name                  Jasmine Lopez\n",
      "nationality                  Brazil\n",
      "city                        Guaxupé\n",
      "latitude                      -21.3\n",
      "longitude                     -46.7\n",
      "gender                            F\n",
      "ethnic.group                    NaN\n",
      "age                              21\n",
      "english.grade                   3.8\n",
      "math.grade                      3.8\n",
      "sciences.grade                  1.5\n",
      "language.grade                  4.0\n",
      "portfolio.rating                  4\n",
      "coverletter.rating              3.0\n",
      "refletter.rating                  4\n",
      "Name: 271, dtype: object)\n",
      "(272, id                                         272\n",
      "name                           William Tierney\n",
      "nationality           United States of America\n",
      "city                                  New York\n",
      "latitude                                 40.71\n",
      "longitude                               -74.01\n",
      "gender                                       M\n",
      "ethnic.group                               NaN\n",
      "age                                         21\n",
      "english.grade                              3.8\n",
      "math.grade                                 2.1\n",
      "sciences.grade                             3.0\n",
      "language.grade                             5.0\n",
      "portfolio.rating                             3\n",
      "coverletter.rating                         4.0\n",
      "refletter.rating                             4\n",
      "Name: 272, dtype: object)\n",
      "(273, id                                         273\n",
      "name                             Matthew Sputh\n",
      "nationality           United States of America\n",
      "city                                   Modesto\n",
      "latitude                                 37.64\n",
      "longitude                               -121.0\n",
      "gender                                       M\n",
      "ethnic.group                               NaN\n",
      "age                                         22\n",
      "english.grade                              3.2\n",
      "math.grade                                 2.6\n",
      "sciences.grade                             4.0\n",
      "language.grade                             5.0\n",
      "portfolio.rating                             3\n",
      "coverletter.rating                         3.0\n",
      "refletter.rating                             5\n",
      "Name: 273, dtype: object)\n",
      "(274, id                                         274\n",
      "name                            Brenna Chapman\n",
      "nationality           United States of America\n",
      "city                                 Las Vegas\n",
      "latitude                                 36.17\n",
      "longitude                              -115.14\n",
      "gender                                       F\n",
      "ethnic.group                               NaN\n",
      "age                                         21\n",
      "english.grade                              3.5\n",
      "math.grade                                 3.8\n",
      "sciences.grade                             3.3\n",
      "language.grade                             5.0\n",
      "portfolio.rating                             5\n",
      "coverletter.rating                         4.0\n",
      "refletter.rating                             5\n",
      "Name: 274, dtype: object)\n",
      "(275, id                                         275\n",
      "name                            Blake Loughran\n",
      "nationality           United States of America\n",
      "city                             San Francisco\n",
      "latitude                                 37.77\n",
      "longitude                              -122.42\n",
      "gender                                       M\n",
      "ethnic.group                               NaN\n",
      "age                                         21\n",
      "english.grade                              4.0\n",
      "math.grade                                 3.0\n",
      "sciences.grade                             3.4\n",
      "language.grade                             5.0\n",
      "portfolio.rating                             4\n",
      "coverletter.rating                         3.0\n",
      "refletter.rating                             4\n",
      "Name: 275, dtype: object)\n",
      "(276, id                                         276\n",
      "name                         Michael Melendrez\n",
      "nationality           United States of America\n",
      "city                                Shreveport\n",
      "latitude                                 32.52\n",
      "longitude                               -93.75\n",
      "gender                                       M\n",
      "ethnic.group                               NaN\n",
      "age                                         22\n",
      "english.grade                              3.4\n",
      "math.grade                                 3.8\n",
      "sciences.grade                             3.2\n",
      "language.grade                             5.0\n",
      "portfolio.rating                             4\n",
      "coverletter.rating                         4.0\n",
      "refletter.rating                             4\n",
      "Name: 276, dtype: object)\n",
      "(277, id                                         277\n",
      "name                         Katie Abercrombie\n",
      "nationality           United States of America\n",
      "city                                  Stockton\n",
      "latitude                                 37.96\n",
      "longitude                              -121.29\n",
      "gender                                       F\n",
      "ethnic.group                               NaN\n",
      "age                                         21\n",
      "english.grade                              3.8\n",
      "math.grade                                 3.8\n",
      "sciences.grade                             3.6\n",
      "language.grade                             5.0\n",
      "portfolio.rating                             3\n",
      "coverletter.rating                         5.0\n",
      "refletter.rating                             4\n",
      "Name: 277, dtype: object)\n",
      "(278, id                                         278\n",
      "name                             Justin Krause\n",
      "nationality           United States of America\n",
      "city                              Independence\n",
      "latitude                                 39.09\n",
      "longitude                               -94.42\n",
      "gender                                       M\n",
      "ethnic.group                               NaN\n",
      "age                                         21\n",
      "english.grade                              3.9\n",
      "math.grade                                 2.6\n",
      "sciences.grade                             2.8\n",
      "language.grade                             5.0\n",
      "portfolio.rating                             3\n",
      "coverletter.rating                         5.0\n",
      "refletter.rating                             5\n",
      "Name: 278, dtype: object)\n",
      "(279, id                                         279\n",
      "name                            Jennifer Hauge\n",
      "nationality           United States of America\n",
      "city                               Los Angeles\n",
      "latitude                                 34.05\n",
      "longitude                              -118.24\n",
      "gender                                       F\n",
      "ethnic.group                               NaN\n",
      "age                                         23\n",
      "english.grade                              2.6\n",
      "math.grade                                 3.0\n",
      "sciences.grade                             2.3\n",
      "language.grade                             5.0\n",
      "portfolio.rating                             4\n",
      "coverletter.rating                         4.0\n",
      "refletter.rating                             4\n",
      "Name: 279, dtype: object)\n",
      "(280, id                             280\n",
      "name                  Tiffanie Her\n",
      "nationality                  Japan\n",
      "city                         Tokyo\n",
      "latitude                     35.69\n",
      "longitude                   139.75\n",
      "gender                           F\n",
      "ethnic.group                   NaN\n",
      "age                             22\n",
      "english.grade                  3.4\n",
      "math.grade                     4.0\n",
      "sciences.grade                 3.6\n",
      "language.grade                 3.0\n",
      "portfolio.rating                 4\n",
      "coverletter.rating             4.0\n",
      "refletter.rating                 3\n",
      "Name: 280, dtype: object)\n",
      "(281, id                                         281\n",
      "name                              Dyllan Paige\n",
      "nationality           United States of America\n",
      "city                                Sugar Land\n",
      "latitude                                 29.62\n",
      "longitude                               -95.63\n",
      "gender                                       M\n",
      "ethnic.group                               NaN\n",
      "age                                         20\n",
      "english.grade                              2.9\n",
      "math.grade                                 3.1\n",
      "sciences.grade                             2.6\n",
      "language.grade                             5.0\n",
      "portfolio.rating                             5\n",
      "coverletter.rating                         5.0\n",
      "refletter.rating                             4\n",
      "Name: 281, dtype: object)\n",
      "(282, id                                         282\n",
      "name                             Cole Hathcoat\n",
      "nationality           United States of America\n",
      "city                                   Lemoore\n",
      "latitude                                  36.3\n",
      "longitude                              -119.78\n",
      "gender                                       M\n",
      "ethnic.group                               NaN\n",
      "age                                         23\n",
      "english.grade                              2.4\n",
      "math.grade                                 3.6\n",
      "sciences.grade                             2.8\n",
      "language.grade                             5.0\n",
      "portfolio.rating                             3\n",
      "coverletter.rating                         5.0\n",
      "refletter.rating                             5\n",
      "Name: 282, dtype: object)\n",
      "(283, id                               283\n",
      "name                  Jesse Carballo\n",
      "nationality                 Colombia\n",
      "city                          Bogotá\n",
      "latitude                        4.65\n",
      "longitude                     -74.06\n",
      "gender                             M\n",
      "ethnic.group                     NaN\n",
      "age                               20\n",
      "english.grade                    3.8\n",
      "math.grade                       3.9\n",
      "sciences.grade                   3.9\n",
      "language.grade                   4.0\n",
      "portfolio.rating                   5\n",
      "coverletter.rating               4.0\n",
      "refletter.rating                   4\n",
      "Name: 283, dtype: object)\n",
      "(284, id                                         284\n",
      "name                           Robert Podolski\n",
      "nationality           United States of America\n",
      "city                                   Oakland\n",
      "latitude                                  37.8\n",
      "longitude                              -122.27\n",
      "gender                                       M\n",
      "ethnic.group                               NaN\n",
      "age                                         22\n",
      "english.grade                              3.7\n",
      "math.grade                                 3.3\n",
      "sciences.grade                             2.4\n",
      "language.grade                             5.0\n",
      "portfolio.rating                             4\n",
      "coverletter.rating                         4.0\n",
      "refletter.rating                             4\n",
      "Name: 284, dtype: object)\n",
      "(285, id                                      285\n",
      "name                  Viridiana Ballesteros\n",
      "nationality                          Brazil\n",
      "city                                Alfenas\n",
      "latitude                             -21.43\n",
      "longitude                            -45.95\n",
      "gender                                    F\n",
      "ethnic.group                            NaN\n",
      "age                                      22\n",
      "english.grade                           2.8\n",
      "math.grade                              3.5\n",
      "sciences.grade                          3.9\n",
      "language.grade                          4.0\n",
      "portfolio.rating                          4\n",
      "coverletter.rating                      5.0\n",
      "refletter.rating                          5\n",
      "Name: 285, dtype: object)\n",
      "(286, id                                         286\n",
      "name                           Michael Griffin\n",
      "nationality           United States of America\n",
      "city                                  New York\n",
      "latitude                                 40.71\n",
      "longitude                               -74.01\n",
      "gender                                       M\n",
      "ethnic.group                               NaN\n",
      "age                                         21\n",
      "english.grade                              4.0\n",
      "math.grade                                 4.0\n",
      "sciences.grade                             4.0\n",
      "language.grade                             5.0\n",
      "portfolio.rating                             3\n",
      "coverletter.rating                         5.0\n",
      "refletter.rating                             5\n",
      "Name: 286, dtype: object)\n",
      "(287, id                                         287\n",
      "name                                Chad Klemp\n",
      "nationality           United States of America\n",
      "city                                 San Diego\n",
      "latitude                                 32.72\n",
      "longitude                              -117.16\n",
      "gender                                       M\n",
      "ethnic.group                               NaN\n",
      "age                                         22\n",
      "english.grade                              3.9\n",
      "math.grade                                 2.6\n",
      "sciences.grade                             4.0\n",
      "language.grade                             5.0\n",
      "portfolio.rating                             4\n",
      "coverletter.rating                         4.0\n",
      "refletter.rating                             5\n",
      "Name: 287, dtype: object)\n",
      "(288, id                                         288\n",
      "name                          Weldon Hightower\n",
      "nationality           United States of America\n",
      "city                                  New York\n",
      "latitude                                 40.71\n",
      "longitude                               -74.01\n",
      "gender                                       M\n",
      "ethnic.group                               NaN\n",
      "age                                         20\n",
      "english.grade                              2.6\n",
      "math.grade                                 2.1\n",
      "sciences.grade                             3.2\n",
      "language.grade                             5.0\n",
      "portfolio.rating                             4\n",
      "coverletter.rating                         5.0\n",
      "refletter.rating                             5\n",
      "Name: 288, dtype: object)\n",
      "(289, id                                         289\n",
      "name                             Daniel Pierce\n",
      "nationality           United States of America\n",
      "city                                  New York\n",
      "latitude                                 40.71\n",
      "longitude                               -74.01\n",
      "gender                                       M\n",
      "ethnic.group                               NaN\n",
      "age                                         24\n",
      "english.grade                              3.3\n",
      "math.grade                                 2.8\n",
      "sciences.grade                             3.9\n",
      "language.grade                             5.0\n",
      "portfolio.rating                             5\n",
      "coverletter.rating                         4.0\n",
      "refletter.rating                             5\n",
      "Name: 289, dtype: object)\n",
      "(290, id                                         290\n",
      "name                       Michaela Schoenbeck\n",
      "nationality           United States of America\n",
      "city                                   Rexburg\n",
      "latitude                                 43.83\n",
      "longitude                              -111.79\n",
      "gender                                       F\n",
      "ethnic.group                               NaN\n",
      "age                                         22\n",
      "english.grade                              3.9\n",
      "math.grade                                 4.0\n",
      "sciences.grade                             3.3\n",
      "language.grade                             5.0\n",
      "portfolio.rating                             5\n",
      "coverletter.rating                         4.0\n",
      "refletter.rating                             4\n",
      "Name: 290, dtype: object)\n",
      "(291, id                                         291\n",
      "name                             Charles Prose\n",
      "nationality           United States of America\n",
      "city                                     Miami\n",
      "latitude                                 25.77\n",
      "longitude                               -80.19\n",
      "gender                                       M\n",
      "ethnic.group                               NaN\n",
      "age                                         24\n",
      "english.grade                              3.7\n",
      "math.grade                                 3.2\n",
      "sciences.grade                             2.8\n",
      "language.grade                             5.0\n",
      "portfolio.rating                             4\n",
      "coverletter.rating                         4.0\n",
      "refletter.rating                             5\n",
      "Name: 291, dtype: object)\n",
      "(292, id                                         292\n",
      "name                       Brittany Kemmerzell\n",
      "nationality           United States of America\n",
      "city                                  New York\n",
      "latitude                                 40.71\n",
      "longitude                               -74.01\n",
      "gender                                       F\n",
      "ethnic.group                               NaN\n",
      "age                                         23\n",
      "english.grade                              3.2\n",
      "math.grade                                 3.4\n",
      "sciences.grade                             3.7\n",
      "language.grade                             5.0\n",
      "portfolio.rating                             4\n",
      "coverletter.rating                         5.0\n",
      "refletter.rating                             3\n",
      "Name: 292, dtype: object)\n",
      "(293, id                                  293\n",
      "name                  Taryn Springfield\n",
      "nationality                      Canada\n",
      "city                          Vancouver\n",
      "latitude                          49.25\n",
      "longitude                       -123.13\n",
      "gender                                F\n",
      "ethnic.group                        NaN\n",
      "age                                  20\n",
      "english.grade                       3.5\n",
      "math.grade                          3.7\n",
      "sciences.grade                      3.4\n",
      "language.grade                      5.0\n",
      "portfolio.rating                      5\n",
      "coverletter.rating                  5.0\n",
      "refletter.rating                      5\n",
      "Name: 293, dtype: object)\n",
      "(294, id                                         294\n",
      "name                            Matthew Obourn\n",
      "nationality           United States of America\n",
      "city                                 San Diego\n",
      "latitude                                 32.72\n",
      "longitude                              -117.16\n",
      "gender                                       M\n",
      "ethnic.group                               NaN\n",
      "age                                         23\n",
      "english.grade                              3.9\n",
      "math.grade                                 4.0\n",
      "sciences.grade                             3.9\n",
      "language.grade                             5.0\n",
      "portfolio.rating                             4\n",
      "coverletter.rating                         4.0\n",
      "refletter.rating                             4\n",
      "Name: 294, dtype: object)\n",
      "(295, id                                         295\n",
      "name                               Travis Poss\n",
      "nationality           United States of America\n",
      "city                               Los Angeles\n",
      "latitude                                 34.05\n",
      "longitude                              -118.24\n",
      "gender                                       M\n",
      "ethnic.group                               NaN\n",
      "age                                         23\n",
      "english.grade                              2.3\n",
      "math.grade                                 3.0\n",
      "sciences.grade                             3.5\n",
      "language.grade                             5.0\n",
      "portfolio.rating                             1\n",
      "coverletter.rating                         5.0\n",
      "refletter.rating                             5\n",
      "Name: 295, dtype: object)\n",
      "(296, id                                   296\n",
      "name                  Brittany Fernandez\n",
      "nationality                       Mexico\n",
      "city                              Zamora\n",
      "latitude                           19.98\n",
      "longitude                        -102.27\n",
      "gender                                 F\n",
      "ethnic.group                         NaN\n",
      "age                                   23\n",
      "english.grade                        3.9\n",
      "math.grade                           3.7\n",
      "sciences.grade                       2.9\n",
      "language.grade                       4.0\n",
      "portfolio.rating                       3\n",
      "coverletter.rating                   4.0\n",
      "refletter.rating                       4\n",
      "Name: 296, dtype: object)\n",
      "(297, id                                         297\n",
      "name                                Cody Smith\n",
      "nationality           United States of America\n",
      "city                                 Charlotte\n",
      "latitude                                 35.23\n",
      "longitude                               -80.84\n",
      "gender                                       M\n",
      "ethnic.group                               NaN\n",
      "age                                         23\n",
      "english.grade                              3.8\n",
      "math.grade                                 3.5\n",
      "sciences.grade                             3.9\n",
      "language.grade                             5.0\n",
      "portfolio.rating                             5\n",
      "coverletter.rating                         2.0\n",
      "refletter.rating                             5\n",
      "Name: 297, dtype: object)\n",
      "(298, id                                         298\n",
      "name                              Nicolas Papp\n",
      "nationality           United States of America\n",
      "city                                  New York\n",
      "latitude                                 40.71\n",
      "longitude                               -74.01\n",
      "gender                                       M\n",
      "ethnic.group                               NaN\n",
      "age                                         23\n",
      "english.grade                              2.7\n",
      "math.grade                                 3.7\n",
      "sciences.grade                             3.9\n",
      "language.grade                             5.0\n",
      "portfolio.rating                             5\n",
      "coverletter.rating                         4.0\n",
      "refletter.rating                             4\n",
      "Name: 298, dtype: object)\n",
      "(299, id                                         299\n",
      "name                      Christopher Inhulsen\n",
      "nationality           United States of America\n",
      "city                                Fort Worth\n",
      "latitude                                 32.73\n",
      "longitude                               -97.32\n",
      "gender                                       M\n",
      "ethnic.group                               NaN\n",
      "age                                         23\n",
      "english.grade                              3.1\n",
      "math.grade                                 3.3\n",
      "sciences.grade                             2.9\n",
      "language.grade                             5.0\n",
      "portfolio.rating                             2\n",
      "coverletter.rating                         4.0\n",
      "refletter.rating                             4\n",
      "Name: 299, dtype: object)\n",
      "(300, id                                         300\n",
      "name                           Tessa Rawanduzy\n",
      "nationality           United States of America\n",
      "city                                     Derby\n",
      "latitude                                 37.55\n",
      "longitude                               -97.27\n",
      "gender                                       F\n",
      "ethnic.group                               NaN\n",
      "age                                         21\n",
      "english.grade                              3.3\n",
      "math.grade                                 3.3\n",
      "sciences.grade                             2.0\n",
      "language.grade                             5.0\n",
      "portfolio.rating                             3\n",
      "coverletter.rating                         3.0\n",
      "refletter.rating                             5\n",
      "Name: 300, dtype: object)\n",
      "(301, id                                 301\n",
      "name                  Vanessa Gonzalez\n",
      "nationality                  Nicaragua\n",
      "city                              León\n",
      "latitude                         12.44\n",
      "longitude                       -86.88\n",
      "gender                               F\n",
      "ethnic.group                       NaN\n",
      "age                                 24\n",
      "english.grade                      3.3\n",
      "math.grade                         3.7\n",
      "sciences.grade                     3.8\n",
      "language.grade                     3.0\n",
      "portfolio.rating                     5\n",
      "coverletter.rating                 5.0\n",
      "refletter.rating                     4\n",
      "Name: 301, dtype: object)\n",
      "(302, id                                         302\n",
      "name                               Austin Haas\n",
      "nationality           United States of America\n",
      "city                                  Columbus\n",
      "latitude                                 39.96\n",
      "longitude                                -83.0\n",
      "gender                                       M\n",
      "ethnic.group                               NaN\n",
      "age                                         20\n",
      "english.grade                              3.6\n",
      "math.grade                                 3.7\n",
      "sciences.grade                             3.1\n",
      "language.grade                             5.0\n",
      "portfolio.rating                             4\n",
      "coverletter.rating                         5.0\n",
      "refletter.rating                             5\n",
      "Name: 302, dtype: object)\n",
      "(303, id                                         303\n",
      "name                           Madison Fithian\n",
      "nationality           United States of America\n",
      "city                               Los Angeles\n",
      "latitude                                 34.05\n",
      "longitude                              -118.24\n",
      "gender                                       F\n",
      "ethnic.group                               NaN\n",
      "age                                         20\n",
      "english.grade                              3.6\n",
      "math.grade                                 3.9\n",
      "sciences.grade                             4.0\n",
      "language.grade                             5.0\n",
      "portfolio.rating                             5\n",
      "coverletter.rating                         5.0\n",
      "refletter.rating                             3\n",
      "Name: 303, dtype: object)\n",
      "(304, id                                         304\n",
      "name                         Zachary Mulvahill\n",
      "nationality           United States of America\n",
      "city                               Los Angeles\n",
      "latitude                                 34.05\n",
      "longitude                              -118.24\n",
      "gender                                       M\n",
      "ethnic.group                               NaN\n",
      "age                                         20\n",
      "english.grade                              3.2\n",
      "math.grade                                 3.4\n",
      "sciences.grade                             3.9\n",
      "language.grade                             5.0\n",
      "portfolio.rating                             5\n",
      "coverletter.rating                         5.0\n",
      "refletter.rating                             3\n",
      "Name: 304, dtype: object)\n",
      "(305, id                                         305\n",
      "name                          Eliana Michelsen\n",
      "nationality           United States of America\n",
      "city                                   Oakland\n",
      "latitude                                  37.8\n",
      "longitude                              -122.27\n",
      "gender                                       F\n",
      "ethnic.group                               NaN\n",
      "age                                         23\n",
      "english.grade                              3.0\n",
      "math.grade                                 2.8\n",
      "sciences.grade                             2.9\n",
      "language.grade                             5.0\n",
      "portfolio.rating                             4\n",
      "coverletter.rating                         4.0\n",
      "refletter.rating                             5\n",
      "Name: 305, dtype: object)\n",
      "(306, id                                306\n",
      "name                  Dane Whittemore\n",
      "nationality                    Canada\n",
      "city                          Toronto\n",
      "latitude                        43.67\n",
      "longitude                      -79.42\n",
      "gender                              M\n",
      "ethnic.group                      NaN\n",
      "age                                21\n",
      "english.grade                     3.8\n",
      "math.grade                        3.2\n",
      "sciences.grade                    4.0\n",
      "language.grade                    5.0\n",
      "portfolio.rating                    5\n",
      "coverletter.rating                4.0\n",
      "refletter.rating                    5\n",
      "Name: 306, dtype: object)\n"
     ]
    }
   ],
   "source": [
    "for record in df.iterrows():\n",
    "    print(record)"
   ]
  },
  {
   "cell_type": "code",
   "execution_count": null,
   "metadata": {},
   "outputs": [
    {
     "name": "stdout",
     "output_type": "stream",
     "text": [
      "<class 'pandas.core.frame.DataFrame'>\n",
      "RangeIndex: 307 entries, 0 to 306\n",
      "Data columns (total 16 columns):\n",
      " #   Column              Non-Null Count  Dtype  \n",
      "---  ------              --------------  -----  \n",
      " 0   id                  307 non-null    int64  \n",
      " 1   name                307 non-null    object \n",
      " 2   nationality         307 non-null    object \n",
      " 3   city                307 non-null    object \n",
      " 4   latitude            307 non-null    float64\n",
      " 5   longitude           307 non-null    float64\n",
      " 6   gender              307 non-null    object \n",
      " 7   ethnic.group        0 non-null      float64\n",
      " 8   age                 307 non-null    int64  \n",
      " 9   english.grade       307 non-null    float64\n",
      " 10  math.grade          307 non-null    float64\n",
      " 11  sciences.grade      307 non-null    float64\n",
      " 12  language.grade      307 non-null    float64\n",
      " 13  portfolio.rating    307 non-null    int64  \n",
      " 14  coverletter.rating  307 non-null    float64\n",
      " 15  refletter.rating    307 non-null    int64  \n",
      "dtypes: float64(8), int64(4), object(4)\n",
      "memory usage: 38.5+ KB\n"
     ]
    }
   ],
   "source": [
    "df.info()"
   ]
  },
  {
   "cell_type": "code",
   "execution_count": null,
   "metadata": {},
   "outputs": [
    {
     "data": {
      "text/plain": [
       "'  \\nloc and iloc uses square bracket\\n-> present in both in series and  dataframes object.\\n-> \\n-----------------------\\n=>loc[] is used for slicing the data either on the basis row index and column index.\\n=> loc[] always take row index and column names only (never take column index)\\nsyntax: dataFrameObj.loc[]\\ndataFrameObj.loc[row_number]\\ndataFrameObj.loc[row_number,[col name,..]]\\ndataFrameObj.loc[start:stop:step,[col name]]\\n\\n\\n'"
      ]
     },
     "execution_count": 467,
     "metadata": {},
     "output_type": "execute_result"
    }
   ],
   "source": [
    "# pandas --> loc and iloc\n",
    "\n",
    "\"\"\"  \n",
    "loc and iloc uses square bracket\n",
    "-> present in both in series and  dataframes object.\n",
    "-> \n",
    "-----------------------\n",
    "=>loc[] is used for slicing the data either on the basis row index and column index.\n",
    "=> loc[] always take row index and column names only (never take column index)\n",
    "syntax: dataFrameObj.loc[]\n",
    "dataFrameObj.loc[row_number]\n",
    "dataFrameObj.loc[row_number,[col name,..]]\n",
    "dataFrameObj.loc[start:stop:step,[col name]]\n",
    "\n",
    "\n",
    "\"\"\""
   ]
  },
  {
   "cell_type": "code",
   "execution_count": null,
   "metadata": {},
   "outputs": [],
   "source": [
    "# info() - it is a pre defined function in series and dataframe object and the gives the following information"
   ]
  },
  {
   "cell_type": "code",
   "execution_count": null,
   "metadata": {},
   "outputs": [
    {
     "name": "stdout",
     "output_type": "stream",
     "text": [
      "==================================================\n",
      "      id               name               nationality                 city  \\\n",
      "0      0          Kiana Lor                     China               Suzhou   \n",
      "1      1     Joshua Lonaker  United States of America        Santa Clarita   \n",
      "2      2      Dakota Blanco  United States of America              Oakland   \n",
      "3      3    Natasha Yarusso  United States of America        Castro Valley   \n",
      "4      4     Brooke Cazares                    Brazil  São José dos Campos   \n",
      "..   ...                ...                       ...                  ...   \n",
      "302  302        Austin Haas  United States of America             Columbus   \n",
      "303  303    Madison Fithian  United States of America          Los Angeles   \n",
      "304  304  Zachary Mulvahill  United States of America          Los Angeles   \n",
      "305  305   Eliana Michelsen  United States of America              Oakland   \n",
      "306  306    Dane Whittemore                    Canada              Toronto   \n",
      "\n",
      "     latitude  longitude gender  ethnic.group  age  english.grade  math.grade  \\\n",
      "0       31.31     120.62      F           NaN   22            3.5         3.7   \n",
      "1       34.39    -118.54      M           NaN   22            2.9         3.2   \n",
      "2       37.80    -122.27      F           NaN   22            3.9         3.8   \n",
      "3       37.69    -122.09      F           NaN   20            3.3         2.8   \n",
      "4      -23.18     -45.88      F           NaN   21            3.7         2.6   \n",
      "..        ...        ...    ...           ...  ...            ...         ...   \n",
      "302     39.96     -83.00      M           NaN   20            3.6         3.7   \n",
      "303     34.05    -118.24      F           NaN   20            3.6         3.9   \n",
      "304     34.05    -118.24      M           NaN   20            3.2         3.4   \n",
      "305     37.80    -122.27      F           NaN   23            3.0         2.8   \n",
      "306     43.67     -79.42      M           NaN   21            3.8         3.2   \n",
      "\n",
      "     sciences.grade  language.grade  portfolio.rating  coverletter.rating  \\\n",
      "0               3.1             1.0                 4                 4.0   \n",
      "1               3.6             5.0                 5                 4.0   \n",
      "2               3.2             5.0                 3                 3.0   \n",
      "3               3.2             5.0                 5                 2.0   \n",
      "4               3.4             1.0                 4                 4.0   \n",
      "..              ...             ...               ...                 ...   \n",
      "302             3.1             5.0                 4                 5.0   \n",
      "303             4.0             5.0                 5                 5.0   \n",
      "304             3.9             5.0                 5                 5.0   \n",
      "305             2.9             5.0                 4                 4.0   \n",
      "306             4.0             5.0                 5                 4.0   \n",
      "\n",
      "     refletter.rating  \n",
      "0                   4  \n",
      "1                   5  \n",
      "2                   4  \n",
      "3                   4  \n",
      "4                   5  \n",
      "..                ...  \n",
      "302                 5  \n",
      "303                 3  \n",
      "304                 3  \n",
      "305                 5  \n",
      "306                 5  \n",
      "\n",
      "[307 rows x 16 columns]\n",
      "==================================================\n"
     ]
    }
   ],
   "source": [
    "import pandas as pd\n",
    "import numpy as np\n",
    "# get the data from student.csv into dataframe\n",
    "df= pd.read_csv(\"D:\\\\clone\\\\DataAnalyst_DPK\\\\files\\\\student-dataset.csv\")\n",
    "print(\"=\"*50)\n",
    "print(df)\n",
    "print(\"=\"*50)"
   ]
  },
  {
   "cell_type": "code",
   "execution_count": null,
   "metadata": {},
   "outputs": [
    {
     "name": "stdout",
     "output_type": "stream",
     "text": [
      "<class 'pandas.core.frame.DataFrame'>\n",
      "RangeIndex: 307 entries, 0 to 306\n",
      "Data columns (total 16 columns):\n",
      " #   Column              Non-Null Count  Dtype  \n",
      "---  ------              --------------  -----  \n",
      " 0   id                  307 non-null    int64  \n",
      " 1   name                307 non-null    object \n",
      " 2   nationality         307 non-null    object \n",
      " 3   city                307 non-null    object \n",
      " 4   latitude            307 non-null    float64\n",
      " 5   longitude           307 non-null    float64\n",
      " 6   gender              307 non-null    object \n",
      " 7   ethnic.group        0 non-null      float64\n",
      " 8   age                 307 non-null    int64  \n",
      " 9   english.grade       307 non-null    float64\n",
      " 10  math.grade          307 non-null    float64\n",
      " 11  sciences.grade      307 non-null    float64\n",
      " 12  language.grade      307 non-null    float64\n",
      " 13  portfolio.rating    307 non-null    int64  \n",
      " 14  coverletter.rating  307 non-null    float64\n",
      " 15  refletter.rating    307 non-null    int64  \n",
      "dtypes: float64(8), int64(4), object(4)\n",
      "memory usage: 38.5+ KB\n"
     ]
    }
   ],
   "source": [
    "df.info()"
   ]
  },
  {
   "cell_type": "code",
   "execution_count": null,
   "metadata": {},
   "outputs": [
    {
     "data": {
      "text/plain": [
       "name                    Natasha Yarusso\n",
       "nationality    United States of America\n",
       "Name: 3, dtype: object"
      ]
     },
     "execution_count": 471,
     "metadata": {},
     "output_type": "execute_result"
    }
   ],
   "source": [
    "df.loc[3,[\"name\",\"nationality\"]]"
   ]
  },
  {
   "cell_type": "code",
   "execution_count": null,
   "metadata": {},
   "outputs": [],
   "source": [
    "#syntax\n",
    "#dataFrameObj.loc[row_number,[colName1,colName2..]]"
   ]
  },
  {
   "cell_type": "code",
   "execution_count": null,
   "metadata": {},
   "outputs": [
    {
     "data": {
      "text/html": [
       "<div>\n",
       "<style scoped>\n",
       "    .dataframe tbody tr th:only-of-type {\n",
       "        vertical-align: middle;\n",
       "    }\n",
       "\n",
       "    .dataframe tbody tr th {\n",
       "        vertical-align: top;\n",
       "    }\n",
       "\n",
       "    .dataframe thead th {\n",
       "        text-align: right;\n",
       "    }\n",
       "</style>\n",
       "<table border=\"1\" class=\"dataframe\">\n",
       "  <thead>\n",
       "    <tr style=\"text-align: right;\">\n",
       "      <th></th>\n",
       "      <th>id</th>\n",
       "      <th>name</th>\n",
       "      <th>nationality</th>\n",
       "      <th>city</th>\n",
       "      <th>latitude</th>\n",
       "      <th>longitude</th>\n",
       "      <th>gender</th>\n",
       "      <th>ethnic.group</th>\n",
       "      <th>age</th>\n",
       "      <th>english.grade</th>\n",
       "      <th>math.grade</th>\n",
       "      <th>sciences.grade</th>\n",
       "      <th>language.grade</th>\n",
       "      <th>portfolio.rating</th>\n",
       "      <th>coverletter.rating</th>\n",
       "      <th>refletter.rating</th>\n",
       "    </tr>\n",
       "  </thead>\n",
       "  <tbody>\n",
       "    <tr>\n",
       "      <th>3</th>\n",
       "      <td>3</td>\n",
       "      <td>Natasha Yarusso</td>\n",
       "      <td>United States of America</td>\n",
       "      <td>Castro Valley</td>\n",
       "      <td>37.69</td>\n",
       "      <td>-122.09</td>\n",
       "      <td>F</td>\n",
       "      <td>NaN</td>\n",
       "      <td>20</td>\n",
       "      <td>3.3</td>\n",
       "      <td>2.8</td>\n",
       "      <td>3.2</td>\n",
       "      <td>5.0</td>\n",
       "      <td>5</td>\n",
       "      <td>2.0</td>\n",
       "      <td>4</td>\n",
       "    </tr>\n",
       "    <tr>\n",
       "      <th>4</th>\n",
       "      <td>4</td>\n",
       "      <td>Brooke Cazares</td>\n",
       "      <td>Brazil</td>\n",
       "      <td>São José dos Campos</td>\n",
       "      <td>-23.18</td>\n",
       "      <td>-45.88</td>\n",
       "      <td>F</td>\n",
       "      <td>NaN</td>\n",
       "      <td>21</td>\n",
       "      <td>3.7</td>\n",
       "      <td>2.6</td>\n",
       "      <td>3.4</td>\n",
       "      <td>1.0</td>\n",
       "      <td>4</td>\n",
       "      <td>4.0</td>\n",
       "      <td>5</td>\n",
       "    </tr>\n",
       "    <tr>\n",
       "      <th>5</th>\n",
       "      <td>5</td>\n",
       "      <td>Rochelle Johnson</td>\n",
       "      <td>United States of America</td>\n",
       "      <td>Indianapolis</td>\n",
       "      <td>39.77</td>\n",
       "      <td>-86.16</td>\n",
       "      <td>F</td>\n",
       "      <td>NaN</td>\n",
       "      <td>21</td>\n",
       "      <td>3.4</td>\n",
       "      <td>3.1</td>\n",
       "      <td>3.7</td>\n",
       "      <td>5.0</td>\n",
       "      <td>2</td>\n",
       "      <td>4.0</td>\n",
       "      <td>4</td>\n",
       "    </tr>\n",
       "    <tr>\n",
       "      <th>6</th>\n",
       "      <td>6</td>\n",
       "      <td>Joey Abreu</td>\n",
       "      <td>China</td>\n",
       "      <td>Shenyang</td>\n",
       "      <td>41.79</td>\n",
       "      <td>123.43</td>\n",
       "      <td>M</td>\n",
       "      <td>NaN</td>\n",
       "      <td>22</td>\n",
       "      <td>3.7</td>\n",
       "      <td>3.9</td>\n",
       "      <td>3.6</td>\n",
       "      <td>2.0</td>\n",
       "      <td>5</td>\n",
       "      <td>5.0</td>\n",
       "      <td>5</td>\n",
       "    </tr>\n",
       "    <tr>\n",
       "      <th>7</th>\n",
       "      <td>7</td>\n",
       "      <td>Preston Suarez</td>\n",
       "      <td>Brazil</td>\n",
       "      <td>São Paulo</td>\n",
       "      <td>-23.47</td>\n",
       "      <td>-46.67</td>\n",
       "      <td>M</td>\n",
       "      <td>NaN</td>\n",
       "      <td>22</td>\n",
       "      <td>3.8</td>\n",
       "      <td>3.7</td>\n",
       "      <td>3.6</td>\n",
       "      <td>2.0</td>\n",
       "      <td>5</td>\n",
       "      <td>5.0</td>\n",
       "      <td>4</td>\n",
       "    </tr>\n",
       "  </tbody>\n",
       "</table>\n",
       "</div>"
      ],
      "text/plain": [
       "   id              name               nationality                 city  \\\n",
       "3   3   Natasha Yarusso  United States of America        Castro Valley   \n",
       "4   4    Brooke Cazares                    Brazil  São José dos Campos   \n",
       "5   5  Rochelle Johnson  United States of America         Indianapolis   \n",
       "6   6        Joey Abreu                     China             Shenyang   \n",
       "7   7    Preston Suarez                    Brazil            São Paulo   \n",
       "\n",
       "   latitude  longitude gender  ethnic.group  age  english.grade  math.grade  \\\n",
       "3     37.69    -122.09      F           NaN   20            3.3         2.8   \n",
       "4    -23.18     -45.88      F           NaN   21            3.7         2.6   \n",
       "5     39.77     -86.16      F           NaN   21            3.4         3.1   \n",
       "6     41.79     123.43      M           NaN   22            3.7         3.9   \n",
       "7    -23.47     -46.67      M           NaN   22            3.8         3.7   \n",
       "\n",
       "   sciences.grade  language.grade  portfolio.rating  coverletter.rating  \\\n",
       "3             3.2             5.0                 5                 2.0   \n",
       "4             3.4             1.0                 4                 4.0   \n",
       "5             3.7             5.0                 2                 4.0   \n",
       "6             3.6             2.0                 5                 5.0   \n",
       "7             3.6             2.0                 5                 5.0   \n",
       "\n",
       "   refletter.rating  \n",
       "3                 4  \n",
       "4                 5  \n",
       "5                 4  \n",
       "6                 5  \n",
       "7                 4  "
      ]
     },
     "execution_count": 473,
     "metadata": {},
     "output_type": "execute_result"
    }
   ],
   "source": [
    "df.loc[3:7]"
   ]
  },
  {
   "cell_type": "code",
   "execution_count": null,
   "metadata": {},
   "outputs": [
    {
     "data": {
      "text/plain": [
       "'  \\n=>iloc[] is used for slicing the data either on the basis rows(Index) and column(columns)\\n=>iloc[] always takes row indeces and never takes column indecs\\n=>\\n'"
      ]
     },
     "execution_count": 474,
     "metadata": {},
     "output_type": "execute_result"
    }
   ],
   "source": [
    "#iloc[]\n",
    "\"\"\"  \n",
    "=>iloc[] is used for slicing the data either on the basis rows(Index) and column(columns)\n",
    "=>iloc[] always takes row indeces and never takes column indecs\n",
    "=>\n",
    "\"\"\""
   ]
  },
  {
   "cell_type": "code",
   "execution_count": null,
   "metadata": {},
   "outputs": [],
   "source": [
    "#syntax:\n",
    "#dataFrameObj.iloc[row_number,[ColNumber1,colNumber2,..]]\n",
    "\n",
    "#dataFrameObj.iloc[rowStart:rowStop:rowStep,colStart:colStop:colStep]"
   ]
  },
  {
   "cell_type": "code",
   "execution_count": null,
   "metadata": {},
   "outputs": [
    {
     "data": {
      "text/plain": [
       "id                                 7\n",
       "name                  Preston Suarez\n",
       "nationality                   Brazil\n",
       "city                       São Paulo\n",
       "latitude                      -23.47\n",
       "longitude                     -46.67\n",
       "gender                             M\n",
       "ethnic.group                     NaN\n",
       "age                               22\n",
       "english.grade                    3.8\n",
       "math.grade                       3.7\n",
       "sciences.grade                   3.6\n",
       "language.grade                   2.0\n",
       "portfolio.rating                   5\n",
       "coverletter.rating               5.0\n",
       "refletter.rating                   4\n",
       "Name: 7, dtype: object"
      ]
     },
     "execution_count": 476,
     "metadata": {},
     "output_type": "execute_result"
    }
   ],
   "source": [
    "#get the 7th records\n",
    "df1=df.iloc[7]\n",
    "df1"
   ]
  },
  {
   "cell_type": "code",
   "execution_count": null,
   "metadata": {},
   "outputs": [
    {
     "data": {
      "text/plain": [
       "'Preston'"
      ]
     },
     "execution_count": 477,
     "metadata": {},
     "output_type": "execute_result"
    }
   ],
   "source": [
    "# get the first name\n",
    "y=df1[\"name\"][:7]\n",
    "y\n"
   ]
  },
  {
   "cell_type": "code",
   "execution_count": null,
   "metadata": {},
   "outputs": [
    {
     "data": {
      "text/plain": [
       "3     Natasha Yarusso\n",
       "4      Brooke Cazares\n",
       "5    Rochelle Johnson\n",
       "6          Joey Abreu\n",
       "7      Preston Suarez\n",
       "8            Lee Dong\n",
       "9       Maa'iz al-Dia\n",
       "Name: name, dtype: object"
      ]
     },
     "execution_count": 478,
     "metadata": {},
     "output_type": "execute_result"
    }
   ],
   "source": [
    "df.iloc[3:10,[1,3]][\"name\"]"
   ]
  },
  {
   "cell_type": "code",
   "execution_count": null,
   "metadata": {},
   "outputs": [],
   "source": [
    "#lec 30"
   ]
  },
  {
   "cell_type": "markdown",
   "metadata": {},
   "source": [
    "Adding new column name to data frame :-"
   ]
  },
  {
   "cell_type": "code",
   "execution_count": 71,
   "metadata": {},
   "outputs": [],
   "source": [
    "# how to add a new column \n",
    "# eno,name,sal,comm,compname\n",
    "# 100,rossum,34.56,10.00,psf"
   ]
  },
  {
   "cell_type": "code",
   "execution_count": 72,
   "metadata": {},
   "outputs": [],
   "source": [
    "import numpy as np\n",
    "import pandas as pd"
   ]
  },
  {
   "cell_type": "code",
   "execution_count": 73,
   "metadata": {},
   "outputs": [
    {
     "name": "stdout",
     "output_type": "stream",
     "text": [
      "   sno   sname  marks\n",
      "0  100  rossum  45.67\n",
      "1  200  travis  56.87\n",
      "2  300  hunter  66.10\n"
     ]
    }
   ],
   "source": [
    "# get the data\n",
    "df=pd.read_csv(\"D:\\\\clone\\\\DataAnalyst_DPK\\\\files\\\\student.csv\")\n",
    "print(df)"
   ]
  },
  {
   "cell_type": "code",
   "execution_count": 74,
   "metadata": {},
   "outputs": [],
   "source": [
    "# add a new column -total salary\n",
    "# syntax for adding a new column name\n",
    "# dataFrameObj[new column name]=value/expression\n",
    "\n",
    "df[\"totsal\"]=100\n"
   ]
  },
  {
   "cell_type": "code",
   "execution_count": 75,
   "metadata": {},
   "outputs": [
    {
     "name": "stdout",
     "output_type": "stream",
     "text": [
      "   sno   sname  marks  totsal\n",
      "0  100  rossum  45.67     100\n",
      "1  200  travis  56.87     100\n",
      "2  300  hunter  66.10     100\n"
     ]
    }
   ],
   "source": [
    "print(df)"
   ]
  },
  {
   "cell_type": "code",
   "execution_count": 76,
   "metadata": {},
   "outputs": [
    {
     "name": "stdout",
     "output_type": "stream",
     "text": [
      "   sno     name   sal  comm         com\n",
      "0  100   rossum  8000    80         psf\n",
      "1  200   travis  3500    35       numpy\n",
      "2  300   kinney  4000    65      pandas\n",
      "3  400  brendam  6000    50  javascript\n",
      "4  500    rohit  5000    80       react\n",
      "5  600   hunter  5500    90        next\n"
     ]
    }
   ],
   "source": [
    "# get the data\n",
    "df=pd.read_csv(\"D:\\\\clone\\\\DataAnalyst_DPK\\\\files\\\\emp.csv\")\n",
    "print(df)"
   ]
  },
  {
   "cell_type": "code",
   "execution_count": 77,
   "metadata": {},
   "outputs": [
    {
     "name": "stdout",
     "output_type": "stream",
     "text": [
      "   sno     name   sal  comm         com  totalSal\n",
      "0  100   rossum  8000    80         psf      8080\n",
      "1  200   travis  3500    35       numpy      3535\n",
      "2  300   kinney  4000    65      pandas      4065\n",
      "3  400  brendam  6000    50  javascript      6050\n",
      "4  500    rohit  5000    80       react      5080\n",
      "5  600   hunter  5500    90        next      5590\n"
     ]
    }
   ],
   "source": [
    "# adding a new column to a data frame :-\n",
    "# print the total salary\n",
    "df[\"totalSal\"]=df[\"sal\"]+df[\"comm\"]\n",
    "print(df)"
   ]
  },
  {
   "cell_type": "code",
   "execution_count": 78,
   "metadata": {},
   "outputs": [],
   "source": [
    "# export or modify the emp.csv with modified data \n",
    "# to do this we use \n",
    "# dataFrameObj.to_csv(\"absolute_path\")"
   ]
  },
  {
   "cell_type": "code",
   "execution_count": 79,
   "metadata": {},
   "outputs": [
    {
     "name": "stdout",
     "output_type": "stream",
     "text": [
      "   sno     name   sal  comm         com  totalSal\n",
      "0  100   rossum  8000    80         psf      8080\n",
      "1  200   travis  3500    35       numpy      3535\n",
      "2  300   kinney  4000    65      pandas      4065\n",
      "3  400  brendam  6000    50  javascript      6050\n",
      "4  500    rohit  5000    80       react      5080\n",
      "5  600   hunter  5500    90        next      5590\n"
     ]
    }
   ],
   "source": [
    "df.to_csv(\"D:\\\\clone\\\\DataAnalyst_DPK\\\\files\\\\Modifiedemp.csv\")\n",
    "print(df)"
   ]
  },
  {
   "cell_type": "code",
   "execution_count": 80,
   "metadata": {},
   "outputs": [
    {
     "name": "stdout",
     "output_type": "stream",
     "text": [
      "{'a': [10, 20, 30, 40], 'b': [1, 2, 3, 4], 'c': [1.1, 2.2, 3.3, 4.4]} <class 'dict'>\n"
     ]
    }
   ],
   "source": [
    "# another example\n",
    "d={\"a\":[10,20,30,40],\"b\":[1,2,3,4],\"c\":[1.1,2.2,3.3,4.4]}\n",
    "print(d,type(d))"
   ]
  },
  {
   "cell_type": "code",
   "execution_count": 81,
   "metadata": {},
   "outputs": [
    {
     "name": "stdout",
     "output_type": "stream",
     "text": [
      "a --> [10, 20, 30, 40]\n",
      "b --> [1, 2, 3, 4]\n",
      "c --> [1.1, 2.2, 3.3, 4.4]\n"
     ]
    }
   ],
   "source": [
    "for key,val in d.items():\n",
    "    print(key,\"-->\",val)"
   ]
  },
  {
   "cell_type": "code",
   "execution_count": 82,
   "metadata": {},
   "outputs": [
    {
     "name": "stdout",
     "output_type": "stream",
     "text": [
      "    a  b    c\n",
      "0  10  1  1.1\n",
      "1  20  2  2.2\n",
      "2  30  3  3.3\n",
      "3  40  4  4.4\n"
     ]
    }
   ],
   "source": [
    "# convert dict object into dataframe\n",
    "df=pd.DataFrame(d)\n",
    "print(df)"
   ]
  },
  {
   "cell_type": "code",
   "execution_count": 83,
   "metadata": {},
   "outputs": [
    {
     "name": "stdout",
     "output_type": "stream",
     "text": [
      "    a  b    c   sum\n",
      "0  10  1  1.1  12.1\n",
      "1  20  2  2.2  24.2\n",
      "2  30  3  3.3  36.3\n",
      "3  40  4  4.4  48.4\n"
     ]
    }
   ],
   "source": [
    "# add a new column and add the value of a,b,c in it\n",
    "df[\"sum\"]=df[\"a\"]+df[\"b\"]+df[\"c\"]\n",
    "print(df)"
   ]
  },
  {
   "cell_type": "code",
   "execution_count": 84,
   "metadata": {},
   "outputs": [],
   "source": [
    "df.to_csv(\"D:\\\\clone\\\\DataAnalyst_DPK\\\\files\\\\dictSum.csv\")"
   ]
  },
  {
   "cell_type": "code",
   "execution_count": 85,
   "metadata": {},
   "outputs": [
    {
     "name": "stdout",
     "output_type": "stream",
     "text": [
      "    a  b    c   sum  percentage\n",
      "0  10  1  1.1  12.1        12.1\n",
      "1  20  2  2.2  24.2        24.2\n",
      "2  30  3  3.3  36.3        36.3\n",
      "3  40  4  4.4  48.4        48.4\n"
     ]
    }
   ],
   "source": [
    "# calculate the %\n",
    "df[\"percentage\"]=(df[\"sum\"]/100)*100\n",
    "print(df)"
   ]
  },
  {
   "cell_type": "code",
   "execution_count": 86,
   "metadata": {},
   "outputs": [
    {
     "name": "stdout",
     "output_type": "stream",
     "text": [
      "   sno    name  eng  math  science\n",
      "0    1  dhurvi   98   100       99\n",
      "1    2  deepak   95    96       92\n",
      "2    3    itty   95    96       94\n",
      "3    4  rossum   99    98       93\n",
      "--------------------------------------------------\n",
      "--------------------------------------------------\n",
      "   sno    name  eng  math  science\n",
      "0    1  dhurvi   98   100       99\n",
      "1    2  deepak   95    96       92\n",
      "2    3    itty   95    96       94\n",
      "3    4  rossum   99    98       93\n"
     ]
    }
   ],
   "source": [
    "# create a student data table\n",
    "studentData={\"sno\":[1,2,3,4],\"name\":[\"dhurvi\",\"deepak\",\"itty\",\"rossum\"],\"eng\":[98,95,95,99],\"math\":[100,96,96,98],\"science\":[99,92,94,93]}\n",
    "\n",
    "# convert dict object into dataframe\n",
    "df=pd.DataFrame(studentData)\n",
    "print(df)\n",
    "print(\"-\"*50)\n",
    "df.to_csv(\"D:\\\\clone\\\\DataAnalyst_DPK\\\\files\\\\studentData.csv\")\n",
    "print(\"-\"*50)\n",
    "print(df)"
   ]
  },
  {
   "cell_type": "code",
   "execution_count": 87,
   "metadata": {},
   "outputs": [
    {
     "name": "stdout",
     "output_type": "stream",
     "text": [
      "   sno    name  eng  math  science  total\n",
      "0    1  dhurvi   98   100       99    297\n",
      "1    2  deepak   95    96       92    283\n",
      "2    3    itty   95    96       94    285\n",
      "3    4  rossum   99    98       93    290\n"
     ]
    }
   ],
   "source": [
    "# cal the total marks\n",
    "df[\"total\"]=df[\"eng\"]+df[\"math\"]+df[\"science\"]\n",
    "print(df)"
   ]
  },
  {
   "cell_type": "code",
   "execution_count": 88,
   "metadata": {},
   "outputs": [
    {
     "name": "stdout",
     "output_type": "stream",
     "text": [
      "   sno    name  eng  math  science  total  fullMarks\n",
      "0    1  dhurvi   98   100       99    297        300\n",
      "1    2  deepak   95    96       92    283        300\n",
      "2    3    itty   95    96       94    285        300\n",
      "3    4  rossum   99    98       93    290        300\n"
     ]
    }
   ],
   "source": [
    "# full marks subject wise\n",
    "df[\"fullMarks\"]=300\n",
    "print(df)"
   ]
  },
  {
   "cell_type": "code",
   "execution_count": 89,
   "metadata": {},
   "outputs": [
    {
     "name": "stdout",
     "output_type": "stream",
     "text": [
      "   sno    name  eng  math  science  total  fullMarks  percentage\n",
      "0    1  dhurvi   98   100       99    297        300       99.00\n",
      "1    2  deepak   95    96       92    283        300       94.33\n",
      "2    3    itty   95    96       94    285        300       95.00\n",
      "3    4  rossum   99    98       93    290        300       96.67\n"
     ]
    }
   ],
   "source": [
    "# cal the %\n",
    "df[\"percentage\"]=round((df[\"total\"]/df[\"fullMarks\"])*100,2)\n",
    "print(df)"
   ]
  },
  {
   "cell_type": "code",
   "execution_count": 90,
   "metadata": {},
   "outputs": [],
   "source": [
    "# give the grade acording to %\n",
    "# filtering the data\n"
   ]
  },
  {
   "cell_type": "code",
   "execution_count": 91,
   "metadata": {},
   "outputs": [],
   "source": [
    "df.to_csv(\"D:\\\\clone\\\\DataAnalyst_DPK\\\\files\\\\ModifiedstudentData.csv\")"
   ]
  },
  {
   "cell_type": "code",
   "execution_count": 92,
   "metadata": {},
   "outputs": [
    {
     "name": "stdout",
     "output_type": "stream",
     "text": [
      "   sno    name  eng  math  science  total  fullMarks  percentage\n",
      "0    1  dhurvi   98   100       99    297        300       99.00\n",
      "1    2  deepak   95    96       92    283        300       94.33\n",
      "2    3    itty   95    96       94    285        300       95.00\n",
      "3    4  rossum   99    98       93    290        300       96.67\n"
     ]
    }
   ],
   "source": [
    "print(df)"
   ]
  },
  {
   "cell_type": "markdown",
   "metadata": {},
   "source": [
    "# Filtering the data in pandas"
   ]
  },
  {
   "cell_type": "code",
   "execution_count": 93,
   "metadata": {},
   "outputs": [],
   "source": [
    "# example on filtering the data"
   ]
  },
  {
   "cell_type": "code",
   "execution_count": 94,
   "metadata": {},
   "outputs": [
    {
     "name": "stdout",
     "output_type": "stream",
     "text": [
      "   sno     name   sal  comm         com\n",
      "0  100   rossum  8000    80         psf\n",
      "1  200   travis  3500    35       numpy\n",
      "2  300   kinney  4000    65      pandas\n",
      "3  400  brendam  6000    50  javascript\n",
      "4  500    rohit  5000    80       react\n",
      "5  600   hunter  5500    90        next\n"
     ]
    }
   ],
   "source": [
    "# get the data\n",
    "df=pd.read_csv(\"D:\\\\clone\\\\DataAnalyst_DPK\\\\files\\\\emp.csv\")\n",
    "print(df)"
   ]
  },
  {
   "cell_type": "code",
   "execution_count": 95,
   "metadata": {},
   "outputs": [
    {
     "data": {
      "text/plain": [
       "0     True\n",
       "1    False\n",
       "2    False\n",
       "3     True\n",
       "4    False\n",
       "5     True\n",
       "Name: sal, dtype: bool"
      ]
     },
     "execution_count": 95,
     "metadata": {},
     "output_type": "execute_result"
    }
   ],
   "source": [
    "df[\"sal\"]>5000"
   ]
  },
  {
   "cell_type": "code",
   "execution_count": 96,
   "metadata": {},
   "outputs": [],
   "source": [
    "# it will give the boolean array"
   ]
  },
  {
   "cell_type": "code",
   "execution_count": 97,
   "metadata": {},
   "outputs": [
    {
     "data": {
      "text/html": [
       "<div>\n",
       "<style scoped>\n",
       "    .dataframe tbody tr th:only-of-type {\n",
       "        vertical-align: middle;\n",
       "    }\n",
       "\n",
       "    .dataframe tbody tr th {\n",
       "        vertical-align: top;\n",
       "    }\n",
       "\n",
       "    .dataframe thead th {\n",
       "        text-align: right;\n",
       "    }\n",
       "</style>\n",
       "<table border=\"1\" class=\"dataframe\">\n",
       "  <thead>\n",
       "    <tr style=\"text-align: right;\">\n",
       "      <th></th>\n",
       "      <th>sno</th>\n",
       "      <th>name</th>\n",
       "      <th>sal</th>\n",
       "      <th>comm</th>\n",
       "      <th>com</th>\n",
       "    </tr>\n",
       "  </thead>\n",
       "  <tbody>\n",
       "    <tr>\n",
       "      <th>0</th>\n",
       "      <td>100</td>\n",
       "      <td>rossum</td>\n",
       "      <td>8000</td>\n",
       "      <td>80</td>\n",
       "      <td>psf</td>\n",
       "    </tr>\n",
       "    <tr>\n",
       "      <th>3</th>\n",
       "      <td>400</td>\n",
       "      <td>brendam</td>\n",
       "      <td>6000</td>\n",
       "      <td>50</td>\n",
       "      <td>javascript</td>\n",
       "    </tr>\n",
       "    <tr>\n",
       "      <th>5</th>\n",
       "      <td>600</td>\n",
       "      <td>hunter</td>\n",
       "      <td>5500</td>\n",
       "      <td>90</td>\n",
       "      <td>next</td>\n",
       "    </tr>\n",
       "  </tbody>\n",
       "</table>\n",
       "</div>"
      ],
      "text/plain": [
       "   sno     name   sal  comm         com\n",
       "0  100   rossum  8000    80         psf\n",
       "3  400  brendam  6000    50  javascript\n",
       "5  600   hunter  5500    90        next"
      ]
     },
     "execution_count": 97,
     "metadata": {},
     "output_type": "execute_result"
    }
   ],
   "source": [
    "df[df[\"sal\"]>5000]\n"
   ]
  },
  {
   "cell_type": "code",
   "execution_count": 98,
   "metadata": {},
   "outputs": [
    {
     "data": {
      "text/plain": [
       "0     True\n",
       "1    False\n",
       "2    False\n",
       "3     True\n",
       "4     True\n",
       "5     True\n",
       "Name: sal, dtype: bool"
      ]
     },
     "execution_count": 98,
     "metadata": {},
     "output_type": "execute_result"
    }
   ],
   "source": [
    "# get the names of those employee whose salary range between 5000 and 9000\n",
    "(df[\"sal\"]>=5000) & (df[\"sal\"]<9000)"
   ]
  },
  {
   "cell_type": "code",
   "execution_count": 99,
   "metadata": {},
   "outputs": [
    {
     "data": {
      "text/html": [
       "<div>\n",
       "<style scoped>\n",
       "    .dataframe tbody tr th:only-of-type {\n",
       "        vertical-align: middle;\n",
       "    }\n",
       "\n",
       "    .dataframe tbody tr th {\n",
       "        vertical-align: top;\n",
       "    }\n",
       "\n",
       "    .dataframe thead th {\n",
       "        text-align: right;\n",
       "    }\n",
       "</style>\n",
       "<table border=\"1\" class=\"dataframe\">\n",
       "  <thead>\n",
       "    <tr style=\"text-align: right;\">\n",
       "      <th></th>\n",
       "      <th>sno</th>\n",
       "      <th>name</th>\n",
       "      <th>sal</th>\n",
       "      <th>comm</th>\n",
       "      <th>com</th>\n",
       "    </tr>\n",
       "  </thead>\n",
       "  <tbody>\n",
       "    <tr>\n",
       "      <th>0</th>\n",
       "      <td>100</td>\n",
       "      <td>rossum</td>\n",
       "      <td>8000</td>\n",
       "      <td>80</td>\n",
       "      <td>psf</td>\n",
       "    </tr>\n",
       "    <tr>\n",
       "      <th>3</th>\n",
       "      <td>400</td>\n",
       "      <td>brendam</td>\n",
       "      <td>6000</td>\n",
       "      <td>50</td>\n",
       "      <td>javascript</td>\n",
       "    </tr>\n",
       "    <tr>\n",
       "      <th>4</th>\n",
       "      <td>500</td>\n",
       "      <td>rohit</td>\n",
       "      <td>5000</td>\n",
       "      <td>80</td>\n",
       "      <td>react</td>\n",
       "    </tr>\n",
       "    <tr>\n",
       "      <th>5</th>\n",
       "      <td>600</td>\n",
       "      <td>hunter</td>\n",
       "      <td>5500</td>\n",
       "      <td>90</td>\n",
       "      <td>next</td>\n",
       "    </tr>\n",
       "  </tbody>\n",
       "</table>\n",
       "</div>"
      ],
      "text/plain": [
       "   sno     name   sal  comm         com\n",
       "0  100   rossum  8000    80         psf\n",
       "3  400  brendam  6000    50  javascript\n",
       "4  500    rohit  5000    80       react\n",
       "5  600   hunter  5500    90        next"
      ]
     },
     "execution_count": 99,
     "metadata": {},
     "output_type": "execute_result"
    }
   ],
   "source": [
    "# get the data\n",
    "df[(df[\"sal\"]>=5000) & (df[\"sal\"]<9000)]"
   ]
  },
  {
   "cell_type": "code",
   "execution_count": 100,
   "metadata": {},
   "outputs": [
    {
     "data": {
      "text/html": [
       "<div>\n",
       "<style scoped>\n",
       "    .dataframe tbody tr th:only-of-type {\n",
       "        vertical-align: middle;\n",
       "    }\n",
       "\n",
       "    .dataframe tbody tr th {\n",
       "        vertical-align: top;\n",
       "    }\n",
       "\n",
       "    .dataframe thead th {\n",
       "        text-align: right;\n",
       "    }\n",
       "</style>\n",
       "<table border=\"1\" class=\"dataframe\">\n",
       "  <thead>\n",
       "    <tr style=\"text-align: right;\">\n",
       "      <th></th>\n",
       "      <th>name</th>\n",
       "      <th>sal</th>\n",
       "    </tr>\n",
       "  </thead>\n",
       "  <tbody>\n",
       "    <tr>\n",
       "      <th>0</th>\n",
       "      <td>rossum</td>\n",
       "      <td>8000</td>\n",
       "    </tr>\n",
       "    <tr>\n",
       "      <th>3</th>\n",
       "      <td>brendam</td>\n",
       "      <td>6000</td>\n",
       "    </tr>\n",
       "    <tr>\n",
       "      <th>4</th>\n",
       "      <td>rohit</td>\n",
       "      <td>5000</td>\n",
       "    </tr>\n",
       "    <tr>\n",
       "      <th>5</th>\n",
       "      <td>hunter</td>\n",
       "      <td>5500</td>\n",
       "    </tr>\n",
       "  </tbody>\n",
       "</table>\n",
       "</div>"
      ],
      "text/plain": [
       "      name   sal\n",
       "0   rossum  8000\n",
       "3  brendam  6000\n",
       "4    rohit  5000\n",
       "5   hunter  5500"
      ]
     },
     "execution_count": 100,
     "metadata": {},
     "output_type": "execute_result"
    }
   ],
   "source": [
    "# print only name and sal\n",
    "df[(df[\"sal\"]>=5000) & (df[\"sal\"]<9000)][[\"name\",\"sal\"]]"
   ]
  },
  {
   "cell_type": "code",
   "execution_count": 101,
   "metadata": {},
   "outputs": [
    {
     "data": {
      "text/plain": [
       "0    False\n",
       "1     True\n",
       "2    False\n",
       "3    False\n",
       "4    False\n",
       "5    False\n",
       "Name: com, dtype: bool"
      ]
     },
     "execution_count": 101,
     "metadata": {},
     "output_type": "execute_result"
    }
   ],
   "source": [
    "# get the emplyee name who only work in numpy\n",
    "df[\"com\"]==\"numpy\""
   ]
  },
  {
   "cell_type": "code",
   "execution_count": 102,
   "metadata": {},
   "outputs": [
    {
     "data": {
      "text/html": [
       "<div>\n",
       "<style scoped>\n",
       "    .dataframe tbody tr th:only-of-type {\n",
       "        vertical-align: middle;\n",
       "    }\n",
       "\n",
       "    .dataframe tbody tr th {\n",
       "        vertical-align: top;\n",
       "    }\n",
       "\n",
       "    .dataframe thead th {\n",
       "        text-align: right;\n",
       "    }\n",
       "</style>\n",
       "<table border=\"1\" class=\"dataframe\">\n",
       "  <thead>\n",
       "    <tr style=\"text-align: right;\">\n",
       "      <th></th>\n",
       "      <th>name</th>\n",
       "      <th>sal</th>\n",
       "    </tr>\n",
       "  </thead>\n",
       "  <tbody>\n",
       "    <tr>\n",
       "      <th>1</th>\n",
       "      <td>travis</td>\n",
       "      <td>3500</td>\n",
       "    </tr>\n",
       "  </tbody>\n",
       "</table>\n",
       "</div>"
      ],
      "text/plain": [
       "     name   sal\n",
       "1  travis  3500"
      ]
     },
     "execution_count": 102,
     "metadata": {},
     "output_type": "execute_result"
    }
   ],
   "source": [
    "df[df[\"com\"]==\"numpy\"][[\"name\",\"sal\"]]"
   ]
  },
  {
   "cell_type": "code",
   "execution_count": 103,
   "metadata": {},
   "outputs": [
    {
     "data": {
      "text/plain": [
       "np.int64(32000)"
      ]
     },
     "execution_count": 103,
     "metadata": {},
     "output_type": "execute_result"
    }
   ],
   "source": [
    "#total sal paid to all the employee\n",
    "df[\"sal\"].sum()"
   ]
  },
  {
   "cell_type": "code",
   "execution_count": 104,
   "metadata": {},
   "outputs": [
    {
     "data": {
      "text/plain": [
       "0    False\n",
       "1    False\n",
       "2    False\n",
       "3    False\n",
       "4    False\n",
       "5    False\n",
       "Name: name, dtype: bool"
      ]
     },
     "execution_count": 104,
     "metadata": {},
     "output_type": "execute_result"
    }
   ],
   "source": [
    "# find the emp who are working in numpy and react\n",
    "(df[\"name\"]==\"react\")| (df[\"name\"]==\"numpy\")"
   ]
  },
  {
   "cell_type": "code",
   "execution_count": 105,
   "metadata": {},
   "outputs": [
    {
     "data": {
      "text/html": [
       "<div>\n",
       "<style scoped>\n",
       "    .dataframe tbody tr th:only-of-type {\n",
       "        vertical-align: middle;\n",
       "    }\n",
       "\n",
       "    .dataframe tbody tr th {\n",
       "        vertical-align: top;\n",
       "    }\n",
       "\n",
       "    .dataframe thead th {\n",
       "        text-align: right;\n",
       "    }\n",
       "</style>\n",
       "<table border=\"1\" class=\"dataframe\">\n",
       "  <thead>\n",
       "    <tr style=\"text-align: right;\">\n",
       "      <th></th>\n",
       "      <th>name</th>\n",
       "      <th>sal</th>\n",
       "      <th>com</th>\n",
       "    </tr>\n",
       "  </thead>\n",
       "  <tbody>\n",
       "    <tr>\n",
       "      <th>1</th>\n",
       "      <td>travis</td>\n",
       "      <td>3500</td>\n",
       "      <td>numpy</td>\n",
       "    </tr>\n",
       "    <tr>\n",
       "      <th>4</th>\n",
       "      <td>rohit</td>\n",
       "      <td>5000</td>\n",
       "      <td>react</td>\n",
       "    </tr>\n",
       "  </tbody>\n",
       "</table>\n",
       "</div>"
      ],
      "text/plain": [
       "     name   sal    com\n",
       "1  travis  3500  numpy\n",
       "4   rohit  5000  react"
      ]
     },
     "execution_count": 105,
     "metadata": {},
     "output_type": "execute_result"
    }
   ],
   "source": [
    "df[(df[\"com\"]==\"react\")| (df[\"com\"]==\"numpy\")][[\"name\",\"sal\",\"com\"]]"
   ]
  },
  {
   "cell_type": "code",
   "execution_count": 106,
   "metadata": {},
   "outputs": [
    {
     "name": "stdout",
     "output_type": "stream",
     "text": [
      "travis\n",
      "rohit\n"
     ]
    }
   ],
   "source": [
    "for name in df[(df[\"com\"]==\"react\")| (df[\"com\"]==\"numpy\")][\"name\"]:\n",
    "    print(name)"
   ]
  },
  {
   "cell_type": "code",
   "execution_count": 107,
   "metadata": {},
   "outputs": [
    {
     "data": {
      "text/plain": [
       "0           psf\n",
       "1         numpy\n",
       "2        pandas\n",
       "3    javascript\n",
       "4         react\n",
       "5          next\n",
       "Name: com, dtype: object"
      ]
     },
     "execution_count": 107,
     "metadata": {},
     "output_type": "execute_result"
    }
   ],
   "source": [
    "# get he company name\n",
    "df[\"com\"]"
   ]
  },
  {
   "cell_type": "code",
   "execution_count": 108,
   "metadata": {},
   "outputs": [
    {
     "name": "stdout",
     "output_type": "stream",
     "text": [
      "psf\n",
      "numpy\n",
      "pandas\n",
      "javascript\n",
      "react\n",
      "next\n"
     ]
    }
   ],
   "source": [
    "for cname in df[\"com\"]:\n",
    "    print(cname)"
   ]
  },
  {
   "cell_type": "code",
   "execution_count": 109,
   "metadata": {},
   "outputs": [
    {
     "name": "stdout",
     "output_type": "stream",
     "text": [
      "   sno     name   sal  comm         com\n",
      "0  100   rossum  8000    80         psf\n",
      "1  200   travis  3500    35       numpy\n",
      "2  300   kinney  4000    65      pandas\n",
      "3  400  brendam  6000    50  javascript\n",
      "4  500    rohit  5000    80       react\n",
      "5  600   hunter  5500    90        next\n",
      "   sno     name   sal  comm         com\n",
      "0  100   rossum  8000    80         psf\n",
      "1  200   travis  3500    35       numpy\n",
      "2  300   kinney  4000    65      pandas\n",
      "3  400  brendam  6000    50  javascript\n",
      "4  500    rohit  5000    80       react\n",
      "5  600   hunter  5500    90        next\n"
     ]
    }
   ],
   "source": [
    "for cname in df[\"com\"]:\n",
    "    if cname in [\"numpy\",\"javascript\"]:\n",
    "        print(df)"
   ]
  },
  {
   "cell_type": "code",
   "execution_count": 110,
   "metadata": {},
   "outputs": [
    {
     "name": "stdout",
     "output_type": "stream",
     "text": [
      "{'name': 0     rossum\n",
      "1     travis\n",
      "2     kinney\n",
      "3    brendam\n",
      "4      rohit\n",
      "5     hunter\n",
      "Name: name, dtype: object, 'com': 0           psf\n",
      "1         numpy\n",
      "2        pandas\n",
      "3    javascript\n",
      "4         react\n",
      "5          next\n",
      "Name: com, dtype: object}\n"
     ]
    }
   ],
   "source": [
    "# another method\n",
    "x=dict(df[[\"name\",\"com\"]])\n",
    "print(x)"
   ]
  },
  {
   "cell_type": "code",
   "execution_count": 111,
   "metadata": {},
   "outputs": [
    {
     "data": {
      "text/plain": [
       "1     travis\n",
       "3    brendam\n",
       "Name: name, dtype: object"
      ]
     },
     "execution_count": 111,
     "metadata": {},
     "output_type": "execute_result"
    }
   ],
   "source": [
    "# get the data via loc\n",
    "df.loc[(df[\"com\"]==\"numpy\")| (df[\"com\"]==\"javascript\")][\"name\"]"
   ]
  },
  {
   "cell_type": "code",
   "execution_count": 112,
   "metadata": {},
   "outputs": [],
   "source": [
    "import numpy as np\n",
    "import pandas as pd"
   ]
  },
  {
   "cell_type": "code",
   "execution_count": 113,
   "metadata": {},
   "outputs": [
    {
     "name": "stdout",
     "output_type": "stream",
     "text": [
      "   Unnamed: 0  sno     name   sal  comm         com  totalSal\n",
      "0           0  100   rossum  8000    80         psf      8080\n",
      "1           1  200   travis  3500    35       numpy      3535\n",
      "2           2  300   kinney  4000    65      pandas      4065\n",
      "3           3  400  brendam  6000    50  javascript      6050\n",
      "4           4  500    rohit  5000    80       react      5080\n",
      "5           5  600   hunter  5500    90        next      5590\n"
     ]
    }
   ],
   "source": [
    "# get the data\n",
    "df=pd.read_csv(\"D:\\\\clone\\\\DataAnalyst_DPK\\\\files\\\\Modifiedemp.csv\")\n",
    "print(df)"
   ]
  },
  {
   "cell_type": "markdown",
   "metadata": {},
   "source": [
    "# Data filtering an Updation on DataFrame object"
   ]
  },
  {
   "cell_type": "code",
   "execution_count": 114,
   "metadata": {},
   "outputs": [],
   "source": [
    "# conditional based updation"
   ]
  },
  {
   "cell_type": "code",
   "execution_count": 115,
   "metadata": {},
   "outputs": [
    {
     "data": {
      "text/plain": [
       "Index(['Unnamed: 0', 'sno', 'name', 'sal', 'comm', 'com', 'totalSal'], dtype='object')"
      ]
     },
     "execution_count": 115,
     "metadata": {},
     "output_type": "execute_result"
    }
   ],
   "source": [
    "df.columns"
   ]
  },
  {
   "cell_type": "code",
   "execution_count": 116,
   "metadata": {},
   "outputs": [
    {
     "data": {
      "text/html": [
       "<div>\n",
       "<style scoped>\n",
       "    .dataframe tbody tr th:only-of-type {\n",
       "        vertical-align: middle;\n",
       "    }\n",
       "\n",
       "    .dataframe tbody tr th {\n",
       "        vertical-align: top;\n",
       "    }\n",
       "\n",
       "    .dataframe thead th {\n",
       "        text-align: right;\n",
       "    }\n",
       "</style>\n",
       "<table border=\"1\" class=\"dataframe\">\n",
       "  <thead>\n",
       "    <tr style=\"text-align: right;\">\n",
       "      <th></th>\n",
       "      <th>Unnamed: 0</th>\n",
       "      <th>sno</th>\n",
       "      <th>name</th>\n",
       "      <th>sal</th>\n",
       "      <th>comm</th>\n",
       "      <th>com</th>\n",
       "      <th>totalSal</th>\n",
       "    </tr>\n",
       "  </thead>\n",
       "  <tbody>\n",
       "    <tr>\n",
       "      <th>0</th>\n",
       "      <td>0</td>\n",
       "      <td>100</td>\n",
       "      <td>rossum</td>\n",
       "      <td>8000</td>\n",
       "      <td>80</td>\n",
       "      <td>psf</td>\n",
       "      <td>8080</td>\n",
       "    </tr>\n",
       "  </tbody>\n",
       "</table>\n",
       "</div>"
      ],
      "text/plain": [
       "   Unnamed: 0  sno    name   sal  comm  com  totalSal\n",
       "0           0  100  rossum  8000    80  psf      8080"
      ]
     },
     "execution_count": 116,
     "metadata": {},
     "output_type": "execute_result"
    }
   ],
   "source": [
    "df.loc[df[\"com\"]==\"psf\"]"
   ]
  },
  {
   "cell_type": "code",
   "execution_count": 117,
   "metadata": {},
   "outputs": [
    {
     "data": {
      "text/plain": [
       "0    rossum\n",
       "Name: name, dtype: object"
      ]
     },
     "execution_count": 117,
     "metadata": {},
     "output_type": "execute_result"
    }
   ],
   "source": [
    "#to get only names\n",
    "df.loc[df[\"com\"]==\"psf\"][\"name\"]"
   ]
  },
  {
   "cell_type": "code",
   "execution_count": 118,
   "metadata": {},
   "outputs": [
    {
     "data": {
      "text/plain": [
       "1"
      ]
     },
     "execution_count": 118,
     "metadata": {},
     "output_type": "execute_result"
    }
   ],
   "source": [
    "# count the number of people\n",
    "len(df.loc[df[\"com\"]==\"psf\"][\"name\"])"
   ]
  },
  {
   "cell_type": "code",
   "execution_count": 119,
   "metadata": {},
   "outputs": [
    {
     "name": "stdout",
     "output_type": "stream",
     "text": [
      "   Unnamed: 0  sno     name   sal  comm                         com  totalSal\n",
      "0           0  100   rossum  8000    80  python software foundation      8080\n",
      "1           1  200   travis  3500    35                       numpy      3535\n",
      "2           2  300   kinney  4000    65                      pandas      4065\n",
      "3           3  400  brendam  6000    50                  javascript      6050\n",
      "4           4  500    rohit  5000    80                       react      5080\n",
      "5           5  600   hunter  5500    90                        next      5590\n"
     ]
    }
   ],
   "source": [
    "# update \"psf\" as \"python software foundation\"\n",
    "df.loc[df[\"com\"]==\"psf\",[\"com\"]]=\"python software foundation\"\n",
    "print(df)"
   ]
  },
  {
   "cell_type": "code",
   "execution_count": 120,
   "metadata": {},
   "outputs": [
    {
     "data": {
      "text/html": [
       "<div>\n",
       "<style scoped>\n",
       "    .dataframe tbody tr th:only-of-type {\n",
       "        vertical-align: middle;\n",
       "    }\n",
       "\n",
       "    .dataframe tbody tr th {\n",
       "        vertical-align: top;\n",
       "    }\n",
       "\n",
       "    .dataframe thead th {\n",
       "        text-align: right;\n",
       "    }\n",
       "</style>\n",
       "<table border=\"1\" class=\"dataframe\">\n",
       "  <thead>\n",
       "    <tr style=\"text-align: right;\">\n",
       "      <th></th>\n",
       "      <th>Unnamed: 0</th>\n",
       "      <th>sno</th>\n",
       "      <th>name</th>\n",
       "      <th>sal</th>\n",
       "      <th>comm</th>\n",
       "      <th>com</th>\n",
       "      <th>totalSal</th>\n",
       "    </tr>\n",
       "  </thead>\n",
       "  <tbody>\n",
       "    <tr>\n",
       "      <th>4</th>\n",
       "      <td>4</td>\n",
       "      <td>500</td>\n",
       "      <td>rohit</td>\n",
       "      <td>5000</td>\n",
       "      <td>80</td>\n",
       "      <td>react</td>\n",
       "      <td>5080</td>\n",
       "    </tr>\n",
       "  </tbody>\n",
       "</table>\n",
       "</div>"
      ],
      "text/plain": [
       "   Unnamed: 0  sno   name   sal  comm    com  totalSal\n",
       "4           4  500  rohit  5000    80  react      5080"
      ]
     },
     "execution_count": 120,
     "metadata": {},
     "output_type": "execute_result"
    }
   ],
   "source": [
    "# pick the person who have commision 80\n",
    "\n",
    "df.loc[(df[\"name\"]==\"rohit\") & (df[\"comm\"]==80)]"
   ]
  },
  {
   "cell_type": "code",
   "execution_count": 121,
   "metadata": {},
   "outputs": [],
   "source": [
    "#syntax\n",
    "# dataframeObj.loc[(compound condition),[\"col name\",\"colname2\",..]]=expression"
   ]
  },
  {
   "cell_type": "code",
   "execution_count": 122,
   "metadata": {},
   "outputs": [],
   "source": [
    "# give the grading \n",
    "# 100-75 distinction\n",
    "# 75-65 first\n",
    "# 65-55 second\n",
    "# <60 third"
   ]
  },
  {
   "cell_type": "code",
   "execution_count": 123,
   "metadata": {},
   "outputs": [
    {
     "name": "stdout",
     "output_type": "stream",
     "text": [
      "      id               name               nationality                 city  \\\n",
      "0      0          Kiana Lor                     China               Suzhou   \n",
      "1      1     Joshua Lonaker  United States of America        Santa Clarita   \n",
      "2      2      Dakota Blanco  United States of America              Oakland   \n",
      "3      3    Natasha Yarusso  United States of America        Castro Valley   \n",
      "4      4     Brooke Cazares                    Brazil  São José dos Campos   \n",
      "..   ...                ...                       ...                  ...   \n",
      "302  302        Austin Haas  United States of America             Columbus   \n",
      "303  303    Madison Fithian  United States of America          Los Angeles   \n",
      "304  304  Zachary Mulvahill  United States of America          Los Angeles   \n",
      "305  305   Eliana Michelsen  United States of America              Oakland   \n",
      "306  306    Dane Whittemore                    Canada              Toronto   \n",
      "\n",
      "     latitude  longitude gender  ethnic.group  age  english.grade  math.grade  \\\n",
      "0       31.31     120.62      F           NaN   22            3.5         3.7   \n",
      "1       34.39    -118.54      M           NaN   22            2.9         3.2   \n",
      "2       37.80    -122.27      F           NaN   22            3.9         3.8   \n",
      "3       37.69    -122.09      F           NaN   20            3.3         2.8   \n",
      "4      -23.18     -45.88      F           NaN   21            3.7         2.6   \n",
      "..        ...        ...    ...           ...  ...            ...         ...   \n",
      "302     39.96     -83.00      M           NaN   20            3.6         3.7   \n",
      "303     34.05    -118.24      F           NaN   20            3.6         3.9   \n",
      "304     34.05    -118.24      M           NaN   20            3.2         3.4   \n",
      "305     37.80    -122.27      F           NaN   23            3.0         2.8   \n",
      "306     43.67     -79.42      M           NaN   21            3.8         3.2   \n",
      "\n",
      "     sciences.grade  language.grade  portfolio.rating  coverletter.rating  \\\n",
      "0               3.1             1.0                 4                 4.0   \n",
      "1               3.6             5.0                 5                 4.0   \n",
      "2               3.2             5.0                 3                 3.0   \n",
      "3               3.2             5.0                 5                 2.0   \n",
      "4               3.4             1.0                 4                 4.0   \n",
      "..              ...             ...               ...                 ...   \n",
      "302             3.1             5.0                 4                 5.0   \n",
      "303             4.0             5.0                 5                 5.0   \n",
      "304             3.9             5.0                 5                 5.0   \n",
      "305             2.9             5.0                 4                 4.0   \n",
      "306             4.0             5.0                 5                 4.0   \n",
      "\n",
      "     refletter.rating  \n",
      "0                   4  \n",
      "1                   5  \n",
      "2                   4  \n",
      "3                   4  \n",
      "4                   5  \n",
      "..                ...  \n",
      "302                 5  \n",
      "303                 3  \n",
      "304                 3  \n",
      "305                 5  \n",
      "306                 5  \n",
      "\n",
      "[307 rows x 16 columns]\n"
     ]
    }
   ],
   "source": [
    "# get the data\n",
    "df=pd.read_csv(\"D:\\\\clone\\\\DataAnalyst_DPK\\\\files\\\\student-dataset.csv\")\n",
    "print(df)"
   ]
  },
  {
   "cell_type": "code",
   "execution_count": 124,
   "metadata": {},
   "outputs": [
    {
     "data": {
      "text/plain": [
       "Index(['id', 'name', 'nationality', 'city', 'latitude', 'longitude', 'gender',\n",
       "       'ethnic.group', 'age', 'english.grade', 'math.grade', 'sciences.grade',\n",
       "       'language.grade', 'portfolio.rating', 'coverletter.rating',\n",
       "       'refletter.rating'],\n",
       "      dtype='object')"
      ]
     },
     "execution_count": 124,
     "metadata": {},
     "output_type": "execute_result"
    }
   ],
   "source": [
    "df.columns"
   ]
  },
  {
   "cell_type": "code",
   "execution_count": 125,
   "metadata": {},
   "outputs": [
    {
     "data": {
      "text/plain": [
       "0      3.5\n",
       "1      2.9\n",
       "2      3.9\n",
       "3      3.3\n",
       "4      3.7\n",
       "      ... \n",
       "302    3.6\n",
       "303    3.6\n",
       "304    3.2\n",
       "305    3.0\n",
       "306    3.8\n",
       "Name: english.grade, Length: 307, dtype: float64"
      ]
     },
     "execution_count": 125,
     "metadata": {},
     "output_type": "execute_result"
    }
   ],
   "source": [
    "df[\"english.grade\"]"
   ]
  },
  {
   "cell_type": "code",
   "execution_count": 126,
   "metadata": {},
   "outputs": [],
   "source": [
    "# 1.5 lec31\n",
    "# df.loc[((df[\"percent\"]>=60) & (df[\"percent\"]<65)),[\"grade\"]]=\"second\"\n",
    "# print(df)"
   ]
  },
  {
   "cell_type": "code",
   "execution_count": null,
   "metadata": {},
   "outputs": [],
   "source": [
    "#lec 31 complted"
   ]
  },
  {
   "cell_type": "code",
   "execution_count": null,
   "metadata": {},
   "outputs": [],
   "source": []
  },
  {
   "cell_type": "code",
   "execution_count": null,
   "metadata": {},
   "outputs": [],
   "source": []
  },
  {
   "cell_type": "code",
   "execution_count": null,
   "metadata": {},
   "outputs": [],
   "source": []
  },
  {
   "cell_type": "code",
   "execution_count": null,
   "metadata": {},
   "outputs": [],
   "source": []
  },
  {
   "cell_type": "code",
   "execution_count": null,
   "metadata": {},
   "outputs": [],
   "source": []
  },
  {
   "cell_type": "code",
   "execution_count": null,
   "metadata": {},
   "outputs": [],
   "source": []
  },
  {
   "cell_type": "code",
   "execution_count": null,
   "metadata": {},
   "outputs": [],
   "source": []
  },
  {
   "cell_type": "code",
   "execution_count": null,
   "metadata": {},
   "outputs": [],
   "source": []
  },
  {
   "cell_type": "code",
   "execution_count": null,
   "metadata": {},
   "outputs": [],
   "source": []
  },
  {
   "cell_type": "code",
   "execution_count": null,
   "metadata": {},
   "outputs": [],
   "source": []
  },
  {
   "cell_type": "code",
   "execution_count": null,
   "metadata": {},
   "outputs": [],
   "source": []
  },
  {
   "cell_type": "code",
   "execution_count": null,
   "metadata": {},
   "outputs": [],
   "source": []
  },
  {
   "cell_type": "code",
   "execution_count": null,
   "metadata": {},
   "outputs": [],
   "source": []
  },
  {
   "cell_type": "code",
   "execution_count": null,
   "metadata": {},
   "outputs": [],
   "source": []
  },
  {
   "cell_type": "code",
   "execution_count": null,
   "metadata": {},
   "outputs": [],
   "source": []
  },
  {
   "cell_type": "code",
   "execution_count": null,
   "metadata": {},
   "outputs": [],
   "source": []
  },
  {
   "cell_type": "code",
   "execution_count": null,
   "metadata": {},
   "outputs": [],
   "source": []
  },
  {
   "cell_type": "code",
   "execution_count": null,
   "metadata": {},
   "outputs": [],
   "source": []
  },
  {
   "cell_type": "code",
   "execution_count": null,
   "metadata": {},
   "outputs": [],
   "source": []
  },
  {
   "cell_type": "code",
   "execution_count": null,
   "metadata": {},
   "outputs": [],
   "source": []
  },
  {
   "cell_type": "code",
   "execution_count": null,
   "metadata": {},
   "outputs": [],
   "source": []
  },
  {
   "cell_type": "code",
   "execution_count": null,
   "metadata": {},
   "outputs": [],
   "source": []
  },
  {
   "cell_type": "code",
   "execution_count": null,
   "metadata": {},
   "outputs": [],
   "source": []
  },
  {
   "cell_type": "code",
   "execution_count": null,
   "metadata": {},
   "outputs": [],
   "source": []
  },
  {
   "cell_type": "code",
   "execution_count": null,
   "metadata": {},
   "outputs": [],
   "source": []
  },
  {
   "cell_type": "code",
   "execution_count": null,
   "metadata": {},
   "outputs": [],
   "source": []
  },
  {
   "cell_type": "code",
   "execution_count": null,
   "metadata": {},
   "outputs": [],
   "source": []
  }
 ],
 "metadata": {
  "kernelspec": {
   "display_name": "Python 3",
   "language": "python",
   "name": "python3"
  },
  "language_info": {
   "codemirror_mode": {
    "name": "ipython",
    "version": 3
   },
   "file_extension": ".py",
   "mimetype": "text/x-python",
   "name": "python",
   "nbconvert_exporter": "python",
   "pygments_lexer": "ipython3",
   "version": "3.13.1"
  }
 },
 "nbformat": 4,
 "nbformat_minor": 2
}
