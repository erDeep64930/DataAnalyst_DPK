{
 "cells": [
  {
   "cell_type": "code",
   "execution_count": 9,
   "id": "7c1671d8-5070-48d5-9ba4-fbdcff44c11f",
   "metadata": {},
   "outputs": [
    {
     "name": "stdout",
     "output_type": "stream",
     "text": [
      "1+1 is :\n",
      "1\n",
      "3+2 is :\n",
      "3\n",
      "6+3 is :\n",
      "6\n",
      "10+4 is :\n",
      "10\n",
      "15+5 is :\n",
      "15\n",
      "21+6 is :\n",
      "21\n",
      "28+7 is :\n",
      "28\n",
      "36+8 is :\n",
      "36\n",
      "45+9 is :\n",
      "45\n",
      "55+10 is :\n",
      "55\n"
     ]
    }
   ],
   "source": [
    "sum=0\n",
    "for i in range(1,11):\n",
    "    \n",
    "    sum=sum+i\n",
    "    print(\"{}+{} is :\".format(sum,i))\n",
    "    print(sum)\n"
   ]
  },
  {
   "cell_type": "code",
   "execution_count": 1,
   "id": "57403946-222a-4f85-80bf-bb5656146c3c",
   "metadata": {},
   "outputs": [
    {
     "name": "stdout",
     "output_type": "stream",
     "text": [
      "the given number 30 is even\n",
      "the given number 21 is odd\n",
      "the given number 10 is even\n",
      "the given number 12 is even\n",
      "the given number 20 is even\n"
     ]
    }
   ],
   "source": [
    "import random \n",
    "for i in range(5):\n",
    "    num=random.randint(10,30)\n",
    "    if num%2==0:\n",
    "        print(\"the given number {} is even\".format(num))\n",
    "    else:\n",
    "        print(\"the given number {} is odd\".format(num))\n",
    "        "
   ]
  },
  {
   "cell_type": "code",
   "execution_count": 14,
   "id": "b0ce2a44-991e-4896-bf8a-baf0486e4155",
   "metadata": {},
   "outputs": [
    {
     "name": "stdin",
     "output_type": "stream",
     "text": [
      "enter which number divisible you want to know: 20\n"
     ]
    },
    {
     "name": "stdout",
     "output_type": "stream",
     "text": [
      "20 is divisible by 1\n",
      "20 is divisible by 2\n",
      "20 is divisible by 5\n",
      "20 is divisible by 10\n"
     ]
    }
   ],
   "source": [
    "num= eval(input(\"enter which number divisible you want to know:\"))\n",
    "for i in range (1,num+1):\n",
    "    if(num/i)%2==0:\n",
    "        print(\"{} is divisible by {}\".format(num,i))"
   ]
  },
  {
   "cell_type": "code",
   "execution_count": 3,
   "id": "6ad1a2f6-744f-4418-81cb-c5b94177d9ad",
   "metadata": {},
   "outputs": [
    {
     "name": "stdin",
     "output_type": "stream",
     "text": [
      "enter the number 90\n",
      "enter the number 90\n",
      "enter the number 90\n",
      "enter the number 90\n",
      "enter the number 90\n"
     ]
    }
   ],
   "source": [
    "for i in range(5):\n",
    "    num=eval(input(\"enter the number\"))\n",
    "    "
   ]
  },
  {
   "cell_type": "code",
   "execution_count": 6,
   "id": "bdb1a83b-7fd5-4177-b8e8-e322d02b1aeb",
   "metadata": {},
   "outputs": [
    {
     "name": "stdout",
     "output_type": "stream",
     "text": [
      "the square of 20 is 400\n",
      "the square of 26 is 676\n",
      "the square of 27 is 729\n",
      "the square of 29 is 841\n",
      "the square of 28 is 784\n"
     ]
    }
   ],
   "source": [
    "import random\n",
    "for i in range(5):\n",
    " rn=random.randint(10,30)\n",
    " print(\"the square of {} is {}\".format(rn,rn*rn))"
   ]
  },
  {
   "cell_type": "code",
   "execution_count": 7,
   "id": "6435edd4-db8a-414e-b77f-02b1a1cfcc28",
   "metadata": {},
   "outputs": [
    {
     "name": "stdout",
     "output_type": "stream",
     "text": [
      "the square of 10 is 100\n",
      "the square of 11 is 121\n",
      "the square of 16 is 256\n",
      "the square of 13 is 169\n",
      "the square of 21 is 441\n"
     ]
    }
   ],
   "source": [
    "import random\n",
    "i=0\n",
    "while i<=4:\n",
    " rn=random.randint(10,30)\n",
    " print(\"the square of {} is {}\".format(rn,rn*rn))\n",
    " i=i+1"
   ]
  },
  {
   "cell_type": "code",
   "execution_count": 8,
   "id": "41b3f1ac-6459-419f-a5a0-51eb2f73613a",
   "metadata": {},
   "outputs": [
    {
     "name": "stdout",
     "output_type": "stream",
     "text": [
      "10 is an even number\n",
      "11 is an odd number\n",
      "12 is an even number\n",
      "13 is an odd number\n",
      "14 is an even number\n",
      "15 is an odd number\n",
      "16 is an even number\n",
      "17 is an odd number\n",
      "18 is an even number\n",
      "19 is an odd number\n",
      "20 is an even number\n",
      "21 is an odd number\n",
      "22 is an even number\n",
      "23 is an odd number\n",
      "24 is an even number\n",
      "25 is an odd number\n",
      "26 is an even number\n",
      "27 is an odd number\n",
      "28 is an even number\n",
      "29 is an odd number\n"
     ]
    }
   ],
   "source": [
    "for i in range(10,30):\n",
    "    if i%2==0:\n",
    "        print(\"{} is an even number\".format(i))\n",
    "    else:\n",
    "        print(\"{} is an odd number\".format(i))\n",
    "        "
   ]
  },
  {
   "cell_type": "code",
   "execution_count": null,
   "id": "91f92708-0ef2-4b19-b174-418a769d3a55",
   "metadata": {},
   "outputs": [],
   "source": [
    "i=10\n",
    "while i<21:\n",
    "    i=i+1\n",
    "   if i%2==0:\n",
    "        print(\"{} is an even number\".format(i))\n",
    "   else:\n",
    "        print(\"{} is an odd number\".format(i))\n",
    "\n"
   ]
  },
  {
   "cell_type": "code",
   "execution_count": null,
   "id": "06b968c1-2a05-4ab5-a7b8-9010f412d5af",
   "metadata": {},
   "outputs": [],
   "source": [
    " wap to print the sum of first 10 natural number\n",
    "ans=55\n",
    "#for loop\n",
    "#while loop\n",
    "\n"
   ]
  },
  {
   "cell_type": "code",
   "execution_count": null,
   "id": "77f78487-7b44-412f-b4a9-70c853bdbd77",
   "metadata": {},
   "outputs": [],
   "source": [
    "summ=0\n",
    "for i in range(1,11):\n",
    "    summ+=i\n",
    "print(summ)"
   ]
  },
  {
   "cell_type": "code",
   "execution_count": 4,
   "id": "ba784b8e-9ef9-4e53-9a24-e7133ae89b25",
   "metadata": {},
   "outputs": [
    {
     "name": "stdout",
     "output_type": "stream",
     "text": [
      "55\n"
     ]
    }
   ],
   "source": [
    "i=1\n",
    "summ=0\n",
    "while i<11:\n",
    "    summ+=i\n",
    "    i=i+1\n",
    "print(summ)"
   ]
  },
  {
   "cell_type": "code",
   "execution_count": null,
   "id": "ab1c34f6-e019-4d5d-9969-d2e4cf1e9e2c",
   "metadata": {},
   "outputs": [],
   "source": []
  },
  {
   "cell_type": "code",
   "execution_count": null,
   "id": "84337e1b-a8dc-46ab-a389-5582a19ac73a",
   "metadata": {},
   "outputs": [],
   "source": []
  },
  {
   "cell_type": "code",
   "execution_count": null,
   "id": "aa84c101-d5f8-4fe7-a36a-4742d86ff57f",
   "metadata": {},
   "outputs": [],
   "source": []
  },
  {
   "cell_type": "code",
   "execution_count": null,
   "id": "5c03e851-8673-4ddf-8cb1-0127748e52bc",
   "metadata": {},
   "outputs": [],
   "source": []
  },
  {
   "cell_type": "code",
   "execution_count": null,
   "id": "6e0d590a-7422-44ec-b8f2-ff7235b9c39b",
   "metadata": {},
   "outputs": [],
   "source": []
  }
 ],
 "metadata": {
  "kernelspec": {
   "display_name": "Python 3 (ipykernel)",
   "language": "python",
   "name": "python3"
  },
  "language_info": {
   "codemirror_mode": {
    "name": "ipython",
    "version": 3
   },
   "file_extension": ".py",
   "mimetype": "text/x-python",
   "name": "python",
   "nbconvert_exporter": "python",
   "pygments_lexer": "ipython3",
   "version": "3.12.4"
  }
 },
 "nbformat": 4,
 "nbformat_minor": 5
}
