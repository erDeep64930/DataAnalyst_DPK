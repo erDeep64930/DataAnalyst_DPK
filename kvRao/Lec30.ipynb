{
 "cells": [
  {
   "cell_type": "markdown",
   "metadata": {},
   "source": [
    "- key()\n",
    "\n",
    "- dictobj.keys()\n",
    "\n",
    "- this function is used for obtaining value of key and placed in varname and whose type <class,'dict_keys   >"
   ]
  },
  {
   "cell_type": "code",
   "execution_count": 1,
   "metadata": {},
   "outputs": [
    {
     "data": {
      "text/plain": [
       "dict_keys([10, 20, 30, 40])"
      ]
     },
     "execution_count": 1,
     "metadata": {},
     "output_type": "execute_result"
    }
   ],
   "source": [
    "d1={10:\"python\",20:\"java\",30:\"c\",40:\"javascript\"}\n",
    "d1.keys()"
   ]
  },
  {
   "cell_type": "code",
   "execution_count": 2,
   "metadata": {},
   "outputs": [
    {
     "name": "stdout",
     "output_type": "stream",
     "text": [
      "dict_keys([10, 20, 30, 40])\n"
     ]
    }
   ],
   "source": [
    "ks=d1.keys()\n",
    "print(ks)"
   ]
  },
  {
   "cell_type": "code",
   "execution_count": 5,
   "metadata": {},
   "outputs": [
    {
     "name": "stdout",
     "output_type": "stream",
     "text": [
      "10\n",
      "20\n",
      "30\n",
      "40\n"
     ]
    }
   ],
   "source": [
    "for k in d1.keys():\n",
    "    print(k)\n"
   ]
  },
  {
   "cell_type": "code",
   "execution_count": 6,
   "metadata": {},
   "outputs": [
    {
     "name": "stdout",
     "output_type": "stream",
     "text": [
      "python\n",
      "java\n",
      "c\n",
      "javascript\n"
     ]
    }
   ],
   "source": [
    "for v in d1.values():\n",
    "    print(v)"
   ]
  },
  {
   "cell_type": "markdown",
   "metadata": {},
   "source": [
    "- item()"
   ]
  },
  {
   "cell_type": "code",
   "execution_count": 7,
   "metadata": {},
   "outputs": [
    {
     "data": {
      "text/plain": [
       "dict_items([(10, 'python'), (20, 'java'), (30, 'c'), (40, 'javascript')])"
      ]
     },
     "execution_count": 7,
     "metadata": {},
     "output_type": "execute_result"
    }
   ],
   "source": [
    "d1.items()"
   ]
  },
  {
   "cell_type": "code",
   "execution_count": 8,
   "metadata": {},
   "outputs": [
    {
     "name": "stdout",
     "output_type": "stream",
     "text": [
      "10 --> python\n",
      "20 --> java\n",
      "30 --> c\n",
      "40 --> javascript\n"
     ]
    }
   ],
   "source": [
    "for k,v in d1.items():\n",
    "    print(k,\"-->\",v)"
   ]
  },
  {
   "cell_type": "markdown",
   "metadata": {},
   "source": [
    "- combination of dict with list ,tuple,set"
   ]
  },
  {
   "cell_type": "code",
   "execution_count": 9,
   "metadata": {},
   "outputs": [],
   "source": [
    "#dict in dict\n",
    "#list in dict\n",
    "#tuple in dict\n",
    "#set in dict\n",
    "#dict in list"
   ]
  },
  {
   "cell_type": "code",
   "execution_count": 30,
   "metadata": {},
   "outputs": [
    {
     "name": "stdout",
     "output_type": "stream",
     "text": [
      "{'sno': 10, 'name': 'rs', 'IM': {'cm': 17, 'os': 16, 'py': 19}, 'EM': {'cm': 67, 'os': 78, 'py': 67}, 'cname': 'oucet'} 2494851939520 <class 'dict'>\n"
     ]
    }
   ],
   "source": [
    "#dict iin dict\n",
    "d1={\"sno\":10,\"name\":\"rs\",\"IM\":{\"cm\":17,\"os\":16,\"py\":19},\"EM\":{\"cm\":67,\"os\":78,\"py\":67},\"cname\":\"oucet\"}\n",
    "\n",
    "print(d1,id(d1),type(d1))"
   ]
  },
  {
   "cell_type": "code",
   "execution_count": 31,
   "metadata": {},
   "outputs": [
    {
     "name": "stdout",
     "output_type": "stream",
     "text": [
      "('sno', 10) <class 'tuple'>\n",
      "('name', 'rs') <class 'tuple'>\n",
      "('IM', {'cm': 17, 'os': 16, 'py': 19}) <class 'tuple'>\n",
      "('EM', {'cm': 67, 'os': 78, 'py': 67}) <class 'tuple'>\n",
      "('cname', 'oucet') <class 'tuple'>\n"
     ]
    }
   ],
   "source": [
    "for kv in d1.items():\n",
    "    print(kv,type(kv))"
   ]
  },
  {
   "cell_type": "code",
   "execution_count": 32,
   "metadata": {},
   "outputs": [
    {
     "name": "stdout",
     "output_type": "stream",
     "text": [
      "sno --> 10 <class 'int'> --> <class 'dict'>\n",
      "name --> rs <class 'str'> --> <class 'dict'>\n",
      "IM --> {'cm': 17, 'os': 16, 'py': 19} <class 'dict'> --> <class 'dict'>\n",
      "EM --> {'cm': 67, 'os': 78, 'py': 67} <class 'dict'> --> <class 'dict'>\n",
      "cname --> oucet <class 'str'> --> <class 'dict'>\n"
     ]
    }
   ],
   "source": [
    "for k,v in d1.items():\n",
    "    print(k,\"-->\",v,type(v),\"-->\",type(d1))"
   ]
  },
  {
   "cell_type": "code",
   "execution_count": 33,
   "metadata": {},
   "outputs": [
    {
     "name": "stdout",
     "output_type": "stream",
     "text": [
      "cm --> 17\n",
      "os --> 16\n",
      "py --> 19\n"
     ]
    }
   ],
   "source": [
    "# INTERNAL MARKS\n",
    "for k,v in d1[\"IM\"].items():\n",
    "    print(k,\"-->\",v)"
   ]
  },
  {
   "cell_type": "code",
   "execution_count": 34,
   "metadata": {},
   "outputs": [
    {
     "name": "stdout",
     "output_type": "stream",
     "text": [
      "cm --> 67\n",
      "os --> 78\n",
      "py --> 67\n"
     ]
    }
   ],
   "source": [
    "# EXTERNAL MARKS\n",
    "for k,v in d1[\"EM\"].items():\n",
    "    print(k,\"-->\",v)"
   ]
  },
  {
   "cell_type": "code",
   "execution_count": 35,
   "metadata": {},
   "outputs": [
    {
     "name": "stdout",
     "output_type": "stream",
     "text": [
      "{'sno': 10, 'name': 'rs', 'IM': {'cm': 17, 'py': 19}, 'EM': {'cm': 67, 'os': 78, 'py': 67}, 'cname': 'oucet'}\n"
     ]
    }
   ],
   "source": [
    "d1[\"IM\"].pop(\"os\")\n",
    "print(d1)"
   ]
  },
  {
   "cell_type": "code",
   "execution_count": 36,
   "metadata": {},
   "outputs": [],
   "source": [
    "# 47.35"
   ]
  },
  {
   "cell_type": "code",
   "execution_count": null,
   "metadata": {},
   "outputs": [],
   "source": []
  },
  {
   "cell_type": "code",
   "execution_count": null,
   "metadata": {},
   "outputs": [],
   "source": []
  },
  {
   "cell_type": "code",
   "execution_count": null,
   "metadata": {},
   "outputs": [],
   "source": []
  },
  {
   "cell_type": "code",
   "execution_count": null,
   "metadata": {},
   "outputs": [],
   "source": []
  },
  {
   "cell_type": "code",
   "execution_count": null,
   "metadata": {},
   "outputs": [],
   "source": []
  },
  {
   "cell_type": "code",
   "execution_count": null,
   "metadata": {},
   "outputs": [],
   "source": []
  },
  {
   "cell_type": "code",
   "execution_count": null,
   "metadata": {},
   "outputs": [],
   "source": []
  }
 ],
 "metadata": {
  "kernelspec": {
   "display_name": "base",
   "language": "python",
   "name": "python3"
  },
  "language_info": {
   "codemirror_mode": {
    "name": "ipython",
    "version": 3
   },
   "file_extension": ".py",
   "mimetype": "text/x-python",
   "name": "python",
   "nbconvert_exporter": "python",
   "pygments_lexer": "ipython3",
   "version": "3.12.7"
  }
 },
 "nbformat": 4,
 "nbformat_minor": 2
}
