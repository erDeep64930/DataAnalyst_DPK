{
 "cells": [
  {
   "cell_type": "markdown",
   "metadata": {},
   "source": [
    "# Data Type in Python"
   ]
  },
  {
   "cell_type": "markdown",
   "metadata": {},
   "source": []
  },
  {
   "cell_type": "code",
   "execution_count": null,
   "metadata": {},
   "outputs": [],
   "source": [
    "# In Python there are 14 data types\n",
    "\"\"\"\n",
    "And they are classified into six data types\n",
    "\n",
    "1. Fundamental category data types\n",
    "\n",
    "2. Sequence Category data types\n",
    "\n",
    "3. List Category data types [Collections data types]\n",
    "\n",
    "4.Set Category data types [Collections data types]\n",
    "\n",
    "5. Dict Category data types [Collections data types]\n",
    "\n",
    "6. None Category data types \n",
    "\n",
    "\"\"\""
   ]
  },
  {
   "cell_type": "code",
   "execution_count": null,
   "metadata": {},
   "outputs": [],
   "source": [
    "\"\"\"\n",
    "1. Fundamental category data types\n",
    "\n",
    "eg:-\n",
    "1.int\n",
    "2.float\n",
    "3.bool\n",
    "4.complex\n",
    "\n",
    "---------------------\n",
    "\n",
    "2. Sequence Category data types\n",
    "eg:-\n",
    "\n",
    "1.str\n",
    "2.bytes\n",
    "3.bytearray\n",
    "4.range\n",
    "\n",
    "-----------------------\n",
    "\n",
    "3. List Category data types [Collections data types]\n",
    "\n",
    "eg:-\n",
    "\n",
    "1.list\n",
    "2.tuple\n",
    "\n",
    "-----------------------\n",
    "\n",
    "4.Set Category data types [Collections data types]\n",
    "\n",
    "eg:-\n",
    "\n",
    "1.set\n",
    "2.frozenset\n",
    "\n",
    "-----------------------\n",
    "\n",
    "5. Dict Category data types [Collections data types]\n",
    "\n",
    " eg:-\n",
    "\n",
    " 1.dict\n",
    "\n",
    " --------------------\n",
    "\n",
    " 6. None Category data types \n",
    "\n",
    "eg:-\n",
    "\n",
    "1. None types\n",
    "\n",
    "\n",
    "\"\"\""
   ]
  },
  {
   "cell_type": "code",
   "execution_count": null,
   "metadata": {},
   "outputs": [],
   "source": [
    "\"\"\"\n",
    "\n",
    "1. Fundamental category data types\n",
    "\n",
    "- purpose of Fundamental category data types is to \" store single value \"\n",
    "\n",
    "eg:-\n",
    "\n",
    "1.int\n",
    "2.float\n",
    "3.bool\n",
    "4.complex\n",
    "\n",
    "\n",
    "\"\"\""
   ]
  },
  {
   "cell_type": "code",
   "execution_count": 1,
   "metadata": {},
   "outputs": [
    {
     "name": "stdout",
     "output_type": "stream",
     "text": [
      "89 <class 'int'>\n"
     ]
    }
   ],
   "source": [
    "# int\n",
    "a= 89\n",
    "print(a,type(a))\n",
    "\n"
   ]
  },
  {
   "cell_type": "code",
   "execution_count": 3,
   "metadata": {},
   "outputs": [
    {
     "name": "stdout",
     "output_type": "stream",
     "text": [
      "100 <class 'int'>\n"
     ]
    }
   ],
   "source": [
    "# int\n",
    "\"\"\"\n",
    "- \"int\" is pre-define class and treated as fundamental data type.\n",
    "\n",
    "-to store \"whole number / integer value\n",
    "without decimal places\n",
    "\n",
    " \n",
    "- we have four type of number system\n",
    "\n",
    "1. decimal number system\n",
    "2. binary number system \n",
    "3. octal number system\n",
    "4. hex decimal number system\n",
    "\"\"\"\n",
    "\n",
    "a=100 \n",
    "b=100 \n",
    "c=100\n",
    "d=100\n",
    "e=a+b+c+d\n",
    "print(d,type(d))"
   ]
  },
  {
   "cell_type": "code",
   "execution_count": null,
   "metadata": {},
   "outputs": [],
   "source": [
    "# decimal number system:-\n",
    "\"\"\"\n",
    "our day to day operation\n",
    "\n",
    "digits: 1 2 3 4 5 6 7 8 9 10 \n",
    "\n",
    "base : 10\n",
    "\n",
    "- all base 10 number are called decimal\n",
    "\n",
    "--------------------\n",
    "2.Binary number systems\n",
    "\n",
    "- these are understood by OS and Processors.\n",
    "\n",
    "-digit-0,1\n",
    "base- 2\n",
    "\n",
    "-all base 2 value are called decimal\n",
    "\n",
    "- Binary data must be preceded with a letter 0b or 0B\n",
    "\n",
    "syntax: \n",
    "varname = 0b binary value\n",
    "\n",
    "or \n",
    "\n",
    "varname = 0B decimal value\n",
    "\n",
    "\n",
    "in python binary number system are converted into decimal numbers system implicitly\n",
    "\n",
    "\n",
    "---------------------\n",
    "\n",
    "\n",
    "\n",
    "\"\"\""
   ]
  },
  {
   "cell_type": "code",
   "execution_count": 4,
   "metadata": {},
   "outputs": [
    {
     "name": "stdout",
     "output_type": "stream",
     "text": [
      "3\n"
     ]
    }
   ],
   "source": [
    "a=0b11\n",
    "print(a)"
   ]
  },
  {
   "cell_type": "code",
   "execution_count": 5,
   "metadata": {},
   "outputs": [
    {
     "name": "stdout",
     "output_type": "stream",
     "text": [
      "11\n"
     ]
    }
   ],
   "source": [
    "b= 0b1011\n",
    "print(b)"
   ]
  },
  {
   "cell_type": "markdown",
   "metadata": {},
   "source": [
    " # hexa decimal number\n",
    " \n",
    " varname=bin(decimal/hexa)\n",
    " \n",
    " eg:-\n",
    " bin(11)"
   ]
  },
  {
   "cell_type": "code",
   "execution_count": 7,
   "metadata": {},
   "outputs": [
    {
     "data": {
      "text/plain": [
       "'0b1011'"
      ]
     },
     "execution_count": 7,
     "metadata": {},
     "output_type": "execute_result"
    }
   ],
   "source": [
    "bin(11)"
   ]
  },
  {
   "cell_type": "code",
   "execution_count": 8,
   "metadata": {},
   "outputs": [
    {
     "name": "stdout",
     "output_type": "stream",
     "text": [
      "11\n"
     ]
    }
   ],
   "source": [
    "a=0b1011\n",
    "print(a)"
   ]
  },
  {
   "cell_type": "code",
   "execution_count": null,
   "metadata": {},
   "outputs": [],
   "source": [
    "\"\"\" \n",
    "Hexa decimal :-\n",
    "\n",
    "this number system has :-\n",
    "  digits:-\n",
    "  0,1,2,3,4,5,6,7,8,9\n",
    "  a(10), b(11), c(12), d(13), e(14), f(15)\n",
    "  \n",
    "  base:-16\n",
    "  \n",
    "  \n",
    "-------------------------\n",
    "\n",
    "Float:-\n",
    "\n",
    "-fundamental data types\n",
    "-purpose is to store the real constant values.\n",
    "\n",
    "\n",
    "\n",
    "\"\"\""
   ]
  },
  {
   "cell_type": "code",
   "execution_count": 2,
   "metadata": {},
   "outputs": [
    {
     "name": "stdout",
     "output_type": "stream",
     "text": [
      "3.39999999999999991118215802998747676610946655273438\n"
     ]
    }
   ],
   "source": [
    "a=3.4\n",
    "print(\"%0.50f\" %a)"
   ]
  },
  {
   "cell_type": "code",
   "execution_count": 3,
   "metadata": {},
   "outputs": [
    {
     "name": "stdout",
     "output_type": "stream",
     "text": [
      "3.50000000000000000000000000000000000000000000000000\n"
     ]
    }
   ],
   "source": [
    "a=3.5\n",
    "print(\"%0.50f\" %a)"
   ]
  },
  {
   "cell_type": "code",
   "execution_count": null,
   "metadata": {},
   "outputs": [],
   "source": [
    "#based on IEEE  float value changes .\n",
    "\n",
    "# float\n",
    "\n",
    "\"\"\" \n",
    "- number with decimal value.\n",
    "- int can treated as float but float can't be treated as integer\n",
    "\n",
    "eg:\n",
    "\n",
    "\"\"\""
   ]
  },
  {
   "cell_type": "code",
   "execution_count": 5,
   "metadata": {},
   "outputs": [
    {
     "name": "stdout",
     "output_type": "stream",
     "text": [
      "175.0 <class 'float'>\n"
     ]
    }
   ],
   "source": [
    "a=50\n",
    "b=3.5\n",
    "c=a*b\n",
    "print(c,type(c))"
   ]
  },
  {
   "cell_type": "code",
   "execution_count": null,
   "metadata": {},
   "outputs": [],
   "source": []
  }
 ],
 "metadata": {
  "kernelspec": {
   "display_name": ".venv",
   "language": "python",
   "name": "python3"
  },
  "language_info": {
   "codemirror_mode": {
    "name": "ipython",
    "version": 3
   },
   "file_extension": ".py",
   "mimetype": "text/x-python",
   "name": "python",
   "nbconvert_exporter": "python",
   "pygments_lexer": "ipython3",
   "version": "3.12.6"
  }
 },
 "nbformat": 4,
 "nbformat_minor": 2
}
