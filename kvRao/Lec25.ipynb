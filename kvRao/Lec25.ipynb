{
 "cells": [
  {
   "cell_type": "markdown",
   "metadata": {},
   "source": [
    "# InnerTuple"
   ]
  },
  {
   "cell_type": "code",
   "execution_count": 1,
   "metadata": {},
   "outputs": [
    {
     "name": "stdout",
     "output_type": "stream",
     "text": [
      "(10, 'rs', (16, 17, 18), (78.79, 80), 'oucet') <class 'tuple'>\n"
     ]
    }
   ],
   "source": [
    "t1=(10,\"rs\",(16,17,18),(78.79,80),\"oucet\")\n",
    "print(t1,type(t1))"
   ]
  },
  {
   "cell_type": "code",
   "execution_count": 2,
   "metadata": {},
   "outputs": [
    {
     "name": "stdout",
     "output_type": "stream",
     "text": [
      "10 <class 'int'> <class 'tuple'>\n",
      "rs <class 'str'> <class 'tuple'>\n",
      "(16, 17, 18) <class 'tuple'> <class 'tuple'>\n",
      "(78.79, 80) <class 'tuple'> <class 'tuple'>\n",
      "oucet <class 'str'> <class 'tuple'>\n"
     ]
    }
   ],
   "source": [
    "for val in t1:\n",
    "    print(val,type(val),type(t1))"
   ]
  },
  {
   "cell_type": "code",
   "execution_count": 3,
   "metadata": {},
   "outputs": [
    {
     "data": {
      "text/plain": [
       "(10, 'rs', (16, 17, 18))"
      ]
     },
     "execution_count": 3,
     "metadata": {},
     "output_type": "execute_result"
    }
   ],
   "source": [
    "t1[0:3]"
   ]
  },
  {
   "cell_type": "code",
   "execution_count": 5,
   "metadata": {},
   "outputs": [],
   "source": [
    "# you cannot do any changes \n",
    "# indexing and slicing is used"
   ]
  },
  {
   "cell_type": "code",
   "execution_count": 6,
   "metadata": {},
   "outputs": [
    {
     "data": {
      "text/plain": [
       "1"
      ]
     },
     "execution_count": 6,
     "metadata": {},
     "output_type": "execute_result"
    }
   ],
   "source": [
    "t1[2].count(16)"
   ]
  },
  {
   "cell_type": "markdown",
   "metadata": {},
   "source": [
    "## list in tuple \n",
    "\n",
    "## tuple in list"
   ]
  },
  {
   "cell_type": "code",
   "execution_count": 8,
   "metadata": {},
   "outputs": [
    {
     "name": "stdout",
     "output_type": "stream",
     "text": [
      "(10, 'rs', [16, 17, 18], [67, 68, 69], 'oucet') <class 'tuple'>\n"
     ]
    }
   ],
   "source": [
    "# tuple in list\n",
    "t1=(10,\"rs\",[16,17,18],[67,68,69],\"oucet\")\n",
    "print(t1,type(t1))"
   ]
  },
  {
   "cell_type": "code",
   "execution_count": 13,
   "metadata": {},
   "outputs": [
    {
     "name": "stdout",
     "output_type": "stream",
     "text": [
      "10 <class 'int'>\n",
      "(10, 'rs', [16, 17, 18, 19, 19], [67, 68, 69], 'oucet')\n",
      "rs <class 'str'>\n",
      "(10, 'rs', [16, 17, 18, 19, 19], [67, 68, 69], 'oucet')\n",
      "[16, 17, 18, 19, 19] <class 'list'>\n",
      "(10, 'rs', [16, 17, 18, 19, 19], [67, 68, 69], 'oucet')\n",
      "[67, 68, 69] <class 'list'>\n",
      "(10, 'rs', [16, 17, 18, 19, 19], [67, 68, 69], 'oucet')\n",
      "oucet <class 'str'>\n",
      "(10, 'rs', [16, 17, 18, 19, 19], [67, 68, 69], 'oucet')\n"
     ]
    }
   ],
   "source": [
    "for val in t1:\n",
    "    print(val,type(val))\n",
    "    print(t1)"
   ]
  },
  {
   "cell_type": "code",
   "execution_count": 12,
   "metadata": {},
   "outputs": [
    {
     "name": "stdout",
     "output_type": "stream",
     "text": [
      "(10, 'rs', [16, 17, 18, 19, 19], [67, 68, 69], 'oucet')\n"
     ]
    }
   ],
   "source": [
    "t1[2].append(19)\n",
    "print(t1)"
   ]
  },
  {
   "cell_type": "code",
   "execution_count": 14,
   "metadata": {},
   "outputs": [
    {
     "name": "stdout",
     "output_type": "stream",
     "text": [
      "(10, 'rs', [16, 17, 18, 19, 19], [67, 77, 68, 69], 'oucet')\n"
     ]
    }
   ],
   "source": [
    "t1[3].insert(1,77)\n",
    "print(t1)"
   ]
  },
  {
   "cell_type": "code",
   "execution_count": 16,
   "metadata": {},
   "outputs": [
    {
     "name": "stdout",
     "output_type": "stream",
     "text": [
      "(10, 'rs', [16, 17, 18, 19, 19], [67, 77, 68, 69], 'oucet')\n"
     ]
    }
   ],
   "source": [
    "t1[2].sort()\n",
    "print(t1)"
   ]
  },
  {
   "cell_type": "code",
   "execution_count": 17,
   "metadata": {},
   "outputs": [
    {
     "ename": "AttributeError",
     "evalue": "'tuple' object has no attribute 'pop'",
     "output_type": "error",
     "traceback": [
      "\u001b[1;31m---------------------------------------------------------------------------\u001b[0m",
      "\u001b[1;31mAttributeError\u001b[0m                            Traceback (most recent call last)",
      "Cell \u001b[1;32mIn[17], line 1\u001b[0m\n\u001b[1;32m----> 1\u001b[0m \u001b[43mt1\u001b[49m\u001b[38;5;241;43m.\u001b[39;49m\u001b[43mpop\u001b[49m(\u001b[38;5;241m2\u001b[39m)\n\u001b[0;32m      2\u001b[0m \u001b[38;5;28mprint\u001b[39m(t1)\n",
      "\u001b[1;31mAttributeError\u001b[0m: 'tuple' object has no attribute 'pop'"
     ]
    }
   ],
   "source": [
    "t1.pop(2)\n",
    "print(t1)"
   ]
  },
  {
   "cell_type": "code",
   "execution_count": 18,
   "metadata": {},
   "outputs": [
    {
     "name": "stdout",
     "output_type": "stream",
     "text": [
      "(10, 'rs', [16, 19, 19], [67, 77, 68, 69], 'oucet')\n"
     ]
    }
   ],
   "source": [
    "del t1[2][1:3]\n",
    "print(t1)"
   ]
  },
  {
   "cell_type": "code",
   "execution_count": 19,
   "metadata": {},
   "outputs": [
    {
     "name": "stdout",
     "output_type": "stream",
     "text": [
      "(10, 'rs', [16, 19, 19], [77, 68, 69], 'oucet')\n"
     ]
    }
   ],
   "source": [
    "del t1[3][0]\n",
    "print(t1)"
   ]
  },
  {
   "cell_type": "markdown",
   "metadata": {},
   "source": [
    "# tuple in list"
   ]
  },
  {
   "cell_type": "code",
   "execution_count": 20,
   "metadata": {},
   "outputs": [
    {
     "name": "stdout",
     "output_type": "stream",
     "text": [
      "(10, 'rs', [16, 19, 19], [77, 68, 69], 'oucet')\n"
     ]
    }
   ],
   "source": [
    "l1=[10,\"rs\",(16,17,18),(77,78,79),\"oucet\"]\n",
    "print(t1)"
   ]
  },
  {
   "cell_type": "code",
   "execution_count": 21,
   "metadata": {},
   "outputs": [
    {
     "data": {
      "text/plain": [
       "(18, 17, 16)"
      ]
     },
     "execution_count": 21,
     "metadata": {},
     "output_type": "execute_result"
    }
   ],
   "source": [
    "tuple(sorted(l1[2]))[::-1]"
   ]
  },
  {
   "cell_type": "code",
   "execution_count": 26,
   "metadata": {},
   "outputs": [
    {
     "name": "stdout",
     "output_type": "stream",
     "text": [
      "[10, 'rs', (16, 17, 18), (77, 78, 79), 'oucet', ('del', 'mum', 'hyd', 'blr'), ('del', 'mum', 'hyd', 'blr'), ('del', 'mum', 'hyd', 'blr'), ('del', 'mum', 'hyd', 'blr')]\n"
     ]
    }
   ],
   "source": [
    "l1.append((\"del\",\"mum\",\"hyd\",\"blr\"))\n",
    "print(l1)"
   ]
  },
  {
   "cell_type": "markdown",
   "metadata": {},
   "source": [
    "# Set Category data type:-\n",
    "\n",
    "- the purpose of set category data type is that \" to store multiple value either of same type or different type or both types in single object with unique element only.(duplicate are not allowed)\n",
    "\n",
    "- we have 2 data types in list category . they are \n",
    "    - 1. set (mutable an immutable)\n",
    "    - 2. Frozenset (immutable)\n"
   ]
  },
  {
   "cell_type": "markdown",
   "metadata": {},
   "source": [
    "- what we learn \n",
    "property of set \n",
    "- what is set\n",
    "- notation of set\n",
    "- type of set\n",
    "- operation on set\n",
    "- pre defined function in set\n",
    "- nested or inner set with tuple and list \n",
    "- programming examples"
   ]
  },
  {
   "cell_type": "code",
   "execution_count": 28,
   "metadata": {},
   "outputs": [],
   "source": [
    "# notation for set\n",
    "# the value of set must be stored within curly braces {} and values are separated by commas.\n",
    "\n",
    "# syntax: setobj={val1, val2,...val-n}"
   ]
  },
  {
   "cell_type": "code",
   "execution_count": 41,
   "metadata": {},
   "outputs": [
    {
     "data": {
      "text/plain": [
       "' \\n--> set object never maintain insertion order because PVM display any of the possibility of element of set .\\n\\n--> on set we cannot perform indexing and slicing because set never maintain insertion order\\n\\n--> set belong to both mutable and immutable , [mutable when we perform add method], [immutable because we cannot perform indexing and slicing or item assignment]\\n\\n'"
      ]
     },
     "execution_count": 41,
     "metadata": {},
     "output_type": "execute_result"
    }
   ],
   "source": [
    "\"\"\" \n",
    "--> set object never maintain insertion order because PVM display any of the possibility of element of set .\n",
    "\n",
    "--> on set we cannot perform indexing and slicing because set never maintain insertion order\n",
    "\n",
    "--> set belong to both mutable and immutable , [mutable when we perform add method], [immutable because we cannot perform indexing and slicing or item assignment]\n",
    "\n",
    "\"\"\""
   ]
  },
  {
   "cell_type": "code",
   "execution_count": 29,
   "metadata": {},
   "outputs": [
    {
     "name": "stdout",
     "output_type": "stream",
     "text": [
      "{50, 20, 70, 40, 10, 30} <class 'set'>\n"
     ]
    }
   ],
   "source": [
    "s1={10,20,30,40,20,10,30,50,70,10}\n",
    "print(s1,type(s1))"
   ]
  },
  {
   "cell_type": "code",
   "execution_count": 30,
   "metadata": {},
   "outputs": [],
   "source": [
    "# you can't predict in which order the set elements will come .\n",
    "\n",
    "# hence this is commonly used in question paper set (a,b,c,d)"
   ]
  },
  {
   "cell_type": "code",
   "execution_count": 34,
   "metadata": {},
   "outputs": [
    {
     "name": "stdout",
     "output_type": "stream",
     "text": [
      "{'react', 'python', 'javascript', 'html', 'css', 2025, 'js', 1995, 'photoshop', 'illustrator', 'tailwind'} <class 'set'>\n"
     ]
    }
   ],
   "source": [
    "s2={\"python\",\"js\",\"html\",\"css\",\"react\",\"tailwind\",\"javascript\",\"illustrator\",\"photoshop\",2025,1995}\n",
    "print(s2,type(s2))"
   ]
  },
  {
   "cell_type": "code",
   "execution_count": 36,
   "metadata": {},
   "outputs": [
    {
     "ename": "TypeError",
     "evalue": "'set' object is not subscriptable",
     "output_type": "error",
     "traceback": [
      "\u001b[1;31m---------------------------------------------------------------------------\u001b[0m",
      "\u001b[1;31mTypeError\u001b[0m                                 Traceback (most recent call last)",
      "Cell \u001b[1;32mIn[36], line 1\u001b[0m\n\u001b[1;32m----> 1\u001b[0m \u001b[43ms2\u001b[49m\u001b[43m[\u001b[49m\u001b[38;5;241;43m2\u001b[39;49m\u001b[43m]\u001b[49m\n",
      "\u001b[1;31mTypeError\u001b[0m: 'set' object is not subscriptable"
     ]
    }
   ],
   "source": [
    "s2[2]"
   ]
  },
  {
   "cell_type": "code",
   "execution_count": 37,
   "metadata": {},
   "outputs": [
    {
     "name": "stdout",
     "output_type": "stream",
     "text": [
      "{'rs', 10, 34.56, True} <class 'set'> 1446566711744\n"
     ]
    }
   ],
   "source": [
    "s1={10,\"rs\",34.56,True}\n",
    "print(s1,type(s1),id(s1))"
   ]
  },
  {
   "cell_type": "code",
   "execution_count": 40,
   "metadata": {},
   "outputs": [
    {
     "name": "stdout",
     "output_type": "stream",
     "text": [
      "{True, 34.56, 10, (2+3j), 'rs'} <class 'set'> 1446566711744\n"
     ]
    }
   ],
   "source": [
    "s1.add(2+3j)\n",
    "print(s1,type(s1),id(s1))"
   ]
  },
  {
   "cell_type": "code",
   "execution_count": 42,
   "metadata": {},
   "outputs": [
    {
     "name": "stdout",
     "output_type": "stream",
     "text": [
      "{} <class 'dict'> 1446567164288\n"
     ]
    }
   ],
   "source": [
    "s1={}\n",
    "print(s1,type(s1),id(s1))"
   ]
  },
  {
   "cell_type": "code",
   "execution_count": 43,
   "metadata": {},
   "outputs": [
    {
     "name": "stdout",
     "output_type": "stream",
     "text": [
      "set() <class 'set'> 1446566714432\n"
     ]
    }
   ],
   "source": [
    "s1=set()\n",
    "print(s1,type(s1),id(s1))"
   ]
  },
  {
   "cell_type": "code",
   "execution_count": 44,
   "metadata": {},
   "outputs": [
    {
     "data": {
      "text/plain": [
       "0"
      ]
     },
     "execution_count": 44,
     "metadata": {},
     "output_type": "execute_result"
    }
   ],
   "source": [
    "len(s1)"
   ]
  },
  {
   "cell_type": "code",
   "execution_count": 45,
   "metadata": {},
   "outputs": [
    {
     "name": "stdout",
     "output_type": "stream",
     "text": [
      "{3, 4, 5, 20, 10} <class 'set'> 1446566711520\n"
     ]
    }
   ],
   "source": [
    "s2={10,20,3,4,5}\n",
    "print(s2,type(s2),id(s2))"
   ]
  },
  {
   "cell_type": "code",
   "execution_count": 46,
   "metadata": {},
   "outputs": [],
   "source": [
    "# empty set\n",
    "\n",
    "# whose length is zero\n",
    "\n",
    "# syntax: setobj=set()"
   ]
  },
  {
   "cell_type": "code",
   "execution_count": 47,
   "metadata": {},
   "outputs": [],
   "source": [
    "# non-empty set\n",
    "\n",
    "# whose length is greater than Zero.\n",
    "\n",
    "# syntax: setobj=set(obj)\n"
   ]
  },
  {
   "cell_type": "code",
   "execution_count": 48,
   "metadata": {},
   "outputs": [
    {
     "name": "stdout",
     "output_type": "stream",
     "text": [
      "18\n",
      "{70, 40, 10, 80, 50, 20, 90, 60, 30} <class 'set'>\n"
     ]
    }
   ],
   "source": [
    "# to remove duplicate\n",
    "\n",
    "lst=[10,20,30,40,50,60,70,80,90,20,10,30,10,40,50,60,70,20]\n",
    "\n",
    "print(len(lst))\n",
    "\n",
    "s1=set(lst)\n",
    "\n",
    "print(s1,type(s1))\n"
   ]
  },
  {
   "cell_type": "code",
   "execution_count": 49,
   "metadata": {},
   "outputs": [
    {
     "name": "stdout",
     "output_type": "stream",
     "text": [
      "{'p', 'i', 'm', 's'} <class 'set'>\n"
     ]
    }
   ],
   "source": [
    "s=\"mississippi\"\n",
    "s1=set(s)\n",
    "print(s1,type(s1))\n"
   ]
  },
  {
   "cell_type": "code",
   "execution_count": 50,
   "metadata": {},
   "outputs": [],
   "source": [
    "# pre defined function in set:-\n",
    "\n",
    "\n",
    "1.add()\n",
    "2.remove()\n",
    "3.pop() \n",
    "4.clear()\n",
    "5.discard()\n",
    "6.clear()\n",
    "7.isDisjoint()\n",
    "8.issubset\n",
    "9.issuperset()\n",
    "10.union()\n",
    "11.intersect()\n",
    "12.difference()\n",
    "13.symmetric_difference()\n",
    "14.symmetric_difference_update()\n",
    "15.update()"
   ]
  },
  {
   "cell_type": "markdown",
   "metadata": {},
   "source": [
    "### pre-defined function in set \n",
    "\n",
    "- we know that on object of set , we cannot perform indexing and slicing operation because set never maintain insertion order.\n",
    "\n",
    "-  but on set object we can perform diffrent operations  by using pre-defined function which are present in set object."
   ]
  },
  {
   "cell_type": "code",
   "execution_count": 51,
   "metadata": {},
   "outputs": [
    {
     "name": "stdout",
     "output_type": "stream",
     "text": [
      "{'python', 'javascript', True, 10, 'rs'} <class 'set'> 1446566714880\n"
     ]
    }
   ],
   "source": [
    "#. add()\n",
    "s1={10,\"rs\",\"python\",True,}\n",
    "s1.add(\"javascript\")\n",
    "print(s1,type(s1),id(s1))"
   ]
  },
  {
   "cell_type": "code",
   "execution_count": 52,
   "metadata": {},
   "outputs": [
    {
     "name": "stdout",
     "output_type": "stream",
     "text": [
      "{'python', 'javascript', True, 3.14, 10, 'rs'} <class 'set'> 1446566714880\n"
     ]
    }
   ],
   "source": [
    "s1.add(3.14)\n",
    "print(s1,type(s1),id(s1))"
   ]
  },
  {
   "cell_type": "code",
   "execution_count": null,
   "metadata": {},
   "outputs": [],
   "source": [
    "# item added in the same address."
   ]
  },
  {
   "cell_type": "markdown",
   "metadata": {},
   "source": [
    "# remove \n",
    "\n",
    "- this function is used for removing values from set objects.\n",
    "\n",
    "- if the value does not exist in the set and try to remove then we get keyError.\n",
    "\n",
    "- in place of remove we use discard we did't get any error ."
   ]
  },
  {
   "cell_type": "code",
   "execution_count": null,
   "metadata": {},
   "outputs": [],
   "source": [
    "# pop()\n",
    "\n",
    "# setobj.pop()"
   ]
  },
  {
   "cell_type": "code",
   "execution_count": 53,
   "metadata": {},
   "outputs": [
    {
     "name": "stdout",
     "output_type": "stream",
     "text": [
      "{(2+5j), 3.14, 'rs', 10}\n"
     ]
    }
   ],
   "source": [
    "s1={10,\"rs\",3.14,True,2+5j}\n",
    "s1.pop()\n",
    "print(s1)"
   ]
  },
  {
   "cell_type": "code",
   "execution_count": null,
   "metadata": {},
   "outputs": [],
   "source": [
    "# any arbitrary element will be removed since it does not follow the indexing number .\n"
   ]
  },
  {
   "cell_type": "code",
   "execution_count": 54,
   "metadata": {},
   "outputs": [
    {
     "name": "stdout",
     "output_type": "stream",
     "text": [
      "{(2+5j), 3.14, 'rs', 10}\n"
     ]
    }
   ],
   "source": [
    "# clear\n",
    "print(s1)"
   ]
  },
  {
   "cell_type": "code",
   "execution_count": 55,
   "metadata": {},
   "outputs": [
    {
     "data": {
      "text/plain": [
       "0"
      ]
     },
     "execution_count": 55,
     "metadata": {},
     "output_type": "execute_result"
    }
   ],
   "source": [
    "s1.clear()\n",
    "len(s1)"
   ]
  },
  {
   "cell_type": "code",
   "execution_count": 56,
   "metadata": {},
   "outputs": [],
   "source": [
    "# this function is used for removing all element from non-empty set object.\n",
    "\n",
    "# if we call this function empty set object then we get none \n"
   ]
  },
  {
   "cell_type": "code",
   "execution_count": 57,
   "metadata": {},
   "outputs": [
    {
     "name": "stdout",
     "output_type": "stream",
     "text": [
      "None\n"
     ]
    }
   ],
   "source": [
    "print(s1.clear())"
   ]
  },
  {
   "cell_type": "code",
   "execution_count": 58,
   "metadata": {},
   "outputs": [
    {
     "name": "stdout",
     "output_type": "stream",
     "text": [
      "None\n"
     ]
    }
   ],
   "source": [
    "print(set().clear())"
   ]
  },
  {
   "cell_type": "markdown",
   "metadata": {},
   "source": [
    "# isdisjoint()"
   ]
  },
  {
   "cell_type": "code",
   "execution_count": 60,
   "metadata": {},
   "outputs": [
    {
     "name": "stdout",
     "output_type": "stream",
     "text": [
      "True\n",
      "False\n"
     ]
    }
   ],
   "source": [
    "s1={10,20,30,40,50}\n",
    "s2={5,15,25,35,45,55}\n",
    "s3={5,17,19}\n",
    "\n",
    "#s2=s3 are joint set\n",
    "# 5 is present in both s2 and s3\n",
    "\n",
    "# this property can be used in testing eg:-\n",
    "\n",
    "# property of corona virus\n",
    "# if a person matches any of the property then it is said to be infected.\n",
    "\n",
    "print(s1.isdisjoint(s3))\n",
    "print(s2.isdisjoint(s3))"
   ]
  },
  {
   "cell_type": "code",
   "execution_count": 61,
   "metadata": {},
   "outputs": [],
   "source": [
    "# syntax:\n",
    "# setobj1.isdisjoint(setobj2)\n",
    "\n",
    "# this function return true provided there is no common element present in setobj1 and setobj2\n",
    "\n",
    "# this function return false provided there is one common element present in setobj1 and setobj2 called joint set or non disjoint set"
   ]
  },
  {
   "cell_type": "code",
   "execution_count": 62,
   "metadata": {},
   "outputs": [
    {
     "data": {
      "text/plain": [
       "True"
      ]
     },
     "execution_count": 62,
     "metadata": {},
     "output_type": "execute_result"
    }
   ],
   "source": [
    "s1=set()\n",
    "s2=set()\n",
    "s1.isdisjoint(s2)"
   ]
  },
  {
   "cell_type": "code",
   "execution_count": 63,
   "metadata": {},
   "outputs": [
    {
     "data": {
      "text/plain": [
       "True"
      ]
     },
     "execution_count": 63,
     "metadata": {},
     "output_type": "execute_result"
    }
   ],
   "source": [
    "set().isdisjoint(set())"
   ]
  },
  {
   "cell_type": "markdown",
   "metadata": {},
   "source": [
    "# issuperset() , issubset()"
   ]
  },
  {
   "cell_type": "code",
   "execution_count": 64,
   "metadata": {},
   "outputs": [
    {
     "data": {
      "text/plain": [
       "True"
      ]
     },
     "execution_count": 64,
     "metadata": {},
     "output_type": "execute_result"
    }
   ],
   "source": [
    "s1.issubset(s2)"
   ]
  },
  {
   "cell_type": "code",
   "execution_count": 65,
   "metadata": {},
   "outputs": [
    {
     "data": {
      "text/plain": [
       "True"
      ]
     },
     "execution_count": 65,
     "metadata": {},
     "output_type": "execute_result"
    }
   ],
   "source": [
    "s1.issuperset(s2)"
   ]
  },
  {
   "cell_type": "markdown",
   "metadata": {},
   "source": [
    "# Solve the following problem by using sets\n"
   ]
  },
  {
   "cell_type": "markdown",
   "metadata": {},
   "source": [
    "consider the following :-\n",
    "\n",
    "set cricket player  = {\"rohit\",\"kl\",\"ms\",\"vk}\n",
    "\n",
    "set of tennis players ={\"rk\",\"lm\",\"vk\",\"jk\"}\n",
    "\n",
    "write the code for the following \n",
    "# Q\n",
    "- solve the following using set function.\n",
    "\n",
    "1. find the names of all the players\n",
    "-->union\n",
    "2. find the names of the players who are playing all types of games\n",
    "3. find the player who are playing both cricket and tennis.\n",
    "-->intersection\n",
    "4. find the player who are playing only cricket but not tennis\n",
    "-->\n",
    "5. find the player who are playing tennis but not cricket\n",
    "6. find the player who are exclusively playing both cricket and tennis.\n",
    "\n",
    "---------------------------------------\n",
    "# Q\n",
    "consider the following :-\n",
    "\n",
    "set cricket player  = {\"rohit\",\"kl\",\"ms\",\"vk}\n",
    "\n",
    "set of tennis players ={\"rk\",\"lm\",\"vk\",\"jk\"}\n",
    "\n",
    "write the code for the following \n",
    "\n",
    "- solve the following without using set function.\n",
    "\n",
    "1. find the names of all the players\n",
    "-->union\n",
    "2. find the names of the players who are playing all types of games\n",
    "3. find the player who are playing both cricket and tennis.\n",
    "-->intersection\n",
    "4. find the player who are playing only cricket but not tennis\n",
    "-->\n",
    "5. find the player who are playing tennis but not cricket\n",
    "6. find the player who are exclusively playing both cricket and tennis.\n",
    "\n",
    "\n",
    "\n"
   ]
  },
  {
   "cell_type": "code",
   "execution_count": 19,
   "metadata": {},
   "outputs": [
    {
     "name": "stdout",
     "output_type": "stream",
     "text": [
      "[0, 10, 10, 10, 10, 20, 20, 20, 20, 20, 20, 30, 30, 30, 30, 40, 50, 50, 60, 70, 70, 70, 80, 90] 2242755046080\n",
      "1 --> 10\n",
      "2 --> 10\n",
      "3 --> 10\n",
      "4 --> 10\n",
      "24\n",
      "90\n",
      "0\n",
      "{0, 70, 40, 10, 80, 50, 20, 90, 60, 30}\n",
      "[0, 10, 20, 30, 40, 50, 60, 70, 80, 90]\n"
     ]
    }
   ],
   "source": [
    "lst=[10,20,30,10,20,40,20,30,50,50,60,70,10,30,70,70,80,90,20,20,30,0,10,20]\n",
    "lst.sort()\n",
    "print(lst,id(lst))\n",
    "\n",
    "for i,v in enumerate(lst):\n",
    "    if(v==10):\n",
    "        print(i,\"-->\",v)\n",
    "        \n",
    "print(len(lst))\n",
    "print(max(lst))\n",
    "print(min(lst))\n",
    "# to find the unique number in list convert this into set \n",
    "s1=set(lst)\n",
    "print(s1)\n",
    "# after getting the unique number then convert it into list again to sort the list\n",
    "lst1=list(s1)\n",
    "lst1.sort()\n",
    "print(lst1)\n",
    "\n"
   ]
  },
  {
   "cell_type": "code",
   "execution_count": null,
   "metadata": {},
   "outputs": [],
   "source": []
  }
 ],
 "metadata": {
  "kernelspec": {
   "display_name": ".venv",
   "language": "python",
   "name": "python3"
  },
  "language_info": {
   "codemirror_mode": {
    "name": "ipython",
    "version": 3
   },
   "file_extension": ".py",
   "mimetype": "text/x-python",
   "name": "python",
   "nbconvert_exporter": "python",
   "pygments_lexer": "ipython3",
   "version": "3.12.6"
  }
 },
 "nbformat": 4,
 "nbformat_minor": 2
}
