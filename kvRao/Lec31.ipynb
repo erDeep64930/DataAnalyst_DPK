{
 "cells": [
  {
   "cell_type": "markdown",
   "metadata": {},
   "source": [
    "# Number of approaches to develop program in python\n",
    "\n",
    "- definition of program\n",
    "    - set of optimize instruction called program\n",
    "    - optimize instruction of program takes less memory space (space complexity) and less execution (time complexity )\n",
    "- Need of writing the program\n",
    "    - want to generate calender\n",
    "\n",
    "- the need of writing the program is that to implement certain task or to develop a realtime application.\n",
    "\n",
    "- python extension is (.py) (called fileName---FileName.py)"
   ]
  },
  {
   "cell_type": "markdown",
   "metadata": {},
   "source": [
    "- we have two approaches to develop the program , they are :-\n",
    "\n",
    "1. interactive approaches\n",
    "2. batch mode approach"
   ]
  },
  {
   "cell_type": "markdown",
   "metadata": {},
   "source": [
    "- interactive approach\n",
    "    - python command\n",
    "    - python IDLE shell\n",
    "    - (it never allow us to save the instruction hence not used in application building , it is only used testing one instruction at a time)\n",
    "\n",
    "- Batch mode approach\n",
    "    - python IDLE shell\n",
    "    - by using IDE eg:- Pycharm,Jupyter notebook,VS code, google colab,\n",
    "\n",
    "\n"
   ]
  },
  {
   "cell_type": "code",
   "execution_count": 1,
   "metadata": {},
   "outputs": [
    {
     "name": "stdout",
     "output_type": "stream",
     "text": [
      "val of a= 5.0\n",
      "val of a= 5.0\n",
      "val of b= 5.0\n",
      "val of c= 10.0\n",
      "val of a= 5.0\n"
     ]
    }
   ],
   "source": [
    "a=float(input(\"enter the first value:\"))\n",
    "b=float(input(\"enter the second value:\"))\n",
    "c=a+b\n",
    "print(\"val of a=\",a)\n",
    "print(\"val of a=\",a)\n",
    "print(\"val of b=\",b)\n",
    "print(\"val of c=\",c)\n",
    "print(\"val of a=\",a)\n"
   ]
  },
  {
   "cell_type": "code",
   "execution_count": null,
   "metadata": {},
   "outputs": [],
   "source": []
  }
 ],
 "metadata": {
  "kernelspec": {
   "display_name": "Python 3",
   "language": "python",
   "name": "python3"
  },
  "language_info": {
   "codemirror_mode": {
    "name": "ipython",
    "version": 3
   },
   "file_extension": ".py",
   "mimetype": "text/x-python",
   "name": "python",
   "nbconvert_exporter": "python",
   "pygments_lexer": "ipython3",
   "version": "3.13.1"
  }
 },
 "nbformat": 4,
 "nbformat_minor": 2
}
