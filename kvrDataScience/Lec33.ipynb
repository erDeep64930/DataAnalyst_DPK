{
 "cells": [
  {
   "cell_type": "markdown",
   "metadata": {},
   "source": [
    "# Pandas - groupby()"
   ]
  },
  {
   "cell_type": "code",
   "execution_count": 19,
   "metadata": {},
   "outputs": [],
   "source": [
    "# syntax:-\n",
    "# DataFrameObj.groupby(\"colName\")"
   ]
  },
  {
   "cell_type": "code",
   "execution_count": 1,
   "metadata": {},
   "outputs": [],
   "source": [
    "# varName=DataFrameObj.groupby(\"colName\")"
   ]
  },
  {
   "cell_type": "code",
   "execution_count": 2,
   "metadata": {},
   "outputs": [],
   "source": [
    "# example on groupby"
   ]
  },
  {
   "cell_type": "code",
   "execution_count": 3,
   "metadata": {},
   "outputs": [],
   "source": [
    "# get the people data with state wise\n",
    "#grp_people=df.groupby(\"state\")"
   ]
  },
  {
   "cell_type": "code",
   "execution_count": 4,
   "metadata": {},
   "outputs": [],
   "source": [
    "# using the for loop\n",
    "# for gname,ginfo in grp_people:\n",
    "#     print(gname)\n",
    "#     print(\"\\t{0} people\".format(len(ginfo))) \n",
    "#     print(ginfo)"
   ]
  },
  {
   "cell_type": "code",
   "execution_count": 5,
   "metadata": {},
   "outputs": [],
   "source": [
    "# obtain first record of each group\n",
    "#grp_people=df.groupby(\"state\").first()"
   ]
  },
  {
   "cell_type": "code",
   "execution_count": 6,
   "metadata": {},
   "outputs": [],
   "source": [
    "# get the last record of each gropu\n",
    "#grp_people=df.groupby(\"state\").last()"
   ]
  },
  {
   "cell_type": "code",
   "execution_count": 7,
   "metadata": {},
   "outputs": [],
   "source": [
    "# get the third record of each group\n",
    "#grp_people=df.groupby(\"state\").nth(2)"
   ]
  },
  {
   "cell_type": "code",
   "execution_count": 8,
   "metadata": {},
   "outputs": [],
   "source": [
    "# get the count of each group exclusively\n",
    "#grp_people=df.groupby(\"state\").count()\n",
    "# get the count of each group including NaN values\n",
    "#grp_people=df.groupby(\"state\").size()"
   ]
  },
  {
   "cell_type": "code",
   "execution_count": 9,
   "metadata": {},
   "outputs": [],
   "source": [
    "# name of people living that state\n",
    "#grp_people=df.groupby(\"state\")[\"name\"]\n",
    "#grp_people=df.groupby(\"state\")[\"name\"].count()"
   ]
  },
  {
   "cell_type": "code",
   "execution_count": 10,
   "metadata": {},
   "outputs": [],
   "source": [
    "import pandas as pd\n",
    "import numpy as np"
   ]
  },
  {
   "cell_type": "code",
   "execution_count": 11,
   "metadata": {},
   "outputs": [
    {
     "name": "stdout",
     "output_type": "stream",
     "text": [
      "   id     name    city        state\n",
      "0  10   dhurvi   delhi        delhi\n",
      "1  20     itty   delhi        delhi\n",
      "2  30   deepak  mumbai  maharashtra\n",
      "3  40     dori  mumbai  maharashtra\n",
      "4  50   lovely    pune  maharashtra\n",
      "5  60  pragati    pune  maharashtra\n",
      "6  70   shayam    pune  maharashtra\n"
     ]
    }
   ],
   "source": [
    "d={\"id\":[10,20,30,40,50,60,70],\"name\":[\"dhurvi\",\"itty\",\"deepak\",\"dori\",\"lovely\",\"pragati\",\"shayam\"],\"city\":[\"delhi\",\"delhi\",\"mumbai\",\"mumbai\",\"pune\",\"pune\",\"pune\"],\"state\":[\"delhi\",\"delhi\",\"maharashtra\",\"maharashtra\",\"maharashtra\",\"maharashtra\",\"maharashtra\"]}\n",
    "\n",
    "df=pd.DataFrame(d)\n",
    "print(df)\n",
    "\n",
    "df.to_csv(\"D:\\\\clone\\\\DataAnalyst_DPK\\\\files\\\\cityPeople.csv\")"
   ]
  },
  {
   "cell_type": "code",
   "execution_count": 12,
   "metadata": {},
   "outputs": [
    {
     "name": "stdout",
     "output_type": "stream",
     "text": [
      "{'delhi': [0, 1], 'maharashtra': [2, 3, 4, 5, 6]}\n"
     ]
    }
   ],
   "source": [
    "# get the people data with state wise\n",
    "grp_people=df.groupby(\"state\")\n",
    "print(grp_people.groups)"
   ]
  },
  {
   "cell_type": "code",
   "execution_count": 13,
   "metadata": {},
   "outputs": [
    {
     "name": "stdout",
     "output_type": "stream",
     "text": [
      "             id    name    city\n",
      "state                          \n",
      "delhi        10  dhurvi   delhi\n",
      "maharashtra  30  deepak  mumbai\n"
     ]
    }
   ],
   "source": [
    "grp_people=df.groupby(\"state\").first()\n",
    "print(grp_people)"
   ]
  },
  {
   "cell_type": "code",
   "execution_count": 14,
   "metadata": {},
   "outputs": [
    {
     "name": "stdout",
     "output_type": "stream",
     "text": [
      "<pandas.core.groupby.generic.SeriesGroupBy object at 0x000002B55D3E4590>\n"
     ]
    }
   ],
   "source": [
    "grp_people=df.groupby(\"state\")[\"name\"]\n",
    "print(grp_people)"
   ]
  },
  {
   "cell_type": "code",
   "execution_count": 15,
   "metadata": {},
   "outputs": [
    {
     "data": {
      "text/plain": [
       "state\n",
       "delhi          2\n",
       "maharashtra    5\n",
       "Name: name, dtype: int64"
      ]
     },
     "execution_count": 15,
     "metadata": {},
     "output_type": "execute_result"
    }
   ],
   "source": [
    "df.groupby(\"state\")[\"name\"].size()"
   ]
  },
  {
   "cell_type": "code",
   "execution_count": 16,
   "metadata": {},
   "outputs": [
    {
     "name": "stdout",
     "output_type": "stream",
     "text": [
      "    id     name      city        state  age  experience  salary\n",
      "0   10   dhurvi     delhi        delhi   20           1   10000\n",
      "1   20     itty     delhi        delhi   21           2   20000\n",
      "2   30   deepak    mumbai  maharashtra   22           3   30000\n",
      "3   40     dori    mumbai  maharashtra   23           4   40000\n",
      "4   50   lovely      pune  maharashtra   24           5   50000\n",
      "5   60  pragati      pune  maharashtra   25           6   60000\n",
      "6   70   shayam      pune  maharashtra   26           7   70000\n",
      "7   80     aadi       goa          goa   27           8   80000\n",
      "8   90    bablu  kolkatta     kolkatta   28           9   90000\n",
      "9  100     anuj  hydrabad     hydrabad   29          10  100000\n"
     ]
    }
   ],
   "source": [
    "d={\"id\":[10,20,30,40,50,60,70,80,90,100],\"name\":[\"dhurvi\",\"itty\",\"deepak\",\"dori\",\"lovely\",\"pragati\",\"shayam\",\"aadi\",\"bablu\",\"anuj\"],\"city\":[\"delhi\",\"delhi\",\"mumbai\",\"mumbai\",\"pune\",\"pune\",\"pune\",\"goa\",\"kolkatta\",\"hydrabad\"],\"state\":[\"delhi\",\"delhi\",\"maharashtra\",\"maharashtra\",\"maharashtra\",\"maharashtra\",\"maharashtra\",\"goa\",\"kolkatta\",\"hydrabad\"],\"age\":[20,21,22,23,24,25,26,27,28,29],\"experience\":[1,2,3,4,5,6,7,8,9,10],\"salary\":[10000,20000,30000,40000,50000,60000,70000,80000,90000,100000]}\n",
    "\n",
    "df=pd.DataFrame(d)\n",
    "print(df)\n",
    "\n",
    "df.to_csv(\"D:\\\\clone\\\\DataAnalyst_DPK\\\\files\\\\studentLife.csv\")"
   ]
  },
  {
   "cell_type": "code",
   "execution_count": 17,
   "metadata": {},
   "outputs": [],
   "source": [
    "# create list in list from above data frame\n",
    "lst=[[10,\"dhurvi\",\"delhi\",\"delhi\",20,1,10000],\n",
    "[20,\"itty\",\"delhi\",\"delhi\",21,2,20000],\n",
    "[30,\"deepak\",\"mumbai\",\"maharashtra\",22,3,30000],\n",
    "[40,\"dori\",\"mumbai\",\"maharashtra\",23,4,40000]]\n"
   ]
  },
  {
   "cell_type": "code",
   "execution_count": 18,
   "metadata": {},
   "outputs": [
    {
     "name": "stdout",
     "output_type": "stream",
     "text": [
      "   id    name    city        state  age  experience  salary\n",
      "0  10  dhurvi   delhi        delhi   20           1   10000\n",
      "1  20    itty   delhi        delhi   21           2   20000\n",
      "2  30  deepak  mumbai  maharashtra   22           3   30000\n",
      "3  40    dori  mumbai  maharashtra   23           4   40000\n"
     ]
    }
   ],
   "source": [
    "df=pd.DataFrame(lst,columns=[\"id\",\"name\",\"city\",\"state\",\"age\",\"experience\",\"salary\"])\n",
    "print(df)"
   ]
  },
  {
   "cell_type": "code",
   "execution_count": 20,
   "metadata": {},
   "outputs": [
    {
     "name": "stdout",
     "output_type": "stream",
     "text": [
      "         age  salary\n",
      "city                \n",
      "delhi   20.5   30000\n",
      "mumbai  22.5   70000\n"
     ]
    }
   ],
   "source": [
    "# get the mean age column value in each group\n",
    "values=df.groupby(\"city\").agg({\"age\":\"mean\",\"salary\":\"sum\"})\n",
    "print(values)"
   ]
  },
  {
   "cell_type": "code",
   "execution_count": 23,
   "metadata": {},
   "outputs": [
    {
     "name": "stdout",
     "output_type": "stream",
     "text": [
      "        size  sum  mean  median       std  var\n",
      "city                                          \n",
      "delhi      2   41  20.5    20.5  0.707107  0.5\n",
      "mumbai     2   45  22.5    22.5  0.707107  0.5\n"
     ]
    }
   ],
   "source": [
    "values2=df.groupby(\"city\")[\"age\"].agg([\"size\",\"sum\",\"mean\",\"median\",\"std\",\"var\"])\n",
    "print(values2)"
   ]
  },
  {
   "cell_type": "code",
   "execution_count": 24,
   "metadata": {},
   "outputs": [
    {
     "name": "stdout",
     "output_type": "stream",
     "text": [
      "   cid     name city  expert  age\n",
      "0   10   dhurvi   TS  python   88\n",
      "1   20     itty   AP  python   78\n",
      "2   30   deepak  MUM    java   79\n",
      "3   40     dori  MUM    java   23\n",
      "4   50   lovely   AP       c   22\n",
      "5   60  pragati   TS       c   24\n",
      "6   70   shayam   TS       c   22\n",
      "7   80     aadi   AP  python   23\n",
      "8   90    bablu   TS  python   22\n",
      "9  100     anuj  MUM    java   23\n"
     ]
    }
   ],
   "source": [
    "# case study 1\n",
    "d={\"cid\":[10,20,30,40,50,60,70,80,90,100],\"name\":[\"dhurvi\",\"itty\",\"deepak\",\"dori\",\"lovely\",\"pragati\",\"shayam\",\"aadi\",\"bablu\",\"anuj\"],\"city\":[\"TS\",\"AP\",\"MUM\",\"MUM\",\"AP\",\"TS\",\"TS\",\"AP\",\"TS\",\"MUM\"],\"expert\":[\"python\",\"python\",\"java\",\"java\",\"c\",\"c\",\"c\",\"python\",\"python\",\"java\"],\"age\":[88,78,79,23,22,24,22,23,22,23],}\n",
    "\n",
    "df=pd.DataFrame(d)\n",
    "print(df)\n",
    "\n",
    "df.to_csv(\"D:\\\\clone\\\\DataAnalyst_DPK\\\\files\\\\citizen.csv\")"
   ]
  },
  {
   "cell_type": "code",
   "execution_count": null,
   "metadata": {},
   "outputs": [],
   "source": [
    "# analysis on the data frame\n",
    "# Q. find the name of the people who are present in citizen file  \n",
    "# get first 5 people name\n",
    "# find all the people names of bottom five\n",
    "# find names ,city and their expertism of citizen\n",
    "# find the name of the people who are living in \"TS\"\n",
    "# find name , ages of people ho are living in either in ap or in ts\n",
    "# find the name of the city where python expert are wroking.\n",
    "# find the names of the people whose name start with \"a\"\n",
    "# find the average age of \"ts\" people.\n",
    "# find the name and city who are living in age range of 30 to 60\n",
    "# find differeNt age group people in \"TS\"\n",
    "# find the city name where highest number of people are living\n"
   ]
  },
  {
   "cell_type": "code",
   "execution_count": null,
   "metadata": {},
   "outputs": [],
   "source": []
  },
  {
   "cell_type": "code",
   "execution_count": null,
   "metadata": {},
   "outputs": [],
   "source": []
  },
  {
   "cell_type": "code",
   "execution_count": null,
   "metadata": {},
   "outputs": [],
   "source": []
  },
  {
   "cell_type": "code",
   "execution_count": null,
   "metadata": {},
   "outputs": [],
   "source": []
  },
  {
   "cell_type": "code",
   "execution_count": null,
   "metadata": {},
   "outputs": [],
   "source": []
  },
  {
   "cell_type": "code",
   "execution_count": null,
   "metadata": {},
   "outputs": [],
   "source": []
  },
  {
   "cell_type": "code",
   "execution_count": null,
   "metadata": {},
   "outputs": [],
   "source": []
  },
  {
   "cell_type": "code",
   "execution_count": null,
   "metadata": {},
   "outputs": [],
   "source": []
  },
  {
   "cell_type": "code",
   "execution_count": null,
   "metadata": {},
   "outputs": [],
   "source": []
  },
  {
   "cell_type": "code",
   "execution_count": null,
   "metadata": {},
   "outputs": [],
   "source": []
  },
  {
   "cell_type": "code",
   "execution_count": null,
   "metadata": {},
   "outputs": [],
   "source": []
  },
  {
   "cell_type": "code",
   "execution_count": null,
   "metadata": {},
   "outputs": [],
   "source": []
  },
  {
   "cell_type": "code",
   "execution_count": null,
   "metadata": {},
   "outputs": [],
   "source": []
  },
  {
   "cell_type": "code",
   "execution_count": null,
   "metadata": {},
   "outputs": [],
   "source": []
  },
  {
   "cell_type": "code",
   "execution_count": null,
   "metadata": {},
   "outputs": [],
   "source": []
  },
  {
   "cell_type": "code",
   "execution_count": null,
   "metadata": {},
   "outputs": [],
   "source": []
  },
  {
   "cell_type": "code",
   "execution_count": null,
   "metadata": {},
   "outputs": [],
   "source": []
  },
  {
   "cell_type": "code",
   "execution_count": null,
   "metadata": {},
   "outputs": [],
   "source": []
  },
  {
   "cell_type": "code",
   "execution_count": null,
   "metadata": {},
   "outputs": [],
   "source": []
  },
  {
   "cell_type": "code",
   "execution_count": null,
   "metadata": {},
   "outputs": [],
   "source": []
  },
  {
   "cell_type": "code",
   "execution_count": null,
   "metadata": {},
   "outputs": [],
   "source": []
  },
  {
   "cell_type": "code",
   "execution_count": null,
   "metadata": {},
   "outputs": [],
   "source": []
  },
  {
   "cell_type": "code",
   "execution_count": null,
   "metadata": {},
   "outputs": [],
   "source": []
  },
  {
   "cell_type": "code",
   "execution_count": null,
   "metadata": {},
   "outputs": [],
   "source": []
  },
  {
   "cell_type": "code",
   "execution_count": null,
   "metadata": {},
   "outputs": [],
   "source": []
  },
  {
   "cell_type": "code",
   "execution_count": null,
   "metadata": {},
   "outputs": [],
   "source": []
  },
  {
   "cell_type": "code",
   "execution_count": null,
   "metadata": {},
   "outputs": [],
   "source": []
  },
  {
   "cell_type": "code",
   "execution_count": null,
   "metadata": {},
   "outputs": [],
   "source": []
  }
 ],
 "metadata": {
  "kernelspec": {
   "display_name": "Python 3",
   "language": "python",
   "name": "python3"
  },
  "language_info": {
   "codemirror_mode": {
    "name": "ipython",
    "version": 3
   },
   "file_extension": ".py",
   "mimetype": "text/x-python",
   "name": "python",
   "nbconvert_exporter": "python",
   "pygments_lexer": "ipython3",
   "version": "3.13.1"
  }
 },
 "nbformat": 4,
 "nbformat_minor": 2
}
